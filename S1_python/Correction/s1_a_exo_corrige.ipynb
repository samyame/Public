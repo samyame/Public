{
 "cells": [
  {
   "cell_type": "markdown",
   "metadata": {
    "colab_type": "text",
    "id": "FY347VxWs_bJ"
   },
   "source": [
    "# Construire un quiz\n",
    "\n",
    "---\n",
    "\n",
    "\n"
   ]
  },
  {
   "cell_type": "markdown",
   "metadata": {
    "colab_type": "text",
    "id": "qJizpyqVwYnF"
   },
   "source": [
    "*Un bon moyen de pratiquer les conditions est de construire un quiz. Faisons le étape par étape*"
   ]
  },
  {
   "cell_type": "markdown",
   "metadata": {
    "colab_type": "text",
    "id": "UtRAGPeSwhiW"
   },
   "source": [
    "    1. Posez une question à l’utilisateur via la console \n",
    "    2. Vérifier que la réponse de l’utilisateur soit vraie ou fausse\n",
    "    3. Si la réponse est vraie, la console devra sortir : \n",
    "\n",
    "```\n",
    "Bravo, c’est la bonne réponse\n",
    "```\n",
    "    4. Si la réponse est fausse, la console devra sortir :\n",
    "    \n",
    "```\n",
    "Dommage, ce n’est pas la bonne réponse\n",
    "```\n",
    "    5. Posez 3 autres questions sur le même modèle"
   ]
  },
  {
   "cell_type": "code",
   "execution_count": 0,
   "metadata": {
    "colab": {
     "base_uri": "https://localhost:8080/",
     "height": 136
    },
    "colab_type": "code",
    "executionInfo": {
     "elapsed": 36373,
     "status": "ok",
     "timestamp": 1586362753798,
     "user": {
      "displayName": "Aurélie Mutschler",
      "photoUrl": "",
      "userId": "09486760454547044843"
     },
     "user_tz": -120
    },
    "id": "EQxWuVl7yFoU",
    "outputId": "cf3ee10c-9d8f-4d96-82b0-f730321d4a2f"
   },
   "outputs": [
    {
     "name": "stdout",
     "output_type": "stream",
     "text": [
      "Voici notre quiz\n",
      "Combien de fois la France a gagné la coupe du monde ?1\n",
      "Dommage, ce n’est pas la bonne réponse...\n",
      "Quand a été fondé Apple ?1976\n",
      "Bravo, c’est la bonne réponse !\n",
      "Qui a fondé SpaceX ?Elon musk\n",
      "Bravo, c’est la bonne réponse !\n"
     ]
    }
   ],
   "source": [
    "print(\"Voici notre quiz\")\n",
    "\n",
    "question1= input(\"Combien de fois la France a gagné la coupe du monde ?\")\n",
    "\n",
    "if question1 != \"2\":\n",
    "  print(\"Dommage, ce n’est pas la bonne réponse...\")\n",
    "else:\n",
    "  print(\"Bravo, c’est la bonne réponse !\")\n",
    "     \n",
    "    \n",
    "question2 = input(\"Quand a été fondé Apple ?\")\n",
    "\n",
    "if question2 != \"1976\":\n",
    "  print(\"Dommage, ce n’est pas la bonne réponse...\")\n",
    "else:\n",
    "  print(\"Bravo, c’est la bonne réponse !\")\n",
    "  \n",
    "  \n",
    "    \n",
    "question3 = input(\"Qui a fondé SpaceX ?\")\n",
    "question3 = question3.lower()\n",
    "\n",
    "if question3 != \"elon musk\":\n",
    "  print(\"Dommage, ce n’est pas la bonne réponse...\")\n",
    "else:\n",
    "  print(\"Bravo, c’est la bonne réponse !\")\n",
    "     "
   ]
  },
  {
   "cell_type": "markdown",
   "metadata": {
    "colab_type": "text",
    "id": "sLMbYgaOyxiX"
   },
   "source": [
    "Nous avons un problème avec notre quiz. Si l’utilisateur n’a pas donné la bonne réponse, le programme passe à la question suivante. On souhaite plutôt que le programme repose la question si l’utilisateur n’a pas donné la bonne réponse\n",
    "\n",
    "\n",
    "    6. En utilisant une boucle WHILE, faites en sorte que le programme repose la question à l’utilisateur s’il n’a pas donné la bonne réponse\n",
    "    \n",
    "    7. Réécrivez votre programme pour toutes les autres questions"
   ]
  },
  {
   "cell_type": "code",
   "execution_count": 0,
   "metadata": {
    "colab": {
     "base_uri": "https://localhost:8080/",
     "height": 170
    },
    "colab_type": "code",
    "executionInfo": {
     "elapsed": 34037,
     "status": "ok",
     "timestamp": 1586362968469,
     "user": {
      "displayName": "Aurélie Mutschler",
      "photoUrl": "",
      "userId": "09486760454547044843"
     },
     "user_tz": -120
    },
    "id": "csyxqJzBxPfN",
    "outputId": "0e671bec-2b70-424e-f110-d4792423dd7a"
   },
   "outputs": [
    {
     "name": "stdout",
     "output_type": "stream",
     "text": [
      "Voici notre quiz\n",
      "Combien de fois la France a gagné la coupe du monde ?4\n",
      "Ce n'est pas la bonne réponse ...\n",
      "Combien de fois la France a gagné la coupe du monde ?2\n",
      "Quand a été fondé Apple ?1976\n",
      "Qui a fondé SpaceX ?Donald Trump\n",
      "Ce n'est pas la bonne réponse ...\n",
      "Qui a fondé SpaceX ?Elon Musk\n",
      "Bravo ! Tu as gagné le quiz !\n"
     ]
    }
   ],
   "source": [
    "print(\"Voici notre quiz\")\n",
    "question1= input(\"Combien de fois la France a gagné la coupe du monde ?\")\n",
    "\n",
    "while question1 != \"2\":\n",
    "      print(\"Ce n'est pas la bonne réponse ...\")\n",
    "      question1 = input(\"Combien de fois la France a gagné la coupe du monde ?\")\n",
    "\n",
    "question2 = input(\"Quand a été fondé Apple ?\")\n",
    "while question2 != \"1976\":\n",
    "      print(\"Ce n'est pas la bonne réponse ...\")\n",
    "      question2 = input(\"Quand a été fondé Apple ?\")\n",
    "\n",
    "question3 = input(\"Qui a fondé SpaceX ?\")\n",
    "question3 = question3.lower()\n",
    "while question3 != \"elon musk\":\n",
    "        print(\"Ce n'est pas la bonne réponse ...\")\n",
    "        question3 = input(\"Qui a fondé SpaceX ?\")\n",
    "        question3 = question3.lower()\n",
    "        \n",
    "print(\"Bravo ! Tu as gagné le quiz !\")\n"
   ]
  },
  {
   "cell_type": "markdown",
   "metadata": {
    "colab_type": "text",
    "id": "nh4voWn8x3dM"
   },
   "source": [
    "Maintenant, nous avons un dernier problème. On voudrait que l’utilisateur n’ait que 3 chances pour réussir le quiz \n",
    "\n",
    "    1. Améliorer votre programme pour que l’utilisateur n’ait que 3 chances pour réussir le quiz. Si l’utilisateur a répondu faux plus de 3 alors la console devra sortir “Dommage tu as perdu le jeu” et sortir du programme.\n"
   ]
  },
  {
   "cell_type": "code",
   "execution_count": 0,
   "metadata": {
    "colab": {
     "base_uri": "https://localhost:8080/",
     "height": 170
    },
    "colab_type": "code",
    "executionInfo": {
     "elapsed": 21390,
     "status": "ok",
     "timestamp": 1586364391687,
     "user": {
      "displayName": "Aurélie Mutschler",
      "photoUrl": "",
      "userId": "09486760454547044843"
     },
     "user_tz": -120
    },
    "id": "adKPQe1Hsi2g",
    "outputId": "45d36fc8-90ae-4f00-b73a-73b1e6e57e6e"
   },
   "outputs": [
    {
     "name": "stdout",
     "output_type": "stream",
     "text": [
      "Voici notre quiz, tu as trois chances !\n",
      "Combien de fois la France a gagné la coupe du monde ? 3\n",
      "Dommage ! Il te reste 2 chances\n",
      "Combien de fois la France a gagné la coupe du monde ? 2\n",
      "Quand a été fondé Apple ? 1977\n",
      "Dommage ! Il te reste 1 chances\n",
      "Quand a été fondé Apple ? 1976\n",
      "Qui a fondé SpaceX ? Elon Musk\n",
      "Bravo ! Tu as gagné le quiz !\n"
     ]
    }
   ],
   "source": [
    "nb_de_chances = 3\n",
    "\n",
    "print(\"Voici notre quiz, tu as trois chances !\")\n",
    "question1= input(\"Combien de fois la France a gagné la coupe du monde ? \")\n",
    "\n",
    "while question1 != \"2\":\n",
    "    nb_de_chances -= 1\n",
    "    print(\"Dommage ! Il te reste {} chances\".format(nb_de_chances))\n",
    "    if nb_de_chances == 0:\n",
    "        print(\"Oh non ! Tu as perdu le jeu...\")\n",
    "        break\n",
    "    question1 = input(\"Combien de fois la France a gagné la coupe du monde ? \")\n",
    "\n",
    "if nb_de_chances > 0:\n",
    "    question2 = input(\"Quand a été fondé Apple ? \")\n",
    "    while question2 != \"1976\":\n",
    "      nb_de_chances -=1\n",
    "      print(\"Dommage ! Il te reste {} chances\".format(nb_de_chances))\n",
    "      if nb_de_chances == 0:\n",
    "          print(\"Oh non ! Tu as perdu le jeu...\")\n",
    "          break\n",
    "      question2 = input(\"Quand a été fondé Apple ? \")\n",
    "\n",
    "\n",
    "if nb_de_chances > 0:\n",
    "    question3 = input(\"Qui a fondé SpaceX ? \")\n",
    "    question3 = question3.lower()\n",
    "    while question3 != \"elon musk\":\n",
    "      nb_de_chances -=1\n",
    "      print(\"Dommage ! Il te reste {} chances\".format(nb_de_chances))\n",
    "      if nb_de_chances == 0:\n",
    "          print(\"Oh non ! Tu as perdu le jeu...\")\n",
    "          break\n",
    "      question3 = input(\"Qui a fondé SpaceX ? \")\n",
    "      question3 = question3.lower()\n",
    "\n",
    "if nb_de_chances > 0:\n",
    "  print(\"Bravo ! Tu as gagné le quiz !\")\n"
   ]
  },
  {
   "cell_type": "code",
   "execution_count": 0,
   "metadata": {
    "colab": {},
    "colab_type": "code",
    "id": "rA-XJKh-orgc"
   },
   "outputs": [],
   "source": []
  }
 ],
 "metadata": {
  "colab": {
   "name": "Construire un quiz - SOLUTIONS S1-1A.ipynb",
   "provenance": []
  },
  "kernelspec": {
   "display_name": "Python 3",
   "language": "python",
   "name": "python3"
  },
  "language_info": {
   "codemirror_mode": {
    "name": "ipython",
    "version": 3
   },
   "file_extension": ".py",
   "mimetype": "text/x-python",
   "name": "python",
   "nbconvert_exporter": "python",
   "pygments_lexer": "ipython3",
   "version": "3.7.4"
  }
 },
 "nbformat": 4,
 "nbformat_minor": 1
}
