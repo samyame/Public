{
 "cells": [
  {
   "cell_type": "markdown",
   "metadata": {
    "colab_type": "text",
    "id": "ARXMbV_Vp5qc"
   },
   "source": [
    "# Programmation Orientée Mathématiques"
   ]
  },
  {
   "cell_type": "markdown",
   "metadata": {
    "colab_type": "text",
    "id": "1JYqlALqp73y"
   },
   "source": [
    "_Les mathématiques, en général, on n’aime pas en faire. Surtout lorsqu’il s’agit de répéter des opérations, encore, encore et encore. Soyons de vrais paresseux et créons une classe qui s’occupera de faires les opérations qu’on veut pour nous._"
   ]
  },
  {
   "cell_type": "markdown",
   "metadata": {
    "colab_type": "text",
    "id": "Lc3ol0PSp98l"
   },
   "source": [
    "1. _Créez une classe qu’on appellera “math”_\n",
    "2. _Cette classe n'aura pas d'attributs internes, vous n'avez donc pas besoin de définir un init()_\n",
    "3. _Créez une méthode qui calculera la racine carrée de n’importe quel nombre_\n",
    "4. _Créez une méthode qui calculera la moyenne de n’importe quelle liste de nombres_\n",
    "5. _Créez une méthode pour savoir si un nombre est pair ou impair_\n",
    "6. _Enfin créez un méthode qui donnera la somme totale d’une liste de nombres_"
   ]
  },
  {
   "cell_type": "code",
   "execution_count": 33,
   "metadata": {
    "colab": {
     "base_uri": "https://localhost:8080/",
     "height": 102
    },
    "colab_type": "code",
    "executionInfo": {
     "elapsed": 2940,
     "status": "ok",
     "timestamp": 1583176018120,
     "user": {
      "displayName": "Aurélie Mutschler",
      "photoUrl": "https://lh3.googleusercontent.com/a-/AOh14Gjp5t5iOmSBpmPuviTGFjDpaAmKcizMU0eJ70l-2Q=s64",
      "userId": "06117788861589115656"
     },
     "user_tz": -60
    },
    "id": "xFLBlgj1pndw",
    "outputId": "8005e19d-c256-407f-9978-361fae06e81d",
    "scrolled": true
   },
   "outputs": [],
   "source": [
    "class Math:\n",
    "    def sqrt(self,nombre):\n",
    "        nombre = nombre ** (1/2)\n",
    "        return nombre\n",
    "\n",
    "    def moyenne(self,*chiffres):\n",
    "        somme = 0\n",
    "        nb_de_chiffres = 0\n",
    "        for chiffre in chiffres:\n",
    "            somme += chiffre\n",
    "            nb_de_chiffres += 1\n",
    "\n",
    "        moyenne = somme/nb_de_chiffres\n",
    "        return moyenne\n",
    "\n",
    "    def parite(self,nombre):\n",
    "        if type(nombre/2) == 'int':\n",
    "            print(\"{} est pair\".format(nombre))\n",
    "        else:\n",
    "            print(\"{} est impair\".format(nombre))\n",
    "\n",
    "    def sum(self,*chiffres):\n",
    "        somme = 0\n",
    "        for chiffre in chiffres:\n",
    "            somme += chiffre\n",
    "        return somme"
   ]
  },
  {
   "cell_type": "code",
   "execution_count": 34,
   "metadata": {},
   "outputs": [],
   "source": [
    "math = Math()"
   ]
  },
  {
   "cell_type": "code",
   "execution_count": 35,
   "metadata": {},
   "outputs": [
    {
     "name": "stdout",
     "output_type": "stream",
     "text": [
      "la racine carrée de 9 est 3.0\n"
     ]
    }
   ],
   "source": [
    "print(\"la racine carrée de 9 est {}\".format(math.sqrt(9)))"
   ]
  },
  {
   "cell_type": "code",
   "execution_count": 36,
   "metadata": {},
   "outputs": [
    {
     "name": "stdout",
     "output_type": "stream",
     "text": [
      "la moyenne de 10,30, 20 et 10 est 17.5\n"
     ]
    }
   ],
   "source": [
    "print(\"la moyenne de 10,30, 20 et 10 est {}\".format(math.moyenne(10,30,20,10)))"
   ]
  },
  {
   "cell_type": "code",
   "execution_count": 37,
   "metadata": {},
   "outputs": [
    {
     "name": "stdout",
     "output_type": "stream",
     "text": [
      "4 est impair\n"
     ]
    }
   ],
   "source": [
    "math.parite(4)"
   ]
  },
  {
   "cell_type": "code",
   "execution_count": 38,
   "metadata": {},
   "outputs": [
    {
     "name": "stdout",
     "output_type": "stream",
     "text": [
      "11 est impair\n"
     ]
    }
   ],
   "source": [
    "math.parite(11)"
   ]
  },
  {
   "cell_type": "code",
   "execution_count": 39,
   "metadata": {},
   "outputs": [
    {
     "name": "stdout",
     "output_type": "stream",
     "text": [
      "la somme de 10,30, 10, 40 et 20 est 110\n"
     ]
    }
   ],
   "source": [
    "print(\"la somme de 10,30, 10, 40 et 20 est {}\".format(math.sum(10,30,10,40,20)))"
   ]
  },
  {
   "cell_type": "markdown",
   "metadata": {},
   "source": [
    "## Notes pour le groupe"
   ]
  },
  {
   "cell_type": "markdown",
   "metadata": {},
   "source": [
    "- Bien séparer le code en petits blocs\n",
    "- Typiquement, séparer la partie génération de classe et test du code\n",
    "- Tester la génération de fonction en dehors d'une classe d'abord"
   ]
  },
  {
   "cell_type": "markdown",
   "metadata": {},
   "source": [
    "## Methodes"
   ]
  },
  {
   "cell_type": "code",
   "execution_count": 20,
   "metadata": {},
   "outputs": [],
   "source": [
    "# Sans le self / pas tellement besoin d'instanciation ici\n",
    "\n",
    "class Math:\n",
    "    attribut \n",
    "    def sqrt(nombre):\n",
    "        nombre = nombre ** (1/2)\n",
    "        return nombre"
   ]
  },
  {
   "cell_type": "code",
   "execution_count": 27,
   "metadata": {},
   "outputs": [
    {
     "data": {
      "text/plain": [
       "<__main__.Math at 0x106756750>"
      ]
     },
     "execution_count": 27,
     "metadata": {},
     "output_type": "execute_result"
    }
   ],
   "source": [
    "Math()"
   ]
  },
  {
   "cell_type": "code",
   "execution_count": 28,
   "metadata": {},
   "outputs": [
    {
     "data": {
      "text/plain": [
       "3.0"
      ]
     },
     "execution_count": 28,
     "metadata": {},
     "output_type": "execute_result"
    }
   ],
   "source": [
    "Math.sqrt(9)"
   ]
  },
  {
   "cell_type": "code",
   "execution_count": null,
   "metadata": {},
   "outputs": [],
   "source": []
  },
  {
   "cell_type": "code",
   "execution_count": 29,
   "metadata": {
    "colab": {},
    "colab_type": "code",
    "id": "qOOz5QC_ZKY1"
   },
   "outputs": [],
   "source": [
    "# Problème si self mais pas d'initialisation\n",
    "\n",
    "class Math2:\n",
    "    def sqrt(self, nombre):\n",
    "        nombre = nombre ** (1/2)\n",
    "        return nombre"
   ]
  },
  {
   "cell_type": "code",
   "execution_count": 30,
   "metadata": {
    "scrolled": true
   },
   "outputs": [
    {
     "ename": "TypeError",
     "evalue": "sqrt() missing 1 required positional argument: 'nombre'",
     "output_type": "error",
     "traceback": [
      "\u001b[0;31m---------------------------------------------------------------------------\u001b[0m",
      "\u001b[0;31mTypeError\u001b[0m                                 Traceback (most recent call last)",
      "\u001b[0;32m<ipython-input-30-d0e36280093f>\u001b[0m in \u001b[0;36m<module>\u001b[0;34m\u001b[0m\n\u001b[0;32m----> 1\u001b[0;31m \u001b[0mMath2\u001b[0m\u001b[0;34m.\u001b[0m\u001b[0msqrt\u001b[0m\u001b[0;34m(\u001b[0m\u001b[0;36m5\u001b[0m\u001b[0;34m)\u001b[0m\u001b[0;34m\u001b[0m\u001b[0;34m\u001b[0m\u001b[0m\n\u001b[0m",
      "\u001b[0;31mTypeError\u001b[0m: sqrt() missing 1 required positional argument: 'nombre'"
     ]
    }
   ],
   "source": [
    "Math2.sqrt(5)"
   ]
  },
  {
   "cell_type": "code",
   "execution_count": 31,
   "metadata": {},
   "outputs": [],
   "source": [
    "math_instance = Math2()"
   ]
  },
  {
   "cell_type": "code",
   "execution_count": 32,
   "metadata": {
    "scrolled": true
   },
   "outputs": [
    {
     "data": {
      "text/plain": [
       "3.0"
      ]
     },
     "execution_count": 32,
     "metadata": {},
     "output_type": "execute_result"
    }
   ],
   "source": [
    "math_instance.sqrt(9)"
   ]
  },
  {
   "cell_type": "code",
   "execution_count": null,
   "metadata": {},
   "outputs": [],
   "source": [
    "class DataFrame:\n",
    "    attribut1\n",
    "    attribut2\n",
    "    \n",
    "    def describe(self):\n",
    "        moyenne_column\n",
    "        meadian_column"
   ]
  },
  {
   "cell_type": "code",
   "execution_count": null,
   "metadata": {},
   "outputs": [],
   "source": [
    "class math:\n",
    "    "
   ]
  }
 ],
 "metadata": {
  "colab": {
   "name": "Programmation Orientée Mathématiques - SOLUTIONS S1-3.ipynb",
   "provenance": []
  },
  "kernelspec": {
   "display_name": "Python 3",
   "language": "python",
   "name": "python3"
  },
  "language_info": {
   "codemirror_mode": {
    "name": "ipython",
    "version": 3
   },
   "file_extension": ".py",
   "mimetype": "text/x-python",
   "name": "python",
   "nbconvert_exporter": "python",
   "pygments_lexer": "ipython3",
   "version": "3.7.6"
  }
 },
 "nbformat": 4,
 "nbformat_minor": 1
}
