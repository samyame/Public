{
 "cells": [
  {
   "cell_type": "markdown",
   "metadata": {
    "colab_type": "text",
    "id": "2od0g0vRoz-O"
   },
   "source": [
    "# Introduction à Tensorflow 2.0 \n",
    "\n",
    "## Ce que vous apprendrez durant ce cours \n",
    "\n",
    "TF 2.0 est une vraie avancée dans le monde du Deep Learning chez Google. Alors que leur première version était difficile à manipuler du fait de l'obligation de créer des sessions, Tensorflow 2.0 est fondé, comme Pytorch, sur le principe d'Eager Execution. Ceci veut dire que les opérations que vous effectuez sur vos données sont instantanément éxecutées. \n",
    "\n",
    "Le second avantage de cette librairie est que Tensorflow 2.0 intègre Keras, une librairie qui facilite la création de modèles de Deep Learning, ce qui facilite largement la vie des développeurs Deep Learning. \n",
    "\n",
    "Ce cours vise donc à vous montrer rapidement les avancées faites entre Tensorflow 1.X et Tensorflow 2.0. Nous verrons ensuite les grands principes de manipulation de tenseurs, et comment créer un réseau de neurones simple avec Keras. "
   ]
  },
  {
   "cell_type": "markdown",
   "metadata": {
    "colab_type": "text",
    "id": "A6mY0WdJqdOx"
   },
   "source": [
    "## TF 1.X VS TF 2.0 \n",
    "\n"
   ]
  },
  {
   "cell_type": "markdown",
   "metadata": {
    "colab_type": "text",
    "id": "BFXv41pRzExl"
   },
   "source": [
    "### Static Graphs VS Eager Execution "
   ]
  },
  {
   "cell_type": "markdown",
   "metadata": {
    "colab_type": "text",
    "id": "QHcLNKTYqkg-"
   },
   "source": [
    "Pour comprendre rapidement pourquoi Tensorflow 2.0 est vraiment une belle avancée dans le Deep Learning, il est bon de regarder la différence entre les deux versions. Regardons d'abord le principe de TF 1.X "
   ]
  },
  {
   "cell_type": "markdown",
   "metadata": {
    "colab": {},
    "colab_type": "code",
    "id": "R5OIzS1gugV-",
    "outputId": "9c8637c9-9623-42ff-eb21-558d95f6e27d"
   },
   "source": [
    "!pip install tensorflow==1.14"
   ]
  },
  {
   "cell_type": "markdown",
   "metadata": {
    "colab": {
     "base_uri": "https://localhost:8080/",
     "height": 34
    },
    "colab_type": "code",
    "id": "4VS43RU3opQs",
    "outputId": "d2a598d0-7ac1-40a6-f383-e44dba733ee2"
   },
   "source": [
    "import tensorflow as tf \n",
    "tf.__version__"
   ]
  },
  {
   "cell_type": "markdown",
   "metadata": {
    "colab": {
     "base_uri": "https://localhost:8080/",
     "height": 34
    },
    "colab_type": "code",
    "id": "_WAomZ-YqzN2",
    "outputId": "7cf9d0c1-78e3-40c6-cfb7-838957269d52"
   },
   "source": [
    "# Créons une variable en TF 1.X \n",
    "\n",
    "t = tf.Variable([\n",
    "    [1,2],\n",
    "    [3,4]\n",
    "])\n",
    "\n",
    "print(t)"
   ]
  },
  {
   "cell_type": "markdown",
   "metadata": {
    "colab_type": "text",
    "id": "9jvULCMrrYfv"
   },
   "source": [
    "On peut voir ici que nous ne pouvons pas accéder aux valeurs de notre variable. Essayons de faire une opération "
   ]
  },
  {
   "cell_type": "markdown",
   "metadata": {
    "colab": {
     "base_uri": "https://localhost:8080/",
     "height": 34
    },
    "colab_type": "code",
    "id": "PRWhS7zmq6XS",
    "outputId": "7bcd0400-daaf-48e0-ae72-6e526f828090"
   },
   "source": [
    "addition = t + 2\n",
    "addition"
   ]
  },
  {
   "cell_type": "markdown",
   "metadata": {
    "colab_type": "text",
    "id": "fDVwOJyzr1NT"
   },
   "source": [
    "Pour pouvoir effectuer des opérations et accéder aux valeurs du tenseur, il faut créer ce qu'on appelle une _session_ "
   ]
  },
  {
   "cell_type": "markdown",
   "metadata": {
    "colab": {},
    "colab_type": "code",
    "id": "72SEQhEDrj9D"
   },
   "source": [
    "# Création d'une session\n",
    "session = tf.Session()\n",
    "\n",
    "# Initialisation des variables\n",
    "session.run(tf.global_variables_initializer())"
   ]
  },
  {
   "cell_type": "markdown",
   "metadata": {
    "colab": {
     "base_uri": "https://localhost:8080/",
     "height": 50
    },
    "colab_type": "code",
    "id": "HmhBzMU6sK4q",
    "outputId": "fc122415-2061-47a1-98da-4237c76c0583"
   },
   "source": [
    "# Opération\n",
    "session.run(addition)"
   ]
  },
  {
   "cell_type": "markdown",
   "metadata": {
    "colab_type": "text",
    "id": "wxbeqG4DtR3o"
   },
   "source": [
    "Ce principe de session vient de ce qu'on appelle des _graphs_. Tensorflow stocke une opération dans un _static graph_, qui sera éxecuté uniquement si vous ouvrez une session. \n",
    "\n",
    "Cette façon de faire était complètement contre-intuitive et beaucoup d'utilisateurs se cassaient les dents là-dessus mais, cette ère est maintenant révolue depuis l'arrivée de Tensorflow 2.0 \n",
    "\n",
    "Regardons maintenant la différence : "
   ]
  },
  {
   "cell_type": "code",
   "execution_count": null,
   "metadata": {},
   "outputs": [],
   "source": [
    "!pip uninstall tensorflow"
   ]
  },
  {
   "cell_type": "code",
   "execution_count": 1,
   "metadata": {
    "colab": {
     "base_uri": "https://localhost:8080/",
     "height": 1000
    },
    "colab_type": "code",
    "executionInfo": {
     "elapsed": 47002,
     "status": "ok",
     "timestamp": 1597827880849,
     "user": {
      "displayName": "Sacha Duzelier",
      "photoUrl": "",
      "userId": "13358736834117062408"
     },
     "user_tz": -120
    },
    "id": "knJwaHeasi50",
    "outputId": "b3fdf059-5c78-474e-feff-86c46e1ed636"
   },
   "outputs": [
    {
     "name": "stdout",
     "output_type": "stream",
     "text": [
      "Requirement already satisfied: tensorflow==2.0 in c:\\users\\tashi\\anaconda3\\lib\\site-packages (2.0.0)\n",
      "Requirement already satisfied: keras-applications>=1.0.8 in c:\\users\\tashi\\anaconda3\\lib\\site-packages (from tensorflow==2.0) (1.0.8)\n",
      "Requirement already satisfied: numpy<2.0,>=1.16.0 in c:\\users\\tashi\\anaconda3\\lib\\site-packages (from tensorflow==2.0) (1.18.1)\n",
      "Requirement already satisfied: six>=1.10.0 in c:\\users\\tashi\\anaconda3\\lib\\site-packages (from tensorflow==2.0) (1.14.0)\n",
      "Requirement already satisfied: absl-py>=0.7.0 in c:\\users\\tashi\\anaconda3\\lib\\site-packages (from tensorflow==2.0) (0.10.0)\n",
      "Requirement already satisfied: wrapt>=1.11.1 in c:\\users\\tashi\\anaconda3\\lib\\site-packages (from tensorflow==2.0) (1.11.2)\n",
      "Requirement already satisfied: astor>=0.6.0 in c:\\users\\tashi\\anaconda3\\lib\\site-packages (from tensorflow==2.0) (0.8.1)\n",
      "Requirement already satisfied: tensorflow-estimator<2.1.0,>=2.0.0 in c:\\users\\tashi\\anaconda3\\lib\\site-packages (from tensorflow==2.0) (2.0.1)\n",
      "Requirement already satisfied: keras-preprocessing>=1.0.5 in c:\\users\\tashi\\anaconda3\\lib\\site-packages (from tensorflow==2.0) (1.1.2)\n",
      "Requirement already satisfied: tensorboard<2.1.0,>=2.0.0 in c:\\users\\tashi\\anaconda3\\lib\\site-packages (from tensorflow==2.0) (2.0.2)\n",
      "Requirement already satisfied: termcolor>=1.1.0 in c:\\users\\tashi\\anaconda3\\lib\\site-packages (from tensorflow==2.0) (1.1.0)\n",
      "Requirement already satisfied: gast==0.2.2 in c:\\users\\tashi\\anaconda3\\lib\\site-packages (from tensorflow==2.0) (0.2.2)\n",
      "Requirement already satisfied: wheel>=0.26 in c:\\users\\tashi\\anaconda3\\lib\\site-packages (from tensorflow==2.0) (0.34.2)\n",
      "Requirement already satisfied: google-pasta>=0.1.6 in c:\\users\\tashi\\anaconda3\\lib\\site-packages (from tensorflow==2.0) (0.2.0)\n",
      "Requirement already satisfied: opt-einsum>=2.3.2 in c:\\users\\tashi\\anaconda3\\lib\\site-packages (from tensorflow==2.0) (3.3.0)\n",
      "Requirement already satisfied: protobuf>=3.6.1 in c:\\users\\tashi\\anaconda3\\lib\\site-packages (from tensorflow==2.0) (3.13.0)\n",
      "Requirement already satisfied: grpcio>=1.8.6 in c:\\users\\tashi\\anaconda3\\lib\\site-packages (from tensorflow==2.0) (1.31.0)\n",
      "Requirement already satisfied: h5py in c:\\users\\tashi\\anaconda3\\lib\\site-packages (from keras-applications>=1.0.8->tensorflow==2.0) (2.10.0)\n",
      "Requirement already satisfied: requests<3,>=2.21.0 in c:\\users\\tashi\\anaconda3\\lib\\site-packages (from tensorboard<2.1.0,>=2.0.0->tensorflow==2.0) (2.22.0)\n",
      "Requirement already satisfied: setuptools>=41.0.0 in c:\\users\\tashi\\anaconda3\\lib\\site-packages (from tensorboard<2.1.0,>=2.0.0->tensorflow==2.0) (45.2.0.post20200210)\n",
      "Requirement already satisfied: google-auth<2,>=1.6.3 in c:\\users\\tashi\\anaconda3\\lib\\site-packages (from tensorboard<2.1.0,>=2.0.0->tensorflow==2.0) (1.20.1)\n",
      "Requirement already satisfied: google-auth-oauthlib<0.5,>=0.4.1 in c:\\users\\tashi\\anaconda3\\lib\\site-packages (from tensorboard<2.1.0,>=2.0.0->tensorflow==2.0) (0.4.1)\n",
      "Requirement already satisfied: markdown>=2.6.8 in c:\\users\\tashi\\anaconda3\\lib\\site-packages (from tensorboard<2.1.0,>=2.0.0->tensorflow==2.0) (3.2.2)\n",
      "Requirement already satisfied: werkzeug>=0.11.15 in c:\\users\\tashi\\anaconda3\\lib\\site-packages (from tensorboard<2.1.0,>=2.0.0->tensorflow==2.0) (1.0.0)\n",
      "Requirement already satisfied: chardet<3.1.0,>=3.0.2 in c:\\users\\tashi\\anaconda3\\lib\\site-packages (from requests<3,>=2.21.0->tensorboard<2.1.0,>=2.0.0->tensorflow==2.0) (3.0.4)\n",
      "Requirement already satisfied: urllib3!=1.25.0,!=1.25.1,<1.26,>=1.21.1 in c:\\users\\tashi\\anaconda3\\lib\\site-packages (from requests<3,>=2.21.0->tensorboard<2.1.0,>=2.0.0->tensorflow==2.0) (1.25.8)\n",
      "Requirement already satisfied: idna<2.9,>=2.5 in c:\\users\\tashi\\anaconda3\\lib\\site-packages (from requests<3,>=2.21.0->tensorboard<2.1.0,>=2.0.0->tensorflow==2.0) (2.8)\n",
      "Requirement already satisfied: certifi>=2017.4.17 in c:\\users\\tashi\\anaconda3\\lib\\site-packages (from requests<3,>=2.21.0->tensorboard<2.1.0,>=2.0.0->tensorflow==2.0) (2019.11.28)\n",
      "Requirement already satisfied: pyasn1-modules>=0.2.1 in c:\\users\\tashi\\anaconda3\\lib\\site-packages (from google-auth<2,>=1.6.3->tensorboard<2.1.0,>=2.0.0->tensorflow==2.0) (0.2.8)\n",
      "Requirement already satisfied: rsa<5,>=3.1.4; python_version >= \"3.5\" in c:\\users\\tashi\\anaconda3\\lib\\site-packages (from google-auth<2,>=1.6.3->tensorboard<2.1.0,>=2.0.0->tensorflow==2.0) (4.6)\n",
      "Requirement already satisfied: cachetools<5.0,>=2.0.0 in c:\\users\\tashi\\anaconda3\\lib\\site-packages (from google-auth<2,>=1.6.3->tensorboard<2.1.0,>=2.0.0->tensorflow==2.0) (4.1.1)\n",
      "Requirement already satisfied: requests-oauthlib>=0.7.0 in c:\\users\\tashi\\anaconda3\\lib\\site-packages (from google-auth-oauthlib<0.5,>=0.4.1->tensorboard<2.1.0,>=2.0.0->tensorflow==2.0) (1.3.0)\n",
      "Requirement already satisfied: importlib-metadata; python_version < \"3.8\" in c:\\users\\tashi\\anaconda3\\lib\\site-packages (from markdown>=2.6.8->tensorboard<2.1.0,>=2.0.0->tensorflow==2.0) (1.5.0)\n",
      "Requirement already satisfied: pyasn1<0.5.0,>=0.4.6 in c:\\users\\tashi\\anaconda3\\lib\\site-packages (from pyasn1-modules>=0.2.1->google-auth<2,>=1.6.3->tensorboard<2.1.0,>=2.0.0->tensorflow==2.0) (0.4.8)\n",
      "Requirement already satisfied: oauthlib>=3.0.0 in c:\\users\\tashi\\anaconda3\\lib\\site-packages (from requests-oauthlib>=0.7.0->google-auth-oauthlib<0.5,>=0.4.1->tensorboard<2.1.0,>=2.0.0->tensorflow==2.0) (3.1.0)\n",
      "Requirement already satisfied: zipp>=0.5 in c:\\users\\tashi\\anaconda3\\lib\\site-packages (from importlib-metadata; python_version < \"3.8\"->markdown>=2.6.8->tensorboard<2.1.0,>=2.0.0->tensorflow==2.0) (2.2.0)\n",
      "Note: you may need to restart the kernel to use updated packages.\n"
     ]
    }
   ],
   "source": [
    "pip install tensorflow==2.0"
   ]
  },
  {
   "cell_type": "code",
   "execution_count": 2,
   "metadata": {
    "colab": {
     "base_uri": "https://localhost:8080/",
     "height": 35
    },
    "colab_type": "code",
    "executionInfo": {
     "elapsed": 1949,
     "status": "ok",
     "timestamp": 1597840768194,
     "user": {
      "displayName": "Sacha Duzelier",
      "photoUrl": "",
      "userId": "13358736834117062408"
     },
     "user_tz": -120
    },
    "id": "Ytc_uHGGt_6z",
    "outputId": "04e07830-2b08-4484-96ab-465ce9073996"
   },
   "outputs": [
    {
     "data": {
      "text/plain": [
       "'2.0.0'"
      ]
     },
     "execution_count": 2,
     "metadata": {},
     "output_type": "execute_result"
    }
   ],
   "source": [
    "import tensorflow as tf\n",
    "tf.__version__"
   ]
  },
  {
   "cell_type": "code",
   "execution_count": 3,
   "metadata": {
    "colab": {
     "base_uri": "https://localhost:8080/",
     "height": 69
    },
    "colab_type": "code",
    "executionInfo": {
     "elapsed": 6099,
     "status": "ok",
     "timestamp": 1597840775322,
     "user": {
      "displayName": "Sacha Duzelier",
      "photoUrl": "",
      "userId": "13358736834117062408"
     },
     "user_tz": -120
    },
    "id": "-oXWNxiguYfk",
    "outputId": "b49b615d-db73-4973-d9a5-4664458234a2"
   },
   "outputs": [
    {
     "name": "stdout",
     "output_type": "stream",
     "text": [
      "<tf.Variable 'Variable:0' shape=(2, 2) dtype=int32, numpy=\n",
      "array([[1, 2],\n",
      "       [3, 4]])>\n"
     ]
    }
   ],
   "source": [
    "t = tf.Variable([\n",
    "    [1,2],\n",
    "    [3,4]\n",
    "])\n",
    "\n",
    "print(t)"
   ]
  },
  {
   "cell_type": "markdown",
   "metadata": {
    "colab_type": "text",
    "id": "NhUnIGo7vFGT"
   },
   "source": [
    "Vous pouvez voir tout de suite que vous avez directement accès aux valeurs de votre tenseur. Regardons quelques opérations :"
   ]
  },
  {
   "cell_type": "code",
   "execution_count": 4,
   "metadata": {
    "colab": {
     "base_uri": "https://localhost:8080/",
     "height": 69
    },
    "colab_type": "code",
    "executionInfo": {
     "elapsed": 935,
     "status": "ok",
     "timestamp": 1597828225676,
     "user": {
      "displayName": "Sacha Duzelier",
      "photoUrl": "",
      "userId": "13358736834117062408"
     },
     "user_tz": -120
    },
    "id": "M4_1fuChu-PZ",
    "outputId": "68fc6dfe-4a14-4a22-a423-daf2cb1ce0ad"
   },
   "outputs": [
    {
     "data": {
      "text/plain": [
       "<tf.Tensor: id=11, shape=(2, 2), dtype=int32, numpy=\n",
       "array([[6, 7],\n",
       "       [8, 9]])>"
      ]
     },
     "execution_count": 4,
     "metadata": {},
     "output_type": "execute_result"
    }
   ],
   "source": [
    "# Addition d'un nombre scalaire => On ajoute 5 à chaque élément du tenseur\n",
    "t + 5"
   ]
  },
  {
   "cell_type": "code",
   "execution_count": 5,
   "metadata": {
    "colab": {
     "base_uri": "https://localhost:8080/",
     "height": 121
    },
    "colab_type": "code",
    "executionInfo": {
     "elapsed": 941,
     "status": "ok",
     "timestamp": 1597828412336,
     "user": {
      "displayName": "Sacha Duzelier",
      "photoUrl": "",
      "userId": "13358736834117062408"
     },
     "user_tz": -120
    },
    "id": "AFs6Fl67v4lL",
    "outputId": "c8430faa-351a-431d-df64-2f1f21365d92"
   },
   "outputs": [
    {
     "data": {
      "text/plain": [
       "<tf.Tensor: id=14, shape=(2, 2), dtype=int32, numpy=\n",
       "array([[2, 4],\n",
       "       [4, 6]])>"
      ]
     },
     "execution_count": 5,
     "metadata": {},
     "output_type": "execute_result"
    }
   ],
   "source": [
    "# Ajouter un vecteur => On ajoute le vecteur [1,2] à chaque ligne \n",
    "# Sur une ligne d'index j par exemple \n",
    "# - on ajoute 1 au 1er élément de la ligne (élément j,1) \n",
    "# - on ajoute 2 au 2eme élément de la ligne (élément j,2)\n",
    "t + [[1,2]]"
   ]
  },
  {
   "cell_type": "code",
   "execution_count": 7,
   "metadata": {
    "colab": {
     "base_uri": "https://localhost:8080/",
     "height": 67
    },
    "colab_type": "code",
    "id": "597j2AlAvqv2",
    "outputId": "e2f26777-ed74-464b-86fa-9bb62fdbf20a"
   },
   "outputs": [
    {
     "data": {
      "text/plain": [
       "<tf.Variable 'Variable:0' shape=(2, 2) dtype=int32, numpy=\n",
       "array([[ 2,  4],\n",
       "       [ 7, 10]])>"
      ]
     },
     "execution_count": 7,
     "metadata": {},
     "output_type": "execute_result"
    }
   ],
   "source": [
    "# Addition d'un autre tenseur\n",
    "# Ici on modifie la valeur de t.\n",
    "# t.assign_add(x) est équivalent à t = t + x\n",
    "t.assign_add([\n",
    "    [1,2],\n",
    "    [4,6]\n",
    "])\n",
    "\n",
    "t"
   ]
  },
  {
   "cell_type": "markdown",
   "metadata": {
    "colab_type": "text",
    "id": "vXBiRmfSxSPw"
   },
   "source": [
    "Ceci est ce qu'on appelle l' _Eager Execution_. Vous pouvez directement accéder et manipuler vos tenseurs comme s'ils étaient des numpy arrays ! \n",
    "\n",
    "Vous n'aurez pas besoin de faire beaucoup d'opérations directes sur des tenseurs puisque votre réseau de neurones s'occupera de cela pour vous. Voyons donc comment créer nos architectures de réseaux _from scratch_"
   ]
  },
  {
   "cell_type": "markdown",
   "metadata": {
    "colab_type": "text",
    "id": "9AMaUqvTzUwH"
   },
   "source": [
    "## Créer un réseau de neurones avec Keras "
   ]
  },
  {
   "cell_type": "markdown",
   "metadata": {
    "colab_type": "text",
    "id": "mMGmRAJ7zxcZ"
   },
   "source": [
    "Bien que nous nous baserons le plus souvent sur des principes de _transfer learning_, il est bon de comprendre comment créer une architecture de réseau car vous aurez besoin de comprendre comment celles-ci se construisent avant de pouvoir vous appuyer sur des réseaux pré-entrainés. Voyons donc comment cela fonctionne. "
   ]
  },
  {
   "cell_type": "markdown",
   "metadata": {
    "colab_type": "text",
    "id": "VZSapMQ_0EqQ"
   },
   "source": [
    "### Chargement & Preprocessing des données "
   ]
  },
  {
   "cell_type": "markdown",
   "metadata": {
    "colab_type": "text",
    "id": "xHelpVmAuQVC"
   },
   "source": [
    "Pour la démonstration, nous allons charger le dataset [cifar10](https://www.cs.toronto.edu/~kriz/cifar.html). Ce dataset contient 10 classes d'objets que nous allons essayer de classer via un CNN. "
   ]
  },
  {
   "cell_type": "code",
   "execution_count": 8,
   "metadata": {
    "colab": {
     "base_uri": "https://localhost:8080/",
     "height": 69
    },
    "colab_type": "code",
    "executionInfo": {
     "elapsed": 7682,
     "status": "ok",
     "timestamp": 1597840783012,
     "user": {
      "displayName": "Sacha Duzelier",
      "photoUrl": "",
      "userId": "13358736834117062408"
     },
     "user_tz": -120
    },
    "id": "KTalb6mJwFAC",
    "outputId": "963feb0c-3151-4404-c0e2-b30e3127af98"
   },
   "outputs": [
    {
     "name": "stdout",
     "output_type": "stream",
     "text": [
      "Downloading data from https://www.cs.toronto.edu/~kriz/cifar-10-python.tar.gz\n",
      "170500096/170498071 [==============================] - 148s 1us/step\n",
      "(50000, 32, 32, 3)\n"
     ]
    }
   ],
   "source": [
    "import tensorflow as tf\n",
    "\n",
    "# La librairie tensorflow vient avec de nombreuses fonctionnalités,\n",
    "# typiquement elle contient des jeux de données \"classiques\" comme cifar10, jeu de données d'images\n",
    "# Vous pouvez allez voir tous les datasets disponibles\n",
    "# en regardant la doc https://www.tensorflow.org/api_docs/python/tf/keras/datasets\n",
    "# Il suffit pout les importer d'effectuer la commande ci-dessous \n",
    "from tensorflow.keras.datasets import cifar10\n",
    "\n",
    "(X_train, y_train),(X_test, y_test) = cifar10.load_data()\n",
    "\n",
    "print(X_train.shape)"
   ]
  },
  {
   "cell_type": "markdown",
   "metadata": {
    "colab_type": "text",
    "id": "p5F6aqlZutaA"
   },
   "source": [
    "Visualisons une image au hasard du dataset."
   ]
  },
  {
   "cell_type": "code",
   "execution_count": 12,
   "metadata": {
    "colab": {
     "base_uri": "https://localhost:8080/",
     "height": 353
    },
    "colab_type": "code",
    "executionInfo": {
     "elapsed": 762,
     "status": "ok",
     "timestamp": 1597840784478,
     "user": {
      "displayName": "Sacha Duzelier",
      "photoUrl": "",
      "userId": "13358736834117062408"
     },
     "user_tz": -120
    },
    "id": "y_O29kMF0huA",
    "outputId": "256ee3e6-56dc-42e6-c287-609d934b32dd"
   },
   "outputs": [
    {
     "name": "stderr",
     "output_type": "stream",
     "text": [
      "C:\\Users\\tashi\\anaconda3\\lib\\site-packages\\matplotlib\\text.py:1150: FutureWarning: elementwise comparison failed; returning scalar instead, but in the future will perform elementwise comparison\n",
      "  if s != self._text:\n"
     ]
    },
    {
     "data": {
      "text/plain": [
       "Text(0.5, 1.0, '[9]')"
      ]
     },
     "execution_count": 12,
     "metadata": {},
     "output_type": "execute_result"
    },
    {
     "data": {
      "image/png": "[encoded data removed]",
      "text/plain": [
       "<Figure size 432x288 with 1 Axes>"
      ]
     },
     "metadata": {
      "needs_background": "light"
     },
     "output_type": "display_data"
    }
   ],
   "source": [
    "# Visualisation d'une image aléatoire\n",
    "import matplotlib.pyplot as plt # plt contient plusieurs méthodes (fonctions) pour plotter des graphes\n",
    "import numpy as np\n",
    "\n",
    "# On prend un nombre aléatoire entre 0 et 100\n",
    "random_image = np.random.randint(100)\n",
    "\n",
    "# On va récupérer l'image correspondant à cet index\n",
    "# Pour rappel X_train est de shape (50000, 32, 32, 3)\n",
    "# Donc X_train[random_image] est de shape (32, 32, 3) => On a séléctionné une des images\n",
    "# La fonction imshow plotte des images, elle attend en entrée une matrice\n",
    "plt.imshow(X_train[random_image])\n",
    "plt.title(y_train[random_image])"
   ]
  },
  {
   "cell_type": "markdown",
   "metadata": {
    "colab_type": "text",
    "id": "kQeriXKluxif"
   },
   "source": [
    "Si vous regardez _y_, nous n'avons que des numéros d'index. Essayons de voir ce que contient chacune des classes via une fonction qui va nous retourner une image aléatoire de chacune des classes de notre variable cible."
   ]
  },
  {
   "cell_type": "code",
   "execution_count": 35,
   "metadata": {
    "colab": {},
    "colab_type": "code",
    "id": "bX_X33xi4ip8"
   },
   "outputs": [],
   "source": [
    "def visualize_random_img_for_each_target(X ,y, nrows, ncols):\n",
    "  \n",
    "  # On génère une figure avec ncols * nrows axes qui partagent même x et même y \n",
    "  fig, axes = plt.subplots(nrows=nrows, ncols=ncols, sharex =True, sharey=True)\n",
    "  \n",
    "  # On tire aléatoirement un nombre dans [0,100]\n",
    "  random_image = np.random.randint(100)\n",
    "  \n",
    "  index = nrows + ncols\n",
    "  for row in range(nrows):\n",
    "    for col in range(ncols):\n",
    "\n",
    "      # On génère mask, un array de booléens tel que mask[i] == True si y = index, mask[i] == False sinon\n",
    "      # mask contient finalement toutes les positions des labels d'une même classe\n",
    "      mask = y == nrows + ncols - index\n",
    "      print(nrows, ncols,index, nrows + ncols - index)\n",
    "      \n",
    "      # On Fait en sorte que mask soit de shape (y_train.shape[0],) pour pouvoir indexer X_train\n",
    "      mask = mask.squeeze()\n",
    "\n",
    "      # On prend la 100eme image du label courant et on la plotte\n",
    "      axes[row, col].imshow(X[mask][random_image])\n",
    "\n",
    "      # On passe au label suivant\n",
    "      index -=1 \n",
    "\n",
    "\n",
    "  print(\"index for each image :{}\".format(np.unique(y)))"
   ]
  },
  {
   "cell_type": "code",
   "execution_count": 39,
   "metadata": {
    "colab": {
     "base_uri": "https://localhost:8080/",
     "height": 244
    },
    "colab_type": "code",
    "executionInfo": {
     "elapsed": 2362,
     "status": "ok",
     "timestamp": 1597840787485,
     "user": {
      "displayName": "Sacha Duzelier",
      "photoUrl": "",
      "userId": "13358736834117062408"
     },
     "user_tz": -120
    },
    "id": "F5jRBNSX5CP2",
    "outputId": "14614a1e-a8e8-437b-c614-d1436f2a2072"
   },
   "outputs": [
    {
     "name": "stdout",
     "output_type": "stream",
     "text": [
      "2 5 7 0\n",
      "2 5 6 1\n",
      "2 5 5 2\n",
      "2 5 4 3\n",
      "2 5 3 4\n",
      "2 5 2 5\n",
      "2 5 1 6\n",
      "2 5 0 7\n",
      "2 5 -1 8\n",
      "2 5 -2 9\n",
      "index for each image :[0 1 2 3 4 5 6 7 8 9]\n"
     ]
    },
    {
     "data": {
      "image/png": "[encoded data removed]",
      "text/plain": [
       "<Figure size 432x288 with 10 Axes>"
      ]
     },
     "metadata": {
      "needs_background": "light"
     },
     "output_type": "display_data"
    }
   ],
   "source": [
    "visualize_random_img_for_each_target(X_train,y_train, 2, 5)"
   ]
  },
  {
   "cell_type": "markdown",
   "metadata": {
    "colab_type": "text",
    "id": "3jdbeVMY9sEC"
   },
   "source": [
    "Même si les images sont de relativement basse qualité, on peut distinguer les classes suivantes : "
   ]
  },
  {
   "cell_type": "code",
   "execution_count": 40,
   "metadata": {
    "colab": {},
    "colab_type": "code",
    "id": "HEyJJMiJ5EpQ"
   },
   "outputs": [],
   "source": [
    "# Noms des variables cibles\n",
    "class_names = ['airplane', \n",
    "               'automobile', \n",
    "               'bird', \n",
    "               'cat', \n",
    "               'deer', \n",
    "               'dog', \n",
    "               'frog', \n",
    "               'horse', \n",
    "               'ship', \n",
    "               'truck']"
   ]
  },
  {
   "cell_type": "markdown",
   "metadata": {
    "colab_type": "text",
    "id": "_ETeHEjT_mWo"
   },
   "source": [
    "### Data Augmentation"
   ]
  },
  {
   "cell_type": "markdown",
   "metadata": {
    "colab_type": "text",
    "id": "5vkKRjnFvA45"
   },
   "source": [
    "Un moyen d'améliorer les résultats est de faire ce qu'on appelle de la _data augmentation_. La data augmentation modifie aléatoirement les données tout en faisant en sorte qu'elles restent cohérentes. On augmente ainsi considérablement la taille du jeu de données et on peut potentiellement améliorer les résultats et éviter _l'overfitting_. \n",
    "\n",
    "La data augmentation est ici appliquée aux images mais il est possible de l'utiliser pour d'autres types de données \n",
    "- signaux numériques audio -> ajout d'effets audio / ajout de bruit blanc\n",
    "- données textuelles -> thesaurus (remplacement de mots par leurs synonymes) / random deletion (suppression aléatoire de mots)\n",
    "- signaux numériques d'accélérometre -> Random pivot => On pivote les données d'un angle donné pour simuler une nouvelle position du système enregistré\n",
    "\n",
    "Dans le cadre des images la librairie tensorflow fournit une classe permettant de faire de la data augmentation, cette classe est ImageDataGenerator"
   ]
  },
  {
   "cell_type": "code",
   "execution_count": 41,
   "metadata": {
    "colab": {},
    "colab_type": "code",
    "id": "h6lgz8RC70HV"
   },
   "outputs": [],
   "source": [
    "# On instancie ici un objet de cette classe avec certaines propriétés.\n",
    "# data_aug va prendre en entrée des images et les transformer avec les \n",
    "# propriétés que l'on définit ici\n",
    "data_aug = tf.keras.preprocessing.image.ImageDataGenerator(\n",
    "    rescale=1.0/255.0,\n",
    "    horizontal_flip=True,\n",
    "    shear_range=0.2,\n",
    "    zoom_range=0.2,\n",
    "    data_format=\"channels_last\"\n",
    ")"
   ]
  },
  {
   "cell_type": "markdown",
   "metadata": {
    "colab_type": "text",
    "id": "LL8uS1zevqQV"
   },
   "source": [
    "Ici : \n",
    "`rescale`: Permet de diviser chacun des éléments de notre tenseur par 255, ce qui permet aux modèles d'apprendre plus facilement sur des images définies en RGB \n",
    "\n",
    "`horizontal_flip`: Permet d'inverser une image par l'horizontal (comme si vous la regardiez dans un mirroir)\n",
    "\n",
    "`shear_range`: est une manière d'étirer l'image\n",
    "\n",
    "`zoom_range`: permet de zoomer sur une partie aléatoire de l'image \n",
    "\n",
    "`data_format`: permet de dire quel _shape_ notre image va avoir en output. Ici, nous voulons : (Sample, height, width, channels) ou (taille de l'échantillon, hauteur, largeur, couleurs)"
   ]
  },
  {
   "cell_type": "markdown",
   "metadata": {
    "colab_type": "text",
    "id": "BcAHSX0cwpd4"
   },
   "source": [
    "Prenons, une image pour voir si tout s'est bien passé dans notre _data augmentation_"
   ]
  },
  {
   "cell_type": "code",
   "execution_count": 42,
   "metadata": {
    "colab": {
     "base_uri": "https://localhost:8080/",
     "height": 34
    },
    "colab_type": "code",
    "executionInfo": {
     "elapsed": 677,
     "status": "ok",
     "timestamp": 1597840872301,
     "user": {
      "displayName": "Sacha Duzelier",
      "photoUrl": "",
      "userId": "13358736834117062408"
     },
     "user_tz": -120
    },
    "id": "u8Xt5frvWkBt",
    "outputId": "84755b62-9dce-48e8-b550-8cccc8e38b2f"
   },
   "outputs": [
    {
     "data": {
      "text/plain": [
       "(1, 32, 32, 3)"
      ]
     },
     "execution_count": 42,
     "metadata": {},
     "output_type": "execute_result"
    }
   ],
   "source": [
    "next(iter(data_aug.flow(X_train, y_train, batch_size=1)))[0].shape"
   ]
  },
  {
   "cell_type": "code",
   "execution_count": 43,
   "metadata": {
    "colab": {},
    "colab_type": "code",
    "id": "f2Tp30pwcOjV"
   },
   "outputs": [],
   "source": [
    "img, target = next(iter(data_aug.flow(X_train, y_train, batch_size=1)))"
   ]
  },
  {
   "cell_type": "code",
   "execution_count": 44,
   "metadata": {
    "colab": {
     "base_uri": "https://localhost:8080/",
     "height": 353
    },
    "colab_type": "code",
    "executionInfo": {
     "elapsed": 631,
     "status": "ok",
     "timestamp": 1597840878122,
     "user": {
      "displayName": "Sacha Duzelier",
      "photoUrl": "",
      "userId": "13358736834117062408"
     },
     "user_tz": -120
    },
    "id": "32B5ZMzVUtLG",
    "outputId": "c88d9836-27f3-4432-9c02-d5d0e67dd218"
   },
   "outputs": [
    {
     "data": {
      "text/plain": [
       "Text(0.5, 1.0, '[[4]]')"
      ]
     },
     "execution_count": 44,
     "metadata": {},
     "output_type": "execute_result"
    },
    {
     "data": {
      "image/png": "[encoded data removed]",
      "text/plain": [
       "<Figure size 432x288 with 1 Axes>"
      ]
     },
     "metadata": {
      "needs_background": "light"
     },
     "output_type": "display_data"
    }
   ],
   "source": [
    "plt.imshow(img.reshape(32,32,3))\n",
    "plt.title(target)"
   ]
  },
  {
   "cell_type": "markdown",
   "metadata": {
    "colab_type": "text",
    "id": "8COahLh4xS_1"
   },
   "source": [
    "On peut voir que nous avons bien une image cohérente. Tout à l'air bon pour passer à la suite des événements : La création d'une architecture. "
   ]
  },
  {
   "cell_type": "markdown",
   "metadata": {
    "colab_type": "text",
    "id": "kI6UHLB0AhP7"
   },
   "source": [
    "## Création d'un modèle CNN"
   ]
  },
  {
   "cell_type": "markdown",
   "metadata": {
    "colab_type": "text",
    "id": "LQqNQuTyxaSh"
   },
   "source": [
    "Pour créer une architecture from scratch dans Keras, vous aurez besoin de la classe `Sequential()` et de `layers`, rien de plus ! \n",
    "\n",
    "_NB_: La classe Sequential porte bien son nom, en effet, la sortie d'une couche va représenter l'entrée de la couche suivante, en partant d'une image et ce jusqu'à la fin du réseau. Une image va donc passer par toutes les couches du réseau jusqu'à arriver à la dernière couche qui va effectuer la prédiction.\n",
    "\n",
    "Voyons ensemble comment nous pourrions créer un réseau de neurones convolutionnel simple. Pour cela, nous allons arbitrairement choisir la structure suivante : \n",
    "\n",
    "* 1ère couche : Première couche de convolution 2D (__Conv2D__) avec des filtres de taille 3x3, retournent des images de tailles 32*32\n",
    "* 2e couche : Une couche de max pooling (__MaxPool2D__) qui va nous permettre de tirer les pixels les plus significatifs\n",
    "\n",
    "* 3e - 6e couche : Nous allons répéter le processus 2 fois \n",
    "* 7e couche : Nous allons commencer à repasser ceci dans un réseau de neurones classique, nous allons donc devoir applatir (__Flatten__) nos tenseurs \n",
    "* 8e couche : Nous créons une première couche __Dense__ classique. Une couche dense est une couche contenant n neurones (n=units ici). Si unit=128, cette couche correspond donc à 128 perceptrons simples tous connectés à la couche précédente.\n",
    "* 9e couche : Nous ajoutons une couche __Dropout__ ces couches permettent d'éviter le sur-entraînement en décidant aléatoirement de ne pas optimiser une partie des paramètres du réseau à chaque itération.\n",
    "* 10e couche : Nous repassons sur une nouvelle couche _Dense_ plus mince que celle d'au dessus \n",
    "* 11e couche : Celle-ci sera notre dernière, elle aura donc autant d'output que de classes dans notre variable cible \n",
    "\n",
    "Voici donc ce que cela donne sur Tensorflow "
   ]
  },
  {
   "cell_type": "code",
   "execution_count": 45,
   "metadata": {
    "colab": {},
    "colab_type": "code",
    "id": "Y2dR2l3gAAu_"
   },
   "outputs": [],
   "source": [
    "model = tf.keras.models.Sequential([\n",
    "    tf.keras.layers.Conv2D(filters=32, kernel_size=3, padding=\"same\", activation=\"relu\", input_shape=[32, 32, 3]),\n",
    "    tf.keras.layers.MaxPool2D(pool_size=2, strides=2, padding='valid'),\n",
    "    tf.keras.layers.Conv2D(filters=32, kernel_size=3, padding=\"same\", activation=\"relu\"),\n",
    "    tf.keras.layers.MaxPool2D(pool_size=2, strides=2, padding='valid'),\n",
    "    tf.keras.layers.Conv2D(filters=64, kernel_size=3, padding=\"same\", activation=\"relu\"),\n",
    "    tf.keras.layers.MaxPool2D(pool_size=2, strides=2, padding='valid'),\n",
    "    tf.keras.layers.Flatten(),\n",
    "    tf.keras.layers.Dense(units=128, activation='relu'),\n",
    "    tf.keras.layers.Dropout(0.1),\n",
    "    tf.keras.layers.Dense(units=64, activation =\"relu\"),\n",
    "    tf.keras.layers.Dense(units=10, activation='softmax')\n",
    "])"
   ]
  },
  {
   "cell_type": "markdown",
   "metadata": {
    "colab_type": "text",
    "id": "0FMxhv_Gy2Rr"
   },
   "source": [
    "Nous pouvons regarder la tête de notre modèle via `model.summary`"
   ]
  },
  {
   "cell_type": "code",
   "execution_count": 46,
   "metadata": {
    "colab": {
     "base_uri": "https://localhost:8080/",
     "height": 540
    },
    "colab_type": "code",
    "executionInfo": {
     "elapsed": 601,
     "status": "ok",
     "timestamp": 1597840883754,
     "user": {
      "displayName": "Sacha Duzelier",
      "photoUrl": "",
      "userId": "13358736834117062408"
     },
     "user_tz": -120
    },
    "id": "A1auA9HvBI6Q",
    "outputId": "fd13187d-6349-4a66-b7de-274f48e13cc8"
   },
   "outputs": [
    {
     "name": "stdout",
     "output_type": "stream",
     "text": [
      "Model: \"sequential\"\n",
      "_________________________________________________________________\n",
      "Layer (type)                 Output Shape              Param #   \n",
      "=================================================================\n",
      "conv2d (Conv2D)              (None, 32, 32, 32)        896       \n",
      "_________________________________________________________________\n",
      "max_pooling2d (MaxPooling2D) (None, 16, 16, 32)        0         \n",
      "_________________________________________________________________\n",
      "conv2d_1 (Conv2D)            (None, 16, 16, 32)        9248      \n",
      "_________________________________________________________________\n",
      "max_pooling2d_1 (MaxPooling2 (None, 8, 8, 32)          0         \n",
      "_________________________________________________________________\n",
      "conv2d_2 (Conv2D)            (None, 8, 8, 64)          18496     \n",
      "_________________________________________________________________\n",
      "max_pooling2d_2 (MaxPooling2 (None, 4, 4, 64)          0         \n",
      "_________________________________________________________________\n",
      "flatten (Flatten)            (None, 1024)              0         \n",
      "_________________________________________________________________\n",
      "dense (Dense)                (None, 128)               131200    \n",
      "_________________________________________________________________\n",
      "dropout (Dropout)            (None, 128)               0         \n",
      "_________________________________________________________________\n",
      "dense_1 (Dense)              (None, 64)                8256      \n",
      "_________________________________________________________________\n",
      "dense_2 (Dense)              (None, 10)                650       \n",
      "=================================================================\n",
      "Total params: 168,746\n",
      "Trainable params: 168,746\n",
      "Non-trainable params: 0\n",
      "_________________________________________________________________\n"
     ]
    }
   ],
   "source": [
    "model.summary()"
   ]
  },
  {
   "cell_type": "markdown",
   "metadata": {
    "colab_type": "text",
    "id": "pJzMRKAhBVbS"
   },
   "source": [
    "### Insertion d'une loss function et d'un optimiseur"
   ]
  },
  {
   "cell_type": "markdown",
   "metadata": {
    "colab_type": "text",
    "id": "0bjT62uTy7nc"
   },
   "source": [
    "Une fois que nous avons créé notre architecture, nous avons besoin de déterminer une fonction de coût ainsi qu'un optimiseur.\n",
    "\n",
    "* **1ere étape** : Nous allons définir un `Learning Rate Schedule`. Ce qui va nous permettre de créer un learning rate dynamique qui va décroître au fur et à mesure que l'algorithme s'entraîne. \n",
    "Ici, nous avons défini un `ExponentialDecay`, qui va simplement appliquer la fonction suivante au learning rate inital que nous fixons : \n",
    "\n",
    "`initial_learning_rate * decay_rate ^ (step / decay_steps)`\n",
    "\n",
    "Dans l'exemple du dessus, toutes les 10 000 images passées, nous appliquons la fonction du dessus. \n",
    "Celà signifie que toutes les 10 000 images on diminue le learning rate d'une puissance de 0.96. \n",
    "Ceci permet de faire converger progressivement le réseau.\n",
    "Si vous souhaitez en savoir plus sur les différents types de `schedule`, n'hésitez pas à regarder cette page :\n",
    "[Keras Optimizers Schedules](https://www.tensorflow.org/api_docs/python/tf/keras/optimizers/schedules)\n",
    "\n",
    "* **2eme étape** : Nous allons également `définir une fonction de cout`. Pour les problèmes de classification multiclasse (à 1 exemple d'entraînement correspond 1 seule classe) on utilise une sortie __softmax__ pour la derniere couche puis la fonction de cout __sparse categorical crossentropy__: https://gombru.github.io/assets/cross_entropy_loss/softmax_CE_pipeline.png voir https://gombru.github.io/2018/05/23/cross_entropy_loss/ pour plus d'information sur les fonctions de coût pour la classification"
   ]
  },
  {
   "cell_type": "code",
   "execution_count": 47,
   "metadata": {
    "colab": {},
    "colab_type": "code",
    "id": "16qsZS_CSVyr"
   },
   "outputs": [],
   "source": [
    "# définition du learning rate initial\n",
    "initial_learning_rate = 0.001\n",
    "\n",
    "# définition du learning rate scheduler\n",
    "lr_schedule = tf.keras.optimizers.schedules.ExponentialDecay(\n",
    "    initial_learning_rate,\n",
    "    decay_steps=10000,\n",
    "    decay_rate=0.96,\n",
    "    staircase=True)"
   ]
  },
  {
   "cell_type": "code",
   "execution_count": 48,
   "metadata": {
    "colab": {},
    "colab_type": "code",
    "id": "Rz9D_TOUBKeq"
   },
   "outputs": [],
   "source": [
    "# On compile le modèle avec tous ces paramètres\n",
    "model.compile(loss=\"sparse_categorical_crossentropy\",\n",
    "              optimizer= tf.keras.optimizers.Adam(learning_rate = lr_schedule), \n",
    "              metrics=[\"sparse_categorical_accuracy\"])"
   ]
  },
  {
   "cell_type": "markdown",
   "metadata": {
    "colab_type": "text",
    "id": "_6aEmMM71qis"
   },
   "source": [
    "Pour cette dernière partie, nous rassemblons notre :\n",
    "\n",
    "* fonction de coût\n",
    "* Optimiseur \n",
    "* Metric \n",
    "\n",
    "Notre metric sera la `sparse_categorical_accuracy` => Pour chaque exemple bien prédit l'erreur ne change pas, sinon on l'incrémente de 1."
   ]
  },
  {
   "cell_type": "markdown",
   "metadata": {
    "colab_type": "text",
    "id": "L-M2dhGmBwyH"
   },
   "source": [
    "### Entrainement "
   ]
  },
  {
   "cell_type": "markdown",
   "metadata": {
    "colab_type": "text",
    "id": "WulZb7Xb2yf6"
   },
   "source": [
    "La dernière étape de notre projet est d'entrainer le modèle. Lorsque nous faisons de la _data augmentation_, vous aurez besoin d'appeler la fonction : `fit_generator`\n",
    "\n",
    "Cependant, si vous n'utilisez pas de _data augmentation_, vous avez simplement la fonction `fit` qui marche très bien. \n",
    "\n",
    "Nous allons faire tourner le modèle avec un batch_size de 1. C'est à dire que l'erreur + la descente de gradient seront calculées sur 1 image à chaque fois.\n",
    "\n",
    "FYI : L'entraînement sur GPU durera environ **1 heure**."
   ]
  },
  {
   "cell_type": "code",
   "execution_count": null,
   "metadata": {
    "colab": {
     "base_uri": "https://localhost:8080/",
     "height": 456
    },
    "colab_type": "code",
    "executionInfo": {
     "elapsed": 1635225,
     "status": "ok",
     "timestamp": 1597842526810,
     "user": {
      "displayName": "Sacha Duzelier",
      "photoUrl": "",
      "userId": "13358736834117062408"
     },
     "user_tz": -120
    },
    "id": "LDhCOmvKBu2w",
    "outputId": "b3077319-9f1f-400c-88e2-ee4b8fdf520c"
   },
   "outputs": [
    {
     "name": "stdout",
     "output_type": "stream",
     "text": [
      "WARNING:tensorflow:From <ipython-input-22-585fd5962ede>:4: Model.fit_generator (from tensorflow.python.keras.engine.training) is deprecated and will be removed in a future version.\n",
      "Instructions for updating:\n",
      "Please use Model.fit, which supports generators.\n",
      "Epoch 1/10\n",
      "50000/50000 [==============================] - 160s 3ms/step - loss: 1.6917 - sparse_categorical_accuracy: 0.3797\n",
      "Epoch 2/10\n",
      "50000/50000 [==============================] - 167s 3ms/step - loss: 1.4679 - sparse_categorical_accuracy: 0.4711\n",
      "Epoch 3/10\n",
      "50000/50000 [==============================] - 160s 3ms/step - loss: 1.3746 - sparse_categorical_accuracy: 0.5088\n",
      "Epoch 4/10\n",
      "50000/50000 [==============================] - 161s 3ms/step - loss: 1.2991 - sparse_categorical_accuracy: 0.5384\n",
      "Epoch 5/10\n",
      "50000/50000 [==============================] - 161s 3ms/step - loss: 1.2354 - sparse_categorical_accuracy: 0.5619\n",
      "Epoch 6/10\n",
      "50000/50000 [==============================] - 163s 3ms/step - loss: 1.1833 - sparse_categorical_accuracy: 0.5858\n",
      "Epoch 7/10\n",
      "50000/50000 [==============================] - 163s 3ms/step - loss: 1.1452 - sparse_categorical_accuracy: 0.5978\n",
      "Epoch 8/10\n",
      "50000/50000 [==============================] - 164s 3ms/step - loss: 1.0961 - sparse_categorical_accuracy: 0.6144\n",
      "Epoch 9/10\n",
      "50000/50000 [==============================] - 163s 3ms/step - loss: 1.0682 - sparse_categorical_accuracy: 0.6250\n",
      "Epoch 10/10\n",
      "50000/50000 [==============================] - 163s 3ms/step - loss: 1.0424 - sparse_categorical_accuracy: 0.6346\n"
     ]
    },
    {
     "data": {
      "text/plain": [
       "<tensorflow.python.keras.callbacks.History at 0x7f1ed69c7d68>"
      ]
     },
     "execution_count": 22,
     "metadata": {
      "tags": []
     },
     "output_type": "execute_result"
    }
   ],
   "source": [
    "# Aprentissage du modele avec data augmentation\n",
    "model.fit_generator(data_aug.flow(X_train, y_train, batch_size=1), \n",
    "                    steps_per_epoch=len(X_train)//1,\n",
    "                    epochs=10)\n",
    "\n",
    "# Apprentissage du modele sans data augmentation:\n",
    "#model.fit(X_train, \n",
    "#          y_train, \n",
    "#          batch_size=1, \n",
    "#          epochs=10)\n"
   ]
  },
  {
   "cell_type": "markdown",
   "metadata": {
    "colab_type": "text",
    "id": "BjLjLFSi38AM"
   },
   "source": [
    "Après 10 epochs, nous arrivons à presque 68% d'accuracy sur les données d'entrainement. 68% d'accuracy signifie que dans 68% des cas le réseau prédit bien la bonne classe. C'est un score honorable pour un 1er modèle étant donné que nous avons assez peu de données et une structure de réseau relativement simple. Voyons cependant ce que cela donne sur des données de validation.\n",
    "\n",
    "Pour cela, utilisons la méthode `evaluate_generator`, qui va pouvoir nous retourner un tuple (validation_loss, accuracy). Nous allons donc pouvoir évaluer la performance de notre modèle. "
   ]
  },
  {
   "cell_type": "code",
   "execution_count": null,
   "metadata": {
    "colab": {
     "base_uri": "https://localhost:8080/",
     "height": 89
    },
    "colab_type": "code",
    "executionInfo": {
     "elapsed": 17487,
     "status": "ok",
     "timestamp": 1597842844881,
     "user": {
      "displayName": "Sacha Duzelier",
      "photoUrl": "",
      "userId": "13358736834117062408"
     },
     "user_tz": -120
    },
    "id": "V0e0kCImXeQJ",
    "outputId": "c4966da6-dae6-4d0f-9df6-80ca38fd2c81"
   },
   "outputs": [
    {
     "name": "stdout",
     "output_type": "stream",
     "text": [
      "WARNING:tensorflow:From <ipython-input-23-8edcdaca1be6>:1: Model.evaluate_generator (from tensorflow.python.keras.engine.training) is deprecated and will be removed in a future version.\n",
      "Instructions for updating:\n",
      "Please use Model.evaluate, which supports generators.\n"
     ]
    }
   ],
   "source": [
    "loss, accuracy = model.evaluate_generator(data_aug.flow(X_test, y_test, batch_size=1))"
   ]
  },
  {
   "cell_type": "markdown",
   "metadata": {
    "colab_type": "text",
    "id": "8GWNjK7b4WSk"
   },
   "source": [
    "FYI : De la même que pour `fit_generator`, il y aura un équivalent `fit` pour des données _non augmentées_ dans `evaluate_generator` et `evaluate`."
   ]
  },
  {
   "cell_type": "code",
   "execution_count": null,
   "metadata": {
    "colab": {
     "base_uri": "https://localhost:8080/",
     "height": 52
    },
    "colab_type": "code",
    "executionInfo": {
     "elapsed": 1037,
     "status": "ok",
     "timestamp": 1597842882990,
     "user": {
      "displayName": "Sacha Duzelier",
      "photoUrl": "",
      "userId": "13358736834117062408"
     },
     "user_tz": -120
    },
    "id": "4vIr2myYsX0Z",
    "outputId": "680d9561-4fcd-4047-efab-6992c242f8c1"
   },
   "outputs": [
    {
     "name": "stdout",
     "output_type": "stream",
     "text": [
      "valid loss = 1.0714799165725708\n",
      "Accuracy = 61.96%\n"
     ]
    }
   ],
   "source": [
    "print(\"valid loss = {}\".format(loss))\n",
    "print(\"Accuracy = {}%\".format(np.round(accuracy*100, 2)))"
   ]
  },
  {
   "cell_type": "markdown",
   "metadata": {
    "colab_type": "text",
    "id": "siguQJl042uQ"
   },
   "source": [
    "Nous avons une accuracy de 67.5% sur les données de validation : le modèle a donc l'air d'avoir bien généralisé. Ceci est une bonne nouvelle, d'autant plus que notre `valid loss` est à peu près au même niveau que notre `train loss`. Nous pourrions donc continuer d'entrainer le modèle. \n",
    "\n",
    "Regardons une prédiction de notre modèle sur une image de `X_test`"
   ]
  },
  {
   "cell_type": "code",
   "execution_count": null,
   "metadata": {
    "colab": {
     "base_uri": "https://localhost:8080/",
     "height": 69
    },
    "colab_type": "code",
    "executionInfo": {
     "elapsed": 621,
     "status": "ok",
     "timestamp": 1597844009310,
     "user": {
      "displayName": "Sacha Duzelier",
      "photoUrl": "",
      "userId": "13358736834117062408"
     },
     "user_tz": -120
    },
    "id": "uQG_URElsxLg",
    "outputId": "545b6000-44d7-4fa6-aee4-b659d09768c2"
   },
   "outputs": [
    {
     "name": "stdout",
     "output_type": "stream",
     "text": [
      "[[0.0000000e+00 1.0000000e+00 0.0000000e+00 3.4111491e-18 0.0000000e+00\n",
      "  4.7951215e-10 0.0000000e+00 0.0000000e+00 0.0000000e+00 0.0000000e+00]]\n"
     ]
    },
    {
     "data": {
      "text/plain": [
       "1"
      ]
     },
     "execution_count": 32,
     "metadata": {
      "tags": []
     },
     "output_type": "execute_result"
    }
   ],
   "source": [
    "# On fait une prédiction sur 1 exemple de X_test (l'image d'index 0, X_test[0])\n",
    "# On reshape X_test[0] pour que l'image soit au bon format pour le modele\n",
    "# Le résultat est un vecteur de probabilité pour chacune\n",
    "# des 10 classes présentes dans le jeu de données.\n",
    "probabilities = model.predict(X_test[0].reshape(1,32,32,3))\n",
    "\n",
    "# Regardons à quoi ressemblent les résultats\n",
    "# Il semble qu'une classe se dégage largement des autres (la classe 1)\n",
    "# En effet, sa probabilité est largement supérieure à tous les autres\n",
    "print(probabilities)\n",
    "\n",
    "# Pour récupérer la classe correspondant à la probabilité maximale on \n",
    "# utilise argmax (retourne l'index d'un numpy array où l'élément est le + grand)\n",
    "pred = np.argmax(model.predict(X_test[0].reshape(1,32,32,3)))\n",
    "pred"
   ]
  },
  {
   "cell_type": "markdown",
   "metadata": {
    "colab_type": "text",
    "id": "K40IhBLy5NQm"
   },
   "source": [
    "`model.predict` nous retourne une liste de probabilités pour une chacune des classes de `y`. Pour nous retourner seulement l'index où nous avons la plus haute probabilité, nous prenons la méthode `argmax` de `numpy`. "
   ]
  },
  {
   "cell_type": "markdown",
   "metadata": {
    "colab_type": "text",
    "id": "kLYLAvMz6pCk"
   },
   "source": [
    "Comparons maintenant la prédiction de notre modèle par rapport à la réalité "
   ]
  },
  {
   "cell_type": "code",
   "execution_count": null,
   "metadata": {
    "colab": {
     "base_uri": "https://localhost:8080/",
     "height": 313
    },
    "colab_type": "code",
    "executionInfo": {
     "elapsed": 701,
     "status": "ok",
     "timestamp": 1597844000527,
     "user": {
      "displayName": "Sacha Duzelier",
      "photoUrl": "",
      "userId": "13358736834117062408"
     },
     "user_tz": -120
    },
    "id": "3HSeiXyntVDM",
    "outputId": "78ee7f2d-be11-4efd-9efe-286987b677f0"
   },
   "outputs": [
    {
     "data": {
      "text/plain": [
       "Text(0.5, 1.0, 'True = [3] \\n Pred = 1')"
      ]
     },
     "execution_count": 30,
     "metadata": {
      "tags": []
     },
     "output_type": "execute_result"
    },
    {
     "data": {
      "image/png": "[encoded data removed]",
      "text/plain": [
       "<Figure size 432x288 with 1 Axes>"
      ]
     },
     "metadata": {
      "needs_background": "light",
      "tags": []
     },
     "output_type": "display_data"
    }
   ],
   "source": [
    "plt.imshow(X_test[0])\n",
    "plt.title(\"True = {} \\n Pred = {}\".format(y_test[0], pred))"
   ]
  },
  {
   "cell_type": "markdown",
   "metadata": {
    "colab_type": "text",
    "id": "dRJDvmY26yWk"
   },
   "source": [
    "Bonne prédiction pour cette image ! "
   ]
  },
  {
   "cell_type": "markdown",
   "metadata": {
    "colab_type": "text",
    "id": "fpTz4nldvbAT"
   },
   "source": [
    "## Ressources"
   ]
  },
  {
   "cell_type": "markdown",
   "metadata": {
    "colab_type": "text",
    "id": "zPcs7jjGvdG3"
   },
   "source": [
    "* [Building Powerful Image Classification Models using very little data](https://blog.keras.io/building-powerful-image-classification-models-using-very-little-data.html)\n",
    "\n",
    "* [Optimizers Schedule](https://www.tensorflow.org/api_docs/python/tf/keras/optimizers/schedules)\n",
    "\n",
    "* [Load Cifar Data](https://www.tensorflow.org/api_docs/python/tf/keras/datasets/cifar10/load_data)\n",
    "\n",
    "* [Cifar Dataset](https://www.cs.toronto.edu/~kriz/cifar.html)"
   ]
  },
  {
   "cell_type": "code",
   "execution_count": null,
   "metadata": {
    "colab": {},
    "colab_type": "code",
    "id": "xwn1V-h5vcdc"
   },
   "outputs": [],
   "source": []
  }
 ],
 "metadata": {
  "accelerator": "GPU",
  "colab": {
   "collapsed_sections": [
    "fpTz4nldvbAT"
   ],
   "name": "1_Introduction_TF2.ipynb",
   "provenance": []
  },
  "kernelspec": {
   "display_name": "Python 3",
   "language": "python",
   "name": "python3"
  },
  "language_info": {
   "codemirror_mode": {
    "name": "ipython",
    "version": 3
   },
   "file_extension": ".py",
   "mimetype": "text/x-python",
   "name": "python",
   "nbconvert_exporter": "python",
   "pygments_lexer": "ipython3",
   "version": "3.7.6"
  }
 },
 "nbformat": 4,
 "nbformat_minor": 1
}
