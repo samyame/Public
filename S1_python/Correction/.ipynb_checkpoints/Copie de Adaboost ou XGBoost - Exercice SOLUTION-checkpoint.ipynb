{
 "cells": [
  {
   "cell_type": "markdown",
   "metadata": {
    "colab_type": "text",
    "id": "a26eM-s7DdIT"
   },
   "source": [
    "# Adaboost ou XGBoost ?\n",
    "\n",
    "Deux algorithmes de boosting connus sont Adaboost & XGBoost, voyons voir la performance de chacun de ces algorithmes sur le dataset d'AIRBNB Seattle. Notre but va être de prédire le prix d'un appartement en fonction des caractéristiques qu'on nous a donné. "
   ]
  },
  {
   "cell_type": "markdown",
   "metadata": {
    "colab_type": "text",
    "id": "Ghkon517FadZ"
   },
   "source": [
    "1. Importez les librairies usuelles "
   ]
  },
  {
   "cell_type": "code",
   "execution_count": 1,
   "metadata": {
    "colab": {
     "base_uri": "https://localhost:8080/",
     "height": 51
    },
    "colab_type": "code",
    "executionInfo": {
     "elapsed": 1417,
     "status": "ok",
     "timestamp": 1594722874755,
     "user": {
      "displayName": "Delphine JEAN",
      "photoUrl": "https://lh3.googleusercontent.com/a-/AOh14Gi7vwh0akPj3byfv1uwDYVbK-h4uGhi3ypDXY7vJQ=s64",
      "userId": "02725192116418015142"
     },
     "user_tz": -120
    },
    "id": "FdJG5u29DVX3",
    "outputId": "648c9a15-b44d-4c11-ade0-1d9ddacdbac3"
   },
   "outputs": [
    {
     "name": "stderr",
     "output_type": "stream",
     "text": [
      "/usr/local/lib/python3.6/dist-packages/statsmodels/tools/_testing.py:19: FutureWarning: pandas.util.testing is deprecated. Use the functions in the public API at pandas.testing instead.\n",
      "  import pandas.util.testing as tm\n"
     ]
    }
   ],
   "source": [
    "import numpy as np \n",
    "import pandas as pd \n",
    "import matplotlib.pyplot as plt \n",
    "import seaborn as sns"
   ]
  },
  {
   "cell_type": "markdown",
   "metadata": {
    "colab_type": "text",
    "id": "knSa2bQ1FroR"
   },
   "source": [
    "2. Importez le dataset ```listings.csv```"
   ]
  },
  {
   "cell_type": "code",
   "execution_count": 2,
   "metadata": {
    "colab": {
     "base_uri": "https://localhost:8080/",
     "height": 340
    },
    "colab_type": "code",
    "executionInfo": {
     "elapsed": 3153,
     "status": "error",
     "timestamp": 1594722876525,
     "user": {
      "displayName": "Delphine JEAN",
      "photoUrl": "https://lh3.googleusercontent.com/a-/AOh14Gi7vwh0akPj3byfv1uwDYVbK-h4uGhi3ypDXY7vJQ=s64",
      "userId": "02725192116418015142"
     },
     "user_tz": -120
    },
    "id": "C1kRekTvF4tA",
    "outputId": "d5305d02-bedb-4295-957f-50e3927b0ad6"
   },
   "outputs": [
    {
     "ename": "HTTPError",
     "evalue": "ignored",
     "output_type": "error",
     "traceback": [
      "\u001b[0;31m---------------------------------------------------------------------------\u001b[0m",
      "\u001b[0;31mHTTPError\u001b[0m                                 Traceback (most recent call last)",
      "\u001b[0;32m<ipython-input-2-a5882145bc71>\u001b[0m in \u001b[0;36m<module>\u001b[0;34m()\u001b[0m\n\u001b[0;32m----> 1\u001b[0;31m \u001b[0mlistings\u001b[0m \u001b[0;34m=\u001b[0m \u001b[0mpd\u001b[0m\u001b[0;34m.\u001b[0m\u001b[0mread_csv\u001b[0m\u001b[0;34m(\u001b[0m\u001b[0;34m\"https://raw.githubusercontent.com/JedhaBootcamp/FULL_STACK_12_WEEK_PROGRAM/master/S0.4%20--%20R%C3%A9duction%20de%20Dimensions%20%26%20Boosting/S4-3%20--%20Boosting%20-%20Adaboost%20%26%20XGBoost/S4-3B/Dataset/listings.csv?token=AFB53D5MGH4TUS3R5JTWTPC6HPUAI\"\u001b[0m\u001b[0;34m)\u001b[0m\u001b[0;34m\u001b[0m\u001b[0;34m\u001b[0m\u001b[0m\n\u001b[0m\u001b[1;32m      2\u001b[0m \u001b[0mlistings\u001b[0m\u001b[0;34m.\u001b[0m\u001b[0mhead\u001b[0m\u001b[0;34m(\u001b[0m\u001b[0;34m)\u001b[0m\u001b[0;34m\u001b[0m\u001b[0;34m\u001b[0m\u001b[0m\n",
      "\u001b[0;32m/usr/local/lib/python3.6/dist-packages/pandas/io/parsers.py\u001b[0m in \u001b[0;36mparser_f\u001b[0;34m(filepath_or_buffer, sep, delimiter, header, names, index_col, usecols, squeeze, prefix, mangle_dupe_cols, dtype, engine, converters, true_values, false_values, skipinitialspace, skiprows, skipfooter, nrows, na_values, keep_default_na, na_filter, verbose, skip_blank_lines, parse_dates, infer_datetime_format, keep_date_col, date_parser, dayfirst, cache_dates, iterator, chunksize, compression, thousands, decimal, lineterminator, quotechar, quoting, doublequote, escapechar, comment, encoding, dialect, error_bad_lines, warn_bad_lines, delim_whitespace, low_memory, memory_map, float_precision)\u001b[0m\n\u001b[1;32m    674\u001b[0m         )\n\u001b[1;32m    675\u001b[0m \u001b[0;34m\u001b[0m\u001b[0m\n\u001b[0;32m--> 676\u001b[0;31m         \u001b[0;32mreturn\u001b[0m \u001b[0m_read\u001b[0m\u001b[0;34m(\u001b[0m\u001b[0mfilepath_or_buffer\u001b[0m\u001b[0;34m,\u001b[0m \u001b[0mkwds\u001b[0m\u001b[0;34m)\u001b[0m\u001b[0;34m\u001b[0m\u001b[0;34m\u001b[0m\u001b[0m\n\u001b[0m\u001b[1;32m    677\u001b[0m \u001b[0;34m\u001b[0m\u001b[0m\n\u001b[1;32m    678\u001b[0m     \u001b[0mparser_f\u001b[0m\u001b[0;34m.\u001b[0m\u001b[0m__name__\u001b[0m \u001b[0;34m=\u001b[0m \u001b[0mname\u001b[0m\u001b[0;34m\u001b[0m\u001b[0;34m\u001b[0m\u001b[0m\n",
      "\u001b[0;32m/usr/local/lib/python3.6/dist-packages/pandas/io/parsers.py\u001b[0m in \u001b[0;36m_read\u001b[0;34m(filepath_or_buffer, kwds)\u001b[0m\n\u001b[1;32m    429\u001b[0m     \u001b[0;31m# See https://github.com/python/mypy/issues/1297\u001b[0m\u001b[0;34m\u001b[0m\u001b[0;34m\u001b[0m\u001b[0;34m\u001b[0m\u001b[0m\n\u001b[1;32m    430\u001b[0m     fp_or_buf, _, compression, should_close = get_filepath_or_buffer(\n\u001b[0;32m--> 431\u001b[0;31m         \u001b[0mfilepath_or_buffer\u001b[0m\u001b[0;34m,\u001b[0m \u001b[0mencoding\u001b[0m\u001b[0;34m,\u001b[0m \u001b[0mcompression\u001b[0m\u001b[0;34m\u001b[0m\u001b[0;34m\u001b[0m\u001b[0m\n\u001b[0m\u001b[1;32m    432\u001b[0m     )\n\u001b[1;32m    433\u001b[0m     \u001b[0mkwds\u001b[0m\u001b[0;34m[\u001b[0m\u001b[0;34m\"compression\"\u001b[0m\u001b[0;34m]\u001b[0m \u001b[0;34m=\u001b[0m \u001b[0mcompression\u001b[0m\u001b[0;34m\u001b[0m\u001b[0;34m\u001b[0m\u001b[0m\n",
      "\u001b[0;32m/usr/local/lib/python3.6/dist-packages/pandas/io/common.py\u001b[0m in \u001b[0;36mget_filepath_or_buffer\u001b[0;34m(filepath_or_buffer, encoding, compression, mode)\u001b[0m\n\u001b[1;32m    170\u001b[0m \u001b[0;34m\u001b[0m\u001b[0m\n\u001b[1;32m    171\u001b[0m     \u001b[0;32mif\u001b[0m \u001b[0misinstance\u001b[0m\u001b[0;34m(\u001b[0m\u001b[0mfilepath_or_buffer\u001b[0m\u001b[0;34m,\u001b[0m \u001b[0mstr\u001b[0m\u001b[0;34m)\u001b[0m \u001b[0;32mand\u001b[0m \u001b[0mis_url\u001b[0m\u001b[0;34m(\u001b[0m\u001b[0mfilepath_or_buffer\u001b[0m\u001b[0;34m)\u001b[0m\u001b[0;34m:\u001b[0m\u001b[0;34m\u001b[0m\u001b[0;34m\u001b[0m\u001b[0m\n\u001b[0;32m--> 172\u001b[0;31m         \u001b[0mreq\u001b[0m \u001b[0;34m=\u001b[0m \u001b[0murlopen\u001b[0m\u001b[0;34m(\u001b[0m\u001b[0mfilepath_or_buffer\u001b[0m\u001b[0;34m)\u001b[0m\u001b[0;34m\u001b[0m\u001b[0;34m\u001b[0m\u001b[0m\n\u001b[0m\u001b[1;32m    173\u001b[0m         \u001b[0mcontent_encoding\u001b[0m \u001b[0;34m=\u001b[0m \u001b[0mreq\u001b[0m\u001b[0;34m.\u001b[0m\u001b[0mheaders\u001b[0m\u001b[0;34m.\u001b[0m\u001b[0mget\u001b[0m\u001b[0;34m(\u001b[0m\u001b[0;34m\"Content-Encoding\"\u001b[0m\u001b[0;34m,\u001b[0m \u001b[0;32mNone\u001b[0m\u001b[0;34m)\u001b[0m\u001b[0;34m\u001b[0m\u001b[0;34m\u001b[0m\u001b[0m\n\u001b[1;32m    174\u001b[0m         \u001b[0;32mif\u001b[0m \u001b[0mcontent_encoding\u001b[0m \u001b[0;34m==\u001b[0m \u001b[0;34m\"gzip\"\u001b[0m\u001b[0;34m:\u001b[0m\u001b[0;34m\u001b[0m\u001b[0;34m\u001b[0m\u001b[0m\n",
      "\u001b[0;32m/usr/local/lib/python3.6/dist-packages/pandas/io/common.py\u001b[0m in \u001b[0;36murlopen\u001b[0;34m(*args, **kwargs)\u001b[0m\n\u001b[1;32m    139\u001b[0m     \u001b[0;32mimport\u001b[0m \u001b[0murllib\u001b[0m\u001b[0;34m.\u001b[0m\u001b[0mrequest\u001b[0m\u001b[0;34m\u001b[0m\u001b[0;34m\u001b[0m\u001b[0m\n\u001b[1;32m    140\u001b[0m \u001b[0;34m\u001b[0m\u001b[0m\n\u001b[0;32m--> 141\u001b[0;31m     \u001b[0;32mreturn\u001b[0m \u001b[0murllib\u001b[0m\u001b[0;34m.\u001b[0m\u001b[0mrequest\u001b[0m\u001b[0;34m.\u001b[0m\u001b[0murlopen\u001b[0m\u001b[0;34m(\u001b[0m\u001b[0;34m*\u001b[0m\u001b[0margs\u001b[0m\u001b[0;34m,\u001b[0m \u001b[0;34m**\u001b[0m\u001b[0mkwargs\u001b[0m\u001b[0;34m)\u001b[0m\u001b[0;34m\u001b[0m\u001b[0;34m\u001b[0m\u001b[0m\n\u001b[0m\u001b[1;32m    142\u001b[0m \u001b[0;34m\u001b[0m\u001b[0m\n\u001b[1;32m    143\u001b[0m \u001b[0;34m\u001b[0m\u001b[0m\n",
      "\u001b[0;32m/usr/lib/python3.6/urllib/request.py\u001b[0m in \u001b[0;36murlopen\u001b[0;34m(url, data, timeout, cafile, capath, cadefault, context)\u001b[0m\n\u001b[1;32m    221\u001b[0m     \u001b[0;32melse\u001b[0m\u001b[0;34m:\u001b[0m\u001b[0;34m\u001b[0m\u001b[0;34m\u001b[0m\u001b[0m\n\u001b[1;32m    222\u001b[0m         \u001b[0mopener\u001b[0m \u001b[0;34m=\u001b[0m \u001b[0m_opener\u001b[0m\u001b[0;34m\u001b[0m\u001b[0;34m\u001b[0m\u001b[0m\n\u001b[0;32m--> 223\u001b[0;31m     \u001b[0;32mreturn\u001b[0m \u001b[0mopener\u001b[0m\u001b[0;34m.\u001b[0m\u001b[0mopen\u001b[0m\u001b[0;34m(\u001b[0m\u001b[0murl\u001b[0m\u001b[0;34m,\u001b[0m \u001b[0mdata\u001b[0m\u001b[0;34m,\u001b[0m \u001b[0mtimeout\u001b[0m\u001b[0;34m)\u001b[0m\u001b[0;34m\u001b[0m\u001b[0;34m\u001b[0m\u001b[0m\n\u001b[0m\u001b[1;32m    224\u001b[0m \u001b[0;34m\u001b[0m\u001b[0m\n\u001b[1;32m    225\u001b[0m \u001b[0;32mdef\u001b[0m \u001b[0minstall_opener\u001b[0m\u001b[0;34m(\u001b[0m\u001b[0mopener\u001b[0m\u001b[0;34m)\u001b[0m\u001b[0;34m:\u001b[0m\u001b[0;34m\u001b[0m\u001b[0;34m\u001b[0m\u001b[0m\n",
      "\u001b[0;32m/usr/lib/python3.6/urllib/request.py\u001b[0m in \u001b[0;36mopen\u001b[0;34m(self, fullurl, data, timeout)\u001b[0m\n\u001b[1;32m    530\u001b[0m         \u001b[0;32mfor\u001b[0m \u001b[0mprocessor\u001b[0m \u001b[0;32min\u001b[0m \u001b[0mself\u001b[0m\u001b[0;34m.\u001b[0m\u001b[0mprocess_response\u001b[0m\u001b[0;34m.\u001b[0m\u001b[0mget\u001b[0m\u001b[0;34m(\u001b[0m\u001b[0mprotocol\u001b[0m\u001b[0;34m,\u001b[0m \u001b[0;34m[\u001b[0m\u001b[0;34m]\u001b[0m\u001b[0;34m)\u001b[0m\u001b[0;34m:\u001b[0m\u001b[0;34m\u001b[0m\u001b[0;34m\u001b[0m\u001b[0m\n\u001b[1;32m    531\u001b[0m             \u001b[0mmeth\u001b[0m \u001b[0;34m=\u001b[0m \u001b[0mgetattr\u001b[0m\u001b[0;34m(\u001b[0m\u001b[0mprocessor\u001b[0m\u001b[0;34m,\u001b[0m \u001b[0mmeth_name\u001b[0m\u001b[0;34m)\u001b[0m\u001b[0;34m\u001b[0m\u001b[0;34m\u001b[0m\u001b[0m\n\u001b[0;32m--> 532\u001b[0;31m             \u001b[0mresponse\u001b[0m \u001b[0;34m=\u001b[0m \u001b[0mmeth\u001b[0m\u001b[0;34m(\u001b[0m\u001b[0mreq\u001b[0m\u001b[0;34m,\u001b[0m \u001b[0mresponse\u001b[0m\u001b[0;34m)\u001b[0m\u001b[0;34m\u001b[0m\u001b[0;34m\u001b[0m\u001b[0m\n\u001b[0m\u001b[1;32m    533\u001b[0m \u001b[0;34m\u001b[0m\u001b[0m\n\u001b[1;32m    534\u001b[0m         \u001b[0;32mreturn\u001b[0m \u001b[0mresponse\u001b[0m\u001b[0;34m\u001b[0m\u001b[0;34m\u001b[0m\u001b[0m\n",
      "\u001b[0;32m/usr/lib/python3.6/urllib/request.py\u001b[0m in \u001b[0;36mhttp_response\u001b[0;34m(self, request, response)\u001b[0m\n\u001b[1;32m    640\u001b[0m         \u001b[0;32mif\u001b[0m \u001b[0;32mnot\u001b[0m \u001b[0;34m(\u001b[0m\u001b[0;36m200\u001b[0m \u001b[0;34m<=\u001b[0m \u001b[0mcode\u001b[0m \u001b[0;34m<\u001b[0m \u001b[0;36m300\u001b[0m\u001b[0;34m)\u001b[0m\u001b[0;34m:\u001b[0m\u001b[0;34m\u001b[0m\u001b[0;34m\u001b[0m\u001b[0m\n\u001b[1;32m    641\u001b[0m             response = self.parent.error(\n\u001b[0;32m--> 642\u001b[0;31m                 'http', request, response, code, msg, hdrs)\n\u001b[0m\u001b[1;32m    643\u001b[0m \u001b[0;34m\u001b[0m\u001b[0m\n\u001b[1;32m    644\u001b[0m         \u001b[0;32mreturn\u001b[0m \u001b[0mresponse\u001b[0m\u001b[0;34m\u001b[0m\u001b[0;34m\u001b[0m\u001b[0m\n",
      "\u001b[0;32m/usr/lib/python3.6/urllib/request.py\u001b[0m in \u001b[0;36merror\u001b[0;34m(self, proto, *args)\u001b[0m\n\u001b[1;32m    568\u001b[0m         \u001b[0;32mif\u001b[0m \u001b[0mhttp_err\u001b[0m\u001b[0;34m:\u001b[0m\u001b[0;34m\u001b[0m\u001b[0;34m\u001b[0m\u001b[0m\n\u001b[1;32m    569\u001b[0m             \u001b[0margs\u001b[0m \u001b[0;34m=\u001b[0m \u001b[0;34m(\u001b[0m\u001b[0mdict\u001b[0m\u001b[0;34m,\u001b[0m \u001b[0;34m'default'\u001b[0m\u001b[0;34m,\u001b[0m \u001b[0;34m'http_error_default'\u001b[0m\u001b[0;34m)\u001b[0m \u001b[0;34m+\u001b[0m \u001b[0morig_args\u001b[0m\u001b[0;34m\u001b[0m\u001b[0;34m\u001b[0m\u001b[0m\n\u001b[0;32m--> 570\u001b[0;31m             \u001b[0;32mreturn\u001b[0m \u001b[0mself\u001b[0m\u001b[0;34m.\u001b[0m\u001b[0m_call_chain\u001b[0m\u001b[0;34m(\u001b[0m\u001b[0;34m*\u001b[0m\u001b[0margs\u001b[0m\u001b[0;34m)\u001b[0m\u001b[0;34m\u001b[0m\u001b[0;34m\u001b[0m\u001b[0m\n\u001b[0m\u001b[1;32m    571\u001b[0m \u001b[0;34m\u001b[0m\u001b[0m\n\u001b[1;32m    572\u001b[0m \u001b[0;31m# XXX probably also want an abstract factory that knows when it makes\u001b[0m\u001b[0;34m\u001b[0m\u001b[0;34m\u001b[0m\u001b[0;34m\u001b[0m\u001b[0m\n",
      "\u001b[0;32m/usr/lib/python3.6/urllib/request.py\u001b[0m in \u001b[0;36m_call_chain\u001b[0;34m(self, chain, kind, meth_name, *args)\u001b[0m\n\u001b[1;32m    502\u001b[0m         \u001b[0;32mfor\u001b[0m \u001b[0mhandler\u001b[0m \u001b[0;32min\u001b[0m \u001b[0mhandlers\u001b[0m\u001b[0;34m:\u001b[0m\u001b[0;34m\u001b[0m\u001b[0;34m\u001b[0m\u001b[0m\n\u001b[1;32m    503\u001b[0m             \u001b[0mfunc\u001b[0m \u001b[0;34m=\u001b[0m \u001b[0mgetattr\u001b[0m\u001b[0;34m(\u001b[0m\u001b[0mhandler\u001b[0m\u001b[0;34m,\u001b[0m \u001b[0mmeth_name\u001b[0m\u001b[0;34m)\u001b[0m\u001b[0;34m\u001b[0m\u001b[0;34m\u001b[0m\u001b[0m\n\u001b[0;32m--> 504\u001b[0;31m             \u001b[0mresult\u001b[0m \u001b[0;34m=\u001b[0m \u001b[0mfunc\u001b[0m\u001b[0;34m(\u001b[0m\u001b[0;34m*\u001b[0m\u001b[0margs\u001b[0m\u001b[0;34m)\u001b[0m\u001b[0;34m\u001b[0m\u001b[0;34m\u001b[0m\u001b[0m\n\u001b[0m\u001b[1;32m    505\u001b[0m             \u001b[0;32mif\u001b[0m \u001b[0mresult\u001b[0m \u001b[0;32mis\u001b[0m \u001b[0;32mnot\u001b[0m \u001b[0;32mNone\u001b[0m\u001b[0;34m:\u001b[0m\u001b[0;34m\u001b[0m\u001b[0;34m\u001b[0m\u001b[0m\n\u001b[1;32m    506\u001b[0m                 \u001b[0;32mreturn\u001b[0m \u001b[0mresult\u001b[0m\u001b[0;34m\u001b[0m\u001b[0;34m\u001b[0m\u001b[0m\n",
      "\u001b[0;32m/usr/lib/python3.6/urllib/request.py\u001b[0m in \u001b[0;36mhttp_error_default\u001b[0;34m(self, req, fp, code, msg, hdrs)\u001b[0m\n\u001b[1;32m    648\u001b[0m \u001b[0;32mclass\u001b[0m \u001b[0mHTTPDefaultErrorHandler\u001b[0m\u001b[0;34m(\u001b[0m\u001b[0mBaseHandler\u001b[0m\u001b[0;34m)\u001b[0m\u001b[0;34m:\u001b[0m\u001b[0;34m\u001b[0m\u001b[0;34m\u001b[0m\u001b[0m\n\u001b[1;32m    649\u001b[0m     \u001b[0;32mdef\u001b[0m \u001b[0mhttp_error_default\u001b[0m\u001b[0;34m(\u001b[0m\u001b[0mself\u001b[0m\u001b[0;34m,\u001b[0m \u001b[0mreq\u001b[0m\u001b[0;34m,\u001b[0m \u001b[0mfp\u001b[0m\u001b[0;34m,\u001b[0m \u001b[0mcode\u001b[0m\u001b[0;34m,\u001b[0m \u001b[0mmsg\u001b[0m\u001b[0;34m,\u001b[0m \u001b[0mhdrs\u001b[0m\u001b[0;34m)\u001b[0m\u001b[0;34m:\u001b[0m\u001b[0;34m\u001b[0m\u001b[0;34m\u001b[0m\u001b[0m\n\u001b[0;32m--> 650\u001b[0;31m         \u001b[0;32mraise\u001b[0m \u001b[0mHTTPError\u001b[0m\u001b[0;34m(\u001b[0m\u001b[0mreq\u001b[0m\u001b[0;34m.\u001b[0m\u001b[0mfull_url\u001b[0m\u001b[0;34m,\u001b[0m \u001b[0mcode\u001b[0m\u001b[0;34m,\u001b[0m \u001b[0mmsg\u001b[0m\u001b[0;34m,\u001b[0m \u001b[0mhdrs\u001b[0m\u001b[0;34m,\u001b[0m \u001b[0mfp\u001b[0m\u001b[0;34m)\u001b[0m\u001b[0;34m\u001b[0m\u001b[0;34m\u001b[0m\u001b[0m\n\u001b[0m\u001b[1;32m    651\u001b[0m \u001b[0;34m\u001b[0m\u001b[0m\n\u001b[1;32m    652\u001b[0m \u001b[0;32mclass\u001b[0m \u001b[0mHTTPRedirectHandler\u001b[0m\u001b[0;34m(\u001b[0m\u001b[0mBaseHandler\u001b[0m\u001b[0;34m)\u001b[0m\u001b[0;34m:\u001b[0m\u001b[0;34m\u001b[0m\u001b[0;34m\u001b[0m\u001b[0m\n",
      "\u001b[0;31mHTTPError\u001b[0m: HTTP Error 404: Not Found"
     ]
    }
   ],
   "source": [
    "listings = pd.read_csv(\"https://raw.githubusercontent.com/JedhaBootcamp/FULL_STACK_12_WEEK_PROGRAM/master/S0.4%20--%20R%C3%A9duction%20de%20Dimensions%20%26%20Boosting/S4-3%20--%20Boosting%20-%20Adaboost%20%26%20XGBoost/S4-3B/Dataset/listings.csv?token=AFB53D5MGH4TUS3R5JTWTPC6HPUAI\")\n",
    "listings.head()"
   ]
  },
  {
   "cell_type": "markdown",
   "metadata": {
    "colab_type": "text",
    "id": "Hk0ew5fZiG-0"
   },
   "source": []
  },
  {
   "cell_type": "markdown",
   "metadata": {
    "colab_type": "text",
    "id": "5LJvsl16HAEK"
   },
   "source": [
    "3. On a beaucoup de données dans ce dataset. Affichez toutes les colonnes du dataset"
   ]
  },
  {
   "cell_type": "code",
   "execution_count": null,
   "metadata": {
    "colab": {},
    "colab_type": "code",
    "executionInfo": {
     "elapsed": 3077,
     "status": "aborted",
     "timestamp": 1594722876467,
     "user": {
      "displayName": "Delphine JEAN",
      "photoUrl": "https://lh3.googleusercontent.com/a-/AOh14Gi7vwh0akPj3byfv1uwDYVbK-h4uGhi3ypDXY7vJQ=s64",
      "userId": "02725192116418015142"
     },
     "user_tz": -120
    },
    "id": "doN6M9FoGmPV"
   },
   "outputs": [],
   "source": [
    "listings.info()"
   ]
  },
  {
   "cell_type": "markdown",
   "metadata": {
    "colab_type": "text",
    "id": "8E8c5WQ2HcsS"
   },
   "source": [
    "4. Révisons un peu Seaborn, affichez la distribution des prix dans le dataset "
   ]
  },
  {
   "cell_type": "code",
   "execution_count": null,
   "metadata": {
    "colab": {},
    "colab_type": "code",
    "executionInfo": {
     "elapsed": 3058,
     "status": "aborted",
     "timestamp": 1594722876470,
     "user": {
      "displayName": "Delphine JEAN",
      "photoUrl": "https://lh3.googleusercontent.com/a-/AOh14Gi7vwh0akPj3byfv1uwDYVbK-h4uGhi3ypDXY7vJQ=s64",
      "userId": "02725192116418015142"
     },
     "user_tz": -120
    },
    "id": "azQEQTWc4HHr"
   },
   "outputs": [],
   "source": [
    "listings.price2 = listings.price.apply(lambda x: x[1:])\n",
    "listings.price2 = listings.price.str.replace(\",\",\"\").astype(float)\n",
    "sns.distplot(listings.price2)"
   ]
  },
  {
   "cell_type": "code",
   "execution_count": null,
   "metadata": {
    "colab": {},
    "colab_type": "code",
    "executionInfo": {
     "elapsed": 3029,
     "status": "aborted",
     "timestamp": 1594722876472,
     "user": {
      "displayName": "Delphine JEAN",
      "photoUrl": "https://lh3.googleusercontent.com/a-/AOh14Gi7vwh0akPj3byfv1uwDYVbK-h4uGhi3ypDXY7vJQ=s64",
      "userId": "02725192116418015142"
     },
     "user_tz": -120
    },
    "id": "x8UKlpeVHN1K"
   },
   "outputs": [],
   "source": [
    "listings.price = listings.price.apply(lambda x: x[1:])\n",
    "listings.price = listings.price.replace(\"1,000.00\", \"1000\").astype(float)\n",
    "sns.distplot(listings.price)"
   ]
  },
  {
   "cell_type": "markdown",
   "metadata": {
    "colab_type": "text",
    "id": "kNaR2jK2HsKK"
   },
   "source": [
    "5. Supprimez les outliers pour ne garder que les appartements qui ont un prix inférieur à 400$/nuit "
   ]
  },
  {
   "cell_type": "code",
   "execution_count": null,
   "metadata": {
    "colab": {},
    "colab_type": "code",
    "executionInfo": {
     "elapsed": 2996,
     "status": "aborted",
     "timestamp": 1594722876474,
     "user": {
      "displayName": "Delphine JEAN",
      "photoUrl": "https://lh3.googleusercontent.com/a-/AOh14Gi7vwh0akPj3byfv1uwDYVbK-h4uGhi3ypDXY7vJQ=s64",
      "userId": "02725192116418015142"
     },
     "user_tz": -120
    },
    "id": "g-cg_QOtHris"
   },
   "outputs": [],
   "source": [
    "avg_priced_dataset = listings[listings.price <= 400]\n",
    "avg_priced_dataset.describe()"
   ]
  },
  {
   "cell_type": "code",
   "execution_count": null,
   "metadata": {
    "colab": {},
    "colab_type": "code",
    "executionInfo": {
     "elapsed": 2968,
     "status": "aborted",
     "timestamp": 1594722876476,
     "user": {
      "displayName": "Delphine JEAN",
      "photoUrl": "https://lh3.googleusercontent.com/a-/AOh14Gi7vwh0akPj3byfv1uwDYVbK-h4uGhi3ypDXY7vJQ=s64",
      "userId": "02725192116418015142"
     },
     "user_tz": -120
    },
    "id": "TlXdoYUcICeh"
   },
   "outputs": [],
   "source": [
    "sns.distplot(avg_priced_dataset.price)"
   ]
  },
  {
   "cell_type": "markdown",
   "metadata": {
    "colab_type": "text",
    "id": "zvVyEdGWITm-"
   },
   "source": [
    "6. Exprimez le prix en fonction des variables suivantes : \n",
    "\n",
    "- ```room type```\n",
    "- ```beds```\n",
    "- ```property type```"
   ]
  },
  {
   "cell_type": "code",
   "execution_count": null,
   "metadata": {
    "colab": {},
    "colab_type": "code",
    "executionInfo": {
     "elapsed": 2950,
     "status": "aborted",
     "timestamp": 1594722876477,
     "user": {
      "displayName": "Delphine JEAN",
      "photoUrl": "https://lh3.googleusercontent.com/a-/AOh14Gi7vwh0akPj3byfv1uwDYVbK-h4uGhi3ypDXY7vJQ=s64",
      "userId": "02725192116418015142"
     },
     "user_tz": -120
    },
    "id": "GzrQ8ipAIuvE"
   },
   "outputs": [],
   "source": [
    "sns.catplot(x=\"room_type\", y=\"price\", data=avg_priced_dataset, kind=\"bar\")"
   ]
  },
  {
   "cell_type": "code",
   "execution_count": null,
   "metadata": {
    "colab": {},
    "colab_type": "code",
    "executionInfo": {
     "elapsed": 2933,
     "status": "aborted",
     "timestamp": 1594722876479,
     "user": {
      "displayName": "Delphine JEAN",
      "photoUrl": "https://lh3.googleusercontent.com/a-/AOh14Gi7vwh0akPj3byfv1uwDYVbK-h4uGhi3ypDXY7vJQ=s64",
      "userId": "02725192116418015142"
     },
     "user_tz": -120
    },
    "id": "MNK913pAIyHo"
   },
   "outputs": [],
   "source": [
    "sns.catplot(x=\"beds\", y=\"price\", data=avg_priced_dataset, kind=\"bar\")"
   ]
  },
  {
   "cell_type": "code",
   "execution_count": null,
   "metadata": {
    "colab": {},
    "colab_type": "code",
    "executionInfo": {
     "elapsed": 2918,
     "status": "aborted",
     "timestamp": 1594722876480,
     "user": {
      "displayName": "Delphine JEAN",
      "photoUrl": "https://lh3.googleusercontent.com/a-/AOh14Gi7vwh0akPj3byfv1uwDYVbK-h4uGhi3ypDXY7vJQ=s64",
      "userId": "02725192116418015142"
     },
     "user_tz": -120
    },
    "id": "9R56rJOE8RYH"
   },
   "outputs": [],
   "source": [
    "avg_priced_dataset[avg_priced_dataset.beds==8]"
   ]
  },
  {
   "cell_type": "code",
   "execution_count": null,
   "metadata": {
    "colab": {},
    "colab_type": "code",
    "executionInfo": {
     "elapsed": 2897,
     "status": "aborted",
     "timestamp": 1594722876482,
     "user": {
      "displayName": "Delphine JEAN",
      "photoUrl": "https://lh3.googleusercontent.com/a-/AOh14Gi7vwh0akPj3byfv1uwDYVbK-h4uGhi3ypDXY7vJQ=s64",
      "userId": "02725192116418015142"
     },
     "user_tz": -120
    },
    "id": "xU4EhOOGIEtP"
   },
   "outputs": [],
   "source": [
    "fig, ax = plt.subplots(figsize=(20,5))\n",
    "sns.catplot(x=\"property_type\", y=\"price\", data=avg_priced_dataset, kind=\"bar\", ax=ax)"
   ]
  },
  {
   "cell_type": "markdown",
   "metadata": {
    "colab_type": "text",
    "id": "NRFhjjfPI0_G"
   },
   "source": [
    "7. Séparez la variable cible de votre dataset"
   ]
  },
  {
   "cell_type": "code",
   "execution_count": null,
   "metadata": {
    "colab": {},
    "colab_type": "code",
    "executionInfo": {
     "elapsed": 2890,
     "status": "aborted",
     "timestamp": 1594722876483,
     "user": {
      "displayName": "Delphine JEAN",
      "photoUrl": "https://lh3.googleusercontent.com/a-/AOh14Gi7vwh0akPj3byfv1uwDYVbK-h4uGhi3ypDXY7vJQ=s64",
      "userId": "02725192116418015142"
     },
     "user_tz": -120
    },
    "id": "oy0gwnMkIsb2"
   },
   "outputs": [],
   "source": [
    "X = avg_priced_dataset.loc[:, avg_priced_dataset.columns!=\"price\"]\n",
    "#X = avg_priced_dataset.drop([\"price\"], axis = 1)\n",
    "y = avg_priced_dataset.loc[:, avg_priced_dataset.columns==\"price\"]"
   ]
  },
  {
   "cell_type": "markdown",
   "metadata": {
    "colab_type": "text",
    "id": "TXGGfGezJnpB"
   },
   "source": [
    "8. Il faut qu'on écrème quelques variables explicatives de notre jeu de données. Commencer par simplement enlever les variables qui expriment un ```id``` quelconque ou urls. On enlèvera également les variables qui contiennent des textes longs comme ```notes```\n",
    "\n",
    "De la même manière, on enlèvera  toutes les variables qui décrivent le prix mensuel ou hebdomadaire comme  ```monthly price```\n",
    "\n",
    "Votre dataset devrait contenir uniquement les variables catégoriques et numériques une fois votre nettoyage fait. \n",
    "\n",
    "A la fin, votre dataset contiendra les variables suivantes : \n",
    "\n",
    "```\n",
    "Index(['experiences_offered', 'host_response_time', 'host_response_rate',\n",
    "       'host_acceptance_rate', 'host_is_superhost', 'host_listings_count',\n",
    "       'host_total_listings_count', 'host_has_profile_pic',\n",
    "       'host_identity_verified', 'neighbourhood_group_cleansed', 'latitude',\n",
    "       'longitude', 'property_type', 'room_type', 'accommodates', 'bathrooms',\n",
    "       'bedrooms', 'beds', 'bed_type', 'security_deposit', 'cleaning_fee',\n",
    "       'guests_included', 'extra_people', 'minimum_nights', 'maximum_nights',\n",
    "       'has_availability', 'availability_30', 'availability_60',\n",
    "       'availability_90', 'availability_365', 'number_of_reviews',\n",
    "       'review_scores_rating', 'review_scores_accuracy',\n",
    "       'review_scores_cleanliness', 'review_scores_checkin',\n",
    "       'review_scores_communication', 'review_scores_location',\n",
    "       'review_scores_value', 'requires_license', 'instant_bookable',\n",
    "       'cancellation_policy', 'require_guest_profile_picture',\n",
    "       'require_guest_phone_verification', 'calculated_host_listings_count',\n",
    "       'reviews_per_month'],\n",
    "      dtype='object')\n",
    "```"
   ]
  },
  {
   "cell_type": "code",
   "execution_count": null,
   "metadata": {
    "colab": {},
    "colab_type": "code",
    "executionInfo": {
     "elapsed": 2875,
     "status": "aborted",
     "timestamp": 1594722876484,
     "user": {
      "displayName": "Delphine JEAN",
      "photoUrl": "https://lh3.googleusercontent.com/a-/AOh14Gi7vwh0akPj3byfv1uwDYVbK-h4uGhi3ypDXY7vJQ=s64",
      "userId": "02725192116418015142"
     },
     "user_tz": -120
    },
    "id": "gL9rC1wcovO9"
   },
   "outputs": [],
   "source": [
    "a=X.isnull().sum()/X.shape[0]*100\n",
    "a.sort_values(ascending=False)"
   ]
  },
  {
   "cell_type": "code",
   "execution_count": null,
   "metadata": {
    "colab": {},
    "colab_type": "code",
    "executionInfo": {
     "elapsed": 2870,
     "status": "aborted",
     "timestamp": 1594722876485,
     "user": {
      "displayName": "Delphine JEAN",
      "photoUrl": "https://lh3.googleusercontent.com/a-/AOh14Gi7vwh0akPj3byfv1uwDYVbK-h4uGhi3ypDXY7vJQ=s64",
      "userId": "02725192116418015142"
     },
     "user_tz": -120
    },
    "id": "8IFkbyqELxso"
   },
   "outputs": [],
   "source": [
    "X_clean = X.drop([\"host_since\", \n",
    "            \"host_location\", \n",
    "            \"host_about\", \n",
    "            \"host_thumbnail_url\", \n",
    "            \"host_picture_url\",\n",
    "           \"license\",\n",
    "           \"monthly_price\",\n",
    "           \"square_feet\",\n",
    "            \"host_verifications\", \n",
    "        \"street\", \n",
    "        \"neighbourhood\", \n",
    "        \"neighbourhood_cleansed\", \n",
    "        \"city\", \n",
    "        \"state\", \n",
    "        \"market\", \n",
    "        \"smart_location\",\n",
    "        \"country_code\",\n",
    "        \"country\",\n",
    "        \"is_location_exact\",\n",
    "        \"amenities\",\n",
    "        \"jurisdiction_names\",\n",
    "        \"first_review\",\n",
    "        \"last_review\",\n",
    "        \"calendar_last_scraped\",\n",
    "        \"weekly_price\",\n",
    "            \"notes\",\n",
    "                  \"neighborhood_overview\",\n",
    "         \"name\",\n",
    "                  \"description\",\n",
    "                  \"listing_url\" ,\n",
    "\"host_id\",\n",
    "\"host_url\",\n",
    "                 \"scrape_id\",\n",
    "                 \"space\",\n",
    "                 \"picture_url\",\n",
    "                 \"last_scraped\",\n",
    "                 \"host_name\",\n",
    "                 \"medium_url\",\n",
    "                 \"summary\",\n",
    "                 \"xl_picture_url\",\n",
    "                 \"transit\",\n",
    "                 \"thumbnail_url\",\n",
    "                 \"host_neighbourhood\",\n",
    "                 \"zipcode\",\n",
    "                 \"calendar_updated\",\n",
    "                 \"license\",\"id\"], axis=1)"
   ]
  },
  {
   "cell_type": "markdown",
   "metadata": {
    "colab_type": "text",
    "id": "GjNbwYRfm9Mv"
   },
   "source": [
    "9 Reste-t-il des valeurs manquantes? Certaines peuvent elles être traîtées sans avoir recours à l'interpolation ? Les variables sont elles toutes dans un format adapté ? Si non appliquez des transformations adaptées."
   ]
  },
  {
   "cell_type": "code",
   "execution_count": null,
   "metadata": {
    "colab": {},
    "colab_type": "code",
    "executionInfo": {
     "elapsed": 2852,
     "status": "aborted",
     "timestamp": 1594722876486,
     "user": {
      "displayName": "Delphine JEAN",
      "photoUrl": "https://lh3.googleusercontent.com/a-/AOh14Gi7vwh0akPj3byfv1uwDYVbK-h4uGhi3ypDXY7vJQ=s64",
      "userId": "02725192116418015142"
     },
     "user_tz": -120
    },
    "id": "oD-kJB3yObA8"
   },
   "outputs": [],
   "source": [
    "X_clean.isnull().sum().sort_values()"
   ]
  },
  {
   "cell_type": "code",
   "execution_count": null,
   "metadata": {
    "colab": {},
    "colab_type": "code",
    "executionInfo": {
     "elapsed": 2847,
     "status": "aborted",
     "timestamp": 1594722876488,
     "user": {
      "displayName": "Delphine JEAN",
      "photoUrl": "https://lh3.googleusercontent.com/a-/AOh14Gi7vwh0akPj3byfv1uwDYVbK-h4uGhi3ypDXY7vJQ=s64",
      "userId": "02725192116418015142"
     },
     "user_tz": -120
    },
    "id": "CwlYqoHQPKAD"
   },
   "outputs": [],
   "source": [
    "# Pour la suite, nous remplirons les valeurs NaN de la manière la plus simple possible \n",
    "X_clean.cleaning_fee = X_clean.cleaning_fee.apply(lambda x: float(x[1:])/100 if type(x) == str else x)\n",
    "X_clean.cleaning_fee = X_clean.cleaning_fee.fillna(0)"
   ]
  },
  {
   "cell_type": "code",
   "execution_count": null,
   "metadata": {
    "colab": {},
    "colab_type": "code",
    "executionInfo": {
     "elapsed": 2843,
     "status": "aborted",
     "timestamp": 1594722876489,
     "user": {
      "displayName": "Delphine JEAN",
      "photoUrl": "https://lh3.googleusercontent.com/a-/AOh14Gi7vwh0akPj3byfv1uwDYVbK-h4uGhi3ypDXY7vJQ=s64",
      "userId": "02725192116418015142"
     },
     "user_tz": -120
    },
    "id": "_nQ834SlabHz"
   },
   "outputs": [],
   "source": [
    "# Nous devons enlever le caractère $ de chacun des prix pour rendre les variables numériques\n",
    "X_clean[\"host_response_rate_clean\"] = X_clean.host_response_rate.apply(lambda x: float(x[:-1])/100 if type(x) == str else x)\n",
    "X_clean = X_clean.drop(\"host_response_rate\", axis =1)\n"
   ]
  },
  {
   "cell_type": "code",
   "execution_count": null,
   "metadata": {
    "colab": {},
    "colab_type": "code",
    "executionInfo": {
     "elapsed": 2839,
     "status": "aborted",
     "timestamp": 1594722876490,
     "user": {
      "displayName": "Delphine JEAN",
      "photoUrl": "https://lh3.googleusercontent.com/a-/AOh14Gi7vwh0akPj3byfv1uwDYVbK-h4uGhi3ypDXY7vJQ=s64",
      "userId": "02725192116418015142"
     },
     "user_tz": -120
    },
    "id": "mJReu8eLawD2"
   },
   "outputs": [],
   "source": [
    "X_clean[\"host_acceptance_rate_clean\"] = X_clean.host_acceptance_rate.apply(lambda x: int(x[:-1])/100 if type(x) == str else x)\n",
    "X_clean = X_clean.drop(\"host_acceptance_rate\", axis = 1)"
   ]
  },
  {
   "cell_type": "code",
   "execution_count": null,
   "metadata": {
    "colab": {},
    "colab_type": "code",
    "executionInfo": {
     "elapsed": 2832,
     "status": "aborted",
     "timestamp": 1594722876491,
     "user": {
      "displayName": "Delphine JEAN",
      "photoUrl": "https://lh3.googleusercontent.com/a-/AOh14Gi7vwh0akPj3byfv1uwDYVbK-h4uGhi3ypDXY7vJQ=s64",
      "userId": "02725192116418015142"
     },
     "user_tz": -120
    },
    "id": "8qxjs3ZsYfMZ"
   },
   "outputs": [],
   "source": [
    "X_clean.host_has_profile_pic = X_clean.host_has_profile_pic.fillna(\"f\")\n",
    "X_clean.host_identity_verified = X_clean.host_identity_verified.fillna(\"f\")\n",
    "\n",
    "X_clean.host_response_time = X_clean.host_response_time.fillna(\"Unknown\")\n",
    "X_clean.host_is_superhost = X_clean.host_is_superhost.fillna(\"Unknown\")\n",
    "X_clean.property_type = X_clean.property_type.fillna(\"unknown\")\n",
    "\n",
    "X_clean.extra_people = X_clean.extra_people.apply(lambda x: float(x[1:]))\n",
    "X_clean.security_deposit = X_clean.security_deposit.apply(lambda x: float(str(x).replace(\",\",\"\").replace(\"nan\",\"$0\")[1:]))\n",
    "X_clean.security_deposit = X_clean.security_deposit.fillna(0)\n"
   ]
  },
  {
   "cell_type": "markdown",
   "metadata": {
    "colab_type": "text",
    "id": "sZ8btETvU_Nr"
   },
   "source": [
    "10. Vérifiez que toutes les variables numériques le sont effectivement bien. (N'oubliez pas de regarder y)"
   ]
  },
  {
   "cell_type": "code",
   "execution_count": null,
   "metadata": {
    "colab": {},
    "colab_type": "code",
    "executionInfo": {
     "elapsed": 2824,
     "status": "aborted",
     "timestamp": 1594722876492,
     "user": {
      "displayName": "Delphine JEAN",
      "photoUrl": "https://lh3.googleusercontent.com/a-/AOh14Gi7vwh0akPj3byfv1uwDYVbK-h4uGhi3ypDXY7vJQ=s64",
      "userId": "02725192116418015142"
     },
     "user_tz": -120
    },
    "id": "NxZbnDngU-9P"
   },
   "outputs": [],
   "source": [
    "y = y.apply(lambda x: float(x[1:]) if type(x)==str else x)"
   ]
  },
  {
   "cell_type": "markdown",
   "metadata": {
    "colab_type": "text",
    "id": "30Tadd-0VHyI"
   },
   "source": [
    "11. Séparez les variables en deux groupes, les variables numériques d'un côté et les qualitatives de l'autre."
   ]
  },
  {
   "cell_type": "code",
   "execution_count": null,
   "metadata": {
    "colab": {},
    "colab_type": "code",
    "executionInfo": {
     "elapsed": 2813,
     "status": "aborted",
     "timestamp": 1594722876493,
     "user": {
      "displayName": "Delphine JEAN",
      "photoUrl": "https://lh3.googleusercontent.com/a-/AOh14Gi7vwh0akPj3byfv1uwDYVbK-h4uGhi3ypDXY7vJQ=s64",
      "userId": "02725192116418015142"
     },
     "user_tz": -120
    },
    "id": "FceM3INEmcQN"
   },
   "outputs": [],
   "source": [
    "num_col = X_clean.select_dtypes([np.number]).columns\n",
    "cat_col = X_clean.select_dtypes(\"object\").columns\n",
    " \n",
    "X_num = X_clean[num_col]\n",
    "X_cat =  pd.get_dummies(X_clean[cat_col],drop_first=True)"
   ]
  },
  {
   "cell_type": "markdown",
   "metadata": {
    "colab_type": "text",
    "id": "rP8SGhm7VTAn"
   },
   "source": [
    "12. Faites maintenant un ```train_test_split```"
   ]
  },
  {
   "cell_type": "code",
   "execution_count": null,
   "metadata": {
    "colab": {},
    "colab_type": "code",
    "executionInfo": {
     "elapsed": 2807,
     "status": "aborted",
     "timestamp": 1594722876495,
     "user": {
      "displayName": "Delphine JEAN",
      "photoUrl": "https://lh3.googleusercontent.com/a-/AOh14Gi7vwh0akPj3byfv1uwDYVbK-h4uGhi3ypDXY7vJQ=s64",
      "userId": "02725192116418015142"
     },
     "user_tz": -120
    },
    "id": "aQ98aQy9VRtE"
   },
   "outputs": [],
   "source": [
    "from sklearn.model_selection import train_test_split\n",
    "\n",
    "\n",
    "\n",
    "X_train_num, X_test_num, X_train_cat, X_test_cat, y_train, y_test = train_test_split(X_num, X_cat, y, test_size =0.2)"
   ]
  },
  {
   "cell_type": "code",
   "execution_count": null,
   "metadata": {
    "colab": {},
    "colab_type": "code",
    "executionInfo": {
     "elapsed": 2787,
     "status": "aborted",
     "timestamp": 1594722876496,
     "user": {
      "displayName": "Delphine JEAN",
      "photoUrl": "https://lh3.googleusercontent.com/a-/AOh14Gi7vwh0akPj3byfv1uwDYVbK-h4uGhi3ypDXY7vJQ=s64",
      "userId": "02725192116418015142"
     },
     "user_tz": -120
    },
    "id": "h0F3qg31wzqH"
   },
   "outputs": [],
   "source": [
    "X_train_cat.shape"
   ]
  },
  {
   "cell_type": "markdown",
   "metadata": {
    "colab_type": "text",
    "id": "XYrAOdySV2Gv"
   },
   "source": [
    "13. Normalisez ```X_train_num``` & ```X_test_num``` et rassemblez les deux groupes de variables"
   ]
  },
  {
   "cell_type": "code",
   "execution_count": null,
   "metadata": {
    "colab": {},
    "colab_type": "code",
    "executionInfo": {
     "elapsed": 2762,
     "status": "aborted",
     "timestamp": 1594722876497,
     "user": {
      "displayName": "Delphine JEAN",
      "photoUrl": "https://lh3.googleusercontent.com/a-/AOh14Gi7vwh0akPj3byfv1uwDYVbK-h4uGhi3ypDXY7vJQ=s64",
      "userId": "02725192116418015142"
     },
     "user_tz": -120
    },
    "id": "6ROdtj0AV08t"
   },
   "outputs": [],
   "source": [
    "from sklearn.preprocessing import StandardScaler \n",
    "sc_x = StandardScaler()\n",
    "\n",
    "\n",
    "X_train_num_norm = pd.DataFrame(sc_x.fit_transform(X_train_num),columns=X_train_num.columns, index = X_train_num.index)\n",
    "X_test_num_norm = pd.DataFrame(sc_x.transform(X_test_num),columns=X_test_num.columns, index = X_test_num.index)\n",
    "\n",
    "X_train = pd.merge(X_train_num_norm, X_train_cat,left_index=True, right_index=True)\n",
    "X_test = pd.merge(X_test_num_norm, X_test_cat,left_index=True, right_index=True)\n",
    "\n"
   ]
  },
  {
   "cell_type": "markdown",
   "metadata": {
    "colab_type": "text",
    "id": "u4Og14sXPGTR"
   },
   "source": [
    "14. Gérez les valeurs NaN. Utilisez les stratégies que vous préférez "
   ]
  },
  {
   "cell_type": "code",
   "execution_count": null,
   "metadata": {
    "colab": {},
    "colab_type": "code",
    "executionInfo": {
     "elapsed": 2745,
     "status": "aborted",
     "timestamp": 1594722876498,
     "user": {
      "displayName": "Delphine JEAN",
      "photoUrl": "https://lh3.googleusercontent.com/a-/AOh14Gi7vwh0akPj3byfv1uwDYVbK-h4uGhi3ypDXY7vJQ=s64",
      "userId": "02725192116418015142"
     },
     "user_tz": -120
    },
    "id": "I2LE_EcdkN6L"
   },
   "outputs": [],
   "source": [
    "!pip install missingpy\n",
    "from missingpy import KNNImputer\n",
    "imputer = KNNImputer()\n",
    "\n",
    "X_train = pd.DataFrame(imputer.fit_transform(X_train), columns=X_train.columns)\n",
    "X_test = pd.DataFrame(imputer.transform(X_test), columns=X_test.columns)\n"
   ]
  },
  {
   "cell_type": "markdown",
   "metadata": {
    "colab_type": "text",
    "id": "MpiIAfd3WKFe"
   },
   "source": [
    "15. Entrainez d'abord un modèle d'Adaboost standard et regardez votre score \n"
   ]
  },
  {
   "cell_type": "code",
   "execution_count": null,
   "metadata": {
    "colab": {},
    "colab_type": "code",
    "executionInfo": {
     "elapsed": 2731,
     "status": "aborted",
     "timestamp": 1594722876499,
     "user": {
      "displayName": "Delphine JEAN",
      "photoUrl": "https://lh3.googleusercontent.com/a-/AOh14Gi7vwh0akPj3byfv1uwDYVbK-h4uGhi3ypDXY7vJQ=s64",
      "userId": "02725192116418015142"
     },
     "user_tz": -120
    },
    "id": "KXuHsNbzWHxl"
   },
   "outputs": [],
   "source": [
    "\n",
    "from sklearn.ensemble import AdaBoostRegressor \n",
    "regressor_ada = AdaBoostRegressor()\n",
    "regressor_ada.fit(X_train, y_train)\n",
    "regressor_ada.score(X_test, y_test)\n",
    "\n",
    "#np.sqrt(np.mean((regressor_ada.predict(X_test) - y_test.values)**2))"
   ]
  },
  {
   "cell_type": "code",
   "execution_count": null,
   "metadata": {
    "colab": {},
    "colab_type": "code",
    "executionInfo": {
     "elapsed": 2725,
     "status": "aborted",
     "timestamp": 1594722876500,
     "user": {
      "displayName": "Delphine JEAN",
      "photoUrl": "https://lh3.googleusercontent.com/a-/AOh14Gi7vwh0akPj3byfv1uwDYVbK-h4uGhi3ypDXY7vJQ=s64",
      "userId": "02725192116418015142"
     },
     "user_tz": -120
    },
    "id": "slO3HAPcwNk_"
   },
   "outputs": [],
   "source": [
    "AdaBoostRegressor?"
   ]
  },
  {
   "cell_type": "code",
   "execution_count": null,
   "metadata": {
    "colab": {},
    "colab_type": "code",
    "executionInfo": {
     "elapsed": 2713,
     "status": "aborted",
     "timestamp": 1594722876501,
     "user": {
      "displayName": "Delphine JEAN",
      "photoUrl": "https://lh3.googleusercontent.com/a-/AOh14Gi7vwh0akPj3byfv1uwDYVbK-h4uGhi3ypDXY7vJQ=s64",
      "userId": "02725192116418015142"
     },
     "user_tz": -120
    },
    "id": "lHb-7kNLuus7"
   },
   "outputs": [],
   "source": [
    "np.mean(y_test)"
   ]
  },
  {
   "cell_type": "markdown",
   "metadata": {
    "colab_type": "text",
    "id": "lfuWl-O2Wr0w"
   },
   "source": [
    "16. Entrainez ensuite un modèle XGBoost et regardez votre score "
   ]
  },
  {
   "cell_type": "code",
   "execution_count": null,
   "metadata": {
    "colab": {},
    "colab_type": "code",
    "executionInfo": {
     "elapsed": 2700,
     "status": "aborted",
     "timestamp": 1594722876502,
     "user": {
      "displayName": "Delphine JEAN",
      "photoUrl": "https://lh3.googleusercontent.com/a-/AOh14Gi7vwh0akPj3byfv1uwDYVbK-h4uGhi3ypDXY7vJQ=s64",
      "userId": "02725192116418015142"
     },
     "user_tz": -120
    },
    "id": "FJKss7fQWp5k"
   },
   "outputs": [],
   "source": [
    "!pip install xgboost\n",
    "from xgboost import XGBRegressor\n",
    "regressor_xgb = XGBRegressor()\n",
    "regressor_xgb.fit(X_train, y_train)\n",
    "regressor_xgb.score(X_test, y_test)"
   ]
  },
  {
   "cell_type": "markdown",
   "metadata": {
    "colab_type": "text",
    "id": "kIukfdh1XTtf"
   },
   "source": [
    "17. Par défaut, Adaboost prend des decision trees comme modèle a booster. Tentez de mettre une regression linéaire "
   ]
  },
  {
   "cell_type": "code",
   "execution_count": null,
   "metadata": {
    "colab": {},
    "colab_type": "code",
    "executionInfo": {
     "elapsed": 2689,
     "status": "aborted",
     "timestamp": 1594722876504,
     "user": {
      "displayName": "Delphine JEAN",
      "photoUrl": "https://lh3.googleusercontent.com/a-/AOh14Gi7vwh0akPj3byfv1uwDYVbK-h4uGhi3ypDXY7vJQ=s64",
      "userId": "02725192116418015142"
     },
     "user_tz": -120
    },
    "id": "VPujqr3RW1cb"
   },
   "outputs": [],
   "source": [
    "from sklearn.linear_model import LinearRegression\n",
    "lin_reg = LinearRegression()\n",
    "regressor_ada = AdaBoostRegressor(lin_reg)\n",
    "regressor_ada.fit(X_train, y_train)\n",
    "regressor_ada.score(X_test, y_test)"
   ]
  },
  {
   "cell_type": "code",
   "execution_count": null,
   "metadata": {
    "colab": {},
    "colab_type": "code",
    "executionInfo": {
     "elapsed": 2675,
     "status": "aborted",
     "timestamp": 1594722876505,
     "user": {
      "displayName": "Delphine JEAN",
      "photoUrl": "https://lh3.googleusercontent.com/a-/AOh14Gi7vwh0akPj3byfv1uwDYVbK-h4uGhi3ypDXY7vJQ=s64",
      "userId": "02725192116418015142"
     },
     "user_tz": -120
    },
    "id": "IzU_mMH4Kx_g"
   },
   "outputs": [],
   "source": [
    "regressor_ada.score(X_train, y_train)\n"
   ]
  },
  {
   "cell_type": "markdown",
   "metadata": {
    "colab_type": "text",
    "id": "_Sfr_AsxY8Af"
   },
   "source": [
    "18. La régression linéaire n'était pas la meilleure idée mais peut être qu'on peut faire une grid_search sur le ```learning rate``` & ```n_estimators```pour rattraper le score de XGBoost ?"
   ]
  },
  {
   "cell_type": "code",
   "execution_count": null,
   "metadata": {
    "colab": {},
    "colab_type": "code",
    "executionInfo": {
     "elapsed": 2663,
     "status": "aborted",
     "timestamp": 1594722876506,
     "user": {
      "displayName": "Delphine JEAN",
      "photoUrl": "https://lh3.googleusercontent.com/a-/AOh14Gi7vwh0akPj3byfv1uwDYVbK-h4uGhi3ypDXY7vJQ=s64",
      "userId": "02725192116418015142"
     },
     "user_tz": -120
    },
    "id": "oRM258DeXqsq"
   },
   "outputs": [],
   "source": [
    "from sklearn.model_selection import GridSearchCV\n",
    "regressor_ada = AdaBoostRegressor()\n",
    "parameters = {'n_estimators':[40,50,70, 100, 150, 200],\n",
    "              \"learning_rate\":[1.0, 0.9, 0.8, 0.7, 0.6, 0.5]}\n",
    "\n",
    "regressor_ada_best = GridSearchCV(regressor_ada, parameters)\n",
    "regressor_ada_best.fit(X_train, y_train)"
   ]
  },
  {
   "cell_type": "code",
   "execution_count": null,
   "metadata": {
    "colab": {},
    "colab_type": "code",
    "executionInfo": {
     "elapsed": 2651,
     "status": "aborted",
     "timestamp": 1594722876509,
     "user": {
      "displayName": "Delphine JEAN",
      "photoUrl": "https://lh3.googleusercontent.com/a-/AOh14Gi7vwh0akPj3byfv1uwDYVbK-h4uGhi3ypDXY7vJQ=s64",
      "userId": "02725192116418015142"
     },
     "user_tz": -120
    },
    "id": "WarZm6v3aJJU"
   },
   "outputs": [],
   "source": [
    "regressor_ada_best.best_params_"
   ]
  },
  {
   "cell_type": "code",
   "execution_count": null,
   "metadata": {
    "colab": {},
    "colab_type": "code",
    "executionInfo": {
     "elapsed": 2638,
     "status": "aborted",
     "timestamp": 1594722876510,
     "user": {
      "displayName": "Delphine JEAN",
      "photoUrl": "https://lh3.googleusercontent.com/a-/AOh14Gi7vwh0akPj3byfv1uwDYVbK-h4uGhi3ypDXY7vJQ=s64",
      "userId": "02725192116418015142"
     },
     "user_tz": -120
    },
    "id": "FoF7NH52eZAZ"
   },
   "outputs": [],
   "source": [
    "regressor_ada_best.best_estimator_.score(X_test,y_test)"
   ]
  },
  {
   "cell_type": "code",
   "execution_count": null,
   "metadata": {
    "colab": {},
    "colab_type": "code",
    "executionInfo": {
     "elapsed": 2625,
     "status": "aborted",
     "timestamp": 1594722876511,
     "user": {
      "displayName": "Delphine JEAN",
      "photoUrl": "https://lh3.googleusercontent.com/a-/AOh14Gi7vwh0akPj3byfv1uwDYVbK-h4uGhi3ypDXY7vJQ=s64",
      "userId": "02725192116418015142"
     },
     "user_tz": -120
    },
    "id": "tzb9Vr8G2lhk"
   },
   "outputs": [],
   "source": [
    "from sklearn.model_selection import GridSearchCV\n",
    "regressor_ada = AdaBoostRegressor(n_estimators=40,learning_rate=0.5)\n",
    "regressor_ada.fit(X_train, y_train)"
   ]
  },
  {
   "cell_type": "code",
   "execution_count": null,
   "metadata": {
    "colab": {},
    "colab_type": "code",
    "executionInfo": {
     "elapsed": 2613,
     "status": "aborted",
     "timestamp": 1594722876512,
     "user": {
      "displayName": "Delphine JEAN",
      "photoUrl": "https://lh3.googleusercontent.com/a-/AOh14Gi7vwh0akPj3byfv1uwDYVbK-h4uGhi3ypDXY7vJQ=s64",
      "userId": "02725192116418015142"
     },
     "user_tz": -120
    },
    "id": "ITS6cbB82lhm"
   },
   "outputs": [],
   "source": [
    "regressor_ada.score(X_test,y_test)"
   ]
  },
  {
   "cell_type": "markdown",
   "metadata": {
    "colab_type": "text",
    "id": "gcyAjIEBfNR3"
   },
   "source": [
    "---> Même avec beaucoup plus d'estimateurs, nous n'arrivons pas au score de XGBoost"
   ]
  },
  {
   "cell_type": "code",
   "execution_count": null,
   "metadata": {
    "colab": {},
    "colab_type": "code",
    "executionInfo": {
     "elapsed": 2600,
     "status": "aborted",
     "timestamp": 1594722876513,
     "user": {
      "displayName": "Delphine JEAN",
      "photoUrl": "https://lh3.googleusercontent.com/a-/AOh14Gi7vwh0akPj3byfv1uwDYVbK-h4uGhi3ypDXY7vJQ=s64",
      "userId": "02725192116418015142"
     },
     "user_tz": -120
    },
    "id": "DxcJoufXfISn"
   },
   "outputs": [],
   "source": [
    "from sklearn.tree import DecisionTreeRegressor\n",
    "tree_regressor = DecisionTreeRegressor()\n",
    "tree_regressor.fit(X_train, y_train)\n"
   ]
  },
  {
   "cell_type": "code",
   "execution_count": null,
   "metadata": {
    "colab": {},
    "colab_type": "code",
    "executionInfo": {
     "elapsed": 2586,
     "status": "aborted",
     "timestamp": 1594722876514,
     "user": {
      "displayName": "Delphine JEAN",
      "photoUrl": "https://lh3.googleusercontent.com/a-/AOh14Gi7vwh0akPj3byfv1uwDYVbK-h4uGhi3ypDXY7vJQ=s64",
      "userId": "02725192116418015142"
     },
     "user_tz": -120
    },
    "id": "z7x_tOZz2lh0"
   },
   "outputs": [],
   "source": [
    "tree_regressor.score(X_test, y_test)"
   ]
  },
  {
   "cell_type": "code",
   "execution_count": null,
   "metadata": {
    "colab": {},
    "colab_type": "code",
    "executionInfo": {
     "elapsed": 2574,
     "status": "aborted",
     "timestamp": 1594722876515,
     "user": {
      "displayName": "Delphine JEAN",
      "photoUrl": "https://lh3.googleusercontent.com/a-/AOh14Gi7vwh0akPj3byfv1uwDYVbK-h4uGhi3ypDXY7vJQ=s64",
      "userId": "02725192116418015142"
     },
     "user_tz": -120
    },
    "id": "TqCzE35X2lh2"
   },
   "outputs": [],
   "source": [
    "from sklearn.ensemble import BaggingRegressor\n",
    "bagging_regressor = BaggingRegressor(n_estimators=40)\n",
    "bagging_regressor.fit(X_train, y_train)"
   ]
  },
  {
   "cell_type": "code",
   "execution_count": null,
   "metadata": {
    "colab": {},
    "colab_type": "code",
    "executionInfo": {
     "elapsed": 2563,
     "status": "aborted",
     "timestamp": 1594722876516,
     "user": {
      "displayName": "Delphine JEAN",
      "photoUrl": "https://lh3.googleusercontent.com/a-/AOh14Gi7vwh0akPj3byfv1uwDYVbK-h4uGhi3ypDXY7vJQ=s64",
      "userId": "02725192116418015142"
     },
     "user_tz": -120
    },
    "id": "AJaleG0-2lh6"
   },
   "outputs": [],
   "source": [
    "bagging_regressor.score(X_test,y_test)"
   ]
  },
  {
   "cell_type": "code",
   "execution_count": null,
   "metadata": {
    "colab": {},
    "colab_type": "code",
    "executionInfo": {
     "elapsed": 2552,
     "status": "aborted",
     "timestamp": 1594722876518,
     "user": {
      "displayName": "Delphine JEAN",
      "photoUrl": "https://lh3.googleusercontent.com/a-/AOh14Gi7vwh0akPj3byfv1uwDYVbK-h4uGhi3ypDXY7vJQ=s64",
      "userId": "02725192116418015142"
     },
     "user_tz": -120
    },
    "id": "ZJ5iFiib2liD"
   },
   "outputs": [],
   "source": [
    "from sklearn.ensemble import GradientBoostingRegressor\n",
    "gbr = GradientBoostingRegressor(learning_rate=0.5,n_estimators=40)\n",
    "gbr.fit(X_train, y_train)"
   ]
  },
  {
   "cell_type": "code",
   "execution_count": null,
   "metadata": {
    "colab": {},
    "colab_type": "code",
    "executionInfo": {
     "elapsed": 2540,
     "status": "aborted",
     "timestamp": 1594722876519,
     "user": {
      "displayName": "Delphine JEAN",
      "photoUrl": "https://lh3.googleusercontent.com/a-/AOh14Gi7vwh0akPj3byfv1uwDYVbK-h4uGhi3ypDXY7vJQ=s64",
      "userId": "02725192116418015142"
     },
     "user_tz": -120
    },
    "id": "gDgBDLnH2liH"
   },
   "outputs": [],
   "source": [
    "gbr.score(X_test,y_test)"
   ]
  },
  {
   "cell_type": "code",
   "execution_count": null,
   "metadata": {
    "colab": {},
    "colab_type": "code",
    "executionInfo": {
     "elapsed": 2527,
     "status": "aborted",
     "timestamp": 1594722876521,
     "user": {
      "displayName": "Delphine JEAN",
      "photoUrl": "https://lh3.googleusercontent.com/a-/AOh14Gi7vwh0akPj3byfv1uwDYVbK-h4uGhi3ypDXY7vJQ=s64",
      "userId": "02725192116418015142"
     },
     "user_tz": -120
    },
    "id": "jdy_PGtW2liK"
   },
   "outputs": [],
   "source": [
    "from sklearn.externals import joblib\n",
    "joblib.dump(gbr, 'test.joblib') "
   ]
  },
  {
   "cell_type": "code",
   "execution_count": null,
   "metadata": {
    "colab": {},
    "colab_type": "code",
    "executionInfo": {
     "elapsed": 2515,
     "status": "aborted",
     "timestamp": 1594722876522,
     "user": {
      "displayName": "Delphine JEAN",
      "photoUrl": "https://lh3.googleusercontent.com/a-/AOh14Gi7vwh0akPj3byfv1uwDYVbK-h4uGhi3ypDXY7vJQ=s64",
      "userId": "02725192116418015142"
     },
     "user_tz": -120
    },
    "id": "u552IupM2liO"
   },
   "outputs": [],
   "source": [
    "loaded_model = joblib.load('test.joblib')\n",
    "result = loaded_model.score(X_test,y_test)\n",
    "print(result)"
   ]
  },
  {
   "cell_type": "code",
   "execution_count": null,
   "metadata": {
    "colab": {},
    "colab_type": "code",
    "executionInfo": {
     "elapsed": 2511,
     "status": "aborted",
     "timestamp": 1594722876524,
     "user": {
      "displayName": "Delphine JEAN",
      "photoUrl": "https://lh3.googleusercontent.com/a-/AOh14Gi7vwh0akPj3byfv1uwDYVbK-h4uGhi3ypDXY7vJQ=s64",
      "userId": "02725192116418015142"
     },
     "user_tz": -120
    },
    "id": "xSmdlJea2liS"
   },
   "outputs": [],
   "source": []
  }
 ],
 "metadata": {
  "colab": {
   "collapsed_sections": [],
   "name": "Copie de Adaboost ou XGBoost - Exercice SOLUTION.ipynb",
   "provenance": [
    {
     "file_id": "1PZOZMoVlKYcrJIHhMNAVYDt1izdQS1j3",
     "timestamp": 1593871654948
    }
   ]
  },
  "kernelspec": {
   "display_name": "Python 3",
   "language": "python",
   "name": "python3"
  },
  "language_info": {
   "codemirror_mode": {
    "name": "ipython",
    "version": 3
   },
   "file_extension": ".py",
   "mimetype": "text/x-python",
   "name": "python",
   "nbconvert_exporter": "python",
   "pygments_lexer": "ipython3",
   "version": "3.7.6"
  }
 },
 "nbformat": 4,
 "nbformat_minor": 1
}
