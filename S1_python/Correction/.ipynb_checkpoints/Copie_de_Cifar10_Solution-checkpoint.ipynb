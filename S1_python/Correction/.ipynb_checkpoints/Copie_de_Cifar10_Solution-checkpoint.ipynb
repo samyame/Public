{
 "cells": [
  {
   "cell_type": "markdown",
   "metadata": {
    "colab_type": "text",
    "id": "XkKA394VL3ia"
   },
   "source": [
    "# Cifar10\n",
    "\n",
    "Passons à autre chose que du Cats & Dogs. Nous allons essayer de créer un CNN qui va classer non pas 2 mais 10 labels d'images différents. Nous tirons les images du dataset nommé [Cifar10](http://www.cs.utoronto.ca/~kriz/cifar.html) "
   ]
  },
  {
   "cell_type": "markdown",
   "metadata": {
    "colab_type": "text",
    "id": "4FfjxcBKMHT2"
   },
   "source": [
    "* Importez :\n",
    "  * Tensorflow 2.0\n",
    "  * Numpy \n",
    "  * Matplotlib.pyplot "
   ]
  },
  {
   "cell_type": "code",
   "execution_count": null,
   "metadata": {
    "colab": {
     "base_uri": "https://localhost:8080/",
     "height": 666
    },
    "colab_type": "code",
    "executionInfo": {
     "elapsed": 5032,
     "status": "ok",
     "timestamp": 1598608048620,
     "user": {
      "displayName": "Sacha Duzelier",
      "photoUrl": "",
      "userId": "13358736834117062408"
     },
     "user_tz": -120
    },
    "id": "3W5YgmKFLzw0",
    "outputId": "9ed1c286-fbf3-467c-9b1c-e8582589c470"
   },
   "outputs": [
    {
     "name": "stdout",
     "output_type": "stream",
     "text": [
      "Requirement already up-to-date: tensorflow in /usr/local/lib/python3.6/dist-packages (2.3.0)\n",
      "Requirement already satisfied, skipping upgrade: grpcio>=1.8.6 in /usr/local/lib/python3.6/dist-packages (from tensorflow) (1.31.0)\n",
      "Requirement already satisfied, skipping upgrade: termcolor>=1.1.0 in /usr/local/lib/python3.6/dist-packages (from tensorflow) (1.1.0)\n",
      "Requirement already satisfied, skipping upgrade: protobuf>=3.9.2 in /usr/local/lib/python3.6/dist-packages (from tensorflow) (3.12.4)\n",
      "Requirement already satisfied, skipping upgrade: wrapt>=1.11.1 in /usr/local/lib/python3.6/dist-packages (from tensorflow) (1.12.1)\n",
      "Requirement already satisfied, skipping upgrade: astunparse==1.6.3 in /usr/local/lib/python3.6/dist-packages (from tensorflow) (1.6.3)\n",
      "Requirement already satisfied, skipping upgrade: absl-py>=0.7.0 in /usr/local/lib/python3.6/dist-packages (from tensorflow) (0.8.1)\n",
      "Requirement already satisfied, skipping upgrade: scipy==1.4.1 in /usr/local/lib/python3.6/dist-packages (from tensorflow) (1.4.1)\n",
      "Requirement already satisfied, skipping upgrade: tensorflow-estimator<2.4.0,>=2.3.0 in /usr/local/lib/python3.6/dist-packages (from tensorflow) (2.3.0)\n",
      "Requirement already satisfied, skipping upgrade: h5py<2.11.0,>=2.10.0 in /usr/local/lib/python3.6/dist-packages (from tensorflow) (2.10.0)\n",
      "Requirement already satisfied, skipping upgrade: numpy<1.19.0,>=1.16.0 in /usr/local/lib/python3.6/dist-packages (from tensorflow) (1.18.5)\n",
      "Requirement already satisfied, skipping upgrade: opt-einsum>=2.3.2 in /usr/local/lib/python3.6/dist-packages (from tensorflow) (3.3.0)\n",
      "Requirement already satisfied, skipping upgrade: gast==0.3.3 in /usr/local/lib/python3.6/dist-packages (from tensorflow) (0.3.3)\n",
      "Requirement already satisfied, skipping upgrade: tensorboard<3,>=2.3.0 in /usr/local/lib/python3.6/dist-packages (from tensorflow) (2.3.0)\n",
      "Requirement already satisfied, skipping upgrade: wheel>=0.26 in /usr/local/lib/python3.6/dist-packages (from tensorflow) (0.35.1)\n",
      "Requirement already satisfied, skipping upgrade: six>=1.12.0 in /usr/local/lib/python3.6/dist-packages (from tensorflow) (1.15.0)\n",
      "Requirement already satisfied, skipping upgrade: keras-preprocessing<1.2,>=1.1.1 in /usr/local/lib/python3.6/dist-packages (from tensorflow) (1.1.2)\n",
      "Requirement already satisfied, skipping upgrade: google-pasta>=0.1.8 in /usr/local/lib/python3.6/dist-packages (from tensorflow) (0.2.0)\n",
      "Requirement already satisfied, skipping upgrade: setuptools in /usr/local/lib/python3.6/dist-packages (from protobuf>=3.9.2->tensorflow) (49.6.0)\n",
      "Requirement already satisfied, skipping upgrade: google-auth<2,>=1.6.3 in /usr/local/lib/python3.6/dist-packages (from tensorboard<3,>=2.3.0->tensorflow) (1.17.2)\n",
      "Requirement already satisfied, skipping upgrade: tensorboard-plugin-wit>=1.6.0 in /usr/local/lib/python3.6/dist-packages (from tensorboard<3,>=2.3.0->tensorflow) (1.7.0)\n",
      "Requirement already satisfied, skipping upgrade: requests<3,>=2.21.0 in /usr/local/lib/python3.6/dist-packages (from tensorboard<3,>=2.3.0->tensorflow) (2.23.0)\n",
      "Requirement already satisfied, skipping upgrade: werkzeug>=0.11.15 in /usr/local/lib/python3.6/dist-packages (from tensorboard<3,>=2.3.0->tensorflow) (1.0.1)\n",
      "Requirement already satisfied, skipping upgrade: markdown>=2.6.8 in /usr/local/lib/python3.6/dist-packages (from tensorboard<3,>=2.3.0->tensorflow) (3.2.2)\n",
      "Requirement already satisfied, skipping upgrade: google-auth-oauthlib<0.5,>=0.4.1 in /usr/local/lib/python3.6/dist-packages (from tensorboard<3,>=2.3.0->tensorflow) (0.4.1)\n",
      "Requirement already satisfied, skipping upgrade: pyasn1-modules>=0.2.1 in /usr/local/lib/python3.6/dist-packages (from google-auth<2,>=1.6.3->tensorboard<3,>=2.3.0->tensorflow) (0.2.8)\n",
      "Requirement already satisfied, skipping upgrade: rsa<5,>=3.1.4; python_version >= \"3\" in /usr/local/lib/python3.6/dist-packages (from google-auth<2,>=1.6.3->tensorboard<3,>=2.3.0->tensorflow) (4.6)\n",
      "Requirement already satisfied, skipping upgrade: cachetools<5.0,>=2.0.0 in /usr/local/lib/python3.6/dist-packages (from google-auth<2,>=1.6.3->tensorboard<3,>=2.3.0->tensorflow) (4.1.1)\n",
      "Requirement already satisfied, skipping upgrade: urllib3!=1.25.0,!=1.25.1,<1.26,>=1.21.1 in /usr/local/lib/python3.6/dist-packages (from requests<3,>=2.21.0->tensorboard<3,>=2.3.0->tensorflow) (1.24.3)\n",
      "Requirement already satisfied, skipping upgrade: certifi>=2017.4.17 in /usr/local/lib/python3.6/dist-packages (from requests<3,>=2.21.0->tensorboard<3,>=2.3.0->tensorflow) (2020.6.20)\n",
      "Requirement already satisfied, skipping upgrade: idna<3,>=2.5 in /usr/local/lib/python3.6/dist-packages (from requests<3,>=2.21.0->tensorboard<3,>=2.3.0->tensorflow) (2.10)\n",
      "Requirement already satisfied, skipping upgrade: chardet<4,>=3.0.2 in /usr/local/lib/python3.6/dist-packages (from requests<3,>=2.21.0->tensorboard<3,>=2.3.0->tensorflow) (3.0.4)\n",
      "Requirement already satisfied, skipping upgrade: importlib-metadata; python_version < \"3.8\" in /usr/local/lib/python3.6/dist-packages (from markdown>=2.6.8->tensorboard<3,>=2.3.0->tensorflow) (1.7.0)\n",
      "Requirement already satisfied, skipping upgrade: requests-oauthlib>=0.7.0 in /usr/local/lib/python3.6/dist-packages (from google-auth-oauthlib<0.5,>=0.4.1->tensorboard<3,>=2.3.0->tensorflow) (1.3.0)\n",
      "Requirement already satisfied, skipping upgrade: pyasn1<0.5.0,>=0.4.6 in /usr/local/lib/python3.6/dist-packages (from pyasn1-modules>=0.2.1->google-auth<2,>=1.6.3->tensorboard<3,>=2.3.0->tensorflow) (0.4.8)\n",
      "Requirement already satisfied, skipping upgrade: zipp>=0.5 in /usr/local/lib/python3.6/dist-packages (from importlib-metadata; python_version < \"3.8\"->markdown>=2.6.8->tensorboard<3,>=2.3.0->tensorflow) (3.1.0)\n",
      "Requirement already satisfied, skipping upgrade: oauthlib>=3.0.0 in /usr/local/lib/python3.6/dist-packages (from requests-oauthlib>=0.7.0->google-auth-oauthlib<0.5,>=0.4.1->tensorboard<3,>=2.3.0->tensorflow) (3.1.0)\n"
     ]
    }
   ],
   "source": [
    "!pip install --upgrade tensorflow"
   ]
  },
  {
   "cell_type": "code",
   "execution_count": 1,
   "metadata": {
    "colab": {
     "base_uri": "https://localhost:8080/",
     "height": 35
    },
    "colab_type": "code",
    "executionInfo": {
     "elapsed": 755,
     "status": "ok",
     "timestamp": 1598689526262,
     "user": {
      "displayName": "Sacha Duzelier",
      "photoUrl": "",
      "userId": "13358736834117062408"
     },
     "user_tz": -120
    },
    "id": "kY4hBHj2EpH-",
    "outputId": "e26db419-512d-439f-fdfe-42508577781f"
   },
   "outputs": [
    {
     "data": {
      "text/plain": [
       "'2.0.0'"
      ]
     },
     "execution_count": 1,
     "metadata": {},
     "output_type": "execute_result"
    }
   ],
   "source": [
    "import tensorflow as tf \n",
    "import numpy as np \n",
    "import matplotlib.pyplot as plt \n",
    "tf.__version__"
   ]
  },
  {
   "cell_type": "markdown",
   "metadata": {
    "colab_type": "text",
    "id": "0UURKRGaMc14"
   },
   "source": [
    "* En utilisant [`tf.keras.datasets`](https://www.tensorflow.org/api_docs/python/tf/keras/datasets) importez cifar10 et stockez les données dans `X_train, y_train, X_test, y_test`"
   ]
  },
  {
   "cell_type": "code",
   "execution_count": 2,
   "metadata": {
    "colab": {},
    "colab_type": "code",
    "executionInfo": {
     "elapsed": 2534,
     "status": "ok",
     "timestamp": 1598689530338,
     "user": {
      "displayName": "Sacha Duzelier",
      "photoUrl": "",
      "userId": "13358736834117062408"
     },
     "user_tz": -120
    },
    "id": "14q54PNTMZgm"
   },
   "outputs": [],
   "source": [
    "from tensorflow.keras.datasets import cifar10\n",
    "\n",
    "(X_train, y_train),(X_test, y_test) = cifar10.load_data()"
   ]
  },
  {
   "cell_type": "markdown",
   "metadata": {
    "colab_type": "text",
    "id": "zVN3LPgeM0hP"
   },
   "source": [
    "* Visualisez une image aléatoire de votre dataset "
   ]
  },
  {
   "cell_type": "code",
   "execution_count": 6,
   "metadata": {
    "colab": {
     "base_uri": "https://localhost:8080/",
     "height": 352
    },
    "colab_type": "code",
    "executionInfo": {
     "elapsed": 1378,
     "status": "ok",
     "timestamp": 1598689544563,
     "user": {
      "displayName": "Sacha Duzelier",
      "photoUrl": "",
      "userId": "13358736834117062408"
     },
     "user_tz": -120
    },
    "id": "4afIjIKpMw9u",
    "outputId": "4c8a929c-1129-4137-eb4d-e6c2a4705915"
   },
   "outputs": [
    {
     "data": {
      "text/plain": [
       "Text(0.5, 1.0, '[9]')"
      ]
     },
     "execution_count": 6,
     "metadata": {},
     "output_type": "execute_result"
    },
    {
     "data": {
      "image/png": "[encoded data removed]",
      "text/plain": [
       "<Figure size 432x288 with 1 Axes>"
      ]
     },
     "metadata": {
      "needs_background": "light"
     },
     "output_type": "display_data"
    }
   ],
   "source": [
    "# Visualisation d'une image aléatoire\n",
    "# On tire un nb aléatoire entre 0 et 100 et on prend l'image\n",
    "# à l'index correspondant\n",
    "random_image = np.random.randint(100) \n",
    "plt.imshow(X_train[random_image])\n",
    "plt.title(y_train[random_image])\n",
    "\n",
    "# Prendre X_train[random_image] équivaut à prendre X_train[random_image,:,:,:] (1 image) "
   ]
  },
  {
   "cell_type": "markdown",
   "metadata": {
    "colab_type": "text",
    "id": "CCFYjDTzM8Yh"
   },
   "source": [
    "* Visualisez une image aléatoire de chacun de vos labels dans votre dataset "
   ]
  },
  {
   "cell_type": "code",
   "execution_count": 24,
   "metadata": {
    "colab": {
     "base_uri": "https://localhost:8080/",
     "height": 244
    },
    "colab_type": "code",
    "executionInfo": {
     "elapsed": 2682,
     "status": "ok",
     "timestamp": 1598689551277,
     "user": {
      "displayName": "Sacha Duzelier",
      "photoUrl": "",
      "userId": "13358736834117062408"
     },
     "user_tz": -120
    },
    "id": "UZAakYz8M4Nn",
    "outputId": "1d60553b-4f3f-43fa-bf6c-1c18f5fc7afd"
   },
   "outputs": [
    {
     "name": "stdout",
     "output_type": "stream",
     "text": [
      "index for each image :[0 1 2 3 4 5 6 7 8 9]\n"
     ]
    },
    {
     "data": {
      "image/png": "[encoded data removed]",
      "text/plain": [
       "<Figure size 432x288 with 10 Axes>"
      ]
     },
     "metadata": {
      "needs_background": "light"
     },
     "output_type": "display_data"
    }
   ],
   "source": [
    "def visualize_random_img_for_each_target(X ,y, nrows, ncols):\n",
    "  \n",
    "  fig, axes = plt.subplots(nrows=nrows, ncols=ncols, sharex=True, sharey=True)\n",
    "  \n",
    "  random_image = np.random.randint(100)\n",
    "  \n",
    "  index = nrows + ncols\n",
    "  for row in range(nrows):\n",
    "    for col in range(ncols):\n",
    "      mask = y == nrows + ncols - index\n",
    "      mask = mask.squeeze()\n",
    "      axes[row,col].set(xlabel=y[mask][random_image])\n",
    "      axes[row, col].imshow(X[mask][random_image])\n",
    "      index -=1 \n",
    "\n",
    "\n",
    "  print(\"index for each image :{}\".format(np.unique(y)))\n",
    "\n",
    "visualize_random_img_for_each_target(X_train,y_train, 2, 5)"
   ]
  },
  {
   "cell_type": "code",
   "execution_count": 17,
   "metadata": {
    "colab": {},
    "colab_type": "code",
    "executionInfo": {
     "elapsed": 3327,
     "status": "ok",
     "timestamp": 1598689554170,
     "user": {
      "displayName": "Sacha Duzelier",
      "photoUrl": "",
      "userId": "13358736834117062408"
     },
     "user_tz": -120
    },
    "id": "ugyRxkqcMmka"
   },
   "outputs": [],
   "source": [
    "# On crée un Dataset à partir de nos données, \n",
    "# Encore une fois, on aurait pu laisser X_train et y_train tels quels\n",
    "# Et les fournir au modèle en appelant model.fit(X_train, y_train)\n",
    "# Néanmoins, passer par un Dataset va nous permettre (entre autres) \n",
    "# de faire de la data augmentation\n",
    "# Voir la doc pour + d'infos: https://www.tensorflow.org/api_docs/python/tf/data/Dataset\n",
    "\n",
    "# 1. On référence les données qui vont faire partie de nos datasets d'entrainement et de validation\n",
    "ds_train = tf.data.Dataset.from_tensor_slices((X_train, y_train))\n",
    "ds_valid = tf.data.Dataset.from_tensor_slices((X_test, y_test))\n",
    "\n",
    "# 2. On mélange les données puis on demande au dataset de nous retourner des batchs de 16 images\n",
    "# Cela signifie que notre modele fera 16 forward pass puis calculera le coût moyen sur les \n",
    "# 16 prédictions. Ensuite la descente de gradient sera effectuée à partir de ce coût moyen.\n",
    "# Prendre des batchs plus grands que 1 permet d'accélérer l'entraînement car au lieu de faire\n",
    "# 16 forward et 16 backward le modele ne fait que 16 forward et 1 backward\n",
    "ds_train = ds_train.shuffle(50000).batch(16)\n",
    "ds_valid = ds_valid.shuffle(50000).batch(16)"
   ]
  },
  {
   "cell_type": "code",
   "execution_count": 18,
   "metadata": {
    "colab": {
     "base_uri": "https://localhost:8080/",
     "height": 1000
    },
    "colab_type": "code",
    "executionInfo": {
     "elapsed": 4601,
     "status": "ok",
     "timestamp": 1598689558452,
     "user": {
      "displayName": "Sacha Duzelier",
      "photoUrl": "",
      "userId": "13358736834117062408"
     },
     "user_tz": -120
    },
    "id": "YEbr2M1MNklA",
    "outputId": "ac4ecc17-861b-4b61-a98c-08fc178d9bb2"
   },
   "outputs": [
    {
     "name": "stdout",
     "output_type": "stream",
     "text": [
      "(<tf.Tensor: shape=(16, 32, 32, 3), dtype=uint8, numpy=\n",
      "array([[[[255, 255, 255],\n",
      "         [249, 249, 247],\n",
      "         [247, 246, 244],\n",
      "         ...,\n",
      "         [250, 246, 246],\n",
      "         [249, 248, 246],\n",
      "         [251, 253, 250]],\n",
      "\n",
      "        [[253, 252, 251],\n",
      "         [219, 217, 213],\n",
      "         [200, 196, 189],\n",
      "         ...,\n",
      "         [203, 187, 189],\n",
      "         [219, 209, 209],\n",
      "         [244, 243, 242]],\n",
      "\n",
      "        [[252, 250, 249],\n",
      "         [186, 182, 175],\n",
      "         [147, 140, 129],\n",
      "         ...,\n",
      "         [101,  77,  79],\n",
      "         [163, 146, 148],\n",
      "         [239, 235, 235]],\n",
      "\n",
      "        ...,\n",
      "\n",
      "        [[255, 255, 255],\n",
      "         [255, 255, 255],\n",
      "         [255, 255, 255],\n",
      "         ...,\n",
      "         [255, 255, 255],\n",
      "         [255, 255, 255],\n",
      "         [255, 255, 255]],\n",
      "\n",
      "        [[255, 255, 255],\n",
      "         [255, 255, 255],\n",
      "         [255, 255, 255],\n",
      "         ...,\n",
      "         [255, 255, 255],\n",
      "         [255, 255, 255],\n",
      "         [255, 255, 255]],\n",
      "\n",
      "        [[255, 255, 255],\n",
      "         [255, 255, 255],\n",
      "         [255, 255, 255],\n",
      "         ...,\n",
      "         [255, 255, 255],\n",
      "         [255, 255, 255],\n",
      "         [255, 255, 255]]],\n",
      "\n",
      "\n",
      "       [[[162, 138,  95],\n",
      "         [161, 143,  96],\n",
      "         [188, 161, 121],\n",
      "         ...,\n",
      "         [139, 116,  59],\n",
      "         [137, 115,  62],\n",
      "         [145, 119,  70]],\n",
      "\n",
      "        [[183, 162, 121],\n",
      "         [173, 158, 115],\n",
      "         [197, 179, 142],\n",
      "         ...,\n",
      "         [131, 112,  48],\n",
      "         [132, 111,  60],\n",
      "         [156, 132,  78]],\n",
      "\n",
      "        [[166, 140,  93],\n",
      "         [159, 140,  91],\n",
      "         [162, 143,  98],\n",
      "         ...,\n",
      "         [139, 122,  54],\n",
      "         [149, 127,  75],\n",
      "         [162, 140,  82]],\n",
      "\n",
      "        ...,\n",
      "\n",
      "        [[129, 100,  58],\n",
      "         [130, 102,  62],\n",
      "         [133, 105,  66],\n",
      "         ...,\n",
      "         [137, 115,  60],\n",
      "         [137, 112,  63],\n",
      "         [133, 106,  62]],\n",
      "\n",
      "        [[132, 102,  61],\n",
      "         [139, 109,  70],\n",
      "         [138, 108,  71],\n",
      "         ...,\n",
      "         [137, 112,  62],\n",
      "         [132, 105,  60],\n",
      "         [132, 103,  61]],\n",
      "\n",
      "        [[136, 103,  62],\n",
      "         [142, 109,  70],\n",
      "         [139, 104,  67],\n",
      "         ...,\n",
      "         [137, 109,  65],\n",
      "         [133, 105,  65],\n",
      "         [135, 103,  64]]],\n",
      "\n",
      "\n",
      "       [[[109,  91,  89],\n",
      "         [107,  88,  86],\n",
      "         [105,  87,  87],\n",
      "         ...,\n",
      "         [101,  98, 104],\n",
      "         [105, 106, 110],\n",
      "         [110, 110, 114]],\n",
      "\n",
      "        [[ 84,  66,  64],\n",
      "         [ 83,  65,  63],\n",
      "         [ 83,  65,  65],\n",
      "         ...,\n",
      "         [111, 111, 115],\n",
      "         [106, 114, 116],\n",
      "         [108, 111, 114]],\n",
      "\n",
      "        [[100,  82,  80],\n",
      "         [102,  84,  82],\n",
      "         [103,  84,  84],\n",
      "         ...,\n",
      "         [ 87,  81,  88],\n",
      "         [ 88,  83,  89],\n",
      "         [ 80,  77,  82]],\n",
      "\n",
      "        ...,\n",
      "\n",
      "        [[ 76,  96, 126],\n",
      "         [ 79,  99, 129],\n",
      "         [ 84, 102, 134],\n",
      "         ...,\n",
      "         [ 90, 112, 141],\n",
      "         [ 99, 120, 147],\n",
      "         [101, 123, 149]],\n",
      "\n",
      "        [[ 73,  90, 120],\n",
      "         [ 73,  89, 119],\n",
      "         [ 75,  92, 123],\n",
      "         ...,\n",
      "         [ 94, 118, 150],\n",
      "         [ 95, 119, 149],\n",
      "         [ 96, 120, 150]],\n",
      "\n",
      "        [[ 76,  93, 126],\n",
      "         [ 75,  92, 125],\n",
      "         [ 78,  95, 128],\n",
      "         ...,\n",
      "         [ 98, 123, 154],\n",
      "         [ 94, 118, 153],\n",
      "         [ 91, 115, 149]]],\n",
      "\n",
      "\n",
      "       ...,\n",
      "\n",
      "\n",
      "       [[[ 39,  40,  34],\n",
      "         [ 38,  35,  31],\n",
      "         [ 47,  44,  40],\n",
      "         ...,\n",
      "         [ 68,  73,  61],\n",
      "         [ 71,  79,  66],\n",
      "         [ 70,  78,  68]],\n",
      "\n",
      "        [[ 34,  32,  28],\n",
      "         [ 34,  30,  27],\n",
      "         [ 43,  38,  34],\n",
      "         ...,\n",
      "         [ 47,  50,  39],\n",
      "         [ 42,  48,  35],\n",
      "         [ 44,  50,  38]],\n",
      "\n",
      "        [[ 31,  31,  28],\n",
      "         [ 32,  32,  28],\n",
      "         [ 43,  40,  36],\n",
      "         ...,\n",
      "         [ 38,  39,  30],\n",
      "         [ 39,  42,  31],\n",
      "         [ 35,  36,  26]],\n",
      "\n",
      "        ...,\n",
      "\n",
      "        [[ 19,  18,  15],\n",
      "         [ 20,  19,  16],\n",
      "         [ 19,  18,  15],\n",
      "         ...,\n",
      "         [ 78,  68,  57],\n",
      "         [ 64,  55,  45],\n",
      "         [ 65,  57,  46]],\n",
      "\n",
      "        [[ 20,  19,  16],\n",
      "         [ 22,  21,  17],\n",
      "         [ 24,  23,  19],\n",
      "         ...,\n",
      "         [ 74,  59,  46],\n",
      "         [ 67,  55,  42],\n",
      "         [ 54,  46,  38]],\n",
      "\n",
      "        [[ 25,  25,  21],\n",
      "         [ 28,  28,  23],\n",
      "         [ 30,  29,  24],\n",
      "         ...,\n",
      "         [ 83,  65,  47],\n",
      "         [ 79,  61,  43],\n",
      "         [ 59,  47,  36]]],\n",
      "\n",
      "\n",
      "       [[[141, 179, 207],\n",
      "         [135, 181, 217],\n",
      "         [123, 174, 216],\n",
      "         ...,\n",
      "         [125, 179, 218],\n",
      "         [126, 184, 208],\n",
      "         [141, 182, 217]],\n",
      "\n",
      "        [[127, 183, 218],\n",
      "         [ 97, 167, 221],\n",
      "         [ 73, 153, 221],\n",
      "         ...,\n",
      "         [ 88, 158, 221],\n",
      "         [110, 177, 213],\n",
      "         [137, 181, 220]],\n",
      "\n",
      "        [[131, 178, 215],\n",
      "         [ 96, 164, 219],\n",
      "         [ 70, 152, 220],\n",
      "         ...,\n",
      "         [ 84, 155, 223],\n",
      "         [108, 175, 213],\n",
      "         [139, 181, 221]],\n",
      "\n",
      "        ...,\n",
      "\n",
      "        [[252, 252, 252],\n",
      "         [252, 252, 252],\n",
      "         [254, 254, 254],\n",
      "         ...,\n",
      "         [255, 255, 255],\n",
      "         [255, 255, 255],\n",
      "         [255, 254, 253]],\n",
      "\n",
      "        [[252, 252, 252],\n",
      "         [252, 252, 252],\n",
      "         [253, 253, 253],\n",
      "         ...,\n",
      "         [253, 253, 253],\n",
      "         [253, 253, 253],\n",
      "         [252, 252, 252]],\n",
      "\n",
      "        [[255, 255, 255],\n",
      "         [255, 255, 255],\n",
      "         [255, 255, 255],\n",
      "         ...,\n",
      "         [255, 255, 255],\n",
      "         [255, 255, 255],\n",
      "         [255, 255, 255]]],\n",
      "\n",
      "\n",
      "       [[[113,  22,  22],\n",
      "         [114,  23,  23],\n",
      "         [114,  24,  23],\n",
      "         ...,\n",
      "         [139,  45,  50],\n",
      "         [ 94,  29,  30],\n",
      "         [104,  25,  29]],\n",
      "\n",
      "        [[113,  23,  23],\n",
      "         [114,  23,  23],\n",
      "         [112,  23,  22],\n",
      "         ...,\n",
      "         [121,  42,  43],\n",
      "         [109,  26,  30],\n",
      "         [ 89,  30,  28]],\n",
      "\n",
      "        [[108,  21,  20],\n",
      "         [113,  22,  22],\n",
      "         [111,  21,  21],\n",
      "         ...,\n",
      "         [104,  37,  40],\n",
      "         [114,  26,  28],\n",
      "         [ 98,  35,  35]],\n",
      "\n",
      "        ...,\n",
      "\n",
      "        [[125,  27,  28],\n",
      "         [132,  28,  31],\n",
      "         [137,  27,  30],\n",
      "         ...,\n",
      "         [101,  19,  22],\n",
      "         [ 92,  15,  19],\n",
      "         [ 83,  13,  16]],\n",
      "\n",
      "        [[125,  28,  29],\n",
      "         [131,  29,  31],\n",
      "         [136,  29,  31],\n",
      "         ...,\n",
      "         [100,  18,  21],\n",
      "         [ 91,  16,  19],\n",
      "         [ 83,  12,  16]],\n",
      "\n",
      "        [[122,  28,  29],\n",
      "         [128,  29,  30],\n",
      "         [132,  30,  31],\n",
      "         ...,\n",
      "         [ 99,  18,  20],\n",
      "         [ 89,  15,  19],\n",
      "         [ 84,  13,  17]]]], dtype=uint8)>, <tf.Tensor: shape=(16, 1), dtype=uint8, numpy=\n",
      "array([[6],\n",
      "       [4],\n",
      "       [1],\n",
      "       [8],\n",
      "       [0],\n",
      "       [6],\n",
      "       [6],\n",
      "       [7],\n",
      "       [3],\n",
      "       [3],\n",
      "       [8],\n",
      "       [8],\n",
      "       [4],\n",
      "       [1],\n",
      "       [0],\n",
      "       [3]], dtype=uint8)>)\n"
     ]
    }
   ],
   "source": [
    "for example in ds_train.take(1):\n",
    "  print(example)"
   ]
  },
  {
   "cell_type": "markdown",
   "metadata": {
    "colab_type": "text",
    "id": "I5ZMtlM0PnK-"
   },
   "source": [
    "* Créez un modèle CNN dans lequel vous mettrez des couches convolutionnelles 2D et des couches MaxPool2D "
   ]
  },
  {
   "cell_type": "code",
   "execution_count": 19,
   "metadata": {
    "colab": {
     "base_uri": "https://localhost:8080/",
     "height": 493
    },
    "colab_type": "code",
    "executionInfo": {
     "elapsed": 2442,
     "status": "ok",
     "timestamp": 1598689560071,
     "user": {
      "displayName": "Sacha Duzelier",
      "photoUrl": "",
      "userId": "13358736834117062408"
     },
     "user_tz": -120
    },
    "id": "-3s5CGLOPmaz",
    "outputId": "8110c4ce-ee7e-42bc-b5ed-aa160c868532"
   },
   "outputs": [
    {
     "name": "stdout",
     "output_type": "stream",
     "text": [
      "Model: \"sequential_1\"\n",
      "_________________________________________________________________\n",
      "Layer (type)                 Output Shape              Param #   \n",
      "=================================================================\n",
      "conv2d_2 (Conv2D)            (None, 32, 32, 32)        896       \n",
      "_________________________________________________________________\n",
      "max_pooling2d_2 (MaxPooling2 (None, 16, 16, 32)        0         \n",
      "_________________________________________________________________\n",
      "conv2d_3 (Conv2D)            (None, 16, 16, 32)        9248      \n",
      "_________________________________________________________________\n",
      "max_pooling2d_3 (MaxPooling2 (None, 8, 8, 32)          0         \n",
      "_________________________________________________________________\n",
      "flatten_1 (Flatten)          (None, 2048)              0         \n",
      "_________________________________________________________________\n",
      "dense_4 (Dense)              (None, 64)                131136    \n",
      "_________________________________________________________________\n",
      "dropout_1 (Dropout)          (None, 64)                0         \n",
      "_________________________________________________________________\n",
      "dense_5 (Dense)              (None, 32)                2080      \n",
      "_________________________________________________________________\n",
      "dense_6 (Dense)              (None, 16)                528       \n",
      "_________________________________________________________________\n",
      "dense_7 (Dense)              (None, 10)                170       \n",
      "=================================================================\n",
      "Total params: 144,058\n",
      "Trainable params: 144,058\n",
      "Non-trainable params: 0\n",
      "_________________________________________________________________\n"
     ]
    }
   ],
   "source": [
    "model = tf.keras.Sequential([\n",
    "    tf.keras.layers.Conv2D(filters=32, kernel_size=3, padding=\"same\", activation=\"relu\", input_shape=[32, 32, 3]),\n",
    "    tf.keras.layers.MaxPool2D(pool_size=2, padding=\"same\"), #, strides=2, padding='valid'),\n",
    "    tf.keras.layers.Conv2D(filters=32, kernel_size=3, padding=\"same\", activation=\"relu\"),\n",
    "    tf.keras.layers.MaxPool2D(pool_size=2, padding=\"same\"), # strides=2, padding='valid'),\n",
    "    tf.keras.layers.Flatten(),\n",
    "    tf.keras.layers.Dense(units=64, activation='relu'),\n",
    "    tf.keras.layers.Dropout(0.05),\n",
    "    tf.keras.layers.Dense(units=32, activation =\"relu\"),\n",
    "    tf.keras.layers.Dense(units=16, activation =\"relu\"),\n",
    "    tf.keras.layers.Dense(units=10, activation='softmax')\n",
    "])\n",
    "\n",
    "x = model.summary()"
   ]
  },
  {
   "cell_type": "markdown",
   "metadata": {
    "colab_type": "text",
    "id": "tllz6DnQGj_5"
   },
   "source": [
    "On compare la taille de notre jeu de données au nombre de parametres du modele. \n",
    "L'article suivant explique l'effet d'un modèle trop complexe comparé au nombre de données disponibles https://medium.com/@malay.haldar/how-much-training-data-do-you-need-da8ec091e956"
   ]
  },
  {
   "cell_type": "code",
   "execution_count": 20,
   "metadata": {
    "colab": {
     "base_uri": "https://localhost:8080/",
     "height": 68
    },
    "colab_type": "code",
    "executionInfo": {
     "elapsed": 775,
     "status": "ok",
     "timestamp": 1598689565863,
     "user": {
      "displayName": "Sacha Duzelier",
      "photoUrl": "",
      "userId": "13358736834117062408"
     },
     "user_tz": -120
    },
    "id": "iSLWv938hLFk",
    "outputId": "09b8d9a9-9e56-4521-e642-bca30d82f941"
   },
   "outputs": [
    {
     "name": "stdout",
     "output_type": "stream",
     "text": [
      "nb parametres du modele 144058\n",
      "nb examples d'entraînement 50000\n",
      "+ de paramètres que de données d'entraînement, on risque d'overfitter...\n"
     ]
    }
   ],
   "source": [
    "print(\"nb parametres du modele \" + str(model.count_params()))\n",
    "print(\"nb examples d'entraînement \" + str(X_train.shape[0]))\n",
    "print(\"+ de paramètres que de données d'entraînement, on risque d'overfitter...\")"
   ]
  },
  {
   "cell_type": "markdown",
   "metadata": {
    "colab_type": "text",
    "id": "uLs39kEsP3i1"
   },
   "source": [
    "* Créez une _Learning Rate Schedule_. Vous pouvez choisir de le faire avec [_ExponentialDecay_](https://www.tensorflow.org/api_docs/python/tf/keras/optimizers/schedules/ExponentialDecay) ou [d'autres méthodes](https://www.tensorflow.org/api_docs/python/tf/keras/optimizers/schedules)\n",
    "\n",
    "\n",
    "[Explication sur les learning rate](https://machinelearningmastery.com/understand-the-dynamics-of-learning-rate-on-deep-learning-neural-networks/)"
   ]
  },
  {
   "cell_type": "code",
   "execution_count": 27,
   "metadata": {
    "colab": {},
    "colab_type": "code",
    "executionInfo": {
     "elapsed": 524,
     "status": "ok",
     "timestamp": 1598690100035,
     "user": {
      "displayName": "Sacha Duzelier",
      "photoUrl": "",
      "userId": "13358736834117062408"
     },
     "user_tz": -120
    },
    "id": "0hy9dK8QP12-"
   },
   "outputs": [],
   "source": [
    "# Créons un learning rate schedule pour décroitre le learning rate à mesure que \n",
    "# nous entrainons le modèle \n",
    "initial_learning_rate = 0.0005\n",
    "\n",
    "lr_schedule = tf.keras.optimizers.schedules.ExponentialDecay(\n",
    "    initial_learning_rate,\n",
    "    decay_steps=6000,\n",
    "    decay_rate=0.95,\n",
    "    staircase=True)"
   ]
  },
  {
   "cell_type": "markdown",
   "metadata": {
    "colab_type": "text",
    "id": "iUUOHlraQVGx"
   },
   "source": [
    "* Créez un compileur dans lequel vous choisirez : \n",
    "  * Votre optimiseur \n",
    "  * Votre loss \n",
    "  * Vos métrics "
   ]
  },
  {
   "cell_type": "code",
   "execution_count": 22,
   "metadata": {
    "colab": {},
    "colab_type": "code",
    "executionInfo": {
     "elapsed": 763,
     "status": "ok",
     "timestamp": 1598689571925,
     "user": {
      "displayName": "Sacha Duzelier",
      "photoUrl": "",
      "userId": "13358736834117062408"
     },
     "user_tz": -120
    },
    "id": "YhavN-M2QS7G"
   },
   "outputs": [],
   "source": [
    "model.compile(optimizer=tf.keras.optimizers.Adam(learning_rate = lr_schedule),\n",
    "              loss = tf.keras.losses.SparseCategoricalCrossentropy(),\n",
    "              metrics = [tf.keras.metrics.SparseCategoricalAccuracy()])"
   ]
  },
  {
   "cell_type": "markdown",
   "metadata": {
    "colab_type": "text",
    "id": "AyaoPC39QcRd"
   },
   "source": [
    "* Faites tourner votre modèle sur 10 epochs "
   ]
  },
  {
   "cell_type": "code",
   "execution_count": 23,
   "metadata": {
    "colab": {
     "base_uri": "https://localhost:8080/",
     "height": 374
    },
    "colab_type": "code",
    "executionInfo": {
     "elapsed": 89158,
     "status": "ok",
     "timestamp": 1598689662935,
     "user": {
      "displayName": "Sacha Duzelier",
      "photoUrl": "",
      "userId": "13358736834117062408"
     },
     "user_tz": -120
    },
    "id": "gwWzM6eaQbxi",
    "outputId": "394cc66e-60a0-4865-9052-d15cc33cc32c"
   },
   "outputs": [
    {
     "name": "stdout",
     "output_type": "stream",
     "text": [
      "Epoch 1/10\n",
      "3125/3125 [==============================] - 9s 3ms/step - loss: 1.8577 - sparse_categorical_accuracy: 0.3464\n",
      "Epoch 2/10\n",
      "3125/3125 [==============================] - 9s 3ms/step - loss: 1.3582 - sparse_categorical_accuracy: 0.5158\n",
      "Epoch 3/10\n",
      "3125/3125 [==============================] - 9s 3ms/step - loss: 1.1813 - sparse_categorical_accuracy: 0.5861\n",
      "Epoch 4/10\n",
      "3125/3125 [==============================] - 9s 3ms/step - loss: 1.0814 - sparse_categorical_accuracy: 0.6218\n",
      "Epoch 5/10\n",
      "3125/3125 [==============================] - 9s 3ms/step - loss: 0.9964 - sparse_categorical_accuracy: 0.6524\n",
      "Epoch 6/10\n",
      "3125/3125 [==============================] - 9s 3ms/step - loss: 0.9408 - sparse_categorical_accuracy: 0.6734\n",
      "Epoch 7/10\n",
      "3125/3125 [==============================] - 9s 3ms/step - loss: 0.8745 - sparse_categorical_accuracy: 0.6959\n",
      "Epoch 8/10\n",
      "3125/3125 [==============================] - 9s 3ms/step - loss: 0.8300 - sparse_categorical_accuracy: 0.7107\n",
      "Epoch 9/10\n",
      "3125/3125 [==============================] - 9s 3ms/step - loss: 0.7783 - sparse_categorical_accuracy: 0.7303\n",
      "Epoch 10/10\n",
      "3125/3125 [==============================] - 9s 3ms/step - loss: 0.7414 - sparse_categorical_accuracy: 0.7434\n"
     ]
    },
    {
     "data": {
      "text/plain": [
       "<tensorflow.python.keras.callbacks.History at 0x7f2f3a7cfcc0>"
      ]
     },
     "execution_count": 23,
     "metadata": {
      "tags": []
     },
     "output_type": "execute_result"
    }
   ],
   "source": [
    "model.fit(ds_train, epochs=10)"
   ]
  },
  {
   "cell_type": "markdown",
   "metadata": {
    "colab_type": "text",
    "id": "7Y2gz8vvQ6Jb"
   },
   "source": [
    "* Evaluez votre modèle"
   ]
  },
  {
   "cell_type": "code",
   "execution_count": null,
   "metadata": {
    "colab": {
     "base_uri": "https://localhost:8080/",
     "height": 51
    },
    "colab_type": "code",
    "executionInfo": {
     "elapsed": 109845,
     "status": "ok",
     "timestamp": 1598608153567,
     "user": {
      "displayName": "Sacha Duzelier",
      "photoUrl": "",
      "userId": "13358736834117062408"
     },
     "user_tz": -120
    },
    "id": "hyBLIXq8QnI9",
    "outputId": "6b31b0d4-6453-45c6-d1d9-9d9824b478a9"
   },
   "outputs": [
    {
     "name": "stdout",
     "output_type": "stream",
     "text": [
      "625/625 [==============================] - 1s 2ms/step - loss: 1.0056 - sparse_categorical_accuracy: 0.6604\n"
     ]
    },
    {
     "data": {
      "text/plain": [
       "[1.0055527687072754, 0.6603999733924866]"
      ]
     },
     "execution_count": 13,
     "metadata": {
      "tags": []
     },
     "output_type": "execute_result"
    }
   ],
   "source": [
    "model.evaluate(ds_valid)"
   ]
  },
  {
   "cell_type": "markdown",
   "metadata": {
    "colab_type": "text",
    "id": "cZWYZvWIS7MV"
   },
   "source": [
    "Notre modèle a l'air d'overfitter (Nos performances sur le jeu de validation \n",
    "sont bien inférieures aux performances sur train)\n",
    "* Tentez d'entrainer votre modèle à nouveau. Cette fois cependant : \n",
    "  * Ajoutez l'argument *validation_data = ds_valid*  \n",
    "  * Profitez en pour enregistrer votre entrainement dans une variable _history_\n",
    "  \n",
    "* Que pouvez vous conclure sur votre modèle ?"
   ]
  },
  {
   "cell_type": "code",
   "execution_count": 28,
   "metadata": {
    "colab": {
     "base_uri": "https://localhost:8080/",
     "height": 547
    },
    "colab_type": "code",
    "executionInfo": {
     "elapsed": 147846,
     "status": "ok",
     "timestamp": 1598690252233,
     "user": {
      "displayName": "Sacha Duzelier",
      "photoUrl": "",
      "userId": "13358736834117062408"
     },
     "user_tz": -120
    },
    "id": "1WBAoqDCS-LN",
    "outputId": "2fbb40ac-4c67-4e96-bdbc-649707f800a0"
   },
   "outputs": [
    {
     "name": "stdout",
     "output_type": "stream",
     "text": [
      "Epoch 1/15\n",
      "3125/3125 [==============================] - 10s 3ms/step - loss: 1.9346 - sparse_categorical_accuracy: 0.3155 - val_loss: 1.5009 - val_sparse_categorical_accuracy: 0.4559\n",
      "Epoch 2/15\n",
      "3125/3125 [==============================] - 10s 3ms/step - loss: 1.3886 - sparse_categorical_accuracy: 0.4987 - val_loss: 1.2959 - val_sparse_categorical_accuracy: 0.5339\n",
      "Epoch 3/15\n",
      "3125/3125 [==============================] - 10s 3ms/step - loss: 1.1848 - sparse_categorical_accuracy: 0.5807 - val_loss: 1.1541 - val_sparse_categorical_accuracy: 0.5930\n",
      "Epoch 4/15\n",
      "3125/3125 [==============================] - 10s 3ms/step - loss: 1.0598 - sparse_categorical_accuracy: 0.6292 - val_loss: 1.0543 - val_sparse_categorical_accuracy: 0.6341\n",
      "Epoch 5/15\n",
      "3125/3125 [==============================] - 10s 3ms/step - loss: 0.9565 - sparse_categorical_accuracy: 0.6668 - val_loss: 1.0260 - val_sparse_categorical_accuracy: 0.6487\n",
      "Epoch 6/15\n",
      "3125/3125 [==============================] - 10s 3ms/step - loss: 0.8896 - sparse_categorical_accuracy: 0.6915 - val_loss: 1.0442 - val_sparse_categorical_accuracy: 0.6498\n",
      "Epoch 7/15\n",
      "3125/3125 [==============================] - 10s 3ms/step - loss: 0.8257 - sparse_categorical_accuracy: 0.7128 - val_loss: 1.0383 - val_sparse_categorical_accuracy: 0.6473\n",
      "Epoch 8/15\n",
      "3125/3125 [==============================] - 10s 3ms/step - loss: 0.7722 - sparse_categorical_accuracy: 0.7319 - val_loss: 1.0042 - val_sparse_categorical_accuracy: 0.6671\n",
      "Epoch 9/15\n",
      "3125/3125 [==============================] - 10s 3ms/step - loss: 0.7192 - sparse_categorical_accuracy: 0.7515 - val_loss: 0.9901 - val_sparse_categorical_accuracy: 0.6762\n",
      "Epoch 10/15\n",
      "3125/3125 [==============================] - 10s 3ms/step - loss: 0.6761 - sparse_categorical_accuracy: 0.7648 - val_loss: 1.0040 - val_sparse_categorical_accuracy: 0.6682\n",
      "Epoch 11/15\n",
      "3125/3125 [==============================] - 10s 3ms/step - loss: 0.6313 - sparse_categorical_accuracy: 0.7800 - val_loss: 1.0546 - val_sparse_categorical_accuracy: 0.6653\n",
      "Epoch 12/15\n",
      "3125/3125 [==============================] - 10s 3ms/step - loss: 0.5948 - sparse_categorical_accuracy: 0.7930 - val_loss: 1.0711 - val_sparse_categorical_accuracy: 0.6700\n",
      "Epoch 13/15\n",
      "3125/3125 [==============================] - 9s 3ms/step - loss: 0.5561 - sparse_categorical_accuracy: 0.8068 - val_loss: 1.0468 - val_sparse_categorical_accuracy: 0.6740\n",
      "Epoch 14/15\n",
      "3125/3125 [==============================] - 9s 3ms/step - loss: 0.5224 - sparse_categorical_accuracy: 0.8181 - val_loss: 1.1068 - val_sparse_categorical_accuracy: 0.6792\n",
      "Epoch 15/15\n",
      "3125/3125 [==============================] - 10s 3ms/step - loss: 0.4972 - sparse_categorical_accuracy: 0.8276 - val_loss: 1.1409 - val_sparse_categorical_accuracy: 0.6726\n"
     ]
    }
   ],
   "source": [
    "model = tf.keras.Sequential([\n",
    "    tf.keras.layers.Conv2D(filters=32, kernel_size=3, padding=\"same\", activation=\"relu\", input_shape=[32, 32, 3]),\n",
    "    tf.keras.layers.MaxPool2D(pool_size=2, padding=\"same\"), #, strides=2, padding='valid'),\n",
    "    tf.keras.layers.Conv2D(filters=32, kernel_size=3, padding=\"same\", activation=\"relu\"),\n",
    "    tf.keras.layers.MaxPool2D(pool_size=2, padding=\"same\"), # strides=2, padding='valid'),\n",
    "    tf.keras.layers.Flatten(),\n",
    "    tf.keras.layers.Dense(units=64, activation='relu'),\n",
    "    tf.keras.layers.Dropout(0.05),\n",
    "    tf.keras.layers.Dense(units=32, activation =\"relu\"),\n",
    "    tf.keras.layers.Dense(units=16, activation =\"relu\"),\n",
    "    tf.keras.layers.Dense(units=10, activation='softmax')\n",
    "])\n",
    "\n",
    "# Il faut réinstancier un modele (réinitialisation aléatoire des poids)\n",
    "# sinon on repartira du modèle que l'on a entraîné, or on veut pouvoir avoir\n",
    "# un historique de tout l'entraînement\n",
    "model.compile(optimizer=tf.keras.optimizers.Adam(learning_rate = lr_schedule),\n",
    "              loss = tf.keras.losses.SparseCategoricalCrossentropy(),\n",
    "              metrics = [tf.keras.metrics.SparseCategoricalAccuracy()])\n",
    "\n",
    "# history va contenir les scores à la fin de chaque epoch sur:\n",
    "# les données d'entraînement (données vues par le modele)\n",
    "# les données de validation (données inconnues du modele)\n",
    "history = model.fit(ds_train, \n",
    "                    epochs=15,\n",
    "                    validation_data = ds_valid)"
   ]
  },
  {
   "cell_type": "markdown",
   "metadata": {
    "colab_type": "text",
    "id": "8L5x_uUqVe7T"
   },
   "source": [
    "* Regardez ce qu'il y a dans `history.history`"
   ]
  },
  {
   "cell_type": "code",
   "execution_count": 29,
   "metadata": {
    "colab": {
     "base_uri": "https://localhost:8080/",
     "height": 1000
    },
    "colab_type": "code",
    "executionInfo": {
     "elapsed": 547,
     "status": "ok",
     "timestamp": 1598690258171,
     "user": {
      "displayName": "Sacha Duzelier",
      "photoUrl": "",
      "userId": "13358736834117062408"
     },
     "user_tz": -120
    },
    "id": "1MW1NPfhVBDn",
    "outputId": "44aa7dcb-6309-4f28-c779-5cf9940d0e62"
   },
   "outputs": [
    {
     "data": {
      "text/plain": [
       "{'loss': [1.9346123933792114,\n",
       "  1.3885955810546875,\n",
       "  1.1847965717315674,\n",
       "  1.059831142425537,\n",
       "  0.9565479159355164,\n",
       "  0.8896206021308899,\n",
       "  0.825701892375946,\n",
       "  0.7722145318984985,\n",
       "  0.7192232012748718,\n",
       "  0.6761292815208435,\n",
       "  0.6312962770462036,\n",
       "  0.5947793126106262,\n",
       "  0.5561050176620483,\n",
       "  0.5223566889762878,\n",
       "  0.49724993109703064],\n",
       " 'sparse_categorical_accuracy': [0.31547999382019043,\n",
       "  0.4987199902534485,\n",
       "  0.5807200074195862,\n",
       "  0.6291999816894531,\n",
       "  0.6667600274085999,\n",
       "  0.6915000081062317,\n",
       "  0.7128199934959412,\n",
       "  0.7318999767303467,\n",
       "  0.7515000104904175,\n",
       "  0.7647600173950195,\n",
       "  0.780019998550415,\n",
       "  0.792959988117218,\n",
       "  0.8068199753761292,\n",
       "  0.818120002746582,\n",
       "  0.8275799751281738],\n",
       " 'val_loss': [1.5008832216262817,\n",
       "  1.2959257364273071,\n",
       "  1.1540559530258179,\n",
       "  1.0542672872543335,\n",
       "  1.0259640216827393,\n",
       "  1.0442285537719727,\n",
       "  1.0382813215255737,\n",
       "  1.0041812658309937,\n",
       "  0.9901090860366821,\n",
       "  1.0039821863174438,\n",
       "  1.0545940399169922,\n",
       "  1.0711052417755127,\n",
       "  1.0467740297317505,\n",
       "  1.1068097352981567,\n",
       "  1.140877604484558],\n",
       " 'val_sparse_categorical_accuracy': [0.45590001344680786,\n",
       "  0.5339000225067139,\n",
       "  0.5929999947547913,\n",
       "  0.6341000199317932,\n",
       "  0.6486999988555908,\n",
       "  0.6498000025749207,\n",
       "  0.6473000049591064,\n",
       "  0.6671000123023987,\n",
       "  0.6761999726295471,\n",
       "  0.6682000160217285,\n",
       "  0.6653000116348267,\n",
       "  0.6700000166893005,\n",
       "  0.6740000247955322,\n",
       "  0.6791999936103821,\n",
       "  0.6725999712944031]}"
      ]
     },
     "execution_count": 29,
     "metadata": {
      "tags": []
     },
     "output_type": "execute_result"
    }
   ],
   "source": [
    "# history.history contient 4 listes:\n",
    "# La fonction de coût sur les données d'entraînement (loss) et de validation (val_loss)\n",
    "# L'accuracy (% de bonnes prédictions) sur les données d'entraînement (categorical_accuracy) et de validation (val_sparse_categorical_accuracy)\n",
    "history.history"
   ]
  },
  {
   "cell_type": "markdown",
   "metadata": {
    "colab_type": "text",
    "id": "SfVmy0eQTVbR"
   },
   "source": [
    "* Regardez maintenant un graphique de l'évolution de votre *loss*  à mesure que les epochs avancent  "
   ]
  },
  {
   "cell_type": "code",
   "execution_count": 30,
   "metadata": {
    "colab": {
     "base_uri": "https://localhost:8080/",
     "height": 282
    },
    "colab_type": "code",
    "executionInfo": {
     "elapsed": 753,
     "status": "ok",
     "timestamp": 1598690271023,
     "user": {
      "displayName": "Sacha Duzelier",
      "photoUrl": "",
      "userId": "13358736834117062408"
     },
     "user_tz": -120
    },
    "id": "gEiw823gTfXe",
    "outputId": "7bff1289-d986-49bc-ab72-ad3503034ad4"
   },
   "outputs": [
    {
     "data": {
      "image/png": "[encoded data removed]",
      "text/plain": [
       "<Figure size 432x288 with 1 Axes>"
      ]
     },
     "metadata": {
      "needs_background": "light",
      "tags": []
     },
     "output_type": "display_data"
    }
   ],
   "source": [
    "plt.plot(history.history[\"loss\"], color=\"b\")\n",
    "plt.plot(history.history[\"val_loss\"], color=\"r\")\n",
    "plt.ylabel(\"loss\")\n",
    "plt.xlabel(\"Epochs\")\n",
    "plt.show()"
   ]
  },
  {
   "cell_type": "markdown",
   "metadata": {
    "colab_type": "text",
    "id": "roN0XQFNTiS2"
   },
   "source": [
    "* Faites de même avec votre Accuracy "
   ]
  },
  {
   "cell_type": "code",
   "execution_count": 31,
   "metadata": {
    "colab": {
     "base_uri": "https://localhost:8080/",
     "height": 279
    },
    "colab_type": "code",
    "executionInfo": {
     "elapsed": 897,
     "status": "ok",
     "timestamp": 1598690291300,
     "user": {
      "displayName": "Sacha Duzelier",
      "photoUrl": "",
      "userId": "13358736834117062408"
     },
     "user_tz": -120
    },
    "id": "Yn-hpYmETkME",
    "outputId": "d83bac5c-f992-4891-9441-6b09171141ee"
   },
   "outputs": [
    {
     "data": {
      "image/png": "[encoded data removed]",
      "text/plain": [
       "<Figure size 432x288 with 1 Axes>"
      ]
     },
     "metadata": {
      "needs_background": "light",
      "tags": []
     },
     "output_type": "display_data"
    }
   ],
   "source": [
    "plt.plot(history.history[\"sparse_categorical_accuracy\"], color=\"b\")\n",
    "plt.plot(history.history[\"val_sparse_categorical_accuracy\"], color=\"r\")\n",
    "plt.ylabel(\"sparse_categorical_accuracy\")\n",
    "plt.xlabel(\"Epochs\")\n",
    "plt.show()"
   ]
  },
  {
   "cell_type": "markdown",
   "metadata": {
    "colab_type": "text",
    "id": "Y1ylmqJpNGrE"
   },
   "source": [
    "Clairement notre modèle est en sur-apprentissage (overfitting) dès le début. En effet, l'erreur sur les données d'entraînement baisse bien à chaque epoch, en revanche l'erreur sur les données de validation ne cesse d'augmenter. Cela signifie que notre modèle, même après 1 epoch, colle trop aux données d'entraînement. Nous l'avions prévu du fait de la taille du jeu de données, qui contient moins d'exemples que le nombre de paramètres du modèle.\n",
    " \n",
    " * Un moyen de gérer l'overfitting est de faire ce qu'on appelle de la _Data Augementation_. Le principe est de prendre les images que nous avons dans le jeu de données et de les répéter avec quelques changement mineurs comme : \n",
    "  * Changer la couleur, la luminosité \n",
    "  * Retourner l'image\n",
    "  * Couper l'image \n",
    "\n",
    "Cette technique permet de créer de nouvelles images sur lesquelles le modèle peut s'entrainer et donc mieux performer ! Tentons de voir ce que cela pourrait donner sur notre jeu de données. \n",
    "\n",
    "* Commencez par utiliser la fonction [`.unbatch()`](https://www.tensorflow.org/api_docs/python/tf/data/Dataset#unbatch) sur votre jeu de données d'entrainement et de validation. Nous allons changer la taille des batchs plus tard "
   ]
  },
  {
   "cell_type": "code",
   "execution_count": 48,
   "metadata": {
    "colab": {},
    "colab_type": "code",
    "executionInfo": {
     "elapsed": 2203,
     "status": "ok",
     "timestamp": 1598691484300,
     "user": {
      "displayName": "Sacha Duzelier",
      "photoUrl": "",
      "userId": "13358736834117062408"
     },
     "user_tz": -120
    },
    "id": "SftaxD2HarWg"
   },
   "outputs": [],
   "source": [
    "ds_train = tf.data.Dataset.from_tensor_slices((X_train, y_train))\n",
    "ds_valid = tf.data.Dataset.from_tensor_slices((X_test, y_test))\n",
    "ds_train = ds_train.shuffle(50000).batch(16)\n",
    "ds_valid = ds_valid.shuffle(50000).batch(16)\n",
    "\n",
    "ds_train = ds_train.unbatch()\n",
    "ds_valid = ds_valid.unbatch()"
   ]
  },
  {
   "cell_type": "markdown",
   "metadata": {
    "colab_type": "text",
    "id": "b9tZP3YfhYuV"
   },
   "source": [
    "* Vérifiez que vous ayez bien des tenseurs de taille (32, 32, 3) en regardant un exemple dans votre dataset "
   ]
  },
  {
   "cell_type": "code",
   "execution_count": 49,
   "metadata": {
    "colab": {
     "base_uri": "https://localhost:8080/",
     "height": 34
    },
    "colab_type": "code",
    "executionInfo": {
     "elapsed": 582,
     "status": "ok",
     "timestamp": 1598691488962,
     "user": {
      "displayName": "Sacha Duzelier",
      "photoUrl": "",
      "userId": "13358736834117062408"
     },
     "user_tz": -120
    },
    "id": "CEwe5gNBbHoa",
    "outputId": "ff43cac4-f1a3-44fa-acc9-1740859fbfc1"
   },
   "outputs": [
    {
     "name": "stdout",
     "output_type": "stream",
     "text": [
      "tf.Tensor([32 32  3], shape=(3,), dtype=int32)\n"
     ]
    }
   ],
   "source": [
    "for image, label in ds_train.take(1):\n",
    "  print(tf.shape(image))"
   ]
  },
  {
   "cell_type": "markdown",
   "metadata": {
    "colab_type": "text",
    "id": "L5v5MgyRhfuI"
   },
   "source": [
    "* En utilisant la fonction [`repeat()`](https://www.tensorflow.org/api_docs/python/tf/data/Dataset#repeat) copiez votre dataset 10 fois"
   ]
  },
  {
   "cell_type": "code",
   "execution_count": 50,
   "metadata": {
    "colab": {},
    "colab_type": "code",
    "executionInfo": {
     "elapsed": 1118,
     "status": "ok",
     "timestamp": 1598691492369,
     "user": {
      "displayName": "Sacha Duzelier",
      "photoUrl": "",
      "userId": "13358736834117062408"
     },
     "user_tz": -120
    },
    "id": "D9vbIjSSTNQM"
   },
   "outputs": [],
   "source": [
    "repeated_ds = ds_train.repeat(10)"
   ]
  },
  {
   "cell_type": "markdown",
   "metadata": {
    "colab_type": "text",
    "id": "ri9AXYLQhqE2"
   },
   "source": [
    "* On va procéder maintenant à une phase de Data Augmentation. Créez une fonction `data_aug(image, label)` qui prendra comme argument une image et un label. A l'intérieur de cette fonction, tentez d'utiliser :\n",
    "  * tf.image.random_flip_left_right\n",
    "  * tf.image.random_contrast\n",
    "  * tf.image.random_crop\n",
    "  * Divisez le tenseur par 255\n",
    "\n",
    "  * Vous pouvez tentez d'autres choses si vous le souhaitez"
   ]
  },
  {
   "cell_type": "code",
   "execution_count": 51,
   "metadata": {
    "colab": {},
    "colab_type": "code",
    "executionInfo": {
     "elapsed": 632,
     "status": "ok",
     "timestamp": 1598691497089,
     "user": {
      "displayName": "Sacha Duzelier",
      "photoUrl": "",
      "userId": "13358736834117062408"
     },
     "user_tz": -120
    },
    "id": "P8zXiU7hfmFM"
   },
   "outputs": [],
   "source": [
    "def data_aug(image, label):\n",
    "\n",
    "  image = tf.image.random_flip_left_right(image)\n",
    "  image = tf.image.random_contrast(image, 0, 3.4)\n",
    "  image = tf.image.random_crop(image, [32,32, 3])\n",
    "  image = image / 255\n",
    "\n",
    "  return image, label"
   ]
  },
  {
   "cell_type": "markdown",
   "metadata": {
    "colab_type": "text",
    "id": "f3aU2GdwiXoI"
   },
   "source": [
    "* Utilisez la fonction `.map()` pour appliquer votre fonction sur votre tf dataset"
   ]
  },
  {
   "cell_type": "code",
   "execution_count": 52,
   "metadata": {
    "colab": {},
    "colab_type": "code",
    "executionInfo": {
     "elapsed": 866,
     "status": "ok",
     "timestamp": 1598691499657,
     "user": {
      "displayName": "Sacha Duzelier",
      "photoUrl": "",
      "userId": "13358736834117062408"
     },
     "user_tz": -120
    },
    "id": "1VKtcUvZTJiR"
   },
   "outputs": [],
   "source": [
    "repeated_ds = repeated_ds.map(data_aug)"
   ]
  },
  {
   "cell_type": "markdown",
   "metadata": {
    "colab_type": "text",
    "id": "d5U5JwJXigAp"
   },
   "source": [
    "* Créez une fonction pour votre jeu de données de validation où vous diviserez simplement les tenseurs par 255. Nous ne voulons pas appliquer de data augmentation sur notre jeu de données de validation "
   ]
  },
  {
   "cell_type": "code",
   "execution_count": 53,
   "metadata": {
    "colab": {},
    "colab_type": "code",
    "executionInfo": {
     "elapsed": 1735,
     "status": "ok",
     "timestamp": 1598691504880,
     "user": {
      "displayName": "Sacha Duzelier",
      "photoUrl": "",
      "userId": "13358736834117062408"
     },
     "user_tz": -120
    },
    "id": "Mw14XKHmWWXO"
   },
   "outputs": [],
   "source": [
    "def valid_aug(img, label):\n",
    "  img = img / 255\n",
    "  return img, label"
   ]
  },
  {
   "cell_type": "markdown",
   "metadata": {
    "colab_type": "text",
    "id": "mEu9zIvKisPq"
   },
   "source": [
    "* Appliquez la fonction sur votre jeu de données de validation "
   ]
  },
  {
   "cell_type": "code",
   "execution_count": 54,
   "metadata": {
    "colab": {},
    "colab_type": "code",
    "executionInfo": {
     "elapsed": 760,
     "status": "ok",
     "timestamp": 1598691506075,
     "user": {
      "displayName": "Sacha Duzelier",
      "photoUrl": "",
      "userId": "13358736834117062408"
     },
     "user_tz": -120
    },
    "id": "OJpgCQopWb38"
   },
   "outputs": [],
   "source": [
    "ds_valid = ds_valid.map(valid_aug)"
   ]
  },
  {
   "cell_type": "markdown",
   "metadata": {
    "colab_type": "text",
    "id": "242C3HRviwMr"
   },
   "source": [
    "* Créez des batchs de 32 images pour votre jeu de données de validation et d'entrainement "
   ]
  },
  {
   "cell_type": "code",
   "execution_count": 55,
   "metadata": {
    "colab": {},
    "colab_type": "code",
    "executionInfo": {
     "elapsed": 605,
     "status": "ok",
     "timestamp": 1598691508107,
     "user": {
      "displayName": "Sacha Duzelier",
      "photoUrl": "",
      "userId": "13358736834117062408"
     },
     "user_tz": -120
    },
    "id": "CGsTlf6TbyBd"
   },
   "outputs": [],
   "source": [
    "repeated_ds = repeated_ds.shuffle(150000).batch(32)\n",
    "ds_valid = ds_valid.batch(32)"
   ]
  },
  {
   "cell_type": "markdown",
   "metadata": {
    "colab_type": "text",
    "id": "2vSD7XwNi1Lf"
   },
   "source": [
    "* Réappliquez le même modèle sur votre nouveau jeu de données\n",
    "  * N'oubliez pas de stocker votre entrainement dans une variable `history`"
   ]
  },
  {
   "cell_type": "code",
   "execution_count": 56,
   "metadata": {
    "colab": {
     "base_uri": "https://localhost:8080/",
     "height": 510
    },
    "colab_type": "code",
    "executionInfo": {
     "elapsed": 955,
     "status": "ok",
     "timestamp": 1598691513069,
     "user": {
      "displayName": "Sacha Duzelier",
      "photoUrl": "",
      "userId": "13358736834117062408"
     },
     "user_tz": -120
    },
    "id": "46T1zMLBVo0k",
    "outputId": "c6b040b8-5569-405e-dabf-334fc35e13b1"
   },
   "outputs": [
    {
     "name": "stdout",
     "output_type": "stream",
     "text": [
      "Model: \"sequential_4\"\n",
      "_________________________________________________________________\n",
      "Layer (type)                 Output Shape              Param #   \n",
      "=================================================================\n",
      "conv2d_8 (Conv2D)            (None, 32, 32, 32)        896       \n",
      "_________________________________________________________________\n",
      "max_pooling2d_8 (MaxPooling2 (None, 16, 16, 32)        0         \n",
      "_________________________________________________________________\n",
      "conv2d_9 (Conv2D)            (None, 16, 16, 32)        9248      \n",
      "_________________________________________________________________\n",
      "max_pooling2d_9 (MaxPooling2 (None, 8, 8, 32)          0         \n",
      "_________________________________________________________________\n",
      "flatten_4 (Flatten)          (None, 2048)              0         \n",
      "_________________________________________________________________\n",
      "dense_16 (Dense)             (None, 64)                131136    \n",
      "_________________________________________________________________\n",
      "dropout_4 (Dropout)          (None, 64)                0         \n",
      "_________________________________________________________________\n",
      "dense_17 (Dense)             (None, 32)                2080      \n",
      "_________________________________________________________________\n",
      "dense_18 (Dense)             (None, 16)                528       \n",
      "_________________________________________________________________\n",
      "dense_19 (Dense)             (None, 10)                170       \n",
      "=================================================================\n",
      "Total params: 144,058\n",
      "Trainable params: 144,058\n",
      "Non-trainable params: 0\n",
      "_________________________________________________________________\n",
      "None\n"
     ]
    }
   ],
   "source": [
    "model = tf.keras.Sequential([\n",
    "    tf.keras.layers.Conv2D(filters=32, kernel_size=3, padding=\"same\", activation=\"relu\", input_shape=[32, 32, 3]),\n",
    "    tf.keras.layers.MaxPool2D(pool_size=2, padding=\"same\"),\n",
    "    tf.keras.layers.Conv2D(filters=32, kernel_size=3, padding=\"same\", activation=\"relu\"),\n",
    "    tf.keras.layers.MaxPool2D(pool_size=2, padding=\"same\"),\n",
    "    tf.keras.layers.Flatten(),\n",
    "    tf.keras.layers.Dense(units=64, activation='relu'),\n",
    "    tf.keras.layers.Dropout(0.05),\n",
    "    tf.keras.layers.Dense(units=32, activation =\"relu\"),\n",
    "    tf.keras.layers.Dense(units=16, activation =\"relu\"),\n",
    "    tf.keras.layers.Dense(units=10, activation='softmax')\n",
    "])\n",
    "\n",
    "print(model.summary())\n",
    "\n",
    "model.compile(optimizer=tf.keras.optimizers.Adam(learning_rate = lr_schedule),\n",
    "              loss = tf.keras.losses.SparseCategoricalCrossentropy(),\n",
    "              metrics = [tf.keras.metrics.SparseCategoricalAccuracy()])"
   ]
  },
  {
   "cell_type": "code",
   "execution_count": 57,
   "metadata": {
    "colab": {
     "base_uri": "https://localhost:8080/",
     "height": 565
    },
    "colab_type": "code",
    "executionInfo": {
     "elapsed": 570108,
     "status": "error",
     "timestamp": 1598692090920,
     "user": {
      "displayName": "Sacha Duzelier",
      "photoUrl": "",
      "userId": "13358736834117062408"
     },
     "user_tz": -120
    },
    "id": "d0Zat3h4WSbn",
    "outputId": "ae826c63-a3b5-4723-bb88-d349ef8f4242"
   },
   "outputs": [
    {
     "name": "stdout",
     "output_type": "stream",
     "text": [
      "Epoch 1/25\n",
      "15625/15625 [==============================] - 92s 6ms/step - loss: 1.2047 - sparse_categorical_accuracy: 0.5715 - val_loss: 0.9193 - val_sparse_categorical_accuracy: 0.6808\n",
      "Epoch 2/25\n",
      "15625/15625 [==============================] - 91s 6ms/step - loss: 0.8884 - sparse_categorical_accuracy: 0.6878 - val_loss: 0.8511 - val_sparse_categorical_accuracy: 0.7104\n",
      "Epoch 3/25\n",
      "15625/15625 [==============================] - 89s 6ms/step - loss: 0.7815 - sparse_categorical_accuracy: 0.7251 - val_loss: 0.8172 - val_sparse_categorical_accuracy: 0.7188\n",
      "Epoch 4/25\n",
      "15625/15625 [==============================] - 89s 6ms/step - loss: 0.7170 - sparse_categorical_accuracy: 0.7472 - val_loss: 0.8249 - val_sparse_categorical_accuracy: 0.7282\n",
      "Epoch 5/25\n",
      "15625/15625 [==============================] - 86s 5ms/step - loss: 0.6657 - sparse_categorical_accuracy: 0.7647 - val_loss: 0.8368 - val_sparse_categorical_accuracy: 0.7234\n",
      "Epoch 6/25\n",
      " 5934/15625 [==========>...................] - ETA: 1:01 - loss: 0.6389 - sparse_categorical_accuracy: 0.7745"
     ]
    },
    {
     "ename": "KeyboardInterrupt",
     "evalue": "ignored",
     "output_type": "error",
     "traceback": [
      "\u001b[0;31m---------------------------------------------------------------------------\u001b[0m",
      "\u001b[0;31mKeyboardInterrupt\u001b[0m                         Traceback (most recent call last)",
      "\u001b[0;32m<ipython-input-57-b259748712ed>\u001b[0m in \u001b[0;36m<module>\u001b[0;34m()\u001b[0m\n\u001b[1;32m      1\u001b[0m history = model.fit(repeated_ds, \n\u001b[1;32m      2\u001b[0m                     \u001b[0mepochs\u001b[0m\u001b[0;34m=\u001b[0m\u001b[0;36m25\u001b[0m\u001b[0;34m,\u001b[0m\u001b[0;34m\u001b[0m\u001b[0;34m\u001b[0m\u001b[0m\n\u001b[0;32m----> 3\u001b[0;31m                     validation_data = ds_valid)\n\u001b[0m",
      "\u001b[0;32m/usr/local/lib/python3.6/dist-packages/tensorflow/python/keras/engine/training.py\u001b[0m in \u001b[0;36m_method_wrapper\u001b[0;34m(self, *args, **kwargs)\u001b[0m\n\u001b[1;32m    106\u001b[0m   \u001b[0;32mdef\u001b[0m \u001b[0m_method_wrapper\u001b[0m\u001b[0;34m(\u001b[0m\u001b[0mself\u001b[0m\u001b[0;34m,\u001b[0m \u001b[0;34m*\u001b[0m\u001b[0margs\u001b[0m\u001b[0;34m,\u001b[0m \u001b[0;34m**\u001b[0m\u001b[0mkwargs\u001b[0m\u001b[0;34m)\u001b[0m\u001b[0;34m:\u001b[0m\u001b[0;34m\u001b[0m\u001b[0;34m\u001b[0m\u001b[0m\n\u001b[1;32m    107\u001b[0m     \u001b[0;32mif\u001b[0m \u001b[0;32mnot\u001b[0m \u001b[0mself\u001b[0m\u001b[0;34m.\u001b[0m\u001b[0m_in_multi_worker_mode\u001b[0m\u001b[0;34m(\u001b[0m\u001b[0;34m)\u001b[0m\u001b[0;34m:\u001b[0m  \u001b[0;31m# pylint: disable=protected-access\u001b[0m\u001b[0;34m\u001b[0m\u001b[0;34m\u001b[0m\u001b[0m\n\u001b[0;32m--> 108\u001b[0;31m       \u001b[0;32mreturn\u001b[0m \u001b[0mmethod\u001b[0m\u001b[0;34m(\u001b[0m\u001b[0mself\u001b[0m\u001b[0;34m,\u001b[0m \u001b[0;34m*\u001b[0m\u001b[0margs\u001b[0m\u001b[0;34m,\u001b[0m \u001b[0;34m**\u001b[0m\u001b[0mkwargs\u001b[0m\u001b[0;34m)\u001b[0m\u001b[0;34m\u001b[0m\u001b[0;34m\u001b[0m\u001b[0m\n\u001b[0m\u001b[1;32m    109\u001b[0m \u001b[0;34m\u001b[0m\u001b[0m\n\u001b[1;32m    110\u001b[0m     \u001b[0;31m# Running inside `run_distribute_coordinator` already.\u001b[0m\u001b[0;34m\u001b[0m\u001b[0;34m\u001b[0m\u001b[0;34m\u001b[0m\u001b[0m\n",
      "\u001b[0;32m/usr/local/lib/python3.6/dist-packages/tensorflow/python/keras/engine/training.py\u001b[0m in \u001b[0;36mfit\u001b[0;34m(self, x, y, batch_size, epochs, verbose, callbacks, validation_split, validation_data, shuffle, class_weight, sample_weight, initial_epoch, steps_per_epoch, validation_steps, validation_batch_size, validation_freq, max_queue_size, workers, use_multiprocessing)\u001b[0m\n\u001b[1;32m   1096\u001b[0m                 batch_size=batch_size):\n\u001b[1;32m   1097\u001b[0m               \u001b[0mcallbacks\u001b[0m\u001b[0;34m.\u001b[0m\u001b[0mon_train_batch_begin\u001b[0m\u001b[0;34m(\u001b[0m\u001b[0mstep\u001b[0m\u001b[0;34m)\u001b[0m\u001b[0;34m\u001b[0m\u001b[0;34m\u001b[0m\u001b[0m\n\u001b[0;32m-> 1098\u001b[0;31m               \u001b[0mtmp_logs\u001b[0m \u001b[0;34m=\u001b[0m \u001b[0mtrain_function\u001b[0m\u001b[0;34m(\u001b[0m\u001b[0miterator\u001b[0m\u001b[0;34m)\u001b[0m\u001b[0;34m\u001b[0m\u001b[0;34m\u001b[0m\u001b[0m\n\u001b[0m\u001b[1;32m   1099\u001b[0m               \u001b[0;32mif\u001b[0m \u001b[0mdata_handler\u001b[0m\u001b[0;34m.\u001b[0m\u001b[0mshould_sync\u001b[0m\u001b[0;34m:\u001b[0m\u001b[0;34m\u001b[0m\u001b[0;34m\u001b[0m\u001b[0m\n\u001b[1;32m   1100\u001b[0m                 \u001b[0mcontext\u001b[0m\u001b[0;34m.\u001b[0m\u001b[0masync_wait\u001b[0m\u001b[0;34m(\u001b[0m\u001b[0;34m)\u001b[0m\u001b[0;34m\u001b[0m\u001b[0;34m\u001b[0m\u001b[0m\n",
      "\u001b[0;32m/usr/local/lib/python3.6/dist-packages/tensorflow/python/eager/def_function.py\u001b[0m in \u001b[0;36m__call__\u001b[0;34m(self, *args, **kwds)\u001b[0m\n\u001b[1;32m    778\u001b[0m       \u001b[0;32melse\u001b[0m\u001b[0;34m:\u001b[0m\u001b[0;34m\u001b[0m\u001b[0;34m\u001b[0m\u001b[0m\n\u001b[1;32m    779\u001b[0m         \u001b[0mcompiler\u001b[0m \u001b[0;34m=\u001b[0m \u001b[0;34m\"nonXla\"\u001b[0m\u001b[0;34m\u001b[0m\u001b[0;34m\u001b[0m\u001b[0m\n\u001b[0;32m--> 780\u001b[0;31m         \u001b[0mresult\u001b[0m \u001b[0;34m=\u001b[0m \u001b[0mself\u001b[0m\u001b[0;34m.\u001b[0m\u001b[0m_call\u001b[0m\u001b[0;34m(\u001b[0m\u001b[0;34m*\u001b[0m\u001b[0margs\u001b[0m\u001b[0;34m,\u001b[0m \u001b[0;34m**\u001b[0m\u001b[0mkwds\u001b[0m\u001b[0;34m)\u001b[0m\u001b[0;34m\u001b[0m\u001b[0;34m\u001b[0m\u001b[0m\n\u001b[0m\u001b[1;32m    781\u001b[0m \u001b[0;34m\u001b[0m\u001b[0m\n\u001b[1;32m    782\u001b[0m       \u001b[0mnew_tracing_count\u001b[0m \u001b[0;34m=\u001b[0m \u001b[0mself\u001b[0m\u001b[0;34m.\u001b[0m\u001b[0m_get_tracing_count\u001b[0m\u001b[0;34m(\u001b[0m\u001b[0;34m)\u001b[0m\u001b[0;34m\u001b[0m\u001b[0;34m\u001b[0m\u001b[0m\n",
      "\u001b[0;32m/usr/local/lib/python3.6/dist-packages/tensorflow/python/eager/def_function.py\u001b[0m in \u001b[0;36m_call\u001b[0;34m(self, *args, **kwds)\u001b[0m\n\u001b[1;32m    805\u001b[0m       \u001b[0;31m# In this case we have created variables on the first call, so we run the\u001b[0m\u001b[0;34m\u001b[0m\u001b[0;34m\u001b[0m\u001b[0;34m\u001b[0m\u001b[0m\n\u001b[1;32m    806\u001b[0m       \u001b[0;31m# defunned version which is guaranteed to never create variables.\u001b[0m\u001b[0;34m\u001b[0m\u001b[0;34m\u001b[0m\u001b[0;34m\u001b[0m\u001b[0m\n\u001b[0;32m--> 807\u001b[0;31m       \u001b[0;32mreturn\u001b[0m \u001b[0mself\u001b[0m\u001b[0;34m.\u001b[0m\u001b[0m_stateless_fn\u001b[0m\u001b[0;34m(\u001b[0m\u001b[0;34m*\u001b[0m\u001b[0margs\u001b[0m\u001b[0;34m,\u001b[0m \u001b[0;34m**\u001b[0m\u001b[0mkwds\u001b[0m\u001b[0;34m)\u001b[0m  \u001b[0;31m# pylint: disable=not-callable\u001b[0m\u001b[0;34m\u001b[0m\u001b[0;34m\u001b[0m\u001b[0m\n\u001b[0m\u001b[1;32m    808\u001b[0m     \u001b[0;32melif\u001b[0m \u001b[0mself\u001b[0m\u001b[0;34m.\u001b[0m\u001b[0m_stateful_fn\u001b[0m \u001b[0;32mis\u001b[0m \u001b[0;32mnot\u001b[0m \u001b[0;32mNone\u001b[0m\u001b[0;34m:\u001b[0m\u001b[0;34m\u001b[0m\u001b[0;34m\u001b[0m\u001b[0m\n\u001b[1;32m    809\u001b[0m       \u001b[0;31m# Release the lock early so that multiple threads can perform the call\u001b[0m\u001b[0;34m\u001b[0m\u001b[0;34m\u001b[0m\u001b[0;34m\u001b[0m\u001b[0m\n",
      "\u001b[0;32m/usr/local/lib/python3.6/dist-packages/tensorflow/python/eager/function.py\u001b[0m in \u001b[0;36m__call__\u001b[0;34m(self, *args, **kwargs)\u001b[0m\n\u001b[1;32m   2827\u001b[0m     \u001b[0;32mwith\u001b[0m \u001b[0mself\u001b[0m\u001b[0;34m.\u001b[0m\u001b[0m_lock\u001b[0m\u001b[0;34m:\u001b[0m\u001b[0;34m\u001b[0m\u001b[0;34m\u001b[0m\u001b[0m\n\u001b[1;32m   2828\u001b[0m       \u001b[0mgraph_function\u001b[0m\u001b[0;34m,\u001b[0m \u001b[0margs\u001b[0m\u001b[0;34m,\u001b[0m \u001b[0mkwargs\u001b[0m \u001b[0;34m=\u001b[0m \u001b[0mself\u001b[0m\u001b[0;34m.\u001b[0m\u001b[0m_maybe_define_function\u001b[0m\u001b[0;34m(\u001b[0m\u001b[0margs\u001b[0m\u001b[0;34m,\u001b[0m \u001b[0mkwargs\u001b[0m\u001b[0;34m)\u001b[0m\u001b[0;34m\u001b[0m\u001b[0;34m\u001b[0m\u001b[0m\n\u001b[0;32m-> 2829\u001b[0;31m     \u001b[0;32mreturn\u001b[0m \u001b[0mgraph_function\u001b[0m\u001b[0;34m.\u001b[0m\u001b[0m_filtered_call\u001b[0m\u001b[0;34m(\u001b[0m\u001b[0margs\u001b[0m\u001b[0;34m,\u001b[0m \u001b[0mkwargs\u001b[0m\u001b[0;34m)\u001b[0m  \u001b[0;31m# pylint: disable=protected-access\u001b[0m\u001b[0;34m\u001b[0m\u001b[0;34m\u001b[0m\u001b[0m\n\u001b[0m\u001b[1;32m   2830\u001b[0m \u001b[0;34m\u001b[0m\u001b[0m\n\u001b[1;32m   2831\u001b[0m   \u001b[0;34m@\u001b[0m\u001b[0mproperty\u001b[0m\u001b[0;34m\u001b[0m\u001b[0;34m\u001b[0m\u001b[0m\n",
      "\u001b[0;32m/usr/local/lib/python3.6/dist-packages/tensorflow/python/eager/function.py\u001b[0m in \u001b[0;36m_filtered_call\u001b[0;34m(self, args, kwargs, cancellation_manager)\u001b[0m\n\u001b[1;32m   1846\u001b[0m                            resource_variable_ops.BaseResourceVariable))],\n\u001b[1;32m   1847\u001b[0m         \u001b[0mcaptured_inputs\u001b[0m\u001b[0;34m=\u001b[0m\u001b[0mself\u001b[0m\u001b[0;34m.\u001b[0m\u001b[0mcaptured_inputs\u001b[0m\u001b[0;34m,\u001b[0m\u001b[0;34m\u001b[0m\u001b[0;34m\u001b[0m\u001b[0m\n\u001b[0;32m-> 1848\u001b[0;31m         cancellation_manager=cancellation_manager)\n\u001b[0m\u001b[1;32m   1849\u001b[0m \u001b[0;34m\u001b[0m\u001b[0m\n\u001b[1;32m   1850\u001b[0m   \u001b[0;32mdef\u001b[0m \u001b[0m_call_flat\u001b[0m\u001b[0;34m(\u001b[0m\u001b[0mself\u001b[0m\u001b[0;34m,\u001b[0m \u001b[0margs\u001b[0m\u001b[0;34m,\u001b[0m \u001b[0mcaptured_inputs\u001b[0m\u001b[0;34m,\u001b[0m \u001b[0mcancellation_manager\u001b[0m\u001b[0;34m=\u001b[0m\u001b[0;32mNone\u001b[0m\u001b[0;34m)\u001b[0m\u001b[0;34m:\u001b[0m\u001b[0;34m\u001b[0m\u001b[0;34m\u001b[0m\u001b[0m\n",
      "\u001b[0;32m/usr/local/lib/python3.6/dist-packages/tensorflow/python/eager/function.py\u001b[0m in \u001b[0;36m_call_flat\u001b[0;34m(self, args, captured_inputs, cancellation_manager)\u001b[0m\n\u001b[1;32m   1922\u001b[0m       \u001b[0;31m# No tape is watching; skip to running the function.\u001b[0m\u001b[0;34m\u001b[0m\u001b[0;34m\u001b[0m\u001b[0;34m\u001b[0m\u001b[0m\n\u001b[1;32m   1923\u001b[0m       return self._build_call_outputs(self._inference_function.call(\n\u001b[0;32m-> 1924\u001b[0;31m           ctx, args, cancellation_manager=cancellation_manager))\n\u001b[0m\u001b[1;32m   1925\u001b[0m     forward_backward = self._select_forward_and_backward_functions(\n\u001b[1;32m   1926\u001b[0m         \u001b[0margs\u001b[0m\u001b[0;34m,\u001b[0m\u001b[0;34m\u001b[0m\u001b[0;34m\u001b[0m\u001b[0m\n",
      "\u001b[0;32m/usr/local/lib/python3.6/dist-packages/tensorflow/python/eager/function.py\u001b[0m in \u001b[0;36mcall\u001b[0;34m(self, ctx, args, cancellation_manager)\u001b[0m\n\u001b[1;32m    548\u001b[0m               \u001b[0minputs\u001b[0m\u001b[0;34m=\u001b[0m\u001b[0margs\u001b[0m\u001b[0;34m,\u001b[0m\u001b[0;34m\u001b[0m\u001b[0;34m\u001b[0m\u001b[0m\n\u001b[1;32m    549\u001b[0m               \u001b[0mattrs\u001b[0m\u001b[0;34m=\u001b[0m\u001b[0mattrs\u001b[0m\u001b[0;34m,\u001b[0m\u001b[0;34m\u001b[0m\u001b[0;34m\u001b[0m\u001b[0m\n\u001b[0;32m--> 550\u001b[0;31m               ctx=ctx)\n\u001b[0m\u001b[1;32m    551\u001b[0m         \u001b[0;32melse\u001b[0m\u001b[0;34m:\u001b[0m\u001b[0;34m\u001b[0m\u001b[0;34m\u001b[0m\u001b[0m\n\u001b[1;32m    552\u001b[0m           outputs = execute.execute_with_cancellation(\n",
      "\u001b[0;32m/usr/local/lib/python3.6/dist-packages/tensorflow/python/eager/execute.py\u001b[0m in \u001b[0;36mquick_execute\u001b[0;34m(op_name, num_outputs, inputs, attrs, ctx, name)\u001b[0m\n\u001b[1;32m     58\u001b[0m     \u001b[0mctx\u001b[0m\u001b[0;34m.\u001b[0m\u001b[0mensure_initialized\u001b[0m\u001b[0;34m(\u001b[0m\u001b[0;34m)\u001b[0m\u001b[0;34m\u001b[0m\u001b[0;34m\u001b[0m\u001b[0m\n\u001b[1;32m     59\u001b[0m     tensors = pywrap_tfe.TFE_Py_Execute(ctx._handle, device_name, op_name,\n\u001b[0;32m---> 60\u001b[0;31m                                         inputs, attrs, num_outputs)\n\u001b[0m\u001b[1;32m     61\u001b[0m   \u001b[0;32mexcept\u001b[0m \u001b[0mcore\u001b[0m\u001b[0;34m.\u001b[0m\u001b[0m_NotOkStatusException\u001b[0m \u001b[0;32mas\u001b[0m \u001b[0me\u001b[0m\u001b[0;34m:\u001b[0m\u001b[0;34m\u001b[0m\u001b[0;34m\u001b[0m\u001b[0m\n\u001b[1;32m     62\u001b[0m     \u001b[0;32mif\u001b[0m \u001b[0mname\u001b[0m \u001b[0;32mis\u001b[0m \u001b[0;32mnot\u001b[0m \u001b[0;32mNone\u001b[0m\u001b[0;34m:\u001b[0m\u001b[0;34m\u001b[0m\u001b[0;34m\u001b[0m\u001b[0m\n",
      "\u001b[0;31mKeyboardInterrupt\u001b[0m: "
     ]
    }
   ],
   "source": [
    "history = model.fit(repeated_ds, \n",
    "                    epochs=25,\n",
    "                    validation_data = ds_valid)"
   ]
  },
  {
   "cell_type": "code",
   "execution_count": 58,
   "metadata": {
    "colab": {
     "base_uri": "https://localhost:8080/",
     "height": 282
    },
    "colab_type": "code",
    "executionInfo": {
     "elapsed": 860,
     "status": "ok",
     "timestamp": 1598692099755,
     "user": {
      "displayName": "Sacha Duzelier",
      "photoUrl": "",
      "userId": "13358736834117062408"
     },
     "user_tz": -120
    },
    "id": "vt9NmmyOWgO0",
    "outputId": "81529f83-4514-48af-cbe6-fa7f8d926826"
   },
   "outputs": [
    {
     "data": {
      "image/png": "[encoded data removed]",
      "text/plain": [
       "<Figure size 432x288 with 1 Axes>"
      ]
     },
     "metadata": {
      "needs_background": "light",
      "tags": []
     },
     "output_type": "display_data"
    }
   ],
   "source": [
    "plt.plot(history.history[\"loss\"], color=\"b\")\n",
    "plt.plot(history.history[\"val_loss\"], color=\"r\")\n",
    "plt.ylabel(\"loss\")\n",
    "plt.xlabel(\"Epochs\")\n",
    "plt.show()"
   ]
  },
  {
   "cell_type": "code",
   "execution_count": null,
   "metadata": {
    "colab": {
     "base_uri": "https://localhost:8080/",
     "height": 282
    },
    "colab_type": "code",
    "executionInfo": {
     "elapsed": 482760,
     "status": "ok",
     "timestamp": 1598608526625,
     "user": {
      "displayName": "Sacha Duzelier",
      "photoUrl": "",
      "userId": "13358736834117062408"
     },
     "user_tz": -120
    },
    "id": "FXpl65CCmxGW",
    "outputId": "4afd99aa-6c9d-4edf-c741-37a3e4c2be8f"
   },
   "outputs": [
    {
     "data": {
      "image/png": "[encoded data removed]",
      "text/plain": [
       "<Figure size 432x288 with 1 Axes>"
      ]
     },
     "metadata": {
      "needs_background": "light",
      "tags": []
     },
     "output_type": "display_data"
    }
   ],
   "source": [
    "plt.plot(history.history[\"sparse_categorical_accuracy\"], color=\"b\")\n",
    "plt.plot(history.history[\"val_sparse_categorical_accuracy\"], color=\"r\")\n",
    "plt.ylabel(\"sparse_categorical_accuracy\")\n",
    "plt.xlabel(\"Epochs\")\n",
    "plt.show()"
   ]
  },
  {
   "cell_type": "markdown",
   "metadata": {
    "colab_type": "text",
    "id": "C9CwQvk-pe0Y"
   },
   "source": [
    "* Tentons une nouvelle technique de réguliarisation : le Dropout. Ajoutez quelques couches de dropout à 20% dans votre modèle "
   ]
  },
  {
   "cell_type": "code",
   "execution_count": null,
   "metadata": {
    "colab": {
     "base_uri": "https://localhost:8080/",
     "height": 578
    },
    "colab_type": "code",
    "executionInfo": {
     "elapsed": 482747,
     "status": "ok",
     "timestamp": 1598608526626,
     "user": {
      "displayName": "Sacha Duzelier",
      "photoUrl": "",
      "userId": "13358736834117062408"
     },
     "user_tz": -120
    },
    "id": "PnB3cWe7m0yZ",
    "outputId": "2790388d-99ea-43e6-ec5e-f57f39a12727"
   },
   "outputs": [
    {
     "name": "stdout",
     "output_type": "stream",
     "text": [
      "Model: \"sequential_2\"\n",
      "_________________________________________________________________\n",
      "Layer (type)                 Output Shape              Param #   \n",
      "=================================================================\n",
      "conv2d_4 (Conv2D)            (None, 32, 32, 32)        896       \n",
      "_________________________________________________________________\n",
      "max_pooling2d_4 (MaxPooling2 (None, 16, 16, 32)        0         \n",
      "_________________________________________________________________\n",
      "dropout_2 (Dropout)          (None, 16, 16, 32)        0         \n",
      "_________________________________________________________________\n",
      "conv2d_5 (Conv2D)            (None, 16, 16, 32)        9248      \n",
      "_________________________________________________________________\n",
      "max_pooling2d_5 (MaxPooling2 (None, 8, 8, 32)          0         \n",
      "_________________________________________________________________\n",
      "dropout_3 (Dropout)          (None, 8, 8, 32)          0         \n",
      "_________________________________________________________________\n",
      "flatten_2 (Flatten)          (None, 2048)              0         \n",
      "_________________________________________________________________\n",
      "dense_8 (Dense)              (None, 64)                131136    \n",
      "_________________________________________________________________\n",
      "dropout_4 (Dropout)          (None, 64)                0         \n",
      "_________________________________________________________________\n",
      "dense_9 (Dense)              (None, 32)                2080      \n",
      "_________________________________________________________________\n",
      "dense_10 (Dense)             (None, 16)                528       \n",
      "_________________________________________________________________\n",
      "dense_11 (Dense)             (None, 10)                170       \n",
      "=================================================================\n",
      "Total params: 144,058\n",
      "Trainable params: 144,058\n",
      "Non-trainable params: 0\n",
      "_________________________________________________________________\n",
      "None\n"
     ]
    }
   ],
   "source": [
    "# Création du modèle\n",
    "model = tf.keras.Sequential([\n",
    "    tf.keras.layers.Conv2D(filters=32, kernel_size=3, padding=\"same\", activation=\"relu\", input_shape=[32, 32, 3]),\n",
    "    tf.keras.layers.MaxPool2D(pool_size=2, strides=2, padding='valid'),\n",
    "    tf.keras.layers.Dropout(0.2),\n",
    "    tf.keras.layers.Conv2D(filters=32, kernel_size=3, padding=\"same\", activation=\"relu\"),\n",
    "    tf.keras.layers.MaxPool2D(pool_size=2, strides=2, padding='valid'),\n",
    "    tf.keras.layers.Dropout(0.2),\n",
    "    tf.keras.layers.Flatten(),\n",
    "    tf.keras.layers.Dense(units=64, activation='relu'),\n",
    "    tf.keras.layers.Dropout(0.05),\n",
    "    tf.keras.layers.Dense(units=32, activation =\"relu\"),\n",
    "    tf.keras.layers.Dense(units=16, activation =\"relu\"),\n",
    "    tf.keras.layers.Dense(units=10, activation='softmax')\n",
    "])\n",
    "\n",
    "print(model.summary())\n",
    "\n",
    "# Learning Rate Schedule \n",
    "initial_learning_rate = 0.0005\n",
    "\n",
    "lr_schedule = tf.keras.optimizers.schedules.ExponentialDecay(\n",
    "    initial_learning_rate,\n",
    "    decay_steps=10000,\n",
    "    decay_rate=0.95,\n",
    "    staircase=True)\n",
    "\n",
    "# Compileur\n",
    "model.compile(optimizer=tf.keras.optimizers.Adam(learning_rate = lr_schedule),\n",
    "              loss = tf.keras.losses.SparseCategoricalCrossentropy(),\n",
    "              metrics = [tf.keras.metrics.SparseCategoricalAccuracy()])"
   ]
  },
  {
   "cell_type": "markdown",
   "metadata": {
    "colab_type": "text",
    "id": "W0tfb-13kqQ1"
   },
   "source": [
    "* Ré-entrainez votre modèle sur 15 à 30 epochs "
   ]
  },
  {
   "cell_type": "code",
   "execution_count": null,
   "metadata": {
    "colab": {
     "base_uri": "https://localhost:8080/",
     "height": 1000
    },
    "colab_type": "code",
    "executionInfo": {
     "elapsed": 773788,
     "status": "ok",
     "timestamp": 1598608817678,
     "user": {
      "displayName": "Sacha Duzelier",
      "photoUrl": "",
      "userId": "13358736834117062408"
     },
     "user_tz": -120
    },
    "id": "_xN-IgZ0pyQ5",
    "outputId": "0d493dfe-dc24-4ae6-b964-6d4728ff4118"
   },
   "outputs": [
    {
     "name": "stdout",
     "output_type": "stream",
     "text": [
      "Epoch 1/30\n",
      "1563/1563 [==============================] - 6s 4ms/step - loss: 1.8469 - sparse_categorical_accuracy: 0.3134 - val_loss: 1.5631 - val_sparse_categorical_accuracy: 0.4504\n",
      "Epoch 2/30\n",
      "1563/1563 [==============================] - 5s 3ms/step - loss: 1.5444 - sparse_categorical_accuracy: 0.4439 - val_loss: 1.3881 - val_sparse_categorical_accuracy: 0.5145\n",
      "Epoch 3/30\n",
      "1563/1563 [==============================] - 5s 3ms/step - loss: 1.4159 - sparse_categorical_accuracy: 0.4963 - val_loss: 1.2455 - val_sparse_categorical_accuracy: 0.5592\n",
      "Epoch 4/30\n",
      "1563/1563 [==============================] - 5s 3ms/step - loss: 1.3227 - sparse_categorical_accuracy: 0.5313 - val_loss: 1.1882 - val_sparse_categorical_accuracy: 0.5882\n",
      "Epoch 5/30\n",
      "1563/1563 [==============================] - 5s 3ms/step - loss: 1.2617 - sparse_categorical_accuracy: 0.5524 - val_loss: 1.1042 - val_sparse_categorical_accuracy: 0.6188\n",
      "Epoch 6/30\n",
      "1563/1563 [==============================] - 5s 3ms/step - loss: 1.2173 - sparse_categorical_accuracy: 0.5689 - val_loss: 1.1392 - val_sparse_categorical_accuracy: 0.5949\n",
      "Epoch 7/30\n",
      "1563/1563 [==============================] - 5s 3ms/step - loss: 1.1822 - sparse_categorical_accuracy: 0.5812 - val_loss: 1.0246 - val_sparse_categorical_accuracy: 0.6428\n",
      "Epoch 8/30\n",
      "1563/1563 [==============================] - 5s 3ms/step - loss: 1.1538 - sparse_categorical_accuracy: 0.5905 - val_loss: 1.0006 - val_sparse_categorical_accuracy: 0.6514\n",
      "Epoch 9/30\n",
      "1563/1563 [==============================] - 6s 4ms/step - loss: 1.1340 - sparse_categorical_accuracy: 0.5996 - val_loss: 0.9730 - val_sparse_categorical_accuracy: 0.6671\n",
      "Epoch 10/30\n",
      "1563/1563 [==============================] - 5s 3ms/step - loss: 1.1141 - sparse_categorical_accuracy: 0.6089 - val_loss: 0.9869 - val_sparse_categorical_accuracy: 0.6568\n",
      "Epoch 11/30\n",
      "1563/1563 [==============================] - 5s 3ms/step - loss: 1.0991 - sparse_categorical_accuracy: 0.6130 - val_loss: 0.9574 - val_sparse_categorical_accuracy: 0.6705\n",
      "Epoch 12/30\n",
      "1563/1563 [==============================] - 5s 3ms/step - loss: 1.0886 - sparse_categorical_accuracy: 0.6158 - val_loss: 0.9805 - val_sparse_categorical_accuracy: 0.6543\n",
      "Epoch 13/30\n",
      "1563/1563 [==============================] - 5s 3ms/step - loss: 1.0722 - sparse_categorical_accuracy: 0.6221 - val_loss: 0.9436 - val_sparse_categorical_accuracy: 0.6719\n",
      "Epoch 14/30\n",
      "1563/1563 [==============================] - 5s 3ms/step - loss: 1.0525 - sparse_categorical_accuracy: 0.6272 - val_loss: 0.9268 - val_sparse_categorical_accuracy: 0.6814\n",
      "Epoch 15/30\n",
      "1563/1563 [==============================] - 5s 3ms/step - loss: 1.0458 - sparse_categorical_accuracy: 0.6327 - val_loss: 0.9243 - val_sparse_categorical_accuracy: 0.6830\n",
      "Epoch 16/30\n",
      "1563/1563 [==============================] - 5s 3ms/step - loss: 1.0391 - sparse_categorical_accuracy: 0.6330 - val_loss: 0.9049 - val_sparse_categorical_accuracy: 0.6879\n",
      "Epoch 17/30\n",
      "1563/1563 [==============================] - 6s 4ms/step - loss: 1.0293 - sparse_categorical_accuracy: 0.6385 - val_loss: 0.8991 - val_sparse_categorical_accuracy: 0.6960\n",
      "Epoch 18/30\n",
      "1563/1563 [==============================] - 5s 3ms/step - loss: 1.0122 - sparse_categorical_accuracy: 0.6421 - val_loss: 0.9017 - val_sparse_categorical_accuracy: 0.6828\n",
      "Epoch 19/30\n",
      "1563/1563 [==============================] - 5s 3ms/step - loss: 1.0111 - sparse_categorical_accuracy: 0.6441 - val_loss: 0.8753 - val_sparse_categorical_accuracy: 0.6975\n",
      "Epoch 20/30\n",
      "1563/1563 [==============================] - 5s 3ms/step - loss: 1.0020 - sparse_categorical_accuracy: 0.6480 - val_loss: 0.8796 - val_sparse_categorical_accuracy: 0.6998\n",
      "Epoch 21/30\n",
      "1563/1563 [==============================] - 5s 3ms/step - loss: 0.9912 - sparse_categorical_accuracy: 0.6519 - val_loss: 0.8531 - val_sparse_categorical_accuracy: 0.7035\n",
      "Epoch 22/30\n",
      "1563/1563 [==============================] - 5s 3ms/step - loss: 0.9803 - sparse_categorical_accuracy: 0.6539 - val_loss: 0.8653 - val_sparse_categorical_accuracy: 0.7047\n",
      "Epoch 23/30\n",
      "1563/1563 [==============================] - 5s 3ms/step - loss: 0.9777 - sparse_categorical_accuracy: 0.6563 - val_loss: 0.8574 - val_sparse_categorical_accuracy: 0.7089\n",
      "Epoch 24/30\n",
      "1563/1563 [==============================] - 5s 3ms/step - loss: 0.9688 - sparse_categorical_accuracy: 0.6594 - val_loss: 0.8468 - val_sparse_categorical_accuracy: 0.7068\n",
      "Epoch 25/30\n",
      "1563/1563 [==============================] - 5s 3ms/step - loss: 0.9657 - sparse_categorical_accuracy: 0.6595 - val_loss: 0.8382 - val_sparse_categorical_accuracy: 0.7122\n",
      "Epoch 26/30\n",
      "1563/1563 [==============================] - 5s 3ms/step - loss: 0.9568 - sparse_categorical_accuracy: 0.6660 - val_loss: 0.8298 - val_sparse_categorical_accuracy: 0.7114\n",
      "Epoch 27/30\n",
      "1563/1563 [==============================] - 5s 3ms/step - loss: 0.9472 - sparse_categorical_accuracy: 0.6682 - val_loss: 0.8396 - val_sparse_categorical_accuracy: 0.7109\n",
      "Epoch 28/30\n",
      "1563/1563 [==============================] - 6s 4ms/step - loss: 0.9421 - sparse_categorical_accuracy: 0.6672 - val_loss: 0.8631 - val_sparse_categorical_accuracy: 0.7053\n",
      "Epoch 29/30\n",
      "1563/1563 [==============================] - 5s 3ms/step - loss: 0.9396 - sparse_categorical_accuracy: 0.6699 - val_loss: 0.8249 - val_sparse_categorical_accuracy: 0.7185\n",
      "Epoch 30/30\n",
      "1563/1563 [==============================] - 5s 3ms/step - loss: 0.9342 - sparse_categorical_accuracy: 0.6705 - val_loss: 0.8375 - val_sparse_categorical_accuracy: 0.7064\n"
     ]
    }
   ],
   "source": [
    "history = model.fit(repeated_ds, \n",
    "                    epochs=30,\n",
    "                    validation_data = ds_valid)"
   ]
  },
  {
   "cell_type": "markdown",
   "metadata": {
    "colab_type": "text",
    "id": "uRDbzAXlkv8h"
   },
   "source": [
    "* Faites les visualisations de de loss et d'accuracy "
   ]
  },
  {
   "cell_type": "code",
   "execution_count": null,
   "metadata": {
    "colab": {
     "base_uri": "https://localhost:8080/",
     "height": 279
    },
    "colab_type": "code",
    "executionInfo": {
     "elapsed": 774254,
     "status": "ok",
     "timestamp": 1598608818155,
     "user": {
      "displayName": "Sacha Duzelier",
      "photoUrl": "",
      "userId": "13358736834117062408"
     },
     "user_tz": -120
    },
    "id": "qGyJ5kH0p1di",
    "outputId": "3d5f4618-ec6f-499c-dd84-280116157921"
   },
   "outputs": [
    {
     "data": {
      "image/png": "[encoded data removed]",
      "text/plain": [
       "<Figure size 432x288 with 1 Axes>"
      ]
     },
     "metadata": {
      "needs_background": "light",
      "tags": []
     },
     "output_type": "display_data"
    }
   ],
   "source": [
    "plt.plot(history.history[\"loss\"], color=\"b\")\n",
    "plt.plot(history.history[\"val_loss\"], color=\"r\")\n",
    "plt.ylabel(\"loss\")\n",
    "plt.xlabel(\"Epochs\")\n",
    "plt.show()"
   ]
  },
  {
   "cell_type": "code",
   "execution_count": null,
   "metadata": {
    "colab": {
     "base_uri": "https://localhost:8080/",
     "height": 279
    },
    "colab_type": "code",
    "executionInfo": {
     "elapsed": 774245,
     "status": "ok",
     "timestamp": 1598608818157,
     "user": {
      "displayName": "Sacha Duzelier",
      "photoUrl": "",
      "userId": "13358736834117062408"
     },
     "user_tz": -120
    },
    "id": "ihG8E98T3Vo2",
    "outputId": "0ada1573-7a2c-4130-a51e-3efc43bc6ece"
   },
   "outputs": [
    {
     "data": {
      "image/png": "[encoded data removed]",
      "text/plain": [
       "<Figure size 432x288 with 1 Axes>"
      ]
     },
     "metadata": {
      "needs_background": "light",
      "tags": []
     },
     "output_type": "display_data"
    }
   ],
   "source": [
    "plt.plot(history.history[\"sparse_categorical_accuracy\"], color=\"b\")\n",
    "plt.plot(history.history[\"val_sparse_categorical_accuracy\"], color=\"r\")\n",
    "plt.ylabel(\"sparse_categorical_accuracy\")\n",
    "plt.xlabel(\"Epochs\")\n",
    "plt.show()"
   ]
  },
  {
   "cell_type": "markdown",
   "metadata": {
    "colab_type": "text",
    "id": "13iT6YJwJmfJ"
   },
   "source": [
    "# Annexe: Choisir le learning rate\n",
    "Le learning rate est LE paramètre le plus important à optimiser une fois que vous avez une architecture de réseau qui vous convient.\n",
    "\n",
    "On a choisi d'utiliser un learning rate schedule mais comment choisir le learning rate?\n",
    "\n",
    "1. On va tester différentes valeurs pour choisir un learning rate initial\n",
    "\n",
    "Voir [ici](https://machinelearningmastery.com/understand-the-dynamics-of-learning-rate-on-deep-learning-neural-networks/) pour plus d'informations sur comment tuner le learning rate\n",
    "\n",
    "Voir la librairie Keras Tuner pour optimisation d'hyperparametres avec tensorflow\n",
    "\n",
    "[voir ici pour optimisation hyperparametres](https://www.tensorflow.org/tensorboard/hyperparameter_tuning_with_hparams)\n",
    "\n",
    "[google automl](https://cloud.google.com/automl?hl=fr)"
   ]
  },
  {
   "cell_type": "code",
   "execution_count": 59,
   "metadata": {
    "colab": {
     "base_uri": "https://localhost:8080/",
     "height": 1000
    },
    "colab_type": "code",
    "executionInfo": {
     "elapsed": 4886035,
     "status": "ok",
     "timestamp": 1598697552244,
     "user": {
      "displayName": "Sacha Duzelier",
      "photoUrl": "",
      "userId": "13358736834117062408"
     },
     "user_tz": -120
    },
    "id": "jQY4s7YiJpiX",
    "outputId": "80799961-44ed-417e-bf36-746bc358043f"
   },
   "outputs": [
    {
     "data": {
      "image/png": "[encoded data removed]",
      "text/plain": [
       "<Figure size 432x288 with 1 Axes>"
      ]
     },
     "metadata": {
      "needs_background": "light",
      "tags": []
     },
     "output_type": "display_data"
    },
    {
     "data": {
      "image/png": "[encoded data removed]",
      "text/plain": [
       "<Figure size 432x288 with 1 Axes>"
      ]
     },
     "metadata": {
      "needs_background": "light",
      "tags": []
     },
     "output_type": "display_data"
    },
    {
     "data": {
      "image/png": "[encoded data removed]",
      "text/plain": [
       "<Figure size 432x288 with 1 Axes>"
      ]
     },
     "metadata": {
      "needs_background": "light",
      "tags": []
     },
     "output_type": "display_data"
    },
    {
     "data": {
      "image/png": "[encoded data removed]",
      "text/plain": [
       "<Figure size 432x288 with 1 Axes>"
      ]
     },
     "metadata": {
      "needs_background": "light",
      "tags": []
     },
     "output_type": "display_data"
    },
    {
     "data": {
      "image/png": "[encoded data removed]",
      "text/plain": [
       "<Figure size 432x288 with 1 Axes>"
      ]
     },
     "metadata": {
      "needs_background": "light",
      "tags": []
     },
     "output_type": "display_data"
    },
    {
     "data": {
      "image/png": "[encoded data removed]",
      "text/plain": [
       "<Figure size 432x288 with 1 Axes>"
      ]
     },
     "metadata": {
      "needs_background": "light",
      "tags": []
     },
     "output_type": "display_data"
    }
   ],
   "source": [
    "def create_model():\n",
    "  model = tf.keras.Sequential([\n",
    "    tf.keras.layers.Conv2D(filters=32, kernel_size=3, padding=\"same\", activation=\"relu\", input_shape=[32, 32, 3]),\n",
    "    tf.keras.layers.MaxPool2D(pool_size=2, padding=\"same\"),\n",
    "    tf.keras.layers.Conv2D(filters=32, kernel_size=3, padding=\"same\", activation=\"relu\"),\n",
    "    tf.keras.layers.MaxPool2D(pool_size=2, padding=\"same\"),\n",
    "    tf.keras.layers.Flatten(),\n",
    "    tf.keras.layers.Dense(units=64, activation='relu'),\n",
    "    tf.keras.layers.Dropout(0.05),\n",
    "    tf.keras.layers.Dense(units=32, activation =\"relu\"),\n",
    "    tf.keras.layers.Dense(units=16, activation =\"relu\"),\n",
    "    tf.keras.layers.Dense(units=10, activation='softmax')\n",
    "  ])\n",
    "\n",
    "  return model\n",
    "\n",
    "# On teste différentes valeurs entre 0.1 et 10^-6\n",
    "learning_rates = [.1, .01, .001, .0001, .00001, .000001]\n",
    "n_epoch = 10\n",
    "\n",
    "for i,lr in enumerate(learning_rates):\n",
    "\n",
    "  model = create_model()\n",
    "  \n",
    "  model.compile(optimizer=tf.keras.optimizers.Adam(learning_rate = lr),\n",
    "                loss = tf.keras.losses.SparseCategoricalCrossentropy(),\n",
    "                metrics = [tf.keras.metrics.SparseCategoricalAccuracy()])\n",
    "  \n",
    "  history = model.fit(repeated_ds, \n",
    "                      epochs=n_epoch,\n",
    "                      validation_data = ds_valid,\n",
    "                      verbose=0)\n",
    "  \n",
    "  plt.plot(history.history['sparse_categorical_accuracy'], color=\"b\", label='train')\n",
    "  plt.plot(history.history['val_sparse_categorical_accuracy'], color=\"r\", label='test')\n",
    "  plt.title('lrate='+str(lr))\n",
    "  plt.show()\n"
   ]
  }
 ],
 "metadata": {
  "accelerator": "GPU",
  "colab": {
   "collapsed_sections": [],
   "name": "Copie_de_Cifar10_Solution.ipynb",
   "provenance": []
  },
  "kernelspec": {
   "display_name": "Python 3",
   "language": "python",
   "name": "python3"
  },
  "language_info": {
   "codemirror_mode": {
    "name": "ipython",
    "version": 3
   },
   "file_extension": ".py",
   "mimetype": "text/x-python",
   "name": "python",
   "nbconvert_exporter": "python",
   "pygments_lexer": "ipython3",
   "version": "3.7.6"
  }
 },
 "nbformat": 4,
 "nbformat_minor": 1
}
