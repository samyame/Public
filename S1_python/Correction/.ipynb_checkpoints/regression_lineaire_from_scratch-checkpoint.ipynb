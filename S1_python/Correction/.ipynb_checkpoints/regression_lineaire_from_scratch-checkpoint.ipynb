{
 "cells": [
  {
   "cell_type": "markdown",
   "metadata": {
    "colab_type": "text",
    "id": "OAW27oqRGbOp"
   },
   "source": [
    "# Faire une régression Linéaire sans Scikit Learn\n",
    "\n"
   ]
  },
  {
   "cell_type": "markdown",
   "metadata": {
    "colab_type": "text",
    "id": "dYaJBHGNGk3O"
   },
   "source": [
    "Rien de tel pour comprendre une descnte de gradient que de la coder entièrement. Cela peut paraitre difficile à première vue mais ne vous en faites pas, nous allons vous guider pas à pas. \n",
    "\n",
    "N'hésitez pas à revenir sur votre cours de Machine Learning sur les régressions linéaires pour vous rafraichir la mémoire. \n",
    "\n",
    "Notre but va être de coder une régression linéaire simple de type : \n",
    "\n",
    "`f(x) = a*x + b`"
   ]
  },
  {
   "cell_type": "markdown",
   "metadata": {
    "colab_type": "text",
    "id": "dFAeKaG2GuI_"
   },
   "source": [
    "* Importez les librairies suivantes : \n",
    "  * Numpy "
   ]
  },
  {
   "cell_type": "code",
   "execution_count": 1,
   "metadata": {
    "colab": {},
    "colab_type": "code",
    "id": "9OHkKal3F3Su"
   },
   "outputs": [],
   "source": [
    " import numpy as np"
   ]
  },
  {
   "cell_type": "markdown",
   "metadata": {
    "colab_type": "text",
    "id": "7_za_8SvGz_j"
   },
   "source": [
    "* Définissez une classe `Model` qui prendra deux méthodes : \n",
    "  1. `__init__(self)` qui va vous permettre de définir votre coefficient `a` et votre constante `b`. Ces coefficients seront initialisés de manière aléatoire grâce à Numpy (cf : `np.random.randn`)\n",
    "  2. `__call__(self, x)` qui va retourner `a*x + b`"
   ]
  },
  {
   "cell_type": "code",
   "execution_count": 5,
   "metadata": {
    "colab": {},
    "colab_type": "code",
    "id": "9yj54VrvGzZL"
   },
   "outputs": [],
   "source": [
    "class Model:\n",
    "    \n",
    "    def __init__(self):\n",
    "        self.a = np.random.randn()\n",
    "        self.b = np.random.randn()\n",
    "    \n",
    "    def __call__(self,x):\n",
    "        return self.a*x+self.b\n",
    "        "
   ]
  },
  {
   "cell_type": "markdown",
   "metadata": {
    "colab_type": "text",
    "id": "Uy2AancAImU6"
   },
   "source": [
    "* Créez une instance de votre modèle "
   ]
  },
  {
   "cell_type": "code",
   "execution_count": 6,
   "metadata": {
    "colab": {},
    "colab_type": "code",
    "id": "BD_hpDRnIhAi"
   },
   "outputs": [],
   "source": [
    "model = Model()"
   ]
  },
  {
   "cell_type": "markdown",
   "metadata": {
    "colab_type": "text",
    "id": "vkltTi5mIsUz"
   },
   "source": [
    "* Tentez de faire une première \"régression\" en mettant `model(3.0)`. \n",
    "NB : Si vous n'avez pas les même valeurs que ce notebook en output, c'est normal puisque vous avez initialisé vos valeurs aléatoirement "
   ]
  },
  {
   "cell_type": "code",
   "execution_count": 10,
   "metadata": {
    "colab": {
     "base_uri": "https://localhost:8080/",
     "height": 34
    },
    "colab_type": "code",
    "id": "K6TRkRHHIpj6",
    "outputId": "360b161d-4d2d-47ed-93d8-ad592979c92a"
   },
   "outputs": [
    {
     "data": {
      "text/plain": [
       "4.938885364943663"
      ]
     },
     "execution_count": 10,
     "metadata": {},
     "output_type": "execute_result"
    }
   ],
   "source": [
    "model(3)"
   ]
  },
  {
   "cell_type": "markdown",
   "metadata": {
    "colab_type": "text",
    "id": "WM4sjYAMI8SU"
   },
   "source": [
    "* Cette valeur correspond à une prédiction aléatoire de votre modèle. Mais nous n'avons pas de données pour le moment. Cette fois, utilisons `sklearn` pour importer des données \n",
    "  * Importez `sklearn.datasets`\n",
    "  * Utilisez la fonction `load_diabetes()` pour charger le dataset du dabiète"
   ]
  },
  {
   "cell_type": "code",
   "execution_count": 15,
   "metadata": {
    "colab": {
     "base_uri": "https://localhost:8080/",
     "height": 1000
    },
    "colab_type": "code",
    "id": "xhNwqKzxIqqH",
    "outputId": "fdd59307-06ae-4997-c0a5-8987e4e9eb55"
   },
   "outputs": [],
   "source": [
    "from sklearn.datasets import load_diabetes\n",
    "\n",
    "data = load_diabetes()"
   ]
  },
  {
   "cell_type": "markdown",
   "metadata": {
    "colab_type": "text",
    "id": "LJM9AOYjJ5z3"
   },
   "source": [
    "* Nous avons trop de données dans ce dataset, prenez uniquement la troisième colonne du dataset et stockez la dans une variable `diabetes_X`"
   ]
  },
  {
   "cell_type": "code",
   "execution_count": 27,
   "metadata": {
    "colab": {
     "base_uri": "https://localhost:8080/",
     "height": 34
    },
    "colab_type": "code",
    "id": "yDg5Ykm4J06E",
    "outputId": "aa631c4a-e710-4c05-cf5f-a61b66c2d7e6"
   },
   "outputs": [],
   "source": [
    "diabetes_X = data['data'][:,2]"
   ]
  },
  {
   "cell_type": "markdown",
   "metadata": {
    "colab_type": "text",
    "id": "GIaz07XvLNOP"
   },
   "source": [
    "* Stockez ensuite votre target dans une variable `y`"
   ]
  },
  {
   "cell_type": "code",
   "execution_count": 28,
   "metadata": {
    "colab": {
     "base_uri": "https://localhost:8080/",
     "height": 34
    },
    "colab_type": "code",
    "id": "gzNKO9JyLNp9",
    "outputId": "86fe2647-ebe7-463c-cc73-a73fe0c0551c"
   },
   "outputs": [],
   "source": [
    "y = data['target']"
   ]
  },
  {
   "cell_type": "markdown",
   "metadata": {
    "colab_type": "text",
    "id": "S4goQEJvKsS8"
   },
   "source": [
    "* Visualisez vos données en utilisant `Matplotlib`"
   ]
  },
  {
   "cell_type": "code",
   "execution_count": 30,
   "metadata": {
    "colab": {
     "base_uri": "https://localhost:8080/",
     "height": 286
    },
    "colab_type": "code",
    "id": "8Mvb3tc8KHJJ",
    "outputId": "a5393869-e70f-48b5-d0b8-3867820ab05d"
   },
   "outputs": [
    {
     "data": {
      "text/plain": [
       "<matplotlib.collections.PathCollection at 0x2692a8fe7c8>"
      ]
     },
     "execution_count": 30,
     "metadata": {},
     "output_type": "execute_result"
    },
    {
     "data": {
      "image/png": "[encoded data removed]",
      "text/plain": [
       "<Figure size 432x288 with 1 Axes>"
      ]
     },
     "metadata": {
      "needs_background": "light"
     },
     "output_type": "display_data"
    }
   ],
   "source": [
    "import matplotlib.pyplot as plt\n",
    "\n",
    "plt.scatter(diabetes_X, y)"
   ]
  },
  {
   "cell_type": "markdown",
   "metadata": {
    "colab_type": "text",
    "id": "DPi5j2qlLXPn"
   },
   "source": [
    "* Il faut maintenant qu'on définisse une fonction de coût. Pour une régression linéaire, nous pourrions utiliser la méthode des moindres carrés. \n",
    "\n",
    "Pour cela, nous allons calculer la somme des distance entre la valeurs prédite de notre modèle et la valeur réelle et nous allons en calculer la moyenne. Autrement dit, nous aurons : \n",
    "\n",
    "`np.mean((model(input) - y)**2)`\n",
    "\n",
    "C'est ce qu'on peut appeler notre erreur moyenne ou l'écart moyen entre notre prédiction et les valeurs réelles. Notre but va être de minimiser cette fonction de coût. \n",
    "\n",
    "  * Créez donc cette fonction qu'on appellera `mse` (pour mean square error). Cette fonction prendra deux arguments `y_pred` & `y_true`"
   ]
  },
  {
   "cell_type": "code",
   "execution_count": 0,
   "metadata": {
    "colab": {},
    "colab_type": "code",
    "id": "wqWx5tEHK9ur"
   },
   "outputs": [],
   "source": []
  },
  {
   "cell_type": "markdown",
   "metadata": {
    "colab_type": "text",
    "id": "69LJkKbCM-H6"
   },
   "source": [
    "* Testez votre fonction en insérant `model(diabetes_X)` & `y` en argument "
   ]
  },
  {
   "cell_type": "code",
   "execution_count": 0,
   "metadata": {
    "colab": {
     "base_uri": "https://localhost:8080/",
     "height": 34
    },
    "colab_type": "code",
    "id": "ULoKIwiXMmft",
    "outputId": "c4049721-78f6-42d3-82b8-e6ad91a23a7d"
   },
   "outputs": [
    {
     "data": {
      "text/plain": [
       "29186.750579682073"
      ]
     },
     "execution_count": 214,
     "metadata": {
      "tags": []
     },
     "output_type": "execute_result"
    }
   ],
   "source": []
  },
  {
   "cell_type": "markdown",
   "metadata": {
    "colab_type": "text",
    "id": "zKSq1LcSNF2k"
   },
   "source": [
    "* Visualisez votre régression par rapport à vos points "
   ]
  },
  {
   "cell_type": "code",
   "execution_count": 0,
   "metadata": {
    "colab": {
     "base_uri": "https://localhost:8080/",
     "height": 286
    },
    "colab_type": "code",
    "id": "magxD6QpM4hV",
    "outputId": "6eafec3e-13ca-4ca7-8006-7c0183fc563c"
   },
   "outputs": [
    {
     "data": {
      "text/plain": [
       "[<matplotlib.lines.Line2D at 0x7fa4a87b2400>]"
      ]
     },
     "execution_count": 215,
     "metadata": {
      "tags": []
     },
     "output_type": "execute_result"
    },
    {
     "data": {
      "image/png": "[encoded data removed]",
      "text/plain": [
       "<Figure size 432x288 with 1 Axes>"
      ]
     },
     "metadata": {
      "tags": []
     },
     "output_type": "display_data"
    }
   ],
   "source": []
  },
  {
   "cell_type": "markdown",
   "metadata": {
    "colab_type": "text",
    "id": "b4t0xlPMwwuf"
   },
   "source": [
    "* Il va falloir qu'on calcule les gradients pour notre variable `model.a` et notre constante `model.b`. Pour cela, il va falloir qu'on revoit nos formules de dérivées. Puisque nous ne sommes pas ici pour faire des mathématiques, nous allons vous donner ces formules. \n",
    "  * `derive_model_w = 2/len(y_pred)*np.sum((np.matrix(x) @ (y_pred - y_true)))`\n",
    "  * `derive_model_b = 2/len(y_pred)*(np.sum(y_pred - y_true))`\n",
    "\n",
    "  * N'hésitez pas à vous documenter sur cet article si vous souhaitez en savoir plus sur le calcul de la dérivée : [Gradient Descent Derivation](https://mccormickml.com/2014/03/04/gradient-descent-derivation/)\n",
    "\n",
    "\n",
    "  * En utilisant donc les formules ci-dessus, codez la première fonction `derivative_mse_x` qui prendra les arguments : \n",
    "    * `x` --> les valeurs pour votre variable X / `y_pred` --> les valeurs prédites par votre modèle / `y_true` --> les valeurs réelles à prédire\n"
   ]
  },
  {
   "cell_type": "code",
   "execution_count": 0,
   "metadata": {
    "colab": {},
    "colab_type": "code",
    "id": "JrVNZeiFnoDE"
   },
   "outputs": [],
   "source": [
    "# Calcul de la dérivée pour model.a\n"
   ]
  },
  {
   "cell_type": "markdown",
   "metadata": {
    "colab_type": "text",
    "id": "wtno1PCmzGSy"
   },
   "source": [
    "* Testez votre fonction "
   ]
  },
  {
   "cell_type": "code",
   "execution_count": 0,
   "metadata": {
    "colab": {
     "base_uri": "https://localhost:8080/",
     "height": 34
    },
    "colab_type": "code",
    "id": "n5Fgfu5En1Cl",
    "outputId": "74be3075-3126-442c-9b73-4d0f03ca6e21"
   },
   "outputs": [
    {
     "data": {
      "text/plain": [
       "-4.296059978389615"
      ]
     },
     "execution_count": 217,
     "metadata": {
      "tags": []
     },
     "output_type": "execute_result"
    }
   ],
   "source": []
  },
  {
   "cell_type": "markdown",
   "metadata": {
    "colab_type": "text",
    "id": "t7uluSUoy6x4"
   },
   "source": [
    "* En utilisant donc les formules ci-dessus, codez maintenant la fonction derivative_mse_constant qui prendra les arguments :\n",
    "    * `y_pred` --> les valeurs prédites par votre modèle / `y_true` --> les valeurs réelles à prédire"
   ]
  },
  {
   "cell_type": "code",
   "execution_count": 0,
   "metadata": {
    "colab": {},
    "colab_type": "code",
    "id": "DjFHRuH8nMEH"
   },
   "outputs": [],
   "source": [
    "# Calcul de la dérivée pour model.b \n"
   ]
  },
  {
   "cell_type": "markdown",
   "metadata": {
    "colab_type": "text",
    "id": "4R9sfYPdzNYc"
   },
   "source": [
    "* Testez votre fonction "
   ]
  },
  {
   "cell_type": "code",
   "execution_count": 0,
   "metadata": {
    "colab": {
     "base_uri": "https://localhost:8080/",
     "height": 34
    },
    "colab_type": "code",
    "id": "DPNk2cCol8sG",
    "outputId": "dd95b1fe-a84d-41f7-e246-a1a2b3527c97"
   },
   "outputs": [
    {
     "data": {
      "text/plain": [
       "-305.0042064062768"
      ]
     },
     "execution_count": 219,
     "metadata": {
      "tags": []
     },
     "output_type": "execute_result"
    }
   ],
   "source": []
  },
  {
   "cell_type": "markdown",
   "metadata": {
    "colab_type": "text",
    "id": "tmtfiOnszUqi"
   },
   "source": [
    "* Nous allons tenter de voir si nous pouvons minimiser notre fonction de coût en utilisant les deux gradients du dessus. Pour mettre à jour nos variables, nous avons besoin de soustraire leur gradients respectifs. Ex : \n",
    "  * `param = param - learning_rate * gradient`\n",
    "\n",
    "  * Définissez un `learning_rate` à 0.1\n",
    "  * Tentez d'appliquer votre formule sur `model.a` et `model.b`"
   ]
  },
  {
   "cell_type": "code",
   "execution_count": 0,
   "metadata": {
    "colab": {
     "base_uri": "https://localhost:8080/",
     "height": 84
    },
    "colab_type": "code",
    "id": "WRROMSkNzvnI",
    "outputId": "f9e27d42-3491-4085-a4c0-5707c6c51ade"
   },
   "outputs": [
    {
     "name": "stdout",
     "output_type": "stream",
     "text": [
      "OLD model.a = [0.00600516]\n",
      "OLD model.b = [-0.36861904]\n",
      "NEW model.a = [0.43561116]\n",
      "NEW model.b = [30.1318016]\n"
     ]
    }
   ],
   "source": []
  },
  {
   "cell_type": "markdown",
   "metadata": {
    "colab_type": "text",
    "id": "JaI_Zm-w0gxW"
   },
   "source": [
    "* Calculez à nouveau votre MSE "
   ]
  },
  {
   "cell_type": "code",
   "execution_count": 0,
   "metadata": {
    "colab": {
     "base_uri": "https://localhost:8080/",
     "height": 34
    },
    "colab_type": "code",
    "id": "tz-ZBUTh0ixs",
    "outputId": "4fa23007-b279-4c47-b806-3550b7589a5b"
   },
   "outputs": [
    {
     "data": {
      "text/plain": [
       "20812.424450810766"
      ]
     },
     "execution_count": 221,
     "metadata": {
      "tags": []
     },
     "output_type": "execute_result"
    }
   ],
   "source": []
  },
  {
   "cell_type": "markdown",
   "metadata": {
    "colab_type": "text",
    "id": "cCOgW_6N0nvt"
   },
   "source": [
    "* Notre MSE a beaucoup baissé ! C'est une bonne nouvelle mais le processus de descente de gradient est itératif. Vous devrez donc le faire plusieurs fois avant d'arriver à des prédictions précises. \n",
    "  * En faisant une boucle, tentez de répéter le processus d'au-dessus 10000 fois \n",
    "  * Affichez toutes les 1000 epochs : la mse, model.a & model.b  "
   ]
  },
  {
   "cell_type": "code",
   "execution_count": 0,
   "metadata": {
    "colab": {},
    "colab_type": "code",
    "id": "N_Vxa_rlpxRU"
   },
   "outputs": [],
   "source": [
    "# Définission d'un learning rate et d'un nombre d'itérations \n"
   ]
  },
  {
   "cell_type": "code",
   "execution_count": 0,
   "metadata": {
    "colab": {
     "base_uri": "https://localhost:8080/",
     "height": 756
    },
    "colab_type": "code",
    "id": "I7JLxLKLs0UG",
    "outputId": "a80fcd3e-2bac-4f51-88eb-47b864186485"
   },
   "outputs": [
    {
     "name": "stdout",
     "output_type": "stream",
     "text": [
      "-------------------- Epoch 0 --------------------\n",
      "Current Loss: 20812.424450810766\n",
      "W = [0.86502276]\n",
      "b = [54.53213811]\n",
      "-------------------- Epoch 1000 --------------------\n",
      "Current Loss: 4714.583707665394\n",
      "W = [346.16532764]\n",
      "b = [152.13348416]\n",
      "-------------------- Epoch 2000 --------------------\n",
      "Current Loss: 4223.789791745661\n",
      "W = [565.76877232]\n",
      "b = [152.13348416]\n",
      "-------------------- Epoch 3000 --------------------\n",
      "Current Loss: 4025.2792644123865\n",
      "W = [705.431762]\n",
      "b = [152.13348416]\n",
      "-------------------- Epoch 4000 --------------------\n",
      "Current Loss: 3944.9880705244404\n",
      "W = [794.25437]\n",
      "b = [152.13348416]\n",
      "-------------------- Epoch 5000 --------------------\n",
      "Current Loss: 3912.5128365781397\n",
      "W = [850.74360679]\n",
      "b = [152.13348416]\n",
      "-------------------- Epoch 6000 --------------------\n",
      "Current Loss: 3899.3776374510862\n",
      "W = [886.66952637]\n",
      "b = [152.13348416]\n",
      "-------------------- Epoch 7000 --------------------\n",
      "Current Loss: 3894.064867221544\n",
      "W = [909.51762579]\n",
      "b = [152.13348416]\n",
      "-------------------- Epoch 8000 --------------------\n",
      "Current Loss: 3891.9160206575225\n",
      "W = [924.04851749]\n",
      "b = [152.13348416]\n",
      "-------------------- Epoch 9000 --------------------\n",
      "Current Loss: 3891.0468805750033\n",
      "W = [933.28984693]\n",
      "b = [152.13348416]\n",
      "-------------------- Epoch 9999 --------------------\n",
      "Current Loss: 3890.6955572732427\n",
      "W = [939.16248209]\n",
      "b = [152.13348416]\n"
     ]
    }
   ],
   "source": [
    "\n",
    "  # Calcul de la loss\n",
    "  \n",
    "  \n",
    "  # Mise à jour des variables \n",
    "  \n",
    "\n",
    "  # Affichage des variables mises à jour \n",
    "  "
   ]
  },
  {
   "cell_type": "markdown",
   "metadata": {
    "colab_type": "text",
    "id": "eeXT-MEa1nGD"
   },
   "source": [
    "* En utilisant `Matplotlib`, visualisez à nouveau votre modèle et vos valeurs réelles "
   ]
  },
  {
   "cell_type": "code",
   "execution_count": 0,
   "metadata": {
    "colab": {
     "base_uri": "https://localhost:8080/",
     "height": 269
    },
    "colab_type": "code",
    "id": "W-yIcFsltoDJ",
    "outputId": "362face0-d867-4761-a1e3-e17f3b518218"
   },
   "outputs": [
    {
     "data": {
      "image/png": "[encoded data removed]",
      "text/plain": [
       "<Figure size 432x288 with 1 Axes>"
      ]
     },
     "metadata": {
      "tags": []
     },
     "output_type": "display_data"
    }
   ],
   "source": []
  },
  {
   "cell_type": "markdown",
   "metadata": {
    "colab_type": "text",
    "id": "_zsSa40s1xZS"
   },
   "source": [
    "**Nous avons cette fois une belle régression !** "
   ]
  },
  {
   "cell_type": "code",
   "execution_count": 0,
   "metadata": {
    "colab": {},
    "colab_type": "code",
    "id": "LRBIMOUCuJh_"
   },
   "outputs": [],
   "source": []
  }
 ],
 "metadata": {
  "colab": {
   "collapsed_sections": [],
   "name": "Linear Regression From Scratch - EXERCICE.ipynb",
   "provenance": [],
   "version": "0.3.2"
  },
  "kernelspec": {
   "display_name": "Python 3",
   "language": "python",
   "name": "python3"
  },
  "language_info": {
   "codemirror_mode": {
    "name": "ipython",
    "version": 3
   },
   "file_extension": ".py",
   "mimetype": "text/x-python",
   "name": "python",
   "nbconvert_exporter": "python",
   "pygments_lexer": "ipython3",
   "version": "3.7.6"
  }
 },
 "nbformat": 4,
 "nbformat_minor": 1
}
