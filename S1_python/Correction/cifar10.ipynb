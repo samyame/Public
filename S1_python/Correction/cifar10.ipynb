{
 "cells": [
  {
   "cell_type": "markdown",
   "metadata": {
    "colab_type": "text",
    "id": "XkKA394VL3ia"
   },
   "source": [
    "# Cifar10\n",
    "\n",
    "Passons à autre chose que du Cats & Dogs. Nous allons essayer de créer un CNN qui va classer non pas 2 mais 10 labels d'images différents. Nous tirons les images du dataset nommé [Cifar10](http://www.cs.utoronto.ca/~kriz/cifar.html) "
   ]
  },
  {
   "cell_type": "markdown",
   "metadata": {
    "colab_type": "text",
    "id": "4FfjxcBKMHT2"
   },
   "source": [
    "* Importez :\n",
    "  * Tensorflow 2.0\n",
    "  * Numpy \n",
    "  * Matplotlib.pyplot "
   ]
  },
  {
   "cell_type": "code",
   "execution_count": 0,
   "metadata": {
    "colab": {
     "base_uri": "https://localhost:8080/",
     "height": 1000
    },
    "colab_type": "code",
    "id": "3W5YgmKFLzw0",
    "outputId": "fb1e312d-e507-48ca-edf0-1928f8c61608"
   },
   "outputs": [
    {
     "name": "stdout",
     "output_type": "stream",
     "text": [
      "Collecting tensorflow\n",
      "\u001b[?25l  Downloading https://files.pythonhosted.org/packages/85/d4/c0cd1057b331bc38b65478302114194bd8e1b9c2bbc06e300935c0e93d90/tensorflow-2.1.0-cp36-cp36m-manylinux2010_x86_64.whl (421.8MB)\n",
      "\u001b[K     |████████████████████████████████| 421.8MB 44kB/s \n",
      "\u001b[?25hRequirement already satisfied, skipping upgrade: keras-preprocessing>=1.1.0 in /usr/local/lib/python3.6/dist-packages (from tensorflow) (1.1.0)\n",
      "Requirement already satisfied, skipping upgrade: absl-py>=0.7.0 in /usr/local/lib/python3.6/dist-packages (from tensorflow) (0.9.0)\n",
      "Requirement already satisfied, skipping upgrade: termcolor>=1.1.0 in /usr/local/lib/python3.6/dist-packages (from tensorflow) (1.1.0)\n",
      "Requirement already satisfied, skipping upgrade: protobuf>=3.8.0 in /usr/local/lib/python3.6/dist-packages (from tensorflow) (3.10.0)\n",
      "Requirement already satisfied, skipping upgrade: wrapt>=1.11.1 in /usr/local/lib/python3.6/dist-packages (from tensorflow) (1.11.2)\n",
      "Collecting tensorboard<2.2.0,>=2.1.0\n",
      "\u001b[?25l  Downloading https://files.pythonhosted.org/packages/40/23/53ffe290341cd0855d595b0a2e7485932f473798af173bbe3a584b99bb06/tensorboard-2.1.0-py3-none-any.whl (3.8MB)\n",
      "\u001b[K     |████████████████████████████████| 3.8MB 25.3MB/s \n",
      "\u001b[?25hRequirement already satisfied, skipping upgrade: astor>=0.6.0 in /usr/local/lib/python3.6/dist-packages (from tensorflow) (0.8.1)\n",
      "Requirement already satisfied, skipping upgrade: six>=1.12.0 in /usr/local/lib/python3.6/dist-packages (from tensorflow) (1.12.0)\n",
      "Requirement already satisfied, skipping upgrade: wheel>=0.26; python_version >= \"3\" in /usr/local/lib/python3.6/dist-packages (from tensorflow) (0.34.2)\n",
      "Requirement already satisfied, skipping upgrade: scipy==1.4.1; python_version >= \"3\" in /usr/local/lib/python3.6/dist-packages (from tensorflow) (1.4.1)\n",
      "Collecting tensorflow-estimator<2.2.0,>=2.1.0rc0\n",
      "\u001b[?25l  Downloading https://files.pythonhosted.org/packages/18/90/b77c328a1304437ab1310b463e533fa7689f4bfc41549593056d812fab8e/tensorflow_estimator-2.1.0-py2.py3-none-any.whl (448kB)\n",
      "\u001b[K     |████████████████████████████████| 450kB 65.3MB/s \n",
      "\u001b[?25hRequirement already satisfied, skipping upgrade: google-pasta>=0.1.6 in /usr/local/lib/python3.6/dist-packages (from tensorflow) (0.1.8)\n",
      "Requirement already satisfied, skipping upgrade: gast==0.2.2 in /usr/local/lib/python3.6/dist-packages (from tensorflow) (0.2.2)\n",
      "Requirement already satisfied, skipping upgrade: opt-einsum>=2.3.2 in /usr/local/lib/python3.6/dist-packages (from tensorflow) (3.1.0)\n",
      "Requirement already satisfied, skipping upgrade: numpy<2.0,>=1.16.0 in /usr/local/lib/python3.6/dist-packages (from tensorflow) (1.17.5)\n",
      "Requirement already satisfied, skipping upgrade: keras-applications>=1.0.8 in /usr/local/lib/python3.6/dist-packages (from tensorflow) (1.0.8)\n",
      "Requirement already satisfied, skipping upgrade: grpcio>=1.8.6 in /usr/local/lib/python3.6/dist-packages (from tensorflow) (1.15.0)\n",
      "Requirement already satisfied, skipping upgrade: setuptools in /usr/local/lib/python3.6/dist-packages (from protobuf>=3.8.0->tensorflow) (45.1.0)\n",
      "Requirement already satisfied, skipping upgrade: markdown>=2.6.8 in /usr/local/lib/python3.6/dist-packages (from tensorboard<2.2.0,>=2.1.0->tensorflow) (3.1.1)\n",
      "Collecting google-auth<2,>=1.6.3\n",
      "\u001b[?25l  Downloading https://files.pythonhosted.org/packages/1c/6d/7aae38a9022f982cf8167775c7fc299f203417b698c27080ce09060bba07/google_auth-1.11.0-py2.py3-none-any.whl (76kB)\n",
      "\u001b[K     |████████████████████████████████| 81kB 12.2MB/s \n",
      "\u001b[?25hRequirement already satisfied, skipping upgrade: werkzeug>=0.11.15 in /usr/local/lib/python3.6/dist-packages (from tensorboard<2.2.0,>=2.1.0->tensorflow) (0.16.1)\n",
      "Requirement already satisfied, skipping upgrade: requests<3,>=2.21.0 in /usr/local/lib/python3.6/dist-packages (from tensorboard<2.2.0,>=2.1.0->tensorflow) (2.21.0)\n",
      "Requirement already satisfied, skipping upgrade: google-auth-oauthlib<0.5,>=0.4.1 in /usr/local/lib/python3.6/dist-packages (from tensorboard<2.2.0,>=2.1.0->tensorflow) (0.4.1)\n",
      "Requirement already satisfied, skipping upgrade: h5py in /usr/local/lib/python3.6/dist-packages (from keras-applications>=1.0.8->tensorflow) (2.8.0)\n",
      "Requirement already satisfied, skipping upgrade: rsa<4.1,>=3.1.4 in /usr/local/lib/python3.6/dist-packages (from google-auth<2,>=1.6.3->tensorboard<2.2.0,>=2.1.0->tensorflow) (4.0)\n",
      "Requirement already satisfied, skipping upgrade: pyasn1-modules>=0.2.1 in /usr/local/lib/python3.6/dist-packages (from google-auth<2,>=1.6.3->tensorboard<2.2.0,>=2.1.0->tensorflow) (0.2.8)\n",
      "Requirement already satisfied, skipping upgrade: cachetools<5.0,>=2.0.0 in /usr/local/lib/python3.6/dist-packages (from google-auth<2,>=1.6.3->tensorboard<2.2.0,>=2.1.0->tensorflow) (4.0.0)\n",
      "Requirement already satisfied, skipping upgrade: certifi>=2017.4.17 in /usr/local/lib/python3.6/dist-packages (from requests<3,>=2.21.0->tensorboard<2.2.0,>=2.1.0->tensorflow) (2019.11.28)\n",
      "Requirement already satisfied, skipping upgrade: chardet<3.1.0,>=3.0.2 in /usr/local/lib/python3.6/dist-packages (from requests<3,>=2.21.0->tensorboard<2.2.0,>=2.1.0->tensorflow) (3.0.4)\n",
      "Requirement already satisfied, skipping upgrade: urllib3<1.25,>=1.21.1 in /usr/local/lib/python3.6/dist-packages (from requests<3,>=2.21.0->tensorboard<2.2.0,>=2.1.0->tensorflow) (1.24.3)\n",
      "Requirement already satisfied, skipping upgrade: idna<2.9,>=2.5 in /usr/local/lib/python3.6/dist-packages (from requests<3,>=2.21.0->tensorboard<2.2.0,>=2.1.0->tensorflow) (2.8)\n",
      "Requirement already satisfied, skipping upgrade: requests-oauthlib>=0.7.0 in /usr/local/lib/python3.6/dist-packages (from google-auth-oauthlib<0.5,>=0.4.1->tensorboard<2.2.0,>=2.1.0->tensorflow) (1.3.0)\n",
      "Requirement already satisfied, skipping upgrade: pyasn1>=0.1.3 in /usr/local/lib/python3.6/dist-packages (from rsa<4.1,>=3.1.4->google-auth<2,>=1.6.3->tensorboard<2.2.0,>=2.1.0->tensorflow) (0.4.8)\n",
      "Requirement already satisfied, skipping upgrade: oauthlib>=3.0.0 in /usr/local/lib/python3.6/dist-packages (from requests-oauthlib>=0.7.0->google-auth-oauthlib<0.5,>=0.4.1->tensorboard<2.2.0,>=2.1.0->tensorflow) (3.1.0)\n",
      "\u001b[31mERROR: tensorboard 2.1.0 has requirement grpcio>=1.24.3, but you'll have grpcio 1.15.0 which is incompatible.\u001b[0m\n",
      "\u001b[31mERROR: google-colab 1.0.0 has requirement google-auth~=1.4.0, but you'll have google-auth 1.11.0 which is incompatible.\u001b[0m\n",
      "Installing collected packages: google-auth, tensorboard, tensorflow-estimator, tensorflow\n",
      "  Found existing installation: google-auth 1.4.2\n",
      "    Uninstalling google-auth-1.4.2:\n",
      "      Successfully uninstalled google-auth-1.4.2\n",
      "  Found existing installation: tensorboard 1.15.0\n",
      "    Uninstalling tensorboard-1.15.0:\n",
      "      Successfully uninstalled tensorboard-1.15.0\n",
      "  Found existing installation: tensorflow-estimator 1.15.1\n",
      "    Uninstalling tensorflow-estimator-1.15.1:\n",
      "      Successfully uninstalled tensorflow-estimator-1.15.1\n",
      "  Found existing installation: tensorflow 1.15.0\n",
      "    Uninstalling tensorflow-1.15.0:\n",
      "      Successfully uninstalled tensorflow-1.15.0\n",
      "Successfully installed google-auth-1.11.0 tensorboard-2.1.0 tensorflow-2.1.0 tensorflow-estimator-2.1.0\n"
     ]
    },
    {
     "data": {
      "application/vnd.colab-display-data+json": {
       "pip_warning": {
        "packages": [
         "google"
        ]
       }
      }
     },
     "metadata": {
      "tags": []
     },
     "output_type": "display_data"
    }
   ],
   "source": [
    "!pip install --upgrade tensorflow"
   ]
  },
  {
   "cell_type": "code",
   "execution_count": 0,
   "metadata": {
    "colab": {
     "base_uri": "https://localhost:8080/",
     "height": 35
    },
    "colab_type": "code",
    "id": "kY4hBHj2EpH-",
    "outputId": "8f6f9ac1-6c95-4f84-c250-e71c775183a3"
   },
   "outputs": [
    {
     "data": {
      "text/plain": [
       "'2.1.0'"
      ]
     },
     "execution_count": 6,
     "metadata": {
      "tags": []
     },
     "output_type": "execute_result"
    }
   ],
   "source": []
  },
  {
   "cell_type": "markdown",
   "metadata": {
    "colab_type": "text",
    "id": "0UURKRGaMc14"
   },
   "source": [
    "* En utilisant [`tf.keras.datasets`](https://www.tensorflow.org/api_docs/python/tf/keras/datasets) importez cifar10 et stockez les données dans `X_train, y_train, X_test, y_test`"
   ]
  },
  {
   "cell_type": "code",
   "execution_count": 0,
   "metadata": {
    "colab": {
     "base_uri": "https://localhost:8080/",
     "height": 52
    },
    "colab_type": "code",
    "id": "14q54PNTMZgm",
    "outputId": "687bdbd6-0f2d-4198-b0b4-d4b3abae09dc"
   },
   "outputs": [
    {
     "name": "stdout",
     "output_type": "stream",
     "text": [
      "Downloading data from https://www.cs.toronto.edu/~kriz/cifar-10-python.tar.gz\n",
      "170500096/170498071 [==============================] - 4s 0us/step\n"
     ]
    }
   ],
   "source": []
  },
  {
   "cell_type": "markdown",
   "metadata": {
    "colab_type": "text",
    "id": "zVN3LPgeM0hP"
   },
   "source": [
    "* Visualisez une image aléatoire de votre dataset "
   ]
  },
  {
   "cell_type": "code",
   "execution_count": 0,
   "metadata": {
    "colab": {
     "base_uri": "https://localhost:8080/",
     "height": 353
    },
    "colab_type": "code",
    "id": "4afIjIKpMw9u",
    "outputId": "0cdde68c-e202-4ae1-ff29-1bc4f3db7e42"
   },
   "outputs": [
    {
     "name": "stderr",
     "output_type": "stream",
     "text": [
      "/usr/local/lib/python3.6/dist-packages/matplotlib/text.py:1150: FutureWarning: elementwise comparison failed; returning scalar instead, but in the future will perform elementwise comparison\n",
      "  if s != self._text:\n"
     ]
    },
    {
     "data": {
      "text/plain": [
       "Text(0.5, 1.0, '[1]')"
      ]
     },
     "execution_count": 7,
     "metadata": {
      "tags": []
     },
     "output_type": "execute_result"
    },
    {
     "data": {
      "image/png": "[encoded data removed]",
      "text/plain": [
       "<Figure size 432x288 with 1 Axes>"
      ]
     },
     "metadata": {
      "tags": []
     },
     "output_type": "display_data"
    }
   ],
   "source": []
  },
  {
   "cell_type": "markdown",
   "metadata": {
    "colab_type": "text",
    "id": "CCFYjDTzM8Yh"
   },
   "source": [
    "* Visualisez une image aléatoire de chacun de vos labels dans votre dataset "
   ]
  },
  {
   "cell_type": "code",
   "execution_count": 0,
   "metadata": {
    "colab": {
     "base_uri": "https://localhost:8080/",
     "height": 245
    },
    "colab_type": "code",
    "id": "UZAakYz8M4Nn",
    "outputId": "e05a437c-3cd5-4eea-bac9-818dc6b02906"
   },
   "outputs": [
    {
     "name": "stdout",
     "output_type": "stream",
     "text": [
      "index for each image :[0 1 2 3 4 5 6 7 8 9]\n"
     ]
    },
    {
     "data": {
      "image/png": "[encoded data removed]",
      "text/plain": [
       "<Figure size 432x288 with 10 Axes>"
      ]
     },
     "metadata": {
      "tags": []
     },
     "output_type": "display_data"
    }
   ],
   "source": []
  },
  {
   "cell_type": "markdown",
   "metadata": {
    "colab_type": "text",
    "id": "eY6irCrklhCg"
   },
   "source": [
    "* Stockez vos images et labels d'entrainements dans un `tf.data.Dataset`\n",
    "* Faites de mêmes avec les images et labels de validation"
   ]
  },
  {
   "cell_type": "code",
   "execution_count": 0,
   "metadata": {
    "colab": {},
    "colab_type": "code",
    "id": "ugyRxkqcMmka"
   },
   "outputs": [],
   "source": [
    "ds_train = tf.data.Dataset.from_tensor_slices((X_train, y_train))\n",
    "ds_valid = tf.data.Dataset.from_tensor_slices((X_test, y_test))"
   ]
  },
  {
   "cell_type": "markdown",
   "metadata": {
    "colab_type": "text",
    "id": "NCUJd2M9lrpK"
   },
   "source": [
    "* Mélangez votre dataset via `.shuffle()` et créez des batchs de 16 images via `.batch()`"
   ]
  },
  {
   "cell_type": "code",
   "execution_count": 0,
   "metadata": {
    "colab": {},
    "colab_type": "code",
    "id": "uH_mOUXENCbt"
   },
   "outputs": [],
   "source": [
    "ds_train = ds_train.shuffle(50000).batch(16)\n",
    "ds_valid = ds_valid.shuffle(50000).batch(16)"
   ]
  },
  {
   "cell_type": "markdown",
   "metadata": {
    "colab_type": "text",
    "id": "Xnlk8NXVlz0I"
   },
   "source": [
    "* Regardez un exemple "
   ]
  },
  {
   "cell_type": "code",
   "execution_count": 0,
   "metadata": {
    "colab": {
     "base_uri": "https://localhost:8080/",
     "height": 1000
    },
    "colab_type": "code",
    "id": "YEbr2M1MNklA",
    "outputId": "01ecf609-4ee0-474d-f24c-27e9258a5c1b"
   },
   "outputs": [
    {
     "name": "stdout",
     "output_type": "stream",
     "text": [
      "(<tf.Tensor: shape=(16, 32, 32, 3), dtype=uint8, numpy=\n",
      "array([[[[ 77,  82,  87],\n",
      "         [128, 127, 135],\n",
      "         [113, 105, 113],\n",
      "         ...,\n",
      "         [104, 104,  98],\n",
      "         [ 99, 102,  97],\n",
      "         [111, 106, 104]],\n",
      "\n",
      "        [[ 74,  78,  82],\n",
      "         [ 88,  89,  97],\n",
      "         [ 71,  70,  76],\n",
      "         ...,\n",
      "         [110, 109, 111],\n",
      "         [145, 138, 137],\n",
      "         [162, 146, 138]],\n",
      "\n",
      "        [[ 93, 100, 106],\n",
      "         [ 80,  84,  86],\n",
      "         [ 70,  67,  68],\n",
      "         ...,\n",
      "         [140, 128, 127],\n",
      "         [156, 146, 147],\n",
      "         [140, 126, 120]],\n",
      "\n",
      "        ...,\n",
      "\n",
      "        [[127, 115, 115],\n",
      "         [118, 105, 104],\n",
      "         [122, 111, 107],\n",
      "         ...,\n",
      "         [ 84,  95, 112],\n",
      "         [ 82,  94, 116],\n",
      "         [ 82,  88, 103]],\n",
      "\n",
      "        [[130, 116, 115],\n",
      "         [118, 104, 103],\n",
      "         [110,  98,  97],\n",
      "         ...,\n",
      "         [ 85,  96, 111],\n",
      "         [ 76,  86, 100],\n",
      "         [ 76,  80,  92]],\n",
      "\n",
      "        [[121, 109, 109],\n",
      "         [112, 100,  99],\n",
      "         [104,  92,  92],\n",
      "         ...,\n",
      "         [ 89,  97, 113],\n",
      "         [ 69,  77,  90],\n",
      "         [ 73,  80,  95]]],\n",
      "\n",
      "\n",
      "       [[[181, 188, 194],\n",
      "         [176, 183, 187],\n",
      "         [178, 185, 187],\n",
      "         ...,\n",
      "         [ 48,  57,  56],\n",
      "         [ 82,  89,  92],\n",
      "         [114, 135, 158]],\n",
      "\n",
      "        [[131, 140, 135],\n",
      "         [152, 161, 160],\n",
      "         [160, 168, 170],\n",
      "         ...,\n",
      "         [ 37,  44,  50],\n",
      "         [ 78,  86,  92],\n",
      "         [120, 138, 162]],\n",
      "\n",
      "        [[ 72,  84,  70],\n",
      "         [106, 117, 111],\n",
      "         [115, 124, 127],\n",
      "         ...,\n",
      "         [ 43,  53,  55],\n",
      "         [ 89,  99, 100],\n",
      "         [ 89, 104, 118]],\n",
      "\n",
      "        ...,\n",
      "\n",
      "        [[136, 134, 145],\n",
      "         [130, 124, 140],\n",
      "         [126, 117, 129],\n",
      "         ...,\n",
      "         [147, 138, 143],\n",
      "         [150, 144, 148],\n",
      "         [147, 142, 146]],\n",
      "\n",
      "        [[145, 140, 148],\n",
      "         [143, 135, 146],\n",
      "         [136, 131, 140],\n",
      "         ...,\n",
      "         [157, 150, 155],\n",
      "         [157, 150, 156],\n",
      "         [149, 142, 150]],\n",
      "\n",
      "        [[148, 140, 147],\n",
      "         [148, 138, 147],\n",
      "         [141, 137, 147],\n",
      "         ...,\n",
      "         [153, 147, 152],\n",
      "         [152, 145, 153],\n",
      "         [155, 147, 158]]],\n",
      "\n",
      "\n",
      "       [[[233, 233, 233],\n",
      "         [221, 221, 221],\n",
      "         [223, 223, 223],\n",
      "         ...,\n",
      "         [226, 224, 187],\n",
      "         [228, 226, 192],\n",
      "         [226, 224, 193]],\n",
      "\n",
      "        [[243, 242, 242],\n",
      "         [225, 225, 225],\n",
      "         [220, 219, 220],\n",
      "         ...,\n",
      "         [237, 237, 205],\n",
      "         [241, 240, 210],\n",
      "         [242, 242, 214]],\n",
      "\n",
      "        [[238, 235, 236],\n",
      "         [229, 226, 227],\n",
      "         [223, 220, 221],\n",
      "         ...,\n",
      "         [243, 244, 219],\n",
      "         [245, 246, 221],\n",
      "         [252, 252, 229]],\n",
      "\n",
      "        ...,\n",
      "\n",
      "        [[ 25,  17,  15],\n",
      "         [ 78,  69,  66],\n",
      "         [108,  98,  96],\n",
      "         ...,\n",
      "         [190, 180, 184],\n",
      "         [186, 176, 180],\n",
      "         [179, 169, 173]],\n",
      "\n",
      "        [[ 19,  15,  14],\n",
      "         [ 40,  33,  32],\n",
      "         [ 83,  73,  73],\n",
      "         ...,\n",
      "         [185, 180, 181],\n",
      "         [196, 192, 193],\n",
      "         [202, 198, 199]],\n",
      "\n",
      "        [[ 66,  65,  63],\n",
      "         [ 73,  67,  67],\n",
      "         [103,  93,  95],\n",
      "         ...,\n",
      "         [196, 195, 196],\n",
      "         [198, 198, 199],\n",
      "         [209, 208, 209]]],\n",
      "\n",
      "\n",
      "       ...,\n",
      "\n",
      "\n",
      "       [[[138, 128, 128],\n",
      "         [166, 160, 160],\n",
      "         [173, 167, 167],\n",
      "         ...,\n",
      "         [147, 139, 139],\n",
      "         [160, 154, 154],\n",
      "         [155, 148, 148]],\n",
      "\n",
      "        [[133, 123, 123],\n",
      "         [170, 164, 164],\n",
      "         [176, 171, 170],\n",
      "         ...,\n",
      "         [147, 139, 139],\n",
      "         [144, 135, 135],\n",
      "         [149, 141, 141]],\n",
      "\n",
      "        [[122, 110, 111],\n",
      "         [169, 164, 164],\n",
      "         [178, 173, 173],\n",
      "         ...,\n",
      "         [125, 116, 115],\n",
      "         [ 87,  72,  72],\n",
      "         [ 88,  73,  74]],\n",
      "\n",
      "        ...,\n",
      "\n",
      "        [[224, 224, 224],\n",
      "         [228, 228, 228],\n",
      "         [231, 231, 231],\n",
      "         ...,\n",
      "         [240, 240, 240],\n",
      "         [238, 238, 238],\n",
      "         [236, 236, 236]],\n",
      "\n",
      "        [[219, 219, 219],\n",
      "         [229, 229, 229],\n",
      "         [230, 230, 230],\n",
      "         ...,\n",
      "         [239, 239, 239],\n",
      "         [239, 239, 239],\n",
      "         [240, 240, 240]],\n",
      "\n",
      "        [[221, 221, 221],\n",
      "         [227, 226, 226],\n",
      "         [226, 226, 226],\n",
      "         ...,\n",
      "         [237, 237, 237],\n",
      "         [239, 239, 239],\n",
      "         [239, 239, 239]]],\n",
      "\n",
      "\n",
      "       [[[121, 124, 105],\n",
      "         [ 90,  93,  74],\n",
      "         [ 67,  70,  50],\n",
      "         ...,\n",
      "         [231, 237, 229],\n",
      "         [251, 252, 251],\n",
      "         [254, 254, 254]],\n",
      "\n",
      "        [[132, 128, 105],\n",
      "         [116, 112,  90],\n",
      "         [ 92,  88,  65],\n",
      "         ...,\n",
      "         [188, 198, 184],\n",
      "         [248, 250, 249],\n",
      "         [255, 255, 255]],\n",
      "\n",
      "        [[127, 116,  92],\n",
      "         [125, 114,  91],\n",
      "         [122, 111,  88],\n",
      "         ...,\n",
      "         [166, 179, 159],\n",
      "         [240, 244, 242],\n",
      "         [254, 255, 255]],\n",
      "\n",
      "        ...,\n",
      "\n",
      "        [[150, 144, 127],\n",
      "         [145, 139, 122],\n",
      "         [142, 137, 120],\n",
      "         ...,\n",
      "         [224, 229, 194],\n",
      "         [225, 229, 198],\n",
      "         [228, 232, 201]],\n",
      "\n",
      "        [[153, 148, 128],\n",
      "         [150, 145, 126],\n",
      "         [149, 144, 124],\n",
      "         ...,\n",
      "         [223, 226, 190],\n",
      "         [222, 225, 193],\n",
      "         [225, 227, 195]],\n",
      "\n",
      "        [[158, 153, 131],\n",
      "         [156, 151, 130],\n",
      "         [155, 150, 129],\n",
      "         ...,\n",
      "         [226, 227, 189],\n",
      "         [224, 224, 190],\n",
      "         [227, 227, 194]]],\n",
      "\n",
      "\n",
      "       [[[104, 121, 115],\n",
      "         [ 93, 113, 109],\n",
      "         [122, 138, 126],\n",
      "         ...,\n",
      "         [171, 175, 176],\n",
      "         [166, 170, 166],\n",
      "         [161, 167, 154]],\n",
      "\n",
      "        [[113, 130, 122],\n",
      "         [105, 123, 118],\n",
      "         [168, 177, 174],\n",
      "         ...,\n",
      "         [160, 165, 163],\n",
      "         [156, 162, 155],\n",
      "         [153, 159, 148]],\n",
      "\n",
      "        [[129, 146, 136],\n",
      "         [145, 159, 155],\n",
      "         [220, 222, 229],\n",
      "         ...,\n",
      "         [150, 155, 149],\n",
      "         [149, 154, 147],\n",
      "         [148, 154, 144]],\n",
      "\n",
      "        ...,\n",
      "\n",
      "        [[174, 161, 156],\n",
      "         [185, 174, 182],\n",
      "         [145, 136, 146],\n",
      "         ...,\n",
      "         [101,  86,  77],\n",
      "         [ 70,  53,  47],\n",
      "         [ 41,  24,  23]],\n",
      "\n",
      "        [[189, 177, 175],\n",
      "         [183, 173, 181],\n",
      "         [160, 153, 160],\n",
      "         ...,\n",
      "         [ 76,  51,  38],\n",
      "         [ 54,  28,  18],\n",
      "         [ 39,  13,   5]],\n",
      "\n",
      "        [[112,  95,  91],\n",
      "         [116, 101, 105],\n",
      "         [167, 155, 155],\n",
      "         ...,\n",
      "         [ 78,  42,  17],\n",
      "         [ 77,  40,  18],\n",
      "         [ 70,  32,  12]]]], dtype=uint8)>, <tf.Tensor: shape=(16, 1), dtype=uint8, numpy=\n",
      "array([[4],\n",
      "       [1],\n",
      "       [6],\n",
      "       [2],\n",
      "       [9],\n",
      "       [8],\n",
      "       [7],\n",
      "       [5],\n",
      "       [5],\n",
      "       [4],\n",
      "       [2],\n",
      "       [9],\n",
      "       [7],\n",
      "       [5],\n",
      "       [9],\n",
      "       [3]], dtype=uint8)>)\n"
     ]
    }
   ],
   "source": [
    "for image in ds_train.take(1):\n",
    "  print(image)"
   ]
  },
  {
   "cell_type": "markdown",
   "metadata": {
    "colab_type": "text",
    "id": "I5ZMtlM0PnK-"
   },
   "source": [
    "* Créez un modèle CNN dans lequel vous mettrez des couches convolutionnelles 2D et des couches MaxPool2D "
   ]
  },
  {
   "cell_type": "code",
   "execution_count": 0,
   "metadata": {
    "colab": {},
    "colab_type": "code",
    "id": "-3s5CGLOPmaz"
   },
   "outputs": [],
   "source": []
  },
  {
   "cell_type": "markdown",
   "metadata": {
    "colab_type": "text",
    "id": "uLs39kEsP3i1"
   },
   "source": [
    "* Créez une _Learning Rate Schedule_. Vous pouvez choisir de le faire avec [_ExponentialDecay_](https://www.tensorflow.org/api_docs/python/tf/keras/optimizers/schedules/ExponentialDecay) ou [d'autres méthodes](https://www.tensorflow.org/api_docs/python/tf/keras/optimizers/schedules)"
   ]
  },
  {
   "cell_type": "code",
   "execution_count": 0,
   "metadata": {
    "colab": {},
    "colab_type": "code",
    "id": "0hy9dK8QP12-"
   },
   "outputs": [],
   "source": []
  },
  {
   "cell_type": "markdown",
   "metadata": {
    "colab_type": "text",
    "id": "iUUOHlraQVGx"
   },
   "source": [
    "* Créez un compileur dans lequel vous choisirez : \n",
    "  * Votre optimiseur \n",
    "  * Votre loss \n",
    "  * Vos métrics "
   ]
  },
  {
   "cell_type": "code",
   "execution_count": 0,
   "metadata": {
    "colab": {},
    "colab_type": "code",
    "id": "YhavN-M2QS7G"
   },
   "outputs": [],
   "source": []
  },
  {
   "cell_type": "markdown",
   "metadata": {
    "colab_type": "text",
    "id": "AyaoPC39QcRd"
   },
   "source": [
    "* Faites tourner votre modèle sur 10 epochs "
   ]
  },
  {
   "cell_type": "code",
   "execution_count": 0,
   "metadata": {
    "colab": {
     "base_uri": "https://localhost:8080/",
     "height": 397
    },
    "colab_type": "code",
    "id": "gwWzM6eaQbxi",
    "outputId": "84330c9b-b03f-46cb-8fe0-8b5cc33b495c"
   },
   "outputs": [
    {
     "name": "stdout",
     "output_type": "stream",
     "text": [
      "Train for 3125 steps\n",
      "Epoch 1/10\n",
      "3125/3125 [==============================] - 11s 4ms/step - loss: 0.7288 - sparse_categorical_accuracy: 0.7437\n",
      "Epoch 2/10\n",
      "3125/3125 [==============================] - 11s 4ms/step - loss: 0.6972 - sparse_categorical_accuracy: 0.7550\n",
      "Epoch 3/10\n",
      "3125/3125 [==============================] - 11s 4ms/step - loss: 0.6596 - sparse_categorical_accuracy: 0.7676\n",
      "Epoch 4/10\n",
      "3125/3125 [==============================] - 11s 3ms/step - loss: 0.6284 - sparse_categorical_accuracy: 0.7795\n",
      "Epoch 5/10\n",
      "3125/3125 [==============================] - 11s 3ms/step - loss: 0.5874 - sparse_categorical_accuracy: 0.7941\n",
      "Epoch 6/10\n",
      "3125/3125 [==============================] - 11s 3ms/step - loss: 0.5601 - sparse_categorical_accuracy: 0.8017\n",
      "Epoch 7/10\n",
      "3125/3125 [==============================] - 11s 3ms/step - loss: 0.5319 - sparse_categorical_accuracy: 0.8138\n",
      "Epoch 8/10\n",
      "3125/3125 [==============================] - 11s 3ms/step - loss: 0.5047 - sparse_categorical_accuracy: 0.8246\n",
      "Epoch 9/10\n",
      "3125/3125 [==============================] - 11s 4ms/step - loss: 0.4804 - sparse_categorical_accuracy: 0.8317\n",
      "Epoch 10/10\n",
      "3125/3125 [==============================] - 11s 3ms/step - loss: 0.4539 - sparse_categorical_accuracy: 0.8419\n"
     ]
    },
    {
     "data": {
      "text/plain": [
       "<tensorflow.python.keras.callbacks.History at 0x7faf8e03b898>"
      ]
     },
     "execution_count": 61,
     "metadata": {
      "tags": []
     },
     "output_type": "execute_result"
    }
   ],
   "source": [
    "model.fit(ds_train, epochs=10)"
   ]
  },
  {
   "cell_type": "markdown",
   "metadata": {
    "colab_type": "text",
    "id": "7Y2gz8vvQ6Jb"
   },
   "source": [
    "* Evaluez votre modèle"
   ]
  },
  {
   "cell_type": "code",
   "execution_count": 0,
   "metadata": {
    "colab": {
     "base_uri": "https://localhost:8080/",
     "height": 52
    },
    "colab_type": "code",
    "id": "hyBLIXq8QnI9",
    "outputId": "75c14bfd-49b2-46ac-d19a-92b6c4151af7"
   },
   "outputs": [
    {
     "name": "stdout",
     "output_type": "stream",
     "text": [
      "625/625 [==============================] - 1s 2ms/step - loss: 1.2749 - sparse_categorical_accuracy: 0.6650\n"
     ]
    },
    {
     "data": {
      "text/plain": [
       "[1.2749442307233811, 0.665]"
      ]
     },
     "execution_count": 62,
     "metadata": {
      "tags": []
     },
     "output_type": "execute_result"
    }
   ],
   "source": []
  },
  {
   "cell_type": "markdown",
   "metadata": {
    "colab_type": "text",
    "id": "cZWYZvWIS7MV"
   },
   "source": [
    "* Tentez d'entrainer votre modèle à nouveau. Cette fois cependant : \n",
    "  * Ajoutez l'argument *validation_data = ds_valid*  \n",
    "  * Profitez en pour enregistrer votre entrainement dans une variable _history_\n",
    "  \n",
    "* Que pouvez vous conclure sur votre modèle ?"
   ]
  },
  {
   "cell_type": "code",
   "execution_count": 0,
   "metadata": {
    "colab": {
     "base_uri": "https://localhost:8080/",
     "height": 573
    },
    "colab_type": "code",
    "id": "1WBAoqDCS-LN",
    "outputId": "b884d769-df4a-4ca5-ee73-6aca3e12f483"
   },
   "outputs": [
    {
     "name": "stdout",
     "output_type": "stream",
     "text": [
      "Train for 3125 steps, validate for 625 steps\n",
      "Epoch 1/15\n",
      "3125/3125 [==============================] - 12s 4ms/step - loss: 0.4283 - sparse_categorical_accuracy: 0.8507 - val_loss: 1.3216 - val_sparse_categorical_accuracy: 0.6616\n",
      "Epoch 2/15\n",
      "3125/3125 [==============================] - 12s 4ms/step - loss: 0.4094 - sparse_categorical_accuracy: 0.8591 - val_loss: 1.2930 - val_sparse_categorical_accuracy: 0.6666\n",
      "Epoch 3/15\n",
      "3125/3125 [==============================] - 12s 4ms/step - loss: 0.3876 - sparse_categorical_accuracy: 0.8653 - val_loss: 1.3848 - val_sparse_categorical_accuracy: 0.6629\n",
      "Epoch 4/15\n",
      "3125/3125 [==============================] - 12s 4ms/step - loss: 0.3643 - sparse_categorical_accuracy: 0.8741 - val_loss: 1.4138 - val_sparse_categorical_accuracy: 0.6671\n",
      "Epoch 5/15\n",
      "3125/3125 [==============================] - 12s 4ms/step - loss: 0.3565 - sparse_categorical_accuracy: 0.8768 - val_loss: 1.4635 - val_sparse_categorical_accuracy: 0.6565\n",
      "Epoch 6/15\n",
      "3125/3125 [==============================] - 11s 4ms/step - loss: 0.3328 - sparse_categorical_accuracy: 0.8857 - val_loss: 1.4788 - val_sparse_categorical_accuracy: 0.6668\n",
      "Epoch 7/15\n",
      "3125/3125 [==============================] - 12s 4ms/step - loss: 0.3244 - sparse_categorical_accuracy: 0.8897 - val_loss: 1.4669 - val_sparse_categorical_accuracy: 0.6676\n",
      "Epoch 8/15\n",
      "3125/3125 [==============================] - 12s 4ms/step - loss: 0.3053 - sparse_categorical_accuracy: 0.8938 - val_loss: 1.5870 - val_sparse_categorical_accuracy: 0.6585\n",
      "Epoch 9/15\n",
      "3125/3125 [==============================] - 11s 4ms/step - loss: 0.2967 - sparse_categorical_accuracy: 0.8988 - val_loss: 1.5774 - val_sparse_categorical_accuracy: 0.6553\n",
      "Epoch 10/15\n",
      "3125/3125 [==============================] - 11s 4ms/step - loss: 0.2877 - sparse_categorical_accuracy: 0.9029 - val_loss: 1.6348 - val_sparse_categorical_accuracy: 0.6615\n",
      "Epoch 11/15\n",
      "3125/3125 [==============================] - 11s 4ms/step - loss: 0.2705 - sparse_categorical_accuracy: 0.9094 - val_loss: 1.6725 - val_sparse_categorical_accuracy: 0.6626\n",
      "Epoch 12/15\n",
      "3125/3125 [==============================] - 11s 4ms/step - loss: 0.2651 - sparse_categorical_accuracy: 0.9100 - val_loss: 1.7728 - val_sparse_categorical_accuracy: 0.6616\n",
      "Epoch 13/15\n",
      "3125/3125 [==============================] - 12s 4ms/step - loss: 0.2514 - sparse_categorical_accuracy: 0.9164 - val_loss: 1.7533 - val_sparse_categorical_accuracy: 0.6599\n",
      "Epoch 14/15\n",
      "3125/3125 [==============================] - 11s 4ms/step - loss: 0.2416 - sparse_categorical_accuracy: 0.9199 - val_loss: 1.8257 - val_sparse_categorical_accuracy: 0.6603\n",
      "Epoch 15/15\n",
      "3125/3125 [==============================] - 12s 4ms/step - loss: 0.2364 - sparse_categorical_accuracy: 0.9227 - val_loss: 1.8555 - val_sparse_categorical_accuracy: 0.6592\n"
     ]
    }
   ],
   "source": []
  },
  {
   "cell_type": "markdown",
   "metadata": {
    "colab_type": "text",
    "id": "8L5x_uUqVe7T"
   },
   "source": [
    "* Regardez ce qu'il y a dans `history.history`"
   ]
  },
  {
   "cell_type": "code",
   "execution_count": 0,
   "metadata": {
    "colab": {
     "base_uri": "https://localhost:8080/",
     "height": 1000
    },
    "colab_type": "code",
    "id": "1MW1NPfhVBDn",
    "outputId": "8ada8d8d-2c78-498d-8e0e-442e5efdc7e7"
   },
   "outputs": [
    {
     "data": {
      "text/plain": [
       "{'loss': [0.42831908326894047,\n",
       "  0.4094136567226052,\n",
       "  0.3875706521087885,\n",
       "  0.3642813870686293,\n",
       "  0.35647907069832085,\n",
       "  0.33280399138614536,\n",
       "  0.3243628663368523,\n",
       "  0.3053485202844441,\n",
       "  0.2966909668931365,\n",
       "  0.28771384566694497,\n",
       "  0.2705050406068564,\n",
       "  0.2650731646630168,\n",
       "  0.25143368609957395,\n",
       "  0.24162461894646287,\n",
       "  0.23637662802772597],\n",
       " 'sparse_categorical_accuracy': [0.85068,\n",
       "  0.85912,\n",
       "  0.86534,\n",
       "  0.8741,\n",
       "  0.87678,\n",
       "  0.88574,\n",
       "  0.88968,\n",
       "  0.89378,\n",
       "  0.8988,\n",
       "  0.90294,\n",
       "  0.90942,\n",
       "  0.91002,\n",
       "  0.9164,\n",
       "  0.91992,\n",
       "  0.92272],\n",
       " 'val_loss': [1.3216309416294099,\n",
       "  1.2930277338027953,\n",
       "  1.3847651427507401,\n",
       "  1.4138242642641068,\n",
       "  1.463464285182953,\n",
       "  1.4788090208768845,\n",
       "  1.4669122014760971,\n",
       "  1.5869977488040925,\n",
       "  1.577447029709816,\n",
       "  1.6348172973871231,\n",
       "  1.6724575570464135,\n",
       "  1.7727583968877791,\n",
       "  1.7532538117647172,\n",
       "  1.8257135567873717,\n",
       "  1.855525201356411],\n",
       " 'val_sparse_categorical_accuracy': [0.6616,\n",
       "  0.6666,\n",
       "  0.6629,\n",
       "  0.6671,\n",
       "  0.6565,\n",
       "  0.6668,\n",
       "  0.6676,\n",
       "  0.6585,\n",
       "  0.6553,\n",
       "  0.6615,\n",
       "  0.6626,\n",
       "  0.6616,\n",
       "  0.6599,\n",
       "  0.6603,\n",
       "  0.6592]}"
      ]
     },
     "execution_count": 64,
     "metadata": {
      "tags": []
     },
     "output_type": "execute_result"
    }
   ],
   "source": []
  },
  {
   "cell_type": "markdown",
   "metadata": {
    "colab_type": "text",
    "id": "SfVmy0eQTVbR"
   },
   "source": [
    "* Regardez maintenant un graphique de l'évolution de votre *loss*  à mesure que les epochs avancent  "
   ]
  },
  {
   "cell_type": "code",
   "execution_count": 0,
   "metadata": {
    "colab": {
     "base_uri": "https://localhost:8080/",
     "height": 279
    },
    "colab_type": "code",
    "id": "gEiw823gTfXe",
    "outputId": "96f60532-c522-43a0-976c-c65752cb888c"
   },
   "outputs": [
    {
     "data": {
      "image/png": "[encoded data removed]",
      "text/plain": [
       "<Figure size 432x288 with 1 Axes>"
      ]
     },
     "metadata": {
      "tags": []
     },
     "output_type": "display_data"
    }
   ],
   "source": []
  },
  {
   "cell_type": "markdown",
   "metadata": {
    "colab_type": "text",
    "id": "roN0XQFNTiS2"
   },
   "source": [
    "* Faites de même avec votre Accuracy "
   ]
  },
  {
   "cell_type": "code",
   "execution_count": 0,
   "metadata": {
    "colab": {
     "base_uri": "https://localhost:8080/",
     "height": 279
    },
    "colab_type": "code",
    "id": "Yn-hpYmETkME",
    "outputId": "4dc1d10c-9fc1-459d-e42a-895498ef26bf"
   },
   "outputs": [
    {
     "data": {
      "image/png": "[encoded data removed]",
      "text/plain": [
       "<Figure size 432x288 with 1 Axes>"
      ]
     },
     "metadata": {
      "tags": []
     },
     "output_type": "display_data"
    }
   ],
   "source": []
  },
  {
   "cell_type": "markdown",
   "metadata": {
    "colab_type": "text",
    "id": "Y1ylmqJpNGrE"
   },
   "source": [
    "* Un moyen de gérer l'overfitting est de faire ce qu'on appelle de la _Data Augementation_. Le principe est de prendre les images que nous avons dans le jeu de données et de les répéter avec quelques changement mineurs comme : \n",
    "  * Changer la couleur, la luminosité \n",
    "  * Retourner l'image\n",
    "  * Couper l'image \n",
    "\n",
    "Cette technique permet de créer de nouvelles images sur lesquelles le modèle peut s'entrainer et donc mieux performer ! Tentons de voir ce que cela pourrait donner sur notre jeu de données. \n",
    "\n",
    "* Commencez par utiliser la fonction [`.unbatch()`](https://www.tensorflow.org/api_docs/python/tf/data/Dataset#unbatch) sur votre jeu de données d'entrainement et de validation. Nous allons changer la taille des batchs plus tard "
   ]
  },
  {
   "cell_type": "code",
   "execution_count": 0,
   "metadata": {
    "colab": {},
    "colab_type": "code",
    "id": "SftaxD2HarWg"
   },
   "outputs": [],
   "source": []
  },
  {
   "cell_type": "markdown",
   "metadata": {
    "colab_type": "text",
    "id": "b9tZP3YfhYuV"
   },
   "source": [
    "* Vérifiez que vous ayez bien des tenseurs de taille (32, 32, 3) en regardant un exemple dans votre dataset "
   ]
  },
  {
   "cell_type": "code",
   "execution_count": 0,
   "metadata": {
    "colab": {
     "base_uri": "https://localhost:8080/",
     "height": 35
    },
    "colab_type": "code",
    "id": "CEwe5gNBbHoa",
    "outputId": "326ebf10-729a-40b6-edb3-139a61c397fc"
   },
   "outputs": [
    {
     "name": "stdout",
     "output_type": "stream",
     "text": [
      "tf.Tensor([32 32  3], shape=(3,), dtype=int32)\n"
     ]
    }
   ],
   "source": []
  },
  {
   "cell_type": "markdown",
   "metadata": {
    "colab_type": "text",
    "id": "L5v5MgyRhfuI"
   },
   "source": [
    "* En utilisant la fonction [`repeat()`](https://www.tensorflow.org/api_docs/python/tf/data/Dataset#repeat) copiez votre dataset 10 fois "
   ]
  },
  {
   "cell_type": "code",
   "execution_count": 0,
   "metadata": {
    "colab": {},
    "colab_type": "code",
    "id": "D9vbIjSSTNQM"
   },
   "outputs": [],
   "source": []
  },
  {
   "cell_type": "markdown",
   "metadata": {
    "colab_type": "text",
    "id": "ri9AXYLQhqE2"
   },
   "source": [
    "* On va procéder maintenant à une phase de Data Augmentation. Créez une fonction `data_aug(image, label)` qui prendra comme argument une image et un label. A l'intérieur de cette fonction, tentez d'utiliser :\n",
    "  * tf.image.random_flip_left_right\n",
    "  * tf.image.random_contrast\n",
    "  * tf.image.random_crop\n",
    "  * Divisez le tenseur par 255\n",
    "\n",
    "  * Vous pouvez tentez d'autres choses si vous le souhaitez"
   ]
  },
  {
   "cell_type": "code",
   "execution_count": 0,
   "metadata": {
    "colab": {},
    "colab_type": "code",
    "id": "P8zXiU7hfmFM"
   },
   "outputs": [],
   "source": []
  },
  {
   "cell_type": "markdown",
   "metadata": {
    "colab_type": "text",
    "id": "f3aU2GdwiXoI"
   },
   "source": [
    "* Utilisez la fonction `.map()` pour appliquer votre fonction sur votre tf dataset"
   ]
  },
  {
   "cell_type": "code",
   "execution_count": 0,
   "metadata": {
    "colab": {},
    "colab_type": "code",
    "id": "1VKtcUvZTJiR"
   },
   "outputs": [],
   "source": []
  },
  {
   "cell_type": "markdown",
   "metadata": {
    "colab_type": "text",
    "id": "d5U5JwJXigAp"
   },
   "source": [
    "* Créez une fonction pour votre jeu de données de validation où vous diviserez simplement les tenseurs par 255. Nous ne voulons pas appliquer de data augmentation sur notre jeu de données de validation "
   ]
  },
  {
   "cell_type": "code",
   "execution_count": 0,
   "metadata": {
    "colab": {},
    "colab_type": "code",
    "id": "Mw14XKHmWWXO"
   },
   "outputs": [],
   "source": []
  },
  {
   "cell_type": "markdown",
   "metadata": {
    "colab_type": "text",
    "id": "mEu9zIvKisPq"
   },
   "source": [
    "* Appliquez la fonction sur votre jeu de données de validation "
   ]
  },
  {
   "cell_type": "code",
   "execution_count": 0,
   "metadata": {
    "colab": {},
    "colab_type": "code",
    "id": "OJpgCQopWb38"
   },
   "outputs": [],
   "source": []
  },
  {
   "cell_type": "markdown",
   "metadata": {
    "colab_type": "text",
    "id": "242C3HRviwMr"
   },
   "source": [
    "* Créez des batchs de 32 images pour votre jeu de données de validation et d'entrainement "
   ]
  },
  {
   "cell_type": "code",
   "execution_count": 0,
   "metadata": {
    "colab": {},
    "colab_type": "code",
    "id": "CGsTlf6TbyBd"
   },
   "outputs": [],
   "source": []
  },
  {
   "cell_type": "markdown",
   "metadata": {
    "colab_type": "text",
    "id": "2vSD7XwNi1Lf"
   },
   "source": [
    "* Réappliquez le même modèle sur votre nouveau jeu de données\n",
    "  * N'oubliez pas de stocker votre entrainement dans une variable `history`"
   ]
  },
  {
   "cell_type": "code",
   "execution_count": 0,
   "metadata": {
    "colab": {},
    "colab_type": "code",
    "id": "46T1zMLBVo0k"
   },
   "outputs": [],
   "source": []
  },
  {
   "cell_type": "code",
   "execution_count": 0,
   "metadata": {
    "colab": {
     "base_uri": "https://localhost:8080/",
     "height": 555
    },
    "colab_type": "code",
    "id": "d0Zat3h4WSbn",
    "outputId": "881a5794-d15b-4617-85b4-17deb52c9d41"
   },
   "outputs": [
    {
     "name": "stdout",
     "output_type": "stream",
     "text": [
      "Epoch 1/15\n",
      "15625/15625 [==============================] - 132s 8ms/step - loss: 1.2294 - sparse_categorical_accuracy: 0.5633 - val_loss: 0.9418 - val_sparse_categorical_accuracy: 0.6739\n",
      "Epoch 2/15\n",
      "15625/15625 [==============================] - 93s 6ms/step - loss: 0.9179 - sparse_categorical_accuracy: 0.6783 - val_loss: 0.8656 - val_sparse_categorical_accuracy: 0.6983\n",
      "Epoch 3/15\n",
      "15625/15625 [==============================] - 95s 6ms/step - loss: 0.8044 - sparse_categorical_accuracy: 0.7181 - val_loss: 0.8307 - val_sparse_categorical_accuracy: 0.7099\n",
      "Epoch 4/15\n",
      "15625/15625 [==============================] - 91s 6ms/step - loss: 0.7311 - sparse_categorical_accuracy: 0.7435 - val_loss: 0.8226 - val_sparse_categorical_accuracy: 0.7202\n",
      "Epoch 5/15\n",
      "15625/15625 [==============================] - 98s 6ms/step - loss: 0.6799 - sparse_categorical_accuracy: 0.7616 - val_loss: 0.8272 - val_sparse_categorical_accuracy: 0.7240\n",
      "Epoch 6/15\n",
      "15625/15625 [==============================] - 100s 6ms/step - loss: 0.6395 - sparse_categorical_accuracy: 0.7753 - val_loss: 0.8485 - val_sparse_categorical_accuracy: 0.7216\n",
      "Epoch 7/15\n",
      "15625/15625 [==============================] - 90s 6ms/step - loss: 0.6079 - sparse_categorical_accuracy: 0.7865 - val_loss: 0.8407 - val_sparse_categorical_accuracy: 0.7214\n",
      "Epoch 8/15\n",
      "15625/15625 [==============================] - 98s 6ms/step - loss: 0.5772 - sparse_categorical_accuracy: 0.7964 - val_loss: 0.8647 - val_sparse_categorical_accuracy: 0.7178\n",
      "Epoch 9/15\n",
      "15625/15625 [==============================] - 99s 6ms/step - loss: 0.5562 - sparse_categorical_accuracy: 0.8041 - val_loss: 0.8587 - val_sparse_categorical_accuracy: 0.7213\n",
      "Epoch 10/15\n",
      "15625/15625 [==============================] - 103s 7ms/step - loss: 0.5371 - sparse_categorical_accuracy: 0.8113 - val_loss: 0.8704 - val_sparse_categorical_accuracy: 0.7254\n",
      "Epoch 11/15\n",
      "15625/15625 [==============================] - 103s 7ms/step - loss: 0.5208 - sparse_categorical_accuracy: 0.8170 - val_loss: 0.8817 - val_sparse_categorical_accuracy: 0.7210\n",
      "Epoch 12/15\n",
      "15625/15625 [==============================] - 103s 7ms/step - loss: 0.5051 - sparse_categorical_accuracy: 0.8221 - val_loss: 0.8934 - val_sparse_categorical_accuracy: 0.7217\n",
      "Epoch 13/15\n",
      "15625/15625 [==============================] - 93s 6ms/step - loss: 0.4924 - sparse_categorical_accuracy: 0.8272 - val_loss: 0.9050 - val_sparse_categorical_accuracy: 0.7239\n",
      "Epoch 14/15\n",
      "15625/15625 [==============================] - 103s 7ms/step - loss: 0.4827 - sparse_categorical_accuracy: 0.8308 - val_loss: 0.9128 - val_sparse_categorical_accuracy: 0.7242\n",
      "Epoch 15/15\n",
      "15625/15625 [==============================] - 107s 7ms/step - loss: 0.4748 - sparse_categorical_accuracy: 0.8334 - val_loss: 0.9232 - val_sparse_categorical_accuracy: 0.7240\n"
     ]
    }
   ],
   "source": []
  },
  {
   "cell_type": "code",
   "execution_count": 0,
   "metadata": {
    "colab": {
     "base_uri": "https://localhost:8080/",
     "height": 279
    },
    "colab_type": "code",
    "id": "vt9NmmyOWgO0",
    "outputId": "5d37ca99-813b-430e-bb07-1f58cc208c28"
   },
   "outputs": [
    {
     "data": {
      "image/png": "[encoded data removed]",
      "text/plain": [
       "<Figure size 432x288 with 1 Axes>"
      ]
     },
     "metadata": {
      "tags": []
     },
     "output_type": "display_data"
    }
   ],
   "source": []
  },
  {
   "cell_type": "code",
   "execution_count": 0,
   "metadata": {
    "colab": {
     "base_uri": "https://localhost:8080/",
     "height": 279
    },
    "colab_type": "code",
    "id": "FXpl65CCmxGW",
    "outputId": "0aee08bb-fb3f-40f1-dc52-4bd8fd1aebb6"
   },
   "outputs": [
    {
     "data": {
      "image/png": "[encoded data removed]",
      "text/plain": [
       "<Figure size 432x288 with 1 Axes>"
      ]
     },
     "metadata": {
      "tags": []
     },
     "output_type": "display_data"
    }
   ],
   "source": []
  },
  {
   "cell_type": "markdown",
   "metadata": {
    "colab_type": "text",
    "id": "C9CwQvk-pe0Y"
   },
   "source": [
    "* Tentons une nouvelle technique de réguliarisation : le Dropout. Ajoutez quelques couches de dropout à 20% dans votre modèle "
   ]
  },
  {
   "cell_type": "code",
   "execution_count": 0,
   "metadata": {
    "colab": {},
    "colab_type": "code",
    "id": "PnB3cWe7m0yZ"
   },
   "outputs": [],
   "source": []
  },
  {
   "cell_type": "markdown",
   "metadata": {
    "colab_type": "text",
    "id": "W0tfb-13kqQ1"
   },
   "source": [
    "* Ré-entrainez votre modèle sur 15 à 30 epochs "
   ]
  },
  {
   "cell_type": "code",
   "execution_count": 0,
   "metadata": {
    "colab": {
     "base_uri": "https://localhost:8080/",
     "height": 555
    },
    "colab_type": "code",
    "id": "_xN-IgZ0pyQ5",
    "outputId": "f0e2ff13-2f71-44ad-96ba-7d5dcdb729b1"
   },
   "outputs": [
    {
     "name": "stdout",
     "output_type": "stream",
     "text": [
      "Epoch 1/15\n",
      "15625/15625 [==============================] - 133s 9ms/step - loss: 1.2858 - sparse_categorical_accuracy: 0.5416 - val_loss: 0.9311 - val_sparse_categorical_accuracy: 0.6805\n",
      "Epoch 2/15\n",
      "15625/15625 [==============================] - 101s 6ms/step - loss: 1.0138 - sparse_categorical_accuracy: 0.6430 - val_loss: 0.8494 - val_sparse_categorical_accuracy: 0.7090\n",
      "Epoch 3/15\n",
      "15625/15625 [==============================] - 100s 6ms/step - loss: 0.9335 - sparse_categorical_accuracy: 0.6712 - val_loss: 0.8079 - val_sparse_categorical_accuracy: 0.7241\n",
      "Epoch 4/15\n",
      "15625/15625 [==============================] - 98s 6ms/step - loss: 0.8848 - sparse_categorical_accuracy: 0.6881 - val_loss: 0.7932 - val_sparse_categorical_accuracy: 0.7290\n",
      "Epoch 5/15\n",
      "15625/15625 [==============================] - 99s 6ms/step - loss: 0.8528 - sparse_categorical_accuracy: 0.7000 - val_loss: 0.7636 - val_sparse_categorical_accuracy: 0.7388\n",
      "Epoch 6/15\n",
      "15625/15625 [==============================] - 99s 6ms/step - loss: 0.8275 - sparse_categorical_accuracy: 0.7088 - val_loss: 0.7409 - val_sparse_categorical_accuracy: 0.7433\n",
      "Epoch 7/15\n",
      "15625/15625 [==============================] - 99s 6ms/step - loss: 0.8065 - sparse_categorical_accuracy: 0.7153 - val_loss: 0.7357 - val_sparse_categorical_accuracy: 0.7482\n",
      "Epoch 8/15\n",
      "15625/15625 [==============================] - 100s 6ms/step - loss: 0.7937 - sparse_categorical_accuracy: 0.7196 - val_loss: 0.7357 - val_sparse_categorical_accuracy: 0.7486\n",
      "Epoch 9/15\n",
      "15625/15625 [==============================] - 93s 6ms/step - loss: 0.7780 - sparse_categorical_accuracy: 0.7255 - val_loss: 0.7306 - val_sparse_categorical_accuracy: 0.7473\n",
      "Epoch 10/15\n",
      "15625/15625 [==============================] - 93s 6ms/step - loss: 0.7662 - sparse_categorical_accuracy: 0.7284 - val_loss: 0.7275 - val_sparse_categorical_accuracy: 0.7487\n",
      "Epoch 11/15\n",
      "15625/15625 [==============================] - 94s 6ms/step - loss: 0.7553 - sparse_categorical_accuracy: 0.7333 - val_loss: 0.7196 - val_sparse_categorical_accuracy: 0.7528\n",
      "Epoch 12/15\n",
      "15625/15625 [==============================] - 94s 6ms/step - loss: 0.7463 - sparse_categorical_accuracy: 0.7358 - val_loss: 0.7075 - val_sparse_categorical_accuracy: 0.7578\n",
      "Epoch 13/15\n",
      "15625/15625 [==============================] - 94s 6ms/step - loss: 0.7370 - sparse_categorical_accuracy: 0.7392 - val_loss: 0.7061 - val_sparse_categorical_accuracy: 0.7586\n",
      "Epoch 14/15\n",
      "15625/15625 [==============================] - 95s 6ms/step - loss: 0.7330 - sparse_categorical_accuracy: 0.7410 - val_loss: 0.7066 - val_sparse_categorical_accuracy: 0.7583\n",
      "Epoch 15/15\n",
      "15625/15625 [==============================] - 92s 6ms/step - loss: 0.7246 - sparse_categorical_accuracy: 0.7441 - val_loss: 0.6993 - val_sparse_categorical_accuracy: 0.7586\n"
     ]
    }
   ],
   "source": []
  },
  {
   "cell_type": "markdown",
   "metadata": {
    "colab_type": "text",
    "id": "uRDbzAXlkv8h"
   },
   "source": [
    "* Faites les visualisations de de loss et d'accuracy "
   ]
  },
  {
   "cell_type": "code",
   "execution_count": 0,
   "metadata": {
    "colab": {
     "base_uri": "https://localhost:8080/",
     "height": 279
    },
    "colab_type": "code",
    "id": "qGyJ5kH0p1di",
    "outputId": "349d71f6-7c2e-4e5d-d508-88194d9ea8ec"
   },
   "outputs": [
    {
     "data": {
      "image/png": "[encoded data removed]",
      "text/plain": [
       "<Figure size 432x288 with 1 Axes>"
      ]
     },
     "metadata": {
      "tags": []
     },
     "output_type": "display_data"
    }
   ],
   "source": []
  },
  {
   "cell_type": "code",
   "execution_count": 0,
   "metadata": {
    "colab": {
     "base_uri": "https://localhost:8080/",
     "height": 279
    },
    "colab_type": "code",
    "id": "ihG8E98T3Vo2",
    "outputId": "ecefe291-d99c-4d39-f715-68b883a25527"
   },
   "outputs": [
    {
     "data": {
      "image/png": "[encoded data removed]",
      "text/plain": [
       "<Figure size 432x288 with 1 Axes>"
      ]
     },
     "metadata": {
      "tags": []
     },
     "output_type": "display_data"
    }
   ],
   "source": []
  },
  {
   "cell_type": "markdown",
   "metadata": {
    "colab_type": "text",
    "id": "et6KOGCBk1f4"
   },
   "source": [
    "---> Pas mal, on arrive à des scores tout à fait honorables ! "
   ]
  },
  {
   "cell_type": "code",
   "execution_count": 0,
   "metadata": {
    "colab": {},
    "colab_type": "code",
    "id": "mBj-UkB53eon"
   },
   "outputs": [],
   "source": []
  }
 ],
 "metadata": {
  "accelerator": "GPU",
  "colab": {
   "collapsed_sections": [],
   "name": "Cifar10 - Exercice.ipynb",
   "provenance": []
  },
  "kernelspec": {
   "display_name": "Python 3",
   "language": "python",
   "name": "python3"
  },
  "language_info": {
   "codemirror_mode": {
    "name": "ipython",
    "version": 3
   },
   "file_extension": ".py",
   "mimetype": "text/x-python",
   "name": "python",
   "nbconvert_exporter": "python",
   "pygments_lexer": "ipython3",
   "version": "3.7.6"
  }
 },
 "nbformat": 4,
 "nbformat_minor": 1
}
