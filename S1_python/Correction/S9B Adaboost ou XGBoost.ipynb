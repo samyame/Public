<!doctype html>
<html>
  <head>
    
      <title>JULIE</title>
      <meta name="viewport" content="width=device-width, initial-scale=1">
      <link rel="stylesheet" href="https://stackpath.bootstrapcdn.com/bootstrap/4.3.1/css/bootstrap.min.css" integrity="sha384-ggOyR0iXCbMQv3Xipma34MD+dH/1fQ784/j6cY/iJTQUOhcWr7x9JvoRxT2MZw1T" crossorigin="anonymous">
      <script src="https://kit.fontawesome.com/a8503f7e92.js" crossorigin="anonymous"></script>
      <script src="https://code.jquery.com/jquery-3.3.1.slim.min.js" integrity="sha384-q8i/X+965DzO0rT7abK41JStQIAqVgRVzpbzo5smXKp4YfRvH+8abtTE1Pi6jizo" crossorigin="anonymous"></script>
      <script src="https://cdnjs.cloudflare.com/ajax/libs/popper.js/1.14.7/umd/popper.min.js" integrity="sha384-UO2eT0CpHqdSJQ6hJty5KVphtPhzWj9WO1clHTMGa3JDZwrnQq4sF86dIHNDz0W1" crossorigin="anonymous"></script>
      <script src="https://stackpath.bootstrapcdn.com/bootstrap/4.3.1/js/bootstrap.min.js" integrity="sha384-JjSmVgyd0p3pXB1rRibZUAYoIIy6OrQ6VrjIEaFf/nJGzIxFDsf4x0xIM+B07jRM" crossorigin="anonymous"></script>
      <link href="https://fonts.googleapis.com/css?family=Lato:400,400i,700,900" rel="stylesheet">
      <link rel="stylesheet" href="/static/style.css">
      <link rel="stylesheet" href="/static/notebooks.css">
    
    
  </head>
  <body>
    <nav class="navbar sticky-top navbar-expand-lg navbar-light pt-0 pb-0">
        <a class="navbar-brand p-0" href=/>
          <img class="nav-img" src="https://drive.google.com/uc?export=view&id=137l7MII4Sk-Xizbkwq-h9CcJiE_f47Gm" style="width:5rem;">
        </a>
        <button id="nav-toggler" class="navbar-toggler" type="button" data-toggle="collapse" data-target="#navbarNav" aria-controls="navbarNav" aria-expanded="false" aria-label="Toggle navigation">
          <span class="navbar-toggler-icon"></span>
        </button>
        <div class="collapse navbar-collapse justify-content-between" id="navbarNav">
          <div>
            <ul class="navbar-nav align-items-end">
              <li class="nav-item">
                <a class="nav-link" href=/>Courses</a>
              </li>
              <li class="nav-item">
                <a class="nav-link" href=/events>Events</a>
              </li>
              <li class="nav-item">
                <a class="nav-link" href=/alumni>Alumni</a>
              </li>
              
                <li class="nav-item">
                  <a class="nav-link"  href=/workspaces tabindex="-1" aria-disabled="true">Workspace</a>
                </li>
              
              <li class="nav-item">
                <a class="nav-link" href="https://jedhabootcamp.slack.com/" target="_blank" tabindex="-1" aria-disabled="true">Slack</a>
              </li>
            </ul>
          </div>
          <div>
            <ul class="collapse navbar-collapse navbar-nav align-items-end", id="navbarNav">
              
              <li class="nav-item">
                <a class="nav-link" href=/user/sign-out>Logout</a>
              </li>
              
              <li class="nav-item">
                <a class="nav-link" href=/my_profile>Profile</a>
              </li>
            </ul>
          </div>
        </div>
      </nav>
      <div class="content col-md-10 mt-5">
        
<div style="display:none;">
  
        <div class="p-1 submenu-wrapper col-8 col-md-4">        
            <ul class="m-1 p-0 d-flex flex-row justify-content-between align-items-center">       
              <li class="nav-item list-unstyled">
                <a class="submenu-btn submenu-active-btn text-white p-2" href=/>Data Degrees</a>
              </li>
              <li class="nav-item list-unstyled">
                  <a class="submenu-btn submenu-inactive-btn p-2" href=/tracks>Tracks</a>
              </li>
              <li class="nav-item list-unstyled">
                  <a class="submenu-btn submenu-inactive-btn p-2" href=/library>Library</a>
              </li>
            </ul>
        </div>
        
</div>


        <div class="subtitle-wrapper mt-5">
          <h1 class="subtitle"> Jedha full stack </h1>
        </div>
          

<div class="course-summary-wrapper">
  <ul class="p-0 mt-4">
    <button class="btn m-0 p-0 col-12" data-toggle="collapse" data-target="#summary" role="button" aria-expanded="false" aria-controls="summary">
      <span class="pl-5 pr-5 pt-3 pb-3 d-flex flex-row justify-content-between parent-folder">
      <span>jedha-full-stack-24-program</span>
      <i class="fas fa-sort-down"></i>
      </span>
    </button>
  </ul>
  <ul class="collapse" id="summary">
    
    
        
          
          <ul class="p-2">
            <li class="m-2 list-unstyled"><span class="far fa-file mr-1"></span>
                <a class="course-file" href=/courses/jedha-full-stack-24-program/.gitignore>.gitignore</a>
            </li>
          </ul>
        
    
    
        
          
          <ul class="p-2">
            <li class="m-2 list-unstyled"><span class="far fa-file mr-1"></span>
                <a class="course-file" href=/courses/jedha-full-stack-24-program/README.md>README.md</a>
            </li>
          </ul>
        
    
    
        
          <ul class="p-0 mt-4">
            <button class="btn m-0 p-0 col-12" data-toggle="collapse" data-target="#course_s01--fondamentauxdepython" role="button" aria-expanded="false" aria-controls="course_s01--fondamentauxdepython">
              
                <span class="pl-5 pr-5 pt-3 pb-3 d-flex flex-row justify-content-between child-folders">
              
                <span>S0.1 -- Fondamentaux de Python</span>
                <i class="fas fa-sort-down"></i>
              </span>
            </button>
          </ul>
          <ul class ="collapse" id="course_s01--fondamentauxdepython"> 
    
        
          <ul class="p-0 mt-4">
            <button class="btn m-0 p-0 col-12" data-toggle="collapse" data-target="#course_s1-a-conditionsboucles" role="button" aria-expanded="false" aria-controls="course_s1-a-conditionsboucles">
              
                <span class="pl-5 pr-5 pt-3 pb-3 d-flex flex-row justify-content-between parent-folder">
              
                <span>S1-A - Conditions &amp; Boucles</span>
                <i class="fas fa-sort-down"></i>
              </span>
            </button>
          </ul>
          <ul class ="collapse" id="course_s1-a-conditionsboucles"> 
    
        
          <ul class="p-0 mt-4">
            <button class="btn m-0 p-0 col-12" data-toggle="collapse" data-target="#course_2exercices" role="button" aria-expanded="false" aria-controls="course_2exercices">
              
                <span class="pl-5 pr-5 pt-3 pb-3 d-flex flex-row justify-content-between parent-folder">
              
                <span>2. Exercices</span>
                <i class="fas fa-sort-down"></i>
              </span>
            </button>
          </ul>
          <ul class ="collapse" id="course_2exercices"> 
    
        
          
          <ul class="p-2">
            <li class="m-2 list-unstyled"><span class="far fa-file mr-1"></span>
                <a class="course-file" href=/courses/jedha-full-stack-24-program/S0.1%20--%20Fondamentaux%20de%20Python/S1-A%20-%20Conditions%20%26%20Boucles/2.%20Exercices/1.%20Construire%20un%20quiz%20-%20S1-1A.ipynb>1. Construire un quiz - S1-1A.ipynb</a>
            </li>
          </ul>
        
    
    
        
          
          <ul class="p-2">
            <li class="m-2 list-unstyled"><span class="far fa-file mr-1"></span>
                <a class="course-file" href=/courses/jedha-full-stack-24-program/S0.1%20--%20Fondamentaux%20de%20Python/S1-A%20-%20Conditions%20%26%20Boucles/2.%20Exercices/2.%20Construire%20un%20quiz%20-%20Solutions.md>2. Construire un quiz - Solutions.md</a>
            </li>
          </ul>
        
    </ul>
        
    
    
        
          <ul class="p-0 mt-4">
            <button class="btn m-0 p-0 col-12" data-toggle="collapse" data-target="#course_3projet" role="button" aria-expanded="false" aria-controls="course_3projet">
              
                <span class="pl-5 pr-5 pt-3 pb-3 d-flex flex-row justify-content-between child-folders">
              
                <span>3. Projet</span>
                <i class="fas fa-sort-down"></i>
              </span>
            </button>
          </ul>
          <ul class ="collapse" id="course_3projet"> 
    
        
          
          <ul class="p-2">
            <li class="m-2 list-unstyled"><span class="far fa-file mr-1"></span>
                <a class="course-file" href=/courses/jedha-full-stack-24-program/S0.1%20--%20Fondamentaux%20de%20Python/S1-A%20-%20Conditions%20%26%20Boucles/3.%20Projet/1.%20Raffinons%20notre%20quiz%20-%20Mini%20Projets%20S1-1B.ipynb>1. Raffinons notre quiz - Mini Projets S1-1B.ipynb</a>
            </li>
          </ul>
        
    
    
        
          
          <ul class="p-2">
            <li class="m-2 list-unstyled"><span class="far fa-file mr-1"></span>
                <a class="course-file" href=/courses/jedha-full-stack-24-program/S0.1%20--%20Fondamentaux%20de%20Python/S1-A%20-%20Conditions%20%26%20Boucles/3.%20Projet/2.%20Fondamentaux%20Python%20-%20Solutions%20Projets%20S1-1B.md>2. Fondamentaux Python - Solutions Projets S1-1B.md</a>
            </li>
          </ul>
        
    </ul>
        
    
    
        
          
          <ul class="p-2">
            <li class="m-2 list-unstyled"><span class="far fa-file mr-1"></span>
                <a class="course-file" href=/courses/jedha-full-stack-24-program/S0.1%20--%20Fondamentaux%20de%20Python/S1-A%20-%20Conditions%20%26%20Boucles/README.md>README.md</a>
            </li>
          </ul>
        
    </ul>
        
    
    
        
          <ul class="p-0 mt-4">
            <button class="btn m-0 p-0 col-12" data-toggle="collapse" data-target="#course_s1-b-fonctionspoo" role="button" aria-expanded="false" aria-controls="course_s1-b-fonctionspoo">
              
                <span class="pl-5 pr-5 pt-3 pb-3 d-flex flex-row justify-content-between child-folders">
              
                <span>S1-B - Fonctions &amp; POO</span>
                <i class="fas fa-sort-down"></i>
              </span>
            </button>
          </ul>
          <ul class ="collapse" id="course_s1-b-fonctionspoo"> 
    
        
          <ul class="p-0 mt-4">
            <button class="btn m-0 p-0 col-12" data-toggle="collapse" data-target="#course_1fonctions" role="button" aria-expanded="false" aria-controls="course_1fonctions">
              
                <span class="pl-5 pr-5 pt-3 pb-3 d-flex flex-row justify-content-between parent-folder">
              
                <span>1. Fonctions</span>
                <i class="fas fa-sort-down"></i>
              </span>
            </button>
          </ul>
          <ul class ="collapse" id="course_1fonctions"> 
    
        
          <ul class="p-0 mt-4">
            <button class="btn m-0 p-0 col-12" data-toggle="collapse" data-target="#course_2exercices" role="button" aria-expanded="false" aria-controls="course_2exercices">
              
                <span class="pl-5 pr-5 pt-3 pb-3 d-flex flex-row justify-content-between parent-folder">
              
                <span>2. Exercices</span>
                <i class="fas fa-sort-down"></i>
              </span>
            </button>
          </ul>
          <ul class ="collapse" id="course_2exercices"> 
    
        
          
          <ul class="p-2">
            <li class="m-2 list-unstyled"><span class="far fa-file mr-1"></span>
                <a class="course-file" href=/courses/jedha-full-stack-24-program/S0.1%20--%20Fondamentaux%20de%20Python/S1-B%20-%20Fonctions%20%26%20POO/1.%20Fonctions/2.%20Exercices/1.%20Manipuler%20des%20collections%20de%20donn%C3%A9es%20-%20Exercices%20S1-2A.ipynb>1. Manipuler des collections de données - Exercices S1-2A.ipynb</a>
            </li>
          </ul>
        
    
    
        
          
          <ul class="p-2">
            <li class="m-2 list-unstyled"><span class="far fa-file mr-1"></span>
                <a class="course-file" href=/courses/jedha-full-stack-24-program/S0.1%20--%20Fondamentaux%20de%20Python/S1-B%20-%20Fonctions%20%26%20POO/1.%20Fonctions/2.%20Exercices/2.%20Manipuler%20des%20collections%20de%20donn%C3%A9es%20-%20Solutions.md>2. Manipuler des collections de données - Solutions.md</a>
            </li>
          </ul>
        
    </ul>
        
    
    
        
          <ul class="p-0 mt-4">
            <button class="btn m-0 p-0 col-12" data-toggle="collapse" data-target="#course_3projet" role="button" aria-expanded="false" aria-controls="course_3projet">
              
                <span class="pl-5 pr-5 pt-3 pb-3 d-flex flex-row justify-content-between child-folders">
              
                <span>3. Projet</span>
                <i class="fas fa-sort-down"></i>
              </span>
            </button>
          </ul>
          <ul class ="collapse" id="course_3projet"> 
    
        
          
          <ul class="p-2">
            <li class="m-2 list-unstyled"><span class="far fa-file mr-1"></span>
                <a class="course-file" href=/courses/jedha-full-stack-24-program/S0.1%20--%20Fondamentaux%20de%20Python/S1-B%20-%20Fonctions%20%26%20POO/1.%20Fonctions/3.%20Projet/1.%20Fondamentaux%20Python%20Mini%20Projets%20S1-2B.ipynb>1. Fondamentaux Python Mini Projets S1-2B.ipynb</a>
            </li>
          </ul>
        
    
    
        
          
          <ul class="p-2">
            <li class="m-2 list-unstyled"><span class="far fa-file mr-1"></span>
                <a class="course-file" href=/courses/jedha-full-stack-24-program/S0.1%20--%20Fondamentaux%20de%20Python/S1-B%20-%20Fonctions%20%26%20POO/1.%20Fonctions/3.%20Projet/2.%20Fondamentaux%20Python%20-%20Solutions%20S1-2B.md>2. Fondamentaux Python - Solutions S1-2B.md</a>
            </li>
          </ul>
        
    </ul>
        
    
    
        
          
          <ul class="p-2">
            <li class="m-2 list-unstyled"><span class="far fa-file mr-1"></span>
                <a class="course-file" href=/courses/jedha-full-stack-24-program/S0.1%20--%20Fondamentaux%20de%20Python/S1-B%20-%20Fonctions%20%26%20POO/1.%20Fonctions/README.md>README.md</a>
            </li>
          </ul>
        
    </ul>
        
    
    
        
          <ul class="p-0 mt-4">
            <button class="btn m-0 p-0 col-12" data-toggle="collapse" data-target="#course_2programmationorientéeobjets" role="button" aria-expanded="false" aria-controls="course_2programmationorientéeobjets">
              
                <span class="pl-5 pr-5 pt-3 pb-3 d-flex flex-row justify-content-between child-folders">
              
                <span>2. Programmation Orientée Objets</span>
                <i class="fas fa-sort-down"></i>
              </span>
            </button>
          </ul>
          <ul class ="collapse" id="course_2programmationorientéeobjets"> 
    
        
          <ul class="p-0 mt-4">
            <button class="btn m-0 p-0 col-12" data-toggle="collapse" data-target="#course_2exercices" role="button" aria-expanded="false" aria-controls="course_2exercices">
              
                <span class="pl-5 pr-5 pt-3 pb-3 d-flex flex-row justify-content-between parent-folder">
              
                <span>2. Exercices</span>
                <i class="fas fa-sort-down"></i>
              </span>
            </button>
          </ul>
          <ul class ="collapse" id="course_2exercices"> 
    
        
          
          <ul class="p-2">
            <li class="m-2 list-unstyled"><span class="far fa-file mr-1"></span>
                <a class="course-file" href=/courses/jedha-full-stack-24-program/S0.1%20--%20Fondamentaux%20de%20Python/S1-B%20-%20Fonctions%20%26%20POO/2.%20Programmation%20Orient%C3%A9e%20Objets/2.%20Exercices/1.%20Programmation%20Orient%C3%A9e%20Math%C3%A9matiques%20-%20Exercice.ipynb>1. Programmation Orientée Mathématiques - Exercice.ipynb</a>
            </li>
          </ul>
        
    
    
        
          
          <ul class="p-2">
            <li class="m-2 list-unstyled"><span class="far fa-file mr-1"></span>
                <a class="course-file" href=/courses/jedha-full-stack-24-program/S0.1%20--%20Fondamentaux%20de%20Python/S1-B%20-%20Fonctions%20%26%20POO/2.%20Programmation%20Orient%C3%A9e%20Objets/2.%20Exercices/2.%20Programmation%20Orient%C3%A9e%20Math%C3%A9matiques%20-%20Solutions.md>2. Programmation Orientée Mathématiques - Solutions.md</a>
            </li>
          </ul>
        
    </ul>
        
    
    
        
          <ul class="p-0 mt-4">
            <button class="btn m-0 p-0 col-12" data-toggle="collapse" data-target="#course_3projet" role="button" aria-expanded="false" aria-controls="course_3projet">
              
                <span class="pl-5 pr-5 pt-3 pb-3 d-flex flex-row justify-content-between child-folders">
              
                <span>3. Projet</span>
                <i class="fas fa-sort-down"></i>
              </span>
            </button>
          </ul>
          <ul class ="collapse" id="course_3projet"> 
    
        
          
          <ul class="p-2">
            <li class="m-2 list-unstyled"><span class="far fa-file mr-1"></span>
                <a class="course-file" href=/courses/jedha-full-stack-24-program/S0.1%20--%20Fondamentaux%20de%20Python/S1-B%20-%20Fonctions%20%26%20POO/2.%20Programmation%20Orient%C3%A9e%20Objets/3.%20Projet/1.%20Imputer%20-%20Exercice.ipynb>1. Imputer - Exercice.ipynb</a>
            </li>
          </ul>
        
    
    
        
          
          <ul class="p-2">
            <li class="m-2 list-unstyled"><span class="far fa-file mr-1"></span>
                <a class="course-file" href=/courses/jedha-full-stack-24-program/S0.1%20--%20Fondamentaux%20de%20Python/S1-B%20-%20Fonctions%20%26%20POO/2.%20Programmation%20Orient%C3%A9e%20Objets/3.%20Projet/2.%20Imputer%20-%20Solutions.md>2. Imputer - Solutions.md</a>
            </li>
          </ul>
        
    </ul>
        
    
    
        
          
          <ul class="p-2">
            <li class="m-2 list-unstyled"><span class="far fa-file mr-1"></span>
                <a class="course-file" href=/courses/jedha-full-stack-24-program/S0.1%20--%20Fondamentaux%20de%20Python/S1-B%20-%20Fonctions%20%26%20POO/2.%20Programmation%20Orient%C3%A9e%20Objets/README.md>README.md</a>
            </li>
          </ul>
        
    </ul>
        
    </ul>
        
    </ul>
        
    
    
        
          <ul class="p-0 mt-4">
            <button class="btn m-0 p-0 col-12" data-toggle="collapse" data-target="#course_s02--gestiondedatasetsavecpandascollaborationavecgithub" role="button" aria-expanded="false" aria-controls="course_s02--gestiondedatasetsavecpandascollaborationavecgithub">
              
                <span class="pl-5 pr-5 pt-3 pb-3 d-flex flex-row justify-content-between child-folders">
              
                <span>S0.2 -- Gestion de datasets avec Pandas &amp; Collaboration avec Github</span>
                <i class="fas fa-sort-down"></i>
              </span>
            </button>
          </ul>
          <ul class ="collapse" id="course_s02--gestiondedatasetsavecpandascollaborationavecgithub"> 
    
        
          <ul class="p-0 mt-4">
            <button class="btn m-0 p-0 col-12" data-toggle="collapse" data-target="#course_s2-a-gitgithub" role="button" aria-expanded="false" aria-controls="course_s2-a-gitgithub">
              
                <span class="pl-5 pr-5 pt-3 pb-3 d-flex flex-row justify-content-between parent-folder">
              
                <span>S2-A - Git &amp; Github</span>
                <i class="fas fa-sort-down"></i>
              </span>
            </button>
          </ul>
          <ul class ="collapse" id="course_s2-a-gitgithub"> 
    
        
          <ul class="p-0 mt-4">
            <button class="btn m-0 p-0 col-12" data-toggle="collapse" data-target="#course_1notesdecours" role="button" aria-expanded="false" aria-controls="course_1notesdecours">
              
                <span class="pl-5 pr-5 pt-3 pb-3 d-flex flex-row justify-content-between parent-folder">
              
                <span>1. Notes de cours</span>
                <i class="fas fa-sort-down"></i>
              </span>
            </button>
          </ul>
          <ul class ="collapse" id="course_1notesdecours"> 
    
        
          
          <ul class="p-2">
            <li class="m-2 list-unstyled"><span class="far fa-file mr-1"></span>
                <a class="course-file" href=/courses/jedha-full-stack-24-program/S0.2%20--%20Gestion%20de%20datasets%20avec%20Pandas%20%26%20Collaboration%20avec%20Github/S2-A%20-%20Git%20%26%20Github/1.%20Notes%20de%20cours/README.md>README.md</a>
            </li>
          </ul>
        
    
    
        
          <ul class="p-0 mt-4">
            <button class="btn m-0 p-0 col-12" data-toggle="collapse" data-target="#course_welcome_to_jedha" role="button" aria-expanded="false" aria-controls="course_welcome_to_jedha">
              
                <span class="pl-5 pr-5 pt-3 pb-3 d-flex flex-row justify-content-between child-folders">
              
                <span>welcome_to_jedha</span>
                <i class="fas fa-sort-down"></i>
              </span>
            </button>
          </ul>
          <ul class ="collapse" id="course_welcome_to_jedha"> 
    
        
          
          <ul class="p-2">
            <li class="m-2 list-unstyled"><span class="far fa-file mr-1"></span>
                <a class="course-file" href=/courses/jedha-full-stack-24-program/S0.2%20--%20Gestion%20de%20datasets%20avec%20Pandas%20%26%20Collaboration%20avec%20Github/S2-A%20-%20Git%20%26%20Github/1.%20Notes%20de%20cours/welcome_to_jedha/bienvenue.css>bienvenue.css</a>
            </li>
          </ul>
        
    
    
        
          
          <ul class="p-2">
            <li class="m-2 list-unstyled"><span class="far fa-file mr-1"></span>
                <a class="course-file" href=/courses/jedha-full-stack-24-program/S0.2%20--%20Gestion%20de%20datasets%20avec%20Pandas%20%26%20Collaboration%20avec%20Github/S2-A%20-%20Git%20%26%20Github/1.%20Notes%20de%20cours/welcome_to_jedha/bienvenue.html>bienvenue.html</a>
            </li>
          </ul>
        
    
    
        
          
          <ul class="p-2">
            <li class="m-2 list-unstyled"><span class="far fa-file mr-1"></span>
                <a class="course-file" href=/courses/jedha-full-stack-24-program/S0.2%20--%20Gestion%20de%20datasets%20avec%20Pandas%20%26%20Collaboration%20avec%20Github/S2-A%20-%20Git%20%26%20Github/1.%20Notes%20de%20cours/welcome_to_jedha/bienvenue.js>bienvenue.js</a>
            </li>
          </ul>
        
    </ul>
        
    </ul>
        
    
    
        
          <ul class="p-0 mt-4">
            <button class="btn m-0 p-0 col-12" data-toggle="collapse" data-target="#course_2exercices" role="button" aria-expanded="false" aria-controls="course_2exercices">
              
                <span class="pl-5 pr-5 pt-3 pb-3 d-flex flex-row justify-content-between child-folders">
              
                <span>2. Exercices</span>
                <i class="fas fa-sort-down"></i>
              </span>
            </button>
          </ul>
          <ul class ="collapse" id="course_2exercices"> 
    
        
          
          <ul class="p-2">
            <li class="m-2 list-unstyled"><span class="far fa-file mr-1"></span>
                <a class="course-file" href=/courses/jedha-full-stack-24-program/S0.2%20--%20Gestion%20de%20datasets%20avec%20Pandas%20%26%20Collaboration%20avec%20Github/S2-A%20-%20Git%20%26%20Github/2.%20Exercices/2.%20Pratiquer%20Github%20-%20Exercices.md>2. Pratiquer Github - Exercices.md</a>
            </li>
          </ul>
        
    </ul>
        
    
    
        
          <ul class="p-0 mt-4">
            <button class="btn m-0 p-0 col-12" data-toggle="collapse" data-target="#course_3projet" role="button" aria-expanded="false" aria-controls="course_3projet">
              
                <span class="pl-5 pr-5 pt-3 pb-3 d-flex flex-row justify-content-between child-folders">
              
                <span>3. Projet</span>
                <i class="fas fa-sort-down"></i>
              </span>
            </button>
          </ul>
          <ul class ="collapse" id="course_3projet"> 
    
        
          
          <ul class="p-2">
            <li class="m-2 list-unstyled"><span class="far fa-file mr-1"></span>
                <a class="course-file" href=/courses/jedha-full-stack-24-program/S0.2%20--%20Gestion%20de%20datasets%20avec%20Pandas%20%26%20Collaboration%20avec%20Github/S2-A%20-%20Git%20%26%20Github/3.%20Projet/1.%20Cr%C3%A9er%20un%20jeu%20de%20devinettes%20-%20Projet.md>1. Créer un jeu de devinettes - Projet.md</a>
            </li>
          </ul>
        
    
    
        
          
          <ul class="p-2">
            <li class="m-2 list-unstyled"><span class="far fa-file mr-1"></span>
                <a class="course-file" href=/courses/jedha-full-stack-24-program/S0.2%20--%20Gestion%20de%20datasets%20avec%20Pandas%20%26%20Collaboration%20avec%20Github/S2-A%20-%20Git%20%26%20Github/3.%20Projet/2.%20Cr%C3%A9er%20un%20jeu%20de%20devinettes%20-%20Solutions.md>2. Créer un jeu de devinettes - Solutions.md</a>
            </li>
          </ul>
        
    </ul>
        
    </ul>
        
    
    
        
          <ul class="p-0 mt-4">
            <button class="btn m-0 p-0 col-12" data-toggle="collapse" data-target="#course_s2-b-pandas" role="button" aria-expanded="false" aria-controls="course_s2-b-pandas">
              
                <span class="pl-5 pr-5 pt-3 pb-3 d-flex flex-row justify-content-between child-folders">
              
                <span>S2-B - Pandas</span>
                <i class="fas fa-sort-down"></i>
              </span>
            </button>
          </ul>
          <ul class ="collapse" id="course_s2-b-pandas"> 
    
        
          <ul class="p-0 mt-4">
            <button class="btn m-0 p-0 col-12" data-toggle="collapse" data-target="#course_1notesdecours" role="button" aria-expanded="false" aria-controls="course_1notesdecours">
              
                <span class="pl-5 pr-5 pt-3 pb-3 d-flex flex-row justify-content-between parent-folder">
              
                <span>1. Notes de cours</span>
                <i class="fas fa-sort-down"></i>
              </span>
            </button>
          </ul>
          <ul class ="collapse" id="course_1notesdecours"> 
    
        
          <ul class="p-0 mt-4">
            <button class="btn m-0 p-0 col-12" data-toggle="collapse" data-target="#course_datasets" role="button" aria-expanded="false" aria-controls="course_datasets">
              
                <span class="pl-5 pr-5 pt-3 pb-3 d-flex flex-row justify-content-between parent-folder">
              
                <span>Datasets</span>
                <i class="fas fa-sort-down"></i>
              </span>
            </button>
          </ul>
          <ul class ="collapse" id="course_datasets"> 
    
        
          
          <ul class="p-2">
            <li class="m-2 list-unstyled"><span class="far fa-file mr-1"></span>
                <a class="course-file" href=/courses/jedha-full-stack-24-program/S0.2%20--%20Gestion%20de%20datasets%20avec%20Pandas%20%26%20Collaboration%20avec%20Github/S2-B%20-%20Pandas/1.%20Notes%20de%20cours/Datasets/chipotle.csv>chipotle.csv</a>
            </li>
          </ul>
        
    </ul>
        
    
    
        
          <ul class="p-0 mt-4">
            <button class="btn m-0 p-0 col-12" data-toggle="collapse" data-target="#course_pandascheatsheet" role="button" aria-expanded="false" aria-controls="course_pandascheatsheet">
              
                <span class="pl-5 pr-5 pt-3 pb-3 d-flex flex-row justify-content-between child-folders">
              
                <span>Pandas Cheat Sheet</span>
                <i class="fas fa-sort-down"></i>
              </span>
            </button>
          </ul>
          <ul class ="collapse" id="course_pandascheatsheet"> 
    
        
          
          <ul class="p-2">
            <li class="m-2 list-unstyled"><span class="far fa-file mr-1"></span>
                <a class="course-file" href=/courses/jedha-full-stack-24-program/S0.2%20--%20Gestion%20de%20datasets%20avec%20Pandas%20%26%20Collaboration%20avec%20Github/S2-B%20-%20Pandas/1.%20Notes%20de%20cours/Pandas%20Cheat%20Sheet/C65MaLXU8AAzwBS.jpg>C65MaLXU8AAzwBS.jpg</a>
            </li>
          </ul>
        
    
    
        
          
          <ul class="p-2">
            <li class="m-2 list-unstyled"><span class="far fa-file mr-1"></span>
                <a class="course-file" href=/courses/jedha-full-stack-24-program/S0.2%20--%20Gestion%20de%20datasets%20avec%20Pandas%20%26%20Collaboration%20avec%20Github/S2-B%20-%20Pandas/1.%20Notes%20de%20cours/Pandas%20Cheat%20Sheet/Python-Pandas-Cheat-Sheet.png>Python-Pandas-Cheat-Sheet.png</a>
            </li>
          </ul>
        
    
    
        
          
          <ul class="p-2">
            <li class="m-2 list-unstyled"><span class="far fa-file mr-1"></span>
                <a class="course-file" href=/courses/jedha-full-stack-24-program/S0.2%20--%20Gestion%20de%20datasets%20avec%20Pandas%20%26%20Collaboration%20avec%20Github/S2-B%20-%20Pandas/1.%20Notes%20de%20cours/Pandas%20Cheat%20Sheet/pandas.PNG>pandas.PNG</a>
            </li>
          </ul>
        
    </ul>
        
    
    
        
          
          <ul class="p-2">
            <li class="m-2 list-unstyled"><span class="far fa-file mr-1"></span>
                <a class="course-file" href=/courses/jedha-full-stack-24-program/S0.2%20--%20Gestion%20de%20datasets%20avec%20Pandas%20%26%20Collaboration%20avec%20Github/S2-B%20-%20Pandas/1.%20Notes%20de%20cours/README.md>README.md</a>
            </li>
          </ul>
        
    </ul>
        
    
    
        
          <ul class="p-0 mt-4">
            <button class="btn m-0 p-0 col-12" data-toggle="collapse" data-target="#course_2exercices" role="button" aria-expanded="false" aria-controls="course_2exercices">
              
                <span class="pl-5 pr-5 pt-3 pb-3 d-flex flex-row justify-content-between child-folders">
              
                <span>2. Exercices</span>
                <i class="fas fa-sort-down"></i>
              </span>
            </button>
          </ul>
          <ul class ="collapse" id="course_2exercices"> 
    
        
          
          <ul class="p-2">
            <li class="m-2 list-unstyled"><span class="far fa-file mr-1"></span>
                <a class="course-file" href=/courses/jedha-full-stack-24-program/S0.2%20--%20Gestion%20de%20datasets%20avec%20Pandas%20%26%20Collaboration%20avec%20Github/S2-B%20-%20Pandas/2.%20Exercices/1.%20Explorer%20une%20base%20de%20donn%C3%A9es%20Exercice.ipynb>1. Explorer une base de données Exercice.ipynb</a>
            </li>
          </ul>
        
    
    
        
          
          <ul class="p-2">
            <li class="m-2 list-unstyled"><span class="far fa-file mr-1"></span>
                <a class="course-file" href=/courses/jedha-full-stack-24-program/S0.2%20--%20Gestion%20de%20datasets%20avec%20Pandas%20%26%20Collaboration%20avec%20Github/S2-B%20-%20Pandas/2.%20Exercices/2.%20Explorer%20une%20base%20de%20donn%C3%A9es%20-%20Solutions.md>2. Explorer une base de données - Solutions.md</a>
            </li>
          </ul>
        
    </ul>
        
    
    
        
          <ul class="p-0 mt-4">
            <button class="btn m-0 p-0 col-12" data-toggle="collapse" data-target="#course_3projet" role="button" aria-expanded="false" aria-controls="course_3projet">
              
                <span class="pl-5 pr-5 pt-3 pb-3 d-flex flex-row justify-content-between child-folders">
              
                <span>3. Projet</span>
                <i class="fas fa-sort-down"></i>
              </span>
            </button>
          </ul>
          <ul class ="collapse" id="course_3projet"> 
    
        
          
          <ul class="p-2">
            <li class="m-2 list-unstyled"><span class="far fa-file mr-1"></span>
                <a class="course-file" href=/courses/jedha-full-stack-24-program/S0.2%20--%20Gestion%20de%20datasets%20avec%20Pandas%20%26%20Collaboration%20avec%20Github/S2-B%20-%20Pandas/3.%20Projet/1.%20House%20Market%20-%20Exercice.ipynb>1. House Market - Exercice.ipynb</a>
            </li>
          </ul>
        
    
    
        
          
          <ul class="p-2">
            <li class="m-2 list-unstyled"><span class="far fa-file mr-1"></span>
                <a class="course-file" href=/courses/jedha-full-stack-24-program/S0.2%20--%20Gestion%20de%20datasets%20avec%20Pandas%20%26%20Collaboration%20avec%20Github/S2-B%20-%20Pandas/3.%20Projet/2.%20House%20Market%20-%20Solutions.md>2. House Market - Solutions.md</a>
            </li>
          </ul>
        
    
    
        
          <ul class="p-0 mt-4">
            <button class="btn m-0 p-0 col-12" data-toggle="collapse" data-target="#course_housemarket" role="button" aria-expanded="false" aria-controls="course_housemarket">
              
                <span class="pl-5 pr-5 pt-3 pb-3 d-flex flex-row justify-content-between child-folders">
              
                <span>house market</span>
                <i class="fas fa-sort-down"></i>
              </span>
            </button>
          </ul>
          <ul class ="collapse" id="course_housemarket"> 
    
        
          
          <ul class="p-2">
            <li class="m-2 list-unstyled"><span class="far fa-file mr-1"></span>
                <a class="course-file" href=/courses/jedha-full-stack-24-program/S0.2%20--%20Gestion%20de%20datasets%20avec%20Pandas%20%26%20Collaboration%20avec%20Github/S2-B%20-%20Pandas/3.%20Projet/house%20market/house_price.csv>house_price.csv</a>
            </li>
          </ul>
        
    
    
        
          
          <ul class="p-2">
            <li class="m-2 list-unstyled"><span class="far fa-file mr-1"></span>
                <a class="course-file" href=/courses/jedha-full-stack-24-program/S0.2%20--%20Gestion%20de%20datasets%20avec%20Pandas%20%26%20Collaboration%20avec%20Github/S2-B%20-%20Pandas/3.%20Projet/house%20market/nombre_de_chambres.csv>nombre_de_chambres.csv</a>
            </li>
          </ul>
        
    
    
        
          
          <ul class="p-2">
            <li class="m-2 list-unstyled"><span class="far fa-file mr-1"></span>
                <a class="course-file" href=/courses/jedha-full-stack-24-program/S0.2%20--%20Gestion%20de%20datasets%20avec%20Pandas%20%26%20Collaboration%20avec%20Github/S2-B%20-%20Pandas/3.%20Projet/house%20market/nombre_de_sdb.csv>nombre_de_sdb.csv</a>
            </li>
          </ul>
        
    
    
        
          
          <ul class="p-2">
            <li class="m-2 list-unstyled"><span class="far fa-file mr-1"></span>
                <a class="course-file" href=/courses/jedha-full-stack-24-program/S0.2%20--%20Gestion%20de%20datasets%20avec%20Pandas%20%26%20Collaboration%20avec%20Github/S2-B%20-%20Pandas/3.%20Projet/house%20market/superficie.csv>superficie.csv</a>
            </li>
          </ul>
        
    </ul>
        
    </ul>
        
    </ul>
        
    </ul>
        
    
    
        
          <ul class="p-0 mt-4">
            <button class="btn m-0 p-0 col-12" data-toggle="collapse" data-target="#course_s03--datavisualisation-utilisationseabornmatplotlib" role="button" aria-expanded="false" aria-controls="course_s03--datavisualisation-utilisationseabornmatplotlib">
              
                <span class="pl-5 pr-5 pt-3 pb-3 d-flex flex-row justify-content-between child-folders">
              
                <span>S0.3 -- Data Visualisation - Utilisation Seaborn &amp; Matplotlib</span>
                <i class="fas fa-sort-down"></i>
              </span>
            </button>
          </ul>
          <ul class ="collapse" id="course_s03--datavisualisation-utilisationseabornmatplotlib"> 
    
        
          <ul class="p-0 mt-4">
            <button class="btn m-0 p-0 col-12" data-toggle="collapse" data-target="#course_s3-a-statistiquesdescriptives" role="button" aria-expanded="false" aria-controls="course_s3-a-statistiquesdescriptives">
              
                <span class="pl-5 pr-5 pt-3 pb-3 d-flex flex-row justify-content-between parent-folder">
              
                <span>S3-A - Statistiques Descriptives</span>
                <i class="fas fa-sort-down"></i>
              </span>
            </button>
          </ul>
          <ul class ="collapse" id="course_s3-a-statistiquesdescriptives"> 
    
        
          <ul class="p-0 mt-4">
            <button class="btn m-0 p-0 col-12" data-toggle="collapse" data-target="#course_####datasources####" role="button" aria-expanded="false" aria-controls="course_####datasources####">
              
                <span class="pl-5 pr-5 pt-3 pb-3 d-flex flex-row justify-content-between parent-folder">
              
                <span>#### Data Sources ####</span>
                <i class="fas fa-sort-down"></i>
              </span>
            </button>
          </ul>
          <ul class ="collapse" id="course_####datasources####"> 
    
        
          
          <ul class="p-2">
            <li class="m-2 list-unstyled"><span class="far fa-file mr-1"></span>
                <a class="course-file" href=/courses/jedha-full-stack-24-program/S0.3%20--%20Data%20Visualisation%20-%20Utilisation%20Seaborn%20%26%20Matplotlib/S3-A%20-%20Statistiques%20Descriptives/%23%23%23%23%20Data%20Sources%20%23%23%23%23/50_Startups.csv>50_Startups.csv</a>
            </li>
          </ul>
        
    
    
        
          
          <ul class="p-2">
            <li class="m-2 list-unstyled"><span class="far fa-file mr-1"></span>
                <a class="course-file" href=/courses/jedha-full-stack-24-program/S0.3%20--%20Data%20Visualisation%20-%20Utilisation%20Seaborn%20%26%20Matplotlib/S3-A%20-%20Statistiques%20Descriptives/%23%23%23%23%20Data%20Sources%20%23%23%23%23/IBM_HR_ATTRITION.csv>IBM_HR_ATTRITION.csv</a>
            </li>
          </ul>
        
    
    
        
          
          <ul class="p-2">
            <li class="m-2 list-unstyled"><span class="far fa-file mr-1"></span>
                <a class="course-file" href=/courses/jedha-full-stack-24-program/S0.3%20--%20Data%20Visualisation%20-%20Utilisation%20Seaborn%20%26%20Matplotlib/S3-A%20-%20Statistiques%20Descriptives/%23%23%23%23%20Data%20Sources%20%23%23%23%23/Social_Network_Ads.csv>Social_Network_Ads.csv</a>
            </li>
          </ul>
        
    
    
        
          
          <ul class="p-2">
            <li class="m-2 list-unstyled"><span class="far fa-file mr-1"></span>
                <a class="course-file" href=/courses/jedha-full-stack-24-program/S0.3%20--%20Data%20Visualisation%20-%20Utilisation%20Seaborn%20%26%20Matplotlib/S3-A%20-%20Statistiques%20Descriptives/%23%23%23%23%20Data%20Sources%20%23%23%23%23/house_pricing.csv>house_pricing.csv</a>
            </li>
          </ul>
        
    
    
        
          
          <ul class="p-2">
            <li class="m-2 list-unstyled"><span class="far fa-file mr-1"></span>
                <a class="course-file" href=/courses/jedha-full-stack-24-program/S0.3%20--%20Data%20Visualisation%20-%20Utilisation%20Seaborn%20%26%20Matplotlib/S3-A%20-%20Statistiques%20Descriptives/%23%23%23%23%20Data%20Sources%20%23%23%23%23/sales_predictions.csv>sales_predictions.csv</a>
            </li>
          </ul>
        
    </ul>
        
    
    
        
          <ul class="p-0 mt-4">
            <button class="btn m-0 p-0 col-12" data-toggle="collapse" data-target="#course_2exercices" role="button" aria-expanded="false" aria-controls="course_2exercices">
              
                <span class="pl-5 pr-5 pt-3 pb-3 d-flex flex-row justify-content-between child-folders">
              
                <span>2. Exercices</span>
                <i class="fas fa-sort-down"></i>
              </span>
            </button>
          </ul>
          <ul class ="collapse" id="course_2exercices"> 
    
        
          
          <ul class="p-2">
            <li class="m-2 list-unstyled"><span class="far fa-file mr-1"></span>
                <a class="course-file" href=/courses/jedha-full-stack-24-program/S0.3%20--%20Data%20Visualisation%20-%20Utilisation%20Seaborn%20%26%20Matplotlib/S3-A%20-%20Statistiques%20Descriptives/2.%20Exercices/1.%20Visualisation%20d%E2%80%99une%20distribution%20-%20Exercice.ipynb>1. Visualisation d’une distribution - Exercice.ipynb</a>
            </li>
          </ul>
        
    
    
        
          
          <ul class="p-2">
            <li class="m-2 list-unstyled"><span class="far fa-file mr-1"></span>
                <a class="course-file" href=/courses/jedha-full-stack-24-program/S0.3%20--%20Data%20Visualisation%20-%20Utilisation%20Seaborn%20%26%20Matplotlib/S3-A%20-%20Statistiques%20Descriptives/2.%20Exercices/2.%20Visualisation%20d%E2%80%99un%20nuage%20de%20points.ipynb>2. Visualisation d’un nuage de points.ipynb</a>
            </li>
          </ul>
        
    </ul>
        
    
    
        
          <ul class="p-0 mt-4">
            <button class="btn m-0 p-0 col-12" data-toggle="collapse" data-target="#course_3solutions" role="button" aria-expanded="false" aria-controls="course_3solutions">
              
                <span class="pl-5 pr-5 pt-3 pb-3 d-flex flex-row justify-content-between child-folders">
              
                <span>3. Solutions</span>
                <i class="fas fa-sort-down"></i>
              </span>
            </button>
          </ul>
          <ul class ="collapse" id="course_3solutions"> 
    
        
          
          <ul class="p-2">
            <li class="m-2 list-unstyled"><span class="far fa-file mr-1"></span>
                <a class="course-file" href=/courses/jedha-full-stack-24-program/S0.3%20--%20Data%20Visualisation%20-%20Utilisation%20Seaborn%20%26%20Matplotlib/S3-A%20-%20Statistiques%20Descriptives/3.%20Solutions/1.%20Visualisation%20d%27une%20distribution%20-%20SOLUTIONS.md>1. Visualisation d&#39;une distribution - SOLUTIONS.md</a>
            </li>
          </ul>
        
    
    
        
          
          <ul class="p-2">
            <li class="m-2 list-unstyled"><span class="far fa-file mr-1"></span>
                <a class="course-file" href=/courses/jedha-full-stack-24-program/S0.3%20--%20Data%20Visualisation%20-%20Utilisation%20Seaborn%20%26%20Matplotlib/S3-A%20-%20Statistiques%20Descriptives/3.%20Solutions/2.%20Visualisation%20d%27un%20nuage%20de%20points%20et%20exploration%20des%20variables%20-%20SOLUTIONS.md>2. Visualisation d&#39;un nuage de points et exploration des variables - SOLUTIONS.md</a>
            </li>
          </ul>
        
    </ul>
        
    
    
        
          
          <ul class="p-2">
            <li class="m-2 list-unstyled"><span class="far fa-file mr-1"></span>
                <a class="course-file" href=/courses/jedha-full-stack-24-program/S0.3%20--%20Data%20Visualisation%20-%20Utilisation%20Seaborn%20%26%20Matplotlib/S3-A%20-%20Statistiques%20Descriptives/README.md>README.md</a>
            </li>
          </ul>
        
    </ul>
        
    
    
        
          <ul class="p-0 mt-4">
            <button class="btn m-0 p-0 col-12" data-toggle="collapse" data-target="#course_s3-b-pratiquedeseabornexercices" role="button" aria-expanded="false" aria-controls="course_s3-b-pratiquedeseabornexercices">
              
                <span class="pl-5 pr-5 pt-3 pb-3 d-flex flex-row justify-content-between child-folders">
              
                <span>S3-B - Pratique de Seaborn Exercices</span>
                <i class="fas fa-sort-down"></i>
              </span>
            </button>
          </ul>
          <ul class ="collapse" id="course_s3-b-pratiquedeseabornexercices"> 
    
        
          <ul class="p-0 mt-4">
            <button class="btn m-0 p-0 col-12" data-toggle="collapse" data-target="#course_datasets" role="button" aria-expanded="false" aria-controls="course_datasets">
              
                <span class="pl-5 pr-5 pt-3 pb-3 d-flex flex-row justify-content-between parent-folder">
              
                <span>Datasets</span>
                <i class="fas fa-sort-down"></i>
              </span>
            </button>
          </ul>
          <ul class ="collapse" id="course_datasets"> 
    
        
          
          <ul class="p-2">
            <li class="m-2 list-unstyled"><span class="far fa-file mr-1"></span>
                <a class="course-file" href=/courses/jedha-full-stack-24-program/S0.3%20--%20Data%20Visualisation%20-%20Utilisation%20Seaborn%20%26%20Matplotlib/S3-B%20-%20Pratique%20de%20Seaborn%20Exercices/Datasets/50_Startups.csv>50_Startups.csv</a>
            </li>
          </ul>
        
    
    
        
          
          <ul class="p-2">
            <li class="m-2 list-unstyled"><span class="far fa-file mr-1"></span>
                <a class="course-file" href=/courses/jedha-full-stack-24-program/S0.3%20--%20Data%20Visualisation%20-%20Utilisation%20Seaborn%20%26%20Matplotlib/S3-B%20-%20Pratique%20de%20Seaborn%20Exercices/Datasets/Social_Network_Ads.csv>Social_Network_Ads.csv</a>
            </li>
          </ul>
        
    </ul>
        
    
    
        
          <ul class="p-0 mt-4">
            <button class="btn m-0 p-0 col-12" data-toggle="collapse" data-target="#course_exercices" role="button" aria-expanded="false" aria-controls="course_exercices">
              
                <span class="pl-5 pr-5 pt-3 pb-3 d-flex flex-row justify-content-between child-folders">
              
                <span>Exercices</span>
                <i class="fas fa-sort-down"></i>
              </span>
            </button>
          </ul>
          <ul class ="collapse" id="course_exercices"> 
    
        
          
          <ul class="p-2">
            <li class="m-2 list-unstyled"><span class="far fa-file mr-1"></span>
                <a class="course-file" href=/courses/jedha-full-stack-24-program/S0.3%20--%20Data%20Visualisation%20-%20Utilisation%20Seaborn%20%26%20Matplotlib/S3-B%20-%20Pratique%20de%20Seaborn%20Exercices/Exercices/1.%20Visualisation%20de%20relations%20continues%20-%20Exercice.ipynb>1. Visualisation de relations continues - Exercice.ipynb</a>
            </li>
          </ul>
        
    
    
        
          
          <ul class="p-2">
            <li class="m-2 list-unstyled"><span class="far fa-file mr-1"></span>
                <a class="course-file" href=/courses/jedha-full-stack-24-program/S0.3%20--%20Data%20Visualisation%20-%20Utilisation%20Seaborn%20%26%20Matplotlib/S3-B%20-%20Pratique%20de%20Seaborn%20Exercices/Exercices/2.%20Visualisation%20de%20variables%20cat%C3%A9goriques%20-%20Exercices.ipynb>2. Visualisation de variables catégoriques - Exercices.ipynb</a>
            </li>
          </ul>
        
    
    
        
          
          <ul class="p-2">
            <li class="m-2 list-unstyled"><span class="far fa-file mr-1"></span>
                <a class="course-file" href=/courses/jedha-full-stack-24-program/S0.3%20--%20Data%20Visualisation%20-%20Utilisation%20Seaborn%20%26%20Matplotlib/S3-B%20-%20Pratique%20de%20Seaborn%20Exercices/Exercices/3.%20Visualisation%20d%E2%80%99une%20relation%20lin%C3%A9aire%20-%20Exercice.ipynb>3. Visualisation d’une relation linéaire - Exercice.ipynb</a>
            </li>
          </ul>
        
    
    
        
          
          <ul class="p-2">
            <li class="m-2 list-unstyled"><span class="far fa-file mr-1"></span>
                <a class="course-file" href=/courses/jedha-full-stack-24-program/S0.3%20--%20Data%20Visualisation%20-%20Utilisation%20Seaborn%20%26%20Matplotlib/S3-B%20-%20Pratique%20de%20Seaborn%20Exercices/Exercices/4.%20Heatmaps%20-%20SOLUTIONS.md>4. Heatmaps - SOLUTIONS.md</a>
            </li>
          </ul>
        
    
    
        
          
          <ul class="p-2">
            <li class="m-2 list-unstyled"><span class="far fa-file mr-1"></span>
                <a class="course-file" href=/courses/jedha-full-stack-24-program/S0.3%20--%20Data%20Visualisation%20-%20Utilisation%20Seaborn%20%26%20Matplotlib/S3-B%20-%20Pratique%20de%20Seaborn%20Exercices/Exercices/5.%2050%20Startups%20-%20Exercices.ipynb>5. 50 Startups - Exercices.ipynb</a>
            </li>
          </ul>
        
    
    
        
          
          <ul class="p-2">
            <li class="m-2 list-unstyled"><span class="far fa-file mr-1"></span>
                <a class="course-file" href=/courses/jedha-full-stack-24-program/S0.3%20--%20Data%20Visualisation%20-%20Utilisation%20Seaborn%20%26%20Matplotlib/S3-B%20-%20Pratique%20de%20Seaborn%20Exercices/Exercices/6.%20Social%20Network%20Ads%20-%20Exercice.ipynb>6. Social Network Ads - Exercice.ipynb</a>
            </li>
          </ul>
        
    </ul>
        
    
    
        
          <ul class="p-0 mt-4">
            <button class="btn m-0 p-0 col-12" data-toggle="collapse" data-target="#course_solutions" role="button" aria-expanded="false" aria-controls="course_solutions">
              
                <span class="pl-5 pr-5 pt-3 pb-3 d-flex flex-row justify-content-between child-folders">
              
                <span>Solutions</span>
                <i class="fas fa-sort-down"></i>
              </span>
            </button>
          </ul>
          <ul class ="collapse" id="course_solutions"> 
    
        
          
          <ul class="p-2">
            <li class="m-2 list-unstyled"><span class="far fa-file mr-1"></span>
                <a class="course-file" href=/courses/jedha-full-stack-24-program/S0.3%20--%20Data%20Visualisation%20-%20Utilisation%20Seaborn%20%26%20Matplotlib/S3-B%20-%20Pratique%20de%20Seaborn%20Exercices/Solutions/1.%20Visualisation%20de%20relations%20continues%20-%20SOLUTIONS.md>1. Visualisation de relations continues - SOLUTIONS.md</a>
            </li>
          </ul>
        
    
    
        
          
          <ul class="p-2">
            <li class="m-2 list-unstyled"><span class="far fa-file mr-1"></span>
                <a class="course-file" href=/courses/jedha-full-stack-24-program/S0.3%20--%20Data%20Visualisation%20-%20Utilisation%20Seaborn%20%26%20Matplotlib/S3-B%20-%20Pratique%20de%20Seaborn%20Exercices/Solutions/2.%20Visualisation%20de%20variables%20cat%C3%A9goriques%20-%20SOLUTIONS.md>2. Visualisation de variables catégoriques - SOLUTIONS.md</a>
            </li>
          </ul>
        
    
    
        
          
          <ul class="p-2">
            <li class="m-2 list-unstyled"><span class="far fa-file mr-1"></span>
                <a class="course-file" href=/courses/jedha-full-stack-24-program/S0.3%20--%20Data%20Visualisation%20-%20Utilisation%20Seaborn%20%26%20Matplotlib/S3-B%20-%20Pratique%20de%20Seaborn%20Exercices/Solutions/3.%20Visualisation%20d%27une%20relation%20lin%C3%A9aire%20-%20SOLUTIONS.md>3. Visualisation d&#39;une relation linéaire - SOLUTIONS.md</a>
            </li>
          </ul>
        
    
    
        
          
          <ul class="p-2">
            <li class="m-2 list-unstyled"><span class="far fa-file mr-1"></span>
                <a class="course-file" href=/courses/jedha-full-stack-24-program/S0.3%20--%20Data%20Visualisation%20-%20Utilisation%20Seaborn%20%26%20Matplotlib/S3-B%20-%20Pratique%20de%20Seaborn%20Exercices/Solutions/4.%20Heatmaps%20-%20Exercice.ipynb>4. Heatmaps - Exercice.ipynb</a>
            </li>
          </ul>
        
    
    
        
          
          <ul class="p-2">
            <li class="m-2 list-unstyled"><span class="far fa-file mr-1"></span>
                <a class="course-file" href=/courses/jedha-full-stack-24-program/S0.3%20--%20Data%20Visualisation%20-%20Utilisation%20Seaborn%20%26%20Matplotlib/S3-B%20-%20Pratique%20de%20Seaborn%20Exercices/Solutions/5.%2050%20Startups%20-%20Exercices%20SOLUTIONS.md>5. 50 Startups - Exercices SOLUTIONS.md</a>
            </li>
          </ul>
        
    
    
        
          
          <ul class="p-2">
            <li class="m-2 list-unstyled"><span class="far fa-file mr-1"></span>
                <a class="course-file" href=/courses/jedha-full-stack-24-program/S0.3%20--%20Data%20Visualisation%20-%20Utilisation%20Seaborn%20%26%20Matplotlib/S3-B%20-%20Pratique%20de%20Seaborn%20Exercices/Solutions/6.%20Social%20Network%20Ads%20-%20Exercices%20SOLUTIONS.md>6. Social Network Ads - Exercices SOLUTIONS.md</a>
            </li>
          </ul>
        
    </ul>
        
    </ul>
        
    </ul>
        
    
    
        
          <ul class="p-0 mt-4">
            <button class="btn m-0 p-0 col-12" data-toggle="collapse" data-target="#course_s04--projetairbnb" role="button" aria-expanded="false" aria-controls="course_s04--projetairbnb">
              
                <span class="pl-5 pr-5 pt-3 pb-3 d-flex flex-row justify-content-between child-folders">
              
                <span>S0.4 -- Projet AIRBNB</span>
                <i class="fas fa-sort-down"></i>
              </span>
            </button>
          </ul>
          <ul class ="collapse" id="course_s04--projetairbnb"> 
    
        
          <ul class="p-0 mt-4">
            <button class="btn m-0 p-0 col-12" data-toggle="collapse" data-target="#course_s4-a-projet-airbnbinseattle" role="button" aria-expanded="false" aria-controls="course_s4-a-projet-airbnbinseattle">
              
                <span class="pl-5 pr-5 pt-3 pb-3 d-flex flex-row justify-content-between parent-folder">
              
                <span>S4-A - Projet - Airbnb in Seattle</span>
                <i class="fas fa-sort-down"></i>
              </span>
            </button>
          </ul>
          <ul class ="collapse" id="course_s4-a-projet-airbnbinseattle"> 
    
        
          <ul class="p-0 mt-4">
            <button class="btn m-0 p-0 col-12" data-toggle="collapse" data-target="#course_1airbnb" role="button" aria-expanded="false" aria-controls="course_1airbnb">
              
                <span class="pl-5 pr-5 pt-3 pb-3 d-flex flex-row justify-content-between parent-folder">
              
                <span>1. AIRBNB</span>
                <i class="fas fa-sort-down"></i>
              </span>
            </button>
          </ul>
          <ul class ="collapse" id="course_1airbnb"> 
    
        
          
          <ul class="p-2">
            <li class="m-2 list-unstyled"><span class="far fa-file mr-1"></span>
                <a class="course-file" href=/courses/jedha-full-stack-24-program/S0.4%20--%20Projet%20AIRBNB/S4-A%20-%20Projet%20-%20Airbnb%20in%20Seattle/1.%20AIRBNB/1.%20Airbnb%20in%20Seattle%20-%20Exercice.ipynb>1. Airbnb in Seattle - Exercice.ipynb</a>
            </li>
          </ul>
        
    
    
        
          <ul class="p-0 mt-4">
            <button class="btn m-0 p-0 col-12" data-toggle="collapse" data-target="#course_datasets" role="button" aria-expanded="false" aria-controls="course_datasets">
              
                <span class="pl-5 pr-5 pt-3 pb-3 d-flex flex-row justify-content-between child-folders">
              
                <span>Datasets</span>
                <i class="fas fa-sort-down"></i>
              </span>
            </button>
          </ul>
          <ul class ="collapse" id="course_datasets"> 
    
        
          
          <ul class="p-2">
            <li class="m-2 list-unstyled"><span class="far fa-file mr-1"></span>
                <a class="course-file" href=/courses/jedha-full-stack-24-program/S0.4%20--%20Projet%20AIRBNB/S4-A%20-%20Projet%20-%20Airbnb%20in%20Seattle/1.%20AIRBNB/Datasets/listings.csv>listings.csv</a>
            </li>
          </ul>
        
    
    
        
          
          <ul class="p-2">
            <li class="m-2 list-unstyled"><span class="far fa-file mr-1"></span>
                <a class="course-file" href=/courses/jedha-full-stack-24-program/S0.4%20--%20Projet%20AIRBNB/S4-A%20-%20Projet%20-%20Airbnb%20in%20Seattle/1.%20AIRBNB/Datasets/reviews.csv>reviews.csv</a>
            </li>
          </ul>
        
    </ul>
        
    
    
        
          <ul class="p-0 mt-4">
            <button class="btn m-0 p-0 col-12" data-toggle="collapse" data-target="#course_solutions" role="button" aria-expanded="false" aria-controls="course_solutions">
              
                <span class="pl-5 pr-5 pt-3 pb-3 d-flex flex-row justify-content-between child-folders">
              
                <span>Solutions</span>
                <i class="fas fa-sort-down"></i>
              </span>
            </button>
          </ul>
          <ul class ="collapse" id="course_solutions"> 
    
        
          
          <ul class="p-2">
            <li class="m-2 list-unstyled"><span class="far fa-file mr-1"></span>
                <a class="course-file" href=/courses/jedha-full-stack-24-program/S0.4%20--%20Projet%20AIRBNB/S4-A%20-%20Projet%20-%20Airbnb%20in%20Seattle/1.%20AIRBNB/Solutions/1.%20Airbnb%20in%20Seattle%20-%20Exercice%20SOLUTION.md>1. Airbnb in Seattle - Exercice SOLUTION.md</a>
            </li>
          </ul>
        
    </ul>
        
    </ul>
        
    
    
        
          <ul class="p-0 mt-4">
            <button class="btn m-0 p-0 col-12" data-toggle="collapse" data-target="#course_2optionnel-speeddating" role="button" aria-expanded="false" aria-controls="course_2optionnel-speeddating">
              
                <span class="pl-5 pr-5 pt-3 pb-3 d-flex flex-row justify-content-between child-folders">
              
                <span>2. OPTIONNEL - SPEED DATING</span>
                <i class="fas fa-sort-down"></i>
              </span>
            </button>
          </ul>
          <ul class ="collapse" id="course_2optionnel-speeddating"> 
    
        
          
          <ul class="p-2">
            <li class="m-2 list-unstyled"><span class="far fa-file mr-1"></span>
                <a class="course-file" href=/courses/jedha-full-stack-24-program/S0.4%20--%20Projet%20AIRBNB/S4-A%20-%20Projet%20-%20Airbnb%20in%20Seattle/2.%20OPTIONNEL%20-%20SPEED%20DATING/README.md>README.md</a>
            </li>
          </ul>
        
    
    
        
          
          <ul class="p-2">
            <li class="m-2 list-unstyled"><span class="far fa-file mr-1"></span>
                <a class="course-file" href=/courses/jedha-full-stack-24-program/S0.4%20--%20Projet%20AIRBNB/S4-A%20-%20Projet%20-%20Airbnb%20in%20Seattle/2.%20OPTIONNEL%20-%20SPEED%20DATING/Speed%20Dating%20Data.csv>Speed Dating Data.csv</a>
            </li>
          </ul>
        
    
    
        
          
          <ul class="p-2">
            <li class="m-2 list-unstyled"><span class="far fa-file mr-1"></span>
                <a class="course-file" href=/courses/jedha-full-stack-24-program/S0.4%20--%20Projet%20AIRBNB/S4-A%20-%20Projet%20-%20Airbnb%20in%20Seattle/2.%20OPTIONNEL%20-%20SPEED%20DATING/Speed%20Dating%20_%20Description%20des%20variables.md>Speed Dating _ Description des variables.md</a>
            </li>
          </ul>
        
    
    
        
          <ul class="p-0 mt-4">
            <button class="btn m-0 p-0 col-12" data-toggle="collapse" data-target="#course_speeddatingchallenge" role="button" aria-expanded="false" aria-controls="course_speeddatingchallenge">
              
                <span class="pl-5 pr-5 pt-3 pb-3 d-flex flex-row justify-content-between child-folders">
              
                <span>speed dating challenge</span>
                <i class="fas fa-sort-down"></i>
              </span>
            </button>
          </ul>
          <ul class ="collapse" id="course_speeddatingchallenge"> 
    
        
          
          <ul class="p-2">
            <li class="m-2 list-unstyled"><span class="far fa-file mr-1"></span>
                <a class="course-file" href=/courses/jedha-full-stack-24-program/S0.4%20--%20Projet%20AIRBNB/S4-A%20-%20Projet%20-%20Airbnb%20in%20Seattle/2.%20OPTIONNEL%20-%20SPEED%20DATING/speed%20dating%20challenge/Copy%20of%20Gestion_valeurs_manquantes.ipynb>Copy of Gestion_valeurs_manquantes.ipynb</a>
            </li>
          </ul>
        
    
    
        
          
          <ul class="p-2">
            <li class="m-2 list-unstyled"><span class="far fa-file mr-1"></span>
                <a class="course-file" href=/courses/jedha-full-stack-24-program/S0.4%20--%20Projet%20AIRBNB/S4-A%20-%20Projet%20-%20Airbnb%20in%20Seattle/2.%20OPTIONNEL%20-%20SPEED%20DATING/speed%20dating%20challenge/Gestion_valeurs_manquantes.ipynb>Gestion_valeurs_manquantes.ipynb</a>
            </li>
          </ul>
        
    
    
        
          
          <ul class="p-2">
            <li class="m-2 list-unstyled"><span class="far fa-file mr-1"></span>
                <a class="course-file" href=/courses/jedha-full-stack-24-program/S0.4%20--%20Projet%20AIRBNB/S4-A%20-%20Projet%20-%20Airbnb%20in%20Seattle/2.%20OPTIONNEL%20-%20SPEED%20DATING/speed%20dating%20challenge/Speed%20Dating%20-%20The%20Secret%20to%20Getting%20the%20Second%20Date.ipynb>Speed Dating - The Secret to Getting the Second Date.ipynb</a>
            </li>
          </ul>
        
    
    
        
          
          <ul class="p-2">
            <li class="m-2 list-unstyled"><span class="far fa-file mr-1"></span>
                <a class="course-file" href=/courses/jedha-full-stack-24-program/S0.4%20--%20Projet%20AIRBNB/S4-A%20-%20Projet%20-%20Airbnb%20in%20Seattle/2.%20OPTIONNEL%20-%20SPEED%20DATING/speed%20dating%20challenge/simple-data-visualization-with-plotly.ipynb>simple-data-visualization-with-plotly.ipynb</a>
            </li>
          </ul>
        
    
    
        
          
          <ul class="p-2">
            <li class="m-2 list-unstyled"><span class="far fa-file mr-1"></span>
                <a class="course-file" href=/courses/jedha-full-stack-24-program/S0.4%20--%20Projet%20AIRBNB/S4-A%20-%20Projet%20-%20Airbnb%20in%20Seattle/2.%20OPTIONNEL%20-%20SPEED%20DATING/speed%20dating%20challenge/the-data-science-book-of-love.ipynb>the-data-science-book-of-love.ipynb</a>
            </li>
          </ul>
        
    </ul>
        
    </ul>
        
    </ul>
        
    
    
        
          <ul class="p-0 mt-4">
            <button class="btn m-0 p-0 col-12" data-toggle="collapse" data-target="#course_s4-b-articledatavisualisation" role="button" aria-expanded="false" aria-controls="course_s4-b-articledatavisualisation">
              
                <span class="pl-5 pr-5 pt-3 pb-3 d-flex flex-row justify-content-between child-folders">
              
                <span>S4-B - Article Data Visualisation</span>
                <i class="fas fa-sort-down"></i>
              </span>
            </button>
          </ul>
          <ul class ="collapse" id="course_s4-b-articledatavisualisation"> 
    
        
          
          <ul class="p-2">
            <li class="m-2 list-unstyled"><span class="far fa-file mr-1"></span>
                <a class="course-file" href=/courses/jedha-full-stack-24-program/S0.4%20--%20Projet%20AIRBNB/S4-B%20-%20Article%20Data%20Visualisation/README.md>README.md</a>
            </li>
          </ul>
        
    </ul>
        
    </ul>
        
    
    
        
          <ul class="p-0 mt-4">
            <button class="btn m-0 p-0 col-12" data-toggle="collapse" data-target="#course_s05--mlsupervisé-regressionslinéairesrégressionsrégularisées" role="button" aria-expanded="false" aria-controls="course_s05--mlsupervisé-regressionslinéairesrégressionsrégularisées">
              
                <span class="pl-5 pr-5 pt-3 pb-3 d-flex flex-row justify-content-between child-folders">
              
                <span>S0.5 -- ML supervisé - Regressions Linéaires &amp; Régressions Régularisées</span>
                <i class="fas fa-sort-down"></i>
              </span>
            </button>
          </ul>
          <ul class ="collapse" id="course_s05--mlsupervisé-regressionslinéairesrégressionsrégularisées"> 
    
        
          <ul class="p-0 mt-4">
            <button class="btn m-0 p-0 col-12" data-toggle="collapse" data-target="#course_s5-a-régressionslinéaires" role="button" aria-expanded="false" aria-controls="course_s5-a-régressionslinéaires">
              
                <span class="pl-5 pr-5 pt-3 pb-3 d-flex flex-row justify-content-between parent-folder">
              
                <span>S5-A - Régressions Linéaires</span>
                <i class="fas fa-sort-down"></i>
              </span>
            </button>
          </ul>
          <ul class ="collapse" id="course_s5-a-régressionslinéaires"> 
    
        
          <ul class="p-0 mt-4">
            <button class="btn m-0 p-0 col-12" data-toggle="collapse" data-target="#course_2exercices" role="button" aria-expanded="false" aria-controls="course_2exercices">
              
                <span class="pl-5 pr-5 pt-3 pb-3 d-flex flex-row justify-content-between parent-folder">
              
                <span>2. Exercices</span>
                <i class="fas fa-sort-down"></i>
              </span>
            </button>
          </ul>
          <ul class ="collapse" id="course_2exercices"> 
    
        
          
          <ul class="p-2">
            <li class="m-2 list-unstyled"><span class="far fa-file mr-1"></span>
                <a class="course-file" href=/courses/jedha-full-stack-24-program/S0.5%20--%20ML%20supervis%C3%A9%20-%20Regressions%20Lin%C3%A9aires%20%26%20R%C3%A9gressions%20R%C3%A9gularis%C3%A9es/S5-A%20-%20R%C3%A9gressions%20Lin%C3%A9aires/2.%20Exercices/1.%20Californian%20Housing%20Market%20-%20Exercice.ipynb>1. Californian Housing Market - Exercice.ipynb</a>
            </li>
          </ul>
        
    
    
        
          
          <ul class="p-2">
            <li class="m-2 list-unstyled"><span class="far fa-file mr-1"></span>
                <a class="course-file" href=/courses/jedha-full-stack-24-program/S0.5%20--%20ML%20supervis%C3%A9%20-%20Regressions%20Lin%C3%A9aires%20%26%20R%C3%A9gressions%20R%C3%A9gularis%C3%A9es/S5-A%20-%20R%C3%A9gressions%20Lin%C3%A9aires/2.%20Exercices/California_housing.py>California_housing.py</a>
            </li>
          </ul>
        
    </ul>
        
    
    
        
          <ul class="p-0 mt-4">
            <button class="btn m-0 p-0 col-12" data-toggle="collapse" data-target="#course_3solutions" role="button" aria-expanded="false" aria-controls="course_3solutions">
              
                <span class="pl-5 pr-5 pt-3 pb-3 d-flex flex-row justify-content-between child-folders">
              
                <span>3. Solutions</span>
                <i class="fas fa-sort-down"></i>
              </span>
            </button>
          </ul>
          <ul class ="collapse" id="course_3solutions"> 
    
        
          
          <ul class="p-2">
            <li class="m-2 list-unstyled"><span class="far fa-file mr-1"></span>
                <a class="course-file" href=/courses/jedha-full-stack-24-program/S0.5%20--%20ML%20supervis%C3%A9%20-%20Regressions%20Lin%C3%A9aires%20%26%20R%C3%A9gressions%20R%C3%A9gularis%C3%A9es/S5-A%20-%20R%C3%A9gressions%20Lin%C3%A9aires/3.%20Solutions/1.%20Californian%20Housing%20Market%20-%20SOLUTIONS.md>1. Californian Housing Market - SOLUTIONS.md</a>
            </li>
          </ul>
        
    </ul>
        
    
    
        
          
          <ul class="p-2">
            <li class="m-2 list-unstyled"><span class="far fa-file mr-1"></span>
                <a class="course-file" href=/courses/jedha-full-stack-24-program/S0.5%20--%20ML%20supervis%C3%A9%20-%20Regressions%20Lin%C3%A9aires%20%26%20R%C3%A9gressions%20R%C3%A9gularis%C3%A9es/S5-A%20-%20R%C3%A9gressions%20Lin%C3%A9aires/README.md>README.md</a>
            </li>
          </ul>
        
    </ul>
        
    
    
        
          <ul class="p-0 mt-4">
            <button class="btn m-0 p-0 col-12" data-toggle="collapse" data-target="#course_s5-b-ridgelasso" role="button" aria-expanded="false" aria-controls="course_s5-b-ridgelasso">
              
                <span class="pl-5 pr-5 pt-3 pb-3 d-flex flex-row justify-content-between child-folders">
              
                <span>S5-B - RIDGE &amp; LASSO</span>
                <i class="fas fa-sort-down"></i>
              </span>
            </button>
          </ul>
          <ul class ="collapse" id="course_s5-b-ridgelasso"> 
    
        
          <ul class="p-0 mt-4">
            <button class="btn m-0 p-0 col-12" data-toggle="collapse" data-target="#course_2exercices" role="button" aria-expanded="false" aria-controls="course_2exercices">
              
                <span class="pl-5 pr-5 pt-3 pb-3 d-flex flex-row justify-content-between parent-folder">
              
                <span>2. Exercices</span>
                <i class="fas fa-sort-down"></i>
              </span>
            </button>
          </ul>
          <ul class ="collapse" id="course_2exercices"> 
    
        
          
          <ul class="p-2">
            <li class="m-2 list-unstyled"><span class="far fa-file mr-1"></span>
                <a class="course-file" href=/courses/jedha-full-stack-24-program/S0.5%20--%20ML%20supervis%C3%A9%20-%20Regressions%20Lin%C3%A9aires%20%26%20R%C3%A9gressions%20R%C3%A9gularis%C3%A9es/S5-B%20-%20RIDGE%20%26%20LASSO/2.%20Exercices/1.%20R%C3%A9gressions%20R%C3%A9gularis%C3%A9es%20Ridge%20-%20Exercice.ipynb>1. Régressions Régularisées Ridge - Exercice.ipynb</a>
            </li>
          </ul>
        
    
    
        
          
          <ul class="p-2">
            <li class="m-2 list-unstyled"><span class="far fa-file mr-1"></span>
                <a class="course-file" href=/courses/jedha-full-stack-24-program/S0.5%20--%20ML%20supervis%C3%A9%20-%20Regressions%20Lin%C3%A9aires%20%26%20R%C3%A9gressions%20R%C3%A9gularis%C3%A9es/S5-B%20-%20RIDGE%20%26%20LASSO/2.%20Exercices/2.%20R%C3%A9gressions%20R%C3%A9gularis%C3%A9es%20LASSO%20-%20Exercice.ipynb>2. Régressions Régularisées LASSO - Exercice.ipynb</a>
            </li>
          </ul>
        
    </ul>
        
    
    
        
          <ul class="p-0 mt-4">
            <button class="btn m-0 p-0 col-12" data-toggle="collapse" data-target="#course_3solutions" role="button" aria-expanded="false" aria-controls="course_3solutions">
              
                <span class="pl-5 pr-5 pt-3 pb-3 d-flex flex-row justify-content-between child-folders">
              
                <span>3. Solutions</span>
                <i class="fas fa-sort-down"></i>
              </span>
            </button>
          </ul>
          <ul class ="collapse" id="course_3solutions"> 
    
        
          
          <ul class="p-2">
            <li class="m-2 list-unstyled"><span class="far fa-file mr-1"></span>
                <a class="course-file" href=/courses/jedha-full-stack-24-program/S0.5%20--%20ML%20supervis%C3%A9%20-%20Regressions%20Lin%C3%A9aires%20%26%20R%C3%A9gressions%20R%C3%A9gularis%C3%A9es/S5-B%20-%20RIDGE%20%26%20LASSO/3.%20Solutions/1.%20R%C3%A9gressions%20R%C3%A9gularis%C3%A9es%20-%20Ridge%20%26%20Lasso%20SOLUTIONS.md>1. Régressions Régularisées - Ridge &amp; Lasso SOLUTIONS.md</a>
            </li>
          </ul>
        
    </ul>
        
    
    
        
          
          <ul class="p-2">
            <li class="m-2 list-unstyled"><span class="far fa-file mr-1"></span>
                <a class="course-file" href=/courses/jedha-full-stack-24-program/S0.5%20--%20ML%20supervis%C3%A9%20-%20Regressions%20Lin%C3%A9aires%20%26%20R%C3%A9gressions%20R%C3%A9gularis%C3%A9es/S5-B%20-%20RIDGE%20%26%20LASSO/README.md>README.md</a>
            </li>
          </ul>
        
    
    
        
          <ul class="p-0 mt-4">
            <button class="btn m-0 p-0 col-12" data-toggle="collapse" data-target="#course_studentdata" role="button" aria-expanded="false" aria-controls="course_studentdata">
              
                <span class="pl-5 pr-5 pt-3 pb-3 d-flex flex-row justify-content-between child-folders">
              
                <span>Student Data</span>
                <i class="fas fa-sort-down"></i>
              </span>
            </button>
          </ul>
          <ul class ="collapse" id="course_studentdata"> 
    
        
          
          <ul class="p-2">
            <li class="m-2 list-unstyled"><span class="far fa-file mr-1"></span>
                <a class="course-file" href=/courses/jedha-full-stack-24-program/S0.5%20--%20ML%20supervis%C3%A9%20-%20Regressions%20Lin%C3%A9aires%20%26%20R%C3%A9gressions%20R%C3%A9gularis%C3%A9es/S5-B%20-%20RIDGE%20%26%20LASSO/Student%20Data/student-mat.csv>student-mat.csv</a>
            </li>
          </ul>
        
    
    
        
          
          <ul class="p-2">
            <li class="m-2 list-unstyled"><span class="far fa-file mr-1"></span>
                <a class="course-file" href=/courses/jedha-full-stack-24-program/S0.5%20--%20ML%20supervis%C3%A9%20-%20Regressions%20Lin%C3%A9aires%20%26%20R%C3%A9gressions%20R%C3%A9gularis%C3%A9es/S5-B%20-%20RIDGE%20%26%20LASSO/Student%20Data/student-merge.R>student-merge.R</a>
            </li>
          </ul>
        
    
    
        
          
          <ul class="p-2">
            <li class="m-2 list-unstyled"><span class="far fa-file mr-1"></span>
                <a class="course-file" href=/courses/jedha-full-stack-24-program/S0.5%20--%20ML%20supervis%C3%A9%20-%20Regressions%20Lin%C3%A9aires%20%26%20R%C3%A9gressions%20R%C3%A9gularis%C3%A9es/S5-B%20-%20RIDGE%20%26%20LASSO/Student%20Data/student-por.csv>student-por.csv</a>
            </li>
          </ul>
        
    
    
        
          
          <ul class="p-2">
            <li class="m-2 list-unstyled"><span class="far fa-file mr-1"></span>
                <a class="course-file" href=/courses/jedha-full-stack-24-program/S0.5%20--%20ML%20supervis%C3%A9%20-%20Regressions%20Lin%C3%A9aires%20%26%20R%C3%A9gressions%20R%C3%A9gularis%C3%A9es/S5-B%20-%20RIDGE%20%26%20LASSO/Student%20Data/student.txt>student.txt</a>
            </li>
          </ul>
        
    </ul>
        
    </ul>
        
    </ul>
        
    
    
        
          <ul class="p-0 mt-4">
            <button class="btn m-0 p-0 col-12" data-toggle="collapse" data-target="#course_s06--mlsupervisé-regressionslogistiquesnaivebayessvm" role="button" aria-expanded="false" aria-controls="course_s06--mlsupervisé-regressionslogistiquesnaivebayessvm">
              
                <span class="pl-5 pr-5 pt-3 pb-3 d-flex flex-row justify-content-between child-folders">
              
                <span>S0.6 -- ML supervisé - Regressions Logistiques, Naive Bayes &amp; SVM</span>
                <i class="fas fa-sort-down"></i>
              </span>
            </button>
          </ul>
          <ul class ="collapse" id="course_s06--mlsupervisé-regressionslogistiquesnaivebayessvm"> 
    
        
          <ul class="p-0 mt-4">
            <button class="btn m-0 p-0 col-12" data-toggle="collapse" data-target="#course_s6-a-régressionslogistiques" role="button" aria-expanded="false" aria-controls="course_s6-a-régressionslogistiques">
              
                <span class="pl-5 pr-5 pt-3 pb-3 d-flex flex-row justify-content-between parent-folder">
              
                <span>S6-A - Régressions Logistiques</span>
                <i class="fas fa-sort-down"></i>
              </span>
            </button>
          </ul>
          <ul class ="collapse" id="course_s6-a-régressionslogistiques"> 
    
        
          <ul class="p-0 mt-4">
            <button class="btn m-0 p-0 col-12" data-toggle="collapse" data-target="#course_2exercices" role="button" aria-expanded="false" aria-controls="course_2exercices">
              
                <span class="pl-5 pr-5 pt-3 pb-3 d-flex flex-row justify-content-between parent-folder">
              
                <span>2. Exercices</span>
                <i class="fas fa-sort-down"></i>
              </span>
            </button>
          </ul>
          <ul class ="collapse" id="course_2exercices"> 
    
        
          
          <ul class="p-2">
            <li class="m-2 list-unstyled"><span class="far fa-file mr-1"></span>
                <a class="course-file" href=/courses/jedha-full-stack-24-program/S0.6%20--%20ML%20supervis%C3%A9%20-%20Regressions%20Logistiques%2C%20Naive%20Bayes%20%26%20SVM/S6-A%20-%20R%C3%A9gressions%20Logistiques/2.%20Exercices/1.%20Une%20premi%C3%A8re%20classification%20-%20Exercice.ipynb>1. Une première classification - Exercice.ipynb</a>
            </li>
          </ul>
        
    
    
        
          
          <ul class="p-2">
            <li class="m-2 list-unstyled"><span class="far fa-file mr-1"></span>
                <a class="course-file" href=/courses/jedha-full-stack-24-program/S0.6%20--%20ML%20supervis%C3%A9%20-%20Regressions%20Logistiques%2C%20Naive%20Bayes%20%26%20SVM/S6-A%20-%20R%C3%A9gressions%20Logistiques/2.%20Exercices/2.%20Vino%20Verde%20-%20Exercice.ipynb>2. Vino Verde - Exercice.ipynb</a>
            </li>
          </ul>
        
    
    
        
          <ul class="p-0 mt-4">
            <button class="btn m-0 p-0 col-12" data-toggle="collapse" data-target="#course_datasets" role="button" aria-expanded="false" aria-controls="course_datasets">
              
                <span class="pl-5 pr-5 pt-3 pb-3 d-flex flex-row justify-content-between child-folders">
              
                <span>Datasets</span>
                <i class="fas fa-sort-down"></i>
              </span>
            </button>
          </ul>
          <ul class ="collapse" id="course_datasets"> 
    
        
          
          <ul class="p-2">
            <li class="m-2 list-unstyled"><span class="far fa-file mr-1"></span>
                <a class="course-file" href=/courses/jedha-full-stack-24-program/S0.6%20--%20ML%20supervis%C3%A9%20-%20Regressions%20Logistiques%2C%20Naive%20Bayes%20%26%20SVM/S6-A%20-%20R%C3%A9gressions%20Logistiques/2.%20Exercices/Datasets/ex2data1.txt>ex2data1.txt</a>
            </li>
          </ul>
        
    
    
        
          
          <ul class="p-2">
            <li class="m-2 list-unstyled"><span class="far fa-file mr-1"></span>
                <a class="course-file" href=/courses/jedha-full-stack-24-program/S0.6%20--%20ML%20supervis%C3%A9%20-%20Regressions%20Logistiques%2C%20Naive%20Bayes%20%26%20SVM/S6-A%20-%20R%C3%A9gressions%20Logistiques/2.%20Exercices/Datasets/ex2data2.txt>ex2data2.txt</a>
            </li>
          </ul>
        
    
    
        
          
          <ul class="p-2">
            <li class="m-2 list-unstyled"><span class="far fa-file mr-1"></span>
                <a class="course-file" href=/courses/jedha-full-stack-24-program/S0.6%20--%20ML%20supervis%C3%A9%20-%20Regressions%20Logistiques%2C%20Naive%20Bayes%20%26%20SVM/S6-A%20-%20R%C3%A9gressions%20Logistiques/2.%20Exercices/Datasets/winequality-red.csv>winequality-red.csv</a>
            </li>
          </ul>
        
    </ul>
        
    </ul>
        
    
    
        
          <ul class="p-0 mt-4">
            <button class="btn m-0 p-0 col-12" data-toggle="collapse" data-target="#course_3solutions" role="button" aria-expanded="false" aria-controls="course_3solutions">
              
                <span class="pl-5 pr-5 pt-3 pb-3 d-flex flex-row justify-content-between child-folders">
              
                <span>3. Solutions</span>
                <i class="fas fa-sort-down"></i>
              </span>
            </button>
          </ul>
          <ul class ="collapse" id="course_3solutions"> 
    
        
          
          <ul class="p-2">
            <li class="m-2 list-unstyled"><span class="far fa-file mr-1"></span>
                <a class="course-file" href=/courses/jedha-full-stack-24-program/S0.6%20--%20ML%20supervis%C3%A9%20-%20Regressions%20Logistiques%2C%20Naive%20Bayes%20%26%20SVM/S6-A%20-%20R%C3%A9gressions%20Logistiques/3.%20Solutions/1.%20Une%20premi%C3%A8re%20classification%20-%20SOLUTIONS.md>1. Une première classification - SOLUTIONS.md</a>
            </li>
          </ul>
        
    
    
        
          
          <ul class="p-2">
            <li class="m-2 list-unstyled"><span class="far fa-file mr-1"></span>
                <a class="course-file" href=/courses/jedha-full-stack-24-program/S0.6%20--%20ML%20supervis%C3%A9%20-%20Regressions%20Logistiques%2C%20Naive%20Bayes%20%26%20SVM/S6-A%20-%20R%C3%A9gressions%20Logistiques/3.%20Solutions/2.%20Vino%20Verde%20-%20SOLUTIONS.md>2. Vino Verde - SOLUTIONS.md</a>
            </li>
          </ul>
        
    </ul>
        
    
    
        
          
          <ul class="p-2">
            <li class="m-2 list-unstyled"><span class="far fa-file mr-1"></span>
                <a class="course-file" href=/courses/jedha-full-stack-24-program/S0.6%20--%20ML%20supervis%C3%A9%20-%20Regressions%20Logistiques%2C%20Naive%20Bayes%20%26%20SVM/S6-A%20-%20R%C3%A9gressions%20Logistiques/README.md>README.md</a>
            </li>
          </ul>
        
    </ul>
        
    
    
        
          <ul class="p-0 mt-4">
            <button class="btn m-0 p-0 col-12" data-toggle="collapse" data-target="#course_s6-b-naivebayessvm" role="button" aria-expanded="false" aria-controls="course_s6-b-naivebayessvm">
              
                <span class="pl-5 pr-5 pt-3 pb-3 d-flex flex-row justify-content-between child-folders">
              
                <span>S6-B - Naive Bayes &amp; SVM</span>
                <i class="fas fa-sort-down"></i>
              </span>
            </button>
          </ul>
          <ul class ="collapse" id="course_s6-b-naivebayessvm"> 
    
        
          <ul class="p-0 mt-4">
            <button class="btn m-0 p-0 col-12" data-toggle="collapse" data-target="#course_naivebayes" role="button" aria-expanded="false" aria-controls="course_naivebayes">
              
                <span class="pl-5 pr-5 pt-3 pb-3 d-flex flex-row justify-content-between parent-folder">
              
                <span>Naive Bayes</span>
                <i class="fas fa-sort-down"></i>
              </span>
            </button>
          </ul>
          <ul class ="collapse" id="course_naivebayes"> 
    
        
          
          <ul class="p-2">
            <li class="m-2 list-unstyled"><span class="far fa-file mr-1"></span>
                <a class="course-file" href=/courses/jedha-full-stack-24-program/S0.6%20--%20ML%20supervis%C3%A9%20-%20Regressions%20Logistiques%2C%20Naive%20Bayes%20%26%20SVM/S6-B%20-%20Naive%20Bayes%20%26%20SVM/Naive%20Bayes/2.%20Le%20diab%C3%A8te%20en%20Naive%20Bayes%20-%20Exercice.ipynb>2. Le diabète en Naive Bayes - Exercice.ipynb</a>
            </li>
          </ul>
        
    
    
        
          
          <ul class="p-2">
            <li class="m-2 list-unstyled"><span class="far fa-file mr-1"></span>
                <a class="course-file" href=/courses/jedha-full-stack-24-program/S0.6%20--%20ML%20supervis%C3%A9%20-%20Regressions%20Logistiques%2C%20Naive%20Bayes%20%26%20SVM/S6-B%20-%20Naive%20Bayes%20%26%20SVM/Naive%20Bayes/3.%20Le%20diab%C3%A8te%20en%20Naive%20Bayes%20-%20Exercice%20SOLUTION.md>3. Le diabète en Naive Bayes - Exercice SOLUTION.md</a>
            </li>
          </ul>
        
    
    
        
          
          <ul class="p-2">
            <li class="m-2 list-unstyled"><span class="far fa-file mr-1"></span>
                <a class="course-file" href=/courses/jedha-full-stack-24-program/S0.6%20--%20ML%20supervis%C3%A9%20-%20Regressions%20Logistiques%2C%20Naive%20Bayes%20%26%20SVM/S6-B%20-%20Naive%20Bayes%20%26%20SVM/Naive%20Bayes/MODL%20a%20Bayes%20Optimal%20Discretization%20Method%20For%20Continuous%20Attributes.pdf>MODL a Bayes Optimal Discretization Method For Continuous Attributes.pdf</a>
            </li>
          </ul>
        
    
    
        
          
          <ul class="p-2">
            <li class="m-2 list-unstyled"><span class="far fa-file mr-1"></span>
                <a class="course-file" href=/courses/jedha-full-stack-24-program/S0.6%20--%20ML%20supervis%C3%A9%20-%20Regressions%20Logistiques%2C%20Naive%20Bayes%20%26%20SVM/S6-B%20-%20Naive%20Bayes%20%26%20SVM/Naive%20Bayes/README.md>README.md</a>
            </li>
          </ul>
        
    
    
        
          
          <ul class="p-2">
            <li class="m-2 list-unstyled"><span class="far fa-file mr-1"></span>
                <a class="course-file" href=/courses/jedha-full-stack-24-program/S0.6%20--%20ML%20supervis%C3%A9%20-%20Regressions%20Logistiques%2C%20Naive%20Bayes%20%26%20SVM/S6-B%20-%20Naive%20Bayes%20%26%20SVM/Naive%20Bayes/pima-indians-diabetes.csv>pima-indians-diabetes.csv</a>
            </li>
          </ul>
        
    </ul>
        
    
    
        
          <ul class="p-0 mt-4">
            <button class="btn m-0 p-0 col-12" data-toggle="collapse" data-target="#course_svm" role="button" aria-expanded="false" aria-controls="course_svm">
              
                <span class="pl-5 pr-5 pt-3 pb-3 d-flex flex-row justify-content-between child-folders">
              
                <span>SVM</span>
                <i class="fas fa-sort-down"></i>
              </span>
            </button>
          </ul>
          <ul class ="collapse" id="course_svm"> 
    
        
          
          <ul class="p-2">
            <li class="m-2 list-unstyled"><span class="far fa-file mr-1"></span>
                <a class="course-file" href=/courses/jedha-full-stack-24-program/S0.6%20--%20ML%20supervis%C3%A9%20-%20Regressions%20Logistiques%2C%20Naive%20Bayes%20%26%20SVM/S6-B%20-%20Naive%20Bayes%20%26%20SVM/SVM/2.%20Reconna%C3%AEtre%20des%20visages%20avec%20SVM%20-%20Exercice.ipynb>2. Reconnaître des visages avec SVM - Exercice.ipynb</a>
            </li>
          </ul>
        
    
    
        
          
          <ul class="p-2">
            <li class="m-2 list-unstyled"><span class="far fa-file mr-1"></span>
                <a class="course-file" href=/courses/jedha-full-stack-24-program/S0.6%20--%20ML%20supervis%C3%A9%20-%20Regressions%20Logistiques%2C%20Naive%20Bayes%20%26%20SVM/S6-B%20-%20Naive%20Bayes%20%26%20SVM/SVM/3.%20Reconna%C3%AEtre%20des%20visages%20avec%20SVM%20-%20Exercice%20SOLUTIONS.md>3. Reconnaître des visages avec SVM - Exercice SOLUTIONS.md</a>
            </li>
          </ul>
        
    
    
        
          
          <ul class="p-2">
            <li class="m-2 list-unstyled"><span class="far fa-file mr-1"></span>
                <a class="course-file" href=/courses/jedha-full-stack-24-program/S0.6%20--%20ML%20supervis%C3%A9%20-%20Regressions%20Logistiques%2C%20Naive%20Bayes%20%26%20SVM/S6-B%20-%20Naive%20Bayes%20%26%20SVM/SVM/README.md>README.md</a>
            </li>
          </ul>
        
    </ul>
        
    </ul>
        
    </ul>
        
    
    
        
          <ul class="p-0 mt-4">
            <button class="btn m-0 p-0 col-12" data-toggle="collapse" data-target="#course_s07--mlsupervisé-decisiontreerandomforest" role="button" aria-expanded="false" aria-controls="course_s07--mlsupervisé-decisiontreerandomforest">
              
                <span class="pl-5 pr-5 pt-3 pb-3 d-flex flex-row justify-content-between child-folders">
              
                <span>S0.7 -- ML supervisé - Decision Tree &amp; Random Forest</span>
                <i class="fas fa-sort-down"></i>
              </span>
            </button>
          </ul>
          <ul class ="collapse" id="course_s07--mlsupervisé-decisiontreerandomforest"> 
    
        
          <ul class="p-0 mt-4">
            <button class="btn m-0 p-0 col-12" data-toggle="collapse" data-target="#course_s7-a-decisiontree" role="button" aria-expanded="false" aria-controls="course_s7-a-decisiontree">
              
                <span class="pl-5 pr-5 pt-3 pb-3 d-flex flex-row justify-content-between parent-folder">
              
                <span>S7-A - Decision Tree</span>
                <i class="fas fa-sort-down"></i>
              </span>
            </button>
          </ul>
          <ul class ="collapse" id="course_s7-a-decisiontree"> 
    
        
          
          <ul class="p-2">
            <li class="m-2 list-unstyled"><span class="far fa-file mr-1"></span>
                <a class="course-file" href=/courses/jedha-full-stack-24-program/S0.7%20--%20ML%20supervis%C3%A9%20-%20Decision%20Tree%20%26%20Random%20Forest/S7-A%20-%20Decision%20Tree/2.%20Decision%20Tree%20-%20Exercice.ipynb>2. Decision Tree - Exercice.ipynb</a>
            </li>
          </ul>
        
    
    
        
          
          <ul class="p-2">
            <li class="m-2 list-unstyled"><span class="far fa-file mr-1"></span>
                <a class="course-file" href=/courses/jedha-full-stack-24-program/S0.7%20--%20ML%20supervis%C3%A9%20-%20Decision%20Tree%20%26%20Random%20Forest/S7-A%20-%20Decision%20Tree/3.%20Machine%20Learning%20Supervis%C3%A9%20-%20Decision%20Tree%20-%20Exercice%20SOLUTION.md>3. Machine Learning Supervisé - Decision Tree - Exercice SOLUTION.md</a>
            </li>
          </ul>
        
    
    
        
          
          <ul class="p-2">
            <li class="m-2 list-unstyled"><span class="far fa-file mr-1"></span>
                <a class="course-file" href=/courses/jedha-full-stack-24-program/S0.7%20--%20ML%20supervis%C3%A9%20-%20Decision%20Tree%20%26%20Random%20Forest/S7-A%20-%20Decision%20Tree/README.md>README.md</a>
            </li>
          </ul>
        
    
    
        
          
          <ul class="p-2">
            <li class="m-2 list-unstyled"><span class="far fa-file mr-1"></span>
                <a class="course-file" href=/courses/jedha-full-stack-24-program/S0.7%20--%20ML%20supervis%C3%A9%20-%20Decision%20Tree%20%26%20Random%20Forest/S7-A%20-%20Decision%20Tree/bl.txt>bl.txt</a>
            </li>
          </ul>
        
    </ul>
        
    
    
        
          <ul class="p-0 mt-4">
            <button class="btn m-0 p-0 col-12" data-toggle="collapse" data-target="#course_s7-b-randomforest" role="button" aria-expanded="false" aria-controls="course_s7-b-randomforest">
              
                <span class="pl-5 pr-5 pt-3 pb-3 d-flex flex-row justify-content-between child-folders">
              
                <span>S7-B - Random Forest</span>
                <i class="fas fa-sort-down"></i>
              </span>
            </button>
          </ul>
          <ul class ="collapse" id="course_s7-b-randomforest"> 
    
        
          
          <ul class="p-2">
            <li class="m-2 list-unstyled"><span class="far fa-file mr-1"></span>
                <a class="course-file" href=/courses/jedha-full-stack-24-program/S0.7%20--%20ML%20supervis%C3%A9%20-%20Decision%20Tree%20%26%20Random%20Forest/S7-B%20-%20Random%20Forest/1.%20Graduate%20Admission%20-%20Exercice.ipynb>1. Graduate Admission - Exercice.ipynb</a>
            </li>
          </ul>
        
    
    
        
          
          <ul class="p-2">
            <li class="m-2 list-unstyled"><span class="far fa-file mr-1"></span>
                <a class="course-file" href=/courses/jedha-full-stack-24-program/S0.7%20--%20ML%20supervis%C3%A9%20-%20Decision%20Tree%20%26%20Random%20Forest/S7-B%20-%20Random%20Forest/2.%20Graduate%20Admission%20-%20Exercice%20SOLUTION.md>2. Graduate Admission - Exercice SOLUTION.md</a>
            </li>
          </ul>
        
    
    
        
          <ul class="p-0 mt-4">
            <button class="btn m-0 p-0 col-12" data-toggle="collapse" data-target="#course_dataset" role="button" aria-expanded="false" aria-controls="course_dataset">
              
                <span class="pl-5 pr-5 pt-3 pb-3 d-flex flex-row justify-content-between child-folders">
              
                <span>Dataset</span>
                <i class="fas fa-sort-down"></i>
              </span>
            </button>
          </ul>
          <ul class ="collapse" id="course_dataset"> 
    
        
          
          <ul class="p-2">
            <li class="m-2 list-unstyled"><span class="far fa-file mr-1"></span>
                <a class="course-file" href=/courses/jedha-full-stack-24-program/S0.7%20--%20ML%20supervis%C3%A9%20-%20Decision%20Tree%20%26%20Random%20Forest/S7-B%20-%20Random%20Forest/Dataset/Admission_Predict_Ver1.1.csv>Admission_Predict_Ver1.1.csv</a>
            </li>
          </ul>
        
    </ul>
        
    </ul>
        
    </ul>
        
    
    
        
          <ul class="p-0 mt-4">
            <button class="btn m-0 p-0 col-12" data-toggle="collapse" data-target="#course_s08--projet-conversionrate" role="button" aria-expanded="false" aria-controls="course_s08--projet-conversionrate">
              
                <span class="pl-5 pr-5 pt-3 pb-3 d-flex flex-row justify-content-between child-folders">
              
                <span>S0.8 -- Projet - CONVERSION RATE</span>
                <i class="fas fa-sort-down"></i>
              </span>
            </button>
          </ul>
          <ul class ="collapse" id="course_s08--projet-conversionrate"> 
    
        
          <ul class="p-0 mt-4">
            <button class="btn m-0 p-0 col-12" data-toggle="collapse" data-target="#course_s8-a-projet-conversionrate" role="button" aria-expanded="false" aria-controls="course_s8-a-projet-conversionrate">
              
                <span class="pl-5 pr-5 pt-3 pb-3 d-flex flex-row justify-content-between parent-folder">
              
                <span>S8-A - Projet - Conversion Rate</span>
                <i class="fas fa-sort-down"></i>
              </span>
            </button>
          </ul>
          <ul class ="collapse" id="course_s8-a-projet-conversionrate"> 
    
        
          <ul class="p-0 mt-4">
            <button class="btn m-0 p-0 col-12" data-toggle="collapse" data-target="#course_1conversionrate" role="button" aria-expanded="false" aria-controls="course_1conversionrate">
              
                <span class="pl-5 pr-5 pt-3 pb-3 d-flex flex-row justify-content-between parent-folder">
              
                <span>1. CONVERSION RATE</span>
                <i class="fas fa-sort-down"></i>
              </span>
            </button>
          </ul>
          <ul class ="collapse" id="course_1conversionrate"> 
    
        
          
          <ul class="p-2">
            <li class="m-2 list-unstyled"><span class="far fa-file mr-1"></span>
                <a class="course-file" href=/courses/jedha-full-stack-24-program/S0.8%20--%20Projet%20-%20CONVERSION%20RATE/S8-A%20-%20Projet%20-%20Conversion%20Rate/1.%20CONVERSION%20RATE/Projet%20--Conversion%20Rate%20Challenge%20-%20SOLUTION.md>Projet --Conversion Rate Challenge - SOLUTION.md</a>
            </li>
          </ul>
        
    
    
        
          
          <ul class="p-2">
            <li class="m-2 list-unstyled"><span class="far fa-file mr-1"></span>
                <a class="course-file" href=/courses/jedha-full-stack-24-program/S0.8%20--%20Projet%20-%20CONVERSION%20RATE/S8-A%20-%20Projet%20-%20Conversion%20Rate/1.%20CONVERSION%20RATE/README.md>README.md</a>
            </li>
          </ul>
        
    
    
        
          
          <ul class="p-2">
            <li class="m-2 list-unstyled"><span class="far fa-file mr-1"></span>
                <a class="course-file" href=/courses/jedha-full-stack-24-program/S0.8%20--%20Projet%20-%20CONVERSION%20RATE/S8-A%20-%20Projet%20-%20Conversion%20Rate/1.%20CONVERSION%20RATE/conversion_data.csv>conversion_data.csv</a>
            </li>
          </ul>
        
    </ul>
        
    
    
        
          <ul class="p-0 mt-4">
            <button class="btn m-0 p-0 col-12" data-toggle="collapse" data-target="#course_2optionnel-houseprices" role="button" aria-expanded="false" aria-controls="course_2optionnel-houseprices">
              
                <span class="pl-5 pr-5 pt-3 pb-3 d-flex flex-row justify-content-between child-folders">
              
                <span>2. OPTIONNEL - HOUSE PRICES</span>
                <i class="fas fa-sort-down"></i>
              </span>
            </button>
          </ul>
          <ul class ="collapse" id="course_2optionnel-houseprices"> 
    
        
          
          <ul class="p-2">
            <li class="m-2 list-unstyled"><span class="far fa-file mr-1"></span>
                <a class="course-file" href=/courses/jedha-full-stack-24-program/S0.8%20--%20Projet%20-%20CONVERSION%20RATE/S8-A%20-%20Projet%20-%20Conversion%20Rate/2.%20OPTIONNEL%20-%20HOUSE%20PRICES/README.md>README.md</a>
            </li>
          </ul>
        
    </ul>
        
    </ul>
        
    
    
        
          <ul class="p-0 mt-4">
            <button class="btn m-0 p-0 col-12" data-toggle="collapse" data-target="#course_s8-b-articlemachinelearningsupervisépart1" role="button" aria-expanded="false" aria-controls="course_s8-b-articlemachinelearningsupervisépart1">
              
                <span class="pl-5 pr-5 pt-3 pb-3 d-flex flex-row justify-content-between child-folders">
              
                <span>S8-B - Article Machine Learning Supervisé PART 1</span>
                <i class="fas fa-sort-down"></i>
              </span>
            </button>
          </ul>
          <ul class ="collapse" id="course_s8-b-articlemachinelearningsupervisépart1"> 
    
        
          
          <ul class="p-2">
            <li class="m-2 list-unstyled"><span class="far fa-file mr-1"></span>
                <a class="course-file" href=/courses/jedha-full-stack-24-program/S0.8%20--%20Projet%20-%20CONVERSION%20RATE/S8-B%20-%20Article%20Machine%20Learning%20Supervis%C3%A9%20PART%201/README.md>README.md</a>
            </li>
          </ul>
        
    </ul>
        
    </ul>
        
    
    
        
          <ul class="p-0 mt-4">
            <button class="btn m-0 p-0 col-12" data-toggle="collapse" data-target="#course_s09--mlsupervisé-réductiondedimensionsboostingensemblelearning" role="button" aria-expanded="false" aria-controls="course_s09--mlsupervisé-réductiondedimensionsboostingensemblelearning">
              
                <span class="pl-5 pr-5 pt-3 pb-3 d-flex flex-row justify-content-between child-folders">
              
                <span>S0.9 -- ML supervisé - Réduction de dimensions, Boosting &amp; Ensemble Learning</span>
                <i class="fas fa-sort-down"></i>
              </span>
            </button>
          </ul>
          <ul class ="collapse" id="course_s09--mlsupervisé-réductiondedimensionsboostingensemblelearning"> 
    
        
          <ul class="p-0 mt-4">
            <button class="btn m-0 p-0 col-12" data-toggle="collapse" data-target="#course_s9-a-pca" role="button" aria-expanded="false" aria-controls="course_s9-a-pca">
              
                <span class="pl-5 pr-5 pt-3 pb-3 d-flex flex-row justify-content-between parent-folder">
              
                <span>S9-A - PCA</span>
                <i class="fas fa-sort-down"></i>
              </span>
            </button>
          </ul>
          <ul class ="collapse" id="course_s9-a-pca"> 
    
        
          
          <ul class="p-2">
            <li class="m-2 list-unstyled"><span class="far fa-file mr-1"></span>
                <a class="course-file" href=/courses/jedha-full-stack-24-program/S0.9%20--%20ML%20supervis%C3%A9%20-%20R%C3%A9duction%20de%20dimensions%2C%20Boosting%20%26%20Ensemble%20Learning/S9-A%20-%20PCA/2.%20Conna%C3%AEtre%20les%20fleurs%20avec%20PCA%20-%20Exercice.ipynb>2. Connaître les fleurs avec PCA - Exercice.ipynb</a>
            </li>
          </ul>
        
    
    
        
          
          <ul class="p-2">
            <li class="m-2 list-unstyled"><span class="far fa-file mr-1"></span>
                <a class="course-file" href=/courses/jedha-full-stack-24-program/S0.9%20--%20ML%20supervis%C3%A9%20-%20R%C3%A9duction%20de%20dimensions%2C%20Boosting%20%26%20Ensemble%20Learning/S9-A%20-%20PCA/3.%20Conna%C3%AEtre%20les%20fleurs%20avec%20PCA%20-%20Exercice%20SOLUTIONS.md>3. Connaître les fleurs avec PCA - Exercice SOLUTIONS.md</a>
            </li>
          </ul>
        
    
    
        
          
          <ul class="p-2">
            <li class="m-2 list-unstyled"><span class="far fa-file mr-1"></span>
                <a class="course-file" href=/courses/jedha-full-stack-24-program/S0.9%20--%20ML%20supervis%C3%A9%20-%20R%C3%A9duction%20de%20dimensions%2C%20Boosting%20%26%20Ensemble%20Learning/S9-A%20-%20PCA/README.md>README.md</a>
            </li>
          </ul>
        
    </ul>
        
    
    
        
          <ul class="p-0 mt-4">
            <button class="btn m-0 p-0 col-12" data-toggle="collapse" data-target="#course_s9-b-boostingensemblelearning" role="button" aria-expanded="false" aria-controls="course_s9-b-boostingensemblelearning">
              
                <span class="pl-5 pr-5 pt-3 pb-3 d-flex flex-row justify-content-between child-folders">
              
                <span>S9-B - Boosting &amp; Ensemble Learning</span>
                <i class="fas fa-sort-down"></i>
              </span>
            </button>
          </ul>
          <ul class ="collapse" id="course_s9-b-boostingensemblelearning"> 
    
        
          <ul class="p-0 mt-4">
            <button class="btn m-0 p-0 col-12" data-toggle="collapse" data-target="#course_boosting" role="button" aria-expanded="false" aria-controls="course_boosting">
              
                <span class="pl-5 pr-5 pt-3 pb-3 d-flex flex-row justify-content-between parent-folder">
              
                <span>Boosting</span>
                <i class="fas fa-sort-down"></i>
              </span>
            </button>
          </ul>
          <ul class ="collapse" id="course_boosting"> 
    
        
          
          <ul class="p-2">
            <li class="m-2 list-unstyled"><span class="far fa-file mr-1"></span>
                <a class="course-file" href=/courses/jedha-full-stack-24-program/S0.9%20--%20ML%20supervis%C3%A9%20-%20R%C3%A9duction%20de%20dimensions%2C%20Boosting%20%26%20Ensemble%20Learning/S9-B%20-%20Boosting%20%26%20Ensemble%20Learning/Boosting/Adaboost%20ou%20XGBoost%20-%20Exercice%20SOLUTION.ipynb>Adaboost ou XGBoost - Exercice SOLUTION.ipynb</a>
            </li>
          </ul>
        
    
    
        
          
          <ul class="p-2">
            <li class="m-2 list-unstyled"><span class="far fa-file mr-1"></span>
                <a class="course-file" href=/courses/jedha-full-stack-24-program/S0.9%20--%20ML%20supervis%C3%A9%20-%20R%C3%A9duction%20de%20dimensions%2C%20Boosting%20%26%20Ensemble%20Learning/S9-B%20-%20Boosting%20%26%20Ensemble%20Learning/Boosting/Adaboost%20ou%20XGBoost%20-%20Exercice.ipynb>Adaboost ou XGBoost - Exercice.ipynb</a>
            </li>
          </ul>
        
    
    
        
          <ul class="p-0 mt-4">
            <button class="btn m-0 p-0 col-12" data-toggle="collapse" data-target="#course_dataset" role="button" aria-expanded="false" aria-controls="course_dataset">
              
                <span class="pl-5 pr-5 pt-3 pb-3 d-flex flex-row justify-content-between child-folders">
              
                <span>Dataset</span>
                <i class="fas fa-sort-down"></i>
              </span>
            </button>
          </ul>
          <ul class ="collapse" id="course_dataset"> 
    
        
          
          <ul class="p-2">
            <li class="m-2 list-unstyled"><span class="far fa-file mr-1"></span>
                <a class="course-file" href=/courses/jedha-full-stack-24-program/S0.9%20--%20ML%20supervis%C3%A9%20-%20R%C3%A9duction%20de%20dimensions%2C%20Boosting%20%26%20Ensemble%20Learning/S9-B%20-%20Boosting%20%26%20Ensemble%20Learning/Boosting/Dataset/listings.csv>listings.csv</a>
            </li>
          </ul>
        
    </ul>
        
    
    
        
          
          <ul class="p-2">
            <li class="m-2 list-unstyled"><span class="far fa-file mr-1"></span>
                <a class="course-file" href=/courses/jedha-full-stack-24-program/S0.9%20--%20ML%20supervis%C3%A9%20-%20R%C3%A9duction%20de%20dimensions%2C%20Boosting%20%26%20Ensemble%20Learning/S9-B%20-%20Boosting%20%26%20Ensemble%20Learning/Boosting/README.md>README.md</a>
            </li>
          </ul>
        
    </ul>
        
    
    
        
          <ul class="p-0 mt-4">
            <button class="btn m-0 p-0 col-12" data-toggle="collapse" data-target="#course_ensemblelearning" role="button" aria-expanded="false" aria-controls="course_ensemblelearning">
              
                <span class="pl-5 pr-5 pt-3 pb-3 d-flex flex-row justify-content-between child-folders">
              
                <span>Ensemble Learning</span>
                <i class="fas fa-sort-down"></i>
              </span>
            </button>
          </ul>
          <ul class ="collapse" id="course_ensemblelearning"> 
    
        
          <ul class="p-0 mt-4">
            <button class="btn m-0 p-0 col-12" data-toggle="collapse" data-target="#course_data" role="button" aria-expanded="false" aria-controls="course_data">
              
                <span class="pl-5 pr-5 pt-3 pb-3 d-flex flex-row justify-content-between parent-folder">
              
                <span>Data</span>
                <i class="fas fa-sort-down"></i>
              </span>
            </button>
          </ul>
          <ul class ="collapse" id="course_data"> 
    
        
          
          <ul class="p-2">
            <li class="m-2 list-unstyled"><span class="far fa-file mr-1"></span>
                <a class="course-file" href=/courses/jedha-full-stack-24-program/S0.9%20--%20ML%20supervis%C3%A9%20-%20R%C3%A9duction%20de%20dimensions%2C%20Boosting%20%26%20Ensemble%20Learning/S9-B%20-%20Boosting%20%26%20Ensemble%20Learning/Ensemble%20Learning/Data/train%20%281%29.csv>train (1).csv</a>
            </li>
          </ul>
        
    </ul>
        
    
    
        
          
          <ul class="p-2">
            <li class="m-2 list-unstyled"><span class="far fa-file mr-1"></span>
                <a class="course-file" href=/courses/jedha-full-stack-24-program/S0.9%20--%20ML%20supervis%C3%A9%20-%20R%C3%A9duction%20de%20dimensions%2C%20Boosting%20%26%20Ensemble%20Learning/S9-B%20-%20Boosting%20%26%20Ensemble%20Learning/Ensemble%20Learning/Titanic%20-%20Stacking%20Exercice.ipynb>Titanic - Stacking Exercice.ipynb</a>
            </li>
          </ul>
        
    
    
        
          
          <ul class="p-2">
            <li class="m-2 list-unstyled"><span class="far fa-file mr-1"></span>
                <a class="course-file" href=/courses/jedha-full-stack-24-program/S0.9%20--%20ML%20supervis%C3%A9%20-%20R%C3%A9duction%20de%20dimensions%2C%20Boosting%20%26%20Ensemble%20Learning/S9-B%20-%20Boosting%20%26%20Ensemble%20Learning/Ensemble%20Learning/Titanic%20-%20Stacking%20SOLUTION.ipynb>Titanic - Stacking SOLUTION.ipynb</a>
            </li>
          </ul>
        
    
    
        
          
          <ul class="p-2">
            <li class="m-2 list-unstyled"><span class="far fa-file mr-1"></span>
                <a class="course-file" href=/courses/jedha-full-stack-24-program/S0.9%20--%20ML%20supervis%C3%A9%20-%20R%C3%A9duction%20de%20dimensions%2C%20Boosting%20%26%20Ensemble%20Learning/S9-B%20-%20Boosting%20%26%20Ensemble%20Learning/Ensemble%20Learning/Voting%20Classifier%20-%20Exercice%20SOLUTION.ipynb>Voting Classifier - Exercice SOLUTION.ipynb</a>
            </li>
          </ul>
        
    
    
        
          
          <ul class="p-2">
            <li class="m-2 list-unstyled"><span class="far fa-file mr-1"></span>
                <a class="course-file" href=/courses/jedha-full-stack-24-program/S0.9%20--%20ML%20supervis%C3%A9%20-%20R%C3%A9duction%20de%20dimensions%2C%20Boosting%20%26%20Ensemble%20Learning/S9-B%20-%20Boosting%20%26%20Ensemble%20Learning/Ensemble%20Learning/Voting%20Classifier%20-%20Exercice.ipynb>Voting Classifier - Exercice.ipynb</a>
            </li>
          </ul>
        
    </ul>
        
    </ul>
        
    </ul>
        
    
    
        
          <ul class="p-0 mt-4">
            <button class="btn m-0 p-0 col-12" data-toggle="collapse" data-target="#course_s10--projet-fraudulentactivities" role="button" aria-expanded="false" aria-controls="course_s10--projet-fraudulentactivities">
              
                <span class="pl-5 pr-5 pt-3 pb-3 d-flex flex-row justify-content-between child-folders">
              
                <span>S1.0 -- Projet - FRAUDULENT ACTIVITIES</span>
                <i class="fas fa-sort-down"></i>
              </span>
            </button>
          </ul>
          <ul class ="collapse" id="course_s10--projet-fraudulentactivities"> 
    
        
          <ul class="p-0 mt-4">
            <button class="btn m-0 p-0 col-12" data-toggle="collapse" data-target="#course_s10-a-projet-fraudulentactivities" role="button" aria-expanded="false" aria-controls="course_s10-a-projet-fraudulentactivities">
              
                <span class="pl-5 pr-5 pt-3 pb-3 d-flex flex-row justify-content-between parent-folder">
              
                <span>S10-A - Projet - Fraudulent Activities</span>
                <i class="fas fa-sort-down"></i>
              </span>
            </button>
          </ul>
          <ul class ="collapse" id="course_s10-a-projet-fraudulentactivities"> 
    
        
          <ul class="p-0 mt-4">
            <button class="btn m-0 p-0 col-12" data-toggle="collapse" data-target="#course_fraudulentactivities" role="button" aria-expanded="false" aria-controls="course_fraudulentactivities">
              
                <span class="pl-5 pr-5 pt-3 pb-3 d-flex flex-row justify-content-between parent-folder">
              
                <span>Fraudulent Activities</span>
                <i class="fas fa-sort-down"></i>
              </span>
            </button>
          </ul>
          <ul class ="collapse" id="course_fraudulentactivities"> 
    
        
          <ul class="p-0 mt-4">
            <button class="btn m-0 p-0 col-12" data-toggle="collapse" data-target="#course_datasets" role="button" aria-expanded="false" aria-controls="course_datasets">
              
                <span class="pl-5 pr-5 pt-3 pb-3 d-flex flex-row justify-content-between parent-folder">
              
                <span>Datasets</span>
                <i class="fas fa-sort-down"></i>
              </span>
            </button>
          </ul>
          <ul class ="collapse" id="course_datasets"> 
    
        
          
          <ul class="p-2">
            <li class="m-2 list-unstyled"><span class="far fa-file mr-1"></span>
                <a class="course-file" href=/courses/jedha-full-stack-24-program/S1.0%20--%20Projet%20-%20FRAUDULENT%20ACTIVITIES/S10-A%20-%20Projet%20-%20Fraudulent%20Activities/Fraudulent%20Activities/Datasets/Fraud_Data.csv>Fraud_Data.csv</a>
            </li>
          </ul>
        
    
    
        
          
          <ul class="p-2">
            <li class="m-2 list-unstyled"><span class="far fa-file mr-1"></span>
                <a class="course-file" href=/courses/jedha-full-stack-24-program/S1.0%20--%20Projet%20-%20FRAUDULENT%20ACTIVITIES/S10-A%20-%20Projet%20-%20Fraudulent%20Activities/Fraudulent%20Activities/Datasets/IpAddress_to_Country.csv>IpAddress_to_Country.csv</a>
            </li>
          </ul>
        
    </ul>
        
    
    
        
          
          <ul class="p-2">
            <li class="m-2 list-unstyled"><span class="far fa-file mr-1"></span>
                <a class="course-file" href=/courses/jedha-full-stack-24-program/S1.0%20--%20Projet%20-%20FRAUDULENT%20ACTIVITIES/S10-A%20-%20Projet%20-%20Fraudulent%20Activities/Fraudulent%20Activities/README.md>README.md</a>
            </li>
          </ul>
        
    </ul>
        
    
    
        
          <ul class="p-0 mt-4">
            <button class="btn m-0 p-0 col-12" data-toggle="collapse" data-target="#course_optionnel:worldcupwinner" role="button" aria-expanded="false" aria-controls="course_optionnel:worldcupwinner">
              
                <span class="pl-5 pr-5 pt-3 pb-3 d-flex flex-row justify-content-between child-folders">
              
                <span>Optionnel : World Cup Winner</span>
                <i class="fas fa-sort-down"></i>
              </span>
            </button>
          </ul>
          <ul class ="collapse" id="course_optionnel:worldcupwinner"> 
    
        
          
          <ul class="p-2">
            <li class="m-2 list-unstyled"><span class="far fa-file mr-1"></span>
                <a class="course-file" href=/courses/jedha-full-stack-24-program/S1.0%20--%20Projet%20-%20FRAUDULENT%20ACTIVITIES/S10-A%20-%20Projet%20-%20Fraudulent%20Activities/Optionnel%20:%20World%20Cup%20Winner/1.%20World%20Cup%20Winner%20-%20Projet.ipynb>1. World Cup Winner - Projet.ipynb</a>
            </li>
          </ul>
        
    
    
        
          
          <ul class="p-2">
            <li class="m-2 list-unstyled"><span class="far fa-file mr-1"></span>
                <a class="course-file" href=/courses/jedha-full-stack-24-program/S1.0%20--%20Projet%20-%20FRAUDULENT%20ACTIVITIES/S10-A%20-%20Projet%20-%20Fraudulent%20Activities/Optionnel%20:%20World%20Cup%20Winner/2.%20World%20Cup%20Winner%20-%20SOLUTIONS.md>2. World Cup Winner - SOLUTIONS.md</a>
            </li>
          </ul>
        
    
    
        
          <ul class="p-0 mt-4">
            <button class="btn m-0 p-0 col-12" data-toggle="collapse" data-target="#course_datasets" role="button" aria-expanded="false" aria-controls="course_datasets">
              
                <span class="pl-5 pr-5 pt-3 pb-3 d-flex flex-row justify-content-between child-folders">
              
                <span>Datasets</span>
                <i class="fas fa-sort-down"></i>
              </span>
            </button>
          </ul>
          <ul class ="collapse" id="course_datasets"> 
    
        
          
          <ul class="p-2">
            <li class="m-2 list-unstyled"><span class="far fa-file mr-1"></span>
                <a class="course-file" href=/courses/jedha-full-stack-24-program/S1.0%20--%20Projet%20-%20FRAUDULENT%20ACTIVITIES/S10-A%20-%20Projet%20-%20Fraudulent%20Activities/Optionnel%20:%20World%20Cup%20Winner/Datasets/FullData.csv>FullData.csv</a>
            </li>
          </ul>
        
    
    
        
          
          <ul class="p-2">
            <li class="m-2 list-unstyled"><span class="far fa-file mr-1"></span>
                <a class="course-file" href=/courses/jedha-full-stack-24-program/S1.0%20--%20Projet%20-%20FRAUDULENT%20ACTIVITIES/S10-A%20-%20Projet%20-%20Fraudulent%20Activities/Optionnel%20:%20World%20Cup%20Winner/Datasets/World%20Cup%202018%20Dataset.csv>World Cup 2018 Dataset.csv</a>
            </li>
          </ul>
        
    
    
        
          
          <ul class="p-2">
            <li class="m-2 list-unstyled"><span class="far fa-file mr-1"></span>
                <a class="course-file" href=/courses/jedha-full-stack-24-program/S1.0%20--%20Projet%20-%20FRAUDULENT%20ACTIVITIES/S10-A%20-%20Projet%20-%20Fraudulent%20Activities/Optionnel%20:%20World%20Cup%20Winner/Datasets/all_time_fifa_statistics.csv>all_time_fifa_statistics.csv</a>
            </li>
          </ul>
        
    
    
        
          
          <ul class="p-2">
            <li class="m-2 list-unstyled"><span class="far fa-file mr-1"></span>
                <a class="course-file" href=/courses/jedha-full-stack-24-program/S1.0%20--%20Projet%20-%20FRAUDULENT%20ACTIVITIES/S10-A%20-%20Projet%20-%20Fraudulent%20Activities/Optionnel%20:%20World%20Cup%20Winner/Datasets/fifa_ranking.csv>fifa_ranking.csv</a>
            </li>
          </ul>
        
    
    
        
          
          <ul class="p-2">
            <li class="m-2 list-unstyled"><span class="far fa-file mr-1"></span>
                <a class="course-file" href=/courses/jedha-full-stack-24-program/S1.0%20--%20Projet%20-%20FRAUDULENT%20ACTIVITIES/S10-A%20-%20Projet%20-%20Fraudulent%20Activities/Optionnel%20:%20World%20Cup%20Winner/Datasets/results.csv>results.csv</a>
            </li>
          </ul>
        
    </ul>
        
    </ul>
        
    </ul>
        
    
    
        
          <ul class="p-0 mt-4">
            <button class="btn m-0 p-0 col-12" data-toggle="collapse" data-target="#course_s10-b-articlemachinelearningsupervisépart2" role="button" aria-expanded="false" aria-controls="course_s10-b-articlemachinelearningsupervisépart2">
              
                <span class="pl-5 pr-5 pt-3 pb-3 d-flex flex-row justify-content-between child-folders">
              
                <span>S10-B - Article Machine Learning Supervisé PART 2</span>
                <i class="fas fa-sort-down"></i>
              </span>
            </button>
          </ul>
          <ul class ="collapse" id="course_s10-b-articlemachinelearningsupervisépart2"> 
    
        
          
          <ul class="p-2">
            <li class="m-2 list-unstyled"><span class="far fa-file mr-1"></span>
                <a class="course-file" href=/courses/jedha-full-stack-24-program/S1.0%20--%20Projet%20-%20FRAUDULENT%20ACTIVITIES/S10-B%20-%20Article%20Machine%20Learning%20Supervis%C3%A9%20PART%202/README.md>README.md</a>
            </li>
          </ul>
        
    </ul>
        
    </ul>
        
    
    
        
          <ul class="p-0 mt-4">
            <button class="btn m-0 p-0 col-12" data-toggle="collapse" data-target="#course_s11--mlnon-supervisé-k-meansdbscan" role="button" aria-expanded="false" aria-controls="course_s11--mlnon-supervisé-k-meansdbscan">
              
                <span class="pl-5 pr-5 pt-3 pb-3 d-flex flex-row justify-content-between child-folders">
              
                <span>S1.1 -- ML non-supervisé - K-Means &amp; DBSCAN</span>
                <i class="fas fa-sort-down"></i>
              </span>
            </button>
          </ul>
          <ul class ="collapse" id="course_s11--mlnon-supervisé-k-meansdbscan"> 
    
        
          <ul class="p-0 mt-4">
            <button class="btn m-0 p-0 col-12" data-toggle="collapse" data-target="#course_s11-a-théoriekmeans" role="button" aria-expanded="false" aria-controls="course_s11-a-théoriekmeans">
              
                <span class="pl-5 pr-5 pt-3 pb-3 d-flex flex-row justify-content-between parent-folder">
              
                <span>S11-A - Théorie KMEANS</span>
                <i class="fas fa-sort-down"></i>
              </span>
            </button>
          </ul>
          <ul class ="collapse" id="course_s11-a-théoriekmeans"> 
    
        
          <ul class="p-0 mt-4">
            <button class="btn m-0 p-0 col-12" data-toggle="collapse" data-target="#course_2exercices" role="button" aria-expanded="false" aria-controls="course_2exercices">
              
                <span class="pl-5 pr-5 pt-3 pb-3 d-flex flex-row justify-content-between parent-folder">
              
                <span>2.Exercices</span>
                <i class="fas fa-sort-down"></i>
              </span>
            </button>
          </ul>
          <ul class ="collapse" id="course_2exercices"> 
    
        
          
          <ul class="p-2">
            <li class="m-2 list-unstyled"><span class="far fa-file mr-1"></span>
                <a class="course-file" href=/courses/jedha-full-stack-24-program/S1.1%20--%20ML%20non-supervis%C3%A9%20-%20K-Means%20%26%20DBSCAN/S11-A%20-%20Th%C3%A9orie%20KMEANS/2.Exercices/1.%20Conna%C3%AEtre%20ses%20clients%20-%20KMeans%20-%20Exercice.ipynb>1. Connaître ses clients - KMeans - Exercice.ipynb</a>
            </li>
          </ul>
        
    
    
        
          <ul class="p-0 mt-4">
            <button class="btn m-0 p-0 col-12" data-toggle="collapse" data-target="#course_datasets" role="button" aria-expanded="false" aria-controls="course_datasets">
              
                <span class="pl-5 pr-5 pt-3 pb-3 d-flex flex-row justify-content-between child-folders">
              
                <span>datasets</span>
                <i class="fas fa-sort-down"></i>
              </span>
            </button>
          </ul>
          <ul class ="collapse" id="course_datasets"> 
    
        
          
          <ul class="p-2">
            <li class="m-2 list-unstyled"><span class="far fa-file mr-1"></span>
                <a class="course-file" href=/courses/jedha-full-stack-24-program/S1.1%20--%20ML%20non-supervis%C3%A9%20-%20K-Means%20%26%20DBSCAN/S11-A%20-%20Th%C3%A9orie%20KMEANS/2.Exercices/datasets/Mall_Customers.csv>Mall_Customers.csv</a>
            </li>
          </ul>
        
    </ul>
        
    </ul>
        
    
    
        
          <ul class="p-0 mt-4">
            <button class="btn m-0 p-0 col-12" data-toggle="collapse" data-target="#course_3solutions" role="button" aria-expanded="false" aria-controls="course_3solutions">
              
                <span class="pl-5 pr-5 pt-3 pb-3 d-flex flex-row justify-content-between child-folders">
              
                <span>3.Solutions</span>
                <i class="fas fa-sort-down"></i>
              </span>
            </button>
          </ul>
          <ul class ="collapse" id="course_3solutions"> 
    
        
          
          <ul class="p-2">
            <li class="m-2 list-unstyled"><span class="far fa-file mr-1"></span>
                <a class="course-file" href=/courses/jedha-full-stack-24-program/S1.1%20--%20ML%20non-supervis%C3%A9%20-%20K-Means%20%26%20DBSCAN/S11-A%20-%20Th%C3%A9orie%20KMEANS/3.Solutions/1.%20Conna%C3%AEtre%20ses%20clients%20KMeans%20-%20SOLUTION.md>1. Connaître ses clients KMeans - SOLUTION.md</a>
            </li>
          </ul>
        
    </ul>
        
    
    
        
          
          <ul class="p-2">
            <li class="m-2 list-unstyled"><span class="far fa-file mr-1"></span>
                <a class="course-file" href=/courses/jedha-full-stack-24-program/S1.1%20--%20ML%20non-supervis%C3%A9%20-%20K-Means%20%26%20DBSCAN/S11-A%20-%20Th%C3%A9orie%20KMEANS/README.md>README.md</a>
            </li>
          </ul>
        
    </ul>
        
    
    
        
          <ul class="p-0 mt-4">
            <button class="btn m-0 p-0 col-12" data-toggle="collapse" data-target="#course_s11-b-pratiquekmeansdbscan" role="button" aria-expanded="false" aria-controls="course_s11-b-pratiquekmeansdbscan">
              
                <span class="pl-5 pr-5 pt-3 pb-3 d-flex flex-row justify-content-between child-folders">
              
                <span>S11-B - Pratique KMEANS &amp; DBSCAN</span>
                <i class="fas fa-sort-down"></i>
              </span>
            </button>
          </ul>
          <ul class ="collapse" id="course_s11-b-pratiquekmeansdbscan"> 
    
        
          <ul class="p-0 mt-4">
            <button class="btn m-0 p-0 col-12" data-toggle="collapse" data-target="#course_1pratiquekmeans" role="button" aria-expanded="false" aria-controls="course_1pratiquekmeans">
              
                <span class="pl-5 pr-5 pt-3 pb-3 d-flex flex-row justify-content-between parent-folder">
              
                <span>1. Pratique KMeans</span>
                <i class="fas fa-sort-down"></i>
              </span>
            </button>
          </ul>
          <ul class ="collapse" id="course_1pratiquekmeans"> 
    
        
          <ul class="p-0 mt-4">
            <button class="btn m-0 p-0 col-12" data-toggle="collapse" data-target="#course_dataset" role="button" aria-expanded="false" aria-controls="course_dataset">
              
                <span class="pl-5 pr-5 pt-3 pb-3 d-flex flex-row justify-content-between parent-folder">
              
                <span>Dataset</span>
                <i class="fas fa-sort-down"></i>
              </span>
            </button>
          </ul>
          <ul class ="collapse" id="course_dataset"> 
    
        
          
          <ul class="p-2">
            <li class="m-2 list-unstyled"><span class="far fa-file mr-1"></span>
                <a class="course-file" href=/courses/jedha-full-stack-24-program/S1.1%20--%20ML%20non-supervis%C3%A9%20-%20K-Means%20%26%20DBSCAN/S11-B%20-%20Pratique%20KMEANS%20%26%20DBSCAN/1.%20Pratique%20KMeans/Dataset/Auto_Insurance_Claims_Sample.csv>Auto_Insurance_Claims_Sample.csv</a>
            </li>
          </ul>
        
    </ul>
        
    
    
        
          <ul class="p-0 mt-4">
            <button class="btn m-0 p-0 col-12" data-toggle="collapse" data-target="#course_exercices" role="button" aria-expanded="false" aria-controls="course_exercices">
              
                <span class="pl-5 pr-5 pt-3 pb-3 d-flex flex-row justify-content-between child-folders">
              
                <span>Exercices</span>
                <i class="fas fa-sort-down"></i>
              </span>
            </button>
          </ul>
          <ul class ="collapse" id="course_exercices"> 
    
        
          
          <ul class="p-2">
            <li class="m-2 list-unstyled"><span class="far fa-file mr-1"></span>
                <a class="course-file" href=/courses/jedha-full-stack-24-program/S1.1%20--%20ML%20non-supervis%C3%A9%20-%20K-Means%20%26%20DBSCAN/S11-B%20-%20Pratique%20KMEANS%20%26%20DBSCAN/1.%20Pratique%20KMeans/Exercices/1.%20Image%20Compression%20KMeans%20-%20Exercice.ipynb>1. Image Compression KMeans - Exercice.ipynb</a>
            </li>
          </ul>
        
    
    
        
          
          <ul class="p-2">
            <li class="m-2 list-unstyled"><span class="far fa-file mr-1"></span>
                <a class="course-file" href=/courses/jedha-full-stack-24-program/S1.1%20--%20ML%20non-supervis%C3%A9%20-%20K-Means%20%26%20DBSCAN/S11-B%20-%20Pratique%20KMEANS%20%26%20DBSCAN/1.%20Pratique%20KMeans/Exercices/2.%20Digit%20Recognition%20-%20KMeans%20Exercice.ipynb>2. Digit Recognition - KMeans Exercice.ipynb</a>
            </li>
          </ul>
        
    
    
        
          
          <ul class="p-2">
            <li class="m-2 list-unstyled"><span class="far fa-file mr-1"></span>
                <a class="course-file" href=/courses/jedha-full-stack-24-program/S1.1%20--%20ML%20non-supervis%C3%A9%20-%20K-Means%20%26%20DBSCAN/S11-B%20-%20Pratique%20KMEANS%20%26%20DBSCAN/1.%20Pratique%20KMeans/Exercices/3.%20Auto%20Insurance%20-%20KMeans%20Exercice.ipynb>3. Auto Insurance - KMeans Exercice.ipynb</a>
            </li>
          </ul>
        
    </ul>
        
    
    
        
          <ul class="p-0 mt-4">
            <button class="btn m-0 p-0 col-12" data-toggle="collapse" data-target="#course_solutions" role="button" aria-expanded="false" aria-controls="course_solutions">
              
                <span class="pl-5 pr-5 pt-3 pb-3 d-flex flex-row justify-content-between child-folders">
              
                <span>Solutions</span>
                <i class="fas fa-sort-down"></i>
              </span>
            </button>
          </ul>
          <ul class ="collapse" id="course_solutions"> 
    
        
          
          <ul class="p-2">
            <li class="m-2 list-unstyled"><span class="far fa-file mr-1"></span>
                <a class="course-file" href=/courses/jedha-full-stack-24-program/S1.1%20--%20ML%20non-supervis%C3%A9%20-%20K-Means%20%26%20DBSCAN/S11-B%20-%20Pratique%20KMEANS%20%26%20DBSCAN/1.%20Pratique%20KMeans/Solutions/1.%20Image%20Compression%20KMeans%20-%20SOLUTION.md>1. Image Compression KMeans - SOLUTION.md</a>
            </li>
          </ul>
        
    
    
        
          
          <ul class="p-2">
            <li class="m-2 list-unstyled"><span class="far fa-file mr-1"></span>
                <a class="course-file" href=/courses/jedha-full-stack-24-program/S1.1%20--%20ML%20non-supervis%C3%A9%20-%20K-Means%20%26%20DBSCAN/S11-B%20-%20Pratique%20KMEANS%20%26%20DBSCAN/1.%20Pratique%20KMeans/Solutions/2.%20Digit%20Recognition%20KMeans%20-%20SOLUTION.md>2. Digit Recognition KMeans - SOLUTION.md</a>
            </li>
          </ul>
        
    
    
        
          
          <ul class="p-2">
            <li class="m-2 list-unstyled"><span class="far fa-file mr-1"></span>
                <a class="course-file" href=/courses/jedha-full-stack-24-program/S1.1%20--%20ML%20non-supervis%C3%A9%20-%20K-Means%20%26%20DBSCAN/S11-B%20-%20Pratique%20KMEANS%20%26%20DBSCAN/1.%20Pratique%20KMeans/Solutions/3.%20Auto_Insurance%20-%20SOLUTION.md>3. Auto_Insurance - SOLUTION.md</a>
            </li>
          </ul>
        
    </ul>
        
    </ul>
        
    
    
        
          <ul class="p-0 mt-4">
            <button class="btn m-0 p-0 col-12" data-toggle="collapse" data-target="#course_2dbscan" role="button" aria-expanded="false" aria-controls="course_2dbscan">
              
                <span class="pl-5 pr-5 pt-3 pb-3 d-flex flex-row justify-content-between child-folders">
              
                <span>2. DBSCAN</span>
                <i class="fas fa-sort-down"></i>
              </span>
            </button>
          </ul>
          <ul class ="collapse" id="course_2dbscan"> 
    
        
          
          <ul class="p-2">
            <li class="m-2 list-unstyled"><span class="far fa-file mr-1"></span>
                <a class="course-file" href=/courses/jedha-full-stack-24-program/S1.1%20--%20ML%20non-supervis%C3%A9%20-%20K-Means%20%26%20DBSCAN/S11-B%20-%20Pratique%20KMEANS%20%26%20DBSCAN/2.%20DBSCAN/2.%20Vive%20les%20courses%20-%20Exercice.ipynb>2. Vive les courses - Exercice.ipynb</a>
            </li>
          </ul>
        
    
    
        
          
          <ul class="p-2">
            <li class="m-2 list-unstyled"><span class="far fa-file mr-1"></span>
                <a class="course-file" href=/courses/jedha-full-stack-24-program/S1.1%20--%20ML%20non-supervis%C3%A9%20-%20K-Means%20%26%20DBSCAN/S11-B%20-%20Pratique%20KMEANS%20%26%20DBSCAN/2.%20DBSCAN/3.%20Vive%20les%20course%20-%20Exercice%20SOLUTION.md>3. Vive les course - Exercice SOLUTION.md</a>
            </li>
          </ul>
        
    
    
        
          <ul class="p-0 mt-4">
            <button class="btn m-0 p-0 col-12" data-toggle="collapse" data-target="#course_dataset" role="button" aria-expanded="false" aria-controls="course_dataset">
              
                <span class="pl-5 pr-5 pt-3 pb-3 d-flex flex-row justify-content-between child-folders">
              
                <span>Dataset</span>
                <i class="fas fa-sort-down"></i>
              </span>
            </button>
          </ul>
          <ul class ="collapse" id="course_dataset"> 
    
        
          
          <ul class="p-2">
            <li class="m-2 list-unstyled"><span class="far fa-file mr-1"></span>
                <a class="course-file" href=/courses/jedha-full-stack-24-program/S1.1%20--%20ML%20non-supervis%C3%A9%20-%20K-Means%20%26%20DBSCAN/S11-B%20-%20Pratique%20KMEANS%20%26%20DBSCAN/2.%20DBSCAN/Dataset/income_prediction.csv>income_prediction.csv</a>
            </li>
          </ul>
        
    </ul>
        
    
    
        
          
          <ul class="p-2">
            <li class="m-2 list-unstyled"><span class="far fa-file mr-1"></span>
                <a class="course-file" href=/courses/jedha-full-stack-24-program/S1.1%20--%20ML%20non-supervis%C3%A9%20-%20K-Means%20%26%20DBSCAN/S11-B%20-%20Pratique%20KMEANS%20%26%20DBSCAN/2.%20DBSCAN/README.md>README.md</a>
            </li>
          </ul>
        
    </ul>
        
    </ul>
        
    </ul>
        
    
    
        
          <ul class="p-0 mt-4">
            <button class="btn m-0 p-0 col-12" data-toggle="collapse" data-target="#course_s12--projetuberpickups" role="button" aria-expanded="false" aria-controls="course_s12--projetuberpickups">
              
                <span class="pl-5 pr-5 pt-3 pb-3 d-flex flex-row justify-content-between child-folders">
              
                <span>S1.2 -- Projet UBER PICKUPS</span>
                <i class="fas fa-sort-down"></i>
              </span>
            </button>
          </ul>
          <ul class ="collapse" id="course_s12--projetuberpickups"> 
    
        
          <ul class="p-0 mt-4">
            <button class="btn m-0 p-0 col-12" data-toggle="collapse" data-target="#course_extra" role="button" aria-expanded="false" aria-controls="course_extra">
              
                <span class="pl-5 pr-5 pt-3 pb-3 d-flex flex-row justify-content-between parent-folder">
              
                <span>EXTRA</span>
                <i class="fas fa-sort-down"></i>
              </span>
            </button>
          </ul>
          <ul class ="collapse" id="course_extra"> 
    
        
          <ul class="p-0 mt-4">
            <button class="btn m-0 p-0 col-12" data-toggle="collapse" data-target="#course_1cah" role="button" aria-expanded="false" aria-controls="course_1cah">
              
                <span class="pl-5 pr-5 pt-3 pb-3 d-flex flex-row justify-content-between parent-folder">
              
                <span>1. CAH</span>
                <i class="fas fa-sort-down"></i>
              </span>
            </button>
          </ul>
          <ul class ="collapse" id="course_1cah"> 
    
        
          
          <ul class="p-2">
            <li class="m-2 list-unstyled"><span class="far fa-file mr-1"></span>
                <a class="course-file" href=/courses/jedha-full-stack-24-program/S1.2%20--%20Projet%20UBER%20PICKUPS/EXTRA/1.%20CAH/Apprentissage%20non%20supervis%C3%A9%20-%20Classification%20ascendante%20hi%C3%A9rarchique.md>Apprentissage non supervisé - Classification ascendante hiérarchique.md</a>
            </li>
          </ul>
        
    
    
        
          
          <ul class="p-2">
            <li class="m-2 list-unstyled"><span class="far fa-file mr-1"></span>
                <a class="course-file" href=/courses/jedha-full-stack-24-program/S1.2%20--%20Projet%20UBER%20PICKUPS/EXTRA/1.%20CAH/Exercices%20-%20CAH.md>Exercices - CAH.md</a>
            </li>
          </ul>
        
    
    
        
          
          <ul class="p-2">
            <li class="m-2 list-unstyled"><span class="far fa-file mr-1"></span>
                <a class="course-file" href=/courses/jedha-full-stack-24-program/S1.2%20--%20Projet%20UBER%20PICKUPS/EXTRA/1.%20CAH/fromage.txt>fromage.txt</a>
            </li>
          </ul>
        
    </ul>
        
    
    
        
          <ul class="p-0 mt-4">
            <button class="btn m-0 p-0 col-12" data-toggle="collapse" data-target="#course_2tsne" role="button" aria-expanded="false" aria-controls="course_2tsne">
              
                <span class="pl-5 pr-5 pt-3 pb-3 d-flex flex-row justify-content-between child-folders">
              
                <span>2. TSNE</span>
                <i class="fas fa-sort-down"></i>
              </span>
            </button>
          </ul>
          <ul class ="collapse" id="course_2tsne"> 
    
        
          
          <ul class="p-2">
            <li class="m-2 list-unstyled"><span class="far fa-file mr-1"></span>
                <a class="course-file" href=/courses/jedha-full-stack-24-program/S1.2%20--%20Projet%20UBER%20PICKUPS/EXTRA/2.%20TSNE/Apprentissage%20non%20supervis%C3%A9%20-%20T%20SNE.md>Apprentissage non supervisé - T SNE.md</a>
            </li>
          </ul>
        
    
    
        
          
          <ul class="p-2">
            <li class="m-2 list-unstyled"><span class="far fa-file mr-1"></span>
                <a class="course-file" href=/courses/jedha-full-stack-24-program/S1.2%20--%20Projet%20UBER%20PICKUPS/EXTRA/2.%20TSNE/Exercice%20-%20TSNE.md>Exercice - TSNE.md</a>
            </li>
          </ul>
        
    
    
        
          
          <ul class="p-2">
            <li class="m-2 list-unstyled"><span class="far fa-file mr-1"></span>
                <a class="course-file" href=/courses/jedha-full-stack-24-program/S1.2%20--%20Projet%20UBER%20PICKUPS/EXTRA/2.%20TSNE/mnist_test.csv>mnist_test.csv</a>
            </li>
          </ul>
        
    </ul>
        
    </ul>
        
    
    
        
          <ul class="p-0 mt-4">
            <button class="btn m-0 p-0 col-12" data-toggle="collapse" data-target="#course_s12-a-projetuberpickups" role="button" aria-expanded="false" aria-controls="course_s12-a-projetuberpickups">
              
                <span class="pl-5 pr-5 pt-3 pb-3 d-flex flex-row justify-content-between child-folders">
              
                <span>S12-A - Projet UBER PICKUPS</span>
                <i class="fas fa-sort-down"></i>
              </span>
            </button>
          </ul>
          <ul class ="collapse" id="course_s12-a-projetuberpickups"> 
    
        
          
          <ul class="p-2">
            <li class="m-2 list-unstyled"><span class="far fa-file mr-1"></span>
                <a class="course-file" href=/courses/jedha-full-stack-24-program/S1.2%20--%20Projet%20UBER%20PICKUPS/S12-A%20-%20Projet%20UBER%20PICKUPS/Income_prediction_SOLUTION.md>Income_prediction_SOLUTION.md</a>
            </li>
          </ul>
        
    
    
        
          
          <ul class="p-2">
            <li class="m-2 list-unstyled"><span class="far fa-file mr-1"></span>
                <a class="course-file" href=/courses/jedha-full-stack-24-program/S1.2%20--%20Projet%20UBER%20PICKUPS/S12-A%20-%20Projet%20UBER%20PICKUPS/Income_predictions_ENONCE.ipynb>Income_predictions_ENONCE.ipynb</a>
            </li>
          </ul>
        
    
    
        
          
          <ul class="p-2">
            <li class="m-2 list-unstyled"><span class="far fa-file mr-1"></span>
                <a class="course-file" href=/courses/jedha-full-stack-24-program/S1.2%20--%20Projet%20UBER%20PICKUPS/S12-A%20-%20Projet%20UBER%20PICKUPS/Projet%20--%20UBER%20PICKUPS%20-%20SOLUTIONS.md>Projet -- UBER PICKUPS - SOLUTIONS.md</a>
            </li>
          </ul>
        
    
    
        
          
          <ul class="p-2">
            <li class="m-2 list-unstyled"><span class="far fa-file mr-1"></span>
                <a class="course-file" href=/courses/jedha-full-stack-24-program/S1.2%20--%20Projet%20UBER%20PICKUPS/S12-A%20-%20Projet%20UBER%20PICKUPS/README.md>README.md</a>
            </li>
          </ul>
        
    </ul>
        
    
    
        
          <ul class="p-0 mt-4">
            <button class="btn m-0 p-0 col-12" data-toggle="collapse" data-target="#course_s12-b-articlemachinelearningnonsupervisé" role="button" aria-expanded="false" aria-controls="course_s12-b-articlemachinelearningnonsupervisé">
              
                <span class="pl-5 pr-5 pt-3 pb-3 d-flex flex-row justify-content-between child-folders">
              
                <span>S12-B - Article Machine Learning Non Supervisé</span>
                <i class="fas fa-sort-down"></i>
              </span>
            </button>
          </ul>
          <ul class ="collapse" id="course_s12-b-articlemachinelearningnonsupervisé"> 
    
        
          
          <ul class="p-2">
            <li class="m-2 list-unstyled"><span class="far fa-file mr-1"></span>
                <a class="course-file" href=/courses/jedha-full-stack-24-program/S1.2%20--%20Projet%20UBER%20PICKUPS/S12-B%20-%20Article%20Machine%20Learning%20Non%20Supervis%C3%A9/README.md>README.md</a>
            </li>
          </ul>
        
    </ul>
        
    </ul>
        
    
    
        
          <ul class="p-0 mt-4">
            <button class="btn m-0 p-0 col-12" data-toggle="collapse" data-target="#course_s13--deeplearning-introductionauxréseauxdeneuronesfastai" role="button" aria-expanded="false" aria-controls="course_s13--deeplearning-introductionauxréseauxdeneuronesfastai">
              
                <span class="pl-5 pr-5 pt-3 pb-3 d-flex flex-row justify-content-between child-folders">
              
                <span>S1.3 -- Deep Learning - Introduction aux réseaux de neurones &amp; FASTAI</span>
                <i class="fas fa-sort-down"></i>
              </span>
            </button>
          </ul>
          <ul class ="collapse" id="course_s13--deeplearning-introductionauxréseauxdeneuronesfastai"> 
    
        
          <ul class="p-0 mt-4">
            <button class="btn m-0 p-0 col-12" data-toggle="collapse" data-target="#course_s13-a-leperceptron" role="button" aria-expanded="false" aria-controls="course_s13-a-leperceptron">
              
                <span class="pl-5 pr-5 pt-3 pb-3 d-flex flex-row justify-content-between parent-folder">
              
                <span>S13-A - Le perceptron</span>
                <i class="fas fa-sort-down"></i>
              </span>
            </button>
          </ul>
          <ul class ="collapse" id="course_s13-a-leperceptron"> 
    
        
          <ul class="p-0 mt-4">
            <button class="btn m-0 p-0 col-12" data-toggle="collapse" data-target="#course_exercices" role="button" aria-expanded="false" aria-controls="course_exercices">
              
                <span class="pl-5 pr-5 pt-3 pb-3 d-flex flex-row justify-content-between parent-folder">
              
                <span>Exercices</span>
                <i class="fas fa-sort-down"></i>
              </span>
            </button>
          </ul>
          <ul class ="collapse" id="course_exercices"> 
    
        
          
          <ul class="p-2">
            <li class="m-2 list-unstyled"><span class="far fa-file mr-1"></span>
                <a class="course-file" href=/courses/jedha-full-stack-24-program/S1.3%20--%20Deep%20Learning%20-%20Introduction%20aux%20r%C3%A9seaux%20de%20neurones%20%26%20FASTAI/S13-A%20-%20Le%20perceptron/Exercices/1.%20Linear%20Regression%20From%20Scratch%20-%20EXERCICE.ipynb>1. Linear Regression From Scratch - EXERCICE.ipynb</a>
            </li>
          </ul>
        
    
    
        
          
          <ul class="p-2">
            <li class="m-2 list-unstyled"><span class="far fa-file mr-1"></span>
                <a class="course-file" href=/courses/jedha-full-stack-24-program/S1.3%20--%20Deep%20Learning%20-%20Introduction%20aux%20r%C3%A9seaux%20de%20neurones%20%26%20FASTAI/S13-A%20-%20Le%20perceptron/Exercices/1.%20Perceptron.ipynb>1. Perceptron.ipynb</a>
            </li>
          </ul>
        
    
    
        
          
          <ul class="p-2">
            <li class="m-2 list-unstyled"><span class="far fa-file mr-1"></span>
                <a class="course-file" href=/courses/jedha-full-stack-24-program/S1.3%20--%20Deep%20Learning%20-%20Introduction%20aux%20r%C3%A9seaux%20de%20neurones%20%26%20FASTAI/S13-A%20-%20Le%20perceptron/Exercices/2.%20Tabular%20data%20with%20FastAI.ipynb>2. Tabular data with FastAI.ipynb</a>
            </li>
          </ul>
        
    </ul>
        
    
    
        
          
          <ul class="p-2">
            <li class="m-2 list-unstyled"><span class="far fa-file mr-1"></span>
                <a class="course-file" href=/courses/jedha-full-stack-24-program/S1.3%20--%20Deep%20Learning%20-%20Introduction%20aux%20r%C3%A9seaux%20de%20neurones%20%26%20FASTAI/S13-A%20-%20Le%20perceptron/README.md>README.md</a>
            </li>
          </ul>
        
    
    
        
          <ul class="p-0 mt-4">
            <button class="btn m-0 p-0 col-12" data-toggle="collapse" data-target="#course_solutions" role="button" aria-expanded="false" aria-controls="course_solutions">
              
                <span class="pl-5 pr-5 pt-3 pb-3 d-flex flex-row justify-content-between child-folders">
              
                <span>Solutions</span>
                <i class="fas fa-sort-down"></i>
              </span>
            </button>
          </ul>
          <ul class ="collapse" id="course_solutions"> 
    
        
          
          <ul class="p-2">
            <li class="m-2 list-unstyled"><span class="far fa-file mr-1"></span>
                <a class="course-file" href=/courses/jedha-full-stack-24-program/S1.3%20--%20Deep%20Learning%20-%20Introduction%20aux%20r%C3%A9seaux%20de%20neurones%20%26%20FASTAI/S13-A%20-%20Le%20perceptron/Solutions/1.%20Linear%20Regression%20From%20Scratch%20-%20SOLUTIONS.md>1. Linear Regression From Scratch - SOLUTIONS.md</a>
            </li>
          </ul>
        
    
    
        
          
          <ul class="p-2">
            <li class="m-2 list-unstyled"><span class="far fa-file mr-1"></span>
                <a class="course-file" href=/courses/jedha-full-stack-24-program/S1.3%20--%20Deep%20Learning%20-%20Introduction%20aux%20r%C3%A9seaux%20de%20neurones%20%26%20FASTAI/S13-A%20-%20Le%20perceptron/Solutions/2.%20Perceptron.md>2. Perceptron.md</a>
            </li>
          </ul>
        
    
    
        
          
          <ul class="p-2">
            <li class="m-2 list-unstyled"><span class="far fa-file mr-1"></span>
                <a class="course-file" href=/courses/jedha-full-stack-24-program/S1.3%20--%20Deep%20Learning%20-%20Introduction%20aux%20r%C3%A9seaux%20de%20neurones%20%26%20FASTAI/S13-A%20-%20Le%20perceptron/Solutions/3.%20Tabular%20Data%20with%20FastAI.md>3. Tabular Data with FastAI.md</a>
            </li>
          </ul>
        
    </ul>
        
    </ul>
        
    
    
        
          <ul class="p-0 mt-4">
            <button class="btn m-0 p-0 col-12" data-toggle="collapse" data-target="#course_s13-b-pratiquedefastai" role="button" aria-expanded="false" aria-controls="course_s13-b-pratiquedefastai">
              
                <span class="pl-5 pr-5 pt-3 pb-3 d-flex flex-row justify-content-between child-folders">
              
                <span>S13-B - Pratique de FASTAI</span>
                <i class="fas fa-sort-down"></i>
              </span>
            </button>
          </ul>
          <ul class ="collapse" id="course_s13-b-pratiquedefastai"> 
    
        
          
          <ul class="p-2">
            <li class="m-2 list-unstyled"><span class="far fa-file mr-1"></span>
                <a class="course-file" href=/courses/jedha-full-stack-24-program/S1.3%20--%20Deep%20Learning%20-%20Introduction%20aux%20r%C3%A9seaux%20de%20neurones%20%26%20FASTAI/S13-B%20-%20Pratique%20de%20FASTAI/1.%20FastAI%20101.ipynb>1. FastAI 101.ipynb</a>
            </li>
          </ul>
        
    
    
        
          <ul class="p-0 mt-4">
            <button class="btn m-0 p-0 col-12" data-toggle="collapse" data-target="#course_2exercices" role="button" aria-expanded="false" aria-controls="course_2exercices">
              
                <span class="pl-5 pr-5 pt-3 pb-3 d-flex flex-row justify-content-between child-folders">
              
                <span>2. Exercices</span>
                <i class="fas fa-sort-down"></i>
              </span>
            </button>
          </ul>
          <ul class ="collapse" id="course_2exercices"> 
    
        
          
          <ul class="p-2">
            <li class="m-2 list-unstyled"><span class="far fa-file mr-1"></span>
                <a class="course-file" href=/courses/jedha-full-stack-24-program/S1.3%20--%20Deep%20Learning%20-%20Introduction%20aux%20r%C3%A9seaux%20de%20neurones%20%26%20FASTAI/S13-B%20-%20Pratique%20de%20FASTAI/2.%20Exercices/1.%20Trouver%20un%20visage%20sur%20une%20photo.ipynb>1. Trouver un visage sur une photo.ipynb</a>
            </li>
          </ul>
        
    
    
        
          
          <ul class="p-2">
            <li class="m-2 list-unstyled"><span class="far fa-file mr-1"></span>
                <a class="course-file" href=/courses/jedha-full-stack-24-program/S1.3%20--%20Deep%20Learning%20-%20Introduction%20aux%20r%C3%A9seaux%20de%20neurones%20%26%20FASTAI/S13-B%20-%20Pratique%20de%20FASTAI/2.%20Exercices/2.%20Multi-label%20Classification.ipynb>2. Multi-label Classification.ipynb</a>
            </li>
          </ul>
        
    </ul>
        
    
    
        
          
          <ul class="p-2">
            <li class="m-2 list-unstyled"><span class="far fa-file mr-1"></span>
                <a class="course-file" href=/courses/jedha-full-stack-24-program/S1.3%20--%20Deep%20Learning%20-%20Introduction%20aux%20r%C3%A9seaux%20de%20neurones%20%26%20FASTAI/S13-B%20-%20Pratique%20de%20FASTAI/2.%20Importer%20des%20donn%C3%A9es%20custom%20sur%20FastAI.ipynb>2. Importer des données custom sur FastAI.ipynb</a>
            </li>
          </ul>
        
    
    
        
          <ul class="p-0 mt-4">
            <button class="btn m-0 p-0 col-12" data-toggle="collapse" data-target="#course_3solutions" role="button" aria-expanded="false" aria-controls="course_3solutions">
              
                <span class="pl-5 pr-5 pt-3 pb-3 d-flex flex-row justify-content-between child-folders">
              
                <span>3. Solutions</span>
                <i class="fas fa-sort-down"></i>
              </span>
            </button>
          </ul>
          <ul class ="collapse" id="course_3solutions"> 
    
        
          
          <ul class="p-2">
            <li class="m-2 list-unstyled"><span class="far fa-file mr-1"></span>
                <a class="course-file" href=/courses/jedha-full-stack-24-program/S1.3%20--%20Deep%20Learning%20-%20Introduction%20aux%20r%C3%A9seaux%20de%20neurones%20%26%20FASTAI/S13-B%20-%20Pratique%20de%20FASTAI/3.%20Solutions/1.%20Trouver%20un%20visage%20sur%20une%20photo.md>1. Trouver un visage sur une photo.md</a>
            </li>
          </ul>
        
    
    
        
          
          <ul class="p-2">
            <li class="m-2 list-unstyled"><span class="far fa-file mr-1"></span>
                <a class="course-file" href=/courses/jedha-full-stack-24-program/S1.3%20--%20Deep%20Learning%20-%20Introduction%20aux%20r%C3%A9seaux%20de%20neurones%20%26%20FASTAI/S13-B%20-%20Pratique%20de%20FASTAI/3.%20Solutions/2.%20Multi-Label%20Classification.md>2. Multi-Label Classification.md</a>
            </li>
          </ul>
        
    </ul>
        
    </ul>
        
    </ul>
        
    
    
        
          <ul class="p-0 mt-4">
            <button class="btn m-0 p-0 col-12" data-toggle="collapse" data-target="#course_s14--deeplearning-cnnnlp" role="button" aria-expanded="false" aria-controls="course_s14--deeplearning-cnnnlp">
              
                <span class="pl-5 pr-5 pt-3 pb-3 d-flex flex-row justify-content-between child-folders">
              
                <span>S1.4 -- Deep Learning - CNN &amp; NLP</span>
                <i class="fas fa-sort-down"></i>
              </span>
            </button>
          </ul>
          <ul class ="collapse" id="course_s14--deeplearning-cnnnlp"> 
    
        
          <ul class="p-0 mt-4">
            <button class="btn m-0 p-0 col-12" data-toggle="collapse" data-target="#course_extra-lstm" role="button" aria-expanded="false" aria-controls="course_extra-lstm">
              
                <span class="pl-5 pr-5 pt-3 pb-3 d-flex flex-row justify-content-between parent-folder">
              
                <span>EXTRA - LSTM</span>
                <i class="fas fa-sort-down"></i>
              </span>
            </button>
          </ul>
          <ul class ="collapse" id="course_extra-lstm"> 
    
        
          
          <ul class="p-2">
            <li class="m-2 list-unstyled"><span class="far fa-file mr-1"></span>
                <a class="course-file" href=/courses/jedha-full-stack-24-program/S1.4%20--%20Deep%20Learning%20-%20CNN%20%26%20NLP/EXTRA%20-%20LSTM/README.md>README.md</a>
            </li>
          </ul>
        
    </ul>
        
    
    
        
          <ul class="p-0 mt-4">
            <button class="btn m-0 p-0 col-12" data-toggle="collapse" data-target="#course_s14-a-cnn" role="button" aria-expanded="false" aria-controls="course_s14-a-cnn">
              
                <span class="pl-5 pr-5 pt-3 pb-3 d-flex flex-row justify-content-between child-folders">
              
                <span>S14-A - CNN</span>
                <i class="fas fa-sort-down"></i>
              </span>
            </button>
          </ul>
          <ul class ="collapse" id="course_s14-a-cnn"> 
    
        
          
          <ul class="p-2">
            <li class="m-2 list-unstyled"><span class="far fa-file mr-1"></span>
                <a class="course-file" href=/courses/jedha-full-stack-24-program/S1.4%20--%20Deep%20Learning%20-%20CNN%20%26%20NLP/S14-A%20-%20CNN/2.%20Construire_%26_Evaluer_un_Learner.ipynb>2. Construire_&amp;_Evaluer_un_Learner.ipynb</a>
            </li>
          </ul>
        
    
    
        
          <ul class="p-0 mt-4">
            <button class="btn m-0 p-0 col-12" data-toggle="collapse" data-target="#course_exercices" role="button" aria-expanded="false" aria-controls="course_exercices">
              
                <span class="pl-5 pr-5 pt-3 pb-3 d-flex flex-row justify-content-between child-folders">
              
                <span>Exercices</span>
                <i class="fas fa-sort-down"></i>
              </span>
            </button>
          </ul>
          <ul class ="collapse" id="course_exercices"> 
    
        
          
          <ul class="p-2">
            <li class="m-2 list-unstyled"><span class="far fa-file mr-1"></span>
                <a class="course-file" href=/courses/jedha-full-stack-24-program/S1.4%20--%20Deep%20Learning%20-%20CNN%20%26%20NLP/S14-A%20-%20CNN/Exercices/1.%20Image%20Recognition%20with%20FastAI.ipynb>1. Image Recognition with FastAI.ipynb</a>
            </li>
          </ul>
        
    
    
        
          
          <ul class="p-2">
            <li class="m-2 list-unstyled"><span class="far fa-file mr-1"></span>
                <a class="course-file" href=/courses/jedha-full-stack-24-program/S1.4%20--%20Deep%20Learning%20-%20CNN%20%26%20NLP/S14-A%20-%20CNN/Exercices/2.%20Fastai%20From%20local%20files.ipynb>2. Fastai From local files.ipynb</a>
            </li>
          </ul>
        
    
    
        
          
          <ul class="p-2">
            <li class="m-2 list-unstyled"><span class="far fa-file mr-1"></span>
                <a class="course-file" href=/courses/jedha-full-stack-24-program/S1.4%20--%20Deep%20Learning%20-%20CNN%20%26%20NLP/S14-A%20-%20CNN/Exercices/3.%20Segmentation%20with%20FastAi.ipynb>3. Segmentation with FastAi.ipynb</a>
            </li>
          </ul>
        
    
    
        
          <ul class="p-0 mt-4">
            <button class="btn m-0 p-0 col-12" data-toggle="collapse" data-target="#course_datasets" role="button" aria-expanded="false" aria-controls="course_datasets">
              
                <span class="pl-5 pr-5 pt-3 pb-3 d-flex flex-row justify-content-between child-folders">
              
                <span>Datasets</span>
                <i class="fas fa-sort-down"></i>
              </span>
            </button>
          </ul>
          <ul class ="collapse" id="course_datasets"> 
    
        
          
          <ul class="p-2">
            <li class="m-2 list-unstyled"><span class="far fa-file mr-1"></span>
                <a class="course-file" href=/courses/jedha-full-stack-24-program/S1.4%20--%20Deep%20Learning%20-%20CNN%20%26%20NLP/S14-A%20-%20CNN/Exercices/Datasets/femme.csv>femme.csv</a>
            </li>
          </ul>
        
    
    
        
          
          <ul class="p-2">
            <li class="m-2 list-unstyled"><span class="far fa-file mr-1"></span>
                <a class="course-file" href=/courses/jedha-full-stack-24-program/S1.4%20--%20Deep%20Learning%20-%20CNN%20%26%20NLP/S14-A%20-%20CNN/Exercices/Datasets/homme.csv>homme.csv</a>
            </li>
          </ul>
        
    </ul>
        
    </ul>
        
    
    
        
          
          <ul class="p-2">
            <li class="m-2 list-unstyled"><span class="far fa-file mr-1"></span>
                <a class="course-file" href=/courses/jedha-full-stack-24-program/S1.4%20--%20Deep%20Learning%20-%20CNN%20%26%20NLP/S14-A%20-%20CNN/README.md>README.md</a>
            </li>
          </ul>
        
    
    
        
          <ul class="p-0 mt-4">
            <button class="btn m-0 p-0 col-12" data-toggle="collapse" data-target="#course_solutions" role="button" aria-expanded="false" aria-controls="course_solutions">
              
                <span class="pl-5 pr-5 pt-3 pb-3 d-flex flex-row justify-content-between child-folders">
              
                <span>Solutions</span>
                <i class="fas fa-sort-down"></i>
              </span>
            </button>
          </ul>
          <ul class ="collapse" id="course_solutions"> 
    
        
          
          <ul class="p-2">
            <li class="m-2 list-unstyled"><span class="far fa-file mr-1"></span>
                <a class="course-file" href=/courses/jedha-full-stack-24-program/S1.4%20--%20Deep%20Learning%20-%20CNN%20%26%20NLP/S14-A%20-%20CNN/Solutions/1.%20Image%20Recognition.md>1. Image Recognition.md</a>
            </li>
          </ul>
        
    
    
        
          
          <ul class="p-2">
            <li class="m-2 list-unstyled"><span class="far fa-file mr-1"></span>
                <a class="course-file" href=/courses/jedha-full-stack-24-program/S1.4%20--%20Deep%20Learning%20-%20CNN%20%26%20NLP/S14-A%20-%20CNN/Solutions/2.%20FastAi%20from%20local%20files.md>2. FastAi from local files.md</a>
            </li>
          </ul>
        
    
    
        
          
          <ul class="p-2">
            <li class="m-2 list-unstyled"><span class="far fa-file mr-1"></span>
                <a class="course-file" href=/courses/jedha-full-stack-24-program/S1.4%20--%20Deep%20Learning%20-%20CNN%20%26%20NLP/S14-A%20-%20CNN/Solutions/3.%20Segmentation%20with%20FastAi.md>3. Segmentation with FastAi.md</a>
            </li>
          </ul>
        
    </ul>
        
    </ul>
        
    
    
        
          <ul class="p-0 mt-4">
            <button class="btn m-0 p-0 col-12" data-toggle="collapse" data-target="#course_s14-b-nlp" role="button" aria-expanded="false" aria-controls="course_s14-b-nlp">
              
                <span class="pl-5 pr-5 pt-3 pb-3 d-flex flex-row justify-content-between child-folders">
              
                <span>S14-B - NLP</span>
                <i class="fas fa-sort-down"></i>
              </span>
            </button>
          </ul>
          <ul class ="collapse" id="course_s14-b-nlp"> 
    
        
          <ul class="p-0 mt-4">
            <button class="btn m-0 p-0 col-12" data-toggle="collapse" data-target="#course_2exercices" role="button" aria-expanded="false" aria-controls="course_2exercices">
              
                <span class="pl-5 pr-5 pt-3 pb-3 d-flex flex-row justify-content-between parent-folder">
              
                <span>2. Exercices</span>
                <i class="fas fa-sort-down"></i>
              </span>
            </button>
          </ul>
          <ul class ="collapse" id="course_2exercices"> 
    
        
          
          <ul class="p-2">
            <li class="m-2 list-unstyled"><span class="far fa-file mr-1"></span>
                <a class="course-file" href=/courses/jedha-full-stack-24-program/S1.4%20--%20Deep%20Learning%20-%20CNN%20%26%20NLP/S14-B%20-%20NLP/2.%20Exercices/1.%20NLP%20in%20FRENCH%20with%20FastAI.ipynb>1. NLP in FRENCH with FastAI.ipynb</a>
            </li>
          </ul>
        
    
    
        
          
          <ul class="p-2">
            <li class="m-2 list-unstyled"><span class="far fa-file mr-1"></span>
                <a class="course-file" href=/courses/jedha-full-stack-24-program/S1.4%20--%20Deep%20Learning%20-%20CNN%20%26%20NLP/S14-B%20-%20NLP/2.%20Exercices/1.%20NLP%20with%20FastAI.ipynb>1. NLP with FastAI.ipynb</a>
            </li>
          </ul>
        
    </ul>
        
    
    
        
          <ul class="p-0 mt-4">
            <button class="btn m-0 p-0 col-12" data-toggle="collapse" data-target="#course_3solutions" role="button" aria-expanded="false" aria-controls="course_3solutions">
              
                <span class="pl-5 pr-5 pt-3 pb-3 d-flex flex-row justify-content-between child-folders">
              
                <span>3. Solutions</span>
                <i class="fas fa-sort-down"></i>
              </span>
            </button>
          </ul>
          <ul class ="collapse" id="course_3solutions"> 
    
        
          
          <ul class="p-2">
            <li class="m-2 list-unstyled"><span class="far fa-file mr-1"></span>
                <a class="course-file" href=/courses/jedha-full-stack-24-program/S1.4%20--%20Deep%20Learning%20-%20CNN%20%26%20NLP/S14-B%20-%20NLP/3.%20Solutions/1.%20NLP%20in%20FRENCH%20with%20FASTAI.md>1. NLP in FRENCH with FASTAI.md</a>
            </li>
          </ul>
        
    
    
        
          
          <ul class="p-2">
            <li class="m-2 list-unstyled"><span class="far fa-file mr-1"></span>
                <a class="course-file" href=/courses/jedha-full-stack-24-program/S1.4%20--%20Deep%20Learning%20-%20CNN%20%26%20NLP/S14-B%20-%20NLP/3.%20Solutions/1.%20NLP%20with%20FASTAI.md>1. NLP with FASTAI.md</a>
            </li>
          </ul>
        
    </ul>
        
    
    
        
          
          <ul class="p-2">
            <li class="m-2 list-unstyled"><span class="far fa-file mr-1"></span>
                <a class="course-file" href=/courses/jedha-full-stack-24-program/S1.4%20--%20Deep%20Learning%20-%20CNN%20%26%20NLP/S14-B%20-%20NLP/README.md>README.md</a>
            </li>
          </ul>
        
    </ul>
        
    </ul>
        
    
    
        
          <ul class="p-0 mt-4">
            <button class="btn m-0 p-0 col-12" data-toggle="collapse" data-target="#course_s15--deeplearningsurtensorflow20" role="button" aria-expanded="false" aria-controls="course_s15--deeplearningsurtensorflow20">
              
                <span class="pl-5 pr-5 pt-3 pb-3 d-flex flex-row justify-content-between child-folders">
              
                <span>S1.5 -- Deep Learning sur TensorFlow 2.0</span>
                <i class="fas fa-sort-down"></i>
              </span>
            </button>
          </ul>
          <ul class ="collapse" id="course_s15--deeplearningsurtensorflow20"> 
    
        
          <ul class="p-0 mt-4">
            <button class="btn m-0 p-0 col-12" data-toggle="collapse" data-target="#course_s15-a-manipulationdetenseurscréationd&#39;unestructuresimple" role="button" aria-expanded="false" aria-controls="course_s15-a-manipulationdetenseurscréationd&#39;unestructuresimple">
              
                <span class="pl-5 pr-5 pt-3 pb-3 d-flex flex-row justify-content-between parent-folder">
              
                <span>S15-A - Manipulation de tenseurs &amp; Création d&#39;une structure simple</span>
                <i class="fas fa-sort-down"></i>
              </span>
            </button>
          </ul>
          <ul class ="collapse" id="course_s15-a-manipulationdetenseurscréationd&#39;unestructuresimple"> 
    
        
          <ul class="p-0 mt-4">
            <button class="btn m-0 p-0 col-12" data-toggle="collapse" data-target="#course_exercices" role="button" aria-expanded="false" aria-controls="course_exercices">
              
                <span class="pl-5 pr-5 pt-3 pb-3 d-flex flex-row justify-content-between parent-folder">
              
                <span>Exercices</span>
                <i class="fas fa-sort-down"></i>
              </span>
            </button>
          </ul>
          <ul class ="collapse" id="course_exercices"> 
    
        
          
          <ul class="p-2">
            <li class="m-2 list-unstyled"><span class="far fa-file mr-1"></span>
                <a class="course-file" href=/courses/jedha-full-stack-24-program/S1.5%20--%20Deep%20Learning%20sur%20TensorFlow%202.0/S15-A%20-%20Manipulation%20de%20tenseurs%20%26%20Cr%C3%A9ation%20d%27une%20structure%20simple/Exercices/1.%20Manipulations%20de%20Tenseurs%20sur%20TF%202.ipynb>1. Manipulations de Tenseurs sur TF 2.ipynb</a>
            </li>
          </ul>
        
    
    
        
          
          <ul class="p-2">
            <li class="m-2 list-unstyled"><span class="far fa-file mr-1"></span>
                <a class="course-file" href=/courses/jedha-full-stack-24-program/S1.5%20--%20Deep%20Learning%20sur%20TensorFlow%202.0/S15-A%20-%20Manipulation%20de%20tenseurs%20%26%20Cr%C3%A9ation%20d%27une%20structure%20simple/Exercices/2.%20Cats%20%26%20Dogs.ipynb>2. Cats &amp; Dogs.ipynb</a>
            </li>
          </ul>
        
    </ul>
        
    
    
        
          
          <ul class="p-2">
            <li class="m-2 list-unstyled"><span class="far fa-file mr-1"></span>
                <a class="course-file" href=/courses/jedha-full-stack-24-program/S1.5%20--%20Deep%20Learning%20sur%20TensorFlow%202.0/S15-A%20-%20Manipulation%20de%20tenseurs%20%26%20Cr%C3%A9ation%20d%27une%20structure%20simple/Introduction%20Tensorflow%202.ipynb>Introduction Tensorflow 2.ipynb</a>
            </li>
          </ul>
        
    
    
        
          <ul class="p-0 mt-4">
            <button class="btn m-0 p-0 col-12" data-toggle="collapse" data-target="#course_solutions" role="button" aria-expanded="false" aria-controls="course_solutions">
              
                <span class="pl-5 pr-5 pt-3 pb-3 d-flex flex-row justify-content-between child-folders">
              
                <span>Solutions</span>
                <i class="fas fa-sort-down"></i>
              </span>
            </button>
          </ul>
          <ul class ="collapse" id="course_solutions"> 
    
        
          
          <ul class="p-2">
            <li class="m-2 list-unstyled"><span class="far fa-file mr-1"></span>
                <a class="course-file" href=/courses/jedha-full-stack-24-program/S1.5%20--%20Deep%20Learning%20sur%20TensorFlow%202.0/S15-A%20-%20Manipulation%20de%20tenseurs%20%26%20Cr%C3%A9ation%20d%27une%20structure%20simple/Solutions/1.%20Manipulations%20de%20Tenseurs%20sur%20TF%202.md>1. Manipulations de Tenseurs sur TF 2.md</a>
            </li>
          </ul>
        
    
    
        
          
          <ul class="p-2">
            <li class="m-2 list-unstyled"><span class="far fa-file mr-1"></span>
                <a class="course-file" href=/courses/jedha-full-stack-24-program/S1.5%20--%20Deep%20Learning%20sur%20TensorFlow%202.0/S15-A%20-%20Manipulation%20de%20tenseurs%20%26%20Cr%C3%A9ation%20d%27une%20structure%20simple/Solutions/2.%20Cats%20%26%20Dogs.md>2. Cats &amp; Dogs.md</a>
            </li>
          </ul>
        
    </ul>
        
    </ul>
        
    
    
        
          <ul class="p-0 mt-4">
            <button class="btn m-0 p-0 col-12" data-toggle="collapse" data-target="#course_s15-b-transferlearningsurtensorflow20" role="button" aria-expanded="false" aria-controls="course_s15-b-transferlearningsurtensorflow20">
              
                <span class="pl-5 pr-5 pt-3 pb-3 d-flex flex-row justify-content-between child-folders">
              
                <span>S15-B - Transfer Learning sur TensorFlow 2.0</span>
                <i class="fas fa-sort-down"></i>
              </span>
            </button>
          </ul>
          <ul class ="collapse" id="course_s15-b-transferlearningsurtensorflow20"> 
    
        
          <ul class="p-0 mt-4">
            <button class="btn m-0 p-0 col-12" data-toggle="collapse" data-target="#course_exercices" role="button" aria-expanded="false" aria-controls="course_exercices">
              
                <span class="pl-5 pr-5 pt-3 pb-3 d-flex flex-row justify-content-between parent-folder">
              
                <span>Exercices</span>
                <i class="fas fa-sort-down"></i>
              </span>
            </button>
          </ul>
          <ul class ="collapse" id="course_exercices"> 
    
        
          
          <ul class="p-2">
            <li class="m-2 list-unstyled"><span class="far fa-file mr-1"></span>
                <a class="course-file" href=/courses/jedha-full-stack-24-program/S1.5%20--%20Deep%20Learning%20sur%20TensorFlow%202.0/S15-B%20-%20Transfer%20Learning%20sur%20TensorFlow%202.0/Exercices/1.%20Cifar10%20with%20ResNet50.ipynb>1. Cifar10 with ResNet50.ipynb</a>
            </li>
          </ul>
        
    
    
        
          
          <ul class="p-2">
            <li class="m-2 list-unstyled"><span class="far fa-file mr-1"></span>
                <a class="course-file" href=/courses/jedha-full-stack-24-program/S1.5%20--%20Deep%20Learning%20sur%20TensorFlow%202.0/S15-B%20-%20Transfer%20Learning%20sur%20TensorFlow%202.0/Exercices/2.%20Caltech101.ipynb>2. Caltech101.ipynb</a>
            </li>
          </ul>
        
    </ul>
        
    
    
        
          <ul class="p-0 mt-4">
            <button class="btn m-0 p-0 col-12" data-toggle="collapse" data-target="#course_solutions" role="button" aria-expanded="false" aria-controls="course_solutions">
              
                <span class="pl-5 pr-5 pt-3 pb-3 d-flex flex-row justify-content-between child-folders">
              
                <span>Solutions</span>
                <i class="fas fa-sort-down"></i>
              </span>
            </button>
          </ul>
          <ul class ="collapse" id="course_solutions"> 
    
        
          
          <ul class="p-2">
            <li class="m-2 list-unstyled"><span class="far fa-file mr-1"></span>
                <a class="course-file" href=/courses/jedha-full-stack-24-program/S1.5%20--%20Deep%20Learning%20sur%20TensorFlow%202.0/S15-B%20-%20Transfer%20Learning%20sur%20TensorFlow%202.0/Solutions/1.%20Cifar10%20with%20ResNet50.md>1. Cifar10 with ResNet50.md</a>
            </li>
          </ul>
        
    
    
        
          
          <ul class="p-2">
            <li class="m-2 list-unstyled"><span class="far fa-file mr-1"></span>
                <a class="course-file" href=/courses/jedha-full-stack-24-program/S1.5%20--%20Deep%20Learning%20sur%20TensorFlow%202.0/S15-B%20-%20Transfer%20Learning%20sur%20TensorFlow%202.0/Solutions/2.%20Caltech101.md>2. Caltech101.md</a>
            </li>
          </ul>
        
    </ul>
        
    
    
        
          
          <ul class="p-2">
            <li class="m-2 list-unstyled"><span class="far fa-file mr-1"></span>
                <a class="course-file" href=/courses/jedha-full-stack-24-program/S1.5%20--%20Deep%20Learning%20sur%20TensorFlow%202.0/S15-B%20-%20Transfer%20Learning%20sur%20TensorFlow%202.0/Transfer%20Learning%20%26%20Fine%20Tuning.ipynb>Transfer Learning &amp; Fine Tuning.ipynb</a>
            </li>
          </ul>
        
    </ul>
        
    </ul>
        
    
    
        
          <ul class="p-0 mt-4">
            <button class="btn m-0 p-0 col-12" data-toggle="collapse" data-target="#course_s16--deeplearning-customtrainingprojetobjectdetectionwithyolov3" role="button" aria-expanded="false" aria-controls="course_s16--deeplearning-customtrainingprojetobjectdetectionwithyolov3">
              
                <span class="pl-5 pr-5 pt-3 pb-3 d-flex flex-row justify-content-between child-folders">
              
                <span>S1.6 -- Deep Learning - Custom Training &amp; Projet OBJECT DETECTION WITH YOLOV3</span>
                <i class="fas fa-sort-down"></i>
              </span>
            </button>
          </ul>
          <ul class ="collapse" id="course_s16--deeplearning-customtrainingprojetobjectdetectionwithyolov3"> 
    
        
          <ul class="p-0 mt-4">
            <button class="btn m-0 p-0 col-12" data-toggle="collapse" data-target="#course_s16-a-customtraining" role="button" aria-expanded="false" aria-controls="course_s16-a-customtraining">
              
                <span class="pl-5 pr-5 pt-3 pb-3 d-flex flex-row justify-content-between parent-folder">
              
                <span>S16-A - Custom Training</span>
                <i class="fas fa-sort-down"></i>
              </span>
            </button>
          </ul>
          <ul class ="collapse" id="course_s16-a-customtraining"> 
    
        
          
          <ul class="p-2">
            <li class="m-2 list-unstyled"><span class="far fa-file mr-1"></span>
                <a class="course-file" href=/courses/jedha-full-stack-24-program/S1.6%20--%20Deep%20Learning%20-%20Custom%20Training%20%26%20Projet%20OBJECT%20DETECTION%20WITH%20YOLOV3/S16-A%20-%20Custom%20Training/1.%20Introduction%20NLP%20with%20Tensorflow.ipynb>1. Introduction NLP with Tensorflow.ipynb</a>
            </li>
          </ul>
        
    
    
        
          
          <ul class="p-2">
            <li class="m-2 list-unstyled"><span class="far fa-file mr-1"></span>
                <a class="course-file" href=/courses/jedha-full-stack-24-program/S1.6%20--%20Deep%20Learning%20-%20Custom%20Training%20%26%20Projet%20OBJECT%20DETECTION%20WITH%20YOLOV3/S16-A%20-%20Custom%20Training/2.%20Custom%20Training%20with%20Tensorflow%202.0.ipynb>2. Custom Training with Tensorflow 2.0.ipynb</a>
            </li>
          </ul>
        
    
    
        
          
          <ul class="p-2">
            <li class="m-2 list-unstyled"><span class="far fa-file mr-1"></span>
                <a class="course-file" href=/courses/jedha-full-stack-24-program/S1.6%20--%20Deep%20Learning%20-%20Custom%20Training%20%26%20Projet%20OBJECT%20DETECTION%20WITH%20YOLOV3/S16-A%20-%20Custom%20Training/Custom%20Training%20with%20Tensorflow%202.0.ipynb>Custom Training with Tensorflow 2.0.ipynb</a>
            </li>
          </ul>
        
    
    
        
          <ul class="p-0 mt-4">
            <button class="btn m-0 p-0 col-12" data-toggle="collapse" data-target="#course_exercices" role="button" aria-expanded="false" aria-controls="course_exercices">
              
                <span class="pl-5 pr-5 pt-3 pb-3 d-flex flex-row justify-content-between child-folders">
              
                <span>Exercices</span>
                <i class="fas fa-sort-down"></i>
              </span>
            </button>
          </ul>
          <ul class ="collapse" id="course_exercices"> 
    
        
          
          <ul class="p-2">
            <li class="m-2 list-unstyled"><span class="far fa-file mr-1"></span>
                <a class="course-file" href=/courses/jedha-full-stack-24-program/S1.6%20--%20Deep%20Learning%20-%20Custom%20Training%20%26%20Projet%20OBJECT%20DETECTION%20WITH%20YOLOV3/S16-A%20-%20Custom%20Training/Exercices/0.%20Sentiment%20Analysis.ipynb>0. Sentiment Analysis.ipynb</a>
            </li>
          </ul>
        
    
    
        
          
          <ul class="p-2">
            <li class="m-2 list-unstyled"><span class="far fa-file mr-1"></span>
                <a class="course-file" href=/courses/jedha-full-stack-24-program/S1.6%20--%20Deep%20Learning%20-%20Custom%20Training%20%26%20Projet%20OBJECT%20DETECTION%20WITH%20YOLOV3/S16-A%20-%20Custom%20Training/Exercices/1.%20Custom%20Traing%20with%20Iris.ipynb>1. Custom Traing with Iris.ipynb</a>
            </li>
          </ul>
        
    
    
        
          
          <ul class="p-2">
            <li class="m-2 list-unstyled"><span class="far fa-file mr-1"></span>
                <a class="course-file" href=/courses/jedha-full-stack-24-program/S1.6%20--%20Deep%20Learning%20-%20Custom%20Training%20%26%20Projet%20OBJECT%20DETECTION%20WITH%20YOLOV3/S16-A%20-%20Custom%20Training/Exercices/2.%20Introduction%20aux%20GAN.ipynb>2. Introduction aux GAN.ipynb</a>
            </li>
          </ul>
        
    </ul>
        
    
    
        
          <ul class="p-0 mt-4">
            <button class="btn m-0 p-0 col-12" data-toggle="collapse" data-target="#course_solutions" role="button" aria-expanded="false" aria-controls="course_solutions">
              
                <span class="pl-5 pr-5 pt-3 pb-3 d-flex flex-row justify-content-between child-folders">
              
                <span>Solutions</span>
                <i class="fas fa-sort-down"></i>
              </span>
            </button>
          </ul>
          <ul class ="collapse" id="course_solutions"> 
    
        
          
          <ul class="p-2">
            <li class="m-2 list-unstyled"><span class="far fa-file mr-1"></span>
                <a class="course-file" href=/courses/jedha-full-stack-24-program/S1.6%20--%20Deep%20Learning%20-%20Custom%20Training%20%26%20Projet%20OBJECT%20DETECTION%20WITH%20YOLOV3/S16-A%20-%20Custom%20Training/Solutions/0.%20Sentiment%20Analysis.md>0. Sentiment Analysis.md</a>
            </li>
          </ul>
        
    
    
        
          
          <ul class="p-2">
            <li class="m-2 list-unstyled"><span class="far fa-file mr-1"></span>
                <a class="course-file" href=/courses/jedha-full-stack-24-program/S1.6%20--%20Deep%20Learning%20-%20Custom%20Training%20%26%20Projet%20OBJECT%20DETECTION%20WITH%20YOLOV3/S16-A%20-%20Custom%20Training/Solutions/1.%20Custom%20Training%20with%20Iris.md>1. Custom Training with Iris.md</a>
            </li>
          </ul>
        
    
    
        
          
          <ul class="p-2">
            <li class="m-2 list-unstyled"><span class="far fa-file mr-1"></span>
                <a class="course-file" href=/courses/jedha-full-stack-24-program/S1.6%20--%20Deep%20Learning%20-%20Custom%20Training%20%26%20Projet%20OBJECT%20DETECTION%20WITH%20YOLOV3/S16-A%20-%20Custom%20Training/Solutions/2.%20Introduction%20aux%20GAN.md>2. Introduction aux GAN.md</a>
            </li>
          </ul>
        
    </ul>
        
    </ul>
        
    
    
        
          <ul class="p-0 mt-4">
            <button class="btn m-0 p-0 col-12" data-toggle="collapse" data-target="#course_s16-b-projet-yolov3" role="button" aria-expanded="false" aria-controls="course_s16-b-projet-yolov3">
              
                <span class="pl-5 pr-5 pt-3 pb-3 d-flex flex-row justify-content-between child-folders">
              
                <span>S16-B - Projet - YOLOV3</span>
                <i class="fas fa-sort-down"></i>
              </span>
            </button>
          </ul>
          <ul class ="collapse" id="course_s16-b-projet-yolov3"> 
    
        
          
          <ul class="p-2">
            <li class="m-2 list-unstyled"><span class="far fa-file mr-1"></span>
                <a class="course-file" href=/courses/jedha-full-stack-24-program/S1.6%20--%20Deep%20Learning%20-%20Custom%20Training%20%26%20Projet%20OBJECT%20DETECTION%20WITH%20YOLOV3/S16-B%20-%20Projet%20-%20YOLOV3/OBJECT%20DETECTION%20-%20SOLUTIONS.md>OBJECT DETECTION - SOLUTIONS.md</a>
            </li>
          </ul>
        
    
    
        
          
          <ul class="p-2">
            <li class="m-2 list-unstyled"><span class="far fa-file mr-1"></span>
                <a class="course-file" href=/courses/jedha-full-stack-24-program/S1.6%20--%20Deep%20Learning%20-%20Custom%20Training%20%26%20Projet%20OBJECT%20DETECTION%20WITH%20YOLOV3/S16-B%20-%20Projet%20-%20YOLOV3/README.md>README.md</a>
            </li>
          </ul>
        
    </ul>
        
    </ul>
        
    
    
        
          <ul class="p-0 mt-4">
            <button class="btn m-0 p-0 col-12" data-toggle="collapse" data-target="#course_s17--webscrappingsurbeautifulsoupselenium" role="button" aria-expanded="false" aria-controls="course_s17--webscrappingsurbeautifulsoupselenium">
              
                <span class="pl-5 pr-5 pt-3 pb-3 d-flex flex-row justify-content-between child-folders">
              
                <span>S1.7 -- Web Scrapping sur BeautifulSoup &amp; Selenium</span>
                <i class="fas fa-sort-down"></i>
              </span>
            </button>
          </ul>
          <ul class ="collapse" id="course_s17--webscrappingsurbeautifulsoupselenium"> 
    
        
          <ul class="p-0 mt-4">
            <button class="btn m-0 p-0 col-12" data-toggle="collapse" data-target="#course_s17-a-htmlcssbeautifulsoup" role="button" aria-expanded="false" aria-controls="course_s17-a-htmlcssbeautifulsoup">
              
                <span class="pl-5 pr-5 pt-3 pb-3 d-flex flex-row justify-content-between parent-folder">
              
                <span>S17-A - HTML, CSS &amp; BeautifulSoup</span>
                <i class="fas fa-sort-down"></i>
              </span>
            </button>
          </ul>
          <ul class ="collapse" id="course_s17-a-htmlcssbeautifulsoup"> 
    
        
          <ul class="p-0 mt-4">
            <button class="btn m-0 p-0 col-12" data-toggle="collapse" data-target="#course_rappelshtmlcss" role="button" aria-expanded="false" aria-controls="course_rappelshtmlcss">
              
                <span class="pl-5 pr-5 pt-3 pb-3 d-flex flex-row justify-content-between parent-folder">
              
                <span>Rappels HTML &amp; CSS</span>
                <i class="fas fa-sort-down"></i>
              </span>
            </button>
          </ul>
          <ul class ="collapse" id="course_rappelshtmlcss"> 
    
        
          
          <ul class="p-2">
            <li class="m-2 list-unstyled"><span class="far fa-file mr-1"></span>
                <a class="course-file" href=/courses/jedha-full-stack-24-program/S1.7%20--%20Web%20Scrapping%20sur%20BeautifulSoup%20%26%20Selenium/S17-A%20-%20HTML%2C%20CSS%20%26%20BeautifulSoup/Rappels%20HTML%20%26%20CSS/2.%20API%20%26%20Web%20Scrapping%20-%20Exercices%20S7-1A.md>2. API &amp; Web Scrapping - Exercices S7-1A.md</a>
            </li>
          </ul>
        
    
    
        
          
          <ul class="p-2">
            <li class="m-2 list-unstyled"><span class="far fa-file mr-1"></span>
                <a class="course-file" href=/courses/jedha-full-stack-24-program/S1.7%20--%20Web%20Scrapping%20sur%20BeautifulSoup%20%26%20Selenium/S17-A%20-%20HTML%2C%20CSS%20%26%20BeautifulSoup/Rappels%20HTML%20%26%20CSS/README.md>README.md</a>
            </li>
          </ul>
        
    </ul>
        
    
    
        
          <ul class="p-0 mt-4">
            <button class="btn m-0 p-0 col-12" data-toggle="collapse" data-target="#course_scrappingavecbeautifulsoup" role="button" aria-expanded="false" aria-controls="course_scrappingavecbeautifulsoup">
              
                <span class="pl-5 pr-5 pt-3 pb-3 d-flex flex-row justify-content-between child-folders">
              
                <span>Scrapping avec BeautifulSoup</span>
                <i class="fas fa-sort-down"></i>
              </span>
            </button>
          </ul>
          <ul class ="collapse" id="course_scrappingavecbeautifulsoup"> 
    
        
          
          <ul class="p-2">
            <li class="m-2 list-unstyled"><span class="far fa-file mr-1"></span>
                <a class="course-file" href=/courses/jedha-full-stack-24-program/S1.7%20--%20Web%20Scrapping%20sur%20BeautifulSoup%20%26%20Selenium/S17-A%20-%20HTML%2C%20CSS%20%26%20BeautifulSoup/Scrapping%20avec%20BeautifulSoup/2.%20API%20%26%20Web%20Scrapping%20-%20Exercices.md>2. API &amp; Web Scrapping - Exercices.md</a>
            </li>
          </ul>
        
    
    
        
          
          <ul class="p-2">
            <li class="m-2 list-unstyled"><span class="far fa-file mr-1"></span>
                <a class="course-file" href=/courses/jedha-full-stack-24-program/S1.7%20--%20Web%20Scrapping%20sur%20BeautifulSoup%20%26%20Selenium/S17-A%20-%20HTML%2C%20CSS%20%26%20BeautifulSoup/Scrapping%20avec%20BeautifulSoup/3.%20API%20%26%20Web%20Scrapping%20-%20SOLUTIONS.md>3. API &amp; Web Scrapping - SOLUTIONS.md</a>
            </li>
          </ul>
        
    
    
        
          
          <ul class="p-2">
            <li class="m-2 list-unstyled"><span class="far fa-file mr-1"></span>
                <a class="course-file" href=/courses/jedha-full-stack-24-program/S1.7%20--%20Web%20Scrapping%20sur%20BeautifulSoup%20%26%20Selenium/S17-A%20-%20HTML%2C%20CSS%20%26%20BeautifulSoup/Scrapping%20avec%20BeautifulSoup/README.md>README.md</a>
            </li>
          </ul>
        
    </ul>
        
    </ul>
        
    
    
        
          <ul class="p-0 mt-4">
            <button class="btn m-0 p-0 col-12" data-toggle="collapse" data-target="#course_s17-b-utilisationdeseleniumsurlinkedin" role="button" aria-expanded="false" aria-controls="course_s17-b-utilisationdeseleniumsurlinkedin">
              
                <span class="pl-5 pr-5 pt-3 pb-3 d-flex flex-row justify-content-between child-folders">
              
                <span>S17-B - Utilisation de Selenium sur LinkedIn</span>
                <i class="fas fa-sort-down"></i>
              </span>
            </button>
          </ul>
          <ul class ="collapse" id="course_s17-b-utilisationdeseleniumsurlinkedin"> 
    
        
          <ul class="p-0 mt-4">
            <button class="btn m-0 p-0 col-12" data-toggle="collapse" data-target="#course_exercices" role="button" aria-expanded="false" aria-controls="course_exercices">
              
                <span class="pl-5 pr-5 pt-3 pb-3 d-flex flex-row justify-content-between parent-folder">
              
                <span>Exercices</span>
                <i class="fas fa-sort-down"></i>
              </span>
            </button>
          </ul>
          <ul class ="collapse" id="course_exercices"> 
    
        
          
          <ul class="p-2">
            <li class="m-2 list-unstyled"><span class="far fa-file mr-1"></span>
                <a class="course-file" href=/courses/jedha-full-stack-24-program/S1.7%20--%20Web%20Scrapping%20sur%20BeautifulSoup%20%26%20Selenium/S17-B%20-%20Utilisation%20de%20Selenium%20sur%20LinkedIn/Exercices/1.%20Hacker%20LinkedIn%20pour%20sa%20recherche%20de%20Job.md>1. Hacker LinkedIn pour sa recherche de Job.md</a>
            </li>
          </ul>
        
    
    
        
          
          <ul class="p-2">
            <li class="m-2 list-unstyled"><span class="far fa-file mr-1"></span>
                <a class="course-file" href=/courses/jedha-full-stack-24-program/S1.7%20--%20Web%20Scrapping%20sur%20BeautifulSoup%20%26%20Selenium/S17-B%20-%20Utilisation%20de%20Selenium%20sur%20LinkedIn/Exercices/2.%20Hacker%20LinkedIn%20pour%20sa%20recherche%20de%20Job.md>2. Hacker LinkedIn pour sa recherche de Job.md</a>
            </li>
          </ul>
        
    </ul>
        
    
    
        
          
          <ul class="p-2">
            <li class="m-2 list-unstyled"><span class="far fa-file mr-1"></span>
                <a class="course-file" href=/courses/jedha-full-stack-24-program/S1.7%20--%20Web%20Scrapping%20sur%20BeautifulSoup%20%26%20Selenium/S17-B%20-%20Utilisation%20de%20Selenium%20sur%20LinkedIn/README.md>README.md</a>
            </li>
          </ul>
        
    
    
        
          <ul class="p-0 mt-4">
            <button class="btn m-0 p-0 col-12" data-toggle="collapse" data-target="#course_solutions" role="button" aria-expanded="false" aria-controls="course_solutions">
              
                <span class="pl-5 pr-5 pt-3 pb-3 d-flex flex-row justify-content-between child-folders">
              
                <span>Solutions</span>
                <i class="fas fa-sort-down"></i>
              </span>
            </button>
          </ul>
          <ul class ="collapse" id="course_solutions"> 
    
        
          
          <ul class="p-2">
            <li class="m-2 list-unstyled"><span class="far fa-file mr-1"></span>
                <a class="course-file" href=/courses/jedha-full-stack-24-program/S1.7%20--%20Web%20Scrapping%20sur%20BeautifulSoup%20%26%20Selenium/S17-B%20-%20Utilisation%20de%20Selenium%20sur%20LinkedIn/Solutions/1.%20Ajout%20de%20personnes%20via%20recherche.md>1. Ajout de personnes via recherche.md</a>
            </li>
          </ul>
        
    
    
        
          
          <ul class="p-2">
            <li class="m-2 list-unstyled"><span class="far fa-file mr-1"></span>
                <a class="course-file" href=/courses/jedha-full-stack-24-program/S1.7%20--%20Web%20Scrapping%20sur%20BeautifulSoup%20%26%20Selenium/S17-B%20-%20Utilisation%20de%20Selenium%20sur%20LinkedIn/Solutions/2.%20Ajout%20de%20personnes%20via%20fichier.md>2. Ajout de personnes via fichier.md</a>
            </li>
          </ul>
        
    </ul>
        
    </ul>
        
    </ul>
        
    
    
        
          <ul class="p-0 mt-4">
            <button class="btn m-0 p-0 col-12" data-toggle="collapse" data-target="#course_s18--webdevelopmentsurflask" role="button" aria-expanded="false" aria-controls="course_s18--webdevelopmentsurflask">
              
                <span class="pl-5 pr-5 pt-3 pb-3 d-flex flex-row justify-content-between child-folders">
              
                <span>S1.8 -- Web Development sur Flask</span>
                <i class="fas fa-sort-down"></i>
              </span>
            </button>
          </ul>
          <ul class ="collapse" id="course_s18--webdevelopmentsurflask"> 
    
        
          <ul class="p-0 mt-4">
            <button class="btn m-0 p-0 col-12" data-toggle="collapse" data-target="#course_s18-a-introductionàflask" role="button" aria-expanded="false" aria-controls="course_s18-a-introductionàflask">
              
                <span class="pl-5 pr-5 pt-3 pb-3 d-flex flex-row justify-content-between parent-folder">
              
                <span>S18-A - Introduction à FLASK</span>
                <i class="fas fa-sort-down"></i>
              </span>
            </button>
          </ul>
          <ul class ="collapse" id="course_s18-a-introductionàflask"> 
    
        
          
          <ul class="p-2">
            <li class="m-2 list-unstyled"><span class="far fa-file mr-1"></span>
                <a class="course-file" href=/courses/jedha-full-stack-24-program/S1.8%20--%20Web%20Development%20sur%20Flask/S18-A%20-%20Introduction%20%C3%A0%20FLASK/2.%20Introduction%20%C3%A0%20FLASK%20-%20Exercices.md>2. Introduction à FLASK - Exercices.md</a>
            </li>
          </ul>
        
    
    
        
          <ul class="p-0 mt-4">
            <button class="btn m-0 p-0 col-12" data-toggle="collapse" data-target="#course_mapremièreapplicationflask-solution" role="button" aria-expanded="false" aria-controls="course_mapremièreapplicationflask-solution">
              
                <span class="pl-5 pr-5 pt-3 pb-3 d-flex flex-row justify-content-between child-folders">
              
                <span>Ma première application FLASK - SOLUTION</span>
                <i class="fas fa-sort-down"></i>
              </span>
            </button>
          </ul>
          <ul class ="collapse" id="course_mapremièreapplicationflask-solution"> 
    
        
          
          <ul class="p-2">
            <li class="m-2 list-unstyled"><span class="far fa-file mr-1"></span>
                <a class="course-file" href=/courses/jedha-full-stack-24-program/S1.8%20--%20Web%20Development%20sur%20Flask/S18-A%20-%20Introduction%20%C3%A0%20FLASK/Ma%20premi%C3%A8re%20application%20FLASK%20-%20SOLUTION/app.py>app.py</a>
            </li>
          </ul>
        
    
    
        
          <ul class="p-0 mt-4">
            <button class="btn m-0 p-0 col-12" data-toggle="collapse" data-target="#course_static" role="button" aria-expanded="false" aria-controls="course_static">
              
                <span class="pl-5 pr-5 pt-3 pb-3 d-flex flex-row justify-content-between child-folders">
              
                <span>static</span>
                <i class="fas fa-sort-down"></i>
              </span>
            </button>
          </ul>
          <ul class ="collapse" id="course_static"> 
    
        
          
          <ul class="p-2">
            <li class="m-2 list-unstyled"><span class="far fa-file mr-1"></span>
                <a class="course-file" href=/courses/jedha-full-stack-24-program/S1.8%20--%20Web%20Development%20sur%20Flask/S18-A%20-%20Introduction%20%C3%A0%20FLASK/Ma%20premi%C3%A8re%20application%20FLASK%20-%20SOLUTION/static/animations.js>animations.js</a>
            </li>
          </ul>
        
    
    
        
          
          <ul class="p-2">
            <li class="m-2 list-unstyled"><span class="far fa-file mr-1"></span>
                <a class="course-file" href=/courses/jedha-full-stack-24-program/S1.8%20--%20Web%20Development%20sur%20Flask/S18-A%20-%20Introduction%20%C3%A0%20FLASK/Ma%20premi%C3%A8re%20application%20FLASK%20-%20SOLUTION/static/style.css>style.css</a>
            </li>
          </ul>
        
    </ul>
        
    
    
        
          <ul class="p-0 mt-4">
            <button class="btn m-0 p-0 col-12" data-toggle="collapse" data-target="#course_templates" role="button" aria-expanded="false" aria-controls="course_templates">
              
                <span class="pl-5 pr-5 pt-3 pb-3 d-flex flex-row justify-content-between child-folders">
              
                <span>templates</span>
                <i class="fas fa-sort-down"></i>
              </span>
            </button>
          </ul>
          <ul class ="collapse" id="course_templates"> 
    
        
          
          <ul class="p-2">
            <li class="m-2 list-unstyled"><span class="far fa-file mr-1"></span>
                <a class="course-file" href=/courses/jedha-full-stack-24-program/S1.8%20--%20Web%20Development%20sur%20Flask/S18-A%20-%20Introduction%20%C3%A0%20FLASK/Ma%20premi%C3%A8re%20application%20FLASK%20-%20SOLUTION/templates/index.html>index.html</a>
            </li>
          </ul>
        
    
    
        
          
          <ul class="p-2">
            <li class="m-2 list-unstyled"><span class="far fa-file mr-1"></span>
                <a class="course-file" href=/courses/jedha-full-stack-24-program/S1.8%20--%20Web%20Development%20sur%20Flask/S18-A%20-%20Introduction%20%C3%A0%20FLASK/Ma%20premi%C3%A8re%20application%20FLASK%20-%20SOLUTION/templates/layout.html>layout.html</a>
            </li>
          </ul>
        
    </ul>
        
    </ul>
        
    
    
        
          
          <ul class="p-2">
            <li class="m-2 list-unstyled"><span class="far fa-file mr-1"></span>
                <a class="course-file" href=/courses/jedha-full-stack-24-program/S1.8%20--%20Web%20Development%20sur%20Flask/S18-A%20-%20Introduction%20%C3%A0%20FLASK/README.md>README.md</a>
            </li>
          </ul>
        
    </ul>
        
    
    
        
          <ul class="p-0 mt-4">
            <button class="btn m-0 p-0 col-12" data-toggle="collapse" data-target="#course_s18-b-machinelearningflask" role="button" aria-expanded="false" aria-controls="course_s18-b-machinelearningflask">
              
                <span class="pl-5 pr-5 pt-3 pb-3 d-flex flex-row justify-content-between child-folders">
              
                <span>S18-B - Machine Learning &amp; FLASK</span>
                <i class="fas fa-sort-down"></i>
              </span>
            </button>
          </ul>
          <ul class ="collapse" id="course_s18-b-machinelearningflask"> 
    
        
          
          <ul class="p-2">
            <li class="m-2 list-unstyled"><span class="far fa-file mr-1"></span>
                <a class="course-file" href=/courses/jedha-full-stack-24-program/S1.8%20--%20Web%20Development%20sur%20Flask/S18-B%20-%20Machine%20Learning%20%26%20FLASK/1.%20Machine%20Learning%20%26%20FLASK%20-%20Exercices.md>1. Machine Learning &amp; FLASK - Exercices.md</a>
            </li>
          </ul>
        
    
    
        
          <ul class="p-0 mt-4">
            <button class="btn m-0 p-0 col-12" data-toggle="collapse" data-target="#course_fashionimgclassificationapi-solution" role="button" aria-expanded="false" aria-controls="course_fashionimgclassificationapi-solution">
              
                <span class="pl-5 pr-5 pt-3 pb-3 d-flex flex-row justify-content-between child-folders">
              
                <span>Fashion Img Classification API - SOLUTION</span>
                <i class="fas fa-sort-down"></i>
              </span>
            </button>
          </ul>
          <ul class ="collapse" id="course_fashionimgclassificationapi-solution"> 
    
        
          
          <ul class="p-2">
            <li class="m-2 list-unstyled"><span class="far fa-file mr-1"></span>
                <a class="course-file" href=/courses/jedha-full-stack-24-program/S1.8%20--%20Web%20Development%20sur%20Flask/S18-B%20-%20Machine%20Learning%20%26%20FLASK/Fashion%20Img%20Classification%20API%20-%20SOLUTION/FashionMNIST_img_classification.ipynb>FashionMNIST_img_classification.ipynb</a>
            </li>
          </ul>
        
    
    
        
          
          <ul class="p-2">
            <li class="m-2 list-unstyled"><span class="far fa-file mr-1"></span>
                <a class="course-file" href=/courses/jedha-full-stack-24-program/S1.8%20--%20Web%20Development%20sur%20Flask/S18-B%20-%20Machine%20Learning%20%26%20FLASK/Fashion%20Img%20Classification%20API%20-%20SOLUTION/README.md>README.md</a>
            </li>
          </ul>
        
    
    
        
          
          <ul class="p-2">
            <li class="m-2 list-unstyled"><span class="far fa-file mr-1"></span>
                <a class="course-file" href=/courses/jedha-full-stack-24-program/S1.8%20--%20Web%20Development%20sur%20Flask/S18-B%20-%20Machine%20Learning%20%26%20FLASK/Fashion%20Img%20Classification%20API%20-%20SOLUTION/app.py>app.py</a>
            </li>
          </ul>
        
    
    
        
          
          <ul class="p-2">
            <li class="m-2 list-unstyled"><span class="far fa-file mr-1"></span>
                <a class="course-file" href=/courses/jedha-full-stack-24-program/S1.8%20--%20Web%20Development%20sur%20Flask/S18-B%20-%20Machine%20Learning%20%26%20FLASK/Fashion%20Img%20Classification%20API%20-%20SOLUTION/fashionMnist.h5>fashionMnist.h5</a>
            </li>
          </ul>
        
    
    
        
          
          <ul class="p-2">
            <li class="m-2 list-unstyled"><span class="far fa-file mr-1"></span>
                <a class="course-file" href=/courses/jedha-full-stack-24-program/S1.8%20--%20Web%20Development%20sur%20Flask/S18-B%20-%20Machine%20Learning%20%26%20FLASK/Fashion%20Img%20Classification%20API%20-%20SOLUTION/requirements.txt>requirements.txt</a>
            </li>
          </ul>
        
    
    
        
          <ul class="p-0 mt-4">
            <button class="btn m-0 p-0 col-12" data-toggle="collapse" data-target="#course_uploads" role="button" aria-expanded="false" aria-controls="course_uploads">
              
                <span class="pl-5 pr-5 pt-3 pb-3 d-flex flex-row justify-content-between child-folders">
              
                <span>uploads</span>
                <i class="fas fa-sort-down"></i>
              </span>
            </button>
          </ul>
          <ul class ="collapse" id="course_uploads"> 
    
        
          
          <ul class="p-2">
            <li class="m-2 list-unstyled"><span class="far fa-file mr-1"></span>
                <a class="course-file" href=/courses/jedha-full-stack-24-program/S1.8%20--%20Web%20Development%20sur%20Flask/S18-B%20-%20Machine%20Learning%20%26%20FLASK/Fashion%20Img%20Classification%20API%20-%20SOLUTION/uploads/Screenshot_2019-06-06_at_10.42.28.png>Screenshot_2019-06-06_at_10.42.28.png</a>
            </li>
          </ul>
        
    
    
        
          
          <ul class="p-2">
            <li class="m-2 list-unstyled"><span class="far fa-file mr-1"></span>
                <a class="course-file" href=/courses/jedha-full-stack-24-program/S1.8%20--%20Web%20Development%20sur%20Flask/S18-B%20-%20Machine%20Learning%20%26%20FLASK/Fashion%20Img%20Classification%20API%20-%20SOLUTION/uploads/kadinsky-turtle.png>kadinsky-turtle.png</a>
            </li>
          </ul>
        
    </ul>
        
    </ul>
        
    
    
        
          <ul class="p-0 mt-4">
            <button class="btn m-0 p-0 col-12" data-toggle="collapse" data-target="#course_linearregression-solution" role="button" aria-expanded="false" aria-controls="course_linearregression-solution">
              
                <span class="pl-5 pr-5 pt-3 pb-3 d-flex flex-row justify-content-between child-folders">
              
                <span>Linear Regression - SOLUTION</span>
                <i class="fas fa-sort-down"></i>
              </span>
            </button>
          </ul>
          <ul class ="collapse" id="course_linearregression-solution"> 
    
        
          
          <ul class="p-2">
            <li class="m-2 list-unstyled"><span class="far fa-file mr-1"></span>
                <a class="course-file" href=/courses/jedha-full-stack-24-program/S1.8%20--%20Web%20Development%20sur%20Flask/S18-B%20-%20Machine%20Learning%20%26%20FLASK/Linear%20Regression%20-%20SOLUTION/app.py>app.py</a>
            </li>
          </ul>
        
    
    
        
          
          <ul class="p-2">
            <li class="m-2 list-unstyled"><span class="far fa-file mr-1"></span>
                <a class="course-file" href=/courses/jedha-full-stack-24-program/S1.8%20--%20Web%20Development%20sur%20Flask/S18-B%20-%20Machine%20Learning%20%26%20FLASK/Linear%20Regression%20-%20SOLUTION/linear_regression_model.pkl>linear_regression_model.pkl</a>
            </li>
          </ul>
        
    
    
        
          
          <ul class="p-2">
            <li class="m-2 list-unstyled"><span class="far fa-file mr-1"></span>
                <a class="course-file" href=/courses/jedha-full-stack-24-program/S1.8%20--%20Web%20Development%20sur%20Flask/S18-B%20-%20Machine%20Learning%20%26%20FLASK/Linear%20Regression%20-%20SOLUTION/prediction.py>prediction.py</a>
            </li>
          </ul>
        
    
    
        
          <ul class="p-0 mt-4">
            <button class="btn m-0 p-0 col-12" data-toggle="collapse" data-target="#course_src" role="button" aria-expanded="false" aria-controls="course_src">
              
                <span class="pl-5 pr-5 pt-3 pb-3 d-flex flex-row justify-content-between child-folders">
              
                <span>src</span>
                <i class="fas fa-sort-down"></i>
              </span>
            </button>
          </ul>
          <ul class ="collapse" id="course_src"> 
    
        
          
          <ul class="p-2">
            <li class="m-2 list-unstyled"><span class="far fa-file mr-1"></span>
                <a class="course-file" href=/courses/jedha-full-stack-24-program/S1.8%20--%20Web%20Development%20sur%20Flask/S18-B%20-%20Machine%20Learning%20%26%20FLASK/Linear%20Regression%20-%20SOLUTION/src/Salary_Data.csv>Salary_Data.csv</a>
            </li>
          </ul>
        
    </ul>
        
    
    
        
          <ul class="p-0 mt-4">
            <button class="btn m-0 p-0 col-12" data-toggle="collapse" data-target="#course_static" role="button" aria-expanded="false" aria-controls="course_static">
              
                <span class="pl-5 pr-5 pt-3 pb-3 d-flex flex-row justify-content-between child-folders">
              
                <span>static</span>
                <i class="fas fa-sort-down"></i>
              </span>
            </button>
          </ul>
          <ul class ="collapse" id="course_static"> 
    
        
          
          <ul class="p-2">
            <li class="m-2 list-unstyled"><span class="far fa-file mr-1"></span>
                <a class="course-file" href=/courses/jedha-full-stack-24-program/S1.8%20--%20Web%20Development%20sur%20Flask/S18-B%20-%20Machine%20Learning%20%26%20FLASK/Linear%20Regression%20-%20SOLUTION/static/animations.js>animations.js</a>
            </li>
          </ul>
        
    
    
        
          
          <ul class="p-2">
            <li class="m-2 list-unstyled"><span class="far fa-file mr-1"></span>
                <a class="course-file" href=/courses/jedha-full-stack-24-program/S1.8%20--%20Web%20Development%20sur%20Flask/S18-B%20-%20Machine%20Learning%20%26%20FLASK/Linear%20Regression%20-%20SOLUTION/static/style.css>style.css</a>
            </li>
          </ul>
        
    </ul>
        
    
    
        
          <ul class="p-0 mt-4">
            <button class="btn m-0 p-0 col-12" data-toggle="collapse" data-target="#course_templates" role="button" aria-expanded="false" aria-controls="course_templates">
              
                <span class="pl-5 pr-5 pt-3 pb-3 d-flex flex-row justify-content-between child-folders">
              
                <span>templates</span>
                <i class="fas fa-sort-down"></i>
              </span>
            </button>
          </ul>
          <ul class ="collapse" id="course_templates"> 
    
        
          
          <ul class="p-2">
            <li class="m-2 list-unstyled"><span class="far fa-file mr-1"></span>
                <a class="course-file" href=/courses/jedha-full-stack-24-program/S1.8%20--%20Web%20Development%20sur%20Flask/S18-B%20-%20Machine%20Learning%20%26%20FLASK/Linear%20Regression%20-%20SOLUTION/templates/index.html>index.html</a>
            </li>
          </ul>
        
    
    
        
          
          <ul class="p-2">
            <li class="m-2 list-unstyled"><span class="far fa-file mr-1"></span>
                <a class="course-file" href=/courses/jedha-full-stack-24-program/S1.8%20--%20Web%20Development%20sur%20Flask/S18-B%20-%20Machine%20Learning%20%26%20FLASK/Linear%20Regression%20-%20SOLUTION/templates/layout.html>layout.html</a>
            </li>
          </ul>
        
    
    
        
          
          <ul class="p-2">
            <li class="m-2 list-unstyled"><span class="far fa-file mr-1"></span>
                <a class="course-file" href=/courses/jedha-full-stack-24-program/S1.8%20--%20Web%20Development%20sur%20Flask/S18-B%20-%20Machine%20Learning%20%26%20FLASK/Linear%20Regression%20-%20SOLUTION/templates/predicted.html>predicted.html</a>
            </li>
          </ul>
        
    </ul>
        
    </ul>
        
    </ul>
        
    </ul>
        
    
    
        
          <ul class="p-0 mt-4">
            <button class="btn m-0 p-0 col-12" data-toggle="collapse" data-target="#course_s19--déployeruneapplicationflask" role="button" aria-expanded="false" aria-controls="course_s19--déployeruneapplicationflask">
              
                <span class="pl-5 pr-5 pt-3 pb-3 d-flex flex-row justify-content-between child-folders">
              
                <span>S1.9 -- Déployer une application FLASK</span>
                <i class="fas fa-sort-down"></i>
              </span>
            </button>
          </ul>
          <ul class ="collapse" id="course_s19--déployeruneapplicationflask"> 
    
        
          <ul class="p-0 mt-4">
            <button class="btn m-0 p-0 col-12" data-toggle="collapse" data-target="#course_s19-a-ajouterunebddsurflask" role="button" aria-expanded="false" aria-controls="course_s19-a-ajouterunebddsurflask">
              
                <span class="pl-5 pr-5 pt-3 pb-3 d-flex flex-row justify-content-between parent-folder">
              
                <span>S19-A - Ajouter une BDD sur FLASK</span>
                <i class="fas fa-sort-down"></i>
              </span>
            </button>
          </ul>
          <ul class ="collapse" id="course_s19-a-ajouterunebddsurflask"> 
    
        
          
          <ul class="p-2">
            <li class="m-2 list-unstyled"><span class="far fa-file mr-1"></span>
                <a class="course-file" href=/courses/jedha-full-stack-24-program/S1.9%20--%20D%C3%A9ployer%20une%20application%20FLASK/S19-A%20-%20Ajouter%20une%20BDD%20sur%20FLASK/1.%20Cr%C3%A9er%20une%20base%20de%20donn%C3%A9es%20PostgreSQL.md>1. Créer une base de données PostgreSQL.md</a>
            </li>
          </ul>
        
    
    
        
          
          <ul class="p-2">
            <li class="m-2 list-unstyled"><span class="far fa-file mr-1"></span>
                <a class="course-file" href=/courses/jedha-full-stack-24-program/S1.9%20--%20D%C3%A9ployer%20une%20application%20FLASK/S19-A%20-%20Ajouter%20une%20BDD%20sur%20FLASK/2.%20Connecter%20Flask%20%C3%A0%20PostgreSQL.md>2. Connecter Flask à PostgreSQL.md</a>
            </li>
          </ul>
        
    
    
        
          <ul class="p-0 mt-4">
            <button class="btn m-0 p-0 col-12" data-toggle="collapse" data-target="#course_exercices" role="button" aria-expanded="false" aria-controls="course_exercices">
              
                <span class="pl-5 pr-5 pt-3 pb-3 d-flex flex-row justify-content-between child-folders">
              
                <span>Exercices</span>
                <i class="fas fa-sort-down"></i>
              </span>
            </button>
          </ul>
          <ul class ="collapse" id="course_exercices"> 
    
        
          
          <ul class="p-2">
            <li class="m-2 list-unstyled"><span class="far fa-file mr-1"></span>
                <a class="course-file" href=/courses/jedha-full-stack-24-program/S1.9%20--%20D%C3%A9ployer%20une%20application%20FLASK/S19-A%20-%20Ajouter%20une%20BDD%20sur%20FLASK/Exercices/Exercice_Cr%C3%A9er_une_Base_de_donn%C3%A9es_POSTGRESQL_sur_Azure.ipynb>Exercice_Créer_une_Base_de_données_POSTGRESQL_sur_Azure.ipynb</a>
            </li>
          </ul>
        
    
    
        
          <ul class="p-0 mt-4">
            <button class="btn m-0 p-0 col-12" data-toggle="collapse" data-target="#course_linear_regression_with_flask-nobdd" role="button" aria-expanded="false" aria-controls="course_linear_regression_with_flask-nobdd">
              
                <span class="pl-5 pr-5 pt-3 pb-3 d-flex flex-row justify-content-between child-folders">
              
                <span>linear_regression_with_flask - NO BDD</span>
                <i class="fas fa-sort-down"></i>
              </span>
            </button>
          </ul>
          <ul class ="collapse" id="course_linear_regression_with_flask-nobdd"> 
    
        
          
          <ul class="p-2">
            <li class="m-2 list-unstyled"><span class="far fa-file mr-1"></span>
                <a class="course-file" href=/courses/jedha-full-stack-24-program/S1.9%20--%20D%C3%A9ployer%20une%20application%20FLASK/S19-A%20-%20Ajouter%20une%20BDD%20sur%20FLASK/Exercices/linear_regression_with_flask%20-%20NO%20BDD/app.py>app.py</a>
            </li>
          </ul>
        
    
    
        
          
          <ul class="p-2">
            <li class="m-2 list-unstyled"><span class="far fa-file mr-1"></span>
                <a class="course-file" href=/courses/jedha-full-stack-24-program/S1.9%20--%20D%C3%A9ployer%20une%20application%20FLASK/S19-A%20-%20Ajouter%20une%20BDD%20sur%20FLASK/Exercices/linear_regression_with_flask%20-%20NO%20BDD/linear_regression_model.pkl>linear_regression_model.pkl</a>
            </li>
          </ul>
        
    
    
        
          
          <ul class="p-2">
            <li class="m-2 list-unstyled"><span class="far fa-file mr-1"></span>
                <a class="course-file" href=/courses/jedha-full-stack-24-program/S1.9%20--%20D%C3%A9ployer%20une%20application%20FLASK/S19-A%20-%20Ajouter%20une%20BDD%20sur%20FLASK/Exercices/linear_regression_with_flask%20-%20NO%20BDD/prediction.py>prediction.py</a>
            </li>
          </ul>
        
    
    
        
          <ul class="p-0 mt-4">
            <button class="btn m-0 p-0 col-12" data-toggle="collapse" data-target="#course_static" role="button" aria-expanded="false" aria-controls="course_static">
              
                <span class="pl-5 pr-5 pt-3 pb-3 d-flex flex-row justify-content-between child-folders">
              
                <span>static</span>
                <i class="fas fa-sort-down"></i>
              </span>
            </button>
          </ul>
          <ul class ="collapse" id="course_static"> 
    
        
          
          <ul class="p-2">
            <li class="m-2 list-unstyled"><span class="far fa-file mr-1"></span>
                <a class="course-file" href=/courses/jedha-full-stack-24-program/S1.9%20--%20D%C3%A9ployer%20une%20application%20FLASK/S19-A%20-%20Ajouter%20une%20BDD%20sur%20FLASK/Exercices/linear_regression_with_flask%20-%20NO%20BDD/static/animations.js>animations.js</a>
            </li>
          </ul>
        
    
    
        
          
          <ul class="p-2">
            <li class="m-2 list-unstyled"><span class="far fa-file mr-1"></span>
                <a class="course-file" href=/courses/jedha-full-stack-24-program/S1.9%20--%20D%C3%A9ployer%20une%20application%20FLASK/S19-A%20-%20Ajouter%20une%20BDD%20sur%20FLASK/Exercices/linear_regression_with_flask%20-%20NO%20BDD/static/style.css>style.css</a>
            </li>
          </ul>
        
    </ul>
        
    
    
        
          <ul class="p-0 mt-4">
            <button class="btn m-0 p-0 col-12" data-toggle="collapse" data-target="#course_templates" role="button" aria-expanded="false" aria-controls="course_templates">
              
                <span class="pl-5 pr-5 pt-3 pb-3 d-flex flex-row justify-content-between child-folders">
              
                <span>templates</span>
                <i class="fas fa-sort-down"></i>
              </span>
            </button>
          </ul>
          <ul class ="collapse" id="course_templates"> 
    
        
          
          <ul class="p-2">
            <li class="m-2 list-unstyled"><span class="far fa-file mr-1"></span>
                <a class="course-file" href=/courses/jedha-full-stack-24-program/S1.9%20--%20D%C3%A9ployer%20une%20application%20FLASK/S19-A%20-%20Ajouter%20une%20BDD%20sur%20FLASK/Exercices/linear_regression_with_flask%20-%20NO%20BDD/templates/index.html>index.html</a>
            </li>
          </ul>
        
    
    
        
          
          <ul class="p-2">
            <li class="m-2 list-unstyled"><span class="far fa-file mr-1"></span>
                <a class="course-file" href=/courses/jedha-full-stack-24-program/S1.9%20--%20D%C3%A9ployer%20une%20application%20FLASK/S19-A%20-%20Ajouter%20une%20BDD%20sur%20FLASK/Exercices/linear_regression_with_flask%20-%20NO%20BDD/templates/layout.html>layout.html</a>
            </li>
          </ul>
        
    
    
        
          
          <ul class="p-2">
            <li class="m-2 list-unstyled"><span class="far fa-file mr-1"></span>
                <a class="course-file" href=/courses/jedha-full-stack-24-program/S1.9%20--%20D%C3%A9ployer%20une%20application%20FLASK/S19-A%20-%20Ajouter%20une%20BDD%20sur%20FLASK/Exercices/linear_regression_with_flask%20-%20NO%20BDD/templates/predicted.html>predicted.html</a>
            </li>
          </ul>
        
    </ul>
        
    </ul>
        
    </ul>
        
    
    
        
          <ul class="p-0 mt-4">
            <button class="btn m-0 p-0 col-12" data-toggle="collapse" data-target="#course_solutions" role="button" aria-expanded="false" aria-controls="course_solutions">
              
                <span class="pl-5 pr-5 pt-3 pb-3 d-flex flex-row justify-content-between child-folders">
              
                <span>Solutions</span>
                <i class="fas fa-sort-down"></i>
              </span>
            </button>
          </ul>
          <ul class ="collapse" id="course_solutions"> 
    
        
          
          <ul class="p-2">
            <li class="m-2 list-unstyled"><span class="far fa-file mr-1"></span>
                <a class="course-file" href=/courses/jedha-full-stack-24-program/S1.9%20--%20D%C3%A9ployer%20une%20application%20FLASK/S19-A%20-%20Ajouter%20une%20BDD%20sur%20FLASK/Solutions/SOLUTION_Cr%C3%A9er_une_Base_de_donn%C3%A9es_POSTGRESQL_sur_Azure.ipynb>SOLUTION_Créer_une_Base_de_données_POSTGRESQL_sur_Azure.ipynb</a>
            </li>
          </ul>
        
    
    
        
          <ul class="p-0 mt-4">
            <button class="btn m-0 p-0 col-12" data-toggle="collapse" data-target="#course_linear_regression_with_flask-solutions" role="button" aria-expanded="false" aria-controls="course_linear_regression_with_flask-solutions">
              
                <span class="pl-5 pr-5 pt-3 pb-3 d-flex flex-row justify-content-between child-folders">
              
                <span>linear_regression_with_flask - SOLUTIONS</span>
                <i class="fas fa-sort-down"></i>
              </span>
            </button>
          </ul>
          <ul class ="collapse" id="course_linear_regression_with_flask-solutions"> 
    
        
          <ul class="p-0 mt-4">
            <button class="btn m-0 p-0 col-12" data-toggle="collapse" data-target="#course___pycache__" role="button" aria-expanded="false" aria-controls="course___pycache__">
              
                <span class="pl-5 pr-5 pt-3 pb-3 d-flex flex-row justify-content-between parent-folder">
              
                <span>__pycache__</span>
                <i class="fas fa-sort-down"></i>
              </span>
            </button>
          </ul>
          <ul class ="collapse" id="course___pycache__"> 
    
        
          
          <ul class="p-2">
            <li class="m-2 list-unstyled"><span class="far fa-file mr-1"></span>
                <a class="course-file" href=/courses/jedha-full-stack-24-program/S1.9%20--%20D%C3%A9ployer%20une%20application%20FLASK/S19-A%20-%20Ajouter%20une%20BDD%20sur%20FLASK/Solutions/linear_regression_with_flask%20-%20SOLUTIONS/__pycache__/app.cpython-36.pyc>app.cpython-36.pyc</a>
            </li>
          </ul>
        
    
    
        
          
          <ul class="p-2">
            <li class="m-2 list-unstyled"><span class="far fa-file mr-1"></span>
                <a class="course-file" href=/courses/jedha-full-stack-24-program/S1.9%20--%20D%C3%A9ployer%20une%20application%20FLASK/S19-A%20-%20Ajouter%20une%20BDD%20sur%20FLASK/Solutions/linear_regression_with_flask%20-%20SOLUTIONS/__pycache__/config.cpython-36.pyc>config.cpython-36.pyc</a>
            </li>
          </ul>
        
    
    
        
          
          <ul class="p-2">
            <li class="m-2 list-unstyled"><span class="far fa-file mr-1"></span>
                <a class="course-file" href=/courses/jedha-full-stack-24-program/S1.9%20--%20D%C3%A9ployer%20une%20application%20FLASK/S19-A%20-%20Ajouter%20une%20BDD%20sur%20FLASK/Solutions/linear_regression_with_flask%20-%20SOLUTIONS/__pycache__/models.cpython-36.pyc>models.cpython-36.pyc</a>
            </li>
          </ul>
        
    </ul>
        
    
    
        
          
          <ul class="p-2">
            <li class="m-2 list-unstyled"><span class="far fa-file mr-1"></span>
                <a class="course-file" href=/courses/jedha-full-stack-24-program/S1.9%20--%20D%C3%A9ployer%20une%20application%20FLASK/S19-A%20-%20Ajouter%20une%20BDD%20sur%20FLASK/Solutions/linear_regression_with_flask%20-%20SOLUTIONS/app.py>app.py</a>
            </li>
          </ul>
        
    
    
        
          
          <ul class="p-2">
            <li class="m-2 list-unstyled"><span class="far fa-file mr-1"></span>
                <a class="course-file" href=/courses/jedha-full-stack-24-program/S1.9%20--%20D%C3%A9ployer%20une%20application%20FLASK/S19-A%20-%20Ajouter%20une%20BDD%20sur%20FLASK/Solutions/linear_regression_with_flask%20-%20SOLUTIONS/config.py>config.py</a>
            </li>
          </ul>
        
    
    
        
          
          <ul class="p-2">
            <li class="m-2 list-unstyled"><span class="far fa-file mr-1"></span>
                <a class="course-file" href=/courses/jedha-full-stack-24-program/S1.9%20--%20D%C3%A9ployer%20une%20application%20FLASK/S19-A%20-%20Ajouter%20une%20BDD%20sur%20FLASK/Solutions/linear_regression_with_flask%20-%20SOLUTIONS/linear_regression_model.pkl>linear_regression_model.pkl</a>
            </li>
          </ul>
        
    
    
        
          
          <ul class="p-2">
            <li class="m-2 list-unstyled"><span class="far fa-file mr-1"></span>
                <a class="course-file" href=/courses/jedha-full-stack-24-program/S1.9%20--%20D%C3%A9ployer%20une%20application%20FLASK/S19-A%20-%20Ajouter%20une%20BDD%20sur%20FLASK/Solutions/linear_regression_with_flask%20-%20SOLUTIONS/manage.py>manage.py</a>
            </li>
          </ul>
        
    
    
        
          <ul class="p-0 mt-4">
            <button class="btn m-0 p-0 col-12" data-toggle="collapse" data-target="#course_migrations" role="button" aria-expanded="false" aria-controls="course_migrations">
              
                <span class="pl-5 pr-5 pt-3 pb-3 d-flex flex-row justify-content-between child-folders">
              
                <span>migrations</span>
                <i class="fas fa-sort-down"></i>
              </span>
            </button>
          </ul>
          <ul class ="collapse" id="course_migrations"> 
    
        
          
          <ul class="p-2">
            <li class="m-2 list-unstyled"><span class="far fa-file mr-1"></span>
                <a class="course-file" href=/courses/jedha-full-stack-24-program/S1.9%20--%20D%C3%A9ployer%20une%20application%20FLASK/S19-A%20-%20Ajouter%20une%20BDD%20sur%20FLASK/Solutions/linear_regression_with_flask%20-%20SOLUTIONS/migrations/README>README</a>
            </li>
          </ul>
        
    
    
        
          <ul class="p-0 mt-4">
            <button class="btn m-0 p-0 col-12" data-toggle="collapse" data-target="#course___pycache__" role="button" aria-expanded="false" aria-controls="course___pycache__">
              
                <span class="pl-5 pr-5 pt-3 pb-3 d-flex flex-row justify-content-between child-folders">
              
                <span>__pycache__</span>
                <i class="fas fa-sort-down"></i>
              </span>
            </button>
          </ul>
          <ul class ="collapse" id="course___pycache__"> 
    
        
          
          <ul class="p-2">
            <li class="m-2 list-unstyled"><span class="far fa-file mr-1"></span>
                <a class="course-file" href=/courses/jedha-full-stack-24-program/S1.9%20--%20D%C3%A9ployer%20une%20application%20FLASK/S19-A%20-%20Ajouter%20une%20BDD%20sur%20FLASK/Solutions/linear_regression_with_flask%20-%20SOLUTIONS/migrations/__pycache__/env.cpython-36.pyc>env.cpython-36.pyc</a>
            </li>
          </ul>
        
    </ul>
        
    
    
        
          
          <ul class="p-2">
            <li class="m-2 list-unstyled"><span class="far fa-file mr-1"></span>
                <a class="course-file" href=/courses/jedha-full-stack-24-program/S1.9%20--%20D%C3%A9ployer%20une%20application%20FLASK/S19-A%20-%20Ajouter%20une%20BDD%20sur%20FLASK/Solutions/linear_regression_with_flask%20-%20SOLUTIONS/migrations/alembic.ini>alembic.ini</a>
            </li>
          </ul>
        
    
    
        
          
          <ul class="p-2">
            <li class="m-2 list-unstyled"><span class="far fa-file mr-1"></span>
                <a class="course-file" href=/courses/jedha-full-stack-24-program/S1.9%20--%20D%C3%A9ployer%20une%20application%20FLASK/S19-A%20-%20Ajouter%20une%20BDD%20sur%20FLASK/Solutions/linear_regression_with_flask%20-%20SOLUTIONS/migrations/env.py>env.py</a>
            </li>
          </ul>
        
    
    
        
          
          <ul class="p-2">
            <li class="m-2 list-unstyled"><span class="far fa-file mr-1"></span>
                <a class="course-file" href=/courses/jedha-full-stack-24-program/S1.9%20--%20D%C3%A9ployer%20une%20application%20FLASK/S19-A%20-%20Ajouter%20une%20BDD%20sur%20FLASK/Solutions/linear_regression_with_flask%20-%20SOLUTIONS/migrations/script.py.mako>script.py.mako</a>
            </li>
          </ul>
        
    
    
        
          <ul class="p-0 mt-4">
            <button class="btn m-0 p-0 col-12" data-toggle="collapse" data-target="#course_versions" role="button" aria-expanded="false" aria-controls="course_versions">
              
                <span class="pl-5 pr-5 pt-3 pb-3 d-flex flex-row justify-content-between child-folders">
              
                <span>versions</span>
                <i class="fas fa-sort-down"></i>
              </span>
            </button>
          </ul>
          <ul class ="collapse" id="course_versions"> 
    
        
          <ul class="p-0 mt-4">
            <button class="btn m-0 p-0 col-12" data-toggle="collapse" data-target="#course___pycache__" role="button" aria-expanded="false" aria-controls="course___pycache__">
              
                <span class="pl-5 pr-5 pt-3 pb-3 d-flex flex-row justify-content-between parent-folder">
              
                <span>__pycache__</span>
                <i class="fas fa-sort-down"></i>
              </span>
            </button>
          </ul>
          <ul class ="collapse" id="course___pycache__"> 
    
        
          
          <ul class="p-2">
            <li class="m-2 list-unstyled"><span class="far fa-file mr-1"></span>
                <a class="course-file" href=/courses/jedha-full-stack-24-program/S1.9%20--%20D%C3%A9ployer%20une%20application%20FLASK/S19-A%20-%20Ajouter%20une%20BDD%20sur%20FLASK/Solutions/linear_regression_with_flask%20-%20SOLUTIONS/migrations/versions/__pycache__/e93678a942b6_.cpython-36.pyc>e93678a942b6_.cpython-36.pyc</a>
            </li>
          </ul>
        
    </ul>
        
    
    
        
          
          <ul class="p-2">
            <li class="m-2 list-unstyled"><span class="far fa-file mr-1"></span>
                <a class="course-file" href=/courses/jedha-full-stack-24-program/S1.9%20--%20D%C3%A9ployer%20une%20application%20FLASK/S19-A%20-%20Ajouter%20une%20BDD%20sur%20FLASK/Solutions/linear_regression_with_flask%20-%20SOLUTIONS/migrations/versions/e93678a942b6_.py>e93678a942b6_.py</a>
            </li>
          </ul>
        
    </ul>
        
    </ul>
        
    
    
        
          
          <ul class="p-2">
            <li class="m-2 list-unstyled"><span class="far fa-file mr-1"></span>
                <a class="course-file" href=/courses/jedha-full-stack-24-program/S1.9%20--%20D%C3%A9ployer%20une%20application%20FLASK/S19-A%20-%20Ajouter%20une%20BDD%20sur%20FLASK/Solutions/linear_regression_with_flask%20-%20SOLUTIONS/models.py>models.py</a>
            </li>
          </ul>
        
    
    
        
          
          <ul class="p-2">
            <li class="m-2 list-unstyled"><span class="far fa-file mr-1"></span>
                <a class="course-file" href=/courses/jedha-full-stack-24-program/S1.9%20--%20D%C3%A9ployer%20une%20application%20FLASK/S19-A%20-%20Ajouter%20une%20BDD%20sur%20FLASK/Solutions/linear_regression_with_flask%20-%20SOLUTIONS/prediction.py>prediction.py</a>
            </li>
          </ul>
        
    
    
        
          <ul class="p-0 mt-4">
            <button class="btn m-0 p-0 col-12" data-toggle="collapse" data-target="#course_static" role="button" aria-expanded="false" aria-controls="course_static">
              
                <span class="pl-5 pr-5 pt-3 pb-3 d-flex flex-row justify-content-between child-folders">
              
                <span>static</span>
                <i class="fas fa-sort-down"></i>
              </span>
            </button>
          </ul>
          <ul class ="collapse" id="course_static"> 
    
        
          
          <ul class="p-2">
            <li class="m-2 list-unstyled"><span class="far fa-file mr-1"></span>
                <a class="course-file" href=/courses/jedha-full-stack-24-program/S1.9%20--%20D%C3%A9ployer%20une%20application%20FLASK/S19-A%20-%20Ajouter%20une%20BDD%20sur%20FLASK/Solutions/linear_regression_with_flask%20-%20SOLUTIONS/static/animations.js>animations.js</a>
            </li>
          </ul>
        
    
    
        
          
          <ul class="p-2">
            <li class="m-2 list-unstyled"><span class="far fa-file mr-1"></span>
                <a class="course-file" href=/courses/jedha-full-stack-24-program/S1.9%20--%20D%C3%A9ployer%20une%20application%20FLASK/S19-A%20-%20Ajouter%20une%20BDD%20sur%20FLASK/Solutions/linear_regression_with_flask%20-%20SOLUTIONS/static/style.css>style.css</a>
            </li>
          </ul>
        
    </ul>
        
    
    
        
          <ul class="p-0 mt-4">
            <button class="btn m-0 p-0 col-12" data-toggle="collapse" data-target="#course_templates" role="button" aria-expanded="false" aria-controls="course_templates">
              
                <span class="pl-5 pr-5 pt-3 pb-3 d-flex flex-row justify-content-between child-folders">
              
                <span>templates</span>
                <i class="fas fa-sort-down"></i>
              </span>
            </button>
          </ul>
          <ul class ="collapse" id="course_templates"> 
    
        
          
          <ul class="p-2">
            <li class="m-2 list-unstyled"><span class="far fa-file mr-1"></span>
                <a class="course-file" href=/courses/jedha-full-stack-24-program/S1.9%20--%20D%C3%A9ployer%20une%20application%20FLASK/S19-A%20-%20Ajouter%20une%20BDD%20sur%20FLASK/Solutions/linear_regression_with_flask%20-%20SOLUTIONS/templates/index.html>index.html</a>
            </li>
          </ul>
        
    
    
        
          
          <ul class="p-2">
            <li class="m-2 list-unstyled"><span class="far fa-file mr-1"></span>
                <a class="course-file" href=/courses/jedha-full-stack-24-program/S1.9%20--%20D%C3%A9ployer%20une%20application%20FLASK/S19-A%20-%20Ajouter%20une%20BDD%20sur%20FLASK/Solutions/linear_regression_with_flask%20-%20SOLUTIONS/templates/layout.html>layout.html</a>
            </li>
          </ul>
        
    
    
        
          
          <ul class="p-2">
            <li class="m-2 list-unstyled"><span class="far fa-file mr-1"></span>
                <a class="course-file" href=/courses/jedha-full-stack-24-program/S1.9%20--%20D%C3%A9ployer%20une%20application%20FLASK/S19-A%20-%20Ajouter%20une%20BDD%20sur%20FLASK/Solutions/linear_regression_with_flask%20-%20SOLUTIONS/templates/predicted.html>predicted.html</a>
            </li>
          </ul>
        
    </ul>
        
    </ul>
        
    </ul>
        
    </ul>
        
    
    
        
          <ul class="p-0 mt-4">
            <button class="btn m-0 p-0 col-12" data-toggle="collapse" data-target="#course_s19-b-deployeruneapplicationsurazure" role="button" aria-expanded="false" aria-controls="course_s19-b-deployeruneapplicationsurazure">
              
                <span class="pl-5 pr-5 pt-3 pb-3 d-flex flex-row justify-content-between child-folders">
              
                <span>S19-B - Deployer une application sur Azure</span>
                <i class="fas fa-sort-down"></i>
              </span>
            </button>
          </ul>
          <ul class ="collapse" id="course_s19-b-deployeruneapplicationsurazure"> 
    
        
          <ul class="p-0 mt-4">
            <button class="btn m-0 p-0 col-12" data-toggle="collapse" data-target="#course_exercices" role="button" aria-expanded="false" aria-controls="course_exercices">
              
                <span class="pl-5 pr-5 pt-3 pb-3 d-flex flex-row justify-content-between parent-folder">
              
                <span>Exercices</span>
                <i class="fas fa-sort-down"></i>
              </span>
            </button>
          </ul>
          <ul class ="collapse" id="course_exercices"> 
    
        
          
          <ul class="p-2">
            <li class="m-2 list-unstyled"><span class="far fa-file mr-1"></span>
                <a class="course-file" href=/courses/jedha-full-stack-24-program/S1.9%20--%20D%C3%A9ployer%20une%20application%20FLASK/S19-B%20-%20Deployer%20une%20application%20sur%20Azure/Exercices/README.md>README.md</a>
            </li>
          </ul>
        
    
    
        
          <ul class="p-0 mt-4">
            <button class="btn m-0 p-0 col-12" data-toggle="collapse" data-target="#course_linear_regression_with_flask_with_bdd" role="button" aria-expanded="false" aria-controls="course_linear_regression_with_flask_with_bdd">
              
                <span class="pl-5 pr-5 pt-3 pb-3 d-flex flex-row justify-content-between child-folders">
              
                <span>linear_regression_with_flask_with_bdd</span>
                <i class="fas fa-sort-down"></i>
              </span>
            </button>
          </ul>
          <ul class ="collapse" id="course_linear_regression_with_flask_with_bdd"> 
    
        
          <ul class="p-0 mt-4">
            <button class="btn m-0 p-0 col-12" data-toggle="collapse" data-target="#course___pycache__" role="button" aria-expanded="false" aria-controls="course___pycache__">
              
                <span class="pl-5 pr-5 pt-3 pb-3 d-flex flex-row justify-content-between parent-folder">
              
                <span>__pycache__</span>
                <i class="fas fa-sort-down"></i>
              </span>
            </button>
          </ul>
          <ul class ="collapse" id="course___pycache__"> 
    
        
          
          <ul class="p-2">
            <li class="m-2 list-unstyled"><span class="far fa-file mr-1"></span>
                <a class="course-file" href=/courses/jedha-full-stack-24-program/S1.9%20--%20D%C3%A9ployer%20une%20application%20FLASK/S19-B%20-%20Deployer%20une%20application%20sur%20Azure/Exercices/linear_regression_with_flask_with_bdd/__pycache__/app.cpython-36.pyc>app.cpython-36.pyc</a>
            </li>
          </ul>
        
    
    
        
          
          <ul class="p-2">
            <li class="m-2 list-unstyled"><span class="far fa-file mr-1"></span>
                <a class="course-file" href=/courses/jedha-full-stack-24-program/S1.9%20--%20D%C3%A9ployer%20une%20application%20FLASK/S19-B%20-%20Deployer%20une%20application%20sur%20Azure/Exercices/linear_regression_with_flask_with_bdd/__pycache__/config.cpython-36.pyc>config.cpython-36.pyc</a>
            </li>
          </ul>
        
    
    
        
          
          <ul class="p-2">
            <li class="m-2 list-unstyled"><span class="far fa-file mr-1"></span>
                <a class="course-file" href=/courses/jedha-full-stack-24-program/S1.9%20--%20D%C3%A9ployer%20une%20application%20FLASK/S19-B%20-%20Deployer%20une%20application%20sur%20Azure/Exercices/linear_regression_with_flask_with_bdd/__pycache__/models.cpython-36.pyc>models.cpython-36.pyc</a>
            </li>
          </ul>
        
    </ul>
        
    
    
        
          
          <ul class="p-2">
            <li class="m-2 list-unstyled"><span class="far fa-file mr-1"></span>
                <a class="course-file" href=/courses/jedha-full-stack-24-program/S1.9%20--%20D%C3%A9ployer%20une%20application%20FLASK/S19-B%20-%20Deployer%20une%20application%20sur%20Azure/Exercices/linear_regression_with_flask_with_bdd/app.py>app.py</a>
            </li>
          </ul>
        
    
    
        
          
          <ul class="p-2">
            <li class="m-2 list-unstyled"><span class="far fa-file mr-1"></span>
                <a class="course-file" href=/courses/jedha-full-stack-24-program/S1.9%20--%20D%C3%A9ployer%20une%20application%20FLASK/S19-B%20-%20Deployer%20une%20application%20sur%20Azure/Exercices/linear_regression_with_flask_with_bdd/config.py>config.py</a>
            </li>
          </ul>
        
    
    
        
          
          <ul class="p-2">
            <li class="m-2 list-unstyled"><span class="far fa-file mr-1"></span>
                <a class="course-file" href=/courses/jedha-full-stack-24-program/S1.9%20--%20D%C3%A9ployer%20une%20application%20FLASK/S19-B%20-%20Deployer%20une%20application%20sur%20Azure/Exercices/linear_regression_with_flask_with_bdd/linear_regression_model.pkl>linear_regression_model.pkl</a>
            </li>
          </ul>
        
    
    
        
          
          <ul class="p-2">
            <li class="m-2 list-unstyled"><span class="far fa-file mr-1"></span>
                <a class="course-file" href=/courses/jedha-full-stack-24-program/S1.9%20--%20D%C3%A9ployer%20une%20application%20FLASK/S19-B%20-%20Deployer%20une%20application%20sur%20Azure/Exercices/linear_regression_with_flask_with_bdd/manage.py>manage.py</a>
            </li>
          </ul>
        
    
    
        
          <ul class="p-0 mt-4">
            <button class="btn m-0 p-0 col-12" data-toggle="collapse" data-target="#course_migrations" role="button" aria-expanded="false" aria-controls="course_migrations">
              
                <span class="pl-5 pr-5 pt-3 pb-3 d-flex flex-row justify-content-between child-folders">
              
                <span>migrations</span>
                <i class="fas fa-sort-down"></i>
              </span>
            </button>
          </ul>
          <ul class ="collapse" id="course_migrations"> 
    
        
          
          <ul class="p-2">
            <li class="m-2 list-unstyled"><span class="far fa-file mr-1"></span>
                <a class="course-file" href=/courses/jedha-full-stack-24-program/S1.9%20--%20D%C3%A9ployer%20une%20application%20FLASK/S19-B%20-%20Deployer%20une%20application%20sur%20Azure/Exercices/linear_regression_with_flask_with_bdd/migrations/README>README</a>
            </li>
          </ul>
        
    
    
        
          <ul class="p-0 mt-4">
            <button class="btn m-0 p-0 col-12" data-toggle="collapse" data-target="#course___pycache__" role="button" aria-expanded="false" aria-controls="course___pycache__">
              
                <span class="pl-5 pr-5 pt-3 pb-3 d-flex flex-row justify-content-between child-folders">
              
                <span>__pycache__</span>
                <i class="fas fa-sort-down"></i>
              </span>
            </button>
          </ul>
          <ul class ="collapse" id="course___pycache__"> 
    
        
          
          <ul class="p-2">
            <li class="m-2 list-unstyled"><span class="far fa-file mr-1"></span>
                <a class="course-file" href=/courses/jedha-full-stack-24-program/S1.9%20--%20D%C3%A9ployer%20une%20application%20FLASK/S19-B%20-%20Deployer%20une%20application%20sur%20Azure/Exercices/linear_regression_with_flask_with_bdd/migrations/__pycache__/env.cpython-36.pyc>env.cpython-36.pyc</a>
            </li>
          </ul>
        
    </ul>
        
    
    
        
          
          <ul class="p-2">
            <li class="m-2 list-unstyled"><span class="far fa-file mr-1"></span>
                <a class="course-file" href=/courses/jedha-full-stack-24-program/S1.9%20--%20D%C3%A9ployer%20une%20application%20FLASK/S19-B%20-%20Deployer%20une%20application%20sur%20Azure/Exercices/linear_regression_with_flask_with_bdd/migrations/alembic.ini>alembic.ini</a>
            </li>
          </ul>
        
    
    
        
          
          <ul class="p-2">
            <li class="m-2 list-unstyled"><span class="far fa-file mr-1"></span>
                <a class="course-file" href=/courses/jedha-full-stack-24-program/S1.9%20--%20D%C3%A9ployer%20une%20application%20FLASK/S19-B%20-%20Deployer%20une%20application%20sur%20Azure/Exercices/linear_regression_with_flask_with_bdd/migrations/env.py>env.py</a>
            </li>
          </ul>
        
    
    
        
          
          <ul class="p-2">
            <li class="m-2 list-unstyled"><span class="far fa-file mr-1"></span>
                <a class="course-file" href=/courses/jedha-full-stack-24-program/S1.9%20--%20D%C3%A9ployer%20une%20application%20FLASK/S19-B%20-%20Deployer%20une%20application%20sur%20Azure/Exercices/linear_regression_with_flask_with_bdd/migrations/script.py.mako>script.py.mako</a>
            </li>
          </ul>
        
    
    
        
          <ul class="p-0 mt-4">
            <button class="btn m-0 p-0 col-12" data-toggle="collapse" data-target="#course_versions" role="button" aria-expanded="false" aria-controls="course_versions">
              
                <span class="pl-5 pr-5 pt-3 pb-3 d-flex flex-row justify-content-between child-folders">
              
                <span>versions</span>
                <i class="fas fa-sort-down"></i>
              </span>
            </button>
          </ul>
          <ul class ="collapse" id="course_versions"> 
    
        
          <ul class="p-0 mt-4">
            <button class="btn m-0 p-0 col-12" data-toggle="collapse" data-target="#course___pycache__" role="button" aria-expanded="false" aria-controls="course___pycache__">
              
                <span class="pl-5 pr-5 pt-3 pb-3 d-flex flex-row justify-content-between parent-folder">
              
                <span>__pycache__</span>
                <i class="fas fa-sort-down"></i>
              </span>
            </button>
          </ul>
          <ul class ="collapse" id="course___pycache__"> 
    
        
          
          <ul class="p-2">
            <li class="m-2 list-unstyled"><span class="far fa-file mr-1"></span>
                <a class="course-file" href=/courses/jedha-full-stack-24-program/S1.9%20--%20D%C3%A9ployer%20une%20application%20FLASK/S19-B%20-%20Deployer%20une%20application%20sur%20Azure/Exercices/linear_regression_with_flask_with_bdd/migrations/versions/__pycache__/e93678a942b6_.cpython-36.pyc>e93678a942b6_.cpython-36.pyc</a>
            </li>
          </ul>
        
    </ul>
        
    
    
        
          
          <ul class="p-2">
            <li class="m-2 list-unstyled"><span class="far fa-file mr-1"></span>
                <a class="course-file" href=/courses/jedha-full-stack-24-program/S1.9%20--%20D%C3%A9ployer%20une%20application%20FLASK/S19-B%20-%20Deployer%20une%20application%20sur%20Azure/Exercices/linear_regression_with_flask_with_bdd/migrations/versions/e93678a942b6_.py>e93678a942b6_.py</a>
            </li>
          </ul>
        
    </ul>
        
    </ul>
        
    
    
        
          
          <ul class="p-2">
            <li class="m-2 list-unstyled"><span class="far fa-file mr-1"></span>
                <a class="course-file" href=/courses/jedha-full-stack-24-program/S1.9%20--%20D%C3%A9ployer%20une%20application%20FLASK/S19-B%20-%20Deployer%20une%20application%20sur%20Azure/Exercices/linear_regression_with_flask_with_bdd/models.py>models.py</a>
            </li>
          </ul>
        
    
    
        
          
          <ul class="p-2">
            <li class="m-2 list-unstyled"><span class="far fa-file mr-1"></span>
                <a class="course-file" href=/courses/jedha-full-stack-24-program/S1.9%20--%20D%C3%A9ployer%20une%20application%20FLASK/S19-B%20-%20Deployer%20une%20application%20sur%20Azure/Exercices/linear_regression_with_flask_with_bdd/prediction.py>prediction.py</a>
            </li>
          </ul>
        
    
    
        
          <ul class="p-0 mt-4">
            <button class="btn m-0 p-0 col-12" data-toggle="collapse" data-target="#course_static" role="button" aria-expanded="false" aria-controls="course_static">
              
                <span class="pl-5 pr-5 pt-3 pb-3 d-flex flex-row justify-content-between child-folders">
              
                <span>static</span>
                <i class="fas fa-sort-down"></i>
              </span>
            </button>
          </ul>
          <ul class ="collapse" id="course_static"> 
    
        
          
          <ul class="p-2">
            <li class="m-2 list-unstyled"><span class="far fa-file mr-1"></span>
                <a class="course-file" href=/courses/jedha-full-stack-24-program/S1.9%20--%20D%C3%A9ployer%20une%20application%20FLASK/S19-B%20-%20Deployer%20une%20application%20sur%20Azure/Exercices/linear_regression_with_flask_with_bdd/static/animations.js>animations.js</a>
            </li>
          </ul>
        
    
    
        
          
          <ul class="p-2">
            <li class="m-2 list-unstyled"><span class="far fa-file mr-1"></span>
                <a class="course-file" href=/courses/jedha-full-stack-24-program/S1.9%20--%20D%C3%A9ployer%20une%20application%20FLASK/S19-B%20-%20Deployer%20une%20application%20sur%20Azure/Exercices/linear_regression_with_flask_with_bdd/static/style.css>style.css</a>
            </li>
          </ul>
        
    </ul>
        
    
    
        
          <ul class="p-0 mt-4">
            <button class="btn m-0 p-0 col-12" data-toggle="collapse" data-target="#course_templates" role="button" aria-expanded="false" aria-controls="course_templates">
              
                <span class="pl-5 pr-5 pt-3 pb-3 d-flex flex-row justify-content-between child-folders">
              
                <span>templates</span>
                <i class="fas fa-sort-down"></i>
              </span>
            </button>
          </ul>
          <ul class ="collapse" id="course_templates"> 
    
        
          
          <ul class="p-2">
            <li class="m-2 list-unstyled"><span class="far fa-file mr-1"></span>
                <a class="course-file" href=/courses/jedha-full-stack-24-program/S1.9%20--%20D%C3%A9ployer%20une%20application%20FLASK/S19-B%20-%20Deployer%20une%20application%20sur%20Azure/Exercices/linear_regression_with_flask_with_bdd/templates/index.html>index.html</a>
            </li>
          </ul>
        
    
    
        
          
          <ul class="p-2">
            <li class="m-2 list-unstyled"><span class="far fa-file mr-1"></span>
                <a class="course-file" href=/courses/jedha-full-stack-24-program/S1.9%20--%20D%C3%A9ployer%20une%20application%20FLASK/S19-B%20-%20Deployer%20une%20application%20sur%20Azure/Exercices/linear_regression_with_flask_with_bdd/templates/layout.html>layout.html</a>
            </li>
          </ul>
        
    
    
        
          
          <ul class="p-2">
            <li class="m-2 list-unstyled"><span class="far fa-file mr-1"></span>
                <a class="course-file" href=/courses/jedha-full-stack-24-program/S1.9%20--%20D%C3%A9ployer%20une%20application%20FLASK/S19-B%20-%20Deployer%20une%20application%20sur%20Azure/Exercices/linear_regression_with_flask_with_bdd/templates/predicted.html>predicted.html</a>
            </li>
          </ul>
        
    </ul>
        
    </ul>
        
    </ul>
        
    
    
        
          
          <ul class="p-2">
            <li class="m-2 list-unstyled"><span class="far fa-file mr-1"></span>
                <a class="course-file" href=/courses/jedha-full-stack-24-program/S1.9%20--%20D%C3%A9ployer%20une%20application%20FLASK/S19-B%20-%20Deployer%20une%20application%20sur%20Azure/README.md>README.md</a>
            </li>
          </ul>
        
    
    
        
          <ul class="p-0 mt-4">
            <button class="btn m-0 p-0 col-12" data-toggle="collapse" data-target="#course_solutions" role="button" aria-expanded="false" aria-controls="course_solutions">
              
                <span class="pl-5 pr-5 pt-3 pb-3 d-flex flex-row justify-content-between child-folders">
              
                <span>Solutions</span>
                <i class="fas fa-sort-down"></i>
              </span>
            </button>
          </ul>
          <ul class ="collapse" id="course_solutions"> 
    
        
          
          <ul class="p-2">
            <li class="m-2 list-unstyled"><span class="far fa-file mr-1"></span>
                <a class="course-file" href=/courses/jedha-full-stack-24-program/S1.9%20--%20D%C3%A9ployer%20une%20application%20FLASK/S19-B%20-%20Deployer%20une%20application%20sur%20Azure/Solutions/README.md>README.md</a>
            </li>
          </ul>
        
    </ul>
        
    
    
        
          <ul class="p-0 mt-4">
            <button class="btn m-0 p-0 col-12" data-toggle="collapse" data-target="#course_linear_regression_with_flask" role="button" aria-expanded="false" aria-controls="course_linear_regression_with_flask">
              
                <span class="pl-5 pr-5 pt-3 pb-3 d-flex flex-row justify-content-between child-folders">
              
                <span>linear_regression_with_flask</span>
                <i class="fas fa-sort-down"></i>
              </span>
            </button>
          </ul>
          <ul class ="collapse" id="course_linear_regression_with_flask"> 
    
        
          
          <ul class="p-2">
            <li class="m-2 list-unstyled"><span class="far fa-file mr-1"></span>
                <a class="course-file" href=/courses/jedha-full-stack-24-program/S1.9%20--%20D%C3%A9ployer%20une%20application%20FLASK/S19-B%20-%20Deployer%20une%20application%20sur%20Azure/linear_regression_with_flask/app.py>app.py</a>
            </li>
          </ul>
        
    
    
        
          
          <ul class="p-2">
            <li class="m-2 list-unstyled"><span class="far fa-file mr-1"></span>
                <a class="course-file" href=/courses/jedha-full-stack-24-program/S1.9%20--%20D%C3%A9ployer%20une%20application%20FLASK/S19-B%20-%20Deployer%20une%20application%20sur%20Azure/linear_regression_with_flask/linear_regression_model.pkl>linear_regression_model.pkl</a>
            </li>
          </ul>
        
    
    
        
          
          <ul class="p-2">
            <li class="m-2 list-unstyled"><span class="far fa-file mr-1"></span>
                <a class="course-file" href=/courses/jedha-full-stack-24-program/S1.9%20--%20D%C3%A9ployer%20une%20application%20FLASK/S19-B%20-%20Deployer%20une%20application%20sur%20Azure/linear_regression_with_flask/prediction.py>prediction.py</a>
            </li>
          </ul>
        
    
    
        
          
          <ul class="p-2">
            <li class="m-2 list-unstyled"><span class="far fa-file mr-1"></span>
                <a class="course-file" href=/courses/jedha-full-stack-24-program/S1.9%20--%20D%C3%A9ployer%20une%20application%20FLASK/S19-B%20-%20Deployer%20une%20application%20sur%20Azure/linear_regression_with_flask/requirements.txt>requirements.txt</a>
            </li>
          </ul>
        
    
    
        
          <ul class="p-0 mt-4">
            <button class="btn m-0 p-0 col-12" data-toggle="collapse" data-target="#course_static" role="button" aria-expanded="false" aria-controls="course_static">
              
                <span class="pl-5 pr-5 pt-3 pb-3 d-flex flex-row justify-content-between child-folders">
              
                <span>static</span>
                <i class="fas fa-sort-down"></i>
              </span>
            </button>
          </ul>
          <ul class ="collapse" id="course_static"> 
    
        
          
          <ul class="p-2">
            <li class="m-2 list-unstyled"><span class="far fa-file mr-1"></span>
                <a class="course-file" href=/courses/jedha-full-stack-24-program/S1.9%20--%20D%C3%A9ployer%20une%20application%20FLASK/S19-B%20-%20Deployer%20une%20application%20sur%20Azure/linear_regression_with_flask/static/animations.js>animations.js</a>
            </li>
          </ul>
        
    
    
        
          
          <ul class="p-2">
            <li class="m-2 list-unstyled"><span class="far fa-file mr-1"></span>
                <a class="course-file" href=/courses/jedha-full-stack-24-program/S1.9%20--%20D%C3%A9ployer%20une%20application%20FLASK/S19-B%20-%20Deployer%20une%20application%20sur%20Azure/linear_regression_with_flask/static/style.css>style.css</a>
            </li>
          </ul>
        
    </ul>
        
    
    
        
          <ul class="p-0 mt-4">
            <button class="btn m-0 p-0 col-12" data-toggle="collapse" data-target="#course_templates" role="button" aria-expanded="false" aria-controls="course_templates">
              
                <span class="pl-5 pr-5 pt-3 pb-3 d-flex flex-row justify-content-between child-folders">
              
                <span>templates</span>
                <i class="fas fa-sort-down"></i>
              </span>
            </button>
          </ul>
          <ul class ="collapse" id="course_templates"> 
    
        
          
          <ul class="p-2">
            <li class="m-2 list-unstyled"><span class="far fa-file mr-1"></span>
                <a class="course-file" href=/courses/jedha-full-stack-24-program/S1.9%20--%20D%C3%A9ployer%20une%20application%20FLASK/S19-B%20-%20Deployer%20une%20application%20sur%20Azure/linear_regression_with_flask/templates/index.html>index.html</a>
            </li>
          </ul>
        
    
    
        
          
          <ul class="p-2">
            <li class="m-2 list-unstyled"><span class="far fa-file mr-1"></span>
                <a class="course-file" href=/courses/jedha-full-stack-24-program/S1.9%20--%20D%C3%A9ployer%20une%20application%20FLASK/S19-B%20-%20Deployer%20une%20application%20sur%20Azure/linear_regression_with_flask/templates/layout.html>layout.html</a>
            </li>
          </ul>
        
    
    
        
          
          <ul class="p-2">
            <li class="m-2 list-unstyled"><span class="far fa-file mr-1"></span>
                <a class="course-file" href=/courses/jedha-full-stack-24-program/S1.9%20--%20D%C3%A9ployer%20une%20application%20FLASK/S19-B%20-%20Deployer%20une%20application%20sur%20Azure/linear_regression_with_flask/templates/predicted.html>predicted.html</a>
            </li>
          </ul>
        
    </ul>
        
    </ul>
        
    </ul>
        
    </ul>
        
    
    
        
          <ul class="p-0 mt-4">
            <button class="btn m-0 p-0 col-12" data-toggle="collapse" data-target="#course_s20--bigdatatraitementsparallèlisés" role="button" aria-expanded="false" aria-controls="course_s20--bigdatatraitementsparallèlisés">
              
                <span class="pl-5 pr-5 pt-3 pb-3 d-flex flex-row justify-content-between child-folders">
              
                <span>S2.0 -- Big Data &amp; Traitements Parallèlisés</span>
                <i class="fas fa-sort-down"></i>
              </span>
            </button>
          </ul>
          <ul class ="collapse" id="course_s20--bigdatatraitementsparallèlisés"> 
    
        
          <ul class="p-0 mt-4">
            <button class="btn m-0 p-0 col-12" data-toggle="collapse" data-target="#course_s20-a-interagiraveclescomptesdestockages" role="button" aria-expanded="false" aria-controls="course_s20-a-interagiraveclescomptesdestockages">
              
                <span class="pl-5 pr-5 pt-3 pb-3 d-flex flex-row justify-content-between parent-folder">
              
                <span>S20-A - Interagir avec les comptes de stockages</span>
                <i class="fas fa-sort-down"></i>
              </span>
            </button>
          </ul>
          <ul class ="collapse" id="course_s20-a-interagiraveclescomptesdestockages"> 
    
        
          <ul class="p-0 mt-4">
            <button class="btn m-0 p-0 col-12" data-toggle="collapse" data-target="#course_exercices" role="button" aria-expanded="false" aria-controls="course_exercices">
              
                <span class="pl-5 pr-5 pt-3 pb-3 d-flex flex-row justify-content-between parent-folder">
              
                <span>Exercices</span>
                <i class="fas fa-sort-down"></i>
              </span>
            </button>
          </ul>
          <ul class ="collapse" id="course_exercices"> 
    
        
          
          <ul class="p-2">
            <li class="m-2 list-unstyled"><span class="far fa-file mr-1"></span>
                <a class="course-file" href=/courses/jedha-full-stack-24-program/S2.0%20--%20Big%20Data%20%26%20Traitements%20Parall%C3%A8lis%C3%A9s/S20-A%20-%20Interagir%20avec%20les%20comptes%20de%20stockages/Exercices/Exercices%20Azure.md>Exercices Azure.md</a>
            </li>
          </ul>
        
    </ul>
        
    
    
        
          
          <ul class="p-2">
            <li class="m-2 list-unstyled"><span class="far fa-file mr-1"></span>
                <a class="course-file" href=/courses/jedha-full-stack-24-program/S2.0%20--%20Big%20Data%20%26%20Traitements%20Parall%C3%A8lis%C3%A9s/S20-A%20-%20Interagir%20avec%20les%20comptes%20de%20stockages/README.md>README.md</a>
            </li>
          </ul>
        
    
    
        
          <ul class="p-0 mt-4">
            <button class="btn m-0 p-0 col-12" data-toggle="collapse" data-target="#course_solutions" role="button" aria-expanded="false" aria-controls="course_solutions">
              
                <span class="pl-5 pr-5 pt-3 pb-3 d-flex flex-row justify-content-between child-folders">
              
                <span>Solutions</span>
                <i class="fas fa-sort-down"></i>
              </span>
            </button>
          </ul>
          <ul class ="collapse" id="course_solutions"> 
    
        
          
          <ul class="p-2">
            <li class="m-2 list-unstyled"><span class="far fa-file mr-1"></span>
                <a class="course-file" href=/courses/jedha-full-stack-24-program/S2.0%20--%20Big%20Data%20%26%20Traitements%20Parall%C3%A8lis%C3%A9s/S20-A%20-%20Interagir%20avec%20les%20comptes%20de%20stockages/Solutions/1.%20Interagir%20avec%20les%20comptes%20de%20stockages.md>1. Interagir avec les comptes de stockages.md</a>
            </li>
          </ul>
        
    
    
        
          
          <ul class="p-2">
            <li class="m-2 list-unstyled"><span class="far fa-file mr-1"></span>
                <a class="course-file" href=/courses/jedha-full-stack-24-program/S2.0%20--%20Big%20Data%20%26%20Traitements%20Parall%C3%A8lis%C3%A9s/S20-A%20-%20Interagir%20avec%20les%20comptes%20de%20stockages/Solutions/2.%20Interagir%20avec%20les%20bases%20de%20donn%C3%A9es.md>2. Interagir avec les bases de données.md</a>
            </li>
          </ul>
        
    </ul>
        
    </ul>
        
    
    
        
          <ul class="p-0 mt-4">
            <button class="btn m-0 p-0 col-12" data-toggle="collapse" data-target="#course_s20-b-initiationdatabricksspark" role="button" aria-expanded="false" aria-controls="course_s20-b-initiationdatabricksspark">
              
                <span class="pl-5 pr-5 pt-3 pb-3 d-flex flex-row justify-content-between child-folders">
              
                <span>S20-B - Initiation DataBricks &amp; Spark</span>
                <i class="fas fa-sort-down"></i>
              </span>
            </button>
          </ul>
          <ul class ="collapse" id="course_s20-b-initiationdatabricksspark"> 
    
        
          
          <ul class="p-2">
            <li class="m-2 list-unstyled"><span class="far fa-file mr-1"></span>
                <a class="course-file" href=/courses/jedha-full-stack-24-program/S2.0%20--%20Big%20Data%20%26%20Traitements%20Parall%C3%A8lis%C3%A9s/S20-B%20-%20Initiation%20DataBricks%20%26%20Spark/2.%20Exercices%20initiation%20Spark%20et%20Databricks.md>2. Exercices initiation Spark et Databricks.md</a>
            </li>
          </ul>
        
    
    
        
          
          <ul class="p-2">
            <li class="m-2 list-unstyled"><span class="far fa-file mr-1"></span>
                <a class="course-file" href=/courses/jedha-full-stack-24-program/S2.0%20--%20Big%20Data%20%26%20Traitements%20Parall%C3%A8lis%C3%A9s/S20-B%20-%20Initiation%20DataBricks%20%26%20Spark/3.%20Introduction%20Spark%20et%20Databricks%20-%20SOLUTIONS.md>3. Introduction Spark et Databricks - SOLUTIONS.md</a>
            </li>
          </ul>
        
    
    
        
          
          <ul class="p-2">
            <li class="m-2 list-unstyled"><span class="far fa-file mr-1"></span>
                <a class="course-file" href=/courses/jedha-full-stack-24-program/S2.0%20--%20Big%20Data%20%26%20Traitements%20Parall%C3%A8lis%C3%A9s/S20-B%20-%20Initiation%20DataBricks%20%26%20Spark/README.md>README.md</a>
            </li>
          </ul>
        
    </ul>
        
    </ul>
        
    
    
        
          <ul class="p-0 mt-4">
            <button class="btn m-0 p-0 col-12" data-toggle="collapse" data-target="#course_s21--spark" role="button" aria-expanded="false" aria-controls="course_s21--spark">
              
                <span class="pl-5 pr-5 pt-3 pb-3 d-flex flex-row justify-content-between child-folders">
              
                <span>S2.1 -- Spark</span>
                <i class="fas fa-sort-down"></i>
              </span>
            </button>
          </ul>
          <ul class ="collapse" id="course_s21--spark"> 
    
        
          <ul class="p-0 mt-4">
            <button class="btn m-0 p-0 col-12" data-toggle="collapse" data-target="#course_s21-a-sparksql" role="button" aria-expanded="false" aria-controls="course_s21-a-sparksql">
              
                <span class="pl-5 pr-5 pt-3 pb-3 d-flex flex-row justify-content-between parent-folder">
              
                <span>S21-A - Spark SQL</span>
                <i class="fas fa-sort-down"></i>
              </span>
            </button>
          </ul>
          <ul class ="collapse" id="course_s21-a-sparksql"> 
    
        
          
          <ul class="p-2">
            <li class="m-2 list-unstyled"><span class="far fa-file mr-1"></span>
                <a class="course-file" href=/courses/jedha-full-stack-24-program/S2.1%20--%20Spark/S21-A%20-%20Spark%20SQL/1.%20Spark_SQL%20-%20Exercice.ipynb>1. Spark_SQL - Exercice.ipynb</a>
            </li>
          </ul>
        
    
    
        
          
          <ul class="p-2">
            <li class="m-2 list-unstyled"><span class="far fa-file mr-1"></span>
                <a class="course-file" href=/courses/jedha-full-stack-24-program/S2.1%20--%20Spark/S21-A%20-%20Spark%20SQL/2.%20Correction%20Spark%20SQL.md>2. Correction Spark SQL.md</a>
            </li>
          </ul>
        
    
    
        
          
          <ul class="p-2">
            <li class="m-2 list-unstyled"><span class="far fa-file mr-1"></span>
                <a class="course-file" href=/courses/jedha-full-stack-24-program/S2.1%20--%20Spark/S21-A%20-%20Spark%20SQL/3.%20SparkSQL.md>3. SparkSQL.md</a>
            </li>
          </ul>
        
    
    
        
          
          <ul class="p-2">
            <li class="m-2 list-unstyled"><span class="far fa-file mr-1"></span>
                <a class="course-file" href=/courses/jedha-full-stack-24-program/S2.1%20--%20Spark/S21-A%20-%20Spark%20SQL/README.md>README.md</a>
            </li>
          </ul>
        
    </ul>
        
    
    
        
          <ul class="p-0 mt-4">
            <button class="btn m-0 p-0 col-12" data-toggle="collapse" data-target="#course_s21-b-sparkmllib" role="button" aria-expanded="false" aria-controls="course_s21-b-sparkmllib">
              
                <span class="pl-5 pr-5 pt-3 pb-3 d-flex flex-row justify-content-between child-folders">
              
                <span>S21-B - Spark MLlib</span>
                <i class="fas fa-sort-down"></i>
              </span>
            </button>
          </ul>
          <ul class ="collapse" id="course_s21-b-sparkmllib"> 
    
        
          
          <ul class="p-2">
            <li class="m-2 list-unstyled"><span class="far fa-file mr-1"></span>
                <a class="course-file" href=/courses/jedha-full-stack-24-program/S2.1%20--%20Spark/S21-B%20-%20Spark%20MLlib/2.%20MLlib%20-%20Notebook.md>2. MLlib - Notebook.md</a>
            </li>
          </ul>
        
    
    
        
          
          <ul class="p-2">
            <li class="m-2 list-unstyled"><span class="far fa-file mr-1"></span>
                <a class="course-file" href=/courses/jedha-full-stack-24-program/S2.1%20--%20Spark/S21-B%20-%20Spark%20MLlib/README.md>README.md</a>
            </li>
          </ul>
        
    
    
        
          
          <ul class="p-2">
            <li class="m-2 list-unstyled"><span class="far fa-file mr-1"></span>
                <a class="course-file" href=/courses/jedha-full-stack-24-program/S2.1%20--%20Spark/S21-B%20-%20Spark%20MLlib/Spark%20MLlib%20Classification%20-%20Exercice%20SOLUTION.md>Spark MLlib Classification - Exercice SOLUTION.md</a>
            </li>
          </ul>
        
    </ul>
        
    </ul>
        
    
    
        
          <ul class="p-0 mt-4">
            <button class="btn m-0 p-0 col-12" data-toggle="collapse" data-target="#course_s22--projet-moteurderecommandationsavecspark" role="button" aria-expanded="false" aria-controls="course_s22--projet-moteurderecommandationsavecspark">
              
                <span class="pl-5 pr-5 pt-3 pb-3 d-flex flex-row justify-content-between child-folders">
              
                <span>S2.2 -- Projet - MOTEUR DE RECOMMANDATIONS AVEC SPARK</span>
                <i class="fas fa-sort-down"></i>
              </span>
            </button>
          </ul>
          <ul class ="collapse" id="course_s22--projet-moteurderecommandationsavecspark"> 
    
        
          <ul class="p-0 mt-4">
            <button class="btn m-0 p-0 col-12" data-toggle="collapse" data-target="#course_s22-a-introductionauxmoteursderecommandations" role="button" aria-expanded="false" aria-controls="course_s22-a-introductionauxmoteursderecommandations">
              
                <span class="pl-5 pr-5 pt-3 pb-3 d-flex flex-row justify-content-between parent-folder">
              
                <span>S22-A - Introduction aux moteurs de recommandations</span>
                <i class="fas fa-sort-down"></i>
              </span>
            </button>
          </ul>
          <ul class ="collapse" id="course_s22-a-introductionauxmoteursderecommandations"> 
    
        
          
          <ul class="p-2">
            <li class="m-2 list-unstyled"><span class="far fa-file mr-1"></span>
                <a class="course-file" href=/courses/jedha-full-stack-24-program/S2.2%20--%20Projet%20-%20MOTEUR%20DE%20RECOMMANDATIONS%20AVEC%20SPARK/S22-A%20-%20Introduction%20aux%20moteurs%20de%20recommandations/2.%20Moteur%20de%20recommandation%20-%20Notebook.md>2. Moteur de recommandation - Notebook.md</a>
            </li>
          </ul>
        
    
    
        
          
          <ul class="p-2">
            <li class="m-2 list-unstyled"><span class="far fa-file mr-1"></span>
                <a class="course-file" href=/courses/jedha-full-stack-24-program/S2.2%20--%20Projet%20-%20MOTEUR%20DE%20RECOMMANDATIONS%20AVEC%20SPARK/S22-A%20-%20Introduction%20aux%20moteurs%20de%20recommandations/README.md>README.md</a>
            </li>
          </ul>
        
    </ul>
        
    
    
        
          <ul class="p-0 mt-4">
            <button class="btn m-0 p-0 col-12" data-toggle="collapse" data-target="#course_s22-b-créersonmoteurderecommandationsderestaurants" role="button" aria-expanded="false" aria-controls="course_s22-b-créersonmoteurderecommandationsderestaurants">
              
                <span class="pl-5 pr-5 pt-3 pb-3 d-flex flex-row justify-content-between child-folders">
              
                <span>S22-B - Créer son moteur de recommandations de restaurants</span>
                <i class="fas fa-sort-down"></i>
              </span>
            </button>
          </ul>
          <ul class ="collapse" id="course_s22-b-créersonmoteurderecommandationsderestaurants"> 
    
        
          
          <ul class="p-2">
            <li class="m-2 list-unstyled"><span class="far fa-file mr-1"></span>
                <a class="course-file" href=/courses/jedha-full-stack-24-program/S2.2%20--%20Projet%20-%20MOTEUR%20DE%20RECOMMANDATIONS%20AVEC%20SPARK/S22-B%20-%20Cr%C3%A9er%20son%20moteur%20de%20recommandations%20de%20restaurants/1.%20Exercices%20Moteur%20de%20recommandation.md>1. Exercices Moteur de recommandation.md</a>
            </li>
          </ul>
        
    
    
        
          
          <ul class="p-2">
            <li class="m-2 list-unstyled"><span class="far fa-file mr-1"></span>
                <a class="course-file" href=/courses/jedha-full-stack-24-program/S2.2%20--%20Projet%20-%20MOTEUR%20DE%20RECOMMANDATIONS%20AVEC%20SPARK/S22-B%20-%20Cr%C3%A9er%20son%20moteur%20de%20recommandations%20de%20restaurants/2.%20Exercices%20Moteur%20de%20Recommandation%20-%20SOLUTIONS.md>2. Exercices Moteur de Recommandation - SOLUTIONS.md</a>
            </li>
          </ul>
        
    </ul>
        
    </ul>
        
    
    
        
          <ul class="p-0 mt-4">
            <button class="btn m-0 p-0 col-12" data-toggle="collapse" data-target="#course_s23--coachingcarrière" role="button" aria-expanded="false" aria-controls="course_s23--coachingcarrière">
              
                <span class="pl-5 pr-5 pt-3 pb-3 d-flex flex-row justify-content-between child-folders">
              
                <span>S2.3 -- Coaching carrière</span>
                <i class="fas fa-sort-down"></i>
              </span>
            </button>
          </ul>
          <ul class ="collapse" id="course_s23--coachingcarrière"> 
    
        
          <ul class="p-0 mt-4">
            <button class="btn m-0 p-0 col-12" data-toggle="collapse" data-target="#course_s23-a-codingchallenge" role="button" aria-expanded="false" aria-controls="course_s23-a-codingchallenge">
              
                <span class="pl-5 pr-5 pt-3 pb-3 d-flex flex-row justify-content-between parent-folder">
              
                <span>S23-A - Coding Challenge</span>
                <i class="fas fa-sort-down"></i>
              </span>
            </button>
          </ul>
          <ul class ="collapse" id="course_s23-a-codingchallenge"> 
    
        
          <ul class="p-0 mt-4">
            <button class="btn m-0 p-0 col-12" data-toggle="collapse" data-target="#course_codingchallenge" role="button" aria-expanded="false" aria-controls="course_codingchallenge">
              
                <span class="pl-5 pr-5 pt-3 pb-3 d-flex flex-row justify-content-between parent-folder">
              
                <span>Coding Challenge</span>
                <i class="fas fa-sort-down"></i>
              </span>
            </button>
          </ul>
          <ul class ="collapse" id="course_codingchallenge"> 
    
        
          
          <ul class="p-2">
            <li class="m-2 list-unstyled"><span class="far fa-file mr-1"></span>
                <a class="course-file" href=/courses/jedha-full-stack-24-program/S2.3%20--%20Coaching%20carri%C3%A8re/S23-A%20-%20Coding%20Challenge/Coding%20Challenge/1.%20Coding%20Challenge%20FULL%20STACK%20PROGRAM.ipynb>1. Coding Challenge FULL STACK PROGRAM.ipynb</a>
            </li>
          </ul>
        
    
    
        
          
          <ul class="p-2">
            <li class="m-2 list-unstyled"><span class="far fa-file mr-1"></span>
                <a class="course-file" href=/courses/jedha-full-stack-24-program/S2.3%20--%20Coaching%20carri%C3%A8re/S23-A%20-%20Coding%20Challenge/Coding%20Challenge/2.%20Coding%20Challenge%20SOLUTIONS.md>2. Coding Challenge SOLUTIONS.md</a>
            </li>
          </ul>
        
    </ul>
        
    
    
        
          
          <ul class="p-2">
            <li class="m-2 list-unstyled"><span class="far fa-file mr-1"></span>
                <a class="course-file" href=/courses/jedha-full-stack-24-program/S2.3%20--%20Coaching%20carri%C3%A8re/S23-A%20-%20Coding%20Challenge/README.md>README.md</a>
            </li>
          </ul>
        
    </ul>
        
    
    
        
          <ul class="p-0 mt-4">
            <button class="btn m-0 p-0 col-12" data-toggle="collapse" data-target="#course_s23-b-préparationauxentretienstechniques" role="button" aria-expanded="false" aria-controls="course_s23-b-préparationauxentretienstechniques">
              
                <span class="pl-5 pr-5 pt-3 pb-3 d-flex flex-row justify-content-between child-folders">
              
                <span>S23-B - Préparation aux entretiens techniques</span>
                <i class="fas fa-sort-down"></i>
              </span>
            </button>
          </ul>
          <ul class ="collapse" id="course_s23-b-préparationauxentretienstechniques"> 
    
        
          <ul class="p-0 mt-4">
            <button class="btn m-0 p-0 col-12" data-toggle="collapse" data-target="#course_codingchallenge" role="button" aria-expanded="false" aria-controls="course_codingchallenge">
              
                <span class="pl-5 pr-5 pt-3 pb-3 d-flex flex-row justify-content-between parent-folder">
              
                <span>Coding Challenge</span>
                <i class="fas fa-sort-down"></i>
              </span>
            </button>
          </ul>
          <ul class ="collapse" id="course_codingchallenge"> 
    
        
          
          <ul class="p-2">
            <li class="m-2 list-unstyled"><span class="far fa-file mr-1"></span>
                <a class="course-file" href=/courses/jedha-full-stack-24-program/S2.3%20--%20Coaching%20carri%C3%A8re/S23-B%20-%20Pr%C3%A9paration%20aux%20entretiens%20techniques/Coding%20Challenge/README.md>README.md</a>
            </li>
          </ul>
        
    
    
        
          
          <ul class="p-2">
            <li class="m-2 list-unstyled"><span class="far fa-file mr-1"></span>
                <a class="course-file" href=/courses/jedha-full-stack-24-program/S2.3%20--%20Coaching%20carri%C3%A8re/S23-B%20-%20Pr%C3%A9paration%20aux%20entretiens%20techniques/Coding%20Challenge/referral.csv>referral.csv</a>
            </li>
          </ul>
        
    </ul>
        
    
    
        
          <ul class="p-0 mt-4">
            <button class="btn m-0 p-0 col-12" data-toggle="collapse" data-target="#course_machinelearningflashcards" role="button" aria-expanded="false" aria-controls="course_machinelearningflashcards">
              
                <span class="pl-5 pr-5 pt-3 pb-3 d-flex flex-row justify-content-between child-folders">
              
                <span>Machine Learning Flashcards</span>
                <i class="fas fa-sort-down"></i>
              </span>
            </button>
          </ul>
          <ul class ="collapse" id="course_machinelearningflashcards"> 
    
        
          
          <ul class="p-2">
            <li class="m-2 list-unstyled"><span class="far fa-file mr-1"></span>
                <a class="course-file" href=/courses/jedha-full-stack-24-program/S2.3%20--%20Coaching%20carri%C3%A8re/S23-B%20-%20Pr%C3%A9paration%20aux%20entretiens%20techniques/Machine%20Learning%20Flashcards/AIC_web.png>AIC_web.png</a>
            </li>
          </ul>
        
    
    
        
          
          <ul class="p-2">
            <li class="m-2 list-unstyled"><span class="far fa-file mr-1"></span>
                <a class="course-file" href=/courses/jedha-full-stack-24-program/S2.3%20--%20Coaching%20carri%C3%A8re/S23-B%20-%20Pr%C3%A9paration%20aux%20entretiens%20techniques/Machine%20Learning%20Flashcards/Accuracy_web.png>Accuracy_web.png</a>
            </li>
          </ul>
        
    
    
        
          
          <ul class="p-2">
            <li class="m-2 list-unstyled"><span class="far fa-file mr-1"></span>
                <a class="course-file" href=/courses/jedha-full-stack-24-program/S2.3%20--%20Coaching%20carri%C3%A8re/S23-B%20-%20Pr%C3%A9paration%20aux%20entretiens%20techniques/Machine%20Learning%20Flashcards/AdaBoost_web.png>AdaBoost_web.png</a>
            </li>
          </ul>
        
    
    
        
          
          <ul class="p-2">
            <li class="m-2 list-unstyled"><span class="far fa-file mr-1"></span>
                <a class="course-file" href=/courses/jedha-full-stack-24-program/S2.3%20--%20Coaching%20carri%C3%A8re/S23-B%20-%20Pr%C3%A9paration%20aux%20entretiens%20techniques/Machine%20Learning%20Flashcards/Adjusted_R-Squared_web.png>Adjusted_R-Squared_web.png</a>
            </li>
          </ul>
        
    
    
        
          
          <ul class="p-2">
            <li class="m-2 list-unstyled"><span class="far fa-file mr-1"></span>
                <a class="course-file" href=/courses/jedha-full-stack-24-program/S2.3%20--%20Coaching%20carri%C3%A8re/S23-B%20-%20Pr%C3%A9paration%20aux%20entretiens%20techniques/Machine%20Learning%20Flashcards/Aggomerative_Clustering_web.png>Aggomerative_Clustering_web.png</a>
            </li>
          </ul>
        
    
    
        
          
          <ul class="p-2">
            <li class="m-2 list-unstyled"><span class="far fa-file mr-1"></span>
                <a class="course-file" href=/courses/jedha-full-stack-24-program/S2.3%20--%20Coaching%20carri%C3%A8re/S23-B%20-%20Pr%C3%A9paration%20aux%20entretiens%20techniques/Machine%20Learning%20Flashcards/Almost_Everywhere_web.png>Almost_Everywhere_web.png</a>
            </li>
          </ul>
        
    
    
        
          
          <ul class="p-2">
            <li class="m-2 list-unstyled"><span class="far fa-file mr-1"></span>
                <a class="course-file" href=/courses/jedha-full-stack-24-program/S2.3%20--%20Coaching%20carri%C3%A8re/S23-B%20-%20Pr%C3%A9paration%20aux%20entretiens%20techniques/Machine%20Learning%20Flashcards/Alpha_In_Ridge_Regression_web.png>Alpha_In_Ridge_Regression_web.png</a>
            </li>
          </ul>
        
    
    
        
          
          <ul class="p-2">
            <li class="m-2 list-unstyled"><span class="far fa-file mr-1"></span>
                <a class="course-file" href=/courses/jedha-full-stack-24-program/S2.3%20--%20Coaching%20carri%C3%A8re/S23-B%20-%20Pr%C3%A9paration%20aux%20entretiens%20techniques/Machine%20Learning%20Flashcards/Anscombes_Quartet_web.png>Anscombes_Quartet_web.png</a>
            </li>
          </ul>
        
    
    
        
          
          <ul class="p-2">
            <li class="m-2 list-unstyled"><span class="far fa-file mr-1"></span>
                <a class="course-file" href=/courses/jedha-full-stack-24-program/S2.3%20--%20Coaching%20carri%C3%A8re/S23-B%20-%20Pr%C3%A9paration%20aux%20entretiens%20techniques/Machine%20Learning%20Flashcards/Architecture_Of_A_Neural_Network_web.png>Architecture_Of_A_Neural_Network_web.png</a>
            </li>
          </ul>
        
    
    
        
          
          <ul class="p-2">
            <li class="m-2 list-unstyled"><span class="far fa-file mr-1"></span>
                <a class="course-file" href=/courses/jedha-full-stack-24-program/S2.3%20--%20Coaching%20carri%C3%A8re/S23-B%20-%20Pr%C3%A9paration%20aux%20entretiens%20techniques/Machine%20Learning%20Flashcards/Area_Under_The_Curve_web.png>Area_Under_The_Curve_web.png</a>
            </li>
          </ul>
        
    
    
        
          
          <ul class="p-2">
            <li class="m-2 list-unstyled"><span class="far fa-file mr-1"></span>
                <a class="course-file" href=/courses/jedha-full-stack-24-program/S2.3%20--%20Coaching%20carri%C3%A8re/S23-B%20-%20Pr%C3%A9paration%20aux%20entretiens%20techniques/Machine%20Learning%20Flashcards/Avoid_Overfitting_web.png>Avoid_Overfitting_web.png</a>
            </li>
          </ul>
        
    
    
        
          
          <ul class="p-2">
            <li class="m-2 list-unstyled"><span class="far fa-file mr-1"></span>
                <a class="course-file" href=/courses/jedha-full-stack-24-program/S2.3%20--%20Coaching%20carri%C3%A8re/S23-B%20-%20Pr%C3%A9paration%20aux%20entretiens%20techniques/Machine%20Learning%20Flashcards/BackProp_web.png>BackProp_web.png</a>
            </li>
          </ul>
        
    
    
        
          
          <ul class="p-2">
            <li class="m-2 list-unstyled"><span class="far fa-file mr-1"></span>
                <a class="course-file" href=/courses/jedha-full-stack-24-program/S2.3%20--%20Coaching%20carri%C3%A8re/S23-B%20-%20Pr%C3%A9paration%20aux%20entretiens%20techniques/Machine%20Learning%20Flashcards/Bag_Of_Words_web.png>Bag_Of_Words_web.png</a>
            </li>
          </ul>
        
    
    
        
          
          <ul class="p-2">
            <li class="m-2 list-unstyled"><span class="far fa-file mr-1"></span>
                <a class="course-file" href=/courses/jedha-full-stack-24-program/S2.3%20--%20Coaching%20carri%C3%A8re/S23-B%20-%20Pr%C3%A9paration%20aux%20entretiens%20techniques/Machine%20Learning%20Flashcards/Bagging_Vs_Dropout_web.png>Bagging_Vs_Dropout_web.png</a>
            </li>
          </ul>
        
    
    
        
          
          <ul class="p-2">
            <li class="m-2 list-unstyled"><span class="far fa-file mr-1"></span>
                <a class="course-file" href=/courses/jedha-full-stack-24-program/S2.3%20--%20Coaching%20carri%C3%A8re/S23-B%20-%20Pr%C3%A9paration%20aux%20entretiens%20techniques/Machine%20Learning%20Flashcards/Bagging_web.png>Bagging_web.png</a>
            </li>
          </ul>
        
    
    
        
          
          <ul class="p-2">
            <li class="m-2 list-unstyled"><span class="far fa-file mr-1"></span>
                <a class="course-file" href=/courses/jedha-full-stack-24-program/S2.3%20--%20Coaching%20carri%C3%A8re/S23-B%20-%20Pr%C3%A9paration%20aux%20entretiens%20techniques/Machine%20Learning%20Flashcards/Basic_Parts_Of_Deep_Learning_web.png>Basic_Parts_Of_Deep_Learning_web.png</a>
            </li>
          </ul>
        
    
    
        
          
          <ul class="p-2">
            <li class="m-2 list-unstyled"><span class="far fa-file mr-1"></span>
                <a class="course-file" href=/courses/jedha-full-stack-24-program/S2.3%20--%20Coaching%20carri%C3%A8re/S23-B%20-%20Pr%C3%A9paration%20aux%20entretiens%20techniques/Machine%20Learning%20Flashcards/Bayes_Error_web.png>Bayes_Error_web.png</a>
            </li>
          </ul>
        
    
    
        
          
          <ul class="p-2">
            <li class="m-2 list-unstyled"><span class="far fa-file mr-1"></span>
                <a class="course-file" href=/courses/jedha-full-stack-24-program/S2.3%20--%20Coaching%20carri%C3%A8re/S23-B%20-%20Pr%C3%A9paration%20aux%20entretiens%20techniques/Machine%20Learning%20Flashcards/Bayes_Theorem_web.png>Bayes_Theorem_web.png</a>
            </li>
          </ul>
        
    
    
        
          
          <ul class="p-2">
            <li class="m-2 list-unstyled"><span class="far fa-file mr-1"></span>
                <a class="course-file" href=/courses/jedha-full-stack-24-program/S2.3%20--%20Coaching%20carri%C3%A8re/S23-B%20-%20Pr%C3%A9paration%20aux%20entretiens%20techniques/Machine%20Learning%20Flashcards/Bayesian_Methods_Pros_And_Cons_web.png>Bayesian_Methods_Pros_And_Cons_web.png</a>
            </li>
          </ul>
        
    
    
        
          
          <ul class="p-2">
            <li class="m-2 list-unstyled"><span class="far fa-file mr-1"></span>
                <a class="course-file" href=/courses/jedha-full-stack-24-program/S2.3%20--%20Coaching%20carri%C3%A8re/S23-B%20-%20Pr%C3%A9paration%20aux%20entretiens%20techniques/Machine%20Learning%20Flashcards/Bias-Variance_Tradeoff_web.png>Bias-Variance_Tradeoff_web.png</a>
            </li>
          </ul>
        
    
    
        
          
          <ul class="p-2">
            <li class="m-2 list-unstyled"><span class="far fa-file mr-1"></span>
                <a class="course-file" href=/courses/jedha-full-stack-24-program/S2.3%20--%20Coaching%20carri%C3%A8re/S23-B%20-%20Pr%C3%A9paration%20aux%20entretiens%20techniques/Machine%20Learning%20Flashcards/Bias_web.png>Bias_web.png</a>
            </li>
          </ul>
        
    
    
        
          
          <ul class="p-2">
            <li class="m-2 list-unstyled"><span class="far fa-file mr-1"></span>
                <a class="course-file" href=/courses/jedha-full-stack-24-program/S2.3%20--%20Coaching%20carri%C3%A8re/S23-B%20-%20Pr%C3%A9paration%20aux%20entretiens%20techniques/Machine%20Learning%20Flashcards/Big_O_web.png>Big_O_web.png</a>
            </li>
          </ul>
        
    
    
        
          
          <ul class="p-2">
            <li class="m-2 list-unstyled"><span class="far fa-file mr-1"></span>
                <a class="course-file" href=/courses/jedha-full-stack-24-program/S2.3%20--%20Coaching%20carri%C3%A8re/S23-B%20-%20Pr%C3%A9paration%20aux%20entretiens%20techniques/Machine%20Learning%20Flashcards/Boosting_web.png>Boosting_web.png</a>
            </li>
          </ul>
        
    
    
        
          
          <ul class="p-2">
            <li class="m-2 list-unstyled"><span class="far fa-file mr-1"></span>
                <a class="course-file" href=/courses/jedha-full-stack-24-program/S2.3%20--%20Coaching%20carri%C3%A8re/S23-B%20-%20Pr%C3%A9paration%20aux%20entretiens%20techniques/Machine%20Learning%20Flashcards/Bootstrap_web.png>Bootstrap_web.png</a>
            </li>
          </ul>
        
    
    
        
          
          <ul class="p-2">
            <li class="m-2 list-unstyled"><span class="far fa-file mr-1"></span>
                <a class="course-file" href=/courses/jedha-full-stack-24-program/S2.3%20--%20Coaching%20carri%C3%A8re/S23-B%20-%20Pr%C3%A9paration%20aux%20entretiens%20techniques/Machine%20Learning%20Flashcards/Brier_Score_web.png>Brier_Score_web.png</a>
            </li>
          </ul>
        
    
    
        
          
          <ul class="p-2">
            <li class="m-2 list-unstyled"><span class="far fa-file mr-1"></span>
                <a class="course-file" href=/courses/jedha-full-stack-24-program/S2.3%20--%20Coaching%20carri%C3%A8re/S23-B%20-%20Pr%C3%A9paration%20aux%20entretiens%20techniques/Machine%20Learning%20Flashcards/C_web.png>C_web.png</a>
            </li>
          </ul>
        
    
    
        
          
          <ul class="p-2">
            <li class="m-2 list-unstyled"><span class="far fa-file mr-1"></span>
                <a class="course-file" href=/courses/jedha-full-stack-24-program/S2.3%20--%20Coaching%20carri%C3%A8re/S23-B%20-%20Pr%C3%A9paration%20aux%20entretiens%20techniques/Machine%20Learning%20Flashcards/Capacity_web.png>Capacity_web.png</a>
            </li>
          </ul>
        
    
    
        
          
          <ul class="p-2">
            <li class="m-2 list-unstyled"><span class="far fa-file mr-1"></span>
                <a class="course-file" href=/courses/jedha-full-stack-24-program/S2.3%20--%20Coaching%20carri%C3%A8re/S23-B%20-%20Pr%C3%A9paration%20aux%20entretiens%20techniques/Machine%20Learning%20Flashcards/Categorical_Feature_web.png>Categorical_Feature_web.png</a>
            </li>
          </ul>
        
    
    
        
          
          <ul class="p-2">
            <li class="m-2 list-unstyled"><span class="far fa-file mr-1"></span>
                <a class="course-file" href=/courses/jedha-full-stack-24-program/S2.3%20--%20Coaching%20carri%C3%A8re/S23-B%20-%20Pr%C3%A9paration%20aux%20entretiens%20techniques/Machine%20Learning%20Flashcards/Chain_Rule_Of_Calculus_web.png>Chain_Rule_Of_Calculus_web.png</a>
            </li>
          </ul>
        
    
    
        
          
          <ul class="p-2">
            <li class="m-2 list-unstyled"><span class="far fa-file mr-1"></span>
                <a class="course-file" href=/courses/jedha-full-stack-24-program/S2.3%20--%20Coaching%20carri%C3%A8re/S23-B%20-%20Pr%C3%A9paration%20aux%20entretiens%20techniques/Machine%20Learning%20Flashcards/Chi-Squared_For_Feature_Selection_web.png>Chi-Squared_For_Feature_Selection_web.png</a>
            </li>
          </ul>
        
    
    
        
          
          <ul class="p-2">
            <li class="m-2 list-unstyled"><span class="far fa-file mr-1"></span>
                <a class="course-file" href=/courses/jedha-full-stack-24-program/S2.3%20--%20Coaching%20carri%C3%A8re/S23-B%20-%20Pr%C3%A9paration%20aux%20entretiens%20techniques/Machine%20Learning%20Flashcards/Chi-Squared_web.png>Chi-Squared_web.png</a>
            </li>
          </ul>
        
    
    
        
          
          <ul class="p-2">
            <li class="m-2 list-unstyled"><span class="far fa-file mr-1"></span>
                <a class="course-file" href=/courses/jedha-full-stack-24-program/S2.3%20--%20Coaching%20carri%C3%A8re/S23-B%20-%20Pr%C3%A9paration%20aux%20entretiens%20techniques/Machine%20Learning%20Flashcards/Classification_web.png>Classification_web.png</a>
            </li>
          </ul>
        
    
    
        
          
          <ul class="p-2">
            <li class="m-2 list-unstyled"><span class="far fa-file mr-1"></span>
                <a class="course-file" href=/courses/jedha-full-stack-24-program/S2.3%20--%20Coaching%20carri%C3%A8re/S23-B%20-%20Pr%C3%A9paration%20aux%20entretiens%20techniques/Machine%20Learning%20Flashcards/Combination_web.png>Combination_web.png</a>
            </li>
          </ul>
        
    
    
        
          
          <ul class="p-2">
            <li class="m-2 list-unstyled"><span class="far fa-file mr-1"></span>
                <a class="course-file" href=/courses/jedha-full-stack-24-program/S2.3%20--%20Coaching%20carri%C3%A8re/S23-B%20-%20Pr%C3%A9paration%20aux%20entretiens%20techniques/Machine%20Learning%20Flashcards/Common_Optimizers_With_Neural_Networks_web.png>Common_Optimizers_With_Neural_Networks_web.png</a>
            </li>
          </ul>
        
    
    
        
          
          <ul class="p-2">
            <li class="m-2 list-unstyled"><span class="far fa-file mr-1"></span>
                <a class="course-file" href=/courses/jedha-full-stack-24-program/S2.3%20--%20Coaching%20carri%C3%A8re/S23-B%20-%20Pr%C3%A9paration%20aux%20entretiens%20techniques/Machine%20Learning%20Flashcards/Common_Output_Layer_Activation_Functions_web.png>Common_Output_Layer_Activation_Functions_web.png</a>
            </li>
          </ul>
        
    
    
        
          
          <ul class="p-2">
            <li class="m-2 list-unstyled"><span class="far fa-file mr-1"></span>
                <a class="course-file" href=/courses/jedha-full-stack-24-program/S2.3%20--%20Coaching%20carri%C3%A8re/S23-B%20-%20Pr%C3%A9paration%20aux%20entretiens%20techniques/Machine%20Learning%20Flashcards/Concave_And_Convex_Functions_web.png>Concave_And_Convex_Functions_web.png</a>
            </li>
          </ul>
        
    
    
        
          
          <ul class="p-2">
            <li class="m-2 list-unstyled"><span class="far fa-file mr-1"></span>
                <a class="course-file" href=/courses/jedha-full-stack-24-program/S2.3%20--%20Coaching%20carri%C3%A8re/S23-B%20-%20Pr%C3%A9paration%20aux%20entretiens%20techniques/Machine%20Learning%20Flashcards/Conditional_Probability_web.png>Conditional_Probability_web.png</a>
            </li>
          </ul>
        
    
    
        
          
          <ul class="p-2">
            <li class="m-2 list-unstyled"><span class="far fa-file mr-1"></span>
                <a class="course-file" href=/courses/jedha-full-stack-24-program/S2.3%20--%20Coaching%20carri%C3%A8re/S23-B%20-%20Pr%C3%A9paration%20aux%20entretiens%20techniques/Machine%20Learning%20Flashcards/Conditioning_web.png>Conditioning_web.png</a>
            </li>
          </ul>
        
    
    
        
          
          <ul class="p-2">
            <li class="m-2 list-unstyled"><span class="far fa-file mr-1"></span>
                <a class="course-file" href=/courses/jedha-full-stack-24-program/S2.3%20--%20Coaching%20carri%C3%A8re/S23-B%20-%20Pr%C3%A9paration%20aux%20entretiens%20techniques/Machine%20Learning%20Flashcards/Confidence_Intervals_web.png>Confidence_Intervals_web.png</a>
            </li>
          </ul>
        
    
    
        
          
          <ul class="p-2">
            <li class="m-2 list-unstyled"><span class="far fa-file mr-1"></span>
                <a class="course-file" href=/courses/jedha-full-stack-24-program/S2.3%20--%20Coaching%20carri%C3%A8re/S23-B%20-%20Pr%C3%A9paration%20aux%20entretiens%20techniques/Machine%20Learning%20Flashcards/Confusion_Matrix_web.png>Confusion_Matrix_web.png</a>
            </li>
          </ul>
        
    
    
        
          
          <ul class="p-2">
            <li class="m-2 list-unstyled"><span class="far fa-file mr-1"></span>
                <a class="course-file" href=/courses/jedha-full-stack-24-program/S2.3%20--%20Coaching%20carri%C3%A8re/S23-B%20-%20Pr%C3%A9paration%20aux%20entretiens%20techniques/Machine%20Learning%20Flashcards/Consistency_web.png>Consistency_web.png</a>
            </li>
          </ul>
        
    
    
        
          
          <ul class="p-2">
            <li class="m-2 list-unstyled"><span class="far fa-file mr-1"></span>
                <a class="course-file" href=/courses/jedha-full-stack-24-program/S2.3%20--%20Coaching%20carri%C3%A8re/S23-B%20-%20Pr%C3%A9paration%20aux%20entretiens%20techniques/Machine%20Learning%20Flashcards/Cost_And_Loss_Functions_web.png>Cost_And_Loss_Functions_web.png</a>
            </li>
          </ul>
        
    
    
        
          
          <ul class="p-2">
            <li class="m-2 list-unstyled"><span class="far fa-file mr-1"></span>
                <a class="course-file" href=/courses/jedha-full-stack-24-program/S2.3%20--%20Coaching%20carri%C3%A8re/S23-B%20-%20Pr%C3%A9paration%20aux%20entretiens%20techniques/Machine%20Learning%20Flashcards/Cp_web.png>Cp_web.png</a>
            </li>
          </ul>
        
    
    
        
          
          <ul class="p-2">
            <li class="m-2 list-unstyled"><span class="far fa-file mr-1"></span>
                <a class="course-file" href=/courses/jedha-full-stack-24-program/S2.3%20--%20Coaching%20carri%C3%A8re/S23-B%20-%20Pr%C3%A9paration%20aux%20entretiens%20techniques/Machine%20Learning%20Flashcards/Cross-Entropy_web.png>Cross-Entropy_web.png</a>
            </li>
          </ul>
        
    
    
        
          
          <ul class="p-2">
            <li class="m-2 list-unstyled"><span class="far fa-file mr-1"></span>
                <a class="course-file" href=/courses/jedha-full-stack-24-program/S2.3%20--%20Coaching%20carri%C3%A8re/S23-B%20-%20Pr%C3%A9paration%20aux%20entretiens%20techniques/Machine%20Learning%20Flashcards/Cumulative_Distribution_Function_web.png>Cumulative_Distribution_Function_web.png</a>
            </li>
          </ul>
        
    
    
        
          
          <ul class="p-2">
            <li class="m-2 list-unstyled"><span class="far fa-file mr-1"></span>
                <a class="course-file" href=/courses/jedha-full-stack-24-program/S2.3%20--%20Coaching%20carri%C3%A8re/S23-B%20-%20Pr%C3%A9paration%20aux%20entretiens%20techniques/Machine%20Learning%20Flashcards/Curse_Of_Dimensionality_web.png>Curse_Of_Dimensionality_web.png</a>
            </li>
          </ul>
        
    
    
        
          
          <ul class="p-2">
            <li class="m-2 list-unstyled"><span class="far fa-file mr-1"></span>
                <a class="course-file" href=/courses/jedha-full-stack-24-program/S2.3%20--%20Coaching%20carri%C3%A8re/S23-B%20-%20Pr%C3%A9paration%20aux%20entretiens%20techniques/Machine%20Learning%20Flashcards/DBSCAN_web.png>DBSCAN_web.png</a>
            </li>
          </ul>
        
    
    
        
          
          <ul class="p-2">
            <li class="m-2 list-unstyled"><span class="far fa-file mr-1"></span>
                <a class="course-file" href=/courses/jedha-full-stack-24-program/S2.3%20--%20Coaching%20carri%C3%A8re/S23-B%20-%20Pr%C3%A9paration%20aux%20entretiens%20techniques/Machine%20Learning%20Flashcards/Data-Generating_Distribution_web.png>Data-Generating_Distribution_web.png</a>
            </li>
          </ul>
        
    
    
        
          
          <ul class="p-2">
            <li class="m-2 list-unstyled"><span class="far fa-file mr-1"></span>
                <a class="course-file" href=/courses/jedha-full-stack-24-program/S2.3%20--%20Coaching%20carri%C3%A8re/S23-B%20-%20Pr%C3%A9paration%20aux%20entretiens%20techniques/Machine%20Learning%20Flashcards/Dataset_Augmentation_web.png>Dataset_Augmentation_web.png</a>
            </li>
          </ul>
        
    
    
        
          
          <ul class="p-2">
            <li class="m-2 list-unstyled"><span class="far fa-file mr-1"></span>
                <a class="course-file" href=/courses/jedha-full-stack-24-program/S2.3%20--%20Coaching%20carri%C3%A8re/S23-B%20-%20Pr%C3%A9paration%20aux%20entretiens%20techniques/Machine%20Learning%20Flashcards/Decision_Boundary_web.png>Decision_Boundary_web.png</a>
            </li>
          </ul>
        
    
    
        
          
          <ul class="p-2">
            <li class="m-2 list-unstyled"><span class="far fa-file mr-1"></span>
                <a class="course-file" href=/courses/jedha-full-stack-24-program/S2.3%20--%20Coaching%20carri%C3%A8re/S23-B%20-%20Pr%C3%A9paration%20aux%20entretiens%20techniques/Machine%20Learning%20Flashcards/Decision_Tree_Regression_web.png>Decision_Tree_Regression_web.png</a>
            </li>
          </ul>
        
    
    
        
          
          <ul class="p-2">
            <li class="m-2 list-unstyled"><span class="far fa-file mr-1"></span>
                <a class="course-file" href=/courses/jedha-full-stack-24-program/S2.3%20--%20Coaching%20carri%C3%A8re/S23-B%20-%20Pr%C3%A9paration%20aux%20entretiens%20techniques/Machine%20Learning%20Flashcards/Decision_Trees_web.png>Decision_Trees_web.png</a>
            </li>
          </ul>
        
    
    
        
          
          <ul class="p-2">
            <li class="m-2 list-unstyled"><span class="far fa-file mr-1"></span>
                <a class="course-file" href=/courses/jedha-full-stack-24-program/S2.3%20--%20Coaching%20carri%C3%A8re/S23-B%20-%20Pr%C3%A9paration%20aux%20entretiens%20techniques/Machine%20Learning%20Flashcards/Derivative_web.png>Derivative_web.png</a>
            </li>
          </ul>
        
    
    
        
          
          <ul class="p-2">
            <li class="m-2 list-unstyled"><span class="far fa-file mr-1"></span>
                <a class="course-file" href=/courses/jedha-full-stack-24-program/S2.3%20--%20Coaching%20carri%C3%A8re/S23-B%20-%20Pr%C3%A9paration%20aux%20entretiens%20techniques/Machine%20Learning%20Flashcards/Design_Matrix_web.png>Design_Matrix_web.png</a>
            </li>
          </ul>
        
    
    
        
          
          <ul class="p-2">
            <li class="m-2 list-unstyled"><span class="far fa-file mr-1"></span>
                <a class="course-file" href=/courses/jedha-full-stack-24-program/S2.3%20--%20Coaching%20carri%C3%A8re/S23-B%20-%20Pr%C3%A9paration%20aux%20entretiens%20techniques/Machine%20Learning%20Flashcards/Determinants_web.png>Determinants_web.png</a>
            </li>
          </ul>
        
    
    
        
          
          <ul class="p-2">
            <li class="m-2 list-unstyled"><span class="far fa-file mr-1"></span>
                <a class="course-file" href=/courses/jedha-full-stack-24-program/S2.3%20--%20Coaching%20carri%C3%A8re/S23-B%20-%20Pr%C3%A9paration%20aux%20entretiens%20techniques/Machine%20Learning%20Flashcards/Does-k-NN-Learn_web.png>Does-k-NN-Learn_web.png</a>
            </li>
          </ul>
        
    
    
        
          
          <ul class="p-2">
            <li class="m-2 list-unstyled"><span class="far fa-file mr-1"></span>
                <a class="course-file" href=/courses/jedha-full-stack-24-program/S2.3%20--%20Coaching%20carri%C3%A8re/S23-B%20-%20Pr%C3%A9paration%20aux%20entretiens%20techniques/Machine%20Learning%20Flashcards/Dot_Product_web.png>Dot_Product_web.png</a>
            </li>
          </ul>
        
    
    
        
          
          <ul class="p-2">
            <li class="m-2 list-unstyled"><span class="far fa-file mr-1"></span>
                <a class="course-file" href=/courses/jedha-full-stack-24-program/S2.3%20--%20Coaching%20carri%C3%A8re/S23-B%20-%20Pr%C3%A9paration%20aux%20entretiens%20techniques/Machine%20Learning%20Flashcards/Downsampling_web.png>Downsampling_web.png</a>
            </li>
          </ul>
        
    
    
        
          
          <ul class="p-2">
            <li class="m-2 list-unstyled"><span class="far fa-file mr-1"></span>
                <a class="course-file" href=/courses/jedha-full-stack-24-program/S2.3%20--%20Coaching%20carri%C3%A8re/S23-B%20-%20Pr%C3%A9paration%20aux%20entretiens%20techniques/Machine%20Learning%20Flashcards/Dropout_web.png>Dropout_web.png</a>
            </li>
          </ul>
        
    
    
        
          
          <ul class="p-2">
            <li class="m-2 list-unstyled"><span class="far fa-file mr-1"></span>
                <a class="course-file" href=/courses/jedha-full-stack-24-program/S2.3%20--%20Coaching%20carri%C3%A8re/S23-B%20-%20Pr%C3%A9paration%20aux%20entretiens%20techniques/Machine%20Learning%20Flashcards/ELUs_web.png>ELUs_web.png</a>
            </li>
          </ul>
        
    
    
        
          
          <ul class="p-2">
            <li class="m-2 list-unstyled"><span class="far fa-file mr-1"></span>
                <a class="course-file" href=/courses/jedha-full-stack-24-program/S2.3%20--%20Coaching%20carri%C3%A8re/S23-B%20-%20Pr%C3%A9paration%20aux%20entretiens%20techniques/Machine%20Learning%20Flashcards/Early_Stopping_Advantages_web.png>Early_Stopping_Advantages_web.png</a>
            </li>
          </ul>
        
    
    
        
          
          <ul class="p-2">
            <li class="m-2 list-unstyled"><span class="far fa-file mr-1"></span>
                <a class="course-file" href=/courses/jedha-full-stack-24-program/S2.3%20--%20Coaching%20carri%C3%A8re/S23-B%20-%20Pr%C3%A9paration%20aux%20entretiens%20techniques/Machine%20Learning%20Flashcards/Early_Stopping_web.png>Early_Stopping_web.png</a>
            </li>
          </ul>
        
    
    
        
          
          <ul class="p-2">
            <li class="m-2 list-unstyled"><span class="far fa-file mr-1"></span>
                <a class="course-file" href=/courses/jedha-full-stack-24-program/S2.3%20--%20Coaching%20carri%C3%A8re/S23-B%20-%20Pr%C3%A9paration%20aux%20entretiens%20techniques/Machine%20Learning%20Flashcards/Effect_Of_One-Hot_On_Feature_Importance_web.png>Effect_Of_One-Hot_On_Feature_Importance_web.png</a>
            </li>
          </ul>
        
    
    
        
          
          <ul class="p-2">
            <li class="m-2 list-unstyled"><span class="far fa-file mr-1"></span>
                <a class="course-file" href=/courses/jedha-full-stack-24-program/S2.3%20--%20Coaching%20carri%C3%A8re/S23-B%20-%20Pr%C3%A9paration%20aux%20entretiens%20techniques/Machine%20Learning%20Flashcards/Eigenvector_web.png>Eigenvector_web.png</a>
            </li>
          </ul>
        
    
    
        
          
          <ul class="p-2">
            <li class="m-2 list-unstyled"><span class="far fa-file mr-1"></span>
                <a class="course-file" href=/courses/jedha-full-stack-24-program/S2.3%20--%20Coaching%20carri%C3%A8re/S23-B%20-%20Pr%C3%A9paration%20aux%20entretiens%20techniques/Machine%20Learning%20Flashcards/ElasticNet_web.png>ElasticNet_web.png</a>
            </li>
          </ul>
        
    
    
        
          
          <ul class="p-2">
            <li class="m-2 list-unstyled"><span class="far fa-file mr-1"></span>
                <a class="course-file" href=/courses/jedha-full-stack-24-program/S2.3%20--%20Coaching%20carri%C3%A8re/S23-B%20-%20Pr%C3%A9paration%20aux%20entretiens%20techniques/Machine%20Learning%20Flashcards/Encoding_Ordinal_Categorical_Features_web.png>Encoding_Ordinal_Categorical_Features_web.png</a>
            </li>
          </ul>
        
    
    
        
          
          <ul class="p-2">
            <li class="m-2 list-unstyled"><span class="far fa-file mr-1"></span>
                <a class="course-file" href=/courses/jedha-full-stack-24-program/S2.3%20--%20Coaching%20carri%C3%A8re/S23-B%20-%20Pr%C3%A9paration%20aux%20entretiens%20techniques/Machine%20Learning%20Flashcards/Ensemble_Methods_web.png>Ensemble_Methods_web.png</a>
            </li>
          </ul>
        
    
    
        
          
          <ul class="p-2">
            <li class="m-2 list-unstyled"><span class="far fa-file mr-1"></span>
                <a class="course-file" href=/courses/jedha-full-stack-24-program/S2.3%20--%20Coaching%20carri%C3%A8re/S23-B%20-%20Pr%C3%A9paration%20aux%20entretiens%20techniques/Machine%20Learning%20Flashcards/Epoch_web.png>Epoch_web.png</a>
            </li>
          </ul>
        
    
    
        
          
          <ul class="p-2">
            <li class="m-2 list-unstyled"><span class="far fa-file mr-1"></span>
                <a class="course-file" href=/courses/jedha-full-stack-24-program/S2.3%20--%20Coaching%20carri%C3%A8re/S23-B%20-%20Pr%C3%A9paration%20aux%20entretiens%20techniques/Machine%20Learning%20Flashcards/Error_Types_web.png>Error_Types_web.png</a>
            </li>
          </ul>
        
    
    
        
          
          <ul class="p-2">
            <li class="m-2 list-unstyled"><span class="far fa-file mr-1"></span>
                <a class="course-file" href=/courses/jedha-full-stack-24-program/S2.3%20--%20Coaching%20carri%C3%A8re/S23-B%20-%20Pr%C3%A9paration%20aux%20entretiens%20techniques/Machine%20Learning%20Flashcards/Explained_Sum_Of_Squares_web.png>Explained_Sum_Of_Squares_web.png</a>
            </li>
          </ul>
        
    
    
        
          
          <ul class="p-2">
            <li class="m-2 list-unstyled"><span class="far fa-file mr-1"></span>
                <a class="course-file" href=/courses/jedha-full-stack-24-program/S2.3%20--%20Coaching%20carri%C3%A8re/S23-B%20-%20Pr%C3%A9paration%20aux%20entretiens%20techniques/Machine%20Learning%20Flashcards/Exploding_Gradient_Problem_web.png>Exploding_Gradient_Problem_web.png</a>
            </li>
          </ul>
        
    
    
        
          
          <ul class="p-2">
            <li class="m-2 list-unstyled"><span class="far fa-file mr-1"></span>
                <a class="course-file" href=/courses/jedha-full-stack-24-program/S2.3%20--%20Coaching%20carri%C3%A8re/S23-B%20-%20Pr%C3%A9paration%20aux%20entretiens%20techniques/Machine%20Learning%20Flashcards/Extrema_web.png>Extrema_web.png</a>
            </li>
          </ul>
        
    
    
        
          
          <ul class="p-2">
            <li class="m-2 list-unstyled"><span class="far fa-file mr-1"></span>
                <a class="course-file" href=/courses/jedha-full-stack-24-program/S2.3%20--%20Coaching%20carri%C3%A8re/S23-B%20-%20Pr%C3%A9paration%20aux%20entretiens%20techniques/Machine%20Learning%20Flashcards/F-Statistic_web.png>F-Statistic_web.png</a>
            </li>
          </ul>
        
    
    
        
          
          <ul class="p-2">
            <li class="m-2 list-unstyled"><span class="far fa-file mr-1"></span>
                <a class="course-file" href=/courses/jedha-full-stack-24-program/S2.3%20--%20Coaching%20carri%C3%A8re/S23-B%20-%20Pr%C3%A9paration%20aux%20entretiens%20techniques/Machine%20Learning%20Flashcards/F1_Score_web.png>F1_Score_web.png</a>
            </li>
          </ul>
        
    
    
        
          
          <ul class="p-2">
            <li class="m-2 list-unstyled"><span class="far fa-file mr-1"></span>
                <a class="course-file" href=/courses/jedha-full-stack-24-program/S2.3%20--%20Coaching%20carri%C3%A8re/S23-B%20-%20Pr%C3%A9paration%20aux%20entretiens%20techniques/Machine%20Learning%20Flashcards/False_Positive_Rate_web.png>False_Positive_Rate_web.png</a>
            </li>
          </ul>
        
    
    
        
          
          <ul class="p-2">
            <li class="m-2 list-unstyled"><span class="far fa-file mr-1"></span>
                <a class="course-file" href=/courses/jedha-full-stack-24-program/S2.3%20--%20Coaching%20carri%C3%A8re/S23-B%20-%20Pr%C3%A9paration%20aux%20entretiens%20techniques/Machine%20Learning%20Flashcards/Feature_Importance_web.png>Feature_Importance_web.png</a>
            </li>
          </ul>
        
    
    
        
          
          <ul class="p-2">
            <li class="m-2 list-unstyled"><span class="far fa-file mr-1"></span>
                <a class="course-file" href=/courses/jedha-full-stack-24-program/S2.3%20--%20Coaching%20carri%C3%A8re/S23-B%20-%20Pr%C3%A9paration%20aux%20entretiens%20techniques/Machine%20Learning%20Flashcards/Feature_Selection_Strategies_web.png>Feature_Selection_Strategies_web.png</a>
            </li>
          </ul>
        
    
    
        
          
          <ul class="p-2">
            <li class="m-2 list-unstyled"><span class="far fa-file mr-1"></span>
                <a class="course-file" href=/courses/jedha-full-stack-24-program/S2.3%20--%20Coaching%20carri%C3%A8re/S23-B%20-%20Pr%C3%A9paration%20aux%20entretiens%20techniques/Machine%20Learning%20Flashcards/Feedforward_Neural_Networks_web.png>Feedforward_Neural_Networks_web.png</a>
            </li>
          </ul>
        
    
    
        
          
          <ul class="p-2">
            <li class="m-2 list-unstyled"><span class="far fa-file mr-1"></span>
                <a class="course-file" href=/courses/jedha-full-stack-24-program/S2.3%20--%20Coaching%20carri%C3%A8re/S23-B%20-%20Pr%C3%A9paration%20aux%20entretiens%20techniques/Machine%20Learning%20Flashcards/Finding_Linear_Regression_Parameters_web.png>Finding_Linear_Regression_Parameters_web.png</a>
            </li>
          </ul>
        
    
    
        
          
          <ul class="p-2">
            <li class="m-2 list-unstyled"><span class="far fa-file mr-1"></span>
                <a class="course-file" href=/courses/jedha-full-stack-24-program/S2.3%20--%20Coaching%20carri%C3%A8re/S23-B%20-%20Pr%C3%A9paration%20aux%20entretiens%20techniques/Machine%20Learning%20Flashcards/Forward_Stepwise_Selection_web.png>Forward_Stepwise_Selection_web.png</a>
            </li>
          </ul>
        
    
    
        
          
          <ul class="p-2">
            <li class="m-2 list-unstyled"><span class="far fa-file mr-1"></span>
                <a class="course-file" href=/courses/jedha-full-stack-24-program/S2.3%20--%20Coaching%20carri%C3%A8re/S23-B%20-%20Pr%C3%A9paration%20aux%20entretiens%20techniques/Machine%20Learning%20Flashcards/Fowlkes-Mallows_web.png>Fowlkes-Mallows_web.png</a>
            </li>
          </ul>
        
    
    
        
          
          <ul class="p-2">
            <li class="m-2 list-unstyled"><span class="far fa-file mr-1"></span>
                <a class="course-file" href=/courses/jedha-full-stack-24-program/S2.3%20--%20Coaching%20carri%C3%A8re/S23-B%20-%20Pr%C3%A9paration%20aux%20entretiens%20techniques/Machine%20Learning%20Flashcards/Frobenius_Norm_web.png>Frobenius_Norm_web.png</a>
            </li>
          </ul>
        
    
    
        
          
          <ul class="p-2">
            <li class="m-2 list-unstyled"><span class="far fa-file mr-1"></span>
                <a class="course-file" href=/courses/jedha-full-stack-24-program/S2.3%20--%20Coaching%20carri%C3%A8re/S23-B%20-%20Pr%C3%A9paration%20aux%20entretiens%20techniques/Machine%20Learning%20Flashcards/Function_web.png>Function_web.png</a>
            </li>
          </ul>
        
    
    
        
          
          <ul class="p-2">
            <li class="m-2 list-unstyled"><span class="far fa-file mr-1"></span>
                <a class="course-file" href=/courses/jedha-full-stack-24-program/S2.3%20--%20Coaching%20carri%C3%A8re/S23-B%20-%20Pr%C3%A9paration%20aux%20entretiens%20techniques/Machine%20Learning%20Flashcards/Gaussian_Naive_Bayes_Classifier_web.png>Gaussian_Naive_Bayes_Classifier_web.png</a>
            </li>
          </ul>
        
    
    
        
          
          <ul class="p-2">
            <li class="m-2 list-unstyled"><span class="far fa-file mr-1"></span>
                <a class="course-file" href=/courses/jedha-full-stack-24-program/S2.3%20--%20Coaching%20carri%C3%A8re/S23-B%20-%20Pr%C3%A9paration%20aux%20entretiens%20techniques/Machine%20Learning%20Flashcards/Genderalization_web.png>Genderalization_web.png</a>
            </li>
          </ul>
        
    
    
        
          
          <ul class="p-2">
            <li class="m-2 list-unstyled"><span class="far fa-file mr-1"></span>
                <a class="course-file" href=/courses/jedha-full-stack-24-program/S2.3%20--%20Coaching%20carri%C3%A8re/S23-B%20-%20Pr%C3%A9paration%20aux%20entretiens%20techniques/Machine%20Learning%20Flashcards/Gini_Index_web.png>Gini_Index_web.png</a>
            </li>
          </ul>
        
    
    
        
          
          <ul class="p-2">
            <li class="m-2 list-unstyled"><span class="far fa-file mr-1"></span>
                <a class="course-file" href=/courses/jedha-full-stack-24-program/S2.3%20--%20Coaching%20carri%C3%A8re/S23-B%20-%20Pr%C3%A9paration%20aux%20entretiens%20techniques/Machine%20Learning%20Flashcards/Grabcut_web.png>Grabcut_web.png</a>
            </li>
          </ul>
        
    
    
        
          
          <ul class="p-2">
            <li class="m-2 list-unstyled"><span class="far fa-file mr-1"></span>
                <a class="course-file" href=/courses/jedha-full-stack-24-program/S2.3%20--%20Coaching%20carri%C3%A8re/S23-B%20-%20Pr%C3%A9paration%20aux%20entretiens%20techniques/Machine%20Learning%20Flashcards/Gradient_Cliff_web.png>Gradient_Cliff_web.png</a>
            </li>
          </ul>
        
    
    
        
          
          <ul class="p-2">
            <li class="m-2 list-unstyled"><span class="far fa-file mr-1"></span>
                <a class="course-file" href=/courses/jedha-full-stack-24-program/S2.3%20--%20Coaching%20carri%C3%A8re/S23-B%20-%20Pr%C3%A9paration%20aux%20entretiens%20techniques/Machine%20Learning%20Flashcards/Gradient_Clipping_web.png>Gradient_Clipping_web.png</a>
            </li>
          </ul>
        
    
    
        
          
          <ul class="p-2">
            <li class="m-2 list-unstyled"><span class="far fa-file mr-1"></span>
                <a class="course-file" href=/courses/jedha-full-stack-24-program/S2.3%20--%20Coaching%20carri%C3%A8re/S23-B%20-%20Pr%C3%A9paration%20aux%20entretiens%20techniques/Machine%20Learning%20Flashcards/Gradient_Descent_Rule_Of_Thumb_web.png>Gradient_Descent_Rule_Of_Thumb_web.png</a>
            </li>
          </ul>
        
    
    
        
          
          <ul class="p-2">
            <li class="m-2 list-unstyled"><span class="far fa-file mr-1"></span>
                <a class="course-file" href=/courses/jedha-full-stack-24-program/S2.3%20--%20Coaching%20carri%C3%A8re/S23-B%20-%20Pr%C3%A9paration%20aux%20entretiens%20techniques/Machine%20Learning%20Flashcards/Gradient_Descent_Visualized_web.png>Gradient_Descent_Visualized_web.png</a>
            </li>
          </ul>
        
    
    
        
          
          <ul class="p-2">
            <li class="m-2 list-unstyled"><span class="far fa-file mr-1"></span>
                <a class="course-file" href=/courses/jedha-full-stack-24-program/S2.3%20--%20Coaching%20carri%C3%A8re/S23-B%20-%20Pr%C3%A9paration%20aux%20entretiens%20techniques/Machine%20Learning%20Flashcards/Gradient_Descent_web.png>Gradient_Descent_web.png</a>
            </li>
          </ul>
        
    
    
        
          
          <ul class="p-2">
            <li class="m-2 list-unstyled"><span class="far fa-file mr-1"></span>
                <a class="course-file" href=/courses/jedha-full-stack-24-program/S2.3%20--%20Coaching%20carri%C3%A8re/S23-B%20-%20Pr%C3%A9paration%20aux%20entretiens%20techniques/Machine%20Learning%20Flashcards/Gradient_web.png>Gradient_web.png</a>
            </li>
          </ul>
        
    
    
        
          
          <ul class="p-2">
            <li class="m-2 list-unstyled"><span class="far fa-file mr-1"></span>
                <a class="course-file" href=/courses/jedha-full-stack-24-program/S2.3%20--%20Coaching%20carri%C3%A8re/S23-B%20-%20Pr%C3%A9paration%20aux%20entretiens%20techniques/Machine%20Learning%20Flashcards/Greedy_Algorithms_web.png>Greedy_Algorithms_web.png</a>
            </li>
          </ul>
        
    
    
        
          
          <ul class="p-2">
            <li class="m-2 list-unstyled"><span class="far fa-file mr-1"></span>
                <a class="course-file" href=/courses/jedha-full-stack-24-program/S2.3%20--%20Coaching%20carri%C3%A8re/S23-B%20-%20Pr%C3%A9paration%20aux%20entretiens%20techniques/Machine%20Learning%20Flashcards/Greek_Letters_1_web.png>Greek_Letters_1_web.png</a>
            </li>
          </ul>
        
    
    
        
          
          <ul class="p-2">
            <li class="m-2 list-unstyled"><span class="far fa-file mr-1"></span>
                <a class="course-file" href=/courses/jedha-full-stack-24-program/S2.3%20--%20Coaching%20carri%C3%A8re/S23-B%20-%20Pr%C3%A9paration%20aux%20entretiens%20techniques/Machine%20Learning%20Flashcards/Greek_Letters_2_web.png>Greek_Letters_2_web.png</a>
            </li>
          </ul>
        
    
    
        
          
          <ul class="p-2">
            <li class="m-2 list-unstyled"><span class="far fa-file mr-1"></span>
                <a class="course-file" href=/courses/jedha-full-stack-24-program/S2.3%20--%20Coaching%20carri%C3%A8re/S23-B%20-%20Pr%C3%A9paration%20aux%20entretiens%20techniques/Machine%20Learning%20Flashcards/Greek_Letters_3_web.png>Greek_Letters_3_web.png</a>
            </li>
          </ul>
        
    
    
        
          
          <ul class="p-2">
            <li class="m-2 list-unstyled"><span class="far fa-file mr-1"></span>
                <a class="course-file" href=/courses/jedha-full-stack-24-program/S2.3%20--%20Coaching%20carri%C3%A8re/S23-B%20-%20Pr%C3%A9paration%20aux%20entretiens%20techniques/Machine%20Learning%20Flashcards/Greek_Letters_4_web.png>Greek_Letters_4_web.png</a>
            </li>
          </ul>
        
    
    
        
          
          <ul class="p-2">
            <li class="m-2 list-unstyled"><span class="far fa-file mr-1"></span>
                <a class="course-file" href=/courses/jedha-full-stack-24-program/S2.3%20--%20Coaching%20carri%C3%A8re/S23-B%20-%20Pr%C3%A9paration%20aux%20entretiens%20techniques/Machine%20Learning%20Flashcards/Grid_Search_web.png>Grid_Search_web.png</a>
            </li>
          </ul>
        
    
    
        
          
          <ul class="p-2">
            <li class="m-2 list-unstyled"><span class="far fa-file mr-1"></span>
                <a class="course-file" href=/courses/jedha-full-stack-24-program/S2.3%20--%20Coaching%20carri%C3%A8re/S23-B%20-%20Pr%C3%A9paration%20aux%20entretiens%20techniques/Machine%20Learning%20Flashcards/Hadamard_Product_web.png>Hadamard_Product_web.png</a>
            </li>
          </ul>
        
    
    
        
          
          <ul class="p-2">
            <li class="m-2 list-unstyled"><span class="far fa-file mr-1"></span>
                <a class="course-file" href=/courses/jedha-full-stack-24-program/S2.3%20--%20Coaching%20carri%C3%A8re/S23-B%20-%20Pr%C3%A9paration%20aux%20entretiens%20techniques/Machine%20Learning%20Flashcards/Hamming_Loss_web.png>Hamming_Loss_web.png</a>
            </li>
          </ul>
        
    
    
        
          
          <ul class="p-2">
            <li class="m-2 list-unstyled"><span class="far fa-file mr-1"></span>
                <a class="course-file" href=/courses/jedha-full-stack-24-program/S2.3%20--%20Coaching%20carri%C3%A8re/S23-B%20-%20Pr%C3%A9paration%20aux%20entretiens%20techniques/Machine%20Learning%20Flashcards/Handling_Imbalanced_Classes_In_Support_Vector_Machines_web.png>Handling_Imbalanced_Classes_In_Support_Vector_Machines_web.png</a>
            </li>
          </ul>
        
    
    
        
          
          <ul class="p-2">
            <li class="m-2 list-unstyled"><span class="far fa-file mr-1"></span>
                <a class="course-file" href=/courses/jedha-full-stack-24-program/S2.3%20--%20Coaching%20carri%C3%A8re/S23-B%20-%20Pr%C3%A9paration%20aux%20entretiens%20techniques/Machine%20Learning%20Flashcards/Handling_Outliers_web.png>Handling_Outliers_web.png</a>
            </li>
          </ul>
        
    
    
        
          
          <ul class="p-2">
            <li class="m-2 list-unstyled"><span class="far fa-file mr-1"></span>
                <a class="course-file" href=/courses/jedha-full-stack-24-program/S2.3%20--%20Coaching%20carri%C3%A8re/S23-B%20-%20Pr%C3%A9paration%20aux%20entretiens%20techniques/Machine%20Learning%20Flashcards/Hessian_Matrix_web.png>Hessian_Matrix_web.png</a>
            </li>
          </ul>
        
    
    
        
          
          <ul class="p-2">
            <li class="m-2 list-unstyled"><span class="far fa-file mr-1"></span>
                <a class="course-file" href=/courses/jedha-full-stack-24-program/S2.3%20--%20Coaching%20carri%C3%A8re/S23-B%20-%20Pr%C3%A9paration%20aux%20entretiens%20techniques/Machine%20Learning%20Flashcards/Heteroskedasticity_web.png>Heteroskedasticity_web.png</a>
            </li>
          </ul>
        
    
    
        
          
          <ul class="p-2">
            <li class="m-2 list-unstyled"><span class="far fa-file mr-1"></span>
                <a class="course-file" href=/courses/jedha-full-stack-24-program/S2.3%20--%20Coaching%20carri%C3%A8re/S23-B%20-%20Pr%C3%A9paration%20aux%20entretiens%20techniques/Machine%20Learning%20Flashcards/Hidden_Layer_web.png>Hidden_Layer_web.png</a>
            </li>
          </ul>
        
    
    
        
          
          <ul class="p-2">
            <li class="m-2 list-unstyled"><span class="far fa-file mr-1"></span>
                <a class="course-file" href=/courses/jedha-full-stack-24-program/S2.3%20--%20Coaching%20carri%C3%A8re/S23-B%20-%20Pr%C3%A9paration%20aux%20entretiens%20techniques/Machine%20Learning%20Flashcards/Hinge_Loss_web.png>Hinge_Loss_web.png</a>
            </li>
          </ul>
        
    
    
        
          
          <ul class="p-2">
            <li class="m-2 list-unstyled"><span class="far fa-file mr-1"></span>
                <a class="course-file" href=/courses/jedha-full-stack-24-program/S2.3%20--%20Coaching%20carri%C3%A8re/S23-B%20-%20Pr%C3%A9paration%20aux%20entretiens%20techniques/Machine%20Learning%20Flashcards/How_Norm_Penalties_Work_web.png>How_Norm_Penalties_Work_web.png</a>
            </li>
          </ul>
        
    
    
        
          
          <ul class="p-2">
            <li class="m-2 list-unstyled"><span class="far fa-file mr-1"></span>
                <a class="course-file" href=/courses/jedha-full-stack-24-program/S2.3%20--%20Coaching%20carri%C3%A8re/S23-B%20-%20Pr%C3%A9paration%20aux%20entretiens%20techniques/Machine%20Learning%20Flashcards/How_To_Choose_Hidden_Unit_Activation_Functions_web.png>How_To_Choose_Hidden_Unit_Activation_Functions_web.png</a>
            </li>
          </ul>
        
    
    
        
          
          <ul class="p-2">
            <li class="m-2 list-unstyled"><span class="far fa-file mr-1"></span>
                <a class="course-file" href=/courses/jedha-full-stack-24-program/S2.3%20--%20Coaching%20carri%C3%A8re/S23-B%20-%20Pr%C3%A9paration%20aux%20entretiens%20techniques/Machine%20Learning%20Flashcards/Hyperparameter_Tuning_web.png>Hyperparameter_Tuning_web.png</a>
            </li>
          </ul>
        
    
    
        
          
          <ul class="p-2">
            <li class="m-2 list-unstyled"><span class="far fa-file mr-1"></span>
                <a class="course-file" href=/courses/jedha-full-stack-24-program/S2.3%20--%20Coaching%20carri%C3%A8re/S23-B%20-%20Pr%C3%A9paration%20aux%20entretiens%20techniques/Machine%20Learning%20Flashcards/Hyperplane_web.png>Hyperplane_web.png</a>
            </li>
          </ul>
        
    
    
        
          
          <ul class="p-2">
            <li class="m-2 list-unstyled"><span class="far fa-file mr-1"></span>
                <a class="course-file" href=/courses/jedha-full-stack-24-program/S2.3%20--%20Coaching%20carri%C3%A8re/S23-B%20-%20Pr%C3%A9paration%20aux%20entretiens%20techniques/Machine%20Learning%20Flashcards/Hypothesis_Space_web.png>Hypothesis_Space_web.png</a>
            </li>
          </ul>
        
    
    
        
          
          <ul class="p-2">
            <li class="m-2 list-unstyled"><span class="far fa-file mr-1"></span>
                <a class="course-file" href=/courses/jedha-full-stack-24-program/S2.3%20--%20Coaching%20carri%C3%A8re/S23-B%20-%20Pr%C3%A9paration%20aux%20entretiens%20techniques/Machine%20Learning%20Flashcards/IID_web.png>IID_web.png</a>
            </li>
          </ul>
        
    
    
        
          
          <ul class="p-2">
            <li class="m-2 list-unstyled"><span class="far fa-file mr-1"></span>
                <a class="course-file" href=/courses/jedha-full-stack-24-program/S2.3%20--%20Coaching%20carri%C3%A8re/S23-B%20-%20Pr%C3%A9paration%20aux%20entretiens%20techniques/Machine%20Learning%20Flashcards/Imputation_Using_k-NN_web.png>Imputation_Using_k-NN_web.png</a>
            </li>
          </ul>
        
    
    
        
          
          <ul class="p-2">
            <li class="m-2 list-unstyled"><span class="far fa-file mr-1"></span>
                <a class="course-file" href=/courses/jedha-full-stack-24-program/S2.3%20--%20Coaching%20carri%C3%A8re/S23-B%20-%20Pr%C3%A9paration%20aux%20entretiens%20techniques/Machine%20Learning%20Flashcards/Imputing_Missing_Values_web.png>Imputing_Missing_Values_web.png</a>
            </li>
          </ul>
        
    
    
        
          
          <ul class="p-2">
            <li class="m-2 list-unstyled"><span class="far fa-file mr-1"></span>
                <a class="course-file" href=/courses/jedha-full-stack-24-program/S2.3%20--%20Coaching%20carri%C3%A8re/S23-B%20-%20Pr%C3%A9paration%20aux%20entretiens%20techniques/Machine%20Learning%20Flashcards/Inflection_Point_web.png>Inflection_Point_web.png</a>
            </li>
          </ul>
        
    
    
        
          
          <ul class="p-2">
            <li class="m-2 list-unstyled"><span class="far fa-file mr-1"></span>
                <a class="course-file" href=/courses/jedha-full-stack-24-program/S2.3%20--%20Coaching%20carri%C3%A8re/S23-B%20-%20Pr%C3%A9paration%20aux%20entretiens%20techniques/Machine%20Learning%20Flashcards/Initialization_Of_Neural_Network_Parameters_web.png>Initialization_Of_Neural_Network_Parameters_web.png</a>
            </li>
          </ul>
        
    
    
        
          
          <ul class="p-2">
            <li class="m-2 list-unstyled"><span class="far fa-file mr-1"></span>
                <a class="course-file" href=/courses/jedha-full-stack-24-program/S2.3%20--%20Coaching%20carri%C3%A8re/S23-B%20-%20Pr%C3%A9paration%20aux%20entretiens%20techniques/Machine%20Learning%20Flashcards/Initializing_Weights_In_Feedforward_Neural_Networks_web.png>Initializing_Weights_In_Feedforward_Neural_Networks_web.png</a>
            </li>
          </ul>
        
    
    
        
          
          <ul class="p-2">
            <li class="m-2 list-unstyled"><span class="far fa-file mr-1"></span>
                <a class="course-file" href=/courses/jedha-full-stack-24-program/S2.3%20--%20Coaching%20carri%C3%A8re/S23-B%20-%20Pr%C3%A9paration%20aux%20entretiens%20techniques/Machine%20Learning%20Flashcards/Instrumental_Variables_web.png>Instrumental_Variables_web.png</a>
            </li>
          </ul>
        
    
    
        
          
          <ul class="p-2">
            <li class="m-2 list-unstyled"><span class="far fa-file mr-1"></span>
                <a class="course-file" href=/courses/jedha-full-stack-24-program/S2.3%20--%20Coaching%20carri%C3%A8re/S23-B%20-%20Pr%C3%A9paration%20aux%20entretiens%20techniques/Machine%20Learning%20Flashcards/Interaction_Term_web.png>Interaction_Term_web.png</a>
            </li>
          </ul>
        
    
    
        
          
          <ul class="p-2">
            <li class="m-2 list-unstyled"><span class="far fa-file mr-1"></span>
                <a class="course-file" href=/courses/jedha-full-stack-24-program/S2.3%20--%20Coaching%20carri%C3%A8re/S23-B%20-%20Pr%C3%A9paration%20aux%20entretiens%20techniques/Machine%20Learning%20Flashcards/Intercept_Term_web.png>Intercept_Term_web.png</a>
            </li>
          </ul>
        
    
    
        
          
          <ul class="p-2">
            <li class="m-2 list-unstyled"><span class="far fa-file mr-1"></span>
                <a class="course-file" href=/courses/jedha-full-stack-24-program/S2.3%20--%20Coaching%20carri%C3%A8re/S23-B%20-%20Pr%C3%A9paration%20aux%20entretiens%20techniques/Machine%20Learning%20Flashcards/Interpolation_web.png>Interpolation_web.png</a>
            </li>
          </ul>
        
    
    
        
          
          <ul class="p-2">
            <li class="m-2 list-unstyled"><span class="far fa-file mr-1"></span>
                <a class="course-file" href=/courses/jedha-full-stack-24-program/S2.3%20--%20Coaching%20carri%C3%A8re/S23-B%20-%20Pr%C3%A9paration%20aux%20entretiens%20techniques/Machine%20Learning%20Flashcards/Interquartile_Range_web.png>Interquartile_Range_web.png</a>
            </li>
          </ul>
        
    
    
        
          
          <ul class="p-2">
            <li class="m-2 list-unstyled"><span class="far fa-file mr-1"></span>
                <a class="course-file" href=/courses/jedha-full-stack-24-program/S2.3%20--%20Coaching%20carri%C3%A8re/S23-B%20-%20Pr%C3%A9paration%20aux%20entretiens%20techniques/Machine%20Learning%20Flashcards/Issues_With_Platt_Scaling_web.png>Issues_With_Platt_Scaling_web.png</a>
            </li>
          </ul>
        
    
    
        
          
          <ul class="p-2">
            <li class="m-2 list-unstyled"><span class="far fa-file mr-1"></span>
                <a class="course-file" href=/courses/jedha-full-stack-24-program/S2.3%20--%20Coaching%20carri%C3%A8re/S23-B%20-%20Pr%C3%A9paration%20aux%20entretiens%20techniques/Machine%20Learning%20Flashcards/Jacobian_Matrix_web.png>Jacobian_Matrix_web.png</a>
            </li>
          </ul>
        
    
    
        
          
          <ul class="p-2">
            <li class="m-2 list-unstyled"><span class="far fa-file mr-1"></span>
                <a class="course-file" href=/courses/jedha-full-stack-24-program/S2.3%20--%20Coaching%20carri%C3%A8re/S23-B%20-%20Pr%C3%A9paration%20aux%20entretiens%20techniques/Machine%20Learning%20Flashcards/Joins_web.png>Joins_web.png</a>
            </li>
          </ul>
        
    
    
        
          
          <ul class="p-2">
            <li class="m-2 list-unstyled"><span class="far fa-file mr-1"></span>
                <a class="course-file" href=/courses/jedha-full-stack-24-program/S2.3%20--%20Coaching%20carri%C3%A8re/S23-B%20-%20Pr%C3%A9paration%20aux%20entretiens%20techniques/Machine%20Learning%20Flashcards/K-Fold_Cross-Validation_web.png>K-Fold_Cross-Validation_web.png</a>
            </li>
          </ul>
        
    
    
        
          
          <ul class="p-2">
            <li class="m-2 list-unstyled"><span class="far fa-file mr-1"></span>
                <a class="course-file" href=/courses/jedha-full-stack-24-program/S2.3%20--%20Coaching%20carri%C3%A8re/S23-B%20-%20Pr%C3%A9paration%20aux%20entretiens%20techniques/Machine%20Learning%20Flashcards/K-Means_Clustering_web.png>K-Means_Clustering_web.png</a>
            </li>
          </ul>
        
    
    
        
          
          <ul class="p-2">
            <li class="m-2 list-unstyled"><span class="far fa-file mr-1"></span>
                <a class="course-file" href=/courses/jedha-full-stack-24-program/S2.3%20--%20Coaching%20carri%C3%A8re/S23-B%20-%20Pr%C3%A9paration%20aux%20entretiens%20techniques/Machine%20Learning%20Flashcards/K-NN_Neighborhood_Size_web.png>K-NN_Neighborhood_Size_web.png</a>
            </li>
          </ul>
        
    
    
        
          
          <ul class="p-2">
            <li class="m-2 list-unstyled"><span class="far fa-file mr-1"></span>
                <a class="course-file" href=/courses/jedha-full-stack-24-program/S2.3%20--%20Coaching%20carri%C3%A8re/S23-B%20-%20Pr%C3%A9paration%20aux%20entretiens%20techniques/Machine%20Learning%20Flashcards/K-Nearest_Neighbors_Tips_And_Tricks_web.png>K-Nearest_Neighbors_Tips_And_Tricks_web.png</a>
            </li>
          </ul>
        
    
    
        
          
          <ul class="p-2">
            <li class="m-2 list-unstyled"><span class="far fa-file mr-1"></span>
                <a class="course-file" href=/courses/jedha-full-stack-24-program/S2.3%20--%20Coaching%20carri%C3%A8re/S23-B%20-%20Pr%C3%A9paration%20aux%20entretiens%20techniques/Machine%20Learning%20Flashcards/Kernel_PCA_web.png>Kernel_PCA_web.png</a>
            </li>
          </ul>
        
    
    
        
          
          <ul class="p-2">
            <li class="m-2 list-unstyled"><span class="far fa-file mr-1"></span>
                <a class="course-file" href=/courses/jedha-full-stack-24-program/S2.3%20--%20Coaching%20carri%C3%A8re/S23-B%20-%20Pr%C3%A9paration%20aux%20entretiens%20techniques/Machine%20Learning%20Flashcards/Kernel_Trick_web.png>Kernel_Trick_web.png</a>
            </li>
          </ul>
        
    
    
        
          
          <ul class="p-2">
            <li class="m-2 list-unstyled"><span class="far fa-file mr-1"></span>
                <a class="course-file" href=/courses/jedha-full-stack-24-program/S2.3%20--%20Coaching%20carri%C3%A8re/S23-B%20-%20Pr%C3%A9paration%20aux%20entretiens%20techniques/Machine%20Learning%20Flashcards/L1_Norm_web.png>L1_Norm_web.png</a>
            </li>
          </ul>
        
    
    
        
          
          <ul class="p-2">
            <li class="m-2 list-unstyled"><span class="far fa-file mr-1"></span>
                <a class="course-file" href=/courses/jedha-full-stack-24-program/S2.3%20--%20Coaching%20carri%C3%A8re/S23-B%20-%20Pr%C3%A9paration%20aux%20entretiens%20techniques/Machine%20Learning%20Flashcards/L2_Norm_web.png>L2_Norm_web.png</a>
            </li>
          </ul>
        
    
    
        
          
          <ul class="p-2">
            <li class="m-2 list-unstyled"><span class="far fa-file mr-1"></span>
                <a class="course-file" href=/courses/jedha-full-stack-24-program/S2.3%20--%20Coaching%20carri%C3%A8re/S23-B%20-%20Pr%C3%A9paration%20aux%20entretiens%20techniques/Machine%20Learning%20Flashcards/Lasso_For_Feature_Selection_web.png>Lasso_For_Feature_Selection_web.png</a>
            </li>
          </ul>
        
    
    
        
          
          <ul class="p-2">
            <li class="m-2 list-unstyled"><span class="far fa-file mr-1"></span>
                <a class="course-file" href=/courses/jedha-full-stack-24-program/S2.3%20--%20Coaching%20carri%C3%A8re/S23-B%20-%20Pr%C3%A9paration%20aux%20entretiens%20techniques/Machine%20Learning%20Flashcards/Leaky_ReLU_web.png>Leaky_ReLU_web.png</a>
            </li>
          </ul>
        
    
    
        
          
          <ul class="p-2">
            <li class="m-2 list-unstyled"><span class="far fa-file mr-1"></span>
                <a class="course-file" href=/courses/jedha-full-stack-24-program/S2.3%20--%20Coaching%20carri%C3%A8re/S23-B%20-%20Pr%C3%A9paration%20aux%20entretiens%20techniques/Machine%20Learning%20Flashcards/Learning_Curve_web.png>Learning_Curve_web.png</a>
            </li>
          </ul>
        
    
    
        
          
          <ul class="p-2">
            <li class="m-2 list-unstyled"><span class="far fa-file mr-1"></span>
                <a class="course-file" href=/courses/jedha-full-stack-24-program/S2.3%20--%20Coaching%20carri%C3%A8re/S23-B%20-%20Pr%C3%A9paration%20aux%20entretiens%20techniques/Machine%20Learning%20Flashcards/Learning_In_Machine_Learning_web.png>Learning_In_Machine_Learning_web.png</a>
            </li>
          </ul>
        
    
    
        
          
          <ul class="p-2">
            <li class="m-2 list-unstyled"><span class="far fa-file mr-1"></span>
                <a class="course-file" href=/courses/jedha-full-stack-24-program/S2.3%20--%20Coaching%20carri%C3%A8re/S23-B%20-%20Pr%C3%A9paration%20aux%20entretiens%20techniques/Machine%20Learning%20Flashcards/Learning_Rate_web.png>Learning_Rate_web.png</a>
            </li>
          </ul>
        
    
    
        
          
          <ul class="p-2">
            <li class="m-2 list-unstyled"><span class="far fa-file mr-1"></span>
                <a class="course-file" href=/courses/jedha-full-stack-24-program/S2.3%20--%20Coaching%20carri%C3%A8re/S23-B%20-%20Pr%C3%A9paration%20aux%20entretiens%20techniques/Machine%20Learning%20Flashcards/Linear_Activation_Function_web.png>Linear_Activation_Function_web.png</a>
            </li>
          </ul>
        
    
    
        
          
          <ul class="p-2">
            <li class="m-2 list-unstyled"><span class="far fa-file mr-1"></span>
                <a class="course-file" href=/courses/jedha-full-stack-24-program/S2.3%20--%20Coaching%20carri%C3%A8re/S23-B%20-%20Pr%C3%A9paration%20aux%20entretiens%20techniques/Machine%20Learning%20Flashcards/Linear_Combination_web.png>Linear_Combination_web.png</a>
            </li>
          </ul>
        
    
    
        
          
          <ul class="p-2">
            <li class="m-2 list-unstyled"><span class="far fa-file mr-1"></span>
                <a class="course-file" href=/courses/jedha-full-stack-24-program/S2.3%20--%20Coaching%20carri%C3%A8re/S23-B%20-%20Pr%C3%A9paration%20aux%20entretiens%20techniques/Machine%20Learning%20Flashcards/Linear_Discriminant_Analysis_For_Dimensionality_Reduction_web.png>Linear_Discriminant_Analysis_For_Dimensionality_Reduction_web.png</a>
            </li>
          </ul>
        
    
    
        
          
          <ul class="p-2">
            <li class="m-2 list-unstyled"><span class="far fa-file mr-1"></span>
                <a class="course-file" href=/courses/jedha-full-stack-24-program/S2.3%20--%20Coaching%20carri%C3%A8re/S23-B%20-%20Pr%C3%A9paration%20aux%20entretiens%20techniques/Machine%20Learning%20Flashcards/Linearly_Independent_web.png>Linearly_Independent_web.png</a>
            </li>
          </ul>
        
    
    
        
          
          <ul class="p-2">
            <li class="m-2 list-unstyled"><span class="far fa-file mr-1"></span>
                <a class="course-file" href=/courses/jedha-full-stack-24-program/S2.3%20--%20Coaching%20carri%C3%A8re/S23-B%20-%20Pr%C3%A9paration%20aux%20entretiens%20techniques/Machine%20Learning%20Flashcards/Linearly_Separable_web.png>Linearly_Separable_web.png</a>
            </li>
          </ul>
        
    
    
        
          
          <ul class="p-2">
            <li class="m-2 list-unstyled"><span class="far fa-file mr-1"></span>
                <a class="course-file" href=/courses/jedha-full-stack-24-program/S2.3%20--%20Coaching%20carri%C3%A8re/S23-B%20-%20Pr%C3%A9paration%20aux%20entretiens%20techniques/Machine%20Learning%20Flashcards/Log-Sum-Exp_web.png>Log-Sum-Exp_web.png</a>
            </li>
          </ul>
        
    
    
        
          
          <ul class="p-2">
            <li class="m-2 list-unstyled"><span class="far fa-file mr-1"></span>
                <a class="course-file" href=/courses/jedha-full-stack-24-program/S2.3%20--%20Coaching%20carri%C3%A8re/S23-B%20-%20Pr%C3%A9paration%20aux%20entretiens%20techniques/Machine%20Learning%20Flashcards/Logistic_Regression_Vs_Linear_Regression_web.png>Logistic_Regression_Vs_Linear_Regression_web.png</a>
            </li>
          </ul>
        
    
    
        
          
          <ul class="p-2">
            <li class="m-2 list-unstyled"><span class="far fa-file mr-1"></span>
                <a class="course-file" href=/courses/jedha-full-stack-24-program/S2.3%20--%20Coaching%20carri%C3%A8re/S23-B%20-%20Pr%C3%A9paration%20aux%20entretiens%20techniques/Machine%20Learning%20Flashcards/Logistic_Regression_web.png>Logistic_Regression_web.png</a>
            </li>
          </ul>
        
    
    
        
          
          <ul class="p-2">
            <li class="m-2 list-unstyled"><span class="far fa-file mr-1"></span>
                <a class="course-file" href=/courses/jedha-full-stack-24-program/S2.3%20--%20Coaching%20carri%C3%A8re/S23-B%20-%20Pr%C3%A9paration%20aux%20entretiens%20techniques/Machine%20Learning%20Flashcards/Logistic_Sigmoid_Function_web.png>Logistic_Sigmoid_Function_web.png</a>
            </li>
          </ul>
        
    
    
        
          
          <ul class="p-2">
            <li class="m-2 list-unstyled"><span class="far fa-file mr-1"></span>
                <a class="course-file" href=/courses/jedha-full-stack-24-program/S2.3%20--%20Coaching%20carri%C3%A8re/S23-B%20-%20Pr%C3%A9paration%20aux%20entretiens%20techniques/Machine%20Learning%20Flashcards/Manhattan_Distance_web.png>Manhattan_Distance_web.png</a>
            </li>
          </ul>
        
    
    
        
          
          <ul class="p-2">
            <li class="m-2 list-unstyled"><span class="far fa-file mr-1"></span>
                <a class="course-file" href=/courses/jedha-full-stack-24-program/S2.3%20--%20Coaching%20carri%C3%A8re/S23-B%20-%20Pr%C3%A9paration%20aux%20entretiens%20techniques/Machine%20Learning%20Flashcards/Matrices_web.png>Matrices_web.png</a>
            </li>
          </ul>
        
    
    
        
          
          <ul class="p-2">
            <li class="m-2 list-unstyled"><span class="far fa-file mr-1"></span>
                <a class="course-file" href=/courses/jedha-full-stack-24-program/S2.3%20--%20Coaching%20carri%C3%A8re/S23-B%20-%20Pr%C3%A9paration%20aux%20entretiens%20techniques/Machine%20Learning%20Flashcards/Matrix_Inverse_web.png>Matrix_Inverse_web.png</a>
            </li>
          </ul>
        
    
    
        
          
          <ul class="p-2">
            <li class="m-2 list-unstyled"><span class="far fa-file mr-1"></span>
                <a class="course-file" href=/courses/jedha-full-stack-24-program/S2.3%20--%20Coaching%20carri%C3%A8re/S23-B%20-%20Pr%C3%A9paration%20aux%20entretiens%20techniques/Machine%20Learning%20Flashcards/Matrix_Multiplication_web.png>Matrix_Multiplication_web.png</a>
            </li>
          </ul>
        
    
    
        
          
          <ul class="p-2">
            <li class="m-2 list-unstyled"><span class="far fa-file mr-1"></span>
                <a class="course-file" href=/courses/jedha-full-stack-24-program/S2.3%20--%20Coaching%20carri%C3%A8re/S23-B%20-%20Pr%C3%A9paration%20aux%20entretiens%20techniques/Machine%20Learning%20Flashcards/Matthews_Correlation_Coefficient_web.png>Matthews_Correlation_Coefficient_web.png</a>
            </li>
          </ul>
        
    
    
        
          
          <ul class="p-2">
            <li class="m-2 list-unstyled"><span class="far fa-file mr-1"></span>
                <a class="course-file" href=/courses/jedha-full-stack-24-program/S2.3%20--%20Coaching%20carri%C3%A8re/S23-B%20-%20Pr%C3%A9paration%20aux%20entretiens%20techniques/Machine%20Learning%20Flashcards/Max_Norm_web.png>Max_Norm_web.png</a>
            </li>
          </ul>
        
    
    
        
          
          <ul class="p-2">
            <li class="m-2 list-unstyled"><span class="far fa-file mr-1"></span>
                <a class="course-file" href=/courses/jedha-full-stack-24-program/S2.3%20--%20Coaching%20carri%C3%A8re/S23-B%20-%20Pr%C3%A9paration%20aux%20entretiens%20techniques/Machine%20Learning%20Flashcards/Mean_Absolute_Error_web.png>Mean_Absolute_Error_web.png</a>
            </li>
          </ul>
        
    
    
        
          
          <ul class="p-2">
            <li class="m-2 list-unstyled"><span class="far fa-file mr-1"></span>
                <a class="course-file" href=/courses/jedha-full-stack-24-program/S2.3%20--%20Coaching%20carri%C3%A8re/S23-B%20-%20Pr%C3%A9paration%20aux%20entretiens%20techniques/Machine%20Learning%20Flashcards/Mean_Squared_Error_web.png>Mean_Squared_Error_web.png</a>
            </li>
          </ul>
        
    
    
        
          
          <ul class="p-2">
            <li class="m-2 list-unstyled"><span class="far fa-file mr-1"></span>
                <a class="course-file" href=/courses/jedha-full-stack-24-program/S2.3%20--%20Coaching%20carri%C3%A8re/S23-B%20-%20Pr%C3%A9paration%20aux%20entretiens%20techniques/Machine%20Learning%20Flashcards/Meanshift_Clustering_By_Analogy_web.png>Meanshift_Clustering_By_Analogy_web.png</a>
            </li>
          </ul>
        
    
    
        
          
          <ul class="p-2">
            <li class="m-2 list-unstyled"><span class="far fa-file mr-1"></span>
                <a class="course-file" href=/courses/jedha-full-stack-24-program/S2.3%20--%20Coaching%20carri%C3%A8re/S23-B%20-%20Pr%C3%A9paration%20aux%20entretiens%20techniques/Machine%20Learning%20Flashcards/MinMax_Scaling_web.png>MinMax_Scaling_web.png</a>
            </li>
          </ul>
        
    
    
        
          
          <ul class="p-2">
            <li class="m-2 list-unstyled"><span class="far fa-file mr-1"></span>
                <a class="course-file" href=/courses/jedha-full-stack-24-program/S2.3%20--%20Coaching%20carri%C3%A8re/S23-B%20-%20Pr%C3%A9paration%20aux%20entretiens%20techniques/Machine%20Learning%20Flashcards/Minibatch_web.png>Minibatch_web.png</a>
            </li>
          </ul>
        
    
    
        
          
          <ul class="p-2">
            <li class="m-2 list-unstyled"><span class="far fa-file mr-1"></span>
                <a class="course-file" href=/courses/jedha-full-stack-24-program/S2.3%20--%20Coaching%20carri%C3%A8re/S23-B%20-%20Pr%C3%A9paration%20aux%20entretiens%20techniques/Machine%20Learning%20Flashcards/Minimum_Of_A_Loss_Function_web.png>Minimum_Of_A_Loss_Function_web.png</a>
            </li>
          </ul>
        
    
    
        
          
          <ul class="p-2">
            <li class="m-2 list-unstyled"><span class="far fa-file mr-1"></span>
                <a class="course-file" href=/courses/jedha-full-stack-24-program/S2.3%20--%20Coaching%20carri%C3%A8re/S23-B%20-%20Pr%C3%A9paration%20aux%20entretiens%20techniques/Machine%20Learning%20Flashcards/Minkowski_Distance_web.png>Minkowski_Distance_web.png</a>
            </li>
          </ul>
        
    
    
        
          
          <ul class="p-2">
            <li class="m-2 list-unstyled"><span class="far fa-file mr-1"></span>
                <a class="course-file" href=/courses/jedha-full-stack-24-program/S2.3%20--%20Coaching%20carri%C3%A8re/S23-B%20-%20Pr%C3%A9paration%20aux%20entretiens%20techniques/Machine%20Learning%20Flashcards/Missing_At_Random_web.png>Missing_At_Random_web.png</a>
            </li>
          </ul>
        
    
    
        
          
          <ul class="p-2">
            <li class="m-2 list-unstyled"><span class="far fa-file mr-1"></span>
                <a class="course-file" href=/courses/jedha-full-stack-24-program/S2.3%20--%20Coaching%20carri%C3%A8re/S23-B%20-%20Pr%C3%A9paration%20aux%20entretiens%20techniques/Machine%20Learning%20Flashcards/Missing_Completely_At_Random_web.png>Missing_Completely_At_Random_web.png</a>
            </li>
          </ul>
        
    
    
        
          
          <ul class="p-2">
            <li class="m-2 list-unstyled"><span class="far fa-file mr-1"></span>
                <a class="course-file" href=/courses/jedha-full-stack-24-program/S2.3%20--%20Coaching%20carri%C3%A8re/S23-B%20-%20Pr%C3%A9paration%20aux%20entretiens%20techniques/Machine%20Learning%20Flashcards/Missing_Not_At_Random_web.png>Missing_Not_At_Random_web.png</a>
            </li>
          </ul>
        
    
    
        
          
          <ul class="p-2">
            <li class="m-2 list-unstyled"><span class="far fa-file mr-1"></span>
                <a class="course-file" href=/courses/jedha-full-stack-24-program/S2.3%20--%20Coaching%20carri%C3%A8re/S23-B%20-%20Pr%C3%A9paration%20aux%20entretiens%20techniques/Machine%20Learning%20Flashcards/Model_Complexity_web.png>Model_Complexity_web.png</a>
            </li>
          </ul>
        
    
    
        
          
          <ul class="p-2">
            <li class="m-2 list-unstyled"><span class="far fa-file mr-1"></span>
                <a class="course-file" href=/courses/jedha-full-stack-24-program/S2.3%20--%20Coaching%20carri%C3%A8re/S23-B%20-%20Pr%C3%A9paration%20aux%20entretiens%20techniques/Machine%20Learning%20Flashcards/Model_Identifiability_web.png>Model_Identifiability_web.png</a>
            </li>
          </ul>
        
    
    
        
          
          <ul class="p-2">
            <li class="m-2 list-unstyled"><span class="far fa-file mr-1"></span>
                <a class="course-file" href=/courses/jedha-full-stack-24-program/S2.3%20--%20Coaching%20carri%C3%A8re/S23-B%20-%20Pr%C3%A9paration%20aux%20entretiens%20techniques/Machine%20Learning%20Flashcards/Model_Selection_web.png>Model_Selection_web.png</a>
            </li>
          </ul>
        
    
    
        
          
          <ul class="p-2">
            <li class="m-2 list-unstyled"><span class="far fa-file mr-1"></span>
                <a class="course-file" href=/courses/jedha-full-stack-24-program/S2.3%20--%20Coaching%20carri%C3%A8re/S23-B%20-%20Pr%C3%A9paration%20aux%20entretiens%20techniques/Machine%20Learning%20Flashcards/Momentum_web.png>Momentum_web.png</a>
            </li>
          </ul>
        
    
    
        
          
          <ul class="p-2">
            <li class="m-2 list-unstyled"><span class="far fa-file mr-1"></span>
                <a class="course-file" href=/courses/jedha-full-stack-24-program/S2.3%20--%20Coaching%20carri%C3%A8re/S23-B%20-%20Pr%C3%A9paration%20aux%20entretiens%20techniques/Machine%20Learning%20Flashcards/Motivation_For_Deep_Layers_web.png>Motivation_For_Deep_Layers_web.png</a>
            </li>
          </ul>
        
    
    
        
          
          <ul class="p-2">
            <li class="m-2 list-unstyled"><span class="far fa-file mr-1"></span>
                <a class="course-file" href=/courses/jedha-full-stack-24-program/S2.3%20--%20Coaching%20carri%C3%A8re/S23-B%20-%20Pr%C3%A9paration%20aux%20entretiens%20techniques/Machine%20Learning%20Flashcards/Motivation_For_Deep_Learning_web.png>Motivation_For_Deep_Learning_web.png</a>
            </li>
          </ul>
        
    
    
        
          
          <ul class="p-2">
            <li class="m-2 list-unstyled"><span class="far fa-file mr-1"></span>
                <a class="course-file" href=/courses/jedha-full-stack-24-program/S2.3%20--%20Coaching%20carri%C3%A8re/S23-B%20-%20Pr%C3%A9paration%20aux%20entretiens%20techniques/Machine%20Learning%20Flashcards/Multinomial_Logistic_Regression_web.png>Multinomial_Logistic_Regression_web.png</a>
            </li>
          </ul>
        
    
    
        
          
          <ul class="p-2">
            <li class="m-2 list-unstyled"><span class="far fa-file mr-1"></span>
                <a class="course-file" href=/courses/jedha-full-stack-24-program/S2.3%20--%20Coaching%20carri%C3%A8re/S23-B%20-%20Pr%C3%A9paration%20aux%20entretiens%20techniques/Machine%20Learning%20Flashcards/Natural_Log_web.png>Natural_Log_web.png</a>
            </li>
          </ul>
        
    
    
        
          
          <ul class="p-2">
            <li class="m-2 list-unstyled"><span class="far fa-file mr-1"></span>
                <a class="course-file" href=/courses/jedha-full-stack-24-program/S2.3%20--%20Coaching%20carri%C3%A8re/S23-B%20-%20Pr%C3%A9paration%20aux%20entretiens%20techniques/Machine%20Learning%20Flashcards/Neuron_web.png>Neuron_web.png</a>
            </li>
          </ul>
        
    
    
        
          
          <ul class="p-2">
            <li class="m-2 list-unstyled"><span class="far fa-file mr-1"></span>
                <a class="course-file" href=/courses/jedha-full-stack-24-program/S2.3%20--%20Coaching%20carri%C3%A8re/S23-B%20-%20Pr%C3%A9paration%20aux%20entretiens%20techniques/Machine%20Learning%20Flashcards/No_Free_Lunch_Theorem_web.png>No_Free_Lunch_Theorem_web.png</a>
            </li>
          </ul>
        
    
    
        
          
          <ul class="p-2">
            <li class="m-2 list-unstyled"><span class="far fa-file mr-1"></span>
                <a class="course-file" href=/courses/jedha-full-stack-24-program/S2.3%20--%20Coaching%20carri%C3%A8re/S23-B%20-%20Pr%C3%A9paration%20aux%20entretiens%20techniques/Machine%20Learning%20Flashcards/Noisy_ReLU_web.png>Noisy_ReLU_web.png</a>
            </li>
          </ul>
        
    
    
        
          
          <ul class="p-2">
            <li class="m-2 list-unstyled"><span class="far fa-file mr-1"></span>
                <a class="course-file" href=/courses/jedha-full-stack-24-program/S2.3%20--%20Coaching%20carri%C3%A8re/S23-B%20-%20Pr%C3%A9paration%20aux%20entretiens%20techniques/Machine%20Learning%20Flashcards/Non-Parametric_Methods_web.png>Non-Parametric_Methods_web.png</a>
            </li>
          </ul>
        
    
    
        
          
          <ul class="p-2">
            <li class="m-2 list-unstyled"><span class="far fa-file mr-1"></span>
                <a class="course-file" href=/courses/jedha-full-stack-24-program/S2.3%20--%20Coaching%20carri%C3%A8re/S23-B%20-%20Pr%C3%A9paration%20aux%20entretiens%20techniques/Machine%20Learning%20Flashcards/Normal_Distribution_web.png>Normal_Distribution_web.png</a>
            </li>
          </ul>
        
    
    
        
          
          <ul class="p-2">
            <li class="m-2 list-unstyled"><span class="far fa-file mr-1"></span>
                <a class="course-file" href=/courses/jedha-full-stack-24-program/S2.3%20--%20Coaching%20carri%C3%A8re/S23-B%20-%20Pr%C3%A9paration%20aux%20entretiens%20techniques/Machine%20Learning%20Flashcards/Normalized_Initialization_Of_Neural_Network_Parameters_web.png>Normalized_Initialization_Of_Neural_Network_Parameters_web.png</a>
            </li>
          </ul>
        
    
    
        
          
          <ul class="p-2">
            <li class="m-2 list-unstyled"><span class="far fa-file mr-1"></span>
                <a class="course-file" href=/courses/jedha-full-stack-24-program/S2.3%20--%20Coaching%20carri%C3%A8re/S23-B%20-%20Pr%C3%A9paration%20aux%20entretiens%20techniques/Machine%20Learning%20Flashcards/Normalizing_Observations_web.png>Normalizing_Observations_web.png</a>
            </li>
          </ul>
        
    
    
        
          
          <ul class="p-2">
            <li class="m-2 list-unstyled"><span class="far fa-file mr-1"></span>
                <a class="course-file" href=/courses/jedha-full-stack-24-program/S2.3%20--%20Coaching%20carri%C3%A8re/S23-B%20-%20Pr%C3%A9paration%20aux%20entretiens%20techniques/Machine%20Learning%20Flashcards/Notation_1_web.png>Notation_1_web.png</a>
            </li>
          </ul>
        
    
    
        
          
          <ul class="p-2">
            <li class="m-2 list-unstyled"><span class="far fa-file mr-1"></span>
                <a class="course-file" href=/courses/jedha-full-stack-24-program/S2.3%20--%20Coaching%20carri%C3%A8re/S23-B%20-%20Pr%C3%A9paration%20aux%20entretiens%20techniques/Machine%20Learning%20Flashcards/Notation_2_web.png>Notation_2_web.png</a>
            </li>
          </ul>
        
    
    
        
          
          <ul class="p-2">
            <li class="m-2 list-unstyled"><span class="far fa-file mr-1"></span>
                <a class="course-file" href=/courses/jedha-full-stack-24-program/S2.3%20--%20Coaching%20carri%C3%A8re/S23-B%20-%20Pr%C3%A9paration%20aux%20entretiens%20techniques/Machine%20Learning%20Flashcards/Notation_3_web.png>Notation_3_web.png</a>
            </li>
          </ul>
        
    
    
        
          
          <ul class="p-2">
            <li class="m-2 list-unstyled"><span class="far fa-file mr-1"></span>
                <a class="course-file" href=/courses/jedha-full-stack-24-program/S2.3%20--%20Coaching%20carri%C3%A8re/S23-B%20-%20Pr%C3%A9paration%20aux%20entretiens%20techniques/Machine%20Learning%20Flashcards/Notation_4_web.png>Notation_4_web.png</a>
            </li>
          </ul>
        
    
    
        
          
          <ul class="p-2">
            <li class="m-2 list-unstyled"><span class="far fa-file mr-1"></span>
                <a class="course-file" href=/courses/jedha-full-stack-24-program/S2.3%20--%20Coaching%20carri%C3%A8re/S23-B%20-%20Pr%C3%A9paration%20aux%20entretiens%20techniques/Machine%20Learning%20Flashcards/Notation_5_web.png>Notation_5_web.png</a>
            </li>
          </ul>
        
    
    
        
          
          <ul class="p-2">
            <li class="m-2 list-unstyled"><span class="far fa-file mr-1"></span>
                <a class="course-file" href=/courses/jedha-full-stack-24-program/S2.3%20--%20Coaching%20carri%C3%A8re/S23-B%20-%20Pr%C3%A9paration%20aux%20entretiens%20techniques/Machine%20Learning%20Flashcards/Notions_Of_Probability_web.png>Notions_Of_Probability_web.png</a>
            </li>
          </ul>
        
    
    
        
          
          <ul class="p-2">
            <li class="m-2 list-unstyled"><span class="far fa-file mr-1"></span>
                <a class="course-file" href=/courses/jedha-full-stack-24-program/S2.3%20--%20Coaching%20carri%C3%A8re/S23-B%20-%20Pr%C3%A9paration%20aux%20entretiens%20techniques/Machine%20Learning%20Flashcards/Occams_Razor_web.png>Occams_Razor_web.png</a>
            </li>
          </ul>
        
    
    
        
          
          <ul class="p-2">
            <li class="m-2 list-unstyled"><span class="far fa-file mr-1"></span>
                <a class="course-file" href=/courses/jedha-full-stack-24-program/S2.3%20--%20Coaching%20carri%C3%A8re/S23-B%20-%20Pr%C3%A9paration%20aux%20entretiens%20techniques/Machine%20Learning%20Flashcards/Odds_Ratio_web.png>Odds_Ratio_web.png</a>
            </li>
          </ul>
        
    
    
        
          
          <ul class="p-2">
            <li class="m-2 list-unstyled"><span class="far fa-file mr-1"></span>
                <a class="course-file" href=/courses/jedha-full-stack-24-program/S2.3%20--%20Coaching%20carri%C3%A8re/S23-B%20-%20Pr%C3%A9paration%20aux%20entretiens%20techniques/Machine%20Learning%20Flashcards/Odds_web.png>Odds_web.png</a>
            </li>
          </ul>
        
    
    
        
          
          <ul class="p-2">
            <li class="m-2 list-unstyled"><span class="far fa-file mr-1"></span>
                <a class="course-file" href=/courses/jedha-full-stack-24-program/S2.3%20--%20Coaching%20carri%C3%A8re/S23-B%20-%20Pr%C3%A9paration%20aux%20entretiens%20techniques/Machine%20Learning%20Flashcards/One-Hot_Encoding_web.png>One-Hot_Encoding_web.png</a>
            </li>
          </ul>
        
    
    
        
          
          <ul class="p-2">
            <li class="m-2 list-unstyled"><span class="far fa-file mr-1"></span>
                <a class="course-file" href=/courses/jedha-full-stack-24-program/S2.3%20--%20Coaching%20carri%C3%A8re/S23-B%20-%20Pr%C3%A9paration%20aux%20entretiens%20techniques/Machine%20Learning%20Flashcards/One-Sided_Label_Smoothing_web.png>One-Sided_Label_Smoothing_web.png</a>
            </li>
          </ul>
        
    
    
        
          
          <ul class="p-2">
            <li class="m-2 list-unstyled"><span class="far fa-file mr-1"></span>
                <a class="course-file" href=/courses/jedha-full-stack-24-program/S2.3%20--%20Coaching%20carri%C3%A8re/S23-B%20-%20Pr%C3%A9paration%20aux%20entretiens%20techniques/Machine%20Learning%20Flashcards/One-Vs-Rest_Logistic_Regression_web.png>One-Vs-Rest_Logistic_Regression_web.png</a>
            </li>
          </ul>
        
    
    
        
          
          <ul class="p-2">
            <li class="m-2 list-unstyled"><span class="far fa-file mr-1"></span>
                <a class="course-file" href=/courses/jedha-full-stack-24-program/S2.3%20--%20Coaching%20carri%C3%A8re/S23-B%20-%20Pr%C3%A9paration%20aux%20entretiens%20techniques/Machine%20Learning%20Flashcards/Ordinary_Least_Squares_web.png>Ordinary_Least_Squares_web.png</a>
            </li>
          </ul>
        
    
    
        
          
          <ul class="p-2">
            <li class="m-2 list-unstyled"><span class="far fa-file mr-1"></span>
                <a class="course-file" href=/courses/jedha-full-stack-24-program/S2.3%20--%20Coaching%20carri%C3%A8re/S23-B%20-%20Pr%C3%A9paration%20aux%20entretiens%20techniques/Machine%20Learning%20Flashcards/Out-Of-Bag_Error_web.png>Out-Of-Bag_Error_web.png</a>
            </li>
          </ul>
        
    
    
        
          
          <ul class="p-2">
            <li class="m-2 list-unstyled"><span class="far fa-file mr-1"></span>
                <a class="course-file" href=/courses/jedha-full-stack-24-program/S2.3%20--%20Coaching%20carri%C3%A8re/S23-B%20-%20Pr%C3%A9paration%20aux%20entretiens%20techniques/Machine%20Learning%20Flashcards/Out-Of-Core_web.png>Out-Of-Core_web.png</a>
            </li>
          </ul>
        
    
    
        
          
          <ul class="p-2">
            <li class="m-2 list-unstyled"><span class="far fa-file mr-1"></span>
                <a class="course-file" href=/courses/jedha-full-stack-24-program/S2.3%20--%20Coaching%20carri%C3%A8re/S23-B%20-%20Pr%C3%A9paration%20aux%20entretiens%20techniques/Machine%20Learning%20Flashcards/Outlier_web.png>Outlier_web.png</a>
            </li>
          </ul>
        
    
    
        
          
          <ul class="p-2">
            <li class="m-2 list-unstyled"><span class="far fa-file mr-1"></span>
                <a class="course-file" href=/courses/jedha-full-stack-24-program/S2.3%20--%20Coaching%20carri%C3%A8re/S23-B%20-%20Pr%C3%A9paration%20aux%20entretiens%20techniques/Machine%20Learning%20Flashcards/Overfit_Vs_Underfit_web.png>Overfit_Vs_Underfit_web.png</a>
            </li>
          </ul>
        
    
    
        
          
          <ul class="p-2">
            <li class="m-2 list-unstyled"><span class="far fa-file mr-1"></span>
                <a class="course-file" href=/courses/jedha-full-stack-24-program/S2.3%20--%20Coaching%20carri%C3%A8re/S23-B%20-%20Pr%C3%A9paration%20aux%20entretiens%20techniques/Machine%20Learning%20Flashcards/Overfitting_web.png>Overfitting_web.png</a>
            </li>
          </ul>
        
    
    
        
          
          <ul class="p-2">
            <li class="m-2 list-unstyled"><span class="far fa-file mr-1"></span>
                <a class="course-file" href=/courses/jedha-full-stack-24-program/S2.3%20--%20Coaching%20carri%C3%A8re/S23-B%20-%20Pr%C3%A9paration%20aux%20entretiens%20techniques/Machine%20Learning%20Flashcards/Parameter_Norm_web.png>Parameter_Norm_web.png</a>
            </li>
          </ul>
        
    
    
        
          
          <ul class="p-2">
            <li class="m-2 list-unstyled"><span class="far fa-file mr-1"></span>
                <a class="course-file" href=/courses/jedha-full-stack-24-program/S2.3%20--%20Coaching%20carri%C3%A8re/S23-B%20-%20Pr%C3%A9paration%20aux%20entretiens%20techniques/Machine%20Learning%20Flashcards/Parameter_Sharing_web.png>Parameter_Sharing_web.png</a>
            </li>
          </ul>
        
    
    
        
          
          <ul class="p-2">
            <li class="m-2 list-unstyled"><span class="far fa-file mr-1"></span>
                <a class="course-file" href=/courses/jedha-full-stack-24-program/S2.3%20--%20Coaching%20carri%C3%A8re/S23-B%20-%20Pr%C3%A9paration%20aux%20entretiens%20techniques/Machine%20Learning%20Flashcards/Parameters_vs_Hyperparameters_web.png>Parameters_vs_Hyperparameters_web.png</a>
            </li>
          </ul>
        
    
    
        
          
          <ul class="p-2">
            <li class="m-2 list-unstyled"><span class="far fa-file mr-1"></span>
                <a class="course-file" href=/courses/jedha-full-stack-24-program/S2.3%20--%20Coaching%20carri%C3%A8re/S23-B%20-%20Pr%C3%A9paration%20aux%20entretiens%20techniques/Machine%20Learning%20Flashcards/Parametric_Modeling_web.png>Parametric_Modeling_web.png</a>
            </li>
          </ul>
        
    
    
        
          
          <ul class="p-2">
            <li class="m-2 list-unstyled"><span class="far fa-file mr-1"></span>
                <a class="course-file" href=/courses/jedha-full-stack-24-program/S2.3%20--%20Coaching%20carri%C3%A8re/S23-B%20-%20Pr%C3%A9paration%20aux%20entretiens%20techniques/Machine%20Learning%20Flashcards/Partial_Derivative_web.png>Partial_Derivative_web.png</a>
            </li>
          </ul>
        
    
    
        
          
          <ul class="p-2">
            <li class="m-2 list-unstyled"><span class="far fa-file mr-1"></span>
                <a class="course-file" href=/courses/jedha-full-stack-24-program/S2.3%20--%20Coaching%20carri%C3%A8re/S23-B%20-%20Pr%C3%A9paration%20aux%20entretiens%20techniques/Machine%20Learning%20Flashcards/Pearsons_Correlation_web.png>Pearsons_Correlation_web.png</a>
            </li>
          </ul>
        
    
    
        
          
          <ul class="p-2">
            <li class="m-2 list-unstyled"><span class="far fa-file mr-1"></span>
                <a class="course-file" href=/courses/jedha-full-stack-24-program/S2.3%20--%20Coaching%20carri%C3%A8re/S23-B%20-%20Pr%C3%A9paration%20aux%20entretiens%20techniques/Machine%20Learning%20Flashcards/Perceptron_Learning_web.png>Perceptron_Learning_web.png</a>
            </li>
          </ul>
        
    
    
        
          
          <ul class="p-2">
            <li class="m-2 list-unstyled"><span class="far fa-file mr-1"></span>
                <a class="course-file" href=/courses/jedha-full-stack-24-program/S2.3%20--%20Coaching%20carri%C3%A8re/S23-B%20-%20Pr%C3%A9paration%20aux%20entretiens%20techniques/Machine%20Learning%20Flashcards/Perceptron_web.png>Perceptron_web.png</a>
            </li>
          </ul>
        
    
    
        
          
          <ul class="p-2">
            <li class="m-2 list-unstyled"><span class="far fa-file mr-1"></span>
                <a class="course-file" href=/courses/jedha-full-stack-24-program/S2.3%20--%20Coaching%20carri%C3%A8re/S23-B%20-%20Pr%C3%A9paration%20aux%20entretiens%20techniques/Machine%20Learning%20Flashcards/Platt_Scaling_web.png>Platt_Scaling_web.png</a>
            </li>
          </ul>
        
    
    
        
          
          <ul class="p-2">
            <li class="m-2 list-unstyled"><span class="far fa-file mr-1"></span>
                <a class="course-file" href=/courses/jedha-full-stack-24-program/S2.3%20--%20Coaching%20carri%C3%A8re/S23-B%20-%20Pr%C3%A9paration%20aux%20entretiens%20techniques/Machine%20Learning%20Flashcards/Polynomial_Regression_web.png>Polynomial_Regression_web.png</a>
            </li>
          </ul>
        
    
    
        
          
          <ul class="p-2">
            <li class="m-2 list-unstyled"><span class="far fa-file mr-1"></span>
                <a class="course-file" href=/courses/jedha-full-stack-24-program/S2.3%20--%20Coaching%20carri%C3%A8re/S23-B%20-%20Pr%C3%A9paration%20aux%20entretiens%20techniques/Machine%20Learning%20Flashcards/Power_Rule_web.png>Power_Rule_web.png</a>
            </li>
          </ul>
        
    
    
        
          
          <ul class="p-2">
            <li class="m-2 list-unstyled"><span class="far fa-file mr-1"></span>
                <a class="course-file" href=/courses/jedha-full-stack-24-program/S2.3%20--%20Coaching%20carri%C3%A8re/S23-B%20-%20Pr%C3%A9paration%20aux%20entretiens%20techniques/Machine%20Learning%20Flashcards/Precision_web.png>Precision_web.png</a>
            </li>
          </ul>
        
    
    
        
          
          <ul class="p-2">
            <li class="m-2 list-unstyled"><span class="far fa-file mr-1"></span>
                <a class="course-file" href=/courses/jedha-full-stack-24-program/S2.3%20--%20Coaching%20carri%C3%A8re/S23-B%20-%20Pr%C3%A9paration%20aux%20entretiens%20techniques/Machine%20Learning%20Flashcards/Preprocessing_Training_And_Test_Sets_web.png>Preprocessing_Training_And_Test_Sets_web.png</a>
            </li>
          </ul>
        
    
    
        
          
          <ul class="p-2">
            <li class="m-2 list-unstyled"><span class="far fa-file mr-1"></span>
                <a class="course-file" href=/courses/jedha-full-stack-24-program/S2.3%20--%20Coaching%20carri%C3%A8re/S23-B%20-%20Pr%C3%A9paration%20aux%20entretiens%20techniques/Machine%20Learning%20Flashcards/Principal_Component_Analysis_web.png>Principal_Component_Analysis_web.png</a>
            </li>
          </ul>
        
    
    
        
          
          <ul class="p-2">
            <li class="m-2 list-unstyled"><span class="far fa-file mr-1"></span>
                <a class="course-file" href=/courses/jedha-full-stack-24-program/S2.3%20--%20Coaching%20carri%C3%A8re/S23-B%20-%20Pr%C3%A9paration%20aux%20entretiens%20techniques/Machine%20Learning%20Flashcards/Principal_Components_web.png>Principal_Components_web.png</a>
            </li>
          </ul>
        
    
    
        
          
          <ul class="p-2">
            <li class="m-2 list-unstyled"><span class="far fa-file mr-1"></span>
                <a class="course-file" href=/courses/jedha-full-stack-24-program/S2.3%20--%20Coaching%20carri%C3%A8re/S23-B%20-%20Pr%C3%A9paration%20aux%20entretiens%20techniques/Machine%20Learning%20Flashcards/Probability_Density_Function_web.png>Probability_Density_Function_web.png</a>
            </li>
          </ul>
        
    
    
        
          
          <ul class="p-2">
            <li class="m-2 list-unstyled"><span class="far fa-file mr-1"></span>
                <a class="course-file" href=/courses/jedha-full-stack-24-program/S2.3%20--%20Coaching%20carri%C3%A8re/S23-B%20-%20Pr%C3%A9paration%20aux%20entretiens%20techniques/Machine%20Learning%20Flashcards/Probability_Mass_Function_web.png>Probability_Mass_Function_web.png</a>
            </li>
          </ul>
        
    
    
        
          
          <ul class="p-2">
            <li class="m-2 list-unstyled"><span class="far fa-file mr-1"></span>
                <a class="course-file" href=/courses/jedha-full-stack-24-program/S2.3%20--%20Coaching%20carri%C3%A8re/S23-B%20-%20Pr%C3%A9paration%20aux%20entretiens%20techniques/Machine%20Learning%20Flashcards/R-Squared_web.png>R-Squared_web.png</a>
            </li>
          </ul>
        
    
    
        
          
          <ul class="p-2">
            <li class="m-2 list-unstyled"><span class="far fa-file mr-1"></span>
                <a class="course-file" href=/courses/jedha-full-stack-24-program/S2.3%20--%20Coaching%20carri%C3%A8re/S23-B%20-%20Pr%C3%A9paration%20aux%20entretiens%20techniques/Machine%20Learning%20Flashcards/RMSprop_web.png>RMSprop_web.png</a>
            </li>
          </ul>
        
    
    
        
          
          <ul class="p-2">
            <li class="m-2 list-unstyled"><span class="far fa-file mr-1"></span>
                <a class="course-file" href=/courses/jedha-full-stack-24-program/S2.3%20--%20Coaching%20carri%C3%A8re/S23-B%20-%20Pr%C3%A9paration%20aux%20entretiens%20techniques/Machine%20Learning%20Flashcards/Radius-Based_Nearest_Neighbor_Classifier_web.png>Radius-Based_Nearest_Neighbor_Classifier_web.png</a>
            </li>
          </ul>
        
    
    
        
          
          <ul class="p-2">
            <li class="m-2 list-unstyled"><span class="far fa-file mr-1"></span>
                <a class="course-file" href=/courses/jedha-full-stack-24-program/S2.3%20--%20Coaching%20carri%C3%A8re/S23-B%20-%20Pr%C3%A9paration%20aux%20entretiens%20techniques/Machine%20Learning%20Flashcards/Random_Forest_web.png>Random_Forest_web.png</a>
            </li>
          </ul>
        
    
    
        
          
          <ul class="p-2">
            <li class="m-2 list-unstyled"><span class="far fa-file mr-1"></span>
                <a class="course-file" href=/courses/jedha-full-stack-24-program/S2.3%20--%20Coaching%20carri%C3%A8re/S23-B%20-%20Pr%C3%A9paration%20aux%20entretiens%20techniques/Machine%20Learning%20Flashcards/Random_Variable_web.png>Random_Variable_web.png</a>
            </li>
          </ul>
        
    
    
        
          
          <ul class="p-2">
            <li class="m-2 list-unstyled"><span class="far fa-file mr-1"></span>
                <a class="course-file" href=/courses/jedha-full-stack-24-program/S2.3%20--%20Coaching%20carri%C3%A8re/S23-B%20-%20Pr%C3%A9paration%20aux%20entretiens%20techniques/Machine%20Learning%20Flashcards/Randomized_Search_web.png>Randomized_Search_web.png</a>
            </li>
          </ul>
        
    
    
        
          
          <ul class="p-2">
            <li class="m-2 list-unstyled"><span class="far fa-file mr-1"></span>
                <a class="course-file" href=/courses/jedha-full-stack-24-program/S2.3%20--%20Coaching%20carri%C3%A8re/S23-B%20-%20Pr%C3%A9paration%20aux%20entretiens%20techniques/Machine%20Learning%20Flashcards/ReLU_Activation_Function_web.png>ReLU_Activation_Function_web.png</a>
            </li>
          </ul>
        
    
    
        
          
          <ul class="p-2">
            <li class="m-2 list-unstyled"><span class="far fa-file mr-1"></span>
                <a class="course-file" href=/courses/jedha-full-stack-24-program/S2.3%20--%20Coaching%20carri%C3%A8re/S23-B%20-%20Pr%C3%A9paration%20aux%20entretiens%20techniques/Machine%20Learning%20Flashcards/Recall_web.png>Recall_web.png</a>
            </li>
          </ul>
        
    
    
        
          
          <ul class="p-2">
            <li class="m-2 list-unstyled"><span class="far fa-file mr-1"></span>
                <a class="course-file" href=/courses/jedha-full-stack-24-program/S2.3%20--%20Coaching%20carri%C3%A8re/S23-B%20-%20Pr%C3%A9paration%20aux%20entretiens%20techniques/Machine%20Learning%20Flashcards/Receiver_Operating_Characteristic_web.png>Receiver_Operating_Characteristic_web.png</a>
            </li>
          </ul>
        
    
    
        
          
          <ul class="p-2">
            <li class="m-2 list-unstyled"><span class="far fa-file mr-1"></span>
                <a class="course-file" href=/courses/jedha-full-stack-24-program/S2.3%20--%20Coaching%20carri%C3%A8re/S23-B%20-%20Pr%C3%A9paration%20aux%20entretiens%20techniques/Machine%20Learning%20Flashcards/Regression_web.png>Regression_web.png</a>
            </li>
          </ul>
        
    
    
        
          
          <ul class="p-2">
            <li class="m-2 list-unstyled"><span class="far fa-file mr-1"></span>
                <a class="course-file" href=/courses/jedha-full-stack-24-program/S2.3%20--%20Coaching%20carri%C3%A8re/S23-B%20-%20Pr%C3%A9paration%20aux%20entretiens%20techniques/Machine%20Learning%20Flashcards/Regularization_web.png>Regularization_web.png</a>
            </li>
          </ul>
        
    
    
        
          
          <ul class="p-2">
            <li class="m-2 list-unstyled"><span class="far fa-file mr-1"></span>
                <a class="course-file" href=/courses/jedha-full-stack-24-program/S2.3%20--%20Coaching%20carri%C3%A8re/S23-B%20-%20Pr%C3%A9paration%20aux%20entretiens%20techniques/Machine%20Learning%20Flashcards/Residual_Sum_Of_Squares_web.png>Residual_Sum_Of_Squares_web.png</a>
            </li>
          </ul>
        
    
    
        
          
          <ul class="p-2">
            <li class="m-2 list-unstyled"><span class="far fa-file mr-1"></span>
                <a class="course-file" href=/courses/jedha-full-stack-24-program/S2.3%20--%20Coaching%20carri%C3%A8re/S23-B%20-%20Pr%C3%A9paration%20aux%20entretiens%20techniques/Machine%20Learning%20Flashcards/Ridge_Regression_web.png>Ridge_Regression_web.png</a>
            </li>
          </ul>
        
    
    
        
          
          <ul class="p-2">
            <li class="m-2 list-unstyled"><span class="far fa-file mr-1"></span>
                <a class="course-file" href=/courses/jedha-full-stack-24-program/S2.3%20--%20Coaching%20carri%C3%A8re/S23-B%20-%20Pr%C3%A9paration%20aux%20entretiens%20techniques/Machine%20Learning%20Flashcards/SVC_Radial_Basis_Function_Kernel_web.png>SVC_Radial_Basis_Function_Kernel_web.png</a>
            </li>
          </ul>
        
    
    
        
          
          <ul class="p-2">
            <li class="m-2 list-unstyled"><span class="far fa-file mr-1"></span>
                <a class="course-file" href=/courses/jedha-full-stack-24-program/S2.3%20--%20Coaching%20carri%C3%A8re/S23-B%20-%20Pr%C3%A9paration%20aux%20entretiens%20techniques/Machine%20Learning%20Flashcards/Saddle_Point_web.png>Saddle_Point_web.png</a>
            </li>
          </ul>
        
    
    
        
          
          <ul class="p-2">
            <li class="m-2 list-unstyled"><span class="far fa-file mr-1"></span>
                <a class="course-file" href=/courses/jedha-full-stack-24-program/S2.3%20--%20Coaching%20carri%C3%A8re/S23-B%20-%20Pr%C3%A9paration%20aux%20entretiens%20techniques/Machine%20Learning%20Flashcards/Saturation_Of_The_Loss_Function_web.png>Saturation_Of_The_Loss_Function_web.png</a>
            </li>
          </ul>
        
    
    
        
          
          <ul class="p-2">
            <li class="m-2 list-unstyled"><span class="far fa-file mr-1"></span>
                <a class="course-file" href=/courses/jedha-full-stack-24-program/S2.3%20--%20Coaching%20carri%C3%A8re/S23-B%20-%20Pr%C3%A9paration%20aux%20entretiens%20techniques/Machine%20Learning%20Flashcards/Saturation_web.png>Saturation_web.png</a>
            </li>
          </ul>
        
    
    
        
          
          <ul class="p-2">
            <li class="m-2 list-unstyled"><span class="far fa-file mr-1"></span>
                <a class="course-file" href=/courses/jedha-full-stack-24-program/S2.3%20--%20Coaching%20carri%C3%A8re/S23-B%20-%20Pr%C3%A9paration%20aux%20entretiens%20techniques/Machine%20Learning%20Flashcards/Scalars_web.png>Scalars_web.png</a>
            </li>
          </ul>
        
    
    
        
          
          <ul class="p-2">
            <li class="m-2 list-unstyled"><span class="far fa-file mr-1"></span>
                <a class="course-file" href=/courses/jedha-full-stack-24-program/S2.3%20--%20Coaching%20carri%C3%A8re/S23-B%20-%20Pr%C3%A9paration%20aux%20entretiens%20techniques/Machine%20Learning%20Flashcards/Selecting_Number_Of_Components_In_PCA_web.png>Selecting_Number_Of_Components_In_PCA_web.png</a>
            </li>
          </ul>
        
    
    
        
          
          <ul class="p-2">
            <li class="m-2 list-unstyled"><span class="far fa-file mr-1"></span>
                <a class="course-file" href=/courses/jedha-full-stack-24-program/S2.3%20--%20Coaching%20carri%C3%A8re/S23-B%20-%20Pr%C3%A9paration%20aux%20entretiens%20techniques/Machine%20Learning%20Flashcards/Sensitivity_web.png>Sensitivity_web.png</a>
            </li>
          </ul>
        
    
    
        
          
          <ul class="p-2">
            <li class="m-2 list-unstyled"><span class="far fa-file mr-1"></span>
                <a class="course-file" href=/courses/jedha-full-stack-24-program/S2.3%20--%20Coaching%20carri%C3%A8re/S23-B%20-%20Pr%C3%A9paration%20aux%20entretiens%20techniques/Machine%20Learning%20Flashcards/Sigmoid_Activation_Function_web.png>Sigmoid_Activation_Function_web.png</a>
            </li>
          </ul>
        
    
    
        
          
          <ul class="p-2">
            <li class="m-2 list-unstyled"><span class="far fa-file mr-1"></span>
                <a class="course-file" href=/courses/jedha-full-stack-24-program/S2.3%20--%20Coaching%20carri%C3%A8re/S23-B%20-%20Pr%C3%A9paration%20aux%20entretiens%20techniques/Machine%20Learning%20Flashcards/Silhouette_Coefficients_web.png>Silhouette_Coefficients_web.png</a>
            </li>
          </ul>
        
    
    
        
          
          <ul class="p-2">
            <li class="m-2 list-unstyled"><span class="far fa-file mr-1"></span>
                <a class="course-file" href=/courses/jedha-full-stack-24-program/S2.3%20--%20Coaching%20carri%C3%A8re/S23-B%20-%20Pr%C3%A9paration%20aux%20entretiens%20techniques/Machine%20Learning%20Flashcards/Simpsons_Paradox_web.png>Simpsons_Paradox_web.png</a>
            </li>
          </ul>
        
    
    
        
          
          <ul class="p-2">
            <li class="m-2 list-unstyled"><span class="far fa-file mr-1"></span>
                <a class="course-file" href=/courses/jedha-full-stack-24-program/S2.3%20--%20Coaching%20carri%C3%A8re/S23-B%20-%20Pr%C3%A9paration%20aux%20entretiens%20techniques/Machine%20Learning%20Flashcards/Slack_Variable_In_Soft-Margin_SVM_web.png>Slack_Variable_In_Soft-Margin_SVM_web.png</a>
            </li>
          </ul>
        
    
    
        
          
          <ul class="p-2">
            <li class="m-2 list-unstyled"><span class="far fa-file mr-1"></span>
                <a class="course-file" href=/courses/jedha-full-stack-24-program/S2.3%20--%20Coaching%20carri%C3%A8re/S23-B%20-%20Pr%C3%A9paration%20aux%20entretiens%20techniques/Machine%20Learning%20Flashcards/Softmax_Activation_Function_web.png>Softmax_Activation_Function_web.png</a>
            </li>
          </ul>
        
    
    
        
          
          <ul class="p-2">
            <li class="m-2 list-unstyled"><span class="far fa-file mr-1"></span>
                <a class="course-file" href=/courses/jedha-full-stack-24-program/S2.3%20--%20Coaching%20carri%C3%A8re/S23-B%20-%20Pr%C3%A9paration%20aux%20entretiens%20techniques/Machine%20Learning%20Flashcards/Softmax_Normalization_web.png>Softmax_Normalization_web.png</a>
            </li>
          </ul>
        
    
    
        
          
          <ul class="p-2">
            <li class="m-2 list-unstyled"><span class="far fa-file mr-1"></span>
                <a class="course-file" href=/courses/jedha-full-stack-24-program/S2.3%20--%20Coaching%20carri%C3%A8re/S23-B%20-%20Pr%C3%A9paration%20aux%20entretiens%20techniques/Machine%20Learning%20Flashcards/Softplus_Function_web.png>Softplus_Function_web.png</a>
            </li>
          </ul>
        
    
    
        
          
          <ul class="p-2">
            <li class="m-2 list-unstyled"><span class="far fa-file mr-1"></span>
                <a class="course-file" href=/courses/jedha-full-stack-24-program/S2.3%20--%20Coaching%20carri%C3%A8re/S23-B%20-%20Pr%C3%A9paration%20aux%20entretiens%20techniques/Machine%20Learning%20Flashcards/Sources_Of_Uncertainty_web.png>Sources_Of_Uncertainty_web.png</a>
            </li>
          </ul>
        
    
    
        
          
          <ul class="p-2">
            <li class="m-2 list-unstyled"><span class="far fa-file mr-1"></span>
                <a class="course-file" href=/courses/jedha-full-stack-24-program/S2.3%20--%20Coaching%20carri%C3%A8re/S23-B%20-%20Pr%C3%A9paration%20aux%20entretiens%20techniques/Machine%20Learning%20Flashcards/Span_web.png>Span_web.png</a>
            </li>
          </ul>
        
    
    
        
          
          <ul class="p-2">
            <li class="m-2 list-unstyled"><span class="far fa-file mr-1"></span>
                <a class="course-file" href=/courses/jedha-full-stack-24-program/S2.3%20--%20Coaching%20carri%C3%A8re/S23-B%20-%20Pr%C3%A9paration%20aux%20entretiens%20techniques/Machine%20Learning%20Flashcards/Sparsity_web.png>Sparsity_web.png</a>
            </li>
          </ul>
        
    
    
        
          
          <ul class="p-2">
            <li class="m-2 list-unstyled"><span class="far fa-file mr-1"></span>
                <a class="course-file" href=/courses/jedha-full-stack-24-program/S2.3%20--%20Coaching%20carri%C3%A8re/S23-B%20-%20Pr%C3%A9paration%20aux%20entretiens%20techniques/Machine%20Learning%20Flashcards/Square_Root_web.png>Square_Root_web.png</a>
            </li>
          </ul>
        
    
    
        
          
          <ul class="p-2">
            <li class="m-2 list-unstyled"><span class="far fa-file mr-1"></span>
                <a class="course-file" href=/courses/jedha-full-stack-24-program/S2.3%20--%20Coaching%20carri%C3%A8re/S23-B%20-%20Pr%C3%A9paration%20aux%20entretiens%20techniques/Machine%20Learning%20Flashcards/Standard_Deviation_web.png>Standard_Deviation_web.png</a>
            </li>
          </ul>
        
    
    
        
          
          <ul class="p-2">
            <li class="m-2 list-unstyled"><span class="far fa-file mr-1"></span>
                <a class="course-file" href=/courses/jedha-full-stack-24-program/S2.3%20--%20Coaching%20carri%C3%A8re/S23-B%20-%20Pr%C3%A9paration%20aux%20entretiens%20techniques/Machine%20Learning%20Flashcards/Standard_Error_Of_The_Mean_web.png>Standard_Error_Of_The_Mean_web.png</a>
            </li>
          </ul>
        
    
    
        
          
          <ul class="p-2">
            <li class="m-2 list-unstyled"><span class="far fa-file mr-1"></span>
                <a class="course-file" href=/courses/jedha-full-stack-24-program/S2.3%20--%20Coaching%20carri%C3%A8re/S23-B%20-%20Pr%C3%A9paration%20aux%20entretiens%20techniques/Machine%20Learning%20Flashcards/Standardization_web.png>Standardization_web.png</a>
            </li>
          </ul>
        
    
    
        
          
          <ul class="p-2">
            <li class="m-2 list-unstyled"><span class="far fa-file mr-1"></span>
                <a class="course-file" href=/courses/jedha-full-stack-24-program/S2.3%20--%20Coaching%20carri%C3%A8re/S23-B%20-%20Pr%C3%A9paration%20aux%20entretiens%20techniques/Machine%20Learning%20Flashcards/Stationary_Points_web.png>Stationary_Points_web.png</a>
            </li>
          </ul>
        
    
    
        
          
          <ul class="p-2">
            <li class="m-2 list-unstyled"><span class="far fa-file mr-1"></span>
                <a class="course-file" href=/courses/jedha-full-stack-24-program/S2.3%20--%20Coaching%20carri%C3%A8re/S23-B%20-%20Pr%C3%A9paration%20aux%20entretiens%20techniques/Machine%20Learning%20Flashcards/Stemming_Words_web.png>Stemming_Words_web.png</a>
            </li>
          </ul>
        
    
    
        
          
          <ul class="p-2">
            <li class="m-2 list-unstyled"><span class="far fa-file mr-1"></span>
                <a class="course-file" href=/courses/jedha-full-stack-24-program/S2.3%20--%20Coaching%20carri%C3%A8re/S23-B%20-%20Pr%C3%A9paration%20aux%20entretiens%20techniques/Machine%20Learning%20Flashcards/Stochastic_Gradient_Descent_web.png>Stochastic_Gradient_Descent_web.png</a>
            </li>
          </ul>
        
    
    
        
          
          <ul class="p-2">
            <li class="m-2 list-unstyled"><span class="far fa-file mr-1"></span>
                <a class="course-file" href=/courses/jedha-full-stack-24-program/S2.3%20--%20Coaching%20carri%C3%A8re/S23-B%20-%20Pr%C3%A9paration%20aux%20entretiens%20techniques/Machine%20Learning%20Flashcards/Stop_Words_web.png>Stop_Words_web.png</a>
            </li>
          </ul>
        
    
    
        
          
          <ul class="p-2">
            <li class="m-2 list-unstyled"><span class="far fa-file mr-1"></span>
                <a class="course-file" href=/courses/jedha-full-stack-24-program/S2.3%20--%20Coaching%20carri%C3%A8re/S23-B%20-%20Pr%C3%A9paration%20aux%20entretiens%20techniques/Machine%20Learning%20Flashcards/Strategies_For_Highly_Imbalanced_Classes_web.png>Strategies_For_Highly_Imbalanced_Classes_web.png</a>
            </li>
          </ul>
        
    
    
        
          
          <ul class="p-2">
            <li class="m-2 list-unstyled"><span class="far fa-file mr-1"></span>
                <a class="course-file" href=/courses/jedha-full-stack-24-program/S2.3%20--%20Coaching%20carri%C3%A8re/S23-B%20-%20Pr%C3%A9paration%20aux%20entretiens%20techniques/Machine%20Learning%20Flashcards/Strategies_When_You_Have_High_Variance_web.png>Strategies_When_You_Have_High_Variance_web.png</a>
            </li>
          </ul>
        
    
    
        
          
          <ul class="p-2">
            <li class="m-2 list-unstyled"><span class="far fa-file mr-1"></span>
                <a class="course-file" href=/courses/jedha-full-stack-24-program/S2.3%20--%20Coaching%20carri%C3%A8re/S23-B%20-%20Pr%C3%A9paration%20aux%20entretiens%20techniques/Machine%20Learning%20Flashcards/Supervised_Deep_Learning_Rule_Of_Thumb_web.png>Supervised_Deep_Learning_Rule_Of_Thumb_web.png</a>
            </li>
          </ul>
        
    
    
        
          
          <ul class="p-2">
            <li class="m-2 list-unstyled"><span class="far fa-file mr-1"></span>
                <a class="course-file" href=/courses/jedha-full-stack-24-program/S2.3%20--%20Coaching%20carri%C3%A8re/S23-B%20-%20Pr%C3%A9paration%20aux%20entretiens%20techniques/Machine%20Learning%20Flashcards/Supervised_Vs_Unsupervised_web.png>Supervised_Vs_Unsupervised_web.png</a>
            </li>
          </ul>
        
    
    
        
          
          <ul class="p-2">
            <li class="m-2 list-unstyled"><span class="far fa-file mr-1"></span>
                <a class="course-file" href=/courses/jedha-full-stack-24-program/S2.3%20--%20Coaching%20carri%C3%A8re/S23-B%20-%20Pr%C3%A9paration%20aux%20entretiens%20techniques/Machine%20Learning%20Flashcards/Support_Vector_Classifier_web.png>Support_Vector_Classifier_web.png</a>
            </li>
          </ul>
        
    
    
        
          
          <ul class="p-2">
            <li class="m-2 list-unstyled"><span class="far fa-file mr-1"></span>
                <a class="course-file" href=/courses/jedha-full-stack-24-program/S2.3%20--%20Coaching%20carri%C3%A8re/S23-B%20-%20Pr%C3%A9paration%20aux%20entretiens%20techniques/Machine%20Learning%20Flashcards/Support_Vector_Machine_Soft-Margin_Classification_web.png>Support_Vector_Machine_Soft-Margin_Classification_web.png</a>
            </li>
          </ul>
        
    
    
        
          
          <ul class="p-2">
            <li class="m-2 list-unstyled"><span class="far fa-file mr-1"></span>
                <a class="course-file" href=/courses/jedha-full-stack-24-program/S2.3%20--%20Coaching%20carri%C3%A8re/S23-B%20-%20Pr%C3%A9paration%20aux%20entretiens%20techniques/Machine%20Learning%20Flashcards/Support_Vectors_web.png>Support_Vectors_web.png</a>
            </li>
          </ul>
        
    
    
        
          
          <ul class="p-2">
            <li class="m-2 list-unstyled"><span class="far fa-file mr-1"></span>
                <a class="course-file" href=/courses/jedha-full-stack-24-program/S2.3%20--%20Coaching%20carri%C3%A8re/S23-B%20-%20Pr%C3%A9paration%20aux%20entretiens%20techniques/Machine%20Learning%20Flashcards/T-Statistic_web.png>T-Statistic_web.png</a>
            </li>
          </ul>
        
    
    
        
          
          <ul class="p-2">
            <li class="m-2 list-unstyled"><span class="far fa-file mr-1"></span>
                <a class="course-file" href=/courses/jedha-full-stack-24-program/S2.3%20--%20Coaching%20carri%C3%A8re/S23-B%20-%20Pr%C3%A9paration%20aux%20entretiens%20techniques/Machine%20Learning%20Flashcards/TF-IDF_web.png>TF-IDF_web.png</a>
            </li>
          </ul>
        
    
    
        
          
          <ul class="p-2">
            <li class="m-2 list-unstyled"><span class="far fa-file mr-1"></span>
                <a class="course-file" href=/courses/jedha-full-stack-24-program/S2.3%20--%20Coaching%20carri%C3%A8re/S23-B%20-%20Pr%C3%A9paration%20aux%20entretiens%20techniques/Machine%20Learning%20Flashcards/TanH_Activation_Function_web.png>TanH_Activation_Function_web.png</a>
            </li>
          </ul>
        
    
    
        
          
          <ul class="p-2">
            <li class="m-2 list-unstyled"><span class="far fa-file mr-1"></span>
                <a class="course-file" href=/courses/jedha-full-stack-24-program/S2.3%20--%20Coaching%20carri%C3%A8re/S23-B%20-%20Pr%C3%A9paration%20aux%20entretiens%20techniques/Machine%20Learning%20Flashcards/Tensors_web.png>Tensors_web.png</a>
            </li>
          </ul>
        
    
    
        
          
          <ul class="p-2">
            <li class="m-2 list-unstyled"><span class="far fa-file mr-1"></span>
                <a class="course-file" href=/courses/jedha-full-stack-24-program/S2.3%20--%20Coaching%20carri%C3%A8re/S23-B%20-%20Pr%C3%A9paration%20aux%20entretiens%20techniques/Machine%20Learning%20Flashcards/Test_Training_And_Validation_Sets_web.png>Test_Training_And_Validation_Sets_web.png</a>
            </li>
          </ul>
        
    
    
        
          
          <ul class="p-2">
            <li class="m-2 list-unstyled"><span class="far fa-file mr-1"></span>
                <a class="course-file" href=/courses/jedha-full-stack-24-program/S2.3%20--%20Coaching%20carri%C3%A8re/S23-B%20-%20Pr%C3%A9paration%20aux%20entretiens%20techniques/Machine%20Learning%20Flashcards/The_Effect_Of_Dropout_On_Hidden_Units_web.png>The_Effect_Of_Dropout_On_Hidden_Units_web.png</a>
            </li>
          </ul>
        
    
    
        
          
          <ul class="p-2">
            <li class="m-2 list-unstyled"><span class="far fa-file mr-1"></span>
                <a class="course-file" href=/courses/jedha-full-stack-24-program/S2.3%20--%20Coaching%20carri%C3%A8re/S23-B%20-%20Pr%C3%A9paration%20aux%20entretiens%20techniques/Machine%20Learning%20Flashcards/The_Effect_Of_Feature_Scaling_On_Gradient_Descent_web.png>The_Effect_Of_Feature_Scaling_On_Gradient_Descent_web.png</a>
            </li>
          </ul>
        
    
    
        
          
          <ul class="p-2">
            <li class="m-2 list-unstyled"><span class="far fa-file mr-1"></span>
                <a class="course-file" href=/courses/jedha-full-stack-24-program/S2.3%20--%20Coaching%20carri%C3%A8re/S23-B%20-%20Pr%C3%A9paration%20aux%20entretiens%20techniques/Machine%20Learning%20Flashcards/The_Effect_Of_Model_Complexity_On_Training_And_Test_Error_web.png>The_Effect_Of_Model_Complexity_On_Training_And_Test_Error_web.png</a>
            </li>
          </ul>
        
    
    
        
          
          <ul class="p-2">
            <li class="m-2 list-unstyled"><span class="far fa-file mr-1"></span>
                <a class="course-file" href=/courses/jedha-full-stack-24-program/S2.3%20--%20Coaching%20carri%C3%A8re/S23-B%20-%20Pr%C3%A9paration%20aux%20entretiens%20techniques/Machine%20Learning%20Flashcards/The_Random_In_Random_Forest_web.png>The_Random_In_Random_Forest_web.png</a>
            </li>
          </ul>
        
    
    
        
          
          <ul class="p-2">
            <li class="m-2 list-unstyled"><span class="far fa-file mr-1"></span>
                <a class="course-file" href=/courses/jedha-full-stack-24-program/S2.3%20--%20Coaching%20carri%C3%A8re/S23-B%20-%20Pr%C3%A9paration%20aux%20entretiens%20techniques/Machine%20Learning%20Flashcards/Therefore_And_Because_Notation_web.png>Therefore_And_Because_Notation_web.png</a>
            </li>
          </ul>
        
    
    
        
          
          <ul class="p-2">
            <li class="m-2 list-unstyled"><span class="far fa-file mr-1"></span>
                <a class="course-file" href=/courses/jedha-full-stack-24-program/S2.3%20--%20Coaching%20carri%C3%A8re/S23-B%20-%20Pr%C3%A9paration%20aux%20entretiens%20techniques/Machine%20Learning%20Flashcards/Threshold_Activation_web.png>Threshold_Activation_web.png</a>
            </li>
          </ul>
        
    
    
        
          
          <ul class="p-2">
            <li class="m-2 list-unstyled"><span class="far fa-file mr-1"></span>
                <a class="course-file" href=/courses/jedha-full-stack-24-program/S2.3%20--%20Coaching%20carri%C3%A8re/S23-B%20-%20Pr%C3%A9paration%20aux%20entretiens%20techniques/Machine%20Learning%20Flashcards/Thresholding_Categorical_Feature_Variance_web.png>Thresholding_Categorical_Feature_Variance_web.png</a>
            </li>
          </ul>
        
    
    
        
          
          <ul class="p-2">
            <li class="m-2 list-unstyled"><span class="far fa-file mr-1"></span>
                <a class="course-file" href=/courses/jedha-full-stack-24-program/S2.3%20--%20Coaching%20carri%C3%A8re/S23-B%20-%20Pr%C3%A9paration%20aux%20entretiens%20techniques/Machine%20Learning%20Flashcards/Tokenizing_Text_web.png>Tokenizing_Text_web.png</a>
            </li>
          </ul>
        
    
    
        
          
          <ul class="p-2">
            <li class="m-2 list-unstyled"><span class="far fa-file mr-1"></span>
                <a class="course-file" href=/courses/jedha-full-stack-24-program/S2.3%20--%20Coaching%20carri%C3%A8re/S23-B%20-%20Pr%C3%A9paration%20aux%20entretiens%20techniques/Machine%20Learning%20Flashcards/Tomek_Link_web.png>Tomek_Link_web.png</a>
            </li>
          </ul>
        
    
    
        
          
          <ul class="p-2">
            <li class="m-2 list-unstyled"><span class="far fa-file mr-1"></span>
                <a class="course-file" href=/courses/jedha-full-stack-24-program/S2.3%20--%20Coaching%20carri%C3%A8re/S23-B%20-%20Pr%C3%A9paration%20aux%20entretiens%20techniques/Machine%20Learning%20Flashcards/Total_Sum-Of-Squares_web.png>Total_Sum-Of-Squares_web.png</a>
            </li>
          </ul>
        
    
    
        
          
          <ul class="p-2">
            <li class="m-2 list-unstyled"><span class="far fa-file mr-1"></span>
                <a class="course-file" href=/courses/jedha-full-stack-24-program/S2.3%20--%20Coaching%20carri%C3%A8re/S23-B%20-%20Pr%C3%A9paration%20aux%20entretiens%20techniques/Machine%20Learning%20Flashcards/Training_And_Test_Error_web.png>Training_And_Test_Error_web.png</a>
            </li>
          </ul>
        
    
    
        
          
          <ul class="p-2">
            <li class="m-2 list-unstyled"><span class="far fa-file mr-1"></span>
                <a class="course-file" href=/courses/jedha-full-stack-24-program/S2.3%20--%20Coaching%20carri%C3%A8re/S23-B%20-%20Pr%C3%A9paration%20aux%20entretiens%20techniques/Machine%20Learning%20Flashcards/Training_Error_Rate_web.png>Training_Error_Rate_web.png</a>
            </li>
          </ul>
        
    
    
        
          
          <ul class="p-2">
            <li class="m-2 list-unstyled"><span class="far fa-file mr-1"></span>
                <a class="course-file" href=/courses/jedha-full-stack-24-program/S2.3%20--%20Coaching%20carri%C3%A8re/S23-B%20-%20Pr%C3%A9paration%20aux%20entretiens%20techniques/Machine%20Learning%20Flashcards/True_Positive_Rate_web.png>True_Positive_Rate_web.png</a>
            </li>
          </ul>
        
    
    
        
          
          <ul class="p-2">
            <li class="m-2 list-unstyled"><span class="far fa-file mr-1"></span>
                <a class="course-file" href=/courses/jedha-full-stack-24-program/S2.3%20--%20Coaching%20carri%C3%A8re/S23-B%20-%20Pr%C3%A9paration%20aux%20entretiens%20techniques/Machine%20Learning%20Flashcards/Typical_Dropout_Probabilities_web.png>Typical_Dropout_Probabilities_web.png</a>
            </li>
          </ul>
        
    
    
        
          
          <ul class="p-2">
            <li class="m-2 list-unstyled"><span class="far fa-file mr-1"></span>
                <a class="course-file" href=/courses/jedha-full-stack-24-program/S2.3%20--%20Coaching%20carri%C3%A8re/S23-B%20-%20Pr%C3%A9paration%20aux%20entretiens%20techniques/Machine%20Learning%20Flashcards/Underfitting_web.png>Underfitting_web.png</a>
            </li>
          </ul>
        
    
    
        
          
          <ul class="p-2">
            <li class="m-2 list-unstyled"><span class="far fa-file mr-1"></span>
                <a class="course-file" href=/courses/jedha-full-stack-24-program/S2.3%20--%20Coaching%20carri%C3%A8re/S23-B%20-%20Pr%C3%A9paration%20aux%20entretiens%20techniques/Machine%20Learning%20Flashcards/Underflow_web.png>Underflow_web.png</a>
            </li>
          </ul>
        
    
    
        
          
          <ul class="p-2">
            <li class="m-2 list-unstyled"><span class="far fa-file mr-1"></span>
                <a class="course-file" href=/courses/jedha-full-stack-24-program/S2.3%20--%20Coaching%20carri%C3%A8re/S23-B%20-%20Pr%C3%A9paration%20aux%20entretiens%20techniques/Machine%20Learning%20Flashcards/Uniform_Distribution_web.png>Uniform_Distribution_web.png</a>
            </li>
          </ul>
        
    
    
        
          
          <ul class="p-2">
            <li class="m-2 list-unstyled"><span class="far fa-file mr-1"></span>
                <a class="course-file" href=/courses/jedha-full-stack-24-program/S2.3%20--%20Coaching%20carri%C3%A8re/S23-B%20-%20Pr%C3%A9paration%20aux%20entretiens%20techniques/Machine%20Learning%20Flashcards/Unit-Step_Activation_Function_web.png>Unit-Step_Activation_Function_web.png</a>
            </li>
          </ul>
        
    
    
        
          
          <ul class="p-2">
            <li class="m-2 list-unstyled"><span class="far fa-file mr-1"></span>
                <a class="course-file" href=/courses/jedha-full-stack-24-program/S2.3%20--%20Coaching%20carri%C3%A8re/S23-B%20-%20Pr%C3%A9paration%20aux%20entretiens%20techniques/Machine%20Learning%20Flashcards/Upsampling_web.png>Upsampling_web.png</a>
            </li>
          </ul>
        
    
    
        
          
          <ul class="p-2">
            <li class="m-2 list-unstyled"><span class="far fa-file mr-1"></span>
                <a class="course-file" href=/courses/jedha-full-stack-24-program/S2.3%20--%20Coaching%20carri%C3%A8re/S23-B%20-%20Pr%C3%A9paration%20aux%20entretiens%20techniques/Machine%20Learning%20Flashcards/Validation_Curve_web.png>Validation_Curve_web.png</a>
            </li>
          </ul>
        
    
    
        
          
          <ul class="p-2">
            <li class="m-2 list-unstyled"><span class="far fa-file mr-1"></span>
                <a class="course-file" href=/courses/jedha-full-stack-24-program/S2.3%20--%20Coaching%20carri%C3%A8re/S23-B%20-%20Pr%C3%A9paration%20aux%20entretiens%20techniques/Machine%20Learning%20Flashcards/Vanishing_Gradient_Problem_web.png>Vanishing_Gradient_Problem_web.png</a>
            </li>
          </ul>
        
    
    
        
          
          <ul class="p-2">
            <li class="m-2 list-unstyled"><span class="far fa-file mr-1"></span>
                <a class="course-file" href=/courses/jedha-full-stack-24-program/S2.3%20--%20Coaching%20carri%C3%A8re/S23-B%20-%20Pr%C3%A9paration%20aux%20entretiens%20techniques/Machine%20Learning%20Flashcards/Variance_Inflation_Factor_web.png>Variance_Inflation_Factor_web.png</a>
            </li>
          </ul>
        
    
    
        
          
          <ul class="p-2">
            <li class="m-2 list-unstyled"><span class="far fa-file mr-1"></span>
                <a class="course-file" href=/courses/jedha-full-stack-24-program/S2.3%20--%20Coaching%20carri%C3%A8re/S23-B%20-%20Pr%C3%A9paration%20aux%20entretiens%20techniques/Machine%20Learning%20Flashcards/Variance_Thresholding_For_Feature_Selection_web.png>Variance_Thresholding_For_Feature_Selection_web.png</a>
            </li>
          </ul>
        
    
    
        
          
          <ul class="p-2">
            <li class="m-2 list-unstyled"><span class="far fa-file mr-1"></span>
                <a class="course-file" href=/courses/jedha-full-stack-24-program/S2.3%20--%20Coaching%20carri%C3%A8re/S23-B%20-%20Pr%C3%A9paration%20aux%20entretiens%20techniques/Machine%20Learning%20Flashcards/Variance_web.png>Variance_web.png</a>
            </li>
          </ul>
        
    
    
        
          
          <ul class="p-2">
            <li class="m-2 list-unstyled"><span class="far fa-file mr-1"></span>
                <a class="course-file" href=/courses/jedha-full-stack-24-program/S2.3%20--%20Coaching%20carri%C3%A8re/S23-B%20-%20Pr%C3%A9paration%20aux%20entretiens%20techniques/Machine%20Learning%20Flashcards/Vectors_web.png>Vectors_web.png</a>
            </li>
          </ul>
        
    
    
        
          
          <ul class="p-2">
            <li class="m-2 list-unstyled"><span class="far fa-file mr-1"></span>
                <a class="course-file" href=/courses/jedha-full-stack-24-program/S2.3%20--%20Coaching%20carri%C3%A8re/S23-B%20-%20Pr%C3%A9paration%20aux%20entretiens%20techniques/Machine%20Learning%20Flashcards/Visualizing_RSS_web.png>Visualizing_RSS_web.png</a>
            </li>
          </ul>
        
    
    
        
          
          <ul class="p-2">
            <li class="m-2 list-unstyled"><span class="far fa-file mr-1"></span>
                <a class="course-file" href=/courses/jedha-full-stack-24-program/S2.3%20--%20Coaching%20carri%C3%A8re/S23-B%20-%20Pr%C3%A9paration%20aux%20entretiens%20techniques/Machine%20Learning%20Flashcards/Weak_Learners_web.png>Weak_Learners_web.png</a>
            </li>
          </ul>
        
    
    
        
          
          <ul class="p-2">
            <li class="m-2 list-unstyled"><span class="far fa-file mr-1"></span>
                <a class="course-file" href=/courses/jedha-full-stack-24-program/S2.3%20--%20Coaching%20carri%C3%A8re/S23-B%20-%20Pr%C3%A9paration%20aux%20entretiens%20techniques/Machine%20Learning%20Flashcards/Weight_Decay_web.png>Weight_Decay_web.png</a>
            </li>
          </ul>
        
    
    
        
          
          <ul class="p-2">
            <li class="m-2 list-unstyled"><span class="far fa-file mr-1"></span>
                <a class="course-file" href=/courses/jedha-full-stack-24-program/S2.3%20--%20Coaching%20carri%C3%A8re/S23-B%20-%20Pr%C3%A9paration%20aux%20entretiens%20techniques/Machine%20Learning%20Flashcards/When_Can_We_Delete_Observations_With_Missing_Values_web.png>When_Can_We_Delete_Observations_With_Missing_Values_web.png</a>
            </li>
          </ul>
        
    
    
        
          
          <ul class="p-2">
            <li class="m-2 list-unstyled"><span class="far fa-file mr-1"></span>
                <a class="course-file" href=/courses/jedha-full-stack-24-program/S2.3%20--%20Coaching%20carri%C3%A8re/S23-B%20-%20Pr%C3%A9paration%20aux%20entretiens%20techniques/Machine%20Learning%20Flashcards/When_N_Equals_Population_web.png>When_N_Equals_Population_web.png</a>
            </li>
          </ul>
        
    
    
        
          
          <ul class="p-2">
            <li class="m-2 list-unstyled"><span class="far fa-file mr-1"></span>
                <a class="course-file" href=/courses/jedha-full-stack-24-program/S2.3%20--%20Coaching%20carri%C3%A8re/S23-B%20-%20Pr%C3%A9paration%20aux%20entretiens%20techniques/Machine%20Learning%20Flashcards/Why_Is_It_Called_A_Cost_Function_web.png>Why_Is_It_Called_A_Cost_Function_web.png</a>
            </li>
          </ul>
        
    
    
        
          
          <ul class="p-2">
            <li class="m-2 list-unstyled"><span class="far fa-file mr-1"></span>
                <a class="course-file" href=/courses/jedha-full-stack-24-program/S2.3%20--%20Coaching%20carri%C3%A8re/S23-B%20-%20Pr%C3%A9paration%20aux%20entretiens%20techniques/Machine%20Learning%20Flashcards/Word2Vec_web.png>Word2Vec_web.png</a>
            </li>
          </ul>
        
    
    
        
          
          <ul class="p-2">
            <li class="m-2 list-unstyled"><span class="far fa-file mr-1"></span>
                <a class="course-file" href=/courses/jedha-full-stack-24-program/S2.3%20--%20Coaching%20carri%C3%A8re/S23-B%20-%20Pr%C3%A9paration%20aux%20entretiens%20techniques/Machine%20Learning%20Flashcards/XOR_Function_web.png>XOR_Function_web.png</a>
            </li>
          </ul>
        
    
    
        
          
          <ul class="p-2">
            <li class="m-2 list-unstyled"><span class="far fa-file mr-1"></span>
                <a class="course-file" href=/courses/jedha-full-stack-24-program/S2.3%20--%20Coaching%20carri%C3%A8re/S23-B%20-%20Pr%C3%A9paration%20aux%20entretiens%20techniques/Machine%20Learning%20Flashcards/Youdens_J_Statistic_web.png>Youdens_J_Statistic_web.png</a>
            </li>
          </ul>
        
    
    
        
          
          <ul class="p-2">
            <li class="m-2 list-unstyled"><span class="far fa-file mr-1"></span>
                <a class="course-file" href=/courses/jedha-full-stack-24-program/S2.3%20--%20Coaching%20carri%C3%A8re/S23-B%20-%20Pr%C3%A9paration%20aux%20entretiens%20techniques/Machine%20Learning%20Flashcards/Zero-One_Loss_web.png>Zero-One_Loss_web.png</a>
            </li>
          </ul>
        
    
    
        
          
          <ul class="p-2">
            <li class="m-2 list-unstyled"><span class="far fa-file mr-1"></span>
                <a class="course-file" href=/courses/jedha-full-stack-24-program/S2.3%20--%20Coaching%20carri%C3%A8re/S23-B%20-%20Pr%C3%A9paration%20aux%20entretiens%20techniques/Machine%20Learning%20Flashcards/k-Nearest_Neighbors_web.png>k-Nearest_Neighbors_web.png</a>
            </li>
          </ul>
        
    </ul>
        
    </ul>
        
    </ul>
        
    
    
        
          <ul class="p-0 mt-4">
            <button class="btn m-0 p-0 col-12" data-toggle="collapse" data-target="#course_s24--projetsfinaux" role="button" aria-expanded="false" aria-controls="course_s24--projetsfinaux">
              
                <span class="pl-5 pr-5 pt-3 pb-3 d-flex flex-row justify-content-between child-folders">
              
                <span>S2.4 -- Projets finaux</span>
                <i class="fas fa-sort-down"></i>
              </span>
            </button>
          </ul>
          <ul class ="collapse" id="course_s24--projetsfinaux"> 
    
        
          <ul class="p-0 mt-4">
            <button class="btn m-0 p-0 col-12" data-toggle="collapse" data-target="#course_listedesourcesdedonnées" role="button" aria-expanded="false" aria-controls="course_listedesourcesdedonnées">
              
                <span class="pl-5 pr-5 pt-3 pb-3 d-flex flex-row justify-content-between parent-folder">
              
                <span>Liste de sources de données</span>
                <i class="fas fa-sort-down"></i>
              </span>
            </button>
          </ul>
          <ul class ="collapse" id="course_listedesourcesdedonnées"> 
    
        
          
          <ul class="p-2">
            <li class="m-2 list-unstyled"><span class="far fa-file mr-1"></span>
                <a class="course-file" href=/courses/jedha-full-stack-24-program/S2.4%20--%20Projets%20finaux/Liste%20de%20sources%20de%20donn%C3%A9es/README.md>README.md</a>
            </li>
          </ul>
        
    </ul>
        
    
    
        
          
          <ul class="p-2">
            <li class="m-2 list-unstyled"><span class="far fa-file mr-1"></span>
                <a class="course-file" href=/courses/jedha-full-stack-24-program/S2.4%20--%20Projets%20finaux/README.md>README.md</a>
            </li>
          </ul>
        
    </ul>
        
    
  </ul>
</div>

<div class="course-content p-5 mt-4">
  <div class="cell border-box-sizing text_cell rendered"><div class="prompt input_prompt">
</div><div class="inner_cell">
<div class="text_cell_render border-box-sizing rendered_html">
<h1 id="Adaboost-ou-XGBoost-?">Adaboost ou XGBoost ?<a class="anchor-link" href="#Adaboost-ou-XGBoost-?">&#182;</a></h1><p>Deux algorithmes de boosting connus sont Adaboost &amp; XGBoost, voyons voir la performance de chacun de ces algorithmes sur le dataset d'AIRBNB Seattle. Notre but va être de prédire le prix d'un appartement en fonction des caractéristiques qu'on nous a donné.</p>

</div>
</div>
</div>
<div class="cell border-box-sizing text_cell rendered"><div class="prompt input_prompt">
</div><div class="inner_cell">
<div class="text_cell_render border-box-sizing rendered_html">
<ol>
<li>Importez les librairies usuelles </li>
</ol>

</div>
</div>
</div>
<div class="cell border-box-sizing code_cell rendered">
<div class="input">
<div class="prompt input_prompt">In&nbsp;[0]:</div>
<div class="inner_cell">
    <div class="input_area">
<div class=" highlight hl-ipython3"><pre><span></span><span class="kn">import</span> <span class="nn">numpy</span> <span class="k">as</span> <span class="nn">np</span> 
<span class="kn">import</span> <span class="nn">pandas</span> <span class="k">as</span> <span class="nn">pd</span> 
<span class="kn">import</span> <span class="nn">matplotlib.pyplot</span> <span class="k">as</span> <span class="nn">plt</span> 
<span class="kn">import</span> <span class="nn">seaborn</span> <span class="k">as</span> <span class="nn">sns</span>
</pre></div>

    </div>
</div>
</div>

</div>
<div class="cell border-box-sizing text_cell rendered"><div class="prompt input_prompt">
</div><div class="inner_cell">
<div class="text_cell_render border-box-sizing rendered_html">
<ol>
<li>Importez le dataset <code>listings.csv</code></li>
</ol>

</div>
</div>
</div>
<div class="cell border-box-sizing code_cell rendered">
<div class="input">
<div class="prompt input_prompt">In&nbsp;[4]:</div>
<div class="inner_cell">
    <div class="input_area">
<div class=" highlight hl-ipython3"><pre><span></span><span class="kn">from</span> <span class="nn">google.colab</span> <span class="k">import</span> <span class="n">files</span> 
<span class="n">uploaded</span> <span class="o">=</span> <span class="n">files</span><span class="o">.</span><span class="n">upload</span><span class="p">()</span>

<span class="n">files</span> <span class="o">=</span> <span class="p">[]</span>
<span class="k">for</span> <span class="n">fn</span> <span class="ow">in</span> <span class="n">uploaded</span><span class="o">.</span><span class="n">keys</span><span class="p">():</span>
   <span class="n">files</span> <span class="o">+=</span> <span class="p">[</span><span class="n">fn</span><span class="p">]</span>
    
<span class="nb">print</span><span class="p">(</span><span class="n">files</span><span class="p">)</span>
</pre></div>

    </div>
</div>
</div>

<div class="output_wrapper">
<div class="output">


<div class="output_area">

    <div class="prompt"></div>



<div class="output_html rendered_html output_subarea ">

     <input type="file" id="files-f6e79ca9-9b72-40c5-ac82-cff5f6a7bab5" name="files[]" multiple disabled />
     <output id="result-f6e79ca9-9b72-40c5-ac82-cff5f6a7bab5">
      Upload widget is only available when the cell has been executed in the
      current browser session. Please rerun this cell to enable.
      </output>
      <script src="/nbextensions/google.colab/files.js"></script> 
</div>

</div>

<div class="output_area">

    <div class="prompt"></div>


<div class="output_subarea output_stream output_stdout output_text">
<pre>Saving reviews.csv to reviews.csv
Saving listings.csv to listings.csv
[&#39;reviews.csv&#39;, &#39;listings.csv&#39;]
</pre>
</div>
</div>

</div>
</div>

</div>
<div class="cell border-box-sizing code_cell rendered">
<div class="input">
<div class="prompt input_prompt">In&nbsp;[5]:</div>
<div class="inner_cell">
    <div class="input_area">
<div class=" highlight hl-ipython3"><pre><span></span><span class="n">listings</span> <span class="o">=</span> <span class="n">pd</span><span class="o">.</span><span class="n">read_csv</span><span class="p">(</span><span class="s2">&quot;listings.csv&quot;</span><span class="p">)</span>
<span class="n">listings</span><span class="o">.</span><span class="n">head</span><span class="p">()</span>
</pre></div>

    </div>
</div>
</div>

<div class="output_wrapper">
<div class="output">


<div class="output_area">

    <div class="prompt output_prompt">Out[5]:</div>



<div class="output_html rendered_html output_subarea output_execute_result">
<div>
<style scoped>
    .dataframe tbody tr th:only-of-type {
        vertical-align: middle;
    }

    .dataframe tbody tr th {
        vertical-align: top;
    }

    .dataframe thead th {
        text-align: right;
    }
</style>
<table border="1" class="dataframe">
  <thead>
    <tr style="text-align: right;">
      <th></th>
      <th>id</th>
      <th>listing_url</th>
      <th>scrape_id</th>
      <th>last_scraped</th>
      <th>name</th>
      <th>summary</th>
      <th>space</th>
      <th>description</th>
      <th>experiences_offered</th>
      <th>neighborhood_overview</th>
      <th>...</th>
      <th>review_scores_value</th>
      <th>requires_license</th>
      <th>license</th>
      <th>jurisdiction_names</th>
      <th>instant_bookable</th>
      <th>cancellation_policy</th>
      <th>require_guest_profile_picture</th>
      <th>require_guest_phone_verification</th>
      <th>calculated_host_listings_count</th>
      <th>reviews_per_month</th>
    </tr>
  </thead>
  <tbody>
    <tr>
      <th>0</th>
      <td>241032</td>
      <td>https://www.airbnb.com/rooms/241032</td>
      <td>20160104002432</td>
      <td>2016-01-04</td>
      <td>Stylish Queen Anne Apartment</td>
      <td>NaN</td>
      <td>Make your self at home in this charming one-be...</td>
      <td>Make your self at home in this charming one-be...</td>
      <td>none</td>
      <td>NaN</td>
      <td>...</td>
      <td>10.0</td>
      <td>f</td>
      <td>NaN</td>
      <td>WASHINGTON</td>
      <td>f</td>
      <td>moderate</td>
      <td>f</td>
      <td>f</td>
      <td>2</td>
      <td>4.07</td>
    </tr>
    <tr>
      <th>1</th>
      <td>953595</td>
      <td>https://www.airbnb.com/rooms/953595</td>
      <td>20160104002432</td>
      <td>2016-01-04</td>
      <td>Bright &amp; Airy Queen Anne Apartment</td>
      <td>Chemically sensitive? We've removed the irrita...</td>
      <td>Beautiful, hypoallergenic apartment in an extr...</td>
      <td>Chemically sensitive? We've removed the irrita...</td>
      <td>none</td>
      <td>Queen Anne is a wonderful, truly functional vi...</td>
      <td>...</td>
      <td>10.0</td>
      <td>f</td>
      <td>NaN</td>
      <td>WASHINGTON</td>
      <td>f</td>
      <td>strict</td>
      <td>t</td>
      <td>t</td>
      <td>6</td>
      <td>1.48</td>
    </tr>
    <tr>
      <th>2</th>
      <td>3308979</td>
      <td>https://www.airbnb.com/rooms/3308979</td>
      <td>20160104002432</td>
      <td>2016-01-04</td>
      <td>New Modern House-Amazing water view</td>
      <td>New modern house built in 2013.  Spectacular s...</td>
      <td>Our house is modern, light and fresh with a wa...</td>
      <td>New modern house built in 2013.  Spectacular s...</td>
      <td>none</td>
      <td>Upper Queen Anne is a charming neighborhood fu...</td>
      <td>...</td>
      <td>10.0</td>
      <td>f</td>
      <td>NaN</td>
      <td>WASHINGTON</td>
      <td>f</td>
      <td>strict</td>
      <td>f</td>
      <td>f</td>
      <td>2</td>
      <td>1.15</td>
    </tr>
    <tr>
      <th>3</th>
      <td>7421966</td>
      <td>https://www.airbnb.com/rooms/7421966</td>
      <td>20160104002432</td>
      <td>2016-01-04</td>
      <td>Queen Anne Chateau</td>
      <td>A charming apartment that sits atop Queen Anne...</td>
      <td>NaN</td>
      <td>A charming apartment that sits atop Queen Anne...</td>
      <td>none</td>
      <td>NaN</td>
      <td>...</td>
      <td>NaN</td>
      <td>f</td>
      <td>NaN</td>
      <td>WASHINGTON</td>
      <td>f</td>
      <td>flexible</td>
      <td>f</td>
      <td>f</td>
      <td>1</td>
      <td>NaN</td>
    </tr>
    <tr>
      <th>4</th>
      <td>278830</td>
      <td>https://www.airbnb.com/rooms/278830</td>
      <td>20160104002432</td>
      <td>2016-01-04</td>
      <td>Charming craftsman 3 bdm house</td>
      <td>Cozy family craftman house in beautiful neighb...</td>
      <td>Cozy family craftman house in beautiful neighb...</td>
      <td>Cozy family craftman house in beautiful neighb...</td>
      <td>none</td>
      <td>We are in the beautiful neighborhood of Queen ...</td>
      <td>...</td>
      <td>9.0</td>
      <td>f</td>
      <td>NaN</td>
      <td>WASHINGTON</td>
      <td>f</td>
      <td>strict</td>
      <td>f</td>
      <td>f</td>
      <td>1</td>
      <td>0.89</td>
    </tr>
  </tbody>
</table>
<p>5 rows × 92 columns</p>
</div>
</div>

</div>

</div>
</div>

</div>
<div class="cell border-box-sizing text_cell rendered"><div class="prompt input_prompt">
</div><div class="inner_cell">
<div class="text_cell_render border-box-sizing rendered_html">
<ol>
<li>On a beaucoup de données dans ce dataset. Affichez toutes les colonnes du dataset</li>
</ol>

</div>
</div>
</div>
<div class="cell border-box-sizing code_cell rendered">
<div class="input">
<div class="prompt input_prompt">In&nbsp;[6]:</div>
<div class="inner_cell">
    <div class="input_area">
<div class=" highlight hl-ipython3"><pre><span></span><span class="n">listings</span><span class="o">.</span><span class="n">info</span><span class="p">()</span>
</pre></div>

    </div>
</div>
</div>

<div class="output_wrapper">
<div class="output">


<div class="output_area">

    <div class="prompt"></div>


<div class="output_subarea output_stream output_stdout output_text">
<pre>&lt;class &#39;pandas.core.frame.DataFrame&#39;&gt;
RangeIndex: 3818 entries, 0 to 3817
Data columns (total 92 columns):
id                                  3818 non-null int64
listing_url                         3818 non-null object
scrape_id                           3818 non-null int64
last_scraped                        3818 non-null object
name                                3818 non-null object
summary                             3641 non-null object
space                               3249 non-null object
description                         3818 non-null object
experiences_offered                 3818 non-null object
neighborhood_overview               2786 non-null object
notes                               2212 non-null object
transit                             2884 non-null object
thumbnail_url                       3498 non-null object
medium_url                          3498 non-null object
picture_url                         3818 non-null object
xl_picture_url                      3498 non-null object
host_id                             3818 non-null int64
host_url                            3818 non-null object
host_name                           3816 non-null object
host_since                          3816 non-null object
host_location                       3810 non-null object
host_about                          2959 non-null object
host_response_time                  3295 non-null object
host_response_rate                  3295 non-null object
host_acceptance_rate                3045 non-null object
host_is_superhost                   3816 non-null object
host_thumbnail_url                  3816 non-null object
host_picture_url                    3816 non-null object
host_neighbourhood                  3518 non-null object
host_listings_count                 3816 non-null float64
host_total_listings_count           3816 non-null float64
host_verifications                  3818 non-null object
host_has_profile_pic                3816 non-null object
host_identity_verified              3816 non-null object
street                              3818 non-null object
neighbourhood                       3402 non-null object
neighbourhood_cleansed              3818 non-null object
neighbourhood_group_cleansed        3818 non-null object
city                                3818 non-null object
state                               3818 non-null object
zipcode                             3811 non-null object
market                              3818 non-null object
smart_location                      3818 non-null object
country_code                        3818 non-null object
country                             3818 non-null object
latitude                            3818 non-null float64
longitude                           3818 non-null float64
is_location_exact                   3818 non-null object
property_type                       3817 non-null object
room_type                           3818 non-null object
accommodates                        3818 non-null int64
bathrooms                           3802 non-null float64
bedrooms                            3812 non-null float64
beds                                3817 non-null float64
bed_type                            3818 non-null object
amenities                           3818 non-null object
square_feet                         97 non-null float64
price                               3818 non-null object
weekly_price                        2009 non-null object
monthly_price                       1517 non-null object
security_deposit                    1866 non-null object
cleaning_fee                        2788 non-null object
guests_included                     3818 non-null int64
extra_people                        3818 non-null object
minimum_nights                      3818 non-null int64
maximum_nights                      3818 non-null int64
calendar_updated                    3818 non-null object
has_availability                    3818 non-null object
availability_30                     3818 non-null int64
availability_60                     3818 non-null int64
availability_90                     3818 non-null int64
availability_365                    3818 non-null int64
calendar_last_scraped               3818 non-null object
number_of_reviews                   3818 non-null int64
first_review                        3191 non-null object
last_review                         3191 non-null object
review_scores_rating                3171 non-null float64
review_scores_accuracy              3160 non-null float64
review_scores_cleanliness           3165 non-null float64
review_scores_checkin               3160 non-null float64
review_scores_communication         3167 non-null float64
review_scores_location              3163 non-null float64
review_scores_value                 3162 non-null float64
requires_license                    3818 non-null object
license                             0 non-null float64
jurisdiction_names                  3818 non-null object
instant_bookable                    3818 non-null object
cancellation_policy                 3818 non-null object
require_guest_profile_picture       3818 non-null object
require_guest_phone_verification    3818 non-null object
calculated_host_listings_count      3818 non-null int64
reviews_per_month                   3191 non-null float64
dtypes: float64(17), int64(13), object(62)
memory usage: 2.7+ MB
</pre>
</div>
</div>

</div>
</div>

</div>
<div class="cell border-box-sizing text_cell rendered"><div class="prompt input_prompt">
</div><div class="inner_cell">
<div class="text_cell_render border-box-sizing rendered_html">
<ol>
<li>Révisons un peu Seaborn, affichez la distribution des prix dans le dataset </li>
</ol>

</div>
</div>
</div>
<div class="cell border-box-sizing code_cell rendered">
<div class="input">
<div class="prompt input_prompt">In&nbsp;[8]:</div>
<div class="inner_cell">
    <div class="input_area">
<div class=" highlight hl-ipython3"><pre><span></span><span class="n">listings</span><span class="o">.</span><span class="n">price</span> <span class="o">=</span> <span class="n">listings</span><span class="o">.</span><span class="n">price</span><span class="o">.</span><span class="n">apply</span><span class="p">(</span><span class="k">lambda</span> <span class="n">x</span><span class="p">:</span> <span class="n">x</span><span class="p">[</span><span class="mi">1</span><span class="p">:])</span>
<span class="n">listings</span><span class="o">.</span><span class="n">price</span> <span class="o">=</span> <span class="n">listings</span><span class="o">.</span><span class="n">price</span><span class="o">.</span><span class="n">replace</span><span class="p">(</span><span class="s2">&quot;1,000.00&quot;</span><span class="p">,</span> <span class="s2">&quot;1000&quot;</span><span class="p">)</span><span class="o">.</span><span class="n">astype</span><span class="p">(</span><span class="nb">float</span><span class="p">)</span>
<span class="n">sns</span><span class="o">.</span><span class="n">distplot</span><span class="p">(</span><span class="n">listings</span><span class="o">.</span><span class="n">price</span><span class="p">)</span>
</pre></div>

    </div>
</div>
</div>

<div class="output_wrapper">
<div class="output">


<div class="output_area">

    <div class="prompt output_prompt">Out[8]:</div>




<div class="output_text output_subarea output_execute_result">
<pre>&lt;matplotlib.axes._subplots.AxesSubplot at 0x7fdd3e38a3c8&gt;</pre>
</div>

</div>

<div class="output_area">

    <div class="prompt"></div>




<div class="output_png output_subarea ">
<img src="data:image/png;base64,iVBORw0KGgoAAAANSUhEUgAAAYQAAAEKCAYAAAASByJ7AAAABHNCSVQICAgIfAhkiAAAAAlwSFlz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"
>
</div>

</div>

</div>
</div>

</div>
<div class="cell border-box-sizing text_cell rendered"><div class="prompt input_prompt">
</div><div class="inner_cell">
<div class="text_cell_render border-box-sizing rendered_html">
<ol>
<li>Supprimez les outliers pour ne garder que les appartements qui ont un prix inférieur à 400$/nuit </li>
</ol>

</div>
</div>
</div>
<div class="cell border-box-sizing code_cell rendered">
<div class="input">
<div class="prompt input_prompt">In&nbsp;[9]:</div>
<div class="inner_cell">
    <div class="input_area">
<div class=" highlight hl-ipython3"><pre><span></span><span class="n">avg_priced_dataset</span> <span class="o">=</span> <span class="n">listings</span><span class="p">[</span><span class="n">listings</span><span class="o">.</span><span class="n">price</span> <span class="o">&lt;=</span> <span class="mi">400</span><span class="p">]</span>
<span class="n">avg_priced_dataset</span><span class="o">.</span><span class="n">describe</span><span class="p">()</span>
</pre></div>

    </div>
</div>
</div>

<div class="output_wrapper">
<div class="output">


<div class="output_area">

    <div class="prompt output_prompt">Out[9]:</div>



<div class="output_html rendered_html output_subarea output_execute_result">
<div>
<style scoped>
    .dataframe tbody tr th:only-of-type {
        vertical-align: middle;
    }

    .dataframe tbody tr th {
        vertical-align: top;
    }

    .dataframe thead th {
        text-align: right;
    }
</style>
<table border="1" class="dataframe">
  <thead>
    <tr style="text-align: right;">
      <th></th>
      <th>id</th>
      <th>scrape_id</th>
      <th>host_id</th>
      <th>host_listings_count</th>
      <th>host_total_listings_count</th>
      <th>latitude</th>
      <th>longitude</th>
      <th>accommodates</th>
      <th>bathrooms</th>
      <th>bedrooms</th>
      <th>...</th>
      <th>review_scores_rating</th>
      <th>review_scores_accuracy</th>
      <th>review_scores_cleanliness</th>
      <th>review_scores_checkin</th>
      <th>review_scores_communication</th>
      <th>review_scores_location</th>
      <th>review_scores_value</th>
      <th>license</th>
      <th>calculated_host_listings_count</th>
      <th>reviews_per_month</th>
    </tr>
  </thead>
  <tbody>
    <tr>
      <th>count</th>
      <td>3.755000e+03</td>
      <td>3.755000e+03</td>
      <td>3.755000e+03</td>
      <td>3753.000000</td>
      <td>3753.000000</td>
      <td>3755.000000</td>
      <td>3755.000000</td>
      <td>3755.000000</td>
      <td>3739.000000</td>
      <td>3749.000000</td>
      <td>...</td>
      <td>3119.000000</td>
      <td>3108.000000</td>
      <td>3113.000000</td>
      <td>3108.000000</td>
      <td>3115.000000</td>
      <td>3111.000000</td>
      <td>3110.000000</td>
      <td>0.0</td>
      <td>3755.000000</td>
      <td>3138.000000</td>
    </tr>
    <tr>
      <th>mean</th>
      <td>5.556910e+06</td>
      <td>2.016010e+13</td>
      <td>1.579411e+07</td>
      <td>7.146283</td>
      <td>7.146283</td>
      <td>47.628887</td>
      <td>-122.332935</td>
      <td>3.272703</td>
      <td>1.236026</td>
      <td>1.270739</td>
      <td>...</td>
      <td>94.517153</td>
      <td>9.635135</td>
      <td>9.552843</td>
      <td>9.784106</td>
      <td>9.807705</td>
      <td>9.607522</td>
      <td>9.452412</td>
      <td>NaN</td>
      <td>2.944607</td>
      <td>2.096539</td>
    </tr>
    <tr>
      <th>std</th>
      <td>2.966011e+06</td>
      <td>0.000000e+00</td>
      <td>1.459490e+07</td>
      <td>28.711382</td>
      <td>28.711382</td>
      <td>0.043270</td>
      <td>0.031759</td>
      <td>1.868531</td>
      <td>0.556459</td>
      <td>0.824873</td>
      <td>...</td>
      <td>6.597540</td>
      <td>0.700417</td>
      <td>0.801180</td>
      <td>0.599360</td>
      <td>0.571147</td>
      <td>0.629853</td>
      <td>0.749495</td>
      <td>NaN</td>
      <td>5.882812</td>
      <td>1.827941</td>
    </tr>
    <tr>
      <th>min</th>
      <td>3.335000e+03</td>
      <td>2.016010e+13</td>
      <td>4.193000e+03</td>
      <td>1.000000</td>
      <td>1.000000</td>
      <td>47.505088</td>
      <td>-122.417219</td>
      <td>1.000000</td>
      <td>0.000000</td>
      <td>0.000000</td>
      <td>...</td>
      <td>20.000000</td>
      <td>2.000000</td>
      <td>3.000000</td>
      <td>2.000000</td>
      <td>2.000000</td>
      <td>4.000000</td>
      <td>2.000000</td>
      <td>NaN</td>
      <td>1.000000</td>
      <td>0.020000</td>
    </tr>
    <tr>
      <th>25%</th>
      <td>3.256584e+06</td>
      <td>2.016010e+13</td>
      <td>3.258368e+06</td>
      <td>1.000000</td>
      <td>1.000000</td>
      <td>47.609078</td>
      <td>-122.354154</td>
      <td>2.000000</td>
      <td>1.000000</td>
      <td>1.000000</td>
      <td>...</td>
      <td>93.000000</td>
      <td>9.000000</td>
      <td>9.000000</td>
      <td>10.000000</td>
      <td>10.000000</td>
      <td>9.000000</td>
      <td>9.000000</td>
      <td>NaN</td>
      <td>1.000000</td>
      <td>0.700000</td>
    </tr>
    <tr>
      <th>50%</th>
      <td>6.127974e+06</td>
      <td>2.016010e+13</td>
      <td>1.055814e+07</td>
      <td>1.000000</td>
      <td>1.000000</td>
      <td>47.623451</td>
      <td>-122.328750</td>
      <td>2.000000</td>
      <td>1.000000</td>
      <td>1.000000</td>
      <td>...</td>
      <td>96.000000</td>
      <td>10.000000</td>
      <td>10.000000</td>
      <td>10.000000</td>
      <td>10.000000</td>
      <td>10.000000</td>
      <td>10.000000</td>
      <td>NaN</td>
      <td>1.000000</td>
      <td>1.560000</td>
    </tr>
    <tr>
      <th>75%</th>
      <td>8.047928e+06</td>
      <td>2.016010e+13</td>
      <td>2.592334e+07</td>
      <td>3.000000</td>
      <td>3.000000</td>
      <td>47.662976</td>
      <td>-122.310698</td>
      <td>4.000000</td>
      <td>1.000000</td>
      <td>2.000000</td>
      <td>...</td>
      <td>99.000000</td>
      <td>10.000000</td>
      <td>10.000000</td>
      <td>10.000000</td>
      <td>10.000000</td>
      <td>10.000000</td>
      <td>10.000000</td>
      <td>NaN</td>
      <td>2.000000</td>
      <td>3.020000</td>
    </tr>
    <tr>
      <th>max</th>
      <td>1.034016e+07</td>
      <td>2.016010e+13</td>
      <td>5.320861e+07</td>
      <td>502.000000</td>
      <td>502.000000</td>
      <td>47.733358</td>
      <td>-122.240607</td>
      <td>16.000000</td>
      <td>8.000000</td>
      <td>7.000000</td>
      <td>...</td>
      <td>100.000000</td>
      <td>10.000000</td>
      <td>10.000000</td>
      <td>10.000000</td>
      <td>10.000000</td>
      <td>10.000000</td>
      <td>10.000000</td>
      <td>NaN</td>
      <td>37.000000</td>
      <td>12.150000</td>
    </tr>
  </tbody>
</table>
<p>8 rows × 31 columns</p>
</div>
</div>

</div>

</div>
</div>

</div>
<div class="cell border-box-sizing code_cell rendered">
<div class="input">
<div class="prompt input_prompt">In&nbsp;[10]:</div>
<div class="inner_cell">
    <div class="input_area">
<div class=" highlight hl-ipython3"><pre><span></span><span class="n">sns</span><span class="o">.</span><span class="n">distplot</span><span class="p">(</span><span class="n">avg_priced_dataset</span><span class="o">.</span><span class="n">price</span><span class="p">)</span>
</pre></div>

    </div>
</div>
</div>

<div class="output_wrapper">
<div class="output">


<div class="output_area">

    <div class="prompt output_prompt">Out[10]:</div>




<div class="output_text output_subarea output_execute_result">
<pre>&lt;matplotlib.axes._subplots.AxesSubplot at 0x7fdd340dd860&gt;</pre>
</div>

</div>

<div class="output_area">

    <div class="prompt"></div>




<div class="output_png output_subarea ">
<img src="data:image/png;base64,iVBORw0KGgoAAAANSUhEUgAAAYQAAAEKCAYAAAASByJ7AAAABHNCSVQICAgIfAhkiAAAAAlwSFlz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"
>
</div>

</div>

</div>
</div>

</div>
<div class="cell border-box-sizing text_cell rendered"><div class="prompt input_prompt">
</div><div class="inner_cell">
<div class="text_cell_render border-box-sizing rendered_html">
<ol>
<li>Exprimez le prix en fonction des variables suivantes : </li>
</ol>
<ul>
<li><code>room type</code></li>
<li><code>beds</code></li>
<li><code>property type</code></li>
</ul>

</div>
</div>
</div>
<div class="cell border-box-sizing code_cell rendered">
<div class="input">
<div class="prompt input_prompt">In&nbsp;[12]:</div>
<div class="inner_cell">
    <div class="input_area">
<div class=" highlight hl-ipython3"><pre><span></span><span class="n">sns</span><span class="o">.</span><span class="n">catplot</span><span class="p">(</span><span class="n">x</span><span class="o">=</span><span class="s2">&quot;room_type&quot;</span><span class="p">,</span> <span class="n">y</span><span class="o">=</span><span class="s2">&quot;price&quot;</span><span class="p">,</span> <span class="n">data</span><span class="o">=</span><span class="n">avg_priced_dataset</span><span class="p">,</span> <span class="n">kind</span><span class="o">=</span><span class="s2">&quot;bar&quot;</span><span class="p">)</span>
</pre></div>

    </div>
</div>
</div>

<div class="output_wrapper">
<div class="output">


<div class="output_area">

    <div class="prompt output_prompt">Out[12]:</div>




<div class="output_text output_subarea output_execute_result">
<pre>&lt;seaborn.axisgrid.FacetGrid at 0x7fdd316300f0&gt;</pre>
</div>

</div>

<div class="output_area">

    <div class="prompt"></div>




<div class="output_png output_subarea ">
<img src="data:image/png;base64,iVBORw0KGgoAAAANSUhEUgAAAWAAAAFgCAYAAACFYaNMAAAABHNCSVQICAgIfAhkiAAAAAlwSFlz
AAALEgAACxIB0t1+/AAAADl0RVh0U29mdHdhcmUAbWF0cGxvdGxpYiB2ZXJzaW9uIDMuMC4zLCBo
dHRwOi8vbWF0cGxvdGxpYi5vcmcvnQurowAAGQRJREFUeJzt3XmYZXV95/H3h24REBGRlkaWgNri
oGMUWsTBBcGY1qig44iMo6hMOiohmkQ7aHwiyUwm2s7EbeKCgLQzjGFxAY2iyCK4QGzZF5EeZOtQ
0gyiLJH1O3+cU3rprmqqq/veX3XX+/U8/dQ5v7N97711P/dX557z61QVkqTR26x1AZI0WxnAktSI
ASxJjRjAktSIASxJjRjAktSIASxJjRjAktSIASxJjcxtXcD6WLRoUZ1xxhmty5Ck1WUqK23UPeDb
brutdQmSNG0bdQBL0sbMAJakRgxgSWrEAJakRgxgSWrEAJakRgxgSWrEAJakRgxgSWrEAJakRgxg
SWpkox6MZ2O3ZMkSxsbGmD9/PkuXLm1djqQRM4AbGhsbY+XKla3LkNSIpyAkqREDWJIaMYAlqRED
WJIaMYAlqZFZcRXE3u/9QusSJvTY2+5kDnDjbXfO2Bp//JE3ty5B2mTZA5akRgxgSWrEAJakRgxg
SWrEAJakRmbFVRAz1UObP+ZhPyXNLkPrASc5PsmtSa6YYNmfJ6kk2/fzSfKJJCuSXJZkr2HVNZPc
veBl3PmM13D3gpe1LkVSA8M8BXECsGj1xiS7AC8DbhxofjmwoP+3GPj0EOuSpBlhaAFcVecBt0+w
6KPAEqAG2g4CvlCdC4Btk+w4rNokaSYY6ZdwSQ4CVlbVpast2gm4aWD+5r5NkjZZI/sSLslWwPvp
Tj+sz34W052mYNddd90AlUlSG6PsAT8F2B24NMn1wM7ARUnmAyuBXQbW3blvW0NVHVNVC6tq4bx5
84ZcsiQNz8gCuKour6onVtVuVbUb3WmGvapqDDgdeHN/NcS+wC+r6pZR1SZJLQzzMrQvAj8E9khy
c5LD17L6N4DrgBXA54B3DqsuSZophnYOuKoOfYTluw1MF3DEsGqRpJnIW5ElqREDWJIaMYAlqRED
WJIaMYAlqREDWJIaMYAlqREDWJIaMYAlqREDWJIaMYAlqREDWJIaMYAlqREDWJIaMYAlqREDWJIa
MYAlqREDWJIaMYAlqREDWJIaMYAlqREDWJIaMYAlqREDWJIaMYAlqREDWJIaMYAlqREDWJIaMYAl
qREDWJIaGVoAJzk+ya1Jrhho+0iSnyS5LMlXkmw7sOx9SVYkuSbJ7w+rLkmaKYbZAz4BWLRa25nA
M6vqWcBPgfcBJNkTeAPwjH6bTyWZM8TaJKm5oQVwVZ0H3L5a27er6oF+9gJg5376IOAfq+reqvoZ
sALYZ1i1SdJM0PIc8NuAb/bTOwE3DSy7uW+TpE1WkwBO8pfAA8CJ09h2cZLlSZavWrVqwxcnSSMy
8gBO8hbglcAbq6r65pXALgOr7dy3raGqjqmqhVW1cN68eUOtVZKGaaQBnGQRsAR4dVXdM7DodOAN
SR6dZHdgAfDPo6xNkkZt7rB2nOSLwP7A9kluBj5Id9XDo4EzkwBcUFVvr6ork5wMXEV3auKIqnpw
WLVJ0kwwtACuqkMnaD5uLev/LfC3w6pHkmYa74STpEYMYElqxACWpEYMYElqxACWpEYMYElqxACW
pEYMYElqxACWpEYMYElqxACWpEYMYElqxACWpEYMYElqxACWpEYMYElqxACWpEYMYElqxACWpEYM
YElqxACWpEYMYElqxACWpEYMYElqxACWpEYMYElqxACWpEYMYElqxACWpEYMYElqZGgBnOT4JLcm
uWKgbbskZya5tv/5+L49ST6RZEWSy5LsNay6JGmmGGYP+ARg0WptRwFnVdUC4Kx+HuDlwIL+32Lg
00OsS5JmhKEFcFWdB9y+WvNBwLJ+ehlw8ED7F6pzAbBtkh2HVZskzQSjPge8Q1Xd0k+PATv00zsB
Nw2sd3PfJkmbrGZfwlVVAbWu2yVZnGR5kuWrVq0aQmWSNBqjDuCfj59a6H/e2revBHYZWG/nvm0N
VXVMVS2sqoXz5s0barGSNEyjDuDTgcP66cOA0wba39xfDbEv8MuBUxWStEmaO6wdJ/kisD+wfZKb
gQ8CHwJOTnI4cAPw+n71bwCvAFYA9wBvHVZdkjRTDC2Aq+rQSRYdOMG6BRwxrFokaSbyTjhJasQA
lqRGDGBJasQAlqRGDGBJasQAlqRGDGBJasQAlqRGDGBJasQAlqRGDGBJasQAlqRGDGBJasQAlqRG
DGBJasQAlqRGDGBJasQAlqRGDGBJasQAlqRGDGBJasQAlqRGDGBJasQAlqRGDGBJasQAlqRGDGBJ
asQAlqRGphzASX4nyUv76S2TPHZ4ZUnSpm9KAZzkD4FTgc/2TTsDXx1WUZI0G0y1B3wEsB/wK4Cq
uhZ44nQPmuRPk1yZ5IokX0yyRZLdk1yYZEWSk5JsPt39S9LGYKoBfG9V3Tc+k2QuUNM5YJKdgD8B
FlbVM4E5wBuADwMfraqnAr8ADp/O/iVpYzHVAP5ukvcDWyb5PeAU4Gvrcdy5/b7mAlsBtwAH0J3m
AFgGHLwe+5ekGW+qAXwUsAq4HPgj4BvAB6ZzwKpaCfx34Ea64P0l8GPgjqp6oF/tZmCn6exfkjYW
c6e43pbA8VX1OYAkc/q2e9b1gEkeDxwE7A7cQdebXrQO2y8GFgPsuuuu63p4SZoxptoDPosucMdt
CXxnmsd8KfCzqlpVVfcDX6b7gm/b/pQEdFdZrJxo46o6pqoWVtXCefPmTbMESWpvqgG8RVXdNT7T
T281zWPeCOybZKskAQ4ErgLOAV7Xr3MYcNo09y9JG4WpBvDdSfYan0myN/Cv0zlgVV1I92XbRXTn
lDcDjgH+AvizJCuAJwDHTWf/krSxmOo54HcDpyT5FyDAfOCQ6R60qj4IfHC15uuAfaa7T2l9LFmy
hLGxMebPn8/SpUtbl6NZYkoBXFU/SvJ0YI++6Zr+/K20SRgbG2Plygm/dpCGZq0BnOSAqjo7yWtX
W/S0JFTVl4dYmyRt0h6pB/xi4GzgVRMsK7orGCRJ07DWAK6qDybZDPhmVZ08opokaVZ4xHPAVfVQ
kiWAAaz1cuPf/NvWJUzqgdu3A+bywO03zMg6d/2ry1uXoCGY6mVo30nyniS7JNlu/N9QK5OkTdxU
L0M7hO6c7ztXa3/yhi1HkmaPqQbwnnTh+wK6ID4f+MywipKk2WCqAbyMbjD2T/Tz/7Fve/0wipKk
2WCqAfzMqtpzYP6cJFcNoyCphe23eAh4oP8pjcZUA/iiJPtW1QUASZ4HLB9eWdJovedZd7QuQbPQ
VAN4b+AHSW7s53cFrklyOVBV9ayhVCdJm7CpBvCUB0yXJE3NVAfjuWHYhUjSbDPVGzEkSRuYASxJ
jRjAktSIASxJjRjAktSIASxJjRjAktSIASxJjRjAktSIASxJjRjAktSIASxJjRjAktSIASxJjRjA
ktSIASxJjTQJ4CTbJjk1yU+SXJ3k+Um2S3Jmkmv7n49vUZskjUqrHvDHgTOq6unA7wJXA0cBZ1XV
AuCsfl6SNlkjD+AkjwNeBBwHUFX3VdUdwEHAsn61ZcDBo65NkkapRQ94d2AV8PkkFyc5NsljgB2q
6pZ+nTFghwa1SdLItAjgucBewKer6jnA3ax2uqGqCqiJNk6yOMnyJMtXrVo19GIlaVhaBPDNwM1V
dWE/fypdIP88yY4A/c9bJ9q4qo6pqoVVtXDevHkjKViShmHkAVxVY8BNSfbomw4ErgJOBw7r2w4D
Tht1bZI0SnMbHfdI4MQkmwPXAW+l+zA4OcnhwA3A6xvVJkkj0SSAq+oSYOEEiw4cdS2S1Ip3wklS
IwawJDViAEtSIwawJDViAEtSIwawJDViAEtSIwawJDViAEtSIwawJDXSaiwISVrDkiVLGBsbY/78
+SxdurR1OUNnAEuaMcbGxli5cmXrMkbGUxCS1IgBLEmNGMCS1IgBLEmNGMCS1IgBLEmNGMCS1IjX
AUuz0H6f3K91CRPa/I7N2YzNuOmOm2Zkjd8/8vsbdH/2gCWpEQNYkhoxgCWpEQNYkhoxgCWpEQNY
khoxgCWpEa8DljRj1FbFQzxEbVWtSxkJA1jSjHH/fve3LmGkPAUhSY00C+Akc5JcnOTr/fzuSS5M
siLJSUk2b1WbJI1Cyx7wu4CrB+Y/DHy0qp4K/AI4vElVkjQiTQI4yc7AHwDH9vMBDgBO7VdZBhzc
ojZJGpVWPeCPAUuAh/r5JwB3VNUD/fzNwE4TbZhkcZLlSZavWrVq+JVK0pCMPICTvBK4tap+PJ3t
q+qYqlpYVQvnzZu3gauTpNFpcRnafsCrk7wC2ALYBvg4sG2SuX0veGdgZYPaJGlkRt4Drqr3VdXO
VbUb8Abg7Kp6I3AO8Lp+tcOA00ZdmySN0ky6DvgvgD9LsoLunPBxjeuRpKFqeidcVZ0LnNtPXwfs
07IeSRqlmdQDlqRZxQCWpEYMYElqxACWpEYMYElqxACWpEYMYElqxACWpEYMYElqxACWpEYMYElq
xACWpEYMYElqxACWpEYMYElqxACWpEYMYElqxACWpEYMYElqxACWpEYMYElqxACWpEYMYElqxACW
pEYMYElqxACWpEYMYElqxACWpEYMYElqxACWpEZGHsBJdklyTpKrklyZ5F19+3ZJzkxybf/z8aOu
TZJGqUUP+AHgz6tqT2Bf4IgkewJHAWdV1QLgrH5ekjZZIw/gqrqlqi7qp+8ErgZ2Ag4ClvWrLQMO
HnVtkjRKTc8BJ9kNeA5wIbBDVd3SLxoDdphkm8VJlidZvmrVqpHUKUnD0CyAk2wNfAl4d1X9anBZ
VRVQE21XVcdU1cKqWjhv3rwRVCpJw9EkgJM8ii58T6yqL/fNP0+yY798R+DWFrVJ0qi0uAoiwHHA
1VX19wOLTgcO66cPA04bdW2SNEpzGxxzP+BNwOVJLunb3g98CDg5yeHADcDrG9QmSSMz8gCuqu8B
mWTxgaOsRZJa8k44SWrEAJakRgxgSWrEAJakRgxgSWrEAJakRgxgSWrEAJakRgxgSWrEAJakRgxg
SWrEAJakRgxgSWrEAJakRgxgSWrEAJakRgxgSWrEAJakRgxgSWrEAJakRgxgSWrEAJakRgxgSWrE
AJakRgxgSWrEAJakRgxgSWrEAJakRgxgSWrEAJakRmZcACdZlOSaJCuSHNW6HkkalhkVwEnmAP8A
vBzYEzg0yZ5tq5Kk4ZhRAQzsA6yoquuq6j7gH4GDGtckSUORqmpdw28keR2wqKr+cz//JuB5VfXH
A+ssBhb3s3sA14y80A1re+C21kUI8LWYKTaF1+G2qlr0SCvNHUUlG1JVHQMc07qODSXJ8qpa2LoO
+VrMFLPpdZhppyBWArsMzO/ct0nSJmemBfCPgAVJdk+yOfAG4PTGNUnSUMyoUxBV9UCSPwa+BcwB
jq+qKxuXNWybzOmUTYCvxcwwa16HGfUlnCTNJjPtFIQkzRoGsCQ1MisCOMmDSS4Z+LfWW5yT7J/k
3w3Mvz3Jm9fj+G9J8j+nu/16HPebSXaexnYPe/yjNPBaXZHklCRbTbLeN5JsO439b5vknetf6aYt
yV8muTLJZf3r8by+/fok24/g+Ecnec+wj9PajPoSboj+taqevQ7r7w/cBfwAoKo+M9FKSeZW1QPr
X96Gl2RL4AlVdfM0Nt+fgcc/Yr95rZKcCLwd+PvxhUlC993FK6a5/22BdwKfmm6BSeZU1YPT3X6m
S/J84JXAXlV1bx+4m2+A/W7Q98tMfv9N1azoAU+m/zT/6yQXJbk8ydOT7Eb3pv/T/pP/hYOfxknO
TfKxJMuBdyWZl+RLSX7U/9tvksM9KckZSa5NsnSghkP7Y1+R5MMD7Xcl+UjfC/lOkn36Y1+X5NX9
OnP6dX7U91T+aOB4+wPn9uv9Vb/OFUmO6UNs/LF8fKDHuc9Ej39DPNfTdD7w1CS79QM0fQG4Athl
vCeW5ENJjhjfYPy1SrJ1krMGXtvxW9o/BDylf2wf6bd578Bz+NcTFdK/Hv8jyaXA85McmOTift/H
J3l0v95k7dcn+bv+uMuT7JXkW0n+b5K3D+8pnJYd6e7kuhegqm6rqn8ZWH7k4HsGoP/d+WH/2H+Q
ZI++/S1JTk9yNnBW3zbh8933un+a5Ht0d7muIckJST6T5EJgaZLtkny139cFSZ7VrzdZ+9FJliU5
P8kNSV6bZGn/WM5I8qgN/myuTVVt8v+AB4FLBv4d0rdfDxzZT78TOLafPhp4z8D2v5mnC7VPDSz7
P8AL+uldgasnOP5bgOuAxwFbADfQ3XDyJOBGYB7dXyNnAwf32xTw8n76K8C3gUcBvwtc0rcvBj7Q
Tz8aWA7s3s9/Ajign95uoJb/Bbxq4LF8rp9+EXDFRI9/xK/VXf3PucBpwDuA3YCHgH0H1rue7pbV
5wDfHWi/qn9u5wLb9G3bAyuA9Pu6YmD9l9Fd9hS6DsnXgRdNUFcBr++ntwBuAp7Wz38BePdk7QP1
vqOf/ihwGfDY/rX/eev3yGqPdWu698lP6f5SePFqz/tE75ltgLn99EuBLw387t88/js42fMN7A1c
DmzV72vFRL+DwAn9NnP6+U8CH+ynD+C3743J2o8Gvsdv30v38PD32cGjfK49BQFf7n/+GHjtFPd3
0sD0S4E9+04lwDZJtq6qu1bb5qyq+iVAkquA3wGeAJxbVav69hPpfhm/CtwHnNFvezlwb1Xdn+Ry
uhCB7pf5WenG0IAu4BcAPwP2A8bPob0kyRK6X+7tgCuBr/XLvghQVecl2SbTOK+6gW2Z5JJ++nzg
OLoPqhuq6oLVV66qi5M8McmT6MLsF1V1U9+T+W9JXkQX3jsBO0xwvJf1/y7u57emew7PW229B4Ev
9dN7AD+rqp/288uAI4BzJmn/WD8/flPR5cDWVXUncGeSe5NsW1V3rPWZGZGquivJ3sALgZcAJyU5
qqpO6FeZ6D3zOGBZkgV0H1aDPckzq+r2fnqy5/uxwFeq6h6AJGu7AeuU+u0poBcA/76v++wkT0iy
zVraAb458F6aw8PfZ7ut/dnZsGZLAK/Nvf3PB5n683H3wPRmdD2zX0/xOFM91v3VfyzTBcj4n4MP
JRnfNnS9kW8NbpjkycBNVXVfki3oejEL+2A6mq6nNm71C8FbXxi+xodl/+F298SrA3AK8DpgPr/9
cHwjXSDv3b/Zrufhj/s3uwf+rqo++wh1/brW/7zv+O/AQzz89+EhZth7sX+s5wLn9kF1GF3vEyZ+
z/wX4Jyqek1/Guvcgd0NvnYTPt9J3r0O5a3td2EqBt9Lq7/PRvo6zOpzwGtxJ90n8lR8GzhyfCbJ
unzZ98/Ai/tzmXOAQ4HvrsP23wLeMX7eKsnTkjyGbjzl8U/18dC5LcnWdEE16JB+2xcAv+x76evy
+GeCk+huW38dXRhD1yO7tQ/fl9D9xQFrPrZvAW/rnxuS7JTkiY9wvGuA3ZI8tZ9/E93rNln7RiXJ
Hn1Pdtyz6U6brc3j+O24LW9Zy3qTPd/nAQcn2TLJY4FXTbHc8+k+bEmyP92561+tpX1GmVGfukM0
+GctwBlVtbZL0b4GnJrui5sj17IewJ8A/5DkMrrn8zy6L7EeUVXdku6SuHPoegb/VFWnTWXb3rF0
fzJdlK6buAo4GFg0XndV3ZHkc3RfXo3Rjbcx6NdJLqb7k/FtfdvDHn9Vnb8ONY1cVV3Zv2lXVtUt
ffOJwNf63tty4Cf9uv8vyfeTXEH3p+h7k/wb4Id9T/su4D8Bt67leL9O8lbglP6vkR8Bn6nuioE1
2ofyoIdra+CT/emoB+jOxy5e+yYspTsF8QHgnyZbqaq+PdHzXVUXJTkJuJTuuV/993QyRwPH9++/
e+h66mtrn1G8FXkTk+5b9+/XFIbzS3Iu3Rcdy4demKQ1zJYe8KxR3aVDs2IsVWljZw9YkhrxSzhJ
asQAlqRGDGBJasQAliaR5NlJpjvoj/SIDGBtVNIZ1e/tswEDWENjAGvGy5qjob0pE48gN+2R5SY4
5ubA3wCHpBvB7JB0I9nN65dvlmRFutHwxkfoWp5uNK9X9uusbbQ6yQDWRmMB3ZgWv0c37sABdD3U
5yY5uB+M58Ort/fbPgY4u6qeQXcr8n/t9/MaupBdQ1XdB/wVcFJVPbuqTgL+N/3trXSDMF06PpAS
3R2J+wB/AHymH4PjcLrbu58LPBf4wyS7b4gnQ5sGA1gbi/HR0J5LP4JcdYNxj48gN1k7rDmy3Her
6n7WffSr44Hx/xnlbcDnB5adXFUPVdW1dEOPPp1u1K8397fBX0g3+t3gGAua5bwTThuL9RkBayoj
yz2ifjS5nyc5gK63+8bBxauvziSj1Unj7AFrYzPZCHLrO7LcRCYaFe5YulMRg2PSAvyH/rzwU4An
042MNtlodRJgAGsj0492Nj6C3KXAj6vqtMna1/Nw59ANtn9JkkP6ttPpRgv7/Grr3kj3IfBN4O39
+NDH0v0PHRf1o699Fv/q1ADHgpDWQZKFwEer6oUDbScAX6+qU5sVpo2Sn8bSFPVjN7+Dh5/7labN
HrBmvSS/T3cJ26CfVdVrWtSj2cMAlqRG/BJOkhoxgCWpEQNYkhoxgCWpEQNYkhr5/3brBXLWqCGX
AAAAAElFTkSuQmCC
"
>
</div>

</div>

</div>
</div>

</div>
<div class="cell border-box-sizing code_cell rendered">
<div class="input">
<div class="prompt input_prompt">In&nbsp;[13]:</div>
<div class="inner_cell">
    <div class="input_area">
<div class=" highlight hl-ipython3"><pre><span></span><span class="n">sns</span><span class="o">.</span><span class="n">catplot</span><span class="p">(</span><span class="n">x</span><span class="o">=</span><span class="s2">&quot;beds&quot;</span><span class="p">,</span> <span class="n">y</span><span class="o">=</span><span class="s2">&quot;price&quot;</span><span class="p">,</span> <span class="n">data</span><span class="o">=</span><span class="n">avg_priced_dataset</span><span class="p">,</span> <span class="n">kind</span><span class="o">=</span><span class="s2">&quot;bar&quot;</span><span class="p">)</span>
</pre></div>

    </div>
</div>
</div>

<div class="output_wrapper">
<div class="output">


<div class="output_area">

    <div class="prompt output_prompt">Out[13]:</div>




<div class="output_text output_subarea output_execute_result">
<pre>&lt;seaborn.axisgrid.FacetGrid at 0x7fdd31654be0&gt;</pre>
</div>

</div>

<div class="output_area">

    <div class="prompt"></div>




<div class="output_png output_subarea ">
<img src="data:image/png;base64,iVBORw0KGgoAAAANSUhEUgAAAWAAAAFgCAYAAACFYaNMAAAABHNCSVQICAgIfAhkiAAAAAlwSFlz
AAALEgAACxIB0t1+/AAAADl0RVh0U29mdHdhcmUAbWF0cGxvdGxpYiB2ZXJzaW9uIDMuMC4zLCBo
dHRwOi8vbWF0cGxvdGxpYi5vcmcvnQurowAAGmVJREFUeJzt3X20XXV95/H3x4QnkRLAW0JJUrBS
LT4FyCAdHHVgVMRWaBel2AeoQyd1Fbp0+nCLOqvVrmGtmmlL1WmdQcGG1idEW6mLqghWp50KjRog
gIyposltDgnyJGpV4Dt/nB29hJtwSO4+v5t736+1zjp7//Zvn9/3nFw+7PM7++yTqkKSNH5Pal2A
JC1UBrAkNWIAS1IjBrAkNWIAS1IjBrAkNWIAS1IjBrAkNWIAS1Iji1sXsCdOO+20+tjHPta6DEna
UUbptFcfAd99992tS5Ck3bZXB7Ak7c0MYElqxACWpEYMYElqxACWpEYMYElqxACWpEYMYElqxACW
pEZ6D+Aki5J8IclHu/Wjk9yQZGOSDyTZt2vfr1vf2G0/qu/aJKmlcRwBvxa4fdr6W4BLqurpwL3A
+V37+cC9XfslXT9Jmrd6DeAky4BXAO/q1gOcAlzVdVkLnNktn9Gt020/tesvaQGbnJzk3HPPZXJy
snUps67vq6H9KTAJHNStHwbcV1UPdeubgSO75SOBTQBV9VCS+7v+j7riTpLVwGqAFStW9Fq8pPYG
gwFTU1Oty+hFbwGc5KeArVX1uSQvnq3HrapLgUsBVq1aVbP1uJLG58oPnjhy3wcfPBB4Eg8+uGnk
/c7+uRt3s7Lx6vMI+GTglUlOB/YHfgh4K7AkyeLuKHgZsP1/bVPAcmBzksXAwcDXe6xP0l7goIMe
edT9fNJbAFfV64HXA3RHwL9dVb+Y5IPAWcD7gfOAj3S7XN2t/1O3/fqq8ghXWuBe8VPfbl1Cb1qc
B/y7wG8m2chwjveyrv0y4LCu/TeBixrUJkljM5afJKqqvwf+vlv+MvCYiZyq+jfg58ZRjyTNBX4T
TpIaMYAlqREDWJIaMYAlqREDWJIaMYAlqREDWJIaMYAlqREDWJIaMYAlqREDWJIaGcu1ICRpbzI5
OclgMGDp0qWsWbOmt3EMYEnawbh+hcMpCElqxACWpEYMYElqxACWpEYMYElqxACWpEYMYElqxACW
pEYMYElqxACWpEYMYElqxACWpEYMYElqxACWpEZ6C+Ak+ye5MclNSW5N8uau/S+SfCXJ+u62smtP
krcl2Zjk5iTH91WbJM0FfV4P+DvAKVX1YJJ9gH9I8nfdtt+pqqt26P9y4Jju9nzgHd29JM1LvR0B
19CD3eo+3a12scsZwBXdfp8FliQ5oq/6JKm1XueAkyxKsh7YClxbVTd0my7uphkuSbJf13YksGna
7pu7NklzwOTkJOeeey6Tk5OtS5k3eg3gqnq4qlYCy4ATkzwbeD3wTODfAYcCv/tEHjPJ6iTrkqzb
tm3brNcsaWbbf6ZnMBi0LmXeGMtZEFV1H/Ap4LSq2tJNM3wHeDdwYtdtClg+bbdlXduOj3VpVa2q
qlUTExN9ly5JvenzLIiJJEu65QOAlwBf3D6vmyTAmcCGbpergXO7syFOAu6vqi191SdJrfV5FsQR
wNokixgG/ZVV9dEk1yeZAAKsB17T9b8GOB3YCHwLeHWPtUlSc70FcFXdDBw3Q/spO+lfwAV91SNJ
c43fhJOkRgxgSWrEAJakRgxgSWrEAJakRvo8DU1STyYnJxkMBixdupQ1a9a0Lke7yQCW9kLbvxas
vZtTEJLUiAEsSY0YwJLUiAEsSY0YwJLUiAEsSY0YwJLUiAEsSY0YwJLUiAEsSY0YwJLUiAEsSY0Y
wJLUiAEsSY0YwJLUiNcDlrRgPO+qj4/U75AHv8Ui4GsPfmvkfW4662VPuB6PgCWpEQNYkhoxgCWp
EQNYkhoxgCWpkd4COMn+SW5MclOSW5O8uWs/OskNSTYm+UCSfbv2/br1jd32o/qqTZLmgj6PgL8D
nFJVzwNWAqclOQl4C3BJVT0duBc4v+t/PnBv135J10+S5q3eAriGHuxW9+luBZwCXNW1rwXO7JbP
6Nbptp+aJH3VJ0mt9ToHnGRRkvXAVuBa4F+A+6rqoa7LZuDIbvlIYBNAt/1+4LAZHnN1knVJ1m3b
tq3P8iWpV70GcFU9XFUrgWXAicAzZ+ExL62qVVW1amJiYo9rlKRWxnIWRFXdB3wK+ElgSZLtX4Fe
Bkx1y1PAcoBu+8HA18dRnyS10OdZEBNJlnTLBwAvAW5nGMRndd3OAz7SLV/drdNtv76qqq/6JKm1
Pi/GcwSwNskihkF/ZVV9NMltwPuT/HfgC8BlXf/LgL9MshG4Bzinx9okqbneAriqbgaOm6H9ywzn
g3ds/zfg5/qqR5LmGr8JJ0mNGMCS1IgBLEmNGMCS1IgBLEmN+Jtw0h6YnJxkMBiwdOlS1qxZ07oc
7WUMYGkPDAYDpqamHr/jCG6/+PqR+373nm9//37U/X7ijafsVl3qj1MQktSIASxJjRjAktSIASxJ
jRjAktSIASxJjXgamuYNz8nV3sYA1rwxm+fkSuPgFIQkNWIAS1IjBrAkNWIAS1IjBrAkNWIAS1Ij
BrAkNWIAS1IjBrAkNWIAS1IjBrAkNWIAS1IjvQVwkuVJPpXktiS3Jnlt1/6mJFNJ1ne306ft8/ok
G5PckeRlfdUmSXNBn1dDewj4rar6fJKDgM8lubbbdklV/dH0zkmOBc4BngX8CPDJJD9eVQ/3WKPm
uP/5W387ct/77v7m9+9H3e/CP/7p3apLmg29HQFX1Zaq+ny3/A3gduDIXexyBvD+qvpOVX0F2Aic
2Fd9ktTaWOaAkxwFHAfc0DVdmOTmJJcnOaRrOxLYNG23zcwQ2ElWJ1mXZN22bdt6rFqS+tV7ACd5
CvAh4HVV9QDwDuDHgJXAFuCPn8jjVdWlVbWqqlZNTEzMer2S9PBBB/PwwYfw8EEH9zpOr7+IkWQf
huH7nqr6MEBV3TVt+zuBj3arU8Dyabsv69okaawe+OmzxzJOn2dBBLgMuL2q/mRa+xHTuv0MsKFb
vho4J8l+SY4GjgFu7Ks+SWqtzyPgk4FfBm5Jsr5rewPwqiQrgQLuBH4NoKpuTXIlcBvDMygu8AwI
SfNZbwFcVf8AZIZN1+xin4uBi/uqSZLmEn8VWZrBxb901kj97tl6//B+sGXkfd74V1ftdl2aX/wq
siQ1YgBLUiMGsCQ1YgBLUiMGsCQ1YgBLUiMGsCQ14nnAmjcO3PeHHnUvzXUGsOaNk3/sZ1uXMDaH
7X/wo+61dzKApb3Qhcf9QusSNAucA5akRjwC1qybnJxkMBiwdOlS1qxZ07ocac4aOYCT/ChwTFV9
MskBwOLut96kRxkMBkxNeS196fGMNAWR5L8AVwH/u2taBvxNX0VJ0kIw6hzwBQwvsP4AQFV9Cfjh
voqSpIVg1AD+TlV9d/tKksUMf9FCkrSbRg3gTyd5A3BAkpcAHwT+tr+yJGn+GzWALwK2Abcw/A23
a4D/1ldRkrQQjHoWxAHA5VX1ToAki7q2b/VVmCTNd6MeAV/HMHC3OwD45OyXI0kLx6gBvH9VPbh9
pVt+cj8lSdLCMOoUxDeTHF9VnwdIcgLw7f7K0lz06Re+aKR+3168CBK+vXnzyPu86DOf3pPSpL3S
qAH8OuCDSf4VCLAU+PneqpKkBWCkAK6qf07yTOAZXdMdVfW9/sqSpPlvlwGc5JSquj7Jjhda/fEk
VNWHe6xNkua1xzsCfhFwPfDTM2wrwACWpN20ywCuqt9P8iTg76rqyifywEmWA1cAhzMM60ur6q1J
DgU+ABwF3AmcXVX3JgnwVuB0hucX/8r2D/0kaT563NPQquoRYHI3Hvsh4Leq6ljgJOCCJMcy/Fbd
dVV1DMPziy/q+r8cOKa7rQbesRtjStJeY9TzgD+Z5LeTLE9y6Pbbrnaoqi3bj2C76wbfDhwJnAGs
7bqtBc7sls8ArqihzwJLkhzxRJ+QJO0tRj0N7ecZTiP8+g7tTxtl5yRHAccBNwCHV9WWbtOA4RQF
DMN507TdNndtW6a1kWQ1wyNkVqxYMWL5kjT3jHoEfCzwZ8BNwHrg7cCzRtkxyVOADwGvq6oHpm+r
quIJXtayqi6tqlVVtWpiYuKJ7CpJc8qoR8BrGV6M/W3d+i90bWfvaqck+zAM3/dMO2XtriRHVNWW
bopha9c+BSyftvuyrk17mSVVj7qfz/Zf9KRH3UtPxKgB/Ozuw7TtPpXktl3t0J3VcBlwe1X9ybRN
VwPnAX/Y3X9kWvuFSd4PPB+4f9pUhfYiv/TwI61LGJvjDjuodQnai40awJ9PclL34RhJng+se5x9
TgZ+Gbglyfqu7Q0Mg/fKJOcDX+UHR9HXMDwFbSPD09BePfKzkKS90KgBfALwf5N8rVtfAdyR5BaG
U7nP3XGHqvoHhteNmMmpM/Qvhr89J0kLwqgBfFqvVUjSAjTqxXi+2nchkrTQjHoErL3U5OQkg8GA
pUuXsmbNmtblSJrGAJ7nBoMBU1OezSfNRZ68KEmNGMCS1IgBLEmNGMCS1Igfwu2FTn77ySP33fe+
fXkST2LTfZtG3u8ff+Mfd7c0SU+AR8CS1IgBLEmNGMCS1IgBLEmNGMCS1IhnQcxz9eTiER6hnjz/
f51C2tsYwPPc907+XusSJO2EUxCS1IgBLEmNGMCS1IgBLEmNGMCS1IgBLEmNGMCS1IgBLEmNGMCS
1IgBLEmNGMCS1EhvAZzk8iRbk2yY1vamJFNJ1ne306dte32SjUnuSPKyvuqSpLmizyPgvwBOm6H9
kqpa2d2uAUhyLHAO8Kxunz9PsqjH2iSpud4CuKo+A9wzYvczgPdX1Xeq6ivARuDEvmqTpLmgxRzw
hUlu7qYoDunajgQ2TeuzuWt7jCSrk6xLsm7btm191ypJvRl3AL8D+DFgJbAF+OMn+gBVdWlVraqq
VRMTE7NdnySNzVgDuKruqqqHq+oR4J38YJphClg+reuyrk2S5q2xBnCSI6at/gyw/QyJq4FzkuyX
5GjgGODGcdYmSePW208SJXkf8GLgqUk2A78PvDjJSqCAO4FfA6iqW5NcCdwGPARcUFUP91WbJM0F
vQVwVb1qhubLdtH/YuDivuqRNLM3velNI/W75557vn8/6j6j9luo/CacJDViAEtSI/4s/ZhMTk4y
GAxYunQpa9asaV2OpDnAAB6TwWDA1JRn1kn6AacgJKkRA1iSGnEKYg997Q+eM1K/h+45FFjMQ/d8
deR9VvzeLXtQmaS5ziNgSWrEAJakRgxgSWrEOeAxeer+jwAPdfeSZACPzW8/977WJUiaY5yCkKRG
DGBJasQAlqRGDGBJasQAlqRGDGBJasQAlqRGDGBJasQAlqRGDGBJasQAlqRGDGBJasQAlqRGDGBJ
asQAlqRGegvgJJcn2Zpkw7S2Q5Ncm+RL3f0hXXuSvC3JxiQ3Jzm+r7okaa7o8wj4L4DTdmi7CLiu
qo4BruvWAV4OHNPdVgPv6LEuSZoTegvgqvoMcM8OzWcAa7vltcCZ09qvqKHPAkuSHNFXbZI0F4x7
DvjwqtrSLQ+Aw7vlI4FN0/pt7toeI8nqJOuSrNu2bVt/lUpSz5p9CFdVBdRu7HdpVa2qqlUTExM9
VCZJ4zHuAL5r+9RCd7+1a58Clk/rt6xrk6R5a9wBfDVwXrd8HvCRae3ndmdDnATcP22qQpLmpd5+
lj7J+4AXA09Nshn4feAPgSuTnA98FTi7634NcDqwEfgW8Oq+6gKYnJxkMBiwdOlS1qxZ0+dQkrRT
vQVwVb1qJ5tOnaFvARf0VcuOBoMBU1POcEhqq7cAHrcTfueKkfsedPc3WAR87e5vjLzf5/7HubtZ
mSTNzK8iS1Ij8+YI+Il4ZN8DH3UvSS0syAD+5jEvbV2CJDkFIUmtGMCS1IgBLEmNGMCS1IgBLEmN
GMCS1IgBLEmNGMCS1IgBLEmNGMCS1IgBLEmNGMCS1IgBLEmNGMCS1IgBLEmNGMCS1IgBLEmNGMCS
1IgBLEmNGMCS1IgBLEmNGMCS1IgBLEmNLG4xaJI7gW8ADwMPVdWqJIcCHwCOAu4Ezq6qe1vUJ0nj
0PII+D9W1cqqWtWtXwRcV1XHANd165I0b82lKYgzgLXd8lrgzIa1SFLvWgVwAZ9I8rkkq7u2w6tq
S7c8AA5vU5okjUeTOWDgBVU1leSHgWuTfHH6xqqqJDXTjl1grwZYsWJF/5VKUk+aHAFX1VR3vxX4
a+BE4K4kRwB091t3su+lVbWqqlZNTEyMq2RJmnVjD+AkByY5aPsy8FJgA3A1cF7X7TzgI+OuTZLG
qcUUxOHAXyfZPv57q+pjSf4ZuDLJ+cBXgbMb1CZJYzP2AK6qLwPPm6H968Cp465HklqZS6ehSdKC
YgBLUiMGsCQ1YgBLUiOtvoghaS+z3377Pepee84AljSS5zznOa1LmHecgpCkRgxgSWrEAJakRgxg
SWrEAJakRgxgSWrEAJakRgxgSWrEAJakRgxgSWrEAJakRgxgSWrEAJakRgxgSWrEAJakRgxgSWrE
AJakRgxgSWrEAJakRgxgSWrEAJakRgxgSWpkzgVwktOS3JFkY5KLWtcjSX2ZUwGcZBHwZ8DLgWOB
VyU5tm1VktSPORXAwInAxqr6clV9F3g/cEbjmiSpF6mq1jV8X5KzgNOq6le79V8Gnl9VF07rsxpY
3a0+A7hjN4d7KnD3HpS7t4zZalyf6/wc1+c6mrur6rTH67R4Nx+8maq6FLh0Tx8nybqqWjULJc3p
MVuN63Odn+P6XGfXXJuCmAKWT1tf1rVJ0rwz1wL4n4FjkhydZF/gHODqxjVJUi/m1BREVT2U5ELg
48Ai4PKqurWn4fZ4GmMvGbPVuD7X+Tmuz3UWzakP4SRpIZlrUxCStGAYwJLUyLwO4CSXJ9maZMNO
tifJ27qvPd+c5PhZGHN5kk8luS3JrUleO6Zx909yY5KbunHfPEOf/ZJ8oBv3hiRH7em43eMuSvKF
JB8d45h3Jrklyfok62bY3sdrvCTJVUm+mOT2JD85hjGf0T3H7bcHkrxuDOP+1+7vaEOS9yXZf4ft
ff27vrYb89Ydn2e3fY+f60y5kOTQJNcm+VJ3f8hO9j2v6/OlJOc90bEfo6rm7Q14IXA8sGEn208H
/g4IcBJwwyyMeQRwfLd8EPD/gGPHMG6Ap3TL+wA3ACft0OfXgf/VLZ8DfGCWXuffBN4LfHSGbX2N
eSfw1F1s7+M1Xgv8are8L7Ck7zF3ePxFwAD40T7HBY4EvgIc0K1fCfxK3/+uwLOBDcCTGZ4g8Eng
6bP9XGfKBWANcFG3fBHwlhn2OxT4cnd/SLd8yJ4853l9BFxVnwHu2UWXM4ArauizwJIkR+zhmFuq
6vPd8jeA2xn+Qfc9blXVg93qPt1tx09Yz2AYIgBXAacmyZ6Mm2QZ8ArgXTvpMutjjmhWX+MkBzP8
D/cygKr6blXd1+eYMzgV+Jeq+uoYxl0MHJBkMcNA/NcZxpztf9efYBio36qqh4BPAz87w7h79Fx3
kgvTn89a4MwZdn0ZcG1V3VNV9wLXAo/7bbddmdcBPIIjgU3T1jfz2LDcbd3bsuMYHo32Pm43FbAe
2MrwD2Wn43Z/4PcDh+3hsH8KTAKP7GR7H2PC8H8un0jyuQy/nr7TcTt7+hofDWwD3t1Nt7wryYE9
j7mjc4D3zdA+q+NW1RTwR8DXgC3A/VX1iZ2NOYv/rhuA/5DksCRPZni0u3yHPn29xodX1ZZueQAc
PkOfWR97oQdwb5I8BfgQ8LqqemAcY1bVw1W1kuE3CE9M8uw+x0vyU8DWqvpcn+PsxAuq6niGV867
IMkLex5vMcO3re+oquOAbzJ8qzoWGX4x6ZXAB8cw1iEMjwiPBn4EODDJL/U9blXdDrwF+ATwMWA9
8HDf485QR/HYd4+9WOgB3MtXn5PswzB831NVHx7XuNt1b40/xWPfHn1/3O6t5cHA1/dgqJOBVya5
k+GV605J8lc9jwl8/yiNqtoK/DXDK+nNOG5nT1/jzcDmae8qrmIYyH2OOd3Lgc9X1V0zbJvtcf8T
8JWq2lZV3wM+DPz7nY05y/+ul1XVCVX1QuBehp+hzDhuZ7Ze47u2T2V091tn6DPrYy/0AL4aOLf7
ZPUkhm+1tjzeTrvSzYNdBtxeVX8yxnEnkizplg8AXgJ8cYZxt39yexZwffd/+91SVa+vqmVVdRTD
t8fXV9WOR0qzOiZAkgOTHLR9GXgpw7evO447a69xVQ2ATUme0TWdCtzW55g7eBUzTz/0Me7XgJOS
PLn7ez6V4WcZO445q/+uAEl+uLtfwXD+970zjNvHazz9+ZwHfGSGPh8HXprkkO5dwku7tt23J5/g
zfUbwz/YLcD3GB7BnA+8BnhNtz0MLwD/L8AtwKpZGPMFDN++3MzwLdR6hnNZfY/7XOAL3bgbgN/r
2v8AeGW3vD/Dt7AbgRuBp83ia/1iurMg+h4TeBpwU3e7FXhj1973a7wSWNe9xn/D8JPwXsfsHvdA
hkeXB09r6/u5vpnh/8A3AH8J7DeOvyXg/zD8H9tNwKl9PNed5MJhwHXAlxiefXFo13cV8K5p+/7n
7jlvBF69p8/XryJLUiMLfQpCkpoxgCWpEQNYkhoxgCWpEQNYkhoxgDWvJTkqO7kaXp/7SqMwgCWp
EQNYC8HiJO/J8Bq+V3Xf8Dohyae7i/l8fNrXUE/I8JrKNwEXbH+AJM/K8HrL67vr0B7T7Nlo3jCA
tRA8A/jzqvoJ4AGGwfp24KyqOgG4HLi46/tu4Deq6nk7PMZrgLfW8GJHqxh+g0raI3PqV5Glnmyq
qn/slv8KeAPDi39f213CdhGwpbuWxpIaXi8Whl/BfXm3/E/AG7vrH3+4qr40tuo1b3kErIVgx+/b
fwO4tapWdrfnVNVLd/kAVe9leDnIbwPXJDmlp1q1gBjAWghW5Ae/3/YLwGeBie1tSfZJ8qwaXsbz
viQv6Pr+4vYHSPI04MtV9TaGV8p67vjK13xlAGshuIPhRdtvZ3gFs7czvITiW7oP29bzg+vdvhr4
s+6XRab/xM7ZwIau/dnAFeMqXvOXV0OTpEY8ApakRgxgSWrEAJakRgxgSWrEAJakRgxgSWrEAJak
Rv4/VN6RwEbztzoAAAAASUVORK5CYII=
"
>
</div>

</div>

</div>
</div>

</div>
<div class="cell border-box-sizing code_cell rendered">
<div class="input">
<div class="prompt input_prompt">In&nbsp;[11]:</div>
<div class="inner_cell">
    <div class="input_area">
<div class=" highlight hl-ipython3"><pre><span></span><span class="n">fig</span><span class="p">,</span> <span class="n">ax</span> <span class="o">=</span> <span class="n">plt</span><span class="o">.</span><span class="n">subplots</span><span class="p">(</span><span class="n">figsize</span><span class="o">=</span><span class="p">(</span><span class="mi">20</span><span class="p">,</span><span class="mi">5</span><span class="p">))</span>
<span class="n">sns</span><span class="o">.</span><span class="n">catplot</span><span class="p">(</span><span class="n">x</span><span class="o">=</span><span class="s2">&quot;property_type&quot;</span><span class="p">,</span> <span class="n">y</span><span class="o">=</span><span class="s2">&quot;price&quot;</span><span class="p">,</span> <span class="n">data</span><span class="o">=</span><span class="n">avg_priced_dataset</span><span class="p">,</span> <span class="n">kind</span><span class="o">=</span><span class="s2">&quot;bar&quot;</span><span class="p">,</span> <span class="n">ax</span><span class="o">=</span><span class="n">ax</span><span class="p">)</span>
</pre></div>

    </div>
</div>
</div>

<div class="output_wrapper">
<div class="output">


<div class="output_area">

    <div class="prompt output_prompt">Out[11]:</div>




<div class="output_text output_subarea output_execute_result">
<pre>&lt;seaborn.axisgrid.FacetGrid at 0x7fdd3431c9e8&gt;</pre>
</div>

</div>

<div class="output_area">

    <div class="prompt"></div>




<div class="output_png output_subarea ">
<img src="data:image/png;base64,iVBORw0KGgoAAAANSUhEUgAABJYAAAFBCAYAAAAllCVDAAAABHNCSVQICAgIfAhkiAAAAAlwSFlz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"
>
</div>

</div>

<div class="output_area">

    <div class="prompt"></div>




<div class="output_png output_subarea ">
<img src="data:image/png;base64,iVBORw0KGgoAAAANSUhEUgAAAWAAAAFgCAYAAACFYaNMAAAABHNCSVQICAgIfAhkiAAAAAlwSFlz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"
>
</div>

</div>

</div>
</div>

</div>
<div class="cell border-box-sizing text_cell rendered"><div class="prompt input_prompt">
</div><div class="inner_cell">
<div class="text_cell_render border-box-sizing rendered_html">
<ol>
<li>Séparez la variable cible de votre dataset</li>
</ol>

</div>
</div>
</div>
<div class="cell border-box-sizing code_cell rendered">
<div class="input">
<div class="prompt input_prompt">In&nbsp;[0]:</div>
<div class="inner_cell">
    <div class="input_area">
<div class=" highlight hl-ipython3"><pre><span></span><span class="n">X</span> <span class="o">=</span> <span class="n">avg_priced_dataset</span><span class="o">.</span><span class="n">loc</span><span class="p">[:,</span> <span class="n">avg_priced_dataset</span><span class="o">.</span><span class="n">columns</span><span class="o">!=</span><span class="s2">&quot;price&quot;</span><span class="p">]</span>
<span class="n">y</span> <span class="o">=</span> <span class="n">avg_priced_dataset</span><span class="o">.</span><span class="n">loc</span><span class="p">[:,</span> <span class="n">avg_priced_dataset</span><span class="o">.</span><span class="n">columns</span><span class="o">==</span><span class="s2">&quot;price&quot;</span><span class="p">]</span>
</pre></div>

    </div>
</div>
</div>

</div>
<div class="cell border-box-sizing text_cell rendered"><div class="prompt input_prompt">
</div><div class="inner_cell">
<div class="text_cell_render border-box-sizing rendered_html">
<ol>
<li>Il faut qu'on écrème quelques variables explicatives de notre jeu de données. Commencer par simplement enlever les variables qui expriment un <code>id</code> quelconque ou urls. On enlèvera également les variables qui contiennent des textes longs comme <code>notes</code></li>
</ol>
<p>De la même manière, on enlèvera  toutes les variables qui décrivent le prix mensuel ou hebdomadaire comme  <code>monthly price</code></p>
<p>Votre dataset devrait contenir uniquement les variables catégoriques et numériques une fois votre nettoyage fait.</p>
<p>A la fin, votre dataset contiendra les variables suivantes :</p>

<pre><code>Index(['host_response_time', 'host_response_rate', 'host_acceptance_rate',
       'host_is_superhost', 'host_neighbourhood', 'host_listings_count',
       'host_total_listings_count', 'host_has_profile_pic',
       'host_identity_verified', 'neighbourhood_group_cleansed', 'zipcode',
       'latitude', 'longitude', 'property_type', 'room_type', 'accommodates',
       'bathrooms', 'bedrooms', 'beds', 'bed_type', 'square_feet',
       'security_deposit', 'cleaning_fee', 'guests_included', 'extra_people',
       'minimum_nights', 'maximum_nights', 'calendar_updated',
       'has_availability', 'availability_30', 'availability_60',
       'availability_90', 'availability_365', 'number_of_reviews',
       'review_scores_rating', 'review_scores_accuracy',
       'review_scores_cleanliness', 'review_scores_checkin',
       'review_scores_communication', 'review_scores_location',
       'review_scores_value', 'requires_license', 'license',
       'instant_bookable', 'cancellation_policy',
       'require_guest_profile_picture', 'require_guest_phone_verification',
       'calculated_host_listings_count', 'reviews_per_month'],
      dtype='object')</code></pre>

</div>
</div>
</div>
<div class="cell border-box-sizing code_cell rendered">
<div class="input">
<div class="prompt input_prompt">In&nbsp;[0]:</div>
<div class="inner_cell">
    <div class="input_area">
<div class=" highlight hl-ipython3"><pre><span></span><span class="n">X</span> <span class="o">=</span> <span class="n">X</span><span class="o">.</span><span class="n">iloc</span><span class="p">[:,</span> <span class="mi">19</span><span class="p">:]</span>
</pre></div>

    </div>
</div>
</div>

</div>
<div class="cell border-box-sizing code_cell rendered">
<div class="input">
<div class="prompt input_prompt">In&nbsp;[0]:</div>
<div class="inner_cell">
    <div class="input_area">
<div class=" highlight hl-ipython3"><pre><span></span><span class="n">X</span> <span class="o">=</span> <span class="n">X</span><span class="o">.</span><span class="n">drop</span><span class="p">([</span><span class="s2">&quot;host_since&quot;</span><span class="p">,</span> 
            <span class="s2">&quot;host_location&quot;</span><span class="p">,</span> 
            <span class="s2">&quot;host_about&quot;</span><span class="p">,</span> 
            <span class="s2">&quot;host_thumbnail_url&quot;</span><span class="p">,</span> 
            <span class="s2">&quot;host_picture_url&quot;</span><span class="p">],</span> <span class="n">axis</span><span class="o">=</span><span class="mi">1</span><span class="p">)</span>
</pre></div>

    </div>
</div>
</div>

</div>
<div class="cell border-box-sizing code_cell rendered">
<div class="input">
<div class="prompt input_prompt">In&nbsp;[0]:</div>
<div class="inner_cell">
    <div class="input_area">
<div class=" highlight hl-ipython3"><pre><span></span><span class="n">X</span> <span class="o">=</span> <span class="n">X</span><span class="o">.</span><span class="n">drop</span><span class="p">([</span><span class="s2">&quot;host_verifications&quot;</span><span class="p">,</span> 
        <span class="s2">&quot;street&quot;</span><span class="p">,</span> 
        <span class="s2">&quot;neighbourhood&quot;</span><span class="p">,</span> 
        <span class="s2">&quot;neighbourhood_cleansed&quot;</span><span class="p">,</span> 
        <span class="s2">&quot;city&quot;</span><span class="p">,</span> 
        <span class="s2">&quot;state&quot;</span><span class="p">,</span> 
        <span class="s2">&quot;market&quot;</span><span class="p">,</span> 
        <span class="s2">&quot;smart_location&quot;</span><span class="p">,</span>
        <span class="s2">&quot;country_code&quot;</span><span class="p">,</span>
        <span class="s2">&quot;country&quot;</span><span class="p">,</span>
        <span class="s2">&quot;is_location_exact&quot;</span><span class="p">,</span>
        <span class="s2">&quot;amenities&quot;</span><span class="p">,</span>
        <span class="s2">&quot;jurisdiction_names&quot;</span><span class="p">,</span>
        <span class="s2">&quot;first_review&quot;</span><span class="p">,</span>
        <span class="s2">&quot;last_review&quot;</span><span class="p">,</span>
        <span class="s2">&quot;calendar_last_scraped&quot;</span><span class="p">,</span>
        <span class="s2">&quot;weekly_price&quot;</span><span class="p">,</span>
        <span class="s2">&quot;monthly_price&quot;</span><span class="p">,</span>
        <span class="p">],</span> <span class="n">axis</span><span class="o">=</span><span class="mi">1</span><span class="p">)</span>
</pre></div>

    </div>
</div>
</div>

</div>
<div class="cell border-box-sizing code_cell rendered">
<div class="input">
<div class="prompt input_prompt">In&nbsp;[38]:</div>
<div class="inner_cell">
    <div class="input_area">
<div class=" highlight hl-ipython3"><pre><span></span>
</pre></div>

    </div>
</div>
</div>

<div class="output_wrapper">
<div class="output">


<div class="output_area">

    <div class="prompt output_prompt">Out[38]:</div>




<div class="output_text output_subarea output_execute_result">
<pre>Index([&#39;host_response_time&#39;, &#39;host_response_rate&#39;, &#39;host_acceptance_rate&#39;,
       &#39;host_is_superhost&#39;, &#39;host_neighbourhood&#39;, &#39;host_listings_count&#39;,
       &#39;host_total_listings_count&#39;, &#39;host_has_profile_pic&#39;,
       &#39;host_identity_verified&#39;, &#39;neighbourhood_group_cleansed&#39;, &#39;zipcode&#39;,
       &#39;latitude&#39;, &#39;longitude&#39;, &#39;property_type&#39;, &#39;room_type&#39;, &#39;accommodates&#39;,
       &#39;bathrooms&#39;, &#39;bedrooms&#39;, &#39;beds&#39;, &#39;bed_type&#39;, &#39;square_feet&#39;,
       &#39;security_deposit&#39;, &#39;cleaning_fee&#39;, &#39;guests_included&#39;, &#39;extra_people&#39;,
       &#39;minimum_nights&#39;, &#39;maximum_nights&#39;, &#39;calendar_updated&#39;,
       &#39;has_availability&#39;, &#39;availability_30&#39;, &#39;availability_60&#39;,
       &#39;availability_90&#39;, &#39;availability_365&#39;, &#39;number_of_reviews&#39;,
       &#39;review_scores_rating&#39;, &#39;review_scores_accuracy&#39;,
       &#39;review_scores_cleanliness&#39;, &#39;review_scores_checkin&#39;,
       &#39;review_scores_communication&#39;, &#39;review_scores_location&#39;,
       &#39;review_scores_value&#39;, &#39;requires_license&#39;, &#39;license&#39;,
       &#39;instant_bookable&#39;, &#39;cancellation_policy&#39;,
       &#39;require_guest_profile_picture&#39;, &#39;require_guest_phone_verification&#39;,
       &#39;calculated_host_listings_count&#39;, &#39;reviews_per_month&#39;],
      dtype=&#39;object&#39;)</pre>
</div>

</div>

</div>
</div>

</div>
<div class="cell border-box-sizing text_cell rendered"><div class="prompt input_prompt">
</div><div class="inner_cell">
<div class="text_cell_render border-box-sizing rendered_html">
<ol>
<li>Gérez les valeurs NaN. Utilisez les stratégies que vous préférez </li>
</ol>

</div>
</div>
</div>
<div class="cell border-box-sizing code_cell rendered">
<div class="input">
<div class="prompt input_prompt">In&nbsp;[39]:</div>
<div class="inner_cell">
    <div class="input_area">
<div class=" highlight hl-ipython3"><pre><span></span><span class="n">X</span><span class="o">.</span><span class="n">isnull</span><span class="p">()</span><span class="o">.</span><span class="n">any</span><span class="p">()</span>
</pre></div>

    </div>
</div>
</div>

<div class="output_wrapper">
<div class="output">


<div class="output_area">

    <div class="prompt output_prompt">Out[39]:</div>




<div class="output_text output_subarea output_execute_result">
<pre>host_response_time                   True
host_response_rate                   True
host_acceptance_rate                 True
host_is_superhost                    True
host_neighbourhood                   True
host_listings_count                  True
host_total_listings_count            True
host_has_profile_pic                 True
host_identity_verified               True
neighbourhood_group_cleansed        False
zipcode                              True
latitude                            False
longitude                           False
property_type                        True
room_type                           False
accommodates                        False
bathrooms                            True
bedrooms                             True
beds                                 True
bed_type                            False
square_feet                          True
security_deposit                     True
cleaning_fee                         True
guests_included                     False
extra_people                        False
minimum_nights                      False
maximum_nights                      False
calendar_updated                    False
has_availability                    False
availability_30                     False
availability_60                     False
availability_90                     False
availability_365                    False
number_of_reviews                   False
review_scores_rating                 True
review_scores_accuracy               True
review_scores_cleanliness            True
review_scores_checkin                True
review_scores_communication          True
review_scores_location               True
review_scores_value                  True
requires_license                    False
license                              True
instant_bookable                    False
cancellation_policy                 False
require_guest_profile_picture       False
require_guest_phone_verification    False
calculated_host_listings_count      False
reviews_per_month                    True
dtype: bool</pre>
</div>

</div>

</div>
</div>

</div>
<div class="cell border-box-sizing code_cell rendered">
<div class="input">
<div class="prompt input_prompt">In&nbsp;[0]:</div>
<div class="inner_cell">
    <div class="input_area">
<div class=" highlight hl-ipython3"><pre><span></span><span class="c1"># Pour la suite, nous remplirons les valeurs NaN de la manière la plus simple possible </span>
<span class="n">X</span><span class="o">.</span><span class="n">security_deposit</span> <span class="o">=</span> <span class="n">X</span><span class="o">.</span><span class="n">security_deposit</span><span class="o">.</span><span class="n">fillna</span><span class="p">(</span><span class="mi">0</span><span class="p">)</span>
</pre></div>

    </div>
</div>
</div>

</div>
<div class="cell border-box-sizing code_cell rendered">
<div class="input">
<div class="prompt input_prompt">In&nbsp;[0]:</div>
<div class="inner_cell">
    <div class="input_area">
<div class=" highlight hl-ipython3"><pre><span></span><span class="n">X</span> <span class="o">=</span> <span class="n">X</span><span class="o">.</span><span class="n">interpolate</span><span class="p">()</span>
</pre></div>

    </div>
</div>
</div>

</div>
<div class="cell border-box-sizing code_cell rendered">
<div class="input">
<div class="prompt input_prompt">In&nbsp;[0]:</div>
<div class="inner_cell">
    <div class="input_area">
<div class=" highlight hl-ipython3"><pre><span></span><span class="n">X</span> <span class="o">=</span> <span class="n">X</span><span class="o">.</span><span class="n">fillna</span><span class="p">(</span><span class="n">X</span><span class="o">.</span><span class="n">mean</span><span class="p">())</span>
</pre></div>

    </div>
</div>
</div>

</div>
<div class="cell border-box-sizing code_cell rendered">
<div class="input">
<div class="prompt input_prompt">In&nbsp;[0]:</div>
<div class="inner_cell">
    <div class="input_area">
<div class=" highlight hl-ipython3"><pre><span></span><span class="c1"># Nous devons enlever le caractère $ de chacun des prix pour rendre les variables numériques</span>
<span class="n">X</span><span class="o">.</span><span class="n">host_response_rate</span> <span class="o">=</span> <span class="n">X</span><span class="o">.</span><span class="n">host_response_rate</span><span class="o">.</span><span class="n">apply</span><span class="p">(</span><span class="k">lambda</span> <span class="n">x</span><span class="p">:</span> <span class="nb">int</span><span class="p">(</span><span class="n">x</span><span class="p">[:</span><span class="o">-</span><span class="mi">1</span><span class="p">])</span><span class="o">/</span><span class="mi">100</span> <span class="k">if</span> <span class="nb">type</span><span class="p">(</span><span class="n">x</span><span class="p">)</span> <span class="o">==</span> <span class="nb">str</span> <span class="k">else</span> <span class="n">x</span><span class="p">)</span>
<span class="n">X</span><span class="o">.</span><span class="n">host_response_rate</span> <span class="o">=</span> <span class="n">X</span><span class="o">.</span><span class="n">host_response_rate</span><span class="o">.</span><span class="n">fillna</span><span class="p">(</span><span class="n">X</span><span class="o">.</span><span class="n">host_response_rate</span><span class="o">.</span><span class="n">mean</span><span class="p">())</span>

<span class="n">X</span><span class="o">.</span><span class="n">host_acceptance_rate</span> <span class="o">=</span> <span class="n">X</span><span class="o">.</span><span class="n">host_acceptance_rate</span><span class="o">.</span><span class="n">apply</span><span class="p">(</span><span class="k">lambda</span> <span class="n">x</span><span class="p">:</span> <span class="nb">int</span><span class="p">(</span><span class="n">x</span><span class="p">[:</span><span class="o">-</span><span class="mi">1</span><span class="p">])</span><span class="o">/</span><span class="mi">100</span> <span class="k">if</span> <span class="nb">type</span><span class="p">(</span><span class="n">x</span><span class="p">)</span> <span class="o">==</span> <span class="nb">str</span> <span class="k">else</span> <span class="n">x</span><span class="p">)</span>
<span class="n">X</span><span class="o">.</span><span class="n">host_acceptance_rate</span> <span class="o">=</span> <span class="n">X</span><span class="o">.</span><span class="n">host_acceptance_rate</span><span class="o">.</span><span class="n">fillna</span><span class="p">(</span><span class="n">X</span><span class="o">.</span><span class="n">host_response_rate</span><span class="o">.</span><span class="n">mean</span><span class="p">())</span>
</pre></div>

    </div>
</div>
</div>

</div>
<div class="cell border-box-sizing code_cell rendered">
<div class="input">
<div class="prompt input_prompt">In&nbsp;[0]:</div>
<div class="inner_cell">
    <div class="input_area">
<div class=" highlight hl-ipython3"><pre><span></span><span class="n">X</span><span class="o">.</span><span class="n">host_response_time</span> <span class="o">=</span> <span class="n">X</span><span class="o">.</span><span class="n">host_response_time</span><span class="o">.</span><span class="n">fillna</span><span class="p">(</span><span class="s2">&quot;Unknown&quot;</span><span class="p">)</span>
<span class="n">X</span><span class="o">.</span><span class="n">host_is_superhost</span> <span class="o">=</span> <span class="n">X</span><span class="o">.</span><span class="n">host_is_superhost</span><span class="o">.</span><span class="n">fillna</span><span class="p">(</span><span class="s2">&quot;Unknown&quot;</span><span class="p">)</span>
<span class="n">X</span><span class="o">.</span><span class="n">host_neighbourhood</span> <span class="o">=</span> <span class="n">X</span><span class="o">.</span><span class="n">host_neighbourhood</span><span class="o">.</span><span class="n">fillna</span><span class="p">(</span><span class="s2">&quot;Unknown&quot;</span><span class="p">)</span>
<span class="n">X</span><span class="o">.</span><span class="n">host_has_profile_pic</span> <span class="o">=</span> <span class="n">X</span><span class="o">.</span><span class="n">host_has_profile_pic</span><span class="o">.</span><span class="n">fillna</span><span class="p">(</span><span class="s2">&quot;f&quot;</span><span class="p">)</span>
<span class="n">X</span><span class="o">.</span><span class="n">host_identity_verified</span> <span class="o">=</span> <span class="n">X</span><span class="o">.</span><span class="n">host_identity_verified</span><span class="o">.</span><span class="n">fillna</span><span class="p">(</span><span class="s2">&quot;f&quot;</span><span class="p">)</span>
<span class="n">X</span><span class="o">.</span><span class="n">zipcode</span> <span class="o">=</span> <span class="n">X</span><span class="o">.</span><span class="n">zipcode</span><span class="o">.</span><span class="n">fillna</span><span class="p">(</span><span class="n">X</span><span class="o">.</span><span class="n">zipcode</span><span class="o">.</span><span class="n">mode</span><span class="p">())</span>
<span class="n">X</span><span class="o">.</span><span class="n">property_type</span> <span class="o">=</span> <span class="n">X</span><span class="o">.</span><span class="n">property_type</span><span class="o">.</span><span class="n">fillna</span><span class="p">(</span><span class="s2">&quot;unknown&quot;</span><span class="p">)</span>

<span class="n">X</span><span class="o">.</span><span class="n">cleaning_fee</span> <span class="o">=</span> <span class="n">X</span><span class="o">.</span><span class="n">cleaning_fee</span><span class="o">.</span><span class="n">apply</span><span class="p">(</span><span class="k">lambda</span> <span class="n">x</span><span class="p">:</span> <span class="nb">float</span><span class="p">(</span><span class="n">x</span><span class="p">[</span><span class="mi">1</span><span class="p">:])</span><span class="o">/</span><span class="mi">100</span> <span class="k">if</span> <span class="nb">type</span><span class="p">(</span><span class="n">x</span><span class="p">)</span> <span class="o">==</span> <span class="nb">str</span> <span class="k">else</span> <span class="n">x</span><span class="p">)</span>
<span class="n">X</span><span class="o">.</span><span class="n">cleaning_fee</span> <span class="o">=</span> <span class="n">X</span><span class="o">.</span><span class="n">cleaning_fee</span><span class="o">.</span><span class="n">fillna</span><span class="p">(</span><span class="mi">0</span><span class="p">)</span>
</pre></div>

    </div>
</div>
</div>

</div>
<div class="cell border-box-sizing code_cell rendered">
<div class="input">
<div class="prompt input_prompt">In&nbsp;[0]:</div>
<div class="inner_cell">
    <div class="input_area">
<div class=" highlight hl-ipython3"><pre><span></span><span class="n">X</span> <span class="o">=</span> <span class="n">X</span><span class="o">.</span><span class="n">drop</span><span class="p">(</span><span class="s2">&quot;license&quot;</span><span class="p">,</span> <span class="n">axis</span><span class="o">=</span><span class="mi">1</span><span class="p">)</span>
</pre></div>

    </div>
</div>
</div>

</div>
<div class="cell border-box-sizing code_cell rendered">
<div class="input">
<div class="prompt input_prompt">In&nbsp;[76]:</div>
<div class="inner_cell">
    <div class="input_area">
<div class=" highlight hl-ipython3"><pre><span></span><span class="n">X</span><span class="o">.</span><span class="n">info</span><span class="p">()</span>
</pre></div>

    </div>
</div>
</div>

<div class="output_wrapper">
<div class="output">


<div class="output_area">

    <div class="prompt"></div>


<div class="output_subarea output_stream output_stdout output_text">
<pre>&lt;class &#39;pandas.core.frame.DataFrame&#39;&gt;
Int64Index: 3755 entries, 0 to 3817
Data columns (total 48 columns):
host_response_time                  3755 non-null object
host_response_rate                  3755 non-null float64
host_acceptance_rate                3755 non-null float64
host_is_superhost                   3755 non-null object
host_neighbourhood                  3755 non-null object
host_listings_count                 3755 non-null float64
host_total_listings_count           3755 non-null float64
host_has_profile_pic                3755 non-null object
host_identity_verified              3755 non-null object
neighbourhood_group_cleansed        3755 non-null object
zipcode                             3748 non-null object
latitude                            3755 non-null float64
longitude                           3755 non-null float64
property_type                       3755 non-null object
room_type                           3755 non-null object
accommodates                        3755 non-null int64
bathrooms                           3755 non-null float64
bedrooms                            3755 non-null float64
beds                                3755 non-null float64
bed_type                            3755 non-null object
square_feet                         3755 non-null float64
security_deposit                    3755 non-null object
cleaning_fee                        3755 non-null float64
guests_included                     3755 non-null int64
extra_people                        3755 non-null object
minimum_nights                      3755 non-null int64
maximum_nights                      3755 non-null int64
calendar_updated                    3755 non-null object
has_availability                    3755 non-null object
availability_30                     3755 non-null int64
availability_60                     3755 non-null int64
availability_90                     3755 non-null int64
availability_365                    3755 non-null int64
number_of_reviews                   3755 non-null int64
review_scores_rating                3755 non-null float64
review_scores_accuracy              3755 non-null float64
review_scores_cleanliness           3755 non-null float64
review_scores_checkin               3755 non-null float64
review_scores_communication         3755 non-null float64
review_scores_location              3755 non-null float64
review_scores_value                 3755 non-null float64
requires_license                    3755 non-null object
instant_bookable                    3755 non-null object
cancellation_policy                 3755 non-null object
require_guest_profile_picture       3755 non-null object
require_guest_phone_verification    3755 non-null object
calculated_host_listings_count      3755 non-null int64
reviews_per_month                   3755 non-null float64
dtypes: float64(19), int64(10), object(19)
memory usage: 1.6+ MB
</pre>
</div>
</div>

</div>
</div>

</div>
<div class="cell border-box-sizing text_cell rendered"><div class="prompt input_prompt">
</div><div class="inner_cell">
<div class="text_cell_render border-box-sizing rendered_html">
<ol>
<li>Vérifiez que toutes les variables numériques le sont effectivement bien. (N'oubliez pas de regarder y)</li>
</ol>

</div>
</div>
</div>
<div class="cell border-box-sizing code_cell rendered">
<div class="input">
<div class="prompt input_prompt">In&nbsp;[0]:</div>
<div class="inner_cell">
    <div class="input_area">
<div class=" highlight hl-ipython3"><pre><span></span><span class="n">X</span><span class="o">.</span><span class="n">extra_people</span> <span class="o">=</span> <span class="n">X</span><span class="o">.</span><span class="n">extra_people</span><span class="o">.</span><span class="n">apply</span><span class="p">(</span><span class="k">lambda</span> <span class="n">x</span><span class="p">:</span> <span class="nb">float</span><span class="p">(</span><span class="n">x</span><span class="p">[</span><span class="mi">1</span><span class="p">:])</span><span class="o">/</span><span class="mi">100</span> <span class="k">if</span> <span class="nb">type</span><span class="p">(</span><span class="n">x</span><span class="p">)</span><span class="o">==</span><span class="nb">str</span> <span class="k">else</span> <span class="n">x</span><span class="p">)</span>
<span class="n">y</span> <span class="o">=</span> <span class="n">y</span><span class="o">.</span><span class="n">apply</span><span class="p">(</span><span class="k">lambda</span> <span class="n">x</span><span class="p">:</span> <span class="nb">float</span><span class="p">(</span><span class="n">x</span><span class="p">[</span><span class="mi">1</span><span class="p">:])</span><span class="o">/</span><span class="mi">100</span> <span class="k">if</span> <span class="nb">type</span><span class="p">(</span><span class="n">x</span><span class="p">)</span><span class="o">==</span><span class="nb">str</span> <span class="k">else</span> <span class="n">x</span><span class="p">)</span>
</pre></div>

    </div>
</div>
</div>

</div>
<div class="cell border-box-sizing text_cell rendered"><div class="prompt input_prompt">
</div><div class="inner_cell">
<div class="text_cell_render border-box-sizing rendered_html">
<ol>
<li>Faites votre dernière partie de preprocessing en dummyfiant les variables catégoriques </li>
</ol>

</div>
</div>
</div>
<div class="cell border-box-sizing code_cell rendered">
<div class="input">
<div class="prompt input_prompt">In&nbsp;[0]:</div>
<div class="inner_cell">
    <div class="input_area">
<div class=" highlight hl-ipython3"><pre><span></span><span class="n">X</span> <span class="o">=</span> <span class="n">pd</span><span class="o">.</span><span class="n">get_dummies</span><span class="p">(</span><span class="n">X</span><span class="p">,</span> <span class="n">drop_first</span><span class="o">=</span><span class="kc">True</span><span class="p">)</span>
</pre></div>

    </div>
</div>
</div>

</div>
<div class="cell border-box-sizing text_cell rendered"><div class="prompt input_prompt">
</div><div class="inner_cell">
<div class="text_cell_render border-box-sizing rendered_html">
<ol>
<li>Faites maintenant un <code>train_test_split</code></li>
</ol>

</div>
</div>
</div>
<div class="cell border-box-sizing code_cell rendered">
<div class="input">
<div class="prompt input_prompt">In&nbsp;[0]:</div>
<div class="inner_cell">
    <div class="input_area">
<div class=" highlight hl-ipython3"><pre><span></span><span class="kn">from</span> <span class="nn">sklearn.model_selection</span> <span class="k">import</span> <span class="n">train_test_split</span>
<span class="n">X_train</span><span class="p">,</span> <span class="n">X_test</span><span class="p">,</span> <span class="n">y_train</span><span class="p">,</span> <span class="n">y_test</span> <span class="o">=</span> <span class="n">train_test_split</span><span class="p">(</span><span class="n">X</span><span class="p">,</span> <span class="n">y</span><span class="p">,</span> <span class="n">test_size</span> <span class="o">=</span><span class="mf">0.2</span><span class="p">)</span>
</pre></div>

    </div>
</div>
</div>

</div>
<div class="cell border-box-sizing text_cell rendered"><div class="prompt input_prompt">
</div><div class="inner_cell">
<div class="text_cell_render border-box-sizing rendered_html">
<ol>
<li>Normalisez <code>X_train</code> &amp; <code>X_test</code></li>
</ol>

</div>
</div>
</div>
<div class="cell border-box-sizing code_cell rendered">
<div class="input">
<div class="prompt input_prompt">In&nbsp;[85]:</div>
<div class="inner_cell">
    <div class="input_area">
<div class=" highlight hl-ipython3"><pre><span></span><span class="kn">from</span> <span class="nn">sklearn.preprocessing</span> <span class="k">import</span> <span class="n">StandardScaler</span> 
<span class="n">sc_x</span> <span class="o">=</span> <span class="n">StandardScaler</span><span class="p">()</span>
<span class="n">X_train</span> <span class="o">=</span> <span class="n">sc_x</span><span class="o">.</span><span class="n">fit_transform</span><span class="p">(</span><span class="n">X_train</span><span class="p">)</span>
<span class="n">X_test</span> <span class="o">=</span> <span class="n">sc_x</span><span class="o">.</span><span class="n">fit_transform</span><span class="p">(</span><span class="n">X_test</span><span class="p">)</span>
</pre></div>

    </div>
</div>
</div>

<div class="output_wrapper">
<div class="output">


<div class="output_area">

    <div class="prompt"></div>


<div class="output_subarea output_stream output_stderr output_text">
<pre>/usr/local/lib/python3.6/dist-packages/sklearn/preprocessing/data.py:645: DataConversionWarning: Data with input dtype uint8, int64, float64 were all converted to float64 by StandardScaler.
  return self.partial_fit(X, y)
/usr/local/lib/python3.6/dist-packages/sklearn/base.py:464: DataConversionWarning: Data with input dtype uint8, int64, float64 were all converted to float64 by StandardScaler.
  return self.fit(X, **fit_params).transform(X)
/usr/local/lib/python3.6/dist-packages/sklearn/preprocessing/data.py:645: DataConversionWarning: Data with input dtype uint8, int64, float64 were all converted to float64 by StandardScaler.
  return self.partial_fit(X, y)
/usr/local/lib/python3.6/dist-packages/sklearn/base.py:464: DataConversionWarning: Data with input dtype uint8, int64, float64 were all converted to float64 by StandardScaler.
  return self.fit(X, **fit_params).transform(X)
</pre>
</div>
</div>

</div>
</div>

</div>
<div class="cell border-box-sizing text_cell rendered"><div class="prompt input_prompt">
</div><div class="inner_cell">
<div class="text_cell_render border-box-sizing rendered_html">
<ol>
<li>Entrainez d'abord un modèle d'Adaboost standard et regardez votre score </li>
</ol>

</div>
</div>
</div>
<div class="cell border-box-sizing code_cell rendered">
<div class="input">
<div class="prompt input_prompt">In&nbsp;[89]:</div>
<div class="inner_cell">
    <div class="input_area">
<div class=" highlight hl-ipython3"><pre><span></span><span class="kn">from</span> <span class="nn">sklearn.ensemble</span> <span class="k">import</span> <span class="n">AdaBoostRegressor</span> 
<span class="n">regressor_ada</span> <span class="o">=</span> <span class="n">AdaBoostRegressor</span><span class="p">()</span>
<span class="n">regressor_ada</span><span class="o">.</span><span class="n">fit</span><span class="p">(</span><span class="n">X_train</span><span class="p">,</span> <span class="n">y_train</span><span class="p">)</span>
<span class="n">regressor_ada</span><span class="o">.</span><span class="n">score</span><span class="p">(</span><span class="n">X_test</span><span class="p">,</span> <span class="n">y_test</span><span class="p">)</span>
</pre></div>

    </div>
</div>
</div>

<div class="output_wrapper">
<div class="output">


<div class="output_area">

    <div class="prompt"></div>


<div class="output_subarea output_stream output_stderr output_text">
<pre>/usr/local/lib/python3.6/dist-packages/sklearn/utils/validation.py:761: DataConversionWarning: A column-vector y was passed when a 1d array was expected. Please change the shape of y to (n_samples, ), for example using ravel().
  y = column_or_1d(y, warn=True)
</pre>
</div>
</div>

<div class="output_area">

    <div class="prompt output_prompt">Out[89]:</div>




<div class="output_text output_subarea output_execute_result">
<pre>0.39617619127209813</pre>
</div>

</div>

</div>
</div>

</div>
<div class="cell border-box-sizing text_cell rendered"><div class="prompt input_prompt">
</div><div class="inner_cell">
<div class="text_cell_render border-box-sizing rendered_html">
<ol>
<li>Entrainez ensuite un modèle XGBoost et regardez votre score </li>
</ol>

</div>
</div>
</div>
<div class="cell border-box-sizing code_cell rendered">
<div class="input">
<div class="prompt input_prompt">In&nbsp;[90]:</div>
<div class="inner_cell">
    <div class="input_area">
<div class=" highlight hl-ipython3"><pre><span></span><span class="kn">from</span> <span class="nn">xgboost</span> <span class="k">import</span> <span class="n">XGBRegressor</span>
<span class="n">regressor_xgb</span> <span class="o">=</span> <span class="n">XGBRegressor</span><span class="p">()</span>
<span class="n">regressor_xgb</span><span class="o">.</span><span class="n">fit</span><span class="p">(</span><span class="n">X_train</span><span class="p">,</span> <span class="n">y_train</span><span class="p">)</span>
<span class="n">regressor_xgb</span><span class="o">.</span><span class="n">score</span><span class="p">(</span><span class="n">X_test</span><span class="p">,</span> <span class="n">y_test</span><span class="p">)</span>
</pre></div>

    </div>
</div>
</div>

<div class="output_wrapper">
<div class="output">


<div class="output_area">

    <div class="prompt output_prompt">Out[90]:</div>




<div class="output_text output_subarea output_execute_result">
<pre>0.6281307244443659</pre>
</div>

</div>

</div>
</div>

</div>
<div class="cell border-box-sizing text_cell rendered"><div class="prompt input_prompt">
</div><div class="inner_cell">
<div class="text_cell_render border-box-sizing rendered_html">
<ol>
<li>Par défaut, Adaboost prend des decision trees comme modèle a booster. Tentez de mettre une regression linéaire </li>
</ol>

</div>
</div>
</div>
<div class="cell border-box-sizing code_cell rendered">
<div class="input">
<div class="prompt input_prompt">In&nbsp;[94]:</div>
<div class="inner_cell">
    <div class="input_area">
<div class=" highlight hl-ipython3"><pre><span></span><span class="kn">from</span> <span class="nn">sklearn.linear_model</span> <span class="k">import</span> <span class="n">LinearRegression</span>
<span class="n">lin_reg</span> <span class="o">=</span> <span class="n">LinearRegression</span><span class="p">()</span>
<span class="n">regressor_ada</span> <span class="o">=</span> <span class="n">AdaBoostRegressor</span><span class="p">(</span><span class="n">lin_reg</span><span class="p">)</span>
<span class="n">regressor_ada</span><span class="o">.</span><span class="n">fit</span><span class="p">(</span><span class="n">X_train</span><span class="p">,</span> <span class="n">y_train</span><span class="p">)</span>
<span class="n">regressor_ada</span><span class="o">.</span><span class="n">score</span><span class="p">(</span><span class="n">X_test</span><span class="p">,</span> <span class="n">y_test</span><span class="p">)</span>
</pre></div>

    </div>
</div>
</div>

<div class="output_wrapper">
<div class="output">


<div class="output_area">

    <div class="prompt"></div>


<div class="output_subarea output_stream output_stderr output_text">
<pre>/usr/local/lib/python3.6/dist-packages/sklearn/utils/validation.py:761: DataConversionWarning: A column-vector y was passed when a 1d array was expected. Please change the shape of y to (n_samples, ), for example using ravel().
  y = column_or_1d(y, warn=True)
</pre>
</div>
</div>

<div class="output_area">

    <div class="prompt output_prompt">Out[94]:</div>




<div class="output_text output_subarea output_execute_result">
<pre>-2.1943458198312368e+17</pre>
</div>

</div>

</div>
</div>

</div>
<div class="cell border-box-sizing text_cell rendered"><div class="prompt input_prompt">
</div><div class="inner_cell">
<div class="text_cell_render border-box-sizing rendered_html">
<ol>
<li>La régression linéaire n'était pas la meilleure idée mais peut être qu'on peut faire une grid_search sur le <code>learning rate</code> &amp; <code>n_estimators</code>pour rattraper le score de XGBoost ?</li>
</ol>

</div>
</div>
</div>
<div class="cell border-box-sizing code_cell rendered">
<div class="input">
<div class="prompt input_prompt">In&nbsp;[102]:</div>
<div class="inner_cell">
    <div class="input_area">
<div class=" highlight hl-ipython3"><pre><span></span><span class="kn">from</span> <span class="nn">sklearn.model_selection</span> <span class="k">import</span> <span class="n">GridSearchCV</span>
<span class="n">parameters</span> <span class="o">=</span> <span class="p">{</span><span class="s1">&#39;n_estimators&#39;</span><span class="p">:[</span><span class="mi">40</span><span class="p">,</span><span class="mi">50</span><span class="p">,</span><span class="mi">70</span><span class="p">,</span> <span class="mi">100</span><span class="p">,</span> <span class="mi">150</span><span class="p">,</span> <span class="mi">200</span><span class="p">],</span>
              <span class="s2">&quot;learning_rate&quot;</span><span class="p">:[</span><span class="mf">1.0</span><span class="p">,</span> <span class="mf">0.9</span><span class="p">,</span> <span class="mf">0.8</span><span class="p">,</span> <span class="mf">0.7</span><span class="p">,</span> <span class="mf">0.6</span><span class="p">,</span> <span class="mf">0.5</span><span class="p">]}</span>

<span class="n">regressor_ada_best</span> <span class="o">=</span> <span class="n">GridSearchCV</span><span class="p">(</span><span class="n">regressor_ada</span><span class="p">,</span> <span class="n">parameters</span><span class="p">)</span>
<span class="n">regressor_ada_best</span><span class="o">.</span><span class="n">fit</span><span class="p">(</span><span class="n">X_train</span><span class="p">,</span> <span class="n">y_train</span><span class="p">)</span>
</pre></div>

    </div>
</div>
</div>

<div class="output_wrapper">
<div class="output">


<div class="output_area">

    <div class="prompt"></div>


<div class="output_subarea output_stream output_stderr output_text">
<pre>/usr/local/lib/python3.6/dist-packages/sklearn/utils/validation.py:761: DataConversionWarning: A column-vector y was passed when a 1d array was expected. Please change the shape of y to (n_samples, ), for example using ravel().
  y = column_or_1d(y, warn=True)
/usr/local/lib/python3.6/dist-packages/sklearn/utils/validation.py:761: DataConversionWarning: A column-vector y was passed when a 1d array was expected. Please change the shape of y to (n_samples, ), for example using ravel().
  y = column_or_1d(y, warn=True)
/usr/local/lib/python3.6/dist-packages/sklearn/utils/validation.py:761: DataConversionWarning: A column-vector y was passed when a 1d array was expected. Please change the shape of y to (n_samples, ), for example using ravel().
  y = column_or_1d(y, warn=True)
/usr/local/lib/python3.6/dist-packages/sklearn/utils/validation.py:761: DataConversionWarning: A column-vector y was passed when a 1d array was expected. Please change the shape of y to (n_samples, ), for example using ravel().
  y = column_or_1d(y, warn=True)
/usr/local/lib/python3.6/dist-packages/sklearn/utils/validation.py:761: DataConversionWarning: A column-vector y was passed when a 1d array was expected. Please change the shape of y to (n_samples, ), for example using ravel().
  y = column_or_1d(y, warn=True)
/usr/local/lib/python3.6/dist-packages/sklearn/utils/validation.py:761: DataConversionWarning: A column-vector y was passed when a 1d array was expected. Please change the shape of y to (n_samples, ), for example using ravel().
  y = column_or_1d(y, warn=True)
/usr/local/lib/python3.6/dist-packages/sklearn/utils/validation.py:761: DataConversionWarning: A column-vector y was passed when a 1d array was expected. Please change the shape of y to (n_samples, ), for example using ravel().
  y = column_or_1d(y, warn=True)
/usr/local/lib/python3.6/dist-packages/sklearn/utils/validation.py:761: DataConversionWarning: A column-vector y was passed when a 1d array was expected. Please change the shape of y to (n_samples, ), for example using ravel().
  y = column_or_1d(y, warn=True)
/usr/local/lib/python3.6/dist-packages/sklearn/utils/validation.py:761: DataConversionWarning: A column-vector y was passed when a 1d array was expected. Please change the shape of y to (n_samples, ), for example using ravel().
  y = column_or_1d(y, warn=True)
/usr/local/lib/python3.6/dist-packages/sklearn/utils/validation.py:761: DataConversionWarning: A column-vector y was passed when a 1d array was expected. Please change the shape of y to (n_samples, ), for example using ravel().
  y = column_or_1d(y, warn=True)
/usr/local/lib/python3.6/dist-packages/sklearn/utils/validation.py:761: DataConversionWarning: A column-vector y was passed when a 1d array was expected. Please change the shape of y to (n_samples, ), for example using ravel().
  y = column_or_1d(y, warn=True)
/usr/local/lib/python3.6/dist-packages/sklearn/utils/validation.py:761: DataConversionWarning: A column-vector y was passed when a 1d array was expected. Please change the shape of y to (n_samples, ), for example using ravel().
  y = column_or_1d(y, warn=True)
/usr/local/lib/python3.6/dist-packages/sklearn/utils/validation.py:761: DataConversionWarning: A column-vector y was passed when a 1d array was expected. Please change the shape of y to (n_samples, ), for example using ravel().
  y = column_or_1d(y, warn=True)
/usr/local/lib/python3.6/dist-packages/sklearn/utils/validation.py:761: DataConversionWarning: A column-vector y was passed when a 1d array was expected. Please change the shape of y to (n_samples, ), for example using ravel().
  y = column_or_1d(y, warn=True)
/usr/local/lib/python3.6/dist-packages/sklearn/utils/validation.py:761: DataConversionWarning: A column-vector y was passed when a 1d array was expected. Please change the shape of y to (n_samples, ), for example using ravel().
  y = column_or_1d(y, warn=True)
/usr/local/lib/python3.6/dist-packages/sklearn/utils/validation.py:761: DataConversionWarning: A column-vector y was passed when a 1d array was expected. Please change the shape of y to (n_samples, ), for example using ravel().
  y = column_or_1d(y, warn=True)
/usr/local/lib/python3.6/dist-packages/sklearn/utils/validation.py:761: DataConversionWarning: A column-vector y was passed when a 1d array was expected. Please change the shape of y to (n_samples, ), for example using ravel().
  y = column_or_1d(y, warn=True)
/usr/local/lib/python3.6/dist-packages/sklearn/utils/validation.py:761: DataConversionWarning: A column-vector y was passed when a 1d array was expected. Please change the shape of y to (n_samples, ), for example using ravel().
  y = column_or_1d(y, warn=True)
/usr/local/lib/python3.6/dist-packages/sklearn/utils/validation.py:761: DataConversionWarning: A column-vector y was passed when a 1d array was expected. Please change the shape of y to (n_samples, ), for example using ravel().
  y = column_or_1d(y, warn=True)
/usr/local/lib/python3.6/dist-packages/sklearn/utils/validation.py:761: DataConversionWarning: A column-vector y was passed when a 1d array was expected. Please change the shape of y to (n_samples, ), for example using ravel().
  y = column_or_1d(y, warn=True)
/usr/local/lib/python3.6/dist-packages/sklearn/utils/validation.py:761: DataConversionWarning: A column-vector y was passed when a 1d array was expected. Please change the shape of y to (n_samples, ), for example using ravel().
  y = column_or_1d(y, warn=True)
/usr/local/lib/python3.6/dist-packages/sklearn/model_selection/_search.py:841: DeprecationWarning: The default of the `iid` parameter will change from True to False in version 0.22 and will be removed in 0.24. This will change numeric results when test-set sizes are unequal.
  DeprecationWarning)
/usr/local/lib/python3.6/dist-packages/sklearn/utils/validation.py:761: DataConversionWarning: A column-vector y was passed when a 1d array was expected. Please change the shape of y to (n_samples, ), for example using ravel().
  y = column_or_1d(y, warn=True)
</pre>
</div>
</div>

<div class="output_area">

    <div class="prompt output_prompt">Out[102]:</div>




<div class="output_text output_subarea output_execute_result">
<pre>GridSearchCV(cv=&#39;warn&#39;, error_score=&#39;raise-deprecating&#39;,
       estimator=AdaBoostRegressor(base_estimator=LinearRegression(copy_X=True, fit_intercept=True, n_jobs=None,
         normalize=False),
         learning_rate=1.0, loss=&#39;linear&#39;, n_estimators=50,
         random_state=None),
       fit_params=None, iid=&#39;warn&#39;, n_jobs=None,
       param_grid={&#39;n_estimators&#39;: [40, 50, 70, 100, 150, 200], &#39;learning_rate&#39;: [1.0, 0.9, 0.8, 0.7, 0.6, 0.5]},
       pre_dispatch=&#39;2*n_jobs&#39;, refit=True, return_train_score=&#39;warn&#39;,
       scoring=None, verbose=0)</pre>
</div>

</div>

</div>
</div>

</div>
<div class="cell border-box-sizing code_cell rendered">
<div class="input">
<div class="prompt input_prompt">In&nbsp;[106]:</div>
<div class="inner_cell">
    <div class="input_area">
<div class=" highlight hl-ipython3"><pre><span></span><span class="n">regressor_ada_best</span><span class="o">.</span><span class="n">best_params_</span>
</pre></div>

    </div>
</div>
</div>

<div class="output_wrapper">
<div class="output">


<div class="output_area">

    <div class="prompt output_prompt">Out[106]:</div>




<div class="output_text output_subarea output_execute_result">
<pre>{&#39;learning_rate&#39;: 1.0, &#39;n_estimators&#39;: 200}</pre>
</div>

</div>

</div>
</div>

</div>
<div class="cell border-box-sizing code_cell rendered">
<div class="input">
<div class="prompt input_prompt">In&nbsp;[109]:</div>
<div class="inner_cell">
    <div class="input_area">
<div class=" highlight hl-ipython3"><pre><span></span><span class="n">regressor_ada</span> <span class="o">=</span> <span class="n">AdaBoostRegressor</span><span class="p">(</span><span class="n">n_estimators</span><span class="o">=</span><span class="mi">200</span><span class="p">)</span>
<span class="n">regressor_ada</span><span class="o">.</span><span class="n">fit</span><span class="p">(</span><span class="n">X_train</span><span class="p">,</span> <span class="n">y_train</span><span class="p">)</span>
<span class="n">regressor_ada</span><span class="o">.</span><span class="n">score</span><span class="p">(</span><span class="n">X_test</span><span class="p">,</span><span class="n">y_test</span><span class="p">)</span>
</pre></div>

    </div>
</div>
</div>

<div class="output_wrapper">
<div class="output">


<div class="output_area">

    <div class="prompt"></div>


<div class="output_subarea output_stream output_stderr output_text">
<pre>/usr/local/lib/python3.6/dist-packages/sklearn/utils/validation.py:761: DataConversionWarning: A column-vector y was passed when a 1d array was expected. Please change the shape of y to (n_samples, ), for example using ravel().
  y = column_or_1d(y, warn=True)
</pre>
</div>
</div>

<div class="output_area">

    <div class="prompt output_prompt">Out[109]:</div>




<div class="output_text output_subarea output_execute_result">
<pre>0.49078434974719043</pre>
</div>

</div>

</div>
</div>

</div>
<div class="cell border-box-sizing text_cell rendered"><div class="prompt input_prompt">
</div><div class="inner_cell">
<div class="text_cell_render border-box-sizing rendered_html">
<p>---&gt; Même avec beaucoup plus d'estimateurs, nous n'arrivons pas au score de XGBoost</p>

</div>
</div>
</div>
<div class="cell border-box-sizing code_cell rendered">
<div class="input">
<div class="prompt input_prompt">In&nbsp;[0]:</div>
<div class="inner_cell">
    <div class="input_area">
<div class=" highlight hl-ipython3"><pre><span></span>
</pre></div>

    </div>
</div>
</div>

</div>
 


</div>

      </div>
  </body>

  <!-- jQuery CDN - Slim version (=without AJAX) -->
  <script src="https://code.jquery.com/jquery-3.3.1.slim.min.js" integrity="sha384-q8i/X+965DzO0rT7abK41JStQIAqVgRVzpbzo5smXKp4YfRvH+8abtTE1Pi6jizo" crossorigin="anonymous"></script>
  <script src="/static/animation.js"></script>

</html>