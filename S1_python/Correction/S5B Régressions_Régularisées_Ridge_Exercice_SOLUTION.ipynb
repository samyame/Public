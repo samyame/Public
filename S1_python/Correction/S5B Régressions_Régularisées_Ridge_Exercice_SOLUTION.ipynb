{
  "nbformat": 4,
  "nbformat_minor": 0,
  "metadata": {
    "colab": {
      "name": "Copy of Régressions Régularisées - Ridge Exercice SOLUTION.ipynb",
      "provenance": [],
      "collapsed_sections": []
    },
    "kernelspec": {
      "name": "python3",
      "display_name": "Python 3"
    }
  },
  "cells": [
    {
      "cell_type": "markdown",
      "metadata": {
        "id": "-TrUvmyK-GpM",
        "colab_type": "text"
      },
      "source": [
        "# Régression Régularisées : RIDGE\n"
      ]
    },
    {
      "cell_type": "markdown",
      "metadata": {
        "id": "GhO_GXwS-XDS",
        "colab_type": "text"
      },
      "source": [
        "0. Importez les libairies usuelles "
      ]
    },
    {
      "cell_type": "code",
      "metadata": {
        "id": "nmzm6Lsf-ZvO",
        "colab_type": "code",
        "colab": {}
      },
      "source": [
        "import pandas as pd \n",
        "import numpy as np \n",
        "import matplotlib.pyplot as plt \n",
        "import seaborn as sns"
      ],
      "execution_count": 0,
      "outputs": []
    },
    {
      "cell_type": "markdown",
      "metadata": {
        "id": "t-4QtpM5-LW4",
        "colab_type": "text"
      },
      "source": [
        "  1. Chargez en mémoire le dataset des prix des logements à boston grâce à la commande :\n",
        "  \n",
        " \n",
        "```\n",
        "from sklearn.datasets import load_boston\n",
        "boston=load_boston()\n",
        "boston_df=pd.DataFrame(boston.data,columns=boston.feature_names)\n",
        "```"
      ]
    },
    {
      "cell_type": "code",
      "metadata": {
        "id": "iBuo8tZ0-BsL",
        "colab_type": "code",
        "outputId": "75e21393-3c12-43d2-a3ab-cef524a734ef",
        "colab": {
          "base_uri": "https://localhost:8080/",
          "height": 206
        }
      },
      "source": [
        "from sklearn.datasets import load_boston\n",
        "boston=load_boston()\n",
        "boston_df=pd.DataFrame(boston.data,columns=boston.feature_names)\n",
        "boston_df.head()"
      ],
      "execution_count": 42,
      "outputs": [
        {
          "output_type": "execute_result",
          "data": {
            "text/html": [
              "<div>\n",
              "<style scoped>\n",
              "    .dataframe tbody tr th:only-of-type {\n",
              "        vertical-align: middle;\n",
              "    }\n",
              "\n",
              "    .dataframe tbody tr th {\n",
              "        vertical-align: top;\n",
              "    }\n",
              "\n",
              "    .dataframe thead th {\n",
              "        text-align: right;\n",
              "    }\n",
              "</style>\n",
              "<table border=\"1\" class=\"dataframe\">\n",
              "  <thead>\n",
              "    <tr style=\"text-align: right;\">\n",
              "      <th></th>\n",
              "      <th>CRIM</th>\n",
              "      <th>ZN</th>\n",
              "      <th>INDUS</th>\n",
              "      <th>CHAS</th>\n",
              "      <th>NOX</th>\n",
              "      <th>RM</th>\n",
              "      <th>AGE</th>\n",
              "      <th>DIS</th>\n",
              "      <th>RAD</th>\n",
              "      <th>TAX</th>\n",
              "      <th>PTRATIO</th>\n",
              "      <th>B</th>\n",
              "      <th>LSTAT</th>\n",
              "    </tr>\n",
              "  </thead>\n",
              "  <tbody>\n",
              "    <tr>\n",
              "      <th>0</th>\n",
              "      <td>0.00632</td>\n",
              "      <td>18.0</td>\n",
              "      <td>2.31</td>\n",
              "      <td>0.0</td>\n",
              "      <td>0.538</td>\n",
              "      <td>6.575</td>\n",
              "      <td>65.2</td>\n",
              "      <td>4.0900</td>\n",
              "      <td>1.0</td>\n",
              "      <td>296.0</td>\n",
              "      <td>15.3</td>\n",
              "      <td>396.90</td>\n",
              "      <td>4.98</td>\n",
              "    </tr>\n",
              "    <tr>\n",
              "      <th>1</th>\n",
              "      <td>0.02731</td>\n",
              "      <td>0.0</td>\n",
              "      <td>7.07</td>\n",
              "      <td>0.0</td>\n",
              "      <td>0.469</td>\n",
              "      <td>6.421</td>\n",
              "      <td>78.9</td>\n",
              "      <td>4.9671</td>\n",
              "      <td>2.0</td>\n",
              "      <td>242.0</td>\n",
              "      <td>17.8</td>\n",
              "      <td>396.90</td>\n",
              "      <td>9.14</td>\n",
              "    </tr>\n",
              "    <tr>\n",
              "      <th>2</th>\n",
              "      <td>0.02729</td>\n",
              "      <td>0.0</td>\n",
              "      <td>7.07</td>\n",
              "      <td>0.0</td>\n",
              "      <td>0.469</td>\n",
              "      <td>7.185</td>\n",
              "      <td>61.1</td>\n",
              "      <td>4.9671</td>\n",
              "      <td>2.0</td>\n",
              "      <td>242.0</td>\n",
              "      <td>17.8</td>\n",
              "      <td>392.83</td>\n",
              "      <td>4.03</td>\n",
              "    </tr>\n",
              "    <tr>\n",
              "      <th>3</th>\n",
              "      <td>0.03237</td>\n",
              "      <td>0.0</td>\n",
              "      <td>2.18</td>\n",
              "      <td>0.0</td>\n",
              "      <td>0.458</td>\n",
              "      <td>6.998</td>\n",
              "      <td>45.8</td>\n",
              "      <td>6.0622</td>\n",
              "      <td>3.0</td>\n",
              "      <td>222.0</td>\n",
              "      <td>18.7</td>\n",
              "      <td>394.63</td>\n",
              "      <td>2.94</td>\n",
              "    </tr>\n",
              "    <tr>\n",
              "      <th>4</th>\n",
              "      <td>0.06905</td>\n",
              "      <td>0.0</td>\n",
              "      <td>2.18</td>\n",
              "      <td>0.0</td>\n",
              "      <td>0.458</td>\n",
              "      <td>7.147</td>\n",
              "      <td>54.2</td>\n",
              "      <td>6.0622</td>\n",
              "      <td>3.0</td>\n",
              "      <td>222.0</td>\n",
              "      <td>18.7</td>\n",
              "      <td>396.90</td>\n",
              "      <td>5.33</td>\n",
              "    </tr>\n",
              "  </tbody>\n",
              "</table>\n",
              "</div>"
            ],
            "text/plain": [
              "      CRIM    ZN  INDUS  CHAS    NOX  ...  RAD    TAX  PTRATIO       B  LSTAT\n",
              "0  0.00632  18.0   2.31   0.0  0.538  ...  1.0  296.0     15.3  396.90   4.98\n",
              "1  0.02731   0.0   7.07   0.0  0.469  ...  2.0  242.0     17.8  396.90   9.14\n",
              "2  0.02729   0.0   7.07   0.0  0.469  ...  2.0  242.0     17.8  392.83   4.03\n",
              "3  0.03237   0.0   2.18   0.0  0.458  ...  3.0  222.0     18.7  394.63   2.94\n",
              "4  0.06905   0.0   2.18   0.0  0.458  ...  3.0  222.0     18.7  396.90   5.33\n",
              "\n",
              "[5 rows x 13 columns]"
            ]
          },
          "metadata": {
            "tags": []
          },
          "execution_count": 42
        }
      ]
    },
    {
      "cell_type": "code",
      "metadata": {
        "id": "TpGM2HVoryVP",
        "colab_type": "code",
        "outputId": "3cb25045-6bc5-4ef7-cd73-fbe6fa3d45f0",
        "colab": {
          "base_uri": "https://localhost:8080/",
          "height": 965
        }
      },
      "source": [
        "print(boston.DESCR)"
      ],
      "execution_count": 43,
      "outputs": [
        {
          "output_type": "stream",
          "text": [
            ".. _boston_dataset:\n",
            "\n",
            "Boston house prices dataset\n",
            "---------------------------\n",
            "\n",
            "**Data Set Characteristics:**  \n",
            "\n",
            "    :Number of Instances: 506 \n",
            "\n",
            "    :Number of Attributes: 13 numeric/categorical predictive. Median Value (attribute 14) is usually the target.\n",
            "\n",
            "    :Attribute Information (in order):\n",
            "        - CRIM     per capita crime rate by town\n",
            "        - ZN       proportion of residential land zoned for lots over 25,000 sq.ft.\n",
            "        - INDUS    proportion of non-retail business acres per town\n",
            "        - CHAS     Charles River dummy variable (= 1 if tract bounds river; 0 otherwise)\n",
            "        - NOX      nitric oxides concentration (parts per 10 million)\n",
            "        - RM       average number of rooms per dwelling\n",
            "        - AGE      proportion of owner-occupied units built prior to 1940\n",
            "        - DIS      weighted distances to five Boston employment centres\n",
            "        - RAD      index of accessibility to radial highways\n",
            "        - TAX      full-value property-tax rate per $10,000\n",
            "        - PTRATIO  pupil-teacher ratio by town\n",
            "        - B        1000(Bk - 0.63)^2 where Bk is the proportion of blacks by town\n",
            "        - LSTAT    % lower status of the population\n",
            "        - MEDV     Median value of owner-occupied homes in $1000's\n",
            "\n",
            "    :Missing Attribute Values: None\n",
            "\n",
            "    :Creator: Harrison, D. and Rubinfeld, D.L.\n",
            "\n",
            "This is a copy of UCI ML housing dataset.\n",
            "https://archive.ics.uci.edu/ml/machine-learning-databases/housing/\n",
            "\n",
            "\n",
            "This dataset was taken from the StatLib library which is maintained at Carnegie Mellon University.\n",
            "\n",
            "The Boston house-price data of Harrison, D. and Rubinfeld, D.L. 'Hedonic\n",
            "prices and the demand for clean air', J. Environ. Economics & Management,\n",
            "vol.5, 81-102, 1978.   Used in Belsley, Kuh & Welsch, 'Regression diagnostics\n",
            "...', Wiley, 1980.   N.B. Various transformations are used in the table on\n",
            "pages 244-261 of the latter.\n",
            "\n",
            "The Boston house-price data has been used in many machine learning papers that address regression\n",
            "problems.   \n",
            "     \n",
            ".. topic:: References\n",
            "\n",
            "   - Belsley, Kuh & Welsch, 'Regression diagnostics: Identifying Influential Data and Sources of Collinearity', Wiley, 1980. 244-261.\n",
            "   - Quinlan,R. (1993). Combining Instance-Based and Model-Based Learning. In Proceedings on the Tenth International Conference of Machine Learning, 236-243, University of Massachusetts, Amherst. Morgan Kaufmann.\n",
            "\n"
          ],
          "name": "stdout"
        }
      ]
    },
    {
      "cell_type": "code",
      "metadata": {
        "id": "nw_c1ROJr8rx",
        "colab_type": "code",
        "outputId": "72d5bfba-8aef-4f1e-94cd-02ea78689133",
        "colab": {
          "base_uri": "https://localhost:8080/",
          "height": 199
        }
      },
      "source": [
        "boston_df[\"RAD\"].value_counts()"
      ],
      "execution_count": 44,
      "outputs": [
        {
          "output_type": "execute_result",
          "data": {
            "text/plain": [
              "24.0    132\n",
              "5.0     115\n",
              "4.0     110\n",
              "3.0      38\n",
              "6.0      26\n",
              "8.0      24\n",
              "2.0      24\n",
              "1.0      20\n",
              "7.0      17\n",
              "Name: RAD, dtype: int64"
            ]
          },
          "metadata": {
            "tags": []
          },
          "execution_count": 44
        }
      ]
    },
    {
      "cell_type": "markdown",
      "metadata": {
        "id": "whqaTzyw-lpr",
        "colab_type": "text"
      },
      "source": [
        "  2. Créez un dataframe contenant les variables explicatives et un autre contenant uniquement la variable cible qui est le prix des maisons"
      ]
    },
    {
      "cell_type": "code",
      "metadata": {
        "id": "zoFLJeNK-gxL",
        "colab_type": "code",
        "outputId": "56b40bb0-be17-4c76-86d9-2c9c3a4980aa",
        "colab": {
          "base_uri": "https://localhost:8080/",
          "height": 206
        }
      },
      "source": [
        "y = pd.DataFrame(boston.target, columns=[\"prices\"])\n",
        "y.head()"
      ],
      "execution_count": 45,
      "outputs": [
        {
          "output_type": "execute_result",
          "data": {
            "text/html": [
              "<div>\n",
              "<style scoped>\n",
              "    .dataframe tbody tr th:only-of-type {\n",
              "        vertical-align: middle;\n",
              "    }\n",
              "\n",
              "    .dataframe tbody tr th {\n",
              "        vertical-align: top;\n",
              "    }\n",
              "\n",
              "    .dataframe thead th {\n",
              "        text-align: right;\n",
              "    }\n",
              "</style>\n",
              "<table border=\"1\" class=\"dataframe\">\n",
              "  <thead>\n",
              "    <tr style=\"text-align: right;\">\n",
              "      <th></th>\n",
              "      <th>prices</th>\n",
              "    </tr>\n",
              "  </thead>\n",
              "  <tbody>\n",
              "    <tr>\n",
              "      <th>0</th>\n",
              "      <td>24.0</td>\n",
              "    </tr>\n",
              "    <tr>\n",
              "      <th>1</th>\n",
              "      <td>21.6</td>\n",
              "    </tr>\n",
              "    <tr>\n",
              "      <th>2</th>\n",
              "      <td>34.7</td>\n",
              "    </tr>\n",
              "    <tr>\n",
              "      <th>3</th>\n",
              "      <td>33.4</td>\n",
              "    </tr>\n",
              "    <tr>\n",
              "      <th>4</th>\n",
              "      <td>36.2</td>\n",
              "    </tr>\n",
              "  </tbody>\n",
              "</table>\n",
              "</div>"
            ],
            "text/plain": [
              "   prices\n",
              "0    24.0\n",
              "1    21.6\n",
              "2    34.7\n",
              "3    33.4\n",
              "4    36.2"
            ]
          },
          "metadata": {
            "tags": []
          },
          "execution_count": 45
        }
      ]
    },
    {
      "cell_type": "markdown",
      "metadata": {
        "id": "lC9PW2vu_h0v",
        "colab_type": "text"
      },
      "source": [
        "3. Utilisez la commande `train_test_split ` du package `sklearn.model_selection`  afin de créer un échantillon d’entraînement contenant 70% des observations et un échantillon test contenant 30% des observations."
      ]
    },
    {
      "cell_type": "code",
      "metadata": {
        "id": "9xdJd9sz_fOX",
        "colab_type": "code",
        "colab": {}
      },
      "source": [
        "from sklearn.model_selection import train_test_split\n",
        "X_train, X_test, y_train, y_test = train_test_split(boston_df, y, test_size = 0.3)\n",
        "\n",
        "\n",
        "from sklearn.preprocessing import StandardScaler\n",
        "\n",
        "sc = StandardScaler()\n",
        "\n",
        "sc_param = sc.fit(X_train)\n",
        "X_train = pd.DataFrame(sc_param.transform(X_train))\n",
        "\n",
        "X_test = sc_param.transform(X_test)"
      ],
      "execution_count": 0,
      "outputs": []
    },
    {
      "cell_type": "code",
      "metadata": {
        "id": "plKteAqaycVN",
        "colab_type": "code",
        "colab": {
          "base_uri": "https://localhost:8080/",
          "height": 35
        },
        "outputId": "af816310-4e91-455a-de30-f3669398bb96"
      },
      "source": [
        "type(sc_param)"
      ],
      "execution_count": 47,
      "outputs": [
        {
          "output_type": "execute_result",
          "data": {
            "text/plain": [
              "sklearn.preprocessing._data.StandardScaler"
            ]
          },
          "metadata": {
            "tags": []
          },
          "execution_count": 47
        }
      ]
    },
    {
      "cell_type": "markdown",
      "metadata": {
        "id": "vPGXur4x_qve",
        "colab_type": "text"
      },
      "source": [
        "4. Générer un modèle de régression linéaire classique, un modèle ridge où alpha vaut 0.01 et un modèle ridge où alpha vaut 100."
      ]
    },
    {
      "cell_type": "code",
      "metadata": {
        "id": "CPCIHapL_mze",
        "colab_type": "code",
        "colab": {}
      },
      "source": [
        "from sklearn.linear_model import LinearRegression\n",
        "from sklearn.linear_model import Ridge\n",
        "\n",
        "linear_regressor = LinearRegression()\n",
        "\n",
        "ridge_regressor_small_alpha = Ridge(alpha = 0.01)\n",
        "\n",
        "ridge_regressor_large_alpha = Ridge(alpha = 100)"
      ],
      "execution_count": 0,
      "outputs": []
    },
    {
      "cell_type": "markdown",
      "metadata": {
        "id": "AEYP5etM_05G",
        "colab_type": "text"
      },
      "source": [
        "5. Entraînez ces modèles sur les données sur les données d’apprentissage"
      ]
    },
    {
      "cell_type": "code",
      "metadata": {
        "id": "0IQdvW5b_wUb",
        "colab_type": "code",
        "outputId": "7c4017e0-21d0-4820-a6fe-68779bf3b65a",
        "colab": {
          "base_uri": "https://localhost:8080/",
          "height": 53
        }
      },
      "source": [
        "linear_regressor.fit(X_train, y_train)\n",
        "\n",
        "ridge_regressor_small_alpha.fit(X_train, y_train)\n",
        "\n",
        "ridge_regressor_large_alpha.fit(X_train, y_train)"
      ],
      "execution_count": 48,
      "outputs": [
        {
          "output_type": "execute_result",
          "data": {
            "text/plain": [
              "Ridge(alpha=100, copy_X=True, fit_intercept=True, max_iter=None,\n",
              "      normalize=False, random_state=None, solver='auto', tol=0.001)"
            ]
          },
          "metadata": {
            "tags": []
          },
          "execution_count": 48
        }
      ]
    },
    {
      "cell_type": "markdown",
      "metadata": {
        "id": "rxX35B6j_4iE",
        "colab_type": "text"
      },
      "source": [
        "6. Produisez les scores de performance de ces trois modèles sur l’échantillon d’apprentissage et de validation grâce à l’attribut .score"
      ]
    },
    {
      "cell_type": "code",
      "metadata": {
        "id": "SlbgdO2y_2LA",
        "colab_type": "code",
        "outputId": "a816f78d-7ae8-4f2f-9576-7f314fee23a4",
        "colab": {
          "base_uri": "https://localhost:8080/",
          "height": 72
        }
      },
      "source": [
        "print(\"Linear Regression score : {}\".format(linear_regressor.score(X_test, y_test)))\n",
        "print(\"Ridge with small Alpha score : {}\".format(ridge_regressor_small_alpha.score(X_test, y_test)))\n",
        "print(\"Ridge with large Alpha score : {}\".format(ridge_regressor_large_alpha.score(X_test,y_test)))"
      ],
      "execution_count": 49,
      "outputs": [
        {
          "output_type": "stream",
          "text": [
            "Linear Regression score : 0.7086654326886886\n",
            "Ridge with small Alpha score : 0.7086759086367327\n",
            "Ridge with large Alpha score : 0.7153496277697052\n"
          ],
          "name": "stdout"
        }
      ]
    },
    {
      "cell_type": "markdown",
      "metadata": {
        "id": "y-FCEvIUASw9",
        "colab_type": "text"
      },
      "source": [
        "7. Comparez les coefficients des trois modèle à l’aide d’un graphique, que remarquez vous ?"
      ]
    },
    {
      "cell_type": "code",
      "metadata": {
        "id": "Esu1UvYCj82W",
        "colab_type": "code",
        "colab": {
          "base_uri": "https://localhost:8080/",
          "height": 72
        },
        "outputId": "165fc7aa-fd6f-4a5b-b5cf-7fe4536d53d7"
      },
      "source": [
        "linear_regressor.coef_"
      ],
      "execution_count": 50,
      "outputs": [
        {
          "output_type": "execute_result",
          "data": {
            "text/plain": [
              "array([[-1.06731016,  1.32554389,  0.4001703 ,  0.77484996, -2.35546267,\n",
              "         3.0152262 ,  0.42750609, -3.13694686,  2.84142305, -1.93820746,\n",
              "        -2.07391835,  0.90914005, -3.89851311]])"
            ]
          },
          "metadata": {
            "tags": []
          },
          "execution_count": 50
        }
      ]
    },
    {
      "cell_type": "code",
      "metadata": {
        "id": "VuBLUJEnzw1j",
        "colab_type": "code",
        "colab": {
          "base_uri": "https://localhost:8080/",
          "height": 35
        },
        "outputId": "d66dc6f7-d23c-4fa6-edf5-d2065b1dded5"
      },
      "source": [
        "type(linear_regressor.coef_)"
      ],
      "execution_count": 51,
      "outputs": [
        {
          "output_type": "execute_result",
          "data": {
            "text/plain": [
              "numpy.ndarray"
            ]
          },
          "metadata": {
            "tags": []
          },
          "execution_count": 51
        }
      ]
    },
    {
      "cell_type": "code",
      "metadata": {
        "id": "MapKiy8yIWO7",
        "colab_type": "code",
        "outputId": "95ad8e5e-dfe2-4375-a279-65c627a5226a",
        "colab": {
          "base_uri": "https://localhost:8080/",
          "height": 72
        }
      },
      "source": [
        "linear_regressor.coef_[0]"
      ],
      "execution_count": 52,
      "outputs": [
        {
          "output_type": "execute_result",
          "data": {
            "text/plain": [
              "array([-1.06731016,  1.32554389,  0.4001703 ,  0.77484996, -2.35546267,\n",
              "        3.0152262 ,  0.42750609, -3.13694686,  2.84142305, -1.93820746,\n",
              "       -2.07391835,  0.90914005, -3.89851311])"
            ]
          },
          "metadata": {
            "tags": []
          },
          "execution_count": 52
        }
      ]
    },
    {
      "cell_type": "code",
      "metadata": {
        "id": "s9Cw09XrAKOG",
        "colab_type": "code",
        "outputId": "8e7ef6d5-dda5-4a01-d6c9-3fc79a27a42b",
        "colab": {
          "base_uri": "https://localhost:8080/",
          "height": 457
        }
      },
      "source": [
        "coef = pd.DataFrame() # on créé un dataframe pour analyser les coefficients\n",
        "coef['features'] = boston_df.columns\n",
        "coef['coef_linear_regressor'] = linear_regressor.coef_[0]\n",
        "coef['coef_abs_linear_regressor'] = np.abs(linear_regressor.coef_[0])\n",
        "coef['coef_ridge_small_alpha'] = ridge_regressor_small_alpha.coef_[0]\n",
        "coef['coef_abs_ridge_small_alpha'] = np.abs(ridge_regressor_small_alpha.coef_[0])\n",
        "coef['coef_ridge_large_alpha'] = ridge_regressor_large_alpha.coef_[0]\n",
        "coef['coef_abs_ridge_large_alpha'] = np.abs(ridge_regressor_large_alpha.coef_[0])\n",
        "coef"
      ],
      "execution_count": 56,
      "outputs": [
        {
          "output_type": "execute_result",
          "data": {
            "text/html": [
              "<div>\n",
              "<style scoped>\n",
              "    .dataframe tbody tr th:only-of-type {\n",
              "        vertical-align: middle;\n",
              "    }\n",
              "\n",
              "    .dataframe tbody tr th {\n",
              "        vertical-align: top;\n",
              "    }\n",
              "\n",
              "    .dataframe thead th {\n",
              "        text-align: right;\n",
              "    }\n",
              "</style>\n",
              "<table border=\"1\" class=\"dataframe\">\n",
              "  <thead>\n",
              "    <tr style=\"text-align: right;\">\n",
              "      <th></th>\n",
              "      <th>features</th>\n",
              "      <th>coef_linear_regressor</th>\n",
              "      <th>coef_abs_linear_regressor</th>\n",
              "      <th>coef_ridge_small_alpha</th>\n",
              "      <th>coef_abs_ridge_small_alpha</th>\n",
              "      <th>coef_ridge_large_alpha</th>\n",
              "      <th>coef_abs_ridge_large_alpha</th>\n",
              "    </tr>\n",
              "  </thead>\n",
              "  <tbody>\n",
              "    <tr>\n",
              "      <th>0</th>\n",
              "      <td>CRIM</td>\n",
              "      <td>-1.067310</td>\n",
              "      <td>1.067310</td>\n",
              "      <td>-1.067174</td>\n",
              "      <td>1.067174</td>\n",
              "      <td>-0.690068</td>\n",
              "      <td>0.690068</td>\n",
              "    </tr>\n",
              "    <tr>\n",
              "      <th>1</th>\n",
              "      <td>ZN</td>\n",
              "      <td>1.325544</td>\n",
              "      <td>1.325544</td>\n",
              "      <td>1.325196</td>\n",
              "      <td>1.325196</td>\n",
              "      <td>0.572378</td>\n",
              "      <td>0.572378</td>\n",
              "    </tr>\n",
              "    <tr>\n",
              "      <th>2</th>\n",
              "      <td>INDUS</td>\n",
              "      <td>0.400170</td>\n",
              "      <td>0.400170</td>\n",
              "      <td>0.399705</td>\n",
              "      <td>0.399705</td>\n",
              "      <td>-0.397792</td>\n",
              "      <td>0.397792</td>\n",
              "    </tr>\n",
              "    <tr>\n",
              "      <th>3</th>\n",
              "      <td>CHAS</td>\n",
              "      <td>0.774850</td>\n",
              "      <td>0.774850</td>\n",
              "      <td>0.774901</td>\n",
              "      <td>0.774901</td>\n",
              "      <td>0.747296</td>\n",
              "      <td>0.747296</td>\n",
              "    </tr>\n",
              "    <tr>\n",
              "      <th>4</th>\n",
              "      <td>NOX</td>\n",
              "      <td>-2.355463</td>\n",
              "      <td>2.355463</td>\n",
              "      <td>-2.355026</td>\n",
              "      <td>2.355026</td>\n",
              "      <td>-0.877864</td>\n",
              "      <td>0.877864</td>\n",
              "    </tr>\n",
              "    <tr>\n",
              "      <th>5</th>\n",
              "      <td>RM</td>\n",
              "      <td>3.015226</td>\n",
              "      <td>3.015226</td>\n",
              "      <td>3.015382</td>\n",
              "      <td>3.015382</td>\n",
              "      <td>2.982508</td>\n",
              "      <td>2.982508</td>\n",
              "    </tr>\n",
              "    <tr>\n",
              "      <th>6</th>\n",
              "      <td>AGE</td>\n",
              "      <td>0.427506</td>\n",
              "      <td>0.427506</td>\n",
              "      <td>0.427356</td>\n",
              "      <td>0.427356</td>\n",
              "      <td>0.017653</td>\n",
              "      <td>0.017653</td>\n",
              "    </tr>\n",
              "    <tr>\n",
              "      <th>7</th>\n",
              "      <td>DIS</td>\n",
              "      <td>-3.136947</td>\n",
              "      <td>3.136947</td>\n",
              "      <td>-3.136494</td>\n",
              "      <td>3.136494</td>\n",
              "      <td>-1.355249</td>\n",
              "      <td>1.355249</td>\n",
              "    </tr>\n",
              "    <tr>\n",
              "      <th>8</th>\n",
              "      <td>RAD</td>\n",
              "      <td>2.841423</td>\n",
              "      <td>2.841423</td>\n",
              "      <td>2.840127</td>\n",
              "      <td>2.840127</td>\n",
              "      <td>0.562938</td>\n",
              "      <td>0.562938</td>\n",
              "    </tr>\n",
              "    <tr>\n",
              "      <th>9</th>\n",
              "      <td>TAX</td>\n",
              "      <td>-1.938207</td>\n",
              "      <td>1.938207</td>\n",
              "      <td>-1.936909</td>\n",
              "      <td>1.936909</td>\n",
              "      <td>-0.337850</td>\n",
              "      <td>0.337850</td>\n",
              "    </tr>\n",
              "    <tr>\n",
              "      <th>10</th>\n",
              "      <td>PTRATIO</td>\n",
              "      <td>-2.073918</td>\n",
              "      <td>2.073918</td>\n",
              "      <td>-2.073817</td>\n",
              "      <td>2.073817</td>\n",
              "      <td>-1.585980</td>\n",
              "      <td>1.585980</td>\n",
              "    </tr>\n",
              "    <tr>\n",
              "      <th>11</th>\n",
              "      <td>B</td>\n",
              "      <td>0.909140</td>\n",
              "      <td>0.909140</td>\n",
              "      <td>0.909150</td>\n",
              "      <td>0.909150</td>\n",
              "      <td>0.808339</td>\n",
              "      <td>0.808339</td>\n",
              "    </tr>\n",
              "    <tr>\n",
              "      <th>12</th>\n",
              "      <td>LSTAT</td>\n",
              "      <td>-3.898513</td>\n",
              "      <td>3.898513</td>\n",
              "      <td>-3.898273</td>\n",
              "      <td>3.898273</td>\n",
              "      <td>-2.807073</td>\n",
              "      <td>2.807073</td>\n",
              "    </tr>\n",
              "  </tbody>\n",
              "</table>\n",
              "</div>"
            ],
            "text/plain": [
              "   features  ...  coef_abs_ridge_large_alpha\n",
              "0      CRIM  ...                    0.690068\n",
              "1        ZN  ...                    0.572378\n",
              "2     INDUS  ...                    0.397792\n",
              "3      CHAS  ...                    0.747296\n",
              "4       NOX  ...                    0.877864\n",
              "5        RM  ...                    2.982508\n",
              "6       AGE  ...                    0.017653\n",
              "7       DIS  ...                    1.355249\n",
              "8       RAD  ...                    0.562938\n",
              "9       TAX  ...                    0.337850\n",
              "10  PTRATIO  ...                    1.585980\n",
              "11        B  ...                    0.808339\n",
              "12    LSTAT  ...                    2.807073\n",
              "\n",
              "[13 rows x 7 columns]"
            ]
          },
          "metadata": {
            "tags": []
          },
          "execution_count": 56
        }
      ]
    },
    {
      "cell_type": "code",
      "metadata": {
        "id": "cJvQCAnfAWdm",
        "colab_type": "code",
        "outputId": "39b037fe-f872-44a0-8475-a845f7de5014",
        "colab": {
          "base_uri": "https://localhost:8080/",
          "height": 624
        }
      },
      "source": [
        "perf_ridge_large_alpha = pd.DataFrame({\"params\": ridge_regressor_large_alpha.coef_[0], \n",
        "                                       \"model\": \"ridge Alpha = 100\", \n",
        "                                       \"index\": range(0, len(boston_df.columns))})\n",
        "\n",
        "perf_lin = pd.DataFrame({\"params\": linear_regressor.coef_[0], \n",
        "                                       \"model\": \"linear\", \n",
        "                                       \"index\": range(0, len(boston_df.columns))})\n",
        "\n",
        "perf_compar = pd.concat([perf_ridge_large_alpha,perf_lin])\n",
        "\n",
        "import seaborn as s\n",
        "plt.figure(figsize=(16, 10))\n",
        "s.pointplot(x = 'index',y = 'params',hue = 'model', data = perf_compar)"
      ],
      "execution_count": 58,
      "outputs": [
        {
          "output_type": "execute_result",
          "data": {
            "text/plain": [
              "<matplotlib.axes._subplots.AxesSubplot at 0x7fe7b5f6b550>"
            ]
          },
          "metadata": {
            "tags": []
          },
          "execution_count": 58
        },
        {
          "output_type": "display_data",
          "data": {
            "image/png": "[encoded data removed]",
            "text/plain": [
              "<Figure size 1152x720 with 1 Axes>"
            ]
          },
          "metadata": {
            "tags": [],
            "needs_background": "light"
          }
        }
      ]
    },
    {
      "cell_type": "markdown",
      "metadata": {
        "id": "1ty5SIgDAzbw",
        "colab_type": "text"
      },
      "source": [
        "---> On remarque qu'on a pu pénaliser le coefficient lié à la Feature NOX pour en limiter son impact"
      ]
    },
    {
      "cell_type": "markdown",
      "metadata": {
        "id": "orQ4-NbwF4QW",
        "colab_type": "text"
      },
      "source": [
        "8. Déterminez la valeur optimale de alpha (à 1 prêt) à l'aide de la fonction GridSearchCV"
      ]
    },
    {
      "cell_type": "code",
      "metadata": {
        "id": "5kjsUd-2AqMw",
        "colab_type": "code",
        "colab": {}
      },
      "source": [
        "from sklearn.model_selection import GridSearchCV\n",
        "\n",
        "params = {'alpha':np.arange(0,100,1)}\n",
        "ridge = Ridge()\n",
        "\n",
        "grid = GridSearchCV(ridge, param_grid=params, cv=10)\n",
        "\n",
        "grid_fit = grid.fit(X_train, y_train)"
      ],
      "execution_count": 0,
      "outputs": []
    },
    {
      "cell_type": "code",
      "metadata": {
        "id": "thVqCyJp3iO5",
        "colab_type": "code",
        "colab": {
          "base_uri": "https://localhost:8080/",
          "height": 126
        },
        "outputId": "2332b791-e1a0-4732-d70a-1cbe9899b4aa"
      },
      "source": [
        "params"
      ],
      "execution_count": 62,
      "outputs": [
        {
          "output_type": "execute_result",
          "data": {
            "text/plain": [
              "{'alpha': array([ 0,  1,  2,  3,  4,  5,  6,  7,  8,  9, 10, 11, 12, 13, 14, 15, 16,\n",
              "        17, 18, 19, 20, 21, 22, 23, 24, 25, 26, 27, 28, 29, 30, 31, 32, 33,\n",
              "        34, 35, 36, 37, 38, 39, 40, 41, 42, 43, 44, 45, 46, 47, 48, 49, 50,\n",
              "        51, 52, 53, 54, 55, 56, 57, 58, 59, 60, 61, 62, 63, 64, 65, 66, 67,\n",
              "        68, 69, 70, 71, 72, 73, 74, 75, 76, 77, 78, 79, 80, 81, 82, 83, 84,\n",
              "        85, 86, 87, 88, 89, 90, 91, 92, 93, 94, 95, 96, 97, 98, 99])}"
            ]
          },
          "metadata": {
            "tags": []
          },
          "execution_count": 62
        }
      ]
    },
    {
      "cell_type": "code",
      "metadata": {
        "id": "-Nb5OEGeEy4Y",
        "colab_type": "code",
        "outputId": "da49593e-3833-46df-a26d-efd38181fe3a",
        "colab": {
          "base_uri": "https://localhost:8080/",
          "height": 35
        }
      },
      "source": [
        "grid_fit.best_params_"
      ],
      "execution_count": 63,
      "outputs": [
        {
          "output_type": "execute_result",
          "data": {
            "text/plain": [
              "{'alpha': 24}"
            ]
          },
          "metadata": {
            "tags": []
          },
          "execution_count": 63
        }
      ]
    },
    {
      "cell_type": "code",
      "metadata": {
        "id": "l1bcTNJRF08C",
        "colab_type": "code",
        "colab": {
          "base_uri": "https://localhost:8080/",
          "height": 35
        },
        "outputId": "e2dcc816-2f14-4d46-e4eb-dfbb8fb60da3"
      },
      "source": [
        "grid_fit.best_estimator_.score(X_test,y_test)"
      ],
      "execution_count": 64,
      "outputs": [
        {
          "output_type": "execute_result",
          "data": {
            "text/plain": [
              "0.7179286597172698"
            ]
          },
          "metadata": {
            "tags": []
          },
          "execution_count": 64
        }
      ]
    },
    {
      "cell_type": "code",
      "metadata": {
        "id": "NiK9FZfdHoUa",
        "colab_type": "code",
        "colab": {
          "base_uri": "https://localhost:8080/",
          "height": 35
        },
        "outputId": "1815f3cc-18b1-4f30-9b29-34edb226d076"
      },
      "source": [
        "Ridge(alpha=0).fit(X_train,y_train).score(X_test,y_test)"
      ],
      "execution_count": 65,
      "outputs": [
        {
          "output_type": "execute_result",
          "data": {
            "text/plain": [
              "0.7086654326886883"
            ]
          },
          "metadata": {
            "tags": []
          },
          "execution_count": 65
        }
      ]
    },
    {
      "cell_type": "code",
      "metadata": {
        "id": "ShV_w_Nm5F2Y",
        "colab_type": "code",
        "colab": {
          "base_uri": "https://localhost:8080/",
          "height": 35
        },
        "outputId": "5297a7fa-b20f-427b-e597-fcbbbfb2dc37"
      },
      "source": [
        "Ridge(alpha=24).fit(X_train,y_train).score(X_test,y_test)"
      ],
      "execution_count": 67,
      "outputs": [
        {
          "output_type": "execute_result",
          "data": {
            "text/plain": [
              "0.7179286597172698"
            ]
          },
          "metadata": {
            "tags": []
          },
          "execution_count": 67
        }
      ]
    },
    {
      "cell_type": "code",
      "metadata": {
        "id": "D9-N7m6Z4yIE",
        "colab_type": "code",
        "colab": {
          "base_uri": "https://localhost:8080/",
          "height": 35
        },
        "outputId": "d2755735-9fbb-407f-c973-7016a0710d08"
      },
      "source": [
        "linear_regressor.score(X_test,y_test)"
      ],
      "execution_count": 66,
      "outputs": [
        {
          "output_type": "execute_result",
          "data": {
            "text/plain": [
              "0.7086654326886886"
            ]
          },
          "metadata": {
            "tags": []
          },
          "execution_count": 66
        }
      ]
    },
    {
      "cell_type": "code",
      "metadata": {
        "id": "pks93Ett4vEb",
        "colab_type": "code",
        "colab": {}
      },
      "source": [
        ""
      ],
      "execution_count": 0,
      "outputs": []
    },
    {
      "cell_type": "markdown",
      "metadata": {
        "id": "1WHU-7SHg-1V",
        "colab_type": "text"
      },
      "source": [
        "le modele avec (alpha = 8) est mieux que l'autre de (alpha = 0)"
      ]
    },
    {
      "cell_type": "code",
      "metadata": {
        "id": "-yAiAhW2H3SU",
        "colab_type": "code",
        "colab": {}
      },
      "source": [
        ""
      ],
      "execution_count": 0,
      "outputs": []
    },
    {
      "cell_type": "code",
      "metadata": {
        "id": "Qd7uy7xCVvBC",
        "colab_type": "code",
        "colab": {}
      },
      "source": [
        "from sklearn.model_selection import GridSearchCV\n",
        "\n",
        "params = {'alpha':np.arange(23,25,0.1)}\n",
        "ridge = Ridge()\n",
        "\n",
        "grid = GridSearchCV(ridge, param_grid=params, cv=10)\n",
        "grid_fit = grid.fit(X_train, y_train)"
      ],
      "execution_count": 0,
      "outputs": []
    },
    {
      "cell_type": "code",
      "metadata": {
        "id": "Tf0ewCfQo8iG",
        "colab_type": "code",
        "colab": {
          "base_uri": "https://localhost:8080/",
          "height": 35
        },
        "outputId": "b62d807d-81bb-4685-92bc-78611e0c27c2"
      },
      "source": [
        "grid_fit.best_params_"
      ],
      "execution_count": 69,
      "outputs": [
        {
          "output_type": "execute_result",
          "data": {
            "text/plain": [
              "{'alpha': 24.200000000000017}"
            ]
          },
          "metadata": {
            "tags": []
          },
          "execution_count": 69
        }
      ]
    },
    {
      "cell_type": "code",
      "metadata": {
        "id": "MJPvF0Cpo-gV",
        "colab_type": "code",
        "colab": {
          "base_uri": "https://localhost:8080/",
          "height": 35
        },
        "outputId": "77a84237-24d1-4b40-df79-39a740e99208"
      },
      "source": [
        "grid_fit.best_estimator_.score(X_test,y_test)"
      ],
      "execution_count": 35,
      "outputs": [
        {
          "output_type": "execute_result",
          "data": {
            "text/plain": [
              "0.6909057040710065"
            ]
          },
          "metadata": {
            "tags": []
          },
          "execution_count": 35
        }
      ]
    },
    {
      "cell_type": "code",
      "metadata": {
        "id": "yglJJqydpEU_",
        "colab_type": "code",
        "colab": {}
      },
      "source": [
        ""
      ],
      "execution_count": 0,
      "outputs": []
    },
    {
      "cell_type": "code",
      "metadata": {
        "id": "EzCHr2fTqKie",
        "colab_type": "code",
        "colab": {}
      },
      "source": [
        "from sklearn.model_selection import GridSearchCV\n",
        "\n",
        "params = {'alpha':np.arange(8.198,8.200,0.001)}\n",
        "ridge = Ridge()\n",
        "\n",
        "grid = GridSearchCV(ridge, param_grid=params, cv=10)\n",
        "grid_fit = grid.fit(X_train, y_train)"
      ],
      "execution_count": 0,
      "outputs": []
    },
    {
      "cell_type": "code",
      "metadata": {
        "id": "CJIGvOtrqZFv",
        "colab_type": "code",
        "colab": {
          "base_uri": "https://localhost:8080/",
          "height": 35
        },
        "outputId": "ff4b3a33-d39b-4c1b-b107-beccd1148d1f"
      },
      "source": [
        "grid_fit.best_params_"
      ],
      "execution_count": 39,
      "outputs": [
        {
          "output_type": "execute_result",
          "data": {
            "text/plain": [
              "{'alpha': 8.198}"
            ]
          },
          "metadata": {
            "tags": []
          },
          "execution_count": 39
        }
      ]
    },
    {
      "cell_type": "code",
      "metadata": {
        "id": "nhQGBFFCqaoH",
        "colab_type": "code",
        "colab": {
          "base_uri": "https://localhost:8080/",
          "height": 35
        },
        "outputId": "3d82088f-4e2a-4379-876b-fdfee63b0ea0"
      },
      "source": [
        "grid_fit.best_estimator_.score(X_test,y_test)"
      ],
      "execution_count": 40,
      "outputs": [
        {
          "output_type": "execute_result",
          "data": {
            "text/plain": [
              "0.6909056957526369"
            ]
          },
          "metadata": {
            "tags": []
          },
          "execution_count": 40
        }
      ]
    },
    {
      "cell_type": "code",
      "metadata": {
        "id": "gCMWrhB4qiRy",
        "colab_type": "code",
        "colab": {}
      },
      "source": [
        ""
      ],
      "execution_count": 0,
      "outputs": []
    }
  ]
}