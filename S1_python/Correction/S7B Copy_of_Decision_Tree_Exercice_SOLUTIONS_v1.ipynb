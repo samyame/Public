{
  "nbformat": 4,
  "nbformat_minor": 0,
  "metadata": {
    "colab": {
      "name": "Copy of Decision Tree - Exercice SOLUTIONS v1.ipynb",
      "provenance": [],
      "collapsed_sections": []
    },
    "kernelspec": {
      "name": "python3",
      "display_name": "Python 3"
    }
  },
  "cells": [
    {
      "cell_type": "markdown",
      "metadata": {
        "id": "13Yt4KPRH8g7",
        "colab_type": "text"
      },
      "source": [
        "# Exercice Decision Tree Classifier "
      ]
    },
    {
      "cell_type": "markdown",
      "metadata": {
        "id": "z014EyDGIBAc",
        "colab_type": "text"
      },
      "source": [
        "0. Importez les librairies usuelles "
      ]
    },
    {
      "cell_type": "code",
      "metadata": {
        "id": "VPu6-vADHYMo",
        "colab_type": "code",
        "colab": {
          "base_uri": "https://localhost:8080/",
          "height": 73
        },
        "outputId": "c2067055-63f5-4e92-aaab-2e19e53866bf"
      },
      "source": [
        "import numpy as np \n",
        "import pandas as pd \n",
        "import seaborn as sns\n",
        "import matplotlib.pyplot as plt"
      ],
      "execution_count": 1,
      "outputs": [
        {
          "output_type": "stream",
          "text": [
            "/usr/local/lib/python3.6/dist-packages/statsmodels/tools/_testing.py:19: FutureWarning: pandas.util.testing is deprecated. Use the functions in the public API at pandas.testing instead.\n",
            "  import pandas.util.testing as tm\n"
          ],
          "name": "stderr"
        }
      ]
    },
    {
      "cell_type": "markdown",
      "metadata": {
        "id": "jKrxNGWGIH1F",
        "colab_type": "text"
      },
      "source": [
        "1. Importez les data et les afficher"
      ]
    },
    {
      "cell_type": "code",
      "metadata": {
        "id": "XIvUu5q_IHPS",
        "colab_type": "code",
        "colab": {}
      },
      "source": [
        "dataset = pd.read_csv(\"bl.txt\")"
      ],
      "execution_count": 2,
      "outputs": []
    },
    {
      "cell_type": "code",
      "metadata": {
        "id": "Pq3KnKn8IO_B",
        "colab_type": "code",
        "colab": {
          "base_uri": "https://localhost:8080/",
          "height": 206
        },
        "outputId": "a2e35913-34b8-49b8-c9c8-b66285cd5ea7"
      },
      "source": [
        "dataset.head()"
      ],
      "execution_count": 3,
      "outputs": [
        {
          "output_type": "execute_result",
          "data": {
            "text/html": [
              "<div>\n",
              "<style scoped>\n",
              "    .dataframe tbody tr th:only-of-type {\n",
              "        vertical-align: middle;\n",
              "    }\n",
              "\n",
              "    .dataframe tbody tr th {\n",
              "        vertical-align: top;\n",
              "    }\n",
              "\n",
              "    .dataframe thead th {\n",
              "        text-align: right;\n",
              "    }\n",
              "</style>\n",
              "<table border=\"1\" class=\"dataframe\">\n",
              "  <thead>\n",
              "    <tr style=\"text-align: right;\">\n",
              "      <th></th>\n",
              "      <th>balance</th>\n",
              "      <th>left_weight</th>\n",
              "      <th>left_distance</th>\n",
              "      <th>right_weight</th>\n",
              "      <th>right_distance</th>\n",
              "    </tr>\n",
              "  </thead>\n",
              "  <tbody>\n",
              "    <tr>\n",
              "      <th>0</th>\n",
              "      <td>B</td>\n",
              "      <td>1</td>\n",
              "      <td>1</td>\n",
              "      <td>1</td>\n",
              "      <td>1</td>\n",
              "    </tr>\n",
              "    <tr>\n",
              "      <th>1</th>\n",
              "      <td>R</td>\n",
              "      <td>1</td>\n",
              "      <td>1</td>\n",
              "      <td>1</td>\n",
              "      <td>2</td>\n",
              "    </tr>\n",
              "    <tr>\n",
              "      <th>2</th>\n",
              "      <td>R</td>\n",
              "      <td>1</td>\n",
              "      <td>1</td>\n",
              "      <td>1</td>\n",
              "      <td>3</td>\n",
              "    </tr>\n",
              "    <tr>\n",
              "      <th>3</th>\n",
              "      <td>R</td>\n",
              "      <td>1</td>\n",
              "      <td>1</td>\n",
              "      <td>1</td>\n",
              "      <td>4</td>\n",
              "    </tr>\n",
              "    <tr>\n",
              "      <th>4</th>\n",
              "      <td>R</td>\n",
              "      <td>1</td>\n",
              "      <td>1</td>\n",
              "      <td>1</td>\n",
              "      <td>5</td>\n",
              "    </tr>\n",
              "  </tbody>\n",
              "</table>\n",
              "</div>"
            ],
            "text/plain": [
              "  balance  left_weight  left_distance  right_weight  right_distance\n",
              "0       B            1              1             1               1\n",
              "1       R            1              1             1               2\n",
              "2       R            1              1             1               3\n",
              "3       R            1              1             1               4\n",
              "4       R            1              1             1               5"
            ]
          },
          "metadata": {
            "tags": []
          },
          "execution_count": 3
        }
      ]
    },
    {
      "cell_type": "markdown",
      "metadata": {
        "id": "YgI641LYIbHm",
        "colab_type": "text"
      },
      "source": [
        "2. Afficher un résumé des statistiques descriptives"
      ]
    },
    {
      "cell_type": "code",
      "metadata": {
        "id": "iQBcXkAiIX31",
        "colab_type": "code",
        "colab": {
          "base_uri": "https://localhost:8080/",
          "height": 300
        },
        "outputId": "e9bad81f-fe37-4b16-e2d8-24f4d6ea24b6"
      },
      "source": [
        "dataset.describe()"
      ],
      "execution_count": 4,
      "outputs": [
        {
          "output_type": "execute_result",
          "data": {
            "text/html": [
              "<div>\n",
              "<style scoped>\n",
              "    .dataframe tbody tr th:only-of-type {\n",
              "        vertical-align: middle;\n",
              "    }\n",
              "\n",
              "    .dataframe tbody tr th {\n",
              "        vertical-align: top;\n",
              "    }\n",
              "\n",
              "    .dataframe thead th {\n",
              "        text-align: right;\n",
              "    }\n",
              "</style>\n",
              "<table border=\"1\" class=\"dataframe\">\n",
              "  <thead>\n",
              "    <tr style=\"text-align: right;\">\n",
              "      <th></th>\n",
              "      <th>left_weight</th>\n",
              "      <th>left_distance</th>\n",
              "      <th>right_weight</th>\n",
              "      <th>right_distance</th>\n",
              "    </tr>\n",
              "  </thead>\n",
              "  <tbody>\n",
              "    <tr>\n",
              "      <th>count</th>\n",
              "      <td>625.000000</td>\n",
              "      <td>625.000000</td>\n",
              "      <td>625.000000</td>\n",
              "      <td>625.000000</td>\n",
              "    </tr>\n",
              "    <tr>\n",
              "      <th>mean</th>\n",
              "      <td>3.000000</td>\n",
              "      <td>3.000000</td>\n",
              "      <td>3.000000</td>\n",
              "      <td>3.000000</td>\n",
              "    </tr>\n",
              "    <tr>\n",
              "      <th>std</th>\n",
              "      <td>1.415346</td>\n",
              "      <td>1.415346</td>\n",
              "      <td>1.415346</td>\n",
              "      <td>1.415346</td>\n",
              "    </tr>\n",
              "    <tr>\n",
              "      <th>min</th>\n",
              "      <td>1.000000</td>\n",
              "      <td>1.000000</td>\n",
              "      <td>1.000000</td>\n",
              "      <td>1.000000</td>\n",
              "    </tr>\n",
              "    <tr>\n",
              "      <th>25%</th>\n",
              "      <td>2.000000</td>\n",
              "      <td>2.000000</td>\n",
              "      <td>2.000000</td>\n",
              "      <td>2.000000</td>\n",
              "    </tr>\n",
              "    <tr>\n",
              "      <th>50%</th>\n",
              "      <td>3.000000</td>\n",
              "      <td>3.000000</td>\n",
              "      <td>3.000000</td>\n",
              "      <td>3.000000</td>\n",
              "    </tr>\n",
              "    <tr>\n",
              "      <th>75%</th>\n",
              "      <td>4.000000</td>\n",
              "      <td>4.000000</td>\n",
              "      <td>4.000000</td>\n",
              "      <td>4.000000</td>\n",
              "    </tr>\n",
              "    <tr>\n",
              "      <th>max</th>\n",
              "      <td>5.000000</td>\n",
              "      <td>5.000000</td>\n",
              "      <td>5.000000</td>\n",
              "      <td>5.000000</td>\n",
              "    </tr>\n",
              "  </tbody>\n",
              "</table>\n",
              "</div>"
            ],
            "text/plain": [
              "       left_weight  left_distance  right_weight  right_distance\n",
              "count   625.000000     625.000000    625.000000      625.000000\n",
              "mean      3.000000       3.000000      3.000000        3.000000\n",
              "std       1.415346       1.415346      1.415346        1.415346\n",
              "min       1.000000       1.000000      1.000000        1.000000\n",
              "25%       2.000000       2.000000      2.000000        2.000000\n",
              "50%       3.000000       3.000000      3.000000        3.000000\n",
              "75%       4.000000       4.000000      4.000000        4.000000\n",
              "max       5.000000       5.000000      5.000000        5.000000"
            ]
          },
          "metadata": {
            "tags": []
          },
          "execution_count": 4
        }
      ]
    },
    {
      "cell_type": "markdown",
      "metadata": {
        "id": "ZGkif-0AIkJB",
        "colab_type": "text"
      },
      "source": [
        "3. Afficher la shape du dataset"
      ]
    },
    {
      "cell_type": "code",
      "metadata": {
        "id": "WGU8zCQhIeBg",
        "colab_type": "code",
        "colab": {
          "base_uri": "https://localhost:8080/",
          "height": 35
        },
        "outputId": "86330496-d960-4a16-87df-96c6f83b0fd5"
      },
      "source": [
        "dataset.shape"
      ],
      "execution_count": 5,
      "outputs": [
        {
          "output_type": "execute_result",
          "data": {
            "text/plain": [
              "(625, 5)"
            ]
          },
          "metadata": {
            "tags": []
          },
          "execution_count": 5
        }
      ]
    },
    {
      "cell_type": "markdown",
      "metadata": {
        "id": "oYxl5mzaIp9C",
        "colab_type": "text"
      },
      "source": [
        "4. Séparer le dataset en deux array ```X``` et ```Y```\n",
        "\n",
        "```X``` désignant les variables explicatives / features & ```Y``` la variable cible / target"
      ]
    },
    {
      "cell_type": "code",
      "metadata": {
        "id": "t4mVv-ROInNp",
        "colab_type": "code",
        "colab": {}
      },
      "source": [
        "X = dataset.iloc[:, 1:]\n",
        "y = dataset.iloc[:, 0]"
      ],
      "execution_count": 5,
      "outputs": []
    },
    {
      "cell_type": "markdown",
      "metadata": {
        "id": "o4wEJH54I7gX",
        "colab_type": "text"
      },
      "source": [
        "5. Spliter le dataset (70/30) avec un random_state=42"
      ]
    },
    {
      "cell_type": "code",
      "metadata": {
        "id": "S1sZwH3hI1_b",
        "colab_type": "code",
        "colab": {}
      },
      "source": [
        "from sklearn.model_selection import train_test_split\n",
        "X_train, X_test, y_train, y_test = train_test_split(X, y, test_size = 0.3, random_state=42, stratify = y)"
      ],
      "execution_count": 6,
      "outputs": []
    },
    {
      "cell_type": "markdown",
      "metadata": {
        "id": "otmBIWG7JGVZ",
        "colab_type": "text"
      },
      "source": [
        "6. Instancier un 'DecisionTreeClassifier' avec un critère de décision GINI"
      ]
    },
    {
      "cell_type": "code",
      "metadata": {
        "id": "QSm2oIXEJEmt",
        "colab_type": "code",
        "colab": {
          "base_uri": "https://localhost:8080/",
          "height": 126
        },
        "outputId": "ce69d012-f8c7-4bb4-8409-1e7bc0202a5c"
      },
      "source": [
        "from sklearn.tree import DecisionTreeClassifier\n",
        "\n",
        "classifier_gini = DecisionTreeClassifier(criterion=\"gini\")\n",
        "classifier_gini.fit(X_train,y_train)"
      ],
      "execution_count": 7,
      "outputs": [
        {
          "output_type": "execute_result",
          "data": {
            "text/plain": [
              "DecisionTreeClassifier(ccp_alpha=0.0, class_weight=None, criterion='gini',\n",
              "                       max_depth=None, max_features=None, max_leaf_nodes=None,\n",
              "                       min_impurity_decrease=0.0, min_impurity_split=None,\n",
              "                       min_samples_leaf=1, min_samples_split=2,\n",
              "                       min_weight_fraction_leaf=0.0, presort='deprecated',\n",
              "                       random_state=None, splitter='best')"
            ]
          },
          "metadata": {
            "tags": []
          },
          "execution_count": 7
        }
      ]
    },
    {
      "cell_type": "markdown",
      "metadata": {
        "id": "FkAkQTszLew0",
        "colab_type": "text"
      },
      "source": [
        "7. Affichez votre arbre de decision"
      ]
    },
    {
      "cell_type": "code",
      "metadata": {
        "id": "WX6qfPQILZYc",
        "colab_type": "code",
        "colab": {
          "base_uri": "https://localhost:8080/",
          "height": 1000
        },
        "outputId": "c2bd1bc5-fdf1-460a-e45a-cfda79a2cc6c"
      },
      "source": [
        "import graphviz \n",
        "from sklearn.tree import export_graphviz\n",
        "\n",
        "dot_data = export_graphviz(classifier_gini, out_file=None, feature_names= X.columns) \n",
        "\n",
        "graph = graphviz.Source(dot_data) \n",
        "graph"
      ],
      "execution_count": 8,
      "outputs": [
        {
          "output_type": "execute_result",
          "data": {
            "text/plain": [
              "<graphviz.files.Source at 0x7f8bd054ba58>"
            ],
            "image/svg+xml": "<?xml version=\"1.0\" encoding=\"UTF-8\" standalone=\"no\"?>\n<!DOCTYPE svg PUBLIC \"-//W3C//DTD SVG 1.1//EN\"\n \"http://www.w3.org/Graphics/SVG/1.1/DTD/svg11.dtd\">\n<!-- Generated by graphviz version 2.40.1 (20161225.0304)\n -->\n<!-- Title: Tree Pages: 1 -->\n<svg width=\"7560pt\" height=\"1101pt\"\n viewBox=\"0.00 0.00 7560.00 1101.00\" xmlns=\"http://www.w3.org/2000/svg\" xmlns:xlink=\"http://www.w3.org/1999/xlink\">\n<g id=\"graph0\" class=\"graph\" transform=\"scale(1 1) rotate(0) translate(4 1097)\">\n<title>Tree</title>\n<polygon fill=\"#ffffff\" stroke=\"transparent\" points=\"-4,4 -4,-1097 7556,-1097 7556,4 -4,4\"/>\n<!-- 0 -->\n<g id=\"node1\" class=\"node\">\n<title>0</title>\n<polygon fill=\"none\" stroke=\"#000000\" points=\"3358.5,-1093 3211.5,-1093 3211.5,-1025 3358.5,-1025 3358.5,-1093\"/>\n<text text-anchor=\"middle\" x=\"3285\" y=\"-1077.8\" font-family=\"Times,serif\" font-size=\"14.00\" fill=\"#000000\">right_distance &lt;= 2.5</text>\n<text text-anchor=\"middle\" x=\"3285\" y=\"-1062.8\" font-family=\"Times,serif\" font-size=\"14.00\" fill=\"#000000\">gini = 0.569</text>\n<text text-anchor=\"middle\" x=\"3285\" y=\"-1047.8\" font-family=\"Times,serif\" font-size=\"14.00\" fill=\"#000000\">samples = 437</text>\n<text text-anchor=\"middle\" x=\"3285\" y=\"-1032.8\" font-family=\"Times,serif\" font-size=\"14.00\" fill=\"#000000\">value = [34, 201, 202]</text>\n</g>\n<!-- 1 -->\n<g id=\"node2\" class=\"node\">\n<title>1</title>\n<polygon fill=\"none\" stroke=\"#000000\" points=\"2541,-989 2401,-989 2401,-921 2541,-921 2541,-989\"/>\n<text text-anchor=\"middle\" x=\"2471\" y=\"-973.8\" font-family=\"Times,serif\" font-size=\"14.00\" fill=\"#000000\">left_distance &lt;= 2.5</text>\n<text text-anchor=\"middle\" x=\"2471\" y=\"-958.8\" font-family=\"Times,serif\" font-size=\"14.00\" fill=\"#000000\">gini = 0.44</text>\n<text text-anchor=\"middle\" x=\"2471\" y=\"-943.8\" font-family=\"Times,serif\" font-size=\"14.00\" fill=\"#000000\">samples = 168</text>\n<text text-anchor=\"middle\" x=\"2471\" y=\"-928.8\" font-family=\"Times,serif\" font-size=\"14.00\" fill=\"#000000\">value = [13, 120, 35]</text>\n</g>\n<!-- 0&#45;&gt;1 -->\n<g id=\"edge1\" class=\"edge\">\n<title>0&#45;&gt;1</title>\n<path fill=\"none\" stroke=\"#000000\" d=\"M3211.3273,-1049.5873C3058.7231,-1030.0899 2709.1514,-985.4272 2551.1479,-965.24\"/>\n<polygon fill=\"#000000\" stroke=\"#000000\" points=\"2551.3846,-961.7419 2541.0216,-963.9462 2550.4974,-968.6855 2551.3846,-961.7419\"/>\n<text text-anchor=\"middle\" x=\"2556.3164\" y=\"-980.0217\" font-family=\"Times,serif\" font-size=\"14.00\" fill=\"#000000\">True</text>\n</g>\n<!-- 82 -->\n<g id=\"node83\" class=\"node\">\n<title>82</title>\n<polygon fill=\"none\" stroke=\"#000000\" points=\"3884,-989 3744,-989 3744,-921 3884,-921 3884,-989\"/>\n<text text-anchor=\"middle\" x=\"3814\" y=\"-973.8\" font-family=\"Times,serif\" font-size=\"14.00\" fill=\"#000000\">right_weight &lt;= 2.5</text>\n<text text-anchor=\"middle\" x=\"3814\" y=\"-958.8\" font-family=\"Times,serif\" font-size=\"14.00\" fill=\"#000000\">gini = 0.518</text>\n<text text-anchor=\"middle\" x=\"3814\" y=\"-943.8\" font-family=\"Times,serif\" font-size=\"14.00\" fill=\"#000000\">samples = 269</text>\n<text text-anchor=\"middle\" x=\"3814\" y=\"-928.8\" font-family=\"Times,serif\" font-size=\"14.00\" fill=\"#000000\">value = [21, 81, 167]</text>\n</g>\n<!-- 0&#45;&gt;82 -->\n<g id=\"edge82\" class=\"edge\">\n<title>0&#45;&gt;82</title>\n<path fill=\"none\" stroke=\"#000000\" d=\"M3358.5552,-1044.5392C3457.1893,-1025.148 3631.6783,-990.844 3733.6581,-970.795\"/>\n<polygon fill=\"#000000\" stroke=\"#000000\" points=\"3734.4621,-974.204 3743.5991,-968.8406 3733.1118,-967.3355 3734.4621,-974.204\"/>\n<text text-anchor=\"middle\" x=\"3729.6636\" y=\"-985.8964\" font-family=\"Times,serif\" font-size=\"14.00\" fill=\"#000000\">False</text>\n</g>\n<!-- 2 -->\n<g id=\"node3\" class=\"node\">\n<title>2</title>\n<polygon fill=\"none\" stroke=\"#000000\" points=\"1332.5,-885 1199.5,-885 1199.5,-817 1332.5,-817 1332.5,-885\"/>\n<text text-anchor=\"middle\" x=\"1266\" y=\"-869.8\" font-family=\"Times,serif\" font-size=\"14.00\" fill=\"#000000\">right_weight &lt;= 2.5</text>\n<text text-anchor=\"middle\" x=\"1266\" y=\"-854.8\" font-family=\"Times,serif\" font-size=\"14.00\" fill=\"#000000\">gini = 0.617</text>\n<text text-anchor=\"middle\" x=\"1266\" y=\"-839.8\" font-family=\"Times,serif\" font-size=\"14.00\" fill=\"#000000\">samples = 59</text>\n<text text-anchor=\"middle\" x=\"1266\" y=\"-824.8\" font-family=\"Times,serif\" font-size=\"14.00\" fill=\"#000000\">value = [9, 24, 26]</text>\n</g>\n<!-- 1&#45;&gt;2 -->\n<g id=\"edge2\" class=\"edge\">\n<title>1&#45;&gt;2</title>\n<path fill=\"none\" stroke=\"#000000\" d=\"M2400.5637,-948.9208C2189.3439,-930.6911 1562.3464,-876.5768 1342.8953,-857.6366\"/>\n<polygon fill=\"#000000\" stroke=\"#000000\" points=\"1343.0205,-854.1345 1332.7566,-856.7616 1342.4186,-861.1086 1343.0205,-854.1345\"/>\n</g>\n<!-- 51 -->\n<g id=\"node52\" class=\"node\">\n<title>51</title>\n<polygon fill=\"none\" stroke=\"#000000\" points=\"2533,-885 2409,-885 2409,-817 2533,-817 2533,-885\"/>\n<text text-anchor=\"middle\" x=\"2471\" y=\"-869.8\" font-family=\"Times,serif\" font-size=\"14.00\" fill=\"#000000\">left_weight &lt;= 1.5</text>\n<text text-anchor=\"middle\" x=\"2471\" y=\"-854.8\" font-family=\"Times,serif\" font-size=\"14.00\" fill=\"#000000\">gini = 0.216</text>\n<text text-anchor=\"middle\" x=\"2471\" y=\"-839.8\" font-family=\"Times,serif\" font-size=\"14.00\" fill=\"#000000\">samples = 109</text>\n<text text-anchor=\"middle\" x=\"2471\" y=\"-824.8\" font-family=\"Times,serif\" font-size=\"14.00\" fill=\"#000000\">value = [4, 96, 9]</text>\n</g>\n<!-- 1&#45;&gt;51 -->\n<g id=\"edge51\" class=\"edge\">\n<title>1&#45;&gt;51</title>\n<path fill=\"none\" stroke=\"#000000\" d=\"M2471,-920.9465C2471,-912.776 2471,-903.9318 2471,-895.3697\"/>\n<polygon fill=\"#000000\" stroke=\"#000000\" points=\"2474.5001,-895.13 2471,-885.13 2467.5001,-895.13 2474.5001,-895.13\"/>\n</g>\n<!-- 3 -->\n<g id=\"node4\" class=\"node\">\n<title>3</title>\n<polygon fill=\"none\" stroke=\"#000000\" points=\"527,-781 403,-781 403,-713 527,-713 527,-781\"/>\n<text text-anchor=\"middle\" x=\"465\" y=\"-765.8\" font-family=\"Times,serif\" font-size=\"14.00\" fill=\"#000000\">left_weight &lt;= 1.5</text>\n<text text-anchor=\"middle\" x=\"465\" y=\"-750.8\" font-family=\"Times,serif\" font-size=\"14.00\" fill=\"#000000\">gini = 0.51</text>\n<text text-anchor=\"middle\" x=\"465\" y=\"-735.8\" font-family=\"Times,serif\" font-size=\"14.00\" fill=\"#000000\">samples = 23</text>\n<text text-anchor=\"middle\" x=\"465\" y=\"-720.8\" font-family=\"Times,serif\" font-size=\"14.00\" fill=\"#000000\">value = [5, 15, 3]</text>\n</g>\n<!-- 2&#45;&gt;3 -->\n<g id=\"edge3\" class=\"edge\">\n<title>2&#45;&gt;3</title>\n<path fill=\"none\" stroke=\"#000000\" d=\"M1199.4275,-842.3564C1050.5251,-823.0232 691.5743,-776.4179 537.3767,-756.3972\"/>\n<polygon fill=\"#000000\" stroke=\"#000000\" points=\"537.4445,-752.8767 527.0771,-755.0599 536.5431,-759.8185 537.4445,-752.8767\"/>\n</g>\n<!-- 22 -->\n<g id=\"node23\" class=\"node\">\n<title>22</title>\n<polygon fill=\"none\" stroke=\"#000000\" points=\"1328,-781 1204,-781 1204,-713 1328,-713 1328,-781\"/>\n<text text-anchor=\"middle\" x=\"1266\" y=\"-765.8\" font-family=\"Times,serif\" font-size=\"14.00\" fill=\"#000000\">left_weight &lt;= 3.5</text>\n<text text-anchor=\"middle\" x=\"1266\" y=\"-750.8\" font-family=\"Times,serif\" font-size=\"14.00\" fill=\"#000000\">gini = 0.517</text>\n<text text-anchor=\"middle\" x=\"1266\" y=\"-735.8\" font-family=\"Times,serif\" font-size=\"14.00\" fill=\"#000000\">samples = 36</text>\n<text text-anchor=\"middle\" x=\"1266\" y=\"-720.8\" font-family=\"Times,serif\" font-size=\"14.00\" fill=\"#000000\">value = [4, 9, 23]</text>\n</g>\n<!-- 2&#45;&gt;22 -->\n<g id=\"edge22\" class=\"edge\">\n<title>2&#45;&gt;22</title>\n<path fill=\"none\" stroke=\"#000000\" d=\"M1266,-816.9465C1266,-808.776 1266,-799.9318 1266,-791.3697\"/>\n<polygon fill=\"#000000\" stroke=\"#000000\" points=\"1269.5001,-791.13 1266,-781.13 1262.5001,-791.13 1269.5001,-791.13\"/>\n</g>\n<!-- 4 -->\n<g id=\"node5\" class=\"node\">\n<title>4</title>\n<polygon fill=\"none\" stroke=\"#000000\" points=\"320.5,-677 187.5,-677 187.5,-609 320.5,-609 320.5,-677\"/>\n<text text-anchor=\"middle\" x=\"254\" y=\"-661.8\" font-family=\"Times,serif\" font-size=\"14.00\" fill=\"#000000\">right_weight &lt;= 1.5</text>\n<text text-anchor=\"middle\" x=\"254\" y=\"-646.8\" font-family=\"Times,serif\" font-size=\"14.00\" fill=\"#000000\">gini = 0.444</text>\n<text text-anchor=\"middle\" x=\"254\" y=\"-631.8\" font-family=\"Times,serif\" font-size=\"14.00\" fill=\"#000000\">samples = 3</text>\n<text text-anchor=\"middle\" x=\"254\" y=\"-616.8\" font-family=\"Times,serif\" font-size=\"14.00\" fill=\"#000000\">value = [2, 0, 1]</text>\n</g>\n<!-- 3&#45;&gt;4 -->\n<g id=\"edge4\" class=\"edge\">\n<title>3&#45;&gt;4</title>\n<path fill=\"none\" stroke=\"#000000\" d=\"M402.8343,-716.3591C379.9825,-705.0956 353.8476,-692.214 329.921,-680.4208\"/>\n<polygon fill=\"#000000\" stroke=\"#000000\" points=\"331.3874,-677.2416 320.8704,-675.9598 328.2927,-683.5203 331.3874,-677.2416\"/>\n</g>\n<!-- 7 -->\n<g id=\"node8\" class=\"node\">\n<title>7</title>\n<polygon fill=\"none\" stroke=\"#000000\" points=\"531.5,-677 398.5,-677 398.5,-609 531.5,-609 531.5,-677\"/>\n<text text-anchor=\"middle\" x=\"465\" y=\"-661.8\" font-family=\"Times,serif\" font-size=\"14.00\" fill=\"#000000\">right_weight &lt;= 1.5</text>\n<text text-anchor=\"middle\" x=\"465\" y=\"-646.8\" font-family=\"Times,serif\" font-size=\"14.00\" fill=\"#000000\">gini = 0.405</text>\n<text text-anchor=\"middle\" x=\"465\" y=\"-631.8\" font-family=\"Times,serif\" font-size=\"14.00\" fill=\"#000000\">samples = 20</text>\n<text text-anchor=\"middle\" x=\"465\" y=\"-616.8\" font-family=\"Times,serif\" font-size=\"14.00\" fill=\"#000000\">value = [3, 15, 2]</text>\n</g>\n<!-- 3&#45;&gt;7 -->\n<g id=\"edge7\" class=\"edge\">\n<title>3&#45;&gt;7</title>\n<path fill=\"none\" stroke=\"#000000\" d=\"M465,-712.9465C465,-704.776 465,-695.9318 465,-687.3697\"/>\n<polygon fill=\"#000000\" stroke=\"#000000\" points=\"468.5001,-687.13 465,-677.13 461.5001,-687.13 468.5001,-687.13\"/>\n</g>\n<!-- 5 -->\n<g id=\"node6\" class=\"node\">\n<title>5</title>\n<polygon fill=\"none\" stroke=\"#000000\" points=\"181,-565.5 71,-565.5 71,-512.5 181,-512.5 181,-565.5\"/>\n<text text-anchor=\"middle\" x=\"126\" y=\"-550.3\" font-family=\"Times,serif\" font-size=\"14.00\" fill=\"#000000\">gini = 0.0</text>\n<text text-anchor=\"middle\" x=\"126\" y=\"-535.3\" font-family=\"Times,serif\" font-size=\"14.00\" fill=\"#000000\">samples = 2</text>\n<text text-anchor=\"middle\" x=\"126\" y=\"-520.3\" font-family=\"Times,serif\" font-size=\"14.00\" fill=\"#000000\">value = [2, 0, 0]</text>\n</g>\n<!-- 4&#45;&gt;5 -->\n<g id=\"edge5\" class=\"edge\">\n<title>4&#45;&gt;5</title>\n<path fill=\"none\" stroke=\"#000000\" d=\"M212.088,-608.9465C197.4467,-597.0504 181.0474,-583.726 166.5215,-571.9237\"/>\n<polygon fill=\"#000000\" stroke=\"#000000\" points=\"168.6355,-569.1317 158.6673,-565.5422 164.2214,-574.5645 168.6355,-569.1317\"/>\n</g>\n<!-- 6 -->\n<g id=\"node7\" class=\"node\">\n<title>6</title>\n<polygon fill=\"none\" stroke=\"#000000\" points=\"309,-565.5 199,-565.5 199,-512.5 309,-512.5 309,-565.5\"/>\n<text text-anchor=\"middle\" x=\"254\" y=\"-550.3\" font-family=\"Times,serif\" font-size=\"14.00\" fill=\"#000000\">gini = 0.0</text>\n<text text-anchor=\"middle\" x=\"254\" y=\"-535.3\" font-family=\"Times,serif\" font-size=\"14.00\" fill=\"#000000\">samples = 1</text>\n<text text-anchor=\"middle\" x=\"254\" y=\"-520.3\" font-family=\"Times,serif\" font-size=\"14.00\" fill=\"#000000\">value = [0, 0, 1]</text>\n</g>\n<!-- 4&#45;&gt;6 -->\n<g id=\"edge6\" class=\"edge\">\n<title>4&#45;&gt;6</title>\n<path fill=\"none\" stroke=\"#000000\" d=\"M254,-608.9465C254,-598.2621 254,-586.4254 254,-575.5742\"/>\n<polygon fill=\"#000000\" stroke=\"#000000\" points=\"257.5001,-575.5421 254,-565.5422 250.5001,-575.5422 257.5001,-575.5421\"/>\n</g>\n<!-- 8 -->\n<g id=\"node9\" class=\"node\">\n<title>8</title>\n<polygon fill=\"none\" stroke=\"#000000\" points=\"437,-565.5 327,-565.5 327,-512.5 437,-512.5 437,-565.5\"/>\n<text text-anchor=\"middle\" x=\"382\" y=\"-550.3\" font-family=\"Times,serif\" font-size=\"14.00\" fill=\"#000000\">gini = 0.0</text>\n<text text-anchor=\"middle\" x=\"382\" y=\"-535.3\" font-family=\"Times,serif\" font-size=\"14.00\" fill=\"#000000\">samples = 9</text>\n<text text-anchor=\"middle\" x=\"382\" y=\"-520.3\" font-family=\"Times,serif\" font-size=\"14.00\" fill=\"#000000\">value = [0, 9, 0]</text>\n</g>\n<!-- 7&#45;&gt;8 -->\n<g id=\"edge8\" class=\"edge\">\n<title>7&#45;&gt;8</title>\n<path fill=\"none\" stroke=\"#000000\" d=\"M437.8227,-608.9465C428.7682,-597.6012 418.677,-584.9567 409.5914,-573.5724\"/>\n<polygon fill=\"#000000\" stroke=\"#000000\" points=\"412.1561,-571.175 403.1827,-565.5422 406.6849,-575.5414 412.1561,-571.175\"/>\n</g>\n<!-- 9 -->\n<g id=\"node10\" class=\"node\">\n<title>9</title>\n<polygon fill=\"none\" stroke=\"#000000\" points=\"595,-573 455,-573 455,-505 595,-505 595,-573\"/>\n<text text-anchor=\"middle\" x=\"525\" y=\"-557.8\" font-family=\"Times,serif\" font-size=\"14.00\" fill=\"#000000\">right_distance &lt;= 1.5</text>\n<text text-anchor=\"middle\" x=\"525\" y=\"-542.8\" font-family=\"Times,serif\" font-size=\"14.00\" fill=\"#000000\">gini = 0.595</text>\n<text text-anchor=\"middle\" x=\"525\" y=\"-527.8\" font-family=\"Times,serif\" font-size=\"14.00\" fill=\"#000000\">samples = 11</text>\n<text text-anchor=\"middle\" x=\"525\" y=\"-512.8\" font-family=\"Times,serif\" font-size=\"14.00\" fill=\"#000000\">value = [3, 6, 2]</text>\n</g>\n<!-- 7&#45;&gt;9 -->\n<g id=\"edge9\" class=\"edge\">\n<title>7&#45;&gt;9</title>\n<path fill=\"none\" stroke=\"#000000\" d=\"M484.6462,-608.9465C489.619,-600.3271 495.0243,-590.9579 500.2148,-581.9611\"/>\n<polygon fill=\"#000000\" stroke=\"#000000\" points=\"503.344,-583.5409 505.3096,-573.13 497.2807,-580.0428 503.344,-583.5409\"/>\n</g>\n<!-- 10 -->\n<g id=\"node11\" class=\"node\">\n<title>10</title>\n<polygon fill=\"none\" stroke=\"#000000\" points=\"375,-469 251,-469 251,-401 375,-401 375,-469\"/>\n<text text-anchor=\"middle\" x=\"313\" y=\"-453.8\" font-family=\"Times,serif\" font-size=\"14.00\" fill=\"#000000\">left_weight &lt;= 2.5</text>\n<text text-anchor=\"middle\" x=\"313\" y=\"-438.8\" font-family=\"Times,serif\" font-size=\"14.00\" fill=\"#000000\">gini = 0.278</text>\n<text text-anchor=\"middle\" x=\"313\" y=\"-423.8\" font-family=\"Times,serif\" font-size=\"14.00\" fill=\"#000000\">samples = 6</text>\n<text text-anchor=\"middle\" x=\"313\" y=\"-408.8\" font-family=\"Times,serif\" font-size=\"14.00\" fill=\"#000000\">value = [1, 5, 0]</text>\n</g>\n<!-- 9&#45;&gt;10 -->\n<g id=\"edge10\" class=\"edge\">\n<title>9&#45;&gt;10</title>\n<path fill=\"none\" stroke=\"#000000\" d=\"M455.5833,-504.9465C432.6628,-493.7025 407.1413,-481.1825 384.0971,-469.8778\"/>\n<polygon fill=\"#000000\" stroke=\"#000000\" points=\"385.5824,-466.708 375.063,-465.446 382.4994,-472.9926 385.5824,-466.708\"/>\n</g>\n<!-- 15 -->\n<g id=\"node16\" class=\"node\">\n<title>15</title>\n<polygon fill=\"none\" stroke=\"#000000\" points=\"590.5,-469 459.5,-469 459.5,-401 590.5,-401 590.5,-469\"/>\n<text text-anchor=\"middle\" x=\"525\" y=\"-453.8\" font-family=\"Times,serif\" font-size=\"14.00\" fill=\"#000000\">left_distance &lt;= 1.5</text>\n<text text-anchor=\"middle\" x=\"525\" y=\"-438.8\" font-family=\"Times,serif\" font-size=\"14.00\" fill=\"#000000\">gini = 0.64</text>\n<text text-anchor=\"middle\" x=\"525\" y=\"-423.8\" font-family=\"Times,serif\" font-size=\"14.00\" fill=\"#000000\">samples = 5</text>\n<text text-anchor=\"middle\" x=\"525\" y=\"-408.8\" font-family=\"Times,serif\" font-size=\"14.00\" fill=\"#000000\">value = [2, 1, 2]</text>\n</g>\n<!-- 9&#45;&gt;15 -->\n<g id=\"edge15\" class=\"edge\">\n<title>9&#45;&gt;15</title>\n<path fill=\"none\" stroke=\"#000000\" d=\"M525,-504.9465C525,-496.776 525,-487.9318 525,-479.3697\"/>\n<polygon fill=\"#000000\" stroke=\"#000000\" points=\"528.5001,-479.13 525,-469.13 521.5001,-479.13 528.5001,-479.13\"/>\n</g>\n<!-- 11 -->\n<g id=\"node12\" class=\"node\">\n<title>11</title>\n<polygon fill=\"none\" stroke=\"#000000\" points=\"239.5,-365 108.5,-365 108.5,-297 239.5,-297 239.5,-365\"/>\n<text text-anchor=\"middle\" x=\"174\" y=\"-349.8\" font-family=\"Times,serif\" font-size=\"14.00\" fill=\"#000000\">left_distance &lt;= 1.5</text>\n<text text-anchor=\"middle\" x=\"174\" y=\"-334.8\" font-family=\"Times,serif\" font-size=\"14.00\" fill=\"#000000\">gini = 0.5</text>\n<text text-anchor=\"middle\" x=\"174\" y=\"-319.8\" font-family=\"Times,serif\" font-size=\"14.00\" fill=\"#000000\">samples = 2</text>\n<text text-anchor=\"middle\" x=\"174\" y=\"-304.8\" font-family=\"Times,serif\" font-size=\"14.00\" fill=\"#000000\">value = [1, 1, 0]</text>\n</g>\n<!-- 10&#45;&gt;11 -->\n<g id=\"edge11\" class=\"edge\">\n<title>10&#45;&gt;11</title>\n<path fill=\"none\" stroke=\"#000000\" d=\"M267.4862,-400.9465C254.766,-391.4293 240.824,-380.9978 227.6794,-371.163\"/>\n<polygon fill=\"#000000\" stroke=\"#000000\" points=\"229.7198,-368.3184 219.6161,-365.13 225.5262,-373.9232 229.7198,-368.3184\"/>\n</g>\n<!-- 14 -->\n<g id=\"node15\" class=\"node\">\n<title>14</title>\n<polygon fill=\"none\" stroke=\"#000000\" points=\"368,-357.5 258,-357.5 258,-304.5 368,-304.5 368,-357.5\"/>\n<text text-anchor=\"middle\" x=\"313\" y=\"-342.3\" font-family=\"Times,serif\" font-size=\"14.00\" fill=\"#000000\">gini = 0.0</text>\n<text text-anchor=\"middle\" x=\"313\" y=\"-327.3\" font-family=\"Times,serif\" font-size=\"14.00\" fill=\"#000000\">samples = 4</text>\n<text text-anchor=\"middle\" x=\"313\" y=\"-312.3\" font-family=\"Times,serif\" font-size=\"14.00\" fill=\"#000000\">value = [0, 4, 0]</text>\n</g>\n<!-- 10&#45;&gt;14 -->\n<g id=\"edge14\" class=\"edge\">\n<title>10&#45;&gt;14</title>\n<path fill=\"none\" stroke=\"#000000\" d=\"M313,-400.9465C313,-390.2621 313,-378.4254 313,-367.5742\"/>\n<polygon fill=\"#000000\" stroke=\"#000000\" points=\"316.5001,-367.5421 313,-357.5422 309.5001,-367.5422 316.5001,-367.5421\"/>\n</g>\n<!-- 12 -->\n<g id=\"node13\" class=\"node\">\n<title>12</title>\n<polygon fill=\"none\" stroke=\"#000000\" points=\"110,-253.5 0,-253.5 0,-200.5 110,-200.5 110,-253.5\"/>\n<text text-anchor=\"middle\" x=\"55\" y=\"-238.3\" font-family=\"Times,serif\" font-size=\"14.00\" fill=\"#000000\">gini = 0.0</text>\n<text text-anchor=\"middle\" x=\"55\" y=\"-223.3\" font-family=\"Times,serif\" font-size=\"14.00\" fill=\"#000000\">samples = 1</text>\n<text text-anchor=\"middle\" x=\"55\" y=\"-208.3\" font-family=\"Times,serif\" font-size=\"14.00\" fill=\"#000000\">value = [1, 0, 0]</text>\n</g>\n<!-- 11&#45;&gt;12 -->\n<g id=\"edge12\" class=\"edge\">\n<title>11&#45;&gt;12</title>\n<path fill=\"none\" stroke=\"#000000\" d=\"M135.0349,-296.9465C121.5491,-285.1606 106.4591,-271.9726 93.0479,-260.2519\"/>\n<polygon fill=\"#000000\" stroke=\"#000000\" points=\"95.2033,-257.4874 85.3704,-253.5422 90.5969,-262.7582 95.2033,-257.4874\"/>\n</g>\n<!-- 13 -->\n<g id=\"node14\" class=\"node\">\n<title>13</title>\n<polygon fill=\"none\" stroke=\"#000000\" points=\"238,-253.5 128,-253.5 128,-200.5 238,-200.5 238,-253.5\"/>\n<text text-anchor=\"middle\" x=\"183\" y=\"-238.3\" font-family=\"Times,serif\" font-size=\"14.00\" fill=\"#000000\">gini = 0.0</text>\n<text text-anchor=\"middle\" x=\"183\" y=\"-223.3\" font-family=\"Times,serif\" font-size=\"14.00\" fill=\"#000000\">samples = 1</text>\n<text text-anchor=\"middle\" x=\"183\" y=\"-208.3\" font-family=\"Times,serif\" font-size=\"14.00\" fill=\"#000000\">value = [0, 1, 0]</text>\n</g>\n<!-- 11&#45;&gt;13 -->\n<g id=\"edge13\" class=\"edge\">\n<title>11&#45;&gt;13</title>\n<path fill=\"none\" stroke=\"#000000\" d=\"M176.9469,-296.9465C177.8716,-286.2621 178.8959,-274.4254 179.8349,-263.5742\"/>\n<polygon fill=\"#000000\" stroke=\"#000000\" points=\"183.3278,-263.8067 180.7031,-253.5422 176.3539,-263.2031 183.3278,-263.8067\"/>\n</g>\n<!-- 16 -->\n<g id=\"node17\" class=\"node\">\n<title>16</title>\n<polygon fill=\"none\" stroke=\"#000000\" points=\"510,-365 386,-365 386,-297 510,-297 510,-365\"/>\n<text text-anchor=\"middle\" x=\"448\" y=\"-349.8\" font-family=\"Times,serif\" font-size=\"14.00\" fill=\"#000000\">left_weight &lt;= 3.5</text>\n<text text-anchor=\"middle\" x=\"448\" y=\"-334.8\" font-family=\"Times,serif\" font-size=\"14.00\" fill=\"#000000\">gini = 0.444</text>\n<text text-anchor=\"middle\" x=\"448\" y=\"-319.8\" font-family=\"Times,serif\" font-size=\"14.00\" fill=\"#000000\">samples = 3</text>\n<text text-anchor=\"middle\" x=\"448\" y=\"-304.8\" font-family=\"Times,serif\" font-size=\"14.00\" fill=\"#000000\">value = [1, 0, 2]</text>\n</g>\n<!-- 15&#45;&gt;16 -->\n<g id=\"edge16\" class=\"edge\">\n<title>15&#45;&gt;16</title>\n<path fill=\"none\" stroke=\"#000000\" d=\"M499.7873,-400.9465C493.2727,-392.1475 486.1795,-382.5672 479.3918,-373.3993\"/>\n<polygon fill=\"#000000\" stroke=\"#000000\" points=\"482.0327,-371.0843 473.2693,-365.13 476.4069,-375.2496 482.0327,-371.0843\"/>\n</g>\n<!-- 19 -->\n<g id=\"node20\" class=\"node\">\n<title>19</title>\n<polygon fill=\"none\" stroke=\"#000000\" points=\"652,-365 528,-365 528,-297 652,-297 652,-365\"/>\n<text text-anchor=\"middle\" x=\"590\" y=\"-349.8\" font-family=\"Times,serif\" font-size=\"14.00\" fill=\"#000000\">left_weight &lt;= 2.5</text>\n<text text-anchor=\"middle\" x=\"590\" y=\"-334.8\" font-family=\"Times,serif\" font-size=\"14.00\" fill=\"#000000\">gini = 0.5</text>\n<text text-anchor=\"middle\" x=\"590\" y=\"-319.8\" font-family=\"Times,serif\" font-size=\"14.00\" fill=\"#000000\">samples = 2</text>\n<text text-anchor=\"middle\" x=\"590\" y=\"-304.8\" font-family=\"Times,serif\" font-size=\"14.00\" fill=\"#000000\">value = [1, 1, 0]</text>\n</g>\n<!-- 15&#45;&gt;19 -->\n<g id=\"edge19\" class=\"edge\">\n<title>15&#45;&gt;19</title>\n<path fill=\"none\" stroke=\"#000000\" d=\"M546.2834,-400.9465C551.7267,-392.2373 557.6484,-382.7626 563.325,-373.6801\"/>\n<polygon fill=\"#000000\" stroke=\"#000000\" points=\"566.3367,-375.465 568.6688,-365.13 560.4007,-371.755 566.3367,-375.465\"/>\n</g>\n<!-- 17 -->\n<g id=\"node18\" class=\"node\">\n<title>17</title>\n<polygon fill=\"none\" stroke=\"#000000\" points=\"375,-253.5 265,-253.5 265,-200.5 375,-200.5 375,-253.5\"/>\n<text text-anchor=\"middle\" x=\"320\" y=\"-238.3\" font-family=\"Times,serif\" font-size=\"14.00\" fill=\"#000000\">gini = 0.0</text>\n<text text-anchor=\"middle\" x=\"320\" y=\"-223.3\" font-family=\"Times,serif\" font-size=\"14.00\" fill=\"#000000\">samples = 2</text>\n<text text-anchor=\"middle\" x=\"320\" y=\"-208.3\" font-family=\"Times,serif\" font-size=\"14.00\" fill=\"#000000\">value = [0, 0, 2]</text>\n</g>\n<!-- 16&#45;&gt;17 -->\n<g id=\"edge17\" class=\"edge\">\n<title>16&#45;&gt;17</title>\n<path fill=\"none\" stroke=\"#000000\" d=\"M406.088,-296.9465C391.4467,-285.0504 375.0474,-271.726 360.5215,-259.9237\"/>\n<polygon fill=\"#000000\" stroke=\"#000000\" points=\"362.6355,-257.1317 352.6673,-253.5422 358.2214,-262.5645 362.6355,-257.1317\"/>\n</g>\n<!-- 18 -->\n<g id=\"node19\" class=\"node\">\n<title>18</title>\n<polygon fill=\"none\" stroke=\"#000000\" points=\"503,-253.5 393,-253.5 393,-200.5 503,-200.5 503,-253.5\"/>\n<text text-anchor=\"middle\" x=\"448\" y=\"-238.3\" font-family=\"Times,serif\" font-size=\"14.00\" fill=\"#000000\">gini = 0.0</text>\n<text text-anchor=\"middle\" x=\"448\" y=\"-223.3\" font-family=\"Times,serif\" font-size=\"14.00\" fill=\"#000000\">samples = 1</text>\n<text text-anchor=\"middle\" x=\"448\" y=\"-208.3\" font-family=\"Times,serif\" font-size=\"14.00\" fill=\"#000000\">value = [1, 0, 0]</text>\n</g>\n<!-- 16&#45;&gt;18 -->\n<g id=\"edge18\" class=\"edge\">\n<title>16&#45;&gt;18</title>\n<path fill=\"none\" stroke=\"#000000\" d=\"M448,-296.9465C448,-286.2621 448,-274.4254 448,-263.5742\"/>\n<polygon fill=\"#000000\" stroke=\"#000000\" points=\"451.5001,-263.5421 448,-253.5422 444.5001,-263.5422 451.5001,-263.5421\"/>\n</g>\n<!-- 20 -->\n<g id=\"node21\" class=\"node\">\n<title>20</title>\n<polygon fill=\"none\" stroke=\"#000000\" points=\"631,-253.5 521,-253.5 521,-200.5 631,-200.5 631,-253.5\"/>\n<text text-anchor=\"middle\" x=\"576\" y=\"-238.3\" font-family=\"Times,serif\" font-size=\"14.00\" fill=\"#000000\">gini = 0.0</text>\n<text text-anchor=\"middle\" x=\"576\" y=\"-223.3\" font-family=\"Times,serif\" font-size=\"14.00\" fill=\"#000000\">samples = 1</text>\n<text text-anchor=\"middle\" x=\"576\" y=\"-208.3\" font-family=\"Times,serif\" font-size=\"14.00\" fill=\"#000000\">value = [1, 0, 0]</text>\n</g>\n<!-- 19&#45;&gt;20 -->\n<g id=\"edge20\" class=\"edge\">\n<title>19&#45;&gt;20</title>\n<path fill=\"none\" stroke=\"#000000\" d=\"M585.4159,-296.9465C583.9776,-286.2621 582.3842,-274.4254 580.9235,-263.5742\"/>\n<polygon fill=\"#000000\" stroke=\"#000000\" points=\"584.3759,-262.9858 579.573,-253.5422 577.4385,-263.9197 584.3759,-262.9858\"/>\n</g>\n<!-- 21 -->\n<g id=\"node22\" class=\"node\">\n<title>21</title>\n<polygon fill=\"none\" stroke=\"#000000\" points=\"759,-253.5 649,-253.5 649,-200.5 759,-200.5 759,-253.5\"/>\n<text text-anchor=\"middle\" x=\"704\" y=\"-238.3\" font-family=\"Times,serif\" font-size=\"14.00\" fill=\"#000000\">gini = 0.0</text>\n<text text-anchor=\"middle\" x=\"704\" y=\"-223.3\" font-family=\"Times,serif\" font-size=\"14.00\" fill=\"#000000\">samples = 1</text>\n<text text-anchor=\"middle\" x=\"704\" y=\"-208.3\" font-family=\"Times,serif\" font-size=\"14.00\" fill=\"#000000\">value = [0, 1, 0]</text>\n</g>\n<!-- 19&#45;&gt;21 -->\n<g id=\"edge21\" class=\"edge\">\n<title>19&#45;&gt;21</title>\n<path fill=\"none\" stroke=\"#000000\" d=\"M627.3279,-296.9465C640.1263,-285.2707 654.433,-272.219 667.1901,-260.5809\"/>\n<polygon fill=\"#000000\" stroke=\"#000000\" points=\"669.8769,-262.8675 674.9057,-253.5422 665.1591,-257.6961 669.8769,-262.8675\"/>\n</g>\n<!-- 23 -->\n<g id=\"node24\" class=\"node\">\n<title>23</title>\n<polygon fill=\"none\" stroke=\"#000000\" points=\"1226,-677 1102,-677 1102,-609 1226,-609 1226,-677\"/>\n<text text-anchor=\"middle\" x=\"1164\" y=\"-661.8\" font-family=\"Times,serif\" font-size=\"14.00\" fill=\"#000000\">left_weight &lt;= 1.5</text>\n<text text-anchor=\"middle\" x=\"1164\" y=\"-646.8\" font-family=\"Times,serif\" font-size=\"14.00\" fill=\"#000000\">gini = 0.244</text>\n<text text-anchor=\"middle\" x=\"1164\" y=\"-631.8\" font-family=\"Times,serif\" font-size=\"14.00\" fill=\"#000000\">samples = 22</text>\n<text text-anchor=\"middle\" x=\"1164\" y=\"-616.8\" font-family=\"Times,serif\" font-size=\"14.00\" fill=\"#000000\">value = [1, 2, 19]</text>\n</g>\n<!-- 22&#45;&gt;23 -->\n<g id=\"edge23\" class=\"edge\">\n<title>22&#45;&gt;23</title>\n<path fill=\"none\" stroke=\"#000000\" d=\"M1232.6014,-712.9465C1223.6194,-703.7884 1213.8072,-693.7838 1204.485,-684.2788\"/>\n<polygon fill=\"#000000\" stroke=\"#000000\" points=\"1206.9746,-681.8187 1197.4737,-677.13 1201.977,-686.7201 1206.9746,-681.8187\"/>\n</g>\n<!-- 38 -->\n<g id=\"node39\" class=\"node\">\n<title>38</title>\n<polygon fill=\"none\" stroke=\"#000000\" points=\"1475.5,-677 1344.5,-677 1344.5,-609 1475.5,-609 1475.5,-677\"/>\n<text text-anchor=\"middle\" x=\"1410\" y=\"-661.8\" font-family=\"Times,serif\" font-size=\"14.00\" fill=\"#000000\">left_distance &lt;= 1.5</text>\n<text text-anchor=\"middle\" x=\"1410\" y=\"-646.8\" font-family=\"Times,serif\" font-size=\"14.00\" fill=\"#000000\">gini = 0.622</text>\n<text text-anchor=\"middle\" x=\"1410\" y=\"-631.8\" font-family=\"Times,serif\" font-size=\"14.00\" fill=\"#000000\">samples = 14</text>\n<text text-anchor=\"middle\" x=\"1410\" y=\"-616.8\" font-family=\"Times,serif\" font-size=\"14.00\" fill=\"#000000\">value = [3, 7, 4]</text>\n</g>\n<!-- 22&#45;&gt;38 -->\n<g id=\"edge38\" class=\"edge\">\n<title>22&#45;&gt;38</title>\n<path fill=\"none\" stroke=\"#000000\" d=\"M1313.151,-712.9465C1326.3287,-703.4293 1340.7722,-692.9978 1354.3897,-683.163\"/>\n<polygon fill=\"#000000\" stroke=\"#000000\" points=\"1356.6855,-685.8223 1362.7431,-677.13 1352.587,-680.1476 1356.6855,-685.8223\"/>\n</g>\n<!-- 24 -->\n<g id=\"node25\" class=\"node\">\n<title>24</title>\n<polygon fill=\"none\" stroke=\"#000000\" points=\"1079.5,-565.5 962.5,-565.5 962.5,-512.5 1079.5,-512.5 1079.5,-565.5\"/>\n<text text-anchor=\"middle\" x=\"1021\" y=\"-550.3\" font-family=\"Times,serif\" font-size=\"14.00\" fill=\"#000000\">gini = 0.0</text>\n<text text-anchor=\"middle\" x=\"1021\" y=\"-535.3\" font-family=\"Times,serif\" font-size=\"14.00\" fill=\"#000000\">samples = 10</text>\n<text text-anchor=\"middle\" x=\"1021\" y=\"-520.3\" font-family=\"Times,serif\" font-size=\"14.00\" fill=\"#000000\">value = [0, 0, 10]</text>\n</g>\n<!-- 23&#45;&gt;24 -->\n<g id=\"edge24\" class=\"edge\">\n<title>23&#45;&gt;24</title>\n<path fill=\"none\" stroke=\"#000000\" d=\"M1117.1765,-608.9465C1100.6679,-596.9403 1082.1588,-583.4791 1065.8198,-571.5962\"/>\n<polygon fill=\"#000000\" stroke=\"#000000\" points=\"1067.6415,-568.5933 1057.4955,-565.5422 1063.5242,-574.2545 1067.6415,-568.5933\"/>\n</g>\n<!-- 25 -->\n<g id=\"node26\" class=\"node\">\n<title>25</title>\n<polygon fill=\"none\" stroke=\"#000000\" points=\"1230.5,-573 1097.5,-573 1097.5,-505 1230.5,-505 1230.5,-573\"/>\n<text text-anchor=\"middle\" x=\"1164\" y=\"-557.8\" font-family=\"Times,serif\" font-size=\"14.00\" fill=\"#000000\">right_weight &lt;= 3.5</text>\n<text text-anchor=\"middle\" x=\"1164\" y=\"-542.8\" font-family=\"Times,serif\" font-size=\"14.00\" fill=\"#000000\">gini = 0.403</text>\n<text text-anchor=\"middle\" x=\"1164\" y=\"-527.8\" font-family=\"Times,serif\" font-size=\"14.00\" fill=\"#000000\">samples = 12</text>\n<text text-anchor=\"middle\" x=\"1164\" y=\"-512.8\" font-family=\"Times,serif\" font-size=\"14.00\" fill=\"#000000\">value = [1, 2, 9]</text>\n</g>\n<!-- 23&#45;&gt;25 -->\n<g id=\"edge25\" class=\"edge\">\n<title>23&#45;&gt;25</title>\n<path fill=\"none\" stroke=\"#000000\" d=\"M1164,-608.9465C1164,-600.776 1164,-591.9318 1164,-583.3697\"/>\n<polygon fill=\"#000000\" stroke=\"#000000\" points=\"1167.5001,-583.13 1164,-573.13 1160.5001,-583.13 1167.5001,-583.13\"/>\n</g>\n<!-- 26 -->\n<g id=\"node27\" class=\"node\">\n<title>26</title>\n<polygon fill=\"none\" stroke=\"#000000\" points=\"1037,-469 913,-469 913,-401 1037,-401 1037,-469\"/>\n<text text-anchor=\"middle\" x=\"975\" y=\"-453.8\" font-family=\"Times,serif\" font-size=\"14.00\" fill=\"#000000\">left_weight &lt;= 2.5</text>\n<text text-anchor=\"middle\" x=\"975\" y=\"-438.8\" font-family=\"Times,serif\" font-size=\"14.00\" fill=\"#000000\">gini = 0.667</text>\n<text text-anchor=\"middle\" x=\"975\" y=\"-423.8\" font-family=\"Times,serif\" font-size=\"14.00\" fill=\"#000000\">samples = 3</text>\n<text text-anchor=\"middle\" x=\"975\" y=\"-408.8\" font-family=\"Times,serif\" font-size=\"14.00\" fill=\"#000000\">value = [1, 1, 1]</text>\n</g>\n<!-- 25&#45;&gt;26 -->\n<g id=\"edge26\" class=\"edge\">\n<title>25&#45;&gt;26</title>\n<path fill=\"none\" stroke=\"#000000\" d=\"M1102.1143,-504.9465C1084.1659,-495.0701 1064.4284,-484.2093 1045.9699,-474.0522\"/>\n<polygon fill=\"#000000\" stroke=\"#000000\" points=\"1047.4733,-470.8846 1037.0247,-469.13 1044.0985,-477.0174 1047.4733,-470.8846\"/>\n</g>\n<!-- 31 -->\n<g id=\"node32\" class=\"node\">\n<title>31</title>\n<polygon fill=\"none\" stroke=\"#000000\" points=\"1234,-469 1094,-469 1094,-401 1234,-401 1234,-469\"/>\n<text text-anchor=\"middle\" x=\"1164\" y=\"-453.8\" font-family=\"Times,serif\" font-size=\"14.00\" fill=\"#000000\">right_distance &lt;= 1.5</text>\n<text text-anchor=\"middle\" x=\"1164\" y=\"-438.8\" font-family=\"Times,serif\" font-size=\"14.00\" fill=\"#000000\">gini = 0.198</text>\n<text text-anchor=\"middle\" x=\"1164\" y=\"-423.8\" font-family=\"Times,serif\" font-size=\"14.00\" fill=\"#000000\">samples = 9</text>\n<text text-anchor=\"middle\" x=\"1164\" y=\"-408.8\" font-family=\"Times,serif\" font-size=\"14.00\" fill=\"#000000\">value = [0, 1, 8]</text>\n</g>\n<!-- 25&#45;&gt;31 -->\n<g id=\"edge31\" class=\"edge\">\n<title>25&#45;&gt;31</title>\n<path fill=\"none\" stroke=\"#000000\" d=\"M1164,-504.9465C1164,-496.776 1164,-487.9318 1164,-479.3697\"/>\n<polygon fill=\"#000000\" stroke=\"#000000\" points=\"1167.5001,-479.13 1164,-469.13 1160.5001,-479.13 1167.5001,-479.13\"/>\n</g>\n<!-- 27 -->\n<g id=\"node28\" class=\"node\">\n<title>27</title>\n<polygon fill=\"none\" stroke=\"#000000\" points=\"902,-365 762,-365 762,-297 902,-297 902,-365\"/>\n<text text-anchor=\"middle\" x=\"832\" y=\"-349.8\" font-family=\"Times,serif\" font-size=\"14.00\" fill=\"#000000\">right_distance &lt;= 1.5</text>\n<text text-anchor=\"middle\" x=\"832\" y=\"-334.8\" font-family=\"Times,serif\" font-size=\"14.00\" fill=\"#000000\">gini = 0.5</text>\n<text text-anchor=\"middle\" x=\"832\" y=\"-319.8\" font-family=\"Times,serif\" font-size=\"14.00\" fill=\"#000000\">samples = 2</text>\n<text text-anchor=\"middle\" x=\"832\" y=\"-304.8\" font-family=\"Times,serif\" font-size=\"14.00\" fill=\"#000000\">value = [0, 1, 1]</text>\n</g>\n<!-- 26&#45;&gt;27 -->\n<g id=\"edge27\" class=\"edge\">\n<title>26&#45;&gt;27</title>\n<path fill=\"none\" stroke=\"#000000\" d=\"M928.1765,-400.9465C915.0902,-391.4293 900.747,-380.9978 887.2241,-371.163\"/>\n<polygon fill=\"#000000\" stroke=\"#000000\" points=\"889.0747,-368.1812 878.9287,-365.13 884.9575,-373.8423 889.0747,-368.1812\"/>\n</g>\n<!-- 30 -->\n<g id=\"node31\" class=\"node\">\n<title>30</title>\n<polygon fill=\"none\" stroke=\"#000000\" points=\"1030,-357.5 920,-357.5 920,-304.5 1030,-304.5 1030,-357.5\"/>\n<text text-anchor=\"middle\" x=\"975\" y=\"-342.3\" font-family=\"Times,serif\" font-size=\"14.00\" fill=\"#000000\">gini = 0.0</text>\n<text text-anchor=\"middle\" x=\"975\" y=\"-327.3\" font-family=\"Times,serif\" font-size=\"14.00\" fill=\"#000000\">samples = 1</text>\n<text text-anchor=\"middle\" x=\"975\" y=\"-312.3\" font-family=\"Times,serif\" font-size=\"14.00\" fill=\"#000000\">value = [1, 0, 0]</text>\n</g>\n<!-- 26&#45;&gt;30 -->\n<g id=\"edge30\" class=\"edge\">\n<title>26&#45;&gt;30</title>\n<path fill=\"none\" stroke=\"#000000\" d=\"M975,-400.9465C975,-390.2621 975,-378.4254 975,-367.5742\"/>\n<polygon fill=\"#000000\" stroke=\"#000000\" points=\"978.5001,-367.5421 975,-357.5422 971.5001,-367.5422 978.5001,-367.5421\"/>\n</g>\n<!-- 28 -->\n<g id=\"node29\" class=\"node\">\n<title>28</title>\n<polygon fill=\"none\" stroke=\"#000000\" points=\"887,-253.5 777,-253.5 777,-200.5 887,-200.5 887,-253.5\"/>\n<text text-anchor=\"middle\" x=\"832\" y=\"-238.3\" font-family=\"Times,serif\" font-size=\"14.00\" fill=\"#000000\">gini = 0.0</text>\n<text text-anchor=\"middle\" x=\"832\" y=\"-223.3\" font-family=\"Times,serif\" font-size=\"14.00\" fill=\"#000000\">samples = 1</text>\n<text text-anchor=\"middle\" x=\"832\" y=\"-208.3\" font-family=\"Times,serif\" font-size=\"14.00\" fill=\"#000000\">value = [0, 1, 0]</text>\n</g>\n<!-- 27&#45;&gt;28 -->\n<g id=\"edge28\" class=\"edge\">\n<title>27&#45;&gt;28</title>\n<path fill=\"none\" stroke=\"#000000\" d=\"M832,-296.9465C832,-286.2621 832,-274.4254 832,-263.5742\"/>\n<polygon fill=\"#000000\" stroke=\"#000000\" points=\"835.5001,-263.5421 832,-253.5422 828.5001,-263.5422 835.5001,-263.5421\"/>\n</g>\n<!-- 29 -->\n<g id=\"node30\" class=\"node\">\n<title>29</title>\n<polygon fill=\"none\" stroke=\"#000000\" points=\"1015,-253.5 905,-253.5 905,-200.5 1015,-200.5 1015,-253.5\"/>\n<text text-anchor=\"middle\" x=\"960\" y=\"-238.3\" font-family=\"Times,serif\" font-size=\"14.00\" fill=\"#000000\">gini = 0.0</text>\n<text text-anchor=\"middle\" x=\"960\" y=\"-223.3\" font-family=\"Times,serif\" font-size=\"14.00\" fill=\"#000000\">samples = 1</text>\n<text text-anchor=\"middle\" x=\"960\" y=\"-208.3\" font-family=\"Times,serif\" font-size=\"14.00\" fill=\"#000000\">value = [0, 0, 1]</text>\n</g>\n<!-- 27&#45;&gt;29 -->\n<g id=\"edge29\" class=\"edge\">\n<title>27&#45;&gt;29</title>\n<path fill=\"none\" stroke=\"#000000\" d=\"M873.912,-296.9465C888.5533,-285.0504 904.9526,-271.726 919.4785,-259.9237\"/>\n<polygon fill=\"#000000\" stroke=\"#000000\" points=\"921.7786,-262.5645 927.3327,-253.5422 917.3645,-257.1317 921.7786,-262.5645\"/>\n</g>\n<!-- 32 -->\n<g id=\"node33\" class=\"node\">\n<title>32</title>\n<polygon fill=\"none\" stroke=\"#000000\" points=\"1179.5,-365 1048.5,-365 1048.5,-297 1179.5,-297 1179.5,-365\"/>\n<text text-anchor=\"middle\" x=\"1114\" y=\"-349.8\" font-family=\"Times,serif\" font-size=\"14.00\" fill=\"#000000\">left_distance &lt;= 1.5</text>\n<text text-anchor=\"middle\" x=\"1114\" y=\"-334.8\" font-family=\"Times,serif\" font-size=\"14.00\" fill=\"#000000\">gini = 0.375</text>\n<text text-anchor=\"middle\" x=\"1114\" y=\"-319.8\" font-family=\"Times,serif\" font-size=\"14.00\" fill=\"#000000\">samples = 4</text>\n<text text-anchor=\"middle\" x=\"1114\" y=\"-304.8\" font-family=\"Times,serif\" font-size=\"14.00\" fill=\"#000000\">value = [0, 1, 3]</text>\n</g>\n<!-- 31&#45;&gt;32 -->\n<g id=\"edge32\" class=\"edge\">\n<title>31&#45;&gt;32</title>\n<path fill=\"none\" stroke=\"#000000\" d=\"M1147.6281,-400.9465C1143.5274,-392.4169 1139.0736,-383.153 1134.7896,-374.2424\"/>\n<polygon fill=\"#000000\" stroke=\"#000000\" points=\"1137.896,-372.626 1130.4087,-365.13 1131.5873,-375.6591 1137.896,-372.626\"/>\n</g>\n<!-- 37 -->\n<g id=\"node38\" class=\"node\">\n<title>37</title>\n<polygon fill=\"none\" stroke=\"#000000\" points=\"1308,-357.5 1198,-357.5 1198,-304.5 1308,-304.5 1308,-357.5\"/>\n<text text-anchor=\"middle\" x=\"1253\" y=\"-342.3\" font-family=\"Times,serif\" font-size=\"14.00\" fill=\"#000000\">gini = 0.0</text>\n<text text-anchor=\"middle\" x=\"1253\" y=\"-327.3\" font-family=\"Times,serif\" font-size=\"14.00\" fill=\"#000000\">samples = 5</text>\n<text text-anchor=\"middle\" x=\"1253\" y=\"-312.3\" font-family=\"Times,serif\" font-size=\"14.00\" fill=\"#000000\">value = [0, 0, 5]</text>\n</g>\n<!-- 31&#45;&gt;37 -->\n<g id=\"edge37\" class=\"edge\">\n<title>31&#45;&gt;37</title>\n<path fill=\"none\" stroke=\"#000000\" d=\"M1193.1419,-400.9465C1202.9452,-389.491 1213.8819,-376.711 1223.6975,-365.2412\"/>\n<polygon fill=\"#000000\" stroke=\"#000000\" points=\"1226.4433,-367.4156 1230.286,-357.5422 1221.1249,-362.8642 1226.4433,-367.4156\"/>\n</g>\n<!-- 33 -->\n<g id=\"node34\" class=\"node\">\n<title>33</title>\n<polygon fill=\"none\" stroke=\"#000000\" points=\"1156,-253.5 1046,-253.5 1046,-200.5 1156,-200.5 1156,-253.5\"/>\n<text text-anchor=\"middle\" x=\"1101\" y=\"-238.3\" font-family=\"Times,serif\" font-size=\"14.00\" fill=\"#000000\">gini = 0.0</text>\n<text text-anchor=\"middle\" x=\"1101\" y=\"-223.3\" font-family=\"Times,serif\" font-size=\"14.00\" fill=\"#000000\">samples = 2</text>\n<text text-anchor=\"middle\" x=\"1101\" y=\"-208.3\" font-family=\"Times,serif\" font-size=\"14.00\" fill=\"#000000\">value = [0, 0, 2]</text>\n</g>\n<!-- 32&#45;&gt;33 -->\n<g id=\"edge33\" class=\"edge\">\n<title>32&#45;&gt;33</title>\n<path fill=\"none\" stroke=\"#000000\" d=\"M1109.7433,-296.9465C1108.4078,-286.2621 1106.9282,-274.4254 1105.5718,-263.5742\"/>\n<polygon fill=\"#000000\" stroke=\"#000000\" points=\"1109.0312,-263.0308 1104.3178,-253.5422 1102.0852,-263.8991 1109.0312,-263.0308\"/>\n</g>\n<!-- 34 -->\n<g id=\"node35\" class=\"node\">\n<title>34</title>\n<polygon fill=\"none\" stroke=\"#000000\" points=\"1298,-261 1174,-261 1174,-193 1298,-193 1298,-261\"/>\n<text text-anchor=\"middle\" x=\"1236\" y=\"-245.8\" font-family=\"Times,serif\" font-size=\"14.00\" fill=\"#000000\">left_weight &lt;= 2.5</text>\n<text text-anchor=\"middle\" x=\"1236\" y=\"-230.8\" font-family=\"Times,serif\" font-size=\"14.00\" fill=\"#000000\">gini = 0.5</text>\n<text text-anchor=\"middle\" x=\"1236\" y=\"-215.8\" font-family=\"Times,serif\" font-size=\"14.00\" fill=\"#000000\">samples = 2</text>\n<text text-anchor=\"middle\" x=\"1236\" y=\"-200.8\" font-family=\"Times,serif\" font-size=\"14.00\" fill=\"#000000\">value = [0, 1, 1]</text>\n</g>\n<!-- 32&#45;&gt;34 -->\n<g id=\"edge34\" class=\"edge\">\n<title>32&#45;&gt;34</title>\n<path fill=\"none\" stroke=\"#000000\" d=\"M1153.9474,-296.9465C1164.9012,-287.6088 1176.8873,-277.3911 1188.232,-267.7203\"/>\n<polygon fill=\"#000000\" stroke=\"#000000\" points=\"1190.6233,-270.2809 1195.9629,-261.13 1186.0821,-264.9538 1190.6233,-270.2809\"/>\n</g>\n<!-- 35 -->\n<g id=\"node36\" class=\"node\">\n<title>35</title>\n<polygon fill=\"none\" stroke=\"#000000\" points=\"1227,-149.5 1117,-149.5 1117,-96.5 1227,-96.5 1227,-149.5\"/>\n<text text-anchor=\"middle\" x=\"1172\" y=\"-134.3\" font-family=\"Times,serif\" font-size=\"14.00\" fill=\"#000000\">gini = 0.0</text>\n<text text-anchor=\"middle\" x=\"1172\" y=\"-119.3\" font-family=\"Times,serif\" font-size=\"14.00\" fill=\"#000000\">samples = 1</text>\n<text text-anchor=\"middle\" x=\"1172\" y=\"-104.3\" font-family=\"Times,serif\" font-size=\"14.00\" fill=\"#000000\">value = [0, 0, 1]</text>\n</g>\n<!-- 34&#45;&gt;35 -->\n<g id=\"edge35\" class=\"edge\">\n<title>34&#45;&gt;35</title>\n<path fill=\"none\" stroke=\"#000000\" d=\"M1215.044,-192.9465C1208.1978,-181.8215 1200.5829,-169.4473 1193.6843,-158.237\"/>\n<polygon fill=\"#000000\" stroke=\"#000000\" points=\"1196.5555,-156.2244 1188.3336,-149.5422 1190.5939,-159.8931 1196.5555,-156.2244\"/>\n</g>\n<!-- 36 -->\n<g id=\"node37\" class=\"node\">\n<title>36</title>\n<polygon fill=\"none\" stroke=\"#000000\" points=\"1355,-149.5 1245,-149.5 1245,-96.5 1355,-96.5 1355,-149.5\"/>\n<text text-anchor=\"middle\" x=\"1300\" y=\"-134.3\" font-family=\"Times,serif\" font-size=\"14.00\" fill=\"#000000\">gini = 0.0</text>\n<text text-anchor=\"middle\" x=\"1300\" y=\"-119.3\" font-family=\"Times,serif\" font-size=\"14.00\" fill=\"#000000\">samples = 1</text>\n<text text-anchor=\"middle\" x=\"1300\" y=\"-104.3\" font-family=\"Times,serif\" font-size=\"14.00\" fill=\"#000000\">value = [0, 1, 0]</text>\n</g>\n<!-- 34&#45;&gt;36 -->\n<g id=\"edge36\" class=\"edge\">\n<title>34&#45;&gt;36</title>\n<path fill=\"none\" stroke=\"#000000\" d=\"M1256.956,-192.9465C1263.8022,-181.8215 1271.4171,-169.4473 1278.3157,-158.237\"/>\n<polygon fill=\"#000000\" stroke=\"#000000\" points=\"1281.4061,-159.8931 1283.6664,-149.5422 1275.4445,-156.2244 1281.4061,-159.8931\"/>\n</g>\n<!-- 39 -->\n<g id=\"node40\" class=\"node\">\n<title>39</title>\n<polygon fill=\"none\" stroke=\"#000000\" points=\"1480,-573 1340,-573 1340,-505 1480,-505 1480,-573\"/>\n<text text-anchor=\"middle\" x=\"1410\" y=\"-557.8\" font-family=\"Times,serif\" font-size=\"14.00\" fill=\"#000000\">right_distance &lt;= 1.5</text>\n<text text-anchor=\"middle\" x=\"1410\" y=\"-542.8\" font-family=\"Times,serif\" font-size=\"14.00\" fill=\"#000000\">gini = 0.625</text>\n<text text-anchor=\"middle\" x=\"1410\" y=\"-527.8\" font-family=\"Times,serif\" font-size=\"14.00\" fill=\"#000000\">samples = 8</text>\n<text text-anchor=\"middle\" x=\"1410\" y=\"-512.8\" font-family=\"Times,serif\" font-size=\"14.00\" fill=\"#000000\">value = [2, 2, 4]</text>\n</g>\n<!-- 38&#45;&gt;39 -->\n<g id=\"edge39\" class=\"edge\">\n<title>38&#45;&gt;39</title>\n<path fill=\"none\" stroke=\"#000000\" d=\"M1410,-608.9465C1410,-600.776 1410,-591.9318 1410,-583.3697\"/>\n<polygon fill=\"#000000\" stroke=\"#000000\" points=\"1413.5001,-583.13 1410,-573.13 1406.5001,-583.13 1413.5001,-583.13\"/>\n</g>\n<!-- 44 -->\n<g id=\"node45\" class=\"node\">\n<title>44</title>\n<polygon fill=\"none\" stroke=\"#000000\" points=\"1693,-573 1553,-573 1553,-505 1693,-505 1693,-573\"/>\n<text text-anchor=\"middle\" x=\"1623\" y=\"-557.8\" font-family=\"Times,serif\" font-size=\"14.00\" fill=\"#000000\">right_distance &lt;= 1.5</text>\n<text text-anchor=\"middle\" x=\"1623\" y=\"-542.8\" font-family=\"Times,serif\" font-size=\"14.00\" fill=\"#000000\">gini = 0.278</text>\n<text text-anchor=\"middle\" x=\"1623\" y=\"-527.8\" font-family=\"Times,serif\" font-size=\"14.00\" fill=\"#000000\">samples = 6</text>\n<text text-anchor=\"middle\" x=\"1623\" y=\"-512.8\" font-family=\"Times,serif\" font-size=\"14.00\" fill=\"#000000\">value = [1, 5, 0]</text>\n</g>\n<!-- 38&#45;&gt;44 -->\n<g id=\"edge44\" class=\"edge\">\n<title>38&#45;&gt;44</title>\n<path fill=\"none\" stroke=\"#000000\" d=\"M1475.645,-610.948C1497.2391,-600.4044 1521.4745,-588.5711 1543.9577,-577.5934\"/>\n<polygon fill=\"#000000\" stroke=\"#000000\" points=\"1545.6891,-580.643 1553.1395,-573.1103 1542.6177,-574.3528 1545.6891,-580.643\"/>\n</g>\n<!-- 40 -->\n<g id=\"node41\" class=\"node\">\n<title>40</title>\n<polygon fill=\"none\" stroke=\"#000000\" points=\"1421.5,-469 1288.5,-469 1288.5,-401 1421.5,-401 1421.5,-469\"/>\n<text text-anchor=\"middle\" x=\"1355\" y=\"-453.8\" font-family=\"Times,serif\" font-size=\"14.00\" fill=\"#000000\">right_weight &lt;= 3.5</text>\n<text text-anchor=\"middle\" x=\"1355\" y=\"-438.8\" font-family=\"Times,serif\" font-size=\"14.00\" fill=\"#000000\">gini = 0.5</text>\n<text text-anchor=\"middle\" x=\"1355\" y=\"-423.8\" font-family=\"Times,serif\" font-size=\"14.00\" fill=\"#000000\">samples = 4</text>\n<text text-anchor=\"middle\" x=\"1355\" y=\"-408.8\" font-family=\"Times,serif\" font-size=\"14.00\" fill=\"#000000\">value = [2, 2, 0]</text>\n</g>\n<!-- 39&#45;&gt;40 -->\n<g id=\"edge40\" class=\"edge\">\n<title>39&#45;&gt;40</title>\n<path fill=\"none\" stroke=\"#000000\" d=\"M1391.9909,-504.9465C1387.4801,-496.4169 1382.5809,-487.153 1377.8686,-478.2424\"/>\n<polygon fill=\"#000000\" stroke=\"#000000\" points=\"1380.8185,-476.3337 1373.0495,-469.13 1374.6306,-479.6062 1380.8185,-476.3337\"/>\n</g>\n<!-- 43 -->\n<g id=\"node44\" class=\"node\">\n<title>43</title>\n<polygon fill=\"none\" stroke=\"#000000\" points=\"1550,-461.5 1440,-461.5 1440,-408.5 1550,-408.5 1550,-461.5\"/>\n<text text-anchor=\"middle\" x=\"1495\" y=\"-446.3\" font-family=\"Times,serif\" font-size=\"14.00\" fill=\"#000000\">gini = 0.0</text>\n<text text-anchor=\"middle\" x=\"1495\" y=\"-431.3\" font-family=\"Times,serif\" font-size=\"14.00\" fill=\"#000000\">samples = 4</text>\n<text text-anchor=\"middle\" x=\"1495\" y=\"-416.3\" font-family=\"Times,serif\" font-size=\"14.00\" fill=\"#000000\">value = [0, 0, 4]</text>\n</g>\n<!-- 39&#45;&gt;43 -->\n<g id=\"edge43\" class=\"edge\">\n<title>39&#45;&gt;43</title>\n<path fill=\"none\" stroke=\"#000000\" d=\"M1437.8322,-504.9465C1447.1048,-493.6012 1457.4392,-480.9567 1466.7437,-469.5724\"/>\n<polygon fill=\"#000000\" stroke=\"#000000\" points=\"1469.6885,-471.5 1473.3069,-461.5422 1464.2685,-467.0701 1469.6885,-471.5\"/>\n</g>\n<!-- 41 -->\n<g id=\"node42\" class=\"node\">\n<title>41</title>\n<polygon fill=\"none\" stroke=\"#000000\" points=\"1436,-357.5 1326,-357.5 1326,-304.5 1436,-304.5 1436,-357.5\"/>\n<text text-anchor=\"middle\" x=\"1381\" y=\"-342.3\" font-family=\"Times,serif\" font-size=\"14.00\" fill=\"#000000\">gini = 0.0</text>\n<text text-anchor=\"middle\" x=\"1381\" y=\"-327.3\" font-family=\"Times,serif\" font-size=\"14.00\" fill=\"#000000\">samples = 2</text>\n<text text-anchor=\"middle\" x=\"1381\" y=\"-312.3\" font-family=\"Times,serif\" font-size=\"14.00\" fill=\"#000000\">value = [0, 2, 0]</text>\n</g>\n<!-- 40&#45;&gt;41 -->\n<g id=\"edge41\" class=\"edge\">\n<title>40&#45;&gt;41</title>\n<path fill=\"none\" stroke=\"#000000\" d=\"M1363.5134,-400.9465C1366.1845,-390.2621 1369.1436,-378.4254 1371.8564,-367.5742\"/>\n<polygon fill=\"#000000\" stroke=\"#000000\" points=\"1375.3345,-368.0925 1374.3645,-357.5422 1368.5435,-366.3947 1375.3345,-368.0925\"/>\n</g>\n<!-- 42 -->\n<g id=\"node43\" class=\"node\">\n<title>42</title>\n<polygon fill=\"none\" stroke=\"#000000\" points=\"1564,-357.5 1454,-357.5 1454,-304.5 1564,-304.5 1564,-357.5\"/>\n<text text-anchor=\"middle\" x=\"1509\" y=\"-342.3\" font-family=\"Times,serif\" font-size=\"14.00\" fill=\"#000000\">gini = 0.0</text>\n<text text-anchor=\"middle\" x=\"1509\" y=\"-327.3\" font-family=\"Times,serif\" font-size=\"14.00\" fill=\"#000000\">samples = 2</text>\n<text text-anchor=\"middle\" x=\"1509\" y=\"-312.3\" font-family=\"Times,serif\" font-size=\"14.00\" fill=\"#000000\">value = [2, 0, 0]</text>\n</g>\n<!-- 40&#45;&gt;42 -->\n<g id=\"edge42\" class=\"edge\">\n<title>40&#45;&gt;42</title>\n<path fill=\"none\" stroke=\"#000000\" d=\"M1405.4254,-400.9465C1423.3669,-388.8301 1443.5026,-375.232 1461.2162,-363.2696\"/>\n<polygon fill=\"#000000\" stroke=\"#000000\" points=\"1463.3687,-366.0393 1469.6972,-357.5422 1459.4511,-360.2382 1463.3687,-366.0393\"/>\n</g>\n<!-- 45 -->\n<g id=\"node46\" class=\"node\">\n<title>45</title>\n<polygon fill=\"none\" stroke=\"#000000\" points=\"1678,-461.5 1568,-461.5 1568,-408.5 1678,-408.5 1678,-461.5\"/>\n<text text-anchor=\"middle\" x=\"1623\" y=\"-446.3\" font-family=\"Times,serif\" font-size=\"14.00\" fill=\"#000000\">gini = 0.0</text>\n<text text-anchor=\"middle\" x=\"1623\" y=\"-431.3\" font-family=\"Times,serif\" font-size=\"14.00\" fill=\"#000000\">samples = 3</text>\n<text text-anchor=\"middle\" x=\"1623\" y=\"-416.3\" font-family=\"Times,serif\" font-size=\"14.00\" fill=\"#000000\">value = [0, 3, 0]</text>\n</g>\n<!-- 44&#45;&gt;45 -->\n<g id=\"edge45\" class=\"edge\">\n<title>44&#45;&gt;45</title>\n<path fill=\"none\" stroke=\"#000000\" d=\"M1623,-504.9465C1623,-494.2621 1623,-482.4254 1623,-471.5742\"/>\n<polygon fill=\"#000000\" stroke=\"#000000\" points=\"1626.5001,-471.5421 1623,-461.5422 1619.5001,-471.5422 1626.5001,-471.5421\"/>\n</g>\n<!-- 46 -->\n<g id=\"node47\" class=\"node\">\n<title>46</title>\n<polygon fill=\"none\" stroke=\"#000000\" points=\"1829.5,-469 1696.5,-469 1696.5,-401 1829.5,-401 1829.5,-469\"/>\n<text text-anchor=\"middle\" x=\"1763\" y=\"-453.8\" font-family=\"Times,serif\" font-size=\"14.00\" fill=\"#000000\">right_weight &lt;= 3.5</text>\n<text text-anchor=\"middle\" x=\"1763\" y=\"-438.8\" font-family=\"Times,serif\" font-size=\"14.00\" fill=\"#000000\">gini = 0.444</text>\n<text text-anchor=\"middle\" x=\"1763\" y=\"-423.8\" font-family=\"Times,serif\" font-size=\"14.00\" fill=\"#000000\">samples = 3</text>\n<text text-anchor=\"middle\" x=\"1763\" y=\"-408.8\" font-family=\"Times,serif\" font-size=\"14.00\" fill=\"#000000\">value = [1, 2, 0]</text>\n</g>\n<!-- 44&#45;&gt;46 -->\n<g id=\"edge46\" class=\"edge\">\n<title>44&#45;&gt;46</title>\n<path fill=\"none\" stroke=\"#000000\" d=\"M1668.8412,-504.9465C1681.6529,-495.4293 1695.6952,-484.9978 1708.9344,-475.163\"/>\n<polygon fill=\"#000000\" stroke=\"#000000\" points=\"1711.1155,-477.9029 1717.0558,-469.13 1706.9412,-472.2837 1711.1155,-477.9029\"/>\n</g>\n<!-- 47 -->\n<g id=\"node48\" class=\"node\">\n<title>47</title>\n<polygon fill=\"none\" stroke=\"#000000\" points=\"1738,-357.5 1628,-357.5 1628,-304.5 1738,-304.5 1738,-357.5\"/>\n<text text-anchor=\"middle\" x=\"1683\" y=\"-342.3\" font-family=\"Times,serif\" font-size=\"14.00\" fill=\"#000000\">gini = 0.0</text>\n<text text-anchor=\"middle\" x=\"1683\" y=\"-327.3\" font-family=\"Times,serif\" font-size=\"14.00\" fill=\"#000000\">samples = 1</text>\n<text text-anchor=\"middle\" x=\"1683\" y=\"-312.3\" font-family=\"Times,serif\" font-size=\"14.00\" fill=\"#000000\">value = [0, 1, 0]</text>\n</g>\n<!-- 46&#45;&gt;47 -->\n<g id=\"edge47\" class=\"edge\">\n<title>46&#45;&gt;47</title>\n<path fill=\"none\" stroke=\"#000000\" d=\"M1736.805,-400.9465C1728.0778,-389.6012 1718.3513,-376.9567 1709.5941,-365.5724\"/>\n<polygon fill=\"#000000\" stroke=\"#000000\" points=\"1712.2884,-363.3344 1703.417,-357.5422 1706.74,-367.6024 1712.2884,-363.3344\"/>\n</g>\n<!-- 48 -->\n<g id=\"node49\" class=\"node\">\n<title>48</title>\n<polygon fill=\"none\" stroke=\"#000000\" points=\"1880,-365 1756,-365 1756,-297 1880,-297 1880,-365\"/>\n<text text-anchor=\"middle\" x=\"1818\" y=\"-349.8\" font-family=\"Times,serif\" font-size=\"14.00\" fill=\"#000000\">left_weight &lt;= 4.5</text>\n<text text-anchor=\"middle\" x=\"1818\" y=\"-334.8\" font-family=\"Times,serif\" font-size=\"14.00\" fill=\"#000000\">gini = 0.5</text>\n<text text-anchor=\"middle\" x=\"1818\" y=\"-319.8\" font-family=\"Times,serif\" font-size=\"14.00\" fill=\"#000000\">samples = 2</text>\n<text text-anchor=\"middle\" x=\"1818\" y=\"-304.8\" font-family=\"Times,serif\" font-size=\"14.00\" fill=\"#000000\">value = [1, 1, 0]</text>\n</g>\n<!-- 46&#45;&gt;48 -->\n<g id=\"edge48\" class=\"edge\">\n<title>46&#45;&gt;48</title>\n<path fill=\"none\" stroke=\"#000000\" d=\"M1781.0091,-400.9465C1785.5199,-392.4169 1790.4191,-383.153 1795.1314,-374.2424\"/>\n<polygon fill=\"#000000\" stroke=\"#000000\" points=\"1798.3694,-375.6062 1799.9505,-365.13 1792.1815,-372.3337 1798.3694,-375.6062\"/>\n</g>\n<!-- 49 -->\n<g id=\"node50\" class=\"node\">\n<title>49</title>\n<polygon fill=\"none\" stroke=\"#000000\" points=\"1809,-253.5 1699,-253.5 1699,-200.5 1809,-200.5 1809,-253.5\"/>\n<text text-anchor=\"middle\" x=\"1754\" y=\"-238.3\" font-family=\"Times,serif\" font-size=\"14.00\" fill=\"#000000\">gini = 0.0</text>\n<text text-anchor=\"middle\" x=\"1754\" y=\"-223.3\" font-family=\"Times,serif\" font-size=\"14.00\" fill=\"#000000\">samples = 1</text>\n<text text-anchor=\"middle\" x=\"1754\" y=\"-208.3\" font-family=\"Times,serif\" font-size=\"14.00\" fill=\"#000000\">value = [1, 0, 0]</text>\n</g>\n<!-- 48&#45;&gt;49 -->\n<g id=\"edge49\" class=\"edge\">\n<title>48&#45;&gt;49</title>\n<path fill=\"none\" stroke=\"#000000\" d=\"M1797.044,-296.9465C1790.1978,-285.8215 1782.5829,-273.4473 1775.6843,-262.237\"/>\n<polygon fill=\"#000000\" stroke=\"#000000\" points=\"1778.5555,-260.2244 1770.3336,-253.5422 1772.5939,-263.8931 1778.5555,-260.2244\"/>\n</g>\n<!-- 50 -->\n<g id=\"node51\" class=\"node\">\n<title>50</title>\n<polygon fill=\"none\" stroke=\"#000000\" points=\"1937,-253.5 1827,-253.5 1827,-200.5 1937,-200.5 1937,-253.5\"/>\n<text text-anchor=\"middle\" x=\"1882\" y=\"-238.3\" font-family=\"Times,serif\" font-size=\"14.00\" fill=\"#000000\">gini = 0.0</text>\n<text text-anchor=\"middle\" x=\"1882\" y=\"-223.3\" font-family=\"Times,serif\" font-size=\"14.00\" fill=\"#000000\">samples = 1</text>\n<text text-anchor=\"middle\" x=\"1882\" y=\"-208.3\" font-family=\"Times,serif\" font-size=\"14.00\" fill=\"#000000\">value = [0, 1, 0]</text>\n</g>\n<!-- 48&#45;&gt;50 -->\n<g id=\"edge50\" class=\"edge\">\n<title>48&#45;&gt;50</title>\n<path fill=\"none\" stroke=\"#000000\" d=\"M1838.956,-296.9465C1845.8022,-285.8215 1853.4171,-273.4473 1860.3157,-262.237\"/>\n<polygon fill=\"#000000\" stroke=\"#000000\" points=\"1863.4061,-263.8931 1865.6664,-253.5422 1857.4445,-260.2244 1863.4061,-263.8931\"/>\n</g>\n<!-- 52 -->\n<g id=\"node53\" class=\"node\">\n<title>52</title>\n<polygon fill=\"none\" stroke=\"#000000\" points=\"2451.5,-781 2318.5,-781 2318.5,-713 2451.5,-713 2451.5,-781\"/>\n<text text-anchor=\"middle\" x=\"2385\" y=\"-765.8\" font-family=\"Times,serif\" font-size=\"14.00\" fill=\"#000000\">right_weight &lt;= 2.5</text>\n<text text-anchor=\"middle\" x=\"2385\" y=\"-750.8\" font-family=\"Times,serif\" font-size=\"14.00\" fill=\"#000000\">gini = 0.615</text>\n<text text-anchor=\"middle\" x=\"2385\" y=\"-735.8\" font-family=\"Times,serif\" font-size=\"14.00\" fill=\"#000000\">samples = 20</text>\n<text text-anchor=\"middle\" x=\"2385\" y=\"-720.8\" font-family=\"Times,serif\" font-size=\"14.00\" fill=\"#000000\">value = [3, 9, 8]</text>\n</g>\n<!-- 51&#45;&gt;52 -->\n<g id=\"edge52\" class=\"edge\">\n<title>51&#45;&gt;52</title>\n<path fill=\"none\" stroke=\"#000000\" d=\"M2442.8404,-816.9465C2435.4158,-807.968 2427.3185,-798.1758 2419.5972,-788.8385\"/>\n<polygon fill=\"#000000\" stroke=\"#000000\" points=\"2422.2928,-786.606 2413.2229,-781.13 2416.8983,-791.0669 2422.2928,-786.606\"/>\n</g>\n<!-- 67 -->\n<g id=\"node68\" class=\"node\">\n<title>67</title>\n<polygon fill=\"none\" stroke=\"#000000\" points=\"2613.5,-781 2482.5,-781 2482.5,-713 2613.5,-713 2613.5,-781\"/>\n<text text-anchor=\"middle\" x=\"2548\" y=\"-765.8\" font-family=\"Times,serif\" font-size=\"14.00\" fill=\"#000000\">left_distance &lt;= 3.5</text>\n<text text-anchor=\"middle\" x=\"2548\" y=\"-750.8\" font-family=\"Times,serif\" font-size=\"14.00\" fill=\"#000000\">gini = 0.044</text>\n<text text-anchor=\"middle\" x=\"2548\" y=\"-735.8\" font-family=\"Times,serif\" font-size=\"14.00\" fill=\"#000000\">samples = 89</text>\n<text text-anchor=\"middle\" x=\"2548\" y=\"-720.8\" font-family=\"Times,serif\" font-size=\"14.00\" fill=\"#000000\">value = [1, 87, 1]</text>\n</g>\n<!-- 51&#45;&gt;67 -->\n<g id=\"edge67\" class=\"edge\">\n<title>51&#45;&gt;67</title>\n<path fill=\"none\" stroke=\"#000000\" d=\"M2496.2127,-816.9465C2502.7273,-808.1475 2509.8205,-798.5672 2516.6082,-789.3993\"/>\n<polygon fill=\"#000000\" stroke=\"#000000\" points=\"2519.5931,-791.2496 2522.7307,-781.13 2513.9673,-787.0843 2519.5931,-791.2496\"/>\n</g>\n<!-- 53 -->\n<g id=\"node54\" class=\"node\">\n<title>53</title>\n<polygon fill=\"none\" stroke=\"#000000\" points=\"2097.5,-677 1964.5,-677 1964.5,-609 2097.5,-609 2097.5,-677\"/>\n<text text-anchor=\"middle\" x=\"2031\" y=\"-661.8\" font-family=\"Times,serif\" font-size=\"14.00\" fill=\"#000000\">right_weight &lt;= 1.5</text>\n<text text-anchor=\"middle\" x=\"2031\" y=\"-646.8\" font-family=\"Times,serif\" font-size=\"14.00\" fill=\"#000000\">gini = 0.219</text>\n<text text-anchor=\"middle\" x=\"2031\" y=\"-631.8\" font-family=\"Times,serif\" font-size=\"14.00\" fill=\"#000000\">samples = 8</text>\n<text text-anchor=\"middle\" x=\"2031\" y=\"-616.8\" font-family=\"Times,serif\" font-size=\"14.00\" fill=\"#000000\">value = [1, 7, 0]</text>\n</g>\n<!-- 52&#45;&gt;53 -->\n<g id=\"edge53\" class=\"edge\">\n<title>52&#45;&gt;53</title>\n<path fill=\"none\" stroke=\"#000000\" d=\"M2318.4153,-727.4384C2258.4347,-709.817 2170.2882,-683.9208 2107.4466,-665.4589\"/>\n<polygon fill=\"#000000\" stroke=\"#000000\" points=\"2108.1674,-662.0228 2097.5863,-662.5621 2106.1943,-668.739 2108.1674,-662.0228\"/>\n</g>\n<!-- 58 -->\n<g id=\"node59\" class=\"node\">\n<title>58</title>\n<polygon fill=\"none\" stroke=\"#000000\" points=\"2455,-677 2315,-677 2315,-609 2455,-609 2455,-677\"/>\n<text text-anchor=\"middle\" x=\"2385\" y=\"-661.8\" font-family=\"Times,serif\" font-size=\"14.00\" fill=\"#000000\">right_distance &lt;= 1.5</text>\n<text text-anchor=\"middle\" x=\"2385\" y=\"-646.8\" font-family=\"Times,serif\" font-size=\"14.00\" fill=\"#000000\">gini = 0.5</text>\n<text text-anchor=\"middle\" x=\"2385\" y=\"-631.8\" font-family=\"Times,serif\" font-size=\"14.00\" fill=\"#000000\">samples = 12</text>\n<text text-anchor=\"middle\" x=\"2385\" y=\"-616.8\" font-family=\"Times,serif\" font-size=\"14.00\" fill=\"#000000\">value = [2, 2, 8]</text>\n</g>\n<!-- 52&#45;&gt;58 -->\n<g id=\"edge58\" class=\"edge\">\n<title>52&#45;&gt;58</title>\n<path fill=\"none\" stroke=\"#000000\" d=\"M2385,-712.9465C2385,-704.776 2385,-695.9318 2385,-687.3697\"/>\n<polygon fill=\"#000000\" stroke=\"#000000\" points=\"2388.5001,-687.13 2385,-677.13 2381.5001,-687.13 2388.5001,-687.13\"/>\n</g>\n<!-- 54 -->\n<g id=\"node55\" class=\"node\">\n<title>54</title>\n<polygon fill=\"none\" stroke=\"#000000\" points=\"1943,-565.5 1833,-565.5 1833,-512.5 1943,-512.5 1943,-565.5\"/>\n<text text-anchor=\"middle\" x=\"1888\" y=\"-550.3\" font-family=\"Times,serif\" font-size=\"14.00\" fill=\"#000000\">gini = 0.0</text>\n<text text-anchor=\"middle\" x=\"1888\" y=\"-535.3\" font-family=\"Times,serif\" font-size=\"14.00\" fill=\"#000000\">samples = 4</text>\n<text text-anchor=\"middle\" x=\"1888\" y=\"-520.3\" font-family=\"Times,serif\" font-size=\"14.00\" fill=\"#000000\">value = [0, 4, 0]</text>\n</g>\n<!-- 53&#45;&gt;54 -->\n<g id=\"edge54\" class=\"edge\">\n<title>53&#45;&gt;54</title>\n<path fill=\"none\" stroke=\"#000000\" d=\"M1984.1765,-608.9465C1967.6679,-596.9403 1949.1588,-583.4791 1932.8198,-571.5962\"/>\n<polygon fill=\"#000000\" stroke=\"#000000\" points=\"1934.6415,-568.5933 1924.4955,-565.5422 1930.5242,-574.2545 1934.6415,-568.5933\"/>\n</g>\n<!-- 55 -->\n<g id=\"node56\" class=\"node\">\n<title>55</title>\n<polygon fill=\"none\" stroke=\"#000000\" points=\"2101,-573 1961,-573 1961,-505 2101,-505 2101,-573\"/>\n<text text-anchor=\"middle\" x=\"2031\" y=\"-557.8\" font-family=\"Times,serif\" font-size=\"14.00\" fill=\"#000000\">right_distance &lt;= 1.5</text>\n<text text-anchor=\"middle\" x=\"2031\" y=\"-542.8\" font-family=\"Times,serif\" font-size=\"14.00\" fill=\"#000000\">gini = 0.375</text>\n<text text-anchor=\"middle\" x=\"2031\" y=\"-527.8\" font-family=\"Times,serif\" font-size=\"14.00\" fill=\"#000000\">samples = 4</text>\n<text text-anchor=\"middle\" x=\"2031\" y=\"-512.8\" font-family=\"Times,serif\" font-size=\"14.00\" fill=\"#000000\">value = [1, 3, 0]</text>\n</g>\n<!-- 53&#45;&gt;55 -->\n<g id=\"edge55\" class=\"edge\">\n<title>53&#45;&gt;55</title>\n<path fill=\"none\" stroke=\"#000000\" d=\"M2031,-608.9465C2031,-600.776 2031,-591.9318 2031,-583.3697\"/>\n<polygon fill=\"#000000\" stroke=\"#000000\" points=\"2034.5001,-583.13 2031,-573.13 2027.5001,-583.13 2034.5001,-583.13\"/>\n</g>\n<!-- 56 -->\n<g id=\"node57\" class=\"node\">\n<title>56</title>\n<polygon fill=\"none\" stroke=\"#000000\" points=\"1958,-461.5 1848,-461.5 1848,-408.5 1958,-408.5 1958,-461.5\"/>\n<text text-anchor=\"middle\" x=\"1903\" y=\"-446.3\" font-family=\"Times,serif\" font-size=\"14.00\" fill=\"#000000\">gini = 0.0</text>\n<text text-anchor=\"middle\" x=\"1903\" y=\"-431.3\" font-family=\"Times,serif\" font-size=\"14.00\" fill=\"#000000\">samples = 3</text>\n<text text-anchor=\"middle\" x=\"1903\" y=\"-416.3\" font-family=\"Times,serif\" font-size=\"14.00\" fill=\"#000000\">value = [0, 3, 0]</text>\n</g>\n<!-- 55&#45;&gt;56 -->\n<g id=\"edge56\" class=\"edge\">\n<title>55&#45;&gt;56</title>\n<path fill=\"none\" stroke=\"#000000\" d=\"M1989.088,-504.9465C1974.4467,-493.0504 1958.0474,-479.726 1943.5215,-467.9237\"/>\n<polygon fill=\"#000000\" stroke=\"#000000\" points=\"1945.6355,-465.1317 1935.6673,-461.5422 1941.2214,-470.5645 1945.6355,-465.1317\"/>\n</g>\n<!-- 57 -->\n<g id=\"node58\" class=\"node\">\n<title>57</title>\n<polygon fill=\"none\" stroke=\"#000000\" points=\"2086,-461.5 1976,-461.5 1976,-408.5 2086,-408.5 2086,-461.5\"/>\n<text text-anchor=\"middle\" x=\"2031\" y=\"-446.3\" font-family=\"Times,serif\" font-size=\"14.00\" fill=\"#000000\">gini = 0.0</text>\n<text text-anchor=\"middle\" x=\"2031\" y=\"-431.3\" font-family=\"Times,serif\" font-size=\"14.00\" fill=\"#000000\">samples = 1</text>\n<text text-anchor=\"middle\" x=\"2031\" y=\"-416.3\" font-family=\"Times,serif\" font-size=\"14.00\" fill=\"#000000\">value = [1, 0, 0]</text>\n</g>\n<!-- 55&#45;&gt;57 -->\n<g id=\"edge57\" class=\"edge\">\n<title>55&#45;&gt;57</title>\n<path fill=\"none\" stroke=\"#000000\" d=\"M2031,-504.9465C2031,-494.2621 2031,-482.4254 2031,-471.5742\"/>\n<polygon fill=\"#000000\" stroke=\"#000000\" points=\"2034.5001,-471.5421 2031,-461.5422 2027.5001,-471.5422 2034.5001,-471.5421\"/>\n</g>\n<!-- 59 -->\n<g id=\"node60\" class=\"node\">\n<title>59</title>\n<polygon fill=\"none\" stroke=\"#000000\" points=\"2325.5,-573 2194.5,-573 2194.5,-505 2325.5,-505 2325.5,-573\"/>\n<text text-anchor=\"middle\" x=\"2260\" y=\"-557.8\" font-family=\"Times,serif\" font-size=\"14.00\" fill=\"#000000\">left_distance &lt;= 4.5</text>\n<text text-anchor=\"middle\" x=\"2260\" y=\"-542.8\" font-family=\"Times,serif\" font-size=\"14.00\" fill=\"#000000\">gini = 0.667</text>\n<text text-anchor=\"middle\" x=\"2260\" y=\"-527.8\" font-family=\"Times,serif\" font-size=\"14.00\" fill=\"#000000\">samples = 6</text>\n<text text-anchor=\"middle\" x=\"2260\" y=\"-512.8\" font-family=\"Times,serif\" font-size=\"14.00\" fill=\"#000000\">value = [2, 2, 2]</text>\n</g>\n<!-- 58&#45;&gt;59 -->\n<g id=\"edge59\" class=\"edge\">\n<title>58&#45;&gt;59</title>\n<path fill=\"none\" stroke=\"#000000\" d=\"M2344.0703,-608.9465C2332.8472,-599.6088 2320.5663,-589.3911 2308.9427,-579.7203\"/>\n<polygon fill=\"#000000\" stroke=\"#000000\" points=\"2310.9474,-576.8353 2301.0216,-573.13 2306.4704,-582.2164 2310.9474,-576.8353\"/>\n</g>\n<!-- 66 -->\n<g id=\"node67\" class=\"node\">\n<title>66</title>\n<polygon fill=\"none\" stroke=\"#000000\" points=\"2454,-565.5 2344,-565.5 2344,-512.5 2454,-512.5 2454,-565.5\"/>\n<text text-anchor=\"middle\" x=\"2399\" y=\"-550.3\" font-family=\"Times,serif\" font-size=\"14.00\" fill=\"#000000\">gini = 0.0</text>\n<text text-anchor=\"middle\" x=\"2399\" y=\"-535.3\" font-family=\"Times,serif\" font-size=\"14.00\" fill=\"#000000\">samples = 6</text>\n<text text-anchor=\"middle\" x=\"2399\" y=\"-520.3\" font-family=\"Times,serif\" font-size=\"14.00\" fill=\"#000000\">value = [0, 0, 6]</text>\n</g>\n<!-- 58&#45;&gt;66 -->\n<g id=\"edge66\" class=\"edge\">\n<title>58&#45;&gt;66</title>\n<path fill=\"none\" stroke=\"#000000\" d=\"M2389.5841,-608.9465C2391.0224,-598.2621 2392.6158,-586.4254 2394.0765,-575.5742\"/>\n<polygon fill=\"#000000\" stroke=\"#000000\" points=\"2397.5615,-575.9197 2395.427,-565.5422 2390.6241,-574.9858 2397.5615,-575.9197\"/>\n</g>\n<!-- 60 -->\n<g id=\"node61\" class=\"node\">\n<title>60</title>\n<polygon fill=\"none\" stroke=\"#000000\" points=\"2237.5,-469 2104.5,-469 2104.5,-401 2237.5,-401 2237.5,-469\"/>\n<text text-anchor=\"middle\" x=\"2171\" y=\"-453.8\" font-family=\"Times,serif\" font-size=\"14.00\" fill=\"#000000\">right_weight &lt;= 3.5</text>\n<text text-anchor=\"middle\" x=\"2171\" y=\"-438.8\" font-family=\"Times,serif\" font-size=\"14.00\" fill=\"#000000\">gini = 0.444</text>\n<text text-anchor=\"middle\" x=\"2171\" y=\"-423.8\" font-family=\"Times,serif\" font-size=\"14.00\" fill=\"#000000\">samples = 3</text>\n<text text-anchor=\"middle\" x=\"2171\" y=\"-408.8\" font-family=\"Times,serif\" font-size=\"14.00\" fill=\"#000000\">value = [1, 0, 2]</text>\n</g>\n<!-- 59&#45;&gt;60 -->\n<g id=\"edge60\" class=\"edge\">\n<title>59&#45;&gt;60</title>\n<path fill=\"none\" stroke=\"#000000\" d=\"M2230.8581,-504.9465C2223.1745,-495.968 2214.7947,-486.1758 2206.8041,-476.8385\"/>\n<polygon fill=\"#000000\" stroke=\"#000000\" points=\"2209.3685,-474.4521 2200.2074,-469.13 2204.0501,-479.0034 2209.3685,-474.4521\"/>\n</g>\n<!-- 63 -->\n<g id=\"node64\" class=\"node\">\n<title>63</title>\n<polygon fill=\"none\" stroke=\"#000000\" points=\"2388.5,-469 2255.5,-469 2255.5,-401 2388.5,-401 2388.5,-469\"/>\n<text text-anchor=\"middle\" x=\"2322\" y=\"-453.8\" font-family=\"Times,serif\" font-size=\"14.00\" fill=\"#000000\">right_weight &lt;= 4.5</text>\n<text text-anchor=\"middle\" x=\"2322\" y=\"-438.8\" font-family=\"Times,serif\" font-size=\"14.00\" fill=\"#000000\">gini = 0.444</text>\n<text text-anchor=\"middle\" x=\"2322\" y=\"-423.8\" font-family=\"Times,serif\" font-size=\"14.00\" fill=\"#000000\">samples = 3</text>\n<text text-anchor=\"middle\" x=\"2322\" y=\"-408.8\" font-family=\"Times,serif\" font-size=\"14.00\" fill=\"#000000\">value = [1, 2, 0]</text>\n</g>\n<!-- 59&#45;&gt;63 -->\n<g id=\"edge63\" class=\"edge\">\n<title>59&#45;&gt;63</title>\n<path fill=\"none\" stroke=\"#000000\" d=\"M2280.3011,-504.9465C2285.4396,-496.3271 2291.0251,-486.9579 2296.3886,-477.9611\"/>\n<polygon fill=\"#000000\" stroke=\"#000000\" points=\"2299.5389,-479.5117 2301.6533,-469.13 2293.5263,-475.9272 2299.5389,-479.5117\"/>\n</g>\n<!-- 61 -->\n<g id=\"node62\" class=\"node\">\n<title>61</title>\n<polygon fill=\"none\" stroke=\"#000000\" points=\"2031,-357.5 1921,-357.5 1921,-304.5 2031,-304.5 2031,-357.5\"/>\n<text text-anchor=\"middle\" x=\"1976\" y=\"-342.3\" font-family=\"Times,serif\" font-size=\"14.00\" fill=\"#000000\">gini = 0.0</text>\n<text text-anchor=\"middle\" x=\"1976\" y=\"-327.3\" font-family=\"Times,serif\" font-size=\"14.00\" fill=\"#000000\">samples = 1</text>\n<text text-anchor=\"middle\" x=\"1976\" y=\"-312.3\" font-family=\"Times,serif\" font-size=\"14.00\" fill=\"#000000\">value = [1, 0, 0]</text>\n</g>\n<!-- 60&#45;&gt;61 -->\n<g id=\"edge61\" class=\"edge\">\n<title>60&#45;&gt;61</title>\n<path fill=\"none\" stroke=\"#000000\" d=\"M2107.1497,-400.9465C2083.8119,-388.4997 2057.5423,-374.4892 2034.6773,-362.2946\"/>\n<polygon fill=\"#000000\" stroke=\"#000000\" points=\"2036.2372,-359.1599 2025.7666,-357.5422 2032.943,-365.3363 2036.2372,-359.1599\"/>\n</g>\n<!-- 62 -->\n<g id=\"node63\" class=\"node\">\n<title>62</title>\n<polygon fill=\"none\" stroke=\"#000000\" points=\"2159,-357.5 2049,-357.5 2049,-304.5 2159,-304.5 2159,-357.5\"/>\n<text text-anchor=\"middle\" x=\"2104\" y=\"-342.3\" font-family=\"Times,serif\" font-size=\"14.00\" fill=\"#000000\">gini = 0.0</text>\n<text text-anchor=\"middle\" x=\"2104\" y=\"-327.3\" font-family=\"Times,serif\" font-size=\"14.00\" fill=\"#000000\">samples = 2</text>\n<text text-anchor=\"middle\" x=\"2104\" y=\"-312.3\" font-family=\"Times,serif\" font-size=\"14.00\" fill=\"#000000\">value = [0, 0, 2]</text>\n</g>\n<!-- 60&#45;&gt;62 -->\n<g id=\"edge62\" class=\"edge\">\n<title>60&#45;&gt;62</title>\n<path fill=\"none\" stroke=\"#000000\" d=\"M2149.0617,-400.9465C2141.8946,-389.8215 2133.9227,-377.4473 2126.7007,-366.237\"/>\n<polygon fill=\"#000000\" stroke=\"#000000\" points=\"2129.4574,-364.0532 2121.0993,-357.5422 2123.5728,-367.8442 2129.4574,-364.0532\"/>\n</g>\n<!-- 64 -->\n<g id=\"node65\" class=\"node\">\n<title>64</title>\n<polygon fill=\"none\" stroke=\"#000000\" points=\"2287,-357.5 2177,-357.5 2177,-304.5 2287,-304.5 2287,-357.5\"/>\n<text text-anchor=\"middle\" x=\"2232\" y=\"-342.3\" font-family=\"Times,serif\" font-size=\"14.00\" fill=\"#000000\">gini = 0.0</text>\n<text text-anchor=\"middle\" x=\"2232\" y=\"-327.3\" font-family=\"Times,serif\" font-size=\"14.00\" fill=\"#000000\">samples = 2</text>\n<text text-anchor=\"middle\" x=\"2232\" y=\"-312.3\" font-family=\"Times,serif\" font-size=\"14.00\" fill=\"#000000\">value = [0, 2, 0]</text>\n</g>\n<!-- 63&#45;&gt;64 -->\n<g id=\"edge64\" class=\"edge\">\n<title>63&#45;&gt;64</title>\n<path fill=\"none\" stroke=\"#000000\" d=\"M2292.5306,-400.9465C2282.6172,-389.491 2271.5576,-376.711 2261.6318,-365.2412\"/>\n<polygon fill=\"#000000\" stroke=\"#000000\" points=\"2264.1596,-362.8135 2254.9692,-357.5422 2258.8664,-367.3942 2264.1596,-362.8135\"/>\n</g>\n<!-- 65 -->\n<g id=\"node66\" class=\"node\">\n<title>65</title>\n<polygon fill=\"none\" stroke=\"#000000\" points=\"2415,-357.5 2305,-357.5 2305,-304.5 2415,-304.5 2415,-357.5\"/>\n<text text-anchor=\"middle\" x=\"2360\" y=\"-342.3\" font-family=\"Times,serif\" font-size=\"14.00\" fill=\"#000000\">gini = 0.0</text>\n<text text-anchor=\"middle\" x=\"2360\" y=\"-327.3\" font-family=\"Times,serif\" font-size=\"14.00\" fill=\"#000000\">samples = 1</text>\n<text text-anchor=\"middle\" x=\"2360\" y=\"-312.3\" font-family=\"Times,serif\" font-size=\"14.00\" fill=\"#000000\">value = [1, 0, 0]</text>\n</g>\n<!-- 63&#45;&gt;65 -->\n<g id=\"edge65\" class=\"edge\">\n<title>63&#45;&gt;65</title>\n<path fill=\"none\" stroke=\"#000000\" d=\"M2334.4426,-400.9465C2338.3868,-390.1519 2342.7607,-378.1813 2346.7589,-367.2389\"/>\n<polygon fill=\"#000000\" stroke=\"#000000\" points=\"2350.1573,-368.136 2350.3019,-357.5422 2343.5825,-365.7336 2350.1573,-368.136\"/>\n</g>\n<!-- 68 -->\n<g id=\"node69\" class=\"node\">\n<title>68</title>\n<polygon fill=\"none\" stroke=\"#000000\" points=\"2614.5,-677 2481.5,-677 2481.5,-609 2614.5,-609 2614.5,-677\"/>\n<text text-anchor=\"middle\" x=\"2548\" y=\"-661.8\" font-family=\"Times,serif\" font-size=\"14.00\" fill=\"#000000\">right_weight &lt;= 4.5</text>\n<text text-anchor=\"middle\" x=\"2548\" y=\"-646.8\" font-family=\"Times,serif\" font-size=\"14.00\" fill=\"#000000\">gini = 0.123</text>\n<text text-anchor=\"middle\" x=\"2548\" y=\"-631.8\" font-family=\"Times,serif\" font-size=\"14.00\" fill=\"#000000\">samples = 31</text>\n<text text-anchor=\"middle\" x=\"2548\" y=\"-616.8\" font-family=\"Times,serif\" font-size=\"14.00\" fill=\"#000000\">value = [1, 29, 1]</text>\n</g>\n<!-- 67&#45;&gt;68 -->\n<g id=\"edge68\" class=\"edge\">\n<title>67&#45;&gt;68</title>\n<path fill=\"none\" stroke=\"#000000\" d=\"M2548,-712.9465C2548,-704.776 2548,-695.9318 2548,-687.3697\"/>\n<polygon fill=\"#000000\" stroke=\"#000000\" points=\"2551.5001,-687.13 2548,-677.13 2544.5001,-687.13 2551.5001,-687.13\"/>\n</g>\n<!-- 81 -->\n<g id=\"node82\" class=\"node\">\n<title>81</title>\n<polygon fill=\"none\" stroke=\"#000000\" points=\"2749.5,-669.5 2632.5,-669.5 2632.5,-616.5 2749.5,-616.5 2749.5,-669.5\"/>\n<text text-anchor=\"middle\" x=\"2691\" y=\"-654.3\" font-family=\"Times,serif\" font-size=\"14.00\" fill=\"#000000\">gini = 0.0</text>\n<text text-anchor=\"middle\" x=\"2691\" y=\"-639.3\" font-family=\"Times,serif\" font-size=\"14.00\" fill=\"#000000\">samples = 58</text>\n<text text-anchor=\"middle\" x=\"2691\" y=\"-624.3\" font-family=\"Times,serif\" font-size=\"14.00\" fill=\"#000000\">value = [0, 58, 0]</text>\n</g>\n<!-- 67&#45;&gt;81 -->\n<g id=\"edge81\" class=\"edge\">\n<title>67&#45;&gt;81</title>\n<path fill=\"none\" stroke=\"#000000\" d=\"M2594.8235,-712.9465C2611.3321,-700.9403 2629.8412,-687.4791 2646.1802,-675.5962\"/>\n<polygon fill=\"#000000\" stroke=\"#000000\" points=\"2648.4758,-678.2545 2654.5045,-669.5422 2644.3585,-672.5933 2648.4758,-678.2545\"/>\n</g>\n<!-- 69 -->\n<g id=\"node70\" class=\"node\">\n<title>69</title>\n<polygon fill=\"none\" stroke=\"#000000\" points=\"2610,-573 2486,-573 2486,-505 2610,-505 2610,-573\"/>\n<text text-anchor=\"middle\" x=\"2548\" y=\"-557.8\" font-family=\"Times,serif\" font-size=\"14.00\" fill=\"#000000\">left_weight &lt;= 2.5</text>\n<text text-anchor=\"middle\" x=\"2548\" y=\"-542.8\" font-family=\"Times,serif\" font-size=\"14.00\" fill=\"#000000\">gini = 0.071</text>\n<text text-anchor=\"middle\" x=\"2548\" y=\"-527.8\" font-family=\"Times,serif\" font-size=\"14.00\" fill=\"#000000\">samples = 27</text>\n<text text-anchor=\"middle\" x=\"2548\" y=\"-512.8\" font-family=\"Times,serif\" font-size=\"14.00\" fill=\"#000000\">value = [1, 26, 0]</text>\n</g>\n<!-- 68&#45;&gt;69 -->\n<g id=\"edge69\" class=\"edge\">\n<title>68&#45;&gt;69</title>\n<path fill=\"none\" stroke=\"#000000\" d=\"M2548,-608.9465C2548,-600.776 2548,-591.9318 2548,-583.3697\"/>\n<polygon fill=\"#000000\" stroke=\"#000000\" points=\"2551.5001,-583.13 2548,-573.13 2544.5001,-583.13 2551.5001,-583.13\"/>\n</g>\n<!-- 76 -->\n<g id=\"node77\" class=\"node\">\n<title>76</title>\n<polygon fill=\"none\" stroke=\"#000000\" points=\"2841,-573 2717,-573 2717,-505 2841,-505 2841,-573\"/>\n<text text-anchor=\"middle\" x=\"2779\" y=\"-557.8\" font-family=\"Times,serif\" font-size=\"14.00\" fill=\"#000000\">left_weight &lt;= 3.5</text>\n<text text-anchor=\"middle\" x=\"2779\" y=\"-542.8\" font-family=\"Times,serif\" font-size=\"14.00\" fill=\"#000000\">gini = 0.375</text>\n<text text-anchor=\"middle\" x=\"2779\" y=\"-527.8\" font-family=\"Times,serif\" font-size=\"14.00\" fill=\"#000000\">samples = 4</text>\n<text text-anchor=\"middle\" x=\"2779\" y=\"-512.8\" font-family=\"Times,serif\" font-size=\"14.00\" fill=\"#000000\">value = [0, 3, 1]</text>\n</g>\n<!-- 68&#45;&gt;76 -->\n<g id=\"edge76\" class=\"edge\">\n<title>68&#45;&gt;76</title>\n<path fill=\"none\" stroke=\"#000000\" d=\"M2614.6503,-612.7692C2617.4708,-611.495 2620.2633,-610.2343 2623,-609 2650.5948,-596.5541 2680.9591,-582.9162 2707.5077,-571.0108\"/>\n<polygon fill=\"#000000\" stroke=\"#000000\" points=\"2709.0353,-574.1616 2716.7283,-566.8768 2706.1715,-567.7742 2709.0353,-574.1616\"/>\n</g>\n<!-- 70 -->\n<g id=\"node71\" class=\"node\">\n<title>70</title>\n<polygon fill=\"none\" stroke=\"#000000\" points=\"2555,-469 2415,-469 2415,-401 2555,-401 2555,-469\"/>\n<text text-anchor=\"middle\" x=\"2485\" y=\"-453.8\" font-family=\"Times,serif\" font-size=\"14.00\" fill=\"#000000\">right_distance &lt;= 1.5</text>\n<text text-anchor=\"middle\" x=\"2485\" y=\"-438.8\" font-family=\"Times,serif\" font-size=\"14.00\" fill=\"#000000\">gini = 0.245</text>\n<text text-anchor=\"middle\" x=\"2485\" y=\"-423.8\" font-family=\"Times,serif\" font-size=\"14.00\" fill=\"#000000\">samples = 7</text>\n<text text-anchor=\"middle\" x=\"2485\" y=\"-408.8\" font-family=\"Times,serif\" font-size=\"14.00\" fill=\"#000000\">value = [1, 6, 0]</text>\n</g>\n<!-- 69&#45;&gt;70 -->\n<g id=\"edge70\" class=\"edge\">\n<title>69&#45;&gt;70</title>\n<path fill=\"none\" stroke=\"#000000\" d=\"M2527.3714,-504.9465C2522.1501,-496.3271 2516.4745,-486.9579 2511.0245,-477.9611\"/>\n<polygon fill=\"#000000\" stroke=\"#000000\" points=\"2513.8497,-475.8697 2505.6749,-469.13 2507.8626,-479.4965 2513.8497,-475.8697\"/>\n</g>\n<!-- 75 -->\n<g id=\"node76\" class=\"node\">\n<title>75</title>\n<polygon fill=\"none\" stroke=\"#000000\" points=\"2690.5,-461.5 2573.5,-461.5 2573.5,-408.5 2690.5,-408.5 2690.5,-461.5\"/>\n<text text-anchor=\"middle\" x=\"2632\" y=\"-446.3\" font-family=\"Times,serif\" font-size=\"14.00\" fill=\"#000000\">gini = 0.0</text>\n<text text-anchor=\"middle\" x=\"2632\" y=\"-431.3\" font-family=\"Times,serif\" font-size=\"14.00\" fill=\"#000000\">samples = 20</text>\n<text text-anchor=\"middle\" x=\"2632\" y=\"-416.3\" font-family=\"Times,serif\" font-size=\"14.00\" fill=\"#000000\">value = [0, 20, 0]</text>\n</g>\n<!-- 69&#45;&gt;75 -->\n<g id=\"edge75\" class=\"edge\">\n<title>69&#45;&gt;75</title>\n<path fill=\"none\" stroke=\"#000000\" d=\"M2575.5047,-504.9465C2584.6683,-493.6012 2594.8811,-480.9567 2604.0761,-469.5724\"/>\n<polygon fill=\"#000000\" stroke=\"#000000\" points=\"2607.0015,-471.5208 2610.5621,-461.5422 2601.5559,-467.1224 2607.0015,-471.5208\"/>\n</g>\n<!-- 71 -->\n<g id=\"node72\" class=\"node\">\n<title>71</title>\n<polygon fill=\"none\" stroke=\"#000000\" points=\"2543,-357.5 2433,-357.5 2433,-304.5 2543,-304.5 2543,-357.5\"/>\n<text text-anchor=\"middle\" x=\"2488\" y=\"-342.3\" font-family=\"Times,serif\" font-size=\"14.00\" fill=\"#000000\">gini = 0.0</text>\n<text text-anchor=\"middle\" x=\"2488\" y=\"-327.3\" font-family=\"Times,serif\" font-size=\"14.00\" fill=\"#000000\">samples = 4</text>\n<text text-anchor=\"middle\" x=\"2488\" y=\"-312.3\" font-family=\"Times,serif\" font-size=\"14.00\" fill=\"#000000\">value = [0, 4, 0]</text>\n</g>\n<!-- 70&#45;&gt;71 -->\n<g id=\"edge71\" class=\"edge\">\n<title>70&#45;&gt;71</title>\n<path fill=\"none\" stroke=\"#000000\" d=\"M2485.9823,-400.9465C2486.2905,-390.2621 2486.632,-378.4254 2486.945,-367.5742\"/>\n<polygon fill=\"#000000\" stroke=\"#000000\" points=\"2490.4445,-367.639 2487.2344,-357.5422 2483.4474,-367.4371 2490.4445,-367.639\"/>\n</g>\n<!-- 72 -->\n<g id=\"node73\" class=\"node\">\n<title>72</title>\n<polygon fill=\"none\" stroke=\"#000000\" points=\"2694.5,-365 2561.5,-365 2561.5,-297 2694.5,-297 2694.5,-365\"/>\n<text text-anchor=\"middle\" x=\"2628\" y=\"-349.8\" font-family=\"Times,serif\" font-size=\"14.00\" fill=\"#000000\">right_weight &lt;= 2.5</text>\n<text text-anchor=\"middle\" x=\"2628\" y=\"-334.8\" font-family=\"Times,serif\" font-size=\"14.00\" fill=\"#000000\">gini = 0.444</text>\n<text text-anchor=\"middle\" x=\"2628\" y=\"-319.8\" font-family=\"Times,serif\" font-size=\"14.00\" fill=\"#000000\">samples = 3</text>\n<text text-anchor=\"middle\" x=\"2628\" y=\"-304.8\" font-family=\"Times,serif\" font-size=\"14.00\" fill=\"#000000\">value = [1, 2, 0]</text>\n</g>\n<!-- 70&#45;&gt;72 -->\n<g id=\"edge72\" class=\"edge\">\n<title>70&#45;&gt;72</title>\n<path fill=\"none\" stroke=\"#000000\" d=\"M2531.8235,-400.9465C2544.9098,-391.4293 2559.253,-380.9978 2572.7759,-371.163\"/>\n<polygon fill=\"#000000\" stroke=\"#000000\" points=\"2575.0425,-373.8423 2581.0713,-365.13 2570.9253,-368.1812 2575.0425,-373.8423\"/>\n</g>\n<!-- 73 -->\n<g id=\"node74\" class=\"node\">\n<title>73</title>\n<polygon fill=\"none\" stroke=\"#000000\" points=\"2619,-253.5 2509,-253.5 2509,-200.5 2619,-200.5 2619,-253.5\"/>\n<text text-anchor=\"middle\" x=\"2564\" y=\"-238.3\" font-family=\"Times,serif\" font-size=\"14.00\" fill=\"#000000\">gini = 0.0</text>\n<text text-anchor=\"middle\" x=\"2564\" y=\"-223.3\" font-family=\"Times,serif\" font-size=\"14.00\" fill=\"#000000\">samples = 2</text>\n<text text-anchor=\"middle\" x=\"2564\" y=\"-208.3\" font-family=\"Times,serif\" font-size=\"14.00\" fill=\"#000000\">value = [0, 2, 0]</text>\n</g>\n<!-- 72&#45;&gt;73 -->\n<g id=\"edge73\" class=\"edge\">\n<title>72&#45;&gt;73</title>\n<path fill=\"none\" stroke=\"#000000\" d=\"M2607.044,-296.9465C2600.1978,-285.8215 2592.5829,-273.4473 2585.6843,-262.237\"/>\n<polygon fill=\"#000000\" stroke=\"#000000\" points=\"2588.5555,-260.2244 2580.3336,-253.5422 2582.5939,-263.8931 2588.5555,-260.2244\"/>\n</g>\n<!-- 74 -->\n<g id=\"node75\" class=\"node\">\n<title>74</title>\n<polygon fill=\"none\" stroke=\"#000000\" points=\"2747,-253.5 2637,-253.5 2637,-200.5 2747,-200.5 2747,-253.5\"/>\n<text text-anchor=\"middle\" x=\"2692\" y=\"-238.3\" font-family=\"Times,serif\" font-size=\"14.00\" fill=\"#000000\">gini = 0.0</text>\n<text text-anchor=\"middle\" x=\"2692\" y=\"-223.3\" font-family=\"Times,serif\" font-size=\"14.00\" fill=\"#000000\">samples = 1</text>\n<text text-anchor=\"middle\" x=\"2692\" y=\"-208.3\" font-family=\"Times,serif\" font-size=\"14.00\" fill=\"#000000\">value = [1, 0, 0]</text>\n</g>\n<!-- 72&#45;&gt;74 -->\n<g id=\"edge74\" class=\"edge\">\n<title>72&#45;&gt;74</title>\n<path fill=\"none\" stroke=\"#000000\" d=\"M2648.956,-296.9465C2655.8022,-285.8215 2663.4171,-273.4473 2670.3157,-262.237\"/>\n<polygon fill=\"#000000\" stroke=\"#000000\" points=\"2673.4061,-263.8931 2675.6664,-253.5422 2667.4445,-260.2244 2673.4061,-263.8931\"/>\n</g>\n<!-- 77 -->\n<g id=\"node78\" class=\"node\">\n<title>77</title>\n<polygon fill=\"none\" stroke=\"#000000\" points=\"2849,-469 2709,-469 2709,-401 2849,-401 2849,-469\"/>\n<text text-anchor=\"middle\" x=\"2779\" y=\"-453.8\" font-family=\"Times,serif\" font-size=\"14.00\" fill=\"#000000\">right_distance &lt;= 1.5</text>\n<text text-anchor=\"middle\" x=\"2779\" y=\"-438.8\" font-family=\"Times,serif\" font-size=\"14.00\" fill=\"#000000\">gini = 0.5</text>\n<text text-anchor=\"middle\" x=\"2779\" y=\"-423.8\" font-family=\"Times,serif\" font-size=\"14.00\" fill=\"#000000\">samples = 2</text>\n<text text-anchor=\"middle\" x=\"2779\" y=\"-408.8\" font-family=\"Times,serif\" font-size=\"14.00\" fill=\"#000000\">value = [0, 1, 1]</text>\n</g>\n<!-- 76&#45;&gt;77 -->\n<g id=\"edge77\" class=\"edge\">\n<title>76&#45;&gt;77</title>\n<path fill=\"none\" stroke=\"#000000\" d=\"M2779,-504.9465C2779,-496.776 2779,-487.9318 2779,-479.3697\"/>\n<polygon fill=\"#000000\" stroke=\"#000000\" points=\"2782.5001,-479.13 2779,-469.13 2775.5001,-479.13 2782.5001,-479.13\"/>\n</g>\n<!-- 80 -->\n<g id=\"node81\" class=\"node\">\n<title>80</title>\n<polygon fill=\"none\" stroke=\"#000000\" points=\"2977,-461.5 2867,-461.5 2867,-408.5 2977,-408.5 2977,-461.5\"/>\n<text text-anchor=\"middle\" x=\"2922\" y=\"-446.3\" font-family=\"Times,serif\" font-size=\"14.00\" fill=\"#000000\">gini = 0.0</text>\n<text text-anchor=\"middle\" x=\"2922\" y=\"-431.3\" font-family=\"Times,serif\" font-size=\"14.00\" fill=\"#000000\">samples = 2</text>\n<text text-anchor=\"middle\" x=\"2922\" y=\"-416.3\" font-family=\"Times,serif\" font-size=\"14.00\" fill=\"#000000\">value = [0, 2, 0]</text>\n</g>\n<!-- 76&#45;&gt;80 -->\n<g id=\"edge80\" class=\"edge\">\n<title>76&#45;&gt;80</title>\n<path fill=\"none\" stroke=\"#000000\" d=\"M2825.8235,-504.9465C2842.3321,-492.9403 2860.8412,-479.4791 2877.1802,-467.5962\"/>\n<polygon fill=\"#000000\" stroke=\"#000000\" points=\"2879.4758,-470.2545 2885.5045,-461.5422 2875.3585,-464.5933 2879.4758,-470.2545\"/>\n</g>\n<!-- 78 -->\n<g id=\"node79\" class=\"node\">\n<title>78</title>\n<polygon fill=\"none\" stroke=\"#000000\" points=\"2830,-357.5 2720,-357.5 2720,-304.5 2830,-304.5 2830,-357.5\"/>\n<text text-anchor=\"middle\" x=\"2775\" y=\"-342.3\" font-family=\"Times,serif\" font-size=\"14.00\" fill=\"#000000\">gini = 0.0</text>\n<text text-anchor=\"middle\" x=\"2775\" y=\"-327.3\" font-family=\"Times,serif\" font-size=\"14.00\" fill=\"#000000\">samples = 1</text>\n<text text-anchor=\"middle\" x=\"2775\" y=\"-312.3\" font-family=\"Times,serif\" font-size=\"14.00\" fill=\"#000000\">value = [0, 1, 0]</text>\n</g>\n<!-- 77&#45;&gt;78 -->\n<g id=\"edge78\" class=\"edge\">\n<title>77&#45;&gt;78</title>\n<path fill=\"none\" stroke=\"#000000\" d=\"M2777.6903,-400.9465C2777.2793,-390.2621 2776.8241,-378.4254 2776.4067,-367.5742\"/>\n<polygon fill=\"#000000\" stroke=\"#000000\" points=\"2779.9027,-367.4002 2776.0209,-357.5422 2772.9079,-367.6693 2779.9027,-367.4002\"/>\n</g>\n<!-- 79 -->\n<g id=\"node80\" class=\"node\">\n<title>79</title>\n<polygon fill=\"none\" stroke=\"#000000\" points=\"2958,-357.5 2848,-357.5 2848,-304.5 2958,-304.5 2958,-357.5\"/>\n<text text-anchor=\"middle\" x=\"2903\" y=\"-342.3\" font-family=\"Times,serif\" font-size=\"14.00\" fill=\"#000000\">gini = 0.0</text>\n<text text-anchor=\"middle\" x=\"2903\" y=\"-327.3\" font-family=\"Times,serif\" font-size=\"14.00\" fill=\"#000000\">samples = 1</text>\n<text text-anchor=\"middle\" x=\"2903\" y=\"-312.3\" font-family=\"Times,serif\" font-size=\"14.00\" fill=\"#000000\">value = [0, 0, 1]</text>\n</g>\n<!-- 77&#45;&gt;79 -->\n<g id=\"edge79\" class=\"edge\">\n<title>77&#45;&gt;79</title>\n<path fill=\"none\" stroke=\"#000000\" d=\"M2819.6022,-400.9465C2833.6547,-389.1606 2849.3788,-375.9726 2863.3535,-364.2519\"/>\n<polygon fill=\"#000000\" stroke=\"#000000\" points=\"2865.9408,-366.65 2871.3536,-357.5422 2861.4425,-361.2866 2865.9408,-366.65\"/>\n</g>\n<!-- 83 -->\n<g id=\"node84\" class=\"node\">\n<title>83</title>\n<polygon fill=\"none\" stroke=\"#000000\" points=\"3876.5,-885 3751.5,-885 3751.5,-817 3876.5,-817 3876.5,-885\"/>\n<text text-anchor=\"middle\" x=\"3814\" y=\"-869.8\" font-family=\"Times,serif\" font-size=\"14.00\" fill=\"#000000\">left_weight &lt;= 2.5</text>\n<text text-anchor=\"middle\" x=\"3814\" y=\"-854.8\" font-family=\"Times,serif\" font-size=\"14.00\" fill=\"#000000\">gini = 0.541</text>\n<text text-anchor=\"middle\" x=\"3814\" y=\"-839.8\" font-family=\"Times,serif\" font-size=\"14.00\" fill=\"#000000\">samples = 100</text>\n<text text-anchor=\"middle\" x=\"3814\" y=\"-824.8\" font-family=\"Times,serif\" font-size=\"14.00\" fill=\"#000000\">value = [9, 59, 32]</text>\n</g>\n<!-- 82&#45;&gt;83 -->\n<g id=\"edge83\" class=\"edge\">\n<title>82&#45;&gt;83</title>\n<path fill=\"none\" stroke=\"#000000\" d=\"M3814,-920.9465C3814,-912.776 3814,-903.9318 3814,-895.3697\"/>\n<polygon fill=\"#000000\" stroke=\"#000000\" points=\"3817.5001,-895.13 3814,-885.13 3810.5001,-895.13 3817.5001,-895.13\"/>\n</g>\n<!-- 142 -->\n<g id=\"node143\" class=\"node\">\n<title>142</title>\n<polygon fill=\"none\" stroke=\"#000000\" points=\"5296,-885 5156,-885 5156,-817 5296,-817 5296,-885\"/>\n<text text-anchor=\"middle\" x=\"5226\" y=\"-869.8\" font-family=\"Times,serif\" font-size=\"14.00\" fill=\"#000000\">left_distance &lt;= 3.5</text>\n<text text-anchor=\"middle\" x=\"5226\" y=\"-854.8\" font-family=\"Times,serif\" font-size=\"14.00\" fill=\"#000000\">gini = 0.34</text>\n<text text-anchor=\"middle\" x=\"5226\" y=\"-839.8\" font-family=\"Times,serif\" font-size=\"14.00\" fill=\"#000000\">samples = 169</text>\n<text text-anchor=\"middle\" x=\"5226\" y=\"-824.8\" font-family=\"Times,serif\" font-size=\"14.00\" fill=\"#000000\">value = [12, 22, 135]</text>\n</g>\n<!-- 82&#45;&gt;142 -->\n<g id=\"edge142\" class=\"edge\">\n<title>82&#45;&gt;142</title>\n<path fill=\"none\" stroke=\"#000000\" d=\"M3884.0213,-949.8426C4121.2667,-932.3685 4893.9102,-875.4599 5145.8023,-856.9069\"/>\n<polygon fill=\"#000000\" stroke=\"#000000\" points=\"5146.2581,-860.3829 5155.974,-856.1577 5145.7439,-853.4018 5146.2581,-860.3829\"/>\n</g>\n<!-- 84 -->\n<g id=\"node85\" class=\"node\">\n<title>84</title>\n<polygon fill=\"none\" stroke=\"#000000\" points=\"3665.5,-781 3534.5,-781 3534.5,-713 3665.5,-713 3665.5,-781\"/>\n<text text-anchor=\"middle\" x=\"3600\" y=\"-765.8\" font-family=\"Times,serif\" font-size=\"14.00\" fill=\"#000000\">left_distance &lt;= 2.5</text>\n<text text-anchor=\"middle\" x=\"3600\" y=\"-750.8\" font-family=\"Times,serif\" font-size=\"14.00\" fill=\"#000000\">gini = 0.542</text>\n<text text-anchor=\"middle\" x=\"3600\" y=\"-735.8\" font-family=\"Times,serif\" font-size=\"14.00\" fill=\"#000000\">samples = 37</text>\n<text text-anchor=\"middle\" x=\"3600\" y=\"-720.8\" font-family=\"Times,serif\" font-size=\"14.00\" fill=\"#000000\">value = [7, 7, 23]</text>\n</g>\n<!-- 83&#45;&gt;84 -->\n<g id=\"edge84\" class=\"edge\">\n<title>83&#45;&gt;84</title>\n<path fill=\"none\" stroke=\"#000000\" d=\"M3751.2389,-820.4993C3727.2935,-808.8623 3699.7605,-795.4817 3674.8042,-783.3534\"/>\n<polygon fill=\"#000000\" stroke=\"#000000\" points=\"3676.2617,-780.1704 3665.7377,-778.9473 3673.202,-786.4663 3676.2617,-780.1704\"/>\n</g>\n<!-- 117 -->\n<g id=\"node118\" class=\"node\">\n<title>117</title>\n<polygon fill=\"none\" stroke=\"#000000\" points=\"4210.5,-781 4079.5,-781 4079.5,-713 4210.5,-713 4210.5,-781\"/>\n<text text-anchor=\"middle\" x=\"4145\" y=\"-765.8\" font-family=\"Times,serif\" font-size=\"14.00\" fill=\"#000000\">left_distance &lt;= 1.5</text>\n<text text-anchor=\"middle\" x=\"4145\" y=\"-750.8\" font-family=\"Times,serif\" font-size=\"14.00\" fill=\"#000000\">gini = 0.297</text>\n<text text-anchor=\"middle\" x=\"4145\" y=\"-735.8\" font-family=\"Times,serif\" font-size=\"14.00\" fill=\"#000000\">samples = 63</text>\n<text text-anchor=\"middle\" x=\"4145\" y=\"-720.8\" font-family=\"Times,serif\" font-size=\"14.00\" fill=\"#000000\">value = [2, 52, 9]</text>\n</g>\n<!-- 83&#45;&gt;117 -->\n<g id=\"edge117\" class=\"edge\">\n<title>83&#45;&gt;117</title>\n<path fill=\"none\" stroke=\"#000000\" d=\"M3876.6477,-831.3161C3931.4827,-814.087 4011.2755,-789.0162 4069.5969,-770.6916\"/>\n<polygon fill=\"#000000\" stroke=\"#000000\" points=\"4071.0032,-773.9185 4079.4942,-767.5819 4068.9049,-767.2404 4071.0032,-773.9185\"/>\n</g>\n<!-- 85 -->\n<g id=\"node86\" class=\"node\">\n<title>85</title>\n<polygon fill=\"none\" stroke=\"#000000\" points=\"3251,-677 3127,-677 3127,-609 3251,-609 3251,-677\"/>\n<text text-anchor=\"middle\" x=\"3189\" y=\"-661.8\" font-family=\"Times,serif\" font-size=\"14.00\" fill=\"#000000\">left_weight &lt;= 1.5</text>\n<text text-anchor=\"middle\" x=\"3189\" y=\"-646.8\" font-family=\"Times,serif\" font-size=\"14.00\" fill=\"#000000\">gini = 0.227</text>\n<text text-anchor=\"middle\" x=\"3189\" y=\"-631.8\" font-family=\"Times,serif\" font-size=\"14.00\" fill=\"#000000\">samples = 16</text>\n<text text-anchor=\"middle\" x=\"3189\" y=\"-616.8\" font-family=\"Times,serif\" font-size=\"14.00\" fill=\"#000000\">value = [1, 1, 14]</text>\n</g>\n<!-- 84&#45;&gt;85 -->\n<g id=\"edge85\" class=\"edge\">\n<title>84&#45;&gt;85</title>\n<path fill=\"none\" stroke=\"#000000\" d=\"M3534.4214,-730.4059C3459.9177,-711.5534 3338.6857,-680.8767 3261.4456,-661.3317\"/>\n<polygon fill=\"#000000\" stroke=\"#000000\" points=\"3261.8691,-657.8287 3251.3161,-658.7685 3260.1519,-664.6148 3261.8691,-657.8287\"/>\n</g>\n<!-- 96 -->\n<g id=\"node97\" class=\"node\">\n<title>96</title>\n<polygon fill=\"none\" stroke=\"#000000\" points=\"3666.5,-677 3533.5,-677 3533.5,-609 3666.5,-609 3666.5,-677\"/>\n<text text-anchor=\"middle\" x=\"3600\" y=\"-661.8\" font-family=\"Times,serif\" font-size=\"14.00\" fill=\"#000000\">right_weight &lt;= 1.5</text>\n<text text-anchor=\"middle\" x=\"3600\" y=\"-646.8\" font-family=\"Times,serif\" font-size=\"14.00\" fill=\"#000000\">gini = 0.653</text>\n<text text-anchor=\"middle\" x=\"3600\" y=\"-631.8\" font-family=\"Times,serif\" font-size=\"14.00\" fill=\"#000000\">samples = 21</text>\n<text text-anchor=\"middle\" x=\"3600\" y=\"-616.8\" font-family=\"Times,serif\" font-size=\"14.00\" fill=\"#000000\">value = [6, 6, 9]</text>\n</g>\n<!-- 84&#45;&gt;96 -->\n<g id=\"edge96\" class=\"edge\">\n<title>84&#45;&gt;96</title>\n<path fill=\"none\" stroke=\"#000000\" d=\"M3600,-712.9465C3600,-704.776 3600,-695.9318 3600,-687.3697\"/>\n<polygon fill=\"#000000\" stroke=\"#000000\" points=\"3603.5001,-687.13 3600,-677.13 3596.5001,-687.13 3603.5001,-687.13\"/>\n</g>\n<!-- 86 -->\n<g id=\"node87\" class=\"node\">\n<title>86</title>\n<polygon fill=\"none\" stroke=\"#000000\" points=\"3100.5,-565.5 2983.5,-565.5 2983.5,-512.5 3100.5,-512.5 3100.5,-565.5\"/>\n<text text-anchor=\"middle\" x=\"3042\" y=\"-550.3\" font-family=\"Times,serif\" font-size=\"14.00\" fill=\"#000000\">gini = 0.0</text>\n<text text-anchor=\"middle\" x=\"3042\" y=\"-535.3\" font-family=\"Times,serif\" font-size=\"14.00\" fill=\"#000000\">samples = 10</text>\n<text text-anchor=\"middle\" x=\"3042\" y=\"-520.3\" font-family=\"Times,serif\" font-size=\"14.00\" fill=\"#000000\">value = [0, 0, 10]</text>\n</g>\n<!-- 85&#45;&gt;86 -->\n<g id=\"edge86\" class=\"edge\">\n<title>85&#45;&gt;86</title>\n<path fill=\"none\" stroke=\"#000000\" d=\"M3140.8667,-608.9465C3123.8963,-596.9403 3104.8696,-583.4791 3088.0735,-571.5962\"/>\n<polygon fill=\"#000000\" stroke=\"#000000\" points=\"3089.7013,-568.4605 3079.5163,-565.5422 3085.6584,-574.175 3089.7013,-568.4605\"/>\n</g>\n<!-- 87 -->\n<g id=\"node88\" class=\"node\">\n<title>87</title>\n<polygon fill=\"none\" stroke=\"#000000\" points=\"3259,-573 3119,-573 3119,-505 3259,-505 3259,-573\"/>\n<text text-anchor=\"middle\" x=\"3189\" y=\"-557.8\" font-family=\"Times,serif\" font-size=\"14.00\" fill=\"#000000\">right_distance &lt;= 3.5</text>\n<text text-anchor=\"middle\" x=\"3189\" y=\"-542.8\" font-family=\"Times,serif\" font-size=\"14.00\" fill=\"#000000\">gini = 0.5</text>\n<text text-anchor=\"middle\" x=\"3189\" y=\"-527.8\" font-family=\"Times,serif\" font-size=\"14.00\" fill=\"#000000\">samples = 6</text>\n<text text-anchor=\"middle\" x=\"3189\" y=\"-512.8\" font-family=\"Times,serif\" font-size=\"14.00\" fill=\"#000000\">value = [1, 1, 4]</text>\n</g>\n<!-- 85&#45;&gt;87 -->\n<g id=\"edge87\" class=\"edge\">\n<title>85&#45;&gt;87</title>\n<path fill=\"none\" stroke=\"#000000\" d=\"M3189,-608.9465C3189,-600.776 3189,-591.9318 3189,-583.3697\"/>\n<polygon fill=\"#000000\" stroke=\"#000000\" points=\"3192.5001,-583.13 3189,-573.13 3185.5001,-583.13 3192.5001,-583.13\"/>\n</g>\n<!-- 88 -->\n<g id=\"node89\" class=\"node\">\n<title>88</title>\n<polygon fill=\"none\" stroke=\"#000000\" points=\"3105,-461.5 2995,-461.5 2995,-408.5 3105,-408.5 3105,-461.5\"/>\n<text text-anchor=\"middle\" x=\"3050\" y=\"-446.3\" font-family=\"Times,serif\" font-size=\"14.00\" fill=\"#000000\">gini = 0.0</text>\n<text text-anchor=\"middle\" x=\"3050\" y=\"-431.3\" font-family=\"Times,serif\" font-size=\"14.00\" fill=\"#000000\">samples = 1</text>\n<text text-anchor=\"middle\" x=\"3050\" y=\"-416.3\" font-family=\"Times,serif\" font-size=\"14.00\" fill=\"#000000\">value = [0, 1, 0]</text>\n</g>\n<!-- 87&#45;&gt;88 -->\n<g id=\"edge88\" class=\"edge\">\n<title>87&#45;&gt;88</title>\n<path fill=\"none\" stroke=\"#000000\" d=\"M3143.4862,-504.9465C3127.4394,-492.9403 3109.4481,-479.4791 3093.5661,-467.5962\"/>\n<polygon fill=\"#000000\" stroke=\"#000000\" points=\"3095.5783,-464.7306 3085.4746,-461.5422 3091.3848,-470.3354 3095.5783,-464.7306\"/>\n</g>\n<!-- 89 -->\n<g id=\"node90\" class=\"node\">\n<title>89</title>\n<polygon fill=\"none\" stroke=\"#000000\" points=\"3254.5,-469 3123.5,-469 3123.5,-401 3254.5,-401 3254.5,-469\"/>\n<text text-anchor=\"middle\" x=\"3189\" y=\"-453.8\" font-family=\"Times,serif\" font-size=\"14.00\" fill=\"#000000\">left_distance &lt;= 1.5</text>\n<text text-anchor=\"middle\" x=\"3189\" y=\"-438.8\" font-family=\"Times,serif\" font-size=\"14.00\" fill=\"#000000\">gini = 0.32</text>\n<text text-anchor=\"middle\" x=\"3189\" y=\"-423.8\" font-family=\"Times,serif\" font-size=\"14.00\" fill=\"#000000\">samples = 5</text>\n<text text-anchor=\"middle\" x=\"3189\" y=\"-408.8\" font-family=\"Times,serif\" font-size=\"14.00\" fill=\"#000000\">value = [1, 0, 4]</text>\n</g>\n<!-- 87&#45;&gt;89 -->\n<g id=\"edge89\" class=\"edge\">\n<title>87&#45;&gt;89</title>\n<path fill=\"none\" stroke=\"#000000\" d=\"M3189,-504.9465C3189,-496.776 3189,-487.9318 3189,-479.3697\"/>\n<polygon fill=\"#000000\" stroke=\"#000000\" points=\"3192.5001,-479.13 3189,-469.13 3185.5001,-479.13 3192.5001,-479.13\"/>\n</g>\n<!-- 90 -->\n<g id=\"node91\" class=\"node\">\n<title>90</title>\n<polygon fill=\"none\" stroke=\"#000000\" points=\"3095,-357.5 2985,-357.5 2985,-304.5 3095,-304.5 3095,-357.5\"/>\n<text text-anchor=\"middle\" x=\"3040\" y=\"-342.3\" font-family=\"Times,serif\" font-size=\"14.00\" fill=\"#000000\">gini = 0.0</text>\n<text text-anchor=\"middle\" x=\"3040\" y=\"-327.3\" font-family=\"Times,serif\" font-size=\"14.00\" fill=\"#000000\">samples = 2</text>\n<text text-anchor=\"middle\" x=\"3040\" y=\"-312.3\" font-family=\"Times,serif\" font-size=\"14.00\" fill=\"#000000\">value = [0, 0, 2]</text>\n</g>\n<!-- 89&#45;&gt;90 -->\n<g id=\"edge90\" class=\"edge\">\n<title>89&#45;&gt;90</title>\n<path fill=\"none\" stroke=\"#000000\" d=\"M3140.2118,-400.9465C3122.8528,-388.8301 3103.3709,-375.232 3086.2324,-363.2696\"/>\n<polygon fill=\"#000000\" stroke=\"#000000\" points=\"3088.2301,-360.3957 3078.0268,-357.5422 3084.2236,-366.1358 3088.2301,-360.3957\"/>\n</g>\n<!-- 91 -->\n<g id=\"node92\" class=\"node\">\n<title>91</title>\n<polygon fill=\"none\" stroke=\"#000000\" points=\"3253,-365 3113,-365 3113,-297 3253,-297 3253,-365\"/>\n<text text-anchor=\"middle\" x=\"3183\" y=\"-349.8\" font-family=\"Times,serif\" font-size=\"14.00\" fill=\"#000000\">right_distance &lt;= 4.5</text>\n<text text-anchor=\"middle\" x=\"3183\" y=\"-334.8\" font-family=\"Times,serif\" font-size=\"14.00\" fill=\"#000000\">gini = 0.444</text>\n<text text-anchor=\"middle\" x=\"3183\" y=\"-319.8\" font-family=\"Times,serif\" font-size=\"14.00\" fill=\"#000000\">samples = 3</text>\n<text text-anchor=\"middle\" x=\"3183\" y=\"-304.8\" font-family=\"Times,serif\" font-size=\"14.00\" fill=\"#000000\">value = [1, 0, 2]</text>\n</g>\n<!-- 89&#45;&gt;91 -->\n<g id=\"edge91\" class=\"edge\">\n<title>89&#45;&gt;91</title>\n<path fill=\"none\" stroke=\"#000000\" d=\"M3187.0354,-400.9465C3186.564,-392.776 3186.0538,-383.9318 3185.5598,-375.3697\"/>\n<polygon fill=\"#000000\" stroke=\"#000000\" points=\"3189.0393,-374.9118 3184.969,-365.13 3182.0509,-375.315 3189.0393,-374.9118\"/>\n</g>\n<!-- 92 -->\n<g id=\"node93\" class=\"node\">\n<title>92</title>\n<polygon fill=\"none\" stroke=\"#000000\" points=\"3004.5,-261 2871.5,-261 2871.5,-193 3004.5,-193 3004.5,-261\"/>\n<text text-anchor=\"middle\" x=\"2938\" y=\"-245.8\" font-family=\"Times,serif\" font-size=\"14.00\" fill=\"#000000\">right_weight &lt;= 1.5</text>\n<text text-anchor=\"middle\" x=\"2938\" y=\"-230.8\" font-family=\"Times,serif\" font-size=\"14.00\" fill=\"#000000\">gini = 0.5</text>\n<text text-anchor=\"middle\" x=\"2938\" y=\"-215.8\" font-family=\"Times,serif\" font-size=\"14.00\" fill=\"#000000\">samples = 2</text>\n<text text-anchor=\"middle\" x=\"2938\" y=\"-200.8\" font-family=\"Times,serif\" font-size=\"14.00\" fill=\"#000000\">value = [1, 0, 1]</text>\n</g>\n<!-- 91&#45;&gt;92 -->\n<g id=\"edge92\" class=\"edge\">\n<title>91&#45;&gt;92</title>\n<path fill=\"none\" stroke=\"#000000\" d=\"M3112.8287,-300.6879C3109.8485,-299.4359 3106.896,-298.2022 3104,-297 3064.2106,-280.4831 3053.6707,-277.7999 3014,-261 3013.9043,-260.9595 3013.8086,-260.9189 3013.7128,-260.8783\"/>\n<polygon fill=\"#000000\" stroke=\"#000000\" points=\"3015.2324,-257.7217 3004.6619,-257.0041 3012.4778,-264.1569 3015.2324,-257.7217\"/>\n</g>\n<!-- 95 -->\n<g id=\"node96\" class=\"node\">\n<title>95</title>\n<polygon fill=\"none\" stroke=\"#000000\" points=\"3133,-253.5 3023,-253.5 3023,-200.5 3133,-200.5 3133,-253.5\"/>\n<text text-anchor=\"middle\" x=\"3078\" y=\"-238.3\" font-family=\"Times,serif\" font-size=\"14.00\" fill=\"#000000\">gini = 0.0</text>\n<text text-anchor=\"middle\" x=\"3078\" y=\"-223.3\" font-family=\"Times,serif\" font-size=\"14.00\" fill=\"#000000\">samples = 1</text>\n<text text-anchor=\"middle\" x=\"3078\" y=\"-208.3\" font-family=\"Times,serif\" font-size=\"14.00\" fill=\"#000000\">value = [0, 0, 1]</text>\n</g>\n<!-- 91&#45;&gt;95 -->\n<g id=\"edge95\" class=\"edge\">\n<title>91&#45;&gt;95</title>\n<path fill=\"none\" stroke=\"#000000\" d=\"M3148.6191,-296.9465C3136.831,-285.2707 3123.6538,-272.219 3111.9038,-260.5809\"/>\n<polygon fill=\"#000000\" stroke=\"#000000\" points=\"3114.3652,-258.0927 3104.7974,-253.5422 3109.4392,-263.066 3114.3652,-258.0927\"/>\n</g>\n<!-- 93 -->\n<g id=\"node94\" class=\"node\">\n<title>93</title>\n<polygon fill=\"none\" stroke=\"#000000\" points=\"2929,-149.5 2819,-149.5 2819,-96.5 2929,-96.5 2929,-149.5\"/>\n<text text-anchor=\"middle\" x=\"2874\" y=\"-134.3\" font-family=\"Times,serif\" font-size=\"14.00\" fill=\"#000000\">gini = 0.0</text>\n<text text-anchor=\"middle\" x=\"2874\" y=\"-119.3\" font-family=\"Times,serif\" font-size=\"14.00\" fill=\"#000000\">samples = 1</text>\n<text text-anchor=\"middle\" x=\"2874\" y=\"-104.3\" font-family=\"Times,serif\" font-size=\"14.00\" fill=\"#000000\">value = [1, 0, 0]</text>\n</g>\n<!-- 92&#45;&gt;93 -->\n<g id=\"edge93\" class=\"edge\">\n<title>92&#45;&gt;93</title>\n<path fill=\"none\" stroke=\"#000000\" d=\"M2917.044,-192.9465C2910.1978,-181.8215 2902.5829,-169.4473 2895.6843,-158.237\"/>\n<polygon fill=\"#000000\" stroke=\"#000000\" points=\"2898.5555,-156.2244 2890.3336,-149.5422 2892.5939,-159.8931 2898.5555,-156.2244\"/>\n</g>\n<!-- 94 -->\n<g id=\"node95\" class=\"node\">\n<title>94</title>\n<polygon fill=\"none\" stroke=\"#000000\" points=\"3057,-149.5 2947,-149.5 2947,-96.5 3057,-96.5 3057,-149.5\"/>\n<text text-anchor=\"middle\" x=\"3002\" y=\"-134.3\" font-family=\"Times,serif\" font-size=\"14.00\" fill=\"#000000\">gini = 0.0</text>\n<text text-anchor=\"middle\" x=\"3002\" y=\"-119.3\" font-family=\"Times,serif\" font-size=\"14.00\" fill=\"#000000\">samples = 1</text>\n<text text-anchor=\"middle\" x=\"3002\" y=\"-104.3\" font-family=\"Times,serif\" font-size=\"14.00\" fill=\"#000000\">value = [0, 0, 1]</text>\n</g>\n<!-- 92&#45;&gt;94 -->\n<g id=\"edge94\" class=\"edge\">\n<title>92&#45;&gt;94</title>\n<path fill=\"none\" stroke=\"#000000\" d=\"M2958.956,-192.9465C2965.8022,-181.8215 2973.4171,-169.4473 2980.3157,-158.237\"/>\n<polygon fill=\"#000000\" stroke=\"#000000\" points=\"2983.4061,-159.8931 2985.6664,-149.5422 2977.4445,-156.2244 2983.4061,-159.8931\"/>\n</g>\n<!-- 97 -->\n<g id=\"node98\" class=\"node\">\n<title>97</title>\n<polygon fill=\"none\" stroke=\"#000000\" points=\"3591,-573 3467,-573 3467,-505 3591,-505 3591,-573\"/>\n<text text-anchor=\"middle\" x=\"3529\" y=\"-557.8\" font-family=\"Times,serif\" font-size=\"14.00\" fill=\"#000000\">left_weight &lt;= 1.5</text>\n<text text-anchor=\"middle\" x=\"3529\" y=\"-542.8\" font-family=\"Times,serif\" font-size=\"14.00\" fill=\"#000000\">gini = 0.595</text>\n<text text-anchor=\"middle\" x=\"3529\" y=\"-527.8\" font-family=\"Times,serif\" font-size=\"14.00\" fill=\"#000000\">samples = 11</text>\n<text text-anchor=\"middle\" x=\"3529\" y=\"-512.8\" font-family=\"Times,serif\" font-size=\"14.00\" fill=\"#000000\">value = [3, 6, 2]</text>\n</g>\n<!-- 96&#45;&gt;97 -->\n<g id=\"edge97\" class=\"edge\">\n<title>96&#45;&gt;97</title>\n<path fill=\"none\" stroke=\"#000000\" d=\"M3576.7519,-608.9465C3570.745,-600.1475 3564.2045,-590.5672 3557.9457,-581.3993\"/>\n<polygon fill=\"#000000\" stroke=\"#000000\" points=\"3560.8293,-579.4155 3552.3003,-573.13 3555.048,-583.3623 3560.8293,-579.4155\"/>\n</g>\n<!-- 110 -->\n<g id=\"node111\" class=\"node\">\n<title>110</title>\n<polygon fill=\"none\" stroke=\"#000000\" points=\"3733,-573 3609,-573 3609,-505 3733,-505 3733,-573\"/>\n<text text-anchor=\"middle\" x=\"3671\" y=\"-557.8\" font-family=\"Times,serif\" font-size=\"14.00\" fill=\"#000000\">left_weight &lt;= 1.5</text>\n<text text-anchor=\"middle\" x=\"3671\" y=\"-542.8\" font-family=\"Times,serif\" font-size=\"14.00\" fill=\"#000000\">gini = 0.42</text>\n<text text-anchor=\"middle\" x=\"3671\" y=\"-527.8\" font-family=\"Times,serif\" font-size=\"14.00\" fill=\"#000000\">samples = 10</text>\n<text text-anchor=\"middle\" x=\"3671\" y=\"-512.8\" font-family=\"Times,serif\" font-size=\"14.00\" fill=\"#000000\">value = [3, 0, 7]</text>\n</g>\n<!-- 96&#45;&gt;110 -->\n<g id=\"edge110\" class=\"edge\">\n<title>96&#45;&gt;110</title>\n<path fill=\"none\" stroke=\"#000000\" d=\"M3623.2481,-608.9465C3629.255,-600.1475 3635.7955,-590.5672 3642.0543,-581.3993\"/>\n<polygon fill=\"#000000\" stroke=\"#000000\" points=\"3644.952,-583.3623 3647.6997,-573.13 3639.1707,-579.4155 3644.952,-583.3623\"/>\n</g>\n<!-- 98 -->\n<g id=\"node99\" class=\"node\">\n<title>98</title>\n<polygon fill=\"none\" stroke=\"#000000\" points=\"3460,-469 3320,-469 3320,-401 3460,-401 3460,-469\"/>\n<text text-anchor=\"middle\" x=\"3390\" y=\"-453.8\" font-family=\"Times,serif\" font-size=\"14.00\" fill=\"#000000\">right_distance &lt;= 4.5</text>\n<text text-anchor=\"middle\" x=\"3390\" y=\"-438.8\" font-family=\"Times,serif\" font-size=\"14.00\" fill=\"#000000\">gini = 0.653</text>\n<text text-anchor=\"middle\" x=\"3390\" y=\"-423.8\" font-family=\"Times,serif\" font-size=\"14.00\" fill=\"#000000\">samples = 7</text>\n<text text-anchor=\"middle\" x=\"3390\" y=\"-408.8\" font-family=\"Times,serif\" font-size=\"14.00\" fill=\"#000000\">value = [3, 2, 2]</text>\n</g>\n<!-- 97&#45;&gt;98 -->\n<g id=\"edge98\" class=\"edge\">\n<title>97&#45;&gt;98</title>\n<path fill=\"none\" stroke=\"#000000\" d=\"M3483.4862,-504.9465C3470.766,-495.4293 3456.824,-484.9978 3443.6794,-475.163\"/>\n<polygon fill=\"#000000\" stroke=\"#000000\" points=\"3445.7198,-472.3184 3435.6161,-469.13 3441.5262,-477.9232 3445.7198,-472.3184\"/>\n</g>\n<!-- 109 -->\n<g id=\"node110\" class=\"node\">\n<title>109</title>\n<polygon fill=\"none\" stroke=\"#000000\" points=\"3588,-461.5 3478,-461.5 3478,-408.5 3588,-408.5 3588,-461.5\"/>\n<text text-anchor=\"middle\" x=\"3533\" y=\"-446.3\" font-family=\"Times,serif\" font-size=\"14.00\" fill=\"#000000\">gini = 0.0</text>\n<text text-anchor=\"middle\" x=\"3533\" y=\"-431.3\" font-family=\"Times,serif\" font-size=\"14.00\" fill=\"#000000\">samples = 4</text>\n<text text-anchor=\"middle\" x=\"3533\" y=\"-416.3\" font-family=\"Times,serif\" font-size=\"14.00\" fill=\"#000000\">value = [0, 4, 0]</text>\n</g>\n<!-- 97&#45;&gt;109 -->\n<g id=\"edge109\" class=\"edge\">\n<title>97&#45;&gt;109</title>\n<path fill=\"none\" stroke=\"#000000\" d=\"M3530.3097,-504.9465C3530.7207,-494.2621 3531.1759,-482.4254 3531.5933,-471.5742\"/>\n<polygon fill=\"#000000\" stroke=\"#000000\" points=\"3535.0921,-471.6693 3531.9791,-461.5422 3528.0973,-471.4002 3535.0921,-471.6693\"/>\n</g>\n<!-- 99 -->\n<g id=\"node100\" class=\"node\">\n<title>99</title>\n<polygon fill=\"none\" stroke=\"#000000\" points=\"3411.5,-365 3280.5,-365 3280.5,-297 3411.5,-297 3411.5,-365\"/>\n<text text-anchor=\"middle\" x=\"3346\" y=\"-349.8\" font-family=\"Times,serif\" font-size=\"14.00\" fill=\"#000000\">left_distance &lt;= 3.5</text>\n<text text-anchor=\"middle\" x=\"3346\" y=\"-334.8\" font-family=\"Times,serif\" font-size=\"14.00\" fill=\"#000000\">gini = 0.5</text>\n<text text-anchor=\"middle\" x=\"3346\" y=\"-319.8\" font-family=\"Times,serif\" font-size=\"14.00\" fill=\"#000000\">samples = 4</text>\n<text text-anchor=\"middle\" x=\"3346\" y=\"-304.8\" font-family=\"Times,serif\" font-size=\"14.00\" fill=\"#000000\">value = [2, 2, 0]</text>\n</g>\n<!-- 98&#45;&gt;99 -->\n<g id=\"edge99\" class=\"edge\">\n<title>98&#45;&gt;99</title>\n<path fill=\"none\" stroke=\"#000000\" d=\"M3375.5928,-400.9465C3372.0221,-392.5067 3368.1472,-383.3479 3364.4139,-374.5239\"/>\n<polygon fill=\"#000000\" stroke=\"#000000\" points=\"3367.5595,-372.9759 3360.4396,-365.13 3361.1127,-375.7034 3367.5595,-372.9759\"/>\n</g>\n<!-- 106 -->\n<g id=\"node107\" class=\"node\">\n<title>106</title>\n<polygon fill=\"none\" stroke=\"#000000\" points=\"3560.5,-365 3429.5,-365 3429.5,-297 3560.5,-297 3560.5,-365\"/>\n<text text-anchor=\"middle\" x=\"3495\" y=\"-349.8\" font-family=\"Times,serif\" font-size=\"14.00\" fill=\"#000000\">left_distance &lt;= 4.5</text>\n<text text-anchor=\"middle\" x=\"3495\" y=\"-334.8\" font-family=\"Times,serif\" font-size=\"14.00\" fill=\"#000000\">gini = 0.444</text>\n<text text-anchor=\"middle\" x=\"3495\" y=\"-319.8\" font-family=\"Times,serif\" font-size=\"14.00\" fill=\"#000000\">samples = 3</text>\n<text text-anchor=\"middle\" x=\"3495\" y=\"-304.8\" font-family=\"Times,serif\" font-size=\"14.00\" fill=\"#000000\">value = [1, 0, 2]</text>\n</g>\n<!-- 98&#45;&gt;106 -->\n<g id=\"edge106\" class=\"edge\">\n<title>98&#45;&gt;106</title>\n<path fill=\"none\" stroke=\"#000000\" d=\"M3424.3809,-400.9465C3433.6271,-391.7884 3443.7279,-381.7838 3453.3243,-372.2788\"/>\n<polygon fill=\"#000000\" stroke=\"#000000\" points=\"3455.9,-374.6539 3460.5418,-365.13 3450.974,-369.6805 3455.9,-374.6539\"/>\n</g>\n<!-- 100 -->\n<g id=\"node101\" class=\"node\">\n<title>100</title>\n<polygon fill=\"none\" stroke=\"#000000\" points=\"3261,-253.5 3151,-253.5 3151,-200.5 3261,-200.5 3261,-253.5\"/>\n<text text-anchor=\"middle\" x=\"3206\" y=\"-238.3\" font-family=\"Times,serif\" font-size=\"14.00\" fill=\"#000000\">gini = 0.0</text>\n<text text-anchor=\"middle\" x=\"3206\" y=\"-223.3\" font-family=\"Times,serif\" font-size=\"14.00\" fill=\"#000000\">samples = 1</text>\n<text text-anchor=\"middle\" x=\"3206\" y=\"-208.3\" font-family=\"Times,serif\" font-size=\"14.00\" fill=\"#000000\">value = [1, 0, 0]</text>\n</g>\n<!-- 99&#45;&gt;100 -->\n<g id=\"edge100\" class=\"edge\">\n<title>99&#45;&gt;100</title>\n<path fill=\"none\" stroke=\"#000000\" d=\"M3300.1588,-296.9465C3283.9965,-284.9403 3265.8758,-271.4791 3249.8795,-259.5962\"/>\n<polygon fill=\"#000000\" stroke=\"#000000\" points=\"3251.8444,-256.6958 3241.7298,-253.5422 3247.6701,-262.3151 3251.8444,-256.6958\"/>\n</g>\n<!-- 101 -->\n<g id=\"node102\" class=\"node\">\n<title>101</title>\n<polygon fill=\"none\" stroke=\"#000000\" points=\"3419,-261 3279,-261 3279,-193 3419,-193 3419,-261\"/>\n<text text-anchor=\"middle\" x=\"3349\" y=\"-245.8\" font-family=\"Times,serif\" font-size=\"14.00\" fill=\"#000000\">right_distance &lt;= 3.5</text>\n<text text-anchor=\"middle\" x=\"3349\" y=\"-230.8\" font-family=\"Times,serif\" font-size=\"14.00\" fill=\"#000000\">gini = 0.444</text>\n<text text-anchor=\"middle\" x=\"3349\" y=\"-215.8\" font-family=\"Times,serif\" font-size=\"14.00\" fill=\"#000000\">samples = 3</text>\n<text text-anchor=\"middle\" x=\"3349\" y=\"-200.8\" font-family=\"Times,serif\" font-size=\"14.00\" fill=\"#000000\">value = [1, 2, 0]</text>\n</g>\n<!-- 99&#45;&gt;101 -->\n<g id=\"edge101\" class=\"edge\">\n<title>99&#45;&gt;101</title>\n<path fill=\"none\" stroke=\"#000000\" d=\"M3346.9823,-296.9465C3347.218,-288.776 3347.4731,-279.9318 3347.7201,-271.3697\"/>\n<polygon fill=\"#000000\" stroke=\"#000000\" points=\"3351.2256,-271.2268 3348.0155,-261.13 3344.2285,-271.0249 3351.2256,-271.2268\"/>\n</g>\n<!-- 102 -->\n<g id=\"node103\" class=\"node\">\n<title>102</title>\n<polygon fill=\"none\" stroke=\"#000000\" points=\"3335,-149.5 3225,-149.5 3225,-96.5 3335,-96.5 3335,-149.5\"/>\n<text text-anchor=\"middle\" x=\"3280\" y=\"-134.3\" font-family=\"Times,serif\" font-size=\"14.00\" fill=\"#000000\">gini = 0.0</text>\n<text text-anchor=\"middle\" x=\"3280\" y=\"-119.3\" font-family=\"Times,serif\" font-size=\"14.00\" fill=\"#000000\">samples = 1</text>\n<text text-anchor=\"middle\" x=\"3280\" y=\"-104.3\" font-family=\"Times,serif\" font-size=\"14.00\" fill=\"#000000\">value = [0, 1, 0]</text>\n</g>\n<!-- 101&#45;&gt;102 -->\n<g id=\"edge102\" class=\"edge\">\n<title>101&#45;&gt;102</title>\n<path fill=\"none\" stroke=\"#000000\" d=\"M3326.4068,-192.9465C3318.9527,-181.7113 3310.6533,-169.2021 3303.1577,-157.9043\"/>\n<polygon fill=\"#000000\" stroke=\"#000000\" points=\"3306.0547,-155.94 3297.6097,-149.5422 3300.2218,-159.81 3306.0547,-155.94\"/>\n</g>\n<!-- 103 -->\n<g id=\"node104\" class=\"node\">\n<title>103</title>\n<polygon fill=\"none\" stroke=\"#000000\" points=\"3484.5,-157 3353.5,-157 3353.5,-89 3484.5,-89 3484.5,-157\"/>\n<text text-anchor=\"middle\" x=\"3419\" y=\"-141.8\" font-family=\"Times,serif\" font-size=\"14.00\" fill=\"#000000\">left_distance &lt;= 4.5</text>\n<text text-anchor=\"middle\" x=\"3419\" y=\"-126.8\" font-family=\"Times,serif\" font-size=\"14.00\" fill=\"#000000\">gini = 0.5</text>\n<text text-anchor=\"middle\" x=\"3419\" y=\"-111.8\" font-family=\"Times,serif\" font-size=\"14.00\" fill=\"#000000\">samples = 2</text>\n<text text-anchor=\"middle\" x=\"3419\" y=\"-96.8\" font-family=\"Times,serif\" font-size=\"14.00\" fill=\"#000000\">value = [1, 1, 0]</text>\n</g>\n<!-- 101&#45;&gt;103 -->\n<g id=\"edge103\" class=\"edge\">\n<title>101&#45;&gt;103</title>\n<path fill=\"none\" stroke=\"#000000\" d=\"M3371.9206,-192.9465C3377.7826,-184.2373 3384.1598,-174.7626 3390.273,-165.6801\"/>\n<polygon fill=\"#000000\" stroke=\"#000000\" points=\"3393.3476,-167.3802 3396.0279,-157.13 3387.5405,-163.4716 3393.3476,-167.3802\"/>\n</g>\n<!-- 104 -->\n<g id=\"node105\" class=\"node\">\n<title>104</title>\n<polygon fill=\"none\" stroke=\"#000000\" points=\"3410,-53 3300,-53 3300,0 3410,0 3410,-53\"/>\n<text text-anchor=\"middle\" x=\"3355\" y=\"-37.8\" font-family=\"Times,serif\" font-size=\"14.00\" fill=\"#000000\">gini = 0.0</text>\n<text text-anchor=\"middle\" x=\"3355\" y=\"-22.8\" font-family=\"Times,serif\" font-size=\"14.00\" fill=\"#000000\">samples = 1</text>\n<text text-anchor=\"middle\" x=\"3355\" y=\"-7.8\" font-family=\"Times,serif\" font-size=\"14.00\" fill=\"#000000\">value = [1, 0, 0]</text>\n</g>\n<!-- 103&#45;&gt;104 -->\n<g id=\"edge104\" class=\"edge\">\n<title>103&#45;&gt;104</title>\n<path fill=\"none\" stroke=\"#000000\" d=\"M3396.436,-88.9777C3390.6059,-80.187 3384.3169,-70.7044 3378.443,-61.8477\"/>\n<polygon fill=\"#000000\" stroke=\"#000000\" points=\"3381.1838,-59.6478 3372.7399,-53.2485 3375.3502,-63.5167 3381.1838,-59.6478\"/>\n</g>\n<!-- 105 -->\n<g id=\"node106\" class=\"node\">\n<title>105</title>\n<polygon fill=\"none\" stroke=\"#000000\" points=\"3538,-53 3428,-53 3428,0 3538,0 3538,-53\"/>\n<text text-anchor=\"middle\" x=\"3483\" y=\"-37.8\" font-family=\"Times,serif\" font-size=\"14.00\" fill=\"#000000\">gini = 0.0</text>\n<text text-anchor=\"middle\" x=\"3483\" y=\"-22.8\" font-family=\"Times,serif\" font-size=\"14.00\" fill=\"#000000\">samples = 1</text>\n<text text-anchor=\"middle\" x=\"3483\" y=\"-7.8\" font-family=\"Times,serif\" font-size=\"14.00\" fill=\"#000000\">value = [0, 1, 0]</text>\n</g>\n<!-- 103&#45;&gt;105 -->\n<g id=\"edge105\" class=\"edge\">\n<title>103&#45;&gt;105</title>\n<path fill=\"none\" stroke=\"#000000\" d=\"M3441.564,-88.9777C3447.3941,-80.187 3453.6831,-70.7044 3459.557,-61.8477\"/>\n<polygon fill=\"#000000\" stroke=\"#000000\" points=\"3462.6498,-63.5167 3465.2601,-53.2485 3456.8162,-59.6478 3462.6498,-63.5167\"/>\n</g>\n<!-- 107 -->\n<g id=\"node108\" class=\"node\">\n<title>107</title>\n<polygon fill=\"none\" stroke=\"#000000\" points=\"3547,-253.5 3437,-253.5 3437,-200.5 3547,-200.5 3547,-253.5\"/>\n<text text-anchor=\"middle\" x=\"3492\" y=\"-238.3\" font-family=\"Times,serif\" font-size=\"14.00\" fill=\"#000000\">gini = 0.0</text>\n<text text-anchor=\"middle\" x=\"3492\" y=\"-223.3\" font-family=\"Times,serif\" font-size=\"14.00\" fill=\"#000000\">samples = 2</text>\n<text text-anchor=\"middle\" x=\"3492\" y=\"-208.3\" font-family=\"Times,serif\" font-size=\"14.00\" fill=\"#000000\">value = [0, 0, 2]</text>\n</g>\n<!-- 106&#45;&gt;107 -->\n<g id=\"edge107\" class=\"edge\">\n<title>106&#45;&gt;107</title>\n<path fill=\"none\" stroke=\"#000000\" d=\"M3494.0177,-296.9465C3493.7095,-286.2621 3493.368,-274.4254 3493.055,-263.5742\"/>\n<polygon fill=\"#000000\" stroke=\"#000000\" points=\"3496.5526,-263.4371 3492.7656,-253.5422 3489.5555,-263.639 3496.5526,-263.4371\"/>\n</g>\n<!-- 108 -->\n<g id=\"node109\" class=\"node\">\n<title>108</title>\n<polygon fill=\"none\" stroke=\"#000000\" points=\"3675,-253.5 3565,-253.5 3565,-200.5 3675,-200.5 3675,-253.5\"/>\n<text text-anchor=\"middle\" x=\"3620\" y=\"-238.3\" font-family=\"Times,serif\" font-size=\"14.00\" fill=\"#000000\">gini = 0.0</text>\n<text text-anchor=\"middle\" x=\"3620\" y=\"-223.3\" font-family=\"Times,serif\" font-size=\"14.00\" fill=\"#000000\">samples = 1</text>\n<text text-anchor=\"middle\" x=\"3620\" y=\"-208.3\" font-family=\"Times,serif\" font-size=\"14.00\" fill=\"#000000\">value = [1, 0, 0]</text>\n</g>\n<!-- 106&#45;&gt;108 -->\n<g id=\"edge108\" class=\"edge\">\n<title>106&#45;&gt;108</title>\n<path fill=\"none\" stroke=\"#000000\" d=\"M3535.9297,-296.9465C3550.0955,-285.1606 3565.9463,-271.9726 3580.0338,-260.2519\"/>\n<polygon fill=\"#000000\" stroke=\"#000000\" points=\"3582.6496,-262.6285 3588.0984,-253.5422 3578.1725,-257.2474 3582.6496,-262.6285\"/>\n</g>\n<!-- 111 -->\n<g id=\"node112\" class=\"node\">\n<title>111</title>\n<polygon fill=\"none\" stroke=\"#000000\" points=\"3723,-461.5 3613,-461.5 3613,-408.5 3723,-408.5 3723,-461.5\"/>\n<text text-anchor=\"middle\" x=\"3668\" y=\"-446.3\" font-family=\"Times,serif\" font-size=\"14.00\" fill=\"#000000\">gini = 0.0</text>\n<text text-anchor=\"middle\" x=\"3668\" y=\"-431.3\" font-family=\"Times,serif\" font-size=\"14.00\" fill=\"#000000\">samples = 5</text>\n<text text-anchor=\"middle\" x=\"3668\" y=\"-416.3\" font-family=\"Times,serif\" font-size=\"14.00\" fill=\"#000000\">value = [0, 0, 5]</text>\n</g>\n<!-- 110&#45;&gt;111 -->\n<g id=\"edge111\" class=\"edge\">\n<title>110&#45;&gt;111</title>\n<path fill=\"none\" stroke=\"#000000\" d=\"M3670.0177,-504.9465C3669.7095,-494.2621 3669.368,-482.4254 3669.055,-471.5742\"/>\n<polygon fill=\"#000000\" stroke=\"#000000\" points=\"3672.5526,-471.4371 3668.7656,-461.5422 3665.5555,-471.639 3672.5526,-471.4371\"/>\n</g>\n<!-- 112 -->\n<g id=\"node113\" class=\"node\">\n<title>112</title>\n<polygon fill=\"none\" stroke=\"#000000\" points=\"3872.5,-469 3741.5,-469 3741.5,-401 3872.5,-401 3872.5,-469\"/>\n<text text-anchor=\"middle\" x=\"3807\" y=\"-453.8\" font-family=\"Times,serif\" font-size=\"14.00\" fill=\"#000000\">left_distance &lt;= 3.5</text>\n<text text-anchor=\"middle\" x=\"3807\" y=\"-438.8\" font-family=\"Times,serif\" font-size=\"14.00\" fill=\"#000000\">gini = 0.48</text>\n<text text-anchor=\"middle\" x=\"3807\" y=\"-423.8\" font-family=\"Times,serif\" font-size=\"14.00\" fill=\"#000000\">samples = 5</text>\n<text text-anchor=\"middle\" x=\"3807\" y=\"-408.8\" font-family=\"Times,serif\" font-size=\"14.00\" fill=\"#000000\">value = [3, 0, 2]</text>\n</g>\n<!-- 110&#45;&gt;112 -->\n<g id=\"edge112\" class=\"edge\">\n<title>110&#45;&gt;112</title>\n<path fill=\"none\" stroke=\"#000000\" d=\"M3715.5315,-504.9465C3727.8597,-495.519 3741.3609,-485.1946 3754.115,-475.4415\"/>\n<polygon fill=\"#000000\" stroke=\"#000000\" points=\"3756.551,-477.9848 3762.3685,-469.13 3752.2988,-472.4243 3756.551,-477.9848\"/>\n</g>\n<!-- 113 -->\n<g id=\"node114\" class=\"node\">\n<title>113</title>\n<polygon fill=\"none\" stroke=\"#000000\" points=\"3810,-365 3670,-365 3670,-297 3810,-297 3810,-365\"/>\n<text text-anchor=\"middle\" x=\"3740\" y=\"-349.8\" font-family=\"Times,serif\" font-size=\"14.00\" fill=\"#000000\">right_distance &lt;= 3.5</text>\n<text text-anchor=\"middle\" x=\"3740\" y=\"-334.8\" font-family=\"Times,serif\" font-size=\"14.00\" fill=\"#000000\">gini = 0.444</text>\n<text text-anchor=\"middle\" x=\"3740\" y=\"-319.8\" font-family=\"Times,serif\" font-size=\"14.00\" fill=\"#000000\">samples = 3</text>\n<text text-anchor=\"middle\" x=\"3740\" y=\"-304.8\" font-family=\"Times,serif\" font-size=\"14.00\" fill=\"#000000\">value = [1, 0, 2]</text>\n</g>\n<!-- 112&#45;&gt;113 -->\n<g id=\"edge113\" class=\"edge\">\n<title>112&#45;&gt;113</title>\n<path fill=\"none\" stroke=\"#000000\" d=\"M3785.0617,-400.9465C3779.451,-392.2373 3773.3471,-382.7626 3767.4958,-373.6801\"/>\n<polygon fill=\"#000000\" stroke=\"#000000\" points=\"3770.3457,-371.641 3761.9876,-365.13 3764.4611,-375.4321 3770.3457,-371.641\"/>\n</g>\n<!-- 116 -->\n<g id=\"node117\" class=\"node\">\n<title>116</title>\n<polygon fill=\"none\" stroke=\"#000000\" points=\"3938,-357.5 3828,-357.5 3828,-304.5 3938,-304.5 3938,-357.5\"/>\n<text text-anchor=\"middle\" x=\"3883\" y=\"-342.3\" font-family=\"Times,serif\" font-size=\"14.00\" fill=\"#000000\">gini = 0.0</text>\n<text text-anchor=\"middle\" x=\"3883\" y=\"-327.3\" font-family=\"Times,serif\" font-size=\"14.00\" fill=\"#000000\">samples = 2</text>\n<text text-anchor=\"middle\" x=\"3883\" y=\"-312.3\" font-family=\"Times,serif\" font-size=\"14.00\" fill=\"#000000\">value = [2, 0, 0]</text>\n</g>\n<!-- 112&#45;&gt;116 -->\n<g id=\"edge116\" class=\"edge\">\n<title>112&#45;&gt;116</title>\n<path fill=\"none\" stroke=\"#000000\" d=\"M3831.8852,-400.9465C3840.0956,-389.7113 3849.2369,-377.2021 3857.493,-365.9043\"/>\n<polygon fill=\"#000000\" stroke=\"#000000\" points=\"3860.5295,-367.6812 3863.6038,-357.5422 3854.8777,-363.551 3860.5295,-367.6812\"/>\n</g>\n<!-- 114 -->\n<g id=\"node115\" class=\"node\">\n<title>114</title>\n<polygon fill=\"none\" stroke=\"#000000\" points=\"3803,-253.5 3693,-253.5 3693,-200.5 3803,-200.5 3803,-253.5\"/>\n<text text-anchor=\"middle\" x=\"3748\" y=\"-238.3\" font-family=\"Times,serif\" font-size=\"14.00\" fill=\"#000000\">gini = 0.0</text>\n<text text-anchor=\"middle\" x=\"3748\" y=\"-223.3\" font-family=\"Times,serif\" font-size=\"14.00\" fill=\"#000000\">samples = 1</text>\n<text text-anchor=\"middle\" x=\"3748\" y=\"-208.3\" font-family=\"Times,serif\" font-size=\"14.00\" fill=\"#000000\">value = [1, 0, 0]</text>\n</g>\n<!-- 113&#45;&gt;114 -->\n<g id=\"edge114\" class=\"edge\">\n<title>113&#45;&gt;114</title>\n<path fill=\"none\" stroke=\"#000000\" d=\"M3742.6195,-296.9465C3743.4414,-286.2621 3744.3519,-274.4254 3745.1866,-263.5742\"/>\n<polygon fill=\"#000000\" stroke=\"#000000\" points=\"3748.6809,-263.7812 3745.9583,-253.5422 3741.7015,-263.2442 3748.6809,-263.7812\"/>\n</g>\n<!-- 115 -->\n<g id=\"node116\" class=\"node\">\n<title>115</title>\n<polygon fill=\"none\" stroke=\"#000000\" points=\"3931,-253.5 3821,-253.5 3821,-200.5 3931,-200.5 3931,-253.5\"/>\n<text text-anchor=\"middle\" x=\"3876\" y=\"-238.3\" font-family=\"Times,serif\" font-size=\"14.00\" fill=\"#000000\">gini = 0.0</text>\n<text text-anchor=\"middle\" x=\"3876\" y=\"-223.3\" font-family=\"Times,serif\" font-size=\"14.00\" fill=\"#000000\">samples = 2</text>\n<text text-anchor=\"middle\" x=\"3876\" y=\"-208.3\" font-family=\"Times,serif\" font-size=\"14.00\" fill=\"#000000\">value = [0, 0, 2]</text>\n</g>\n<!-- 113&#45;&gt;115 -->\n<g id=\"edge115\" class=\"edge\">\n<title>113&#45;&gt;115</title>\n<path fill=\"none\" stroke=\"#000000\" d=\"M3784.5315,-296.9465C3800.0879,-285.0504 3817.5121,-271.726 3832.9459,-259.9237\"/>\n<polygon fill=\"#000000\" stroke=\"#000000\" points=\"3835.4735,-262.397 3841.291,-253.5422 3831.2213,-256.8364 3835.4735,-262.397\"/>\n</g>\n<!-- 118 -->\n<g id=\"node119\" class=\"node\">\n<title>118</title>\n<polygon fill=\"none\" stroke=\"#000000\" points=\"4215,-677 4075,-677 4075,-609 4215,-609 4215,-677\"/>\n<text text-anchor=\"middle\" x=\"4145\" y=\"-661.8\" font-family=\"Times,serif\" font-size=\"14.00\" fill=\"#000000\">right_distance &lt;= 4.5</text>\n<text text-anchor=\"middle\" x=\"4145\" y=\"-646.8\" font-family=\"Times,serif\" font-size=\"14.00\" fill=\"#000000\">gini = 0.54</text>\n<text text-anchor=\"middle\" x=\"4145\" y=\"-631.8\" font-family=\"Times,serif\" font-size=\"14.00\" fill=\"#000000\">samples = 10</text>\n<text text-anchor=\"middle\" x=\"4145\" y=\"-616.8\" font-family=\"Times,serif\" font-size=\"14.00\" fill=\"#000000\">value = [1, 3, 6]</text>\n</g>\n<!-- 117&#45;&gt;118 -->\n<g id=\"edge118\" class=\"edge\">\n<title>117&#45;&gt;118</title>\n<path fill=\"none\" stroke=\"#000000\" d=\"M4145,-712.9465C4145,-704.776 4145,-695.9318 4145,-687.3697\"/>\n<polygon fill=\"#000000\" stroke=\"#000000\" points=\"4148.5001,-687.13 4145,-677.13 4141.5001,-687.13 4148.5001,-687.13\"/>\n</g>\n<!-- 127 -->\n<g id=\"node128\" class=\"node\">\n<title>127</title>\n<polygon fill=\"none\" stroke=\"#000000\" points=\"4430.5,-677 4299.5,-677 4299.5,-609 4430.5,-609 4430.5,-677\"/>\n<text text-anchor=\"middle\" x=\"4365\" y=\"-661.8\" font-family=\"Times,serif\" font-size=\"14.00\" fill=\"#000000\">left_distance &lt;= 2.5</text>\n<text text-anchor=\"middle\" x=\"4365\" y=\"-646.8\" font-family=\"Times,serif\" font-size=\"14.00\" fill=\"#000000\">gini = 0.142</text>\n<text text-anchor=\"middle\" x=\"4365\" y=\"-631.8\" font-family=\"Times,serif\" font-size=\"14.00\" fill=\"#000000\">samples = 53</text>\n<text text-anchor=\"middle\" x=\"4365\" y=\"-616.8\" font-family=\"Times,serif\" font-size=\"14.00\" fill=\"#000000\">value = [1, 49, 3]</text>\n</g>\n<!-- 117&#45;&gt;127 -->\n<g id=\"edge127\" class=\"edge\">\n<title>117&#45;&gt;127</title>\n<path fill=\"none\" stroke=\"#000000\" d=\"M4210.7093,-715.9374C4235.6305,-704.1565 4264.1929,-690.6543 4289.9139,-678.4953\"/>\n<polygon fill=\"#000000\" stroke=\"#000000\" points=\"4291.7046,-681.5202 4299.2494,-674.0821 4288.7129,-675.1917 4291.7046,-681.5202\"/>\n</g>\n<!-- 119 -->\n<g id=\"node120\" class=\"node\">\n<title>119</title>\n<polygon fill=\"none\" stroke=\"#000000\" points=\"4144.5,-573 4011.5,-573 4011.5,-505 4144.5,-505 4144.5,-573\"/>\n<text text-anchor=\"middle\" x=\"4078\" y=\"-557.8\" font-family=\"Times,serif\" font-size=\"14.00\" fill=\"#000000\">right_weight &lt;= 1.5</text>\n<text text-anchor=\"middle\" x=\"4078\" y=\"-542.8\" font-family=\"Times,serif\" font-size=\"14.00\" fill=\"#000000\">gini = 0.56</text>\n<text text-anchor=\"middle\" x=\"4078\" y=\"-527.8\" font-family=\"Times,serif\" font-size=\"14.00\" fill=\"#000000\">samples = 5</text>\n<text text-anchor=\"middle\" x=\"4078\" y=\"-512.8\" font-family=\"Times,serif\" font-size=\"14.00\" fill=\"#000000\">value = [1, 3, 1]</text>\n</g>\n<!-- 118&#45;&gt;119 -->\n<g id=\"edge119\" class=\"edge\">\n<title>118&#45;&gt;119</title>\n<path fill=\"none\" stroke=\"#000000\" d=\"M4123.0617,-608.9465C4117.451,-600.2373 4111.3471,-590.7626 4105.4958,-581.6801\"/>\n<polygon fill=\"#000000\" stroke=\"#000000\" points=\"4108.3457,-579.641 4099.9876,-573.13 4102.4611,-583.4321 4108.3457,-579.641\"/>\n</g>\n<!-- 126 -->\n<g id=\"node127\" class=\"node\">\n<title>126</title>\n<polygon fill=\"none\" stroke=\"#000000\" points=\"4273,-565.5 4163,-565.5 4163,-512.5 4273,-512.5 4273,-565.5\"/>\n<text text-anchor=\"middle\" x=\"4218\" y=\"-550.3\" font-family=\"Times,serif\" font-size=\"14.00\" fill=\"#000000\">gini = 0.0</text>\n<text text-anchor=\"middle\" x=\"4218\" y=\"-535.3\" font-family=\"Times,serif\" font-size=\"14.00\" fill=\"#000000\">samples = 5</text>\n<text text-anchor=\"middle\" x=\"4218\" y=\"-520.3\" font-family=\"Times,serif\" font-size=\"14.00\" fill=\"#000000\">value = [0, 0, 5]</text>\n</g>\n<!-- 118&#45;&gt;126 -->\n<g id=\"edge126\" class=\"edge\">\n<title>118&#45;&gt;126</title>\n<path fill=\"none\" stroke=\"#000000\" d=\"M4168.9029,-608.9465C4176.7892,-597.7113 4185.5697,-585.2021 4193.4998,-573.9043\"/>\n<polygon fill=\"#000000\" stroke=\"#000000\" points=\"4196.4889,-575.7379 4199.3694,-565.5422 4190.7595,-571.7163 4196.4889,-575.7379\"/>\n</g>\n<!-- 120 -->\n<g id=\"node121\" class=\"node\">\n<title>120</title>\n<polygon fill=\"none\" stroke=\"#000000\" points=\"4084,-469 3960,-469 3960,-401 4084,-401 4084,-469\"/>\n<text text-anchor=\"middle\" x=\"4022\" y=\"-453.8\" font-family=\"Times,serif\" font-size=\"14.00\" fill=\"#000000\">left_weight &lt;= 4.5</text>\n<text text-anchor=\"middle\" x=\"4022\" y=\"-438.8\" font-family=\"Times,serif\" font-size=\"14.00\" fill=\"#000000\">gini = 0.375</text>\n<text text-anchor=\"middle\" x=\"4022\" y=\"-423.8\" font-family=\"Times,serif\" font-size=\"14.00\" fill=\"#000000\">samples = 4</text>\n<text text-anchor=\"middle\" x=\"4022\" y=\"-408.8\" font-family=\"Times,serif\" font-size=\"14.00\" fill=\"#000000\">value = [1, 3, 0]</text>\n</g>\n<!-- 119&#45;&gt;120 -->\n<g id=\"edge120\" class=\"edge\">\n<title>119&#45;&gt;120</title>\n<path fill=\"none\" stroke=\"#000000\" d=\"M4059.6635,-504.9465C4055.0223,-496.3271 4049.9773,-486.9579 4045.1329,-477.9611\"/>\n<polygon fill=\"#000000\" stroke=\"#000000\" points=\"4048.2004,-476.2754 4040.3777,-469.13 4042.0371,-479.5941 4048.2004,-476.2754\"/>\n</g>\n<!-- 125 -->\n<g id=\"node126\" class=\"node\">\n<title>125</title>\n<polygon fill=\"none\" stroke=\"#000000\" points=\"4212,-461.5 4102,-461.5 4102,-408.5 4212,-408.5 4212,-461.5\"/>\n<text text-anchor=\"middle\" x=\"4157\" y=\"-446.3\" font-family=\"Times,serif\" font-size=\"14.00\" fill=\"#000000\">gini = 0.0</text>\n<text text-anchor=\"middle\" x=\"4157\" y=\"-431.3\" font-family=\"Times,serif\" font-size=\"14.00\" fill=\"#000000\">samples = 1</text>\n<text text-anchor=\"middle\" x=\"4157\" y=\"-416.3\" font-family=\"Times,serif\" font-size=\"14.00\" fill=\"#000000\">value = [0, 0, 1]</text>\n</g>\n<!-- 119&#45;&gt;125 -->\n<g id=\"edge125\" class=\"edge\">\n<title>119&#45;&gt;125</title>\n<path fill=\"none\" stroke=\"#000000\" d=\"M4103.8676,-504.9465C4112.4857,-493.6012 4122.0906,-480.9567 4130.7383,-469.5724\"/>\n<polygon fill=\"#000000\" stroke=\"#000000\" points=\"4133.5763,-471.6224 4136.8382,-461.5422 4128.0021,-467.3882 4133.5763,-471.6224\"/>\n</g>\n<!-- 121 -->\n<g id=\"node122\" class=\"node\">\n<title>121</title>\n<polygon fill=\"none\" stroke=\"#000000\" points=\"4096,-365 3956,-365 3956,-297 4096,-297 4096,-365\"/>\n<text text-anchor=\"middle\" x=\"4026\" y=\"-349.8\" font-family=\"Times,serif\" font-size=\"14.00\" fill=\"#000000\">right_distance &lt;= 3.5</text>\n<text text-anchor=\"middle\" x=\"4026\" y=\"-334.8\" font-family=\"Times,serif\" font-size=\"14.00\" fill=\"#000000\">gini = 0.5</text>\n<text text-anchor=\"middle\" x=\"4026\" y=\"-319.8\" font-family=\"Times,serif\" font-size=\"14.00\" fill=\"#000000\">samples = 2</text>\n<text text-anchor=\"middle\" x=\"4026\" y=\"-304.8\" font-family=\"Times,serif\" font-size=\"14.00\" fill=\"#000000\">value = [1, 1, 0]</text>\n</g>\n<!-- 120&#45;&gt;121 -->\n<g id=\"edge121\" class=\"edge\">\n<title>120&#45;&gt;121</title>\n<path fill=\"none\" stroke=\"#000000\" d=\"M4023.3097,-400.9465C4023.624,-392.776 4023.9642,-383.9318 4024.2935,-375.3697\"/>\n<polygon fill=\"#000000\" stroke=\"#000000\" points=\"4027.8003,-375.2572 4024.6873,-365.13 4020.8055,-374.9881 4027.8003,-375.2572\"/>\n</g>\n<!-- 124 -->\n<g id=\"node125\" class=\"node\">\n<title>124</title>\n<polygon fill=\"none\" stroke=\"#000000\" points=\"4224,-357.5 4114,-357.5 4114,-304.5 4224,-304.5 4224,-357.5\"/>\n<text text-anchor=\"middle\" x=\"4169\" y=\"-342.3\" font-family=\"Times,serif\" font-size=\"14.00\" fill=\"#000000\">gini = 0.0</text>\n<text text-anchor=\"middle\" x=\"4169\" y=\"-327.3\" font-family=\"Times,serif\" font-size=\"14.00\" fill=\"#000000\">samples = 2</text>\n<text text-anchor=\"middle\" x=\"4169\" y=\"-312.3\" font-family=\"Times,serif\" font-size=\"14.00\" fill=\"#000000\">value = [0, 2, 0]</text>\n</g>\n<!-- 120&#45;&gt;124 -->\n<g id=\"edge124\" class=\"edge\">\n<title>120&#45;&gt;124</title>\n<path fill=\"none\" stroke=\"#000000\" d=\"M4070.1333,-400.9465C4087.1037,-388.9403 4106.1304,-375.4791 4122.9265,-363.5962\"/>\n<polygon fill=\"#000000\" stroke=\"#000000\" points=\"4125.3416,-366.175 4131.4837,-357.5422 4121.2987,-360.4605 4125.3416,-366.175\"/>\n</g>\n<!-- 122 -->\n<g id=\"node123\" class=\"node\">\n<title>122</title>\n<polygon fill=\"none\" stroke=\"#000000\" points=\"4074,-253.5 3964,-253.5 3964,-200.5 4074,-200.5 4074,-253.5\"/>\n<text text-anchor=\"middle\" x=\"4019\" y=\"-238.3\" font-family=\"Times,serif\" font-size=\"14.00\" fill=\"#000000\">gini = 0.0</text>\n<text text-anchor=\"middle\" x=\"4019\" y=\"-223.3\" font-family=\"Times,serif\" font-size=\"14.00\" fill=\"#000000\">samples = 1</text>\n<text text-anchor=\"middle\" x=\"4019\" y=\"-208.3\" font-family=\"Times,serif\" font-size=\"14.00\" fill=\"#000000\">value = [0, 1, 0]</text>\n</g>\n<!-- 121&#45;&gt;122 -->\n<g id=\"edge122\" class=\"edge\">\n<title>121&#45;&gt;122</title>\n<path fill=\"none\" stroke=\"#000000\" d=\"M4023.7079,-296.9465C4022.9888,-286.2621 4022.1921,-274.4254 4021.4617,-263.5742\"/>\n<polygon fill=\"#000000\" stroke=\"#000000\" points=\"4024.9502,-263.2845 4020.7865,-253.5422 4017.966,-263.7547 4024.9502,-263.2845\"/>\n</g>\n<!-- 123 -->\n<g id=\"node124\" class=\"node\">\n<title>123</title>\n<polygon fill=\"none\" stroke=\"#000000\" points=\"4202,-253.5 4092,-253.5 4092,-200.5 4202,-200.5 4202,-253.5\"/>\n<text text-anchor=\"middle\" x=\"4147\" y=\"-238.3\" font-family=\"Times,serif\" font-size=\"14.00\" fill=\"#000000\">gini = 0.0</text>\n<text text-anchor=\"middle\" x=\"4147\" y=\"-223.3\" font-family=\"Times,serif\" font-size=\"14.00\" fill=\"#000000\">samples = 1</text>\n<text text-anchor=\"middle\" x=\"4147\" y=\"-208.3\" font-family=\"Times,serif\" font-size=\"14.00\" fill=\"#000000\">value = [1, 0, 0]</text>\n</g>\n<!-- 121&#45;&gt;123 -->\n<g id=\"edge123\" class=\"edge\">\n<title>121&#45;&gt;123</title>\n<path fill=\"none\" stroke=\"#000000\" d=\"M4065.6199,-296.9465C4079.3324,-285.1606 4094.6761,-271.9726 4108.3127,-260.2519\"/>\n<polygon fill=\"#000000\" stroke=\"#000000\" points=\"4110.8169,-262.7147 4116.1192,-253.5422 4106.2541,-257.4061 4110.8169,-262.7147\"/>\n</g>\n<!-- 128 -->\n<g id=\"node129\" class=\"node\">\n<title>128</title>\n<polygon fill=\"none\" stroke=\"#000000\" points=\"4431.5,-573 4298.5,-573 4298.5,-505 4431.5,-505 4431.5,-573\"/>\n<text text-anchor=\"middle\" x=\"4365\" y=\"-557.8\" font-family=\"Times,serif\" font-size=\"14.00\" fill=\"#000000\">right_weight &lt;= 1.5</text>\n<text text-anchor=\"middle\" x=\"4365\" y=\"-542.8\" font-family=\"Times,serif\" font-size=\"14.00\" fill=\"#000000\">gini = 0.46</text>\n<text text-anchor=\"middle\" x=\"4365\" y=\"-527.8\" font-family=\"Times,serif\" font-size=\"14.00\" fill=\"#000000\">samples = 10</text>\n<text text-anchor=\"middle\" x=\"4365\" y=\"-512.8\" font-family=\"Times,serif\" font-size=\"14.00\" fill=\"#000000\">value = [1, 7, 2]</text>\n</g>\n<!-- 127&#45;&gt;128 -->\n<g id=\"edge128\" class=\"edge\">\n<title>127&#45;&gt;128</title>\n<path fill=\"none\" stroke=\"#000000\" d=\"M4365,-608.9465C4365,-600.776 4365,-591.9318 4365,-583.3697\"/>\n<polygon fill=\"#000000\" stroke=\"#000000\" points=\"4368.5001,-583.13 4365,-573.13 4361.5001,-583.13 4368.5001,-583.13\"/>\n</g>\n<!-- 133 -->\n<g id=\"node134\" class=\"node\">\n<title>133</title>\n<polygon fill=\"none\" stroke=\"#000000\" points=\"4645,-573 4505,-573 4505,-505 4645,-505 4645,-573\"/>\n<text text-anchor=\"middle\" x=\"4575\" y=\"-557.8\" font-family=\"Times,serif\" font-size=\"14.00\" fill=\"#000000\">right_distance &lt;= 4.5</text>\n<text text-anchor=\"middle\" x=\"4575\" y=\"-542.8\" font-family=\"Times,serif\" font-size=\"14.00\" fill=\"#000000\">gini = 0.045</text>\n<text text-anchor=\"middle\" x=\"4575\" y=\"-527.8\" font-family=\"Times,serif\" font-size=\"14.00\" fill=\"#000000\">samples = 43</text>\n<text text-anchor=\"middle\" x=\"4575\" y=\"-512.8\" font-family=\"Times,serif\" font-size=\"14.00\" fill=\"#000000\">value = [0, 42, 1]</text>\n</g>\n<!-- 127&#45;&gt;133 -->\n<g id=\"edge133\" class=\"edge\">\n<title>127&#45;&gt;133</title>\n<path fill=\"none\" stroke=\"#000000\" d=\"M4430.5815,-610.5215C4451.6418,-600.0917 4475.1771,-588.4361 4497.0352,-577.6112\"/>\n<polygon fill=\"#000000\" stroke=\"#000000\" points=\"4498.8801,-580.6032 4506.2881,-573.0287 4495.7735,-574.3303 4498.8801,-580.6032\"/>\n</g>\n<!-- 129 -->\n<g id=\"node130\" class=\"node\">\n<title>129</title>\n<polygon fill=\"none\" stroke=\"#000000\" points=\"4340,-461.5 4230,-461.5 4230,-408.5 4340,-408.5 4340,-461.5\"/>\n<text text-anchor=\"middle\" x=\"4285\" y=\"-446.3\" font-family=\"Times,serif\" font-size=\"14.00\" fill=\"#000000\">gini = 0.0</text>\n<text text-anchor=\"middle\" x=\"4285\" y=\"-431.3\" font-family=\"Times,serif\" font-size=\"14.00\" fill=\"#000000\">samples = 7</text>\n<text text-anchor=\"middle\" x=\"4285\" y=\"-416.3\" font-family=\"Times,serif\" font-size=\"14.00\" fill=\"#000000\">value = [0, 7, 0]</text>\n</g>\n<!-- 128&#45;&gt;129 -->\n<g id=\"edge129\" class=\"edge\">\n<title>128&#45;&gt;129</title>\n<path fill=\"none\" stroke=\"#000000\" d=\"M4338.805,-504.9465C4330.0778,-493.6012 4320.3513,-480.9567 4311.5941,-469.5724\"/>\n<polygon fill=\"#000000\" stroke=\"#000000\" points=\"4314.2884,-467.3344 4305.417,-461.5422 4308.74,-471.6024 4314.2884,-467.3344\"/>\n</g>\n<!-- 130 -->\n<g id=\"node131\" class=\"node\">\n<title>130</title>\n<polygon fill=\"none\" stroke=\"#000000\" points=\"4498,-469 4358,-469 4358,-401 4498,-401 4498,-469\"/>\n<text text-anchor=\"middle\" x=\"4428\" y=\"-453.8\" font-family=\"Times,serif\" font-size=\"14.00\" fill=\"#000000\">right_distance &lt;= 4.5</text>\n<text text-anchor=\"middle\" x=\"4428\" y=\"-438.8\" font-family=\"Times,serif\" font-size=\"14.00\" fill=\"#000000\">gini = 0.444</text>\n<text text-anchor=\"middle\" x=\"4428\" y=\"-423.8\" font-family=\"Times,serif\" font-size=\"14.00\" fill=\"#000000\">samples = 3</text>\n<text text-anchor=\"middle\" x=\"4428\" y=\"-408.8\" font-family=\"Times,serif\" font-size=\"14.00\" fill=\"#000000\">value = [1, 0, 2]</text>\n</g>\n<!-- 128&#45;&gt;130 -->\n<g id=\"edge130\" class=\"edge\">\n<title>128&#45;&gt;130</title>\n<path fill=\"none\" stroke=\"#000000\" d=\"M4385.6286,-504.9465C4390.8499,-496.3271 4396.5255,-486.9579 4401.9755,-477.9611\"/>\n<polygon fill=\"#000000\" stroke=\"#000000\" points=\"4405.1374,-479.4965 4407.3251,-469.13 4399.1503,-475.8697 4405.1374,-479.4965\"/>\n</g>\n<!-- 131 -->\n<g id=\"node132\" class=\"node\">\n<title>131</title>\n<polygon fill=\"none\" stroke=\"#000000\" points=\"4359,-357.5 4249,-357.5 4249,-304.5 4359,-304.5 4359,-357.5\"/>\n<text text-anchor=\"middle\" x=\"4304\" y=\"-342.3\" font-family=\"Times,serif\" font-size=\"14.00\" fill=\"#000000\">gini = 0.0</text>\n<text text-anchor=\"middle\" x=\"4304\" y=\"-327.3\" font-family=\"Times,serif\" font-size=\"14.00\" fill=\"#000000\">samples = 1</text>\n<text text-anchor=\"middle\" x=\"4304\" y=\"-312.3\" font-family=\"Times,serif\" font-size=\"14.00\" fill=\"#000000\">value = [1, 0, 0]</text>\n</g>\n<!-- 130&#45;&gt;131 -->\n<g id=\"edge131\" class=\"edge\">\n<title>130&#45;&gt;131</title>\n<path fill=\"none\" stroke=\"#000000\" d=\"M4387.3978,-400.9465C4373.3453,-389.1606 4357.6212,-375.9726 4343.6465,-364.2519\"/>\n<polygon fill=\"#000000\" stroke=\"#000000\" points=\"4345.5575,-361.2866 4335.6464,-357.5422 4341.0592,-366.65 4345.5575,-361.2866\"/>\n</g>\n<!-- 132 -->\n<g id=\"node133\" class=\"node\">\n<title>132</title>\n<polygon fill=\"none\" stroke=\"#000000\" points=\"4487,-357.5 4377,-357.5 4377,-304.5 4487,-304.5 4487,-357.5\"/>\n<text text-anchor=\"middle\" x=\"4432\" y=\"-342.3\" font-family=\"Times,serif\" font-size=\"14.00\" fill=\"#000000\">gini = 0.0</text>\n<text text-anchor=\"middle\" x=\"4432\" y=\"-327.3\" font-family=\"Times,serif\" font-size=\"14.00\" fill=\"#000000\">samples = 2</text>\n<text text-anchor=\"middle\" x=\"4432\" y=\"-312.3\" font-family=\"Times,serif\" font-size=\"14.00\" fill=\"#000000\">value = [0, 0, 2]</text>\n</g>\n<!-- 130&#45;&gt;132 -->\n<g id=\"edge132\" class=\"edge\">\n<title>130&#45;&gt;132</title>\n<path fill=\"none\" stroke=\"#000000\" d=\"M4429.3097,-400.9465C4429.7207,-390.2621 4430.1759,-378.4254 4430.5933,-367.5742\"/>\n<polygon fill=\"#000000\" stroke=\"#000000\" points=\"4434.0921,-367.6693 4430.9791,-357.5422 4427.0973,-367.4002 4434.0921,-367.6693\"/>\n</g>\n<!-- 134 -->\n<g id=\"node135\" class=\"node\">\n<title>134</title>\n<polygon fill=\"none\" stroke=\"#000000\" points=\"4633.5,-461.5 4516.5,-461.5 4516.5,-408.5 4633.5,-408.5 4633.5,-461.5\"/>\n<text text-anchor=\"middle\" x=\"4575\" y=\"-446.3\" font-family=\"Times,serif\" font-size=\"14.00\" fill=\"#000000\">gini = 0.0</text>\n<text text-anchor=\"middle\" x=\"4575\" y=\"-431.3\" font-family=\"Times,serif\" font-size=\"14.00\" fill=\"#000000\">samples = 30</text>\n<text text-anchor=\"middle\" x=\"4575\" y=\"-416.3\" font-family=\"Times,serif\" font-size=\"14.00\" fill=\"#000000\">value = [0, 30, 0]</text>\n</g>\n<!-- 133&#45;&gt;134 -->\n<g id=\"edge134\" class=\"edge\">\n<title>133&#45;&gt;134</title>\n<path fill=\"none\" stroke=\"#000000\" d=\"M4575,-504.9465C4575,-494.2621 4575,-482.4254 4575,-471.5742\"/>\n<polygon fill=\"#000000\" stroke=\"#000000\" points=\"4578.5001,-471.5421 4575,-461.5422 4571.5001,-471.5422 4578.5001,-471.5421\"/>\n</g>\n<!-- 135 -->\n<g id=\"node136\" class=\"node\">\n<title>135</title>\n<polygon fill=\"none\" stroke=\"#000000\" points=\"4776,-469 4652,-469 4652,-401 4776,-401 4776,-469\"/>\n<text text-anchor=\"middle\" x=\"4714\" y=\"-453.8\" font-family=\"Times,serif\" font-size=\"14.00\" fill=\"#000000\">left_weight &lt;= 3.5</text>\n<text text-anchor=\"middle\" x=\"4714\" y=\"-438.8\" font-family=\"Times,serif\" font-size=\"14.00\" fill=\"#000000\">gini = 0.142</text>\n<text text-anchor=\"middle\" x=\"4714\" y=\"-423.8\" font-family=\"Times,serif\" font-size=\"14.00\" fill=\"#000000\">samples = 13</text>\n<text text-anchor=\"middle\" x=\"4714\" y=\"-408.8\" font-family=\"Times,serif\" font-size=\"14.00\" fill=\"#000000\">value = [0, 12, 1]</text>\n</g>\n<!-- 133&#45;&gt;135 -->\n<g id=\"edge135\" class=\"edge\">\n<title>133&#45;&gt;135</title>\n<path fill=\"none\" stroke=\"#000000\" d=\"M4620.5138,-504.9465C4633.234,-495.4293 4647.176,-484.9978 4660.3206,-475.163\"/>\n<polygon fill=\"#000000\" stroke=\"#000000\" points=\"4662.4738,-477.9232 4668.3839,-469.13 4658.2802,-472.3184 4662.4738,-477.9232\"/>\n</g>\n<!-- 136 -->\n<g id=\"node137\" class=\"node\">\n<title>136</title>\n<polygon fill=\"none\" stroke=\"#000000\" points=\"4640.5,-365 4509.5,-365 4509.5,-297 4640.5,-297 4640.5,-365\"/>\n<text text-anchor=\"middle\" x=\"4575\" y=\"-349.8\" font-family=\"Times,serif\" font-size=\"14.00\" fill=\"#000000\">left_distance &lt;= 3.5</text>\n<text text-anchor=\"middle\" x=\"4575\" y=\"-334.8\" font-family=\"Times,serif\" font-size=\"14.00\" fill=\"#000000\">gini = 0.32</text>\n<text text-anchor=\"middle\" x=\"4575\" y=\"-319.8\" font-family=\"Times,serif\" font-size=\"14.00\" fill=\"#000000\">samples = 5</text>\n<text text-anchor=\"middle\" x=\"4575\" y=\"-304.8\" font-family=\"Times,serif\" font-size=\"14.00\" fill=\"#000000\">value = [0, 4, 1]</text>\n</g>\n<!-- 135&#45;&gt;136 -->\n<g id=\"edge136\" class=\"edge\">\n<title>135&#45;&gt;136</title>\n<path fill=\"none\" stroke=\"#000000\" d=\"M4668.4862,-400.9465C4655.766,-391.4293 4641.824,-380.9978 4628.6794,-371.163\"/>\n<polygon fill=\"#000000\" stroke=\"#000000\" points=\"4630.7198,-368.3184 4620.6161,-365.13 4626.5262,-373.9232 4630.7198,-368.3184\"/>\n</g>\n<!-- 141 -->\n<g id=\"node142\" class=\"node\">\n<title>141</title>\n<polygon fill=\"none\" stroke=\"#000000\" points=\"4769,-357.5 4659,-357.5 4659,-304.5 4769,-304.5 4769,-357.5\"/>\n<text text-anchor=\"middle\" x=\"4714\" y=\"-342.3\" font-family=\"Times,serif\" font-size=\"14.00\" fill=\"#000000\">gini = 0.0</text>\n<text text-anchor=\"middle\" x=\"4714\" y=\"-327.3\" font-family=\"Times,serif\" font-size=\"14.00\" fill=\"#000000\">samples = 8</text>\n<text text-anchor=\"middle\" x=\"4714\" y=\"-312.3\" font-family=\"Times,serif\" font-size=\"14.00\" fill=\"#000000\">value = [0, 8, 0]</text>\n</g>\n<!-- 135&#45;&gt;141 -->\n<g id=\"edge141\" class=\"edge\">\n<title>135&#45;&gt;141</title>\n<path fill=\"none\" stroke=\"#000000\" d=\"M4714,-400.9465C4714,-390.2621 4714,-378.4254 4714,-367.5742\"/>\n<polygon fill=\"#000000\" stroke=\"#000000\" points=\"4717.5001,-367.5421 4714,-357.5422 4710.5001,-367.5422 4717.5001,-367.5421\"/>\n</g>\n<!-- 137 -->\n<g id=\"node138\" class=\"node\">\n<title>137</title>\n<polygon fill=\"none\" stroke=\"#000000\" points=\"4571.5,-261 4438.5,-261 4438.5,-193 4571.5,-193 4571.5,-261\"/>\n<text text-anchor=\"middle\" x=\"4505\" y=\"-245.8\" font-family=\"Times,serif\" font-size=\"14.00\" fill=\"#000000\">right_weight &lt;= 1.5</text>\n<text text-anchor=\"middle\" x=\"4505\" y=\"-230.8\" font-family=\"Times,serif\" font-size=\"14.00\" fill=\"#000000\">gini = 0.5</text>\n<text text-anchor=\"middle\" x=\"4505\" y=\"-215.8\" font-family=\"Times,serif\" font-size=\"14.00\" fill=\"#000000\">samples = 2</text>\n<text text-anchor=\"middle\" x=\"4505\" y=\"-200.8\" font-family=\"Times,serif\" font-size=\"14.00\" fill=\"#000000\">value = [0, 1, 1]</text>\n</g>\n<!-- 136&#45;&gt;137 -->\n<g id=\"edge137\" class=\"edge\">\n<title>136&#45;&gt;137</title>\n<path fill=\"none\" stroke=\"#000000\" d=\"M4552.0794,-296.9465C4546.2174,-288.2373 4539.8402,-278.7626 4533.727,-269.6801\"/>\n<polygon fill=\"#000000\" stroke=\"#000000\" points=\"4536.4595,-267.4716 4527.9721,-261.13 4530.6524,-271.3802 4536.4595,-267.4716\"/>\n</g>\n<!-- 140 -->\n<g id=\"node141\" class=\"node\">\n<title>140</title>\n<polygon fill=\"none\" stroke=\"#000000\" points=\"4700,-253.5 4590,-253.5 4590,-200.5 4700,-200.5 4700,-253.5\"/>\n<text text-anchor=\"middle\" x=\"4645\" y=\"-238.3\" font-family=\"Times,serif\" font-size=\"14.00\" fill=\"#000000\">gini = 0.0</text>\n<text text-anchor=\"middle\" x=\"4645\" y=\"-223.3\" font-family=\"Times,serif\" font-size=\"14.00\" fill=\"#000000\">samples = 3</text>\n<text text-anchor=\"middle\" x=\"4645\" y=\"-208.3\" font-family=\"Times,serif\" font-size=\"14.00\" fill=\"#000000\">value = [0, 3, 0]</text>\n</g>\n<!-- 136&#45;&gt;140 -->\n<g id=\"edge140\" class=\"edge\">\n<title>136&#45;&gt;140</title>\n<path fill=\"none\" stroke=\"#000000\" d=\"M4597.9206,-296.9465C4605.4828,-285.7113 4613.9024,-273.2021 4621.5067,-261.9043\"/>\n<polygon fill=\"#000000\" stroke=\"#000000\" points=\"4624.4548,-263.7924 4627.1351,-253.5422 4618.6477,-259.8837 4624.4548,-263.7924\"/>\n</g>\n<!-- 138 -->\n<g id=\"node139\" class=\"node\">\n<title>138</title>\n<polygon fill=\"none\" stroke=\"#000000\" points=\"4496,-149.5 4386,-149.5 4386,-96.5 4496,-96.5 4496,-149.5\"/>\n<text text-anchor=\"middle\" x=\"4441\" y=\"-134.3\" font-family=\"Times,serif\" font-size=\"14.00\" fill=\"#000000\">gini = 0.0</text>\n<text text-anchor=\"middle\" x=\"4441\" y=\"-119.3\" font-family=\"Times,serif\" font-size=\"14.00\" fill=\"#000000\">samples = 1</text>\n<text text-anchor=\"middle\" x=\"4441\" y=\"-104.3\" font-family=\"Times,serif\" font-size=\"14.00\" fill=\"#000000\">value = [0, 1, 0]</text>\n</g>\n<!-- 137&#45;&gt;138 -->\n<g id=\"edge138\" class=\"edge\">\n<title>137&#45;&gt;138</title>\n<path fill=\"none\" stroke=\"#000000\" d=\"M4484.044,-192.9465C4477.1978,-181.8215 4469.5829,-169.4473 4462.6843,-158.237\"/>\n<polygon fill=\"#000000\" stroke=\"#000000\" points=\"4465.5555,-156.2244 4457.3336,-149.5422 4459.5939,-159.8931 4465.5555,-156.2244\"/>\n</g>\n<!-- 139 -->\n<g id=\"node140\" class=\"node\">\n<title>139</title>\n<polygon fill=\"none\" stroke=\"#000000\" points=\"4624,-149.5 4514,-149.5 4514,-96.5 4624,-96.5 4624,-149.5\"/>\n<text text-anchor=\"middle\" x=\"4569\" y=\"-134.3\" font-family=\"Times,serif\" font-size=\"14.00\" fill=\"#000000\">gini = 0.0</text>\n<text text-anchor=\"middle\" x=\"4569\" y=\"-119.3\" font-family=\"Times,serif\" font-size=\"14.00\" fill=\"#000000\">samples = 1</text>\n<text text-anchor=\"middle\" x=\"4569\" y=\"-104.3\" font-family=\"Times,serif\" font-size=\"14.00\" fill=\"#000000\">value = [0, 0, 1]</text>\n</g>\n<!-- 137&#45;&gt;139 -->\n<g id=\"edge139\" class=\"edge\">\n<title>137&#45;&gt;139</title>\n<path fill=\"none\" stroke=\"#000000\" d=\"M4525.956,-192.9465C4532.8022,-181.8215 4540.4171,-169.4473 4547.3157,-158.237\"/>\n<polygon fill=\"#000000\" stroke=\"#000000\" points=\"4550.4061,-159.8931 4552.6664,-149.5422 4544.4445,-156.2244 4550.4061,-159.8931\"/>\n</g>\n<!-- 143 -->\n<g id=\"node144\" class=\"node\">\n<title>143</title>\n<polygon fill=\"none\" stroke=\"#000000\" points=\"5291.5,-781 5160.5,-781 5160.5,-713 5291.5,-713 5291.5,-781\"/>\n<text text-anchor=\"middle\" x=\"5226\" y=\"-765.8\" font-family=\"Times,serif\" font-size=\"14.00\" fill=\"#000000\">left_distance &lt;= 2.5</text>\n<text text-anchor=\"middle\" x=\"5226\" y=\"-750.8\" font-family=\"Times,serif\" font-size=\"14.00\" fill=\"#000000\">gini = 0.131</text>\n<text text-anchor=\"middle\" x=\"5226\" y=\"-735.8\" font-family=\"Times,serif\" font-size=\"14.00\" fill=\"#000000\">samples = 101</text>\n<text text-anchor=\"middle\" x=\"5226\" y=\"-720.8\" font-family=\"Times,serif\" font-size=\"14.00\" fill=\"#000000\">value = [4, 3, 94]</text>\n</g>\n<!-- 142&#45;&gt;143 -->\n<g id=\"edge143\" class=\"edge\">\n<title>142&#45;&gt;143</title>\n<path fill=\"none\" stroke=\"#000000\" d=\"M5226,-816.9465C5226,-808.776 5226,-799.9318 5226,-791.3697\"/>\n<polygon fill=\"#000000\" stroke=\"#000000\" points=\"5229.5001,-791.13 5226,-781.13 5222.5001,-791.13 5229.5001,-791.13\"/>\n</g>\n<!-- 170 -->\n<g id=\"node171\" class=\"node\">\n<title>170</title>\n<polygon fill=\"none\" stroke=\"#000000\" points=\"6323.5,-781 6198.5,-781 6198.5,-713 6323.5,-713 6323.5,-781\"/>\n<text text-anchor=\"middle\" x=\"6261\" y=\"-765.8\" font-family=\"Times,serif\" font-size=\"14.00\" fill=\"#000000\">left_weight &lt;= 3.5</text>\n<text text-anchor=\"middle\" x=\"6261\" y=\"-750.8\" font-family=\"Times,serif\" font-size=\"14.00\" fill=\"#000000\">gini = 0.545</text>\n<text text-anchor=\"middle\" x=\"6261\" y=\"-735.8\" font-family=\"Times,serif\" font-size=\"14.00\" fill=\"#000000\">samples = 68</text>\n<text text-anchor=\"middle\" x=\"6261\" y=\"-720.8\" font-family=\"Times,serif\" font-size=\"14.00\" fill=\"#000000\">value = [8, 19, 41]</text>\n</g>\n<!-- 142&#45;&gt;170 -->\n<g id=\"edge170\" class=\"edge\">\n<title>142&#45;&gt;170</title>\n<path fill=\"none\" stroke=\"#000000\" d=\"M5296.326,-843.9334C5484.3013,-825.0451 5997.0457,-773.5229 6188.0291,-754.3323\"/>\n<polygon fill=\"#000000\" stroke=\"#000000\" points=\"6188.64,-757.7887 6198.2399,-753.3063 6187.9401,-750.8237 6188.64,-757.7887\"/>\n</g>\n<!-- 144 -->\n<g id=\"node145\" class=\"node\">\n<title>144</title>\n<polygon fill=\"none\" stroke=\"#000000\" points=\"5143,-677 5019,-677 5019,-609 5143,-609 5143,-677\"/>\n<text text-anchor=\"middle\" x=\"5081\" y=\"-661.8\" font-family=\"Times,serif\" font-size=\"14.00\" fill=\"#000000\">left_weight &lt;= 4.5</text>\n<text text-anchor=\"middle\" x=\"5081\" y=\"-646.8\" font-family=\"Times,serif\" font-size=\"14.00\" fill=\"#000000\">gini = 0.029</text>\n<text text-anchor=\"middle\" x=\"5081\" y=\"-631.8\" font-family=\"Times,serif\" font-size=\"14.00\" fill=\"#000000\">samples = 68</text>\n<text text-anchor=\"middle\" x=\"5081\" y=\"-616.8\" font-family=\"Times,serif\" font-size=\"14.00\" fill=\"#000000\">value = [0, 1, 67]</text>\n</g>\n<!-- 143&#45;&gt;144 -->\n<g id=\"edge144\" class=\"edge\">\n<title>143&#45;&gt;144</title>\n<path fill=\"none\" stroke=\"#000000\" d=\"M5178.5216,-712.9465C5165.2523,-703.4293 5150.7085,-692.9978 5136.9965,-683.163\"/>\n<polygon fill=\"#000000\" stroke=\"#000000\" points=\"5138.751,-680.1142 5128.5851,-677.13 5134.6712,-685.8024 5138.751,-680.1142\"/>\n</g>\n<!-- 151 -->\n<g id=\"node152\" class=\"node\">\n<title>151</title>\n<polygon fill=\"none\" stroke=\"#000000\" points=\"5372,-677 5232,-677 5232,-609 5372,-609 5372,-677\"/>\n<text text-anchor=\"middle\" x=\"5302\" y=\"-661.8\" font-family=\"Times,serif\" font-size=\"14.00\" fill=\"#000000\">right_distance &lt;= 3.5</text>\n<text text-anchor=\"middle\" x=\"5302\" y=\"-646.8\" font-family=\"Times,serif\" font-size=\"14.00\" fill=\"#000000\">gini = 0.312</text>\n<text text-anchor=\"middle\" x=\"5302\" y=\"-631.8\" font-family=\"Times,serif\" font-size=\"14.00\" fill=\"#000000\">samples = 33</text>\n<text text-anchor=\"middle\" x=\"5302\" y=\"-616.8\" font-family=\"Times,serif\" font-size=\"14.00\" fill=\"#000000\">value = [4, 2, 27]</text>\n</g>\n<!-- 143&#45;&gt;151 -->\n<g id=\"edge151\" class=\"edge\">\n<title>143&#45;&gt;151</title>\n<path fill=\"none\" stroke=\"#000000\" d=\"M5250.8852,-712.9465C5257.3153,-704.1475 5264.3163,-694.5672 5271.0159,-685.3993\"/>\n<polygon fill=\"#000000\" stroke=\"#000000\" points=\"5273.9845,-687.269 5277.0588,-677.13 5268.3328,-683.1389 5273.9845,-687.269\"/>\n</g>\n<!-- 145 -->\n<g id=\"node146\" class=\"node\">\n<title>145</title>\n<polygon fill=\"none\" stroke=\"#000000\" points=\"4992.5,-565.5 4875.5,-565.5 4875.5,-512.5 4992.5,-512.5 4992.5,-565.5\"/>\n<text text-anchor=\"middle\" x=\"4934\" y=\"-550.3\" font-family=\"Times,serif\" font-size=\"14.00\" fill=\"#000000\">gini = 0.0</text>\n<text text-anchor=\"middle\" x=\"4934\" y=\"-535.3\" font-family=\"Times,serif\" font-size=\"14.00\" fill=\"#000000\">samples = 57</text>\n<text text-anchor=\"middle\" x=\"4934\" y=\"-520.3\" font-family=\"Times,serif\" font-size=\"14.00\" fill=\"#000000\">value = [0, 0, 57]</text>\n</g>\n<!-- 144&#45;&gt;145 -->\n<g id=\"edge145\" class=\"edge\">\n<title>144&#45;&gt;145</title>\n<path fill=\"none\" stroke=\"#000000\" d=\"M5032.8667,-608.9465C5015.8963,-596.9403 4996.8696,-583.4791 4980.0735,-571.5962\"/>\n<polygon fill=\"#000000\" stroke=\"#000000\" points=\"4981.7013,-568.4605 4971.5163,-565.5422 4977.6584,-574.175 4981.7013,-568.4605\"/>\n</g>\n<!-- 146 -->\n<g id=\"node147\" class=\"node\">\n<title>146</title>\n<polygon fill=\"none\" stroke=\"#000000\" points=\"5151,-573 5011,-573 5011,-505 5151,-505 5151,-573\"/>\n<text text-anchor=\"middle\" x=\"5081\" y=\"-557.8\" font-family=\"Times,serif\" font-size=\"14.00\" fill=\"#000000\">right_distance &lt;= 3.5</text>\n<text text-anchor=\"middle\" x=\"5081\" y=\"-542.8\" font-family=\"Times,serif\" font-size=\"14.00\" fill=\"#000000\">gini = 0.165</text>\n<text text-anchor=\"middle\" x=\"5081\" y=\"-527.8\" font-family=\"Times,serif\" font-size=\"14.00\" fill=\"#000000\">samples = 11</text>\n<text text-anchor=\"middle\" x=\"5081\" y=\"-512.8\" font-family=\"Times,serif\" font-size=\"14.00\" fill=\"#000000\">value = [0, 1, 10]</text>\n</g>\n<!-- 144&#45;&gt;146 -->\n<g id=\"edge146\" class=\"edge\">\n<title>144&#45;&gt;146</title>\n<path fill=\"none\" stroke=\"#000000\" d=\"M5081,-608.9465C5081,-600.776 5081,-591.9318 5081,-583.3697\"/>\n<polygon fill=\"#000000\" stroke=\"#000000\" points=\"5084.5001,-583.13 5081,-573.13 5077.5001,-583.13 5084.5001,-583.13\"/>\n</g>\n<!-- 147 -->\n<g id=\"node148\" class=\"node\">\n<title>147</title>\n<polygon fill=\"none\" stroke=\"#000000\" points=\"5007.5,-469 4874.5,-469 4874.5,-401 5007.5,-401 5007.5,-469\"/>\n<text text-anchor=\"middle\" x=\"4941\" y=\"-453.8\" font-family=\"Times,serif\" font-size=\"14.00\" fill=\"#000000\">right_weight &lt;= 3.5</text>\n<text text-anchor=\"middle\" x=\"4941\" y=\"-438.8\" font-family=\"Times,serif\" font-size=\"14.00\" fill=\"#000000\">gini = 0.444</text>\n<text text-anchor=\"middle\" x=\"4941\" y=\"-423.8\" font-family=\"Times,serif\" font-size=\"14.00\" fill=\"#000000\">samples = 3</text>\n<text text-anchor=\"middle\" x=\"4941\" y=\"-408.8\" font-family=\"Times,serif\" font-size=\"14.00\" fill=\"#000000\">value = [0, 1, 2]</text>\n</g>\n<!-- 146&#45;&gt;147 -->\n<g id=\"edge147\" class=\"edge\">\n<title>146&#45;&gt;147</title>\n<path fill=\"none\" stroke=\"#000000\" d=\"M5035.1588,-504.9465C5022.3471,-495.4293 5008.3048,-484.9978 4995.0656,-475.163\"/>\n<polygon fill=\"#000000\" stroke=\"#000000\" points=\"4997.0588,-472.2837 4986.9442,-469.13 4992.8845,-477.9029 4997.0588,-472.2837\"/>\n</g>\n<!-- 150 -->\n<g id=\"node151\" class=\"node\">\n<title>150</title>\n<polygon fill=\"none\" stroke=\"#000000\" points=\"5136,-461.5 5026,-461.5 5026,-408.5 5136,-408.5 5136,-461.5\"/>\n<text text-anchor=\"middle\" x=\"5081\" y=\"-446.3\" font-family=\"Times,serif\" font-size=\"14.00\" fill=\"#000000\">gini = 0.0</text>\n<text text-anchor=\"middle\" x=\"5081\" y=\"-431.3\" font-family=\"Times,serif\" font-size=\"14.00\" fill=\"#000000\">samples = 8</text>\n<text text-anchor=\"middle\" x=\"5081\" y=\"-416.3\" font-family=\"Times,serif\" font-size=\"14.00\" fill=\"#000000\">value = [0, 0, 8]</text>\n</g>\n<!-- 146&#45;&gt;150 -->\n<g id=\"edge150\" class=\"edge\">\n<title>146&#45;&gt;150</title>\n<path fill=\"none\" stroke=\"#000000\" d=\"M5081,-504.9465C5081,-494.2621 5081,-482.4254 5081,-471.5742\"/>\n<polygon fill=\"#000000\" stroke=\"#000000\" points=\"5084.5001,-471.5421 5081,-461.5422 5077.5001,-471.5422 5084.5001,-471.5421\"/>\n</g>\n<!-- 148 -->\n<g id=\"node149\" class=\"node\">\n<title>148</title>\n<polygon fill=\"none\" stroke=\"#000000\" points=\"4897,-357.5 4787,-357.5 4787,-304.5 4897,-304.5 4897,-357.5\"/>\n<text text-anchor=\"middle\" x=\"4842\" y=\"-342.3\" font-family=\"Times,serif\" font-size=\"14.00\" fill=\"#000000\">gini = 0.0</text>\n<text text-anchor=\"middle\" x=\"4842\" y=\"-327.3\" font-family=\"Times,serif\" font-size=\"14.00\" fill=\"#000000\">samples = 1</text>\n<text text-anchor=\"middle\" x=\"4842\" y=\"-312.3\" font-family=\"Times,serif\" font-size=\"14.00\" fill=\"#000000\">value = [0, 1, 0]</text>\n</g>\n<!-- 147&#45;&gt;148 -->\n<g id=\"edge148\" class=\"edge\">\n<title>147&#45;&gt;148</title>\n<path fill=\"none\" stroke=\"#000000\" d=\"M4908.5837,-400.9465C4897.5741,-389.3809 4885.2793,-376.4652 4874.2804,-364.9107\"/>\n<polygon fill=\"#000000\" stroke=\"#000000\" points=\"4876.696,-362.372 4867.2661,-357.5422 4871.6259,-367.1984 4876.696,-362.372\"/>\n</g>\n<!-- 149 -->\n<g id=\"node150\" class=\"node\">\n<title>149</title>\n<polygon fill=\"none\" stroke=\"#000000\" points=\"5025,-357.5 4915,-357.5 4915,-304.5 5025,-304.5 5025,-357.5\"/>\n<text text-anchor=\"middle\" x=\"4970\" y=\"-342.3\" font-family=\"Times,serif\" font-size=\"14.00\" fill=\"#000000\">gini = 0.0</text>\n<text text-anchor=\"middle\" x=\"4970\" y=\"-327.3\" font-family=\"Times,serif\" font-size=\"14.00\" fill=\"#000000\">samples = 2</text>\n<text text-anchor=\"middle\" x=\"4970\" y=\"-312.3\" font-family=\"Times,serif\" font-size=\"14.00\" fill=\"#000000\">value = [0, 0, 2]</text>\n</g>\n<!-- 147&#45;&gt;149 -->\n<g id=\"edge149\" class=\"edge\">\n<title>147&#45;&gt;149</title>\n<path fill=\"none\" stroke=\"#000000\" d=\"M4950.4957,-400.9465C4953.5057,-390.1519 4956.8437,-378.1813 4959.8949,-367.2389\"/>\n<polygon fill=\"#000000\" stroke=\"#000000\" points=\"4963.2841,-368.1148 4962.5988,-357.5422 4956.5414,-366.2346 4963.2841,-368.1148\"/>\n</g>\n<!-- 152 -->\n<g id=\"node153\" class=\"node\">\n<title>152</title>\n<polygon fill=\"none\" stroke=\"#000000\" points=\"5364,-573 5240,-573 5240,-505 5364,-505 5364,-573\"/>\n<text text-anchor=\"middle\" x=\"5302\" y=\"-557.8\" font-family=\"Times,serif\" font-size=\"14.00\" fill=\"#000000\">left_weight &lt;= 3.5</text>\n<text text-anchor=\"middle\" x=\"5302\" y=\"-542.8\" font-family=\"Times,serif\" font-size=\"14.00\" fill=\"#000000\">gini = 0.595</text>\n<text text-anchor=\"middle\" x=\"5302\" y=\"-527.8\" font-family=\"Times,serif\" font-size=\"14.00\" fill=\"#000000\">samples = 11</text>\n<text text-anchor=\"middle\" x=\"5302\" y=\"-512.8\" font-family=\"Times,serif\" font-size=\"14.00\" fill=\"#000000\">value = [3, 2, 6]</text>\n</g>\n<!-- 151&#45;&gt;152 -->\n<g id=\"edge152\" class=\"edge\">\n<title>151&#45;&gt;152</title>\n<path fill=\"none\" stroke=\"#000000\" d=\"M5302,-608.9465C5302,-600.776 5302,-591.9318 5302,-583.3697\"/>\n<polygon fill=\"#000000\" stroke=\"#000000\" points=\"5305.5001,-583.13 5302,-573.13 5298.5001,-583.13 5305.5001,-583.13\"/>\n</g>\n<!-- 165 -->\n<g id=\"node166\" class=\"node\">\n<title>165</title>\n<polygon fill=\"none\" stroke=\"#000000\" points=\"5577,-573 5453,-573 5453,-505 5577,-505 5577,-573\"/>\n<text text-anchor=\"middle\" x=\"5515\" y=\"-557.8\" font-family=\"Times,serif\" font-size=\"14.00\" fill=\"#000000\">left_weight &lt;= 4.5</text>\n<text text-anchor=\"middle\" x=\"5515\" y=\"-542.8\" font-family=\"Times,serif\" font-size=\"14.00\" fill=\"#000000\">gini = 0.087</text>\n<text text-anchor=\"middle\" x=\"5515\" y=\"-527.8\" font-family=\"Times,serif\" font-size=\"14.00\" fill=\"#000000\">samples = 22</text>\n<text text-anchor=\"middle\" x=\"5515\" y=\"-512.8\" font-family=\"Times,serif\" font-size=\"14.00\" fill=\"#000000\">value = [1, 0, 21]</text>\n</g>\n<!-- 151&#45;&gt;165 -->\n<g id=\"edge165\" class=\"edge\">\n<title>151&#45;&gt;165</title>\n<path fill=\"none\" stroke=\"#000000\" d=\"M5371.7442,-608.9465C5394.8798,-597.6502 5420.6532,-585.066 5443.8905,-573.7201\"/>\n<polygon fill=\"#000000\" stroke=\"#000000\" points=\"5445.5477,-576.806 5452.9981,-569.2732 5442.4763,-570.5157 5445.5477,-576.806\"/>\n</g>\n<!-- 153 -->\n<g id=\"node154\" class=\"node\">\n<title>153</title>\n<polygon fill=\"none\" stroke=\"#000000\" points=\"5287.5,-469 5154.5,-469 5154.5,-401 5287.5,-401 5287.5,-469\"/>\n<text text-anchor=\"middle\" x=\"5221\" y=\"-453.8\" font-family=\"Times,serif\" font-size=\"14.00\" fill=\"#000000\">right_weight &lt;= 3.5</text>\n<text text-anchor=\"middle\" x=\"5221\" y=\"-438.8\" font-family=\"Times,serif\" font-size=\"14.00\" fill=\"#000000\">gini = 0.278</text>\n<text text-anchor=\"middle\" x=\"5221\" y=\"-423.8\" font-family=\"Times,serif\" font-size=\"14.00\" fill=\"#000000\">samples = 6</text>\n<text text-anchor=\"middle\" x=\"5221\" y=\"-408.8\" font-family=\"Times,serif\" font-size=\"14.00\" fill=\"#000000\">value = [1, 0, 5]</text>\n</g>\n<!-- 152&#45;&gt;153 -->\n<g id=\"edge153\" class=\"edge\">\n<title>152&#45;&gt;153</title>\n<path fill=\"none\" stroke=\"#000000\" d=\"M5275.4776,-504.9465C5268.5546,-496.0578 5261.0106,-486.3716 5253.804,-477.1188\"/>\n<polygon fill=\"#000000\" stroke=\"#000000\" points=\"5256.488,-474.8688 5247.582,-469.13 5250.9654,-479.1701 5256.488,-474.8688\"/>\n</g>\n<!-- 156 -->\n<g id=\"node157\" class=\"node\">\n<title>156</title>\n<polygon fill=\"none\" stroke=\"#000000\" points=\"5438.5,-469 5305.5,-469 5305.5,-401 5438.5,-401 5438.5,-469\"/>\n<text text-anchor=\"middle\" x=\"5372\" y=\"-453.8\" font-family=\"Times,serif\" font-size=\"14.00\" fill=\"#000000\">right_weight &lt;= 4.5</text>\n<text text-anchor=\"middle\" x=\"5372\" y=\"-438.8\" font-family=\"Times,serif\" font-size=\"14.00\" fill=\"#000000\">gini = 0.64</text>\n<text text-anchor=\"middle\" x=\"5372\" y=\"-423.8\" font-family=\"Times,serif\" font-size=\"14.00\" fill=\"#000000\">samples = 5</text>\n<text text-anchor=\"middle\" x=\"5372\" y=\"-408.8\" font-family=\"Times,serif\" font-size=\"14.00\" fill=\"#000000\">value = [2, 2, 1]</text>\n</g>\n<!-- 152&#45;&gt;156 -->\n<g id=\"edge156\" class=\"edge\">\n<title>152&#45;&gt;156</title>\n<path fill=\"none\" stroke=\"#000000\" d=\"M5324.9206,-504.9465C5330.7826,-496.2373 5337.1598,-486.7626 5343.273,-477.6801\"/>\n<polygon fill=\"#000000\" stroke=\"#000000\" points=\"5346.3476,-479.3802 5349.0279,-469.13 5340.5405,-475.4716 5346.3476,-479.3802\"/>\n</g>\n<!-- 154 -->\n<g id=\"node155\" class=\"node\">\n<title>154</title>\n<polygon fill=\"none\" stroke=\"#000000\" points=\"5153,-357.5 5043,-357.5 5043,-304.5 5153,-304.5 5153,-357.5\"/>\n<text text-anchor=\"middle\" x=\"5098\" y=\"-342.3\" font-family=\"Times,serif\" font-size=\"14.00\" fill=\"#000000\">gini = 0.0</text>\n<text text-anchor=\"middle\" x=\"5098\" y=\"-327.3\" font-family=\"Times,serif\" font-size=\"14.00\" fill=\"#000000\">samples = 1</text>\n<text text-anchor=\"middle\" x=\"5098\" y=\"-312.3\" font-family=\"Times,serif\" font-size=\"14.00\" fill=\"#000000\">value = [1, 0, 0]</text>\n</g>\n<!-- 153&#45;&gt;154 -->\n<g id=\"edge154\" class=\"edge\">\n<title>153&#45;&gt;154</title>\n<path fill=\"none\" stroke=\"#000000\" d=\"M5180.7252,-400.9465C5166.7861,-389.1606 5151.1888,-375.9726 5137.3268,-364.2519\"/>\n<polygon fill=\"#000000\" stroke=\"#000000\" points=\"5139.2873,-361.3262 5129.3912,-357.5422 5134.7676,-366.6715 5139.2873,-361.3262\"/>\n</g>\n<!-- 155 -->\n<g id=\"node156\" class=\"node\">\n<title>155</title>\n<polygon fill=\"none\" stroke=\"#000000\" points=\"5281,-357.5 5171,-357.5 5171,-304.5 5281,-304.5 5281,-357.5\"/>\n<text text-anchor=\"middle\" x=\"5226\" y=\"-342.3\" font-family=\"Times,serif\" font-size=\"14.00\" fill=\"#000000\">gini = 0.0</text>\n<text text-anchor=\"middle\" x=\"5226\" y=\"-327.3\" font-family=\"Times,serif\" font-size=\"14.00\" fill=\"#000000\">samples = 5</text>\n<text text-anchor=\"middle\" x=\"5226\" y=\"-312.3\" font-family=\"Times,serif\" font-size=\"14.00\" fill=\"#000000\">value = [0, 0, 5]</text>\n</g>\n<!-- 153&#45;&gt;155 -->\n<g id=\"edge155\" class=\"edge\">\n<title>153&#45;&gt;155</title>\n<path fill=\"none\" stroke=\"#000000\" d=\"M5222.6372,-400.9465C5223.1509,-390.2621 5223.7199,-378.4254 5224.2416,-367.5742\"/>\n<polygon fill=\"#000000\" stroke=\"#000000\" points=\"5227.7396,-367.6987 5224.7239,-357.5422 5220.7477,-367.3625 5227.7396,-367.6987\"/>\n</g>\n<!-- 157 -->\n<g id=\"node158\" class=\"node\">\n<title>157</title>\n<polygon fill=\"none\" stroke=\"#000000\" points=\"5432.5,-365 5299.5,-365 5299.5,-297 5432.5,-297 5432.5,-365\"/>\n<text text-anchor=\"middle\" x=\"5366\" y=\"-349.8\" font-family=\"Times,serif\" font-size=\"14.00\" fill=\"#000000\">right_weight &lt;= 3.5</text>\n<text text-anchor=\"middle\" x=\"5366\" y=\"-334.8\" font-family=\"Times,serif\" font-size=\"14.00\" fill=\"#000000\">gini = 0.444</text>\n<text text-anchor=\"middle\" x=\"5366\" y=\"-319.8\" font-family=\"Times,serif\" font-size=\"14.00\" fill=\"#000000\">samples = 3</text>\n<text text-anchor=\"middle\" x=\"5366\" y=\"-304.8\" font-family=\"Times,serif\" font-size=\"14.00\" fill=\"#000000\">value = [1, 2, 0]</text>\n</g>\n<!-- 156&#45;&gt;157 -->\n<g id=\"edge157\" class=\"edge\">\n<title>156&#45;&gt;157</title>\n<path fill=\"none\" stroke=\"#000000\" d=\"M5370.0354,-400.9465C5369.564,-392.776 5369.0538,-383.9318 5368.5598,-375.3697\"/>\n<polygon fill=\"#000000\" stroke=\"#000000\" points=\"5372.0393,-374.9118 5367.969,-365.13 5365.0509,-375.315 5372.0393,-374.9118\"/>\n</g>\n<!-- 162 -->\n<g id=\"node163\" class=\"node\">\n<title>162</title>\n<polygon fill=\"none\" stroke=\"#000000\" points=\"5575,-365 5451,-365 5451,-297 5575,-297 5575,-365\"/>\n<text text-anchor=\"middle\" x=\"5513\" y=\"-349.8\" font-family=\"Times,serif\" font-size=\"14.00\" fill=\"#000000\">left_weight &lt;= 4.5</text>\n<text text-anchor=\"middle\" x=\"5513\" y=\"-334.8\" font-family=\"Times,serif\" font-size=\"14.00\" fill=\"#000000\">gini = 0.5</text>\n<text text-anchor=\"middle\" x=\"5513\" y=\"-319.8\" font-family=\"Times,serif\" font-size=\"14.00\" fill=\"#000000\">samples = 2</text>\n<text text-anchor=\"middle\" x=\"5513\" y=\"-304.8\" font-family=\"Times,serif\" font-size=\"14.00\" fill=\"#000000\">value = [1, 0, 1]</text>\n</g>\n<!-- 156&#45;&gt;162 -->\n<g id=\"edge162\" class=\"edge\">\n<title>156&#45;&gt;162</title>\n<path fill=\"none\" stroke=\"#000000\" d=\"M5418.1687,-400.9465C5431.0719,-391.4293 5445.2145,-380.9978 5458.5483,-371.163\"/>\n<polygon fill=\"#000000\" stroke=\"#000000\" points=\"5460.7575,-373.8826 5466.7276,-365.13 5456.6023,-368.2492 5460.7575,-373.8826\"/>\n</g>\n<!-- 158 -->\n<g id=\"node159\" class=\"node\">\n<title>158</title>\n<polygon fill=\"none\" stroke=\"#000000\" points=\"5289,-253.5 5179,-253.5 5179,-200.5 5289,-200.5 5289,-253.5\"/>\n<text text-anchor=\"middle\" x=\"5234\" y=\"-238.3\" font-family=\"Times,serif\" font-size=\"14.00\" fill=\"#000000\">gini = 0.0</text>\n<text text-anchor=\"middle\" x=\"5234\" y=\"-223.3\" font-family=\"Times,serif\" font-size=\"14.00\" fill=\"#000000\">samples = 1</text>\n<text text-anchor=\"middle\" x=\"5234\" y=\"-208.3\" font-family=\"Times,serif\" font-size=\"14.00\" fill=\"#000000\">value = [0, 1, 0]</text>\n</g>\n<!-- 157&#45;&gt;158 -->\n<g id=\"edge158\" class=\"edge\">\n<title>157&#45;&gt;158</title>\n<path fill=\"none\" stroke=\"#000000\" d=\"M5322.7783,-296.9465C5307.6794,-285.0504 5290.7676,-271.726 5275.7878,-259.9237\"/>\n<polygon fill=\"#000000\" stroke=\"#000000\" points=\"5277.7091,-256.9817 5267.6881,-253.5422 5273.377,-262.4802 5277.7091,-256.9817\"/>\n</g>\n<!-- 159 -->\n<g id=\"node160\" class=\"node\">\n<title>159</title>\n<polygon fill=\"none\" stroke=\"#000000\" points=\"5431,-261 5307,-261 5307,-193 5431,-193 5431,-261\"/>\n<text text-anchor=\"middle\" x=\"5369\" y=\"-245.8\" font-family=\"Times,serif\" font-size=\"14.00\" fill=\"#000000\">left_weight &lt;= 4.5</text>\n<text text-anchor=\"middle\" x=\"5369\" y=\"-230.8\" font-family=\"Times,serif\" font-size=\"14.00\" fill=\"#000000\">gini = 0.5</text>\n<text text-anchor=\"middle\" x=\"5369\" y=\"-215.8\" font-family=\"Times,serif\" font-size=\"14.00\" fill=\"#000000\">samples = 2</text>\n<text text-anchor=\"middle\" x=\"5369\" y=\"-200.8\" font-family=\"Times,serif\" font-size=\"14.00\" fill=\"#000000\">value = [1, 1, 0]</text>\n</g>\n<!-- 157&#45;&gt;159 -->\n<g id=\"edge159\" class=\"edge\">\n<title>157&#45;&gt;159</title>\n<path fill=\"none\" stroke=\"#000000\" d=\"M5366.9823,-296.9465C5367.218,-288.776 5367.4731,-279.9318 5367.7201,-271.3697\"/>\n<polygon fill=\"#000000\" stroke=\"#000000\" points=\"5371.2256,-271.2268 5368.0155,-261.13 5364.2285,-271.0249 5371.2256,-271.2268\"/>\n</g>\n<!-- 160 -->\n<g id=\"node161\" class=\"node\">\n<title>160</title>\n<polygon fill=\"none\" stroke=\"#000000\" points=\"5360,-149.5 5250,-149.5 5250,-96.5 5360,-96.5 5360,-149.5\"/>\n<text text-anchor=\"middle\" x=\"5305\" y=\"-134.3\" font-family=\"Times,serif\" font-size=\"14.00\" fill=\"#000000\">gini = 0.0</text>\n<text text-anchor=\"middle\" x=\"5305\" y=\"-119.3\" font-family=\"Times,serif\" font-size=\"14.00\" fill=\"#000000\">samples = 1</text>\n<text text-anchor=\"middle\" x=\"5305\" y=\"-104.3\" font-family=\"Times,serif\" font-size=\"14.00\" fill=\"#000000\">value = [1, 0, 0]</text>\n</g>\n<!-- 159&#45;&gt;160 -->\n<g id=\"edge160\" class=\"edge\">\n<title>159&#45;&gt;160</title>\n<path fill=\"none\" stroke=\"#000000\" d=\"M5348.044,-192.9465C5341.1978,-181.8215 5333.5829,-169.4473 5326.6843,-158.237\"/>\n<polygon fill=\"#000000\" stroke=\"#000000\" points=\"5329.5555,-156.2244 5321.3336,-149.5422 5323.5939,-159.8931 5329.5555,-156.2244\"/>\n</g>\n<!-- 161 -->\n<g id=\"node162\" class=\"node\">\n<title>161</title>\n<polygon fill=\"none\" stroke=\"#000000\" points=\"5488,-149.5 5378,-149.5 5378,-96.5 5488,-96.5 5488,-149.5\"/>\n<text text-anchor=\"middle\" x=\"5433\" y=\"-134.3\" font-family=\"Times,serif\" font-size=\"14.00\" fill=\"#000000\">gini = 0.0</text>\n<text text-anchor=\"middle\" x=\"5433\" y=\"-119.3\" font-family=\"Times,serif\" font-size=\"14.00\" fill=\"#000000\">samples = 1</text>\n<text text-anchor=\"middle\" x=\"5433\" y=\"-104.3\" font-family=\"Times,serif\" font-size=\"14.00\" fill=\"#000000\">value = [0, 1, 0]</text>\n</g>\n<!-- 159&#45;&gt;161 -->\n<g id=\"edge161\" class=\"edge\">\n<title>159&#45;&gt;161</title>\n<path fill=\"none\" stroke=\"#000000\" d=\"M5389.956,-192.9465C5396.8022,-181.8215 5404.4171,-169.4473 5411.3157,-158.237\"/>\n<polygon fill=\"#000000\" stroke=\"#000000\" points=\"5414.4061,-159.8931 5416.6664,-149.5422 5408.4445,-156.2244 5414.4061,-159.8931\"/>\n</g>\n<!-- 163 -->\n<g id=\"node164\" class=\"node\">\n<title>163</title>\n<polygon fill=\"none\" stroke=\"#000000\" points=\"5565,-253.5 5455,-253.5 5455,-200.5 5565,-200.5 5565,-253.5\"/>\n<text text-anchor=\"middle\" x=\"5510\" y=\"-238.3\" font-family=\"Times,serif\" font-size=\"14.00\" fill=\"#000000\">gini = 0.0</text>\n<text text-anchor=\"middle\" x=\"5510\" y=\"-223.3\" font-family=\"Times,serif\" font-size=\"14.00\" fill=\"#000000\">samples = 1</text>\n<text text-anchor=\"middle\" x=\"5510\" y=\"-208.3\" font-family=\"Times,serif\" font-size=\"14.00\" fill=\"#000000\">value = [0, 0, 1]</text>\n</g>\n<!-- 162&#45;&gt;163 -->\n<g id=\"edge163\" class=\"edge\">\n<title>162&#45;&gt;163</title>\n<path fill=\"none\" stroke=\"#000000\" d=\"M5512.0177,-296.9465C5511.7095,-286.2621 5511.368,-274.4254 5511.055,-263.5742\"/>\n<polygon fill=\"#000000\" stroke=\"#000000\" points=\"5514.5526,-263.4371 5510.7656,-253.5422 5507.5555,-263.639 5514.5526,-263.4371\"/>\n</g>\n<!-- 164 -->\n<g id=\"node165\" class=\"node\">\n<title>164</title>\n<polygon fill=\"none\" stroke=\"#000000\" points=\"5693,-253.5 5583,-253.5 5583,-200.5 5693,-200.5 5693,-253.5\"/>\n<text text-anchor=\"middle\" x=\"5638\" y=\"-238.3\" font-family=\"Times,serif\" font-size=\"14.00\" fill=\"#000000\">gini = 0.0</text>\n<text text-anchor=\"middle\" x=\"5638\" y=\"-223.3\" font-family=\"Times,serif\" font-size=\"14.00\" fill=\"#000000\">samples = 1</text>\n<text text-anchor=\"middle\" x=\"5638\" y=\"-208.3\" font-family=\"Times,serif\" font-size=\"14.00\" fill=\"#000000\">value = [1, 0, 0]</text>\n</g>\n<!-- 162&#45;&gt;164 -->\n<g id=\"edge164\" class=\"edge\">\n<title>162&#45;&gt;164</title>\n<path fill=\"none\" stroke=\"#000000\" d=\"M5553.9297,-296.9465C5568.0955,-285.1606 5583.9463,-271.9726 5598.0338,-260.2519\"/>\n<polygon fill=\"#000000\" stroke=\"#000000\" points=\"5600.6496,-262.6285 5606.0984,-253.5422 5596.1725,-257.2474 5600.6496,-262.6285\"/>\n</g>\n<!-- 166 -->\n<g id=\"node167\" class=\"node\">\n<title>166</title>\n<polygon fill=\"none\" stroke=\"#000000\" points=\"5573.5,-461.5 5456.5,-461.5 5456.5,-408.5 5573.5,-408.5 5573.5,-461.5\"/>\n<text text-anchor=\"middle\" x=\"5515\" y=\"-446.3\" font-family=\"Times,serif\" font-size=\"14.00\" fill=\"#000000\">gini = 0.0</text>\n<text text-anchor=\"middle\" x=\"5515\" y=\"-431.3\" font-family=\"Times,serif\" font-size=\"14.00\" fill=\"#000000\">samples = 18</text>\n<text text-anchor=\"middle\" x=\"5515\" y=\"-416.3\" font-family=\"Times,serif\" font-size=\"14.00\" fill=\"#000000\">value = [0, 0, 18]</text>\n</g>\n<!-- 165&#45;&gt;166 -->\n<g id=\"edge166\" class=\"edge\">\n<title>165&#45;&gt;166</title>\n<path fill=\"none\" stroke=\"#000000\" d=\"M5515,-504.9465C5515,-494.2621 5515,-482.4254 5515,-471.5742\"/>\n<polygon fill=\"#000000\" stroke=\"#000000\" points=\"5518.5001,-471.5421 5515,-461.5422 5511.5001,-471.5422 5518.5001,-471.5421\"/>\n</g>\n<!-- 167 -->\n<g id=\"node168\" class=\"node\">\n<title>167</title>\n<polygon fill=\"none\" stroke=\"#000000\" points=\"5724.5,-469 5591.5,-469 5591.5,-401 5724.5,-401 5724.5,-469\"/>\n<text text-anchor=\"middle\" x=\"5658\" y=\"-453.8\" font-family=\"Times,serif\" font-size=\"14.00\" fill=\"#000000\">right_weight &lt;= 3.5</text>\n<text text-anchor=\"middle\" x=\"5658\" y=\"-438.8\" font-family=\"Times,serif\" font-size=\"14.00\" fill=\"#000000\">gini = 0.375</text>\n<text text-anchor=\"middle\" x=\"5658\" y=\"-423.8\" font-family=\"Times,serif\" font-size=\"14.00\" fill=\"#000000\">samples = 4</text>\n<text text-anchor=\"middle\" x=\"5658\" y=\"-408.8\" font-family=\"Times,serif\" font-size=\"14.00\" fill=\"#000000\">value = [1, 0, 3]</text>\n</g>\n<!-- 165&#45;&gt;167 -->\n<g id=\"edge167\" class=\"edge\">\n<title>165&#45;&gt;167</title>\n<path fill=\"none\" stroke=\"#000000\" d=\"M5561.8235,-504.9465C5574.9098,-495.4293 5589.253,-484.9978 5602.7759,-475.163\"/>\n<polygon fill=\"#000000\" stroke=\"#000000\" points=\"5605.0425,-477.8423 5611.0713,-469.13 5600.9253,-472.1812 5605.0425,-477.8423\"/>\n</g>\n<!-- 168 -->\n<g id=\"node169\" class=\"node\">\n<title>168</title>\n<polygon fill=\"none\" stroke=\"#000000\" points=\"5703,-357.5 5593,-357.5 5593,-304.5 5703,-304.5 5703,-357.5\"/>\n<text text-anchor=\"middle\" x=\"5648\" y=\"-342.3\" font-family=\"Times,serif\" font-size=\"14.00\" fill=\"#000000\">gini = 0.0</text>\n<text text-anchor=\"middle\" x=\"5648\" y=\"-327.3\" font-family=\"Times,serif\" font-size=\"14.00\" fill=\"#000000\">samples = 1</text>\n<text text-anchor=\"middle\" x=\"5648\" y=\"-312.3\" font-family=\"Times,serif\" font-size=\"14.00\" fill=\"#000000\">value = [1, 0, 0]</text>\n</g>\n<!-- 167&#45;&gt;168 -->\n<g id=\"edge168\" class=\"edge\">\n<title>167&#45;&gt;168</title>\n<path fill=\"none\" stroke=\"#000000\" d=\"M5654.7256,-400.9465C5653.6983,-390.2621 5652.5601,-378.4254 5651.5168,-367.5742\"/>\n<polygon fill=\"#000000\" stroke=\"#000000\" points=\"5654.9933,-367.1612 5650.5521,-357.5422 5648.0254,-367.8313 5654.9933,-367.1612\"/>\n</g>\n<!-- 169 -->\n<g id=\"node170\" class=\"node\">\n<title>169</title>\n<polygon fill=\"none\" stroke=\"#000000\" points=\"5831,-357.5 5721,-357.5 5721,-304.5 5831,-304.5 5831,-357.5\"/>\n<text text-anchor=\"middle\" x=\"5776\" y=\"-342.3\" font-family=\"Times,serif\" font-size=\"14.00\" fill=\"#000000\">gini = 0.0</text>\n<text text-anchor=\"middle\" x=\"5776\" y=\"-327.3\" font-family=\"Times,serif\" font-size=\"14.00\" fill=\"#000000\">samples = 3</text>\n<text text-anchor=\"middle\" x=\"5776\" y=\"-312.3\" font-family=\"Times,serif\" font-size=\"14.00\" fill=\"#000000\">value = [0, 0, 3]</text>\n</g>\n<!-- 167&#45;&gt;169 -->\n<g id=\"edge169\" class=\"edge\">\n<title>167&#45;&gt;169</title>\n<path fill=\"none\" stroke=\"#000000\" d=\"M5696.6376,-400.9465C5710.0101,-389.1606 5724.9734,-375.9726 5738.2719,-364.2519\"/>\n<polygon fill=\"#000000\" stroke=\"#000000\" points=\"5740.697,-366.7799 5745.8849,-357.5422 5736.0685,-361.5285 5740.697,-366.7799\"/>\n</g>\n<!-- 171 -->\n<g id=\"node172\" class=\"node\">\n<title>171</title>\n<polygon fill=\"none\" stroke=\"#000000\" points=\"6323,-677 6199,-677 6199,-609 6323,-609 6323,-677\"/>\n<text text-anchor=\"middle\" x=\"6261\" y=\"-661.8\" font-family=\"Times,serif\" font-size=\"14.00\" fill=\"#000000\">left_weight &lt;= 2.5</text>\n<text text-anchor=\"middle\" x=\"6261\" y=\"-646.8\" font-family=\"Times,serif\" font-size=\"14.00\" fill=\"#000000\">gini = 0.302</text>\n<text text-anchor=\"middle\" x=\"6261\" y=\"-631.8\" font-family=\"Times,serif\" font-size=\"14.00\" fill=\"#000000\">samples = 46</text>\n<text text-anchor=\"middle\" x=\"6261\" y=\"-616.8\" font-family=\"Times,serif\" font-size=\"14.00\" fill=\"#000000\">value = [3, 5, 38]</text>\n</g>\n<!-- 170&#45;&gt;171 -->\n<g id=\"edge171\" class=\"edge\">\n<title>170&#45;&gt;171</title>\n<path fill=\"none\" stroke=\"#000000\" d=\"M6261,-712.9465C6261,-704.776 6261,-695.9318 6261,-687.3697\"/>\n<polygon fill=\"#000000\" stroke=\"#000000\" points=\"6264.5001,-687.13 6261,-677.13 6257.5001,-687.13 6264.5001,-687.13\"/>\n</g>\n<!-- 198 -->\n<g id=\"node199\" class=\"node\">\n<title>198</title>\n<polygon fill=\"none\" stroke=\"#000000\" points=\"6689.5,-677 6556.5,-677 6556.5,-609 6689.5,-609 6689.5,-677\"/>\n<text text-anchor=\"middle\" x=\"6623\" y=\"-661.8\" font-family=\"Times,serif\" font-size=\"14.00\" fill=\"#000000\">right_weight &lt;= 3.5</text>\n<text text-anchor=\"middle\" x=\"6623\" y=\"-646.8\" font-family=\"Times,serif\" font-size=\"14.00\" fill=\"#000000\">gini = 0.525</text>\n<text text-anchor=\"middle\" x=\"6623\" y=\"-631.8\" font-family=\"Times,serif\" font-size=\"14.00\" fill=\"#000000\">samples = 22</text>\n<text text-anchor=\"middle\" x=\"6623\" y=\"-616.8\" font-family=\"Times,serif\" font-size=\"14.00\" fill=\"#000000\">value = [5, 14, 3]</text>\n</g>\n<!-- 170&#45;&gt;198 -->\n<g id=\"edge198\" class=\"edge\">\n<title>170&#45;&gt;198</title>\n<path fill=\"none\" stroke=\"#000000\" d=\"M6323.6423,-729.0033C6385.4286,-711.2526 6479.9817,-684.0881 6546.2487,-665.0501\"/>\n<polygon fill=\"#000000\" stroke=\"#000000\" points=\"6547.5774,-668.31 6556.2222,-662.1848 6545.6445,-661.5822 6547.5774,-668.31\"/>\n</g>\n<!-- 172 -->\n<g id=\"node173\" class=\"node\">\n<title>172</title>\n<polygon fill=\"none\" stroke=\"#000000\" points=\"6250.5,-573 6117.5,-573 6117.5,-505 6250.5,-505 6250.5,-573\"/>\n<text text-anchor=\"middle\" x=\"6184\" y=\"-557.8\" font-family=\"Times,serif\" font-size=\"14.00\" fill=\"#000000\">right_weight &lt;= 3.5</text>\n<text text-anchor=\"middle\" x=\"6184\" y=\"-542.8\" font-family=\"Times,serif\" font-size=\"14.00\" fill=\"#000000\">gini = 0.064</text>\n<text text-anchor=\"middle\" x=\"6184\" y=\"-527.8\" font-family=\"Times,serif\" font-size=\"14.00\" fill=\"#000000\">samples = 30</text>\n<text text-anchor=\"middle\" x=\"6184\" y=\"-512.8\" font-family=\"Times,serif\" font-size=\"14.00\" fill=\"#000000\">value = [0, 1, 29]</text>\n</g>\n<!-- 171&#45;&gt;172 -->\n<g id=\"edge172\" class=\"edge\">\n<title>171&#45;&gt;172</title>\n<path fill=\"none\" stroke=\"#000000\" d=\"M6235.7873,-608.9465C6229.2727,-600.1475 6222.1795,-590.5672 6215.3918,-581.3993\"/>\n<polygon fill=\"#000000\" stroke=\"#000000\" points=\"6218.0327,-579.0843 6209.2693,-573.13 6212.4069,-583.2496 6218.0327,-579.0843\"/>\n</g>\n<!-- 181 -->\n<g id=\"node182\" class=\"node\">\n<title>181</title>\n<polygon fill=\"none\" stroke=\"#000000\" points=\"6409,-573 6269,-573 6269,-505 6409,-505 6409,-573\"/>\n<text text-anchor=\"middle\" x=\"6339\" y=\"-557.8\" font-family=\"Times,serif\" font-size=\"14.00\" fill=\"#000000\">right_distance &lt;= 3.5</text>\n<text text-anchor=\"middle\" x=\"6339\" y=\"-542.8\" font-family=\"Times,serif\" font-size=\"14.00\" fill=\"#000000\">gini = 0.586</text>\n<text text-anchor=\"middle\" x=\"6339\" y=\"-527.8\" font-family=\"Times,serif\" font-size=\"14.00\" fill=\"#000000\">samples = 16</text>\n<text text-anchor=\"middle\" x=\"6339\" y=\"-512.8\" font-family=\"Times,serif\" font-size=\"14.00\" fill=\"#000000\">value = [3, 4, 9]</text>\n</g>\n<!-- 171&#45;&gt;181 -->\n<g id=\"edge181\" class=\"edge\">\n<title>171&#45;&gt;181</title>\n<path fill=\"none\" stroke=\"#000000\" d=\"M6286.5401,-608.9465C6293.1393,-600.1475 6300.3246,-590.5672 6307.2005,-581.3993\"/>\n<polygon fill=\"#000000\" stroke=\"#000000\" points=\"6310.2025,-583.23 6313.4025,-573.13 6304.6025,-579.03 6310.2025,-583.23\"/>\n</g>\n<!-- 173 -->\n<g id=\"node174\" class=\"node\">\n<title>173</title>\n<polygon fill=\"none\" stroke=\"#000000\" points=\"6113,-469 5973,-469 5973,-401 6113,-401 6113,-469\"/>\n<text text-anchor=\"middle\" x=\"6043\" y=\"-453.8\" font-family=\"Times,serif\" font-size=\"14.00\" fill=\"#000000\">right_distance &lt;= 3.5</text>\n<text text-anchor=\"middle\" x=\"6043\" y=\"-438.8\" font-family=\"Times,serif\" font-size=\"14.00\" fill=\"#000000\">gini = 0.18</text>\n<text text-anchor=\"middle\" x=\"6043\" y=\"-423.8\" font-family=\"Times,serif\" font-size=\"14.00\" fill=\"#000000\">samples = 10</text>\n<text text-anchor=\"middle\" x=\"6043\" y=\"-408.8\" font-family=\"Times,serif\" font-size=\"14.00\" fill=\"#000000\">value = [0, 1, 9]</text>\n</g>\n<!-- 172&#45;&gt;173 -->\n<g id=\"edge173\" class=\"edge\">\n<title>172&#45;&gt;173</title>\n<path fill=\"none\" stroke=\"#000000\" d=\"M6137.8313,-504.9465C6124.9281,-495.4293 6110.7855,-484.9978 6097.4517,-475.163\"/>\n<polygon fill=\"#000000\" stroke=\"#000000\" points=\"6099.3977,-472.2492 6089.2724,-469.13 6095.2425,-477.8826 6099.3977,-472.2492\"/>\n</g>\n<!-- 180 -->\n<g id=\"node181\" class=\"node\">\n<title>180</title>\n<polygon fill=\"none\" stroke=\"#000000\" points=\"6248.5,-461.5 6131.5,-461.5 6131.5,-408.5 6248.5,-408.5 6248.5,-461.5\"/>\n<text text-anchor=\"middle\" x=\"6190\" y=\"-446.3\" font-family=\"Times,serif\" font-size=\"14.00\" fill=\"#000000\">gini = 0.0</text>\n<text text-anchor=\"middle\" x=\"6190\" y=\"-431.3\" font-family=\"Times,serif\" font-size=\"14.00\" fill=\"#000000\">samples = 20</text>\n<text text-anchor=\"middle\" x=\"6190\" y=\"-416.3\" font-family=\"Times,serif\" font-size=\"14.00\" fill=\"#000000\">value = [0, 0, 20]</text>\n</g>\n<!-- 172&#45;&gt;180 -->\n<g id=\"edge180\" class=\"edge\">\n<title>172&#45;&gt;180</title>\n<path fill=\"none\" stroke=\"#000000\" d=\"M6185.9646,-504.9465C6186.581,-494.2621 6187.2639,-482.4254 6187.8899,-471.5742\"/>\n<polygon fill=\"#000000\" stroke=\"#000000\" points=\"6191.3869,-471.7272 6188.4687,-461.5422 6184.3985,-471.3239 6191.3869,-471.7272\"/>\n</g>\n<!-- 174 -->\n<g id=\"node175\" class=\"node\">\n<title>174</title>\n<polygon fill=\"none\" stroke=\"#000000\" points=\"5980.5,-365 5849.5,-365 5849.5,-297 5980.5,-297 5980.5,-365\"/>\n<text text-anchor=\"middle\" x=\"5915\" y=\"-349.8\" font-family=\"Times,serif\" font-size=\"14.00\" fill=\"#000000\">left_distance &lt;= 4.5</text>\n<text text-anchor=\"middle\" x=\"5915\" y=\"-334.8\" font-family=\"Times,serif\" font-size=\"14.00\" fill=\"#000000\">gini = 0.375</text>\n<text text-anchor=\"middle\" x=\"5915\" y=\"-319.8\" font-family=\"Times,serif\" font-size=\"14.00\" fill=\"#000000\">samples = 4</text>\n<text text-anchor=\"middle\" x=\"5915\" y=\"-304.8\" font-family=\"Times,serif\" font-size=\"14.00\" fill=\"#000000\">value = [0, 1, 3]</text>\n</g>\n<!-- 173&#45;&gt;174 -->\n<g id=\"edge174\" class=\"edge\">\n<title>173&#45;&gt;174</title>\n<path fill=\"none\" stroke=\"#000000\" d=\"M6001.088,-400.9465C5989.485,-391.519 5976.7779,-381.1946 5964.7741,-371.4415\"/>\n<polygon fill=\"#000000\" stroke=\"#000000\" points=\"5966.9744,-368.7196 5957.0061,-365.13 5962.5602,-374.1524 5966.9744,-368.7196\"/>\n</g>\n<!-- 179 -->\n<g id=\"node180\" class=\"node\">\n<title>179</title>\n<polygon fill=\"none\" stroke=\"#000000\" points=\"6109,-357.5 5999,-357.5 5999,-304.5 6109,-304.5 6109,-357.5\"/>\n<text text-anchor=\"middle\" x=\"6054\" y=\"-342.3\" font-family=\"Times,serif\" font-size=\"14.00\" fill=\"#000000\">gini = 0.0</text>\n<text text-anchor=\"middle\" x=\"6054\" y=\"-327.3\" font-family=\"Times,serif\" font-size=\"14.00\" fill=\"#000000\">samples = 6</text>\n<text text-anchor=\"middle\" x=\"6054\" y=\"-312.3\" font-family=\"Times,serif\" font-size=\"14.00\" fill=\"#000000\">value = [0, 0, 6]</text>\n</g>\n<!-- 173&#45;&gt;179 -->\n<g id=\"edge179\" class=\"edge\">\n<title>173&#45;&gt;179</title>\n<path fill=\"none\" stroke=\"#000000\" d=\"M6046.6018,-400.9465C6047.7319,-390.2621 6048.9838,-378.4254 6050.1316,-367.5742\"/>\n<polygon fill=\"#000000\" stroke=\"#000000\" points=\"6053.6213,-367.8549 6051.1927,-357.5422 6046.6602,-367.1185 6053.6213,-367.8549\"/>\n</g>\n<!-- 175 -->\n<g id=\"node176\" class=\"node\">\n<title>175</title>\n<polygon fill=\"none\" stroke=\"#000000\" points=\"5835,-253.5 5725,-253.5 5725,-200.5 5835,-200.5 5835,-253.5\"/>\n<text text-anchor=\"middle\" x=\"5780\" y=\"-238.3\" font-family=\"Times,serif\" font-size=\"14.00\" fill=\"#000000\">gini = 0.0</text>\n<text text-anchor=\"middle\" x=\"5780\" y=\"-223.3\" font-family=\"Times,serif\" font-size=\"14.00\" fill=\"#000000\">samples = 2</text>\n<text text-anchor=\"middle\" x=\"5780\" y=\"-208.3\" font-family=\"Times,serif\" font-size=\"14.00\" fill=\"#000000\">value = [0, 0, 2]</text>\n</g>\n<!-- 174&#45;&gt;175 -->\n<g id=\"edge175\" class=\"edge\">\n<title>174&#45;&gt;175</title>\n<path fill=\"none\" stroke=\"#000000\" d=\"M5870.796,-296.9465C5855.3539,-285.0504 5838.0578,-271.726 5822.7375,-259.9237\"/>\n<polygon fill=\"#000000\" stroke=\"#000000\" points=\"5824.5117,-256.8723 5814.4538,-253.5422 5820.2397,-262.4176 5824.5117,-256.8723\"/>\n</g>\n<!-- 176 -->\n<g id=\"node177\" class=\"node\">\n<title>176</title>\n<polygon fill=\"none\" stroke=\"#000000\" points=\"5977,-261 5853,-261 5853,-193 5977,-193 5977,-261\"/>\n<text text-anchor=\"middle\" x=\"5915\" y=\"-245.8\" font-family=\"Times,serif\" font-size=\"14.00\" fill=\"#000000\">left_weight &lt;= 1.5</text>\n<text text-anchor=\"middle\" x=\"5915\" y=\"-230.8\" font-family=\"Times,serif\" font-size=\"14.00\" fill=\"#000000\">gini = 0.5</text>\n<text text-anchor=\"middle\" x=\"5915\" y=\"-215.8\" font-family=\"Times,serif\" font-size=\"14.00\" fill=\"#000000\">samples = 2</text>\n<text text-anchor=\"middle\" x=\"5915\" y=\"-200.8\" font-family=\"Times,serif\" font-size=\"14.00\" fill=\"#000000\">value = [0, 1, 1]</text>\n</g>\n<!-- 174&#45;&gt;176 -->\n<g id=\"edge176\" class=\"edge\">\n<title>174&#45;&gt;176</title>\n<path fill=\"none\" stroke=\"#000000\" d=\"M5915,-296.9465C5915,-288.776 5915,-279.9318 5915,-271.3697\"/>\n<polygon fill=\"#000000\" stroke=\"#000000\" points=\"5918.5001,-271.13 5915,-261.13 5911.5001,-271.13 5918.5001,-271.13\"/>\n</g>\n<!-- 177 -->\n<g id=\"node178\" class=\"node\">\n<title>177</title>\n<polygon fill=\"none\" stroke=\"#000000\" points=\"5842,-149.5 5732,-149.5 5732,-96.5 5842,-96.5 5842,-149.5\"/>\n<text text-anchor=\"middle\" x=\"5787\" y=\"-134.3\" font-family=\"Times,serif\" font-size=\"14.00\" fill=\"#000000\">gini = 0.0</text>\n<text text-anchor=\"middle\" x=\"5787\" y=\"-119.3\" font-family=\"Times,serif\" font-size=\"14.00\" fill=\"#000000\">samples = 1</text>\n<text text-anchor=\"middle\" x=\"5787\" y=\"-104.3\" font-family=\"Times,serif\" font-size=\"14.00\" fill=\"#000000\">value = [0, 0, 1]</text>\n</g>\n<!-- 176&#45;&gt;177 -->\n<g id=\"edge177\" class=\"edge\">\n<title>176&#45;&gt;177</title>\n<path fill=\"none\" stroke=\"#000000\" d=\"M5873.088,-192.9465C5858.4467,-181.0504 5842.0474,-167.726 5827.5215,-155.9237\"/>\n<polygon fill=\"#000000\" stroke=\"#000000\" points=\"5829.6355,-153.1317 5819.6673,-149.5422 5825.2214,-158.5645 5829.6355,-153.1317\"/>\n</g>\n<!-- 178 -->\n<g id=\"node179\" class=\"node\">\n<title>178</title>\n<polygon fill=\"none\" stroke=\"#000000\" points=\"5970,-149.5 5860,-149.5 5860,-96.5 5970,-96.5 5970,-149.5\"/>\n<text text-anchor=\"middle\" x=\"5915\" y=\"-134.3\" font-family=\"Times,serif\" font-size=\"14.00\" fill=\"#000000\">gini = 0.0</text>\n<text text-anchor=\"middle\" x=\"5915\" y=\"-119.3\" font-family=\"Times,serif\" font-size=\"14.00\" fill=\"#000000\">samples = 1</text>\n<text text-anchor=\"middle\" x=\"5915\" y=\"-104.3\" font-family=\"Times,serif\" font-size=\"14.00\" fill=\"#000000\">value = [0, 1, 0]</text>\n</g>\n<!-- 176&#45;&gt;178 -->\n<g id=\"edge178\" class=\"edge\">\n<title>176&#45;&gt;178</title>\n<path fill=\"none\" stroke=\"#000000\" d=\"M5915,-192.9465C5915,-182.2621 5915,-170.4254 5915,-159.5742\"/>\n<polygon fill=\"#000000\" stroke=\"#000000\" points=\"5918.5001,-159.5421 5915,-149.5422 5911.5001,-159.5422 5918.5001,-159.5421\"/>\n</g>\n<!-- 182 -->\n<g id=\"node183\" class=\"node\">\n<title>182</title>\n<polygon fill=\"none\" stroke=\"#000000\" points=\"6402.5,-469 6269.5,-469 6269.5,-401 6402.5,-401 6402.5,-469\"/>\n<text text-anchor=\"middle\" x=\"6336\" y=\"-453.8\" font-family=\"Times,serif\" font-size=\"14.00\" fill=\"#000000\">right_weight &lt;= 3.5</text>\n<text text-anchor=\"middle\" x=\"6336\" y=\"-438.8\" font-family=\"Times,serif\" font-size=\"14.00\" fill=\"#000000\">gini = 0.611</text>\n<text text-anchor=\"middle\" x=\"6336\" y=\"-423.8\" font-family=\"Times,serif\" font-size=\"14.00\" fill=\"#000000\">samples = 6</text>\n<text text-anchor=\"middle\" x=\"6336\" y=\"-408.8\" font-family=\"Times,serif\" font-size=\"14.00\" fill=\"#000000\">value = [2, 3, 1]</text>\n</g>\n<!-- 181&#45;&gt;182 -->\n<g id=\"edge182\" class=\"edge\">\n<title>181&#45;&gt;182</title>\n<path fill=\"none\" stroke=\"#000000\" d=\"M6338.0177,-504.9465C6337.782,-496.776 6337.5269,-487.9318 6337.2799,-479.3697\"/>\n<polygon fill=\"#000000\" stroke=\"#000000\" points=\"6340.7715,-479.0249 6336.9845,-469.13 6333.7744,-479.2268 6340.7715,-479.0249\"/>\n</g>\n<!-- 191 -->\n<g id=\"node192\" class=\"node\">\n<title>191</title>\n<polygon fill=\"none\" stroke=\"#000000\" points=\"6621.5,-469 6488.5,-469 6488.5,-401 6621.5,-401 6621.5,-469\"/>\n<text text-anchor=\"middle\" x=\"6555\" y=\"-453.8\" font-family=\"Times,serif\" font-size=\"14.00\" fill=\"#000000\">right_weight &lt;= 3.5</text>\n<text text-anchor=\"middle\" x=\"6555\" y=\"-438.8\" font-family=\"Times,serif\" font-size=\"14.00\" fill=\"#000000\">gini = 0.34</text>\n<text text-anchor=\"middle\" x=\"6555\" y=\"-423.8\" font-family=\"Times,serif\" font-size=\"14.00\" fill=\"#000000\">samples = 10</text>\n<text text-anchor=\"middle\" x=\"6555\" y=\"-408.8\" font-family=\"Times,serif\" font-size=\"14.00\" fill=\"#000000\">value = [1, 1, 8]</text>\n</g>\n<!-- 181&#45;&gt;191 -->\n<g id=\"edge191\" class=\"edge\">\n<title>181&#45;&gt;191</title>\n<path fill=\"none\" stroke=\"#000000\" d=\"M6409.129,-505.2342C6431.4322,-494.4956 6456.2026,-482.5691 6478.9062,-471.6377\"/>\n<polygon fill=\"#000000\" stroke=\"#000000\" points=\"6480.6692,-474.6735 6488.1608,-467.1818 6477.6324,-468.3665 6480.6692,-474.6735\"/>\n</g>\n<!-- 183 -->\n<g id=\"node184\" class=\"node\">\n<title>183</title>\n<polygon fill=\"none\" stroke=\"#000000\" points=\"6251,-357.5 6141,-357.5 6141,-304.5 6251,-304.5 6251,-357.5\"/>\n<text text-anchor=\"middle\" x=\"6196\" y=\"-342.3\" font-family=\"Times,serif\" font-size=\"14.00\" fill=\"#000000\">gini = 0.0</text>\n<text text-anchor=\"middle\" x=\"6196\" y=\"-327.3\" font-family=\"Times,serif\" font-size=\"14.00\" fill=\"#000000\">samples = 2</text>\n<text text-anchor=\"middle\" x=\"6196\" y=\"-312.3\" font-family=\"Times,serif\" font-size=\"14.00\" fill=\"#000000\">value = [0, 2, 0]</text>\n</g>\n<!-- 182&#45;&gt;183 -->\n<g id=\"edge183\" class=\"edge\">\n<title>182&#45;&gt;183</title>\n<path fill=\"none\" stroke=\"#000000\" d=\"M6290.1588,-400.9465C6273.9965,-388.9403 6255.8758,-375.4791 6239.8795,-363.5962\"/>\n<polygon fill=\"#000000\" stroke=\"#000000\" points=\"6241.8444,-360.6958 6231.7298,-357.5422 6237.6701,-366.3151 6241.8444,-360.6958\"/>\n</g>\n<!-- 184 -->\n<g id=\"node185\" class=\"node\">\n<title>184</title>\n<polygon fill=\"none\" stroke=\"#000000\" points=\"6402.5,-365 6269.5,-365 6269.5,-297 6402.5,-297 6402.5,-365\"/>\n<text text-anchor=\"middle\" x=\"6336\" y=\"-349.8\" font-family=\"Times,serif\" font-size=\"14.00\" fill=\"#000000\">right_weight &lt;= 4.5</text>\n<text text-anchor=\"middle\" x=\"6336\" y=\"-334.8\" font-family=\"Times,serif\" font-size=\"14.00\" fill=\"#000000\">gini = 0.625</text>\n<text text-anchor=\"middle\" x=\"6336\" y=\"-319.8\" font-family=\"Times,serif\" font-size=\"14.00\" fill=\"#000000\">samples = 4</text>\n<text text-anchor=\"middle\" x=\"6336\" y=\"-304.8\" font-family=\"Times,serif\" font-size=\"14.00\" fill=\"#000000\">value = [2, 1, 1]</text>\n</g>\n<!-- 182&#45;&gt;184 -->\n<g id=\"edge184\" class=\"edge\">\n<title>182&#45;&gt;184</title>\n<path fill=\"none\" stroke=\"#000000\" d=\"M6336,-400.9465C6336,-392.776 6336,-383.9318 6336,-375.3697\"/>\n<polygon fill=\"#000000\" stroke=\"#000000\" points=\"6339.5001,-375.13 6336,-365.13 6332.5001,-375.13 6339.5001,-375.13\"/>\n</g>\n<!-- 185 -->\n<g id=\"node186\" class=\"node\">\n<title>185</title>\n<polygon fill=\"none\" stroke=\"#000000\" points=\"6236.5,-261 6105.5,-261 6105.5,-193 6236.5,-193 6236.5,-261\"/>\n<text text-anchor=\"middle\" x=\"6171\" y=\"-245.8\" font-family=\"Times,serif\" font-size=\"14.00\" fill=\"#000000\">left_distance &lt;= 4.5</text>\n<text text-anchor=\"middle\" x=\"6171\" y=\"-230.8\" font-family=\"Times,serif\" font-size=\"14.00\" fill=\"#000000\">gini = 0.5</text>\n<text text-anchor=\"middle\" x=\"6171\" y=\"-215.8\" font-family=\"Times,serif\" font-size=\"14.00\" fill=\"#000000\">samples = 2</text>\n<text text-anchor=\"middle\" x=\"6171\" y=\"-200.8\" font-family=\"Times,serif\" font-size=\"14.00\" fill=\"#000000\">value = [1, 1, 0]</text>\n</g>\n<!-- 184&#45;&gt;185 -->\n<g id=\"edge185\" class=\"edge\">\n<title>184&#45;&gt;185</title>\n<path fill=\"none\" stroke=\"#000000\" d=\"M6281.9728,-296.9465C6266.5885,-287.2497 6249.6984,-276.6039 6233.8379,-266.6069\"/>\n<polygon fill=\"#000000\" stroke=\"#000000\" points=\"6235.4746,-263.5013 6225.1486,-261.13 6231.742,-269.4232 6235.4746,-263.5013\"/>\n</g>\n<!-- 188 -->\n<g id=\"node189\" class=\"node\">\n<title>188</title>\n<polygon fill=\"none\" stroke=\"#000000\" points=\"6401.5,-261 6270.5,-261 6270.5,-193 6401.5,-193 6401.5,-261\"/>\n<text text-anchor=\"middle\" x=\"6336\" y=\"-245.8\" font-family=\"Times,serif\" font-size=\"14.00\" fill=\"#000000\">left_distance &lt;= 4.5</text>\n<text text-anchor=\"middle\" x=\"6336\" y=\"-230.8\" font-family=\"Times,serif\" font-size=\"14.00\" fill=\"#000000\">gini = 0.5</text>\n<text text-anchor=\"middle\" x=\"6336\" y=\"-215.8\" font-family=\"Times,serif\" font-size=\"14.00\" fill=\"#000000\">samples = 2</text>\n<text text-anchor=\"middle\" x=\"6336\" y=\"-200.8\" font-family=\"Times,serif\" font-size=\"14.00\" fill=\"#000000\">value = [1, 0, 1]</text>\n</g>\n<!-- 184&#45;&gt;188 -->\n<g id=\"edge188\" class=\"edge\">\n<title>184&#45;&gt;188</title>\n<path fill=\"none\" stroke=\"#000000\" d=\"M6336,-296.9465C6336,-288.776 6336,-279.9318 6336,-271.3697\"/>\n<polygon fill=\"#000000\" stroke=\"#000000\" points=\"6339.5001,-271.13 6336,-261.13 6332.5001,-271.13 6339.5001,-271.13\"/>\n</g>\n<!-- 186 -->\n<g id=\"node187\" class=\"node\">\n<title>186</title>\n<polygon fill=\"none\" stroke=\"#000000\" points=\"6098,-149.5 5988,-149.5 5988,-96.5 6098,-96.5 6098,-149.5\"/>\n<text text-anchor=\"middle\" x=\"6043\" y=\"-134.3\" font-family=\"Times,serif\" font-size=\"14.00\" fill=\"#000000\">gini = 0.0</text>\n<text text-anchor=\"middle\" x=\"6043\" y=\"-119.3\" font-family=\"Times,serif\" font-size=\"14.00\" fill=\"#000000\">samples = 1</text>\n<text text-anchor=\"middle\" x=\"6043\" y=\"-104.3\" font-family=\"Times,serif\" font-size=\"14.00\" fill=\"#000000\">value = [1, 0, 0]</text>\n</g>\n<!-- 185&#45;&gt;186 -->\n<g id=\"edge186\" class=\"edge\">\n<title>185&#45;&gt;186</title>\n<path fill=\"none\" stroke=\"#000000\" d=\"M6129.088,-192.9465C6114.4467,-181.0504 6098.0474,-167.726 6083.5215,-155.9237\"/>\n<polygon fill=\"#000000\" stroke=\"#000000\" points=\"6085.6355,-153.1317 6075.6673,-149.5422 6081.2214,-158.5645 6085.6355,-153.1317\"/>\n</g>\n<!-- 187 -->\n<g id=\"node188\" class=\"node\">\n<title>187</title>\n<polygon fill=\"none\" stroke=\"#000000\" points=\"6226,-149.5 6116,-149.5 6116,-96.5 6226,-96.5 6226,-149.5\"/>\n<text text-anchor=\"middle\" x=\"6171\" y=\"-134.3\" font-family=\"Times,serif\" font-size=\"14.00\" fill=\"#000000\">gini = 0.0</text>\n<text text-anchor=\"middle\" x=\"6171\" y=\"-119.3\" font-family=\"Times,serif\" font-size=\"14.00\" fill=\"#000000\">samples = 1</text>\n<text text-anchor=\"middle\" x=\"6171\" y=\"-104.3\" font-family=\"Times,serif\" font-size=\"14.00\" fill=\"#000000\">value = [0, 1, 0]</text>\n</g>\n<!-- 185&#45;&gt;187 -->\n<g id=\"edge187\" class=\"edge\">\n<title>185&#45;&gt;187</title>\n<path fill=\"none\" stroke=\"#000000\" d=\"M6171,-192.9465C6171,-182.2621 6171,-170.4254 6171,-159.5742\"/>\n<polygon fill=\"#000000\" stroke=\"#000000\" points=\"6174.5001,-159.5421 6171,-149.5422 6167.5001,-159.5422 6174.5001,-159.5421\"/>\n</g>\n<!-- 189 -->\n<g id=\"node190\" class=\"node\">\n<title>189</title>\n<polygon fill=\"none\" stroke=\"#000000\" points=\"6354,-149.5 6244,-149.5 6244,-96.5 6354,-96.5 6354,-149.5\"/>\n<text text-anchor=\"middle\" x=\"6299\" y=\"-134.3\" font-family=\"Times,serif\" font-size=\"14.00\" fill=\"#000000\">gini = 0.0</text>\n<text text-anchor=\"middle\" x=\"6299\" y=\"-119.3\" font-family=\"Times,serif\" font-size=\"14.00\" fill=\"#000000\">samples = 1</text>\n<text text-anchor=\"middle\" x=\"6299\" y=\"-104.3\" font-family=\"Times,serif\" font-size=\"14.00\" fill=\"#000000\">value = [0, 0, 1]</text>\n</g>\n<!-- 188&#45;&gt;189 -->\n<g id=\"edge189\" class=\"edge\">\n<title>188&#45;&gt;189</title>\n<path fill=\"none\" stroke=\"#000000\" d=\"M6323.8848,-192.9465C6320.0444,-182.1519 6315.7856,-170.1813 6311.8927,-159.2389\"/>\n<polygon fill=\"#000000\" stroke=\"#000000\" points=\"6315.0924,-157.7905 6308.4429,-149.5422 6308.4973,-160.1369 6315.0924,-157.7905\"/>\n</g>\n<!-- 190 -->\n<g id=\"node191\" class=\"node\">\n<title>190</title>\n<polygon fill=\"none\" stroke=\"#000000\" points=\"6482,-149.5 6372,-149.5 6372,-96.5 6482,-96.5 6482,-149.5\"/>\n<text text-anchor=\"middle\" x=\"6427\" y=\"-134.3\" font-family=\"Times,serif\" font-size=\"14.00\" fill=\"#000000\">gini = 0.0</text>\n<text text-anchor=\"middle\" x=\"6427\" y=\"-119.3\" font-family=\"Times,serif\" font-size=\"14.00\" fill=\"#000000\">samples = 1</text>\n<text text-anchor=\"middle\" x=\"6427\" y=\"-104.3\" font-family=\"Times,serif\" font-size=\"14.00\" fill=\"#000000\">value = [1, 0, 0]</text>\n</g>\n<!-- 188&#45;&gt;190 -->\n<g id=\"edge190\" class=\"edge\">\n<title>188&#45;&gt;190</title>\n<path fill=\"none\" stroke=\"#000000\" d=\"M6365.7968,-192.9465C6375.8204,-181.491 6387.0028,-168.711 6397.039,-157.2412\"/>\n<polygon fill=\"#000000\" stroke=\"#000000\" points=\"6399.8246,-159.3727 6403.7756,-149.5422 6394.5565,-154.7632 6399.8246,-159.3727\"/>\n</g>\n<!-- 192 -->\n<g id=\"node193\" class=\"node\">\n<title>192</title>\n<polygon fill=\"none\" stroke=\"#000000\" points=\"6625,-365 6485,-365 6485,-297 6625,-297 6625,-365\"/>\n<text text-anchor=\"middle\" x=\"6555\" y=\"-349.8\" font-family=\"Times,serif\" font-size=\"14.00\" fill=\"#000000\">right_distance &lt;= 4.5</text>\n<text text-anchor=\"middle\" x=\"6555\" y=\"-334.8\" font-family=\"Times,serif\" font-size=\"14.00\" fill=\"#000000\">gini = 0.667</text>\n<text text-anchor=\"middle\" x=\"6555\" y=\"-319.8\" font-family=\"Times,serif\" font-size=\"14.00\" fill=\"#000000\">samples = 3</text>\n<text text-anchor=\"middle\" x=\"6555\" y=\"-304.8\" font-family=\"Times,serif\" font-size=\"14.00\" fill=\"#000000\">value = [1, 1, 1]</text>\n</g>\n<!-- 191&#45;&gt;192 -->\n<g id=\"edge192\" class=\"edge\">\n<title>191&#45;&gt;192</title>\n<path fill=\"none\" stroke=\"#000000\" d=\"M6555,-400.9465C6555,-392.776 6555,-383.9318 6555,-375.3697\"/>\n<polygon fill=\"#000000\" stroke=\"#000000\" points=\"6558.5001,-375.13 6555,-365.13 6551.5001,-375.13 6558.5001,-375.13\"/>\n</g>\n<!-- 197 -->\n<g id=\"node198\" class=\"node\">\n<title>197</title>\n<polygon fill=\"none\" stroke=\"#000000\" points=\"6753,-357.5 6643,-357.5 6643,-304.5 6753,-304.5 6753,-357.5\"/>\n<text text-anchor=\"middle\" x=\"6698\" y=\"-342.3\" font-family=\"Times,serif\" font-size=\"14.00\" fill=\"#000000\">gini = 0.0</text>\n<text text-anchor=\"middle\" x=\"6698\" y=\"-327.3\" font-family=\"Times,serif\" font-size=\"14.00\" fill=\"#000000\">samples = 7</text>\n<text text-anchor=\"middle\" x=\"6698\" y=\"-312.3\" font-family=\"Times,serif\" font-size=\"14.00\" fill=\"#000000\">value = [0, 0, 7]</text>\n</g>\n<!-- 191&#45;&gt;197 -->\n<g id=\"edge197\" class=\"edge\">\n<title>191&#45;&gt;197</title>\n<path fill=\"none\" stroke=\"#000000\" d=\"M6601.8235,-400.9465C6618.3321,-388.9403 6636.8412,-375.4791 6653.1802,-363.5962\"/>\n<polygon fill=\"#000000\" stroke=\"#000000\" points=\"6655.4758,-366.2545 6661.5045,-357.5422 6651.3585,-360.5933 6655.4758,-366.2545\"/>\n</g>\n<!-- 193 -->\n<g id=\"node194\" class=\"node\">\n<title>193</title>\n<polygon fill=\"none\" stroke=\"#000000\" points=\"6620.5,-261 6489.5,-261 6489.5,-193 6620.5,-193 6620.5,-261\"/>\n<text text-anchor=\"middle\" x=\"6555\" y=\"-245.8\" font-family=\"Times,serif\" font-size=\"14.00\" fill=\"#000000\">left_distance &lt;= 4.5</text>\n<text text-anchor=\"middle\" x=\"6555\" y=\"-230.8\" font-family=\"Times,serif\" font-size=\"14.00\" fill=\"#000000\">gini = 0.5</text>\n<text text-anchor=\"middle\" x=\"6555\" y=\"-215.8\" font-family=\"Times,serif\" font-size=\"14.00\" fill=\"#000000\">samples = 2</text>\n<text text-anchor=\"middle\" x=\"6555\" y=\"-200.8\" font-family=\"Times,serif\" font-size=\"14.00\" fill=\"#000000\">value = [1, 1, 0]</text>\n</g>\n<!-- 192&#45;&gt;193 -->\n<g id=\"edge193\" class=\"edge\">\n<title>192&#45;&gt;193</title>\n<path fill=\"none\" stroke=\"#000000\" d=\"M6555,-296.9465C6555,-288.776 6555,-279.9318 6555,-271.3697\"/>\n<polygon fill=\"#000000\" stroke=\"#000000\" points=\"6558.5001,-271.13 6555,-261.13 6551.5001,-271.13 6558.5001,-271.13\"/>\n</g>\n<!-- 196 -->\n<g id=\"node197\" class=\"node\">\n<title>196</title>\n<polygon fill=\"none\" stroke=\"#000000\" points=\"6749,-253.5 6639,-253.5 6639,-200.5 6749,-200.5 6749,-253.5\"/>\n<text text-anchor=\"middle\" x=\"6694\" y=\"-238.3\" font-family=\"Times,serif\" font-size=\"14.00\" fill=\"#000000\">gini = 0.0</text>\n<text text-anchor=\"middle\" x=\"6694\" y=\"-223.3\" font-family=\"Times,serif\" font-size=\"14.00\" fill=\"#000000\">samples = 1</text>\n<text text-anchor=\"middle\" x=\"6694\" y=\"-208.3\" font-family=\"Times,serif\" font-size=\"14.00\" fill=\"#000000\">value = [0, 0, 1]</text>\n</g>\n<!-- 192&#45;&gt;196 -->\n<g id=\"edge196\" class=\"edge\">\n<title>192&#45;&gt;196</title>\n<path fill=\"none\" stroke=\"#000000\" d=\"M6600.5138,-296.9465C6616.5606,-284.9403 6634.5519,-271.4791 6650.4339,-259.5962\"/>\n<polygon fill=\"#000000\" stroke=\"#000000\" points=\"6652.6152,-262.3354 6658.5254,-253.5422 6648.4217,-256.7306 6652.6152,-262.3354\"/>\n</g>\n<!-- 194 -->\n<g id=\"node195\" class=\"node\">\n<title>194</title>\n<polygon fill=\"none\" stroke=\"#000000\" points=\"6610,-149.5 6500,-149.5 6500,-96.5 6610,-96.5 6610,-149.5\"/>\n<text text-anchor=\"middle\" x=\"6555\" y=\"-134.3\" font-family=\"Times,serif\" font-size=\"14.00\" fill=\"#000000\">gini = 0.0</text>\n<text text-anchor=\"middle\" x=\"6555\" y=\"-119.3\" font-family=\"Times,serif\" font-size=\"14.00\" fill=\"#000000\">samples = 1</text>\n<text text-anchor=\"middle\" x=\"6555\" y=\"-104.3\" font-family=\"Times,serif\" font-size=\"14.00\" fill=\"#000000\">value = [1, 0, 0]</text>\n</g>\n<!-- 193&#45;&gt;194 -->\n<g id=\"edge194\" class=\"edge\">\n<title>193&#45;&gt;194</title>\n<path fill=\"none\" stroke=\"#000000\" d=\"M6555,-192.9465C6555,-182.2621 6555,-170.4254 6555,-159.5742\"/>\n<polygon fill=\"#000000\" stroke=\"#000000\" points=\"6558.5001,-159.5421 6555,-149.5422 6551.5001,-159.5422 6558.5001,-159.5421\"/>\n</g>\n<!-- 195 -->\n<g id=\"node196\" class=\"node\">\n<title>195</title>\n<polygon fill=\"none\" stroke=\"#000000\" points=\"6738,-149.5 6628,-149.5 6628,-96.5 6738,-96.5 6738,-149.5\"/>\n<text text-anchor=\"middle\" x=\"6683\" y=\"-134.3\" font-family=\"Times,serif\" font-size=\"14.00\" fill=\"#000000\">gini = 0.0</text>\n<text text-anchor=\"middle\" x=\"6683\" y=\"-119.3\" font-family=\"Times,serif\" font-size=\"14.00\" fill=\"#000000\">samples = 1</text>\n<text text-anchor=\"middle\" x=\"6683\" y=\"-104.3\" font-family=\"Times,serif\" font-size=\"14.00\" fill=\"#000000\">value = [0, 1, 0]</text>\n</g>\n<!-- 193&#45;&gt;195 -->\n<g id=\"edge195\" class=\"edge\">\n<title>193&#45;&gt;195</title>\n<path fill=\"none\" stroke=\"#000000\" d=\"M6596.912,-192.9465C6611.5533,-181.0504 6627.9526,-167.726 6642.4785,-155.9237\"/>\n<polygon fill=\"#000000\" stroke=\"#000000\" points=\"6644.7786,-158.5645 6650.3327,-149.5422 6640.3645,-153.1317 6644.7786,-158.5645\"/>\n</g>\n<!-- 199 -->\n<g id=\"node200\" class=\"node\">\n<title>199</title>\n<polygon fill=\"none\" stroke=\"#000000\" points=\"6678,-565.5 6568,-565.5 6568,-512.5 6678,-512.5 6678,-565.5\"/>\n<text text-anchor=\"middle\" x=\"6623\" y=\"-550.3\" font-family=\"Times,serif\" font-size=\"14.00\" fill=\"#000000\">gini = 0.0</text>\n<text text-anchor=\"middle\" x=\"6623\" y=\"-535.3\" font-family=\"Times,serif\" font-size=\"14.00\" fill=\"#000000\">samples = 8</text>\n<text text-anchor=\"middle\" x=\"6623\" y=\"-520.3\" font-family=\"Times,serif\" font-size=\"14.00\" fill=\"#000000\">value = [0, 8, 0]</text>\n</g>\n<!-- 198&#45;&gt;199 -->\n<g id=\"edge199\" class=\"edge\">\n<title>198&#45;&gt;199</title>\n<path fill=\"none\" stroke=\"#000000\" d=\"M6623,-608.9465C6623,-598.2621 6623,-586.4254 6623,-575.5742\"/>\n<polygon fill=\"#000000\" stroke=\"#000000\" points=\"6626.5001,-575.5421 6623,-565.5422 6619.5001,-575.5422 6626.5001,-575.5421\"/>\n</g>\n<!-- 200 -->\n<g id=\"node201\" class=\"node\">\n<title>200</title>\n<polygon fill=\"none\" stroke=\"#000000\" points=\"6896,-573 6756,-573 6756,-505 6896,-505 6896,-573\"/>\n<text text-anchor=\"middle\" x=\"6826\" y=\"-557.8\" font-family=\"Times,serif\" font-size=\"14.00\" fill=\"#000000\">right_distance &lt;= 3.5</text>\n<text text-anchor=\"middle\" x=\"6826\" y=\"-542.8\" font-family=\"Times,serif\" font-size=\"14.00\" fill=\"#000000\">gini = 0.643</text>\n<text text-anchor=\"middle\" x=\"6826\" y=\"-527.8\" font-family=\"Times,serif\" font-size=\"14.00\" fill=\"#000000\">samples = 14</text>\n<text text-anchor=\"middle\" x=\"6826\" y=\"-512.8\" font-family=\"Times,serif\" font-size=\"14.00\" fill=\"#000000\">value = [5, 6, 3]</text>\n</g>\n<!-- 198&#45;&gt;200 -->\n<g id=\"edge200\" class=\"edge\">\n<title>198&#45;&gt;200</title>\n<path fill=\"none\" stroke=\"#000000\" d=\"M6689.4698,-608.9465C6708.923,-598.9803 6730.3329,-588.0117 6750.3134,-577.7754\"/>\n<polygon fill=\"#000000\" stroke=\"#000000\" points=\"6752.0767,-580.8047 6759.3809,-573.13 6748.885,-574.5747 6752.0767,-580.8047\"/>\n</g>\n<!-- 201 -->\n<g id=\"node202\" class=\"node\">\n<title>201</title>\n<polygon fill=\"none\" stroke=\"#000000\" points=\"6881,-461.5 6771,-461.5 6771,-408.5 6881,-408.5 6881,-461.5\"/>\n<text text-anchor=\"middle\" x=\"6826\" y=\"-446.3\" font-family=\"Times,serif\" font-size=\"14.00\" fill=\"#000000\">gini = 0.0</text>\n<text text-anchor=\"middle\" x=\"6826\" y=\"-431.3\" font-family=\"Times,serif\" font-size=\"14.00\" fill=\"#000000\">samples = 3</text>\n<text text-anchor=\"middle\" x=\"6826\" y=\"-416.3\" font-family=\"Times,serif\" font-size=\"14.00\" fill=\"#000000\">value = [0, 3, 0]</text>\n</g>\n<!-- 200&#45;&gt;201 -->\n<g id=\"edge201\" class=\"edge\">\n<title>200&#45;&gt;201</title>\n<path fill=\"none\" stroke=\"#000000\" d=\"M6826,-504.9465C6826,-494.2621 6826,-482.4254 6826,-471.5742\"/>\n<polygon fill=\"#000000\" stroke=\"#000000\" points=\"6829.5001,-471.5421 6826,-461.5422 6822.5001,-471.5422 6829.5001,-471.5421\"/>\n</g>\n<!-- 202 -->\n<g id=\"node203\" class=\"node\">\n<title>202</title>\n<polygon fill=\"none\" stroke=\"#000000\" points=\"7070,-469 6946,-469 6946,-401 7070,-401 7070,-469\"/>\n<text text-anchor=\"middle\" x=\"7008\" y=\"-453.8\" font-family=\"Times,serif\" font-size=\"14.00\" fill=\"#000000\">left_weight &lt;= 4.5</text>\n<text text-anchor=\"middle\" x=\"7008\" y=\"-438.8\" font-family=\"Times,serif\" font-size=\"14.00\" fill=\"#000000\">gini = 0.645</text>\n<text text-anchor=\"middle\" x=\"7008\" y=\"-423.8\" font-family=\"Times,serif\" font-size=\"14.00\" fill=\"#000000\">samples = 11</text>\n<text text-anchor=\"middle\" x=\"7008\" y=\"-408.8\" font-family=\"Times,serif\" font-size=\"14.00\" fill=\"#000000\">value = [5, 3, 3]</text>\n</g>\n<!-- 200&#45;&gt;202 -->\n<g id=\"edge202\" class=\"edge\">\n<title>200&#45;&gt;202</title>\n<path fill=\"none\" stroke=\"#000000\" d=\"M6885.5936,-504.9465C6902.7202,-495.1599 6921.5384,-484.4066 6939.1735,-474.3294\"/>\n<polygon fill=\"#000000\" stroke=\"#000000\" points=\"6941.3266,-477.1303 6948.2725,-469.13 6937.8536,-471.0526 6941.3266,-477.1303\"/>\n</g>\n<!-- 203 -->\n<g id=\"node204\" class=\"node\">\n<title>203</title>\n<polygon fill=\"none\" stroke=\"#000000\" points=\"7074.5,-365 6941.5,-365 6941.5,-297 7074.5,-297 7074.5,-365\"/>\n<text text-anchor=\"middle\" x=\"7008\" y=\"-349.8\" font-family=\"Times,serif\" font-size=\"14.00\" fill=\"#000000\">right_weight &lt;= 4.5</text>\n<text text-anchor=\"middle\" x=\"7008\" y=\"-334.8\" font-family=\"Times,serif\" font-size=\"14.00\" fill=\"#000000\">gini = 0.611</text>\n<text text-anchor=\"middle\" x=\"7008\" y=\"-319.8\" font-family=\"Times,serif\" font-size=\"14.00\" fill=\"#000000\">samples = 6</text>\n<text text-anchor=\"middle\" x=\"7008\" y=\"-304.8\" font-family=\"Times,serif\" font-size=\"14.00\" fill=\"#000000\">value = [2, 1, 3]</text>\n</g>\n<!-- 202&#45;&gt;203 -->\n<g id=\"edge203\" class=\"edge\">\n<title>202&#45;&gt;203</title>\n<path fill=\"none\" stroke=\"#000000\" d=\"M7008,-400.9465C7008,-392.776 7008,-383.9318 7008,-375.3697\"/>\n<polygon fill=\"#000000\" stroke=\"#000000\" points=\"7011.5001,-375.13 7008,-365.13 7004.5001,-375.13 7011.5001,-375.13\"/>\n</g>\n<!-- 212 -->\n<g id=\"node213\" class=\"node\">\n<title>212</title>\n<polygon fill=\"none\" stroke=\"#000000\" points=\"7427,-365 7287,-365 7287,-297 7427,-297 7427,-365\"/>\n<text text-anchor=\"middle\" x=\"7357\" y=\"-349.8\" font-family=\"Times,serif\" font-size=\"14.00\" fill=\"#000000\">right_distance &lt;= 4.5</text>\n<text text-anchor=\"middle\" x=\"7357\" y=\"-334.8\" font-family=\"Times,serif\" font-size=\"14.00\" fill=\"#000000\">gini = 0.48</text>\n<text text-anchor=\"middle\" x=\"7357\" y=\"-319.8\" font-family=\"Times,serif\" font-size=\"14.00\" fill=\"#000000\">samples = 5</text>\n<text text-anchor=\"middle\" x=\"7357\" y=\"-304.8\" font-family=\"Times,serif\" font-size=\"14.00\" fill=\"#000000\">value = [3, 2, 0]</text>\n</g>\n<!-- 202&#45;&gt;212 -->\n<g id=\"edge212\" class=\"edge\">\n<title>202&#45;&gt;212</title>\n<path fill=\"none\" stroke=\"#000000\" d=\"M7070.3942,-416.4069C7128.0876,-399.2146 7214.1331,-373.5735 7276.8852,-354.8738\"/>\n<polygon fill=\"#000000\" stroke=\"#000000\" points=\"7278.1646,-358.1447 7286.7486,-351.9345 7276.1655,-351.4362 7278.1646,-358.1447\"/>\n</g>\n<!-- 204 -->\n<g id=\"node205\" class=\"node\">\n<title>204</title>\n<polygon fill=\"none\" stroke=\"#000000\" points=\"6996.5,-261 6865.5,-261 6865.5,-193 6996.5,-193 6996.5,-261\"/>\n<text text-anchor=\"middle\" x=\"6931\" y=\"-245.8\" font-family=\"Times,serif\" font-size=\"14.00\" fill=\"#000000\">left_distance &lt;= 4.5</text>\n<text text-anchor=\"middle\" x=\"6931\" y=\"-230.8\" font-family=\"Times,serif\" font-size=\"14.00\" fill=\"#000000\">gini = 0.5</text>\n<text text-anchor=\"middle\" x=\"6931\" y=\"-215.8\" font-family=\"Times,serif\" font-size=\"14.00\" fill=\"#000000\">samples = 2</text>\n<text text-anchor=\"middle\" x=\"6931\" y=\"-200.8\" font-family=\"Times,serif\" font-size=\"14.00\" fill=\"#000000\">value = [1, 1, 0]</text>\n</g>\n<!-- 203&#45;&gt;204 -->\n<g id=\"edge204\" class=\"edge\">\n<title>203&#45;&gt;204</title>\n<path fill=\"none\" stroke=\"#000000\" d=\"M6982.7873,-296.9465C6976.2727,-288.1475 6969.1795,-278.5672 6962.3918,-269.3993\"/>\n<polygon fill=\"#000000\" stroke=\"#000000\" points=\"6965.0327,-267.0843 6956.2693,-261.13 6959.4069,-271.2496 6965.0327,-267.0843\"/>\n</g>\n<!-- 207 -->\n<g id=\"node208\" class=\"node\">\n<title>207</title>\n<polygon fill=\"none\" stroke=\"#000000\" points=\"7155,-261 7015,-261 7015,-193 7155,-193 7155,-261\"/>\n<text text-anchor=\"middle\" x=\"7085\" y=\"-245.8\" font-family=\"Times,serif\" font-size=\"14.00\" fill=\"#000000\">right_distance &lt;= 4.5</text>\n<text text-anchor=\"middle\" x=\"7085\" y=\"-230.8\" font-family=\"Times,serif\" font-size=\"14.00\" fill=\"#000000\">gini = 0.375</text>\n<text text-anchor=\"middle\" x=\"7085\" y=\"-215.8\" font-family=\"Times,serif\" font-size=\"14.00\" fill=\"#000000\">samples = 4</text>\n<text text-anchor=\"middle\" x=\"7085\" y=\"-200.8\" font-family=\"Times,serif\" font-size=\"14.00\" fill=\"#000000\">value = [1, 0, 3]</text>\n</g>\n<!-- 203&#45;&gt;207 -->\n<g id=\"edge207\" class=\"edge\">\n<title>203&#45;&gt;207</title>\n<path fill=\"none\" stroke=\"#000000\" d=\"M7033.2127,-296.9465C7039.7273,-288.1475 7046.8205,-278.5672 7053.6082,-269.3993\"/>\n<polygon fill=\"#000000\" stroke=\"#000000\" points=\"7056.5931,-271.2496 7059.7307,-261.13 7050.9673,-267.0843 7056.5931,-271.2496\"/>\n</g>\n<!-- 205 -->\n<g id=\"node206\" class=\"node\">\n<title>205</title>\n<polygon fill=\"none\" stroke=\"#000000\" points=\"6866,-149.5 6756,-149.5 6756,-96.5 6866,-96.5 6866,-149.5\"/>\n<text text-anchor=\"middle\" x=\"6811\" y=\"-134.3\" font-family=\"Times,serif\" font-size=\"14.00\" fill=\"#000000\">gini = 0.0</text>\n<text text-anchor=\"middle\" x=\"6811\" y=\"-119.3\" font-family=\"Times,serif\" font-size=\"14.00\" fill=\"#000000\">samples = 1</text>\n<text text-anchor=\"middle\" x=\"6811\" y=\"-104.3\" font-family=\"Times,serif\" font-size=\"14.00\" fill=\"#000000\">value = [1, 0, 0]</text>\n</g>\n<!-- 204&#45;&gt;205 -->\n<g id=\"edge205\" class=\"edge\">\n<title>204&#45;&gt;205</title>\n<path fill=\"none\" stroke=\"#000000\" d=\"M6891.7075,-192.9465C6878.1083,-181.1606 6862.8915,-167.9726 6849.3676,-156.2519\"/>\n<polygon fill=\"#000000\" stroke=\"#000000\" points=\"6851.4748,-153.4466 6841.6256,-149.5422 6846.8902,-158.7364 6851.4748,-153.4466\"/>\n</g>\n<!-- 206 -->\n<g id=\"node207\" class=\"node\">\n<title>206</title>\n<polygon fill=\"none\" stroke=\"#000000\" points=\"6994,-149.5 6884,-149.5 6884,-96.5 6994,-96.5 6994,-149.5\"/>\n<text text-anchor=\"middle\" x=\"6939\" y=\"-134.3\" font-family=\"Times,serif\" font-size=\"14.00\" fill=\"#000000\">gini = 0.0</text>\n<text text-anchor=\"middle\" x=\"6939\" y=\"-119.3\" font-family=\"Times,serif\" font-size=\"14.00\" fill=\"#000000\">samples = 1</text>\n<text text-anchor=\"middle\" x=\"6939\" y=\"-104.3\" font-family=\"Times,serif\" font-size=\"14.00\" fill=\"#000000\">value = [0, 1, 0]</text>\n</g>\n<!-- 204&#45;&gt;206 -->\n<g id=\"edge206\" class=\"edge\">\n<title>204&#45;&gt;206</title>\n<path fill=\"none\" stroke=\"#000000\" d=\"M6933.6195,-192.9465C6934.4414,-182.2621 6935.3519,-170.4254 6936.1866,-159.5742\"/>\n<polygon fill=\"#000000\" stroke=\"#000000\" points=\"6939.6809,-159.7812 6936.9583,-149.5422 6932.7015,-159.2442 6939.6809,-159.7812\"/>\n</g>\n<!-- 208 -->\n<g id=\"node209\" class=\"node\">\n<title>208</title>\n<polygon fill=\"none\" stroke=\"#000000\" points=\"7143.5,-157 7012.5,-157 7012.5,-89 7143.5,-89 7143.5,-157\"/>\n<text text-anchor=\"middle\" x=\"7078\" y=\"-141.8\" font-family=\"Times,serif\" font-size=\"14.00\" fill=\"#000000\">left_distance &lt;= 4.5</text>\n<text text-anchor=\"middle\" x=\"7078\" y=\"-126.8\" font-family=\"Times,serif\" font-size=\"14.00\" fill=\"#000000\">gini = 0.5</text>\n<text text-anchor=\"middle\" x=\"7078\" y=\"-111.8\" font-family=\"Times,serif\" font-size=\"14.00\" fill=\"#000000\">samples = 2</text>\n<text text-anchor=\"middle\" x=\"7078\" y=\"-96.8\" font-family=\"Times,serif\" font-size=\"14.00\" fill=\"#000000\">value = [1, 0, 1]</text>\n</g>\n<!-- 207&#45;&gt;208 -->\n<g id=\"edge208\" class=\"edge\">\n<title>207&#45;&gt;208</title>\n<path fill=\"none\" stroke=\"#000000\" d=\"M7082.7079,-192.9465C7082.158,-184.776 7081.5627,-175.9318 7080.9864,-167.3697\"/>\n<polygon fill=\"#000000\" stroke=\"#000000\" points=\"7084.461,-166.8723 7080.2972,-157.13 7077.4768,-167.3425 7084.461,-166.8723\"/>\n</g>\n<!-- 211 -->\n<g id=\"node212\" class=\"node\">\n<title>211</title>\n<polygon fill=\"none\" stroke=\"#000000\" points=\"7272,-149.5 7162,-149.5 7162,-96.5 7272,-96.5 7272,-149.5\"/>\n<text text-anchor=\"middle\" x=\"7217\" y=\"-134.3\" font-family=\"Times,serif\" font-size=\"14.00\" fill=\"#000000\">gini = 0.0</text>\n<text text-anchor=\"middle\" x=\"7217\" y=\"-119.3\" font-family=\"Times,serif\" font-size=\"14.00\" fill=\"#000000\">samples = 2</text>\n<text text-anchor=\"middle\" x=\"7217\" y=\"-104.3\" font-family=\"Times,serif\" font-size=\"14.00\" fill=\"#000000\">value = [0, 0, 2]</text>\n</g>\n<!-- 207&#45;&gt;211 -->\n<g id=\"edge211\" class=\"edge\">\n<title>207&#45;&gt;211</title>\n<path fill=\"none\" stroke=\"#000000\" d=\"M7128.2217,-192.9465C7143.3206,-181.0504 7160.2324,-167.726 7175.2122,-155.9237\"/>\n<polygon fill=\"#000000\" stroke=\"#000000\" points=\"7177.623,-158.4802 7183.3119,-149.5422 7173.2909,-152.9817 7177.623,-158.4802\"/>\n</g>\n<!-- 209 -->\n<g id=\"node210\" class=\"node\">\n<title>209</title>\n<polygon fill=\"none\" stroke=\"#000000\" points=\"7075,-53 6965,-53 6965,0 7075,0 7075,-53\"/>\n<text text-anchor=\"middle\" x=\"7020\" y=\"-37.8\" font-family=\"Times,serif\" font-size=\"14.00\" fill=\"#000000\">gini = 0.0</text>\n<text text-anchor=\"middle\" x=\"7020\" y=\"-22.8\" font-family=\"Times,serif\" font-size=\"14.00\" fill=\"#000000\">samples = 1</text>\n<text text-anchor=\"middle\" x=\"7020\" y=\"-7.8\" font-family=\"Times,serif\" font-size=\"14.00\" fill=\"#000000\">value = [0, 0, 1]</text>\n</g>\n<!-- 208&#45;&gt;209 -->\n<g id=\"edge209\" class=\"edge\">\n<title>208&#45;&gt;209</title>\n<path fill=\"none\" stroke=\"#000000\" d=\"M7057.5514,-88.9777C7052.2678,-80.187 7046.5684,-70.7044 7041.2452,-61.8477\"/>\n<polygon fill=\"#000000\" stroke=\"#000000\" points=\"7044.2282,-60.0165 7036.0768,-53.2485 7038.2285,-63.6225 7044.2282,-60.0165\"/>\n</g>\n<!-- 210 -->\n<g id=\"node211\" class=\"node\">\n<title>210</title>\n<polygon fill=\"none\" stroke=\"#000000\" points=\"7203,-53 7093,-53 7093,0 7203,0 7203,-53\"/>\n<text text-anchor=\"middle\" x=\"7148\" y=\"-37.8\" font-family=\"Times,serif\" font-size=\"14.00\" fill=\"#000000\">gini = 0.0</text>\n<text text-anchor=\"middle\" x=\"7148\" y=\"-22.8\" font-family=\"Times,serif\" font-size=\"14.00\" fill=\"#000000\">samples = 1</text>\n<text text-anchor=\"middle\" x=\"7148\" y=\"-7.8\" font-family=\"Times,serif\" font-size=\"14.00\" fill=\"#000000\">value = [1, 0, 0]</text>\n</g>\n<!-- 208&#45;&gt;210 -->\n<g id=\"edge210\" class=\"edge\">\n<title>208&#45;&gt;210</title>\n<path fill=\"none\" stroke=\"#000000\" d=\"M7102.6794,-88.9777C7109.1225,-80.0954 7116.078,-70.5067 7122.5598,-61.5711\"/>\n<polygon fill=\"#000000\" stroke=\"#000000\" points=\"7125.5583,-63.3982 7128.597,-53.2485 7119.8921,-59.288 7125.5583,-63.3982\"/>\n</g>\n<!-- 213 -->\n<g id=\"node214\" class=\"node\">\n<title>213</title>\n<polygon fill=\"none\" stroke=\"#000000\" points=\"7422.5,-261 7291.5,-261 7291.5,-193 7422.5,-193 7422.5,-261\"/>\n<text text-anchor=\"middle\" x=\"7357\" y=\"-245.8\" font-family=\"Times,serif\" font-size=\"14.00\" fill=\"#000000\">left_distance &lt;= 4.5</text>\n<text text-anchor=\"middle\" x=\"7357\" y=\"-230.8\" font-family=\"Times,serif\" font-size=\"14.00\" fill=\"#000000\">gini = 0.444</text>\n<text text-anchor=\"middle\" x=\"7357\" y=\"-215.8\" font-family=\"Times,serif\" font-size=\"14.00\" fill=\"#000000\">samples = 3</text>\n<text text-anchor=\"middle\" x=\"7357\" y=\"-200.8\" font-family=\"Times,serif\" font-size=\"14.00\" fill=\"#000000\">value = [1, 2, 0]</text>\n</g>\n<!-- 212&#45;&gt;213 -->\n<g id=\"edge213\" class=\"edge\">\n<title>212&#45;&gt;213</title>\n<path fill=\"none\" stroke=\"#000000\" d=\"M7357,-296.9465C7357,-288.776 7357,-279.9318 7357,-271.3697\"/>\n<polygon fill=\"#000000\" stroke=\"#000000\" points=\"7360.5001,-271.13 7357,-261.13 7353.5001,-271.13 7360.5001,-271.13\"/>\n</g>\n<!-- 218 -->\n<g id=\"node219\" class=\"node\">\n<title>218</title>\n<polygon fill=\"none\" stroke=\"#000000\" points=\"7551,-253.5 7441,-253.5 7441,-200.5 7551,-200.5 7551,-253.5\"/>\n<text text-anchor=\"middle\" x=\"7496\" y=\"-238.3\" font-family=\"Times,serif\" font-size=\"14.00\" fill=\"#000000\">gini = 0.0</text>\n<text text-anchor=\"middle\" x=\"7496\" y=\"-223.3\" font-family=\"Times,serif\" font-size=\"14.00\" fill=\"#000000\">samples = 2</text>\n<text text-anchor=\"middle\" x=\"7496\" y=\"-208.3\" font-family=\"Times,serif\" font-size=\"14.00\" fill=\"#000000\">value = [2, 0, 0]</text>\n</g>\n<!-- 212&#45;&gt;218 -->\n<g id=\"edge218\" class=\"edge\">\n<title>212&#45;&gt;218</title>\n<path fill=\"none\" stroke=\"#000000\" d=\"M7402.5138,-296.9465C7418.5606,-284.9403 7436.5519,-271.4791 7452.4339,-259.5962\"/>\n<polygon fill=\"#000000\" stroke=\"#000000\" points=\"7454.6152,-262.3354 7460.5254,-253.5422 7450.4217,-256.7306 7454.6152,-262.3354\"/>\n</g>\n<!-- 214 -->\n<g id=\"node215\" class=\"node\">\n<title>214</title>\n<polygon fill=\"none\" stroke=\"#000000\" points=\"7423.5,-157 7290.5,-157 7290.5,-89 7423.5,-89 7423.5,-157\"/>\n<text text-anchor=\"middle\" x=\"7357\" y=\"-141.8\" font-family=\"Times,serif\" font-size=\"14.00\" fill=\"#000000\">right_weight &lt;= 4.5</text>\n<text text-anchor=\"middle\" x=\"7357\" y=\"-126.8\" font-family=\"Times,serif\" font-size=\"14.00\" fill=\"#000000\">gini = 0.5</text>\n<text text-anchor=\"middle\" x=\"7357\" y=\"-111.8\" font-family=\"Times,serif\" font-size=\"14.00\" fill=\"#000000\">samples = 2</text>\n<text text-anchor=\"middle\" x=\"7357\" y=\"-96.8\" font-family=\"Times,serif\" font-size=\"14.00\" fill=\"#000000\">value = [1, 1, 0]</text>\n</g>\n<!-- 213&#45;&gt;214 -->\n<g id=\"edge214\" class=\"edge\">\n<title>213&#45;&gt;214</title>\n<path fill=\"none\" stroke=\"#000000\" d=\"M7357,-192.9465C7357,-184.776 7357,-175.9318 7357,-167.3697\"/>\n<polygon fill=\"#000000\" stroke=\"#000000\" points=\"7360.5001,-167.13 7357,-157.13 7353.5001,-167.13 7360.5001,-167.13\"/>\n</g>\n<!-- 217 -->\n<g id=\"node218\" class=\"node\">\n<title>217</title>\n<polygon fill=\"none\" stroke=\"#000000\" points=\"7552,-149.5 7442,-149.5 7442,-96.5 7552,-96.5 7552,-149.5\"/>\n<text text-anchor=\"middle\" x=\"7497\" y=\"-134.3\" font-family=\"Times,serif\" font-size=\"14.00\" fill=\"#000000\">gini = 0.0</text>\n<text text-anchor=\"middle\" x=\"7497\" y=\"-119.3\" font-family=\"Times,serif\" font-size=\"14.00\" fill=\"#000000\">samples = 1</text>\n<text text-anchor=\"middle\" x=\"7497\" y=\"-104.3\" font-family=\"Times,serif\" font-size=\"14.00\" fill=\"#000000\">value = [0, 1, 0]</text>\n</g>\n<!-- 213&#45;&gt;217 -->\n<g id=\"edge217\" class=\"edge\">\n<title>213&#45;&gt;217</title>\n<path fill=\"none\" stroke=\"#000000\" d=\"M7402.8412,-192.9465C7419.0035,-180.9403 7437.1242,-167.4791 7453.1205,-155.5962\"/>\n<polygon fill=\"#000000\" stroke=\"#000000\" points=\"7455.3299,-158.3151 7461.2702,-149.5422 7451.1556,-152.6958 7455.3299,-158.3151\"/>\n</g>\n<!-- 215 -->\n<g id=\"node216\" class=\"node\">\n<title>215</title>\n<polygon fill=\"none\" stroke=\"#000000\" points=\"7342,-53 7232,-53 7232,0 7342,0 7342,-53\"/>\n<text text-anchor=\"middle\" x=\"7287\" y=\"-37.8\" font-family=\"Times,serif\" font-size=\"14.00\" fill=\"#000000\">gini = 0.0</text>\n<text text-anchor=\"middle\" x=\"7287\" y=\"-22.8\" font-family=\"Times,serif\" font-size=\"14.00\" fill=\"#000000\">samples = 1</text>\n<text text-anchor=\"middle\" x=\"7287\" y=\"-7.8\" font-family=\"Times,serif\" font-size=\"14.00\" fill=\"#000000\">value = [0, 1, 0]</text>\n</g>\n<!-- 214&#45;&gt;215 -->\n<g id=\"edge215\" class=\"edge\">\n<title>214&#45;&gt;215</title>\n<path fill=\"none\" stroke=\"#000000\" d=\"M7332.3206,-88.9777C7325.8775,-80.0954 7318.922,-70.5067 7312.4402,-61.5711\"/>\n<polygon fill=\"#000000\" stroke=\"#000000\" points=\"7315.1079,-59.288 7306.403,-53.2485 7309.4417,-63.3982 7315.1079,-59.288\"/>\n</g>\n<!-- 216 -->\n<g id=\"node217\" class=\"node\">\n<title>216</title>\n<polygon fill=\"none\" stroke=\"#000000\" points=\"7470,-53 7360,-53 7360,0 7470,0 7470,-53\"/>\n<text text-anchor=\"middle\" x=\"7415\" y=\"-37.8\" font-family=\"Times,serif\" font-size=\"14.00\" fill=\"#000000\">gini = 0.0</text>\n<text text-anchor=\"middle\" x=\"7415\" y=\"-22.8\" font-family=\"Times,serif\" font-size=\"14.00\" fill=\"#000000\">samples = 1</text>\n<text text-anchor=\"middle\" x=\"7415\" y=\"-7.8\" font-family=\"Times,serif\" font-size=\"14.00\" fill=\"#000000\">value = [1, 0, 0]</text>\n</g>\n<!-- 214&#45;&gt;216 -->\n<g id=\"edge216\" class=\"edge\">\n<title>214&#45;&gt;216</title>\n<path fill=\"none\" stroke=\"#000000\" d=\"M7377.4486,-88.9777C7382.7322,-80.187 7388.4316,-70.7044 7393.7548,-61.8477\"/>\n<polygon fill=\"#000000\" stroke=\"#000000\" points=\"7396.7715,-63.6225 7398.9232,-53.2485 7390.7718,-60.0165 7396.7715,-63.6225\"/>\n</g>\n</g>\n</svg>\n"
          },
          "metadata": {
            "tags": []
          },
          "execution_count": 8
        }
      ]
    },
    {
      "cell_type": "code",
      "metadata": {
        "id": "BKEhf91VKMko",
        "colab_type": "code",
        "colab": {
          "base_uri": "https://localhost:8080/",
          "height": 35
        },
        "outputId": "a1a9a1f8-ac03-4e05-deeb-a352b4d2be0a"
      },
      "source": [
        "import pydotplus\n",
        "\n",
        "graph_pdf = pydotplus.graph_from_dot_data(dot_data)\n",
        "graph_pdf.write_pdf('tree.pdf')"
      ],
      "execution_count": 9,
      "outputs": [
        {
          "output_type": "execute_result",
          "data": {
            "text/plain": [
              "True"
            ]
          },
          "metadata": {
            "tags": []
          },
          "execution_count": 9
        }
      ]
    },
    {
      "cell_type": "markdown",
      "metadata": {
        "id": "aGQ_zEmuNQSC",
        "colab_type": "text"
      },
      "source": [
        "8. Instancier un 'DecisionTreeClassifier' avec un critère de décision \"d'information gain\""
      ]
    },
    {
      "cell_type": "code",
      "metadata": {
        "id": "78m5mdgXLzZY",
        "colab_type": "code",
        "colab": {
          "base_uri": "https://localhost:8080/",
          "height": 126
        },
        "outputId": "78234093-81ce-4447-bd1b-3e290794e9b9"
      },
      "source": [
        "from sklearn.tree import DecisionTreeClassifier\n",
        "\n",
        "classifier_entropy = DecisionTreeClassifier(criterion=\"entropy\")\n",
        "classifier_entropy.fit(X_train,y_train)"
      ],
      "execution_count": 10,
      "outputs": [
        {
          "output_type": "execute_result",
          "data": {
            "text/plain": [
              "DecisionTreeClassifier(ccp_alpha=0.0, class_weight=None, criterion='entropy',\n",
              "                       max_depth=None, max_features=None, max_leaf_nodes=None,\n",
              "                       min_impurity_decrease=0.0, min_impurity_split=None,\n",
              "                       min_samples_leaf=1, min_samples_split=2,\n",
              "                       min_weight_fraction_leaf=0.0, presort='deprecated',\n",
              "                       random_state=None, splitter='best')"
            ]
          },
          "metadata": {
            "tags": []
          },
          "execution_count": 10
        }
      ]
    },
    {
      "cell_type": "markdown",
      "metadata": {
        "id": "8gsTkGFiNcWi",
        "colab_type": "text"
      },
      "source": [
        "9. Afficher votre arbre"
      ]
    },
    {
      "cell_type": "code",
      "metadata": {
        "id": "f6igr1-XNY6u",
        "colab_type": "code",
        "colab": {
          "base_uri": "https://localhost:8080/",
          "height": 1000
        },
        "outputId": "1c7b2fd8-5533-40eb-f190-bb8210ddc680"
      },
      "source": [
        "dot_data = export_graphviz(classifier_entropy, out_file=None) \n",
        "graph = graphviz.Source(dot_data) \n",
        "graph"
      ],
      "execution_count": 11,
      "outputs": [
        {
          "output_type": "execute_result",
          "data": {
            "text/plain": [
              "<graphviz.files.Source at 0x7f8bcd9ba240>"
            ],
            "image/svg+xml": "<?xml version=\"1.0\" encoding=\"UTF-8\" standalone=\"no\"?>\n<!DOCTYPE svg PUBLIC \"-//W3C//DTD SVG 1.1//EN\"\n \"http://www.w3.org/Graphics/SVG/1.1/DTD/svg11.dtd\">\n<!-- Generated by graphviz version 2.40.1 (20161225.0304)\n -->\n<!-- Title: Tree Pages: 1 -->\n<svg width=\"6554pt\" height=\"1309pt\"\n viewBox=\"0.00 0.00 6554.00 1309.00\" xmlns=\"http://www.w3.org/2000/svg\" xmlns:xlink=\"http://www.w3.org/1999/xlink\">\n<g id=\"graph0\" class=\"graph\" transform=\"scale(1 1) rotate(0) translate(4 1305)\">\n<title>Tree</title>\n<polygon fill=\"#ffffff\" stroke=\"transparent\" points=\"-4,4 -4,-1305 6550,-1305 6550,4 -4,4\"/>\n<!-- 0 -->\n<g id=\"node1\" class=\"node\">\n<title>0</title>\n<polygon fill=\"none\" stroke=\"#000000\" points=\"2655.5,-1301 2508.5,-1301 2508.5,-1233 2655.5,-1233 2655.5,-1301\"/>\n<text text-anchor=\"middle\" x=\"2582\" y=\"-1285.8\" font-family=\"Times,serif\" font-size=\"14.00\" fill=\"#000000\">X[3] &lt;= 2.5</text>\n<text text-anchor=\"middle\" x=\"2582\" y=\"-1270.8\" font-family=\"Times,serif\" font-size=\"14.00\" fill=\"#000000\">entropy = 1.317</text>\n<text text-anchor=\"middle\" x=\"2582\" y=\"-1255.8\" font-family=\"Times,serif\" font-size=\"14.00\" fill=\"#000000\">samples = 437</text>\n<text text-anchor=\"middle\" x=\"2582\" y=\"-1240.8\" font-family=\"Times,serif\" font-size=\"14.00\" fill=\"#000000\">value = [34, 201, 202]</text>\n</g>\n<!-- 1 -->\n<g id=\"node2\" class=\"node\">\n<title>1</title>\n<polygon fill=\"none\" stroke=\"#000000\" points=\"1916,-1197 1776,-1197 1776,-1129 1916,-1129 1916,-1197\"/>\n<text text-anchor=\"middle\" x=\"1846\" y=\"-1181.8\" font-family=\"Times,serif\" font-size=\"14.00\" fill=\"#000000\">X[1] &lt;= 2.5</text>\n<text text-anchor=\"middle\" x=\"1846\" y=\"-1166.8\" font-family=\"Times,serif\" font-size=\"14.00\" fill=\"#000000\">entropy = 1.104</text>\n<text text-anchor=\"middle\" x=\"1846\" y=\"-1151.8\" font-family=\"Times,serif\" font-size=\"14.00\" fill=\"#000000\">samples = 168</text>\n<text text-anchor=\"middle\" x=\"1846\" y=\"-1136.8\" font-family=\"Times,serif\" font-size=\"14.00\" fill=\"#000000\">value = [13, 120, 35]</text>\n</g>\n<!-- 0&#45;&gt;1 -->\n<g id=\"edge1\" class=\"edge\">\n<title>0&#45;&gt;1</title>\n<path fill=\"none\" stroke=\"#000000\" d=\"M2508.3995,-1256.5999C2369.564,-1236.9819 2070.073,-1194.6625 1926.2651,-1174.3418\"/>\n<polygon fill=\"#000000\" stroke=\"#000000\" points=\"1926.5757,-1170.851 1916.1844,-1172.9174 1925.5963,-1177.7822 1926.5757,-1170.851\"/>\n<text text-anchor=\"middle\" x=\"1931.2148\" y=\"-1189.1945\" font-family=\"Times,serif\" font-size=\"14.00\" fill=\"#000000\">True</text>\n</g>\n<!-- 74 -->\n<g id=\"node75\" class=\"node\">\n<title>74</title>\n<polygon fill=\"none\" stroke=\"#000000\" points=\"3311,-1197 3171,-1197 3171,-1129 3311,-1129 3311,-1197\"/>\n<text text-anchor=\"middle\" x=\"3241\" y=\"-1181.8\" font-family=\"Times,serif\" font-size=\"14.00\" fill=\"#000000\">X[2] &lt;= 2.5</text>\n<text text-anchor=\"middle\" x=\"3241\" y=\"-1166.8\" font-family=\"Times,serif\" font-size=\"14.00\" fill=\"#000000\">entropy = 1.236</text>\n<text text-anchor=\"middle\" x=\"3241\" y=\"-1151.8\" font-family=\"Times,serif\" font-size=\"14.00\" fill=\"#000000\">samples = 269</text>\n<text text-anchor=\"middle\" x=\"3241\" y=\"-1136.8\" font-family=\"Times,serif\" font-size=\"14.00\" fill=\"#000000\">value = [21, 81, 167]</text>\n</g>\n<!-- 0&#45;&gt;74 -->\n<g id=\"edge74\" class=\"edge\">\n<title>0&#45;&gt;74</title>\n<path fill=\"none\" stroke=\"#000000\" d=\"M2655.6775,-1255.3726C2780.2686,-1235.7103 3031.5749,-1196.0504 3160.5797,-1175.6915\"/>\n<polygon fill=\"#000000\" stroke=\"#000000\" points=\"3161.4543,-1179.0969 3170.7865,-1174.0807 3160.3631,-1172.1825 3161.4543,-1179.0969\"/>\n<text text-anchor=\"middle\" x=\"3156.0806\" y=\"-1190.598\" font-family=\"Times,serif\" font-size=\"14.00\" fill=\"#000000\">False</text>\n</g>\n<!-- 2 -->\n<g id=\"node3\" class=\"node\">\n<title>2</title>\n<polygon fill=\"none\" stroke=\"#000000\" points=\"1011.5,-1093 886.5,-1093 886.5,-1025 1011.5,-1025 1011.5,-1093\"/>\n<text text-anchor=\"middle\" x=\"949\" y=\"-1077.8\" font-family=\"Times,serif\" font-size=\"14.00\" fill=\"#000000\">X[0] &lt;= 1.5</text>\n<text text-anchor=\"middle\" x=\"949\" y=\"-1062.8\" font-family=\"Times,serif\" font-size=\"14.00\" fill=\"#000000\">entropy = 1.463</text>\n<text text-anchor=\"middle\" x=\"949\" y=\"-1047.8\" font-family=\"Times,serif\" font-size=\"14.00\" fill=\"#000000\">samples = 59</text>\n<text text-anchor=\"middle\" x=\"949\" y=\"-1032.8\" font-family=\"Times,serif\" font-size=\"14.00\" fill=\"#000000\">value = [9, 24, 26]</text>\n</g>\n<!-- 1&#45;&gt;2 -->\n<g id=\"edge2\" class=\"edge\">\n<title>1&#45;&gt;2</title>\n<path fill=\"none\" stroke=\"#000000\" d=\"M1775.9875,-1154.8826C1609.4119,-1135.5695 1190.8206,-1087.0372 1021.6345,-1067.4214\"/>\n<polygon fill=\"#000000\" stroke=\"#000000\" points=\"1021.9189,-1063.931 1011.5824,-1066.2559 1021.1127,-1070.8844 1021.9189,-1063.931\"/>\n</g>\n<!-- 43 -->\n<g id=\"node44\" class=\"node\">\n<title>43</title>\n<polygon fill=\"none\" stroke=\"#000000\" points=\"1904.5,-1093 1787.5,-1093 1787.5,-1025 1904.5,-1025 1904.5,-1093\"/>\n<text text-anchor=\"middle\" x=\"1846\" y=\"-1077.8\" font-family=\"Times,serif\" font-size=\"14.00\" fill=\"#000000\">X[0] &lt;= 1.5</text>\n<text text-anchor=\"middle\" x=\"1846\" y=\"-1062.8\" font-family=\"Times,serif\" font-size=\"14.00\" fill=\"#000000\">entropy = 0.633</text>\n<text text-anchor=\"middle\" x=\"1846\" y=\"-1047.8\" font-family=\"Times,serif\" font-size=\"14.00\" fill=\"#000000\">samples = 109</text>\n<text text-anchor=\"middle\" x=\"1846\" y=\"-1032.8\" font-family=\"Times,serif\" font-size=\"14.00\" fill=\"#000000\">value = [4, 96, 9]</text>\n</g>\n<!-- 1&#45;&gt;43 -->\n<g id=\"edge43\" class=\"edge\">\n<title>1&#45;&gt;43</title>\n<path fill=\"none\" stroke=\"#000000\" d=\"M1846,-1128.9465C1846,-1120.776 1846,-1111.9318 1846,-1103.3697\"/>\n<polygon fill=\"#000000\" stroke=\"#000000\" points=\"1849.5001,-1103.13 1846,-1093.13 1842.5001,-1103.13 1849.5001,-1103.13\"/>\n</g>\n<!-- 3 -->\n<g id=\"node4\" class=\"node\">\n<title>3</title>\n<polygon fill=\"none\" stroke=\"#000000\" points=\"804,-989 688,-989 688,-921 804,-921 804,-989\"/>\n<text text-anchor=\"middle\" x=\"746\" y=\"-973.8\" font-family=\"Times,serif\" font-size=\"14.00\" fill=\"#000000\">X[2] &lt;= 1.5</text>\n<text text-anchor=\"middle\" x=\"746\" y=\"-958.8\" font-family=\"Times,serif\" font-size=\"14.00\" fill=\"#000000\">entropy = 0.619</text>\n<text text-anchor=\"middle\" x=\"746\" y=\"-943.8\" font-family=\"Times,serif\" font-size=\"14.00\" fill=\"#000000\">samples = 13</text>\n<text text-anchor=\"middle\" x=\"746\" y=\"-928.8\" font-family=\"Times,serif\" font-size=\"14.00\" fill=\"#000000\">value = [2, 0, 11]</text>\n</g>\n<!-- 2&#45;&gt;3 -->\n<g id=\"edge3\" class=\"edge\">\n<title>2&#45;&gt;3</title>\n<path fill=\"none\" stroke=\"#000000\" d=\"M886.4369,-1026.948C863.1945,-1015.0405 836.7414,-1001.4882 813.1091,-989.381\"/>\n<polygon fill=\"#000000\" stroke=\"#000000\" points=\"814.6983,-986.2627 804.2024,-984.818 811.5066,-992.4927 814.6983,-986.2627\"/>\n</g>\n<!-- 6 -->\n<g id=\"node7\" class=\"node\">\n<title>6</title>\n<polygon fill=\"none\" stroke=\"#000000\" points=\"1011.5,-989 886.5,-989 886.5,-921 1011.5,-921 1011.5,-989\"/>\n<text text-anchor=\"middle\" x=\"949\" y=\"-973.8\" font-family=\"Times,serif\" font-size=\"14.00\" fill=\"#000000\">X[2] &lt;= 1.5</text>\n<text text-anchor=\"middle\" x=\"949\" y=\"-958.8\" font-family=\"Times,serif\" font-size=\"14.00\" fill=\"#000000\">entropy = 1.43</text>\n<text text-anchor=\"middle\" x=\"949\" y=\"-943.8\" font-family=\"Times,serif\" font-size=\"14.00\" fill=\"#000000\">samples = 46</text>\n<text text-anchor=\"middle\" x=\"949\" y=\"-928.8\" font-family=\"Times,serif\" font-size=\"14.00\" fill=\"#000000\">value = [7, 24, 15]</text>\n</g>\n<!-- 2&#45;&gt;6 -->\n<g id=\"edge6\" class=\"edge\">\n<title>2&#45;&gt;6</title>\n<path fill=\"none\" stroke=\"#000000\" d=\"M949,-1024.9465C949,-1016.776 949,-1007.9318 949,-999.3697\"/>\n<polygon fill=\"#000000\" stroke=\"#000000\" points=\"952.5001,-999.13 949,-989.13 945.5001,-999.13 952.5001,-999.13\"/>\n</g>\n<!-- 4 -->\n<g id=\"node5\" class=\"node\">\n<title>4</title>\n<polygon fill=\"none\" stroke=\"#000000\" points=\"670,-877.5 560,-877.5 560,-824.5 670,-824.5 670,-877.5\"/>\n<text text-anchor=\"middle\" x=\"615\" y=\"-862.3\" font-family=\"Times,serif\" font-size=\"14.00\" fill=\"#000000\">entropy = 0.0</text>\n<text text-anchor=\"middle\" x=\"615\" y=\"-847.3\" font-family=\"Times,serif\" font-size=\"14.00\" fill=\"#000000\">samples = 2</text>\n<text text-anchor=\"middle\" x=\"615\" y=\"-832.3\" font-family=\"Times,serif\" font-size=\"14.00\" fill=\"#000000\">value = [2, 0, 0]</text>\n</g>\n<!-- 3&#45;&gt;4 -->\n<g id=\"edge4\" class=\"edge\">\n<title>3&#45;&gt;4</title>\n<path fill=\"none\" stroke=\"#000000\" d=\"M703.1057,-920.9465C688.1212,-909.0504 671.3376,-895.726 656.4712,-883.9237\"/>\n<polygon fill=\"#000000\" stroke=\"#000000\" points=\"658.4411,-881.0187 648.4329,-877.5422 654.0887,-886.5011 658.4411,-881.0187\"/>\n</g>\n<!-- 5 -->\n<g id=\"node6\" class=\"node\">\n<title>5</title>\n<polygon fill=\"none\" stroke=\"#000000\" points=\"804,-877.5 688,-877.5 688,-824.5 804,-824.5 804,-877.5\"/>\n<text text-anchor=\"middle\" x=\"746\" y=\"-862.3\" font-family=\"Times,serif\" font-size=\"14.00\" fill=\"#000000\">entropy = 0.0</text>\n<text text-anchor=\"middle\" x=\"746\" y=\"-847.3\" font-family=\"Times,serif\" font-size=\"14.00\" fill=\"#000000\">samples = 11</text>\n<text text-anchor=\"middle\" x=\"746\" y=\"-832.3\" font-family=\"Times,serif\" font-size=\"14.00\" fill=\"#000000\">value = [0, 0, 11]</text>\n</g>\n<!-- 3&#45;&gt;5 -->\n<g id=\"edge5\" class=\"edge\">\n<title>3&#45;&gt;5</title>\n<path fill=\"none\" stroke=\"#000000\" d=\"M746,-920.9465C746,-910.2621 746,-898.4254 746,-887.5742\"/>\n<polygon fill=\"#000000\" stroke=\"#000000\" points=\"749.5001,-887.5421 746,-877.5422 742.5001,-887.5422 749.5001,-887.5421\"/>\n</g>\n<!-- 7 -->\n<g id=\"node8\" class=\"node\">\n<title>7</title>\n<polygon fill=\"none\" stroke=\"#000000\" points=\"932,-877.5 822,-877.5 822,-824.5 932,-824.5 932,-877.5\"/>\n<text text-anchor=\"middle\" x=\"877\" y=\"-862.3\" font-family=\"Times,serif\" font-size=\"14.00\" fill=\"#000000\">entropy = 0.0</text>\n<text text-anchor=\"middle\" x=\"877\" y=\"-847.3\" font-family=\"Times,serif\" font-size=\"14.00\" fill=\"#000000\">samples = 9</text>\n<text text-anchor=\"middle\" x=\"877\" y=\"-832.3\" font-family=\"Times,serif\" font-size=\"14.00\" fill=\"#000000\">value = [0, 9, 0]</text>\n</g>\n<!-- 6&#45;&gt;7 -->\n<g id=\"edge7\" class=\"edge\">\n<title>6&#45;&gt;7</title>\n<path fill=\"none\" stroke=\"#000000\" d=\"M925.4245,-920.9465C917.6463,-909.7113 908.9861,-897.2021 901.1645,-885.9043\"/>\n<polygon fill=\"#000000\" stroke=\"#000000\" points=\"903.9452,-883.7719 895.3753,-877.5422 898.1898,-887.7564 903.9452,-883.7719\"/>\n</g>\n<!-- 8 -->\n<g id=\"node9\" class=\"node\">\n<title>8</title>\n<polygon fill=\"none\" stroke=\"#000000\" points=\"1075.5,-885 950.5,-885 950.5,-817 1075.5,-817 1075.5,-885\"/>\n<text text-anchor=\"middle\" x=\"1013\" y=\"-869.8\" font-family=\"Times,serif\" font-size=\"14.00\" fill=\"#000000\">X[3] &lt;= 1.5</text>\n<text text-anchor=\"middle\" x=\"1013\" y=\"-854.8\" font-family=\"Times,serif\" font-size=\"14.00\" fill=\"#000000\">entropy = 1.511</text>\n<text text-anchor=\"middle\" x=\"1013\" y=\"-839.8\" font-family=\"Times,serif\" font-size=\"14.00\" fill=\"#000000\">samples = 37</text>\n<text text-anchor=\"middle\" x=\"1013\" y=\"-824.8\" font-family=\"Times,serif\" font-size=\"14.00\" fill=\"#000000\">value = [7, 15, 15]</text>\n</g>\n<!-- 6&#45;&gt;8 -->\n<g id=\"edge8\" class=\"edge\">\n<title>6&#45;&gt;8</title>\n<path fill=\"none\" stroke=\"#000000\" d=\"M969.956,-920.9465C975.3155,-912.2373 981.1461,-902.7626 986.7353,-893.6801\"/>\n<polygon fill=\"#000000\" stroke=\"#000000\" points=\"989.7367,-895.481 991.9969,-885.13 983.7751,-891.8122 989.7367,-895.481\"/>\n</g>\n<!-- 9 -->\n<g id=\"node10\" class=\"node\">\n<title>9</title>\n<polygon fill=\"none\" stroke=\"#000000\" points=\"689.5,-781 572.5,-781 572.5,-713 689.5,-713 689.5,-781\"/>\n<text text-anchor=\"middle\" x=\"631\" y=\"-765.8\" font-family=\"Times,serif\" font-size=\"14.00\" fill=\"#000000\">X[1] &lt;= 1.5</text>\n<text text-anchor=\"middle\" x=\"631\" y=\"-750.8\" font-family=\"Times,serif\" font-size=\"14.00\" fill=\"#000000\">entropy = 1.252</text>\n<text text-anchor=\"middle\" x=\"631\" y=\"-735.8\" font-family=\"Times,serif\" font-size=\"14.00\" fill=\"#000000\">samples = 18</text>\n<text text-anchor=\"middle\" x=\"631\" y=\"-720.8\" font-family=\"Times,serif\" font-size=\"14.00\" fill=\"#000000\">value = [3, 12, 3]</text>\n</g>\n<!-- 8&#45;&gt;9 -->\n<g id=\"edge9\" class=\"edge\">\n<title>8&#45;&gt;9</title>\n<path fill=\"none\" stroke=\"#000000\" d=\"M950.11,-820.3466C947.0534,-819.1588 944.0062,-818.0352 941,-817 860.0364,-789.1204 763.3064,-769.3174 699.6826,-758.0447\"/>\n<polygon fill=\"#000000\" stroke=\"#000000\" points=\"700.2167,-754.5851 689.7631,-756.3089 699.01,-761.4803 700.2167,-754.5851\"/>\n</g>\n<!-- 22 -->\n<g id=\"node23\" class=\"node\">\n<title>22</title>\n<polygon fill=\"none\" stroke=\"#000000\" points=\"1071.5,-781 954.5,-781 954.5,-713 1071.5,-713 1071.5,-781\"/>\n<text text-anchor=\"middle\" x=\"1013\" y=\"-765.8\" font-family=\"Times,serif\" font-size=\"14.00\" fill=\"#000000\">X[1] &lt;= 1.5</text>\n<text text-anchor=\"middle\" x=\"1013\" y=\"-750.8\" font-family=\"Times,serif\" font-size=\"14.00\" fill=\"#000000\">entropy = 1.312</text>\n<text text-anchor=\"middle\" x=\"1013\" y=\"-735.8\" font-family=\"Times,serif\" font-size=\"14.00\" fill=\"#000000\">samples = 19</text>\n<text text-anchor=\"middle\" x=\"1013\" y=\"-720.8\" font-family=\"Times,serif\" font-size=\"14.00\" fill=\"#000000\">value = [4, 3, 12]</text>\n</g>\n<!-- 8&#45;&gt;22 -->\n<g id=\"edge22\" class=\"edge\">\n<title>8&#45;&gt;22</title>\n<path fill=\"none\" stroke=\"#000000\" d=\"M1013,-816.9465C1013,-808.776 1013,-799.9318 1013,-791.3697\"/>\n<polygon fill=\"#000000\" stroke=\"#000000\" points=\"1016.5001,-791.13 1013,-781.13 1009.5001,-791.13 1016.5001,-791.13\"/>\n</g>\n<!-- 10 -->\n<g id=\"node11\" class=\"node\">\n<title>10</title>\n<polygon fill=\"none\" stroke=\"#000000\" points=\"430,-677 320,-677 320,-609 430,-609 430,-677\"/>\n<text text-anchor=\"middle\" x=\"375\" y=\"-661.8\" font-family=\"Times,serif\" font-size=\"14.00\" fill=\"#000000\">X[2] &lt;= 3.5</text>\n<text text-anchor=\"middle\" x=\"375\" y=\"-646.8\" font-family=\"Times,serif\" font-size=\"14.00\" fill=\"#000000\">entropy = 1.53</text>\n<text text-anchor=\"middle\" x=\"375\" y=\"-631.8\" font-family=\"Times,serif\" font-size=\"14.00\" fill=\"#000000\">samples = 9</text>\n<text text-anchor=\"middle\" x=\"375\" y=\"-616.8\" font-family=\"Times,serif\" font-size=\"14.00\" fill=\"#000000\">value = [3, 4, 2]</text>\n</g>\n<!-- 9&#45;&gt;10 -->\n<g id=\"edge10\" class=\"edge\">\n<title>9&#45;&gt;10</title>\n<path fill=\"none\" stroke=\"#000000\" d=\"M572.2684,-723.1403C532.69,-707.0616 480.4677,-685.8462 439.6969,-669.2831\"/>\n<polygon fill=\"#000000\" stroke=\"#000000\" points=\"440.9713,-666.0231 430.3893,-665.5019 438.3366,-672.5084 440.9713,-666.0231\"/>\n</g>\n<!-- 17 -->\n<g id=\"node18\" class=\"node\">\n<title>17</title>\n<polygon fill=\"none\" stroke=\"#000000\" points=\"686,-677 576,-677 576,-609 686,-609 686,-677\"/>\n<text text-anchor=\"middle\" x=\"631\" y=\"-661.8\" font-family=\"Times,serif\" font-size=\"14.00\" fill=\"#000000\">X[0] &lt;= 2.5</text>\n<text text-anchor=\"middle\" x=\"631\" y=\"-646.8\" font-family=\"Times,serif\" font-size=\"14.00\" fill=\"#000000\">entropy = 0.503</text>\n<text text-anchor=\"middle\" x=\"631\" y=\"-631.8\" font-family=\"Times,serif\" font-size=\"14.00\" fill=\"#000000\">samples = 9</text>\n<text text-anchor=\"middle\" x=\"631\" y=\"-616.8\" font-family=\"Times,serif\" font-size=\"14.00\" fill=\"#000000\">value = [0, 8, 1]</text>\n</g>\n<!-- 9&#45;&gt;17 -->\n<g id=\"edge17\" class=\"edge\">\n<title>9&#45;&gt;17</title>\n<path fill=\"none\" stroke=\"#000000\" d=\"M631,-712.9465C631,-704.776 631,-695.9318 631,-687.3697\"/>\n<polygon fill=\"#000000\" stroke=\"#000000\" points=\"634.5001,-687.13 631,-677.13 627.5001,-687.13 634.5001,-687.13\"/>\n</g>\n<!-- 11 -->\n<g id=\"node12\" class=\"node\">\n<title>11</title>\n<polygon fill=\"none\" stroke=\"#000000\" points=\"238,-573 128,-573 128,-505 238,-505 238,-573\"/>\n<text text-anchor=\"middle\" x=\"183\" y=\"-557.8\" font-family=\"Times,serif\" font-size=\"14.00\" fill=\"#000000\">X[0] &lt;= 3.0</text>\n<text text-anchor=\"middle\" x=\"183\" y=\"-542.8\" font-family=\"Times,serif\" font-size=\"14.00\" fill=\"#000000\">entropy = 0.722</text>\n<text text-anchor=\"middle\" x=\"183\" y=\"-527.8\" font-family=\"Times,serif\" font-size=\"14.00\" fill=\"#000000\">samples = 5</text>\n<text text-anchor=\"middle\" x=\"183\" y=\"-512.8\" font-family=\"Times,serif\" font-size=\"14.00\" fill=\"#000000\">value = [1, 4, 0]</text>\n</g>\n<!-- 10&#45;&gt;11 -->\n<g id=\"edge11\" class=\"edge\">\n<title>10&#45;&gt;11</title>\n<path fill=\"none\" stroke=\"#000000\" d=\"M319.9805,-613.1978C297.1844,-600.8499 270.5931,-586.4463 246.9364,-573.6322\"/>\n<polygon fill=\"#000000\" stroke=\"#000000\" points=\"248.4875,-570.4919 238.0275,-568.8066 245.1535,-576.647 248.4875,-570.4919\"/>\n</g>\n<!-- 14 -->\n<g id=\"node15\" class=\"node\">\n<title>14</title>\n<polygon fill=\"none\" stroke=\"#000000\" points=\"430,-573 320,-573 320,-505 430,-505 430,-573\"/>\n<text text-anchor=\"middle\" x=\"375\" y=\"-557.8\" font-family=\"Times,serif\" font-size=\"14.00\" fill=\"#000000\">X[0] &lt;= 3.5</text>\n<text text-anchor=\"middle\" x=\"375\" y=\"-542.8\" font-family=\"Times,serif\" font-size=\"14.00\" fill=\"#000000\">entropy = 1.0</text>\n<text text-anchor=\"middle\" x=\"375\" y=\"-527.8\" font-family=\"Times,serif\" font-size=\"14.00\" fill=\"#000000\">samples = 4</text>\n<text text-anchor=\"middle\" x=\"375\" y=\"-512.8\" font-family=\"Times,serif\" font-size=\"14.00\" fill=\"#000000\">value = [2, 0, 2]</text>\n</g>\n<!-- 10&#45;&gt;14 -->\n<g id=\"edge14\" class=\"edge\">\n<title>10&#45;&gt;14</title>\n<path fill=\"none\" stroke=\"#000000\" d=\"M375,-608.9465C375,-600.776 375,-591.9318 375,-583.3697\"/>\n<polygon fill=\"#000000\" stroke=\"#000000\" points=\"378.5001,-583.13 375,-573.13 371.5001,-583.13 378.5001,-583.13\"/>\n</g>\n<!-- 12 -->\n<g id=\"node13\" class=\"node\">\n<title>12</title>\n<polygon fill=\"none\" stroke=\"#000000\" points=\"110,-461.5 0,-461.5 0,-408.5 110,-408.5 110,-461.5\"/>\n<text text-anchor=\"middle\" x=\"55\" y=\"-446.3\" font-family=\"Times,serif\" font-size=\"14.00\" fill=\"#000000\">entropy = 0.0</text>\n<text text-anchor=\"middle\" x=\"55\" y=\"-431.3\" font-family=\"Times,serif\" font-size=\"14.00\" fill=\"#000000\">samples = 1</text>\n<text text-anchor=\"middle\" x=\"55\" y=\"-416.3\" font-family=\"Times,serif\" font-size=\"14.00\" fill=\"#000000\">value = [1, 0, 0]</text>\n</g>\n<!-- 11&#45;&gt;12 -->\n<g id=\"edge12\" class=\"edge\">\n<title>11&#45;&gt;12</title>\n<path fill=\"none\" stroke=\"#000000\" d=\"M141.088,-504.9465C126.4467,-493.0504 110.0474,-479.726 95.5215,-467.9237\"/>\n<polygon fill=\"#000000\" stroke=\"#000000\" points=\"97.6355,-465.1317 87.6673,-461.5422 93.2214,-470.5645 97.6355,-465.1317\"/>\n</g>\n<!-- 13 -->\n<g id=\"node14\" class=\"node\">\n<title>13</title>\n<polygon fill=\"none\" stroke=\"#000000\" points=\"238,-461.5 128,-461.5 128,-408.5 238,-408.5 238,-461.5\"/>\n<text text-anchor=\"middle\" x=\"183\" y=\"-446.3\" font-family=\"Times,serif\" font-size=\"14.00\" fill=\"#000000\">entropy = 0.0</text>\n<text text-anchor=\"middle\" x=\"183\" y=\"-431.3\" font-family=\"Times,serif\" font-size=\"14.00\" fill=\"#000000\">samples = 4</text>\n<text text-anchor=\"middle\" x=\"183\" y=\"-416.3\" font-family=\"Times,serif\" font-size=\"14.00\" fill=\"#000000\">value = [0, 4, 0]</text>\n</g>\n<!-- 11&#45;&gt;13 -->\n<g id=\"edge13\" class=\"edge\">\n<title>11&#45;&gt;13</title>\n<path fill=\"none\" stroke=\"#000000\" d=\"M183,-504.9465C183,-494.2621 183,-482.4254 183,-471.5742\"/>\n<polygon fill=\"#000000\" stroke=\"#000000\" points=\"186.5001,-471.5421 183,-461.5422 179.5001,-471.5422 186.5001,-471.5421\"/>\n</g>\n<!-- 15 -->\n<g id=\"node16\" class=\"node\">\n<title>15</title>\n<polygon fill=\"none\" stroke=\"#000000\" points=\"366,-461.5 256,-461.5 256,-408.5 366,-408.5 366,-461.5\"/>\n<text text-anchor=\"middle\" x=\"311\" y=\"-446.3\" font-family=\"Times,serif\" font-size=\"14.00\" fill=\"#000000\">entropy = 0.0</text>\n<text text-anchor=\"middle\" x=\"311\" y=\"-431.3\" font-family=\"Times,serif\" font-size=\"14.00\" fill=\"#000000\">samples = 2</text>\n<text text-anchor=\"middle\" x=\"311\" y=\"-416.3\" font-family=\"Times,serif\" font-size=\"14.00\" fill=\"#000000\">value = [0, 0, 2]</text>\n</g>\n<!-- 14&#45;&gt;15 -->\n<g id=\"edge15\" class=\"edge\">\n<title>14&#45;&gt;15</title>\n<path fill=\"none\" stroke=\"#000000\" d=\"M354.044,-504.9465C347.1978,-493.8215 339.5829,-481.4473 332.6843,-470.237\"/>\n<polygon fill=\"#000000\" stroke=\"#000000\" points=\"335.5555,-468.2244 327.3336,-461.5422 329.5939,-471.8931 335.5555,-468.2244\"/>\n</g>\n<!-- 16 -->\n<g id=\"node17\" class=\"node\">\n<title>16</title>\n<polygon fill=\"none\" stroke=\"#000000\" points=\"494,-461.5 384,-461.5 384,-408.5 494,-408.5 494,-461.5\"/>\n<text text-anchor=\"middle\" x=\"439\" y=\"-446.3\" font-family=\"Times,serif\" font-size=\"14.00\" fill=\"#000000\">entropy = 0.0</text>\n<text text-anchor=\"middle\" x=\"439\" y=\"-431.3\" font-family=\"Times,serif\" font-size=\"14.00\" fill=\"#000000\">samples = 2</text>\n<text text-anchor=\"middle\" x=\"439\" y=\"-416.3\" font-family=\"Times,serif\" font-size=\"14.00\" fill=\"#000000\">value = [2, 0, 0]</text>\n</g>\n<!-- 14&#45;&gt;16 -->\n<g id=\"edge16\" class=\"edge\">\n<title>14&#45;&gt;16</title>\n<path fill=\"none\" stroke=\"#000000\" d=\"M395.956,-504.9465C402.8022,-493.8215 410.4171,-481.4473 417.3157,-470.237\"/>\n<polygon fill=\"#000000\" stroke=\"#000000\" points=\"420.4061,-471.8931 422.6664,-461.5422 414.4445,-468.2244 420.4061,-471.8931\"/>\n</g>\n<!-- 18 -->\n<g id=\"node19\" class=\"node\">\n<title>18</title>\n<polygon fill=\"none\" stroke=\"#000000\" points=\"622,-573 512,-573 512,-505 622,-505 622,-573\"/>\n<text text-anchor=\"middle\" x=\"567\" y=\"-557.8\" font-family=\"Times,serif\" font-size=\"14.00\" fill=\"#000000\">X[2] &lt;= 4.0</text>\n<text text-anchor=\"middle\" x=\"567\" y=\"-542.8\" font-family=\"Times,serif\" font-size=\"14.00\" fill=\"#000000\">entropy = 0.918</text>\n<text text-anchor=\"middle\" x=\"567\" y=\"-527.8\" font-family=\"Times,serif\" font-size=\"14.00\" fill=\"#000000\">samples = 3</text>\n<text text-anchor=\"middle\" x=\"567\" y=\"-512.8\" font-family=\"Times,serif\" font-size=\"14.00\" fill=\"#000000\">value = [0, 2, 1]</text>\n</g>\n<!-- 17&#45;&gt;18 -->\n<g id=\"edge18\" class=\"edge\">\n<title>17&#45;&gt;18</title>\n<path fill=\"none\" stroke=\"#000000\" d=\"M610.044,-608.9465C604.6845,-600.2373 598.8539,-590.7626 593.2647,-581.6801\"/>\n<polygon fill=\"#000000\" stroke=\"#000000\" points=\"596.2249,-579.8122 588.0031,-573.13 590.2633,-583.481 596.2249,-579.8122\"/>\n</g>\n<!-- 21 -->\n<g id=\"node22\" class=\"node\">\n<title>21</title>\n<polygon fill=\"none\" stroke=\"#000000\" points=\"750,-565.5 640,-565.5 640,-512.5 750,-512.5 750,-565.5\"/>\n<text text-anchor=\"middle\" x=\"695\" y=\"-550.3\" font-family=\"Times,serif\" font-size=\"14.00\" fill=\"#000000\">entropy = 0.0</text>\n<text text-anchor=\"middle\" x=\"695\" y=\"-535.3\" font-family=\"Times,serif\" font-size=\"14.00\" fill=\"#000000\">samples = 6</text>\n<text text-anchor=\"middle\" x=\"695\" y=\"-520.3\" font-family=\"Times,serif\" font-size=\"14.00\" fill=\"#000000\">value = [0, 6, 0]</text>\n</g>\n<!-- 17&#45;&gt;21 -->\n<g id=\"edge21\" class=\"edge\">\n<title>17&#45;&gt;21</title>\n<path fill=\"none\" stroke=\"#000000\" d=\"M651.956,-608.9465C658.8022,-597.8215 666.4171,-585.4473 673.3157,-574.237\"/>\n<polygon fill=\"#000000\" stroke=\"#000000\" points=\"676.4061,-575.8931 678.6664,-565.5422 670.4445,-572.2244 676.4061,-575.8931\"/>\n</g>\n<!-- 19 -->\n<g id=\"node20\" class=\"node\">\n<title>19</title>\n<polygon fill=\"none\" stroke=\"#000000\" points=\"622,-461.5 512,-461.5 512,-408.5 622,-408.5 622,-461.5\"/>\n<text text-anchor=\"middle\" x=\"567\" y=\"-446.3\" font-family=\"Times,serif\" font-size=\"14.00\" fill=\"#000000\">entropy = 0.0</text>\n<text text-anchor=\"middle\" x=\"567\" y=\"-431.3\" font-family=\"Times,serif\" font-size=\"14.00\" fill=\"#000000\">samples = 2</text>\n<text text-anchor=\"middle\" x=\"567\" y=\"-416.3\" font-family=\"Times,serif\" font-size=\"14.00\" fill=\"#000000\">value = [0, 2, 0]</text>\n</g>\n<!-- 18&#45;&gt;19 -->\n<g id=\"edge19\" class=\"edge\">\n<title>18&#45;&gt;19</title>\n<path fill=\"none\" stroke=\"#000000\" d=\"M567,-504.9465C567,-494.2621 567,-482.4254 567,-471.5742\"/>\n<polygon fill=\"#000000\" stroke=\"#000000\" points=\"570.5001,-471.5421 567,-461.5422 563.5001,-471.5422 570.5001,-471.5421\"/>\n</g>\n<!-- 20 -->\n<g id=\"node21\" class=\"node\">\n<title>20</title>\n<polygon fill=\"none\" stroke=\"#000000\" points=\"750,-461.5 640,-461.5 640,-408.5 750,-408.5 750,-461.5\"/>\n<text text-anchor=\"middle\" x=\"695\" y=\"-446.3\" font-family=\"Times,serif\" font-size=\"14.00\" fill=\"#000000\">entropy = 0.0</text>\n<text text-anchor=\"middle\" x=\"695\" y=\"-431.3\" font-family=\"Times,serif\" font-size=\"14.00\" fill=\"#000000\">samples = 1</text>\n<text text-anchor=\"middle\" x=\"695\" y=\"-416.3\" font-family=\"Times,serif\" font-size=\"14.00\" fill=\"#000000\">value = [0, 0, 1]</text>\n</g>\n<!-- 18&#45;&gt;20 -->\n<g id=\"edge20\" class=\"edge\">\n<title>18&#45;&gt;20</title>\n<path fill=\"none\" stroke=\"#000000\" d=\"M608.912,-504.9465C623.5533,-493.0504 639.9526,-479.726 654.4785,-467.9237\"/>\n<polygon fill=\"#000000\" stroke=\"#000000\" points=\"656.7786,-470.5645 662.3327,-461.5422 652.3645,-465.1317 656.7786,-470.5645\"/>\n</g>\n<!-- 23 -->\n<g id=\"node24\" class=\"node\">\n<title>23</title>\n<polygon fill=\"none\" stroke=\"#000000\" points=\"1006,-677 896,-677 896,-609 1006,-609 1006,-677\"/>\n<text text-anchor=\"middle\" x=\"951\" y=\"-661.8\" font-family=\"Times,serif\" font-size=\"14.00\" fill=\"#000000\">X[2] &lt;= 2.5</text>\n<text text-anchor=\"middle\" x=\"951\" y=\"-646.8\" font-family=\"Times,serif\" font-size=\"14.00\" fill=\"#000000\">entropy = 0.469</text>\n<text text-anchor=\"middle\" x=\"951\" y=\"-631.8\" font-family=\"Times,serif\" font-size=\"14.00\" fill=\"#000000\">samples = 10</text>\n<text text-anchor=\"middle\" x=\"951\" y=\"-616.8\" font-family=\"Times,serif\" font-size=\"14.00\" fill=\"#000000\">value = [1, 0, 9]</text>\n</g>\n<!-- 22&#45;&gt;23 -->\n<g id=\"edge23\" class=\"edge\">\n<title>22&#45;&gt;23</title>\n<path fill=\"none\" stroke=\"#000000\" d=\"M992.6989,-712.9465C987.5604,-704.3271 981.9749,-694.9579 976.6114,-685.9611\"/>\n<polygon fill=\"#000000\" stroke=\"#000000\" points=\"979.4737,-683.9272 971.3467,-677.13 973.4611,-687.5117 979.4737,-683.9272\"/>\n</g>\n<!-- 28 -->\n<g id=\"node29\" class=\"node\">\n<title>28</title>\n<polygon fill=\"none\" stroke=\"#000000\" points=\"1134,-677 1024,-677 1024,-609 1134,-609 1134,-677\"/>\n<text text-anchor=\"middle\" x=\"1079\" y=\"-661.8\" font-family=\"Times,serif\" font-size=\"14.00\" fill=\"#000000\">X[2] &lt;= 4.5</text>\n<text text-anchor=\"middle\" x=\"1079\" y=\"-646.8\" font-family=\"Times,serif\" font-size=\"14.00\" fill=\"#000000\">entropy = 1.585</text>\n<text text-anchor=\"middle\" x=\"1079\" y=\"-631.8\" font-family=\"Times,serif\" font-size=\"14.00\" fill=\"#000000\">samples = 9</text>\n<text text-anchor=\"middle\" x=\"1079\" y=\"-616.8\" font-family=\"Times,serif\" font-size=\"14.00\" fill=\"#000000\">value = [3, 3, 3]</text>\n</g>\n<!-- 22&#45;&gt;28 -->\n<g id=\"edge28\" class=\"edge\">\n<title>22&#45;&gt;28</title>\n<path fill=\"none\" stroke=\"#000000\" d=\"M1034.6109,-712.9465C1040.1378,-704.2373 1046.1506,-694.7626 1051.9146,-685.6801\"/>\n<polygon fill=\"#000000\" stroke=\"#000000\" points=\"1054.9374,-687.4487 1057.3406,-677.13 1049.0271,-683.6979 1054.9374,-687.4487\"/>\n</g>\n<!-- 24 -->\n<g id=\"node25\" class=\"node\">\n<title>24</title>\n<polygon fill=\"none\" stroke=\"#000000\" points=\"878,-573 768,-573 768,-505 878,-505 878,-573\"/>\n<text text-anchor=\"middle\" x=\"823\" y=\"-557.8\" font-family=\"Times,serif\" font-size=\"14.00\" fill=\"#000000\">X[0] &lt;= 3.5</text>\n<text text-anchor=\"middle\" x=\"823\" y=\"-542.8\" font-family=\"Times,serif\" font-size=\"14.00\" fill=\"#000000\">entropy = 0.918</text>\n<text text-anchor=\"middle\" x=\"823\" y=\"-527.8\" font-family=\"Times,serif\" font-size=\"14.00\" fill=\"#000000\">samples = 3</text>\n<text text-anchor=\"middle\" x=\"823\" y=\"-512.8\" font-family=\"Times,serif\" font-size=\"14.00\" fill=\"#000000\">value = [1, 0, 2]</text>\n</g>\n<!-- 23&#45;&gt;24 -->\n<g id=\"edge24\" class=\"edge\">\n<title>23&#45;&gt;24</title>\n<path fill=\"none\" stroke=\"#000000\" d=\"M909.088,-608.9465C897.485,-599.519 884.7779,-589.1946 872.7741,-579.4415\"/>\n<polygon fill=\"#000000\" stroke=\"#000000\" points=\"874.9744,-576.7196 865.0061,-573.13 870.5602,-582.1524 874.9744,-576.7196\"/>\n</g>\n<!-- 27 -->\n<g id=\"node28\" class=\"node\">\n<title>27</title>\n<polygon fill=\"none\" stroke=\"#000000\" points=\"1006,-565.5 896,-565.5 896,-512.5 1006,-512.5 1006,-565.5\"/>\n<text text-anchor=\"middle\" x=\"951\" y=\"-550.3\" font-family=\"Times,serif\" font-size=\"14.00\" fill=\"#000000\">entropy = 0.0</text>\n<text text-anchor=\"middle\" x=\"951\" y=\"-535.3\" font-family=\"Times,serif\" font-size=\"14.00\" fill=\"#000000\">samples = 7</text>\n<text text-anchor=\"middle\" x=\"951\" y=\"-520.3\" font-family=\"Times,serif\" font-size=\"14.00\" fill=\"#000000\">value = [0, 0, 7]</text>\n</g>\n<!-- 23&#45;&gt;27 -->\n<g id=\"edge27\" class=\"edge\">\n<title>23&#45;&gt;27</title>\n<path fill=\"none\" stroke=\"#000000\" d=\"M951,-608.9465C951,-598.2621 951,-586.4254 951,-575.5742\"/>\n<polygon fill=\"#000000\" stroke=\"#000000\" points=\"954.5001,-575.5421 951,-565.5422 947.5001,-575.5422 954.5001,-575.5421\"/>\n</g>\n<!-- 25 -->\n<g id=\"node26\" class=\"node\">\n<title>25</title>\n<polygon fill=\"none\" stroke=\"#000000\" points=\"878,-461.5 768,-461.5 768,-408.5 878,-408.5 878,-461.5\"/>\n<text text-anchor=\"middle\" x=\"823\" y=\"-446.3\" font-family=\"Times,serif\" font-size=\"14.00\" fill=\"#000000\">entropy = 0.0</text>\n<text text-anchor=\"middle\" x=\"823\" y=\"-431.3\" font-family=\"Times,serif\" font-size=\"14.00\" fill=\"#000000\">samples = 2</text>\n<text text-anchor=\"middle\" x=\"823\" y=\"-416.3\" font-family=\"Times,serif\" font-size=\"14.00\" fill=\"#000000\">value = [0, 0, 2]</text>\n</g>\n<!-- 24&#45;&gt;25 -->\n<g id=\"edge25\" class=\"edge\">\n<title>24&#45;&gt;25</title>\n<path fill=\"none\" stroke=\"#000000\" d=\"M823,-504.9465C823,-494.2621 823,-482.4254 823,-471.5742\"/>\n<polygon fill=\"#000000\" stroke=\"#000000\" points=\"826.5001,-471.5421 823,-461.5422 819.5001,-471.5422 826.5001,-471.5421\"/>\n</g>\n<!-- 26 -->\n<g id=\"node27\" class=\"node\">\n<title>26</title>\n<polygon fill=\"none\" stroke=\"#000000\" points=\"1006,-461.5 896,-461.5 896,-408.5 1006,-408.5 1006,-461.5\"/>\n<text text-anchor=\"middle\" x=\"951\" y=\"-446.3\" font-family=\"Times,serif\" font-size=\"14.00\" fill=\"#000000\">entropy = 0.0</text>\n<text text-anchor=\"middle\" x=\"951\" y=\"-431.3\" font-family=\"Times,serif\" font-size=\"14.00\" fill=\"#000000\">samples = 1</text>\n<text text-anchor=\"middle\" x=\"951\" y=\"-416.3\" font-family=\"Times,serif\" font-size=\"14.00\" fill=\"#000000\">value = [1, 0, 0]</text>\n</g>\n<!-- 24&#45;&gt;26 -->\n<g id=\"edge26\" class=\"edge\">\n<title>24&#45;&gt;26</title>\n<path fill=\"none\" stroke=\"#000000\" d=\"M864.912,-504.9465C879.5533,-493.0504 895.9526,-479.726 910.4785,-467.9237\"/>\n<polygon fill=\"#000000\" stroke=\"#000000\" points=\"912.7786,-470.5645 918.3327,-461.5422 908.3645,-465.1317 912.7786,-470.5645\"/>\n</g>\n<!-- 29 -->\n<g id=\"node30\" class=\"node\">\n<title>29</title>\n<polygon fill=\"none\" stroke=\"#000000\" points=\"1134,-573 1024,-573 1024,-505 1134,-505 1134,-573\"/>\n<text text-anchor=\"middle\" x=\"1079\" y=\"-557.8\" font-family=\"Times,serif\" font-size=\"14.00\" fill=\"#000000\">X[0] &lt;= 2.5</text>\n<text text-anchor=\"middle\" x=\"1079\" y=\"-542.8\" font-family=\"Times,serif\" font-size=\"14.00\" fill=\"#000000\">entropy = 1.449</text>\n<text text-anchor=\"middle\" x=\"1079\" y=\"-527.8\" font-family=\"Times,serif\" font-size=\"14.00\" fill=\"#000000\">samples = 7</text>\n<text text-anchor=\"middle\" x=\"1079\" y=\"-512.8\" font-family=\"Times,serif\" font-size=\"14.00\" fill=\"#000000\">value = [3, 3, 1]</text>\n</g>\n<!-- 28&#45;&gt;29 -->\n<g id=\"edge29\" class=\"edge\">\n<title>28&#45;&gt;29</title>\n<path fill=\"none\" stroke=\"#000000\" d=\"M1079,-608.9465C1079,-600.776 1079,-591.9318 1079,-583.3697\"/>\n<polygon fill=\"#000000\" stroke=\"#000000\" points=\"1082.5001,-583.13 1079,-573.13 1075.5001,-583.13 1082.5001,-583.13\"/>\n</g>\n<!-- 42 -->\n<g id=\"node43\" class=\"node\">\n<title>42</title>\n<polygon fill=\"none\" stroke=\"#000000\" points=\"1262,-565.5 1152,-565.5 1152,-512.5 1262,-512.5 1262,-565.5\"/>\n<text text-anchor=\"middle\" x=\"1207\" y=\"-550.3\" font-family=\"Times,serif\" font-size=\"14.00\" fill=\"#000000\">entropy = 0.0</text>\n<text text-anchor=\"middle\" x=\"1207\" y=\"-535.3\" font-family=\"Times,serif\" font-size=\"14.00\" fill=\"#000000\">samples = 2</text>\n<text text-anchor=\"middle\" x=\"1207\" y=\"-520.3\" font-family=\"Times,serif\" font-size=\"14.00\" fill=\"#000000\">value = [0, 0, 2]</text>\n</g>\n<!-- 28&#45;&gt;42 -->\n<g id=\"edge42\" class=\"edge\">\n<title>28&#45;&gt;42</title>\n<path fill=\"none\" stroke=\"#000000\" d=\"M1120.912,-608.9465C1135.5533,-597.0504 1151.9526,-583.726 1166.4785,-571.9237\"/>\n<polygon fill=\"#000000\" stroke=\"#000000\" points=\"1168.7786,-574.5645 1174.3327,-565.5422 1164.3645,-569.1317 1168.7786,-574.5645\"/>\n</g>\n<!-- 30 -->\n<g id=\"node31\" class=\"node\">\n<title>30</title>\n<polygon fill=\"none\" stroke=\"#000000\" points=\"1134,-461.5 1024,-461.5 1024,-408.5 1134,-408.5 1134,-461.5\"/>\n<text text-anchor=\"middle\" x=\"1079\" y=\"-446.3\" font-family=\"Times,serif\" font-size=\"14.00\" fill=\"#000000\">entropy = 0.0</text>\n<text text-anchor=\"middle\" x=\"1079\" y=\"-431.3\" font-family=\"Times,serif\" font-size=\"14.00\" fill=\"#000000\">samples = 1</text>\n<text text-anchor=\"middle\" x=\"1079\" y=\"-416.3\" font-family=\"Times,serif\" font-size=\"14.00\" fill=\"#000000\">value = [1, 0, 0]</text>\n</g>\n<!-- 29&#45;&gt;30 -->\n<g id=\"edge30\" class=\"edge\">\n<title>29&#45;&gt;30</title>\n<path fill=\"none\" stroke=\"#000000\" d=\"M1079,-504.9465C1079,-494.2621 1079,-482.4254 1079,-471.5742\"/>\n<polygon fill=\"#000000\" stroke=\"#000000\" points=\"1082.5001,-471.5421 1079,-461.5422 1075.5001,-471.5422 1082.5001,-471.5421\"/>\n</g>\n<!-- 31 -->\n<g id=\"node32\" class=\"node\">\n<title>31</title>\n<polygon fill=\"none\" stroke=\"#000000\" points=\"1262,-469 1152,-469 1152,-401 1262,-401 1262,-469\"/>\n<text text-anchor=\"middle\" x=\"1207\" y=\"-453.8\" font-family=\"Times,serif\" font-size=\"14.00\" fill=\"#000000\">X[2] &lt;= 3.5</text>\n<text text-anchor=\"middle\" x=\"1207\" y=\"-438.8\" font-family=\"Times,serif\" font-size=\"14.00\" fill=\"#000000\">entropy = 1.459</text>\n<text text-anchor=\"middle\" x=\"1207\" y=\"-423.8\" font-family=\"Times,serif\" font-size=\"14.00\" fill=\"#000000\">samples = 6</text>\n<text text-anchor=\"middle\" x=\"1207\" y=\"-408.8\" font-family=\"Times,serif\" font-size=\"14.00\" fill=\"#000000\">value = [2, 3, 1]</text>\n</g>\n<!-- 29&#45;&gt;31 -->\n<g id=\"edge31\" class=\"edge\">\n<title>29&#45;&gt;31</title>\n<path fill=\"none\" stroke=\"#000000\" d=\"M1120.912,-504.9465C1132.515,-495.519 1145.2221,-485.1946 1157.2259,-475.4415\"/>\n<polygon fill=\"#000000\" stroke=\"#000000\" points=\"1159.4398,-478.1524 1164.9939,-469.13 1155.0256,-472.7196 1159.4398,-478.1524\"/>\n</g>\n<!-- 32 -->\n<g id=\"node33\" class=\"node\">\n<title>32</title>\n<polygon fill=\"none\" stroke=\"#000000\" points=\"1198,-365 1088,-365 1088,-297 1198,-297 1198,-365\"/>\n<text text-anchor=\"middle\" x=\"1143\" y=\"-349.8\" font-family=\"Times,serif\" font-size=\"14.00\" fill=\"#000000\">X[2] &lt;= 2.5</text>\n<text text-anchor=\"middle\" x=\"1143\" y=\"-334.8\" font-family=\"Times,serif\" font-size=\"14.00\" fill=\"#000000\">entropy = 0.918</text>\n<text text-anchor=\"middle\" x=\"1143\" y=\"-319.8\" font-family=\"Times,serif\" font-size=\"14.00\" fill=\"#000000\">samples = 3</text>\n<text text-anchor=\"middle\" x=\"1143\" y=\"-304.8\" font-family=\"Times,serif\" font-size=\"14.00\" fill=\"#000000\">value = [1, 2, 0]</text>\n</g>\n<!-- 31&#45;&gt;32 -->\n<g id=\"edge32\" class=\"edge\">\n<title>31&#45;&gt;32</title>\n<path fill=\"none\" stroke=\"#000000\" d=\"M1186.044,-400.9465C1180.6845,-392.2373 1174.8539,-382.7626 1169.2647,-373.6801\"/>\n<polygon fill=\"#000000\" stroke=\"#000000\" points=\"1172.2249,-371.8122 1164.0031,-365.13 1166.2633,-375.481 1172.2249,-371.8122\"/>\n</g>\n<!-- 37 -->\n<g id=\"node38\" class=\"node\">\n<title>37</title>\n<polygon fill=\"none\" stroke=\"#000000\" points=\"1326,-365 1216,-365 1216,-297 1326,-297 1326,-365\"/>\n<text text-anchor=\"middle\" x=\"1271\" y=\"-349.8\" font-family=\"Times,serif\" font-size=\"14.00\" fill=\"#000000\">X[0] &lt;= 3.5</text>\n<text text-anchor=\"middle\" x=\"1271\" y=\"-334.8\" font-family=\"Times,serif\" font-size=\"14.00\" fill=\"#000000\">entropy = 1.585</text>\n<text text-anchor=\"middle\" x=\"1271\" y=\"-319.8\" font-family=\"Times,serif\" font-size=\"14.00\" fill=\"#000000\">samples = 3</text>\n<text text-anchor=\"middle\" x=\"1271\" y=\"-304.8\" font-family=\"Times,serif\" font-size=\"14.00\" fill=\"#000000\">value = [1, 1, 1]</text>\n</g>\n<!-- 31&#45;&gt;37 -->\n<g id=\"edge37\" class=\"edge\">\n<title>31&#45;&gt;37</title>\n<path fill=\"none\" stroke=\"#000000\" d=\"M1227.956,-400.9465C1233.3155,-392.2373 1239.1461,-382.7626 1244.7353,-373.6801\"/>\n<polygon fill=\"#000000\" stroke=\"#000000\" points=\"1247.7367,-375.481 1249.9969,-365.13 1241.7751,-371.8122 1247.7367,-375.481\"/>\n</g>\n<!-- 33 -->\n<g id=\"node34\" class=\"node\">\n<title>33</title>\n<polygon fill=\"none\" stroke=\"#000000\" points=\"1070,-253.5 960,-253.5 960,-200.5 1070,-200.5 1070,-253.5\"/>\n<text text-anchor=\"middle\" x=\"1015\" y=\"-238.3\" font-family=\"Times,serif\" font-size=\"14.00\" fill=\"#000000\">entropy = 0.0</text>\n<text text-anchor=\"middle\" x=\"1015\" y=\"-223.3\" font-family=\"Times,serif\" font-size=\"14.00\" fill=\"#000000\">samples = 1</text>\n<text text-anchor=\"middle\" x=\"1015\" y=\"-208.3\" font-family=\"Times,serif\" font-size=\"14.00\" fill=\"#000000\">value = [0, 1, 0]</text>\n</g>\n<!-- 32&#45;&gt;33 -->\n<g id=\"edge33\" class=\"edge\">\n<title>32&#45;&gt;33</title>\n<path fill=\"none\" stroke=\"#000000\" d=\"M1101.088,-296.9465C1086.4467,-285.0504 1070.0474,-271.726 1055.5215,-259.9237\"/>\n<polygon fill=\"#000000\" stroke=\"#000000\" points=\"1057.6355,-257.1317 1047.6673,-253.5422 1053.2214,-262.5645 1057.6355,-257.1317\"/>\n</g>\n<!-- 34 -->\n<g id=\"node35\" class=\"node\">\n<title>34</title>\n<polygon fill=\"none\" stroke=\"#000000\" points=\"1198,-261 1088,-261 1088,-193 1198,-193 1198,-261\"/>\n<text text-anchor=\"middle\" x=\"1143\" y=\"-245.8\" font-family=\"Times,serif\" font-size=\"14.00\" fill=\"#000000\">X[0] &lt;= 3.5</text>\n<text text-anchor=\"middle\" x=\"1143\" y=\"-230.8\" font-family=\"Times,serif\" font-size=\"14.00\" fill=\"#000000\">entropy = 1.0</text>\n<text text-anchor=\"middle\" x=\"1143\" y=\"-215.8\" font-family=\"Times,serif\" font-size=\"14.00\" fill=\"#000000\">samples = 2</text>\n<text text-anchor=\"middle\" x=\"1143\" y=\"-200.8\" font-family=\"Times,serif\" font-size=\"14.00\" fill=\"#000000\">value = [1, 1, 0]</text>\n</g>\n<!-- 32&#45;&gt;34 -->\n<g id=\"edge34\" class=\"edge\">\n<title>32&#45;&gt;34</title>\n<path fill=\"none\" stroke=\"#000000\" d=\"M1143,-296.9465C1143,-288.776 1143,-279.9318 1143,-271.3697\"/>\n<polygon fill=\"#000000\" stroke=\"#000000\" points=\"1146.5001,-271.13 1143,-261.13 1139.5001,-271.13 1146.5001,-271.13\"/>\n</g>\n<!-- 35 -->\n<g id=\"node36\" class=\"node\">\n<title>35</title>\n<polygon fill=\"none\" stroke=\"#000000\" points=\"1102,-149.5 992,-149.5 992,-96.5 1102,-96.5 1102,-149.5\"/>\n<text text-anchor=\"middle\" x=\"1047\" y=\"-134.3\" font-family=\"Times,serif\" font-size=\"14.00\" fill=\"#000000\">entropy = 0.0</text>\n<text text-anchor=\"middle\" x=\"1047\" y=\"-119.3\" font-family=\"Times,serif\" font-size=\"14.00\" fill=\"#000000\">samples = 1</text>\n<text text-anchor=\"middle\" x=\"1047\" y=\"-104.3\" font-family=\"Times,serif\" font-size=\"14.00\" fill=\"#000000\">value = [1, 0, 0]</text>\n</g>\n<!-- 34&#45;&gt;35 -->\n<g id=\"edge35\" class=\"edge\">\n<title>34&#45;&gt;35</title>\n<path fill=\"none\" stroke=\"#000000\" d=\"M1111.566,-192.9465C1100.89,-181.3809 1088.9678,-168.4652 1078.3022,-156.9107\"/>\n<polygon fill=\"#000000\" stroke=\"#000000\" points=\"1080.8551,-154.5162 1071.5005,-149.5422 1075.7115,-159.2642 1080.8551,-154.5162\"/>\n</g>\n<!-- 36 -->\n<g id=\"node37\" class=\"node\">\n<title>36</title>\n<polygon fill=\"none\" stroke=\"#000000\" points=\"1230,-149.5 1120,-149.5 1120,-96.5 1230,-96.5 1230,-149.5\"/>\n<text text-anchor=\"middle\" x=\"1175\" y=\"-134.3\" font-family=\"Times,serif\" font-size=\"14.00\" fill=\"#000000\">entropy = 0.0</text>\n<text text-anchor=\"middle\" x=\"1175\" y=\"-119.3\" font-family=\"Times,serif\" font-size=\"14.00\" fill=\"#000000\">samples = 1</text>\n<text text-anchor=\"middle\" x=\"1175\" y=\"-104.3\" font-family=\"Times,serif\" font-size=\"14.00\" fill=\"#000000\">value = [0, 1, 0]</text>\n</g>\n<!-- 34&#45;&gt;36 -->\n<g id=\"edge36\" class=\"edge\">\n<title>34&#45;&gt;36</title>\n<path fill=\"none\" stroke=\"#000000\" d=\"M1153.478,-192.9465C1156.7994,-182.1519 1160.4827,-170.1813 1163.8496,-159.2389\"/>\n<polygon fill=\"#000000\" stroke=\"#000000\" points=\"1167.2375,-160.1293 1166.8332,-149.5422 1160.547,-158.0706 1167.2375,-160.1293\"/>\n</g>\n<!-- 38 -->\n<g id=\"node39\" class=\"node\">\n<title>38</title>\n<polygon fill=\"none\" stroke=\"#000000\" points=\"1326,-253.5 1216,-253.5 1216,-200.5 1326,-200.5 1326,-253.5\"/>\n<text text-anchor=\"middle\" x=\"1271\" y=\"-238.3\" font-family=\"Times,serif\" font-size=\"14.00\" fill=\"#000000\">entropy = 0.0</text>\n<text text-anchor=\"middle\" x=\"1271\" y=\"-223.3\" font-family=\"Times,serif\" font-size=\"14.00\" fill=\"#000000\">samples = 1</text>\n<text text-anchor=\"middle\" x=\"1271\" y=\"-208.3\" font-family=\"Times,serif\" font-size=\"14.00\" fill=\"#000000\">value = [0, 0, 1]</text>\n</g>\n<!-- 37&#45;&gt;38 -->\n<g id=\"edge38\" class=\"edge\">\n<title>37&#45;&gt;38</title>\n<path fill=\"none\" stroke=\"#000000\" d=\"M1271,-296.9465C1271,-286.2621 1271,-274.4254 1271,-263.5742\"/>\n<polygon fill=\"#000000\" stroke=\"#000000\" points=\"1274.5001,-263.5421 1271,-253.5422 1267.5001,-263.5422 1274.5001,-263.5421\"/>\n</g>\n<!-- 39 -->\n<g id=\"node40\" class=\"node\">\n<title>39</title>\n<polygon fill=\"none\" stroke=\"#000000\" points=\"1454,-261 1344,-261 1344,-193 1454,-193 1454,-261\"/>\n<text text-anchor=\"middle\" x=\"1399\" y=\"-245.8\" font-family=\"Times,serif\" font-size=\"14.00\" fill=\"#000000\">X[0] &lt;= 4.5</text>\n<text text-anchor=\"middle\" x=\"1399\" y=\"-230.8\" font-family=\"Times,serif\" font-size=\"14.00\" fill=\"#000000\">entropy = 1.0</text>\n<text text-anchor=\"middle\" x=\"1399\" y=\"-215.8\" font-family=\"Times,serif\" font-size=\"14.00\" fill=\"#000000\">samples = 2</text>\n<text text-anchor=\"middle\" x=\"1399\" y=\"-200.8\" font-family=\"Times,serif\" font-size=\"14.00\" fill=\"#000000\">value = [1, 1, 0]</text>\n</g>\n<!-- 37&#45;&gt;39 -->\n<g id=\"edge39\" class=\"edge\">\n<title>37&#45;&gt;39</title>\n<path fill=\"none\" stroke=\"#000000\" d=\"M1312.912,-296.9465C1324.515,-287.519 1337.2221,-277.1946 1349.2259,-267.4415\"/>\n<polygon fill=\"#000000\" stroke=\"#000000\" points=\"1351.4398,-270.1524 1356.9939,-261.13 1347.0256,-264.7196 1351.4398,-270.1524\"/>\n</g>\n<!-- 40 -->\n<g id=\"node41\" class=\"node\">\n<title>40</title>\n<polygon fill=\"none\" stroke=\"#000000\" points=\"1422,-149.5 1312,-149.5 1312,-96.5 1422,-96.5 1422,-149.5\"/>\n<text text-anchor=\"middle\" x=\"1367\" y=\"-134.3\" font-family=\"Times,serif\" font-size=\"14.00\" fill=\"#000000\">entropy = 0.0</text>\n<text text-anchor=\"middle\" x=\"1367\" y=\"-119.3\" font-family=\"Times,serif\" font-size=\"14.00\" fill=\"#000000\">samples = 1</text>\n<text text-anchor=\"middle\" x=\"1367\" y=\"-104.3\" font-family=\"Times,serif\" font-size=\"14.00\" fill=\"#000000\">value = [1, 0, 0]</text>\n</g>\n<!-- 39&#45;&gt;40 -->\n<g id=\"edge40\" class=\"edge\">\n<title>39&#45;&gt;40</title>\n<path fill=\"none\" stroke=\"#000000\" d=\"M1388.522,-192.9465C1385.2006,-182.1519 1381.5173,-170.1813 1378.1504,-159.2389\"/>\n<polygon fill=\"#000000\" stroke=\"#000000\" points=\"1381.453,-158.0706 1375.1668,-149.5422 1374.7625,-160.1293 1381.453,-158.0706\"/>\n</g>\n<!-- 41 -->\n<g id=\"node42\" class=\"node\">\n<title>41</title>\n<polygon fill=\"none\" stroke=\"#000000\" points=\"1550,-149.5 1440,-149.5 1440,-96.5 1550,-96.5 1550,-149.5\"/>\n<text text-anchor=\"middle\" x=\"1495\" y=\"-134.3\" font-family=\"Times,serif\" font-size=\"14.00\" fill=\"#000000\">entropy = 0.0</text>\n<text text-anchor=\"middle\" x=\"1495\" y=\"-119.3\" font-family=\"Times,serif\" font-size=\"14.00\" fill=\"#000000\">samples = 1</text>\n<text text-anchor=\"middle\" x=\"1495\" y=\"-104.3\" font-family=\"Times,serif\" font-size=\"14.00\" fill=\"#000000\">value = [0, 1, 0]</text>\n</g>\n<!-- 39&#45;&gt;41 -->\n<g id=\"edge41\" class=\"edge\">\n<title>39&#45;&gt;41</title>\n<path fill=\"none\" stroke=\"#000000\" d=\"M1430.434,-192.9465C1441.11,-181.3809 1453.0322,-168.4652 1463.6978,-156.9107\"/>\n<polygon fill=\"#000000\" stroke=\"#000000\" points=\"1466.2885,-159.2642 1470.4995,-149.5422 1461.1449,-154.5162 1466.2885,-159.2642\"/>\n</g>\n<!-- 44 -->\n<g id=\"node45\" class=\"node\">\n<title>44</title>\n<polygon fill=\"none\" stroke=\"#000000\" points=\"1645,-989 1535,-989 1535,-921 1645,-921 1645,-989\"/>\n<text text-anchor=\"middle\" x=\"1590\" y=\"-973.8\" font-family=\"Times,serif\" font-size=\"14.00\" fill=\"#000000\">X[2] &lt;= 2.5</text>\n<text text-anchor=\"middle\" x=\"1590\" y=\"-958.8\" font-family=\"Times,serif\" font-size=\"14.00\" fill=\"#000000\">entropy = 1.458</text>\n<text text-anchor=\"middle\" x=\"1590\" y=\"-943.8\" font-family=\"Times,serif\" font-size=\"14.00\" fill=\"#000000\">samples = 20</text>\n<text text-anchor=\"middle\" x=\"1590\" y=\"-928.8\" font-family=\"Times,serif\" font-size=\"14.00\" fill=\"#000000\">value = [3, 9, 8]</text>\n</g>\n<!-- 43&#45;&gt;44 -->\n<g id=\"edge44\" class=\"edge\">\n<title>43&#45;&gt;44</title>\n<path fill=\"none\" stroke=\"#000000\" d=\"M1787.2684,-1035.1403C1747.69,-1019.0616 1695.4677,-997.8462 1654.6969,-981.2831\"/>\n<polygon fill=\"#000000\" stroke=\"#000000\" points=\"1655.9713,-978.0231 1645.3893,-977.5019 1653.3366,-984.5084 1655.9713,-978.0231\"/>\n</g>\n<!-- 59 -->\n<g id=\"node60\" class=\"node\">\n<title>59</title>\n<polygon fill=\"none\" stroke=\"#000000\" points=\"1967.5,-989 1850.5,-989 1850.5,-921 1967.5,-921 1967.5,-989\"/>\n<text text-anchor=\"middle\" x=\"1909\" y=\"-973.8\" font-family=\"Times,serif\" font-size=\"14.00\" fill=\"#000000\">X[1] &lt;= 3.5</text>\n<text text-anchor=\"middle\" x=\"1909\" y=\"-958.8\" font-family=\"Times,serif\" font-size=\"14.00\" fill=\"#000000\">entropy = 0.178</text>\n<text text-anchor=\"middle\" x=\"1909\" y=\"-943.8\" font-family=\"Times,serif\" font-size=\"14.00\" fill=\"#000000\">samples = 89</text>\n<text text-anchor=\"middle\" x=\"1909\" y=\"-928.8\" font-family=\"Times,serif\" font-size=\"14.00\" fill=\"#000000\">value = [1, 87, 1]</text>\n</g>\n<!-- 43&#45;&gt;59 -->\n<g id=\"edge59\" class=\"edge\">\n<title>43&#45;&gt;59</title>\n<path fill=\"none\" stroke=\"#000000\" d=\"M1866.6286,-1024.9465C1871.8499,-1016.3271 1877.5255,-1006.9579 1882.9755,-997.9611\"/>\n<polygon fill=\"#000000\" stroke=\"#000000\" points=\"1886.1374,-999.4965 1888.3251,-989.13 1880.1503,-995.8697 1886.1374,-999.4965\"/>\n</g>\n<!-- 45 -->\n<g id=\"node46\" class=\"node\">\n<title>45</title>\n<polygon fill=\"none\" stroke=\"#000000\" points=\"1390,-885 1280,-885 1280,-817 1390,-817 1390,-885\"/>\n<text text-anchor=\"middle\" x=\"1335\" y=\"-869.8\" font-family=\"Times,serif\" font-size=\"14.00\" fill=\"#000000\">X[2] &lt;= 1.5</text>\n<text text-anchor=\"middle\" x=\"1335\" y=\"-854.8\" font-family=\"Times,serif\" font-size=\"14.00\" fill=\"#000000\">entropy = 0.544</text>\n<text text-anchor=\"middle\" x=\"1335\" y=\"-839.8\" font-family=\"Times,serif\" font-size=\"14.00\" fill=\"#000000\">samples = 8</text>\n<text text-anchor=\"middle\" x=\"1335\" y=\"-824.8\" font-family=\"Times,serif\" font-size=\"14.00\" fill=\"#000000\">value = [1, 7, 0]</text>\n</g>\n<!-- 44&#45;&gt;45 -->\n<g id=\"edge45\" class=\"edge\">\n<title>44&#45;&gt;45</title>\n<path fill=\"none\" stroke=\"#000000\" d=\"M1534.9827,-932.5616C1495.2364,-916.3513 1441.4179,-894.4018 1399.6234,-877.3562\"/>\n<polygon fill=\"#000000\" stroke=\"#000000\" points=\"1400.9395,-874.1131 1390.3582,-873.5775 1398.296,-880.5948 1400.9395,-874.1131\"/>\n</g>\n<!-- 50 -->\n<g id=\"node51\" class=\"node\">\n<title>50</title>\n<polygon fill=\"none\" stroke=\"#000000\" points=\"1645,-885 1535,-885 1535,-817 1645,-817 1645,-885\"/>\n<text text-anchor=\"middle\" x=\"1590\" y=\"-869.8\" font-family=\"Times,serif\" font-size=\"14.00\" fill=\"#000000\">X[3] &lt;= 1.5</text>\n<text text-anchor=\"middle\" x=\"1590\" y=\"-854.8\" font-family=\"Times,serif\" font-size=\"14.00\" fill=\"#000000\">entropy = 1.252</text>\n<text text-anchor=\"middle\" x=\"1590\" y=\"-839.8\" font-family=\"Times,serif\" font-size=\"14.00\" fill=\"#000000\">samples = 12</text>\n<text text-anchor=\"middle\" x=\"1590\" y=\"-824.8\" font-family=\"Times,serif\" font-size=\"14.00\" fill=\"#000000\">value = [2, 2, 8]</text>\n</g>\n<!-- 44&#45;&gt;50 -->\n<g id=\"edge50\" class=\"edge\">\n<title>44&#45;&gt;50</title>\n<path fill=\"none\" stroke=\"#000000\" d=\"M1590,-920.9465C1590,-912.776 1590,-903.9318 1590,-895.3697\"/>\n<polygon fill=\"#000000\" stroke=\"#000000\" points=\"1593.5001,-895.13 1590,-885.13 1586.5001,-895.13 1593.5001,-895.13\"/>\n</g>\n<!-- 46 -->\n<g id=\"node47\" class=\"node\">\n<title>46</title>\n<polygon fill=\"none\" stroke=\"#000000\" points=\"1262,-773.5 1152,-773.5 1152,-720.5 1262,-720.5 1262,-773.5\"/>\n<text text-anchor=\"middle\" x=\"1207\" y=\"-758.3\" font-family=\"Times,serif\" font-size=\"14.00\" fill=\"#000000\">entropy = 0.0</text>\n<text text-anchor=\"middle\" x=\"1207\" y=\"-743.3\" font-family=\"Times,serif\" font-size=\"14.00\" fill=\"#000000\">samples = 4</text>\n<text text-anchor=\"middle\" x=\"1207\" y=\"-728.3\" font-family=\"Times,serif\" font-size=\"14.00\" fill=\"#000000\">value = [0, 4, 0]</text>\n</g>\n<!-- 45&#45;&gt;46 -->\n<g id=\"edge46\" class=\"edge\">\n<title>45&#45;&gt;46</title>\n<path fill=\"none\" stroke=\"#000000\" d=\"M1293.088,-816.9465C1278.4467,-805.0504 1262.0474,-791.726 1247.5215,-779.9237\"/>\n<polygon fill=\"#000000\" stroke=\"#000000\" points=\"1249.6355,-777.1317 1239.6673,-773.5422 1245.2214,-782.5645 1249.6355,-777.1317\"/>\n</g>\n<!-- 47 -->\n<g id=\"node48\" class=\"node\">\n<title>47</title>\n<polygon fill=\"none\" stroke=\"#000000\" points=\"1390,-781 1280,-781 1280,-713 1390,-713 1390,-781\"/>\n<text text-anchor=\"middle\" x=\"1335\" y=\"-765.8\" font-family=\"Times,serif\" font-size=\"14.00\" fill=\"#000000\">X[3] &lt;= 1.5</text>\n<text text-anchor=\"middle\" x=\"1335\" y=\"-750.8\" font-family=\"Times,serif\" font-size=\"14.00\" fill=\"#000000\">entropy = 0.811</text>\n<text text-anchor=\"middle\" x=\"1335\" y=\"-735.8\" font-family=\"Times,serif\" font-size=\"14.00\" fill=\"#000000\">samples = 4</text>\n<text text-anchor=\"middle\" x=\"1335\" y=\"-720.8\" font-family=\"Times,serif\" font-size=\"14.00\" fill=\"#000000\">value = [1, 3, 0]</text>\n</g>\n<!-- 45&#45;&gt;47 -->\n<g id=\"edge47\" class=\"edge\">\n<title>45&#45;&gt;47</title>\n<path fill=\"none\" stroke=\"#000000\" d=\"M1335,-816.9465C1335,-808.776 1335,-799.9318 1335,-791.3697\"/>\n<polygon fill=\"#000000\" stroke=\"#000000\" points=\"1338.5001,-791.13 1335,-781.13 1331.5001,-791.13 1338.5001,-791.13\"/>\n</g>\n<!-- 48 -->\n<g id=\"node49\" class=\"node\">\n<title>48</title>\n<polygon fill=\"none\" stroke=\"#000000\" points=\"1262,-669.5 1152,-669.5 1152,-616.5 1262,-616.5 1262,-669.5\"/>\n<text text-anchor=\"middle\" x=\"1207\" y=\"-654.3\" font-family=\"Times,serif\" font-size=\"14.00\" fill=\"#000000\">entropy = 0.0</text>\n<text text-anchor=\"middle\" x=\"1207\" y=\"-639.3\" font-family=\"Times,serif\" font-size=\"14.00\" fill=\"#000000\">samples = 3</text>\n<text text-anchor=\"middle\" x=\"1207\" y=\"-624.3\" font-family=\"Times,serif\" font-size=\"14.00\" fill=\"#000000\">value = [0, 3, 0]</text>\n</g>\n<!-- 47&#45;&gt;48 -->\n<g id=\"edge48\" class=\"edge\">\n<title>47&#45;&gt;48</title>\n<path fill=\"none\" stroke=\"#000000\" d=\"M1293.088,-712.9465C1278.4467,-701.0504 1262.0474,-687.726 1247.5215,-675.9237\"/>\n<polygon fill=\"#000000\" stroke=\"#000000\" points=\"1249.6355,-673.1317 1239.6673,-669.5422 1245.2214,-678.5645 1249.6355,-673.1317\"/>\n</g>\n<!-- 49 -->\n<g id=\"node50\" class=\"node\">\n<title>49</title>\n<polygon fill=\"none\" stroke=\"#000000\" points=\"1390,-669.5 1280,-669.5 1280,-616.5 1390,-616.5 1390,-669.5\"/>\n<text text-anchor=\"middle\" x=\"1335\" y=\"-654.3\" font-family=\"Times,serif\" font-size=\"14.00\" fill=\"#000000\">entropy = 0.0</text>\n<text text-anchor=\"middle\" x=\"1335\" y=\"-639.3\" font-family=\"Times,serif\" font-size=\"14.00\" fill=\"#000000\">samples = 1</text>\n<text text-anchor=\"middle\" x=\"1335\" y=\"-624.3\" font-family=\"Times,serif\" font-size=\"14.00\" fill=\"#000000\">value = [1, 0, 0]</text>\n</g>\n<!-- 47&#45;&gt;49 -->\n<g id=\"edge49\" class=\"edge\">\n<title>47&#45;&gt;49</title>\n<path fill=\"none\" stroke=\"#000000\" d=\"M1335,-712.9465C1335,-702.2621 1335,-690.4254 1335,-679.5742\"/>\n<polygon fill=\"#000000\" stroke=\"#000000\" points=\"1338.5001,-679.5421 1335,-669.5422 1331.5001,-679.5422 1338.5001,-679.5421\"/>\n</g>\n<!-- 51 -->\n<g id=\"node52\" class=\"node\">\n<title>51</title>\n<polygon fill=\"none\" stroke=\"#000000\" points=\"1582,-781 1472,-781 1472,-713 1582,-713 1582,-781\"/>\n<text text-anchor=\"middle\" x=\"1527\" y=\"-765.8\" font-family=\"Times,serif\" font-size=\"14.00\" fill=\"#000000\">X[1] &lt;= 4.5</text>\n<text text-anchor=\"middle\" x=\"1527\" y=\"-750.8\" font-family=\"Times,serif\" font-size=\"14.00\" fill=\"#000000\">entropy = 1.585</text>\n<text text-anchor=\"middle\" x=\"1527\" y=\"-735.8\" font-family=\"Times,serif\" font-size=\"14.00\" fill=\"#000000\">samples = 6</text>\n<text text-anchor=\"middle\" x=\"1527\" y=\"-720.8\" font-family=\"Times,serif\" font-size=\"14.00\" fill=\"#000000\">value = [2, 2, 2]</text>\n</g>\n<!-- 50&#45;&gt;51 -->\n<g id=\"edge51\" class=\"edge\">\n<title>50&#45;&gt;51</title>\n<path fill=\"none\" stroke=\"#000000\" d=\"M1569.3714,-816.9465C1564.1501,-808.3271 1558.4745,-798.9579 1553.0245,-789.9611\"/>\n<polygon fill=\"#000000\" stroke=\"#000000\" points=\"1555.8497,-787.8697 1547.6749,-781.13 1549.8626,-791.4965 1555.8497,-787.8697\"/>\n</g>\n<!-- 58 -->\n<g id=\"node59\" class=\"node\">\n<title>58</title>\n<polygon fill=\"none\" stroke=\"#000000\" points=\"1710,-773.5 1600,-773.5 1600,-720.5 1710,-720.5 1710,-773.5\"/>\n<text text-anchor=\"middle\" x=\"1655\" y=\"-758.3\" font-family=\"Times,serif\" font-size=\"14.00\" fill=\"#000000\">entropy = 0.0</text>\n<text text-anchor=\"middle\" x=\"1655\" y=\"-743.3\" font-family=\"Times,serif\" font-size=\"14.00\" fill=\"#000000\">samples = 6</text>\n<text text-anchor=\"middle\" x=\"1655\" y=\"-728.3\" font-family=\"Times,serif\" font-size=\"14.00\" fill=\"#000000\">value = [0, 0, 6]</text>\n</g>\n<!-- 50&#45;&gt;58 -->\n<g id=\"edge58\" class=\"edge\">\n<title>50&#45;&gt;58</title>\n<path fill=\"none\" stroke=\"#000000\" d=\"M1611.2834,-816.9465C1618.2366,-805.8215 1625.9705,-793.4473 1632.9769,-782.237\"/>\n<polygon fill=\"#000000\" stroke=\"#000000\" points=\"1636.0791,-783.8772 1638.4111,-773.5422 1630.1431,-780.1671 1636.0791,-783.8772\"/>\n</g>\n<!-- 52 -->\n<g id=\"node53\" class=\"node\">\n<title>52</title>\n<polygon fill=\"none\" stroke=\"#000000\" points=\"1518,-677 1408,-677 1408,-609 1518,-609 1518,-677\"/>\n<text text-anchor=\"middle\" x=\"1463\" y=\"-661.8\" font-family=\"Times,serif\" font-size=\"14.00\" fill=\"#000000\">X[2] &lt;= 3.5</text>\n<text text-anchor=\"middle\" x=\"1463\" y=\"-646.8\" font-family=\"Times,serif\" font-size=\"14.00\" fill=\"#000000\">entropy = 0.918</text>\n<text text-anchor=\"middle\" x=\"1463\" y=\"-631.8\" font-family=\"Times,serif\" font-size=\"14.00\" fill=\"#000000\">samples = 3</text>\n<text text-anchor=\"middle\" x=\"1463\" y=\"-616.8\" font-family=\"Times,serif\" font-size=\"14.00\" fill=\"#000000\">value = [1, 0, 2]</text>\n</g>\n<!-- 51&#45;&gt;52 -->\n<g id=\"edge52\" class=\"edge\">\n<title>51&#45;&gt;52</title>\n<path fill=\"none\" stroke=\"#000000\" d=\"M1506.044,-712.9465C1500.6845,-704.2373 1494.8539,-694.7626 1489.2647,-685.6801\"/>\n<polygon fill=\"#000000\" stroke=\"#000000\" points=\"1492.2249,-683.8122 1484.0031,-677.13 1486.2633,-687.481 1492.2249,-683.8122\"/>\n</g>\n<!-- 55 -->\n<g id=\"node56\" class=\"node\">\n<title>55</title>\n<polygon fill=\"none\" stroke=\"#000000\" points=\"1646,-677 1536,-677 1536,-609 1646,-609 1646,-677\"/>\n<text text-anchor=\"middle\" x=\"1591\" y=\"-661.8\" font-family=\"Times,serif\" font-size=\"14.00\" fill=\"#000000\">X[2] &lt;= 4.5</text>\n<text text-anchor=\"middle\" x=\"1591\" y=\"-646.8\" font-family=\"Times,serif\" font-size=\"14.00\" fill=\"#000000\">entropy = 0.918</text>\n<text text-anchor=\"middle\" x=\"1591\" y=\"-631.8\" font-family=\"Times,serif\" font-size=\"14.00\" fill=\"#000000\">samples = 3</text>\n<text text-anchor=\"middle\" x=\"1591\" y=\"-616.8\" font-family=\"Times,serif\" font-size=\"14.00\" fill=\"#000000\">value = [1, 2, 0]</text>\n</g>\n<!-- 51&#45;&gt;55 -->\n<g id=\"edge55\" class=\"edge\">\n<title>51&#45;&gt;55</title>\n<path fill=\"none\" stroke=\"#000000\" d=\"M1547.956,-712.9465C1553.3155,-704.2373 1559.1461,-694.7626 1564.7353,-685.6801\"/>\n<polygon fill=\"#000000\" stroke=\"#000000\" points=\"1567.7367,-687.481 1569.9969,-677.13 1561.7751,-683.8122 1567.7367,-687.481\"/>\n</g>\n<!-- 53 -->\n<g id=\"node54\" class=\"node\">\n<title>53</title>\n<polygon fill=\"none\" stroke=\"#000000\" points=\"1390,-565.5 1280,-565.5 1280,-512.5 1390,-512.5 1390,-565.5\"/>\n<text text-anchor=\"middle\" x=\"1335\" y=\"-550.3\" font-family=\"Times,serif\" font-size=\"14.00\" fill=\"#000000\">entropy = 0.0</text>\n<text text-anchor=\"middle\" x=\"1335\" y=\"-535.3\" font-family=\"Times,serif\" font-size=\"14.00\" fill=\"#000000\">samples = 1</text>\n<text text-anchor=\"middle\" x=\"1335\" y=\"-520.3\" font-family=\"Times,serif\" font-size=\"14.00\" fill=\"#000000\">value = [1, 0, 0]</text>\n</g>\n<!-- 52&#45;&gt;53 -->\n<g id=\"edge53\" class=\"edge\">\n<title>52&#45;&gt;53</title>\n<path fill=\"none\" stroke=\"#000000\" d=\"M1421.088,-608.9465C1406.4467,-597.0504 1390.0474,-583.726 1375.5215,-571.9237\"/>\n<polygon fill=\"#000000\" stroke=\"#000000\" points=\"1377.6355,-569.1317 1367.6673,-565.5422 1373.2214,-574.5645 1377.6355,-569.1317\"/>\n</g>\n<!-- 54 -->\n<g id=\"node55\" class=\"node\">\n<title>54</title>\n<polygon fill=\"none\" stroke=\"#000000\" points=\"1518,-565.5 1408,-565.5 1408,-512.5 1518,-512.5 1518,-565.5\"/>\n<text text-anchor=\"middle\" x=\"1463\" y=\"-550.3\" font-family=\"Times,serif\" font-size=\"14.00\" fill=\"#000000\">entropy = 0.0</text>\n<text text-anchor=\"middle\" x=\"1463\" y=\"-535.3\" font-family=\"Times,serif\" font-size=\"14.00\" fill=\"#000000\">samples = 2</text>\n<text text-anchor=\"middle\" x=\"1463\" y=\"-520.3\" font-family=\"Times,serif\" font-size=\"14.00\" fill=\"#000000\">value = [0, 0, 2]</text>\n</g>\n<!-- 52&#45;&gt;54 -->\n<g id=\"edge54\" class=\"edge\">\n<title>52&#45;&gt;54</title>\n<path fill=\"none\" stroke=\"#000000\" d=\"M1463,-608.9465C1463,-598.2621 1463,-586.4254 1463,-575.5742\"/>\n<polygon fill=\"#000000\" stroke=\"#000000\" points=\"1466.5001,-575.5421 1463,-565.5422 1459.5001,-575.5422 1466.5001,-575.5421\"/>\n</g>\n<!-- 56 -->\n<g id=\"node57\" class=\"node\">\n<title>56</title>\n<polygon fill=\"none\" stroke=\"#000000\" points=\"1646,-565.5 1536,-565.5 1536,-512.5 1646,-512.5 1646,-565.5\"/>\n<text text-anchor=\"middle\" x=\"1591\" y=\"-550.3\" font-family=\"Times,serif\" font-size=\"14.00\" fill=\"#000000\">entropy = 0.0</text>\n<text text-anchor=\"middle\" x=\"1591\" y=\"-535.3\" font-family=\"Times,serif\" font-size=\"14.00\" fill=\"#000000\">samples = 2</text>\n<text text-anchor=\"middle\" x=\"1591\" y=\"-520.3\" font-family=\"Times,serif\" font-size=\"14.00\" fill=\"#000000\">value = [0, 2, 0]</text>\n</g>\n<!-- 55&#45;&gt;56 -->\n<g id=\"edge56\" class=\"edge\">\n<title>55&#45;&gt;56</title>\n<path fill=\"none\" stroke=\"#000000\" d=\"M1591,-608.9465C1591,-598.2621 1591,-586.4254 1591,-575.5742\"/>\n<polygon fill=\"#000000\" stroke=\"#000000\" points=\"1594.5001,-575.5421 1591,-565.5422 1587.5001,-575.5422 1594.5001,-575.5421\"/>\n</g>\n<!-- 57 -->\n<g id=\"node58\" class=\"node\">\n<title>57</title>\n<polygon fill=\"none\" stroke=\"#000000\" points=\"1774,-565.5 1664,-565.5 1664,-512.5 1774,-512.5 1774,-565.5\"/>\n<text text-anchor=\"middle\" x=\"1719\" y=\"-550.3\" font-family=\"Times,serif\" font-size=\"14.00\" fill=\"#000000\">entropy = 0.0</text>\n<text text-anchor=\"middle\" x=\"1719\" y=\"-535.3\" font-family=\"Times,serif\" font-size=\"14.00\" fill=\"#000000\">samples = 1</text>\n<text text-anchor=\"middle\" x=\"1719\" y=\"-520.3\" font-family=\"Times,serif\" font-size=\"14.00\" fill=\"#000000\">value = [1, 0, 0]</text>\n</g>\n<!-- 55&#45;&gt;57 -->\n<g id=\"edge57\" class=\"edge\">\n<title>55&#45;&gt;57</title>\n<path fill=\"none\" stroke=\"#000000\" d=\"M1632.912,-608.9465C1647.5533,-597.0504 1663.9526,-583.726 1678.4785,-571.9237\"/>\n<polygon fill=\"#000000\" stroke=\"#000000\" points=\"1680.7786,-574.5645 1686.3327,-565.5422 1676.3645,-569.1317 1680.7786,-574.5645\"/>\n</g>\n<!-- 60 -->\n<g id=\"node61\" class=\"node\">\n<title>60</title>\n<polygon fill=\"none\" stroke=\"#000000\" points=\"1967.5,-885 1850.5,-885 1850.5,-817 1967.5,-817 1967.5,-885\"/>\n<text text-anchor=\"middle\" x=\"1909\" y=\"-869.8\" font-family=\"Times,serif\" font-size=\"14.00\" fill=\"#000000\">X[2] &lt;= 4.5</text>\n<text text-anchor=\"middle\" x=\"1909\" y=\"-854.8\" font-family=\"Times,serif\" font-size=\"14.00\" fill=\"#000000\">entropy = 0.41</text>\n<text text-anchor=\"middle\" x=\"1909\" y=\"-839.8\" font-family=\"Times,serif\" font-size=\"14.00\" fill=\"#000000\">samples = 31</text>\n<text text-anchor=\"middle\" x=\"1909\" y=\"-824.8\" font-family=\"Times,serif\" font-size=\"14.00\" fill=\"#000000\">value = [1, 29, 1]</text>\n</g>\n<!-- 59&#45;&gt;60 -->\n<g id=\"edge60\" class=\"edge\">\n<title>59&#45;&gt;60</title>\n<path fill=\"none\" stroke=\"#000000\" d=\"M1909,-920.9465C1909,-912.776 1909,-903.9318 1909,-895.3697\"/>\n<polygon fill=\"#000000\" stroke=\"#000000\" points=\"1912.5001,-895.13 1909,-885.13 1905.5001,-895.13 1912.5001,-895.13\"/>\n</g>\n<!-- 73 -->\n<g id=\"node74\" class=\"node\">\n<title>73</title>\n<polygon fill=\"none\" stroke=\"#000000\" points=\"2102.5,-877.5 1985.5,-877.5 1985.5,-824.5 2102.5,-824.5 2102.5,-877.5\"/>\n<text text-anchor=\"middle\" x=\"2044\" y=\"-862.3\" font-family=\"Times,serif\" font-size=\"14.00\" fill=\"#000000\">entropy = 0.0</text>\n<text text-anchor=\"middle\" x=\"2044\" y=\"-847.3\" font-family=\"Times,serif\" font-size=\"14.00\" fill=\"#000000\">samples = 58</text>\n<text text-anchor=\"middle\" x=\"2044\" y=\"-832.3\" font-family=\"Times,serif\" font-size=\"14.00\" fill=\"#000000\">value = [0, 58, 0]</text>\n</g>\n<!-- 59&#45;&gt;73 -->\n<g id=\"edge73\" class=\"edge\">\n<title>59&#45;&gt;73</title>\n<path fill=\"none\" stroke=\"#000000\" d=\"M1953.204,-920.9465C1968.6461,-909.0504 1985.9422,-895.726 2001.2625,-883.9237\"/>\n<polygon fill=\"#000000\" stroke=\"#000000\" points=\"2003.7603,-886.4176 2009.5462,-877.5422 1999.4883,-880.8723 2003.7603,-886.4176\"/>\n</g>\n<!-- 61 -->\n<g id=\"node62\" class=\"node\">\n<title>61</title>\n<polygon fill=\"none\" stroke=\"#000000\" points=\"1967.5,-781 1850.5,-781 1850.5,-713 1967.5,-713 1967.5,-781\"/>\n<text text-anchor=\"middle\" x=\"1909\" y=\"-765.8\" font-family=\"Times,serif\" font-size=\"14.00\" fill=\"#000000\">X[0] &lt;= 2.5</text>\n<text text-anchor=\"middle\" x=\"1909\" y=\"-750.8\" font-family=\"Times,serif\" font-size=\"14.00\" fill=\"#000000\">entropy = 0.229</text>\n<text text-anchor=\"middle\" x=\"1909\" y=\"-735.8\" font-family=\"Times,serif\" font-size=\"14.00\" fill=\"#000000\">samples = 27</text>\n<text text-anchor=\"middle\" x=\"1909\" y=\"-720.8\" font-family=\"Times,serif\" font-size=\"14.00\" fill=\"#000000\">value = [1, 26, 0]</text>\n</g>\n<!-- 60&#45;&gt;61 -->\n<g id=\"edge61\" class=\"edge\">\n<title>60&#45;&gt;61</title>\n<path fill=\"none\" stroke=\"#000000\" d=\"M1909,-816.9465C1909,-808.776 1909,-799.9318 1909,-791.3697\"/>\n<polygon fill=\"#000000\" stroke=\"#000000\" points=\"1912.5001,-791.13 1909,-781.13 1905.5001,-791.13 1912.5001,-791.13\"/>\n</g>\n<!-- 68 -->\n<g id=\"node69\" class=\"node\">\n<title>68</title>\n<polygon fill=\"none\" stroke=\"#000000\" points=\"2162,-781 2052,-781 2052,-713 2162,-713 2162,-781\"/>\n<text text-anchor=\"middle\" x=\"2107\" y=\"-765.8\" font-family=\"Times,serif\" font-size=\"14.00\" fill=\"#000000\">X[3] &lt;= 1.5</text>\n<text text-anchor=\"middle\" x=\"2107\" y=\"-750.8\" font-family=\"Times,serif\" font-size=\"14.00\" fill=\"#000000\">entropy = 0.811</text>\n<text text-anchor=\"middle\" x=\"2107\" y=\"-735.8\" font-family=\"Times,serif\" font-size=\"14.00\" fill=\"#000000\">samples = 4</text>\n<text text-anchor=\"middle\" x=\"2107\" y=\"-720.8\" font-family=\"Times,serif\" font-size=\"14.00\" fill=\"#000000\">value = [0, 3, 1]</text>\n</g>\n<!-- 60&#45;&gt;68 -->\n<g id=\"edge68\" class=\"edge\">\n<title>60&#45;&gt;68</title>\n<path fill=\"none\" stroke=\"#000000\" d=\"M1967.6029,-820.2187C1991.264,-807.7906 2018.6412,-793.4107 2042.8365,-780.702\"/>\n<polygon fill=\"#000000\" stroke=\"#000000\" points=\"2044.7139,-783.6694 2051.9395,-775.9207 2041.4588,-777.4723 2044.7139,-783.6694\"/>\n</g>\n<!-- 62 -->\n<g id=\"node63\" class=\"node\">\n<title>62</title>\n<polygon fill=\"none\" stroke=\"#000000\" points=\"1898,-677 1788,-677 1788,-609 1898,-609 1898,-677\"/>\n<text text-anchor=\"middle\" x=\"1843\" y=\"-661.8\" font-family=\"Times,serif\" font-size=\"14.00\" fill=\"#000000\">X[3] &lt;= 1.5</text>\n<text text-anchor=\"middle\" x=\"1843\" y=\"-646.8\" font-family=\"Times,serif\" font-size=\"14.00\" fill=\"#000000\">entropy = 0.592</text>\n<text text-anchor=\"middle\" x=\"1843\" y=\"-631.8\" font-family=\"Times,serif\" font-size=\"14.00\" fill=\"#000000\">samples = 7</text>\n<text text-anchor=\"middle\" x=\"1843\" y=\"-616.8\" font-family=\"Times,serif\" font-size=\"14.00\" fill=\"#000000\">value = [1, 6, 0]</text>\n</g>\n<!-- 61&#45;&gt;62 -->\n<g id=\"edge62\" class=\"edge\">\n<title>61&#45;&gt;62</title>\n<path fill=\"none\" stroke=\"#000000\" d=\"M1887.3891,-712.9465C1881.8622,-704.2373 1875.8494,-694.7626 1870.0854,-685.6801\"/>\n<polygon fill=\"#000000\" stroke=\"#000000\" points=\"1872.9729,-683.6979 1864.6594,-677.13 1867.0626,-687.4487 1872.9729,-683.6979\"/>\n</g>\n<!-- 67 -->\n<g id=\"node68\" class=\"node\">\n<title>67</title>\n<polygon fill=\"none\" stroke=\"#000000\" points=\"2033.5,-669.5 1916.5,-669.5 1916.5,-616.5 2033.5,-616.5 2033.5,-669.5\"/>\n<text text-anchor=\"middle\" x=\"1975\" y=\"-654.3\" font-family=\"Times,serif\" font-size=\"14.00\" fill=\"#000000\">entropy = 0.0</text>\n<text text-anchor=\"middle\" x=\"1975\" y=\"-639.3\" font-family=\"Times,serif\" font-size=\"14.00\" fill=\"#000000\">samples = 20</text>\n<text text-anchor=\"middle\" x=\"1975\" y=\"-624.3\" font-family=\"Times,serif\" font-size=\"14.00\" fill=\"#000000\">value = [0, 20, 0]</text>\n</g>\n<!-- 61&#45;&gt;67 -->\n<g id=\"edge67\" class=\"edge\">\n<title>61&#45;&gt;67</title>\n<path fill=\"none\" stroke=\"#000000\" d=\"M1930.6109,-712.9465C1937.671,-701.8215 1945.5239,-689.4473 1952.6381,-678.237\"/>\n<polygon fill=\"#000000\" stroke=\"#000000\" points=\"1955.7528,-679.8609 1958.1559,-669.5422 1949.8425,-676.1101 1955.7528,-679.8609\"/>\n</g>\n<!-- 63 -->\n<g id=\"node64\" class=\"node\">\n<title>63</title>\n<polygon fill=\"none\" stroke=\"#000000\" points=\"1902,-565.5 1792,-565.5 1792,-512.5 1902,-512.5 1902,-565.5\"/>\n<text text-anchor=\"middle\" x=\"1847\" y=\"-550.3\" font-family=\"Times,serif\" font-size=\"14.00\" fill=\"#000000\">entropy = 0.0</text>\n<text text-anchor=\"middle\" x=\"1847\" y=\"-535.3\" font-family=\"Times,serif\" font-size=\"14.00\" fill=\"#000000\">samples = 4</text>\n<text text-anchor=\"middle\" x=\"1847\" y=\"-520.3\" font-family=\"Times,serif\" font-size=\"14.00\" fill=\"#000000\">value = [0, 4, 0]</text>\n</g>\n<!-- 62&#45;&gt;63 -->\n<g id=\"edge63\" class=\"edge\">\n<title>62&#45;&gt;63</title>\n<path fill=\"none\" stroke=\"#000000\" d=\"M1844.3097,-608.9465C1844.7207,-598.2621 1845.1759,-586.4254 1845.5933,-575.5742\"/>\n<polygon fill=\"#000000\" stroke=\"#000000\" points=\"1849.0921,-575.6693 1845.9791,-565.5422 1842.0973,-575.4002 1849.0921,-575.6693\"/>\n</g>\n<!-- 64 -->\n<g id=\"node65\" class=\"node\">\n<title>64</title>\n<polygon fill=\"none\" stroke=\"#000000\" points=\"2030,-573 1920,-573 1920,-505 2030,-505 2030,-573\"/>\n<text text-anchor=\"middle\" x=\"1975\" y=\"-557.8\" font-family=\"Times,serif\" font-size=\"14.00\" fill=\"#000000\">X[2] &lt;= 2.5</text>\n<text text-anchor=\"middle\" x=\"1975\" y=\"-542.8\" font-family=\"Times,serif\" font-size=\"14.00\" fill=\"#000000\">entropy = 0.918</text>\n<text text-anchor=\"middle\" x=\"1975\" y=\"-527.8\" font-family=\"Times,serif\" font-size=\"14.00\" fill=\"#000000\">samples = 3</text>\n<text text-anchor=\"middle\" x=\"1975\" y=\"-512.8\" font-family=\"Times,serif\" font-size=\"14.00\" fill=\"#000000\">value = [1, 2, 0]</text>\n</g>\n<!-- 62&#45;&gt;64 -->\n<g id=\"edge64\" class=\"edge\">\n<title>62&#45;&gt;64</title>\n<path fill=\"none\" stroke=\"#000000\" d=\"M1886.2217,-608.9465C1898.1874,-599.519 1911.2915,-589.1946 1923.6704,-579.4415\"/>\n<polygon fill=\"#000000\" stroke=\"#000000\" points=\"1925.9923,-582.068 1931.6812,-573.13 1921.6602,-576.5695 1925.9923,-582.068\"/>\n</g>\n<!-- 65 -->\n<g id=\"node66\" class=\"node\">\n<title>65</title>\n<polygon fill=\"none\" stroke=\"#000000\" points=\"1966,-461.5 1856,-461.5 1856,-408.5 1966,-408.5 1966,-461.5\"/>\n<text text-anchor=\"middle\" x=\"1911\" y=\"-446.3\" font-family=\"Times,serif\" font-size=\"14.00\" fill=\"#000000\">entropy = 0.0</text>\n<text text-anchor=\"middle\" x=\"1911\" y=\"-431.3\" font-family=\"Times,serif\" font-size=\"14.00\" fill=\"#000000\">samples = 2</text>\n<text text-anchor=\"middle\" x=\"1911\" y=\"-416.3\" font-family=\"Times,serif\" font-size=\"14.00\" fill=\"#000000\">value = [0, 2, 0]</text>\n</g>\n<!-- 64&#45;&gt;65 -->\n<g id=\"edge65\" class=\"edge\">\n<title>64&#45;&gt;65</title>\n<path fill=\"none\" stroke=\"#000000\" d=\"M1954.044,-504.9465C1947.1978,-493.8215 1939.5829,-481.4473 1932.6843,-470.237\"/>\n<polygon fill=\"#000000\" stroke=\"#000000\" points=\"1935.5555,-468.2244 1927.3336,-461.5422 1929.5939,-471.8931 1935.5555,-468.2244\"/>\n</g>\n<!-- 66 -->\n<g id=\"node67\" class=\"node\">\n<title>66</title>\n<polygon fill=\"none\" stroke=\"#000000\" points=\"2094,-461.5 1984,-461.5 1984,-408.5 2094,-408.5 2094,-461.5\"/>\n<text text-anchor=\"middle\" x=\"2039\" y=\"-446.3\" font-family=\"Times,serif\" font-size=\"14.00\" fill=\"#000000\">entropy = 0.0</text>\n<text text-anchor=\"middle\" x=\"2039\" y=\"-431.3\" font-family=\"Times,serif\" font-size=\"14.00\" fill=\"#000000\">samples = 1</text>\n<text text-anchor=\"middle\" x=\"2039\" y=\"-416.3\" font-family=\"Times,serif\" font-size=\"14.00\" fill=\"#000000\">value = [1, 0, 0]</text>\n</g>\n<!-- 64&#45;&gt;66 -->\n<g id=\"edge66\" class=\"edge\">\n<title>64&#45;&gt;66</title>\n<path fill=\"none\" stroke=\"#000000\" d=\"M1995.956,-504.9465C2002.8022,-493.8215 2010.4171,-481.4473 2017.3157,-470.237\"/>\n<polygon fill=\"#000000\" stroke=\"#000000\" points=\"2020.4061,-471.8931 2022.6664,-461.5422 2014.4445,-468.2244 2020.4061,-471.8931\"/>\n</g>\n<!-- 69 -->\n<g id=\"node70\" class=\"node\">\n<title>69</title>\n<polygon fill=\"none\" stroke=\"#000000\" points=\"2162,-669.5 2052,-669.5 2052,-616.5 2162,-616.5 2162,-669.5\"/>\n<text text-anchor=\"middle\" x=\"2107\" y=\"-654.3\" font-family=\"Times,serif\" font-size=\"14.00\" fill=\"#000000\">entropy = 0.0</text>\n<text text-anchor=\"middle\" x=\"2107\" y=\"-639.3\" font-family=\"Times,serif\" font-size=\"14.00\" fill=\"#000000\">samples = 2</text>\n<text text-anchor=\"middle\" x=\"2107\" y=\"-624.3\" font-family=\"Times,serif\" font-size=\"14.00\" fill=\"#000000\">value = [0, 2, 0]</text>\n</g>\n<!-- 68&#45;&gt;69 -->\n<g id=\"edge69\" class=\"edge\">\n<title>68&#45;&gt;69</title>\n<path fill=\"none\" stroke=\"#000000\" d=\"M2107,-712.9465C2107,-702.2621 2107,-690.4254 2107,-679.5742\"/>\n<polygon fill=\"#000000\" stroke=\"#000000\" points=\"2110.5001,-679.5421 2107,-669.5422 2103.5001,-679.5422 2110.5001,-679.5421\"/>\n</g>\n<!-- 70 -->\n<g id=\"node71\" class=\"node\">\n<title>70</title>\n<polygon fill=\"none\" stroke=\"#000000\" points=\"2290,-677 2180,-677 2180,-609 2290,-609 2290,-677\"/>\n<text text-anchor=\"middle\" x=\"2235\" y=\"-661.8\" font-family=\"Times,serif\" font-size=\"14.00\" fill=\"#000000\">X[0] &lt;= 4.0</text>\n<text text-anchor=\"middle\" x=\"2235\" y=\"-646.8\" font-family=\"Times,serif\" font-size=\"14.00\" fill=\"#000000\">entropy = 1.0</text>\n<text text-anchor=\"middle\" x=\"2235\" y=\"-631.8\" font-family=\"Times,serif\" font-size=\"14.00\" fill=\"#000000\">samples = 2</text>\n<text text-anchor=\"middle\" x=\"2235\" y=\"-616.8\" font-family=\"Times,serif\" font-size=\"14.00\" fill=\"#000000\">value = [0, 1, 1]</text>\n</g>\n<!-- 68&#45;&gt;70 -->\n<g id=\"edge70\" class=\"edge\">\n<title>68&#45;&gt;70</title>\n<path fill=\"none\" stroke=\"#000000\" d=\"M2148.912,-712.9465C2160.515,-703.519 2173.2221,-693.1946 2185.2259,-683.4415\"/>\n<polygon fill=\"#000000\" stroke=\"#000000\" points=\"2187.4398,-686.1524 2192.9939,-677.13 2183.0256,-680.7196 2187.4398,-686.1524\"/>\n</g>\n<!-- 71 -->\n<g id=\"node72\" class=\"node\">\n<title>71</title>\n<polygon fill=\"none\" stroke=\"#000000\" points=\"2162,-565.5 2052,-565.5 2052,-512.5 2162,-512.5 2162,-565.5\"/>\n<text text-anchor=\"middle\" x=\"2107\" y=\"-550.3\" font-family=\"Times,serif\" font-size=\"14.00\" fill=\"#000000\">entropy = 0.0</text>\n<text text-anchor=\"middle\" x=\"2107\" y=\"-535.3\" font-family=\"Times,serif\" font-size=\"14.00\" fill=\"#000000\">samples = 1</text>\n<text text-anchor=\"middle\" x=\"2107\" y=\"-520.3\" font-family=\"Times,serif\" font-size=\"14.00\" fill=\"#000000\">value = [0, 0, 1]</text>\n</g>\n<!-- 70&#45;&gt;71 -->\n<g id=\"edge71\" class=\"edge\">\n<title>70&#45;&gt;71</title>\n<path fill=\"none\" stroke=\"#000000\" d=\"M2193.088,-608.9465C2178.4467,-597.0504 2162.0474,-583.726 2147.5215,-571.9237\"/>\n<polygon fill=\"#000000\" stroke=\"#000000\" points=\"2149.6355,-569.1317 2139.6673,-565.5422 2145.2214,-574.5645 2149.6355,-569.1317\"/>\n</g>\n<!-- 72 -->\n<g id=\"node73\" class=\"node\">\n<title>72</title>\n<polygon fill=\"none\" stroke=\"#000000\" points=\"2290,-565.5 2180,-565.5 2180,-512.5 2290,-512.5 2290,-565.5\"/>\n<text text-anchor=\"middle\" x=\"2235\" y=\"-550.3\" font-family=\"Times,serif\" font-size=\"14.00\" fill=\"#000000\">entropy = 0.0</text>\n<text text-anchor=\"middle\" x=\"2235\" y=\"-535.3\" font-family=\"Times,serif\" font-size=\"14.00\" fill=\"#000000\">samples = 1</text>\n<text text-anchor=\"middle\" x=\"2235\" y=\"-520.3\" font-family=\"Times,serif\" font-size=\"14.00\" fill=\"#000000\">value = [0, 1, 0]</text>\n</g>\n<!-- 70&#45;&gt;72 -->\n<g id=\"edge72\" class=\"edge\">\n<title>70&#45;&gt;72</title>\n<path fill=\"none\" stroke=\"#000000\" d=\"M2235,-608.9465C2235,-598.2621 2235,-586.4254 2235,-575.5742\"/>\n<polygon fill=\"#000000\" stroke=\"#000000\" points=\"2238.5001,-575.5421 2235,-565.5422 2231.5001,-575.5422 2238.5001,-575.5421\"/>\n</g>\n<!-- 75 -->\n<g id=\"node76\" class=\"node\">\n<title>75</title>\n<polygon fill=\"none\" stroke=\"#000000\" points=\"3303.5,-1093 3178.5,-1093 3178.5,-1025 3303.5,-1025 3303.5,-1093\"/>\n<text text-anchor=\"middle\" x=\"3241\" y=\"-1077.8\" font-family=\"Times,serif\" font-size=\"14.00\" fill=\"#000000\">X[0] &lt;= 2.5</text>\n<text text-anchor=\"middle\" x=\"3241\" y=\"-1062.8\" font-family=\"Times,serif\" font-size=\"14.00\" fill=\"#000000\">entropy = 1.288</text>\n<text text-anchor=\"middle\" x=\"3241\" y=\"-1047.8\" font-family=\"Times,serif\" font-size=\"14.00\" fill=\"#000000\">samples = 100</text>\n<text text-anchor=\"middle\" x=\"3241\" y=\"-1032.8\" font-family=\"Times,serif\" font-size=\"14.00\" fill=\"#000000\">value = [9, 59, 32]</text>\n</g>\n<!-- 74&#45;&gt;75 -->\n<g id=\"edge75\" class=\"edge\">\n<title>74&#45;&gt;75</title>\n<path fill=\"none\" stroke=\"#000000\" d=\"M3241,-1128.9465C3241,-1120.776 3241,-1111.9318 3241,-1103.3697\"/>\n<polygon fill=\"#000000\" stroke=\"#000000\" points=\"3244.5001,-1103.13 3241,-1093.13 3237.5001,-1103.13 3244.5001,-1103.13\"/>\n</g>\n<!-- 134 -->\n<g id=\"node135\" class=\"node\">\n<title>134</title>\n<polygon fill=\"none\" stroke=\"#000000\" points=\"4248,-1093 4108,-1093 4108,-1025 4248,-1025 4248,-1093\"/>\n<text text-anchor=\"middle\" x=\"4178\" y=\"-1077.8\" font-family=\"Times,serif\" font-size=\"14.00\" fill=\"#000000\">X[1] &lt;= 2.5</text>\n<text text-anchor=\"middle\" x=\"4178\" y=\"-1062.8\" font-family=\"Times,serif\" font-size=\"14.00\" fill=\"#000000\">entropy = 0.913</text>\n<text text-anchor=\"middle\" x=\"4178\" y=\"-1047.8\" font-family=\"Times,serif\" font-size=\"14.00\" fill=\"#000000\">samples = 169</text>\n<text text-anchor=\"middle\" x=\"4178\" y=\"-1032.8\" font-family=\"Times,serif\" font-size=\"14.00\" fill=\"#000000\">value = [12, 22, 135]</text>\n</g>\n<!-- 74&#45;&gt;134 -->\n<g id=\"edge134\" class=\"edge\">\n<title>74&#45;&gt;134</title>\n<path fill=\"none\" stroke=\"#000000\" d=\"M3311.0441,-1155.2256C3481.5903,-1136.2963 3917.6059,-1087.9018 4098.0028,-1067.8791\"/>\n<polygon fill=\"#000000\" stroke=\"#000000\" points=\"4098.4038,-1071.3562 4107.9567,-1066.7743 4097.6316,-1064.3989 4098.4038,-1071.3562\"/>\n</g>\n<!-- 76 -->\n<g id=\"node77\" class=\"node\">\n<title>76</title>\n<polygon fill=\"none\" stroke=\"#000000\" points=\"3011.5,-989 2894.5,-989 2894.5,-921 3011.5,-921 3011.5,-989\"/>\n<text text-anchor=\"middle\" x=\"2953\" y=\"-973.8\" font-family=\"Times,serif\" font-size=\"14.00\" fill=\"#000000\">X[2] &lt;= 1.5</text>\n<text text-anchor=\"middle\" x=\"2953\" y=\"-958.8\" font-family=\"Times,serif\" font-size=\"14.00\" fill=\"#000000\">entropy = 1.335</text>\n<text text-anchor=\"middle\" x=\"2953\" y=\"-943.8\" font-family=\"Times,serif\" font-size=\"14.00\" fill=\"#000000\">samples = 37</text>\n<text text-anchor=\"middle\" x=\"2953\" y=\"-928.8\" font-family=\"Times,serif\" font-size=\"14.00\" fill=\"#000000\">value = [7, 7, 23]</text>\n</g>\n<!-- 75&#45;&gt;76 -->\n<g id=\"edge76\" class=\"edge\">\n<title>75&#45;&gt;76</title>\n<path fill=\"none\" stroke=\"#000000\" d=\"M3178.1531,-1036.3053C3131.8553,-1019.5866 3068.9401,-996.8673 3021.3847,-979.6945\"/>\n<polygon fill=\"#000000\" stroke=\"#000000\" points=\"3022.3794,-976.3325 3011.7851,-976.2279 3020.0018,-982.9164 3022.3794,-976.3325\"/>\n</g>\n<!-- 107 -->\n<g id=\"node108\" class=\"node\">\n<title>107</title>\n<polygon fill=\"none\" stroke=\"#000000\" points=\"3566.5,-989 3449.5,-989 3449.5,-921 3566.5,-921 3566.5,-989\"/>\n<text text-anchor=\"middle\" x=\"3508\" y=\"-973.8\" font-family=\"Times,serif\" font-size=\"14.00\" fill=\"#000000\">X[1] &lt;= 2.5</text>\n<text text-anchor=\"middle\" x=\"3508\" y=\"-958.8\" font-family=\"Times,serif\" font-size=\"14.00\" fill=\"#000000\">entropy = 0.788</text>\n<text text-anchor=\"middle\" x=\"3508\" y=\"-943.8\" font-family=\"Times,serif\" font-size=\"14.00\" fill=\"#000000\">samples = 63</text>\n<text text-anchor=\"middle\" x=\"3508\" y=\"-928.8\" font-family=\"Times,serif\" font-size=\"14.00\" fill=\"#000000\">value = [2, 52, 9]</text>\n</g>\n<!-- 75&#45;&gt;107 -->\n<g id=\"edge107\" class=\"edge\">\n<title>75&#45;&gt;107</title>\n<path fill=\"none\" stroke=\"#000000\" d=\"M3303.5996,-1034.6166C3344.5827,-1018.6532 3398.1242,-997.7981 3440.1278,-981.4371\"/>\n<polygon fill=\"#000000\" stroke=\"#000000\" points=\"3441.4018,-984.6971 3449.4496,-977.8062 3438.8611,-978.1744 3441.4018,-984.6971\"/>\n</g>\n<!-- 77 -->\n<g id=\"node78\" class=\"node\">\n<title>77</title>\n<polygon fill=\"none\" stroke=\"#000000\" points=\"2738,-885 2628,-885 2628,-817 2738,-817 2738,-885\"/>\n<text text-anchor=\"middle\" x=\"2683\" y=\"-869.8\" font-family=\"Times,serif\" font-size=\"14.00\" fill=\"#000000\">X[1] &lt;= 2.5</text>\n<text text-anchor=\"middle\" x=\"2683\" y=\"-854.8\" font-family=\"Times,serif\" font-size=\"14.00\" fill=\"#000000\">entropy = 1.513</text>\n<text text-anchor=\"middle\" x=\"2683\" y=\"-839.8\" font-family=\"Times,serif\" font-size=\"14.00\" fill=\"#000000\">samples = 20</text>\n<text text-anchor=\"middle\" x=\"2683\" y=\"-824.8\" font-family=\"Times,serif\" font-size=\"14.00\" fill=\"#000000\">value = [4, 7, 9]</text>\n</g>\n<!-- 76&#45;&gt;77 -->\n<g id=\"edge77\" class=\"edge\">\n<title>76&#45;&gt;77</title>\n<path fill=\"none\" stroke=\"#000000\" d=\"M2894.414,-932.4335C2851.2104,-915.7921 2792.4382,-893.154 2747.8264,-875.9702\"/>\n<polygon fill=\"#000000\" stroke=\"#000000\" points=\"2748.8365,-872.6086 2738.2467,-872.2802 2746.3203,-879.1408 2748.8365,-872.6086\"/>\n</g>\n<!-- 100 -->\n<g id=\"node101\" class=\"node\">\n<title>100</title>\n<polygon fill=\"none\" stroke=\"#000000\" points=\"3011.5,-885 2894.5,-885 2894.5,-817 3011.5,-817 3011.5,-885\"/>\n<text text-anchor=\"middle\" x=\"2953\" y=\"-869.8\" font-family=\"Times,serif\" font-size=\"14.00\" fill=\"#000000\">X[0] &lt;= 1.5</text>\n<text text-anchor=\"middle\" x=\"2953\" y=\"-854.8\" font-family=\"Times,serif\" font-size=\"14.00\" fill=\"#000000\">entropy = 0.672</text>\n<text text-anchor=\"middle\" x=\"2953\" y=\"-839.8\" font-family=\"Times,serif\" font-size=\"14.00\" fill=\"#000000\">samples = 17</text>\n<text text-anchor=\"middle\" x=\"2953\" y=\"-824.8\" font-family=\"Times,serif\" font-size=\"14.00\" fill=\"#000000\">value = [3, 0, 14]</text>\n</g>\n<!-- 76&#45;&gt;100 -->\n<g id=\"edge100\" class=\"edge\">\n<title>76&#45;&gt;100</title>\n<path fill=\"none\" stroke=\"#000000\" d=\"M2953,-920.9465C2953,-912.776 2953,-903.9318 2953,-895.3697\"/>\n<polygon fill=\"#000000\" stroke=\"#000000\" points=\"2956.5001,-895.13 2953,-885.13 2949.5001,-895.13 2956.5001,-895.13\"/>\n</g>\n<!-- 78 -->\n<g id=\"node79\" class=\"node\">\n<title>78</title>\n<polygon fill=\"none\" stroke=\"#000000\" points=\"2546,-781 2436,-781 2436,-713 2546,-713 2546,-781\"/>\n<text text-anchor=\"middle\" x=\"2491\" y=\"-765.8\" font-family=\"Times,serif\" font-size=\"14.00\" fill=\"#000000\">X[0] &lt;= 1.5</text>\n<text text-anchor=\"middle\" x=\"2491\" y=\"-750.8\" font-family=\"Times,serif\" font-size=\"14.00\" fill=\"#000000\">entropy = 0.986</text>\n<text text-anchor=\"middle\" x=\"2491\" y=\"-735.8\" font-family=\"Times,serif\" font-size=\"14.00\" fill=\"#000000\">samples = 9</text>\n<text text-anchor=\"middle\" x=\"2491\" y=\"-720.8\" font-family=\"Times,serif\" font-size=\"14.00\" fill=\"#000000\">value = [1, 1, 7]</text>\n</g>\n<!-- 77&#45;&gt;78 -->\n<g id=\"edge78\" class=\"edge\">\n<title>77&#45;&gt;78</title>\n<path fill=\"none\" stroke=\"#000000\" d=\"M2627.9805,-821.1978C2605.1844,-808.8499 2578.5931,-794.4463 2554.9364,-781.6322\"/>\n<polygon fill=\"#000000\" stroke=\"#000000\" points=\"2556.4875,-778.4919 2546.0275,-776.8066 2553.1535,-784.647 2556.4875,-778.4919\"/>\n</g>\n<!-- 87 -->\n<g id=\"node88\" class=\"node\">\n<title>87</title>\n<polygon fill=\"none\" stroke=\"#000000\" points=\"2738,-781 2628,-781 2628,-713 2738,-713 2738,-781\"/>\n<text text-anchor=\"middle\" x=\"2683\" y=\"-765.8\" font-family=\"Times,serif\" font-size=\"14.00\" fill=\"#000000\">X[0] &lt;= 1.5</text>\n<text text-anchor=\"middle\" x=\"2683\" y=\"-750.8\" font-family=\"Times,serif\" font-size=\"14.00\" fill=\"#000000\">entropy = 1.435</text>\n<text text-anchor=\"middle\" x=\"2683\" y=\"-735.8\" font-family=\"Times,serif\" font-size=\"14.00\" fill=\"#000000\">samples = 11</text>\n<text text-anchor=\"middle\" x=\"2683\" y=\"-720.8\" font-family=\"Times,serif\" font-size=\"14.00\" fill=\"#000000\">value = [3, 6, 2]</text>\n</g>\n<!-- 77&#45;&gt;87 -->\n<g id=\"edge87\" class=\"edge\">\n<title>77&#45;&gt;87</title>\n<path fill=\"none\" stroke=\"#000000\" d=\"M2683,-816.9465C2683,-808.776 2683,-799.9318 2683,-791.3697\"/>\n<polygon fill=\"#000000\" stroke=\"#000000\" points=\"2686.5001,-791.13 2683,-781.13 2679.5001,-791.13 2686.5001,-791.13\"/>\n</g>\n<!-- 79 -->\n<g id=\"node80\" class=\"node\">\n<title>79</title>\n<polygon fill=\"none\" stroke=\"#000000\" points=\"2418,-669.5 2308,-669.5 2308,-616.5 2418,-616.5 2418,-669.5\"/>\n<text text-anchor=\"middle\" x=\"2363\" y=\"-654.3\" font-family=\"Times,serif\" font-size=\"14.00\" fill=\"#000000\">entropy = 0.0</text>\n<text text-anchor=\"middle\" x=\"2363\" y=\"-639.3\" font-family=\"Times,serif\" font-size=\"14.00\" fill=\"#000000\">samples = 5</text>\n<text text-anchor=\"middle\" x=\"2363\" y=\"-624.3\" font-family=\"Times,serif\" font-size=\"14.00\" fill=\"#000000\">value = [0, 0, 5]</text>\n</g>\n<!-- 78&#45;&gt;79 -->\n<g id=\"edge79\" class=\"edge\">\n<title>78&#45;&gt;79</title>\n<path fill=\"none\" stroke=\"#000000\" d=\"M2449.088,-712.9465C2434.4467,-701.0504 2418.0474,-687.726 2403.5215,-675.9237\"/>\n<polygon fill=\"#000000\" stroke=\"#000000\" points=\"2405.6355,-673.1317 2395.6673,-669.5422 2401.2214,-678.5645 2405.6355,-673.1317\"/>\n</g>\n<!-- 80 -->\n<g id=\"node81\" class=\"node\">\n<title>80</title>\n<polygon fill=\"none\" stroke=\"#000000\" points=\"2546,-677 2436,-677 2436,-609 2546,-609 2546,-677\"/>\n<text text-anchor=\"middle\" x=\"2491\" y=\"-661.8\" font-family=\"Times,serif\" font-size=\"14.00\" fill=\"#000000\">X[3] &lt;= 3.5</text>\n<text text-anchor=\"middle\" x=\"2491\" y=\"-646.8\" font-family=\"Times,serif\" font-size=\"14.00\" fill=\"#000000\">entropy = 1.5</text>\n<text text-anchor=\"middle\" x=\"2491\" y=\"-631.8\" font-family=\"Times,serif\" font-size=\"14.00\" fill=\"#000000\">samples = 4</text>\n<text text-anchor=\"middle\" x=\"2491\" y=\"-616.8\" font-family=\"Times,serif\" font-size=\"14.00\" fill=\"#000000\">value = [1, 1, 2]</text>\n</g>\n<!-- 78&#45;&gt;80 -->\n<g id=\"edge80\" class=\"edge\">\n<title>78&#45;&gt;80</title>\n<path fill=\"none\" stroke=\"#000000\" d=\"M2491,-712.9465C2491,-704.776 2491,-695.9318 2491,-687.3697\"/>\n<polygon fill=\"#000000\" stroke=\"#000000\" points=\"2494.5001,-687.13 2491,-677.13 2487.5001,-687.13 2494.5001,-687.13\"/>\n</g>\n<!-- 81 -->\n<g id=\"node82\" class=\"node\">\n<title>81</title>\n<polygon fill=\"none\" stroke=\"#000000\" points=\"2418,-565.5 2308,-565.5 2308,-512.5 2418,-512.5 2418,-565.5\"/>\n<text text-anchor=\"middle\" x=\"2363\" y=\"-550.3\" font-family=\"Times,serif\" font-size=\"14.00\" fill=\"#000000\">entropy = 0.0</text>\n<text text-anchor=\"middle\" x=\"2363\" y=\"-535.3\" font-family=\"Times,serif\" font-size=\"14.00\" fill=\"#000000\">samples = 1</text>\n<text text-anchor=\"middle\" x=\"2363\" y=\"-520.3\" font-family=\"Times,serif\" font-size=\"14.00\" fill=\"#000000\">value = [0, 1, 0]</text>\n</g>\n<!-- 80&#45;&gt;81 -->\n<g id=\"edge81\" class=\"edge\">\n<title>80&#45;&gt;81</title>\n<path fill=\"none\" stroke=\"#000000\" d=\"M2449.088,-608.9465C2434.4467,-597.0504 2418.0474,-583.726 2403.5215,-571.9237\"/>\n<polygon fill=\"#000000\" stroke=\"#000000\" points=\"2405.6355,-569.1317 2395.6673,-565.5422 2401.2214,-574.5645 2405.6355,-569.1317\"/>\n</g>\n<!-- 82 -->\n<g id=\"node83\" class=\"node\">\n<title>82</title>\n<polygon fill=\"none\" stroke=\"#000000\" points=\"2546,-573 2436,-573 2436,-505 2546,-505 2546,-573\"/>\n<text text-anchor=\"middle\" x=\"2491\" y=\"-557.8\" font-family=\"Times,serif\" font-size=\"14.00\" fill=\"#000000\">X[1] &lt;= 1.5</text>\n<text text-anchor=\"middle\" x=\"2491\" y=\"-542.8\" font-family=\"Times,serif\" font-size=\"14.00\" fill=\"#000000\">entropy = 0.918</text>\n<text text-anchor=\"middle\" x=\"2491\" y=\"-527.8\" font-family=\"Times,serif\" font-size=\"14.00\" fill=\"#000000\">samples = 3</text>\n<text text-anchor=\"middle\" x=\"2491\" y=\"-512.8\" font-family=\"Times,serif\" font-size=\"14.00\" fill=\"#000000\">value = [1, 0, 2]</text>\n</g>\n<!-- 80&#45;&gt;82 -->\n<g id=\"edge82\" class=\"edge\">\n<title>80&#45;&gt;82</title>\n<path fill=\"none\" stroke=\"#000000\" d=\"M2491,-608.9465C2491,-600.776 2491,-591.9318 2491,-583.3697\"/>\n<polygon fill=\"#000000\" stroke=\"#000000\" points=\"2494.5001,-583.13 2491,-573.13 2487.5001,-583.13 2494.5001,-583.13\"/>\n</g>\n<!-- 83 -->\n<g id=\"node84\" class=\"node\">\n<title>83</title>\n<polygon fill=\"none\" stroke=\"#000000\" points=\"2354,-461.5 2244,-461.5 2244,-408.5 2354,-408.5 2354,-461.5\"/>\n<text text-anchor=\"middle\" x=\"2299\" y=\"-446.3\" font-family=\"Times,serif\" font-size=\"14.00\" fill=\"#000000\">entropy = 0.0</text>\n<text text-anchor=\"middle\" x=\"2299\" y=\"-431.3\" font-family=\"Times,serif\" font-size=\"14.00\" fill=\"#000000\">samples = 1</text>\n<text text-anchor=\"middle\" x=\"2299\" y=\"-416.3\" font-family=\"Times,serif\" font-size=\"14.00\" fill=\"#000000\">value = [0, 0, 1]</text>\n</g>\n<!-- 82&#45;&gt;83 -->\n<g id=\"edge83\" class=\"edge\">\n<title>82&#45;&gt;83</title>\n<path fill=\"none\" stroke=\"#000000\" d=\"M2435.9805,-509.1978C2411.3076,-495.8333 2382.1886,-480.0605 2357.1567,-466.5015\"/>\n<polygon fill=\"#000000\" stroke=\"#000000\" points=\"2358.5951,-463.3002 2348.1351,-461.6149 2355.261,-469.4553 2358.5951,-463.3002\"/>\n</g>\n<!-- 84 -->\n<g id=\"node85\" class=\"node\">\n<title>84</title>\n<polygon fill=\"none\" stroke=\"#000000\" points=\"2482,-469 2372,-469 2372,-401 2482,-401 2482,-469\"/>\n<text text-anchor=\"middle\" x=\"2427\" y=\"-453.8\" font-family=\"Times,serif\" font-size=\"14.00\" fill=\"#000000\">X[3] &lt;= 4.5</text>\n<text text-anchor=\"middle\" x=\"2427\" y=\"-438.8\" font-family=\"Times,serif\" font-size=\"14.00\" fill=\"#000000\">entropy = 1.0</text>\n<text text-anchor=\"middle\" x=\"2427\" y=\"-423.8\" font-family=\"Times,serif\" font-size=\"14.00\" fill=\"#000000\">samples = 2</text>\n<text text-anchor=\"middle\" x=\"2427\" y=\"-408.8\" font-family=\"Times,serif\" font-size=\"14.00\" fill=\"#000000\">value = [1, 0, 1]</text>\n</g>\n<!-- 82&#45;&gt;84 -->\n<g id=\"edge84\" class=\"edge\">\n<title>82&#45;&gt;84</title>\n<path fill=\"none\" stroke=\"#000000\" d=\"M2470.044,-504.9465C2464.6845,-496.2373 2458.8539,-486.7626 2453.2647,-477.6801\"/>\n<polygon fill=\"#000000\" stroke=\"#000000\" points=\"2456.2249,-475.8122 2448.0031,-469.13 2450.2633,-479.481 2456.2249,-475.8122\"/>\n</g>\n<!-- 85 -->\n<g id=\"node86\" class=\"node\">\n<title>85</title>\n<polygon fill=\"none\" stroke=\"#000000\" points=\"2418,-357.5 2308,-357.5 2308,-304.5 2418,-304.5 2418,-357.5\"/>\n<text text-anchor=\"middle\" x=\"2363\" y=\"-342.3\" font-family=\"Times,serif\" font-size=\"14.00\" fill=\"#000000\">entropy = 0.0</text>\n<text text-anchor=\"middle\" x=\"2363\" y=\"-327.3\" font-family=\"Times,serif\" font-size=\"14.00\" fill=\"#000000\">samples = 1</text>\n<text text-anchor=\"middle\" x=\"2363\" y=\"-312.3\" font-family=\"Times,serif\" font-size=\"14.00\" fill=\"#000000\">value = [1, 0, 0]</text>\n</g>\n<!-- 84&#45;&gt;85 -->\n<g id=\"edge85\" class=\"edge\">\n<title>84&#45;&gt;85</title>\n<path fill=\"none\" stroke=\"#000000\" d=\"M2406.044,-400.9465C2399.1978,-389.8215 2391.5829,-377.4473 2384.6843,-366.237\"/>\n<polygon fill=\"#000000\" stroke=\"#000000\" points=\"2387.5555,-364.2244 2379.3336,-357.5422 2381.5939,-367.8931 2387.5555,-364.2244\"/>\n</g>\n<!-- 86 -->\n<g id=\"node87\" class=\"node\">\n<title>86</title>\n<polygon fill=\"none\" stroke=\"#000000\" points=\"2546,-357.5 2436,-357.5 2436,-304.5 2546,-304.5 2546,-357.5\"/>\n<text text-anchor=\"middle\" x=\"2491\" y=\"-342.3\" font-family=\"Times,serif\" font-size=\"14.00\" fill=\"#000000\">entropy = 0.0</text>\n<text text-anchor=\"middle\" x=\"2491\" y=\"-327.3\" font-family=\"Times,serif\" font-size=\"14.00\" fill=\"#000000\">samples = 1</text>\n<text text-anchor=\"middle\" x=\"2491\" y=\"-312.3\" font-family=\"Times,serif\" font-size=\"14.00\" fill=\"#000000\">value = [0, 0, 1]</text>\n</g>\n<!-- 84&#45;&gt;86 -->\n<g id=\"edge86\" class=\"edge\">\n<title>84&#45;&gt;86</title>\n<path fill=\"none\" stroke=\"#000000\" d=\"M2447.956,-400.9465C2454.8022,-389.8215 2462.4171,-377.4473 2469.3157,-366.237\"/>\n<polygon fill=\"#000000\" stroke=\"#000000\" points=\"2472.4061,-367.8931 2474.6664,-357.5422 2466.4445,-364.2244 2472.4061,-367.8931\"/>\n</g>\n<!-- 88 -->\n<g id=\"node89\" class=\"node\">\n<title>88</title>\n<polygon fill=\"none\" stroke=\"#000000\" points=\"2706,-677 2596,-677 2596,-609 2706,-609 2706,-677\"/>\n<text text-anchor=\"middle\" x=\"2651\" y=\"-661.8\" font-family=\"Times,serif\" font-size=\"14.00\" fill=\"#000000\">X[3] &lt;= 4.5</text>\n<text text-anchor=\"middle\" x=\"2651\" y=\"-646.8\" font-family=\"Times,serif\" font-size=\"14.00\" fill=\"#000000\">entropy = 1.557</text>\n<text text-anchor=\"middle\" x=\"2651\" y=\"-631.8\" font-family=\"Times,serif\" font-size=\"14.00\" fill=\"#000000\">samples = 7</text>\n<text text-anchor=\"middle\" x=\"2651\" y=\"-616.8\" font-family=\"Times,serif\" font-size=\"14.00\" fill=\"#000000\">value = [3, 2, 2]</text>\n</g>\n<!-- 87&#45;&gt;88 -->\n<g id=\"edge88\" class=\"edge\">\n<title>87&#45;&gt;88</title>\n<path fill=\"none\" stroke=\"#000000\" d=\"M2672.522,-712.9465C2669.9528,-704.5965 2667.167,-695.5427 2664.4786,-686.8056\"/>\n<polygon fill=\"#000000\" stroke=\"#000000\" points=\"2667.7877,-685.6585 2661.5015,-677.13 2661.0972,-687.7171 2667.7877,-685.6585\"/>\n</g>\n<!-- 99 -->\n<g id=\"node100\" class=\"node\">\n<title>99</title>\n<polygon fill=\"none\" stroke=\"#000000\" points=\"2834,-669.5 2724,-669.5 2724,-616.5 2834,-616.5 2834,-669.5\"/>\n<text text-anchor=\"middle\" x=\"2779\" y=\"-654.3\" font-family=\"Times,serif\" font-size=\"14.00\" fill=\"#000000\">entropy = 0.0</text>\n<text text-anchor=\"middle\" x=\"2779\" y=\"-639.3\" font-family=\"Times,serif\" font-size=\"14.00\" fill=\"#000000\">samples = 4</text>\n<text text-anchor=\"middle\" x=\"2779\" y=\"-624.3\" font-family=\"Times,serif\" font-size=\"14.00\" fill=\"#000000\">value = [0, 4, 0]</text>\n</g>\n<!-- 87&#45;&gt;99 -->\n<g id=\"edge99\" class=\"edge\">\n<title>87&#45;&gt;99</title>\n<path fill=\"none\" stroke=\"#000000\" d=\"M2714.434,-712.9465C2725.11,-701.3809 2737.0322,-688.4652 2747.6978,-676.9107\"/>\n<polygon fill=\"#000000\" stroke=\"#000000\" points=\"2750.2885,-679.2642 2754.4995,-669.5422 2745.1449,-674.5162 2750.2885,-679.2642\"/>\n</g>\n<!-- 89 -->\n<g id=\"node90\" class=\"node\">\n<title>89</title>\n<polygon fill=\"none\" stroke=\"#000000\" points=\"2674,-573 2564,-573 2564,-505 2674,-505 2674,-573\"/>\n<text text-anchor=\"middle\" x=\"2619\" y=\"-557.8\" font-family=\"Times,serif\" font-size=\"14.00\" fill=\"#000000\">X[1] &lt;= 3.5</text>\n<text text-anchor=\"middle\" x=\"2619\" y=\"-542.8\" font-family=\"Times,serif\" font-size=\"14.00\" fill=\"#000000\">entropy = 1.0</text>\n<text text-anchor=\"middle\" x=\"2619\" y=\"-527.8\" font-family=\"Times,serif\" font-size=\"14.00\" fill=\"#000000\">samples = 4</text>\n<text text-anchor=\"middle\" x=\"2619\" y=\"-512.8\" font-family=\"Times,serif\" font-size=\"14.00\" fill=\"#000000\">value = [2, 2, 0]</text>\n</g>\n<!-- 88&#45;&gt;89 -->\n<g id=\"edge89\" class=\"edge\">\n<title>88&#45;&gt;89</title>\n<path fill=\"none\" stroke=\"#000000\" d=\"M2640.522,-608.9465C2637.9528,-600.5965 2635.167,-591.5427 2632.4786,-582.8056\"/>\n<polygon fill=\"#000000\" stroke=\"#000000\" points=\"2635.7877,-581.6585 2629.5015,-573.13 2629.0972,-583.7171 2635.7877,-581.6585\"/>\n</g>\n<!-- 96 -->\n<g id=\"node97\" class=\"node\">\n<title>96</title>\n<polygon fill=\"none\" stroke=\"#000000\" points=\"2802,-573 2692,-573 2692,-505 2802,-505 2802,-573\"/>\n<text text-anchor=\"middle\" x=\"2747\" y=\"-557.8\" font-family=\"Times,serif\" font-size=\"14.00\" fill=\"#000000\">X[1] &lt;= 4.5</text>\n<text text-anchor=\"middle\" x=\"2747\" y=\"-542.8\" font-family=\"Times,serif\" font-size=\"14.00\" fill=\"#000000\">entropy = 0.918</text>\n<text text-anchor=\"middle\" x=\"2747\" y=\"-527.8\" font-family=\"Times,serif\" font-size=\"14.00\" fill=\"#000000\">samples = 3</text>\n<text text-anchor=\"middle\" x=\"2747\" y=\"-512.8\" font-family=\"Times,serif\" font-size=\"14.00\" fill=\"#000000\">value = [1, 0, 2]</text>\n</g>\n<!-- 88&#45;&gt;96 -->\n<g id=\"edge96\" class=\"edge\">\n<title>88&#45;&gt;96</title>\n<path fill=\"none\" stroke=\"#000000\" d=\"M2682.434,-608.9465C2690.8047,-599.8782 2699.9416,-589.9799 2708.6383,-580.5585\"/>\n<polygon fill=\"#000000\" stroke=\"#000000\" points=\"2711.2844,-582.852 2715.4954,-573.13 2706.1407,-578.1041 2711.2844,-582.852\"/>\n</g>\n<!-- 90 -->\n<g id=\"node91\" class=\"node\">\n<title>90</title>\n<polygon fill=\"none\" stroke=\"#000000\" points=\"2610,-461.5 2500,-461.5 2500,-408.5 2610,-408.5 2610,-461.5\"/>\n<text text-anchor=\"middle\" x=\"2555\" y=\"-446.3\" font-family=\"Times,serif\" font-size=\"14.00\" fill=\"#000000\">entropy = 0.0</text>\n<text text-anchor=\"middle\" x=\"2555\" y=\"-431.3\" font-family=\"Times,serif\" font-size=\"14.00\" fill=\"#000000\">samples = 1</text>\n<text text-anchor=\"middle\" x=\"2555\" y=\"-416.3\" font-family=\"Times,serif\" font-size=\"14.00\" fill=\"#000000\">value = [1, 0, 0]</text>\n</g>\n<!-- 89&#45;&gt;90 -->\n<g id=\"edge90\" class=\"edge\">\n<title>89&#45;&gt;90</title>\n<path fill=\"none\" stroke=\"#000000\" d=\"M2598.044,-504.9465C2591.1978,-493.8215 2583.5829,-481.4473 2576.6843,-470.237\"/>\n<polygon fill=\"#000000\" stroke=\"#000000\" points=\"2579.5555,-468.2244 2571.3336,-461.5422 2573.5939,-471.8931 2579.5555,-468.2244\"/>\n</g>\n<!-- 91 -->\n<g id=\"node92\" class=\"node\">\n<title>91</title>\n<polygon fill=\"none\" stroke=\"#000000\" points=\"2738,-469 2628,-469 2628,-401 2738,-401 2738,-469\"/>\n<text text-anchor=\"middle\" x=\"2683\" y=\"-453.8\" font-family=\"Times,serif\" font-size=\"14.00\" fill=\"#000000\">X[3] &lt;= 3.5</text>\n<text text-anchor=\"middle\" x=\"2683\" y=\"-438.8\" font-family=\"Times,serif\" font-size=\"14.00\" fill=\"#000000\">entropy = 0.918</text>\n<text text-anchor=\"middle\" x=\"2683\" y=\"-423.8\" font-family=\"Times,serif\" font-size=\"14.00\" fill=\"#000000\">samples = 3</text>\n<text text-anchor=\"middle\" x=\"2683\" y=\"-408.8\" font-family=\"Times,serif\" font-size=\"14.00\" fill=\"#000000\">value = [1, 2, 0]</text>\n</g>\n<!-- 89&#45;&gt;91 -->\n<g id=\"edge91\" class=\"edge\">\n<title>89&#45;&gt;91</title>\n<path fill=\"none\" stroke=\"#000000\" d=\"M2639.956,-504.9465C2645.3155,-496.2373 2651.1461,-486.7626 2656.7353,-477.6801\"/>\n<polygon fill=\"#000000\" stroke=\"#000000\" points=\"2659.7367,-479.481 2661.9969,-469.13 2653.7751,-475.8122 2659.7367,-479.481\"/>\n</g>\n<!-- 92 -->\n<g id=\"node93\" class=\"node\">\n<title>92</title>\n<polygon fill=\"none\" stroke=\"#000000\" points=\"2706,-357.5 2596,-357.5 2596,-304.5 2706,-304.5 2706,-357.5\"/>\n<text text-anchor=\"middle\" x=\"2651\" y=\"-342.3\" font-family=\"Times,serif\" font-size=\"14.00\" fill=\"#000000\">entropy = 0.0</text>\n<text text-anchor=\"middle\" x=\"2651\" y=\"-327.3\" font-family=\"Times,serif\" font-size=\"14.00\" fill=\"#000000\">samples = 1</text>\n<text text-anchor=\"middle\" x=\"2651\" y=\"-312.3\" font-family=\"Times,serif\" font-size=\"14.00\" fill=\"#000000\">value = [0, 1, 0]</text>\n</g>\n<!-- 91&#45;&gt;92 -->\n<g id=\"edge92\" class=\"edge\">\n<title>91&#45;&gt;92</title>\n<path fill=\"none\" stroke=\"#000000\" d=\"M2672.522,-400.9465C2669.2006,-390.1519 2665.5173,-378.1813 2662.1504,-367.2389\"/>\n<polygon fill=\"#000000\" stroke=\"#000000\" points=\"2665.453,-366.0706 2659.1668,-357.5422 2658.7625,-368.1293 2665.453,-366.0706\"/>\n</g>\n<!-- 93 -->\n<g id=\"node94\" class=\"node\">\n<title>93</title>\n<polygon fill=\"none\" stroke=\"#000000\" points=\"2834,-365 2724,-365 2724,-297 2834,-297 2834,-365\"/>\n<text text-anchor=\"middle\" x=\"2779\" y=\"-349.8\" font-family=\"Times,serif\" font-size=\"14.00\" fill=\"#000000\">X[1] &lt;= 4.5</text>\n<text text-anchor=\"middle\" x=\"2779\" y=\"-334.8\" font-family=\"Times,serif\" font-size=\"14.00\" fill=\"#000000\">entropy = 1.0</text>\n<text text-anchor=\"middle\" x=\"2779\" y=\"-319.8\" font-family=\"Times,serif\" font-size=\"14.00\" fill=\"#000000\">samples = 2</text>\n<text text-anchor=\"middle\" x=\"2779\" y=\"-304.8\" font-family=\"Times,serif\" font-size=\"14.00\" fill=\"#000000\">value = [1, 1, 0]</text>\n</g>\n<!-- 91&#45;&gt;93 -->\n<g id=\"edge93\" class=\"edge\">\n<title>91&#45;&gt;93</title>\n<path fill=\"none\" stroke=\"#000000\" d=\"M2714.434,-400.9465C2722.8047,-391.8782 2731.9416,-381.9799 2740.6383,-372.5585\"/>\n<polygon fill=\"#000000\" stroke=\"#000000\" points=\"2743.2844,-374.852 2747.4954,-365.13 2738.1407,-370.1041 2743.2844,-374.852\"/>\n</g>\n<!-- 94 -->\n<g id=\"node95\" class=\"node\">\n<title>94</title>\n<polygon fill=\"none\" stroke=\"#000000\" points=\"2770,-253.5 2660,-253.5 2660,-200.5 2770,-200.5 2770,-253.5\"/>\n<text text-anchor=\"middle\" x=\"2715\" y=\"-238.3\" font-family=\"Times,serif\" font-size=\"14.00\" fill=\"#000000\">entropy = 0.0</text>\n<text text-anchor=\"middle\" x=\"2715\" y=\"-223.3\" font-family=\"Times,serif\" font-size=\"14.00\" fill=\"#000000\">samples = 1</text>\n<text text-anchor=\"middle\" x=\"2715\" y=\"-208.3\" font-family=\"Times,serif\" font-size=\"14.00\" fill=\"#000000\">value = [1, 0, 0]</text>\n</g>\n<!-- 93&#45;&gt;94 -->\n<g id=\"edge94\" class=\"edge\">\n<title>93&#45;&gt;94</title>\n<path fill=\"none\" stroke=\"#000000\" d=\"M2758.044,-296.9465C2751.1978,-285.8215 2743.5829,-273.4473 2736.6843,-262.237\"/>\n<polygon fill=\"#000000\" stroke=\"#000000\" points=\"2739.5555,-260.2244 2731.3336,-253.5422 2733.5939,-263.8931 2739.5555,-260.2244\"/>\n</g>\n<!-- 95 -->\n<g id=\"node96\" class=\"node\">\n<title>95</title>\n<polygon fill=\"none\" stroke=\"#000000\" points=\"2898,-253.5 2788,-253.5 2788,-200.5 2898,-200.5 2898,-253.5\"/>\n<text text-anchor=\"middle\" x=\"2843\" y=\"-238.3\" font-family=\"Times,serif\" font-size=\"14.00\" fill=\"#000000\">entropy = 0.0</text>\n<text text-anchor=\"middle\" x=\"2843\" y=\"-223.3\" font-family=\"Times,serif\" font-size=\"14.00\" fill=\"#000000\">samples = 1</text>\n<text text-anchor=\"middle\" x=\"2843\" y=\"-208.3\" font-family=\"Times,serif\" font-size=\"14.00\" fill=\"#000000\">value = [0, 1, 0]</text>\n</g>\n<!-- 93&#45;&gt;95 -->\n<g id=\"edge95\" class=\"edge\">\n<title>93&#45;&gt;95</title>\n<path fill=\"none\" stroke=\"#000000\" d=\"M2799.956,-296.9465C2806.8022,-285.8215 2814.4171,-273.4473 2821.3157,-262.237\"/>\n<polygon fill=\"#000000\" stroke=\"#000000\" points=\"2824.4061,-263.8931 2826.6664,-253.5422 2818.4445,-260.2244 2824.4061,-263.8931\"/>\n</g>\n<!-- 97 -->\n<g id=\"node98\" class=\"node\">\n<title>97</title>\n<polygon fill=\"none\" stroke=\"#000000\" points=\"2866,-461.5 2756,-461.5 2756,-408.5 2866,-408.5 2866,-461.5\"/>\n<text text-anchor=\"middle\" x=\"2811\" y=\"-446.3\" font-family=\"Times,serif\" font-size=\"14.00\" fill=\"#000000\">entropy = 0.0</text>\n<text text-anchor=\"middle\" x=\"2811\" y=\"-431.3\" font-family=\"Times,serif\" font-size=\"14.00\" fill=\"#000000\">samples = 2</text>\n<text text-anchor=\"middle\" x=\"2811\" y=\"-416.3\" font-family=\"Times,serif\" font-size=\"14.00\" fill=\"#000000\">value = [0, 0, 2]</text>\n</g>\n<!-- 96&#45;&gt;97 -->\n<g id=\"edge97\" class=\"edge\">\n<title>96&#45;&gt;97</title>\n<path fill=\"none\" stroke=\"#000000\" d=\"M2767.956,-504.9465C2774.8022,-493.8215 2782.4171,-481.4473 2789.3157,-470.237\"/>\n<polygon fill=\"#000000\" stroke=\"#000000\" points=\"2792.4061,-471.8931 2794.6664,-461.5422 2786.4445,-468.2244 2792.4061,-471.8931\"/>\n</g>\n<!-- 98 -->\n<g id=\"node99\" class=\"node\">\n<title>98</title>\n<polygon fill=\"none\" stroke=\"#000000\" points=\"2994,-461.5 2884,-461.5 2884,-408.5 2994,-408.5 2994,-461.5\"/>\n<text text-anchor=\"middle\" x=\"2939\" y=\"-446.3\" font-family=\"Times,serif\" font-size=\"14.00\" fill=\"#000000\">entropy = 0.0</text>\n<text text-anchor=\"middle\" x=\"2939\" y=\"-431.3\" font-family=\"Times,serif\" font-size=\"14.00\" fill=\"#000000\">samples = 1</text>\n<text text-anchor=\"middle\" x=\"2939\" y=\"-416.3\" font-family=\"Times,serif\" font-size=\"14.00\" fill=\"#000000\">value = [1, 0, 0]</text>\n</g>\n<!-- 96&#45;&gt;98 -->\n<g id=\"edge98\" class=\"edge\">\n<title>96&#45;&gt;98</title>\n<path fill=\"none\" stroke=\"#000000\" d=\"M2802.0195,-509.1978C2826.6924,-495.8333 2855.8114,-480.0605 2880.8433,-466.5015\"/>\n<polygon fill=\"#000000\" stroke=\"#000000\" points=\"2882.739,-469.4553 2889.8649,-461.6149 2879.4049,-463.3002 2882.739,-469.4553\"/>\n</g>\n<!-- 101 -->\n<g id=\"node102\" class=\"node\">\n<title>101</title>\n<polygon fill=\"none\" stroke=\"#000000\" points=\"2945.5,-773.5 2828.5,-773.5 2828.5,-720.5 2945.5,-720.5 2945.5,-773.5\"/>\n<text text-anchor=\"middle\" x=\"2887\" y=\"-758.3\" font-family=\"Times,serif\" font-size=\"14.00\" fill=\"#000000\">entropy = 0.0</text>\n<text text-anchor=\"middle\" x=\"2887\" y=\"-743.3\" font-family=\"Times,serif\" font-size=\"14.00\" fill=\"#000000\">samples = 10</text>\n<text text-anchor=\"middle\" x=\"2887\" y=\"-728.3\" font-family=\"Times,serif\" font-size=\"14.00\" fill=\"#000000\">value = [0, 0, 10]</text>\n</g>\n<!-- 100&#45;&gt;101 -->\n<g id=\"edge101\" class=\"edge\">\n<title>100&#45;&gt;101</title>\n<path fill=\"none\" stroke=\"#000000\" d=\"M2931.3891,-816.9465C2924.329,-805.8215 2916.4761,-793.4473 2909.3619,-782.237\"/>\n<polygon fill=\"#000000\" stroke=\"#000000\" points=\"2912.1575,-780.1101 2903.8441,-773.5422 2906.2472,-783.8609 2912.1575,-780.1101\"/>\n</g>\n<!-- 102 -->\n<g id=\"node103\" class=\"node\">\n<title>102</title>\n<polygon fill=\"none\" stroke=\"#000000\" points=\"3074,-781 2964,-781 2964,-713 3074,-713 3074,-781\"/>\n<text text-anchor=\"middle\" x=\"3019\" y=\"-765.8\" font-family=\"Times,serif\" font-size=\"14.00\" fill=\"#000000\">X[1] &lt;= 3.5</text>\n<text text-anchor=\"middle\" x=\"3019\" y=\"-750.8\" font-family=\"Times,serif\" font-size=\"14.00\" fill=\"#000000\">entropy = 0.985</text>\n<text text-anchor=\"middle\" x=\"3019\" y=\"-735.8\" font-family=\"Times,serif\" font-size=\"14.00\" fill=\"#000000\">samples = 7</text>\n<text text-anchor=\"middle\" x=\"3019\" y=\"-720.8\" font-family=\"Times,serif\" font-size=\"14.00\" fill=\"#000000\">value = [3, 0, 4]</text>\n</g>\n<!-- 100&#45;&gt;102 -->\n<g id=\"edge102\" class=\"edge\">\n<title>100&#45;&gt;102</title>\n<path fill=\"none\" stroke=\"#000000\" d=\"M2974.6109,-816.9465C2980.1378,-808.2373 2986.1506,-798.7626 2991.9146,-789.6801\"/>\n<polygon fill=\"#000000\" stroke=\"#000000\" points=\"2994.9374,-791.4487 2997.3406,-781.13 2989.0271,-787.6979 2994.9374,-791.4487\"/>\n</g>\n<!-- 103 -->\n<g id=\"node104\" class=\"node\">\n<title>103</title>\n<polygon fill=\"none\" stroke=\"#000000\" points=\"3010,-677 2900,-677 2900,-609 3010,-609 3010,-677\"/>\n<text text-anchor=\"middle\" x=\"2955\" y=\"-661.8\" font-family=\"Times,serif\" font-size=\"14.00\" fill=\"#000000\">X[3] &lt;= 3.5</text>\n<text text-anchor=\"middle\" x=\"2955\" y=\"-646.8\" font-family=\"Times,serif\" font-size=\"14.00\" fill=\"#000000\">entropy = 0.722</text>\n<text text-anchor=\"middle\" x=\"2955\" y=\"-631.8\" font-family=\"Times,serif\" font-size=\"14.00\" fill=\"#000000\">samples = 5</text>\n<text text-anchor=\"middle\" x=\"2955\" y=\"-616.8\" font-family=\"Times,serif\" font-size=\"14.00\" fill=\"#000000\">value = [1, 0, 4]</text>\n</g>\n<!-- 102&#45;&gt;103 -->\n<g id=\"edge103\" class=\"edge\">\n<title>102&#45;&gt;103</title>\n<path fill=\"none\" stroke=\"#000000\" d=\"M2998.044,-712.9465C2992.6845,-704.2373 2986.8539,-694.7626 2981.2647,-685.6801\"/>\n<polygon fill=\"#000000\" stroke=\"#000000\" points=\"2984.2249,-683.8122 2976.0031,-677.13 2978.2633,-687.481 2984.2249,-683.8122\"/>\n</g>\n<!-- 106 -->\n<g id=\"node107\" class=\"node\">\n<title>106</title>\n<polygon fill=\"none\" stroke=\"#000000\" points=\"3138,-669.5 3028,-669.5 3028,-616.5 3138,-616.5 3138,-669.5\"/>\n<text text-anchor=\"middle\" x=\"3083\" y=\"-654.3\" font-family=\"Times,serif\" font-size=\"14.00\" fill=\"#000000\">entropy = 0.0</text>\n<text text-anchor=\"middle\" x=\"3083\" y=\"-639.3\" font-family=\"Times,serif\" font-size=\"14.00\" fill=\"#000000\">samples = 2</text>\n<text text-anchor=\"middle\" x=\"3083\" y=\"-624.3\" font-family=\"Times,serif\" font-size=\"14.00\" fill=\"#000000\">value = [2, 0, 0]</text>\n</g>\n<!-- 102&#45;&gt;106 -->\n<g id=\"edge106\" class=\"edge\">\n<title>102&#45;&gt;106</title>\n<path fill=\"none\" stroke=\"#000000\" d=\"M3039.956,-712.9465C3046.8022,-701.8215 3054.4171,-689.4473 3061.3157,-678.237\"/>\n<polygon fill=\"#000000\" stroke=\"#000000\" points=\"3064.4061,-679.8931 3066.6664,-669.5422 3058.4445,-676.2244 3064.4061,-679.8931\"/>\n</g>\n<!-- 104 -->\n<g id=\"node105\" class=\"node\">\n<title>104</title>\n<polygon fill=\"none\" stroke=\"#000000\" points=\"2930,-565.5 2820,-565.5 2820,-512.5 2930,-512.5 2930,-565.5\"/>\n<text text-anchor=\"middle\" x=\"2875\" y=\"-550.3\" font-family=\"Times,serif\" font-size=\"14.00\" fill=\"#000000\">entropy = 0.0</text>\n<text text-anchor=\"middle\" x=\"2875\" y=\"-535.3\" font-family=\"Times,serif\" font-size=\"14.00\" fill=\"#000000\">samples = 1</text>\n<text text-anchor=\"middle\" x=\"2875\" y=\"-520.3\" font-family=\"Times,serif\" font-size=\"14.00\" fill=\"#000000\">value = [1, 0, 0]</text>\n</g>\n<!-- 103&#45;&gt;104 -->\n<g id=\"edge104\" class=\"edge\">\n<title>103&#45;&gt;104</title>\n<path fill=\"none\" stroke=\"#000000\" d=\"M2928.805,-608.9465C2920.0778,-597.6012 2910.3513,-584.9567 2901.5941,-573.5724\"/>\n<polygon fill=\"#000000\" stroke=\"#000000\" points=\"2904.2884,-571.3344 2895.417,-565.5422 2898.74,-575.6024 2904.2884,-571.3344\"/>\n</g>\n<!-- 105 -->\n<g id=\"node106\" class=\"node\">\n<title>105</title>\n<polygon fill=\"none\" stroke=\"#000000\" points=\"3058,-565.5 2948,-565.5 2948,-512.5 3058,-512.5 3058,-565.5\"/>\n<text text-anchor=\"middle\" x=\"3003\" y=\"-550.3\" font-family=\"Times,serif\" font-size=\"14.00\" fill=\"#000000\">entropy = 0.0</text>\n<text text-anchor=\"middle\" x=\"3003\" y=\"-535.3\" font-family=\"Times,serif\" font-size=\"14.00\" fill=\"#000000\">samples = 4</text>\n<text text-anchor=\"middle\" x=\"3003\" y=\"-520.3\" font-family=\"Times,serif\" font-size=\"14.00\" fill=\"#000000\">value = [0, 0, 4]</text>\n</g>\n<!-- 103&#45;&gt;105 -->\n<g id=\"edge105\" class=\"edge\">\n<title>103&#45;&gt;105</title>\n<path fill=\"none\" stroke=\"#000000\" d=\"M2970.717,-608.9465C2975.75,-598.0418 2981.3368,-585.9368 2986.4288,-574.9043\"/>\n<polygon fill=\"#000000\" stroke=\"#000000\" points=\"2989.737,-576.0885 2990.7498,-565.5422 2983.3813,-573.155 2989.737,-576.0885\"/>\n</g>\n<!-- 108 -->\n<g id=\"node109\" class=\"node\">\n<title>108</title>\n<polygon fill=\"none\" stroke=\"#000000\" points=\"3566.5,-885 3449.5,-885 3449.5,-817 3566.5,-817 3566.5,-885\"/>\n<text text-anchor=\"middle\" x=\"3508\" y=\"-869.8\" font-family=\"Times,serif\" font-size=\"14.00\" fill=\"#000000\">X[2] &lt;= 1.5</text>\n<text text-anchor=\"middle\" x=\"3508\" y=\"-854.8\" font-family=\"Times,serif\" font-size=\"14.00\" fill=\"#000000\">entropy = 1.361</text>\n<text text-anchor=\"middle\" x=\"3508\" y=\"-839.8\" font-family=\"Times,serif\" font-size=\"14.00\" fill=\"#000000\">samples = 20</text>\n<text text-anchor=\"middle\" x=\"3508\" y=\"-824.8\" font-family=\"Times,serif\" font-size=\"14.00\" fill=\"#000000\">value = [2, 10, 8]</text>\n</g>\n<!-- 107&#45;&gt;108 -->\n<g id=\"edge108\" class=\"edge\">\n<title>107&#45;&gt;108</title>\n<path fill=\"none\" stroke=\"#000000\" d=\"M3508,-920.9465C3508,-912.776 3508,-903.9318 3508,-895.3697\"/>\n<polygon fill=\"#000000\" stroke=\"#000000\" points=\"3511.5001,-895.13 3508,-885.13 3504.5001,-895.13 3511.5001,-895.13\"/>\n</g>\n<!-- 125 -->\n<g id=\"node126\" class=\"node\">\n<title>125</title>\n<polygon fill=\"none\" stroke=\"#000000\" points=\"3825.5,-885 3708.5,-885 3708.5,-817 3825.5,-817 3825.5,-885\"/>\n<text text-anchor=\"middle\" x=\"3767\" y=\"-869.8\" font-family=\"Times,serif\" font-size=\"14.00\" fill=\"#000000\">X[3] &lt;= 4.5</text>\n<text text-anchor=\"middle\" x=\"3767\" y=\"-854.8\" font-family=\"Times,serif\" font-size=\"14.00\" fill=\"#000000\">entropy = 0.159</text>\n<text text-anchor=\"middle\" x=\"3767\" y=\"-839.8\" font-family=\"Times,serif\" font-size=\"14.00\" fill=\"#000000\">samples = 43</text>\n<text text-anchor=\"middle\" x=\"3767\" y=\"-824.8\" font-family=\"Times,serif\" font-size=\"14.00\" fill=\"#000000\">value = [0, 42, 1]</text>\n</g>\n<!-- 107&#45;&gt;125 -->\n<g id=\"edge125\" class=\"edge\">\n<title>107&#45;&gt;125</title>\n<path fill=\"none\" stroke=\"#000000\" d=\"M3566.7711,-931.4008C3606.0949,-915.6105 3657.9702,-894.7803 3699.0654,-878.2787\"/>\n<polygon fill=\"#000000\" stroke=\"#000000\" points=\"3700.4859,-881.4801 3708.4615,-874.5058 3697.8774,-874.9842 3700.4859,-881.4801\"/>\n</g>\n<!-- 109 -->\n<g id=\"node110\" class=\"node\">\n<title>109</title>\n<polygon fill=\"none\" stroke=\"#000000\" points=\"3504.5,-781 3387.5,-781 3387.5,-713 3504.5,-713 3504.5,-781\"/>\n<text text-anchor=\"middle\" x=\"3446\" y=\"-765.8\" font-family=\"Times,serif\" font-size=\"14.00\" fill=\"#000000\">X[3] &lt;= 4.5</text>\n<text text-anchor=\"middle\" x=\"3446\" y=\"-750.8\" font-family=\"Times,serif\" font-size=\"14.00\" fill=\"#000000\">entropy = 0.991</text>\n<text text-anchor=\"middle\" x=\"3446\" y=\"-735.8\" font-family=\"Times,serif\" font-size=\"14.00\" fill=\"#000000\">samples = 13</text>\n<text text-anchor=\"middle\" x=\"3446\" y=\"-720.8\" font-family=\"Times,serif\" font-size=\"14.00\" fill=\"#000000\">value = [1, 10, 2]</text>\n</g>\n<!-- 108&#45;&gt;109 -->\n<g id=\"edge109\" class=\"edge\">\n<title>108&#45;&gt;109</title>\n<path fill=\"none\" stroke=\"#000000\" d=\"M3487.6989,-816.9465C3482.5604,-808.3271 3476.9749,-798.9579 3471.6114,-789.9611\"/>\n<polygon fill=\"#000000\" stroke=\"#000000\" points=\"3474.4737,-787.9272 3466.3467,-781.13 3468.4611,-791.5117 3474.4737,-787.9272\"/>\n</g>\n<!-- 120 -->\n<g id=\"node121\" class=\"node\">\n<title>120</title>\n<polygon fill=\"none\" stroke=\"#000000\" points=\"3690,-781 3580,-781 3580,-713 3690,-713 3690,-781\"/>\n<text text-anchor=\"middle\" x=\"3635\" y=\"-765.8\" font-family=\"Times,serif\" font-size=\"14.00\" fill=\"#000000\">X[3] &lt;= 4.5</text>\n<text text-anchor=\"middle\" x=\"3635\" y=\"-750.8\" font-family=\"Times,serif\" font-size=\"14.00\" fill=\"#000000\">entropy = 0.592</text>\n<text text-anchor=\"middle\" x=\"3635\" y=\"-735.8\" font-family=\"Times,serif\" font-size=\"14.00\" fill=\"#000000\">samples = 7</text>\n<text text-anchor=\"middle\" x=\"3635\" y=\"-720.8\" font-family=\"Times,serif\" font-size=\"14.00\" fill=\"#000000\">value = [1, 0, 6]</text>\n</g>\n<!-- 108&#45;&gt;120 -->\n<g id=\"edge120\" class=\"edge\">\n<title>108&#45;&gt;120</title>\n<path fill=\"none\" stroke=\"#000000\" d=\"M3549.5845,-816.9465C3560.9873,-807.6088 3573.4647,-797.3911 3585.2743,-787.7203\"/>\n<polygon fill=\"#000000\" stroke=\"#000000\" points=\"3587.8026,-790.1736 3593.322,-781.13 3583.3676,-784.7578 3587.8026,-790.1736\"/>\n</g>\n<!-- 110 -->\n<g id=\"node111\" class=\"node\">\n<title>110</title>\n<polygon fill=\"none\" stroke=\"#000000\" points=\"3314,-677 3204,-677 3204,-609 3314,-609 3314,-677\"/>\n<text text-anchor=\"middle\" x=\"3259\" y=\"-661.8\" font-family=\"Times,serif\" font-size=\"14.00\" fill=\"#000000\">X[1] &lt;= 1.5</text>\n<text text-anchor=\"middle\" x=\"3259\" y=\"-646.8\" font-family=\"Times,serif\" font-size=\"14.00\" fill=\"#000000\">entropy = 0.503</text>\n<text text-anchor=\"middle\" x=\"3259\" y=\"-631.8\" font-family=\"Times,serif\" font-size=\"14.00\" fill=\"#000000\">samples = 9</text>\n<text text-anchor=\"middle\" x=\"3259\" y=\"-616.8\" font-family=\"Times,serif\" font-size=\"14.00\" fill=\"#000000\">value = [1, 8, 0]</text>\n</g>\n<!-- 109&#45;&gt;110 -->\n<g id=\"edge110\" class=\"edge\">\n<title>109&#45;&gt;110</title>\n<path fill=\"none\" stroke=\"#000000\" d=\"M3387.3451,-714.3791C3366.9136,-703.0161 3343.8917,-690.2125 3323.0454,-678.6188\"/>\n<polygon fill=\"#000000\" stroke=\"#000000\" points=\"3324.6989,-675.5336 3314.2584,-673.7319 3321.2966,-681.6512 3324.6989,-675.5336\"/>\n</g>\n<!-- 117 -->\n<g id=\"node118\" class=\"node\">\n<title>117</title>\n<polygon fill=\"none\" stroke=\"#000000\" points=\"3501,-677 3391,-677 3391,-609 3501,-609 3501,-677\"/>\n<text text-anchor=\"middle\" x=\"3446\" y=\"-661.8\" font-family=\"Times,serif\" font-size=\"14.00\" fill=\"#000000\">X[1] &lt;= 1.5</text>\n<text text-anchor=\"middle\" x=\"3446\" y=\"-646.8\" font-family=\"Times,serif\" font-size=\"14.00\" fill=\"#000000\">entropy = 1.0</text>\n<text text-anchor=\"middle\" x=\"3446\" y=\"-631.8\" font-family=\"Times,serif\" font-size=\"14.00\" fill=\"#000000\">samples = 4</text>\n<text text-anchor=\"middle\" x=\"3446\" y=\"-616.8\" font-family=\"Times,serif\" font-size=\"14.00\" fill=\"#000000\">value = [0, 2, 2]</text>\n</g>\n<!-- 109&#45;&gt;117 -->\n<g id=\"edge117\" class=\"edge\">\n<title>109&#45;&gt;117</title>\n<path fill=\"none\" stroke=\"#000000\" d=\"M3446,-712.9465C3446,-704.776 3446,-695.9318 3446,-687.3697\"/>\n<polygon fill=\"#000000\" stroke=\"#000000\" points=\"3449.5001,-687.13 3446,-677.13 3442.5001,-687.13 3449.5001,-687.13\"/>\n</g>\n<!-- 111 -->\n<g id=\"node112\" class=\"node\">\n<title>111</title>\n<polygon fill=\"none\" stroke=\"#000000\" points=\"3186,-573 3076,-573 3076,-505 3186,-505 3186,-573\"/>\n<text text-anchor=\"middle\" x=\"3131\" y=\"-557.8\" font-family=\"Times,serif\" font-size=\"14.00\" fill=\"#000000\">X[3] &lt;= 3.5</text>\n<text text-anchor=\"middle\" x=\"3131\" y=\"-542.8\" font-family=\"Times,serif\" font-size=\"14.00\" fill=\"#000000\">entropy = 0.811</text>\n<text text-anchor=\"middle\" x=\"3131\" y=\"-527.8\" font-family=\"Times,serif\" font-size=\"14.00\" fill=\"#000000\">samples = 4</text>\n<text text-anchor=\"middle\" x=\"3131\" y=\"-512.8\" font-family=\"Times,serif\" font-size=\"14.00\" fill=\"#000000\">value = [1, 3, 0]</text>\n</g>\n<!-- 110&#45;&gt;111 -->\n<g id=\"edge111\" class=\"edge\">\n<title>110&#45;&gt;111</title>\n<path fill=\"none\" stroke=\"#000000\" d=\"M3217.088,-608.9465C3205.485,-599.519 3192.7779,-589.1946 3180.7741,-579.4415\"/>\n<polygon fill=\"#000000\" stroke=\"#000000\" points=\"3182.9744,-576.7196 3173.0061,-573.13 3178.5602,-582.1524 3182.9744,-576.7196\"/>\n</g>\n<!-- 116 -->\n<g id=\"node117\" class=\"node\">\n<title>116</title>\n<polygon fill=\"none\" stroke=\"#000000\" points=\"3314,-565.5 3204,-565.5 3204,-512.5 3314,-512.5 3314,-565.5\"/>\n<text text-anchor=\"middle\" x=\"3259\" y=\"-550.3\" font-family=\"Times,serif\" font-size=\"14.00\" fill=\"#000000\">entropy = 0.0</text>\n<text text-anchor=\"middle\" x=\"3259\" y=\"-535.3\" font-family=\"Times,serif\" font-size=\"14.00\" fill=\"#000000\">samples = 5</text>\n<text text-anchor=\"middle\" x=\"3259\" y=\"-520.3\" font-family=\"Times,serif\" font-size=\"14.00\" fill=\"#000000\">value = [0, 5, 0]</text>\n</g>\n<!-- 110&#45;&gt;116 -->\n<g id=\"edge116\" class=\"edge\">\n<title>110&#45;&gt;116</title>\n<path fill=\"none\" stroke=\"#000000\" d=\"M3259,-608.9465C3259,-598.2621 3259,-586.4254 3259,-575.5742\"/>\n<polygon fill=\"#000000\" stroke=\"#000000\" points=\"3262.5001,-575.5421 3259,-565.5422 3255.5001,-575.5422 3262.5001,-575.5421\"/>\n</g>\n<!-- 112 -->\n<g id=\"node113\" class=\"node\">\n<title>112</title>\n<polygon fill=\"none\" stroke=\"#000000\" points=\"3154,-461.5 3044,-461.5 3044,-408.5 3154,-408.5 3154,-461.5\"/>\n<text text-anchor=\"middle\" x=\"3099\" y=\"-446.3\" font-family=\"Times,serif\" font-size=\"14.00\" fill=\"#000000\">entropy = 0.0</text>\n<text text-anchor=\"middle\" x=\"3099\" y=\"-431.3\" font-family=\"Times,serif\" font-size=\"14.00\" fill=\"#000000\">samples = 2</text>\n<text text-anchor=\"middle\" x=\"3099\" y=\"-416.3\" font-family=\"Times,serif\" font-size=\"14.00\" fill=\"#000000\">value = [0, 2, 0]</text>\n</g>\n<!-- 111&#45;&gt;112 -->\n<g id=\"edge112\" class=\"edge\">\n<title>111&#45;&gt;112</title>\n<path fill=\"none\" stroke=\"#000000\" d=\"M3120.522,-504.9465C3117.2006,-494.1519 3113.5173,-482.1813 3110.1504,-471.2389\"/>\n<polygon fill=\"#000000\" stroke=\"#000000\" points=\"3113.453,-470.0706 3107.1668,-461.5422 3106.7625,-472.1293 3113.453,-470.0706\"/>\n</g>\n<!-- 113 -->\n<g id=\"node114\" class=\"node\">\n<title>113</title>\n<polygon fill=\"none\" stroke=\"#000000\" points=\"3282,-469 3172,-469 3172,-401 3282,-401 3282,-469\"/>\n<text text-anchor=\"middle\" x=\"3227\" y=\"-453.8\" font-family=\"Times,serif\" font-size=\"14.00\" fill=\"#000000\">X[0] &lt;= 4.5</text>\n<text text-anchor=\"middle\" x=\"3227\" y=\"-438.8\" font-family=\"Times,serif\" font-size=\"14.00\" fill=\"#000000\">entropy = 1.0</text>\n<text text-anchor=\"middle\" x=\"3227\" y=\"-423.8\" font-family=\"Times,serif\" font-size=\"14.00\" fill=\"#000000\">samples = 2</text>\n<text text-anchor=\"middle\" x=\"3227\" y=\"-408.8\" font-family=\"Times,serif\" font-size=\"14.00\" fill=\"#000000\">value = [1, 1, 0]</text>\n</g>\n<!-- 111&#45;&gt;113 -->\n<g id=\"edge113\" class=\"edge\">\n<title>111&#45;&gt;113</title>\n<path fill=\"none\" stroke=\"#000000\" d=\"M3162.434,-504.9465C3170.8047,-495.8782 3179.9416,-485.9799 3188.6383,-476.5585\"/>\n<polygon fill=\"#000000\" stroke=\"#000000\" points=\"3191.2844,-478.852 3195.4954,-469.13 3186.1407,-474.1041 3191.2844,-478.852\"/>\n</g>\n<!-- 114 -->\n<g id=\"node115\" class=\"node\">\n<title>114</title>\n<polygon fill=\"none\" stroke=\"#000000\" points=\"3218,-357.5 3108,-357.5 3108,-304.5 3218,-304.5 3218,-357.5\"/>\n<text text-anchor=\"middle\" x=\"3163\" y=\"-342.3\" font-family=\"Times,serif\" font-size=\"14.00\" fill=\"#000000\">entropy = 0.0</text>\n<text text-anchor=\"middle\" x=\"3163\" y=\"-327.3\" font-family=\"Times,serif\" font-size=\"14.00\" fill=\"#000000\">samples = 1</text>\n<text text-anchor=\"middle\" x=\"3163\" y=\"-312.3\" font-family=\"Times,serif\" font-size=\"14.00\" fill=\"#000000\">value = [1, 0, 0]</text>\n</g>\n<!-- 113&#45;&gt;114 -->\n<g id=\"edge114\" class=\"edge\">\n<title>113&#45;&gt;114</title>\n<path fill=\"none\" stroke=\"#000000\" d=\"M3206.044,-400.9465C3199.1978,-389.8215 3191.5829,-377.4473 3184.6843,-366.237\"/>\n<polygon fill=\"#000000\" stroke=\"#000000\" points=\"3187.5555,-364.2244 3179.3336,-357.5422 3181.5939,-367.8931 3187.5555,-364.2244\"/>\n</g>\n<!-- 115 -->\n<g id=\"node116\" class=\"node\">\n<title>115</title>\n<polygon fill=\"none\" stroke=\"#000000\" points=\"3346,-357.5 3236,-357.5 3236,-304.5 3346,-304.5 3346,-357.5\"/>\n<text text-anchor=\"middle\" x=\"3291\" y=\"-342.3\" font-family=\"Times,serif\" font-size=\"14.00\" fill=\"#000000\">entropy = 0.0</text>\n<text text-anchor=\"middle\" x=\"3291\" y=\"-327.3\" font-family=\"Times,serif\" font-size=\"14.00\" fill=\"#000000\">samples = 1</text>\n<text text-anchor=\"middle\" x=\"3291\" y=\"-312.3\" font-family=\"Times,serif\" font-size=\"14.00\" fill=\"#000000\">value = [0, 1, 0]</text>\n</g>\n<!-- 113&#45;&gt;115 -->\n<g id=\"edge115\" class=\"edge\">\n<title>113&#45;&gt;115</title>\n<path fill=\"none\" stroke=\"#000000\" d=\"M3247.956,-400.9465C3254.8022,-389.8215 3262.4171,-377.4473 3269.3157,-366.237\"/>\n<polygon fill=\"#000000\" stroke=\"#000000\" points=\"3272.4061,-367.8931 3274.6664,-357.5422 3266.4445,-364.2244 3272.4061,-367.8931\"/>\n</g>\n<!-- 118 -->\n<g id=\"node119\" class=\"node\">\n<title>118</title>\n<polygon fill=\"none\" stroke=\"#000000\" points=\"3442,-565.5 3332,-565.5 3332,-512.5 3442,-512.5 3442,-565.5\"/>\n<text text-anchor=\"middle\" x=\"3387\" y=\"-550.3\" font-family=\"Times,serif\" font-size=\"14.00\" fill=\"#000000\">entropy = 0.0</text>\n<text text-anchor=\"middle\" x=\"3387\" y=\"-535.3\" font-family=\"Times,serif\" font-size=\"14.00\" fill=\"#000000\">samples = 2</text>\n<text text-anchor=\"middle\" x=\"3387\" y=\"-520.3\" font-family=\"Times,serif\" font-size=\"14.00\" fill=\"#000000\">value = [0, 0, 2]</text>\n</g>\n<!-- 117&#45;&gt;118 -->\n<g id=\"edge118\" class=\"edge\">\n<title>117&#45;&gt;118</title>\n<path fill=\"none\" stroke=\"#000000\" d=\"M3426.6812,-608.9465C3420.4324,-597.9316 3413.4888,-585.6922 3407.1793,-574.5703\"/>\n<polygon fill=\"#000000\" stroke=\"#000000\" points=\"3410.0362,-572.513 3402.0576,-565.5422 3403.9477,-575.967 3410.0362,-572.513\"/>\n</g>\n<!-- 119 -->\n<g id=\"node120\" class=\"node\">\n<title>119</title>\n<polygon fill=\"none\" stroke=\"#000000\" points=\"3570,-565.5 3460,-565.5 3460,-512.5 3570,-512.5 3570,-565.5\"/>\n<text text-anchor=\"middle\" x=\"3515\" y=\"-550.3\" font-family=\"Times,serif\" font-size=\"14.00\" fill=\"#000000\">entropy = 0.0</text>\n<text text-anchor=\"middle\" x=\"3515\" y=\"-535.3\" font-family=\"Times,serif\" font-size=\"14.00\" fill=\"#000000\">samples = 2</text>\n<text text-anchor=\"middle\" x=\"3515\" y=\"-520.3\" font-family=\"Times,serif\" font-size=\"14.00\" fill=\"#000000\">value = [0, 2, 0]</text>\n</g>\n<!-- 117&#45;&gt;119 -->\n<g id=\"edge119\" class=\"edge\">\n<title>117&#45;&gt;119</title>\n<path fill=\"none\" stroke=\"#000000\" d=\"M3468.5932,-608.9465C3476.0473,-597.7113 3484.3467,-585.2021 3491.8423,-573.9043\"/>\n<polygon fill=\"#000000\" stroke=\"#000000\" points=\"3494.7782,-575.81 3497.3903,-565.5422 3488.9453,-571.94 3494.7782,-575.81\"/>\n</g>\n<!-- 121 -->\n<g id=\"node122\" class=\"node\">\n<title>121</title>\n<polygon fill=\"none\" stroke=\"#000000\" points=\"3693,-677 3583,-677 3583,-609 3693,-609 3693,-677\"/>\n<text text-anchor=\"middle\" x=\"3638\" y=\"-661.8\" font-family=\"Times,serif\" font-size=\"14.00\" fill=\"#000000\">X[1] &lt;= 1.5</text>\n<text text-anchor=\"middle\" x=\"3638\" y=\"-646.8\" font-family=\"Times,serif\" font-size=\"14.00\" fill=\"#000000\">entropy = 1.0</text>\n<text text-anchor=\"middle\" x=\"3638\" y=\"-631.8\" font-family=\"Times,serif\" font-size=\"14.00\" fill=\"#000000\">samples = 2</text>\n<text text-anchor=\"middle\" x=\"3638\" y=\"-616.8\" font-family=\"Times,serif\" font-size=\"14.00\" fill=\"#000000\">value = [1, 0, 1]</text>\n</g>\n<!-- 120&#45;&gt;121 -->\n<g id=\"edge121\" class=\"edge\">\n<title>120&#45;&gt;121</title>\n<path fill=\"none\" stroke=\"#000000\" d=\"M3635.9823,-712.9465C3636.218,-704.776 3636.4731,-695.9318 3636.7201,-687.3697\"/>\n<polygon fill=\"#000000\" stroke=\"#000000\" points=\"3640.2256,-687.2268 3637.0155,-677.13 3633.2285,-687.0249 3640.2256,-687.2268\"/>\n</g>\n<!-- 124 -->\n<g id=\"node125\" class=\"node\">\n<title>124</title>\n<polygon fill=\"none\" stroke=\"#000000\" points=\"3821,-669.5 3711,-669.5 3711,-616.5 3821,-616.5 3821,-669.5\"/>\n<text text-anchor=\"middle\" x=\"3766\" y=\"-654.3\" font-family=\"Times,serif\" font-size=\"14.00\" fill=\"#000000\">entropy = 0.0</text>\n<text text-anchor=\"middle\" x=\"3766\" y=\"-639.3\" font-family=\"Times,serif\" font-size=\"14.00\" fill=\"#000000\">samples = 5</text>\n<text text-anchor=\"middle\" x=\"3766\" y=\"-624.3\" font-family=\"Times,serif\" font-size=\"14.00\" fill=\"#000000\">value = [0, 0, 5]</text>\n</g>\n<!-- 120&#45;&gt;124 -->\n<g id=\"edge124\" class=\"edge\">\n<title>120&#45;&gt;124</title>\n<path fill=\"none\" stroke=\"#000000\" d=\"M3677.8943,-712.9465C3692.8788,-701.0504 3709.6624,-687.726 3724.5288,-675.9237\"/>\n<polygon fill=\"#000000\" stroke=\"#000000\" points=\"3726.9113,-678.5011 3732.5671,-669.5422 3722.5589,-673.0187 3726.9113,-678.5011\"/>\n</g>\n<!-- 122 -->\n<g id=\"node123\" class=\"node\">\n<title>122</title>\n<polygon fill=\"none\" stroke=\"#000000\" points=\"3698,-565.5 3588,-565.5 3588,-512.5 3698,-512.5 3698,-565.5\"/>\n<text text-anchor=\"middle\" x=\"3643\" y=\"-550.3\" font-family=\"Times,serif\" font-size=\"14.00\" fill=\"#000000\">entropy = 0.0</text>\n<text text-anchor=\"middle\" x=\"3643\" y=\"-535.3\" font-family=\"Times,serif\" font-size=\"14.00\" fill=\"#000000\">samples = 1</text>\n<text text-anchor=\"middle\" x=\"3643\" y=\"-520.3\" font-family=\"Times,serif\" font-size=\"14.00\" fill=\"#000000\">value = [0, 0, 1]</text>\n</g>\n<!-- 121&#45;&gt;122 -->\n<g id=\"edge122\" class=\"edge\">\n<title>121&#45;&gt;122</title>\n<path fill=\"none\" stroke=\"#000000\" d=\"M3639.6372,-608.9465C3640.1509,-598.2621 3640.7199,-586.4254 3641.2416,-575.5742\"/>\n<polygon fill=\"#000000\" stroke=\"#000000\" points=\"3644.7396,-575.6987 3641.7239,-565.5422 3637.7477,-575.3625 3644.7396,-575.6987\"/>\n</g>\n<!-- 123 -->\n<g id=\"node124\" class=\"node\">\n<title>123</title>\n<polygon fill=\"none\" stroke=\"#000000\" points=\"3826,-565.5 3716,-565.5 3716,-512.5 3826,-512.5 3826,-565.5\"/>\n<text text-anchor=\"middle\" x=\"3771\" y=\"-550.3\" font-family=\"Times,serif\" font-size=\"14.00\" fill=\"#000000\">entropy = 0.0</text>\n<text text-anchor=\"middle\" x=\"3771\" y=\"-535.3\" font-family=\"Times,serif\" font-size=\"14.00\" fill=\"#000000\">samples = 1</text>\n<text text-anchor=\"middle\" x=\"3771\" y=\"-520.3\" font-family=\"Times,serif\" font-size=\"14.00\" fill=\"#000000\">value = [1, 0, 0]</text>\n</g>\n<!-- 121&#45;&gt;123 -->\n<g id=\"edge123\" class=\"edge\">\n<title>121&#45;&gt;123</title>\n<path fill=\"none\" stroke=\"#000000\" d=\"M3681.5492,-608.9465C3696.7625,-597.0504 3713.8023,-583.726 3728.8957,-571.9237\"/>\n<polygon fill=\"#000000\" stroke=\"#000000\" points=\"3731.3351,-574.4592 3737.0567,-565.5422 3727.0231,-568.9449 3731.3351,-574.4592\"/>\n</g>\n<!-- 126 -->\n<g id=\"node127\" class=\"node\">\n<title>126</title>\n<polygon fill=\"none\" stroke=\"#000000\" points=\"3825.5,-773.5 3708.5,-773.5 3708.5,-720.5 3825.5,-720.5 3825.5,-773.5\"/>\n<text text-anchor=\"middle\" x=\"3767\" y=\"-758.3\" font-family=\"Times,serif\" font-size=\"14.00\" fill=\"#000000\">entropy = 0.0</text>\n<text text-anchor=\"middle\" x=\"3767\" y=\"-743.3\" font-family=\"Times,serif\" font-size=\"14.00\" fill=\"#000000\">samples = 30</text>\n<text text-anchor=\"middle\" x=\"3767\" y=\"-728.3\" font-family=\"Times,serif\" font-size=\"14.00\" fill=\"#000000\">value = [0, 30, 0]</text>\n</g>\n<!-- 125&#45;&gt;126 -->\n<g id=\"edge126\" class=\"edge\">\n<title>125&#45;&gt;126</title>\n<path fill=\"none\" stroke=\"#000000\" d=\"M3767,-816.9465C3767,-806.2621 3767,-794.4254 3767,-783.5742\"/>\n<polygon fill=\"#000000\" stroke=\"#000000\" points=\"3770.5001,-783.5421 3767,-773.5422 3763.5001,-783.5422 3770.5001,-783.5421\"/>\n</g>\n<!-- 127 -->\n<g id=\"node128\" class=\"node\">\n<title>127</title>\n<polygon fill=\"none\" stroke=\"#000000\" points=\"3960.5,-781 3843.5,-781 3843.5,-713 3960.5,-713 3960.5,-781\"/>\n<text text-anchor=\"middle\" x=\"3902\" y=\"-765.8\" font-family=\"Times,serif\" font-size=\"14.00\" fill=\"#000000\">X[0] &lt;= 3.5</text>\n<text text-anchor=\"middle\" x=\"3902\" y=\"-750.8\" font-family=\"Times,serif\" font-size=\"14.00\" fill=\"#000000\">entropy = 0.391</text>\n<text text-anchor=\"middle\" x=\"3902\" y=\"-735.8\" font-family=\"Times,serif\" font-size=\"14.00\" fill=\"#000000\">samples = 13</text>\n<text text-anchor=\"middle\" x=\"3902\" y=\"-720.8\" font-family=\"Times,serif\" font-size=\"14.00\" fill=\"#000000\">value = [0, 12, 1]</text>\n</g>\n<!-- 125&#45;&gt;127 -->\n<g id=\"edge127\" class=\"edge\">\n<title>125&#45;&gt;127</title>\n<path fill=\"none\" stroke=\"#000000\" d=\"M3811.204,-816.9465C3823.4416,-807.519 3836.8436,-797.1946 3849.5038,-787.4415\"/>\n<polygon fill=\"#000000\" stroke=\"#000000\" points=\"3851.9107,-790.0055 3857.6966,-781.13 3847.6388,-784.4601 3851.9107,-790.0055\"/>\n</g>\n<!-- 128 -->\n<g id=\"node129\" class=\"node\">\n<title>128</title>\n<polygon fill=\"none\" stroke=\"#000000\" points=\"3954,-677 3844,-677 3844,-609 3954,-609 3954,-677\"/>\n<text text-anchor=\"middle\" x=\"3899\" y=\"-661.8\" font-family=\"Times,serif\" font-size=\"14.00\" fill=\"#000000\">X[1] &lt;= 3.5</text>\n<text text-anchor=\"middle\" x=\"3899\" y=\"-646.8\" font-family=\"Times,serif\" font-size=\"14.00\" fill=\"#000000\">entropy = 0.722</text>\n<text text-anchor=\"middle\" x=\"3899\" y=\"-631.8\" font-family=\"Times,serif\" font-size=\"14.00\" fill=\"#000000\">samples = 5</text>\n<text text-anchor=\"middle\" x=\"3899\" y=\"-616.8\" font-family=\"Times,serif\" font-size=\"14.00\" fill=\"#000000\">value = [0, 4, 1]</text>\n</g>\n<!-- 127&#45;&gt;128 -->\n<g id=\"edge128\" class=\"edge\">\n<title>127&#45;&gt;128</title>\n<path fill=\"none\" stroke=\"#000000\" d=\"M3901.0177,-712.9465C3900.782,-704.776 3900.5269,-695.9318 3900.2799,-687.3697\"/>\n<polygon fill=\"#000000\" stroke=\"#000000\" points=\"3903.7715,-687.0249 3899.9845,-677.13 3896.7744,-687.2268 3903.7715,-687.0249\"/>\n</g>\n<!-- 133 -->\n<g id=\"node134\" class=\"node\">\n<title>133</title>\n<polygon fill=\"none\" stroke=\"#000000\" points=\"4082,-669.5 3972,-669.5 3972,-616.5 4082,-616.5 4082,-669.5\"/>\n<text text-anchor=\"middle\" x=\"4027\" y=\"-654.3\" font-family=\"Times,serif\" font-size=\"14.00\" fill=\"#000000\">entropy = 0.0</text>\n<text text-anchor=\"middle\" x=\"4027\" y=\"-639.3\" font-family=\"Times,serif\" font-size=\"14.00\" fill=\"#000000\">samples = 8</text>\n<text text-anchor=\"middle\" x=\"4027\" y=\"-624.3\" font-family=\"Times,serif\" font-size=\"14.00\" fill=\"#000000\">value = [0, 8, 0]</text>\n</g>\n<!-- 127&#45;&gt;133 -->\n<g id=\"edge133\" class=\"edge\">\n<title>127&#45;&gt;133</title>\n<path fill=\"none\" stroke=\"#000000\" d=\"M3942.9297,-712.9465C3957.0955,-701.1606 3972.9463,-687.9726 3987.0338,-676.2519\"/>\n<polygon fill=\"#000000\" stroke=\"#000000\" points=\"3989.6496,-678.6285 3995.0984,-669.5422 3985.1725,-673.2474 3989.6496,-678.6285\"/>\n</g>\n<!-- 129 -->\n<g id=\"node130\" class=\"node\">\n<title>129</title>\n<polygon fill=\"none\" stroke=\"#000000\" points=\"3954,-573 3844,-573 3844,-505 3954,-505 3954,-573\"/>\n<text text-anchor=\"middle\" x=\"3899\" y=\"-557.8\" font-family=\"Times,serif\" font-size=\"14.00\" fill=\"#000000\">X[2] &lt;= 1.5</text>\n<text text-anchor=\"middle\" x=\"3899\" y=\"-542.8\" font-family=\"Times,serif\" font-size=\"14.00\" fill=\"#000000\">entropy = 1.0</text>\n<text text-anchor=\"middle\" x=\"3899\" y=\"-527.8\" font-family=\"Times,serif\" font-size=\"14.00\" fill=\"#000000\">samples = 2</text>\n<text text-anchor=\"middle\" x=\"3899\" y=\"-512.8\" font-family=\"Times,serif\" font-size=\"14.00\" fill=\"#000000\">value = [0, 1, 1]</text>\n</g>\n<!-- 128&#45;&gt;129 -->\n<g id=\"edge129\" class=\"edge\">\n<title>128&#45;&gt;129</title>\n<path fill=\"none\" stroke=\"#000000\" d=\"M3899,-608.9465C3899,-600.776 3899,-591.9318 3899,-583.3697\"/>\n<polygon fill=\"#000000\" stroke=\"#000000\" points=\"3902.5001,-583.13 3899,-573.13 3895.5001,-583.13 3902.5001,-583.13\"/>\n</g>\n<!-- 132 -->\n<g id=\"node133\" class=\"node\">\n<title>132</title>\n<polygon fill=\"none\" stroke=\"#000000\" points=\"4082,-565.5 3972,-565.5 3972,-512.5 4082,-512.5 4082,-565.5\"/>\n<text text-anchor=\"middle\" x=\"4027\" y=\"-550.3\" font-family=\"Times,serif\" font-size=\"14.00\" fill=\"#000000\">entropy = 0.0</text>\n<text text-anchor=\"middle\" x=\"4027\" y=\"-535.3\" font-family=\"Times,serif\" font-size=\"14.00\" fill=\"#000000\">samples = 3</text>\n<text text-anchor=\"middle\" x=\"4027\" y=\"-520.3\" font-family=\"Times,serif\" font-size=\"14.00\" fill=\"#000000\">value = [0, 3, 0]</text>\n</g>\n<!-- 128&#45;&gt;132 -->\n<g id=\"edge132\" class=\"edge\">\n<title>128&#45;&gt;132</title>\n<path fill=\"none\" stroke=\"#000000\" d=\"M3940.912,-608.9465C3955.5533,-597.0504 3971.9526,-583.726 3986.4785,-571.9237\"/>\n<polygon fill=\"#000000\" stroke=\"#000000\" points=\"3988.7786,-574.5645 3994.3327,-565.5422 3984.3645,-569.1317 3988.7786,-574.5645\"/>\n</g>\n<!-- 130 -->\n<g id=\"node131\" class=\"node\">\n<title>130</title>\n<polygon fill=\"none\" stroke=\"#000000\" points=\"3890,-461.5 3780,-461.5 3780,-408.5 3890,-408.5 3890,-461.5\"/>\n<text text-anchor=\"middle\" x=\"3835\" y=\"-446.3\" font-family=\"Times,serif\" font-size=\"14.00\" fill=\"#000000\">entropy = 0.0</text>\n<text text-anchor=\"middle\" x=\"3835\" y=\"-431.3\" font-family=\"Times,serif\" font-size=\"14.00\" fill=\"#000000\">samples = 1</text>\n<text text-anchor=\"middle\" x=\"3835\" y=\"-416.3\" font-family=\"Times,serif\" font-size=\"14.00\" fill=\"#000000\">value = [0, 1, 0]</text>\n</g>\n<!-- 129&#45;&gt;130 -->\n<g id=\"edge130\" class=\"edge\">\n<title>129&#45;&gt;130</title>\n<path fill=\"none\" stroke=\"#000000\" d=\"M3878.044,-504.9465C3871.1978,-493.8215 3863.5829,-481.4473 3856.6843,-470.237\"/>\n<polygon fill=\"#000000\" stroke=\"#000000\" points=\"3859.5555,-468.2244 3851.3336,-461.5422 3853.5939,-471.8931 3859.5555,-468.2244\"/>\n</g>\n<!-- 131 -->\n<g id=\"node132\" class=\"node\">\n<title>131</title>\n<polygon fill=\"none\" stroke=\"#000000\" points=\"4018,-461.5 3908,-461.5 3908,-408.5 4018,-408.5 4018,-461.5\"/>\n<text text-anchor=\"middle\" x=\"3963\" y=\"-446.3\" font-family=\"Times,serif\" font-size=\"14.00\" fill=\"#000000\">entropy = 0.0</text>\n<text text-anchor=\"middle\" x=\"3963\" y=\"-431.3\" font-family=\"Times,serif\" font-size=\"14.00\" fill=\"#000000\">samples = 1</text>\n<text text-anchor=\"middle\" x=\"3963\" y=\"-416.3\" font-family=\"Times,serif\" font-size=\"14.00\" fill=\"#000000\">value = [0, 0, 1]</text>\n</g>\n<!-- 129&#45;&gt;131 -->\n<g id=\"edge131\" class=\"edge\">\n<title>129&#45;&gt;131</title>\n<path fill=\"none\" stroke=\"#000000\" d=\"M3919.956,-504.9465C3926.8022,-493.8215 3934.4171,-481.4473 3941.3157,-470.237\"/>\n<polygon fill=\"#000000\" stroke=\"#000000\" points=\"3944.4061,-471.8931 3946.6664,-461.5422 3938.4445,-468.2244 3944.4061,-471.8931\"/>\n</g>\n<!-- 135 -->\n<g id=\"node136\" class=\"node\">\n<title>135</title>\n<polygon fill=\"none\" stroke=\"#000000\" points=\"4236.5,-989 4119.5,-989 4119.5,-921 4236.5,-921 4236.5,-989\"/>\n<text text-anchor=\"middle\" x=\"4178\" y=\"-973.8\" font-family=\"Times,serif\" font-size=\"14.00\" fill=\"#000000\">X[0] &lt;= 4.5</text>\n<text text-anchor=\"middle\" x=\"4178\" y=\"-958.8\" font-family=\"Times,serif\" font-size=\"14.00\" fill=\"#000000\">entropy = 0.111</text>\n<text text-anchor=\"middle\" x=\"4178\" y=\"-943.8\" font-family=\"Times,serif\" font-size=\"14.00\" fill=\"#000000\">samples = 68</text>\n<text text-anchor=\"middle\" x=\"4178\" y=\"-928.8\" font-family=\"Times,serif\" font-size=\"14.00\" fill=\"#000000\">value = [0, 1, 67]</text>\n</g>\n<!-- 134&#45;&gt;135 -->\n<g id=\"edge135\" class=\"edge\">\n<title>134&#45;&gt;135</title>\n<path fill=\"none\" stroke=\"#000000\" d=\"M4178,-1024.9465C4178,-1016.776 4178,-1007.9318 4178,-999.3697\"/>\n<polygon fill=\"#000000\" stroke=\"#000000\" points=\"4181.5001,-999.13 4178,-989.13 4174.5001,-999.13 4181.5001,-999.13\"/>\n</g>\n<!-- 142 -->\n<g id=\"node143\" class=\"node\">\n<title>142</title>\n<polygon fill=\"none\" stroke=\"#000000\" points=\"4629,-989 4497,-989 4497,-921 4629,-921 4629,-989\"/>\n<text text-anchor=\"middle\" x=\"4563\" y=\"-973.8\" font-family=\"Times,serif\" font-size=\"14.00\" fill=\"#000000\">X[0] &lt;= 2.5</text>\n<text text-anchor=\"middle\" x=\"4563\" y=\"-958.8\" font-family=\"Times,serif\" font-size=\"14.00\" fill=\"#000000\">entropy = 1.221</text>\n<text text-anchor=\"middle\" x=\"4563\" y=\"-943.8\" font-family=\"Times,serif\" font-size=\"14.00\" fill=\"#000000\">samples = 101</text>\n<text text-anchor=\"middle\" x=\"4563\" y=\"-928.8\" font-family=\"Times,serif\" font-size=\"14.00\" fill=\"#000000\">value = [12, 21, 68]</text>\n</g>\n<!-- 134&#45;&gt;142 -->\n<g id=\"edge142\" class=\"edge\">\n<title>134&#45;&gt;142</title>\n<path fill=\"none\" stroke=\"#000000\" d=\"M4248.1673,-1040.0457C4315.6621,-1021.8133 4417.4168,-994.3264 4486.8506,-975.5702\"/>\n<polygon fill=\"#000000\" stroke=\"#000000\" points=\"4488.1113,-978.8552 4496.8525,-972.8684 4486.2857,-972.0974 4488.1113,-978.8552\"/>\n</g>\n<!-- 136 -->\n<g id=\"node137\" class=\"node\">\n<title>136</title>\n<polygon fill=\"none\" stroke=\"#000000\" points=\"4169.5,-877.5 4052.5,-877.5 4052.5,-824.5 4169.5,-824.5 4169.5,-877.5\"/>\n<text text-anchor=\"middle\" x=\"4111\" y=\"-862.3\" font-family=\"Times,serif\" font-size=\"14.00\" fill=\"#000000\">entropy = 0.0</text>\n<text text-anchor=\"middle\" x=\"4111\" y=\"-847.3\" font-family=\"Times,serif\" font-size=\"14.00\" fill=\"#000000\">samples = 57</text>\n<text text-anchor=\"middle\" x=\"4111\" y=\"-832.3\" font-family=\"Times,serif\" font-size=\"14.00\" fill=\"#000000\">value = [0, 0, 57]</text>\n</g>\n<!-- 135&#45;&gt;136 -->\n<g id=\"edge136\" class=\"edge\">\n<title>135&#45;&gt;136</title>\n<path fill=\"none\" stroke=\"#000000\" d=\"M4156.0617,-920.9465C4148.8946,-909.8215 4140.9227,-897.4473 4133.7007,-886.237\"/>\n<polygon fill=\"#000000\" stroke=\"#000000\" points=\"4136.4574,-884.0532 4128.0993,-877.5422 4130.5728,-887.8442 4136.4574,-884.0532\"/>\n</g>\n<!-- 137 -->\n<g id=\"node138\" class=\"node\">\n<title>137</title>\n<polygon fill=\"none\" stroke=\"#000000\" points=\"4304.5,-885 4187.5,-885 4187.5,-817 4304.5,-817 4304.5,-885\"/>\n<text text-anchor=\"middle\" x=\"4246\" y=\"-869.8\" font-family=\"Times,serif\" font-size=\"14.00\" fill=\"#000000\">X[2] &lt;= 3.5</text>\n<text text-anchor=\"middle\" x=\"4246\" y=\"-854.8\" font-family=\"Times,serif\" font-size=\"14.00\" fill=\"#000000\">entropy = 0.439</text>\n<text text-anchor=\"middle\" x=\"4246\" y=\"-839.8\" font-family=\"Times,serif\" font-size=\"14.00\" fill=\"#000000\">samples = 11</text>\n<text text-anchor=\"middle\" x=\"4246\" y=\"-824.8\" font-family=\"Times,serif\" font-size=\"14.00\" fill=\"#000000\">value = [0, 1, 10]</text>\n</g>\n<!-- 135&#45;&gt;137 -->\n<g id=\"edge137\" class=\"edge\">\n<title>135&#45;&gt;137</title>\n<path fill=\"none\" stroke=\"#000000\" d=\"M4200.2657,-920.9465C4205.9602,-912.2373 4212.1552,-902.7626 4218.0938,-893.6801\"/>\n<polygon fill=\"#000000\" stroke=\"#000000\" points=\"4221.1411,-895.4151 4223.6842,-885.13 4215.2823,-891.5843 4221.1411,-895.4151\"/>\n</g>\n<!-- 138 -->\n<g id=\"node139\" class=\"node\">\n<title>138</title>\n<polygon fill=\"none\" stroke=\"#000000\" points=\"4237,-781 4127,-781 4127,-713 4237,-713 4237,-781\"/>\n<text text-anchor=\"middle\" x=\"4182\" y=\"-765.8\" font-family=\"Times,serif\" font-size=\"14.00\" fill=\"#000000\">X[3] &lt;= 4.0</text>\n<text text-anchor=\"middle\" x=\"4182\" y=\"-750.8\" font-family=\"Times,serif\" font-size=\"14.00\" fill=\"#000000\">entropy = 0.918</text>\n<text text-anchor=\"middle\" x=\"4182\" y=\"-735.8\" font-family=\"Times,serif\" font-size=\"14.00\" fill=\"#000000\">samples = 3</text>\n<text text-anchor=\"middle\" x=\"4182\" y=\"-720.8\" font-family=\"Times,serif\" font-size=\"14.00\" fill=\"#000000\">value = [0, 1, 2]</text>\n</g>\n<!-- 137&#45;&gt;138 -->\n<g id=\"edge138\" class=\"edge\">\n<title>137&#45;&gt;138</title>\n<path fill=\"none\" stroke=\"#000000\" d=\"M4225.044,-816.9465C4219.6845,-808.2373 4213.8539,-798.7626 4208.2647,-789.6801\"/>\n<polygon fill=\"#000000\" stroke=\"#000000\" points=\"4211.2249,-787.8122 4203.0031,-781.13 4205.2633,-791.481 4211.2249,-787.8122\"/>\n</g>\n<!-- 141 -->\n<g id=\"node142\" class=\"node\">\n<title>141</title>\n<polygon fill=\"none\" stroke=\"#000000\" points=\"4365,-773.5 4255,-773.5 4255,-720.5 4365,-720.5 4365,-773.5\"/>\n<text text-anchor=\"middle\" x=\"4310\" y=\"-758.3\" font-family=\"Times,serif\" font-size=\"14.00\" fill=\"#000000\">entropy = 0.0</text>\n<text text-anchor=\"middle\" x=\"4310\" y=\"-743.3\" font-family=\"Times,serif\" font-size=\"14.00\" fill=\"#000000\">samples = 8</text>\n<text text-anchor=\"middle\" x=\"4310\" y=\"-728.3\" font-family=\"Times,serif\" font-size=\"14.00\" fill=\"#000000\">value = [0, 0, 8]</text>\n</g>\n<!-- 137&#45;&gt;141 -->\n<g id=\"edge141\" class=\"edge\">\n<title>137&#45;&gt;141</title>\n<path fill=\"none\" stroke=\"#000000\" d=\"M4266.956,-816.9465C4273.8022,-805.8215 4281.4171,-793.4473 4288.3157,-782.237\"/>\n<polygon fill=\"#000000\" stroke=\"#000000\" points=\"4291.4061,-783.8931 4293.6664,-773.5422 4285.4445,-780.2244 4291.4061,-783.8931\"/>\n</g>\n<!-- 139 -->\n<g id=\"node140\" class=\"node\">\n<title>139</title>\n<polygon fill=\"none\" stroke=\"#000000\" points=\"4210,-669.5 4100,-669.5 4100,-616.5 4210,-616.5 4210,-669.5\"/>\n<text text-anchor=\"middle\" x=\"4155\" y=\"-654.3\" font-family=\"Times,serif\" font-size=\"14.00\" fill=\"#000000\">entropy = 0.0</text>\n<text text-anchor=\"middle\" x=\"4155\" y=\"-639.3\" font-family=\"Times,serif\" font-size=\"14.00\" fill=\"#000000\">samples = 1</text>\n<text text-anchor=\"middle\" x=\"4155\" y=\"-624.3\" font-family=\"Times,serif\" font-size=\"14.00\" fill=\"#000000\">value = [0, 1, 0]</text>\n</g>\n<!-- 138&#45;&gt;139 -->\n<g id=\"edge139\" class=\"edge\">\n<title>138&#45;&gt;139</title>\n<path fill=\"none\" stroke=\"#000000\" d=\"M4173.1592,-712.9465C4170.3567,-702.1519 4167.249,-690.1813 4164.4082,-679.2389\"/>\n<polygon fill=\"#000000\" stroke=\"#000000\" points=\"4167.7914,-678.3418 4161.8908,-669.5422 4161.016,-680.1008 4167.7914,-678.3418\"/>\n</g>\n<!-- 140 -->\n<g id=\"node141\" class=\"node\">\n<title>140</title>\n<polygon fill=\"none\" stroke=\"#000000\" points=\"4338,-669.5 4228,-669.5 4228,-616.5 4338,-616.5 4338,-669.5\"/>\n<text text-anchor=\"middle\" x=\"4283\" y=\"-654.3\" font-family=\"Times,serif\" font-size=\"14.00\" fill=\"#000000\">entropy = 0.0</text>\n<text text-anchor=\"middle\" x=\"4283\" y=\"-639.3\" font-family=\"Times,serif\" font-size=\"14.00\" fill=\"#000000\">samples = 2</text>\n<text text-anchor=\"middle\" x=\"4283\" y=\"-624.3\" font-family=\"Times,serif\" font-size=\"14.00\" fill=\"#000000\">value = [0, 0, 2]</text>\n</g>\n<!-- 138&#45;&gt;140 -->\n<g id=\"edge140\" class=\"edge\">\n<title>138&#45;&gt;140</title>\n<path fill=\"none\" stroke=\"#000000\" d=\"M4215.0712,-712.9465C4226.3032,-701.3809 4238.8463,-688.4652 4250.0675,-676.9107\"/>\n<polygon fill=\"#000000\" stroke=\"#000000\" points=\"4252.7674,-679.1544 4257.2235,-669.5422 4247.7458,-674.2776 4252.7674,-679.1544\"/>\n</g>\n<!-- 143 -->\n<g id=\"node144\" class=\"node\">\n<title>143</title>\n<polygon fill=\"none\" stroke=\"#000000\" points=\"4621.5,-885 4504.5,-885 4504.5,-817 4621.5,-817 4621.5,-885\"/>\n<text text-anchor=\"middle\" x=\"4563\" y=\"-869.8\" font-family=\"Times,serif\" font-size=\"14.00\" fill=\"#000000\">X[2] &lt;= 3.5</text>\n<text text-anchor=\"middle\" x=\"4563\" y=\"-854.8\" font-family=\"Times,serif\" font-size=\"14.00\" fill=\"#000000\">entropy = 0.169</text>\n<text text-anchor=\"middle\" x=\"4563\" y=\"-839.8\" font-family=\"Times,serif\" font-size=\"14.00\" fill=\"#000000\">samples = 40</text>\n<text text-anchor=\"middle\" x=\"4563\" y=\"-824.8\" font-family=\"Times,serif\" font-size=\"14.00\" fill=\"#000000\">value = [0, 1, 39]</text>\n</g>\n<!-- 142&#45;&gt;143 -->\n<g id=\"edge143\" class=\"edge\">\n<title>142&#45;&gt;143</title>\n<path fill=\"none\" stroke=\"#000000\" d=\"M4563,-920.9465C4563,-912.776 4563,-903.9318 4563,-895.3697\"/>\n<polygon fill=\"#000000\" stroke=\"#000000\" points=\"4566.5001,-895.13 4563,-885.13 4559.5001,-895.13 4566.5001,-895.13\"/>\n</g>\n<!-- 152 -->\n<g id=\"node153\" class=\"node\">\n<title>152</title>\n<polygon fill=\"none\" stroke=\"#000000\" points=\"4926,-885 4794,-885 4794,-817 4926,-817 4926,-885\"/>\n<text text-anchor=\"middle\" x=\"4860\" y=\"-869.8\" font-family=\"Times,serif\" font-size=\"14.00\" fill=\"#000000\">X[1] &lt;= 3.5</text>\n<text text-anchor=\"middle\" x=\"4860\" y=\"-854.8\" font-family=\"Times,serif\" font-size=\"14.00\" fill=\"#000000\">entropy = 1.499</text>\n<text text-anchor=\"middle\" x=\"4860\" y=\"-839.8\" font-family=\"Times,serif\" font-size=\"14.00\" fill=\"#000000\">samples = 61</text>\n<text text-anchor=\"middle\" x=\"4860\" y=\"-824.8\" font-family=\"Times,serif\" font-size=\"14.00\" fill=\"#000000\">value = [12, 20, 29]</text>\n</g>\n<!-- 142&#45;&gt;152 -->\n<g id=\"edge152\" class=\"edge\">\n<title>142&#45;&gt;152</title>\n<path fill=\"none\" stroke=\"#000000\" d=\"M4629.2829,-931.7898C4675.1866,-915.7158 4736.3953,-894.2824 4784.2324,-877.5314\"/>\n<polygon fill=\"#000000\" stroke=\"#000000\" points=\"4785.6383,-880.7476 4793.9197,-874.1392 4783.3248,-874.1409 4785.6383,-880.7476\"/>\n</g>\n<!-- 144 -->\n<g id=\"node145\" class=\"node\">\n<title>144</title>\n<polygon fill=\"none\" stroke=\"#000000\" points=\"4554,-781 4438,-781 4438,-713 4554,-713 4554,-781\"/>\n<text text-anchor=\"middle\" x=\"4496\" y=\"-765.8\" font-family=\"Times,serif\" font-size=\"14.00\" fill=\"#000000\">X[3] &lt;= 3.5</text>\n<text text-anchor=\"middle\" x=\"4496\" y=\"-750.8\" font-family=\"Times,serif\" font-size=\"14.00\" fill=\"#000000\">entropy = 0.414</text>\n<text text-anchor=\"middle\" x=\"4496\" y=\"-735.8\" font-family=\"Times,serif\" font-size=\"14.00\" fill=\"#000000\">samples = 12</text>\n<text text-anchor=\"middle\" x=\"4496\" y=\"-720.8\" font-family=\"Times,serif\" font-size=\"14.00\" fill=\"#000000\">value = [0, 1, 11]</text>\n</g>\n<!-- 143&#45;&gt;144 -->\n<g id=\"edge144\" class=\"edge\">\n<title>143&#45;&gt;144</title>\n<path fill=\"none\" stroke=\"#000000\" d=\"M4541.0617,-816.9465C4535.451,-808.2373 4529.3471,-798.7626 4523.4958,-789.6801\"/>\n<polygon fill=\"#000000\" stroke=\"#000000\" points=\"4526.3457,-787.641 4517.9876,-781.13 4520.4611,-791.4321 4526.3457,-787.641\"/>\n</g>\n<!-- 151 -->\n<g id=\"node152\" class=\"node\">\n<title>151</title>\n<polygon fill=\"none\" stroke=\"#000000\" points=\"4689.5,-773.5 4572.5,-773.5 4572.5,-720.5 4689.5,-720.5 4689.5,-773.5\"/>\n<text text-anchor=\"middle\" x=\"4631\" y=\"-758.3\" font-family=\"Times,serif\" font-size=\"14.00\" fill=\"#000000\">entropy = 0.0</text>\n<text text-anchor=\"middle\" x=\"4631\" y=\"-743.3\" font-family=\"Times,serif\" font-size=\"14.00\" fill=\"#000000\">samples = 28</text>\n<text text-anchor=\"middle\" x=\"4631\" y=\"-728.3\" font-family=\"Times,serif\" font-size=\"14.00\" fill=\"#000000\">value = [0, 0, 28]</text>\n</g>\n<!-- 143&#45;&gt;151 -->\n<g id=\"edge151\" class=\"edge\">\n<title>143&#45;&gt;151</title>\n<path fill=\"none\" stroke=\"#000000\" d=\"M4585.2657,-816.9465C4592.5398,-805.8215 4600.6306,-793.4473 4607.9604,-782.237\"/>\n<polygon fill=\"#000000\" stroke=\"#000000\" points=\"4611.1024,-783.8273 4613.6455,-773.5422 4605.2436,-779.9965 4611.1024,-783.8273\"/>\n</g>\n<!-- 145 -->\n<g id=\"node146\" class=\"node\">\n<title>145</title>\n<polygon fill=\"none\" stroke=\"#000000\" points=\"4466,-677 4356,-677 4356,-609 4466,-609 4466,-677\"/>\n<text text-anchor=\"middle\" x=\"4411\" y=\"-661.8\" font-family=\"Times,serif\" font-size=\"14.00\" fill=\"#000000\">X[1] &lt;= 4.5</text>\n<text text-anchor=\"middle\" x=\"4411\" y=\"-646.8\" font-family=\"Times,serif\" font-size=\"14.00\" fill=\"#000000\">entropy = 0.811</text>\n<text text-anchor=\"middle\" x=\"4411\" y=\"-631.8\" font-family=\"Times,serif\" font-size=\"14.00\" fill=\"#000000\">samples = 4</text>\n<text text-anchor=\"middle\" x=\"4411\" y=\"-616.8\" font-family=\"Times,serif\" font-size=\"14.00\" fill=\"#000000\">value = [0, 1, 3]</text>\n</g>\n<!-- 144&#45;&gt;145 -->\n<g id=\"edge145\" class=\"edge\">\n<title>144&#45;&gt;145</title>\n<path fill=\"none\" stroke=\"#000000\" d=\"M4468.1678,-712.9465C4460.903,-704.0578 4452.9864,-694.3716 4445.424,-685.1188\"/>\n<polygon fill=\"#000000\" stroke=\"#000000\" points=\"4447.9331,-682.658 4438.8947,-677.13 4442.513,-687.0878 4447.9331,-682.658\"/>\n</g>\n<!-- 150 -->\n<g id=\"node151\" class=\"node\">\n<title>150</title>\n<polygon fill=\"none\" stroke=\"#000000\" points=\"4594,-669.5 4484,-669.5 4484,-616.5 4594,-616.5 4594,-669.5\"/>\n<text text-anchor=\"middle\" x=\"4539\" y=\"-654.3\" font-family=\"Times,serif\" font-size=\"14.00\" fill=\"#000000\">entropy = 0.0</text>\n<text text-anchor=\"middle\" x=\"4539\" y=\"-639.3\" font-family=\"Times,serif\" font-size=\"14.00\" fill=\"#000000\">samples = 8</text>\n<text text-anchor=\"middle\" x=\"4539\" y=\"-624.3\" font-family=\"Times,serif\" font-size=\"14.00\" fill=\"#000000\">value = [0, 0, 8]</text>\n</g>\n<!-- 144&#45;&gt;150 -->\n<g id=\"edge150\" class=\"edge\">\n<title>144&#45;&gt;150</title>\n<path fill=\"none\" stroke=\"#000000\" d=\"M4510.0798,-712.9465C4514.5885,-702.0418 4519.5934,-689.9368 4524.155,-678.9043\"/>\n<polygon fill=\"#000000\" stroke=\"#000000\" points=\"4527.4393,-680.1208 4528.0258,-669.5422 4520.9704,-677.4461 4527.4393,-680.1208\"/>\n</g>\n<!-- 146 -->\n<g id=\"node147\" class=\"node\">\n<title>146</title>\n<polygon fill=\"none\" stroke=\"#000000\" points=\"4338,-565.5 4228,-565.5 4228,-512.5 4338,-512.5 4338,-565.5\"/>\n<text text-anchor=\"middle\" x=\"4283\" y=\"-550.3\" font-family=\"Times,serif\" font-size=\"14.00\" fill=\"#000000\">entropy = 0.0</text>\n<text text-anchor=\"middle\" x=\"4283\" y=\"-535.3\" font-family=\"Times,serif\" font-size=\"14.00\" fill=\"#000000\">samples = 2</text>\n<text text-anchor=\"middle\" x=\"4283\" y=\"-520.3\" font-family=\"Times,serif\" font-size=\"14.00\" fill=\"#000000\">value = [0, 0, 2]</text>\n</g>\n<!-- 145&#45;&gt;146 -->\n<g id=\"edge146\" class=\"edge\">\n<title>145&#45;&gt;146</title>\n<path fill=\"none\" stroke=\"#000000\" d=\"M4369.088,-608.9465C4354.4467,-597.0504 4338.0474,-583.726 4323.5215,-571.9237\"/>\n<polygon fill=\"#000000\" stroke=\"#000000\" points=\"4325.6355,-569.1317 4315.6673,-565.5422 4321.2214,-574.5645 4325.6355,-569.1317\"/>\n</g>\n<!-- 147 -->\n<g id=\"node148\" class=\"node\">\n<title>147</title>\n<polygon fill=\"none\" stroke=\"#000000\" points=\"4466,-573 4356,-573 4356,-505 4466,-505 4466,-573\"/>\n<text text-anchor=\"middle\" x=\"4411\" y=\"-557.8\" font-family=\"Times,serif\" font-size=\"14.00\" fill=\"#000000\">X[0] &lt;= 1.5</text>\n<text text-anchor=\"middle\" x=\"4411\" y=\"-542.8\" font-family=\"Times,serif\" font-size=\"14.00\" fill=\"#000000\">entropy = 1.0</text>\n<text text-anchor=\"middle\" x=\"4411\" y=\"-527.8\" font-family=\"Times,serif\" font-size=\"14.00\" fill=\"#000000\">samples = 2</text>\n<text text-anchor=\"middle\" x=\"4411\" y=\"-512.8\" font-family=\"Times,serif\" font-size=\"14.00\" fill=\"#000000\">value = [0, 1, 1]</text>\n</g>\n<!-- 145&#45;&gt;147 -->\n<g id=\"edge147\" class=\"edge\">\n<title>145&#45;&gt;147</title>\n<path fill=\"none\" stroke=\"#000000\" d=\"M4411,-608.9465C4411,-600.776 4411,-591.9318 4411,-583.3697\"/>\n<polygon fill=\"#000000\" stroke=\"#000000\" points=\"4414.5001,-583.13 4411,-573.13 4407.5001,-583.13 4414.5001,-583.13\"/>\n</g>\n<!-- 148 -->\n<g id=\"node149\" class=\"node\">\n<title>148</title>\n<polygon fill=\"none\" stroke=\"#000000\" points=\"4338,-461.5 4228,-461.5 4228,-408.5 4338,-408.5 4338,-461.5\"/>\n<text text-anchor=\"middle\" x=\"4283\" y=\"-446.3\" font-family=\"Times,serif\" font-size=\"14.00\" fill=\"#000000\">entropy = 0.0</text>\n<text text-anchor=\"middle\" x=\"4283\" y=\"-431.3\" font-family=\"Times,serif\" font-size=\"14.00\" fill=\"#000000\">samples = 1</text>\n<text text-anchor=\"middle\" x=\"4283\" y=\"-416.3\" font-family=\"Times,serif\" font-size=\"14.00\" fill=\"#000000\">value = [0, 0, 1]</text>\n</g>\n<!-- 147&#45;&gt;148 -->\n<g id=\"edge148\" class=\"edge\">\n<title>147&#45;&gt;148</title>\n<path fill=\"none\" stroke=\"#000000\" d=\"M4369.088,-504.9465C4354.4467,-493.0504 4338.0474,-479.726 4323.5215,-467.9237\"/>\n<polygon fill=\"#000000\" stroke=\"#000000\" points=\"4325.6355,-465.1317 4315.6673,-461.5422 4321.2214,-470.5645 4325.6355,-465.1317\"/>\n</g>\n<!-- 149 -->\n<g id=\"node150\" class=\"node\">\n<title>149</title>\n<polygon fill=\"none\" stroke=\"#000000\" points=\"4466,-461.5 4356,-461.5 4356,-408.5 4466,-408.5 4466,-461.5\"/>\n<text text-anchor=\"middle\" x=\"4411\" y=\"-446.3\" font-family=\"Times,serif\" font-size=\"14.00\" fill=\"#000000\">entropy = 0.0</text>\n<text text-anchor=\"middle\" x=\"4411\" y=\"-431.3\" font-family=\"Times,serif\" font-size=\"14.00\" fill=\"#000000\">samples = 1</text>\n<text text-anchor=\"middle\" x=\"4411\" y=\"-416.3\" font-family=\"Times,serif\" font-size=\"14.00\" fill=\"#000000\">value = [0, 1, 0]</text>\n</g>\n<!-- 147&#45;&gt;149 -->\n<g id=\"edge149\" class=\"edge\">\n<title>147&#45;&gt;149</title>\n<path fill=\"none\" stroke=\"#000000\" d=\"M4411,-504.9465C4411,-494.2621 4411,-482.4254 4411,-471.5742\"/>\n<polygon fill=\"#000000\" stroke=\"#000000\" points=\"4414.5001,-471.5421 4411,-461.5422 4407.5001,-471.5422 4414.5001,-471.5421\"/>\n</g>\n<!-- 153 -->\n<g id=\"node154\" class=\"node\">\n<title>153</title>\n<polygon fill=\"none\" stroke=\"#000000\" points=\"4918.5,-781 4801.5,-781 4801.5,-713 4918.5,-713 4918.5,-781\"/>\n<text text-anchor=\"middle\" x=\"4860\" y=\"-765.8\" font-family=\"Times,serif\" font-size=\"14.00\" fill=\"#000000\">X[3] &lt;= 3.5</text>\n<text text-anchor=\"middle\" x=\"4860\" y=\"-750.8\" font-family=\"Times,serif\" font-size=\"14.00\" fill=\"#000000\">entropy = 1.068</text>\n<text text-anchor=\"middle\" x=\"4860\" y=\"-735.8\" font-family=\"Times,serif\" font-size=\"14.00\" fill=\"#000000\">samples = 23</text>\n<text text-anchor=\"middle\" x=\"4860\" y=\"-720.8\" font-family=\"Times,serif\" font-size=\"14.00\" fill=\"#000000\">value = [4, 2, 17]</text>\n</g>\n<!-- 152&#45;&gt;153 -->\n<g id=\"edge153\" class=\"edge\">\n<title>152&#45;&gt;153</title>\n<path fill=\"none\" stroke=\"#000000\" d=\"M4860,-816.9465C4860,-808.776 4860,-799.9318 4860,-791.3697\"/>\n<polygon fill=\"#000000\" stroke=\"#000000\" points=\"4863.5001,-791.13 4860,-781.13 4856.5001,-791.13 4863.5001,-791.13\"/>\n</g>\n<!-- 172 -->\n<g id=\"node173\" class=\"node\">\n<title>172</title>\n<polygon fill=\"none\" stroke=\"#000000\" points=\"5526.5,-781 5401.5,-781 5401.5,-713 5526.5,-713 5526.5,-781\"/>\n<text text-anchor=\"middle\" x=\"5464\" y=\"-765.8\" font-family=\"Times,serif\" font-size=\"14.00\" fill=\"#000000\">X[2] &lt;= 3.5</text>\n<text text-anchor=\"middle\" x=\"5464\" y=\"-750.8\" font-family=\"Times,serif\" font-size=\"14.00\" fill=\"#000000\">entropy = 1.509</text>\n<text text-anchor=\"middle\" x=\"5464\" y=\"-735.8\" font-family=\"Times,serif\" font-size=\"14.00\" fill=\"#000000\">samples = 38</text>\n<text text-anchor=\"middle\" x=\"5464\" y=\"-720.8\" font-family=\"Times,serif\" font-size=\"14.00\" fill=\"#000000\">value = [8, 18, 12]</text>\n</g>\n<!-- 152&#45;&gt;172 -->\n<g id=\"edge172\" class=\"edge\">\n<title>152&#45;&gt;172</title>\n<path fill=\"none\" stroke=\"#000000\" d=\"M4926.0771,-839.6225C5039.9935,-820.0077 5272.5068,-779.9723 5391.0246,-759.5653\"/>\n<polygon fill=\"#000000\" stroke=\"#000000\" points=\"5391.8301,-762.9782 5401.0912,-757.832 5390.6423,-756.0797 5391.8301,-762.9782\"/>\n</g>\n<!-- 154 -->\n<g id=\"node155\" class=\"node\">\n<title>154</title>\n<polygon fill=\"none\" stroke=\"#000000\" points=\"4849,-677 4739,-677 4739,-609 4849,-609 4849,-677\"/>\n<text text-anchor=\"middle\" x=\"4794\" y=\"-661.8\" font-family=\"Times,serif\" font-size=\"14.00\" fill=\"#000000\">X[0] &lt;= 3.5</text>\n<text text-anchor=\"middle\" x=\"4794\" y=\"-646.8\" font-family=\"Times,serif\" font-size=\"14.00\" fill=\"#000000\">entropy = 1.561</text>\n<text text-anchor=\"middle\" x=\"4794\" y=\"-631.8\" font-family=\"Times,serif\" font-size=\"14.00\" fill=\"#000000\">samples = 8</text>\n<text text-anchor=\"middle\" x=\"4794\" y=\"-616.8\" font-family=\"Times,serif\" font-size=\"14.00\" fill=\"#000000\">value = [3, 2, 3]</text>\n</g>\n<!-- 153&#45;&gt;154 -->\n<g id=\"edge154\" class=\"edge\">\n<title>153&#45;&gt;154</title>\n<path fill=\"none\" stroke=\"#000000\" d=\"M4838.3891,-712.9465C4832.8622,-704.2373 4826.8494,-694.7626 4821.0854,-685.6801\"/>\n<polygon fill=\"#000000\" stroke=\"#000000\" points=\"4823.9729,-683.6979 4815.6594,-677.13 4818.0626,-687.4487 4823.9729,-683.6979\"/>\n</g>\n<!-- 167 -->\n<g id=\"node168\" class=\"node\">\n<title>167</title>\n<polygon fill=\"none\" stroke=\"#000000\" points=\"4984.5,-677 4867.5,-677 4867.5,-609 4984.5,-609 4984.5,-677\"/>\n<text text-anchor=\"middle\" x=\"4926\" y=\"-661.8\" font-family=\"Times,serif\" font-size=\"14.00\" fill=\"#000000\">X[0] &lt;= 4.5</text>\n<text text-anchor=\"middle\" x=\"4926\" y=\"-646.8\" font-family=\"Times,serif\" font-size=\"14.00\" fill=\"#000000\">entropy = 0.353</text>\n<text text-anchor=\"middle\" x=\"4926\" y=\"-631.8\" font-family=\"Times,serif\" font-size=\"14.00\" fill=\"#000000\">samples = 15</text>\n<text text-anchor=\"middle\" x=\"4926\" y=\"-616.8\" font-family=\"Times,serif\" font-size=\"14.00\" fill=\"#000000\">value = [1, 0, 14]</text>\n</g>\n<!-- 153&#45;&gt;167 -->\n<g id=\"edge167\" class=\"edge\">\n<title>153&#45;&gt;167</title>\n<path fill=\"none\" stroke=\"#000000\" d=\"M4881.6109,-712.9465C4887.1378,-704.2373 4893.1506,-694.7626 4898.9146,-685.6801\"/>\n<polygon fill=\"#000000\" stroke=\"#000000\" points=\"4901.9374,-687.4487 4904.3406,-677.13 4896.0271,-683.6979 4901.9374,-687.4487\"/>\n</g>\n<!-- 155 -->\n<g id=\"node156\" class=\"node\">\n<title>155</title>\n<polygon fill=\"none\" stroke=\"#000000\" points=\"4722,-573 4612,-573 4612,-505 4722,-505 4722,-573\"/>\n<text text-anchor=\"middle\" x=\"4667\" y=\"-557.8\" font-family=\"Times,serif\" font-size=\"14.00\" fill=\"#000000\">X[2] &lt;= 3.5</text>\n<text text-anchor=\"middle\" x=\"4667\" y=\"-542.8\" font-family=\"Times,serif\" font-size=\"14.00\" fill=\"#000000\">entropy = 0.918</text>\n<text text-anchor=\"middle\" x=\"4667\" y=\"-527.8\" font-family=\"Times,serif\" font-size=\"14.00\" fill=\"#000000\">samples = 3</text>\n<text text-anchor=\"middle\" x=\"4667\" y=\"-512.8\" font-family=\"Times,serif\" font-size=\"14.00\" fill=\"#000000\">value = [1, 0, 2]</text>\n</g>\n<!-- 154&#45;&gt;155 -->\n<g id=\"edge155\" class=\"edge\">\n<title>154&#45;&gt;155</title>\n<path fill=\"none\" stroke=\"#000000\" d=\"M4752.4155,-608.9465C4741.0127,-599.6088 4728.5353,-589.3911 4716.7257,-579.7203\"/>\n<polygon fill=\"#000000\" stroke=\"#000000\" points=\"4718.6324,-576.7578 4708.678,-573.13 4714.1974,-582.1736 4718.6324,-576.7578\"/>\n</g>\n<!-- 158 -->\n<g id=\"node159\" class=\"node\">\n<title>158</title>\n<polygon fill=\"none\" stroke=\"#000000\" points=\"4850,-573 4740,-573 4740,-505 4850,-505 4850,-573\"/>\n<text text-anchor=\"middle\" x=\"4795\" y=\"-557.8\" font-family=\"Times,serif\" font-size=\"14.00\" fill=\"#000000\">X[2] &lt;= 4.5</text>\n<text text-anchor=\"middle\" x=\"4795\" y=\"-542.8\" font-family=\"Times,serif\" font-size=\"14.00\" fill=\"#000000\">entropy = 1.522</text>\n<text text-anchor=\"middle\" x=\"4795\" y=\"-527.8\" font-family=\"Times,serif\" font-size=\"14.00\" fill=\"#000000\">samples = 5</text>\n<text text-anchor=\"middle\" x=\"4795\" y=\"-512.8\" font-family=\"Times,serif\" font-size=\"14.00\" fill=\"#000000\">value = [2, 2, 1]</text>\n</g>\n<!-- 154&#45;&gt;158 -->\n<g id=\"edge158\" class=\"edge\">\n<title>154&#45;&gt;158</title>\n<path fill=\"none\" stroke=\"#000000\" d=\"M4794.3274,-608.9465C4794.406,-600.776 4794.491,-591.9318 4794.5734,-583.3697\"/>\n<polygon fill=\"#000000\" stroke=\"#000000\" points=\"4798.0754,-583.1632 4794.6718,-573.13 4791.0757,-583.0958 4798.0754,-583.1632\"/>\n</g>\n<!-- 156 -->\n<g id=\"node157\" class=\"node\">\n<title>156</title>\n<polygon fill=\"none\" stroke=\"#000000\" points=\"4594,-461.5 4484,-461.5 4484,-408.5 4594,-408.5 4594,-461.5\"/>\n<text text-anchor=\"middle\" x=\"4539\" y=\"-446.3\" font-family=\"Times,serif\" font-size=\"14.00\" fill=\"#000000\">entropy = 0.0</text>\n<text text-anchor=\"middle\" x=\"4539\" y=\"-431.3\" font-family=\"Times,serif\" font-size=\"14.00\" fill=\"#000000\">samples = 1</text>\n<text text-anchor=\"middle\" x=\"4539\" y=\"-416.3\" font-family=\"Times,serif\" font-size=\"14.00\" fill=\"#000000\">value = [1, 0, 0]</text>\n</g>\n<!-- 155&#45;&gt;156 -->\n<g id=\"edge156\" class=\"edge\">\n<title>155&#45;&gt;156</title>\n<path fill=\"none\" stroke=\"#000000\" d=\"M4625.088,-504.9465C4610.4467,-493.0504 4594.0474,-479.726 4579.5215,-467.9237\"/>\n<polygon fill=\"#000000\" stroke=\"#000000\" points=\"4581.6355,-465.1317 4571.6673,-461.5422 4577.2214,-470.5645 4581.6355,-465.1317\"/>\n</g>\n<!-- 157 -->\n<g id=\"node158\" class=\"node\">\n<title>157</title>\n<polygon fill=\"none\" stroke=\"#000000\" points=\"4722,-461.5 4612,-461.5 4612,-408.5 4722,-408.5 4722,-461.5\"/>\n<text text-anchor=\"middle\" x=\"4667\" y=\"-446.3\" font-family=\"Times,serif\" font-size=\"14.00\" fill=\"#000000\">entropy = 0.0</text>\n<text text-anchor=\"middle\" x=\"4667\" y=\"-431.3\" font-family=\"Times,serif\" font-size=\"14.00\" fill=\"#000000\">samples = 2</text>\n<text text-anchor=\"middle\" x=\"4667\" y=\"-416.3\" font-family=\"Times,serif\" font-size=\"14.00\" fill=\"#000000\">value = [0, 0, 2]</text>\n</g>\n<!-- 155&#45;&gt;157 -->\n<g id=\"edge157\" class=\"edge\">\n<title>155&#45;&gt;157</title>\n<path fill=\"none\" stroke=\"#000000\" d=\"M4667,-504.9465C4667,-494.2621 4667,-482.4254 4667,-471.5742\"/>\n<polygon fill=\"#000000\" stroke=\"#000000\" points=\"4670.5001,-471.5421 4667,-461.5422 4663.5001,-471.5422 4670.5001,-471.5421\"/>\n</g>\n<!-- 159 -->\n<g id=\"node160\" class=\"node\">\n<title>159</title>\n<polygon fill=\"none\" stroke=\"#000000\" points=\"4850,-469 4740,-469 4740,-401 4850,-401 4850,-469\"/>\n<text text-anchor=\"middle\" x=\"4795\" y=\"-453.8\" font-family=\"Times,serif\" font-size=\"14.00\" fill=\"#000000\">X[0] &lt;= 4.5</text>\n<text text-anchor=\"middle\" x=\"4795\" y=\"-438.8\" font-family=\"Times,serif\" font-size=\"14.00\" fill=\"#000000\">entropy = 0.918</text>\n<text text-anchor=\"middle\" x=\"4795\" y=\"-423.8\" font-family=\"Times,serif\" font-size=\"14.00\" fill=\"#000000\">samples = 3</text>\n<text text-anchor=\"middle\" x=\"4795\" y=\"-408.8\" font-family=\"Times,serif\" font-size=\"14.00\" fill=\"#000000\">value = [1, 2, 0]</text>\n</g>\n<!-- 158&#45;&gt;159 -->\n<g id=\"edge159\" class=\"edge\">\n<title>158&#45;&gt;159</title>\n<path fill=\"none\" stroke=\"#000000\" d=\"M4795,-504.9465C4795,-496.776 4795,-487.9318 4795,-479.3697\"/>\n<polygon fill=\"#000000\" stroke=\"#000000\" points=\"4798.5001,-479.13 4795,-469.13 4791.5001,-479.13 4798.5001,-479.13\"/>\n</g>\n<!-- 164 -->\n<g id=\"node165\" class=\"node\">\n<title>164</title>\n<polygon fill=\"none\" stroke=\"#000000\" points=\"4978,-469 4868,-469 4868,-401 4978,-401 4978,-469\"/>\n<text text-anchor=\"middle\" x=\"4923\" y=\"-453.8\" font-family=\"Times,serif\" font-size=\"14.00\" fill=\"#000000\">X[0] &lt;= 4.5</text>\n<text text-anchor=\"middle\" x=\"4923\" y=\"-438.8\" font-family=\"Times,serif\" font-size=\"14.00\" fill=\"#000000\">entropy = 1.0</text>\n<text text-anchor=\"middle\" x=\"4923\" y=\"-423.8\" font-family=\"Times,serif\" font-size=\"14.00\" fill=\"#000000\">samples = 2</text>\n<text text-anchor=\"middle\" x=\"4923\" y=\"-408.8\" font-family=\"Times,serif\" font-size=\"14.00\" fill=\"#000000\">value = [1, 0, 1]</text>\n</g>\n<!-- 158&#45;&gt;164 -->\n<g id=\"edge164\" class=\"edge\">\n<title>158&#45;&gt;164</title>\n<path fill=\"none\" stroke=\"#000000\" d=\"M4836.912,-504.9465C4848.515,-495.519 4861.2221,-485.1946 4873.2259,-475.4415\"/>\n<polygon fill=\"#000000\" stroke=\"#000000\" points=\"4875.4398,-478.1524 4880.9939,-469.13 4871.0256,-472.7196 4875.4398,-478.1524\"/>\n</g>\n<!-- 160 -->\n<g id=\"node161\" class=\"node\">\n<title>160</title>\n<polygon fill=\"none\" stroke=\"#000000\" points=\"4722,-365 4612,-365 4612,-297 4722,-297 4722,-365\"/>\n<text text-anchor=\"middle\" x=\"4667\" y=\"-349.8\" font-family=\"Times,serif\" font-size=\"14.00\" fill=\"#000000\">X[2] &lt;= 3.5</text>\n<text text-anchor=\"middle\" x=\"4667\" y=\"-334.8\" font-family=\"Times,serif\" font-size=\"14.00\" fill=\"#000000\">entropy = 1.0</text>\n<text text-anchor=\"middle\" x=\"4667\" y=\"-319.8\" font-family=\"Times,serif\" font-size=\"14.00\" fill=\"#000000\">samples = 2</text>\n<text text-anchor=\"middle\" x=\"4667\" y=\"-304.8\" font-family=\"Times,serif\" font-size=\"14.00\" fill=\"#000000\">value = [1, 1, 0]</text>\n</g>\n<!-- 159&#45;&gt;160 -->\n<g id=\"edge160\" class=\"edge\">\n<title>159&#45;&gt;160</title>\n<path fill=\"none\" stroke=\"#000000\" d=\"M4753.088,-400.9465C4741.485,-391.519 4728.7779,-381.1946 4716.7741,-371.4415\"/>\n<polygon fill=\"#000000\" stroke=\"#000000\" points=\"4718.9744,-368.7196 4709.0061,-365.13 4714.5602,-374.1524 4718.9744,-368.7196\"/>\n</g>\n<!-- 163 -->\n<g id=\"node164\" class=\"node\">\n<title>163</title>\n<polygon fill=\"none\" stroke=\"#000000\" points=\"4850,-357.5 4740,-357.5 4740,-304.5 4850,-304.5 4850,-357.5\"/>\n<text text-anchor=\"middle\" x=\"4795\" y=\"-342.3\" font-family=\"Times,serif\" font-size=\"14.00\" fill=\"#000000\">entropy = 0.0</text>\n<text text-anchor=\"middle\" x=\"4795\" y=\"-327.3\" font-family=\"Times,serif\" font-size=\"14.00\" fill=\"#000000\">samples = 1</text>\n<text text-anchor=\"middle\" x=\"4795\" y=\"-312.3\" font-family=\"Times,serif\" font-size=\"14.00\" fill=\"#000000\">value = [0, 1, 0]</text>\n</g>\n<!-- 159&#45;&gt;163 -->\n<g id=\"edge163\" class=\"edge\">\n<title>159&#45;&gt;163</title>\n<path fill=\"none\" stroke=\"#000000\" d=\"M4795,-400.9465C4795,-390.2621 4795,-378.4254 4795,-367.5742\"/>\n<polygon fill=\"#000000\" stroke=\"#000000\" points=\"4798.5001,-367.5421 4795,-357.5422 4791.5001,-367.5422 4798.5001,-367.5421\"/>\n</g>\n<!-- 161 -->\n<g id=\"node162\" class=\"node\">\n<title>161</title>\n<polygon fill=\"none\" stroke=\"#000000\" points=\"4658,-253.5 4548,-253.5 4548,-200.5 4658,-200.5 4658,-253.5\"/>\n<text text-anchor=\"middle\" x=\"4603\" y=\"-238.3\" font-family=\"Times,serif\" font-size=\"14.00\" fill=\"#000000\">entropy = 0.0</text>\n<text text-anchor=\"middle\" x=\"4603\" y=\"-223.3\" font-family=\"Times,serif\" font-size=\"14.00\" fill=\"#000000\">samples = 1</text>\n<text text-anchor=\"middle\" x=\"4603\" y=\"-208.3\" font-family=\"Times,serif\" font-size=\"14.00\" fill=\"#000000\">value = [0, 1, 0]</text>\n</g>\n<!-- 160&#45;&gt;161 -->\n<g id=\"edge161\" class=\"edge\">\n<title>160&#45;&gt;161</title>\n<path fill=\"none\" stroke=\"#000000\" d=\"M4646.044,-296.9465C4639.1978,-285.8215 4631.5829,-273.4473 4624.6843,-262.237\"/>\n<polygon fill=\"#000000\" stroke=\"#000000\" points=\"4627.5555,-260.2244 4619.3336,-253.5422 4621.5939,-263.8931 4627.5555,-260.2244\"/>\n</g>\n<!-- 162 -->\n<g id=\"node163\" class=\"node\">\n<title>162</title>\n<polygon fill=\"none\" stroke=\"#000000\" points=\"4786,-253.5 4676,-253.5 4676,-200.5 4786,-200.5 4786,-253.5\"/>\n<text text-anchor=\"middle\" x=\"4731\" y=\"-238.3\" font-family=\"Times,serif\" font-size=\"14.00\" fill=\"#000000\">entropy = 0.0</text>\n<text text-anchor=\"middle\" x=\"4731\" y=\"-223.3\" font-family=\"Times,serif\" font-size=\"14.00\" fill=\"#000000\">samples = 1</text>\n<text text-anchor=\"middle\" x=\"4731\" y=\"-208.3\" font-family=\"Times,serif\" font-size=\"14.00\" fill=\"#000000\">value = [1, 0, 0]</text>\n</g>\n<!-- 160&#45;&gt;162 -->\n<g id=\"edge162\" class=\"edge\">\n<title>160&#45;&gt;162</title>\n<path fill=\"none\" stroke=\"#000000\" d=\"M4687.956,-296.9465C4694.8022,-285.8215 4702.4171,-273.4473 4709.3157,-262.237\"/>\n<polygon fill=\"#000000\" stroke=\"#000000\" points=\"4712.4061,-263.8931 4714.6664,-253.5422 4706.4445,-260.2244 4712.4061,-263.8931\"/>\n</g>\n<!-- 165 -->\n<g id=\"node166\" class=\"node\">\n<title>165</title>\n<polygon fill=\"none\" stroke=\"#000000\" points=\"4978,-357.5 4868,-357.5 4868,-304.5 4978,-304.5 4978,-357.5\"/>\n<text text-anchor=\"middle\" x=\"4923\" y=\"-342.3\" font-family=\"Times,serif\" font-size=\"14.00\" fill=\"#000000\">entropy = 0.0</text>\n<text text-anchor=\"middle\" x=\"4923\" y=\"-327.3\" font-family=\"Times,serif\" font-size=\"14.00\" fill=\"#000000\">samples = 1</text>\n<text text-anchor=\"middle\" x=\"4923\" y=\"-312.3\" font-family=\"Times,serif\" font-size=\"14.00\" fill=\"#000000\">value = [0, 0, 1]</text>\n</g>\n<!-- 164&#45;&gt;165 -->\n<g id=\"edge165\" class=\"edge\">\n<title>164&#45;&gt;165</title>\n<path fill=\"none\" stroke=\"#000000\" d=\"M4923,-400.9465C4923,-390.2621 4923,-378.4254 4923,-367.5742\"/>\n<polygon fill=\"#000000\" stroke=\"#000000\" points=\"4926.5001,-367.5421 4923,-357.5422 4919.5001,-367.5422 4926.5001,-367.5421\"/>\n</g>\n<!-- 166 -->\n<g id=\"node167\" class=\"node\">\n<title>166</title>\n<polygon fill=\"none\" stroke=\"#000000\" points=\"5106,-357.5 4996,-357.5 4996,-304.5 5106,-304.5 5106,-357.5\"/>\n<text text-anchor=\"middle\" x=\"5051\" y=\"-342.3\" font-family=\"Times,serif\" font-size=\"14.00\" fill=\"#000000\">entropy = 0.0</text>\n<text text-anchor=\"middle\" x=\"5051\" y=\"-327.3\" font-family=\"Times,serif\" font-size=\"14.00\" fill=\"#000000\">samples = 1</text>\n<text text-anchor=\"middle\" x=\"5051\" y=\"-312.3\" font-family=\"Times,serif\" font-size=\"14.00\" fill=\"#000000\">value = [1, 0, 0]</text>\n</g>\n<!-- 164&#45;&gt;166 -->\n<g id=\"edge166\" class=\"edge\">\n<title>164&#45;&gt;166</title>\n<path fill=\"none\" stroke=\"#000000\" d=\"M4964.912,-400.9465C4979.5533,-389.0504 4995.9526,-375.726 5010.4785,-363.9237\"/>\n<polygon fill=\"#000000\" stroke=\"#000000\" points=\"5012.7786,-366.5645 5018.3327,-357.5422 5008.3645,-361.1317 5012.7786,-366.5645\"/>\n</g>\n<!-- 168 -->\n<g id=\"node169\" class=\"node\">\n<title>168</title>\n<polygon fill=\"none\" stroke=\"#000000\" points=\"4984,-565.5 4868,-565.5 4868,-512.5 4984,-512.5 4984,-565.5\"/>\n<text text-anchor=\"middle\" x=\"4926\" y=\"-550.3\" font-family=\"Times,serif\" font-size=\"14.00\" fill=\"#000000\">entropy = 0.0</text>\n<text text-anchor=\"middle\" x=\"4926\" y=\"-535.3\" font-family=\"Times,serif\" font-size=\"14.00\" fill=\"#000000\">samples = 11</text>\n<text text-anchor=\"middle\" x=\"4926\" y=\"-520.3\" font-family=\"Times,serif\" font-size=\"14.00\" fill=\"#000000\">value = [0, 0, 11]</text>\n</g>\n<!-- 167&#45;&gt;168 -->\n<g id=\"edge168\" class=\"edge\">\n<title>167&#45;&gt;168</title>\n<path fill=\"none\" stroke=\"#000000\" d=\"M4926,-608.9465C4926,-598.2621 4926,-586.4254 4926,-575.5742\"/>\n<polygon fill=\"#000000\" stroke=\"#000000\" points=\"4929.5001,-575.5421 4926,-565.5422 4922.5001,-575.5422 4929.5001,-575.5421\"/>\n</g>\n<!-- 169 -->\n<g id=\"node170\" class=\"node\">\n<title>169</title>\n<polygon fill=\"none\" stroke=\"#000000\" points=\"5112,-573 5002,-573 5002,-505 5112,-505 5112,-573\"/>\n<text text-anchor=\"middle\" x=\"5057\" y=\"-557.8\" font-family=\"Times,serif\" font-size=\"14.00\" fill=\"#000000\">X[2] &lt;= 3.5</text>\n<text text-anchor=\"middle\" x=\"5057\" y=\"-542.8\" font-family=\"Times,serif\" font-size=\"14.00\" fill=\"#000000\">entropy = 0.811</text>\n<text text-anchor=\"middle\" x=\"5057\" y=\"-527.8\" font-family=\"Times,serif\" font-size=\"14.00\" fill=\"#000000\">samples = 4</text>\n<text text-anchor=\"middle\" x=\"5057\" y=\"-512.8\" font-family=\"Times,serif\" font-size=\"14.00\" fill=\"#000000\">value = [1, 0, 3]</text>\n</g>\n<!-- 167&#45;&gt;169 -->\n<g id=\"edge169\" class=\"edge\">\n<title>167&#45;&gt;169</title>\n<path fill=\"none\" stroke=\"#000000\" d=\"M4968.8943,-608.9465C4980.7693,-599.519 4993.7741,-589.1946 5006.0593,-579.4415\"/>\n<polygon fill=\"#000000\" stroke=\"#000000\" points=\"5008.3536,-582.089 5014.0093,-573.13 5004.0011,-576.6066 5008.3536,-582.089\"/>\n</g>\n<!-- 170 -->\n<g id=\"node171\" class=\"node\">\n<title>170</title>\n<polygon fill=\"none\" stroke=\"#000000\" points=\"5106,-461.5 4996,-461.5 4996,-408.5 5106,-408.5 5106,-461.5\"/>\n<text text-anchor=\"middle\" x=\"5051\" y=\"-446.3\" font-family=\"Times,serif\" font-size=\"14.00\" fill=\"#000000\">entropy = 0.0</text>\n<text text-anchor=\"middle\" x=\"5051\" y=\"-431.3\" font-family=\"Times,serif\" font-size=\"14.00\" fill=\"#000000\">samples = 1</text>\n<text text-anchor=\"middle\" x=\"5051\" y=\"-416.3\" font-family=\"Times,serif\" font-size=\"14.00\" fill=\"#000000\">value = [1, 0, 0]</text>\n</g>\n<!-- 169&#45;&gt;170 -->\n<g id=\"edge170\" class=\"edge\">\n<title>169&#45;&gt;170</title>\n<path fill=\"none\" stroke=\"#000000\" d=\"M5055.0354,-504.9465C5054.419,-494.2621 5053.7361,-482.4254 5053.1101,-471.5742\"/>\n<polygon fill=\"#000000\" stroke=\"#000000\" points=\"5056.6015,-471.3239 5052.5313,-461.5422 5049.6131,-471.7272 5056.6015,-471.3239\"/>\n</g>\n<!-- 171 -->\n<g id=\"node172\" class=\"node\">\n<title>171</title>\n<polygon fill=\"none\" stroke=\"#000000\" points=\"5234,-461.5 5124,-461.5 5124,-408.5 5234,-408.5 5234,-461.5\"/>\n<text text-anchor=\"middle\" x=\"5179\" y=\"-446.3\" font-family=\"Times,serif\" font-size=\"14.00\" fill=\"#000000\">entropy = 0.0</text>\n<text text-anchor=\"middle\" x=\"5179\" y=\"-431.3\" font-family=\"Times,serif\" font-size=\"14.00\" fill=\"#000000\">samples = 3</text>\n<text text-anchor=\"middle\" x=\"5179\" y=\"-416.3\" font-family=\"Times,serif\" font-size=\"14.00\" fill=\"#000000\">value = [0, 0, 3]</text>\n</g>\n<!-- 169&#45;&gt;171 -->\n<g id=\"edge171\" class=\"edge\">\n<title>169&#45;&gt;171</title>\n<path fill=\"none\" stroke=\"#000000\" d=\"M5096.9474,-504.9465C5110.7732,-493.1606 5126.2436,-479.9726 5139.9929,-468.2519\"/>\n<polygon fill=\"#000000\" stroke=\"#000000\" points=\"5142.5244,-470.6931 5147.864,-461.5422 5137.9832,-465.366 5142.5244,-470.6931\"/>\n</g>\n<!-- 173 -->\n<g id=\"node174\" class=\"node\">\n<title>173</title>\n<polygon fill=\"none\" stroke=\"#000000\" points=\"5522,-677 5406,-677 5406,-609 5522,-609 5522,-677\"/>\n<text text-anchor=\"middle\" x=\"5464\" y=\"-661.8\" font-family=\"Times,serif\" font-size=\"14.00\" fill=\"#000000\">X[0] &lt;= 3.5</text>\n<text text-anchor=\"middle\" x=\"5464\" y=\"-646.8\" font-family=\"Times,serif\" font-size=\"14.00\" fill=\"#000000\">entropy = 0.773</text>\n<text text-anchor=\"middle\" x=\"5464\" y=\"-631.8\" font-family=\"Times,serif\" font-size=\"14.00\" fill=\"#000000\">samples = 13</text>\n<text text-anchor=\"middle\" x=\"5464\" y=\"-616.8\" font-family=\"Times,serif\" font-size=\"14.00\" fill=\"#000000\">value = [1, 11, 1]</text>\n</g>\n<!-- 172&#45;&gt;173 -->\n<g id=\"edge173\" class=\"edge\">\n<title>172&#45;&gt;173</title>\n<path fill=\"none\" stroke=\"#000000\" d=\"M5464,-712.9465C5464,-704.776 5464,-695.9318 5464,-687.3697\"/>\n<polygon fill=\"#000000\" stroke=\"#000000\" points=\"5467.5001,-687.13 5464,-677.13 5460.5001,-687.13 5467.5001,-687.13\"/>\n</g>\n<!-- 182 -->\n<g id=\"node183\" class=\"node\">\n<title>182</title>\n<polygon fill=\"none\" stroke=\"#000000\" points=\"5717,-677 5601,-677 5601,-609 5717,-609 5717,-677\"/>\n<text text-anchor=\"middle\" x=\"5659\" y=\"-661.8\" font-family=\"Times,serif\" font-size=\"14.00\" fill=\"#000000\">X[0] &lt;= 3.5</text>\n<text text-anchor=\"middle\" x=\"5659\" y=\"-646.8\" font-family=\"Times,serif\" font-size=\"14.00\" fill=\"#000000\">entropy = 1.55</text>\n<text text-anchor=\"middle\" x=\"5659\" y=\"-631.8\" font-family=\"Times,serif\" font-size=\"14.00\" fill=\"#000000\">samples = 25</text>\n<text text-anchor=\"middle\" x=\"5659\" y=\"-616.8\" font-family=\"Times,serif\" font-size=\"14.00\" fill=\"#000000\">value = [7, 7, 11]</text>\n</g>\n<!-- 172&#45;&gt;182 -->\n<g id=\"edge182\" class=\"edge\">\n<title>172&#45;&gt;182</title>\n<path fill=\"none\" stroke=\"#000000\" d=\"M5526.5038,-713.6646C5547.3635,-702.5395 5570.6872,-690.1002 5591.8826,-678.7959\"/>\n<polygon fill=\"#000000\" stroke=\"#000000\" points=\"5593.6462,-681.8221 5600.8227,-674.0279 5590.352,-675.6456 5593.6462,-681.8221\"/>\n</g>\n<!-- 174 -->\n<g id=\"node175\" class=\"node\">\n<title>174</title>\n<polygon fill=\"none\" stroke=\"#000000\" points=\"5426,-573 5316,-573 5316,-505 5426,-505 5426,-573\"/>\n<text text-anchor=\"middle\" x=\"5371\" y=\"-557.8\" font-family=\"Times,serif\" font-size=\"14.00\" fill=\"#000000\">X[3] &lt;= 4.5</text>\n<text text-anchor=\"middle\" x=\"5371\" y=\"-542.8\" font-family=\"Times,serif\" font-size=\"14.00\" fill=\"#000000\">entropy = 1.371</text>\n<text text-anchor=\"middle\" x=\"5371\" y=\"-527.8\" font-family=\"Times,serif\" font-size=\"14.00\" fill=\"#000000\">samples = 5</text>\n<text text-anchor=\"middle\" x=\"5371\" y=\"-512.8\" font-family=\"Times,serif\" font-size=\"14.00\" fill=\"#000000\">value = [1, 3, 1]</text>\n</g>\n<!-- 173&#45;&gt;174 -->\n<g id=\"edge174\" class=\"edge\">\n<title>173&#45;&gt;174</title>\n<path fill=\"none\" stroke=\"#000000\" d=\"M5433.5483,-608.9465C5425.5194,-599.968 5416.763,-590.1758 5408.4133,-580.8385\"/>\n<polygon fill=\"#000000\" stroke=\"#000000\" points=\"5410.795,-578.2512 5401.5201,-573.13 5405.577,-582.9174 5410.795,-578.2512\"/>\n</g>\n<!-- 181 -->\n<g id=\"node182\" class=\"node\">\n<title>181</title>\n<polygon fill=\"none\" stroke=\"#000000\" points=\"5554,-565.5 5444,-565.5 5444,-512.5 5554,-512.5 5554,-565.5\"/>\n<text text-anchor=\"middle\" x=\"5499\" y=\"-550.3\" font-family=\"Times,serif\" font-size=\"14.00\" fill=\"#000000\">entropy = 0.0</text>\n<text text-anchor=\"middle\" x=\"5499\" y=\"-535.3\" font-family=\"Times,serif\" font-size=\"14.00\" fill=\"#000000\">samples = 8</text>\n<text text-anchor=\"middle\" x=\"5499\" y=\"-520.3\" font-family=\"Times,serif\" font-size=\"14.00\" fill=\"#000000\">value = [0, 8, 0]</text>\n</g>\n<!-- 173&#45;&gt;181 -->\n<g id=\"edge181\" class=\"edge\">\n<title>173&#45;&gt;181</title>\n<path fill=\"none\" stroke=\"#000000\" d=\"M5475.4603,-608.9465C5479.0931,-598.1519 5483.1217,-586.1813 5486.8042,-575.2389\"/>\n<polygon fill=\"#000000\" stroke=\"#000000\" points=\"5490.1951,-576.1362 5490.0675,-565.5422 5483.5607,-573.9035 5490.1951,-576.1362\"/>\n</g>\n<!-- 175 -->\n<g id=\"node176\" class=\"node\">\n<title>175</title>\n<polygon fill=\"none\" stroke=\"#000000\" points=\"5362,-469 5252,-469 5252,-401 5362,-401 5362,-469\"/>\n<text text-anchor=\"middle\" x=\"5307\" y=\"-453.8\" font-family=\"Times,serif\" font-size=\"14.00\" fill=\"#000000\">X[3] &lt;= 3.5</text>\n<text text-anchor=\"middle\" x=\"5307\" y=\"-438.8\" font-family=\"Times,serif\" font-size=\"14.00\" fill=\"#000000\">entropy = 0.811</text>\n<text text-anchor=\"middle\" x=\"5307\" y=\"-423.8\" font-family=\"Times,serif\" font-size=\"14.00\" fill=\"#000000\">samples = 4</text>\n<text text-anchor=\"middle\" x=\"5307\" y=\"-408.8\" font-family=\"Times,serif\" font-size=\"14.00\" fill=\"#000000\">value = [1, 3, 0]</text>\n</g>\n<!-- 174&#45;&gt;175 -->\n<g id=\"edge175\" class=\"edge\">\n<title>174&#45;&gt;175</title>\n<path fill=\"none\" stroke=\"#000000\" d=\"M5350.044,-504.9465C5344.6845,-496.2373 5338.8539,-486.7626 5333.2647,-477.6801\"/>\n<polygon fill=\"#000000\" stroke=\"#000000\" points=\"5336.2249,-475.8122 5328.0031,-469.13 5330.2633,-479.481 5336.2249,-475.8122\"/>\n</g>\n<!-- 180 -->\n<g id=\"node181\" class=\"node\">\n<title>180</title>\n<polygon fill=\"none\" stroke=\"#000000\" points=\"5490,-461.5 5380,-461.5 5380,-408.5 5490,-408.5 5490,-461.5\"/>\n<text text-anchor=\"middle\" x=\"5435\" y=\"-446.3\" font-family=\"Times,serif\" font-size=\"14.00\" fill=\"#000000\">entropy = 0.0</text>\n<text text-anchor=\"middle\" x=\"5435\" y=\"-431.3\" font-family=\"Times,serif\" font-size=\"14.00\" fill=\"#000000\">samples = 1</text>\n<text text-anchor=\"middle\" x=\"5435\" y=\"-416.3\" font-family=\"Times,serif\" font-size=\"14.00\" fill=\"#000000\">value = [0, 0, 1]</text>\n</g>\n<!-- 174&#45;&gt;180 -->\n<g id=\"edge180\" class=\"edge\">\n<title>174&#45;&gt;180</title>\n<path fill=\"none\" stroke=\"#000000\" d=\"M5391.956,-504.9465C5398.8022,-493.8215 5406.4171,-481.4473 5413.3157,-470.237\"/>\n<polygon fill=\"#000000\" stroke=\"#000000\" points=\"5416.4061,-471.8931 5418.6664,-461.5422 5410.4445,-468.2244 5416.4061,-471.8931\"/>\n</g>\n<!-- 176 -->\n<g id=\"node177\" class=\"node\">\n<title>176</title>\n<polygon fill=\"none\" stroke=\"#000000\" points=\"5234,-357.5 5124,-357.5 5124,-304.5 5234,-304.5 5234,-357.5\"/>\n<text text-anchor=\"middle\" x=\"5179\" y=\"-342.3\" font-family=\"Times,serif\" font-size=\"14.00\" fill=\"#000000\">entropy = 0.0</text>\n<text text-anchor=\"middle\" x=\"5179\" y=\"-327.3\" font-family=\"Times,serif\" font-size=\"14.00\" fill=\"#000000\">samples = 2</text>\n<text text-anchor=\"middle\" x=\"5179\" y=\"-312.3\" font-family=\"Times,serif\" font-size=\"14.00\" fill=\"#000000\">value = [0, 2, 0]</text>\n</g>\n<!-- 175&#45;&gt;176 -->\n<g id=\"edge176\" class=\"edge\">\n<title>175&#45;&gt;176</title>\n<path fill=\"none\" stroke=\"#000000\" d=\"M5265.088,-400.9465C5250.4467,-389.0504 5234.0474,-375.726 5219.5215,-363.9237\"/>\n<polygon fill=\"#000000\" stroke=\"#000000\" points=\"5221.6355,-361.1317 5211.6673,-357.5422 5217.2214,-366.5645 5221.6355,-361.1317\"/>\n</g>\n<!-- 177 -->\n<g id=\"node178\" class=\"node\">\n<title>177</title>\n<polygon fill=\"none\" stroke=\"#000000\" points=\"5362,-365 5252,-365 5252,-297 5362,-297 5362,-365\"/>\n<text text-anchor=\"middle\" x=\"5307\" y=\"-349.8\" font-family=\"Times,serif\" font-size=\"14.00\" fill=\"#000000\">X[1] &lt;= 4.5</text>\n<text text-anchor=\"middle\" x=\"5307\" y=\"-334.8\" font-family=\"Times,serif\" font-size=\"14.00\" fill=\"#000000\">entropy = 1.0</text>\n<text text-anchor=\"middle\" x=\"5307\" y=\"-319.8\" font-family=\"Times,serif\" font-size=\"14.00\" fill=\"#000000\">samples = 2</text>\n<text text-anchor=\"middle\" x=\"5307\" y=\"-304.8\" font-family=\"Times,serif\" font-size=\"14.00\" fill=\"#000000\">value = [1, 1, 0]</text>\n</g>\n<!-- 175&#45;&gt;177 -->\n<g id=\"edge177\" class=\"edge\">\n<title>175&#45;&gt;177</title>\n<path fill=\"none\" stroke=\"#000000\" d=\"M5307,-400.9465C5307,-392.776 5307,-383.9318 5307,-375.3697\"/>\n<polygon fill=\"#000000\" stroke=\"#000000\" points=\"5310.5001,-375.13 5307,-365.13 5303.5001,-375.13 5310.5001,-375.13\"/>\n</g>\n<!-- 178 -->\n<g id=\"node179\" class=\"node\">\n<title>178</title>\n<polygon fill=\"none\" stroke=\"#000000\" points=\"5234,-253.5 5124,-253.5 5124,-200.5 5234,-200.5 5234,-253.5\"/>\n<text text-anchor=\"middle\" x=\"5179\" y=\"-238.3\" font-family=\"Times,serif\" font-size=\"14.00\" fill=\"#000000\">entropy = 0.0</text>\n<text text-anchor=\"middle\" x=\"5179\" y=\"-223.3\" font-family=\"Times,serif\" font-size=\"14.00\" fill=\"#000000\">samples = 1</text>\n<text text-anchor=\"middle\" x=\"5179\" y=\"-208.3\" font-family=\"Times,serif\" font-size=\"14.00\" fill=\"#000000\">value = [1, 0, 0]</text>\n</g>\n<!-- 177&#45;&gt;178 -->\n<g id=\"edge178\" class=\"edge\">\n<title>177&#45;&gt;178</title>\n<path fill=\"none\" stroke=\"#000000\" d=\"M5265.088,-296.9465C5250.4467,-285.0504 5234.0474,-271.726 5219.5215,-259.9237\"/>\n<polygon fill=\"#000000\" stroke=\"#000000\" points=\"5221.6355,-257.1317 5211.6673,-253.5422 5217.2214,-262.5645 5221.6355,-257.1317\"/>\n</g>\n<!-- 179 -->\n<g id=\"node180\" class=\"node\">\n<title>179</title>\n<polygon fill=\"none\" stroke=\"#000000\" points=\"5362,-253.5 5252,-253.5 5252,-200.5 5362,-200.5 5362,-253.5\"/>\n<text text-anchor=\"middle\" x=\"5307\" y=\"-238.3\" font-family=\"Times,serif\" font-size=\"14.00\" fill=\"#000000\">entropy = 0.0</text>\n<text text-anchor=\"middle\" x=\"5307\" y=\"-223.3\" font-family=\"Times,serif\" font-size=\"14.00\" fill=\"#000000\">samples = 1</text>\n<text text-anchor=\"middle\" x=\"5307\" y=\"-208.3\" font-family=\"Times,serif\" font-size=\"14.00\" fill=\"#000000\">value = [0, 1, 0]</text>\n</g>\n<!-- 177&#45;&gt;179 -->\n<g id=\"edge179\" class=\"edge\">\n<title>177&#45;&gt;179</title>\n<path fill=\"none\" stroke=\"#000000\" d=\"M5307,-296.9465C5307,-286.2621 5307,-274.4254 5307,-263.5742\"/>\n<polygon fill=\"#000000\" stroke=\"#000000\" points=\"5310.5001,-263.5421 5307,-253.5422 5303.5001,-263.5422 5310.5001,-263.5421\"/>\n</g>\n<!-- 183 -->\n<g id=\"node184\" class=\"node\">\n<title>183</title>\n<polygon fill=\"none\" stroke=\"#000000\" points=\"5714,-573 5604,-573 5604,-505 5714,-505 5714,-573\"/>\n<text text-anchor=\"middle\" x=\"5659\" y=\"-557.8\" font-family=\"Times,serif\" font-size=\"14.00\" fill=\"#000000\">X[3] &lt;= 3.5</text>\n<text text-anchor=\"middle\" x=\"5659\" y=\"-542.8\" font-family=\"Times,serif\" font-size=\"14.00\" fill=\"#000000\">entropy = 1.096</text>\n<text text-anchor=\"middle\" x=\"5659\" y=\"-527.8\" font-family=\"Times,serif\" font-size=\"14.00\" fill=\"#000000\">samples = 11</text>\n<text text-anchor=\"middle\" x=\"5659\" y=\"-512.8\" font-family=\"Times,serif\" font-size=\"14.00\" fill=\"#000000\">value = [2, 1, 8]</text>\n</g>\n<!-- 182&#45;&gt;183 -->\n<g id=\"edge183\" class=\"edge\">\n<title>182&#45;&gt;183</title>\n<path fill=\"none\" stroke=\"#000000\" d=\"M5659,-608.9465C5659,-600.776 5659,-591.9318 5659,-583.3697\"/>\n<polygon fill=\"#000000\" stroke=\"#000000\" points=\"5662.5001,-583.13 5659,-573.13 5655.5001,-583.13 5662.5001,-583.13\"/>\n</g>\n<!-- 192 -->\n<g id=\"node193\" class=\"node\">\n<title>192</title>\n<polygon fill=\"none\" stroke=\"#000000\" points=\"5938,-573 5828,-573 5828,-505 5938,-505 5938,-573\"/>\n<text text-anchor=\"middle\" x=\"5883\" y=\"-557.8\" font-family=\"Times,serif\" font-size=\"14.00\" fill=\"#000000\">X[3] &lt;= 3.5</text>\n<text text-anchor=\"middle\" x=\"5883\" y=\"-542.8\" font-family=\"Times,serif\" font-size=\"14.00\" fill=\"#000000\">entropy = 1.531</text>\n<text text-anchor=\"middle\" x=\"5883\" y=\"-527.8\" font-family=\"Times,serif\" font-size=\"14.00\" fill=\"#000000\">samples = 14</text>\n<text text-anchor=\"middle\" x=\"5883\" y=\"-512.8\" font-family=\"Times,serif\" font-size=\"14.00\" fill=\"#000000\">value = [5, 6, 3]</text>\n</g>\n<!-- 182&#45;&gt;192 -->\n<g id=\"edge192\" class=\"edge\">\n<title>182&#45;&gt;192</title>\n<path fill=\"none\" stroke=\"#000000\" d=\"M5717.2686,-615.9467C5748.2981,-601.5402 5786.5387,-583.7856 5818.4653,-568.9625\"/>\n<polygon fill=\"#000000\" stroke=\"#000000\" points=\"5820.1262,-572.0503 5827.7224,-564.6646 5817.1784,-565.7012 5820.1262,-572.0503\"/>\n</g>\n<!-- 184 -->\n<g id=\"node185\" class=\"node\">\n<title>184</title>\n<polygon fill=\"none\" stroke=\"#000000\" points=\"5618,-469 5508,-469 5508,-401 5618,-401 5618,-469\"/>\n<text text-anchor=\"middle\" x=\"5563\" y=\"-453.8\" font-family=\"Times,serif\" font-size=\"14.00\" fill=\"#000000\">X[2] &lt;= 4.5</text>\n<text text-anchor=\"middle\" x=\"5563\" y=\"-438.8\" font-family=\"Times,serif\" font-size=\"14.00\" fill=\"#000000\">entropy = 1.5</text>\n<text text-anchor=\"middle\" x=\"5563\" y=\"-423.8\" font-family=\"Times,serif\" font-size=\"14.00\" fill=\"#000000\">samples = 4</text>\n<text text-anchor=\"middle\" x=\"5563\" y=\"-408.8\" font-family=\"Times,serif\" font-size=\"14.00\" fill=\"#000000\">value = [2, 1, 1]</text>\n</g>\n<!-- 183&#45;&gt;184 -->\n<g id=\"edge184\" class=\"edge\">\n<title>183&#45;&gt;184</title>\n<path fill=\"none\" stroke=\"#000000\" d=\"M5627.566,-504.9465C5619.1953,-495.8782 5610.0584,-485.9799 5601.3617,-476.5585\"/>\n<polygon fill=\"#000000\" stroke=\"#000000\" points=\"5603.8593,-474.1041 5594.5046,-469.13 5598.7156,-478.852 5603.8593,-474.1041\"/>\n</g>\n<!-- 191 -->\n<g id=\"node192\" class=\"node\">\n<title>191</title>\n<polygon fill=\"none\" stroke=\"#000000\" points=\"5746,-461.5 5636,-461.5 5636,-408.5 5746,-408.5 5746,-461.5\"/>\n<text text-anchor=\"middle\" x=\"5691\" y=\"-446.3\" font-family=\"Times,serif\" font-size=\"14.00\" fill=\"#000000\">entropy = 0.0</text>\n<text text-anchor=\"middle\" x=\"5691\" y=\"-431.3\" font-family=\"Times,serif\" font-size=\"14.00\" fill=\"#000000\">samples = 7</text>\n<text text-anchor=\"middle\" x=\"5691\" y=\"-416.3\" font-family=\"Times,serif\" font-size=\"14.00\" fill=\"#000000\">value = [0, 0, 7]</text>\n</g>\n<!-- 183&#45;&gt;191 -->\n<g id=\"edge191\" class=\"edge\">\n<title>183&#45;&gt;191</title>\n<path fill=\"none\" stroke=\"#000000\" d=\"M5669.478,-504.9465C5672.7994,-494.1519 5676.4827,-482.1813 5679.8496,-471.2389\"/>\n<polygon fill=\"#000000\" stroke=\"#000000\" points=\"5683.2375,-472.1293 5682.8332,-461.5422 5676.547,-470.0706 5683.2375,-472.1293\"/>\n</g>\n<!-- 185 -->\n<g id=\"node186\" class=\"node\">\n<title>185</title>\n<polygon fill=\"none\" stroke=\"#000000\" points=\"5618,-365 5508,-365 5508,-297 5618,-297 5618,-365\"/>\n<text text-anchor=\"middle\" x=\"5563\" y=\"-349.8\" font-family=\"Times,serif\" font-size=\"14.00\" fill=\"#000000\">X[1] &lt;= 4.5</text>\n<text text-anchor=\"middle\" x=\"5563\" y=\"-334.8\" font-family=\"Times,serif\" font-size=\"14.00\" fill=\"#000000\">entropy = 1.0</text>\n<text text-anchor=\"middle\" x=\"5563\" y=\"-319.8\" font-family=\"Times,serif\" font-size=\"14.00\" fill=\"#000000\">samples = 2</text>\n<text text-anchor=\"middle\" x=\"5563\" y=\"-304.8\" font-family=\"Times,serif\" font-size=\"14.00\" fill=\"#000000\">value = [1, 1, 0]</text>\n</g>\n<!-- 184&#45;&gt;185 -->\n<g id=\"edge185\" class=\"edge\">\n<title>184&#45;&gt;185</title>\n<path fill=\"none\" stroke=\"#000000\" d=\"M5563,-400.9465C5563,-392.776 5563,-383.9318 5563,-375.3697\"/>\n<polygon fill=\"#000000\" stroke=\"#000000\" points=\"5566.5001,-375.13 5563,-365.13 5559.5001,-375.13 5566.5001,-375.13\"/>\n</g>\n<!-- 188 -->\n<g id=\"node189\" class=\"node\">\n<title>188</title>\n<polygon fill=\"none\" stroke=\"#000000\" points=\"5746,-365 5636,-365 5636,-297 5746,-297 5746,-365\"/>\n<text text-anchor=\"middle\" x=\"5691\" y=\"-349.8\" font-family=\"Times,serif\" font-size=\"14.00\" fill=\"#000000\">X[1] &lt;= 4.5</text>\n<text text-anchor=\"middle\" x=\"5691\" y=\"-334.8\" font-family=\"Times,serif\" font-size=\"14.00\" fill=\"#000000\">entropy = 1.0</text>\n<text text-anchor=\"middle\" x=\"5691\" y=\"-319.8\" font-family=\"Times,serif\" font-size=\"14.00\" fill=\"#000000\">samples = 2</text>\n<text text-anchor=\"middle\" x=\"5691\" y=\"-304.8\" font-family=\"Times,serif\" font-size=\"14.00\" fill=\"#000000\">value = [1, 0, 1]</text>\n</g>\n<!-- 184&#45;&gt;188 -->\n<g id=\"edge188\" class=\"edge\">\n<title>184&#45;&gt;188</title>\n<path fill=\"none\" stroke=\"#000000\" d=\"M5604.912,-400.9465C5616.515,-391.519 5629.2221,-381.1946 5641.2259,-371.4415\"/>\n<polygon fill=\"#000000\" stroke=\"#000000\" points=\"5643.4398,-374.1524 5648.9939,-365.13 5639.0256,-368.7196 5643.4398,-374.1524\"/>\n</g>\n<!-- 186 -->\n<g id=\"node187\" class=\"node\">\n<title>186</title>\n<polygon fill=\"none\" stroke=\"#000000\" points=\"5490,-253.5 5380,-253.5 5380,-200.5 5490,-200.5 5490,-253.5\"/>\n<text text-anchor=\"middle\" x=\"5435\" y=\"-238.3\" font-family=\"Times,serif\" font-size=\"14.00\" fill=\"#000000\">entropy = 0.0</text>\n<text text-anchor=\"middle\" x=\"5435\" y=\"-223.3\" font-family=\"Times,serif\" font-size=\"14.00\" fill=\"#000000\">samples = 1</text>\n<text text-anchor=\"middle\" x=\"5435\" y=\"-208.3\" font-family=\"Times,serif\" font-size=\"14.00\" fill=\"#000000\">value = [1, 0, 0]</text>\n</g>\n<!-- 185&#45;&gt;186 -->\n<g id=\"edge186\" class=\"edge\">\n<title>185&#45;&gt;186</title>\n<path fill=\"none\" stroke=\"#000000\" d=\"M5521.088,-296.9465C5506.4467,-285.0504 5490.0474,-271.726 5475.5215,-259.9237\"/>\n<polygon fill=\"#000000\" stroke=\"#000000\" points=\"5477.6355,-257.1317 5467.6673,-253.5422 5473.2214,-262.5645 5477.6355,-257.1317\"/>\n</g>\n<!-- 187 -->\n<g id=\"node188\" class=\"node\">\n<title>187</title>\n<polygon fill=\"none\" stroke=\"#000000\" points=\"5618,-253.5 5508,-253.5 5508,-200.5 5618,-200.5 5618,-253.5\"/>\n<text text-anchor=\"middle\" x=\"5563\" y=\"-238.3\" font-family=\"Times,serif\" font-size=\"14.00\" fill=\"#000000\">entropy = 0.0</text>\n<text text-anchor=\"middle\" x=\"5563\" y=\"-223.3\" font-family=\"Times,serif\" font-size=\"14.00\" fill=\"#000000\">samples = 1</text>\n<text text-anchor=\"middle\" x=\"5563\" y=\"-208.3\" font-family=\"Times,serif\" font-size=\"14.00\" fill=\"#000000\">value = [0, 1, 0]</text>\n</g>\n<!-- 185&#45;&gt;187 -->\n<g id=\"edge187\" class=\"edge\">\n<title>185&#45;&gt;187</title>\n<path fill=\"none\" stroke=\"#000000\" d=\"M5563,-296.9465C5563,-286.2621 5563,-274.4254 5563,-263.5742\"/>\n<polygon fill=\"#000000\" stroke=\"#000000\" points=\"5566.5001,-263.5421 5563,-253.5422 5559.5001,-263.5422 5566.5001,-263.5421\"/>\n</g>\n<!-- 189 -->\n<g id=\"node190\" class=\"node\">\n<title>189</title>\n<polygon fill=\"none\" stroke=\"#000000\" points=\"5746,-253.5 5636,-253.5 5636,-200.5 5746,-200.5 5746,-253.5\"/>\n<text text-anchor=\"middle\" x=\"5691\" y=\"-238.3\" font-family=\"Times,serif\" font-size=\"14.00\" fill=\"#000000\">entropy = 0.0</text>\n<text text-anchor=\"middle\" x=\"5691\" y=\"-223.3\" font-family=\"Times,serif\" font-size=\"14.00\" fill=\"#000000\">samples = 1</text>\n<text text-anchor=\"middle\" x=\"5691\" y=\"-208.3\" font-family=\"Times,serif\" font-size=\"14.00\" fill=\"#000000\">value = [0, 0, 1]</text>\n</g>\n<!-- 188&#45;&gt;189 -->\n<g id=\"edge189\" class=\"edge\">\n<title>188&#45;&gt;189</title>\n<path fill=\"none\" stroke=\"#000000\" d=\"M5691,-296.9465C5691,-286.2621 5691,-274.4254 5691,-263.5742\"/>\n<polygon fill=\"#000000\" stroke=\"#000000\" points=\"5694.5001,-263.5421 5691,-253.5422 5687.5001,-263.5422 5694.5001,-263.5421\"/>\n</g>\n<!-- 190 -->\n<g id=\"node191\" class=\"node\">\n<title>190</title>\n<polygon fill=\"none\" stroke=\"#000000\" points=\"5874,-253.5 5764,-253.5 5764,-200.5 5874,-200.5 5874,-253.5\"/>\n<text text-anchor=\"middle\" x=\"5819\" y=\"-238.3\" font-family=\"Times,serif\" font-size=\"14.00\" fill=\"#000000\">entropy = 0.0</text>\n<text text-anchor=\"middle\" x=\"5819\" y=\"-223.3\" font-family=\"Times,serif\" font-size=\"14.00\" fill=\"#000000\">samples = 1</text>\n<text text-anchor=\"middle\" x=\"5819\" y=\"-208.3\" font-family=\"Times,serif\" font-size=\"14.00\" fill=\"#000000\">value = [1, 0, 0]</text>\n</g>\n<!-- 188&#45;&gt;190 -->\n<g id=\"edge190\" class=\"edge\">\n<title>188&#45;&gt;190</title>\n<path fill=\"none\" stroke=\"#000000\" d=\"M5732.912,-296.9465C5747.5533,-285.0504 5763.9526,-271.726 5778.4785,-259.9237\"/>\n<polygon fill=\"#000000\" stroke=\"#000000\" points=\"5780.7786,-262.5645 5786.3327,-253.5422 5776.3645,-257.1317 5780.7786,-262.5645\"/>\n</g>\n<!-- 193 -->\n<g id=\"node194\" class=\"node\">\n<title>193</title>\n<polygon fill=\"none\" stroke=\"#000000\" points=\"5938,-461.5 5828,-461.5 5828,-408.5 5938,-408.5 5938,-461.5\"/>\n<text text-anchor=\"middle\" x=\"5883\" y=\"-446.3\" font-family=\"Times,serif\" font-size=\"14.00\" fill=\"#000000\">entropy = 0.0</text>\n<text text-anchor=\"middle\" x=\"5883\" y=\"-431.3\" font-family=\"Times,serif\" font-size=\"14.00\" fill=\"#000000\">samples = 3</text>\n<text text-anchor=\"middle\" x=\"5883\" y=\"-416.3\" font-family=\"Times,serif\" font-size=\"14.00\" fill=\"#000000\">value = [0, 3, 0]</text>\n</g>\n<!-- 192&#45;&gt;193 -->\n<g id=\"edge193\" class=\"edge\">\n<title>192&#45;&gt;193</title>\n<path fill=\"none\" stroke=\"#000000\" d=\"M5883,-504.9465C5883,-494.2621 5883,-482.4254 5883,-471.5742\"/>\n<polygon fill=\"#000000\" stroke=\"#000000\" points=\"5886.5001,-471.5421 5883,-461.5422 5879.5001,-471.5422 5886.5001,-471.5421\"/>\n</g>\n<!-- 194 -->\n<g id=\"node195\" class=\"node\">\n<title>194</title>\n<polygon fill=\"none\" stroke=\"#000000\" points=\"6098,-469 5988,-469 5988,-401 6098,-401 6098,-469\"/>\n<text text-anchor=\"middle\" x=\"6043\" y=\"-453.8\" font-family=\"Times,serif\" font-size=\"14.00\" fill=\"#000000\">X[0] &lt;= 4.5</text>\n<text text-anchor=\"middle\" x=\"6043\" y=\"-438.8\" font-family=\"Times,serif\" font-size=\"14.00\" fill=\"#000000\">entropy = 1.539</text>\n<text text-anchor=\"middle\" x=\"6043\" y=\"-423.8\" font-family=\"Times,serif\" font-size=\"14.00\" fill=\"#000000\">samples = 11</text>\n<text text-anchor=\"middle\" x=\"6043\" y=\"-408.8\" font-family=\"Times,serif\" font-size=\"14.00\" fill=\"#000000\">value = [5, 3, 3]</text>\n</g>\n<!-- 192&#45;&gt;194 -->\n<g id=\"edge194\" class=\"edge\">\n<title>192&#45;&gt;194</title>\n<path fill=\"none\" stroke=\"#000000\" d=\"M5935.39,-504.9465C5950.3082,-495.2497 5966.6864,-484.6039 5982.0662,-474.6069\"/>\n<polygon fill=\"#000000\" stroke=\"#000000\" points=\"5984.0153,-477.5145 5990.4923,-469.13 5980.2004,-471.6454 5984.0153,-477.5145\"/>\n</g>\n<!-- 195 -->\n<g id=\"node196\" class=\"node\">\n<title>195</title>\n<polygon fill=\"none\" stroke=\"#000000\" points=\"6098,-365 5988,-365 5988,-297 6098,-297 6098,-365\"/>\n<text text-anchor=\"middle\" x=\"6043\" y=\"-349.8\" font-family=\"Times,serif\" font-size=\"14.00\" fill=\"#000000\">X[2] &lt;= 4.5</text>\n<text text-anchor=\"middle\" x=\"6043\" y=\"-334.8\" font-family=\"Times,serif\" font-size=\"14.00\" fill=\"#000000\">entropy = 1.459</text>\n<text text-anchor=\"middle\" x=\"6043\" y=\"-319.8\" font-family=\"Times,serif\" font-size=\"14.00\" fill=\"#000000\">samples = 6</text>\n<text text-anchor=\"middle\" x=\"6043\" y=\"-304.8\" font-family=\"Times,serif\" font-size=\"14.00\" fill=\"#000000\">value = [2, 1, 3]</text>\n</g>\n<!-- 194&#45;&gt;195 -->\n<g id=\"edge195\" class=\"edge\">\n<title>194&#45;&gt;195</title>\n<path fill=\"none\" stroke=\"#000000\" d=\"M6043,-400.9465C6043,-392.776 6043,-383.9318 6043,-375.3697\"/>\n<polygon fill=\"#000000\" stroke=\"#000000\" points=\"6046.5001,-375.13 6043,-365.13 6039.5001,-375.13 6046.5001,-375.13\"/>\n</g>\n<!-- 204 -->\n<g id=\"node205\" class=\"node\">\n<title>204</title>\n<polygon fill=\"none\" stroke=\"#000000\" points=\"6386,-365 6276,-365 6276,-297 6386,-297 6386,-365\"/>\n<text text-anchor=\"middle\" x=\"6331\" y=\"-349.8\" font-family=\"Times,serif\" font-size=\"14.00\" fill=\"#000000\">X[3] &lt;= 4.5</text>\n<text text-anchor=\"middle\" x=\"6331\" y=\"-334.8\" font-family=\"Times,serif\" font-size=\"14.00\" fill=\"#000000\">entropy = 0.971</text>\n<text text-anchor=\"middle\" x=\"6331\" y=\"-319.8\" font-family=\"Times,serif\" font-size=\"14.00\" fill=\"#000000\">samples = 5</text>\n<text text-anchor=\"middle\" x=\"6331\" y=\"-304.8\" font-family=\"Times,serif\" font-size=\"14.00\" fill=\"#000000\">value = [3, 2, 0]</text>\n</g>\n<!-- 194&#45;&gt;204 -->\n<g id=\"edge204\" class=\"edge\">\n<title>194&#45;&gt;204</title>\n<path fill=\"none\" stroke=\"#000000\" d=\"M6098.1885,-415.0708C6146.2159,-397.7276 6215.8675,-372.5756 6266.4638,-354.3047\"/>\n<polygon fill=\"#000000\" stroke=\"#000000\" points=\"6267.7814,-357.5502 6275.9982,-350.8618 6265.4039,-350.9663 6267.7814,-357.5502\"/>\n</g>\n<!-- 196 -->\n<g id=\"node197\" class=\"node\">\n<title>196</title>\n<polygon fill=\"none\" stroke=\"#000000\" points=\"6002,-261 5892,-261 5892,-193 6002,-193 6002,-261\"/>\n<text text-anchor=\"middle\" x=\"5947\" y=\"-245.8\" font-family=\"Times,serif\" font-size=\"14.00\" fill=\"#000000\">X[1] &lt;= 4.5</text>\n<text text-anchor=\"middle\" x=\"5947\" y=\"-230.8\" font-family=\"Times,serif\" font-size=\"14.00\" fill=\"#000000\">entropy = 1.0</text>\n<text text-anchor=\"middle\" x=\"5947\" y=\"-215.8\" font-family=\"Times,serif\" font-size=\"14.00\" fill=\"#000000\">samples = 2</text>\n<text text-anchor=\"middle\" x=\"5947\" y=\"-200.8\" font-family=\"Times,serif\" font-size=\"14.00\" fill=\"#000000\">value = [1, 1, 0]</text>\n</g>\n<!-- 195&#45;&gt;196 -->\n<g id=\"edge196\" class=\"edge\">\n<title>195&#45;&gt;196</title>\n<path fill=\"none\" stroke=\"#000000\" d=\"M6011.566,-296.9465C6003.1953,-287.8782 5994.0584,-277.9799 5985.3617,-268.5585\"/>\n<polygon fill=\"#000000\" stroke=\"#000000\" points=\"5987.8593,-266.1041 5978.5046,-261.13 5982.7156,-270.852 5987.8593,-266.1041\"/>\n</g>\n<!-- 199 -->\n<g id=\"node200\" class=\"node\">\n<title>199</title>\n<polygon fill=\"none\" stroke=\"#000000\" points=\"6130,-261 6020,-261 6020,-193 6130,-193 6130,-261\"/>\n<text text-anchor=\"middle\" x=\"6075\" y=\"-245.8\" font-family=\"Times,serif\" font-size=\"14.00\" fill=\"#000000\">X[3] &lt;= 4.5</text>\n<text text-anchor=\"middle\" x=\"6075\" y=\"-230.8\" font-family=\"Times,serif\" font-size=\"14.00\" fill=\"#000000\">entropy = 0.811</text>\n<text text-anchor=\"middle\" x=\"6075\" y=\"-215.8\" font-family=\"Times,serif\" font-size=\"14.00\" fill=\"#000000\">samples = 4</text>\n<text text-anchor=\"middle\" x=\"6075\" y=\"-200.8\" font-family=\"Times,serif\" font-size=\"14.00\" fill=\"#000000\">value = [1, 0, 3]</text>\n</g>\n<!-- 195&#45;&gt;199 -->\n<g id=\"edge199\" class=\"edge\">\n<title>195&#45;&gt;199</title>\n<path fill=\"none\" stroke=\"#000000\" d=\"M6053.478,-296.9465C6056.0472,-288.5965 6058.833,-279.5427 6061.5214,-270.8056\"/>\n<polygon fill=\"#000000\" stroke=\"#000000\" points=\"6064.9028,-271.7171 6064.4985,-261.13 6058.2123,-269.6585 6064.9028,-271.7171\"/>\n</g>\n<!-- 197 -->\n<g id=\"node198\" class=\"node\">\n<title>197</title>\n<polygon fill=\"none\" stroke=\"#000000\" points=\"5874,-149.5 5764,-149.5 5764,-96.5 5874,-96.5 5874,-149.5\"/>\n<text text-anchor=\"middle\" x=\"5819\" y=\"-134.3\" font-family=\"Times,serif\" font-size=\"14.00\" fill=\"#000000\">entropy = 0.0</text>\n<text text-anchor=\"middle\" x=\"5819\" y=\"-119.3\" font-family=\"Times,serif\" font-size=\"14.00\" fill=\"#000000\">samples = 1</text>\n<text text-anchor=\"middle\" x=\"5819\" y=\"-104.3\" font-family=\"Times,serif\" font-size=\"14.00\" fill=\"#000000\">value = [1, 0, 0]</text>\n</g>\n<!-- 196&#45;&gt;197 -->\n<g id=\"edge197\" class=\"edge\">\n<title>196&#45;&gt;197</title>\n<path fill=\"none\" stroke=\"#000000\" d=\"M5905.088,-192.9465C5890.4467,-181.0504 5874.0474,-167.726 5859.5215,-155.9237\"/>\n<polygon fill=\"#000000\" stroke=\"#000000\" points=\"5861.6355,-153.1317 5851.6673,-149.5422 5857.2214,-158.5645 5861.6355,-153.1317\"/>\n</g>\n<!-- 198 -->\n<g id=\"node199\" class=\"node\">\n<title>198</title>\n<polygon fill=\"none\" stroke=\"#000000\" points=\"6002,-149.5 5892,-149.5 5892,-96.5 6002,-96.5 6002,-149.5\"/>\n<text text-anchor=\"middle\" x=\"5947\" y=\"-134.3\" font-family=\"Times,serif\" font-size=\"14.00\" fill=\"#000000\">entropy = 0.0</text>\n<text text-anchor=\"middle\" x=\"5947\" y=\"-119.3\" font-family=\"Times,serif\" font-size=\"14.00\" fill=\"#000000\">samples = 1</text>\n<text text-anchor=\"middle\" x=\"5947\" y=\"-104.3\" font-family=\"Times,serif\" font-size=\"14.00\" fill=\"#000000\">value = [0, 1, 0]</text>\n</g>\n<!-- 196&#45;&gt;198 -->\n<g id=\"edge198\" class=\"edge\">\n<title>196&#45;&gt;198</title>\n<path fill=\"none\" stroke=\"#000000\" d=\"M5947,-192.9465C5947,-182.2621 5947,-170.4254 5947,-159.5742\"/>\n<polygon fill=\"#000000\" stroke=\"#000000\" points=\"5950.5001,-159.5421 5947,-149.5422 5943.5001,-159.5422 5950.5001,-159.5421\"/>\n</g>\n<!-- 200 -->\n<g id=\"node201\" class=\"node\">\n<title>200</title>\n<polygon fill=\"none\" stroke=\"#000000\" points=\"6130,-157 6020,-157 6020,-89 6130,-89 6130,-157\"/>\n<text text-anchor=\"middle\" x=\"6075\" y=\"-141.8\" font-family=\"Times,serif\" font-size=\"14.00\" fill=\"#000000\">X[1] &lt;= 4.5</text>\n<text text-anchor=\"middle\" x=\"6075\" y=\"-126.8\" font-family=\"Times,serif\" font-size=\"14.00\" fill=\"#000000\">entropy = 1.0</text>\n<text text-anchor=\"middle\" x=\"6075\" y=\"-111.8\" font-family=\"Times,serif\" font-size=\"14.00\" fill=\"#000000\">samples = 2</text>\n<text text-anchor=\"middle\" x=\"6075\" y=\"-96.8\" font-family=\"Times,serif\" font-size=\"14.00\" fill=\"#000000\">value = [1, 0, 1]</text>\n</g>\n<!-- 199&#45;&gt;200 -->\n<g id=\"edge200\" class=\"edge\">\n<title>199&#45;&gt;200</title>\n<path fill=\"none\" stroke=\"#000000\" d=\"M6075,-192.9465C6075,-184.776 6075,-175.9318 6075,-167.3697\"/>\n<polygon fill=\"#000000\" stroke=\"#000000\" points=\"6078.5001,-167.13 6075,-157.13 6071.5001,-167.13 6078.5001,-167.13\"/>\n</g>\n<!-- 203 -->\n<g id=\"node204\" class=\"node\">\n<title>203</title>\n<polygon fill=\"none\" stroke=\"#000000\" points=\"6258,-149.5 6148,-149.5 6148,-96.5 6258,-96.5 6258,-149.5\"/>\n<text text-anchor=\"middle\" x=\"6203\" y=\"-134.3\" font-family=\"Times,serif\" font-size=\"14.00\" fill=\"#000000\">entropy = 0.0</text>\n<text text-anchor=\"middle\" x=\"6203\" y=\"-119.3\" font-family=\"Times,serif\" font-size=\"14.00\" fill=\"#000000\">samples = 2</text>\n<text text-anchor=\"middle\" x=\"6203\" y=\"-104.3\" font-family=\"Times,serif\" font-size=\"14.00\" fill=\"#000000\">value = [0, 0, 2]</text>\n</g>\n<!-- 199&#45;&gt;203 -->\n<g id=\"edge203\" class=\"edge\">\n<title>199&#45;&gt;203</title>\n<path fill=\"none\" stroke=\"#000000\" d=\"M6116.912,-192.9465C6131.5533,-181.0504 6147.9526,-167.726 6162.4785,-155.9237\"/>\n<polygon fill=\"#000000\" stroke=\"#000000\" points=\"6164.7786,-158.5645 6170.3327,-149.5422 6160.3645,-153.1317 6164.7786,-158.5645\"/>\n</g>\n<!-- 201 -->\n<g id=\"node202\" class=\"node\">\n<title>201</title>\n<polygon fill=\"none\" stroke=\"#000000\" points=\"6098,-53 5988,-53 5988,0 6098,0 6098,-53\"/>\n<text text-anchor=\"middle\" x=\"6043\" y=\"-37.8\" font-family=\"Times,serif\" font-size=\"14.00\" fill=\"#000000\">entropy = 0.0</text>\n<text text-anchor=\"middle\" x=\"6043\" y=\"-22.8\" font-family=\"Times,serif\" font-size=\"14.00\" fill=\"#000000\">samples = 1</text>\n<text text-anchor=\"middle\" x=\"6043\" y=\"-7.8\" font-family=\"Times,serif\" font-size=\"14.00\" fill=\"#000000\">value = [0, 0, 1]</text>\n</g>\n<!-- 200&#45;&gt;201 -->\n<g id=\"edge201\" class=\"edge\">\n<title>200&#45;&gt;201</title>\n<path fill=\"none\" stroke=\"#000000\" d=\"M6063.718,-88.9777C6060.9244,-80.5533 6057.9201,-71.4934 6055.0897,-62.9579\"/>\n<polygon fill=\"#000000\" stroke=\"#000000\" points=\"6058.3397,-61.6386 6051.87,-53.2485 6051.6954,-63.8419 6058.3397,-61.6386\"/>\n</g>\n<!-- 202 -->\n<g id=\"node203\" class=\"node\">\n<title>202</title>\n<polygon fill=\"none\" stroke=\"#000000\" points=\"6226,-53 6116,-53 6116,0 6226,0 6226,-53\"/>\n<text text-anchor=\"middle\" x=\"6171\" y=\"-37.8\" font-family=\"Times,serif\" font-size=\"14.00\" fill=\"#000000\">entropy = 0.0</text>\n<text text-anchor=\"middle\" x=\"6171\" y=\"-22.8\" font-family=\"Times,serif\" font-size=\"14.00\" fill=\"#000000\">samples = 1</text>\n<text text-anchor=\"middle\" x=\"6171\" y=\"-7.8\" font-family=\"Times,serif\" font-size=\"14.00\" fill=\"#000000\">value = [1, 0, 0]</text>\n</g>\n<!-- 200&#45;&gt;202 -->\n<g id=\"edge202\" class=\"edge\">\n<title>200&#45;&gt;202</title>\n<path fill=\"none\" stroke=\"#000000\" d=\"M6108.846,-88.9777C6118.0466,-79.7292 6128.0092,-69.7147 6137.2069,-60.4691\"/>\n<polygon fill=\"#000000\" stroke=\"#000000\" points=\"6139.8187,-62.8064 6144.3901,-53.2485 6134.8561,-57.8695 6139.8187,-62.8064\"/>\n</g>\n<!-- 205 -->\n<g id=\"node206\" class=\"node\">\n<title>205</title>\n<polygon fill=\"none\" stroke=\"#000000\" points=\"6386,-261 6276,-261 6276,-193 6386,-193 6386,-261\"/>\n<text text-anchor=\"middle\" x=\"6331\" y=\"-245.8\" font-family=\"Times,serif\" font-size=\"14.00\" fill=\"#000000\">X[2] &lt;= 4.5</text>\n<text text-anchor=\"middle\" x=\"6331\" y=\"-230.8\" font-family=\"Times,serif\" font-size=\"14.00\" fill=\"#000000\">entropy = 0.918</text>\n<text text-anchor=\"middle\" x=\"6331\" y=\"-215.8\" font-family=\"Times,serif\" font-size=\"14.00\" fill=\"#000000\">samples = 3</text>\n<text text-anchor=\"middle\" x=\"6331\" y=\"-200.8\" font-family=\"Times,serif\" font-size=\"14.00\" fill=\"#000000\">value = [1, 2, 0]</text>\n</g>\n<!-- 204&#45;&gt;205 -->\n<g id=\"edge205\" class=\"edge\">\n<title>204&#45;&gt;205</title>\n<path fill=\"none\" stroke=\"#000000\" d=\"M6331,-296.9465C6331,-288.776 6331,-279.9318 6331,-271.3697\"/>\n<polygon fill=\"#000000\" stroke=\"#000000\" points=\"6334.5001,-271.13 6331,-261.13 6327.5001,-271.13 6334.5001,-271.13\"/>\n</g>\n<!-- 210 -->\n<g id=\"node211\" class=\"node\">\n<title>210</title>\n<polygon fill=\"none\" stroke=\"#000000\" points=\"6514,-253.5 6404,-253.5 6404,-200.5 6514,-200.5 6514,-253.5\"/>\n<text text-anchor=\"middle\" x=\"6459\" y=\"-238.3\" font-family=\"Times,serif\" font-size=\"14.00\" fill=\"#000000\">entropy = 0.0</text>\n<text text-anchor=\"middle\" x=\"6459\" y=\"-223.3\" font-family=\"Times,serif\" font-size=\"14.00\" fill=\"#000000\">samples = 2</text>\n<text text-anchor=\"middle\" x=\"6459\" y=\"-208.3\" font-family=\"Times,serif\" font-size=\"14.00\" fill=\"#000000\">value = [2, 0, 0]</text>\n</g>\n<!-- 204&#45;&gt;210 -->\n<g id=\"edge210\" class=\"edge\">\n<title>204&#45;&gt;210</title>\n<path fill=\"none\" stroke=\"#000000\" d=\"M6372.912,-296.9465C6387.5533,-285.0504 6403.9526,-271.726 6418.4785,-259.9237\"/>\n<polygon fill=\"#000000\" stroke=\"#000000\" points=\"6420.7786,-262.5645 6426.3327,-253.5422 6416.3645,-257.1317 6420.7786,-262.5645\"/>\n</g>\n<!-- 206 -->\n<g id=\"node207\" class=\"node\">\n<title>206</title>\n<polygon fill=\"none\" stroke=\"#000000\" points=\"6386,-149.5 6276,-149.5 6276,-96.5 6386,-96.5 6386,-149.5\"/>\n<text text-anchor=\"middle\" x=\"6331\" y=\"-134.3\" font-family=\"Times,serif\" font-size=\"14.00\" fill=\"#000000\">entropy = 0.0</text>\n<text text-anchor=\"middle\" x=\"6331\" y=\"-119.3\" font-family=\"Times,serif\" font-size=\"14.00\" fill=\"#000000\">samples = 1</text>\n<text text-anchor=\"middle\" x=\"6331\" y=\"-104.3\" font-family=\"Times,serif\" font-size=\"14.00\" fill=\"#000000\">value = [0, 1, 0]</text>\n</g>\n<!-- 205&#45;&gt;206 -->\n<g id=\"edge206\" class=\"edge\">\n<title>205&#45;&gt;206</title>\n<path fill=\"none\" stroke=\"#000000\" d=\"M6331,-192.9465C6331,-182.2621 6331,-170.4254 6331,-159.5742\"/>\n<polygon fill=\"#000000\" stroke=\"#000000\" points=\"6334.5001,-159.5421 6331,-149.5422 6327.5001,-159.5422 6334.5001,-159.5421\"/>\n</g>\n<!-- 207 -->\n<g id=\"node208\" class=\"node\">\n<title>207</title>\n<polygon fill=\"none\" stroke=\"#000000\" points=\"6514,-157 6404,-157 6404,-89 6514,-89 6514,-157\"/>\n<text text-anchor=\"middle\" x=\"6459\" y=\"-141.8\" font-family=\"Times,serif\" font-size=\"14.00\" fill=\"#000000\">X[1] &lt;= 4.5</text>\n<text text-anchor=\"middle\" x=\"6459\" y=\"-126.8\" font-family=\"Times,serif\" font-size=\"14.00\" fill=\"#000000\">entropy = 1.0</text>\n<text text-anchor=\"middle\" x=\"6459\" y=\"-111.8\" font-family=\"Times,serif\" font-size=\"14.00\" fill=\"#000000\">samples = 2</text>\n<text text-anchor=\"middle\" x=\"6459\" y=\"-96.8\" font-family=\"Times,serif\" font-size=\"14.00\" fill=\"#000000\">value = [1, 1, 0]</text>\n</g>\n<!-- 205&#45;&gt;207 -->\n<g id=\"edge207\" class=\"edge\">\n<title>205&#45;&gt;207</title>\n<path fill=\"none\" stroke=\"#000000\" d=\"M6372.912,-192.9465C6384.515,-183.519 6397.2221,-173.1946 6409.2259,-163.4415\"/>\n<polygon fill=\"#000000\" stroke=\"#000000\" points=\"6411.4398,-166.1524 6416.9939,-157.13 6407.0256,-160.7196 6411.4398,-166.1524\"/>\n</g>\n<!-- 208 -->\n<g id=\"node209\" class=\"node\">\n<title>208</title>\n<polygon fill=\"none\" stroke=\"#000000\" points=\"6418,-53 6308,-53 6308,0 6418,0 6418,-53\"/>\n<text text-anchor=\"middle\" x=\"6363\" y=\"-37.8\" font-family=\"Times,serif\" font-size=\"14.00\" fill=\"#000000\">entropy = 0.0</text>\n<text text-anchor=\"middle\" x=\"6363\" y=\"-22.8\" font-family=\"Times,serif\" font-size=\"14.00\" fill=\"#000000\">samples = 1</text>\n<text text-anchor=\"middle\" x=\"6363\" y=\"-7.8\" font-family=\"Times,serif\" font-size=\"14.00\" fill=\"#000000\">value = [1, 0, 0]</text>\n</g>\n<!-- 207&#45;&gt;208 -->\n<g id=\"edge208\" class=\"edge\">\n<title>207&#45;&gt;208</title>\n<path fill=\"none\" stroke=\"#000000\" d=\"M6425.154,-88.9777C6415.9534,-79.7292 6405.9908,-69.7147 6396.7931,-60.4691\"/>\n<polygon fill=\"#000000\" stroke=\"#000000\" points=\"6399.1439,-57.8695 6389.6099,-53.2485 6394.1813,-62.8064 6399.1439,-57.8695\"/>\n</g>\n<!-- 209 -->\n<g id=\"node210\" class=\"node\">\n<title>209</title>\n<polygon fill=\"none\" stroke=\"#000000\" points=\"6546,-53 6436,-53 6436,0 6546,0 6546,-53\"/>\n<text text-anchor=\"middle\" x=\"6491\" y=\"-37.8\" font-family=\"Times,serif\" font-size=\"14.00\" fill=\"#000000\">entropy = 0.0</text>\n<text text-anchor=\"middle\" x=\"6491\" y=\"-22.8\" font-family=\"Times,serif\" font-size=\"14.00\" fill=\"#000000\">samples = 1</text>\n<text text-anchor=\"middle\" x=\"6491\" y=\"-7.8\" font-family=\"Times,serif\" font-size=\"14.00\" fill=\"#000000\">value = [0, 1, 0]</text>\n</g>\n<!-- 207&#45;&gt;209 -->\n<g id=\"edge209\" class=\"edge\">\n<title>207&#45;&gt;209</title>\n<path fill=\"none\" stroke=\"#000000\" d=\"M6470.282,-88.9777C6473.0756,-80.5533 6476.0799,-71.4934 6478.9103,-62.9579\"/>\n<polygon fill=\"#000000\" stroke=\"#000000\" points=\"6482.3046,-63.8419 6482.13,-53.2485 6475.6603,-61.6386 6482.3046,-63.8419\"/>\n</g>\n</g>\n</svg>\n"
          },
          "metadata": {
            "tags": []
          },
          "execution_count": 11
        }
      ]
    },
    {
      "cell_type": "markdown",
      "metadata": {
        "id": "hQ0SdVlKNkpp",
        "colab_type": "text"
      },
      "source": [
        "10. Vérifier que l'individue X_new est bien classé \"Left\"\n",
        "\n",
        "où X_new est l'observation [4, 4, 3, 3]"
      ]
    },
    {
      "cell_type": "code",
      "metadata": {
        "id": "20F7-bzUNewB",
        "colab_type": "code",
        "colab": {
          "base_uri": "https://localhost:8080/",
          "height": 35
        },
        "outputId": "b469e8db-c752-4931-ca13-83f2b1e04f9d"
      },
      "source": [
        "X_new = np.array([[4,4,3,3]])\n",
        "classifier_entropy.predict(X_new)"
      ],
      "execution_count": 12,
      "outputs": [
        {
          "output_type": "execute_result",
          "data": {
            "text/plain": [
              "array(['L'], dtype=object)"
            ]
          },
          "metadata": {
            "tags": []
          },
          "execution_count": 12
        }
      ]
    },
    {
      "cell_type": "markdown",
      "metadata": {
        "id": "TkfhoHJfOkpt",
        "colab_type": "text"
      },
      "source": [
        "11. Effectuer une prediction du classifieur GINI sur l'ensemble de test"
      ]
    },
    {
      "cell_type": "code",
      "metadata": {
        "id": "pwev_qkdOiR9",
        "colab_type": "code",
        "colab": {
          "base_uri": "https://localhost:8080/",
          "height": 290
        },
        "outputId": "ce1d9ef8-560a-4658-9910-4edca0e6ad3c"
      },
      "source": [
        "y_pred_gini = classifier_gini.predict(X_test)\n",
        "y_pred_gini"
      ],
      "execution_count": 13,
      "outputs": [
        {
          "output_type": "execute_result",
          "data": {
            "text/plain": [
              "array(['R', 'L', 'B', 'R', 'L', 'R', 'R', 'R', 'B', 'L', 'R', 'R', 'B',\n",
              "       'B', 'R', 'L', 'L', 'L', 'L', 'R', 'R', 'R', 'L', 'R', 'R', 'B',\n",
              "       'R', 'B', 'L', 'R', 'R', 'L', 'R', 'L', 'R', 'R', 'B', 'R', 'R',\n",
              "       'R', 'L', 'B', 'L', 'L', 'R', 'B', 'R', 'R', 'R', 'L', 'B', 'L',\n",
              "       'L', 'L', 'R', 'L', 'R', 'L', 'R', 'R', 'L', 'L', 'R', 'L', 'R',\n",
              "       'L', 'B', 'L', 'L', 'B', 'L', 'L', 'L', 'R', 'L', 'L', 'R', 'L',\n",
              "       'R', 'L', 'L', 'L', 'R', 'R', 'L', 'R', 'L', 'R', 'R', 'L', 'L',\n",
              "       'L', 'L', 'R', 'L', 'R', 'L', 'L', 'R', 'L', 'R', 'L', 'L', 'L',\n",
              "       'L', 'L', 'L', 'R', 'B', 'L', 'R', 'L', 'R', 'L', 'L', 'B', 'R',\n",
              "       'B', 'L', 'R', 'L', 'L', 'L', 'R', 'L', 'R', 'B', 'B', 'L', 'B',\n",
              "       'R', 'L', 'R', 'R', 'B', 'R', 'L', 'R', 'L', 'L', 'L', 'L', 'R',\n",
              "       'L', 'L', 'L', 'R', 'R', 'B', 'L', 'R', 'R', 'B', 'L', 'L', 'R',\n",
              "       'R', 'R', 'R', 'R', 'B', 'L', 'L', 'R', 'L', 'R', 'L', 'L', 'B',\n",
              "       'L', 'R', 'B', 'L', 'L', 'B', 'L', 'R', 'B', 'L', 'B', 'R', 'R',\n",
              "       'L', 'B', 'L', 'B', 'B', 'R'], dtype=object)"
            ]
          },
          "metadata": {
            "tags": []
          },
          "execution_count": 13
        }
      ]
    },
    {
      "cell_type": "markdown",
      "metadata": {
        "id": "PSchmiwzO68a",
        "colab_type": "text"
      },
      "source": [
        "12. Effectuer une prediction du classifieur ENTROPY sur l'ensemble de test"
      ]
    },
    {
      "cell_type": "code",
      "metadata": {
        "id": "ciYqw1xqO1fU",
        "colab_type": "code",
        "colab": {
          "base_uri": "https://localhost:8080/",
          "height": 290
        },
        "outputId": "39ead587-7c97-436d-f2b8-137c18fde337"
      },
      "source": [
        "y_pred_entropy = classifier_entropy.predict(X_test)\n",
        "y_pred_entropy"
      ],
      "execution_count": 14,
      "outputs": [
        {
          "output_type": "execute_result",
          "data": {
            "text/plain": [
              "array(['R', 'L', 'R', 'R', 'L', 'R', 'R', 'R', 'B', 'L', 'R', 'R', 'B',\n",
              "       'B', 'R', 'L', 'L', 'L', 'L', 'R', 'R', 'R', 'L', 'R', 'R', 'B',\n",
              "       'R', 'B', 'L', 'R', 'R', 'L', 'R', 'L', 'R', 'R', 'B', 'R', 'R',\n",
              "       'R', 'L', 'B', 'R', 'L', 'L', 'B', 'R', 'R', 'R', 'L', 'B', 'L',\n",
              "       'L', 'L', 'R', 'L', 'R', 'B', 'L', 'R', 'L', 'L', 'R', 'L', 'R',\n",
              "       'L', 'B', 'L', 'L', 'B', 'B', 'L', 'L', 'R', 'L', 'L', 'R', 'L',\n",
              "       'R', 'L', 'L', 'L', 'R', 'R', 'L', 'L', 'L', 'R', 'B', 'L', 'L',\n",
              "       'L', 'L', 'R', 'L', 'R', 'L', 'L', 'R', 'L', 'R', 'L', 'L', 'L',\n",
              "       'L', 'L', 'L', 'R', 'B', 'L', 'R', 'L', 'R', 'L', 'B', 'R', 'R',\n",
              "       'B', 'L', 'R', 'L', 'L', 'R', 'R', 'L', 'R', 'B', 'R', 'L', 'B',\n",
              "       'R', 'L', 'R', 'R', 'B', 'R', 'L', 'R', 'L', 'L', 'L', 'L', 'R',\n",
              "       'L', 'L', 'L', 'B', 'R', 'B', 'L', 'R', 'R', 'B', 'L', 'L', 'R',\n",
              "       'R', 'R', 'R', 'R', 'R', 'L', 'L', 'R', 'L', 'R', 'L', 'B', 'B',\n",
              "       'L', 'R', 'L', 'L', 'L', 'B', 'L', 'R', 'B', 'L', 'B', 'R', 'R',\n",
              "       'L', 'B', 'L', 'B', 'B', 'R'], dtype=object)"
            ]
          },
          "metadata": {
            "tags": []
          },
          "execution_count": 14
        }
      ]
    },
    {
      "cell_type": "markdown",
      "metadata": {
        "id": "Lxq21SrxPGZn",
        "colab_type": "text"
      },
      "source": [
        "12. Effectuer une comparaison entre les classifieurs GINI & ENTROPY"
      ]
    },
    {
      "cell_type": "markdown",
      "metadata": {
        "id": "mXTB0AH-PIfr",
        "colab_type": "text"
      },
      "source": [
        "On prendra pour temoin le dataset de test"
      ]
    },
    {
      "cell_type": "code",
      "metadata": {
        "id": "haW-WFpvPD-J",
        "colab_type": "code",
        "colab": {
          "base_uri": "https://localhost:8080/",
          "height": 53
        },
        "outputId": "d3723610-caa3-452c-8e54-fc5a5eed40c7"
      },
      "source": [
        "count = 0\n",
        "for i in range(0, len(y_pred_gini)):\n",
        "  \n",
        "  if y_pred_gini[i] != y_pred_entropy[i]:\n",
        "    count+= 1\n",
        "    \n",
        "\n",
        "print(\"Sur l'ensemble de test, il y a {} éléments classés différemment\".format(count))\n",
        "print(\"Soit {}% de différence\".format(np.round(count/len(y_pred_gini),3)*100))"
      ],
      "execution_count": 15,
      "outputs": [
        {
          "output_type": "stream",
          "text": [
            "Sur l'ensemble de test, il y a 16 éléments classés différemment\n",
            "Soit 8.5% de différence\n"
          ],
          "name": "stdout"
        }
      ]
    },
    {
      "cell_type": "markdown",
      "metadata": {
        "id": "PH9hFAQ7QES5",
        "colab_type": "text"
      },
      "source": [
        "13. Donner l'accuracy du classifieur GINI"
      ]
    },
    {
      "cell_type": "code",
      "metadata": {
        "id": "5bLjW0zNPs9k",
        "colab_type": "code",
        "colab": {
          "base_uri": "https://localhost:8080/",
          "height": 35
        },
        "outputId": "ffedcaf0-9a38-41ae-fb4e-f7c91c6a0ad0"
      },
      "source": [
        "classifier_gini.score(X_test,y_test)"
      ],
      "execution_count": 16,
      "outputs": [
        {
          "output_type": "execute_result",
          "data": {
            "text/plain": [
              "0.75"
            ]
          },
          "metadata": {
            "tags": []
          },
          "execution_count": 16
        }
      ]
    },
    {
      "cell_type": "markdown",
      "metadata": {
        "id": "KuRnmWkDQJYV",
        "colab_type": "text"
      },
      "source": [
        "14. Donner l'accuracy du classifieur Entropy "
      ]
    },
    {
      "cell_type": "code",
      "metadata": {
        "id": "14dpTRHnQIq8",
        "colab_type": "code",
        "colab": {
          "base_uri": "https://localhost:8080/",
          "height": 35
        },
        "outputId": "ca52ca8a-e71a-4cb2-8773-6741523737ed"
      },
      "source": [
        "classifier_entropy.score(X_test,y_test)"
      ],
      "execution_count": 17,
      "outputs": [
        {
          "output_type": "execute_result",
          "data": {
            "text/plain": [
              "0.7446808510638298"
            ]
          },
          "metadata": {
            "tags": []
          },
          "execution_count": 17
        }
      ]
    },
    {
      "cell_type": "markdown",
      "metadata": {
        "id": "Q_RzU-FzQSlR",
        "colab_type": "text"
      },
      "source": [
        "15. Afficher la matrice de confusion du classifieur GINI, que constatez-vous ?"
      ]
    },
    {
      "cell_type": "code",
      "metadata": {
        "id": "_o4hU_IZQP9y",
        "colab_type": "code",
        "colab": {
          "base_uri": "https://localhost:8080/",
          "height": 283
        },
        "outputId": "fdf238a9-fe8f-4961-912e-a5b1e262eeb6"
      },
      "source": [
        "from sklearn.metrics import confusion_matrix\n",
        "cm = confusion_matrix(y_test, y_pred_gini)\n",
        "sns.heatmap(cm, annot=True, fmt=\"d\")\n",
        "\n"
      ],
      "execution_count": 18,
      "outputs": [
        {
          "output_type": "execute_result",
          "data": {
            "text/plain": [
              "<matplotlib.axes._subplots.AxesSubplot at 0x7f8bcd6cb6d8>"
            ]
          },
          "metadata": {
            "tags": []
          },
          "execution_count": 18
        },
        {
          "output_type": "display_data",
          "data": {
            "image/png": "[encoded data removed]",
            "text/plain": [
              "<Figure size 432x288 with 2 Axes>"
            ]
          },
          "metadata": {
            "tags": [],
            "needs_background": "light"
          }
        }
      ]
    },
    {
      "cell_type": "code",
      "metadata": {
        "id": "J267DdVOEa7s",
        "colab_type": "code",
        "colab": {
          "base_uri": "https://localhost:8080/",
          "height": 283
        },
        "outputId": "630c7e1f-ff1e-4072-d933-0ab8cfdd04a2"
      },
      "source": [
        "sns.heatmap(cm, annot=True, xticklabels=y_test.sort_values().unique(), yticklabels=y_test.sort_values().unique())"
      ],
      "execution_count": 19,
      "outputs": [
        {
          "output_type": "execute_result",
          "data": {
            "text/plain": [
              "<matplotlib.axes._subplots.AxesSubplot at 0x7f8bcd9a3d30>"
            ]
          },
          "metadata": {
            "tags": []
          },
          "execution_count": 19
        },
        {
          "output_type": "display_data",
          "data": {
            "image/png": "[encoded data removed]",
            "text/plain": [
              "<Figure size 432x288 with 2 Axes>"
            ]
          },
          "metadata": {
            "tags": [],
            "needs_background": "light"
          }
        }
      ]
    },
    {
      "cell_type": "markdown",
      "metadata": {
        "id": "eam16o8EsK-T",
        "colab_type": "text"
      },
      "source": [
        "16. Affichez maintenant les classification report de vos deux modèles, selon vous les modèles sont ils performants ? Sont ils sur-appris ?"
      ]
    },
    {
      "cell_type": "code",
      "metadata": {
        "id": "UKVRmxGJi0wQ",
        "colab_type": "code",
        "colab": {}
      },
      "source": [
        "Rappel : \n",
        "\n",
        "Precision = TP / (TP + FP)\n",
        "\n",
        "Recall = TP / (TP + FN)\n",
        "\n",
        "F1 Score = 2 * ( (Precision * Recall) / (Precision + Recall) )"
      ],
      "execution_count": null,
      "outputs": []
    },
    {
      "cell_type": "code",
      "metadata": {
        "id": "8m39HVQxQvEd",
        "colab_type": "code",
        "colab": {
          "base_uri": "https://localhost:8080/",
          "height": 199
        },
        "outputId": "61566590-1911-4a4d-821a-6e83838b08b6"
      },
      "source": [
        "from sklearn.metrics import classification_report\n",
        "print(classification_report(y_true=y_test, y_pred=classifier_entropy.predict(X_test)))"
      ],
      "execution_count": 20,
      "outputs": [
        {
          "output_type": "stream",
          "text": [
            "              precision    recall  f1-score   support\n",
            "\n",
            "           B       0.06      0.13      0.09        15\n",
            "           L       0.87      0.83      0.85        87\n",
            "           R       0.89      0.77      0.82        86\n",
            "\n",
            "    accuracy                           0.74       188\n",
            "   macro avg       0.61      0.58      0.59       188\n",
            "weighted avg       0.81      0.74      0.78       188\n",
            "\n"
          ],
          "name": "stdout"
        }
      ]
    },
    {
      "cell_type": "code",
      "metadata": {
        "id": "vcfQHWtorKQI",
        "colab_type": "code",
        "colab": {
          "base_uri": "https://localhost:8080/",
          "height": 199
        },
        "outputId": "d1029619-7274-4841-ea6f-88711ac10280"
      },
      "source": [
        "from sklearn.metrics import classification_report\n",
        "print(classification_report(y_true=y_test, y_pred=classifier_gini.predict(X_test)))"
      ],
      "execution_count": 22,
      "outputs": [
        {
          "output_type": "stream",
          "text": [
            "              precision    recall  f1-score   support\n",
            "\n",
            "           B       0.07      0.13      0.09        15\n",
            "           L       0.86      0.84      0.85        87\n",
            "           R       0.90      0.77      0.83        86\n",
            "\n",
            "    accuracy                           0.75       188\n",
            "   macro avg       0.61      0.58      0.59       188\n",
            "weighted avg       0.82      0.75      0.78       188\n",
            "\n"
          ],
          "name": "stdout"
        }
      ]
    },
    {
      "cell_type": "code",
      "metadata": {
        "id": "ZrVWV7zCrhqR",
        "colab_type": "code",
        "colab": {
          "base_uri": "https://localhost:8080/",
          "height": 199
        },
        "outputId": "e3e3c9a4-cdae-4155-b131-ea48c796d309"
      },
      "source": [
        "print(classification_report(y_true=y_train, y_pred=classifier_entropy.predict(X_train)))"
      ],
      "execution_count": 23,
      "outputs": [
        {
          "output_type": "stream",
          "text": [
            "              precision    recall  f1-score   support\n",
            "\n",
            "           B       1.00      1.00      1.00        34\n",
            "           L       1.00      1.00      1.00       201\n",
            "           R       1.00      1.00      1.00       202\n",
            "\n",
            "    accuracy                           1.00       437\n",
            "   macro avg       1.00      1.00      1.00       437\n",
            "weighted avg       1.00      1.00      1.00       437\n",
            "\n"
          ],
          "name": "stdout"
        }
      ]
    },
    {
      "cell_type": "code",
      "metadata": {
        "id": "oiFmf28Csiym",
        "colab_type": "code",
        "colab": {
          "base_uri": "https://localhost:8080/",
          "height": 199
        },
        "outputId": "44428d98-f588-4646-e1da-44b67068ee39"
      },
      "source": [
        "print(classification_report(y_true=y_train, y_pred=classifier_gini.predict(X_train)))"
      ],
      "execution_count": 24,
      "outputs": [
        {
          "output_type": "stream",
          "text": [
            "              precision    recall  f1-score   support\n",
            "\n",
            "           B       1.00      1.00      1.00        34\n",
            "           L       1.00      1.00      1.00       201\n",
            "           R       1.00      1.00      1.00       202\n",
            "\n",
            "    accuracy                           1.00       437\n",
            "   macro avg       1.00      1.00      1.00       437\n",
            "weighted avg       1.00      1.00      1.00       437\n",
            "\n"
          ],
          "name": "stdout"
        }
      ]
    },
    {
      "cell_type": "markdown",
      "metadata": {
        "id": "_ERg352Psnuu",
        "colab_type": "text"
      },
      "source": [
        "17. Comment lutter contre le sur-apprentissage dans le cas des arbres de décisions. Tentez de trouver un ensemble d'hyper-paramètres qui permettent d'améliorer le score de test et limiter le sur-apprentissage."
      ]
    },
    {
      "cell_type": "code",
      "metadata": {
        "id": "OVFc7AgBsnEN",
        "colab_type": "code",
        "colab": {
          "base_uri": "https://localhost:8080/",
          "height": 345
        },
        "outputId": "87d95e83-a3b4-47d0-8558-ab2183146624"
      },
      "source": [
        "from sklearn.model_selection import GridSearchCV\n",
        "\n",
        "rtc = DecisionTreeClassifier()\n",
        "params = {'max_depth' : np.arange(1,10),\n",
        "         'min_samples_leaf' : [1, 5, 10, 20]}\n",
        "\n",
        "grid =  GridSearchCV(estimator=rtc, param_grid= params, cv = 10)\n",
        "grid.fit(X_train, y_train)"
      ],
      "execution_count": 25,
      "outputs": [
        {
          "output_type": "execute_result",
          "data": {
            "text/plain": [
              "GridSearchCV(cv=10, error_score=nan,\n",
              "             estimator=DecisionTreeClassifier(ccp_alpha=0.0, class_weight=None,\n",
              "                                              criterion='gini', max_depth=None,\n",
              "                                              max_features=None,\n",
              "                                              max_leaf_nodes=None,\n",
              "                                              min_impurity_decrease=0.0,\n",
              "                                              min_impurity_split=None,\n",
              "                                              min_samples_leaf=1,\n",
              "                                              min_samples_split=2,\n",
              "                                              min_weight_fraction_leaf=0.0,\n",
              "                                              presort='deprecated',\n",
              "                                              random_state=None,\n",
              "                                              splitter='best'),\n",
              "             iid='deprecated', n_jobs=None,\n",
              "             param_grid={'max_depth': array([1, 2, 3, 4, 5, 6, 7, 8, 9]),\n",
              "                         'min_samples_leaf': [1, 5, 10, 20]},\n",
              "             pre_dispatch='2*n_jobs', refit=True, return_train_score=False,\n",
              "             scoring=None, verbose=0)"
            ]
          },
          "metadata": {
            "tags": []
          },
          "execution_count": 25
        }
      ]
    },
    {
      "cell_type": "code",
      "metadata": {
        "id": "KWJ6zhWhtRJr",
        "colab_type": "code",
        "colab": {
          "base_uri": "https://localhost:8080/",
          "height": 35
        },
        "outputId": "548e5edf-607c-4292-af78-ff88e7fd27fd"
      },
      "source": [
        "grid.best_params_"
      ],
      "execution_count": 26,
      "outputs": [
        {
          "output_type": "execute_result",
          "data": {
            "text/plain": [
              "{'max_depth': 4, 'min_samples_leaf': 1}"
            ]
          },
          "metadata": {
            "tags": []
          },
          "execution_count": 26
        }
      ]
    },
    {
      "cell_type": "code",
      "metadata": {
        "id": "i9VAwVRju0pk",
        "colab_type": "code",
        "colab": {
          "base_uri": "https://localhost:8080/",
          "height": 35
        },
        "outputId": "c5fcbe68-9b3b-49e0-f79e-5ee97c57f7f9"
      },
      "source": [
        "grid.best_estimator_.score(X_test, y_test)"
      ],
      "execution_count": 27,
      "outputs": [
        {
          "output_type": "execute_result",
          "data": {
            "text/plain": [
              "0.7712765957446809"
            ]
          },
          "metadata": {
            "tags": []
          },
          "execution_count": 27
        }
      ]
    },
    {
      "cell_type": "code",
      "metadata": {
        "id": "59MEEqMXu9y1",
        "colab_type": "code",
        "colab": {
          "base_uri": "https://localhost:8080/",
          "height": 35
        },
        "outputId": "03bf562c-2104-4bee-d826-c850bbe8941b"
      },
      "source": [
        "grid.best_estimator_.score(X_train, y_train)"
      ],
      "execution_count": 28,
      "outputs": [
        {
          "output_type": "execute_result",
          "data": {
            "text/plain": [
              "0.8443935926773455"
            ]
          },
          "metadata": {
            "tags": []
          },
          "execution_count": 28
        }
      ]
    },
    {
      "cell_type": "code",
      "metadata": {
        "id": "-HscccFxvEQh",
        "colab_type": "code",
        "colab": {
          "base_uri": "https://localhost:8080/",
          "height": 199
        },
        "outputId": "94784672-05f4-4e7a-fbc3-c424f0fc4d1b"
      },
      "source": [
        "print(classification_report(y_test,grid.best_estimator_.predict(X_test)))"
      ],
      "execution_count": 29,
      "outputs": [
        {
          "output_type": "stream",
          "text": [
            "              precision    recall  f1-score   support\n",
            "\n",
            "           B       0.20      0.07      0.10        15\n",
            "           L       0.80      0.83      0.81        87\n",
            "           R       0.77      0.84      0.80        86\n",
            "\n",
            "    accuracy                           0.77       188\n",
            "   macro avg       0.59      0.58      0.57       188\n",
            "weighted avg       0.74      0.77      0.75       188\n",
            "\n"
          ],
          "name": "stdout"
        }
      ]
    },
    {
      "cell_type": "code",
      "metadata": {
        "id": "p97t9YssvTH6",
        "colab_type": "code",
        "colab": {}
      },
      "source": [
        "confusion_matrix?"
      ],
      "execution_count": 30,
      "outputs": []
    },
    {
      "cell_type": "code",
      "metadata": {
        "id": "Ll3gluvwaKz5",
        "colab_type": "code",
        "colab": {
          "base_uri": "https://localhost:8080/",
          "height": 90
        },
        "outputId": "2c812ce7-8649-460b-ad32-0005794f8402"
      },
      "source": [
        "y.value_counts()"
      ],
      "execution_count": 30,
      "outputs": [
        {
          "output_type": "execute_result",
          "data": {
            "text/plain": [
              "L    288\n",
              "R    288\n",
              "B     49\n",
              "Name: balance, dtype: int64"
            ]
          },
          "metadata": {
            "tags": []
          },
          "execution_count": 30
        }
      ]
    },
    {
      "cell_type": "code",
      "metadata": {
        "id": "ftTGgnsLh1vv",
        "colab_type": "code",
        "colab": {
          "base_uri": "https://localhost:8080/",
          "height": 175
        },
        "outputId": "ade09d18-da83-4d15-f5aa-47f5b4c3578e"
      },
      "source": [
        "dataset.groupby('balance').mean()"
      ],
      "execution_count": 31,
      "outputs": [
        {
          "output_type": "execute_result",
          "data": {
            "text/html": [
              "<div>\n",
              "<style scoped>\n",
              "    .dataframe tbody tr th:only-of-type {\n",
              "        vertical-align: middle;\n",
              "    }\n",
              "\n",
              "    .dataframe tbody tr th {\n",
              "        vertical-align: top;\n",
              "    }\n",
              "\n",
              "    .dataframe thead th {\n",
              "        text-align: right;\n",
              "    }\n",
              "</style>\n",
              "<table border=\"1\" class=\"dataframe\">\n",
              "  <thead>\n",
              "    <tr style=\"text-align: right;\">\n",
              "      <th></th>\n",
              "      <th>left_weight</th>\n",
              "      <th>left_distance</th>\n",
              "      <th>right_weight</th>\n",
              "      <th>right_distance</th>\n",
              "    </tr>\n",
              "    <tr>\n",
              "      <th>balance</th>\n",
              "      <th></th>\n",
              "      <th></th>\n",
              "      <th></th>\n",
              "      <th></th>\n",
              "    </tr>\n",
              "  </thead>\n",
              "  <tbody>\n",
              "    <tr>\n",
              "      <th>B</th>\n",
              "      <td>2.938776</td>\n",
              "      <td>2.938776</td>\n",
              "      <td>2.938776</td>\n",
              "      <td>2.938776</td>\n",
              "    </tr>\n",
              "    <tr>\n",
              "      <th>L</th>\n",
              "      <td>3.611111</td>\n",
              "      <td>3.611111</td>\n",
              "      <td>2.399306</td>\n",
              "      <td>2.399306</td>\n",
              "    </tr>\n",
              "    <tr>\n",
              "      <th>R</th>\n",
              "      <td>2.399306</td>\n",
              "      <td>2.399306</td>\n",
              "      <td>3.611111</td>\n",
              "      <td>3.611111</td>\n",
              "    </tr>\n",
              "  </tbody>\n",
              "</table>\n",
              "</div>"
            ],
            "text/plain": [
              "         left_weight  left_distance  right_weight  right_distance\n",
              "balance                                                          \n",
              "B           2.938776       2.938776      2.938776        2.938776\n",
              "L           3.611111       3.611111      2.399306        2.399306\n",
              "R           2.399306       2.399306      3.611111        3.611111"
            ]
          },
          "metadata": {
            "tags": []
          },
          "execution_count": 31
        }
      ]
    },
    {
      "cell_type": "code",
      "metadata": {
        "id": "Crpio1LYiHiy",
        "colab_type": "code",
        "colab": {
          "base_uri": "https://localhost:8080/",
          "height": 1000
        },
        "outputId": "1faecf07-8fc2-4f28-8a43-71dec3e340e7"
      },
      "source": [
        "dataset[dataset['balance'] == 'B']"
      ],
      "execution_count": 32,
      "outputs": [
        {
          "output_type": "execute_result",
          "data": {
            "text/html": [
              "<div>\n",
              "<style scoped>\n",
              "    .dataframe tbody tr th:only-of-type {\n",
              "        vertical-align: middle;\n",
              "    }\n",
              "\n",
              "    .dataframe tbody tr th {\n",
              "        vertical-align: top;\n",
              "    }\n",
              "\n",
              "    .dataframe thead th {\n",
              "        text-align: right;\n",
              "    }\n",
              "</style>\n",
              "<table border=\"1\" class=\"dataframe\">\n",
              "  <thead>\n",
              "    <tr style=\"text-align: right;\">\n",
              "      <th></th>\n",
              "      <th>balance</th>\n",
              "      <th>left_weight</th>\n",
              "      <th>left_distance</th>\n",
              "      <th>right_weight</th>\n",
              "      <th>right_distance</th>\n",
              "    </tr>\n",
              "  </thead>\n",
              "  <tbody>\n",
              "    <tr>\n",
              "      <th>0</th>\n",
              "      <td>B</td>\n",
              "      <td>1</td>\n",
              "      <td>1</td>\n",
              "      <td>1</td>\n",
              "      <td>1</td>\n",
              "    </tr>\n",
              "    <tr>\n",
              "      <th>26</th>\n",
              "      <td>B</td>\n",
              "      <td>1</td>\n",
              "      <td>2</td>\n",
              "      <td>1</td>\n",
              "      <td>2</td>\n",
              "    </tr>\n",
              "    <tr>\n",
              "      <th>30</th>\n",
              "      <td>B</td>\n",
              "      <td>1</td>\n",
              "      <td>2</td>\n",
              "      <td>2</td>\n",
              "      <td>1</td>\n",
              "    </tr>\n",
              "    <tr>\n",
              "      <th>52</th>\n",
              "      <td>B</td>\n",
              "      <td>1</td>\n",
              "      <td>3</td>\n",
              "      <td>1</td>\n",
              "      <td>3</td>\n",
              "    </tr>\n",
              "    <tr>\n",
              "      <th>60</th>\n",
              "      <td>B</td>\n",
              "      <td>1</td>\n",
              "      <td>3</td>\n",
              "      <td>3</td>\n",
              "      <td>1</td>\n",
              "    </tr>\n",
              "    <tr>\n",
              "      <th>78</th>\n",
              "      <td>B</td>\n",
              "      <td>1</td>\n",
              "      <td>4</td>\n",
              "      <td>1</td>\n",
              "      <td>4</td>\n",
              "    </tr>\n",
              "    <tr>\n",
              "      <th>81</th>\n",
              "      <td>B</td>\n",
              "      <td>1</td>\n",
              "      <td>4</td>\n",
              "      <td>2</td>\n",
              "      <td>2</td>\n",
              "    </tr>\n",
              "    <tr>\n",
              "      <th>90</th>\n",
              "      <td>B</td>\n",
              "      <td>1</td>\n",
              "      <td>4</td>\n",
              "      <td>4</td>\n",
              "      <td>1</td>\n",
              "    </tr>\n",
              "    <tr>\n",
              "      <th>104</th>\n",
              "      <td>B</td>\n",
              "      <td>1</td>\n",
              "      <td>5</td>\n",
              "      <td>1</td>\n",
              "      <td>5</td>\n",
              "    </tr>\n",
              "    <tr>\n",
              "      <th>120</th>\n",
              "      <td>B</td>\n",
              "      <td>1</td>\n",
              "      <td>5</td>\n",
              "      <td>5</td>\n",
              "      <td>1</td>\n",
              "    </tr>\n",
              "    <tr>\n",
              "      <th>126</th>\n",
              "      <td>B</td>\n",
              "      <td>2</td>\n",
              "      <td>1</td>\n",
              "      <td>1</td>\n",
              "      <td>2</td>\n",
              "    </tr>\n",
              "    <tr>\n",
              "      <th>130</th>\n",
              "      <td>B</td>\n",
              "      <td>2</td>\n",
              "      <td>1</td>\n",
              "      <td>2</td>\n",
              "      <td>1</td>\n",
              "    </tr>\n",
              "    <tr>\n",
              "      <th>153</th>\n",
              "      <td>B</td>\n",
              "      <td>2</td>\n",
              "      <td>2</td>\n",
              "      <td>1</td>\n",
              "      <td>4</td>\n",
              "    </tr>\n",
              "    <tr>\n",
              "      <th>156</th>\n",
              "      <td>B</td>\n",
              "      <td>2</td>\n",
              "      <td>2</td>\n",
              "      <td>2</td>\n",
              "      <td>2</td>\n",
              "    </tr>\n",
              "    <tr>\n",
              "      <th>165</th>\n",
              "      <td>B</td>\n",
              "      <td>2</td>\n",
              "      <td>2</td>\n",
              "      <td>4</td>\n",
              "      <td>1</td>\n",
              "    </tr>\n",
              "    <tr>\n",
              "      <th>182</th>\n",
              "      <td>B</td>\n",
              "      <td>2</td>\n",
              "      <td>3</td>\n",
              "      <td>2</td>\n",
              "      <td>3</td>\n",
              "    </tr>\n",
              "    <tr>\n",
              "      <th>186</th>\n",
              "      <td>B</td>\n",
              "      <td>2</td>\n",
              "      <td>3</td>\n",
              "      <td>3</td>\n",
              "      <td>2</td>\n",
              "    </tr>\n",
              "    <tr>\n",
              "      <th>208</th>\n",
              "      <td>B</td>\n",
              "      <td>2</td>\n",
              "      <td>4</td>\n",
              "      <td>2</td>\n",
              "      <td>4</td>\n",
              "    </tr>\n",
              "    <tr>\n",
              "      <th>216</th>\n",
              "      <td>B</td>\n",
              "      <td>2</td>\n",
              "      <td>4</td>\n",
              "      <td>4</td>\n",
              "      <td>2</td>\n",
              "    </tr>\n",
              "    <tr>\n",
              "      <th>234</th>\n",
              "      <td>B</td>\n",
              "      <td>2</td>\n",
              "      <td>5</td>\n",
              "      <td>2</td>\n",
              "      <td>5</td>\n",
              "    </tr>\n",
              "    <tr>\n",
              "      <th>246</th>\n",
              "      <td>B</td>\n",
              "      <td>2</td>\n",
              "      <td>5</td>\n",
              "      <td>5</td>\n",
              "      <td>2</td>\n",
              "    </tr>\n",
              "    <tr>\n",
              "      <th>252</th>\n",
              "      <td>B</td>\n",
              "      <td>3</td>\n",
              "      <td>1</td>\n",
              "      <td>1</td>\n",
              "      <td>3</td>\n",
              "    </tr>\n",
              "    <tr>\n",
              "      <th>260</th>\n",
              "      <td>B</td>\n",
              "      <td>3</td>\n",
              "      <td>1</td>\n",
              "      <td>3</td>\n",
              "      <td>1</td>\n",
              "    </tr>\n",
              "    <tr>\n",
              "      <th>282</th>\n",
              "      <td>B</td>\n",
              "      <td>3</td>\n",
              "      <td>2</td>\n",
              "      <td>2</td>\n",
              "      <td>3</td>\n",
              "    </tr>\n",
              "    <tr>\n",
              "      <th>286</th>\n",
              "      <td>B</td>\n",
              "      <td>3</td>\n",
              "      <td>2</td>\n",
              "      <td>3</td>\n",
              "      <td>2</td>\n",
              "    </tr>\n",
              "    <tr>\n",
              "      <th>312</th>\n",
              "      <td>B</td>\n",
              "      <td>3</td>\n",
              "      <td>3</td>\n",
              "      <td>3</td>\n",
              "      <td>3</td>\n",
              "    </tr>\n",
              "    <tr>\n",
              "      <th>338</th>\n",
              "      <td>B</td>\n",
              "      <td>3</td>\n",
              "      <td>4</td>\n",
              "      <td>3</td>\n",
              "      <td>4</td>\n",
              "    </tr>\n",
              "    <tr>\n",
              "      <th>342</th>\n",
              "      <td>B</td>\n",
              "      <td>3</td>\n",
              "      <td>4</td>\n",
              "      <td>4</td>\n",
              "      <td>3</td>\n",
              "    </tr>\n",
              "    <tr>\n",
              "      <th>364</th>\n",
              "      <td>B</td>\n",
              "      <td>3</td>\n",
              "      <td>5</td>\n",
              "      <td>3</td>\n",
              "      <td>5</td>\n",
              "    </tr>\n",
              "    <tr>\n",
              "      <th>372</th>\n",
              "      <td>B</td>\n",
              "      <td>3</td>\n",
              "      <td>5</td>\n",
              "      <td>5</td>\n",
              "      <td>3</td>\n",
              "    </tr>\n",
              "    <tr>\n",
              "      <th>378</th>\n",
              "      <td>B</td>\n",
              "      <td>4</td>\n",
              "      <td>1</td>\n",
              "      <td>1</td>\n",
              "      <td>4</td>\n",
              "    </tr>\n",
              "    <tr>\n",
              "      <th>381</th>\n",
              "      <td>B</td>\n",
              "      <td>4</td>\n",
              "      <td>1</td>\n",
              "      <td>2</td>\n",
              "      <td>2</td>\n",
              "    </tr>\n",
              "    <tr>\n",
              "      <th>390</th>\n",
              "      <td>B</td>\n",
              "      <td>4</td>\n",
              "      <td>1</td>\n",
              "      <td>4</td>\n",
              "      <td>1</td>\n",
              "    </tr>\n",
              "    <tr>\n",
              "      <th>408</th>\n",
              "      <td>B</td>\n",
              "      <td>4</td>\n",
              "      <td>2</td>\n",
              "      <td>2</td>\n",
              "      <td>4</td>\n",
              "    </tr>\n",
              "    <tr>\n",
              "      <th>416</th>\n",
              "      <td>B</td>\n",
              "      <td>4</td>\n",
              "      <td>2</td>\n",
              "      <td>4</td>\n",
              "      <td>2</td>\n",
              "    </tr>\n",
              "    <tr>\n",
              "      <th>438</th>\n",
              "      <td>B</td>\n",
              "      <td>4</td>\n",
              "      <td>3</td>\n",
              "      <td>3</td>\n",
              "      <td>4</td>\n",
              "    </tr>\n",
              "    <tr>\n",
              "      <th>442</th>\n",
              "      <td>B</td>\n",
              "      <td>4</td>\n",
              "      <td>3</td>\n",
              "      <td>4</td>\n",
              "      <td>3</td>\n",
              "    </tr>\n",
              "    <tr>\n",
              "      <th>468</th>\n",
              "      <td>B</td>\n",
              "      <td>4</td>\n",
              "      <td>4</td>\n",
              "      <td>4</td>\n",
              "      <td>4</td>\n",
              "    </tr>\n",
              "    <tr>\n",
              "      <th>494</th>\n",
              "      <td>B</td>\n",
              "      <td>4</td>\n",
              "      <td>5</td>\n",
              "      <td>4</td>\n",
              "      <td>5</td>\n",
              "    </tr>\n",
              "    <tr>\n",
              "      <th>498</th>\n",
              "      <td>B</td>\n",
              "      <td>4</td>\n",
              "      <td>5</td>\n",
              "      <td>5</td>\n",
              "      <td>4</td>\n",
              "    </tr>\n",
              "    <tr>\n",
              "      <th>504</th>\n",
              "      <td>B</td>\n",
              "      <td>5</td>\n",
              "      <td>1</td>\n",
              "      <td>1</td>\n",
              "      <td>5</td>\n",
              "    </tr>\n",
              "    <tr>\n",
              "      <th>520</th>\n",
              "      <td>B</td>\n",
              "      <td>5</td>\n",
              "      <td>1</td>\n",
              "      <td>5</td>\n",
              "      <td>1</td>\n",
              "    </tr>\n",
              "    <tr>\n",
              "      <th>534</th>\n",
              "      <td>B</td>\n",
              "      <td>5</td>\n",
              "      <td>2</td>\n",
              "      <td>2</td>\n",
              "      <td>5</td>\n",
              "    </tr>\n",
              "    <tr>\n",
              "      <th>546</th>\n",
              "      <td>B</td>\n",
              "      <td>5</td>\n",
              "      <td>2</td>\n",
              "      <td>5</td>\n",
              "      <td>2</td>\n",
              "    </tr>\n",
              "    <tr>\n",
              "      <th>564</th>\n",
              "      <td>B</td>\n",
              "      <td>5</td>\n",
              "      <td>3</td>\n",
              "      <td>3</td>\n",
              "      <td>5</td>\n",
              "    </tr>\n",
              "    <tr>\n",
              "      <th>572</th>\n",
              "      <td>B</td>\n",
              "      <td>5</td>\n",
              "      <td>3</td>\n",
              "      <td>5</td>\n",
              "      <td>3</td>\n",
              "    </tr>\n",
              "    <tr>\n",
              "      <th>594</th>\n",
              "      <td>B</td>\n",
              "      <td>5</td>\n",
              "      <td>4</td>\n",
              "      <td>4</td>\n",
              "      <td>5</td>\n",
              "    </tr>\n",
              "    <tr>\n",
              "      <th>598</th>\n",
              "      <td>B</td>\n",
              "      <td>5</td>\n",
              "      <td>4</td>\n",
              "      <td>5</td>\n",
              "      <td>4</td>\n",
              "    </tr>\n",
              "    <tr>\n",
              "      <th>624</th>\n",
              "      <td>B</td>\n",
              "      <td>5</td>\n",
              "      <td>5</td>\n",
              "      <td>5</td>\n",
              "      <td>5</td>\n",
              "    </tr>\n",
              "  </tbody>\n",
              "</table>\n",
              "</div>"
            ],
            "text/plain": [
              "    balance  left_weight  left_distance  right_weight  right_distance\n",
              "0         B            1              1             1               1\n",
              "26        B            1              2             1               2\n",
              "30        B            1              2             2               1\n",
              "52        B            1              3             1               3\n",
              "60        B            1              3             3               1\n",
              "78        B            1              4             1               4\n",
              "81        B            1              4             2               2\n",
              "90        B            1              4             4               1\n",
              "104       B            1              5             1               5\n",
              "120       B            1              5             5               1\n",
              "126       B            2              1             1               2\n",
              "130       B            2              1             2               1\n",
              "153       B            2              2             1               4\n",
              "156       B            2              2             2               2\n",
              "165       B            2              2             4               1\n",
              "182       B            2              3             2               3\n",
              "186       B            2              3             3               2\n",
              "208       B            2              4             2               4\n",
              "216       B            2              4             4               2\n",
              "234       B            2              5             2               5\n",
              "246       B            2              5             5               2\n",
              "252       B            3              1             1               3\n",
              "260       B            3              1             3               1\n",
              "282       B            3              2             2               3\n",
              "286       B            3              2             3               2\n",
              "312       B            3              3             3               3\n",
              "338       B            3              4             3               4\n",
              "342       B            3              4             4               3\n",
              "364       B            3              5             3               5\n",
              "372       B            3              5             5               3\n",
              "378       B            4              1             1               4\n",
              "381       B            4              1             2               2\n",
              "390       B            4              1             4               1\n",
              "408       B            4              2             2               4\n",
              "416       B            4              2             4               2\n",
              "438       B            4              3             3               4\n",
              "442       B            4              3             4               3\n",
              "468       B            4              4             4               4\n",
              "494       B            4              5             4               5\n",
              "498       B            4              5             5               4\n",
              "504       B            5              1             1               5\n",
              "520       B            5              1             5               1\n",
              "534       B            5              2             2               5\n",
              "546       B            5              2             5               2\n",
              "564       B            5              3             3               5\n",
              "572       B            5              3             5               3\n",
              "594       B            5              4             4               5\n",
              "598       B            5              4             5               4\n",
              "624       B            5              5             5               5"
            ]
          },
          "metadata": {
            "tags": []
          },
          "execution_count": 32
        }
      ]
    },
    {
      "cell_type": "markdown",
      "metadata": {
        "id": "SZYsmksgkERZ",
        "colab_type": "text"
      },
      "source": [
        "18. On créé de nouvelles variables afin d'améliorer les performances"
      ]
    },
    {
      "cell_type": "code",
      "metadata": {
        "id": "_Qkwg0UjiWO7",
        "colab_type": "code",
        "colab": {}
      },
      "source": [
        "dataset['left_prod'] = dataset['left_weight'] * dataset['left_distance']\n",
        "dataset['right_prod'] = dataset['right_weight'] * dataset['right_distance']\n",
        "dataset['balanced'] = dataset['right_prod'] - dataset['left_prod']"
      ],
      "execution_count": 33,
      "outputs": []
    },
    {
      "cell_type": "code",
      "metadata": {
        "id": "PhxGz3LBGDWM",
        "colab_type": "code",
        "colab": {
          "base_uri": "https://localhost:8080/",
          "height": 1000
        },
        "outputId": "8396f9b8-7d04-4c08-ae17-eba956221be1"
      },
      "source": [
        "dataset[dataset['balance'] == 'B']"
      ],
      "execution_count": 34,
      "outputs": [
        {
          "output_type": "execute_result",
          "data": {
            "text/html": [
              "<div>\n",
              "<style scoped>\n",
              "    .dataframe tbody tr th:only-of-type {\n",
              "        vertical-align: middle;\n",
              "    }\n",
              "\n",
              "    .dataframe tbody tr th {\n",
              "        vertical-align: top;\n",
              "    }\n",
              "\n",
              "    .dataframe thead th {\n",
              "        text-align: right;\n",
              "    }\n",
              "</style>\n",
              "<table border=\"1\" class=\"dataframe\">\n",
              "  <thead>\n",
              "    <tr style=\"text-align: right;\">\n",
              "      <th></th>\n",
              "      <th>balance</th>\n",
              "      <th>left_weight</th>\n",
              "      <th>left_distance</th>\n",
              "      <th>right_weight</th>\n",
              "      <th>right_distance</th>\n",
              "      <th>left_prod</th>\n",
              "      <th>right_prod</th>\n",
              "      <th>balanced</th>\n",
              "    </tr>\n",
              "  </thead>\n",
              "  <tbody>\n",
              "    <tr>\n",
              "      <th>0</th>\n",
              "      <td>B</td>\n",
              "      <td>1</td>\n",
              "      <td>1</td>\n",
              "      <td>1</td>\n",
              "      <td>1</td>\n",
              "      <td>1</td>\n",
              "      <td>1</td>\n",
              "      <td>0</td>\n",
              "    </tr>\n",
              "    <tr>\n",
              "      <th>26</th>\n",
              "      <td>B</td>\n",
              "      <td>1</td>\n",
              "      <td>2</td>\n",
              "      <td>1</td>\n",
              "      <td>2</td>\n",
              "      <td>2</td>\n",
              "      <td>2</td>\n",
              "      <td>0</td>\n",
              "    </tr>\n",
              "    <tr>\n",
              "      <th>30</th>\n",
              "      <td>B</td>\n",
              "      <td>1</td>\n",
              "      <td>2</td>\n",
              "      <td>2</td>\n",
              "      <td>1</td>\n",
              "      <td>2</td>\n",
              "      <td>2</td>\n",
              "      <td>0</td>\n",
              "    </tr>\n",
              "    <tr>\n",
              "      <th>52</th>\n",
              "      <td>B</td>\n",
              "      <td>1</td>\n",
              "      <td>3</td>\n",
              "      <td>1</td>\n",
              "      <td>3</td>\n",
              "      <td>3</td>\n",
              "      <td>3</td>\n",
              "      <td>0</td>\n",
              "    </tr>\n",
              "    <tr>\n",
              "      <th>60</th>\n",
              "      <td>B</td>\n",
              "      <td>1</td>\n",
              "      <td>3</td>\n",
              "      <td>3</td>\n",
              "      <td>1</td>\n",
              "      <td>3</td>\n",
              "      <td>3</td>\n",
              "      <td>0</td>\n",
              "    </tr>\n",
              "    <tr>\n",
              "      <th>78</th>\n",
              "      <td>B</td>\n",
              "      <td>1</td>\n",
              "      <td>4</td>\n",
              "      <td>1</td>\n",
              "      <td>4</td>\n",
              "      <td>4</td>\n",
              "      <td>4</td>\n",
              "      <td>0</td>\n",
              "    </tr>\n",
              "    <tr>\n",
              "      <th>81</th>\n",
              "      <td>B</td>\n",
              "      <td>1</td>\n",
              "      <td>4</td>\n",
              "      <td>2</td>\n",
              "      <td>2</td>\n",
              "      <td>4</td>\n",
              "      <td>4</td>\n",
              "      <td>0</td>\n",
              "    </tr>\n",
              "    <tr>\n",
              "      <th>90</th>\n",
              "      <td>B</td>\n",
              "      <td>1</td>\n",
              "      <td>4</td>\n",
              "      <td>4</td>\n",
              "      <td>1</td>\n",
              "      <td>4</td>\n",
              "      <td>4</td>\n",
              "      <td>0</td>\n",
              "    </tr>\n",
              "    <tr>\n",
              "      <th>104</th>\n",
              "      <td>B</td>\n",
              "      <td>1</td>\n",
              "      <td>5</td>\n",
              "      <td>1</td>\n",
              "      <td>5</td>\n",
              "      <td>5</td>\n",
              "      <td>5</td>\n",
              "      <td>0</td>\n",
              "    </tr>\n",
              "    <tr>\n",
              "      <th>120</th>\n",
              "      <td>B</td>\n",
              "      <td>1</td>\n",
              "      <td>5</td>\n",
              "      <td>5</td>\n",
              "      <td>1</td>\n",
              "      <td>5</td>\n",
              "      <td>5</td>\n",
              "      <td>0</td>\n",
              "    </tr>\n",
              "    <tr>\n",
              "      <th>126</th>\n",
              "      <td>B</td>\n",
              "      <td>2</td>\n",
              "      <td>1</td>\n",
              "      <td>1</td>\n",
              "      <td>2</td>\n",
              "      <td>2</td>\n",
              "      <td>2</td>\n",
              "      <td>0</td>\n",
              "    </tr>\n",
              "    <tr>\n",
              "      <th>130</th>\n",
              "      <td>B</td>\n",
              "      <td>2</td>\n",
              "      <td>1</td>\n",
              "      <td>2</td>\n",
              "      <td>1</td>\n",
              "      <td>2</td>\n",
              "      <td>2</td>\n",
              "      <td>0</td>\n",
              "    </tr>\n",
              "    <tr>\n",
              "      <th>153</th>\n",
              "      <td>B</td>\n",
              "      <td>2</td>\n",
              "      <td>2</td>\n",
              "      <td>1</td>\n",
              "      <td>4</td>\n",
              "      <td>4</td>\n",
              "      <td>4</td>\n",
              "      <td>0</td>\n",
              "    </tr>\n",
              "    <tr>\n",
              "      <th>156</th>\n",
              "      <td>B</td>\n",
              "      <td>2</td>\n",
              "      <td>2</td>\n",
              "      <td>2</td>\n",
              "      <td>2</td>\n",
              "      <td>4</td>\n",
              "      <td>4</td>\n",
              "      <td>0</td>\n",
              "    </tr>\n",
              "    <tr>\n",
              "      <th>165</th>\n",
              "      <td>B</td>\n",
              "      <td>2</td>\n",
              "      <td>2</td>\n",
              "      <td>4</td>\n",
              "      <td>1</td>\n",
              "      <td>4</td>\n",
              "      <td>4</td>\n",
              "      <td>0</td>\n",
              "    </tr>\n",
              "    <tr>\n",
              "      <th>182</th>\n",
              "      <td>B</td>\n",
              "      <td>2</td>\n",
              "      <td>3</td>\n",
              "      <td>2</td>\n",
              "      <td>3</td>\n",
              "      <td>6</td>\n",
              "      <td>6</td>\n",
              "      <td>0</td>\n",
              "    </tr>\n",
              "    <tr>\n",
              "      <th>186</th>\n",
              "      <td>B</td>\n",
              "      <td>2</td>\n",
              "      <td>3</td>\n",
              "      <td>3</td>\n",
              "      <td>2</td>\n",
              "      <td>6</td>\n",
              "      <td>6</td>\n",
              "      <td>0</td>\n",
              "    </tr>\n",
              "    <tr>\n",
              "      <th>208</th>\n",
              "      <td>B</td>\n",
              "      <td>2</td>\n",
              "      <td>4</td>\n",
              "      <td>2</td>\n",
              "      <td>4</td>\n",
              "      <td>8</td>\n",
              "      <td>8</td>\n",
              "      <td>0</td>\n",
              "    </tr>\n",
              "    <tr>\n",
              "      <th>216</th>\n",
              "      <td>B</td>\n",
              "      <td>2</td>\n",
              "      <td>4</td>\n",
              "      <td>4</td>\n",
              "      <td>2</td>\n",
              "      <td>8</td>\n",
              "      <td>8</td>\n",
              "      <td>0</td>\n",
              "    </tr>\n",
              "    <tr>\n",
              "      <th>234</th>\n",
              "      <td>B</td>\n",
              "      <td>2</td>\n",
              "      <td>5</td>\n",
              "      <td>2</td>\n",
              "      <td>5</td>\n",
              "      <td>10</td>\n",
              "      <td>10</td>\n",
              "      <td>0</td>\n",
              "    </tr>\n",
              "    <tr>\n",
              "      <th>246</th>\n",
              "      <td>B</td>\n",
              "      <td>2</td>\n",
              "      <td>5</td>\n",
              "      <td>5</td>\n",
              "      <td>2</td>\n",
              "      <td>10</td>\n",
              "      <td>10</td>\n",
              "      <td>0</td>\n",
              "    </tr>\n",
              "    <tr>\n",
              "      <th>252</th>\n",
              "      <td>B</td>\n",
              "      <td>3</td>\n",
              "      <td>1</td>\n",
              "      <td>1</td>\n",
              "      <td>3</td>\n",
              "      <td>3</td>\n",
              "      <td>3</td>\n",
              "      <td>0</td>\n",
              "    </tr>\n",
              "    <tr>\n",
              "      <th>260</th>\n",
              "      <td>B</td>\n",
              "      <td>3</td>\n",
              "      <td>1</td>\n",
              "      <td>3</td>\n",
              "      <td>1</td>\n",
              "      <td>3</td>\n",
              "      <td>3</td>\n",
              "      <td>0</td>\n",
              "    </tr>\n",
              "    <tr>\n",
              "      <th>282</th>\n",
              "      <td>B</td>\n",
              "      <td>3</td>\n",
              "      <td>2</td>\n",
              "      <td>2</td>\n",
              "      <td>3</td>\n",
              "      <td>6</td>\n",
              "      <td>6</td>\n",
              "      <td>0</td>\n",
              "    </tr>\n",
              "    <tr>\n",
              "      <th>286</th>\n",
              "      <td>B</td>\n",
              "      <td>3</td>\n",
              "      <td>2</td>\n",
              "      <td>3</td>\n",
              "      <td>2</td>\n",
              "      <td>6</td>\n",
              "      <td>6</td>\n",
              "      <td>0</td>\n",
              "    </tr>\n",
              "    <tr>\n",
              "      <th>312</th>\n",
              "      <td>B</td>\n",
              "      <td>3</td>\n",
              "      <td>3</td>\n",
              "      <td>3</td>\n",
              "      <td>3</td>\n",
              "      <td>9</td>\n",
              "      <td>9</td>\n",
              "      <td>0</td>\n",
              "    </tr>\n",
              "    <tr>\n",
              "      <th>338</th>\n",
              "      <td>B</td>\n",
              "      <td>3</td>\n",
              "      <td>4</td>\n",
              "      <td>3</td>\n",
              "      <td>4</td>\n",
              "      <td>12</td>\n",
              "      <td>12</td>\n",
              "      <td>0</td>\n",
              "    </tr>\n",
              "    <tr>\n",
              "      <th>342</th>\n",
              "      <td>B</td>\n",
              "      <td>3</td>\n",
              "      <td>4</td>\n",
              "      <td>4</td>\n",
              "      <td>3</td>\n",
              "      <td>12</td>\n",
              "      <td>12</td>\n",
              "      <td>0</td>\n",
              "    </tr>\n",
              "    <tr>\n",
              "      <th>364</th>\n",
              "      <td>B</td>\n",
              "      <td>3</td>\n",
              "      <td>5</td>\n",
              "      <td>3</td>\n",
              "      <td>5</td>\n",
              "      <td>15</td>\n",
              "      <td>15</td>\n",
              "      <td>0</td>\n",
              "    </tr>\n",
              "    <tr>\n",
              "      <th>372</th>\n",
              "      <td>B</td>\n",
              "      <td>3</td>\n",
              "      <td>5</td>\n",
              "      <td>5</td>\n",
              "      <td>3</td>\n",
              "      <td>15</td>\n",
              "      <td>15</td>\n",
              "      <td>0</td>\n",
              "    </tr>\n",
              "    <tr>\n",
              "      <th>378</th>\n",
              "      <td>B</td>\n",
              "      <td>4</td>\n",
              "      <td>1</td>\n",
              "      <td>1</td>\n",
              "      <td>4</td>\n",
              "      <td>4</td>\n",
              "      <td>4</td>\n",
              "      <td>0</td>\n",
              "    </tr>\n",
              "    <tr>\n",
              "      <th>381</th>\n",
              "      <td>B</td>\n",
              "      <td>4</td>\n",
              "      <td>1</td>\n",
              "      <td>2</td>\n",
              "      <td>2</td>\n",
              "      <td>4</td>\n",
              "      <td>4</td>\n",
              "      <td>0</td>\n",
              "    </tr>\n",
              "    <tr>\n",
              "      <th>390</th>\n",
              "      <td>B</td>\n",
              "      <td>4</td>\n",
              "      <td>1</td>\n",
              "      <td>4</td>\n",
              "      <td>1</td>\n",
              "      <td>4</td>\n",
              "      <td>4</td>\n",
              "      <td>0</td>\n",
              "    </tr>\n",
              "    <tr>\n",
              "      <th>408</th>\n",
              "      <td>B</td>\n",
              "      <td>4</td>\n",
              "      <td>2</td>\n",
              "      <td>2</td>\n",
              "      <td>4</td>\n",
              "      <td>8</td>\n",
              "      <td>8</td>\n",
              "      <td>0</td>\n",
              "    </tr>\n",
              "    <tr>\n",
              "      <th>416</th>\n",
              "      <td>B</td>\n",
              "      <td>4</td>\n",
              "      <td>2</td>\n",
              "      <td>4</td>\n",
              "      <td>2</td>\n",
              "      <td>8</td>\n",
              "      <td>8</td>\n",
              "      <td>0</td>\n",
              "    </tr>\n",
              "    <tr>\n",
              "      <th>438</th>\n",
              "      <td>B</td>\n",
              "      <td>4</td>\n",
              "      <td>3</td>\n",
              "      <td>3</td>\n",
              "      <td>4</td>\n",
              "      <td>12</td>\n",
              "      <td>12</td>\n",
              "      <td>0</td>\n",
              "    </tr>\n",
              "    <tr>\n",
              "      <th>442</th>\n",
              "      <td>B</td>\n",
              "      <td>4</td>\n",
              "      <td>3</td>\n",
              "      <td>4</td>\n",
              "      <td>3</td>\n",
              "      <td>12</td>\n",
              "      <td>12</td>\n",
              "      <td>0</td>\n",
              "    </tr>\n",
              "    <tr>\n",
              "      <th>468</th>\n",
              "      <td>B</td>\n",
              "      <td>4</td>\n",
              "      <td>4</td>\n",
              "      <td>4</td>\n",
              "      <td>4</td>\n",
              "      <td>16</td>\n",
              "      <td>16</td>\n",
              "      <td>0</td>\n",
              "    </tr>\n",
              "    <tr>\n",
              "      <th>494</th>\n",
              "      <td>B</td>\n",
              "      <td>4</td>\n",
              "      <td>5</td>\n",
              "      <td>4</td>\n",
              "      <td>5</td>\n",
              "      <td>20</td>\n",
              "      <td>20</td>\n",
              "      <td>0</td>\n",
              "    </tr>\n",
              "    <tr>\n",
              "      <th>498</th>\n",
              "      <td>B</td>\n",
              "      <td>4</td>\n",
              "      <td>5</td>\n",
              "      <td>5</td>\n",
              "      <td>4</td>\n",
              "      <td>20</td>\n",
              "      <td>20</td>\n",
              "      <td>0</td>\n",
              "    </tr>\n",
              "    <tr>\n",
              "      <th>504</th>\n",
              "      <td>B</td>\n",
              "      <td>5</td>\n",
              "      <td>1</td>\n",
              "      <td>1</td>\n",
              "      <td>5</td>\n",
              "      <td>5</td>\n",
              "      <td>5</td>\n",
              "      <td>0</td>\n",
              "    </tr>\n",
              "    <tr>\n",
              "      <th>520</th>\n",
              "      <td>B</td>\n",
              "      <td>5</td>\n",
              "      <td>1</td>\n",
              "      <td>5</td>\n",
              "      <td>1</td>\n",
              "      <td>5</td>\n",
              "      <td>5</td>\n",
              "      <td>0</td>\n",
              "    </tr>\n",
              "    <tr>\n",
              "      <th>534</th>\n",
              "      <td>B</td>\n",
              "      <td>5</td>\n",
              "      <td>2</td>\n",
              "      <td>2</td>\n",
              "      <td>5</td>\n",
              "      <td>10</td>\n",
              "      <td>10</td>\n",
              "      <td>0</td>\n",
              "    </tr>\n",
              "    <tr>\n",
              "      <th>546</th>\n",
              "      <td>B</td>\n",
              "      <td>5</td>\n",
              "      <td>2</td>\n",
              "      <td>5</td>\n",
              "      <td>2</td>\n",
              "      <td>10</td>\n",
              "      <td>10</td>\n",
              "      <td>0</td>\n",
              "    </tr>\n",
              "    <tr>\n",
              "      <th>564</th>\n",
              "      <td>B</td>\n",
              "      <td>5</td>\n",
              "      <td>3</td>\n",
              "      <td>3</td>\n",
              "      <td>5</td>\n",
              "      <td>15</td>\n",
              "      <td>15</td>\n",
              "      <td>0</td>\n",
              "    </tr>\n",
              "    <tr>\n",
              "      <th>572</th>\n",
              "      <td>B</td>\n",
              "      <td>5</td>\n",
              "      <td>3</td>\n",
              "      <td>5</td>\n",
              "      <td>3</td>\n",
              "      <td>15</td>\n",
              "      <td>15</td>\n",
              "      <td>0</td>\n",
              "    </tr>\n",
              "    <tr>\n",
              "      <th>594</th>\n",
              "      <td>B</td>\n",
              "      <td>5</td>\n",
              "      <td>4</td>\n",
              "      <td>4</td>\n",
              "      <td>5</td>\n",
              "      <td>20</td>\n",
              "      <td>20</td>\n",
              "      <td>0</td>\n",
              "    </tr>\n",
              "    <tr>\n",
              "      <th>598</th>\n",
              "      <td>B</td>\n",
              "      <td>5</td>\n",
              "      <td>4</td>\n",
              "      <td>5</td>\n",
              "      <td>4</td>\n",
              "      <td>20</td>\n",
              "      <td>20</td>\n",
              "      <td>0</td>\n",
              "    </tr>\n",
              "    <tr>\n",
              "      <th>624</th>\n",
              "      <td>B</td>\n",
              "      <td>5</td>\n",
              "      <td>5</td>\n",
              "      <td>5</td>\n",
              "      <td>5</td>\n",
              "      <td>25</td>\n",
              "      <td>25</td>\n",
              "      <td>0</td>\n",
              "    </tr>\n",
              "  </tbody>\n",
              "</table>\n",
              "</div>"
            ],
            "text/plain": [
              "    balance  left_weight  left_distance  ...  left_prod  right_prod  balanced\n",
              "0         B            1              1  ...          1           1         0\n",
              "26        B            1              2  ...          2           2         0\n",
              "30        B            1              2  ...          2           2         0\n",
              "52        B            1              3  ...          3           3         0\n",
              "60        B            1              3  ...          3           3         0\n",
              "78        B            1              4  ...          4           4         0\n",
              "81        B            1              4  ...          4           4         0\n",
              "90        B            1              4  ...          4           4         0\n",
              "104       B            1              5  ...          5           5         0\n",
              "120       B            1              5  ...          5           5         0\n",
              "126       B            2              1  ...          2           2         0\n",
              "130       B            2              1  ...          2           2         0\n",
              "153       B            2              2  ...          4           4         0\n",
              "156       B            2              2  ...          4           4         0\n",
              "165       B            2              2  ...          4           4         0\n",
              "182       B            2              3  ...          6           6         0\n",
              "186       B            2              3  ...          6           6         0\n",
              "208       B            2              4  ...          8           8         0\n",
              "216       B            2              4  ...          8           8         0\n",
              "234       B            2              5  ...         10          10         0\n",
              "246       B            2              5  ...         10          10         0\n",
              "252       B            3              1  ...          3           3         0\n",
              "260       B            3              1  ...          3           3         0\n",
              "282       B            3              2  ...          6           6         0\n",
              "286       B            3              2  ...          6           6         0\n",
              "312       B            3              3  ...          9           9         0\n",
              "338       B            3              4  ...         12          12         0\n",
              "342       B            3              4  ...         12          12         0\n",
              "364       B            3              5  ...         15          15         0\n",
              "372       B            3              5  ...         15          15         0\n",
              "378       B            4              1  ...          4           4         0\n",
              "381       B            4              1  ...          4           4         0\n",
              "390       B            4              1  ...          4           4         0\n",
              "408       B            4              2  ...          8           8         0\n",
              "416       B            4              2  ...          8           8         0\n",
              "438       B            4              3  ...         12          12         0\n",
              "442       B            4              3  ...         12          12         0\n",
              "468       B            4              4  ...         16          16         0\n",
              "494       B            4              5  ...         20          20         0\n",
              "498       B            4              5  ...         20          20         0\n",
              "504       B            5              1  ...          5           5         0\n",
              "520       B            5              1  ...          5           5         0\n",
              "534       B            5              2  ...         10          10         0\n",
              "546       B            5              2  ...         10          10         0\n",
              "564       B            5              3  ...         15          15         0\n",
              "572       B            5              3  ...         15          15         0\n",
              "594       B            5              4  ...         20          20         0\n",
              "598       B            5              4  ...         20          20         0\n",
              "624       B            5              5  ...         25          25         0\n",
              "\n",
              "[49 rows x 8 columns]"
            ]
          },
          "metadata": {
            "tags": []
          },
          "execution_count": 34
        }
      ]
    },
    {
      "cell_type": "code",
      "metadata": {
        "id": "9XeuaqY4kd0A",
        "colab_type": "code",
        "colab": {}
      },
      "source": [
        "X = dataset.iloc[:, 1:]\n",
        "y = dataset.iloc[:, 0]"
      ],
      "execution_count": 35,
      "outputs": []
    },
    {
      "cell_type": "code",
      "metadata": {
        "id": "EdnabyRqkj9A",
        "colab_type": "code",
        "colab": {}
      },
      "source": [
        "from sklearn.model_selection import train_test_split\n",
        "X_train, X_test, y_train, y_test = train_test_split(X, y, test_size = 0.3, random_state=42, stratify = y)"
      ],
      "execution_count": 36,
      "outputs": []
    },
    {
      "cell_type": "code",
      "metadata": {
        "id": "DP9WvVLllGTZ",
        "colab_type": "code",
        "colab": {
          "base_uri": "https://localhost:8080/",
          "height": 126
        },
        "outputId": "7f77da8c-a6b4-4906-f325-fa19037c5d1c"
      },
      "source": [
        "from sklearn.tree import DecisionTreeClassifier\n",
        "classifier_gini = DecisionTreeClassifier(criterion=\"gini\")\n",
        "classifier_gini.fit(X_train,y_train)"
      ],
      "execution_count": 37,
      "outputs": [
        {
          "output_type": "execute_result",
          "data": {
            "text/plain": [
              "DecisionTreeClassifier(ccp_alpha=0.0, class_weight=None, criterion='gini',\n",
              "                       max_depth=None, max_features=None, max_leaf_nodes=None,\n",
              "                       min_impurity_decrease=0.0, min_impurity_split=None,\n",
              "                       min_samples_leaf=1, min_samples_split=2,\n",
              "                       min_weight_fraction_leaf=0.0, presort='deprecated',\n",
              "                       random_state=None, splitter='best')"
            ]
          },
          "metadata": {
            "tags": []
          },
          "execution_count": 37
        }
      ]
    },
    {
      "cell_type": "code",
      "metadata": {
        "id": "AFy2GgdSlYCM",
        "colab_type": "code",
        "colab": {
          "base_uri": "https://localhost:8080/",
          "height": 381
        },
        "outputId": "9584e0f1-667a-4340-efa1-e97221d52b41"
      },
      "source": [
        "print(classification_report(y_train, classifier_gini.predict(X_train)))\n",
        "print(classification_report(y_test, classifier_gini.predict(X_test)))"
      ],
      "execution_count": 38,
      "outputs": [
        {
          "output_type": "stream",
          "text": [
            "              precision    recall  f1-score   support\n",
            "\n",
            "           B       1.00      1.00      1.00        34\n",
            "           L       1.00      1.00      1.00       201\n",
            "           R       1.00      1.00      1.00       202\n",
            "\n",
            "    accuracy                           1.00       437\n",
            "   macro avg       1.00      1.00      1.00       437\n",
            "weighted avg       1.00      1.00      1.00       437\n",
            "\n",
            "              precision    recall  f1-score   support\n",
            "\n",
            "           B       1.00      1.00      1.00        15\n",
            "           L       1.00      1.00      1.00        87\n",
            "           R       1.00      1.00      1.00        86\n",
            "\n",
            "    accuracy                           1.00       188\n",
            "   macro avg       1.00      1.00      1.00       188\n",
            "weighted avg       1.00      1.00      1.00       188\n",
            "\n"
          ],
          "name": "stdout"
        }
      ]
    },
    {
      "cell_type": "code",
      "metadata": {
        "id": "ZBrxkxCrlqIe",
        "colab_type": "code",
        "colab": {}
      },
      "source": [
        ""
      ],
      "execution_count": 39,
      "outputs": []
    }
  ]
}