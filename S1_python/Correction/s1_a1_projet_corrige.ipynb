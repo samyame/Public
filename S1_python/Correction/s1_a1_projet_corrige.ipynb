{
 "cells": [
  {
   "cell_type": "markdown",
   "metadata": {
    "colab_type": "text",
    "id": "7Z-ut8ffWMK6"
   },
   "source": [
    "# Mini Projets - Solution\n",
    "\n",
    "## Raffinons notre quiz"
   ]
  },
  {
   "cell_type": "markdown",
   "metadata": {
    "colab_type": "text",
    "id": "mRVS1LcPWzEB"
   },
   "source": [
    "Le quiz que nous avons fait fonctionne très bien mais, il y aurait surement un meilleur moyen de le faire qu’en utilisant des boucles WHILE.\n",
    "\n",
    "1. _Changez votre quiz pour qu’il inclue des boucles FOR plutôt que des boucles WHILE_"
   ]
  },
  {
   "cell_type": "code",
   "execution_count": 1,
   "metadata": {
    "colab": {
     "base_uri": "https://localhost:8080/",
     "height": 304
    },
    "colab_type": "code",
    "id": "Nz30KnkOWLVP",
    "outputId": "56328145-444c-4888-f703-fd5d0bbae8d9"
   },
   "outputs": [
    {
     "name": "stdout",
     "output_type": "stream",
     "text": [
      "Combien de fois la France a gagné la coupe du monde ?3\n",
      "Dommage, vous n'avez pas la bonne réponse\n",
      "il vous reste 3 chances\n",
      "Combien de fois la France a gagné la coupe du monde ?4\n",
      "Dommage, vous n'avez pas la bonne réponse\n",
      "il vous reste 2 chances\n",
      "Combien de fois la France a gagné la coupe du monde ?2\n",
      "Bravo, vous avez trouvé\n",
      "Quand est ce qu'a été fondé Apple ?1976\n",
      "Bravo, vous avez trouvé\n",
      "Combien de vies possède un chat ?3\n",
      "Dommage, vous n'avez pas la bonne réponse\n",
      "il vous reste 0 chances\n",
      "Bravo ! Vous avez gagné le quiz\n"
     ]
    }
   ],
   "source": [
    " for i in range(0, 3):\n",
    "  #print(\"il vous reste {} chances\".format(3 - i))\n",
    "  question = input(\"Combien de fois la France a gagné la coupe du monde ?\")\n",
    "  if question == \"2\":\n",
    "    print(\"Bravo, vous avez trouvé\")\n",
    "    chances_restantes = 3 - i\n",
    "    break\n",
    "  else:\n",
    "    if i == 2:\n",
    "        print(\"Ah, vous avez perdu le jeu...\")\n",
    "        chances_restantes = 0\n",
    "    else:\n",
    "        print(\"Dommage, vous n'avez pas la bonne réponse\")\n",
    "        print(\"il vous reste {} chances\".format(3 - i))\n",
    "        \n",
    "if chances_restantes >0:\n",
    "    for i in range(0,chances_restantes):\n",
    "      question = input(\"Quand est ce qu'a été fondé Apple ?\")\n",
    "      if question == \"1976\":\n",
    "        print(\"Bravo, vous avez trouvé\")\n",
    "        chances_restantes = chances_restantes - i\n",
    "        break\n",
    "      else:\n",
    "        if i == 2:\n",
    "            print(\"Ah, vous avez perdu le jeu...\")\n",
    "        else:\n",
    "            print(\"Dommage, vous n'avez pas la bonne réponse\")\n",
    "            print(\"il vous reste {} chances\".format(chances_restantes - i -1))\n",
    "\n",
    "\n",
    "if chances_restantes >0:\n",
    "    for i in range(0,chances_restantes):\n",
    "      question = input(\"Combien de vies possède un chat ?\")\n",
    "      if question == \"9\":\n",
    "        print(\"Bravo, vous avez trouvé\")\n",
    "        chances_restantes = chances_restantes - i\n",
    "        break\n",
    "      else:\n",
    "        if i == 2:\n",
    "            print(\"Ah, vous avez perdu le jeu...\")\n",
    "        else:\n",
    "            print(\"Dommage, vous n'avez pas la bonne réponse\")\n",
    "            print(\"il vous reste {} chances\".format(chances_restantes - i -1))\n",
    "\n",
    "if chances_restantes > 0:\n",
    "    print(\"Bravo ! Vous avez gagné le quiz\")"
   ]
  },
  {
   "cell_type": "markdown",
   "metadata": {
    "colab_type": "text",
    "id": "bbDvYnWAps8L"
   },
   "source": [
    "**Bonus**\n",
    "2. La solution vu en S1-1A avec la boucle while est en fait plus lisible et c'est donc celle que l'on retiendrait en pratique. On peut aussi remarquer qu'en fin de compte, on répète la même procédure pour chaque question (tant que la réponse est fausse, on réduit de le nombre de chances, puis on vérifie s'il reste des chances, et si oui, on repose la même question). \n",
    "\n",
    "Une solution un peu plus complexe mais élégante serait d'utiliser une boucle for pour itérer sur la liste des questions et réponses associées. \n",
    "\n",
    "Dans la solution proposée ci-dessous, on utilise ce qu'on appelle les indices de liste (sujet du cours de demain) que l'on note i : ```questions[i]``` fait référence à la question en position (indice) i."
   ]
  },
  {
   "cell_type": "code",
   "execution_count": 0,
   "metadata": {
    "colab": {
     "base_uri": "https://localhost:8080/",
     "height": 170
    },
    "colab_type": "code",
    "id": "RL4HE0GEmmb0",
    "outputId": "0cc53886-69b8-448b-e45d-93b594e7149e"
   },
   "outputs": [
    {
     "name": "stdout",
     "output_type": "stream",
     "text": [
      "Voici notre quiz, tu as trois chances !\n",
      "Combien de fois la France a gagné la coupe du monde ? 3\n",
      "Dommage ! Il te reste 2 chances\n",
      "Combien de fois la France a gagné la coupe du monde ? 2\n",
      "Quand a été fondé Apple ? 1977\n",
      "Dommage ! Il te reste 1 chances\n",
      "Quand a été fondé Apple ? 1976\n",
      "Qui a fondé SpaceX ? Elon Musk\n",
      "Bravo ! Tu as gagné le quiz !\n"
     ]
    }
   ],
   "source": [
    "nb_de_chances = 3\n",
    "questions = [\n",
    "             \"Combien de fois la France a gagné la coupe du monde ? \",\n",
    "             \"Quand a été fondé Apple ? \",\n",
    "             \"Qui a fondé SpaceX ? \"\n",
    "             ]\n",
    "\n",
    "reponses = [\"2\", \"1976\", \"elon musk\"]\n",
    "\n",
    "print(\"Voici notre quiz, tu as trois chances !\")\n",
    "\n",
    "for i in range(0,3):\n",
    "  if nb_de_chances == 0:\n",
    "    break # interrompt la boucle for\n",
    "  question = input(questions[i])\n",
    "  question = question.lower()\n",
    "\n",
    "  while question != reponses[i]:\n",
    "    nb_de_chances -= 1\n",
    "    print(\"Dommage ! Il te reste {} chances\".format(nb_de_chances))\n",
    "    if nb_de_chances == 0:\n",
    "        print(\"Oh non ! Tu as perdu le jeu...\")\n",
    "        break # interrompt la boucle while\n",
    "    question = input(questions[i])\n",
    "    question = question.lower()\n",
    "\n",
    "if nb_de_chances > 0:\n",
    "  print(\"Bravo ! Tu as gagné le quiz !\")\n"
   ]
  },
  {
   "cell_type": "markdown",
   "metadata": {
    "colab_type": "text",
    "id": "w2mMKMluWfNu"
   },
   "source": [
    "# Pour aller plus loin : Changeons notre quiz"
   ]
  },
  {
   "cell_type": "markdown",
   "metadata": {
    "colab_type": "text",
    "id": "fRb8XIowW2YC"
   },
   "source": [
    "Notre quiz est vraiment bien, mais on pourrait aussi voir le jeu dans un autre sens et, plutôt que d’avoir un certain nombre de chance pour finir le quiz, on pourrait plutôt vouloir compter notre score à la fin du quiz.\n",
    "\n",
    " _Changer votre code pour que cela se reflète dans votre programme_\n",
    " \n",
    "    1. Vous devrez compter le nombre de bonne réponses\n",
    "    2. Vous devrez compter le nombre de mauvaises réponses\n",
    "    3. A la fin du quiz, vous devrez afficher le nombre de bonnes réponses et le nombre de mauvaises réponses\n",
    "    4. Si l’utilisateur le souhaite, vous devrez afficher les réponses pour les questions auxquelles il n’a pas eu juste\n"
   ]
  },
  {
   "cell_type": "code",
   "execution_count": 0,
   "metadata": {
    "colab": {
     "base_uri": "https://localhost:8080/",
     "height": 213
    },
    "colab_type": "code",
    "id": "8Orbf8dlWXsJ",
    "outputId": "f4105a97-7778-4a8a-bbd5-4330f56de1b6"
   },
   "outputs": [
    {
     "name": "stdout",
     "output_type": "stream",
     "text": [
      "Combien de fois la France a gagné la coupe du monde ?2\n",
      "Quand est ce qu'a été fondé Apple ?1895\n",
      "Combien de vies possède un chat ?7\n",
      "Vous avez terminé le quiz. Voici votre score \n",
      " Bonnes Réponses : 1 \n",
      " Mauvaies Réponses : 2\n",
      "Voulez vous connaître les réponses des questions où vous n'avez pas eu juste ? Répondez OUI ou NONOUI\n",
      "Pour : Quand est ce qu'a été fondé Apple ? \n",
      " La bonne réponse était : 1976\n",
      "Pour : Combien de vies possède un chat ? \n",
      " La bonne réponse était : 9\n"
     ]
    }
   ],
   "source": [
    "bonnes_reponses = []\n",
    "mauvaises_reponses = []\n",
    "\n",
    "question1 = input(\"Combien de fois la France a gagné la coupe du monde ?\")\n",
    "if question1 == \"2\":\n",
    "    bonnes_reponses += [\"Combien de fois la France a gagné la coupe du monde ?\"]\n",
    "else:\n",
    "    mauvaises_reponses += [\"Combien de fois la France a gagné la coupe du monde ?\"]\n",
    "\n",
    "question2 = input(\"Quand est ce qu'a été fondé Apple ?\")\n",
    "if question2 == \"1976\":\n",
    "    bonnes_reponses += [\"Quand est ce qu'a été fondé Apple ?\"]\n",
    "else:\n",
    "    mauvaises_reponses += [\"Quand est ce qu'a été fondé Apple ?\"]\n",
    "\n",
    "question3 = input(\"Combien de vies possède un chat ?\")\n",
    "if question3 == \"9\":\n",
    "    bonnes_reponses += [\"Combien de vies possède un chat ?\"]\n",
    "else:\n",
    "    mauvaises_reponses += [\"Combien de vies possède un chat ?\"]\n",
    "\n",
    "print(\"Vous avez terminé le quiz. Voici votre score \\n Bonnes Réponses : {} \\n Mauvaies Réponses : {}\".format(len(bonnes_reponses),len(mauvaises_reponses)))\n",
    "\n",
    "afficher_les_reponses = input(\"Voulez vous connaître les réponses des questions où vous n'avez pas eu juste ? Répondez OUI ou NON\")\n",
    "if afficher_les_reponses == \"OUI\":\n",
    "    for mauvaise_reponse in mauvaises_reponses:\n",
    "        if mauvaise_reponse == \"Combien de fois la France a gagné la coupe du monde ?\":\n",
    "            print(\"Pour : {} \\n La bonne réponse était : 2\".format(mauvaise_reponse))\n",
    "        elif mauvaise_reponse == \"Quand est ce qu'a été fondé Apple ?\":\n",
    "            print(\"Pour : {} \\n La bonne réponse était : 1976\".format(mauvaise_reponse))\n",
    "        elif mauvaise_reponse == \"Combien de vies possède un chat ?\":\n",
    "            print(\"Pour : {} \\n La bonne réponse était : 9\".format(mauvaise_reponse))"
   ]
  },
  {
   "cell_type": "markdown",
   "metadata": {
    "colab_type": "text",
    "id": "JGtEkJig1IQW"
   },
   "source": [
    "# Manière plus élégante"
   ]
  },
  {
   "cell_type": "code",
   "execution_count": 0,
   "metadata": {
    "colab": {
     "base_uri": "https://localhost:8080/",
     "height": 119
    },
    "colab_type": "code",
    "id": "dFm4VQIRWkDs",
    "outputId": "9c79ecaf-71ff-482b-cb52-dcb345a78d94"
   },
   "outputs": [
    {
     "name": "stdout",
     "output_type": "stream",
     "text": [
      "Combien de fois la France a gagné la coupe du monde ?3\n",
      "Mauvaise réponse\n",
      "Quand est ce qu'a été fondé Apple ?2\n",
      "Mauvaise réponse\n",
      "Combien de vies possède un chat ?1\n",
      "Mauvaise réponse\n"
     ]
    }
   ],
   "source": [
    "questions = [\"Combien de fois la France a gagné la coupe du monde ?\",\n",
    "             \"Quand est ce qu'a été fondé Apple ?\",\n",
    "             \"Combien de vies possède un chat ?\"]\n",
    "reponses = [\"2\",\n",
    "            \"1976\",\n",
    "            \"9\"]\n",
    "\n",
    "nb_chances = 3\n",
    "\n",
    "for i in range(0,len(questions)):\n",
    "  reponse_user = input(questions[i])\n",
    "  if reponse_user == reponses[i]:\n",
    "    print(\"Bonne Réponse\")\n",
    "  else: \n",
    "    print(\"Mauvaise réponse\")"
   ]
  },
  {
   "cell_type": "code",
   "execution_count": 0,
   "metadata": {
    "colab": {},
    "colab_type": "code",
    "id": "qj1CNw4u1xZ3"
   },
   "outputs": [],
   "source": []
  }
 ],
 "metadata": {
  "colab": {
   "collapsed_sections": [],
   "name": "Fondamentaux Python - Mini Projets SOLUTIONS S1-1B.ipynb",
   "provenance": []
  },
  "kernelspec": {
   "display_name": "Python 3",
   "language": "python",
   "name": "python3"
  },
  "language_info": {
   "codemirror_mode": {
    "name": "ipython",
    "version": 3
   },
   "file_extension": ".py",
   "mimetype": "text/x-python",
   "name": "python",
   "nbconvert_exporter": "python",
   "pygments_lexer": "ipython3",
   "version": "3.7.6"
  }
 },
 "nbformat": 4,
 "nbformat_minor": 1
}
