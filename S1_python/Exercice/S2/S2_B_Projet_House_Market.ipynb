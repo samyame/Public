{
 "cells": [
  {
   "cell_type": "markdown",
   "metadata": {},
   "source": [
    "# **House Market**\n",
    "Allons un peu plus loin dans python\n",
    "\n",
    "    1. Téléchargez les trois fichiers “superficie.csv” / “nombre_de_sdb.csv” / “nombre_de_chambres.csv”\n",
    "\n",
    "    2. Importez les trois datasets"
   ]
  },
  {
   "cell_type": "code",
   "execution_count": 148,
   "metadata": {},
   "outputs": [
    {
     "data": {
      "text/html": [
       "<div>\n",
       "<style scoped>\n",
       "    .dataframe tbody tr th:only-of-type {\n",
       "        vertical-align: middle;\n",
       "    }\n",
       "\n",
       "    .dataframe tbody tr th {\n",
       "        vertical-align: top;\n",
       "    }\n",
       "\n",
       "    .dataframe thead th {\n",
       "        text-align: right;\n",
       "    }\n",
       "</style>\n",
       "<table border=\"1\" class=\"dataframe\">\n",
       "  <thead>\n",
       "    <tr style=\"text-align: right;\">\n",
       "      <th></th>\n",
       "      <th>id</th>\n",
       "      <th>house_price</th>\n",
       "    </tr>\n",
       "  </thead>\n",
       "  <tbody>\n",
       "    <tr>\n",
       "      <td>0</td>\n",
       "      <td>14</td>\n",
       "      <td>1918154.0</td>\n",
       "    </tr>\n",
       "    <tr>\n",
       "      <td>1</td>\n",
       "      <td>30</td>\n",
       "      <td>739142.0</td>\n",
       "    </tr>\n",
       "    <tr>\n",
       "      <td>2</td>\n",
       "      <td>70</td>\n",
       "      <td>1621938.0</td>\n",
       "    </tr>\n",
       "    <tr>\n",
       "      <td>3</td>\n",
       "      <td>77</td>\n",
       "      <td>1319862.0</td>\n",
       "    </tr>\n",
       "    <tr>\n",
       "      <td>4</td>\n",
       "      <td>50</td>\n",
       "      <td>146250.0</td>\n",
       "    </tr>\n",
       "    <tr>\n",
       "      <td>...</td>\n",
       "      <td>...</td>\n",
       "      <td>...</td>\n",
       "    </tr>\n",
       "    <tr>\n",
       "      <td>95</td>\n",
       "      <td>15</td>\n",
       "      <td>157223.0</td>\n",
       "    </tr>\n",
       "    <tr>\n",
       "      <td>96</td>\n",
       "      <td>81</td>\n",
       "      <td>1616313.0</td>\n",
       "    </tr>\n",
       "    <tr>\n",
       "      <td>97</td>\n",
       "      <td>42</td>\n",
       "      <td>143573.0</td>\n",
       "    </tr>\n",
       "    <tr>\n",
       "      <td>98</td>\n",
       "      <td>19</td>\n",
       "      <td>974546.0</td>\n",
       "    </tr>\n",
       "    <tr>\n",
       "      <td>99</td>\n",
       "      <td>9</td>\n",
       "      <td>157433.0</td>\n",
       "    </tr>\n",
       "  </tbody>\n",
       "</table>\n",
       "<p>100 rows × 2 columns</p>\n",
       "</div>"
      ],
      "text/plain": [
       "    id  house_price\n",
       "0   14    1918154.0\n",
       "1   30     739142.0\n",
       "2   70    1621938.0\n",
       "3   77    1319862.0\n",
       "4   50     146250.0\n",
       "..  ..          ...\n",
       "95  15     157223.0\n",
       "96  81    1616313.0\n",
       "97  42     143573.0\n",
       "98  19     974546.0\n",
       "99   9     157433.0\n",
       "\n",
       "[100 rows x 2 columns]"
      ]
     },
     "execution_count": 148,
     "metadata": {},
     "output_type": "execute_result"
    }
   ],
   "source": [
    "import pandas as pd\n",
    "import matplotlib.pyplot as plt\n",
    "superficie = pd.read_csv('superficie.csv', header = None, index_col = 0)\n",
    "sdb = pd.read_csv('nombre_de_sdb.csv', header = None, index_col = 0)\n",
    "room = pd.read_csv('nombre_de_chambres.csv', header = None, index_col = 0)\n",
    "price = pd.read_csv('house_price.csv', header = 0, index_col = 0)"
   ]
  },
  {
   "cell_type": "markdown",
   "metadata": {},
   "source": [
    "    1. Donnez un nom de colonne à ces trois datasets"
   ]
  },
  {
   "cell_type": "code",
   "execution_count": 174,
   "metadata": {},
   "outputs": [
    {
     "data": {
      "text/html": [
       "<div>\n",
       "<style scoped>\n",
       "    .dataframe tbody tr th:only-of-type {\n",
       "        vertical-align: middle;\n",
       "    }\n",
       "\n",
       "    .dataframe tbody tr th {\n",
       "        vertical-align: top;\n",
       "    }\n",
       "\n",
       "    .dataframe thead th {\n",
       "        text-align: right;\n",
       "    }\n",
       "</style>\n",
       "<table border=\"1\" class=\"dataframe\">\n",
       "  <thead>\n",
       "    <tr style=\"text-align: right;\">\n",
       "      <th></th>\n",
       "      <th>house_price</th>\n",
       "    </tr>\n",
       "    <tr>\n",
       "      <th>id</th>\n",
       "      <th></th>\n",
       "    </tr>\n",
       "  </thead>\n",
       "  <tbody>\n",
       "    <tr>\n",
       "      <td>0</td>\n",
       "      <td>1421908.0</td>\n",
       "    </tr>\n",
       "    <tr>\n",
       "      <td>1</td>\n",
       "      <td>1305091.0</td>\n",
       "    </tr>\n",
       "    <tr>\n",
       "      <td>2</td>\n",
       "      <td>164373.0</td>\n",
       "    </tr>\n",
       "    <tr>\n",
       "      <td>3</td>\n",
       "      <td>1441714.0</td>\n",
       "    </tr>\n",
       "    <tr>\n",
       "      <td>4</td>\n",
       "      <td>108290.0</td>\n",
       "    </tr>\n",
       "    <tr>\n",
       "      <td>5</td>\n",
       "      <td>1703033.0</td>\n",
       "    </tr>\n",
       "    <tr>\n",
       "      <td>6</td>\n",
       "      <td>340284.0</td>\n",
       "    </tr>\n",
       "    <tr>\n",
       "      <td>7</td>\n",
       "      <td>1236645.0</td>\n",
       "    </tr>\n",
       "    <tr>\n",
       "      <td>8</td>\n",
       "      <td>257405.0</td>\n",
       "    </tr>\n",
       "    <tr>\n",
       "      <td>9</td>\n",
       "      <td>157433.0</td>\n",
       "    </tr>\n",
       "  </tbody>\n",
       "</table>\n",
       "</div>"
      ],
      "text/plain": [
       "    house_price\n",
       "id             \n",
       "0     1421908.0\n",
       "1     1305091.0\n",
       "2      164373.0\n",
       "3     1441714.0\n",
       "4      108290.0\n",
       "5     1703033.0\n",
       "6      340284.0\n",
       "7     1236645.0\n",
       "8      257405.0\n",
       "9      157433.0"
      ]
     },
     "execution_count": 174,
     "metadata": {},
     "output_type": "execute_result"
    }
   ],
   "source": [
    "superficie.rename(columns = {0:'id', 1:'superficie'}, inplace = True)\n",
    "sdb.rename(columns = {0:'id', 1:'nombre_de_sdb'}, inplace = True)\n",
    "room.rename(columns = {0:'id', 1:'nombre_de_chambres'}, inplace = True)\n",
    "price = price.reset_index().set_index('id')\n",
    "price = price.sort_index()"
   ]
  },
  {
   "cell_type": "markdown",
   "metadata": {},
   "source": [
    "    1. Fusionner ces quatre datasets un seul dataframe (on fera une fusion simplement par index) qu’on nommera dataset"
   ]
  },
  {
   "cell_type": "code",
   "execution_count": 175,
   "metadata": {},
   "outputs": [],
   "source": [
    "dataset = pd.concat([superficie, sdb, room, price],join = 'inner', axis = 1)"
   ]
  },
  {
   "cell_type": "markdown",
   "metadata": {},
   "source": [
    "    1. Quelle est la superficie moyenne des maisons de notre dataset ?"
   ]
  },
  {
   "cell_type": "code",
   "execution_count": 59,
   "metadata": {},
   "outputs": [
    {
     "data": {
      "text/plain": [
       "20439.77"
      ]
     },
     "execution_count": 59,
     "metadata": {},
     "output_type": "execute_result"
    }
   ],
   "source": [
    "dataset.superficie.mean()"
   ]
  },
  {
   "cell_type": "markdown",
   "metadata": {},
   "source": [
    "    1. Quelle est le nombre de chambre médian et moyen ?"
   ]
  },
  {
   "cell_type": "code",
   "execution_count": 60,
   "metadata": {},
   "outputs": [
    {
     "data": {
      "text/plain": [
       "2.0"
      ]
     },
     "execution_count": 60,
     "metadata": {},
     "output_type": "execute_result"
    }
   ],
   "source": [
    "dataset.nombre_de_chambres.mean()\n",
    "dataset.nombre_de_chambres.median()"
   ]
  },
  {
   "cell_type": "markdown",
   "metadata": {},
   "source": [
    "    1. Quel est le coût moyen d’une maison ?"
   ]
  },
  {
   "cell_type": "code",
   "execution_count": 81,
   "metadata": {},
   "outputs": [
    {
     "data": {
      "text/plain": [
       "767747.87"
      ]
     },
     "execution_count": 81,
     "metadata": {},
     "output_type": "execute_result"
    }
   ],
   "source": [
    "dataset.house_price.mean()"
   ]
  },
  {
   "cell_type": "markdown",
   "metadata": {},
   "source": [
    "    1. Quel est le coût moyen par chambre ?"
   ]
  },
  {
   "cell_type": "code",
   "execution_count": 176,
   "metadata": {},
   "outputs": [
    {
     "data": {
      "text/html": [
       "<div>\n",
       "<style scoped>\n",
       "    .dataframe tbody tr th:only-of-type {\n",
       "        vertical-align: middle;\n",
       "    }\n",
       "\n",
       "    .dataframe tbody tr th {\n",
       "        vertical-align: top;\n",
       "    }\n",
       "\n",
       "    .dataframe thead th {\n",
       "        text-align: right;\n",
       "    }\n",
       "</style>\n",
       "<table border=\"1\" class=\"dataframe\">\n",
       "  <thead>\n",
       "    <tr style=\"text-align: right;\">\n",
       "      <th></th>\n",
       "      <th>superficie</th>\n",
       "      <th>nombre_de_sdb</th>\n",
       "      <th>house_price</th>\n",
       "    </tr>\n",
       "    <tr>\n",
       "      <th>nombre_de_chambres</th>\n",
       "      <th></th>\n",
       "      <th></th>\n",
       "      <th></th>\n",
       "    </tr>\n",
       "  </thead>\n",
       "  <tbody>\n",
       "    <tr>\n",
       "      <td>1</td>\n",
       "      <td>22798.695652</td>\n",
       "      <td>1.869565</td>\n",
       "      <td>980774.869565</td>\n",
       "    </tr>\n",
       "    <tr>\n",
       "      <td>2</td>\n",
       "      <td>19001.483871</td>\n",
       "      <td>2.000000</td>\n",
       "      <td>642086.258065</td>\n",
       "    </tr>\n",
       "    <tr>\n",
       "      <td>3</td>\n",
       "      <td>19538.037037</td>\n",
       "      <td>2.037037</td>\n",
       "      <td>645904.592593</td>\n",
       "    </tr>\n",
       "    <tr>\n",
       "      <td>4</td>\n",
       "      <td>21212.315789</td>\n",
       "      <td>1.894737</td>\n",
       "      <td>888045.631579</td>\n",
       "    </tr>\n",
       "  </tbody>\n",
       "</table>\n",
       "</div>"
      ],
      "text/plain": [
       "                      superficie  nombre_de_sdb    house_price\n",
       "nombre_de_chambres                                            \n",
       "1                   22798.695652       1.869565  980774.869565\n",
       "2                   19001.483871       2.000000  642086.258065\n",
       "3                   19538.037037       2.037037  645904.592593\n",
       "4                   21212.315789       1.894737  888045.631579"
      ]
     },
     "execution_count": 176,
     "metadata": {},
     "output_type": "execute_result"
    }
   ],
   "source": [
    "chb = dataset.groupby(['nombre_de_chambres']).mean()\n",
    "chb"
   ]
  },
  {
   "cell_type": "markdown",
   "metadata": {},
   "source": [
    "    1. Le coût moyen par chambre ne nous apprend pas grand chose.Tentons de faire des catégories de superficie\n",
    "\n",
    "    Créez une nouvelle colonne dans votre dataset qu’on appellera taille_maison Créez trois catégories qui respectivement correspondront à :\n",
    "\n",
    "        “très grande” == “une maison dont la taille est supérieure à 25 000 sqrt_feet”\n",
    "\n",
    "        “grande” == “une maison dont la taille est comprise entre 20 000 et 25 000 sqrt_feet”\n",
    "\n",
    "        “moyenne” == “une maison dont la taille est comprise entre 15 000 et 20 000 sqrt_feet”\n",
    "\n",
    "        \"petite\" == \"une maison dont la taille est comprise entre 10 000 et 15 000 sqrt_feet”\n",
    "\n",
    "        \"très petite\" == une maison dont la taille est inférieure à 10 000 sqrt_feet”\n",
    "\n",
    "Remplissez les lignes correspondantes dans la colonne taille_maison"
   ]
  },
  {
   "cell_type": "code",
   "execution_count": 189,
   "metadata": {},
   "outputs": [
    {
     "name": "stderr",
     "output_type": "stream",
     "text": [
      "C:\\Users\\XPS\\Anaconda3\\lib\\site-packages\\pandas\\core\\indexing.py:205: SettingWithCopyWarning: \n",
      "A value is trying to be set on a copy of a slice from a DataFrame\n",
      "\n",
      "See the caveats in the documentation: http://pandas.pydata.org/pandas-docs/stable/user_guide/indexing.html#returning-a-view-versus-a-copy\n",
      "  self._setitem_with_indexer(indexer, value)\n"
     ]
    }
   ],
   "source": [
    "dataset['taille_maison'] = 0\n",
    "dataset['taille_maison'].loc[dataset.superficie > 25000] = '5 trés grande'\n",
    "dataset['taille_maison'].loc[(dataset.superficie <= 25000) & (dataset.superficie > 20000)] = '4 grande'\n",
    "dataset['taille_maison'].loc[(dataset.superficie <= 20000) & (dataset.superficie > 15000)] = '3 moyenne'\n",
    "dataset['taille_maison'].loc[(dataset.superficie <= 15000) & (dataset.superficie >= 10000)] = '2 petite'\n",
    "dataset['taille_maison'].loc[dataset.superficie < 10000] = '1 trés petite'"
   ]
  },
  {
   "cell_type": "markdown",
   "metadata": {},
   "source": [
    "    1. Quel est le coût moyen d’une maison en fonction de sa catégorie de superficie ?"
   ]
  },
  {
   "cell_type": "code",
   "execution_count": 190,
   "metadata": {
    "scrolled": true
   },
   "outputs": [
    {
     "data": {
      "text/html": [
       "<div>\n",
       "<style scoped>\n",
       "    .dataframe tbody tr th:only-of-type {\n",
       "        vertical-align: middle;\n",
       "    }\n",
       "\n",
       "    .dataframe tbody tr th {\n",
       "        vertical-align: top;\n",
       "    }\n",
       "\n",
       "    .dataframe thead th {\n",
       "        text-align: right;\n",
       "    }\n",
       "</style>\n",
       "<table border=\"1\" class=\"dataframe\">\n",
       "  <thead>\n",
       "    <tr style=\"text-align: right;\">\n",
       "      <th></th>\n",
       "      <th>superficie</th>\n",
       "      <th>house_price</th>\n",
       "    </tr>\n",
       "    <tr>\n",
       "      <th>taille_maison</th>\n",
       "      <th></th>\n",
       "      <th></th>\n",
       "    </tr>\n",
       "  </thead>\n",
       "  <tbody>\n",
       "    <tr>\n",
       "      <td>2 petite</td>\n",
       "      <td>26</td>\n",
       "      <td>156138.69</td>\n",
       "    </tr>\n",
       "    <tr>\n",
       "      <td>3 moyenne</td>\n",
       "      <td>19</td>\n",
       "      <td>325694.79</td>\n",
       "    </tr>\n",
       "    <tr>\n",
       "      <td>4 grande</td>\n",
       "      <td>23</td>\n",
       "      <td>732538.52</td>\n",
       "    </tr>\n",
       "    <tr>\n",
       "      <td>5 trés grande</td>\n",
       "      <td>32</td>\n",
       "      <td>1552456.06</td>\n",
       "    </tr>\n",
       "  </tbody>\n",
       "</table>\n",
       "</div>"
      ],
      "text/plain": [
       "               superficie  house_price\n",
       "taille_maison                         \n",
       "2 petite               26    156138.69\n",
       "3 moyenne              19    325694.79\n",
       "4 grande               23    732538.52\n",
       "5 trés grande          32   1552456.06"
      ]
     },
     "execution_count": 190,
     "metadata": {},
     "output_type": "execute_result"
    }
   ],
   "source": [
    "round(dataset.groupby(['taille_maison']).agg({'superficie': \"count\", 'house_price': \"mean\"}).sort_values(by = 'house_price'),2)"
   ]
  },
  {
   "cell_type": "code",
   "execution_count": 191,
   "metadata": {
    "scrolled": true
   },
   "outputs": [
    {
     "data": {
      "image/png": "[encoded data removed]",
      "text/plain": [
       "<Figure size 432x288 with 1 Axes>"
      ]
     },
     "metadata": {
      "needs_background": "light"
     },
     "output_type": "display_data"
    }
   ],
   "source": [
    "dataset.sort_values(by = 'superficie')\n",
    "dataset.boxplot(column=[\"house_price\"], by=\"taille_maison\")\n",
    "plt.show()"
   ]
  },
  {
   "cell_type": "code",
   "execution_count": 183,
   "metadata": {},
   "outputs": [
    {
     "data": {
      "text/plain": [
       "<seaborn.axisgrid.FacetGrid at 0x1db0892f708>"
      ]
     },
     "execution_count": 183,
     "metadata": {},
     "output_type": "execute_result"
    },
    {
     "data": {
      "image/png": "[encoded data removed]",
      "text/plain": [
       "<Figure size 360x360 with 1 Axes>"
      ]
     },
     "metadata": {
      "needs_background": "light"
     },
     "output_type": "display_data"
    }
   ],
   "source": [
    "import seaborn as sns\n",
    "sns.lmplot(x = \"superficie\", y=\"house_price\", data = dataset)"
   ]
  }
 ],
 "metadata": {
  "kernelspec": {
   "display_name": "Python 3",
   "language": "python",
   "name": "python3"
  },
  "language_info": {
   "codemirror_mode": {
    "name": "ipython",
    "version": 3
   },
   "file_extension": ".py",
   "mimetype": "text/x-python",
   "name": "python",
   "nbconvert_exporter": "python",
   "pygments_lexer": "ipython3",
   "version": "3.7.4"
  }
 },
 "nbformat": 4,
 "nbformat_minor": 2
}
