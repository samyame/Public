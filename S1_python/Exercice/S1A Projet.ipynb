{
 "cells": [
  {
   "cell_type": "markdown",
   "metadata": {},
   "source": [
    "1. Changez votre quiz pour qu’il inclue des boucles FOR plutôt que des boucles WHILE"
   ]
  },
  {
   "cell_type": "code",
   "execution_count": 2,
   "metadata": {
    "scrolled": false
   },
   "outputs": [
    {
     "name": "stdout",
     "output_type": "stream",
     "text": [
      "Quel est le nom du président?macron\n",
      "Bravo, c’est la bonne réponse\n",
      "Quel est la capitale du pays?paris\n",
      "Bravo, c’est la bonne réponse\n",
      "En quelle année sommes-nous?2\n",
      "Il vous reste 2 tentatives\n",
      "En quelle année sommes-nous?2\n",
      "Il vous reste 1 tentatives\n",
      "En quelle année sommes-nous?2\n",
      "Dommage tu as perdu le jeu\n"
     ]
    }
   ],
   "source": [
    "question1 = input('Quel est le nom du président?')\n",
    "\n",
    "\n",
    "if question1.capitalize() == 'Macron':\n",
    "    print('Bravo, c’est la bonne réponse')\n",
    "else:\n",
    "    for j in range(2):\n",
    "        if question1.capitalize() != 'Macron':\n",
    "            print(\"Il vous reste {} tentative(s)\".format(2-j))\n",
    "            question1 = input('Quel est le nom du président?')\n",
    "            if question1.capitalize() == 'Macron':\n",
    "                print('Bravo, c’est la bonne réponse')\n",
    "    \n",
    "if question1.capitalize() != 'Macron':\n",
    "    print(\"Dommage tu as perdu le jeu\")\n",
    "else:        \n",
    "    question2 = input('Quel est la capitale du pays?')\n",
    "    \n",
    "    if question2.capitalize() == 'Paris':\n",
    "        print('Bravo, c’est la bonne réponse')\n",
    "    else:\n",
    "        for j in range(2):\n",
    "            if question2.capitalize() != 'Paris':\n",
    "                print(\"Il vous reste {} tentatives\".format(2-j))\n",
    "                question2 = input('Quel est la capitale du pays?')\n",
    "                if question2.capitalize() == 'Paris':\n",
    "                    print('Bravo, c’est la bonne réponse')\n",
    "    \n",
    "    if question2.capitalize() != 'Paris':\n",
    "        print(\"Dommage tu as perdu le jeu\")\n",
    "    else: \n",
    "        question3 = input('En quelle année sommes-nous?')\n",
    "        \n",
    "        if int(question3) == 2020:\n",
    "            print('Bravo, c’est la bonne réponse')\n",
    "            print('Bravo, tu as gagné le quiz!')\n",
    "        else:\n",
    "            for j in range(2):\n",
    "                if int(question3) != 2020:\n",
    "                    print(\"Il vous reste {} tentatives\".format(2-j))\n",
    "                    question3 = input('En quelle année sommes-nous?')\n",
    "                    if int(question3) == 2020:\n",
    "                        print('Bravo, c’est la bonne réponse')\n",
    "                        print('Bravo, tu as gagné le quiz!')\n",
    "        if int(question3) != 2020:\n",
    "            print(\"Dommage tu as perdu le jeu\")"
   ]
  },
  {
   "cell_type": "markdown",
   "metadata": {},
   "source": [
    "1. Vous devrez compter le nombre de bonne réponses\n",
    "2. Vous devrez compter le nombre de mauvaises réponses\n",
    "3. A la fin du quiz, vous devrez afficher le nombre de bonnes réponses et le nombre de mauvaises réponses\n",
    "4. Si l’utilisateur le souhaite, vous devrez afficher les réponses pour les questions auxquelles il n’a pas eu juste"
   ]
  },
  {
   "cell_type": "code",
   "execution_count": 3,
   "metadata": {},
   "outputs": [
    {
     "name": "stdout",
     "output_type": "stream",
     "text": [
      "Quel est le nom du président?macron\n",
      "Quel est la capitale du pays?paris\n",
      "En quelle année sommes-nous?0\n",
      "Score: 2\n",
      "Voulez-vous voir vos mauvaises réponses? o/no\n",
      "les mauvaises réponses sont les questions [3]\n",
      "la réponse à la quéstion 3 était 2020\n"
     ]
    }
   ],
   "source": [
    "bon = []\n",
    "mov = []\n",
    "rep = {1 : 'Macron', 2 : 'Paris', 3 : 2020}\n",
    "question1 = input('Quel est le nom du président?')\n",
    "\n",
    "\n",
    "if question1.capitalize() == 'Macron':\n",
    "    bon.append(1)\n",
    "else:\n",
    "    mov.append(1)\n",
    "    \n",
    "question2 = input('Quel est la capitale du pays?')\n",
    "    \n",
    "if question2.capitalize() == 'Paris':\n",
    "    bon.append(2)\n",
    "else:\n",
    "    mov.append(2)\n",
    "    \n",
    "question3 = input('En quelle année sommes-nous?')\n",
    "        \n",
    "if int(question3) == 2020:\n",
    "    bon.append(3)\n",
    "else:\n",
    "    mov.append(3)\n",
    "\n",
    "print(\"Score: {}\".format(len(bon)))\n",
    "\n",
    "if len(bon) < 3:\n",
    "    accord = input('Voulez-vous voir vos mauvaises réponses? o/n')\n",
    "    if accord.capitalize() == \"O\":\n",
    "            print(\"les mauvaises réponses sont les questions {}\".format(mov))\n",
    "            for i in mov:\n",
    "                print(\"la réponse à la quéstion {} était {}\".format(i, rep[i]))\n",
    " \n",
    "\n"
   ]
  }
 ],
 "metadata": {
  "kernelspec": {
   "display_name": "Python 3",
   "language": "python",
   "name": "python3"
  },
  "language_info": {
   "codemirror_mode": {
    "name": "ipython",
    "version": 3
   },
   "file_extension": ".py",
   "mimetype": "text/x-python",
   "name": "python",
   "nbconvert_exporter": "python",
   "pygments_lexer": "ipython3",
   "version": "3.7.4"
  }
 },
 "nbformat": 4,
 "nbformat_minor": 2
}
