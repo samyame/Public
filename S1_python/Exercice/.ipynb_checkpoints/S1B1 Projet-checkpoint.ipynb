{
 "cells": [
  {
   "cell_type": "markdown",
   "metadata": {},
   "source": [
    "Combien vous rapporte votre livret A ?\n",
    "Il parait que si Christophe Colomb avait mis 1€ de côté qu’il avait laissé à 2% d’intérêt par an, aujourd’hui ses héritiers n’auraient plus besoin de travailler pour vivre leur vie. Essayons de calculer la même chose pour notre livret A.\n",
    "\n",
    "   1Créons donc une fonction qui va nous permettre de savoir combien d’argent un utilisateur aura au total au bout d’un certain nombre d’années\n",
    "\n",
    "   2L’utilisateur devra pouvoir appeler la fonction qui ensuite lui demandera :\n",
    "\n",
    "    La somme totale qu’il souhaite placer\n",
    "    Le nombre d’années pendant lesquelles il souhaite placer son argent\n",
    "    Le taux d’intérêt auquel il a droit\n",
    "    \n",
    "   3Faite attention aux erreurs que peut rentrer l’utilisateur\n",
    "\n",
    "    S’il entre une chaîne de caractères plutôt qu’un nombre, une erreur devra ressortir\n",
    "    Si l’utilisateur met des chiffres négatifs, une erreur devra, de même, sortir\n",
    "    Enfin, il est très probable que l’utilisateur écrive le taux d’intérêt en pourcentage (ex: 10%). Levez une erreur si tel est le cas pour le prévenir de mettre un nombre décimal\n",
    "   4Pour terminer, le programme devra ressortir qu’un chiffre avec au maximum deux chiffres après la virgule."
   ]
  },
  {
   "cell_type": "code",
   "execution_count": 58,
   "metadata": {},
   "outputs": [],
   "source": [
    "def livret():\n",
    "    try:\n",
    "        somme_pl = float(input(\"Somme à placer\"))\n",
    "        nb_an = int(input(\"Nombres d'années\"))\n",
    "        tx_i = float(input(\"Taux d'intérêt (entre 0 et 100)\"))\n",
    "        while somme_pl < 0 or nb_an < 0 or tx_i < 0:\n",
    "            print('Veuillez entrer un nombre positif')\n",
    "            somme_pl = float(input(\"Somme à placer\"))\n",
    "            nb_an = int(input(\"Nombres d'années\"))\n",
    "            tx_i = float(input(\"Taux d'intérêt (entre 0 et 100)\"))\n",
    "        \n",
    "        somme_finale = somme_pl\n",
    "        for i in range(nb_an):\n",
    "            somme_finale =+ somme_finale*(1+tx_i/100)\n",
    "        return print('La somme totale dont vous disposerez après avoir déposé {}€ au bout de {} ans sera de {}€'.format(round(somme_pl,2), nb_an, round(somme_finale,2)))\n",
    "    \n",
    "    except ValueError :\n",
    "        print(\"Veuillez indiqué uniquement des nombres entiers et non des lettres ou caracteres\")\n",
    "    except TypeError :\n",
    "        print(\"Veuillez indiqué uniquement des nombres entiers et non des lettres ou caracteres spéciaux\")\n",
    "    "
   ]
  },
  {
   "cell_type": "code",
   "execution_count": 61,
   "metadata": {},
   "outputs": [
    {
     "name": "stdout",
     "output_type": "stream",
     "text": [
      "Somme à placer15000\n",
      "Nombres d'années20\n",
      "Taux d'intérêt (entre 0 et 100)3\n",
      "La somme totale dont vous disposerez après avoir déposé 15000.0€ au bout de 20 ans sera de 27091.67€\n"
     ]
    }
   ],
   "source": [
    "livret()"
   ]
  }
 ],
 "metadata": {
  "kernelspec": {
   "display_name": "Python 3",
   "language": "python",
   "name": "python3"
  },
  "language_info": {
   "codemirror_mode": {
    "name": "ipython",
    "version": 3
   },
   "file_extension": ".py",
   "mimetype": "text/x-python",
   "name": "python",
   "nbconvert_exporter": "python",
   "pygments_lexer": "ipython3",
   "version": "3.7.4"
  }
 },
 "nbformat": 4,
 "nbformat_minor": 2
}
