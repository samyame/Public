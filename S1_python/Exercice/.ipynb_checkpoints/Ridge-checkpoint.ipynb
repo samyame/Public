{
 "cells": [
  {
   "cell_type": "code",
   "execution_count": 2,
   "metadata": {},
   "outputs": [],
   "source": [
    "import pandas as pd\n",
    "import matplotlib.pyplot as plt\n",
    "import numpy as np"
   ]
  },
  {
   "cell_type": "code",
   "execution_count": 132,
   "metadata": {},
   "outputs": [],
   "source": [
    "from sklearn.datasets import load_boston\n",
    "boston=load_boston()\n",
    "boston_df=pd.DataFrame(boston.data,columns=boston.feature_names)"
   ]
  },
  {
   "cell_type": "code",
   "execution_count": 133,
   "metadata": {},
   "outputs": [],
   "source": [
    "boston_df2 = pd.DataFrame({'price':boston.target})"
   ]
  },
  {
   "cell_type": "code",
   "execution_count": 51,
   "metadata": {
    "scrolled": true
   },
   "outputs": [
    {
     "data": {
      "text/html": [
       "<div>\n",
       "<style scoped>\n",
       "    .dataframe tbody tr th:only-of-type {\n",
       "        vertical-align: middle;\n",
       "    }\n",
       "\n",
       "    .dataframe tbody tr th {\n",
       "        vertical-align: top;\n",
       "    }\n",
       "\n",
       "    .dataframe thead th {\n",
       "        text-align: right;\n",
       "    }\n",
       "</style>\n",
       "<table border=\"1\" class=\"dataframe\">\n",
       "  <thead>\n",
       "    <tr style=\"text-align: right;\">\n",
       "      <th></th>\n",
       "      <th>price</th>\n",
       "    </tr>\n",
       "  </thead>\n",
       "  <tbody>\n",
       "    <tr>\n",
       "      <th>0</th>\n",
       "      <td>24.0</td>\n",
       "    </tr>\n",
       "    <tr>\n",
       "      <th>1</th>\n",
       "      <td>21.6</td>\n",
       "    </tr>\n",
       "    <tr>\n",
       "      <th>2</th>\n",
       "      <td>34.7</td>\n",
       "    </tr>\n",
       "    <tr>\n",
       "      <th>3</th>\n",
       "      <td>33.4</td>\n",
       "    </tr>\n",
       "    <tr>\n",
       "      <th>4</th>\n",
       "      <td>36.2</td>\n",
       "    </tr>\n",
       "    <tr>\n",
       "      <th>...</th>\n",
       "      <td>...</td>\n",
       "    </tr>\n",
       "    <tr>\n",
       "      <th>501</th>\n",
       "      <td>22.4</td>\n",
       "    </tr>\n",
       "    <tr>\n",
       "      <th>502</th>\n",
       "      <td>20.6</td>\n",
       "    </tr>\n",
       "    <tr>\n",
       "      <th>503</th>\n",
       "      <td>23.9</td>\n",
       "    </tr>\n",
       "    <tr>\n",
       "      <th>504</th>\n",
       "      <td>22.0</td>\n",
       "    </tr>\n",
       "    <tr>\n",
       "      <th>505</th>\n",
       "      <td>11.9</td>\n",
       "    </tr>\n",
       "  </tbody>\n",
       "</table>\n",
       "<p>506 rows × 1 columns</p>\n",
       "</div>"
      ],
      "text/plain": [
       "     price\n",
       "0     24.0\n",
       "1     21.6\n",
       "2     34.7\n",
       "3     33.4\n",
       "4     36.2\n",
       "..     ...\n",
       "501   22.4\n",
       "502   20.6\n",
       "503   23.9\n",
       "504   22.0\n",
       "505   11.9\n",
       "\n",
       "[506 rows x 1 columns]"
      ]
     },
     "execution_count": 51,
     "metadata": {},
     "output_type": "execute_result"
    }
   ],
   "source": [
    "boston_df2"
   ]
  },
  {
   "cell_type": "code",
   "execution_count": 134,
   "metadata": {},
   "outputs": [],
   "source": [
    "from sklearn.model_selection import train_test_split\n",
    "\n",
    "X_train, X_test, Y_train, Y_test = train_test_split(boston_df, boston_df2, test_size = 0.3)"
   ]
  },
  {
   "cell_type": "code",
   "execution_count": 135,
   "metadata": {},
   "outputs": [],
   "source": [
    "from sklearn.preprocessing import StandardScaler\n",
    "sc_x = StandardScaler()\n",
    "X_train = sc_x.fit_transform(X_train)\n",
    "X_test = sc_x.transform(X_test)"
   ]
  },
  {
   "cell_type": "code",
   "execution_count": 136,
   "metadata": {},
   "outputs": [
    {
     "data": {
      "text/plain": [
       "Ridge(alpha=100, copy_X=True, fit_intercept=True, max_iter=None,\n",
       "      normalize=False, random_state=None, solver='auto', tol=0.001)"
      ]
     },
     "execution_count": 136,
     "metadata": {},
     "output_type": "execute_result"
    }
   ],
   "source": [
    "from sklearn.linear_model import LinearRegression\n",
    "from sklearn.linear_model import Ridge\n",
    "\n",
    "reg = LinearRegression()\n",
    "reg.fit(X_train,Y_train)\n",
    "\n",
    "rr = Ridge(alpha = 0.01)\n",
    "rr.fit(X_train,Y_train)\n",
    "\n",
    "rr2 = Ridge(alpha = 100)\n",
    "rr2.fit(X_train,Y_train)"
   ]
  },
  {
   "cell_type": "code",
   "execution_count": 137,
   "metadata": {},
   "outputs": [
    {
     "name": "stdout",
     "output_type": "stream",
     "text": [
      "Linear Regression score :0.6400139264227034\n"
     ]
    }
   ],
   "source": [
    "regs = reg.score(X_train,Y_train)\n",
    "\n",
    "regt = reg.score(X_test,Y_test)\n",
    "\n",
    "print('Linear Regression score :{}'.format(regt))"
   ]
  },
  {
   "cell_type": "code",
   "execution_count": 138,
   "metadata": {},
   "outputs": [
    {
     "name": "stdout",
     "output_type": "stream",
     "text": [
      "Ridge with small Alpha score :0.6400114426602864\n"
     ]
    }
   ],
   "source": [
    "rrs = rr.score(X_train,Y_train)\n",
    "\n",
    "rrt = rr.score(X_test,Y_test)\n",
    "\n",
    "print('Ridge with small Alpha score :{}'.format(rrt))"
   ]
  },
  {
   "cell_type": "code",
   "execution_count": 139,
   "metadata": {},
   "outputs": [
    {
     "name": "stdout",
     "output_type": "stream",
     "text": [
      "Ridge with large Alpha score :0.6051918669732663\n"
     ]
    }
   ],
   "source": [
    "rr2s = rr2.score(X_train,Y_train)\n",
    "\n",
    "rr2t = rr2.score(X_test,Y_test)\n",
    "\n",
    "print('Ridge with large Alpha score :{}'.format(rr2t))"
   ]
  },
  {
   "cell_type": "code",
   "execution_count": 140,
   "metadata": {},
   "outputs": [],
   "source": [
    "data = pd.DataFrame({'features':list(boston_df.columns),'reg':reg.coef_[0],'reg_abs':np.abs(reg.coef_[0]), 'small_ridge': rr.coef_[0],'small_ridge_abs': np.abs(rr.coef_[0]), 'large_ridge': rr2.coef_[0], 'large_ridge_abs': np.abs(rr2.coef_[0])})"
   ]
  },
  {
   "cell_type": "code",
   "execution_count": 143,
   "metadata": {},
   "outputs": [
    {
     "data": {
      "text/html": [
       "<div>\n",
       "<style scoped>\n",
       "    .dataframe tbody tr th:only-of-type {\n",
       "        vertical-align: middle;\n",
       "    }\n",
       "\n",
       "    .dataframe tbody tr th {\n",
       "        vertical-align: top;\n",
       "    }\n",
       "\n",
       "    .dataframe thead th {\n",
       "        text-align: right;\n",
       "    }\n",
       "</style>\n",
       "<table border=\"1\" class=\"dataframe\">\n",
       "  <thead>\n",
       "    <tr style=\"text-align: right;\">\n",
       "      <th></th>\n",
       "      <th>features</th>\n",
       "      <th>reg</th>\n",
       "      <th>reg_abs</th>\n",
       "      <th>small_ridge</th>\n",
       "      <th>small_ridge_abs</th>\n",
       "      <th>large_ridge</th>\n",
       "      <th>large_ridge_abs</th>\n",
       "    </tr>\n",
       "  </thead>\n",
       "  <tbody>\n",
       "    <tr>\n",
       "      <th>0</th>\n",
       "      <td>CRIM</td>\n",
       "      <td>-1.038432</td>\n",
       "      <td>1.038432</td>\n",
       "      <td>-1.038321</td>\n",
       "      <td>1.038321</td>\n",
       "      <td>-0.728946</td>\n",
       "      <td>0.728946</td>\n",
       "    </tr>\n",
       "    <tr>\n",
       "      <th>1</th>\n",
       "      <td>ZN</td>\n",
       "      <td>0.687989</td>\n",
       "      <td>0.687989</td>\n",
       "      <td>0.687810</td>\n",
       "      <td>0.687810</td>\n",
       "      <td>0.362145</td>\n",
       "      <td>0.362145</td>\n",
       "    </tr>\n",
       "    <tr>\n",
       "      <th>2</th>\n",
       "      <td>INDUS</td>\n",
       "      <td>0.386819</td>\n",
       "      <td>0.386819</td>\n",
       "      <td>0.386431</td>\n",
       "      <td>0.386431</td>\n",
       "      <td>-0.340997</td>\n",
       "      <td>0.340997</td>\n",
       "    </tr>\n",
       "    <tr>\n",
       "      <th>3</th>\n",
       "      <td>CHAS</td>\n",
       "      <td>0.814593</td>\n",
       "      <td>0.814593</td>\n",
       "      <td>0.814631</td>\n",
       "      <td>0.814631</td>\n",
       "      <td>0.825984</td>\n",
       "      <td>0.825984</td>\n",
       "    </tr>\n",
       "    <tr>\n",
       "      <th>4</th>\n",
       "      <td>NOX</td>\n",
       "      <td>-2.389311</td>\n",
       "      <td>2.389311</td>\n",
       "      <td>-2.388839</td>\n",
       "      <td>2.388839</td>\n",
       "      <td>-0.897070</td>\n",
       "      <td>0.897070</td>\n",
       "    </tr>\n",
       "    <tr>\n",
       "      <th>5</th>\n",
       "      <td>RM</td>\n",
       "      <td>3.104389</td>\n",
       "      <td>3.104389</td>\n",
       "      <td>3.104491</td>\n",
       "      <td>3.104491</td>\n",
       "      <td>2.955117</td>\n",
       "      <td>2.955117</td>\n",
       "    </tr>\n",
       "    <tr>\n",
       "      <th>6</th>\n",
       "      <td>AGE</td>\n",
       "      <td>-0.061283</td>\n",
       "      <td>0.061283</td>\n",
       "      <td>-0.061399</td>\n",
       "      <td>0.061399</td>\n",
       "      <td>-0.237985</td>\n",
       "      <td>0.237985</td>\n",
       "    </tr>\n",
       "    <tr>\n",
       "      <th>7</th>\n",
       "      <td>DIS</td>\n",
       "      <td>-2.820179</td>\n",
       "      <td>2.820179</td>\n",
       "      <td>-2.819835</td>\n",
       "      <td>2.819835</td>\n",
       "      <td>-1.264722</td>\n",
       "      <td>1.264722</td>\n",
       "    </tr>\n",
       "    <tr>\n",
       "      <th>8</th>\n",
       "      <td>RAD</td>\n",
       "      <td>2.435373</td>\n",
       "      <td>2.435373</td>\n",
       "      <td>2.434383</td>\n",
       "      <td>2.434383</td>\n",
       "      <td>0.417187</td>\n",
       "      <td>0.417187</td>\n",
       "    </tr>\n",
       "    <tr>\n",
       "      <th>9</th>\n",
       "      <td>TAX</td>\n",
       "      <td>-1.910660</td>\n",
       "      <td>1.910660</td>\n",
       "      <td>-1.909732</td>\n",
       "      <td>1.909732</td>\n",
       "      <td>-0.559306</td>\n",
       "      <td>0.559306</td>\n",
       "    </tr>\n",
       "    <tr>\n",
       "      <th>10</th>\n",
       "      <td>PTRATIO</td>\n",
       "      <td>-2.388685</td>\n",
       "      <td>2.388685</td>\n",
       "      <td>-2.388544</td>\n",
       "      <td>2.388544</td>\n",
       "      <td>-1.794049</td>\n",
       "      <td>1.794049</td>\n",
       "    </tr>\n",
       "    <tr>\n",
       "      <th>11</th>\n",
       "      <td>B</td>\n",
       "      <td>0.775479</td>\n",
       "      <td>0.775479</td>\n",
       "      <td>0.775480</td>\n",
       "      <td>0.775480</td>\n",
       "      <td>0.697589</td>\n",
       "      <td>0.697589</td>\n",
       "    </tr>\n",
       "    <tr>\n",
       "      <th>12</th>\n",
       "      <td>LSTAT</td>\n",
       "      <td>-3.394843</td>\n",
       "      <td>3.394843</td>\n",
       "      <td>-3.394692</td>\n",
       "      <td>3.394692</td>\n",
       "      <td>-2.603992</td>\n",
       "      <td>2.603992</td>\n",
       "    </tr>\n",
       "  </tbody>\n",
       "</table>\n",
       "</div>"
      ],
      "text/plain": [
       "   features       reg   reg_abs  small_ridge  small_ridge_abs  large_ridge  \\\n",
       "0      CRIM -1.038432  1.038432    -1.038321         1.038321    -0.728946   \n",
       "1        ZN  0.687989  0.687989     0.687810         0.687810     0.362145   \n",
       "2     INDUS  0.386819  0.386819     0.386431         0.386431    -0.340997   \n",
       "3      CHAS  0.814593  0.814593     0.814631         0.814631     0.825984   \n",
       "4       NOX -2.389311  2.389311    -2.388839         2.388839    -0.897070   \n",
       "5        RM  3.104389  3.104389     3.104491         3.104491     2.955117   \n",
       "6       AGE -0.061283  0.061283    -0.061399         0.061399    -0.237985   \n",
       "7       DIS -2.820179  2.820179    -2.819835         2.819835    -1.264722   \n",
       "8       RAD  2.435373  2.435373     2.434383         2.434383     0.417187   \n",
       "9       TAX -1.910660  1.910660    -1.909732         1.909732    -0.559306   \n",
       "10  PTRATIO -2.388685  2.388685    -2.388544         2.388544    -1.794049   \n",
       "11        B  0.775479  0.775479     0.775480         0.775480     0.697589   \n",
       "12    LSTAT -3.394843  3.394843    -3.394692         3.394692    -2.603992   \n",
       "\n",
       "    large_ridge_abs  \n",
       "0          0.728946  \n",
       "1          0.362145  \n",
       "2          0.340997  \n",
       "3          0.825984  \n",
       "4          0.897070  \n",
       "5          2.955117  \n",
       "6          0.237985  \n",
       "7          1.264722  \n",
       "8          0.417187  \n",
       "9          0.559306  \n",
       "10         1.794049  \n",
       "11         0.697589  \n",
       "12         2.603992  "
      ]
     },
     "execution_count": 143,
     "metadata": {},
     "output_type": "execute_result"
    }
   ],
   "source": [
    "data"
   ]
  },
  {
   "cell_type": "code",
   "execution_count": 142,
   "metadata": {},
   "outputs": [
    {
     "data": {
      "image/png": "[encoded data removed]",
      "text/plain": [
       "<Figure size 432x288 with 1 Axes>"
      ]
     },
     "metadata": {
      "needs_background": "light"
     },
     "output_type": "display_data"
    }
   ],
   "source": [
    "import seaborn as sns\n",
    "\n",
    "sns.lineplot(x = 'features', y = 'reg', data = data)\n",
    "sns.lineplot(x = 'features', y = 'small_ridge', data = data)\n",
    "sns.lineplot(x = 'features', y = 'large_ridge', data = data)\n",
    "plt.show()\n"
   ]
  }
 ],
 "metadata": {
  "kernelspec": {
   "display_name": "Python 3",
   "language": "python",
   "name": "python3"
  },
  "language_info": {
   "codemirror_mode": {
    "name": "ipython",
    "version": 3
   },
   "file_extension": ".py",
   "mimetype": "text/x-python",
   "name": "python",
   "nbconvert_exporter": "python",
   "pygments_lexer": "ipython3",
   "version": "3.7.6"
  }
 },
 "nbformat": 4,
 "nbformat_minor": 4
}
