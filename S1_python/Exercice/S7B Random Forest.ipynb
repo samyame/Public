{
 "cells": [
  {
   "cell_type": "code",
   "execution_count": 1,
   "metadata": {},
   "outputs": [],
   "source": [
    "import pandas as pd\n",
    "import numpy as np\n",
    "import seaborn as sns\n",
    "import matplotlib.pyplot as plt"
   ]
  },
  {
   "cell_type": "code",
   "execution_count": 16,
   "metadata": {},
   "outputs": [],
   "source": [
    "df = pd.read_csv('Admission_Predict_Ver1.1.csv', header = 0)"
   ]
  },
  {
   "cell_type": "code",
   "execution_count": 28,
   "metadata": {},
   "outputs": [
    {
     "data": {
      "text/html": [
       "<div>\n",
       "<style scoped>\n",
       "    .dataframe tbody tr th:only-of-type {\n",
       "        vertical-align: middle;\n",
       "    }\n",
       "\n",
       "    .dataframe tbody tr th {\n",
       "        vertical-align: top;\n",
       "    }\n",
       "\n",
       "    .dataframe thead th {\n",
       "        text-align: right;\n",
       "    }\n",
       "</style>\n",
       "<table border=\"1\" class=\"dataframe\">\n",
       "  <thead>\n",
       "    <tr style=\"text-align: right;\">\n",
       "      <th></th>\n",
       "      <th>Serial No.</th>\n",
       "      <th>GRE Score</th>\n",
       "      <th>TOEFL Score</th>\n",
       "      <th>University Rating</th>\n",
       "      <th>SOP</th>\n",
       "      <th>LOR</th>\n",
       "      <th>CGPA</th>\n",
       "      <th>Research</th>\n",
       "      <th>Chance of Admit</th>\n",
       "    </tr>\n",
       "  </thead>\n",
       "  <tbody>\n",
       "    <tr>\n",
       "      <th>0</th>\n",
       "      <td>1</td>\n",
       "      <td>337</td>\n",
       "      <td>118</td>\n",
       "      <td>4</td>\n",
       "      <td>4.5</td>\n",
       "      <td>4.5</td>\n",
       "      <td>9.65</td>\n",
       "      <td>1</td>\n",
       "      <td>1</td>\n",
       "    </tr>\n",
       "    <tr>\n",
       "      <th>1</th>\n",
       "      <td>2</td>\n",
       "      <td>324</td>\n",
       "      <td>107</td>\n",
       "      <td>4</td>\n",
       "      <td>4.0</td>\n",
       "      <td>4.5</td>\n",
       "      <td>8.87</td>\n",
       "      <td>1</td>\n",
       "      <td>1</td>\n",
       "    </tr>\n",
       "    <tr>\n",
       "      <th>2</th>\n",
       "      <td>3</td>\n",
       "      <td>316</td>\n",
       "      <td>104</td>\n",
       "      <td>3</td>\n",
       "      <td>3.0</td>\n",
       "      <td>3.5</td>\n",
       "      <td>8.00</td>\n",
       "      <td>1</td>\n",
       "      <td>0</td>\n",
       "    </tr>\n",
       "    <tr>\n",
       "      <th>3</th>\n",
       "      <td>4</td>\n",
       "      <td>322</td>\n",
       "      <td>110</td>\n",
       "      <td>3</td>\n",
       "      <td>3.5</td>\n",
       "      <td>2.5</td>\n",
       "      <td>8.67</td>\n",
       "      <td>1</td>\n",
       "      <td>1</td>\n",
       "    </tr>\n",
       "    <tr>\n",
       "      <th>4</th>\n",
       "      <td>5</td>\n",
       "      <td>314</td>\n",
       "      <td>103</td>\n",
       "      <td>2</td>\n",
       "      <td>2.0</td>\n",
       "      <td>3.0</td>\n",
       "      <td>8.21</td>\n",
       "      <td>0</td>\n",
       "      <td>0</td>\n",
       "    </tr>\n",
       "    <tr>\n",
       "      <th>...</th>\n",
       "      <td>...</td>\n",
       "      <td>...</td>\n",
       "      <td>...</td>\n",
       "      <td>...</td>\n",
       "      <td>...</td>\n",
       "      <td>...</td>\n",
       "      <td>...</td>\n",
       "      <td>...</td>\n",
       "      <td>...</td>\n",
       "    </tr>\n",
       "    <tr>\n",
       "      <th>495</th>\n",
       "      <td>496</td>\n",
       "      <td>332</td>\n",
       "      <td>108</td>\n",
       "      <td>5</td>\n",
       "      <td>4.5</td>\n",
       "      <td>4.0</td>\n",
       "      <td>9.02</td>\n",
       "      <td>1</td>\n",
       "      <td>1</td>\n",
       "    </tr>\n",
       "    <tr>\n",
       "      <th>496</th>\n",
       "      <td>497</td>\n",
       "      <td>337</td>\n",
       "      <td>117</td>\n",
       "      <td>5</td>\n",
       "      <td>5.0</td>\n",
       "      <td>5.0</td>\n",
       "      <td>9.87</td>\n",
       "      <td>1</td>\n",
       "      <td>1</td>\n",
       "    </tr>\n",
       "    <tr>\n",
       "      <th>497</th>\n",
       "      <td>498</td>\n",
       "      <td>330</td>\n",
       "      <td>120</td>\n",
       "      <td>5</td>\n",
       "      <td>4.5</td>\n",
       "      <td>5.0</td>\n",
       "      <td>9.56</td>\n",
       "      <td>1</td>\n",
       "      <td>1</td>\n",
       "    </tr>\n",
       "    <tr>\n",
       "      <th>498</th>\n",
       "      <td>499</td>\n",
       "      <td>312</td>\n",
       "      <td>103</td>\n",
       "      <td>4</td>\n",
       "      <td>4.0</td>\n",
       "      <td>5.0</td>\n",
       "      <td>8.43</td>\n",
       "      <td>0</td>\n",
       "      <td>0</td>\n",
       "    </tr>\n",
       "    <tr>\n",
       "      <th>499</th>\n",
       "      <td>500</td>\n",
       "      <td>327</td>\n",
       "      <td>113</td>\n",
       "      <td>4</td>\n",
       "      <td>4.5</td>\n",
       "      <td>4.5</td>\n",
       "      <td>9.04</td>\n",
       "      <td>0</td>\n",
       "      <td>1</td>\n",
       "    </tr>\n",
       "  </tbody>\n",
       "</table>\n",
       "<p>500 rows × 9 columns</p>\n",
       "</div>"
      ],
      "text/plain": [
       "     Serial No.  GRE Score  TOEFL Score  University Rating  SOP  LOR   CGPA  \\\n",
       "0             1        337          118                  4  4.5   4.5  9.65   \n",
       "1             2        324          107                  4  4.0   4.5  8.87   \n",
       "2             3        316          104                  3  3.0   3.5  8.00   \n",
       "3             4        322          110                  3  3.5   2.5  8.67   \n",
       "4             5        314          103                  2  2.0   3.0  8.21   \n",
       "..          ...        ...          ...                ...  ...   ...   ...   \n",
       "495         496        332          108                  5  4.5   4.0  9.02   \n",
       "496         497        337          117                  5  5.0   5.0  9.87   \n",
       "497         498        330          120                  5  4.5   5.0  9.56   \n",
       "498         499        312          103                  4  4.0   5.0  8.43   \n",
       "499         500        327          113                  4  4.5   4.5  9.04   \n",
       "\n",
       "     Research  Chance of Admit   \n",
       "0           1                 1  \n",
       "1           1                 1  \n",
       "2           1                 0  \n",
       "3           1                 1  \n",
       "4           0                 0  \n",
       "..        ...               ...  \n",
       "495         1                 1  \n",
       "496         1                 1  \n",
       "497         1                 1  \n",
       "498         0                 0  \n",
       "499         0                 1  \n",
       "\n",
       "[500 rows x 9 columns]"
      ]
     },
     "execution_count": 28,
     "metadata": {},
     "output_type": "execute_result"
    }
   ],
   "source": [
    "df"
   ]
  },
  {
   "cell_type": "code",
   "execution_count": 19,
   "metadata": {},
   "outputs": [],
   "source": [
    "df['Chance of Admit '] = df['Chance of Admit '].apply(lambda x: 1 if x > 0.75 else 0)"
   ]
  },
  {
   "cell_type": "code",
   "execution_count": 23,
   "metadata": {},
   "outputs": [
    {
     "data": {
      "text/plain": [
       "<matplotlib.axes._subplots.AxesSubplot at 0x1b59f2c2108>"
      ]
     },
     "execution_count": 23,
     "metadata": {},
     "output_type": "execute_result"
    },
    {
     "data": {
      "image/png": "[encoded data removed]",
      "text/plain": [
       "<Figure size 432x288 with 1 Axes>"
      ]
     },
     "metadata": {
      "needs_background": "light"
     },
     "output_type": "display_data"
    }
   ],
   "source": [
    "sns.regplot(y = 'Chance of Admit ', x = 'GRE Score', data = df, logistic = True)"
   ]
  },
  {
   "cell_type": "code",
   "execution_count": 24,
   "metadata": {},
   "outputs": [
    {
     "data": {
      "text/plain": [
       "<matplotlib.axes._subplots.AxesSubplot at 0x1b59fb82908>"
      ]
     },
     "execution_count": 24,
     "metadata": {},
     "output_type": "execute_result"
    },
    {
     "data": {
      "image/png": "[encoded data removed]",
      "text/plain": [
       "<Figure size 432x288 with 1 Axes>"
      ]
     },
     "metadata": {
      "needs_background": "light"
     },
     "output_type": "display_data"
    }
   ],
   "source": [
    "sns.regplot(y = 'Chance of Admit ', x = 'TOEFL Score', data = df, logistic = True)"
   ]
  },
  {
   "cell_type": "code",
   "execution_count": 25,
   "metadata": {},
   "outputs": [
    {
     "data": {
      "text/plain": [
       "<matplotlib.axes._subplots.AxesSubplot at 0x1b5a0b9bd08>"
      ]
     },
     "execution_count": 25,
     "metadata": {},
     "output_type": "execute_result"
    },
    {
     "data": {
      "image/png": "[encoded data removed]",
      "text/plain": [
       "<Figure size 432x288 with 1 Axes>"
      ]
     },
     "metadata": {
      "needs_background": "light"
     },
     "output_type": "display_data"
    }
   ],
   "source": [
    "sns.regplot(y = 'Chance of Admit ', x = 'CGPA', data = df, logistic = True)"
   ]
  },
  {
   "cell_type": "code",
   "execution_count": 30,
   "metadata": {},
   "outputs": [
    {
     "data": {
      "image/png": "[encoded data removed]",
      "text/plain": [
       "<Figure size 432x288 with 1 Axes>"
      ]
     },
     "metadata": {
      "needs_background": "light"
     },
     "output_type": "display_data"
    },
    {
     "data": {
      "image/png": "[encoded data removed]",
      "text/plain": [
       "<Figure size 432x288 with 1 Axes>"
      ]
     },
     "metadata": {
      "needs_background": "light"
     },
     "output_type": "display_data"
    },
    {
     "data": {
      "image/png": "[encoded data removed]",
      "text/plain": [
       "<Figure size 432x288 with 1 Axes>"
      ]
     },
     "metadata": {
      "needs_background": "light"
     },
     "output_type": "display_data"
    },
    {
     "data": {
      "image/png": "[encoded data removed]",
      "text/plain": [
       "<Figure size 432x288 with 1 Axes>"
      ]
     },
     "metadata": {
      "needs_background": "light"
     },
     "output_type": "display_data"
    }
   ],
   "source": [
    "for i in ['LOR ', 'SOP', 'University Rating', 'Research']:\n",
    "    sns.barplot(x = i, y = 'Chance of Admit ', data = df)\n",
    "    plt.show()"
   ]
  },
  {
   "cell_type": "code",
   "execution_count": 31,
   "metadata": {},
   "outputs": [],
   "source": [
    "X = df.drop(columns = ['Chance of Admit '])\n",
    "Y = df['Chance of Admit ']"
   ]
  },
  {
   "cell_type": "code",
   "execution_count": 34,
   "metadata": {},
   "outputs": [],
   "source": [
    "from sklearn.model_selection import train_test_split\n",
    "\n",
    "X_train, X_test, Y_train, Y_test = train_test_split(X,Y, test_size = 0.3, random_state = 42, stratify = Y)"
   ]
  },
  {
   "cell_type": "code",
   "execution_count": 35,
   "metadata": {},
   "outputs": [
    {
     "data": {
      "text/plain": [
       "DecisionTreeClassifier(ccp_alpha=0.0, class_weight=None, criterion='gini',\n",
       "                       max_depth=None, max_features=None, max_leaf_nodes=None,\n",
       "                       min_impurity_decrease=0.0, min_impurity_split=None,\n",
       "                       min_samples_leaf=1, min_samples_split=2,\n",
       "                       min_weight_fraction_leaf=0.0, presort='deprecated',\n",
       "                       random_state=None, splitter='best')"
      ]
     },
     "execution_count": 35,
     "metadata": {},
     "output_type": "execute_result"
    }
   ],
   "source": [
    "from sklearn.tree import DecisionTreeClassifier\n",
    "\n",
    "dtc = DecisionTreeClassifier(criterion = 'gini')\n",
    "\n",
    "dtc.fit(X_train,Y_train)"
   ]
  },
  {
   "cell_type": "code",
   "execution_count": 37,
   "metadata": {},
   "outputs": [
    {
     "data": {
      "text/plain": [
       "0.8466666666666667"
      ]
     },
     "execution_count": 37,
     "metadata": {},
     "output_type": "execute_result"
    }
   ],
   "source": [
    "dtc.score(X_test,Y_test)"
   ]
  },
  {
   "cell_type": "code",
   "execution_count": 38,
   "metadata": {},
   "outputs": [
    {
     "data": {
      "image/svg+xml": [
       "<?xml version=\"1.0\" encoding=\"UTF-8\" standalone=\"no\"?>\r\n",
       "<!DOCTYPE svg PUBLIC \"-//W3C//DTD SVG 1.1//EN\"\r\n",
       " \"http://www.w3.org/Graphics/SVG/1.1/DTD/svg11.dtd\">\r\n",
       "<!-- Generated by graphviz version 2.38.0 (20140413.2041)\r\n",
       " -->\r\n",
       "<!-- Title: Tree Pages: 1 -->\r\n",
       "<svg width=\"2197pt\" height=\"893pt\"\r\n",
       " viewBox=\"0.00 0.00 2197.00 893.00\" xmlns=\"http://www.w3.org/2000/svg\" xmlns:xlink=\"http://www.w3.org/1999/xlink\">\r\n",
       "<g id=\"graph0\" class=\"graph\" transform=\"scale(1 1) rotate(0) translate(4 889)\">\r\n",
       "<title>Tree</title>\r\n",
       "<polygon fill=\"white\" stroke=\"none\" points=\"-4,4 -4,-889 2193,-889 2193,4 -4,4\"/>\r\n",
       "<!-- 0 -->\r\n",
       "<g id=\"node1\" class=\"node\"><title>0</title>\r\n",
       "<polygon fill=\"none\" stroke=\"black\" points=\"1184,-885 1066,-885 1066,-817 1184,-817 1184,-885\"/>\r\n",
       "<text text-anchor=\"middle\" x=\"1125\" y=\"-869.8\" font-family=\"Times New Roman,serif\" font-size=\"14.00\">CGPA &lt;= 8.655</text>\r\n",
       "<text text-anchor=\"middle\" x=\"1125\" y=\"-854.8\" font-family=\"Times New Roman,serif\" font-size=\"14.00\">gini = 0.487</text>\r\n",
       "<text text-anchor=\"middle\" x=\"1125\" y=\"-839.8\" font-family=\"Times New Roman,serif\" font-size=\"14.00\">samples = 350</text>\r\n",
       "<text text-anchor=\"middle\" x=\"1125\" y=\"-824.8\" font-family=\"Times New Roman,serif\" font-size=\"14.00\">value = [203, 147]</text>\r\n",
       "</g>\r\n",
       "<!-- 1 -->\r\n",
       "<g id=\"node2\" class=\"node\"><title>1</title>\r\n",
       "<polygon fill=\"none\" stroke=\"black\" points=\"945,-781 793,-781 793,-713 945,-713 945,-781\"/>\r\n",
       "<text text-anchor=\"middle\" x=\"869\" y=\"-765.8\" font-family=\"Times New Roman,serif\" font-size=\"14.00\">TOEFL Score &lt;= 106.5</text>\r\n",
       "<text text-anchor=\"middle\" x=\"869\" y=\"-750.8\" font-family=\"Times New Roman,serif\" font-size=\"14.00\">gini = 0.109</text>\r\n",
       "<text text-anchor=\"middle\" x=\"869\" y=\"-735.8\" font-family=\"Times New Roman,serif\" font-size=\"14.00\">samples = 190</text>\r\n",
       "<text text-anchor=\"middle\" x=\"869\" y=\"-720.8\" font-family=\"Times New Roman,serif\" font-size=\"14.00\">value = [179, 11]</text>\r\n",
       "</g>\r\n",
       "<!-- 0&#45;&gt;1 -->\r\n",
       "<g id=\"edge1\" class=\"edge\"><title>0&#45;&gt;1</title>\r\n",
       "<path fill=\"none\" stroke=\"black\" d=\"M1065.95,-826.471C1033.01,-813.347 991.388,-796.764 954.902,-782.227\"/>\r\n",
       "<polygon fill=\"black\" stroke=\"black\" points=\"955.839,-778.832 945.254,-778.382 953.248,-785.335 955.839,-778.832\"/>\r\n",
       "<text text-anchor=\"middle\" x=\"955.133\" y=\"-797.648\" font-family=\"Times New Roman,serif\" font-size=\"14.00\">True</text>\r\n",
       "</g>\r\n",
       "<!-- 34 -->\r\n",
       "<g id=\"node35\" class=\"node\"><title>34</title>\r\n",
       "<polygon fill=\"none\" stroke=\"black\" points=\"1442.5,-781 1331.5,-781 1331.5,-713 1442.5,-713 1442.5,-781\"/>\r\n",
       "<text text-anchor=\"middle\" x=\"1387\" y=\"-765.8\" font-family=\"Times New Roman,serif\" font-size=\"14.00\">CGPA &lt;= 8.85</text>\r\n",
       "<text text-anchor=\"middle\" x=\"1387\" y=\"-750.8\" font-family=\"Times New Roman,serif\" font-size=\"14.00\">gini = 0.255</text>\r\n",
       "<text text-anchor=\"middle\" x=\"1387\" y=\"-735.8\" font-family=\"Times New Roman,serif\" font-size=\"14.00\">samples = 160</text>\r\n",
       "<text text-anchor=\"middle\" x=\"1387\" y=\"-720.8\" font-family=\"Times New Roman,serif\" font-size=\"14.00\">value = [24, 136]</text>\r\n",
       "</g>\r\n",
       "<!-- 0&#45;&gt;34 -->\r\n",
       "<g id=\"edge34\" class=\"edge\"><title>0&#45;&gt;34</title>\r\n",
       "<path fill=\"none\" stroke=\"black\" d=\"M1184.12,-826.982C1225.1,-811.031 1279.65,-789.791 1321.87,-773.355\"/>\r\n",
       "<polygon fill=\"black\" stroke=\"black\" points=\"1323.18,-776.602 1331.23,-769.713 1320.64,-770.079 1323.18,-776.602\"/>\r\n",
       "<text text-anchor=\"middle\" x=\"1321.17\" y=\"-788.899\" font-family=\"Times New Roman,serif\" font-size=\"14.00\">False</text>\r\n",
       "</g>\r\n",
       "<!-- 2 -->\r\n",
       "<g id=\"node3\" class=\"node\"><title>2</title>\r\n",
       "<polygon fill=\"none\" stroke=\"black\" points=\"583,-677 479,-677 479,-609 583,-609 583,-677\"/>\r\n",
       "<text text-anchor=\"middle\" x=\"531\" y=\"-661.8\" font-family=\"Times New Roman,serif\" font-size=\"14.00\">SOP &lt;= 4.75</text>\r\n",
       "<text text-anchor=\"middle\" x=\"531\" y=\"-646.8\" font-family=\"Times New Roman,serif\" font-size=\"14.00\">gini = 0.039</text>\r\n",
       "<text text-anchor=\"middle\" x=\"531\" y=\"-631.8\" font-family=\"Times New Roman,serif\" font-size=\"14.00\">samples = 152</text>\r\n",
       "<text text-anchor=\"middle\" x=\"531\" y=\"-616.8\" font-family=\"Times New Roman,serif\" font-size=\"14.00\">value = [149, 3]</text>\r\n",
       "</g>\r\n",
       "<!-- 1&#45;&gt;2 -->\r\n",
       "<g id=\"edge2\" class=\"edge\"><title>1&#45;&gt;2</title>\r\n",
       "<path fill=\"none\" stroke=\"black\" d=\"M792.725,-722.982C732.387,-704.773 649.209,-679.672 592.943,-662.693\"/>\r\n",
       "<polygon fill=\"black\" stroke=\"black\" points=\"593.695,-659.264 583.11,-659.726 591.673,-665.966 593.695,-659.264\"/>\r\n",
       "</g>\r\n",
       "<!-- 17 -->\r\n",
       "<g id=\"node18\" class=\"node\"><title>17</title>\r\n",
       "<polygon fill=\"none\" stroke=\"black\" points=\"932.5,-677 805.5,-677 805.5,-609 932.5,-609 932.5,-677\"/>\r\n",
       "<text text-anchor=\"middle\" x=\"869\" y=\"-661.8\" font-family=\"Times New Roman,serif\" font-size=\"14.00\">Serial No. &lt;= 355.5</text>\r\n",
       "<text text-anchor=\"middle\" x=\"869\" y=\"-646.8\" font-family=\"Times New Roman,serif\" font-size=\"14.00\">gini = 0.332</text>\r\n",
       "<text text-anchor=\"middle\" x=\"869\" y=\"-631.8\" font-family=\"Times New Roman,serif\" font-size=\"14.00\">samples = 38</text>\r\n",
       "<text text-anchor=\"middle\" x=\"869\" y=\"-616.8\" font-family=\"Times New Roman,serif\" font-size=\"14.00\">value = [30, 8]</text>\r\n",
       "</g>\r\n",
       "<!-- 1&#45;&gt;17 -->\r\n",
       "<g id=\"edge17\" class=\"edge\"><title>1&#45;&gt;17</title>\r\n",
       "<path fill=\"none\" stroke=\"black\" d=\"M869,-712.884C869,-704.778 869,-695.982 869,-687.472\"/>\r\n",
       "<polygon fill=\"black\" stroke=\"black\" points=\"872.5,-687.299 869,-677.299 865.5,-687.299 872.5,-687.299\"/>\r\n",
       "</g>\r\n",
       "<!-- 3 -->\r\n",
       "<g id=\"node4\" class=\"node\"><title>3</title>\r\n",
       "<polygon fill=\"none\" stroke=\"black\" points=\"390,-573 286,-573 286,-505 390,-505 390,-573\"/>\r\n",
       "<text text-anchor=\"middle\" x=\"338\" y=\"-557.8\" font-family=\"Times New Roman,serif\" font-size=\"14.00\">LOR &#160;&lt;= 4.25</text>\r\n",
       "<text text-anchor=\"middle\" x=\"338\" y=\"-542.8\" font-family=\"Times New Roman,serif\" font-size=\"14.00\">gini = 0.027</text>\r\n",
       "<text text-anchor=\"middle\" x=\"338\" y=\"-527.8\" font-family=\"Times New Roman,serif\" font-size=\"14.00\">samples = 148</text>\r\n",
       "<text text-anchor=\"middle\" x=\"338\" y=\"-512.8\" font-family=\"Times New Roman,serif\" font-size=\"14.00\">value = [146, 2]</text>\r\n",
       "</g>\r\n",
       "<!-- 2&#45;&gt;3 -->\r\n",
       "<g id=\"edge3\" class=\"edge\"><title>2&#45;&gt;3</title>\r\n",
       "<path fill=\"none\" stroke=\"black\" d=\"M478.771,-614.397C454.205,-601.414 424.752,-585.848 399.151,-572.318\"/>\r\n",
       "<polygon fill=\"black\" stroke=\"black\" points=\"400.747,-569.203 390.27,-567.625 397.476,-575.392 400.747,-569.203\"/>\r\n",
       "</g>\r\n",
       "<!-- 14 -->\r\n",
       "<g id=\"node15\" class=\"node\"><title>14</title>\r\n",
       "<polygon fill=\"none\" stroke=\"black\" points=\"599.5,-573 462.5,-573 462.5,-505 599.5,-505 599.5,-573\"/>\r\n",
       "<text text-anchor=\"middle\" x=\"531\" y=\"-557.8\" font-family=\"Times New Roman,serif\" font-size=\"14.00\">GRE Score &lt;= 308.0</text>\r\n",
       "<text text-anchor=\"middle\" x=\"531\" y=\"-542.8\" font-family=\"Times New Roman,serif\" font-size=\"14.00\">gini = 0.375</text>\r\n",
       "<text text-anchor=\"middle\" x=\"531\" y=\"-527.8\" font-family=\"Times New Roman,serif\" font-size=\"14.00\">samples = 4</text>\r\n",
       "<text text-anchor=\"middle\" x=\"531\" y=\"-512.8\" font-family=\"Times New Roman,serif\" font-size=\"14.00\">value = [3, 1]</text>\r\n",
       "</g>\r\n",
       "<!-- 2&#45;&gt;14 -->\r\n",
       "<g id=\"edge14\" class=\"edge\"><title>2&#45;&gt;14</title>\r\n",
       "<path fill=\"none\" stroke=\"black\" d=\"M531,-608.884C531,-600.778 531,-591.982 531,-583.472\"/>\r\n",
       "<polygon fill=\"black\" stroke=\"black\" points=\"534.5,-583.299 531,-573.299 527.5,-583.299 534.5,-583.299\"/>\r\n",
       "</g>\r\n",
       "<!-- 4 -->\r\n",
       "<g id=\"node5\" class=\"node\"><title>4</title>\r\n",
       "<polygon fill=\"none\" stroke=\"black\" points=\"247,-469 95,-469 95,-401 247,-401 247,-469\"/>\r\n",
       "<text text-anchor=\"middle\" x=\"171\" y=\"-453.8\" font-family=\"Times New Roman,serif\" font-size=\"14.00\">TOEFL Score &lt;= 105.5</text>\r\n",
       "<text text-anchor=\"middle\" x=\"171\" y=\"-438.8\" font-family=\"Times New Roman,serif\" font-size=\"14.00\">gini = 0.014</text>\r\n",
       "<text text-anchor=\"middle\" x=\"171\" y=\"-423.8\" font-family=\"Times New Roman,serif\" font-size=\"14.00\">samples = 139</text>\r\n",
       "<text text-anchor=\"middle\" x=\"171\" y=\"-408.8\" font-family=\"Times New Roman,serif\" font-size=\"14.00\">value = [138, 1]</text>\r\n",
       "</g>\r\n",
       "<!-- 3&#45;&gt;4 -->\r\n",
       "<g id=\"edge4\" class=\"edge\"><title>3&#45;&gt;4</title>\r\n",
       "<path fill=\"none\" stroke=\"black\" d=\"M285.618,-506.006C269.246,-496.006 251.01,-484.868 233.987,-474.471\"/>\r\n",
       "<polygon fill=\"black\" stroke=\"black\" points=\"235.57,-471.337 225.212,-469.112 231.922,-477.311 235.57,-471.337\"/>\r\n",
       "</g>\r\n",
       "<!-- 11 -->\r\n",
       "<g id=\"node12\" class=\"node\"><title>11</title>\r\n",
       "<polygon fill=\"none\" stroke=\"black\" points=\"411,-469 265,-469 265,-401 411,-401 411,-469\"/>\r\n",
       "<text text-anchor=\"middle\" x=\"338\" y=\"-453.8\" font-family=\"Times New Roman,serif\" font-size=\"14.00\">TOEFL Score &lt;= 99.5</text>\r\n",
       "<text text-anchor=\"middle\" x=\"338\" y=\"-438.8\" font-family=\"Times New Roman,serif\" font-size=\"14.00\">gini = 0.198</text>\r\n",
       "<text text-anchor=\"middle\" x=\"338\" y=\"-423.8\" font-family=\"Times New Roman,serif\" font-size=\"14.00\">samples = 9</text>\r\n",
       "<text text-anchor=\"middle\" x=\"338\" y=\"-408.8\" font-family=\"Times New Roman,serif\" font-size=\"14.00\">value = [8, 1]</text>\r\n",
       "</g>\r\n",
       "<!-- 3&#45;&gt;11 -->\r\n",
       "<g id=\"edge11\" class=\"edge\"><title>3&#45;&gt;11</title>\r\n",
       "<path fill=\"none\" stroke=\"black\" d=\"M338,-504.884C338,-496.778 338,-487.982 338,-479.472\"/>\r\n",
       "<polygon fill=\"black\" stroke=\"black\" points=\"341.5,-479.299 338,-469.299 334.5,-479.299 341.5,-479.299\"/>\r\n",
       "</g>\r\n",
       "<!-- 5 -->\r\n",
       "<g id=\"node6\" class=\"node\"><title>5</title>\r\n",
       "<polygon fill=\"none\" stroke=\"black\" points=\"104,-357.5 0,-357.5 0,-304.5 104,-304.5 104,-357.5\"/>\r\n",
       "<text text-anchor=\"middle\" x=\"52\" y=\"-342.3\" font-family=\"Times New Roman,serif\" font-size=\"14.00\">gini = 0.0</text>\r\n",
       "<text text-anchor=\"middle\" x=\"52\" y=\"-327.3\" font-family=\"Times New Roman,serif\" font-size=\"14.00\">samples = 124</text>\r\n",
       "<text text-anchor=\"middle\" x=\"52\" y=\"-312.3\" font-family=\"Times New Roman,serif\" font-size=\"14.00\">value = [124, 0]</text>\r\n",
       "</g>\r\n",
       "<!-- 4&#45;&gt;5 -->\r\n",
       "<g id=\"edge5\" class=\"edge\"><title>4&#45;&gt;5</title>\r\n",
       "<path fill=\"none\" stroke=\"black\" d=\"M132.364,-400.884C118.635,-389.116 103.209,-375.894 89.5706,-364.203\"/>\r\n",
       "<polygon fill=\"black\" stroke=\"black\" points=\"91.6436,-361.37 81.7733,-357.52 87.0881,-366.685 91.6436,-361.37\"/>\r\n",
       "</g>\r\n",
       "<!-- 6 -->\r\n",
       "<g id=\"node7\" class=\"node\"><title>6</title>\r\n",
       "<polygon fill=\"none\" stroke=\"black\" points=\"249.5,-365 122.5,-365 122.5,-297 249.5,-297 249.5,-365\"/>\r\n",
       "<text text-anchor=\"middle\" x=\"186\" y=\"-349.8\" font-family=\"Times New Roman,serif\" font-size=\"14.00\">Serial No. &lt;= 174.0</text>\r\n",
       "<text text-anchor=\"middle\" x=\"186\" y=\"-334.8\" font-family=\"Times New Roman,serif\" font-size=\"14.00\">gini = 0.124</text>\r\n",
       "<text text-anchor=\"middle\" x=\"186\" y=\"-319.8\" font-family=\"Times New Roman,serif\" font-size=\"14.00\">samples = 15</text>\r\n",
       "<text text-anchor=\"middle\" x=\"186\" y=\"-304.8\" font-family=\"Times New Roman,serif\" font-size=\"14.00\">value = [14, 1]</text>\r\n",
       "</g>\r\n",
       "<!-- 4&#45;&gt;6 -->\r\n",
       "<g id=\"edge6\" class=\"edge\"><title>4&#45;&gt;6</title>\r\n",
       "<path fill=\"none\" stroke=\"black\" d=\"M175.87,-400.884C177.062,-392.778 178.356,-383.982 179.607,-375.472\"/>\r\n",
       "<polygon fill=\"black\" stroke=\"black\" points=\"183.111,-375.702 181.103,-365.299 176.185,-374.684 183.111,-375.702\"/>\r\n",
       "</g>\r\n",
       "<!-- 7 -->\r\n",
       "<g id=\"node8\" class=\"node\"><title>7</title>\r\n",
       "<polygon fill=\"none\" stroke=\"black\" points=\"186.5,-261 59.5,-261 59.5,-193 186.5,-193 186.5,-261\"/>\r\n",
       "<text text-anchor=\"middle\" x=\"123\" y=\"-245.8\" font-family=\"Times New Roman,serif\" font-size=\"14.00\">Serial No. &lt;= 137.5</text>\r\n",
       "<text text-anchor=\"middle\" x=\"123\" y=\"-230.8\" font-family=\"Times New Roman,serif\" font-size=\"14.00\">gini = 0.278</text>\r\n",
       "<text text-anchor=\"middle\" x=\"123\" y=\"-215.8\" font-family=\"Times New Roman,serif\" font-size=\"14.00\">samples = 6</text>\r\n",
       "<text text-anchor=\"middle\" x=\"123\" y=\"-200.8\" font-family=\"Times New Roman,serif\" font-size=\"14.00\">value = [5, 1]</text>\r\n",
       "</g>\r\n",
       "<!-- 6&#45;&gt;7 -->\r\n",
       "<g id=\"edge7\" class=\"edge\"><title>6&#45;&gt;7</title>\r\n",
       "<path fill=\"none\" stroke=\"black\" d=\"M165.546,-296.884C160.264,-288.332 154.508,-279.013 148.986,-270.072\"/>\r\n",
       "<polygon fill=\"black\" stroke=\"black\" points=\"151.8,-267.968 143.567,-261.299 145.844,-271.647 151.8,-267.968\"/>\r\n",
       "</g>\r\n",
       "<!-- 10 -->\r\n",
       "<g id=\"node11\" class=\"node\"><title>10</title>\r\n",
       "<polygon fill=\"none\" stroke=\"black\" points=\"295.5,-253.5 204.5,-253.5 204.5,-200.5 295.5,-200.5 295.5,-253.5\"/>\r\n",
       "<text text-anchor=\"middle\" x=\"250\" y=\"-238.3\" font-family=\"Times New Roman,serif\" font-size=\"14.00\">gini = 0.0</text>\r\n",
       "<text text-anchor=\"middle\" x=\"250\" y=\"-223.3\" font-family=\"Times New Roman,serif\" font-size=\"14.00\">samples = 9</text>\r\n",
       "<text text-anchor=\"middle\" x=\"250\" y=\"-208.3\" font-family=\"Times New Roman,serif\" font-size=\"14.00\">value = [9, 0]</text>\r\n",
       "</g>\r\n",
       "<!-- 6&#45;&gt;10 -->\r\n",
       "<g id=\"edge10\" class=\"edge\"><title>6&#45;&gt;10</title>\r\n",
       "<path fill=\"none\" stroke=\"black\" d=\"M206.779,-296.884C213.749,-285.776 221.531,-273.372 228.551,-262.184\"/>\r\n",
       "<polygon fill=\"black\" stroke=\"black\" points=\"231.637,-263.851 233.987,-253.52 225.708,-260.13 231.637,-263.851\"/>\r\n",
       "</g>\r\n",
       "<!-- 8 -->\r\n",
       "<g id=\"node9\" class=\"node\"><title>8</title>\r\n",
       "<polygon fill=\"none\" stroke=\"black\" points=\"114.5,-149.5 23.5,-149.5 23.5,-96.5 114.5,-96.5 114.5,-149.5\"/>\r\n",
       "<text text-anchor=\"middle\" x=\"69\" y=\"-134.3\" font-family=\"Times New Roman,serif\" font-size=\"14.00\">gini = 0.0</text>\r\n",
       "<text text-anchor=\"middle\" x=\"69\" y=\"-119.3\" font-family=\"Times New Roman,serif\" font-size=\"14.00\">samples = 5</text>\r\n",
       "<text text-anchor=\"middle\" x=\"69\" y=\"-104.3\" font-family=\"Times New Roman,serif\" font-size=\"14.00\">value = [5, 0]</text>\r\n",
       "</g>\r\n",
       "<!-- 7&#45;&gt;8 -->\r\n",
       "<g id=\"edge8\" class=\"edge\"><title>7&#45;&gt;8</title>\r\n",
       "<path fill=\"none\" stroke=\"black\" d=\"M105.468,-192.884C99.6453,-181.886 93.1504,-169.617 87.2735,-158.517\"/>\r\n",
       "<polygon fill=\"black\" stroke=\"black\" points=\"90.2827,-156.72 82.5106,-149.52 84.0962,-159.995 90.2827,-156.72\"/>\r\n",
       "</g>\r\n",
       "<!-- 9 -->\r\n",
       "<g id=\"node10\" class=\"node\"><title>9</title>\r\n",
       "<polygon fill=\"none\" stroke=\"black\" points=\"223.5,-149.5 132.5,-149.5 132.5,-96.5 223.5,-96.5 223.5,-149.5\"/>\r\n",
       "<text text-anchor=\"middle\" x=\"178\" y=\"-134.3\" font-family=\"Times New Roman,serif\" font-size=\"14.00\">gini = 0.0</text>\r\n",
       "<text text-anchor=\"middle\" x=\"178\" y=\"-119.3\" font-family=\"Times New Roman,serif\" font-size=\"14.00\">samples = 1</text>\r\n",
       "<text text-anchor=\"middle\" x=\"178\" y=\"-104.3\" font-family=\"Times New Roman,serif\" font-size=\"14.00\">value = [0, 1]</text>\r\n",
       "</g>\r\n",
       "<!-- 7&#45;&gt;9 -->\r\n",
       "<g id=\"edge9\" class=\"edge\"><title>7&#45;&gt;9</title>\r\n",
       "<path fill=\"none\" stroke=\"black\" d=\"M140.857,-192.884C146.787,-181.886 153.402,-169.617 159.388,-158.517\"/>\r\n",
       "<polygon fill=\"black\" stroke=\"black\" points=\"162.574,-159.983 164.239,-149.52 156.412,-156.661 162.574,-159.983\"/>\r\n",
       "</g>\r\n",
       "<!-- 12 -->\r\n",
       "<g id=\"node13\" class=\"node\"><title>12</title>\r\n",
       "<polygon fill=\"none\" stroke=\"black\" points=\"372.5,-357.5 281.5,-357.5 281.5,-304.5 372.5,-304.5 372.5,-357.5\"/>\r\n",
       "<text text-anchor=\"middle\" x=\"327\" y=\"-342.3\" font-family=\"Times New Roman,serif\" font-size=\"14.00\">gini = 0.0</text>\r\n",
       "<text text-anchor=\"middle\" x=\"327\" y=\"-327.3\" font-family=\"Times New Roman,serif\" font-size=\"14.00\">samples = 1</text>\r\n",
       "<text text-anchor=\"middle\" x=\"327\" y=\"-312.3\" font-family=\"Times New Roman,serif\" font-size=\"14.00\">value = [0, 1]</text>\r\n",
       "</g>\r\n",
       "<!-- 11&#45;&gt;12 -->\r\n",
       "<g id=\"edge12\" class=\"edge\"><title>11&#45;&gt;12</title>\r\n",
       "<path fill=\"none\" stroke=\"black\" d=\"M334.429,-400.884C333.278,-390.216 331.999,-378.352 330.83,-367.519\"/>\r\n",
       "<polygon fill=\"black\" stroke=\"black\" points=\"334.304,-367.087 329.752,-357.52 327.345,-367.838 334.304,-367.087\"/>\r\n",
       "</g>\r\n",
       "<!-- 13 -->\r\n",
       "<g id=\"node14\" class=\"node\"><title>13</title>\r\n",
       "<polygon fill=\"none\" stroke=\"black\" points=\"481.5,-357.5 390.5,-357.5 390.5,-304.5 481.5,-304.5 481.5,-357.5\"/>\r\n",
       "<text text-anchor=\"middle\" x=\"436\" y=\"-342.3\" font-family=\"Times New Roman,serif\" font-size=\"14.00\">gini = 0.0</text>\r\n",
       "<text text-anchor=\"middle\" x=\"436\" y=\"-327.3\" font-family=\"Times New Roman,serif\" font-size=\"14.00\">samples = 8</text>\r\n",
       "<text text-anchor=\"middle\" x=\"436\" y=\"-312.3\" font-family=\"Times New Roman,serif\" font-size=\"14.00\">value = [8, 0]</text>\r\n",
       "</g>\r\n",
       "<!-- 11&#45;&gt;13 -->\r\n",
       "<g id=\"edge13\" class=\"edge\"><title>11&#45;&gt;13</title>\r\n",
       "<path fill=\"none\" stroke=\"black\" d=\"M369.818,-400.884C380.913,-389.336 393.353,-376.387 404.428,-364.86\"/>\r\n",
       "<polygon fill=\"black\" stroke=\"black\" points=\"407.076,-367.156 411.481,-357.52 402.029,-362.306 407.076,-367.156\"/>\r\n",
       "</g>\r\n",
       "<!-- 15 -->\r\n",
       "<g id=\"node16\" class=\"node\"><title>15</title>\r\n",
       "<polygon fill=\"none\" stroke=\"black\" points=\"520.5,-461.5 429.5,-461.5 429.5,-408.5 520.5,-408.5 520.5,-461.5\"/>\r\n",
       "<text text-anchor=\"middle\" x=\"475\" y=\"-446.3\" font-family=\"Times New Roman,serif\" font-size=\"14.00\">gini = 0.0</text>\r\n",
       "<text text-anchor=\"middle\" x=\"475\" y=\"-431.3\" font-family=\"Times New Roman,serif\" font-size=\"14.00\">samples = 3</text>\r\n",
       "<text text-anchor=\"middle\" x=\"475\" y=\"-416.3\" font-family=\"Times New Roman,serif\" font-size=\"14.00\">value = [3, 0]</text>\r\n",
       "</g>\r\n",
       "<!-- 14&#45;&gt;15 -->\r\n",
       "<g id=\"edge15\" class=\"edge\"><title>14&#45;&gt;15</title>\r\n",
       "<path fill=\"none\" stroke=\"black\" d=\"M512.818,-504.884C506.78,-493.886 500.045,-481.617 493.95,-470.517\"/>\r\n",
       "<polygon fill=\"black\" stroke=\"black\" points=\"496.892,-468.601 489.011,-461.52 490.756,-471.97 496.892,-468.601\"/>\r\n",
       "</g>\r\n",
       "<!-- 16 -->\r\n",
       "<g id=\"node17\" class=\"node\"><title>16</title>\r\n",
       "<polygon fill=\"none\" stroke=\"black\" points=\"629.5,-461.5 538.5,-461.5 538.5,-408.5 629.5,-408.5 629.5,-461.5\"/>\r\n",
       "<text text-anchor=\"middle\" x=\"584\" y=\"-446.3\" font-family=\"Times New Roman,serif\" font-size=\"14.00\">gini = 0.0</text>\r\n",
       "<text text-anchor=\"middle\" x=\"584\" y=\"-431.3\" font-family=\"Times New Roman,serif\" font-size=\"14.00\">samples = 1</text>\r\n",
       "<text text-anchor=\"middle\" x=\"584\" y=\"-416.3\" font-family=\"Times New Roman,serif\" font-size=\"14.00\">value = [0, 1]</text>\r\n",
       "</g>\r\n",
       "<!-- 14&#45;&gt;16 -->\r\n",
       "<g id=\"edge16\" class=\"edge\"><title>14&#45;&gt;16</title>\r\n",
       "<path fill=\"none\" stroke=\"black\" d=\"M548.208,-504.884C553.922,-493.886 560.297,-481.617 566.065,-470.517\"/>\r\n",
       "<polygon fill=\"black\" stroke=\"black\" points=\"569.235,-472.007 570.74,-461.52 563.023,-468.78 569.235,-472.007\"/>\r\n",
       "</g>\r\n",
       "<!-- 18 -->\r\n",
       "<g id=\"node19\" class=\"node\"><title>18</title>\r\n",
       "<polygon fill=\"none\" stroke=\"black\" points=\"850,-573 752,-573 752,-505 850,-505 850,-573\"/>\r\n",
       "<text text-anchor=\"middle\" x=\"801\" y=\"-557.8\" font-family=\"Times New Roman,serif\" font-size=\"14.00\">SOP &lt;= 4.25</text>\r\n",
       "<text text-anchor=\"middle\" x=\"801\" y=\"-542.8\" font-family=\"Times New Roman,serif\" font-size=\"14.00\">gini = 0.185</text>\r\n",
       "<text text-anchor=\"middle\" x=\"801\" y=\"-527.8\" font-family=\"Times New Roman,serif\" font-size=\"14.00\">samples = 29</text>\r\n",
       "<text text-anchor=\"middle\" x=\"801\" y=\"-512.8\" font-family=\"Times New Roman,serif\" font-size=\"14.00\">value = [26, 3]</text>\r\n",
       "</g>\r\n",
       "<!-- 17&#45;&gt;18 -->\r\n",
       "<g id=\"edge18\" class=\"edge\"><title>17&#45;&gt;18</title>\r\n",
       "<path fill=\"none\" stroke=\"black\" d=\"M846.922,-608.884C841.162,-600.243 834.879,-590.819 828.862,-581.793\"/>\r\n",
       "<polygon fill=\"black\" stroke=\"black\" points=\"831.659,-579.678 823.2,-573.299 825.834,-583.561 831.659,-579.678\"/>\r\n",
       "</g>\r\n",
       "<!-- 29 -->\r\n",
       "<g id=\"node30\" class=\"node\"><title>29</title>\r\n",
       "<polygon fill=\"none\" stroke=\"black\" points=\"1005.5,-573 868.5,-573 868.5,-505 1005.5,-505 1005.5,-573\"/>\r\n",
       "<text text-anchor=\"middle\" x=\"937\" y=\"-557.8\" font-family=\"Times New Roman,serif\" font-size=\"14.00\">GRE Score &lt;= 315.5</text>\r\n",
       "<text text-anchor=\"middle\" x=\"937\" y=\"-542.8\" font-family=\"Times New Roman,serif\" font-size=\"14.00\">gini = 0.494</text>\r\n",
       "<text text-anchor=\"middle\" x=\"937\" y=\"-527.8\" font-family=\"Times New Roman,serif\" font-size=\"14.00\">samples = 9</text>\r\n",
       "<text text-anchor=\"middle\" x=\"937\" y=\"-512.8\" font-family=\"Times New Roman,serif\" font-size=\"14.00\">value = [4, 5]</text>\r\n",
       "</g>\r\n",
       "<!-- 17&#45;&gt;29 -->\r\n",
       "<g id=\"edge29\" class=\"edge\"><title>17&#45;&gt;29</title>\r\n",
       "<path fill=\"none\" stroke=\"black\" d=\"M891.078,-608.884C896.838,-600.243 903.121,-590.819 909.138,-581.793\"/>\r\n",
       "<polygon fill=\"black\" stroke=\"black\" points=\"912.166,-583.561 914.8,-573.299 906.341,-579.678 912.166,-583.561\"/>\r\n",
       "</g>\r\n",
       "<!-- 19 -->\r\n",
       "<g id=\"node20\" class=\"node\"><title>19</title>\r\n",
       "<polygon fill=\"none\" stroke=\"black\" points=\"750.5,-469 647.5,-469 647.5,-401 750.5,-401 750.5,-469\"/>\r\n",
       "<text text-anchor=\"middle\" x=\"699\" y=\"-453.8\" font-family=\"Times New Roman,serif\" font-size=\"14.00\">CGPA &lt;= 8.62</text>\r\n",
       "<text text-anchor=\"middle\" x=\"699\" y=\"-438.8\" font-family=\"Times New Roman,serif\" font-size=\"14.00\">gini = 0.133</text>\r\n",
       "<text text-anchor=\"middle\" x=\"699\" y=\"-423.8\" font-family=\"Times New Roman,serif\" font-size=\"14.00\">samples = 28</text>\r\n",
       "<text text-anchor=\"middle\" x=\"699\" y=\"-408.8\" font-family=\"Times New Roman,serif\" font-size=\"14.00\">value = [26, 2]</text>\r\n",
       "</g>\r\n",
       "<!-- 18&#45;&gt;19 -->\r\n",
       "<g id=\"edge19\" class=\"edge\"><title>18&#45;&gt;19</title>\r\n",
       "<path fill=\"none\" stroke=\"black\" d=\"M767.884,-504.884C758.798,-495.798 748.845,-485.845 739.4,-476.4\"/>\r\n",
       "<polygon fill=\"black\" stroke=\"black\" points=\"741.845,-473.896 732.299,-469.299 736.896,-478.845 741.845,-473.896\"/>\r\n",
       "</g>\r\n",
       "<!-- 28 -->\r\n",
       "<g id=\"node29\" class=\"node\"><title>28</title>\r\n",
       "<polygon fill=\"none\" stroke=\"black\" points=\"859.5,-461.5 768.5,-461.5 768.5,-408.5 859.5,-408.5 859.5,-461.5\"/>\r\n",
       "<text text-anchor=\"middle\" x=\"814\" y=\"-446.3\" font-family=\"Times New Roman,serif\" font-size=\"14.00\">gini = 0.0</text>\r\n",
       "<text text-anchor=\"middle\" x=\"814\" y=\"-431.3\" font-family=\"Times New Roman,serif\" font-size=\"14.00\">samples = 1</text>\r\n",
       "<text text-anchor=\"middle\" x=\"814\" y=\"-416.3\" font-family=\"Times New Roman,serif\" font-size=\"14.00\">value = [0, 1]</text>\r\n",
       "</g>\r\n",
       "<!-- 18&#45;&gt;28 -->\r\n",
       "<g id=\"edge28\" class=\"edge\"><title>18&#45;&gt;28</title>\r\n",
       "<path fill=\"none\" stroke=\"black\" d=\"M805.221,-504.884C806.58,-494.216 808.092,-482.352 809.473,-471.519\"/>\r\n",
       "<polygon fill=\"black\" stroke=\"black\" points=\"812.955,-471.882 810.747,-461.52 806.011,-470.997 812.955,-471.882\"/>\r\n",
       "</g>\r\n",
       "<!-- 20 -->\r\n",
       "<g id=\"node21\" class=\"node\"><title>20</title>\r\n",
       "<polygon fill=\"none\" stroke=\"black\" points=\"688.5,-365 551.5,-365 551.5,-297 688.5,-297 688.5,-365\"/>\r\n",
       "<text text-anchor=\"middle\" x=\"620\" y=\"-349.8\" font-family=\"Times New Roman,serif\" font-size=\"14.00\">GRE Score &lt;= 307.5</text>\r\n",
       "<text text-anchor=\"middle\" x=\"620\" y=\"-334.8\" font-family=\"Times New Roman,serif\" font-size=\"14.00\">gini = 0.074</text>\r\n",
       "<text text-anchor=\"middle\" x=\"620\" y=\"-319.8\" font-family=\"Times New Roman,serif\" font-size=\"14.00\">samples = 26</text>\r\n",
       "<text text-anchor=\"middle\" x=\"620\" y=\"-304.8\" font-family=\"Times New Roman,serif\" font-size=\"14.00\">value = [25, 1]</text>\r\n",
       "</g>\r\n",
       "<!-- 19&#45;&gt;20 -->\r\n",
       "<g id=\"edge20\" class=\"edge\"><title>19&#45;&gt;20</title>\r\n",
       "<path fill=\"none\" stroke=\"black\" d=\"M673.351,-400.884C666.521,-392.065 659.059,-382.43 651.937,-373.235\"/>\r\n",
       "<polygon fill=\"black\" stroke=\"black\" points=\"654.681,-371.062 645.791,-365.299 649.147,-375.349 654.681,-371.062\"/>\r\n",
       "</g>\r\n",
       "<!-- 25 -->\r\n",
       "<g id=\"node26\" class=\"node\"><title>25</title>\r\n",
       "<polygon fill=\"none\" stroke=\"black\" points=\"817,-365 707,-365 707,-297 817,-297 817,-365\"/>\r\n",
       "<text text-anchor=\"middle\" x=\"762\" y=\"-349.8\" font-family=\"Times New Roman,serif\" font-size=\"14.00\">Research &lt;= 0.5</text>\r\n",
       "<text text-anchor=\"middle\" x=\"762\" y=\"-334.8\" font-family=\"Times New Roman,serif\" font-size=\"14.00\">gini = 0.5</text>\r\n",
       "<text text-anchor=\"middle\" x=\"762\" y=\"-319.8\" font-family=\"Times New Roman,serif\" font-size=\"14.00\">samples = 2</text>\r\n",
       "<text text-anchor=\"middle\" x=\"762\" y=\"-304.8\" font-family=\"Times New Roman,serif\" font-size=\"14.00\">value = [1, 1]</text>\r\n",
       "</g>\r\n",
       "<!-- 19&#45;&gt;25 -->\r\n",
       "<g id=\"edge25\" class=\"edge\"><title>19&#45;&gt;25</title>\r\n",
       "<path fill=\"none\" stroke=\"black\" d=\"M719.454,-400.884C724.736,-392.332 730.492,-383.013 736.014,-374.072\"/>\r\n",
       "<polygon fill=\"black\" stroke=\"black\" points=\"739.156,-375.647 741.433,-365.299 733.2,-371.968 739.156,-375.647\"/>\r\n",
       "</g>\r\n",
       "<!-- 21 -->\r\n",
       "<g id=\"node22\" class=\"node\"><title>21</title>\r\n",
       "<polygon fill=\"none\" stroke=\"black\" points=\"560,-261 464,-261 464,-193 560,-193 560,-261\"/>\r\n",
       "<text text-anchor=\"middle\" x=\"512\" y=\"-245.8\" font-family=\"Times New Roman,serif\" font-size=\"14.00\">CGPA &lt;= 8.5</text>\r\n",
       "<text text-anchor=\"middle\" x=\"512\" y=\"-230.8\" font-family=\"Times New Roman,serif\" font-size=\"14.00\">gini = 0.32</text>\r\n",
       "<text text-anchor=\"middle\" x=\"512\" y=\"-215.8\" font-family=\"Times New Roman,serif\" font-size=\"14.00\">samples = 5</text>\r\n",
       "<text text-anchor=\"middle\" x=\"512\" y=\"-200.8\" font-family=\"Times New Roman,serif\" font-size=\"14.00\">value = [4, 1]</text>\r\n",
       "</g>\r\n",
       "<!-- 20&#45;&gt;21 -->\r\n",
       "<g id=\"edge21\" class=\"edge\"><title>20&#45;&gt;21</title>\r\n",
       "<path fill=\"none\" stroke=\"black\" d=\"M584.935,-296.884C575.316,-287.798 564.778,-277.845 554.777,-268.4\"/>\r\n",
       "<polygon fill=\"black\" stroke=\"black\" points=\"556.931,-265.621 547.258,-261.299 552.125,-270.71 556.931,-265.621\"/>\r\n",
       "</g>\r\n",
       "<!-- 24 -->\r\n",
       "<g id=\"node25\" class=\"node\"><title>24</title>\r\n",
       "<polygon fill=\"none\" stroke=\"black\" points=\"676,-253.5 578,-253.5 578,-200.5 676,-200.5 676,-253.5\"/>\r\n",
       "<text text-anchor=\"middle\" x=\"627\" y=\"-238.3\" font-family=\"Times New Roman,serif\" font-size=\"14.00\">gini = 0.0</text>\r\n",
       "<text text-anchor=\"middle\" x=\"627\" y=\"-223.3\" font-family=\"Times New Roman,serif\" font-size=\"14.00\">samples = 21</text>\r\n",
       "<text text-anchor=\"middle\" x=\"627\" y=\"-208.3\" font-family=\"Times New Roman,serif\" font-size=\"14.00\">value = [21, 0]</text>\r\n",
       "</g>\r\n",
       "<!-- 20&#45;&gt;24 -->\r\n",
       "<g id=\"edge24\" class=\"edge\"><title>20&#45;&gt;24</title>\r\n",
       "<path fill=\"none\" stroke=\"black\" d=\"M622.273,-296.884C623.005,-286.216 623.819,-274.352 624.562,-263.519\"/>\r\n",
       "<polygon fill=\"black\" stroke=\"black\" points=\"628.056,-263.736 625.249,-253.52 621.072,-263.257 628.056,-263.736\"/>\r\n",
       "</g>\r\n",
       "<!-- 22 -->\r\n",
       "<g id=\"node23\" class=\"node\"><title>22</title>\r\n",
       "<polygon fill=\"none\" stroke=\"black\" points=\"503.5,-149.5 412.5,-149.5 412.5,-96.5 503.5,-96.5 503.5,-149.5\"/>\r\n",
       "<text text-anchor=\"middle\" x=\"458\" y=\"-134.3\" font-family=\"Times New Roman,serif\" font-size=\"14.00\">gini = 0.0</text>\r\n",
       "<text text-anchor=\"middle\" x=\"458\" y=\"-119.3\" font-family=\"Times New Roman,serif\" font-size=\"14.00\">samples = 4</text>\r\n",
       "<text text-anchor=\"middle\" x=\"458\" y=\"-104.3\" font-family=\"Times New Roman,serif\" font-size=\"14.00\">value = [4, 0]</text>\r\n",
       "</g>\r\n",
       "<!-- 21&#45;&gt;22 -->\r\n",
       "<g id=\"edge22\" class=\"edge\"><title>21&#45;&gt;22</title>\r\n",
       "<path fill=\"none\" stroke=\"black\" d=\"M494.468,-192.884C488.645,-181.886 482.15,-169.617 476.273,-158.517\"/>\r\n",
       "<polygon fill=\"black\" stroke=\"black\" points=\"479.283,-156.72 471.511,-149.52 473.096,-159.995 479.283,-156.72\"/>\r\n",
       "</g>\r\n",
       "<!-- 23 -->\r\n",
       "<g id=\"node24\" class=\"node\"><title>23</title>\r\n",
       "<polygon fill=\"none\" stroke=\"black\" points=\"612.5,-149.5 521.5,-149.5 521.5,-96.5 612.5,-96.5 612.5,-149.5\"/>\r\n",
       "<text text-anchor=\"middle\" x=\"567\" y=\"-134.3\" font-family=\"Times New Roman,serif\" font-size=\"14.00\">gini = 0.0</text>\r\n",
       "<text text-anchor=\"middle\" x=\"567\" y=\"-119.3\" font-family=\"Times New Roman,serif\" font-size=\"14.00\">samples = 1</text>\r\n",
       "<text text-anchor=\"middle\" x=\"567\" y=\"-104.3\" font-family=\"Times New Roman,serif\" font-size=\"14.00\">value = [0, 1]</text>\r\n",
       "</g>\r\n",
       "<!-- 21&#45;&gt;23 -->\r\n",
       "<g id=\"edge23\" class=\"edge\"><title>21&#45;&gt;23</title>\r\n",
       "<path fill=\"none\" stroke=\"black\" d=\"M529.857,-192.884C535.787,-181.886 542.402,-169.617 548.388,-158.517\"/>\r\n",
       "<polygon fill=\"black\" stroke=\"black\" points=\"551.574,-159.983 553.239,-149.52 545.412,-156.661 551.574,-159.983\"/>\r\n",
       "</g>\r\n",
       "<!-- 26 -->\r\n",
       "<g id=\"node27\" class=\"node\"><title>26</title>\r\n",
       "<polygon fill=\"none\" stroke=\"black\" points=\"799.5,-253.5 708.5,-253.5 708.5,-200.5 799.5,-200.5 799.5,-253.5\"/>\r\n",
       "<text text-anchor=\"middle\" x=\"754\" y=\"-238.3\" font-family=\"Times New Roman,serif\" font-size=\"14.00\">gini = 0.0</text>\r\n",
       "<text text-anchor=\"middle\" x=\"754\" y=\"-223.3\" font-family=\"Times New Roman,serif\" font-size=\"14.00\">samples = 1</text>\r\n",
       "<text text-anchor=\"middle\" x=\"754\" y=\"-208.3\" font-family=\"Times New Roman,serif\" font-size=\"14.00\">value = [1, 0]</text>\r\n",
       "</g>\r\n",
       "<!-- 25&#45;&gt;26 -->\r\n",
       "<g id=\"edge26\" class=\"edge\"><title>25&#45;&gt;26</title>\r\n",
       "<path fill=\"none\" stroke=\"black\" d=\"M759.403,-296.884C758.566,-286.216 757.635,-274.352 756.786,-263.519\"/>\r\n",
       "<polygon fill=\"black\" stroke=\"black\" points=\"760.273,-263.216 756.002,-253.52 753.294,-263.763 760.273,-263.216\"/>\r\n",
       "</g>\r\n",
       "<!-- 27 -->\r\n",
       "<g id=\"node28\" class=\"node\"><title>27</title>\r\n",
       "<polygon fill=\"none\" stroke=\"black\" points=\"908.5,-253.5 817.5,-253.5 817.5,-200.5 908.5,-200.5 908.5,-253.5\"/>\r\n",
       "<text text-anchor=\"middle\" x=\"863\" y=\"-238.3\" font-family=\"Times New Roman,serif\" font-size=\"14.00\">gini = 0.0</text>\r\n",
       "<text text-anchor=\"middle\" x=\"863\" y=\"-223.3\" font-family=\"Times New Roman,serif\" font-size=\"14.00\">samples = 1</text>\r\n",
       "<text text-anchor=\"middle\" x=\"863\" y=\"-208.3\" font-family=\"Times New Roman,serif\" font-size=\"14.00\">value = [0, 1]</text>\r\n",
       "</g>\r\n",
       "<!-- 25&#45;&gt;27 -->\r\n",
       "<g id=\"edge27\" class=\"edge\"><title>25&#45;&gt;27</title>\r\n",
       "<path fill=\"none\" stroke=\"black\" d=\"M794.792,-296.884C806.226,-285.336 819.048,-272.387 830.462,-260.86\"/>\r\n",
       "<polygon fill=\"black\" stroke=\"black\" points=\"833.181,-263.088 837.73,-253.52 828.207,-258.163 833.181,-263.088\"/>\r\n",
       "</g>\r\n",
       "<!-- 30 -->\r\n",
       "<g id=\"node31\" class=\"node\"><title>30</title>\r\n",
       "<polygon fill=\"none\" stroke=\"black\" points=\"968.5,-461.5 877.5,-461.5 877.5,-408.5 968.5,-408.5 968.5,-461.5\"/>\r\n",
       "<text text-anchor=\"middle\" x=\"923\" y=\"-446.3\" font-family=\"Times New Roman,serif\" font-size=\"14.00\">gini = 0.0</text>\r\n",
       "<text text-anchor=\"middle\" x=\"923\" y=\"-431.3\" font-family=\"Times New Roman,serif\" font-size=\"14.00\">samples = 3</text>\r\n",
       "<text text-anchor=\"middle\" x=\"923\" y=\"-416.3\" font-family=\"Times New Roman,serif\" font-size=\"14.00\">value = [3, 0]</text>\r\n",
       "</g>\r\n",
       "<!-- 29&#45;&gt;30 -->\r\n",
       "<g id=\"edge30\" class=\"edge\"><title>29&#45;&gt;30</title>\r\n",
       "<path fill=\"none\" stroke=\"black\" d=\"M932.455,-504.884C930.99,-494.216 929.362,-482.352 927.875,-471.519\"/>\r\n",
       "<polygon fill=\"black\" stroke=\"black\" points=\"931.33,-470.951 926.503,-461.52 924.395,-471.903 931.33,-470.951\"/>\r\n",
       "</g>\r\n",
       "<!-- 31 -->\r\n",
       "<g id=\"node32\" class=\"node\"><title>31</title>\r\n",
       "<polygon fill=\"none\" stroke=\"black\" points=\"1097,-469 987,-469 987,-401 1097,-401 1097,-469\"/>\r\n",
       "<text text-anchor=\"middle\" x=\"1042\" y=\"-453.8\" font-family=\"Times New Roman,serif\" font-size=\"14.00\">CGPA &lt;= 8.395</text>\r\n",
       "<text text-anchor=\"middle\" x=\"1042\" y=\"-438.8\" font-family=\"Times New Roman,serif\" font-size=\"14.00\">gini = 0.278</text>\r\n",
       "<text text-anchor=\"middle\" x=\"1042\" y=\"-423.8\" font-family=\"Times New Roman,serif\" font-size=\"14.00\">samples = 6</text>\r\n",
       "<text text-anchor=\"middle\" x=\"1042\" y=\"-408.8\" font-family=\"Times New Roman,serif\" font-size=\"14.00\">value = [1, 5]</text>\r\n",
       "</g>\r\n",
       "<!-- 29&#45;&gt;31 -->\r\n",
       "<g id=\"edge31\" class=\"edge\"><title>29&#45;&gt;31</title>\r\n",
       "<path fill=\"none\" stroke=\"black\" d=\"M971.09,-504.884C980.443,-495.798 990.688,-485.845 1000.41,-476.4\"/>\r\n",
       "<polygon fill=\"black\" stroke=\"black\" points=\"1002.99,-478.778 1007.72,-469.299 998.11,-473.757 1002.99,-478.778\"/>\r\n",
       "</g>\r\n",
       "<!-- 32 -->\r\n",
       "<g id=\"node33\" class=\"node\"><title>32</title>\r\n",
       "<polygon fill=\"none\" stroke=\"black\" points=\"978.5,-357.5 887.5,-357.5 887.5,-304.5 978.5,-304.5 978.5,-357.5\"/>\r\n",
       "<text text-anchor=\"middle\" x=\"933\" y=\"-342.3\" font-family=\"Times New Roman,serif\" font-size=\"14.00\">gini = 0.0</text>\r\n",
       "<text text-anchor=\"middle\" x=\"933\" y=\"-327.3\" font-family=\"Times New Roman,serif\" font-size=\"14.00\">samples = 1</text>\r\n",
       "<text text-anchor=\"middle\" x=\"933\" y=\"-312.3\" font-family=\"Times New Roman,serif\" font-size=\"14.00\">value = [1, 0]</text>\r\n",
       "</g>\r\n",
       "<!-- 31&#45;&gt;32 -->\r\n",
       "<g id=\"edge32\" class=\"edge\"><title>31&#45;&gt;32</title>\r\n",
       "<path fill=\"none\" stroke=\"black\" d=\"M1006.61,-400.884C994.153,-389.226 980.17,-376.141 967.764,-364.532\"/>\r\n",
       "<polygon fill=\"black\" stroke=\"black\" points=\"969.964,-361.797 960.271,-357.52 965.181,-366.908 969.964,-361.797\"/>\r\n",
       "</g>\r\n",
       "<!-- 33 -->\r\n",
       "<g id=\"node34\" class=\"node\"><title>33</title>\r\n",
       "<polygon fill=\"none\" stroke=\"black\" points=\"1087.5,-357.5 996.5,-357.5 996.5,-304.5 1087.5,-304.5 1087.5,-357.5\"/>\r\n",
       "<text text-anchor=\"middle\" x=\"1042\" y=\"-342.3\" font-family=\"Times New Roman,serif\" font-size=\"14.00\">gini = 0.0</text>\r\n",
       "<text text-anchor=\"middle\" x=\"1042\" y=\"-327.3\" font-family=\"Times New Roman,serif\" font-size=\"14.00\">samples = 5</text>\r\n",
       "<text text-anchor=\"middle\" x=\"1042\" y=\"-312.3\" font-family=\"Times New Roman,serif\" font-size=\"14.00\">value = [0, 5]</text>\r\n",
       "</g>\r\n",
       "<!-- 31&#45;&gt;33 -->\r\n",
       "<g id=\"edge33\" class=\"edge\"><title>31&#45;&gt;33</title>\r\n",
       "<path fill=\"none\" stroke=\"black\" d=\"M1042,-400.884C1042,-390.326 1042,-378.597 1042,-367.854\"/>\r\n",
       "<polygon fill=\"black\" stroke=\"black\" points=\"1045.5,-367.52 1042,-357.52 1038.5,-367.52 1045.5,-367.52\"/>\r\n",
       "</g>\r\n",
       "<!-- 35 -->\r\n",
       "<g id=\"node36\" class=\"node\"><title>35</title>\r\n",
       "<polygon fill=\"none\" stroke=\"black\" points=\"1450.5,-677 1323.5,-677 1323.5,-609 1450.5,-609 1450.5,-677\"/>\r\n",
       "<text text-anchor=\"middle\" x=\"1387\" y=\"-661.8\" font-family=\"Times New Roman,serif\" font-size=\"14.00\">Serial No. &lt;= 281.5</text>\r\n",
       "<text text-anchor=\"middle\" x=\"1387\" y=\"-646.8\" font-family=\"Times New Roman,serif\" font-size=\"14.00\">gini = 0.488</text>\r\n",
       "<text text-anchor=\"middle\" x=\"1387\" y=\"-631.8\" font-family=\"Times New Roman,serif\" font-size=\"14.00\">samples = 38</text>\r\n",
       "<text text-anchor=\"middle\" x=\"1387\" y=\"-616.8\" font-family=\"Times New Roman,serif\" font-size=\"14.00\">value = [16, 22]</text>\r\n",
       "</g>\r\n",
       "<!-- 34&#45;&gt;35 -->\r\n",
       "<g id=\"edge35\" class=\"edge\"><title>34&#45;&gt;35</title>\r\n",
       "<path fill=\"none\" stroke=\"black\" d=\"M1387,-712.884C1387,-704.778 1387,-695.982 1387,-687.472\"/>\r\n",
       "<polygon fill=\"black\" stroke=\"black\" points=\"1390.5,-687.299 1387,-677.299 1383.5,-687.299 1390.5,-687.299\"/>\r\n",
       "</g>\r\n",
       "<!-- 56 -->\r\n",
       "<g id=\"node57\" class=\"node\"><title>56</title>\r\n",
       "<polygon fill=\"none\" stroke=\"black\" points=\"1857,-677 1753,-677 1753,-609 1857,-609 1857,-677\"/>\r\n",
       "<text text-anchor=\"middle\" x=\"1805\" y=\"-661.8\" font-family=\"Times New Roman,serif\" font-size=\"14.00\">SOP &lt;= 3.75</text>\r\n",
       "<text text-anchor=\"middle\" x=\"1805\" y=\"-646.8\" font-family=\"Times New Roman,serif\" font-size=\"14.00\">gini = 0.123</text>\r\n",
       "<text text-anchor=\"middle\" x=\"1805\" y=\"-631.8\" font-family=\"Times New Roman,serif\" font-size=\"14.00\">samples = 122</text>\r\n",
       "<text text-anchor=\"middle\" x=\"1805\" y=\"-616.8\" font-family=\"Times New Roman,serif\" font-size=\"14.00\">value = [8, 114]</text>\r\n",
       "</g>\r\n",
       "<!-- 34&#45;&gt;56 -->\r\n",
       "<g id=\"edge56\" class=\"edge\"><title>34&#45;&gt;56</title>\r\n",
       "<path fill=\"none\" stroke=\"black\" d=\"M1442.51,-732.455C1520.35,-713.461 1661.5,-679.018 1742.79,-659.18\"/>\r\n",
       "<polygon fill=\"black\" stroke=\"black\" points=\"1744,-662.488 1752.89,-656.717 1742.34,-655.687 1744,-662.488\"/>\r\n",
       "</g>\r\n",
       "<!-- 36 -->\r\n",
       "<g id=\"node37\" class=\"node\"><title>36</title>\r\n",
       "<polygon fill=\"none\" stroke=\"black\" points=\"1375.5,-573 1248.5,-573 1248.5,-505 1375.5,-505 1375.5,-573\"/>\r\n",
       "<text text-anchor=\"middle\" x=\"1312\" y=\"-557.8\" font-family=\"Times New Roman,serif\" font-size=\"14.00\">Serial No. &lt;= 226.0</text>\r\n",
       "<text text-anchor=\"middle\" x=\"1312\" y=\"-542.8\" font-family=\"Times New Roman,serif\" font-size=\"14.00\">gini = 0.49</text>\r\n",
       "<text text-anchor=\"middle\" x=\"1312\" y=\"-527.8\" font-family=\"Times New Roman,serif\" font-size=\"14.00\">samples = 21</text>\r\n",
       "<text text-anchor=\"middle\" x=\"1312\" y=\"-512.8\" font-family=\"Times New Roman,serif\" font-size=\"14.00\">value = [12, 9]</text>\r\n",
       "</g>\r\n",
       "<!-- 35&#45;&gt;36 -->\r\n",
       "<g id=\"edge36\" class=\"edge\"><title>35&#45;&gt;36</title>\r\n",
       "<path fill=\"none\" stroke=\"black\" d=\"M1362.65,-608.884C1356.23,-600.154 1349.22,-590.625 1342.52,-581.514\"/>\r\n",
       "<polygon fill=\"black\" stroke=\"black\" points=\"1345.23,-579.283 1336.48,-573.299 1339.59,-583.429 1345.23,-579.283\"/>\r\n",
       "</g>\r\n",
       "<!-- 47 -->\r\n",
       "<g id=\"node48\" class=\"node\"><title>47</title>\r\n",
       "<polygon fill=\"none\" stroke=\"black\" points=\"1530.5,-573 1393.5,-573 1393.5,-505 1530.5,-505 1530.5,-573\"/>\r\n",
       "<text text-anchor=\"middle\" x=\"1462\" y=\"-557.8\" font-family=\"Times New Roman,serif\" font-size=\"14.00\">GRE Score &lt;= 321.5</text>\r\n",
       "<text text-anchor=\"middle\" x=\"1462\" y=\"-542.8\" font-family=\"Times New Roman,serif\" font-size=\"14.00\">gini = 0.36</text>\r\n",
       "<text text-anchor=\"middle\" x=\"1462\" y=\"-527.8\" font-family=\"Times New Roman,serif\" font-size=\"14.00\">samples = 17</text>\r\n",
       "<text text-anchor=\"middle\" x=\"1462\" y=\"-512.8\" font-family=\"Times New Roman,serif\" font-size=\"14.00\">value = [4, 13]</text>\r\n",
       "</g>\r\n",
       "<!-- 35&#45;&gt;47 -->\r\n",
       "<g id=\"edge47\" class=\"edge\"><title>35&#45;&gt;47</title>\r\n",
       "<path fill=\"none\" stroke=\"black\" d=\"M1411.35,-608.884C1417.77,-600.154 1424.78,-590.625 1431.48,-581.514\"/>\r\n",
       "<polygon fill=\"black\" stroke=\"black\" points=\"1434.41,-583.429 1437.52,-573.299 1428.77,-579.283 1434.41,-583.429\"/>\r\n",
       "</g>\r\n",
       "<!-- 37 -->\r\n",
       "<g id=\"node38\" class=\"node\"><title>37</title>\r\n",
       "<polygon fill=\"none\" stroke=\"black\" points=\"1251.5,-469 1124.5,-469 1124.5,-401 1251.5,-401 1251.5,-469\"/>\r\n",
       "<text text-anchor=\"middle\" x=\"1188\" y=\"-453.8\" font-family=\"Times New Roman,serif\" font-size=\"14.00\">Serial No. &lt;= 124.0</text>\r\n",
       "<text text-anchor=\"middle\" x=\"1188\" y=\"-438.8\" font-family=\"Times New Roman,serif\" font-size=\"14.00\">gini = 0.48</text>\r\n",
       "<text text-anchor=\"middle\" x=\"1188\" y=\"-423.8\" font-family=\"Times New Roman,serif\" font-size=\"14.00\">samples = 15</text>\r\n",
       "<text text-anchor=\"middle\" x=\"1188\" y=\"-408.8\" font-family=\"Times New Roman,serif\" font-size=\"14.00\">value = [6, 9]</text>\r\n",
       "</g>\r\n",
       "<!-- 36&#45;&gt;37 -->\r\n",
       "<g id=\"edge37\" class=\"edge\"><title>36&#45;&gt;37</title>\r\n",
       "<path fill=\"none\" stroke=\"black\" d=\"M1271.74,-504.884C1260.48,-495.62 1248.12,-485.455 1236.44,-475.845\"/>\r\n",
       "<polygon fill=\"black\" stroke=\"black\" points=\"1238.43,-472.949 1228.48,-469.299 1233.98,-478.355 1238.43,-472.949\"/>\r\n",
       "</g>\r\n",
       "<!-- 46 -->\r\n",
       "<g id=\"node47\" class=\"node\"><title>46</title>\r\n",
       "<polygon fill=\"none\" stroke=\"black\" points=\"1360.5,-461.5 1269.5,-461.5 1269.5,-408.5 1360.5,-408.5 1360.5,-461.5\"/>\r\n",
       "<text text-anchor=\"middle\" x=\"1315\" y=\"-446.3\" font-family=\"Times New Roman,serif\" font-size=\"14.00\">gini = 0.0</text>\r\n",
       "<text text-anchor=\"middle\" x=\"1315\" y=\"-431.3\" font-family=\"Times New Roman,serif\" font-size=\"14.00\">samples = 6</text>\r\n",
       "<text text-anchor=\"middle\" x=\"1315\" y=\"-416.3\" font-family=\"Times New Roman,serif\" font-size=\"14.00\">value = [6, 0]</text>\r\n",
       "</g>\r\n",
       "<!-- 36&#45;&gt;46 -->\r\n",
       "<g id=\"edge46\" class=\"edge\"><title>36&#45;&gt;46</title>\r\n",
       "<path fill=\"none\" stroke=\"black\" d=\"M1312.97,-504.884C1313.29,-494.216 1313.64,-482.352 1313.96,-471.519\"/>\r\n",
       "<polygon fill=\"black\" stroke=\"black\" points=\"1317.45,-471.619 1314.25,-461.52 1310.46,-471.413 1317.45,-471.619\"/>\r\n",
       "</g>\r\n",
       "<!-- 38 -->\r\n",
       "<g id=\"node39\" class=\"node\"><title>38</title>\r\n",
       "<polygon fill=\"none\" stroke=\"black\" points=\"1216,-365 1106,-365 1106,-297 1216,-297 1216,-365\"/>\r\n",
       "<text text-anchor=\"middle\" x=\"1161\" y=\"-349.8\" font-family=\"Times New Roman,serif\" font-size=\"14.00\">CGPA &lt;= 8.685</text>\r\n",
       "<text text-anchor=\"middle\" x=\"1161\" y=\"-334.8\" font-family=\"Times New Roman,serif\" font-size=\"14.00\">gini = 0.444</text>\r\n",
       "<text text-anchor=\"middle\" x=\"1161\" y=\"-319.8\" font-family=\"Times New Roman,serif\" font-size=\"14.00\">samples = 9</text>\r\n",
       "<text text-anchor=\"middle\" x=\"1161\" y=\"-304.8\" font-family=\"Times New Roman,serif\" font-size=\"14.00\">value = [6, 3]</text>\r\n",
       "</g>\r\n",
       "<!-- 37&#45;&gt;38 -->\r\n",
       "<g id=\"edge38\" class=\"edge\"><title>37&#45;&gt;38</title>\r\n",
       "<path fill=\"none\" stroke=\"black\" d=\"M1179.23,-400.884C1177.06,-392.689 1174.71,-383.789 1172.43,-375.192\"/>\r\n",
       "<polygon fill=\"black\" stroke=\"black\" points=\"1175.76,-374.071 1169.81,-365.299 1168.99,-375.862 1175.76,-374.071\"/>\r\n",
       "</g>\r\n",
       "<!-- 45 -->\r\n",
       "<g id=\"node46\" class=\"node\"><title>45</title>\r\n",
       "<polygon fill=\"none\" stroke=\"black\" points=\"1325.5,-357.5 1234.5,-357.5 1234.5,-304.5 1325.5,-304.5 1325.5,-357.5\"/>\r\n",
       "<text text-anchor=\"middle\" x=\"1280\" y=\"-342.3\" font-family=\"Times New Roman,serif\" font-size=\"14.00\">gini = 0.0</text>\r\n",
       "<text text-anchor=\"middle\" x=\"1280\" y=\"-327.3\" font-family=\"Times New Roman,serif\" font-size=\"14.00\">samples = 6</text>\r\n",
       "<text text-anchor=\"middle\" x=\"1280\" y=\"-312.3\" font-family=\"Times New Roman,serif\" font-size=\"14.00\">value = [0, 6]</text>\r\n",
       "</g>\r\n",
       "<!-- 37&#45;&gt;45 -->\r\n",
       "<g id=\"edge45\" class=\"edge\"><title>37&#45;&gt;45</title>\r\n",
       "<path fill=\"none\" stroke=\"black\" d=\"M1217.87,-400.884C1228.19,-389.446 1239.74,-376.634 1250.06,-365.19\"/>\r\n",
       "<polygon fill=\"black\" stroke=\"black\" points=\"1252.88,-367.29 1256.98,-357.52 1247.69,-362.601 1252.88,-367.29\"/>\r\n",
       "</g>\r\n",
       "<!-- 39 -->\r\n",
       "<g id=\"node40\" class=\"node\"><title>39</title>\r\n",
       "<polygon fill=\"none\" stroke=\"black\" points=\"1109.5,-253.5 1018.5,-253.5 1018.5,-200.5 1109.5,-200.5 1109.5,-253.5\"/>\r\n",
       "<text text-anchor=\"middle\" x=\"1064\" y=\"-238.3\" font-family=\"Times New Roman,serif\" font-size=\"14.00\">gini = 0.0</text>\r\n",
       "<text text-anchor=\"middle\" x=\"1064\" y=\"-223.3\" font-family=\"Times New Roman,serif\" font-size=\"14.00\">samples = 2</text>\r\n",
       "<text text-anchor=\"middle\" x=\"1064\" y=\"-208.3\" font-family=\"Times New Roman,serif\" font-size=\"14.00\">value = [0, 2]</text>\r\n",
       "</g>\r\n",
       "<!-- 38&#45;&gt;39 -->\r\n",
       "<g id=\"edge39\" class=\"edge\"><title>38&#45;&gt;39</title>\r\n",
       "<path fill=\"none\" stroke=\"black\" d=\"M1129.51,-296.884C1118.53,-285.336 1106.21,-272.387 1095.25,-260.86\"/>\r\n",
       "<polygon fill=\"black\" stroke=\"black\" points=\"1097.7,-258.354 1088.27,-253.52 1092.62,-263.178 1097.7,-258.354\"/>\r\n",
       "</g>\r\n",
       "<!-- 40 -->\r\n",
       "<g id=\"node41\" class=\"node\"><title>40</title>\r\n",
       "<polygon fill=\"none\" stroke=\"black\" points=\"1220,-261 1128,-261 1128,-193 1220,-193 1220,-261\"/>\r\n",
       "<text text-anchor=\"middle\" x=\"1174\" y=\"-245.8\" font-family=\"Times New Roman,serif\" font-size=\"14.00\">SOP &lt;= 4.25</text>\r\n",
       "<text text-anchor=\"middle\" x=\"1174\" y=\"-230.8\" font-family=\"Times New Roman,serif\" font-size=\"14.00\">gini = 0.245</text>\r\n",
       "<text text-anchor=\"middle\" x=\"1174\" y=\"-215.8\" font-family=\"Times New Roman,serif\" font-size=\"14.00\">samples = 7</text>\r\n",
       "<text text-anchor=\"middle\" x=\"1174\" y=\"-200.8\" font-family=\"Times New Roman,serif\" font-size=\"14.00\">value = [6, 1]</text>\r\n",
       "</g>\r\n",
       "<!-- 38&#45;&gt;40 -->\r\n",
       "<g id=\"edge40\" class=\"edge\"><title>38&#45;&gt;40</title>\r\n",
       "<path fill=\"none\" stroke=\"black\" d=\"M1165.22,-296.884C1166.25,-288.778 1167.37,-279.982 1168.46,-271.472\"/>\r\n",
       "<polygon fill=\"black\" stroke=\"black\" points=\"1171.96,-271.662 1169.76,-261.299 1165.02,-270.777 1171.96,-271.662\"/>\r\n",
       "</g>\r\n",
       "<!-- 41 -->\r\n",
       "<g id=\"node42\" class=\"node\"><title>41</title>\r\n",
       "<polygon fill=\"none\" stroke=\"black\" points=\"1125.5,-149.5 1034.5,-149.5 1034.5,-96.5 1125.5,-96.5 1125.5,-149.5\"/>\r\n",
       "<text text-anchor=\"middle\" x=\"1080\" y=\"-134.3\" font-family=\"Times New Roman,serif\" font-size=\"14.00\">gini = 0.0</text>\r\n",
       "<text text-anchor=\"middle\" x=\"1080\" y=\"-119.3\" font-family=\"Times New Roman,serif\" font-size=\"14.00\">samples = 5</text>\r\n",
       "<text text-anchor=\"middle\" x=\"1080\" y=\"-104.3\" font-family=\"Times New Roman,serif\" font-size=\"14.00\">value = [5, 0]</text>\r\n",
       "</g>\r\n",
       "<!-- 40&#45;&gt;41 -->\r\n",
       "<g id=\"edge41\" class=\"edge\"><title>40&#45;&gt;41</title>\r\n",
       "<path fill=\"none\" stroke=\"black\" d=\"M1143.48,-192.884C1132.94,-181.446 1121.13,-168.634 1110.59,-157.19\"/>\r\n",
       "<polygon fill=\"black\" stroke=\"black\" points=\"1112.87,-154.502 1103.52,-149.52 1107.72,-159.245 1112.87,-154.502\"/>\r\n",
       "</g>\r\n",
       "<!-- 42 -->\r\n",
       "<g id=\"node43\" class=\"node\"><title>42</title>\r\n",
       "<polygon fill=\"none\" stroke=\"black\" points=\"1264,-157 1144,-157 1144,-89 1264,-89 1264,-157\"/>\r\n",
       "<text text-anchor=\"middle\" x=\"1204\" y=\"-141.8\" font-family=\"Times New Roman,serif\" font-size=\"14.00\">Serial No. &lt;= 58.5</text>\r\n",
       "<text text-anchor=\"middle\" x=\"1204\" y=\"-126.8\" font-family=\"Times New Roman,serif\" font-size=\"14.00\">gini = 0.5</text>\r\n",
       "<text text-anchor=\"middle\" x=\"1204\" y=\"-111.8\" font-family=\"Times New Roman,serif\" font-size=\"14.00\">samples = 2</text>\r\n",
       "<text text-anchor=\"middle\" x=\"1204\" y=\"-96.8\" font-family=\"Times New Roman,serif\" font-size=\"14.00\">value = [1, 1]</text>\r\n",
       "</g>\r\n",
       "<!-- 40&#45;&gt;42 -->\r\n",
       "<g id=\"edge42\" class=\"edge\"><title>40&#45;&gt;42</title>\r\n",
       "<path fill=\"none\" stroke=\"black\" d=\"M1183.74,-192.884C1186.18,-184.6 1188.82,-175.595 1191.38,-166.911\"/>\r\n",
       "<polygon fill=\"black\" stroke=\"black\" points=\"1194.74,-167.881 1194.21,-157.299 1188.03,-165.905 1194.74,-167.881\"/>\r\n",
       "</g>\r\n",
       "<!-- 43 -->\r\n",
       "<g id=\"node44\" class=\"node\"><title>43</title>\r\n",
       "<polygon fill=\"none\" stroke=\"black\" points=\"1194.5,-53 1103.5,-53 1103.5,-0 1194.5,-0 1194.5,-53\"/>\r\n",
       "<text text-anchor=\"middle\" x=\"1149\" y=\"-37.8\" font-family=\"Times New Roman,serif\" font-size=\"14.00\">gini = 0.0</text>\r\n",
       "<text text-anchor=\"middle\" x=\"1149\" y=\"-22.8\" font-family=\"Times New Roman,serif\" font-size=\"14.00\">samples = 1</text>\r\n",
       "<text text-anchor=\"middle\" x=\"1149\" y=\"-7.8\" font-family=\"Times New Roman,serif\" font-size=\"14.00\">value = [0, 1]</text>\r\n",
       "</g>\r\n",
       "<!-- 42&#45;&gt;43 -->\r\n",
       "<g id=\"edge43\" class=\"edge\"><title>42&#45;&gt;43</title>\r\n",
       "<path fill=\"none\" stroke=\"black\" d=\"M1184.76,-88.9485C1179.71,-80.2579 1174.24,-70.8608 1169.13,-62.0917\"/>\r\n",
       "<polygon fill=\"black\" stroke=\"black\" points=\"1172.03,-60.1189 1163.98,-53.2367 1165.98,-63.6401 1172.03,-60.1189\"/>\r\n",
       "</g>\r\n",
       "<!-- 44 -->\r\n",
       "<g id=\"node45\" class=\"node\"><title>44</title>\r\n",
       "<polygon fill=\"none\" stroke=\"black\" points=\"1303.5,-53 1212.5,-53 1212.5,-0 1303.5,-0 1303.5,-53\"/>\r\n",
       "<text text-anchor=\"middle\" x=\"1258\" y=\"-37.8\" font-family=\"Times New Roman,serif\" font-size=\"14.00\">gini = 0.0</text>\r\n",
       "<text text-anchor=\"middle\" x=\"1258\" y=\"-22.8\" font-family=\"Times New Roman,serif\" font-size=\"14.00\">samples = 1</text>\r\n",
       "<text text-anchor=\"middle\" x=\"1258\" y=\"-7.8\" font-family=\"Times New Roman,serif\" font-size=\"14.00\">value = [1, 0]</text>\r\n",
       "</g>\r\n",
       "<!-- 42&#45;&gt;44 -->\r\n",
       "<g id=\"edge44\" class=\"edge\"><title>42&#45;&gt;44</title>\r\n",
       "<path fill=\"none\" stroke=\"black\" d=\"M1222.89,-88.9485C1227.85,-80.2579 1233.22,-70.8608 1238.23,-62.0917\"/>\r\n",
       "<polygon fill=\"black\" stroke=\"black\" points=\"1241.37,-63.6557 1243.29,-53.2367 1235.29,-60.1826 1241.37,-63.6557\"/>\r\n",
       "</g>\r\n",
       "<!-- 48 -->\r\n",
       "<g id=\"node49\" class=\"node\"><title>48</title>\r\n",
       "<polygon fill=\"none\" stroke=\"black\" points=\"1536,-469 1384,-469 1384,-401 1536,-401 1536,-469\"/>\r\n",
       "<text text-anchor=\"middle\" x=\"1460\" y=\"-453.8\" font-family=\"Times New Roman,serif\" font-size=\"14.00\">TOEFL Score &lt;= 108.0</text>\r\n",
       "<text text-anchor=\"middle\" x=\"1460\" y=\"-438.8\" font-family=\"Times New Roman,serif\" font-size=\"14.00\">gini = 0.494</text>\r\n",
       "<text text-anchor=\"middle\" x=\"1460\" y=\"-423.8\" font-family=\"Times New Roman,serif\" font-size=\"14.00\">samples = 9</text>\r\n",
       "<text text-anchor=\"middle\" x=\"1460\" y=\"-408.8\" font-family=\"Times New Roman,serif\" font-size=\"14.00\">value = [4, 5]</text>\r\n",
       "</g>\r\n",
       "<!-- 47&#45;&gt;48 -->\r\n",
       "<g id=\"edge48\" class=\"edge\"><title>47&#45;&gt;48</title>\r\n",
       "<path fill=\"none\" stroke=\"black\" d=\"M1461.35,-504.884C1461.19,-496.778 1461.02,-487.982 1460.85,-479.472\"/>\r\n",
       "<polygon fill=\"black\" stroke=\"black\" points=\"1464.35,-479.229 1460.65,-469.299 1457.35,-479.366 1464.35,-479.229\"/>\r\n",
       "</g>\r\n",
       "<!-- 55 -->\r\n",
       "<g id=\"node56\" class=\"node\"><title>55</title>\r\n",
       "<polygon fill=\"none\" stroke=\"black\" points=\"1645.5,-461.5 1554.5,-461.5 1554.5,-408.5 1645.5,-408.5 1645.5,-461.5\"/>\r\n",
       "<text text-anchor=\"middle\" x=\"1600\" y=\"-446.3\" font-family=\"Times New Roman,serif\" font-size=\"14.00\">gini = 0.0</text>\r\n",
       "<text text-anchor=\"middle\" x=\"1600\" y=\"-431.3\" font-family=\"Times New Roman,serif\" font-size=\"14.00\">samples = 8</text>\r\n",
       "<text text-anchor=\"middle\" x=\"1600\" y=\"-416.3\" font-family=\"Times New Roman,serif\" font-size=\"14.00\">value = [0, 8]</text>\r\n",
       "</g>\r\n",
       "<!-- 47&#45;&gt;55 -->\r\n",
       "<g id=\"edge55\" class=\"edge\"><title>47&#45;&gt;55</title>\r\n",
       "<path fill=\"none\" stroke=\"black\" d=\"M1506.8,-504.884C1523.02,-492.896 1541.28,-479.399 1557.32,-467.549\"/>\r\n",
       "<polygon fill=\"black\" stroke=\"black\" points=\"1559.51,-470.279 1565.47,-461.52 1555.35,-464.649 1559.51,-470.279\"/>\r\n",
       "</g>\r\n",
       "<!-- 49 -->\r\n",
       "<g id=\"node50\" class=\"node\"><title>49</title>\r\n",
       "<polygon fill=\"none\" stroke=\"black\" points=\"1496,-365 1344,-365 1344,-297 1496,-297 1496,-365\"/>\r\n",
       "<text text-anchor=\"middle\" x=\"1420\" y=\"-349.8\" font-family=\"Times New Roman,serif\" font-size=\"14.00\">TOEFL Score &lt;= 103.5</text>\r\n",
       "<text text-anchor=\"middle\" x=\"1420\" y=\"-334.8\" font-family=\"Times New Roman,serif\" font-size=\"14.00\">gini = 0.408</text>\r\n",
       "<text text-anchor=\"middle\" x=\"1420\" y=\"-319.8\" font-family=\"Times New Roman,serif\" font-size=\"14.00\">samples = 7</text>\r\n",
       "<text text-anchor=\"middle\" x=\"1420\" y=\"-304.8\" font-family=\"Times New Roman,serif\" font-size=\"14.00\">value = [2, 5]</text>\r\n",
       "</g>\r\n",
       "<!-- 48&#45;&gt;49 -->\r\n",
       "<g id=\"edge49\" class=\"edge\"><title>48&#45;&gt;49</title>\r\n",
       "<path fill=\"none\" stroke=\"black\" d=\"M1447.01,-400.884C1443.73,-392.511 1440.16,-383.401 1436.72,-374.631\"/>\r\n",
       "<polygon fill=\"black\" stroke=\"black\" points=\"1439.97,-373.331 1433.06,-365.299 1433.45,-375.887 1439.97,-373.331\"/>\r\n",
       "</g>\r\n",
       "<!-- 54 -->\r\n",
       "<g id=\"node55\" class=\"node\"><title>54</title>\r\n",
       "<polygon fill=\"none\" stroke=\"black\" points=\"1605.5,-357.5 1514.5,-357.5 1514.5,-304.5 1605.5,-304.5 1605.5,-357.5\"/>\r\n",
       "<text text-anchor=\"middle\" x=\"1560\" y=\"-342.3\" font-family=\"Times New Roman,serif\" font-size=\"14.00\">gini = 0.0</text>\r\n",
       "<text text-anchor=\"middle\" x=\"1560\" y=\"-327.3\" font-family=\"Times New Roman,serif\" font-size=\"14.00\">samples = 2</text>\r\n",
       "<text text-anchor=\"middle\" x=\"1560\" y=\"-312.3\" font-family=\"Times New Roman,serif\" font-size=\"14.00\">value = [2, 0]</text>\r\n",
       "</g>\r\n",
       "<!-- 48&#45;&gt;54 -->\r\n",
       "<g id=\"edge54\" class=\"edge\"><title>48&#45;&gt;54</title>\r\n",
       "<path fill=\"none\" stroke=\"black\" d=\"M1492.47,-400.884C1503.79,-389.336 1516.48,-376.387 1527.78,-364.86\"/>\r\n",
       "<polygon fill=\"black\" stroke=\"black\" points=\"1530.48,-367.111 1534.98,-357.52 1525.48,-362.21 1530.48,-367.111\"/>\r\n",
       "</g>\r\n",
       "<!-- 50 -->\r\n",
       "<g id=\"node51\" class=\"node\"><title>50</title>\r\n",
       "<polygon fill=\"none\" stroke=\"black\" points=\"1452.5,-261 1325.5,-261 1325.5,-193 1452.5,-193 1452.5,-261\"/>\r\n",
       "<text text-anchor=\"middle\" x=\"1389\" y=\"-245.8\" font-family=\"Times New Roman,serif\" font-size=\"14.00\">Serial No. &lt;= 461.0</text>\r\n",
       "<text text-anchor=\"middle\" x=\"1389\" y=\"-230.8\" font-family=\"Times New Roman,serif\" font-size=\"14.00\">gini = 0.444</text>\r\n",
       "<text text-anchor=\"middle\" x=\"1389\" y=\"-215.8\" font-family=\"Times New Roman,serif\" font-size=\"14.00\">samples = 3</text>\r\n",
       "<text text-anchor=\"middle\" x=\"1389\" y=\"-200.8\" font-family=\"Times New Roman,serif\" font-size=\"14.00\">value = [2, 1]</text>\r\n",
       "</g>\r\n",
       "<!-- 49&#45;&gt;50 -->\r\n",
       "<g id=\"edge50\" class=\"edge\"><title>49&#45;&gt;50</title>\r\n",
       "<path fill=\"none\" stroke=\"black\" d=\"M1409.94,-296.884C1407.42,-288.6 1404.68,-279.595 1402.04,-270.911\"/>\r\n",
       "<polygon fill=\"black\" stroke=\"black\" points=\"1405.38,-269.849 1399.12,-261.299 1398.68,-271.885 1405.38,-269.849\"/>\r\n",
       "</g>\r\n",
       "<!-- 53 -->\r\n",
       "<g id=\"node54\" class=\"node\"><title>53</title>\r\n",
       "<polygon fill=\"none\" stroke=\"black\" points=\"1561.5,-253.5 1470.5,-253.5 1470.5,-200.5 1561.5,-200.5 1561.5,-253.5\"/>\r\n",
       "<text text-anchor=\"middle\" x=\"1516\" y=\"-238.3\" font-family=\"Times New Roman,serif\" font-size=\"14.00\">gini = 0.0</text>\r\n",
       "<text text-anchor=\"middle\" x=\"1516\" y=\"-223.3\" font-family=\"Times New Roman,serif\" font-size=\"14.00\">samples = 4</text>\r\n",
       "<text text-anchor=\"middle\" x=\"1516\" y=\"-208.3\" font-family=\"Times New Roman,serif\" font-size=\"14.00\">value = [0, 4]</text>\r\n",
       "</g>\r\n",
       "<!-- 49&#45;&gt;53 -->\r\n",
       "<g id=\"edge53\" class=\"edge\"><title>49&#45;&gt;53</title>\r\n",
       "<path fill=\"none\" stroke=\"black\" d=\"M1451.17,-296.884C1462.04,-285.336 1474.22,-272.387 1485.07,-260.86\"/>\r\n",
       "<polygon fill=\"black\" stroke=\"black\" points=\"1487.68,-263.201 1491.98,-253.52 1482.58,-258.403 1487.68,-263.201\"/>\r\n",
       "</g>\r\n",
       "<!-- 51 -->\r\n",
       "<g id=\"node52\" class=\"node\"><title>51</title>\r\n",
       "<polygon fill=\"none\" stroke=\"black\" points=\"1379.5,-149.5 1288.5,-149.5 1288.5,-96.5 1379.5,-96.5 1379.5,-149.5\"/>\r\n",
       "<text text-anchor=\"middle\" x=\"1334\" y=\"-134.3\" font-family=\"Times New Roman,serif\" font-size=\"14.00\">gini = 0.0</text>\r\n",
       "<text text-anchor=\"middle\" x=\"1334\" y=\"-119.3\" font-family=\"Times New Roman,serif\" font-size=\"14.00\">samples = 2</text>\r\n",
       "<text text-anchor=\"middle\" x=\"1334\" y=\"-104.3\" font-family=\"Times New Roman,serif\" font-size=\"14.00\">value = [2, 0]</text>\r\n",
       "</g>\r\n",
       "<!-- 50&#45;&gt;51 -->\r\n",
       "<g id=\"edge51\" class=\"edge\"><title>50&#45;&gt;51</title>\r\n",
       "<path fill=\"none\" stroke=\"black\" d=\"M1371.14,-192.884C1365.21,-181.886 1358.6,-169.617 1352.61,-158.517\"/>\r\n",
       "<polygon fill=\"black\" stroke=\"black\" points=\"1355.59,-156.661 1347.76,-149.52 1349.43,-159.983 1355.59,-156.661\"/>\r\n",
       "</g>\r\n",
       "<!-- 52 -->\r\n",
       "<g id=\"node53\" class=\"node\"><title>52</title>\r\n",
       "<polygon fill=\"none\" stroke=\"black\" points=\"1488.5,-149.5 1397.5,-149.5 1397.5,-96.5 1488.5,-96.5 1488.5,-149.5\"/>\r\n",
       "<text text-anchor=\"middle\" x=\"1443\" y=\"-134.3\" font-family=\"Times New Roman,serif\" font-size=\"14.00\">gini = 0.0</text>\r\n",
       "<text text-anchor=\"middle\" x=\"1443\" y=\"-119.3\" font-family=\"Times New Roman,serif\" font-size=\"14.00\">samples = 1</text>\r\n",
       "<text text-anchor=\"middle\" x=\"1443\" y=\"-104.3\" font-family=\"Times New Roman,serif\" font-size=\"14.00\">value = [0, 1]</text>\r\n",
       "</g>\r\n",
       "<!-- 50&#45;&gt;52 -->\r\n",
       "<g id=\"edge52\" class=\"edge\"><title>50&#45;&gt;52</title>\r\n",
       "<path fill=\"none\" stroke=\"black\" d=\"M1406.53,-192.884C1412.35,-181.886 1418.85,-169.617 1424.73,-158.517\"/>\r\n",
       "<polygon fill=\"black\" stroke=\"black\" points=\"1427.9,-159.995 1429.49,-149.52 1421.72,-156.72 1427.9,-159.995\"/>\r\n",
       "</g>\r\n",
       "<!-- 57 -->\r\n",
       "<g id=\"node58\" class=\"node\"><title>57</title>\r\n",
       "<polygon fill=\"none\" stroke=\"black\" points=\"1868.5,-573 1741.5,-573 1741.5,-505 1868.5,-505 1868.5,-573\"/>\r\n",
       "<text text-anchor=\"middle\" x=\"1805\" y=\"-557.8\" font-family=\"Times New Roman,serif\" font-size=\"14.00\">Serial No. &lt;= 106.5</text>\r\n",
       "<text text-anchor=\"middle\" x=\"1805\" y=\"-542.8\" font-family=\"Times New Roman,serif\" font-size=\"14.00\">gini = 0.366</text>\r\n",
       "<text text-anchor=\"middle\" x=\"1805\" y=\"-527.8\" font-family=\"Times New Roman,serif\" font-size=\"14.00\">samples = 29</text>\r\n",
       "<text text-anchor=\"middle\" x=\"1805\" y=\"-512.8\" font-family=\"Times New Roman,serif\" font-size=\"14.00\">value = [7, 22]</text>\r\n",
       "</g>\r\n",
       "<!-- 56&#45;&gt;57 -->\r\n",
       "<g id=\"edge57\" class=\"edge\"><title>56&#45;&gt;57</title>\r\n",
       "<path fill=\"none\" stroke=\"black\" d=\"M1805,-608.884C1805,-600.778 1805,-591.982 1805,-583.472\"/>\r\n",
       "<polygon fill=\"black\" stroke=\"black\" points=\"1808.5,-583.299 1805,-573.299 1801.5,-583.299 1808.5,-583.299\"/>\r\n",
       "</g>\r\n",
       "<!-- 66 -->\r\n",
       "<g id=\"node67\" class=\"node\"><title>66</title>\r\n",
       "<polygon fill=\"none\" stroke=\"black\" points=\"2095.5,-573 1958.5,-573 1958.5,-505 2095.5,-505 2095.5,-573\"/>\r\n",
       "<text text-anchor=\"middle\" x=\"2027\" y=\"-557.8\" font-family=\"Times New Roman,serif\" font-size=\"14.00\">GRE Score &lt;= 310.5</text>\r\n",
       "<text text-anchor=\"middle\" x=\"2027\" y=\"-542.8\" font-family=\"Times New Roman,serif\" font-size=\"14.00\">gini = 0.021</text>\r\n",
       "<text text-anchor=\"middle\" x=\"2027\" y=\"-527.8\" font-family=\"Times New Roman,serif\" font-size=\"14.00\">samples = 93</text>\r\n",
       "<text text-anchor=\"middle\" x=\"2027\" y=\"-512.8\" font-family=\"Times New Roman,serif\" font-size=\"14.00\">value = [1, 92]</text>\r\n",
       "</g>\r\n",
       "<!-- 56&#45;&gt;66 -->\r\n",
       "<g id=\"edge66\" class=\"edge\"><title>56&#45;&gt;66</title>\r\n",
       "<path fill=\"none\" stroke=\"black\" d=\"M1857.05,-618.086C1884.46,-605.492 1918.62,-589.794 1949.12,-575.783\"/>\r\n",
       "<polygon fill=\"black\" stroke=\"black\" points=\"1950.83,-578.85 1958.45,-571.494 1947.91,-572.489 1950.83,-578.85\"/>\r\n",
       "</g>\r\n",
       "<!-- 58 -->\r\n",
       "<g id=\"node59\" class=\"node\"><title>58</title>\r\n",
       "<polygon fill=\"none\" stroke=\"black\" points=\"1793,-469 1673,-469 1673,-401 1793,-401 1793,-469\"/>\r\n",
       "<text text-anchor=\"middle\" x=\"1733\" y=\"-453.8\" font-family=\"Times New Roman,serif\" font-size=\"14.00\">Serial No. &lt;= 49.5</text>\r\n",
       "<text text-anchor=\"middle\" x=\"1733\" y=\"-438.8\" font-family=\"Times New Roman,serif\" font-size=\"14.00\">gini = 0.278</text>\r\n",
       "<text text-anchor=\"middle\" x=\"1733\" y=\"-423.8\" font-family=\"Times New Roman,serif\" font-size=\"14.00\">samples = 6</text>\r\n",
       "<text text-anchor=\"middle\" x=\"1733\" y=\"-408.8\" font-family=\"Times New Roman,serif\" font-size=\"14.00\">value = [5, 1]</text>\r\n",
       "</g>\r\n",
       "<!-- 57&#45;&gt;58 -->\r\n",
       "<g id=\"edge58\" class=\"edge\"><title>57&#45;&gt;58</title>\r\n",
       "<path fill=\"none\" stroke=\"black\" d=\"M1781.62,-504.884C1775.46,-496.154 1768.74,-486.625 1762.3,-477.514\"/>\r\n",
       "<polygon fill=\"black\" stroke=\"black\" points=\"1765.13,-475.451 1756.51,-469.299 1759.41,-479.487 1765.13,-475.451\"/>\r\n",
       "</g>\r\n",
       "<!-- 61 -->\r\n",
       "<g id=\"node62\" class=\"node\"><title>61</title>\r\n",
       "<polygon fill=\"none\" stroke=\"black\" points=\"1963,-469 1811,-469 1811,-401 1963,-401 1963,-469\"/>\r\n",
       "<text text-anchor=\"middle\" x=\"1887\" y=\"-453.8\" font-family=\"Times New Roman,serif\" font-size=\"14.00\">TOEFL Score &lt;= 100.0</text>\r\n",
       "<text text-anchor=\"middle\" x=\"1887\" y=\"-438.8\" font-family=\"Times New Roman,serif\" font-size=\"14.00\">gini = 0.159</text>\r\n",
       "<text text-anchor=\"middle\" x=\"1887\" y=\"-423.8\" font-family=\"Times New Roman,serif\" font-size=\"14.00\">samples = 23</text>\r\n",
       "<text text-anchor=\"middle\" x=\"1887\" y=\"-408.8\" font-family=\"Times New Roman,serif\" font-size=\"14.00\">value = [2, 21]</text>\r\n",
       "</g>\r\n",
       "<!-- 57&#45;&gt;61 -->\r\n",
       "<g id=\"edge61\" class=\"edge\"><title>57&#45;&gt;61</title>\r\n",
       "<path fill=\"none\" stroke=\"black\" d=\"M1831.62,-504.884C1838.71,-496.065 1846.46,-486.43 1853.85,-477.235\"/>\r\n",
       "<polygon fill=\"black\" stroke=\"black\" points=\"1856.69,-479.286 1860.23,-469.299 1851.24,-474.9 1856.69,-479.286\"/>\r\n",
       "</g>\r\n",
       "<!-- 59 -->\r\n",
       "<g id=\"node60\" class=\"node\"><title>59</title>\r\n",
       "<polygon fill=\"none\" stroke=\"black\" points=\"1714.5,-357.5 1623.5,-357.5 1623.5,-304.5 1714.5,-304.5 1714.5,-357.5\"/>\r\n",
       "<text text-anchor=\"middle\" x=\"1669\" y=\"-342.3\" font-family=\"Times New Roman,serif\" font-size=\"14.00\">gini = 0.0</text>\r\n",
       "<text text-anchor=\"middle\" x=\"1669\" y=\"-327.3\" font-family=\"Times New Roman,serif\" font-size=\"14.00\">samples = 1</text>\r\n",
       "<text text-anchor=\"middle\" x=\"1669\" y=\"-312.3\" font-family=\"Times New Roman,serif\" font-size=\"14.00\">value = [0, 1]</text>\r\n",
       "</g>\r\n",
       "<!-- 58&#45;&gt;59 -->\r\n",
       "<g id=\"edge59\" class=\"edge\"><title>58&#45;&gt;59</title>\r\n",
       "<path fill=\"none\" stroke=\"black\" d=\"M1712.22,-400.884C1705.25,-389.776 1697.47,-377.372 1690.45,-366.184\"/>\r\n",
       "<polygon fill=\"black\" stroke=\"black\" points=\"1693.29,-364.13 1685.01,-357.52 1687.36,-367.851 1693.29,-364.13\"/>\r\n",
       "</g>\r\n",
       "<!-- 60 -->\r\n",
       "<g id=\"node61\" class=\"node\"><title>60</title>\r\n",
       "<polygon fill=\"none\" stroke=\"black\" points=\"1823.5,-357.5 1732.5,-357.5 1732.5,-304.5 1823.5,-304.5 1823.5,-357.5\"/>\r\n",
       "<text text-anchor=\"middle\" x=\"1778\" y=\"-342.3\" font-family=\"Times New Roman,serif\" font-size=\"14.00\">gini = 0.0</text>\r\n",
       "<text text-anchor=\"middle\" x=\"1778\" y=\"-327.3\" font-family=\"Times New Roman,serif\" font-size=\"14.00\">samples = 5</text>\r\n",
       "<text text-anchor=\"middle\" x=\"1778\" y=\"-312.3\" font-family=\"Times New Roman,serif\" font-size=\"14.00\">value = [5, 0]</text>\r\n",
       "</g>\r\n",
       "<!-- 58&#45;&gt;60 -->\r\n",
       "<g id=\"edge60\" class=\"edge\"><title>58&#45;&gt;60</title>\r\n",
       "<path fill=\"none\" stroke=\"black\" d=\"M1747.61,-400.884C1752.41,-389.996 1757.77,-377.863 1762.63,-366.85\"/>\r\n",
       "<polygon fill=\"black\" stroke=\"black\" points=\"1765.91,-368.082 1766.74,-357.52 1759.5,-365.256 1765.91,-368.082\"/>\r\n",
       "</g>\r\n",
       "<!-- 62 -->\r\n",
       "<g id=\"node63\" class=\"node\"><title>62</title>\r\n",
       "<polygon fill=\"none\" stroke=\"black\" points=\"1932.5,-357.5 1841.5,-357.5 1841.5,-304.5 1932.5,-304.5 1932.5,-357.5\"/>\r\n",
       "<text text-anchor=\"middle\" x=\"1887\" y=\"-342.3\" font-family=\"Times New Roman,serif\" font-size=\"14.00\">gini = 0.0</text>\r\n",
       "<text text-anchor=\"middle\" x=\"1887\" y=\"-327.3\" font-family=\"Times New Roman,serif\" font-size=\"14.00\">samples = 1</text>\r\n",
       "<text text-anchor=\"middle\" x=\"1887\" y=\"-312.3\" font-family=\"Times New Roman,serif\" font-size=\"14.00\">value = [1, 0]</text>\r\n",
       "</g>\r\n",
       "<!-- 61&#45;&gt;62 -->\r\n",
       "<g id=\"edge62\" class=\"edge\"><title>61&#45;&gt;62</title>\r\n",
       "<path fill=\"none\" stroke=\"black\" d=\"M1887,-400.884C1887,-390.326 1887,-378.597 1887,-367.854\"/>\r\n",
       "<polygon fill=\"black\" stroke=\"black\" points=\"1890.5,-367.52 1887,-357.52 1883.5,-367.52 1890.5,-367.52\"/>\r\n",
       "</g>\r\n",
       "<!-- 63 -->\r\n",
       "<g id=\"node64\" class=\"node\"><title>63</title>\r\n",
       "<polygon fill=\"none\" stroke=\"black\" points=\"2049,-365 1951,-365 1951,-297 2049,-297 2049,-365\"/>\r\n",
       "<text text-anchor=\"middle\" x=\"2000\" y=\"-349.8\" font-family=\"Times New Roman,serif\" font-size=\"14.00\">LOR &#160;&lt;= 2.75</text>\r\n",
       "<text text-anchor=\"middle\" x=\"2000\" y=\"-334.8\" font-family=\"Times New Roman,serif\" font-size=\"14.00\">gini = 0.087</text>\r\n",
       "<text text-anchor=\"middle\" x=\"2000\" y=\"-319.8\" font-family=\"Times New Roman,serif\" font-size=\"14.00\">samples = 22</text>\r\n",
       "<text text-anchor=\"middle\" x=\"2000\" y=\"-304.8\" font-family=\"Times New Roman,serif\" font-size=\"14.00\">value = [1, 21]</text>\r\n",
       "</g>\r\n",
       "<!-- 61&#45;&gt;63 -->\r\n",
       "<g id=\"edge63\" class=\"edge\"><title>61&#45;&gt;63</title>\r\n",
       "<path fill=\"none\" stroke=\"black\" d=\"M1923.69,-400.884C1933.85,-391.709 1945,-381.65 1955.55,-372.123\"/>\r\n",
       "<polygon fill=\"black\" stroke=\"black\" points=\"1958.03,-374.598 1963.11,-365.299 1953.34,-369.402 1958.03,-374.598\"/>\r\n",
       "</g>\r\n",
       "<!-- 64 -->\r\n",
       "<g id=\"node65\" class=\"node\"><title>64</title>\r\n",
       "<polygon fill=\"none\" stroke=\"black\" points=\"1988.5,-253.5 1897.5,-253.5 1897.5,-200.5 1988.5,-200.5 1988.5,-253.5\"/>\r\n",
       "<text text-anchor=\"middle\" x=\"1943\" y=\"-238.3\" font-family=\"Times New Roman,serif\" font-size=\"14.00\">gini = 0.0</text>\r\n",
       "<text text-anchor=\"middle\" x=\"1943\" y=\"-223.3\" font-family=\"Times New Roman,serif\" font-size=\"14.00\">samples = 1</text>\r\n",
       "<text text-anchor=\"middle\" x=\"1943\" y=\"-208.3\" font-family=\"Times New Roman,serif\" font-size=\"14.00\">value = [1, 0]</text>\r\n",
       "</g>\r\n",
       "<!-- 63&#45;&gt;64 -->\r\n",
       "<g id=\"edge64\" class=\"edge\"><title>63&#45;&gt;64</title>\r\n",
       "<path fill=\"none\" stroke=\"black\" d=\"M1981.49,-296.884C1975.35,-285.886 1968.49,-273.617 1962.29,-262.517\"/>\r\n",
       "<polygon fill=\"black\" stroke=\"black\" points=\"1965.19,-260.542 1957.26,-253.52 1959.08,-263.957 1965.19,-260.542\"/>\r\n",
       "</g>\r\n",
       "<!-- 65 -->\r\n",
       "<g id=\"node66\" class=\"node\"><title>65</title>\r\n",
       "<polygon fill=\"none\" stroke=\"black\" points=\"2105,-253.5 2007,-253.5 2007,-200.5 2105,-200.5 2105,-253.5\"/>\r\n",
       "<text text-anchor=\"middle\" x=\"2056\" y=\"-238.3\" font-family=\"Times New Roman,serif\" font-size=\"14.00\">gini = 0.0</text>\r\n",
       "<text text-anchor=\"middle\" x=\"2056\" y=\"-223.3\" font-family=\"Times New Roman,serif\" font-size=\"14.00\">samples = 21</text>\r\n",
       "<text text-anchor=\"middle\" x=\"2056\" y=\"-208.3\" font-family=\"Times New Roman,serif\" font-size=\"14.00\">value = [0, 21]</text>\r\n",
       "</g>\r\n",
       "<!-- 63&#45;&gt;65 -->\r\n",
       "<g id=\"edge65\" class=\"edge\"><title>63&#45;&gt;65</title>\r\n",
       "<path fill=\"none\" stroke=\"black\" d=\"M2018.18,-296.884C2024.22,-285.886 2030.96,-273.617 2037.05,-262.517\"/>\r\n",
       "<polygon fill=\"black\" stroke=\"black\" points=\"2040.24,-263.97 2041.99,-253.52 2034.11,-260.601 2040.24,-263.97\"/>\r\n",
       "</g>\r\n",
       "<!-- 67 -->\r\n",
       "<g id=\"node68\" class=\"node\"><title>67</title>\r\n",
       "<polygon fill=\"none\" stroke=\"black\" points=\"2072.5,-461.5 1981.5,-461.5 1981.5,-408.5 2072.5,-408.5 2072.5,-461.5\"/>\r\n",
       "<text text-anchor=\"middle\" x=\"2027\" y=\"-446.3\" font-family=\"Times New Roman,serif\" font-size=\"14.00\">gini = 0.0</text>\r\n",
       "<text text-anchor=\"middle\" x=\"2027\" y=\"-431.3\" font-family=\"Times New Roman,serif\" font-size=\"14.00\">samples = 1</text>\r\n",
       "<text text-anchor=\"middle\" x=\"2027\" y=\"-416.3\" font-family=\"Times New Roman,serif\" font-size=\"14.00\">value = [1, 0]</text>\r\n",
       "</g>\r\n",
       "<!-- 66&#45;&gt;67 -->\r\n",
       "<g id=\"edge67\" class=\"edge\"><title>66&#45;&gt;67</title>\r\n",
       "<path fill=\"none\" stroke=\"black\" d=\"M2027,-504.884C2027,-494.326 2027,-482.597 2027,-471.854\"/>\r\n",
       "<polygon fill=\"black\" stroke=\"black\" points=\"2030.5,-471.52 2027,-461.52 2023.5,-471.52 2030.5,-471.52\"/>\r\n",
       "</g>\r\n",
       "<!-- 68 -->\r\n",
       "<g id=\"node69\" class=\"node\"><title>68</title>\r\n",
       "<polygon fill=\"none\" stroke=\"black\" points=\"2189,-461.5 2091,-461.5 2091,-408.5 2189,-408.5 2189,-461.5\"/>\r\n",
       "<text text-anchor=\"middle\" x=\"2140\" y=\"-446.3\" font-family=\"Times New Roman,serif\" font-size=\"14.00\">gini = 0.0</text>\r\n",
       "<text text-anchor=\"middle\" x=\"2140\" y=\"-431.3\" font-family=\"Times New Roman,serif\" font-size=\"14.00\">samples = 92</text>\r\n",
       "<text text-anchor=\"middle\" x=\"2140\" y=\"-416.3\" font-family=\"Times New Roman,serif\" font-size=\"14.00\">value = [0, 92]</text>\r\n",
       "</g>\r\n",
       "<!-- 66&#45;&gt;68 -->\r\n",
       "<g id=\"edge68\" class=\"edge\"><title>66&#45;&gt;68</title>\r\n",
       "<path fill=\"none\" stroke=\"black\" d=\"M2063.69,-504.884C2076.6,-493.226 2091.1,-480.141 2103.96,-468.532\"/>\r\n",
       "<polygon fill=\"black\" stroke=\"black\" points=\"2106.65,-470.819 2111.73,-461.52 2101.96,-465.622 2106.65,-470.819\"/>\r\n",
       "</g>\r\n",
       "</g>\r\n",
       "</svg>\r\n"
      ],
      "text/plain": [
       "<graphviz.files.Source at 0x1b5a13eb108>"
      ]
     },
     "execution_count": 38,
     "metadata": {},
     "output_type": "execute_result"
    }
   ],
   "source": [
    "import graphviz\n",
    "from sklearn.tree import export_graphviz\n",
    "dot_data = export_graphviz(dtc,out_file=None, feature_names = X.columns)\n",
    "graph = graphviz.Source(dot_data)\n",
    "graph"
   ]
  },
  {
   "cell_type": "code",
   "execution_count": 52,
   "metadata": {},
   "outputs": [],
   "source": [
    "feat = pd.DataFrame(data = dtc.feature_importances_, index = X.columns).sort_values(by = 0, ascending = False).T"
   ]
  },
  {
   "cell_type": "code",
   "execution_count": 56,
   "metadata": {},
   "outputs": [
    {
     "data": {
      "text/plain": [
       "<matplotlib.axes._subplots.AxesSubplot at 0x1b5a14789c8>"
      ]
     },
     "execution_count": 56,
     "metadata": {},
     "output_type": "execute_result"
    },
    {
     "data": {
      "image/png": "[encoded data removed]",
      "text/plain": [
       "<Figure size 432x288 with 1 Axes>"
      ]
     },
     "metadata": {
      "needs_background": "light"
     },
     "output_type": "display_data"
    }
   ],
   "source": [
    "sns.barplot(data = feat, orient = 'h')"
   ]
  },
  {
   "cell_type": "code",
   "execution_count": 87,
   "metadata": {},
   "outputs": [
    {
     "data": {
      "text/plain": [
       "RandomForestClassifier(bootstrap=True, ccp_alpha=0.0, class_weight=None,\n",
       "                       criterion='gini', max_depth=None, max_features='auto',\n",
       "                       max_leaf_nodes=None, max_samples=None,\n",
       "                       min_impurity_decrease=0.0, min_impurity_split=None,\n",
       "                       min_samples_leaf=1, min_samples_split=2,\n",
       "                       min_weight_fraction_leaf=0.0, n_estimators=50,\n",
       "                       n_jobs=None, oob_score=False, random_state=None,\n",
       "                       verbose=0, warm_start=False)"
      ]
     },
     "execution_count": 87,
     "metadata": {},
     "output_type": "execute_result"
    }
   ],
   "source": [
    "from sklearn.ensemble import RandomForestClassifier\n",
    "\n",
    "rfc = RandomForestClassifier(n_estimators = 50)\n",
    "\n",
    "rfc.fit(X_train,Y_train)"
   ]
  },
  {
   "cell_type": "code",
   "execution_count": 88,
   "metadata": {},
   "outputs": [
    {
     "data": {
      "text/plain": [
       "0.8933333333333333"
      ]
     },
     "execution_count": 88,
     "metadata": {},
     "output_type": "execute_result"
    }
   ],
   "source": [
    "rfc.score(X_test, Y_test)"
   ]
  },
  {
   "cell_type": "code",
   "execution_count": 90,
   "metadata": {},
   "outputs": [
    {
     "data": {
      "text/plain": [
       "RandomForestClassifier(bootstrap=True, ccp_alpha=0.0, class_weight=None,\n",
       "                       criterion='gini', max_depth=None, max_features='auto',\n",
       "                       max_leaf_nodes=None, max_samples=None,\n",
       "                       min_impurity_decrease=0.0, min_impurity_split=None,\n",
       "                       min_samples_leaf=1, min_samples_split=2,\n",
       "                       min_weight_fraction_leaf=0.0, n_estimators=20,\n",
       "                       n_jobs=None, oob_score=False, random_state=None,\n",
       "                       verbose=0, warm_start=False)"
      ]
     },
     "execution_count": 90,
     "metadata": {},
     "output_type": "execute_result"
    }
   ],
   "source": [
    "rfc2 = RandomForestClassifier(n_estimators = 20)\n",
    "\n",
    "rfc2.fit(X_train, Y_train)"
   ]
  },
  {
   "cell_type": "code",
   "execution_count": 91,
   "metadata": {},
   "outputs": [
    {
     "data": {
      "text/plain": [
       "0.8866666666666667"
      ]
     },
     "execution_count": 91,
     "metadata": {},
     "output_type": "execute_result"
    }
   ],
   "source": [
    "rfc2.score(X_test, Y_test)"
   ]
  },
  {
   "cell_type": "code",
   "execution_count": 92,
   "metadata": {},
   "outputs": [],
   "source": [
    "from sklearn.model_selection import GridSearchCV\n",
    "params = {'n_estimators':[1,5,10,100,1000], 'criterion' : ['gini', 'entropy']}\n",
    "\n",
    "grid = GridSearchCV(rfc, params, n_jobs = -1, verbose = 2)"
   ]
  },
  {
   "cell_type": "code",
   "execution_count": 93,
   "metadata": {},
   "outputs": [
    {
     "name": "stdout",
     "output_type": "stream",
     "text": [
      "Fitting 5 folds for each of 10 candidates, totalling 50 fits\n"
     ]
    },
    {
     "name": "stderr",
     "output_type": "stream",
     "text": [
      "[Parallel(n_jobs=-1)]: Using backend LokyBackend with 8 concurrent workers.\n",
      "[Parallel(n_jobs=-1)]: Done  25 tasks      | elapsed:   10.4s\n",
      "[Parallel(n_jobs=-1)]: Done  50 out of  50 | elapsed:   24.7s finished\n"
     ]
    },
    {
     "data": {
      "text/plain": [
       "GridSearchCV(cv=None, error_score=nan,\n",
       "             estimator=RandomForestClassifier(bootstrap=True, ccp_alpha=0.0,\n",
       "                                              class_weight=None,\n",
       "                                              criterion='gini', max_depth=None,\n",
       "                                              max_features='auto',\n",
       "                                              max_leaf_nodes=None,\n",
       "                                              max_samples=None,\n",
       "                                              min_impurity_decrease=0.0,\n",
       "                                              min_impurity_split=None,\n",
       "                                              min_samples_leaf=1,\n",
       "                                              min_samples_split=2,\n",
       "                                              min_weight_fraction_leaf=0.0,\n",
       "                                              n_estimators=50, n_jobs=None,\n",
       "                                              oob_score=False,\n",
       "                                              random_state=None, verbose=0,\n",
       "                                              warm_start=False),\n",
       "             iid='deprecated', n_jobs=-1,\n",
       "             param_grid={'criterion': ['gini', 'entropy'],\n",
       "                         'n_estimators': [1, 5, 10, 100, 1000]},\n",
       "             pre_dispatch='2*n_jobs', refit=True, return_train_score=False,\n",
       "             scoring=None, verbose=2)"
      ]
     },
     "execution_count": 93,
     "metadata": {},
     "output_type": "execute_result"
    }
   ],
   "source": [
    "grid.fit(X_train, Y_train)"
   ]
  },
  {
   "cell_type": "code",
   "execution_count": 94,
   "metadata": {},
   "outputs": [
    {
     "data": {
      "text/plain": [
       "{'criterion': 'entropy', 'n_estimators': 100}"
      ]
     },
     "execution_count": 94,
     "metadata": {},
     "output_type": "execute_result"
    }
   ],
   "source": [
    "grid.best_params_"
   ]
  },
  {
   "cell_type": "code",
   "execution_count": 95,
   "metadata": {},
   "outputs": [
    {
     "data": {
      "text/plain": [
       "0.8866666666666667"
      ]
     },
     "execution_count": 95,
     "metadata": {},
     "output_type": "execute_result"
    }
   ],
   "source": [
    "grid.score(X_test, Y_test)"
   ]
  },
  {
   "cell_type": "code",
   "execution_count": 96,
   "metadata": {},
   "outputs": [
    {
     "data": {
      "text/plain": [
       "0.9"
      ]
     },
     "execution_count": 96,
     "metadata": {},
     "output_type": "execute_result"
    }
   ],
   "source": [
    "grid.best_score_"
   ]
  },
  {
   "cell_type": "code",
   "execution_count": 97,
   "metadata": {},
   "outputs": [
    {
     "data": {
      "text/plain": [
       "RandomForestClassifier(bootstrap=True, ccp_alpha=0.0, class_weight=None,\n",
       "                       criterion='gini', max_depth=None, max_features='auto',\n",
       "                       max_leaf_nodes=None, max_samples=None,\n",
       "                       min_impurity_decrease=0.0, min_impurity_split=None,\n",
       "                       min_samples_leaf=1, min_samples_split=2,\n",
       "                       min_weight_fraction_leaf=0.0, n_estimators=100,\n",
       "                       n_jobs=None, oob_score=False, random_state=None,\n",
       "                       verbose=0, warm_start=False)"
      ]
     },
     "execution_count": 97,
     "metadata": {},
     "output_type": "execute_result"
    }
   ],
   "source": [
    "rfc3 = RandomForestClassifier(n_estimators = 100)\n",
    "\n",
    "rfc3.fit(X_train, Y_train)"
   ]
  },
  {
   "cell_type": "code",
   "execution_count": 98,
   "metadata": {},
   "outputs": [
    {
     "data": {
      "text/plain": [
       "array([0.0725857 , 0.21903232, 0.14626394, 0.07303826, 0.09983872,\n",
       "       0.07115909, 0.28908823, 0.02899374])"
      ]
     },
     "execution_count": 98,
     "metadata": {},
     "output_type": "execute_result"
    }
   ],
   "source": [
    "rfc3.feature_importances_"
   ]
  },
  {
   "cell_type": "code",
   "execution_count": 99,
   "metadata": {},
   "outputs": [],
   "source": [
    "feat3 = pd.DataFrame(data = rfc3.feature_importances_, index = X.columns).sort_values(by = 0, ascending = False).T"
   ]
  },
  {
   "cell_type": "code",
   "execution_count": 100,
   "metadata": {},
   "outputs": [
    {
     "data": {
      "text/plain": [
       "<matplotlib.axes._subplots.AxesSubplot at 0x1b5a15aa248>"
      ]
     },
     "execution_count": 100,
     "metadata": {},
     "output_type": "execute_result"
    },
    {
     "data": {
      "image/png": "[encoded data removed]",
      "text/plain": [
       "<Figure size 432x288 with 1 Axes>"
      ]
     },
     "metadata": {
      "needs_background": "light"
     },
     "output_type": "display_data"
    }
   ],
   "source": [
    "sns.barplot(data = feat3, orient = 'h')"
   ]
  }
 ],
 "metadata": {
  "kernelspec": {
   "display_name": "Python 3",
   "language": "python",
   "name": "python3"
  },
  "language_info": {
   "codemirror_mode": {
    "name": "ipython",
    "version": 3
   },
   "file_extension": ".py",
   "mimetype": "text/x-python",
   "name": "python",
   "nbconvert_exporter": "python",
   "pygments_lexer": "ipython3",
   "version": "3.7.6"
  }
 },
 "nbformat": 4,
 "nbformat_minor": 4
}
