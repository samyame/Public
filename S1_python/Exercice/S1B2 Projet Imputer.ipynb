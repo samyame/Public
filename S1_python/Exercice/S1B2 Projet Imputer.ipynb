{
 "cells": [
  {
   "cell_type": "markdown",
   "metadata": {},
   "source": [
    "Imputer\n",
    "\n",
    "En Data Science, il arrive souvent qu’il y ait des valeurs manquantes dans un dataset. Voyons comment on peut créer une classe qui va nous permettre de remplacer cette valeur manquante par la moyenne des valeurs de la liste\n",
    "\n",
    "    -Créez une classe qu’on appellera Imputer\n",
    "    -Pour simplifier l’exercice, on ne traitera qu’avec des listes pour l’instant\n",
    "    -Notre classe prendra un attribut qu’on appellera liste\n",
    "    -Créez une fonction avg() qui d’abord retirera la valeur manquante puis la remplacera par la moyenne de la liste"
   ]
  },
  {
   "cell_type": "code",
   "execution_count": 1,
   "metadata": {},
   "outputs": [],
   "source": [
    "class Imputer:\n",
    "    def __init__(self, *args):\n",
    "        self.liste = args\n",
    "    \n",
    "    def avg(self):\n",
    "        total = 0\n",
    "        nb_elem = 0\n",
    "        liste = list(self.liste)\n",
    "        zero = liste.count(None)\n",
    "        for i in liste:\n",
    "            if i != None:\n",
    "                total += i\n",
    "                nb_elem += 1\n",
    "                moyenne = total/nb_elem\n",
    "        for i in range(zero):\n",
    "            position = liste.index(None)\n",
    "            pop1 = liste.pop(position)\n",
    "            liste.insert(position, moyenne)\n",
    "        return liste\n",
    "        "
   ]
  },
  {
   "cell_type": "code",
   "execution_count": 2,
   "metadata": {},
   "outputs": [],
   "source": [
    "p1 = Imputer(None,None,1,2,3)"
   ]
  },
  {
   "cell_type": "code",
   "execution_count": 3,
   "metadata": {
    "scrolled": true
   },
   "outputs": [
    {
     "data": {
      "text/plain": [
       "[2.0, 2.0, 1, 2, 3]"
      ]
     },
     "execution_count": 3,
     "metadata": {},
     "output_type": "execute_result"
    }
   ],
   "source": [
    "p1.avg()"
   ]
  },
  {
   "cell_type": "markdown",
   "metadata": {},
   "source": [
    "Améliorer Imputer\n",
    "Nous avons créé notre classe Imputer qui fonctionne très bien pour remplacer les valeurs manquantes par des moyennes. Mais, est ce qu’on pourrait pas aussi utiliser cette classe pour remplacer par une médiane ? Tentez d’ajouter une méthode dans Imputer qui va nous permettre de remplacer la liste, soit par la moyenne, soit par la médiane."
   ]
  },
  {
   "cell_type": "code",
   "execution_count": 108,
   "metadata": {},
   "outputs": [],
   "source": [
    "class Imputer:\n",
    "    def __init__(self, *args):\n",
    "        self.liste = args\n",
    "    \n",
    "    def avg(self):\n",
    "        total = 0\n",
    "        nb_elem = 0\n",
    "        liste = list(self.liste)\n",
    "        zero = liste.count(None)\n",
    "        for i in liste:\n",
    "            if i != None:\n",
    "                total += i\n",
    "                nb_elem += 1\n",
    "                moyenne = total/nb_elem\n",
    "        for i in range(zero):\n",
    "            position = liste.index(None)\n",
    "            pop1 = liste.pop(position)\n",
    "            liste.insert(position, moyenne)\n",
    "        return liste\n",
    "    \n",
    "    def med(self):\n",
    "        total = 0\n",
    "        nb_elem = 0\n",
    "        liste = list(self.liste)\n",
    "        zero = liste.count(None)\n",
    "        liste2 = [x for x in liste if x != None]\n",
    "        liste2.sort()\n",
    "        for i in liste2:\n",
    "                total += i\n",
    "                nb_elem += 1\n",
    "                mediane = liste2[int(nb_elem/2)]\n",
    "        for i in range(zero):\n",
    "            position = liste.index(None)\n",
    "            pop1 = liste.pop(position)\n",
    "            liste.insert(position, mediane)\n",
    "        return liste"
   ]
  },
  {
   "cell_type": "code",
   "execution_count": 109,
   "metadata": {},
   "outputs": [],
   "source": [
    "p1 = Imputer(None,2,3,12,5,6,None)"
   ]
  },
  {
   "cell_type": "code",
   "execution_count": 110,
   "metadata": {},
   "outputs": [
    {
     "name": "stdout",
     "output_type": "stream",
     "text": [
      "[5.6, 2, 3, 12, 5, 6, 5.6]\n",
      "[5, 2, 3, 12, 5, 6, 5]\n"
     ]
    }
   ],
   "source": [
    "print(p1.avg())\n",
    "print(p1.med())"
   ]
  },
  {
   "cell_type": "markdown",
   "metadata": {},
   "source": [
    "Voici une liste : [None, 2, 3, 12, 5, 6, None]\n",
    "Voici la liste avec les valeurs vide remplacées par la moyenne : [5.6, 2, 3, 12, 5, 6, 5.6]\n",
    "Voici une liste : [None, 2, 3, 12, 5, 6, None]\n",
    "Voici la liste avec les valeurs vide remplacées par la médiane : [5, 2, 3, 12, 5, 6, 5]"
   ]
  }
 ],
 "metadata": {
  "kernelspec": {
   "display_name": "Python 3",
   "language": "python",
   "name": "python3"
  },
  "language_info": {
   "codemirror_mode": {
    "name": "ipython",
    "version": 3
   },
   "file_extension": ".py",
   "mimetype": "text/x-python",
   "name": "python",
   "nbconvert_exporter": "python",
   "pygments_lexer": "ipython3",
   "version": "3.7.4"
  }
 },
 "nbformat": 4,
 "nbformat_minor": 2
}
