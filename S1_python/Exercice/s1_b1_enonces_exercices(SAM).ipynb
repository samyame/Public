{
 "cells": [
  {
   "cell_type": "markdown",
   "metadata": {
    "colab_type": "text",
    "id": "kFGKKN4vbaaE"
   },
   "source": [
    "# Les Listes "
   ]
  },
  {
   "cell_type": "markdown",
   "metadata": {
    "colab_type": "text",
    "id": "UlVSgMBObdHP"
   },
   "source": [
    "Voici une liste [“Bonjour”, “Je”, “Michel”, “m’appelle”]\n",
    "\n",
    "    1. Stocker cette liste dans une variable qu’on appellera michel\n",
    "    2. Faites une boucle pour que la console retourne chacun des items de la liste\n"
   ]
  },
  {
   "cell_type": "code",
   "execution_count": 1,
   "metadata": {},
   "outputs": [
    {
     "name": "stdout",
     "output_type": "stream",
     "text": [
      "Bonjour\n",
      "Je\n",
      "Michel\n",
      "m’appelle\n"
     ]
    }
   ],
   "source": [
    "list = ['Bonjour', 'Je', 'Michel', 'm’appelle']\n",
    "\n",
    "for i in list:\n",
    "    print(i)"
   ]
  },
  {
   "cell_type": "markdown",
   "metadata": {
    "colab_type": "text",
    "id": "xiFEi_IIbs7l"
   },
   "source": [
    "On a un problème avec cette phrase, deux mots sont inversés. Trouvez un moyen d’inverser le dernier item avec l’avant dernier"
   ]
  },
  {
   "cell_type": "code",
   "execution_count": 2,
   "metadata": {},
   "outputs": [
    {
     "name": "stdout",
     "output_type": "stream",
     "text": [
      "['Bonjour', 'Je', 'm’appelle', 'Michel']\n"
     ]
    }
   ],
   "source": [
    "list.append(list[2])\n",
    "del(list[2])\n",
    "print(list)"
   ]
  },
  {
   "cell_type": "markdown",
   "metadata": {
    "colab_type": "text",
    "id": "hrZ1HLVneoRC"
   },
   "source": [
    "Voici une liste d’âge : [12, 16, 34, 58, 9].\n",
    "\n",
    "    1. Stockez cette liste d’âge dans une variable qu’on appellera \n",
    "\n",
    "\n",
    "\n",
    "```\n",
    "age\n",
    "```\n",
    "\n",
    "\n",
    "\n",
    "    2. On aimerait que cette liste soit rangée par ordre croissant, comment faire ?"
   ]
  },
  {
   "cell_type": "code",
   "execution_count": 3,
   "metadata": {},
   "outputs": [],
   "source": [
    "age = [12, 16, 34, 58, 9]\n"
   ]
  },
  {
   "cell_type": "code",
   "execution_count": 4,
   "metadata": {},
   "outputs": [
    {
     "name": "stdout",
     "output_type": "stream",
     "text": [
      "[9, 12, 16, 34, 58]\n"
     ]
    }
   ],
   "source": [
    "age.sort()\n",
    "print(age)"
   ]
  },
  {
   "cell_type": "markdown",
   "metadata": {
    "colab_type": "text",
    "id": "hyAAuD2-fFMD"
   },
   "source": [
    "# Les dictionnaires"
   ]
  },
  {
   "cell_type": "markdown",
   "metadata": {
    "colab_type": "text",
    "id": "3-kpKLpmfKGM"
   },
   "source": [
    "Nous vous avions dit que les dictionnaires étaient très utiles avec les API, et bien justement tentons d’utiliser l’API de Star Wars.\n",
    "\n",
    "    1. Dans votre éditeur de texte, écrivez :\n",
    "    \n",
    "\n",
    "\n",
    "```\n",
    "import requests\n",
    "request = requests.get(\"https://swapi.co/api/people/1/\")\n",
    "dic = request.json()\n",
    "```\n",
    "\n",
    "    2. Ceci va permettre d’appeler l’API de Star Wars de la stocker sur un format dictionnaire dans une variable qu’on a appelé _dic_.\n",
    "    \n",
    "    3. Regardez ce que contient le dictionnaire via une boucle\n",
    "    \n",
    "    4. On aimerait faire une jolie phrase qui permette de décrire le personnage comme ceci : \n",
    "    \n",
    "    “{{_nom}} mesure {{taille}} cm et pèse {{poids}} kg. Il est est né en {{naissance}}”\n"
   ]
  },
  {
   "cell_type": "code",
   "execution_count": 7,
   "metadata": {},
   "outputs": [],
   "source": [
    "import requests\n",
    "request = requests.get(\"https://swapi.dev/api/people/1/\")\n",
    "dic = request.json()"
   ]
  },
  {
   "cell_type": "code",
   "execution_count": 6,
   "metadata": {},
   "outputs": [
    {
     "name": "stdout",
     "output_type": "stream",
     "text": [
      "Luke Skywalker mesure 172 cm et pèse 77 kg. Il est est né en 19BBY\n"
     ]
    }
   ],
   "source": [
    "print(\"{} mesure {} cm et pèse {} kg. Il est est né en {}\".format(dic['name'], dic['height'], dic['mass'], dic['birth_year']))"
   ]
  },
  {
   "cell_type": "markdown",
   "metadata": {
    "colab_type": "text",
    "id": "7DBymkERgDDu"
   },
   "source": [
    "    1. Importez un nouveau personnage en changeant\n",
    "    \n",
    "    \n",
    "```\n",
    "request = requests.get(\"https://swapi.co/api/people/1/\")\n",
    "```\n",
    "\n",
    "par\n",
    "\n",
    "\n",
    " ```\n",
    "request = requests.get(\"https://swapi.co/api/people/5/\")\n",
    "```\n",
    "\n",
    "2. Réexécutez votre code, est ce que vous voyez un souci ? Tentez de le corriger\n"
   ]
  },
  {
   "cell_type": "code",
   "execution_count": 10,
   "metadata": {},
   "outputs": [
    {
     "name": "stdout",
     "output_type": "stream",
     "text": [
      "Leia Organa mesure 150 cm et pèse 49 kg. Il est est né en 19BBY\n"
     ]
    }
   ],
   "source": [
    "request = requests.get(\"https://swapi.dev/api/people/5/\")\n",
    "dic = request.json()\n",
    "print(\"{} mesure {} cm et pèse {} kg. Il est est né en {}\".format(dic['name'], dic['height'], dic['mass'], dic['birth_year']))"
   ]
  },
  {
   "cell_type": "markdown",
   "metadata": {
    "colab_type": "text",
    "id": "aQsKk1BKg4Mt"
   },
   "source": [
    "# Les Slices"
   ]
  },
  {
   "cell_type": "markdown",
   "metadata": {
    "colab_type": "text",
    "id": "0PIM5zcfg94N"
   },
   "source": [
    " On a le dataset suivant : `km_parcourus = [50, 10, 100, 25, 1000, 21, 12,30]`\n",
    " \n",
    "    1. Cette variable représente une liste de kilomètres parcourus tous les matins par 8 utilisateurs pour aller au travail\n",
    "    2. En utilisant une boucle, calculez la moyenne total parcouru par tous les utilisateurs\n",
    "    3. Est ce que cette moyenne est représentative de ce que tous les individus parcourent vraiment ? A votre avis pourquoi ?"
   ]
  },
  {
   "cell_type": "code",
   "execution_count": 15,
   "metadata": {
    "scrolled": true
   },
   "outputs": [
    {
     "name": "stdout",
     "output_type": "stream",
     "text": [
      "1248\n",
      "8\n",
      "156.0\n"
     ]
    }
   ],
   "source": [
    "km_parcourus = [50, 10, 100, 25, 1000, 21, 12,30]\n",
    "total = 0\n",
    "for i in km_parcourus:\n",
    "    total = total + i\n",
    "    moyenne = total/len(km_parcourus)\n",
    "\n",
    "print(moyenne)"
   ]
  },
  {
   "cell_type": "markdown",
   "metadata": {},
   "source": [
    "La variance de l'ensemble est trop élévée pour que la moyenne represente efficacement le parcours individuel de chacun. L'outlier \"1000\" fausse les statistiques de la série."
   ]
  },
  {
   "cell_type": "markdown",
   "metadata": {
    "colab_type": "text",
    "id": "VL5vB43YhJV5"
   },
   "source": [
    "    4. Changez la variable _km_parcourus_ pour avoir une moyenne plus représentative"
   ]
  },
  {
   "cell_type": "code",
   "execution_count": 18,
   "metadata": {},
   "outputs": [
    {
     "name": "stdout",
     "output_type": "stream",
     "text": [
      "43.0\n"
     ]
    }
   ],
   "source": [
    "del(km_parcourus[4])\n",
    "total = 0\n",
    "for i in km_parcourus:\n",
    "    total = total + i\n",
    "    moyenne = total/len(km_parcourus)\n",
    "\n",
    "print(moyenne)"
   ]
  },
  {
   "cell_type": "markdown",
   "metadata": {
    "colab_type": "text",
    "id": "G0rueacYhSzs"
   },
   "source": [
    "# Les fonctions"
   ]
  },
  {
   "cell_type": "markdown",
   "metadata": {
    "colab_type": "text",
    "id": "M7jWJHwLhYta"
   },
   "source": [
    "Commençons par une fonction simple :\n",
    "\n",
    "    1. Écrivons une fonction qui nous permette de sortir à la racine carré d’un nombre. On l’appellera *sqrt()*"
   ]
  },
  {
   "cell_type": "code",
   "execution_count": 22,
   "metadata": {},
   "outputs": [
    {
     "data": {
      "text/plain": [
       "20"
      ]
     },
     "execution_count": 22,
     "metadata": {},
     "output_type": "execute_result"
    }
   ],
   "source": [
    "def sqrtt(x):\n",
    "    for i in range(x):\n",
    "        if i**2 == x:\n",
    "            racine = i\n",
    "    return racine\n",
    "sqrtt(400)"
   ]
  },
  {
   "cell_type": "markdown",
   "metadata": {
    "colab_type": "text",
    "id": "20zj8cIohoUJ"
   },
   "source": [
    "Le quiz que nous avons écrit la dernière fois est bien mais, un codeur qui lirait ce code serait outré du fait que nous n’ayons pas été très DRY.\n",
    "\n",
    "    1. Pouvons nous trouver un moyen d’être plus élégant dans notre code via une fonction ?"
   ]
  },
  {
   "cell_type": "code",
   "execution_count": 11,
   "metadata": {},
   "outputs": [
    {
     "name": "stdout",
     "output_type": "stream",
     "text": [
      "Combien de fois la France a gagné la coupe du monde ? 2\n",
      "Quand a été fondé Apple ? 1976\n",
      "Qui a fondé SpaceX ? elon\n",
      "Dommage ! Il te reste 2 chances\n",
      "Qui a fondé SpaceX ? elon musl\n",
      "Dommage ! Il te reste 1 chances\n",
      "Qui a fondé SpaceX ? elon musk\n",
      "Oh non ! Tu as perdu le jeu...\n"
     ]
    }
   ],
   "source": [
    "question = {1 : \"Combien de fois la France a gagné la coupe du monde ? \", 2 : \"Quand a été fondé Apple ? \", 3 : \"Qui a fondé SpaceX ? \" }\n",
    "answer = {1 : \"2\", 2 : \"1976\", 3 : \"elon musk\"}\n",
    "response = {1 : \"\" , 2 : \"\", 3 :\"\"}\n",
    "\n",
    "def quizz(nb_de_ch = 2, quest = 1):\n",
    "    response[quest]= input(question[quest])\n",
    "\n",
    "    while response[quest].lower() != answer[quest]:\n",
    "        nb_de_ch -= 1\n",
    "        print(\"Dommage ! Il te reste {} chances\".format(nb_de_ch + 1))\n",
    "        response[quest] = input(question[quest])\n",
    "        if nb_de_ch == 0:\n",
    "            print(\"Oh non ! Tu as perdu le jeu...\")\n",
    "            break\n",
    "            response[quest] = input(question[quest])\n",
    "            \n",
    "quizz(quest = 1)\n",
    "quizz(quest = 2)\n",
    "quizz(quest = 3)"
   ]
  }
 ],
 "metadata": {
  "colab": {
   "collapsed_sections": [],
   "name": "Manipuler des collections de données - SOLUTIONS S1-2A.ipynb",
   "provenance": []
  },
  "kernelspec": {
   "display_name": "Python 3",
   "language": "python",
   "name": "python3"
  },
  "language_info": {
   "codemirror_mode": {
    "name": "ipython",
    "version": 3
   },
   "file_extension": ".py",
   "mimetype": "text/x-python",
   "name": "python",
   "nbconvert_exporter": "python",
   "pygments_lexer": "ipython3",
   "version": "3.7.4"
  }
 },
 "nbformat": 4,
 "nbformat_minor": 1
}
