{
  "nbformat": 4,
  "nbformat_minor": 0,
  "metadata": {
    "colab": {
      "name": "RATP - Exercice SOLUTION.ipynb",
      "provenance": []
    },
    "language_info": {
      "codemirror_mode": {
        "name": "ipython",
        "version": 3
      },
      "file_extension": ".py",
      "mimetype": "text/x-python",
      "name": "python",
      "nbconvert_exporter": "python",
      "pygments_lexer": "ipython3",
      "version": "3.6.3"
    },
    "kernelspec": {
      "display_name": "Python 3",
      "language": "python",
      "name": "python3"
    }
  },
  "cells": [
    {
      "cell_type": "markdown",
      "metadata": {
        "id": "ZAgek1U583Yp"
      },
      "source": [
        "# RATP\n",
        "\n",
        "Vous vous êtes déjà perdu dans le métro ? Nous allons résoudre ce problème grâce à l’api de la RATP "
      ]
    },
    {
      "cell_type": "markdown",
      "metadata": {
        "id": "eKU4i9DA868d"
      },
      "source": [
        "0 Importez les librairies suivantes : \n",
        "\n",
        "      * requests\n",
        "      * pandas \n",
        "      * Image dans PIL\n",
        "      * io dans BytesIO"
      ]
    },
    {
      "cell_type": "code",
      "metadata": {
        "id": "UTtR-zQS8ysH"
      },
      "source": [
        "import requests \n",
        "import pandas as pd\n",
        "from PIL import Image\n",
        "from io import BytesIO"
      ],
      "execution_count": 1,
      "outputs": []
    },
    {
      "cell_type": "markdown",
      "metadata": {
        "id": "GlL_3ZTK9GN8"
      },
      "source": [
        "1. Allez sur [http://restratpws.azurewebsites.net/swagger/](http://restratpws.azurewebsites.net/swagger/) et regardez le plan pour les lignes de Métro en utilisant requests"
      ]
    },
    {
      "cell_type": "code",
      "metadata": {
        "id": "h4IftS298ysM",
        "outputId": "d76f2bfa-6cf8-4d02-fed5-1ea9bdc49247",
        "colab": {
          "base_uri": "https://localhost:8080/",
          "height": 1000
        }
      },
      "source": [
        "networks = requests.get(\"http://restratpws.azurewebsites.net/api/Lines/metro\")\n",
        "networks.json()"
      ],
      "execution_count": 2,
      "outputs": [
        {
          "output_type": "execute_result",
          "data": {
            "text/plain": [
              "[{'id': '100110001',\n",
              "  'image': 'm1.gif',\n",
              "  'name': 'La Défense / Château de Vincennes',\n",
              "  'shortName': 'M1'},\n",
              " {'id': '100110002',\n",
              "  'image': 'm2.gif',\n",
              "  'name': 'Porte Dauphine / Nation',\n",
              "  'shortName': 'M2'},\n",
              " {'id': '100110003',\n",
              "  'image': 'm3.gif',\n",
              "  'name': 'Pont de Levallois Bécon / Gallieni',\n",
              "  'shortName': 'M3'},\n",
              " {'id': '100110103',\n",
              "  'image': 'm3b.gif',\n",
              "  'name': 'Gambetta / Porte des Lilas',\n",
              "  'shortName': 'M3B'},\n",
              " {'id': '100110004',\n",
              "  'image': 'm4.gif',\n",
              "  'name': 'Mairie de Montrouge / Porte de Clignancourt',\n",
              "  'shortName': 'M4'},\n",
              " {'id': '100110005',\n",
              "  'image': 'm5.gif',\n",
              "  'name': \"Place d'Italie / Bobigny Pablo Picasso\",\n",
              "  'shortName': 'M5'},\n",
              " {'id': '100110006',\n",
              "  'image': 'm6.gif',\n",
              "  'name': 'Charles de Gaulle Etoile / Nation',\n",
              "  'shortName': 'M6'},\n",
              " {'id': '100110007',\n",
              "  'image': 'm7.gif',\n",
              "  'name': \"Mairie d'Ivry - Villejuif Louis Aragon / La Courneuve 8 mai 1945\",\n",
              "  'shortName': 'M7'},\n",
              " {'id': '100110107',\n",
              "  'image': 'm7b.gif',\n",
              "  'name': 'Louis Blanc / Pré-St-Gervais',\n",
              "  'shortName': 'M7B'},\n",
              " {'id': '100110008',\n",
              "  'image': 'm8.gif',\n",
              "  'name': 'Pointe du Lac / Balard',\n",
              "  'shortName': 'M8'},\n",
              " {'id': '100110009',\n",
              "  'image': 'm9.gif',\n",
              "  'name': 'Mairie de Montreuil / Pont de Sèvres',\n",
              "  'shortName': 'M9'},\n",
              " {'id': '100110010',\n",
              "  'image': 'm10.gif',\n",
              "  'name': \"Gare d'Austerlitz / Boulogne Pont de Saint-Cloud\",\n",
              "  'shortName': 'M10'},\n",
              " {'id': '100110011',\n",
              "  'image': 'm11.gif',\n",
              "  'name': 'Châtelet / Mairie des Lilas',\n",
              "  'shortName': 'M11'},\n",
              " {'id': '100110012',\n",
              "  'image': 'm12.gif',\n",
              "  'name': \"Front Populaire / Mairie d'Issy\",\n",
              "  'shortName': 'M12'},\n",
              " {'id': '100110013',\n",
              "  'image': 'm13.gif',\n",
              "  'name': 'Asnières-Gennevilliers Les Courtilles - Saint-Denis-Université / Châtillon-Montrouge',\n",
              "  'shortName': 'M13'},\n",
              " {'id': '100110014',\n",
              "  'image': 'm14.gif',\n",
              "  'name': 'Saint-Lazare / Olympiades',\n",
              "  'shortName': 'M14'}]"
            ]
          },
          "metadata": {
            "tags": []
          },
          "execution_count": 2
        }
      ]
    },
    {
      "cell_type": "markdown",
      "metadata": {
        "id": "aeD2ouWA9L6p"
      },
      "source": [
        " 2. Extrayez toutes les stations présentes sur la ligne 9"
      ]
    },
    {
      "cell_type": "code",
      "metadata": {
        "id": "00_eyA2j8ysX",
        "outputId": "6ed33193-2093-430d-83a1-1b7c20366a5b",
        "colab": {
          "base_uri": "https://localhost:8080/",
          "height": 700
        }
      },
      "source": [
        "stations_l9 = requests.get(\"http://restratpws.azurewebsites.net/api/Stations/100110009\")\n",
        "stations_l9.json()"
      ],
      "execution_count": 3,
      "outputs": [
        {
          "output_type": "execute_result",
          "data": {
            "text/plain": [
              "[{'id': '108', 'name': 'Alma-Marceau'},\n",
              " {'id': '141', 'name': 'Billancourt'},\n",
              " {'id': '151', 'name': 'Bonne Nouvelle'},\n",
              " {'id': '175', 'name': 'Buzenval'},\n",
              " {'id': '195', 'name': 'Charonne'},\n",
              " {'id': '204', 'name': \"Chaussée d'Antin La Fayette\"},\n",
              " {'id': '235', 'name': 'Croix de Chavaux'},\n",
              " {'id': '265', 'name': 'Exelmans'},\n",
              " {'id': '275', 'name': 'Franklin D. Roosevelt'},\n",
              " {'id': '296', 'name': 'Grands Boulevards'},\n",
              " {'id': '302', 'name': 'Havre-Caumartin'},\n",
              " {'id': '310', 'name': 'Iéna'},\n",
              " {'id': '318', 'name': 'Jasmin'},\n",
              " {'id': '342', 'name': 'La Muette'},\n",
              " {'id': '395', 'name': 'Mairie de Montreuil'},\n",
              " {'id': '410', 'name': 'Maraîchers'},\n",
              " {'id': '412', 'name': 'Marcel Sembat'},\n",
              " {'id': '427', 'name': 'Michel-Ange Auteuil'},\n",
              " {'id': '428', 'name': 'Michel-Ange Molitor'},\n",
              " {'id': '430', 'name': 'Miromesnil'},\n",
              " {'id': '444', 'name': 'Nation'},\n",
              " {'id': '456', 'name': 'Oberkampf'},\n",
              " {'id': '503', 'name': 'Pont de Sèvres'},\n",
              " {'id': '518', 'name': 'Porte de Montreuil'},\n",
              " {'id': '520', 'name': 'Porte de Saint-Cloud'},\n",
              " {'id': '541', 'name': 'Ranelagh'},\n",
              " {'id': '548', 'name': 'Richelieu-Drouot'},\n",
              " {'id': '551', 'name': 'Robespierre'},\n",
              " {'id': '557', 'name': 'Rue de la Pompe'},\n",
              " {'id': '558', 'name': 'Rue des Boulets'},\n",
              " {'id': '545', 'name': 'République'},\n",
              " {'id': '562', 'name': 'Saint-Ambroise'},\n",
              " {'id': '563', 'name': 'Saint-Augustin'},\n",
              " {'id': '590', 'name': 'Saint-Philippe-du-Roule'},\n",
              " {'id': '613', 'name': 'Strasbourg-Saint-Denis'},\n",
              " {'id': '626', 'name': 'Trocadéro'},\n",
              " {'id': '657', 'name': 'Voltaire'}]"
            ]
          },
          "metadata": {
            "tags": []
          },
          "execution_count": 3
        }
      ]
    },
    {
      "cell_type": "markdown",
      "metadata": {
        "id": "V1ExLCy69OUz"
      },
      "source": [
        "3. Regardez les directions de la ligne 9"
      ]
    },
    {
      "cell_type": "code",
      "metadata": {
        "id": "bjFjLUqf8ysd",
        "outputId": "5a0409a9-0e3c-488b-f2e0-8145c803c84c",
        "colab": {
          "base_uri": "https://localhost:8080/",
          "height": 54
        }
      },
      "source": [
        "directions_fr = requests.get(\"http://restratpws.azurewebsites.net/api/Directions/100110009\")\n",
        "directions_fr.json()"
      ],
      "execution_count": 4,
      "outputs": [
        {
          "output_type": "execute_result",
          "data": {
            "text/plain": [
              "[{'name': 'Mairie de Montreuil', 'way': 'A'},\n",
              " {'name': 'Pont de Sèvres', 'way': 'R'}]"
            ]
          },
          "metadata": {
            "tags": []
          },
          "execution_count": 4
        }
      ]
    },
    {
      "cell_type": "markdown",
      "metadata": {
        "id": "KwalEFCZ9Q8Q"
      },
      "source": [
        "4. Regardez le temps des prochains métros à la station Franklin Roosevelt en direction de Pont de Sèvres"
      ]
    },
    {
      "cell_type": "code",
      "metadata": {
        "id": "rGn0RMtY8ysg",
        "outputId": "17df2d63-15cb-4bd4-d608-b945d3c508a0",
        "colab": {
          "base_uri": "https://localhost:8080/",
          "height": 35
        }
      },
      "source": [
        "time_from_fr_to_pds = requests.get(\"http://restratpws.azurewebsites.net/api/Missions/100110009/from/275/way/R\")\n",
        "time_from_fr_to_pds.json()"
      ],
      "execution_count": 6,
      "outputs": [
        {
          "output_type": "execute_result",
          "data": {
            "text/plain": [
              "[\"Train a l'approche\", '2 mn', '4 mn', '6 mn']"
            ]
          },
          "metadata": {
            "tags": []
          },
          "execution_count": 6
        }
      ]
    },
    {
      "cell_type": "markdown",
      "metadata": {
        "id": "7lNpfhgV9Tkz"
      },
      "source": [
        "5. Extrayez le logo de la ligne 9 "
      ]
    },
    {
      "cell_type": "code",
      "metadata": {
        "id": "XiW1XgVi8ysS",
        "outputId": "c5243289-0530-4a84-f873-48be1bcd96d6",
        "colab": {
          "base_uri": "https://localhost:8080/",
          "height": 38
        }
      },
      "source": [
        "ligne_9 = requests.get(\"http://restratpws.azurewebsites.net/api/images/m9.gif\")\n",
        "Image.open(BytesIO(ligne_9.content))"
      ],
      "execution_count": null,
      "outputs": [
        {
          "output_type": "execute_result",
          "data": {
            "image/png": "[encoded data removed]",
            "text/plain": [
              "<PIL.GifImagePlugin.GifImageFile image mode=P size=21x21 at 0x7F188D26EFD0>"
            ]
          },
          "metadata": {
            "tags": []
          },
          "execution_count": 7
        }
      ]
    },
    {
      "cell_type": "code",
      "metadata": {
        "id": "5w-dZlFipY7B"
      },
      "source": [
        ""
      ],
      "execution_count": null,
      "outputs": []
    }
  ]
}