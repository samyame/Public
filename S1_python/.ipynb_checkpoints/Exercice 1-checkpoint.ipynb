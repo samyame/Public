{
 "cells": [
  {
   "cell_type": "markdown",
   "metadata": {},
   "source": [
    "1. Posez une question à l’utilisateur via la console \n",
    "2. Vérifier que la réponse de l’utilisateur soit vraie ou fausse\n",
    "3. Si la réponse est vraie, la console devra sortir : \n",
    "\n",
    "Bravo, c’est la bonne réponse\n",
    "4. Si la réponse est fausse, la console devra sortir :\n",
    "\n",
    "Dommage, ce n’est pas la bonne réponse\n",
    "5. Posez 3 autres questions sur le même modèle"
   ]
  },
  {
   "cell_type": "code",
   "execution_count": 13,
   "metadata": {},
   "outputs": [
    {
     "name": "stdout",
     "output_type": "stream",
     "text": [
      "Quel est le nom du président?ma\n",
      "Dommage, ce n’est pas la bonne réponse\n",
      "Quel est la capitale du pays?â\n",
      "Dommage, ce n’est pas la bonne réponse\n",
      "En quelle année sommes-nous?2020\n",
      "Bravo, c’est la bonne réponse\n"
     ]
    }
   ],
   "source": [
    "question1 = input('Quel est le nom du président?')\n",
    "\n",
    "if question1.capitalize() == 'Macron':\n",
    "    print('Bravo, c’est la bonne réponse')\n",
    "else:\n",
    "    print('Dommage, ce n’est pas la bonne réponse')\n",
    "\n",
    "question2 = input('Quel est la capitale du pays?')\n",
    "\n",
    "if question2.capitalize() == 'Paris':\n",
    "    print('Bravo, c’est la bonne réponse')\n",
    "else:\n",
    "    print('Dommage, ce n’est pas la bonne réponse')\n",
    "\n",
    "question3 = input('En quelle année sommes-nous?')\n",
    "\n",
    "if int(question3) == 2020:\n",
    "    print('Bravo, c’est la bonne réponse')\n",
    "else:\n",
    "    print('Dommage, ce n’est pas la bonne réponse')"
   ]
  },
  {
   "cell_type": "markdown",
   "metadata": {},
   "source": [
    "6. En utilisant une boucle WHILE, faites en sorte que le programme repose la question à l’utilisateur s’il n’a pas donné la bonne réponse\n",
    "\n",
    "7. Réécrivez votre programme pour toutes les autres questions"
   ]
  },
  {
   "cell_type": "code",
   "execution_count": 1,
   "metadata": {},
   "outputs": [
    {
     "name": "stdout",
     "output_type": "stream",
     "text": [
      "Quel est le nom du président?Macron\n",
      "Bravo, c’est la bonne réponse\n",
      "Quel est la capitale du pays?paris\n",
      "Bravo, c’est la bonne réponse\n",
      "En quelle année sommes-nous?2020\n",
      "Bravo, c’est la bonne réponse\n"
     ]
    }
   ],
   "source": [
    "question1 = input('Quel est le nom du président?')\n",
    "if question1.capitalize() == 'Macron':\n",
    "    print('Bravo, c’est la bonne réponse')\n",
    "else:\n",
    "    while question1.capitalize() != 'Macron':\n",
    "        question1 = input('Quel est le nom du président?')\n",
    "        if question1.capitalize() == 'Macron':\n",
    "            print('Bravo, c’est la bonne réponse')\n",
    "\n",
    "question2 = input('Quel est la capitale du pays?')\n",
    "if question2.capitalize() == 'Paris':\n",
    "    print('Bravo, c’est la bonne réponse')\n",
    "else:\n",
    "    while question2.capitalize() != 'Paris':\n",
    "        question2 = input('Quel est la capitale du pays?')\n",
    "        if question2.capitalize() == 'Paris':\n",
    "            print('Bravo, c’est la bonne réponse')\n",
    "\n",
    "question3 = input('En quelle année sommes-nous?')\n",
    "if int(question3) == 2020:\n",
    "    print('Bravo, c’est la bonne réponse')\n",
    "else:\n",
    "    while int(question3) != 2020:\n",
    "        question3 = input('En quelle année sommes-nous?')\n",
    "        if int(question3) == 2020:\n",
    "            print('Bravo, c’est la bonne réponse')"
   ]
  },
  {
   "cell_type": "markdown",
   "metadata": {},
   "source": [
    "1. Améliorer votre programme pour que l’utilisateur n’ait que 3 chances pour réussir le quiz. Si l’utilisateur a répondu faux plus de 3 alors la console devra sortir “Dommage tu as perdu le jeu” et sortir du programme."
   ]
  },
  {
   "cell_type": "code",
   "execution_count": 12,
   "metadata": {},
   "outputs": [
    {
     "name": "stdout",
     "output_type": "stream",
     "text": [
      "Quel est le nom du président?macron\n",
      "Bravo, c’est la bonne réponse\n",
      "Quel est la capitale du pays?paris\n",
      "Bravo, c’est la bonne réponse\n",
      "En quelle année sommes-nous?2\n",
      "il vous reste 2 tentatives\n",
      "En quelle année sommes-nous?2\n",
      "il vous reste 1 tentatives\n",
      "En quelle année sommes-nous?2\n",
      "Dommage tu as perdu le jeu\n"
     ]
    }
   ],
   "source": [
    "question1 = input('Quel est le nom du président?')\n",
    "i1 = 1\n",
    "\n",
    "if question1.capitalize() == 'Macron':\n",
    "    print('Bravo, c’est la bonne réponse')\n",
    "else:\n",
    "    while question1.capitalize() != 'Macron' and i1 < 3:\n",
    "        i1 = i1+1\n",
    "        print(\"Il vous reste {} tentatives\".format(4-i1))\n",
    "        question1 = input('Quel est le nom du président?')\n",
    "        if question1.capitalize() == 'Macron':\n",
    "            print('Bravo, c’est la bonne réponse')\n",
    "if i1 == 3:\n",
    "    print(\"Dommage tu as perdu le jeu\")\n",
    "else:        \n",
    "    question2 = input('Quel est la capitale du pays?')\n",
    "    i2 = 1\n",
    "\n",
    "    if question2.capitalize() == 'Paris':\n",
    "        print('Bravo, c’est la bonne réponse')\n",
    "    else:\n",
    "        while question2.capitalize() != 'Paris' and i2 < 3:\n",
    "            i2 = i2+1\n",
    "            print(\"Il vous reste {} tentatives\".format(4-i2))\n",
    "            question2 = input('Quel est la capitale du pays?')\n",
    "            if question2.capitalize() == 'Paris':\n",
    "                print('Bravo, c’est la bonne réponse')\n",
    "    if i2 == 3:\n",
    "        print(\"Dommage tu as perdu le jeu\")\n",
    "    else: \n",
    "        question3 = input('En quelle année sommes-nous?')\n",
    "        i3 = 1\n",
    "\n",
    "        if int(question3) == 2020:\n",
    "            print('Bravo, c’est la bonne réponse')\n",
    "            print('Bravo, tu as gagné le quiz!')\n",
    "        else:\n",
    "            while int(question3) != 2020 and i3 < 3:\n",
    "                i3 = i3 + 1\n",
    "                print(\"Il vous reste {} tentatives\".format(4-i3))\n",
    "                question3 = input('En quelle année sommes-nous?')\n",
    "                if int(question3) == 2020:\n",
    "                    print('Bravo, c’est la bonne réponse')\n",
    "                    print('Bravo, tu as gagné le quiz!')\n",
    "        if i3 == 3:\n",
    "            print(\"Dommage tu as perdu le jeu\")"
   ]
  }
 ],
 "metadata": {
  "kernelspec": {
   "display_name": "Python 3",
   "language": "python",
   "name": "python3"
  },
  "language_info": {
   "codemirror_mode": {
    "name": "ipython",
    "version": 3
   },
   "file_extension": ".py",
   "mimetype": "text/x-python",
   "name": "python",
   "nbconvert_exporter": "python",
   "pygments_lexer": "ipython3",
   "version": "3.7.4"
  }
 },
 "nbformat": 4,
 "nbformat_minor": 2
}
