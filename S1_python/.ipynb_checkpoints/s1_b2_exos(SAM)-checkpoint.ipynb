{
 "cells": [
  {
   "cell_type": "markdown",
   "metadata": {
    "colab_type": "text",
    "id": "ARXMbV_Vp5qc"
   },
   "source": [
    "# Programmation Orientée Mathématiques"
   ]
  },
  {
   "cell_type": "markdown",
   "metadata": {
    "colab_type": "text",
    "id": "1JYqlALqp73y"
   },
   "source": [
    "_Les mathématiques, en général, on n’aime pas en faire. Surtout lorsqu’il s’agit de répéter des opérations, encore, encore et encore. Soyons de vrais paresseux et créons une classe qui s’occupera de faires les opérations qu’on veut pour nous._"
   ]
  },
  {
   "cell_type": "markdown",
   "metadata": {
    "colab_type": "text",
    "id": "Lc3ol0PSp98l"
   },
   "source": [
    "1. _Créez une classe qu’on appellera “math”_\n",
    "2. _Cette classe n'aura pas d'attributs internes, vous n'avez donc pas besoin de définir un init()_\n",
    "3. _Créez une méthode qui calculera la racine carrée de n’importe quel nombre_\n",
    "4. _Créez une méthode qui calculera la moyenne de n’importe quelle liste de nombres_\n",
    "5. _Créez une méthode pour savoir si un nombre est pair ou impair_\n",
    "6. _Enfin créez un méthode qui donnera la somme totale d’une liste de nombres_"
   ]
  },
  {
   "cell_type": "code",
   "execution_count": 43,
   "metadata": {
    "colab": {},
    "colab_type": "code",
    "id": "qOOz5QC_ZKY1"
   },
   "outputs": [],
   "source": [
    "class math:\n",
    "    \n",
    "    def sqrt(nombre):\n",
    "        racine = nombre**(1/2)\n",
    "        return racine\n",
    "    \n",
    "    def myne(*args):\n",
    "        total = 0\n",
    "        for i in args:\n",
    "            total = total + i\n",
    "        moyenne = total/len(args)\n",
    "        return moyenne\n",
    "\n",
    "    def pair(nombre):\n",
    "        if nombre%2 == 0:\n",
    "            pair = True\n",
    "        else :\n",
    "            pair = False\n",
    "        return pair\n",
    "    \n",
    "    def somme(*args):\n",
    "        somme = 0\n",
    "        for i in args:\n",
    "            somme = somme + i\n",
    "        return somme"
   ]
  },
  {
   "cell_type": "code",
   "execution_count": 46,
   "metadata": {},
   "outputs": [
    {
     "data": {
      "text/plain": [
       "4.0"
      ]
     },
     "execution_count": 46,
     "metadata": {},
     "output_type": "execute_result"
    }
   ],
   "source": [
    "#3\n",
    "math.sqrt(16)"
   ]
  },
  {
   "cell_type": "code",
   "execution_count": 47,
   "metadata": {},
   "outputs": [
    {
     "data": {
      "text/plain": [
       "7.0"
      ]
     },
     "execution_count": 47,
     "metadata": {},
     "output_type": "execute_result"
    }
   ],
   "source": [
    "#4\n",
    "math.myne(1,2,3,22)"
   ]
  },
  {
   "cell_type": "code",
   "execution_count": 39,
   "metadata": {},
   "outputs": [
    {
     "data": {
      "text/plain": [
       "True"
      ]
     },
     "execution_count": 39,
     "metadata": {},
     "output_type": "execute_result"
    }
   ],
   "source": [
    "#5\n",
    "math.pair(16)"
   ]
  },
  {
   "cell_type": "code",
   "execution_count": 40,
   "metadata": {},
   "outputs": [
    {
     "data": {
      "text/plain": [
       "False"
      ]
     },
     "execution_count": 40,
     "metadata": {},
     "output_type": "execute_result"
    }
   ],
   "source": [
    "#5\n",
    "math.pair(17)"
   ]
  },
  {
   "cell_type": "code",
   "execution_count": 41,
   "metadata": {},
   "outputs": [
    {
     "data": {
      "text/plain": [
       "6"
      ]
     },
     "execution_count": 41,
     "metadata": {},
     "output_type": "execute_result"
    }
   ],
   "source": [
    "#6\n",
    "math.somme(1,2,3)"
   ]
  }
 ],
 "metadata": {
  "colab": {
   "name": "Programmation Orientée Mathématiques - SOLUTIONS S1-3.ipynb",
   "provenance": []
  },
  "kernelspec": {
   "display_name": "Python 3",
   "language": "python",
   "name": "python3"
  },
  "language_info": {
   "codemirror_mode": {
    "name": "ipython",
    "version": 3
   },
   "file_extension": ".py",
   "mimetype": "text/x-python",
   "name": "python",
   "nbconvert_exporter": "python",
   "pygments_lexer": "ipython3",
   "version": "3.7.4"
  }
 },
 "nbformat": 4,
 "nbformat_minor": 1
}
